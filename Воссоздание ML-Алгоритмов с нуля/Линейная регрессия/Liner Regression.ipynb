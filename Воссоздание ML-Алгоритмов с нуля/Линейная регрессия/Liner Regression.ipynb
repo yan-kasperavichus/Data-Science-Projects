{
 "cells": [
  {
   "cell_type": "markdown",
   "id": "2427fb4c",
   "metadata": {},
   "source": [
    "Допустим линию для регрессии можно построить с помощью уравнения y=mx+b, где m-это весы модели, а b - bias (склон)"
   ]
  },
  {
   "cell_type": "markdown",
   "id": "18d0bf9a",
   "metadata": {},
   "source": [
    "Мы знаем X, тогда, мы можем найти m и b"
   ]
  },
  {
   "cell_type": "markdown",
   "id": "c4985bcc",
   "metadata": {},
   "source": [
    "m = (x.mean() * y.mean() - (x*y).mean()) / x.mean()**2 - x**2.mean()"
   ]
  },
  {
   "cell_type": "code",
   "execution_count": 1,
   "id": "212f0b5f",
   "metadata": {},
   "outputs": [],
   "source": [
    "from statistics import mean\n",
    "import numpy as np\n",
    "import matplotlib.pyplot as plt\n",
    "from matplotlib import style\n",
    "import random"
   ]
  },
  {
   "cell_type": "markdown",
   "id": "d8034052",
   "metadata": {},
   "source": [
    "Создадим подобие X"
   ]
  },
  {
   "cell_type": "code",
   "execution_count": 2,
   "id": "fb644c68",
   "metadata": {},
   "outputs": [],
   "source": [
    "xs = np.array([1, 2, 3, 4, 5, 6], dtype=np.float64) #здесь признак\n",
    " \n",
    "ys = np.array([5, 4, 6, 5, 6 , 7], dtype=np.float64) #здесь лейбл \n",
    "\n",
    "def best_fit_slope_and_intercept(xs, ys):\n",
    "    m = ( ((mean(xs) * mean(ys)) - mean(xs*ys)) /\n",
    "         ((mean(xs) * mean(xs) - mean(xs*xs))))\n",
    "    b = mean(ys) - m*mean(xs)\n",
    "    return m, b"
   ]
  },
  {
   "cell_type": "markdown",
   "id": "a78b9132",
   "metadata": {},
   "source": [
    "Посмотрим на данные:"
   ]
  },
  {
   "cell_type": "code",
   "execution_count": 3,
   "id": "54421a23",
   "metadata": {},
   "outputs": [
    {
     "data": {
      "image/png": "[encoded data removed]",
      "text/plain": [
       "<Figure size 432x288 with 1 Axes>"
      ]
     },
     "metadata": {
      "needs_background": "light"
     },
     "output_type": "display_data"
    }
   ],
   "source": [
    "plt.scatter(xs, ys)\n",
    "plt.show()"
   ]
  },
  {
   "cell_type": "code",
   "execution_count": 4,
   "id": "cd06b8be",
   "metadata": {},
   "outputs": [],
   "source": [
    "m, b = best_fit_slope_and_intercept(xs, ys)"
   ]
  },
  {
   "cell_type": "markdown",
   "id": "5870de8f",
   "metadata": {},
   "source": [
    "Найдем линию, которая делит данные"
   ]
  },
  {
   "cell_type": "code",
   "execution_count": 5,
   "id": "4a335d75",
   "metadata": {},
   "outputs": [],
   "source": [
    "regression_line = [(m*x)+b for x in xs ]"
   ]
  },
  {
   "cell_type": "markdown",
   "id": "18ba815e",
   "metadata": {},
   "source": [
    "Соединим график с точками и линию"
   ]
  },
  {
   "cell_type": "code",
   "execution_count": 6,
   "id": "47a63829",
   "metadata": {},
   "outputs": [
    {
     "data": {
      "image/png": "[encoded data removed]",
      "text/plain": [
       "<Figure size 432x288 with 1 Axes>"
      ]
     },
     "metadata": {
      "needs_background": "light"
     },
     "output_type": "display_data"
    }
   ],
   "source": [
    "plt.scatter(xs, ys)\n",
    "plt.plot(xs, regression_line)\n",
    "plt.show()"
   ]
  },
  {
   "cell_type": "markdown",
   "id": "d848c566",
   "metadata": {},
   "source": [
    "Сделаем предикт"
   ]
  },
  {
   "cell_type": "code",
   "execution_count": 7,
   "id": "25ddd246",
   "metadata": {},
   "outputs": [],
   "source": [
    "predict_x = 8 #у сэмпла признак равен 8\n",
    "\n",
    "predict_y = (m * predict_x) + b #узнаем значение для такого x"
   ]
  },
  {
   "cell_type": "markdown",
   "id": "fed8b763",
   "metadata": {},
   "source": [
    "Построим график, увидим где точка "
   ]
  },
  {
   "cell_type": "code",
   "execution_count": 8,
   "id": "79559f1f",
   "metadata": {},
   "outputs": [
    {
     "data": {
      "image/png": "[encoded data removed]",
      "text/plain": [
       "<Figure size 432x288 with 1 Axes>"
      ]
     },
     "metadata": {
      "needs_background": "light"
     },
     "output_type": "display_data"
    }
   ],
   "source": [
    "plt.scatter(xs, ys)\n",
    "plt.scatter(predict_x, predict_y, color = 'g')\n",
    "plt.plot(xs, regression_line)\n",
    "plt.show()"
   ]
  },
  {
   "cell_type": "markdown",
   "id": "88c972c7",
   "metadata": {},
   "source": [
    "Мы построили модель, теперь нам нужно узнать насколько она хороша?"
   ]
  },
  {
   "cell_type": "markdown",
   "id": "0b64a7c7",
   "metadata": {},
   "source": [
    "Для этого мы используем метрику r^2"
   ]
  },
  {
   "cell_type": "markdown",
   "id": "8e4ae4cf",
   "metadata": {},
   "source": [
    "Метрика вычисляет ошибку - расстрояние между точко и линией, проще говоря"
   ]
  },
  {
   "cell_type": "markdown",
   "id": "b9cceb0e",
   "metadata": {},
   "source": [
    "Мы возводим расстояние между точкой и линией в квадрат, чтобы убрать отрицательные значение, а также, чем больше расстояние, тем больше будет ошибка (т.к. происходит возведение в квадрат)"
   ]
  },
  {
   "cell_type": "markdown",
   "id": "6366a313",
   "metadata": {},
   "source": [
    "Мы хотим наказывать модель за то, что точки далеко от линии, но почему тогда не используем ^4 или ^8. Вообще, мы можем их использовать."
   ]
  },
  {
   "cell_type": "markdown",
   "id": "f3814f3a",
   "metadata": {},
   "source": [
    "r^2 = 1 - SquaredError(y_pred) / SquaredError(y.mean())"
   ]
  },
  {
   "cell_type": "markdown",
   "id": "02bd229b",
   "metadata": {},
   "source": [
    "Допустим r^2 = 0.8. Это хорошо?\n",
    "\n",
    "Мы можем получить такое значение, только если SquaredError(y_pred) / SquaredError(y.mean()) = 0.2\n",
    "\n",
    "А мы получить SquaredError(y_pred) / SquaredError(y.mean()) = 0.2, когда\n",
    "\n",
    "SquaredError(y_pred) = 2 и SquaredError(y.mean()) = 10\n",
    "\n",
    "Ошибка в предсказании меньше средней ошибки и это достаточно хорошо, это значит что данные достаточно линейные."
   ]
  },
  {
   "cell_type": "markdown",
   "id": "a8391e67",
   "metadata": {},
   "source": [
    "Здесь мы проверяем насколько лучше получилась линия, чем если бы мы сделалии линию из среднего расстояния "
   ]
  },
  {
   "cell_type": "markdown",
   "id": "bc72f787",
   "metadata": {},
   "source": [
    "Поэтому мы хотим, чтобы r^2 был как можно выше. "
   ]
  },
  {
   "cell_type": "code",
   "execution_count": 9,
   "id": "0e0c344b",
   "metadata": {},
   "outputs": [],
   "source": [
    "def squared_error(ys_orig, ys_line):\n",
    "    return sum((ys_line - ys_orig)**2)\n",
    "\n",
    "def coefficient_of_determination(ys_orig, ys_line):\n",
    "    \n",
    "    y_mean_line = [mean(ys_orig) for y in ys_orig]\n",
    "    \n",
    "    squared_error_regr = squared_error(ys_orig, ys_line)\n",
    "    squared_error_y_mean = squared_error(ys_orig, y_mean_line)\n",
    "    return 1 - (squared_error_regr / squared_error_y_mean)"
   ]
  },
  {
   "cell_type": "code",
   "execution_count": 10,
   "id": "f4d56cd9",
   "metadata": {},
   "outputs": [],
   "source": [
    "r_squared = coefficient_of_determination(ys, regression_line)"
   ]
  },
  {
   "cell_type": "code",
   "execution_count": 11,
   "id": "a224ac9e",
   "metadata": {
    "scrolled": true
   },
   "outputs": [
    {
     "data": {
      "text/plain": [
       "0.5844155844155845"
      ]
     },
     "execution_count": 11,
     "metadata": {},
     "output_type": "execute_result"
    }
   ],
   "source": [
    "r_squared"
   ]
  },
  {
   "cell_type": "markdown",
   "id": "56841dc9",
   "metadata": {},
   "source": [
    "Сделаем линию из средних"
   ]
  },
  {
   "cell_type": "markdown",
   "id": "d8a04fb0",
   "metadata": {},
   "source": [
    "Красным - линия из средних, синим - линия регрессии"
   ]
  },
  {
   "cell_type": "code",
   "execution_count": 12,
   "id": "8081276c",
   "metadata": {},
   "outputs": [
    {
     "data": {
      "image/png": "[encoded data removed]",
      "text/plain": [
       "<Figure size 432x288 with 1 Axes>"
      ]
     },
     "metadata": {
      "needs_background": "light"
     },
     "output_type": "display_data"
    }
   ],
   "source": [
    "plt.scatter(xs, ys)\n",
    "plt.scatter(predict_x, predict_y, color = 'g')\n",
    "plt.plot(xs, regression_line)\n",
    "plt.plot(xs, [mean(ys) for y in ys], color='r')\n",
    "plt.show()"
   ]
  },
  {
   "cell_type": "markdown",
   "id": "a1ca7dcc",
   "metadata": {},
   "source": [
    "Расширим датасет:"
   ]
  },
  {
   "cell_type": "markdown",
   "id": "0bab15d3",
   "metadata": {},
   "source": [
    "Создадим функцию, которая создает новый датасет с нужными параметрами"
   ]
  },
  {
   "cell_type": "code",
   "execution_count": 13,
   "id": "bc8347af",
   "metadata": {},
   "outputs": [],
   "source": [
    "def create_dataset(hm, variance, step=2, correlation=False):\n",
    "    #hm - сколько сэмплов\n",
    "    #variance - how variant we want dataset to be\n",
    "    #step - на сколько обычно уходит y значение от предыдущего значения\n",
    "    #correlation - корреляция негативная или позитивная \n",
    "    val = 1 #просто число\n",
    "    ys = []\n",
    "    for i in range(hm):\n",
    "        y = val + random.randrange(-variance, variance) #val + случайное число из диапозона\n",
    "        ys.append(y)\n",
    "        if correlation and correlation == 'pos':\n",
    "            val += step\n",
    "        elif correlation and correlation == 'neg':\n",
    "            val -= step\n",
    "    xs = [i for i in range(len(ys))]\n",
    "    return np.array(xs, dtype=np.float64), np.array(ys, dtype=np.float64)"
   ]
  },
  {
   "cell_type": "code",
   "execution_count": 14,
   "id": "fa9d92d4",
   "metadata": {},
   "outputs": [],
   "source": [
    "xs, ys = create_dataset(40, 40, 2, correlation = 'pos')"
   ]
  },
  {
   "cell_type": "markdown",
   "id": "51317686",
   "metadata": {},
   "source": [
    "Переобучим модель:"
   ]
  },
  {
   "cell_type": "code",
   "execution_count": 15,
   "id": "fae72522",
   "metadata": {},
   "outputs": [],
   "source": [
    "m, b = best_fit_slope_and_intercept(xs, ys)\n",
    "regression_line = [(m*x)+b for x in xs ]"
   ]
  },
  {
   "cell_type": "code",
   "execution_count": 16,
   "id": "4ddf8102",
   "metadata": {},
   "outputs": [
    {
     "data": {
      "image/png": "[encoded data removed]",
      "text/plain": [
       "<Figure size 432x288 with 1 Axes>"
      ]
     },
     "metadata": {
      "needs_background": "light"
     },
     "output_type": "display_data"
    }
   ],
   "source": [
    "plt.scatter(xs, ys)\n",
    "plt.scatter(predict_x, predict_y, color = 'g', s = 100) #точка с саммы первым предсказанием, s = size\n",
    "plt.plot(xs, regression_line)\n",
    "plt.plot(xs, [mean(ys) for y in ys], color='r')\n",
    "plt.show()"
   ]
  },
  {
   "cell_type": "code",
   "execution_count": 17,
   "id": "1ba48e58",
   "metadata": {},
   "outputs": [
    {
     "data": {
      "text/plain": [
       "0.4862596849759159"
      ]
     },
     "execution_count": 17,
     "metadata": {},
     "output_type": "execute_result"
    }
   ],
   "source": [
    "r_squared = coefficient_of_determination(ys, regression_line)\n",
    "r_squared"
   ]
  },
  {
   "cell_type": "markdown",
   "id": "7b2c2cfe",
   "metadata": {},
   "source": [
    "- Посмотрим что будет, если сделать меньше variance при создании датафрейма"
   ]
  },
  {
   "cell_type": "code",
   "execution_count": 18,
   "id": "6a85aed9",
   "metadata": {},
   "outputs": [
    {
     "data": {
      "image/png": "[encoded data removed]",
      "text/plain": [
       "<Figure size 432x288 with 1 Axes>"
      ]
     },
     "metadata": {
      "needs_background": "light"
     },
     "output_type": "display_data"
    },
    {
     "data": {
      "text/plain": [
       "0.9383337477682463"
      ]
     },
     "execution_count": 18,
     "metadata": {},
     "output_type": "execute_result"
    }
   ],
   "source": [
    "xs, ys = create_dataset(40, 10, 2, correlation = 'pos')\n",
    "m, b = best_fit_slope_and_intercept(xs, ys)\n",
    "regression_line = [(m*x)+b for x in xs ]\n",
    "plt.scatter(xs, ys)\n",
    "plt.scatter(predict_x, predict_y, color = 'g', s = 100) #точка с саммы первым предсказанием, s = size\n",
    "plt.plot(xs, regression_line)\n",
    "plt.plot(xs, [mean(ys) for y in ys], color='r')\n",
    "plt.show()\n",
    "r_squared = coefficient_of_determination(ys, regression_line)\n",
    "r_squared"
   ]
  },
  {
   "cell_type": "markdown",
   "id": "349b17d8",
   "metadata": {},
   "source": [
    "r^2 стал намного выше, т.к. растояние между точками стало меньше и поэтому легче проверсти линию"
   ]
  },
  {
   "cell_type": "markdown",
   "id": "7d0e8401",
   "metadata": {},
   "source": [
    "- Посмотрим что будет, если сделать variance выше"
   ]
  },
  {
   "cell_type": "code",
   "execution_count": 19,
   "id": "347bc689",
   "metadata": {},
   "outputs": [
    {
     "data": {
      "image/png": "[encoded data removed]",
      "text/plain": [
       "<Figure size 432x288 with 1 Axes>"
      ]
     },
     "metadata": {
      "needs_background": "light"
     },
     "output_type": "display_data"
    },
    {
     "data": {
      "text/plain": [
       "0.12856833555814884"
      ]
     },
     "execution_count": 19,
     "metadata": {},
     "output_type": "execute_result"
    }
   ],
   "source": [
    "xs, ys = create_dataset(40, 80, 2, correlation = 'pos')\n",
    "m, b = best_fit_slope_and_intercept(xs, ys)\n",
    "regression_line = [(m*x)+b for x in xs ]\n",
    "plt.scatter(xs, ys)\n",
    "plt.scatter(predict_x, predict_y, color = 'g', s = 100) #точка с саммы первым предсказанием, s = size\n",
    "plt.plot(xs, regression_line)\n",
    "plt.plot(xs, [mean(ys) for y in ys], color='r')\n",
    "plt.show()\n",
    "r_squared = coefficient_of_determination(ys, regression_line)\n",
    "r_squared"
   ]
  },
  {
   "cell_type": "markdown",
   "id": "22dc591a",
   "metadata": {},
   "source": [
    "И что будет если сделать отрицательную корреляцию:"
   ]
  },
  {
   "cell_type": "code",
   "execution_count": 20,
   "id": "a76a4024",
   "metadata": {},
   "outputs": [
    {
     "data": {
      "image/png": "[encoded data removed]",
      "text/plain": [
       "<Figure size 432x288 with 1 Axes>"
      ]
     },
     "metadata": {
      "needs_background": "light"
     },
     "output_type": "display_data"
    },
    {
     "data": {
      "text/plain": [
       "0.06406366040992839"
      ]
     },
     "execution_count": 20,
     "metadata": {},
     "output_type": "execute_result"
    }
   ],
   "source": [
    "xs, ys = create_dataset(40, 80, 2, correlation = 'neg')\n",
    "m, b = best_fit_slope_and_intercept(xs, ys)\n",
    "regression_line = [(m*x)+b for x in xs ]\n",
    "plt.scatter(xs, ys)\n",
    "plt.scatter(predict_x, predict_y, color = 'g', s = 100) #точка с саммы первым предсказанием, s = size\n",
    "plt.plot(xs, regression_line)\n",
    "plt.plot(xs, [mean(ys) for y in ys], color='r')\n",
    "plt.show()\n",
    "r_squared = coefficient_of_determination(ys, regression_line)\n",
    "r_squared"
   ]
  },
  {
   "cell_type": "markdown",
   "id": "82055274",
   "metadata": {},
   "source": [
    "Линия начала смотреть в другую сторону"
   ]
  },
  {
   "cell_type": "code",
   "execution_count": null,
   "id": "ca1c5f1d",
   "metadata": {},
   "outputs": [],
   "source": []
  }
 ],
 "metadata": {
  "kernelspec": {
   "display_name": "Python 3 (ipykernel)",
   "language": "python",
   "name": "python3"
  },
  "language_info": {
   "codemirror_mode": {
    "name": "ipython",
    "version": 3
   },
   "file_extension": ".py",
   "mimetype": "text/x-python",
   "name": "python",
   "nbconvert_exporter": "python",
   "pygments_lexer": "ipython3",
   "version": "3.9.7"
  },
  "toc": {
   "base_numbering": 1,
   "nav_menu": {},
   "number_sections": true,
   "sideBar": true,
   "skip_h1_title": false,
   "title_cell": "Table of Contents",
   "title_sidebar": "Contents",
   "toc_cell": false,
   "toc_position": {},
   "toc_section_display": true,
   "toc_window_display": false
  }
 },
 "nbformat": 4,
 "nbformat_minor": 5
}
