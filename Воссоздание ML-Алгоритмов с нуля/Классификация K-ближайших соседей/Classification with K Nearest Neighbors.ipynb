{
 "cells": [
  {
   "cell_type": "markdown",
   "id": "87f3cddf",
   "metadata": {},
   "source": [
    "## KNeighbors с помощью библиотеки"
   ]
  },
  {
   "cell_type": "code",
   "execution_count": 1,
   "id": "d66d9818",
   "metadata": {},
   "outputs": [],
   "source": [
    "import numpy as np\n",
    "from sklearn import preprocessing, neighbors\n",
    "from sklearn.model_selection import train_test_split\n",
    "import pandas as pd\n",
    "from math import sqrt\n",
    "import matplotlib.pyplot as plt\n",
    "from collections import Counter\n",
    "#style.use('fivethirtyeight') #тип графиков\n",
    "import warnings\n",
    "import random \n",
    "import pandas as pd\n",
    "from sklearn import preprocessing\n",
    "from sklearn.model_selection import train_test_split\n",
    "from sklearn.cluster import KMeans"
   ]
  },
  {
   "cell_type": "markdown",
   "id": "d17d968e",
   "metadata": {},
   "source": [
    "Датасет с анализом рака груди"
   ]
  },
  {
   "cell_type": "code",
   "execution_count": 2,
   "id": "d81b9bd8",
   "metadata": {},
   "outputs": [],
   "source": [
    "df = pd.DataFrame(data=pd.read_csv('breast-cancer-wisconsin.data'))"
   ]
  },
  {
   "cell_type": "code",
   "execution_count": 3,
   "id": "87a456e4",
   "metadata": {},
   "outputs": [],
   "source": [
    "df.replace('?', -99999, inplace=True) #-9999 большинство алгоритмов распознают - это как выброс \n",
    "df.drop(['id'], axis=1, inplace=True)"
   ]
  },
  {
   "cell_type": "code",
   "execution_count": 4,
   "id": "6ea0df4e",
   "metadata": {},
   "outputs": [
    {
     "data": {
      "text/plain": [
       "Index([' clump_thickness', ' unif_cell_size', ' unif_cell_shape',\n",
       "       ' marg_adhesion', ' single_epith_cell_size', ' bare_nuclei',\n",
       "       ' bland_chrom', ' norm_nucleoli', ' mitoses', ' class '],\n",
       "      dtype='object')"
      ]
     },
     "execution_count": 4,
     "metadata": {},
     "output_type": "execute_result"
    }
   ],
   "source": [
    "df.columns"
   ]
  },
  {
   "cell_type": "code",
   "execution_count": 5,
   "id": "3010e7db",
   "metadata": {},
   "outputs": [
    {
     "name": "stderr",
     "output_type": "stream",
     "text": [
      "C:\\Users\\yanka\\AppData\\Local\\Temp/ipykernel_18436/607400738.py:1: FutureWarning: In a future version of pandas all arguments of DataFrame.drop except for the argument 'labels' will be keyword-only\n",
      "  X = np.array(df.drop([' class '], 1))\n"
     ]
    }
   ],
   "source": [
    "X = np.array(df.drop([' class '], 1))\n",
    "y = np.array(df[' class '])"
   ]
  },
  {
   "cell_type": "code",
   "execution_count": 6,
   "id": "b58bc9a7",
   "metadata": {},
   "outputs": [],
   "source": [
    "X_train, X_test, y_train, y_test = train_test_split(X, y, test_size = 0.2)"
   ]
  },
  {
   "cell_type": "code",
   "execution_count": 7,
   "id": "b0cfdee7",
   "metadata": {},
   "outputs": [
    {
     "data": {
      "text/plain": [
       "0.9785714285714285"
      ]
     },
     "execution_count": 7,
     "metadata": {},
     "output_type": "execute_result"
    }
   ],
   "source": [
    "clf  = neighbors.KNeighborsClassifier()\n",
    "clf.fit(X_train, y_train)\n",
    "\n",
    "accuracy = clf.score(X_test, y_test)\n",
    "accuracy"
   ]
  },
  {
   "cell_type": "markdown",
   "id": "d88c08d0",
   "metadata": {},
   "source": [
    "## Теперь построим алгоритм с нуля:"
   ]
  },
  {
   "cell_type": "markdown",
   "id": "782041e6",
   "metadata": {},
   "source": [
    "Уточним насчет Евклидового пространства:"
   ]
  },
  {
   "cell_type": "markdown",
   "id": "46e812a5",
   "metadata": {},
   "source": [
    "  n\n",
    " \n",
    "√Σ(qi - pi)^2\n",
    "\n",
    "  i\n",
    "  \n",
    "q - координаты для точки 1\n",
    "\n",
    "p - координаты для точки 2\n",
    " \n",
    "n - количество пространств\n",
    "i - 1. i начинается с одного"
   ]
  },
  {
   "cell_type": "markdown",
   "id": "fde523f0",
   "metadata": {},
   "source": [
    "Допустим\n",
    "\n",
    "q(1, 2)\n",
    "\n",
    "p(2, 5)\n",
    "\n",
    "А значит, у нас два измерения\n",
    "\n",
    "Подставляем\n",
    "\n",
    "√(1 - 2)^2 + (3 - 5)^2"
   ]
  },
  {
   "cell_type": "code",
   "execution_count": 8,
   "id": "5b7a73dd",
   "metadata": {},
   "outputs": [
    {
     "name": "stdout",
     "output_type": "stream",
     "text": [
      "2.23606797749979\n"
     ]
    }
   ],
   "source": [
    "plot1 = [1, 3]\n",
    "plot2 = [2, 5]\n",
    "\n",
    "euclidean_distance = sqrt((plot1[0] - plot2[0])**2 + (plot1[1] - plot2[1])**2) #мы можем заменить этот код np.linalg.norm()\n",
    "\n",
    "print(euclidean_distance)"
   ]
  },
  {
   "cell_type": "code",
   "execution_count": 9,
   "id": "7ee74831",
   "metadata": {
    "scrolled": true
   },
   "outputs": [
    {
     "data": {
      "image/png": "[encoded data removed]",
      "text/plain": [
       "<Figure size 432x288 with 1 Axes>"
      ]
     },
     "metadata": {
      "needs_background": "light"
     },
     "output_type": "display_data"
    }
   ],
   "source": [
    "dataset = {'k':[[1, 2], [2, 3], [3, 1]], #класс к с данными признаками\n",
    "          'r':[[6, 5], [7, 7], [8, 6]]\n",
    "          } \n",
    "new_features = [5, 7] #для предсказания\n",
    "\n",
    "for Class in dataset:\n",
    "    for feature in dataset[Class]:\n",
    "        plt.scatter(feature[0], feature[1], s = 100, color = Class)\n",
    "plt.scatter(new_features[0], new_features[1], s = 150, color = 'g')\n",
    "plt.show()\n",
    "        \n",
    "#[[plt.scatter(feature[0], feature[1], s = 100, color = Class) for featrue in dataset[Class]] for Class in dataset]\n",
    "#можно еще так начертить точки\n"
   ]
  },
  {
   "cell_type": "code",
   "execution_count": 10,
   "id": "e9a2b178",
   "metadata": {},
   "outputs": [],
   "source": [
    "#Проблема в данном алгоритме в том, что для того, чтобы понять какая точка самая ближайшая к нужной нам точке, нужно посчитать\n",
    "#расстояние между нужной точкой и всеми остальными точками. Мы можем использовать радиус для того, чтобы \"поймать\" ближайшие\n",
    "#точки\n",
    "\n",
    "def k_nearest_neighbors(data, predict, k=3):\n",
    "    #Ошибка информаирующая о том, что классов в датасете меньше, чем k\n",
    "    if len(data) >= k:\n",
    "        warnings.warn('K is set to a value less then total voting groups!') \n",
    "    distances = []\n",
    "    for group in data:\n",
    "        for features in data[group]:\n",
    "            euclidian_distance = np.linalg.norm(np.array(features) - np.array(predict))\n",
    "            #добавим в distance расстояние от предикта до группы\n",
    "            distances.append([euclidian_distance, group]) \n",
    "            \n",
    "    votes = [i[1] for i in sorted(distances)[:k]] #находим блажайшие точки до точки, которую надо \"предсказать\" и берем классы\n",
    "    #этих точек, а список урезаем до 3 ближайших соседей (k)\n",
    "    #print(votes)\n",
    "    vote_result = Counter(votes).most_common(1)[0][0] #находим количество ближайших классов и берем самый близкий\n",
    "    #можем проверить confidence\n",
    "    confidence = Counter(votes).most_common(1)[0][1] / k #здесь делим количество найденных классов на заданное число классов\n",
    "    #Если у нас будут первые три найденные класса, то у нас будет два числа, которые покажут уверенность модели в том, что\n",
    "    #мы имеем дело с таким то классом. Если один класс, то одно число\n",
    "    #print(Counter(votes).most_common(1)) \n",
    "    \n",
    "    #print(vote_result, confidence)\n",
    "    \n",
    "    return vote_result, confidence"
   ]
  },
  {
   "cell_type": "code",
   "execution_count": 11,
   "id": "bba044f2",
   "metadata": {
    "scrolled": true
   },
   "outputs": [
    {
     "data": {
      "text/plain": [
       "('r', 1.0)"
      ]
     },
     "execution_count": 11,
     "metadata": {},
     "output_type": "execute_result"
    }
   ],
   "source": [
    "result = k_nearest_neighbors(dataset, new_features, k=3)\n",
    "result"
   ]
  },
  {
   "cell_type": "markdown",
   "id": "810789a2",
   "metadata": {},
   "source": [
    "Построим график на котром точка, которую нужно было кластеризировать будем иметь цвет своего ближайшего класса:"
   ]
  },
  {
   "cell_type": "code",
   "execution_count": 12,
   "id": "4da2260d",
   "metadata": {},
   "outputs": [
    {
     "data": {
      "image/png": "[encoded data removed]",
      "text/plain": [
       "<Figure size 432x288 with 1 Axes>"
      ]
     },
     "metadata": {
      "needs_background": "light"
     },
     "output_type": "display_data"
    }
   ],
   "source": [
    "for Class in dataset:\n",
    "    for feature in dataset[Class]:\n",
    "        plt.scatter(feature[0], feature[1], s = 100, color = Class)\n",
    "plt.scatter(new_features[0], new_features[1], s = 150, color = result[0])\n",
    "plt.show()"
   ]
  },
  {
   "cell_type": "code",
   "execution_count": 13,
   "id": "e04010c0",
   "metadata": {},
   "outputs": [],
   "source": [
    "full_data = df.astype(float).values.tolist() #некоторые данные здесь в кавычках (пр. \"4\", сделаем их int)"
   ]
  },
  {
   "cell_type": "code",
   "execution_count": 14,
   "id": "64177a52",
   "metadata": {},
   "outputs": [],
   "source": [
    "random.shuffle(full_data)"
   ]
  },
  {
   "cell_type": "code",
   "execution_count": 15,
   "id": "02ae1d2b",
   "metadata": {},
   "outputs": [],
   "source": [
    "#напишем функцию для test_split\n",
    "test_size = 0.2\n",
    "train_set = {2:[], 4:[]}\n",
    "test_set = {2:[], 4:[]}\n",
    "train_data = full_data[:-int(test_size*len(full_data))]\n",
    "test_data = full_data[-int(test_size*len(full_data)):]"
   ]
  },
  {
   "cell_type": "code",
   "execution_count": 16,
   "id": "4d42d8b8",
   "metadata": {},
   "outputs": [],
   "source": [
    "for i in train_data:\n",
    "    train_set[i[-1]].append(i[:-1])\n",
    "    \n",
    "for i in test_data:\n",
    "    test_set[i[-1]].append(i[:-1])"
   ]
  },
  {
   "cell_type": "code",
   "execution_count": 17,
   "id": "91e7de05",
   "metadata": {},
   "outputs": [],
   "source": [
    "#x_train, x_test = train_test_split(full_data, test_size=0.2)"
   ]
  },
  {
   "cell_type": "code",
   "execution_count": 18,
   "id": "ac9a6bb8",
   "metadata": {},
   "outputs": [
    {
     "name": "stdout",
     "output_type": "stream",
     "text": [
      "1.0\n",
      "0.6\n",
      "0.6\n",
      "1.0\n",
      "Accuracy: 0.9712230215827338\n"
     ]
    }
   ],
   "source": [
    "#подсчет accuracy\n",
    "correct = 0\n",
    "total = 0\n",
    "\n",
    "for group in test_set:\n",
    "    for data in test_set[group]: \n",
    "        vote, confidence = k_nearest_neighbors(train_set, data, k=5) #k=5 - дефолтное значение\n",
    "        if group == vote:\n",
    "            correct += 1 #если классы совпали \n",
    "        else: \n",
    "            print(confidence) #если классы не совпали выводится значение уверенности в классе\n",
    "        total +=1 #общее количество итераций в цикле\n",
    "print('Accuracy:', correct/total)        "
   ]
  },
  {
   "cell_type": "markdown",
   "id": "b0363e15",
   "metadata": {},
   "source": [
    "Если пытаться увеличить значение k, то в данном случае значение accuracy не будет увиличиваться, а даже немного упадет"
   ]
  },
  {
   "cell_type": "markdown",
   "id": "6fb7db19",
   "metadata": {},
   "source": [
    "Стоит уточнить, что применение k-ближайших соседей хорош в том, случае, когда данные сложно разделить, к примеру, линейной регрессией. То есть когда между классами трудно провести линию. В данном случае будет лучше использовать алгоритм k-ближайших соседей."
   ]
  }
 ],
 "metadata": {
  "kernelspec": {
   "display_name": "Python 3 (ipykernel)",
   "language": "python",
   "name": "python3"
  },
  "language_info": {
   "codemirror_mode": {
    "name": "ipython",
    "version": 3
   },
   "file_extension": ".py",
   "mimetype": "text/x-python",
   "name": "python",
   "nbconvert_exporter": "python",
   "pygments_lexer": "ipython3",
   "version": "3.9.7"
  },
  "toc": {
   "base_numbering": 1,
   "nav_menu": {},
   "number_sections": true,
   "sideBar": true,
   "skip_h1_title": false,
   "title_cell": "Table of Contents",
   "title_sidebar": "Contents",
   "toc_cell": false,
   "toc_position": {},
   "toc_section_display": true,
   "toc_window_display": false
  }
 },
 "nbformat": 4,
 "nbformat_minor": 5
}
