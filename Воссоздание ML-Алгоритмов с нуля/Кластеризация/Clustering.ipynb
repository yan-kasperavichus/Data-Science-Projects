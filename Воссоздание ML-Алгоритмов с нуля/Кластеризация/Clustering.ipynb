{
 "cells": [
  {
   "cell_type": "markdown",
   "id": "62970ff0",
   "metadata": {},
   "source": [
    "# Создадим небольшой пример на основе sklearn"
   ]
  },
  {
   "cell_type": "code",
   "execution_count": 1,
   "id": "f65cf8a3",
   "metadata": {},
   "outputs": [],
   "source": [
    "import matplotlib.pyplot as plt\n",
    "from matplotlib import style\n",
    "import numpy as np\n",
    "from sklearn.cluster import KMeans\n",
    "style.use('ggplot')\n",
    "import pandas as pd\n",
    "from sklearn import preprocessing\n",
    "from sklearn.model_selection import train_test_split\n",
    "from sklearn.cluster import KMeans\n",
    "from mpl_toolkits.mplot3d import Axes3D\n",
    "from sklearn.datasets import make_blobs\n",
    "from sklearn.cluster import MeanShift\n",
    "import random\n",
    "%matplotlib inline"
   ]
  },
  {
   "cell_type": "markdown",
   "id": "8f590e26",
   "metadata": {},
   "source": [
    "Создадим данные и посмотрим на них"
   ]
  },
  {
   "cell_type": "code",
   "execution_count": 2,
   "id": "5abba6cf",
   "metadata": {},
   "outputs": [
    {
     "data": {
      "image/png": "[encoded data removed]",
      "text/plain": [
       "<Figure size 432x288 with 1 Axes>"
      ]
     },
     "metadata": {
      "needs_background": "light"
     },
     "output_type": "display_data"
    }
   ],
   "source": [
    "X = np.array([[1, 2],\n",
    "              [1.5, 1.8],\n",
    "              [5, 8],\n",
    "              [8, 8],\n",
    "              [1, 0.6],\n",
    "              [9, 11]])\n",
    "\n",
    "\n",
    "plt.scatter(X[:, 0],X[:, 1], s=150, linewidths = 5, zorder = 10)\n",
    "plt.show()"
   ]
  },
  {
   "cell_type": "code",
   "execution_count": 3,
   "id": "6dc0c8c1",
   "metadata": {},
   "outputs": [
    {
     "data": {
      "text/plain": [
       "KMeans(n_clusters=2)"
      ]
     },
     "execution_count": 3,
     "metadata": {},
     "output_type": "execute_result"
    }
   ],
   "source": [
    "clf = KMeans(n_clusters=2) #n_clusters - количество кластеров\n",
    "clf.fit(X)"
   ]
  },
  {
   "cell_type": "markdown",
   "id": "ca542859",
   "metadata": {},
   "source": [
    "Сохраним атрибуты модели, содержащие инфо о центральных точках кластеров и лейблов сэпмлов"
   ]
  },
  {
   "cell_type": "code",
   "execution_count": 4,
   "id": "3a51b873",
   "metadata": {},
   "outputs": [],
   "source": [
    "centroids = clf.cluster_centers_ #центры кластеров (центр точек в кластерах)\n",
    "labels = clf.labels_ #отношение сэпмлов к классу"
   ]
  },
  {
   "cell_type": "markdown",
   "id": "d38280f8",
   "metadata": {},
   "source": [
    "Сформируем график"
   ]
  },
  {
   "cell_type": "code",
   "execution_count": 5,
   "id": "8fa28d33",
   "metadata": {},
   "outputs": [
    {
     "data": {
      "image/png": "[encoded data removed]",
      "text/plain": [
       "<Figure size 432x288 with 1 Axes>"
      ]
     },
     "metadata": {
      "needs_background": "light"
     },
     "output_type": "display_data"
    }
   ],
   "source": [
    "colors = [\"g.\",\"r.\",\"c.\",\"y.\"]\n",
    "for i in range(len(X)):\n",
    "    plt.plot(X[i][0], X[i][1], colors[labels[i]], markersize = 10) #x, y, color, marker\n",
    "plt.scatter(centroids[:, 0],centroids[:, 1], marker = \"x\", s=150, linewidths = 5, zorder = 10)\n",
    "plt.show()"
   ]
  },
  {
   "cell_type": "markdown",
   "id": "e2dd9491",
   "metadata": {},
   "source": [
    "Алгоритм работает таким образом, что находит центр между точками. Если мы выделяем 2 кластера, то всего у нас будет 2 центра. Высчитывается эвклидиво расстояние между от точки до центра и с каждым шагом модель будет искать более выгодное расстояние между точками."
   ]
  },
  {
   "cell_type": "markdown",
   "id": "9859f68a",
   "metadata": {},
   "source": [
    "## Датасет титаник"
   ]
  },
  {
   "cell_type": "markdown",
   "id": "a49ccbd7",
   "metadata": {},
   "source": [
    "Попробуем проверить знаменитый датасет на алгоритме Kmeans. Что если мы скажем алгоритму разделить данные на 2 класса. Как точно он их разделит? Разделит ли он их значению выживания."
   ]
  },
  {
   "cell_type": "code",
   "execution_count": 6,
   "id": "089f7a8d",
   "metadata": {},
   "outputs": [
    {
     "name": "stdout",
     "output_type": "stream",
     "text": [
      "0.7104660045836516\n"
     ]
    }
   ],
   "source": [
    "df = pd.read_excel('titanic.xls')\n",
    "df.drop(['body', 'name'], axis=1, inplace=True)\n",
    "df.fillna(0, inplace=True)\n",
    "## переведем строчные значения в численные\n",
    "\n",
    "def handle_non_numerical_data(df):\n",
    "    #название колонки и её индекс в датасете \n",
    "    columns = df.columns.values\n",
    "    \n",
    "    #для каждой колонки уникальные значение в ней\n",
    "    for column in columns:\n",
    "        text_digit_vals = {} #объявляем пустой словарь\n",
    "        #{'Female' : 0}\n",
    "        def convert_to_int(val):\n",
    "            return text_digit_vals[val]\n",
    "        \n",
    "        #если значения в колонке не числовые\n",
    "        if df[column].dtype != np.int64 and df[column].dtype != np.float64:\n",
    "            column_contents = df[column].values.tolist() #все значения переводятся в list\n",
    "            uninque_elements = set(column_contents) #уникальные значения в листе column_contents\n",
    "            x = 0\n",
    "            for unique in uninque_elements:\n",
    "                if unique not in text_digit_vals: #если значение не в словаре\n",
    "                    text_digit_vals[unique] = x\n",
    "                    x+=1\n",
    "                    \n",
    "            df[column] = list(map(convert_to_int, df[column]))\n",
    "              \n",
    "    return df\n",
    "\n",
    "df = handle_non_numerical_data(df)\n",
    "\n",
    "X = np.array(df.drop(['survived'], axis=1).astype(float))\n",
    "X = preprocessing.scale(X) #мастрабируем данные\n",
    "y = np.array(df['survived'])\n",
    "\n",
    "clf = KMeans(n_clusters=2)\n",
    "clf.fit(X)\n",
    "\n",
    "correct = 0 #кол-во правильных ответов\n",
    "for i in range(len(X)):\n",
    "    predict_me = np.array(X[i].astype(float))\n",
    "    predict_me = predict_me.reshape(-1, len(predict_me))\n",
    "    prediction = clf.predict(predict_me)\n",
    "    if prediction[0] == y[i]: \n",
    "        correct += 1\n",
    "print(correct/len(X))"
   ]
  },
  {
   "cell_type": "code",
   "execution_count": 7,
   "id": "a8a0f4c0",
   "metadata": {},
   "outputs": [
    {
     "data": {
      "text/html": [
       "<div>\n",
       "<style scoped>\n",
       "    .dataframe tbody tr th:only-of-type {\n",
       "        vertical-align: middle;\n",
       "    }\n",
       "\n",
       "    .dataframe tbody tr th {\n",
       "        vertical-align: top;\n",
       "    }\n",
       "\n",
       "    .dataframe thead th {\n",
       "        text-align: right;\n",
       "    }\n",
       "</style>\n",
       "<table border=\"1\" class=\"dataframe\">\n",
       "  <thead>\n",
       "    <tr style=\"text-align: right;\">\n",
       "      <th></th>\n",
       "      <th>pclass</th>\n",
       "      <th>survived</th>\n",
       "      <th>sex</th>\n",
       "      <th>age</th>\n",
       "      <th>sibsp</th>\n",
       "      <th>parch</th>\n",
       "      <th>ticket</th>\n",
       "      <th>fare</th>\n",
       "      <th>cabin</th>\n",
       "      <th>embarked</th>\n",
       "      <th>boat</th>\n",
       "      <th>home.dest</th>\n",
       "    </tr>\n",
       "  </thead>\n",
       "  <tbody>\n",
       "    <tr>\n",
       "      <th>0</th>\n",
       "      <td>1</td>\n",
       "      <td>1</td>\n",
       "      <td>1</td>\n",
       "      <td>29.0000</td>\n",
       "      <td>0</td>\n",
       "      <td>0</td>\n",
       "      <td>757</td>\n",
       "      <td>211.3375</td>\n",
       "      <td>56</td>\n",
       "      <td>2</td>\n",
       "      <td>2</td>\n",
       "      <td>28</td>\n",
       "    </tr>\n",
       "    <tr>\n",
       "      <th>1</th>\n",
       "      <td>1</td>\n",
       "      <td>1</td>\n",
       "      <td>0</td>\n",
       "      <td>0.9167</td>\n",
       "      <td>1</td>\n",
       "      <td>2</td>\n",
       "      <td>503</td>\n",
       "      <td>151.5500</td>\n",
       "      <td>104</td>\n",
       "      <td>2</td>\n",
       "      <td>9</td>\n",
       "      <td>233</td>\n",
       "    </tr>\n",
       "    <tr>\n",
       "      <th>2</th>\n",
       "      <td>1</td>\n",
       "      <td>0</td>\n",
       "      <td>1</td>\n",
       "      <td>2.0000</td>\n",
       "      <td>1</td>\n",
       "      <td>2</td>\n",
       "      <td>503</td>\n",
       "      <td>151.5500</td>\n",
       "      <td>104</td>\n",
       "      <td>2</td>\n",
       "      <td>0</td>\n",
       "      <td>233</td>\n",
       "    </tr>\n",
       "    <tr>\n",
       "      <th>3</th>\n",
       "      <td>1</td>\n",
       "      <td>0</td>\n",
       "      <td>0</td>\n",
       "      <td>30.0000</td>\n",
       "      <td>1</td>\n",
       "      <td>2</td>\n",
       "      <td>503</td>\n",
       "      <td>151.5500</td>\n",
       "      <td>104</td>\n",
       "      <td>2</td>\n",
       "      <td>0</td>\n",
       "      <td>233</td>\n",
       "    </tr>\n",
       "    <tr>\n",
       "      <th>4</th>\n",
       "      <td>1</td>\n",
       "      <td>0</td>\n",
       "      <td>1</td>\n",
       "      <td>25.0000</td>\n",
       "      <td>1</td>\n",
       "      <td>2</td>\n",
       "      <td>503</td>\n",
       "      <td>151.5500</td>\n",
       "      <td>104</td>\n",
       "      <td>2</td>\n",
       "      <td>0</td>\n",
       "      <td>233</td>\n",
       "    </tr>\n",
       "  </tbody>\n",
       "</table>\n",
       "</div>"
      ],
      "text/plain": [
       "   pclass  survived  sex      age  sibsp  parch  ticket      fare  cabin  \\\n",
       "0       1         1    1  29.0000      0      0     757  211.3375     56   \n",
       "1       1         1    0   0.9167      1      2     503  151.5500    104   \n",
       "2       1         0    1   2.0000      1      2     503  151.5500    104   \n",
       "3       1         0    0  30.0000      1      2     503  151.5500    104   \n",
       "4       1         0    1  25.0000      1      2     503  151.5500    104   \n",
       "\n",
       "   embarked  boat  home.dest  \n",
       "0         2     2         28  \n",
       "1         2     9        233  \n",
       "2         2     0        233  \n",
       "3         2     0        233  \n",
       "4         2     0        233  "
      ]
     },
     "execution_count": 7,
     "metadata": {},
     "output_type": "execute_result"
    }
   ],
   "source": [
    "df.head()"
   ]
  },
  {
   "cell_type": "code",
   "execution_count": 8,
   "id": "a0fe1de1",
   "metadata": {},
   "outputs": [],
   "source": [
    "X = np.array(df.drop(['survived'], axis=1).astype(float))\n",
    "X = preprocessing.scale(X) #мастрабируем данные\n",
    "y = np.array(df['survived'])"
   ]
  },
  {
   "cell_type": "code",
   "execution_count": 9,
   "id": "5c3d7a8e",
   "metadata": {},
   "outputs": [
    {
     "data": {
      "text/plain": [
       "KMeans(n_clusters=2)"
      ]
     },
     "execution_count": 9,
     "metadata": {},
     "output_type": "execute_result"
    }
   ],
   "source": [
    "clf = KMeans(n_clusters=2)\n",
    "clf.fit(X)"
   ]
  },
  {
   "cell_type": "code",
   "execution_count": 10,
   "id": "cb429433",
   "metadata": {},
   "outputs": [
    {
     "name": "stdout",
     "output_type": "stream",
     "text": [
      "0.28953399541634833\n"
     ]
    }
   ],
   "source": [
    "correct = 0 #кол-во правильных ответов\n",
    "for i in range(len(X)):\n",
    "    predict_me = np.array(X[i].astype(float))\n",
    "    predict_me = predict_me.reshape(-1, len(predict_me))\n",
    "    prediction = clf.predict(predict_me)\n",
    "    if prediction[0] == y[i]: \n",
    "        correct += 1\n",
    "print(correct/len(X))    "
   ]
  },
  {
   "cell_type": "markdown",
   "id": "7805a2dd",
   "metadata": {},
   "source": [
    "Т.к. кластеры 0 и 1 инициализируются случайно, то accuracy будет ходить от одного числа к другому, однако если мы выбиваем 30% accuracy, то - это 30% для одного класса и 70%  для другого"
   ]
  },
  {
   "cell_type": "markdown",
   "id": "94474309",
   "metadata": {},
   "source": [
    "Таким образом, мы не давали модели указания, чтобы она разделила данные по признаку остался жив/мертв, однако мы смогли добиться 70% точности даже при таком условии"
   ]
  },
  {
   "cell_type": "markdown",
   "id": "d5188ddb",
   "metadata": {},
   "source": [
    "## KMean from Scratch"
   ]
  },
  {
   "cell_type": "code",
   "execution_count": 11,
   "id": "efe91bf9",
   "metadata": {},
   "outputs": [
    {
     "data": {
      "image/png": "[encoded data removed]",
      "text/plain": [
       "<Figure size 432x288 with 1 Axes>"
      ]
     },
     "metadata": {
      "needs_background": "light"
     },
     "output_type": "display_data"
    }
   ],
   "source": [
    "X = np.array([[1, 2],\n",
    "              [1.5, 1.8],\n",
    "              [5, 8],\n",
    "              [8, 8],\n",
    "              [1, 0.6],\n",
    "              [9, 11]])\n",
    "\n",
    "\n",
    "plt.scatter(X[:, 0],X[:, 1], s=100, linewidths = 5, zorder = 10)\n",
    "plt.show()\n",
    "colors = 10*[\"g\",\"r\",\"c\",\"y\"]"
   ]
  },
  {
   "cell_type": "markdown",
   "id": "00dbbf22",
   "metadata": {},
   "source": [
    "Инициализируем класс:"
   ]
  },
  {
   "cell_type": "code",
   "execution_count": 12,
   "id": "616e2722",
   "metadata": {},
   "outputs": [
    {
     "name": "stdout",
     "output_type": "stream",
     "text": [
      "453.3333333333334\n",
      "102.72108843537411\n"
     ]
    }
   ],
   "source": [
    "class K_Means:\n",
    "    def __init__(self, k=2, tol=0.001, max_iter=300):\n",
    "        #tolerance - насколько много будет двигаться центройд\n",
    "        #max_iter - сколько итерации мы запускаем, пока алгоритм не найдет нужную точку итерации \n",
    "        #k - количество кластеров\n",
    "        self.k = k\n",
    "        self.tol = tol\n",
    "        self.max_iter = max_iter\n",
    "    \n",
    "    def fit(self, data):\n",
    "        \n",
    "        self.centroids = {}\n",
    "        \n",
    "        for i in range(self.k): #K-количество центройдов. Определяем их кол-во\n",
    "            self.centroids[i] = data[i] #ключи - это значение итерации (индекс центройда),\n",
    "            #значение ключей - расположенение точек из данных\n",
    "            #в качестве центройдов взяли две первые точки датасета (их вообще можно брать рандомно, результат не изменится)\n",
    "            #print(self.centroids)\n",
    "            \n",
    "        for i in range(self.max_iter): #назначаем количесвто шагов\n",
    "            self.classifications = {} #ключи - центройды, значения - расположенение точек\n",
    "            #будет меняться каждый раз, когда будет меняться центройд\n",
    "            \n",
    "            for i in range(self.k):\n",
    "                self.classifications[i] = [] #значение до нулевого и первого центройда {0 (k): [], 1 (k): []}\n",
    "                #print(self.classifications)\n",
    "                \n",
    "            for featureset in data:\n",
    "                #создаем лист, который состоит из K-number значений\n",
    "                #в качестве нулевого индекса листа distances будет значение расстояния от точки в датасете \n",
    "                #до нулевого центройда и для первого индекса также\n",
    "                #distances - [расстояние точки до первого центройда, расстояние точки до второго центройда]\n",
    "                distances = [np.linalg.norm(featureset-self.centroids[centroid]) for centroid in self.centroids]\n",
    "                #print(distances)\n",
    "                \n",
    "                #выбираем минимальное расстояние и таким образом определяем класс\n",
    "                #[расстояние точки до первого центройда, расстояние точки до второго центройда] - меньше 0 индекс, то\n",
    "                #возвращает 0\n",
    "                classification = distances.index(min(distances)) #класс определяется минимальной дистанцией от точки признаокв\n",
    "                #сэмпла до центройда\n",
    "                #print(classification)\n",
    "                \n",
    "                self.classifications[classification].append(featureset) #добавляем в словарь. ключ - класс,\n",
    "                #значение - сэмпл\n",
    "                \n",
    "            prev_centroids = dict(self.centroids) #сохраняем для сравнения с новым шагом\n",
    "            \n",
    "            for classification in self.classifications:\n",
    "                #считает среднее значение признаков для каждого класса и меняет центройд \n",
    "                self.centroids[classification] = np.average(self.classifications[classification], axis=0)\n",
    "                \n",
    "            optimized = True \n",
    "            \n",
    "            for c in self.centroids:\n",
    "                original_centroid = prev_centroids[c] #предыдущие центройды\n",
    "                current_centroid = self.centroids[c] #текущие центройды\n",
    "                #Если хотя бы какой-нибудь из центройдов движется (меняет местоположение) больше, чем self.tol, то \n",
    "                #Модель не оптимизирована \n",
    "                #np.sum((current_centroid - original_centroid) / original_centroid * 100.0) сравниетльное движение центройда\n",
    "                if np.sum((current_centroid - original_centroid) / original_centroid * 100.0) > self.tol:\n",
    "                    #покажет через сколько итераций прошла модель и покажет насколько изменяется движение\n",
    "                    print(np.sum((current_centroid - original_centroid) / original_centroid * 100.0))\n",
    "                    optimized = False\n",
    "                    \n",
    "            #если найдем такие значение, то модель оптимизирована и итерация из числа max_iter останавливаются        \n",
    "            if optimized:\n",
    "                break\n",
    "                \n",
    "    \n",
    "    def predict(self, data):\n",
    "        distances = [np.linalg.norm(data-self.centroids[centroid]) for centroid in self.centroids]\n",
    "        classification = distances.index(min(distances))\n",
    "        return classification\n",
    "    \n",
    "clf = K_Means()\n",
    "clf.fit(X)"
   ]
  },
  {
   "cell_type": "code",
   "execution_count": 13,
   "id": "7b286e6e",
   "metadata": {},
   "outputs": [],
   "source": [
    "k = K_Means()"
   ]
  },
  {
   "cell_type": "code",
   "execution_count": 14,
   "id": "8d0fb7e8",
   "metadata": {},
   "outputs": [
    {
     "name": "stdout",
     "output_type": "stream",
     "text": [
      "453.3333333333334\n",
      "102.72108843537411\n"
     ]
    }
   ],
   "source": [
    "k.fit(X)"
   ]
  },
  {
   "cell_type": "code",
   "execution_count": 15,
   "id": "f2708851",
   "metadata": {},
   "outputs": [
    {
     "name": "stdout",
     "output_type": "stream",
     "text": [
      "0\n",
      "1\n",
      "1\n",
      "0\n",
      "1\n"
     ]
    },
    {
     "data": {
      "image/png": "[encoded data removed]",
      "text/plain": [
       "<Figure size 432x288 with 1 Axes>"
      ]
     },
     "metadata": {
      "needs_background": "light"
     },
     "output_type": "display_data"
    }
   ],
   "source": [
    "for centroid in clf.centroids:\n",
    "    plt.scatter(clf.centroids[centroid][0], clf.centroids[centroid][1],\n",
    "               marker='o', color='k', s=150, linewidth=5)\n",
    "    \n",
    "for classification in clf.classifications:\n",
    "    color = colors[classification]\n",
    "    for featureset in clf.classifications[classification]:\n",
    "        plt.scatter(featureset[0], featureset[1], marker='x', color=color,\n",
    "                   s=150, linewidth=5)\n",
    "        \n",
    "#черным - конечные центройды. Зеленым и крассным - группы кластеров\n",
    "\n",
    "unknowns = np.array([[1,3],\n",
    "                    [8,9],\n",
    "                    [10,3],\n",
    "                    [1, 1.3],\n",
    "                    [7.4, 6]])\n",
    "\n",
    "for unknown in unknowns:\n",
    "    classification = clf.predict(unknown)\n",
    "    plt.scatter(unknown[0], unknown[1], marker='*', color=colors[classification], s=200, linewidth=5)\n",
    "    print(classification)\n",
    "    \n",
    "plt.show()\n",
    "\n",
    "#красынм - предсказания"
   ]
  },
  {
   "cell_type": "code",
   "execution_count": 16,
   "id": "c4ec717b",
   "metadata": {},
   "outputs": [
    {
     "name": "stdout",
     "output_type": "stream",
     "text": [
      "0\n",
      "1\n",
      "1\n",
      "0\n",
      "1\n"
     ]
    },
    {
     "data": {
      "image/png": "[encoded data removed]",
      "text/plain": [
       "<Figure size 432x288 with 1 Axes>"
      ]
     },
     "metadata": {
      "needs_background": "light"
     },
     "output_type": "display_data"
    }
   ],
   "source": [
    "unknowns = np.array([[1,3],\n",
    "                    [8,9],\n",
    "                    [10,3],\n",
    "                    [1, 1.3],\n",
    "                    [7.4, 6]])\n",
    "\n",
    "for unknown in unknowns:\n",
    "    classification = clf.predict(unknown)\n",
    "    plt.scatter(unknown[0], unknown[1], marker='*', color=colors[classification], s=150, linewidth=5)\n",
    "    print(classification)\n",
    "    \n",
    "plt.show()\n",
    "\n",
    "#красынм - предсказания"
   ]
  },
  {
   "cell_type": "markdown",
   "id": "ebf4de9d",
   "metadata": {},
   "source": [
    "## Mean shift"
   ]
  },
  {
   "cell_type": "markdown",
   "id": "f72502e4",
   "metadata": {},
   "source": [
    "В отличии плоской кластерицизации (KMeans) иерархическая кластеризация (Mean Shift) включает в себя не только количество кластеров, но и понятие о том, где эти кластеры расположены в действительности"
   ]
  },
  {
   "cell_type": "markdown",
   "id": "3690c7e6",
   "metadata": {},
   "source": [
    "В отличии от плоской кластеризации, когда в качестве центройда мы берем два рандомных сэмпла в иерархической кластеризации мы используем все точки в качестве центройда"
   ]
  },
  {
   "cell_type": "markdown",
   "id": "ef7fac6d",
   "metadata": {},
   "source": [
    "Mean Shift использует идею радиуса. Допустим у нас есть точки, вокрук каждой точки в датасете создается окружность. Мы определяем радиус и мы видим какие точки лежат в радиусе данной окружности (bandwidth). "
   ]
  },
  {
   "cell_type": "markdown",
   "id": "7d7d391c",
   "metadata": {},
   "source": [
    "Далее мы определяем среднее между всеми точками в данной окружности. И новым центройдом становится точка среднего этих точек, возле которой создается новая окружность. И далее процес повторяется. И так же как с KMeans, если центройд кластера более не двигается, то оптимизация произведена."
   ]
  },
  {
   "cell_type": "markdown",
   "id": "a8242ccd",
   "metadata": {},
   "source": [
    "Все остальные точки начинают такую же процедуру и придут к такому же результату. Конечная точка центройд является точкой конвергенции."
   ]
  },
  {
   "cell_type": "markdown",
   "id": "b517bc6a",
   "metadata": {},
   "source": [
    "Мы также мы можем использовать подход с уменьшением \"функции потерь\". Для примера мы создаем окружности вокруг точки:"
   ]
  },
  {
   "cell_type": "markdown",
   "id": "15400b80",
   "metadata": {},
   "source": [
    "Первая Окружность - радиус 20\n",
    "\n",
    "\n",
    "Вторая Окружность - радиус 40\n",
    "\n",
    "\n",
    "Третья Окружность - радиус 80."
   ]
  },
  {
   "cell_type": "markdown",
   "id": "97d8eba0",
   "metadata": {},
   "source": [
    "Точки внутри первой окружности будут иметь вес 3, внутри второй вес 2, и внутри третьей еще меньший вес 1 и т.д. Таким образом мы штрафуем модель за то, что она ищет точки далеко от себя."
   ]
  },
  {
   "cell_type": "markdown",
   "id": "4b687e48",
   "metadata": {},
   "source": [
    "Создадим датасет"
   ]
  },
  {
   "cell_type": "code",
   "execution_count": 17,
   "id": "86637c0a",
   "metadata": {},
   "outputs": [],
   "source": [
    "centers = [[1,1,1],[5,5,5],[3,10,10]]  #т.к. три точки для построения, то у нас 3D модель. Здесь хранятся настощие центройды датасета\n",
    "X, _ = make_blobs(n_samples=100, centers=centers, cluster_std=1)"
   ]
  },
  {
   "cell_type": "markdown",
   "id": "f4d516dd",
   "metadata": {},
   "source": [
    "Посмотрим как справится с этим модель из sklearn"
   ]
  },
  {
   "cell_type": "code",
   "execution_count": 18,
   "id": "ecdaa156",
   "metadata": {},
   "outputs": [
    {
     "data": {
      "text/plain": [
       "MeanShift()"
      ]
     },
     "execution_count": 18,
     "metadata": {},
     "output_type": "execute_result"
    }
   ],
   "source": [
    "ms = MeanShift()\n",
    "ms.fit(X) "
   ]
  },
  {
   "cell_type": "markdown",
   "id": "5570cb35",
   "metadata": {},
   "source": [
    "Поместим атрибуты в переменные:"
   ]
  },
  {
   "cell_type": "code",
   "execution_count": 19,
   "id": "e4ab15ea",
   "metadata": {},
   "outputs": [
    {
     "name": "stdout",
     "output_type": "stream",
     "text": [
      "[[ 0.84808837  0.83381654  1.22802182]\n",
      " [ 4.70544755  5.1957239   4.93279828]\n",
      " [ 2.91955248 10.10229107 10.01382746]]\n",
      "Number of estimated clusters: 3\n"
     ]
    }
   ],
   "source": [
    "labels = ms.labels_\n",
    "cluster_centers = ms.cluster_centers_\n",
    "print(cluster_centers)\n",
    "n_clusters_ = len(np.unique(labels))\n",
    "print('Number of estimated clusters:', n_clusters_)"
   ]
  },
  {
   "cell_type": "markdown",
   "id": "e4a19de0",
   "metadata": {},
   "source": [
    "Центройды достаточно близки к настоящий центройдам [1,1,1] и т.д. Число кластеров выявлено верно"
   ]
  },
  {
   "cell_type": "code",
   "execution_count": 20,
   "id": "48ead76d",
   "metadata": {},
   "outputs": [],
   "source": [
    "#чтобы вращать 3D график\n",
    "#%matplotlib notebook"
   ]
  },
  {
   "cell_type": "code",
   "execution_count": 21,
   "id": "a21d850e",
   "metadata": {},
   "outputs": [
    {
     "data": {
      "image/png": "[encoded data removed]",
      "text/plain": [
       "<Figure size 432x288 with 1 Axes>"
      ]
     },
     "metadata": {
      "needs_background": "light"
     },
     "output_type": "display_data"
    }
   ],
   "source": [
    "colors = 10*[\"g\",\"r\",\"c\",\"y\"]\n",
    "fig = plt.figure()\n",
    "ax = fig.add_subplot(111, projection='3d')\n",
    "\n",
    "for i in range(len(X)):\n",
    "    ax.scatter(X[i][0], X[i][1], X[i][2], c=colors[labels[i]], marker='o') #рисуем сэпмлы датасета\n",
    "\n",
    "\n",
    "ax.scatter(cluster_centers[:, 0], cluster_centers[:, 1], cluster_centers[:, 2], #рисуем центройды\n",
    "          marker='x', color='k', s=150, linewidth=5, zorder=10) \n",
    "\n",
    "plt.show()"
   ]
  },
  {
   "cell_type": "code",
   "execution_count": 22,
   "id": "5852989c",
   "metadata": {},
   "outputs": [],
   "source": [
    "#чтобы выключить 3D график\n",
    "#%matplotlib inline  "
   ]
  },
  {
   "cell_type": "markdown",
   "id": "5f446ddd",
   "metadata": {},
   "source": [
    "## Titanik dataset на sklearn модели "
   ]
  },
  {
   "cell_type": "code",
   "execution_count": 23,
   "id": "a24809d8",
   "metadata": {},
   "outputs": [],
   "source": [
    "df = pd.read_excel('titanic.xls')\n",
    "original_df = pd.DataFrame.copy(df)\n",
    "df.drop(['body', 'name'], axis=1, inplace=True)\n",
    "df.fillna(0, inplace=True)\n",
    "## переведем строчные значения в численные\n",
    "\n",
    "def handle_non_numerical_data(df):\n",
    "    #название колонки и её индекс в датасете \n",
    "    columns = df.columns.values\n",
    "    \n",
    "    #для каждой колонки уникальные значение в ней\n",
    "    for column in columns:\n",
    "        text_digit_vals = {} #объявляем пустой словарь\n",
    "        #{'Female' : 0}\n",
    "        def convert_to_int(val):\n",
    "            return text_digit_vals[val]\n",
    "        \n",
    "        #если значения в колонке не числовые\n",
    "        if df[column].dtype != np.int64 and df[column].dtype != np.float64:\n",
    "            column_contents = df[column].values.tolist() #все значения переводятся в list\n",
    "            uninque_elements = set(column_contents) #уникальные значения в листе column_contents\n",
    "            x = 0\n",
    "            for unique in uninque_elements:\n",
    "                if unique not in text_digit_vals: #если значение не в словаре\n",
    "                    text_digit_vals[unique] = x\n",
    "                    x+=1\n",
    "                    \n",
    "            df[column] = list(map(convert_to_int, df[column]))\n",
    "              \n",
    "    return df\n",
    "\n",
    "df = handle_non_numerical_data(df)\n",
    "\n",
    "X = np.array(df.drop(['survived'], axis=1).astype(float))\n",
    "X = preprocessing.scale(X) #мастрабируем данные\n",
    "y = np.array(df['survived'])"
   ]
  },
  {
   "cell_type": "code",
   "execution_count": 24,
   "id": "86ee420e",
   "metadata": {},
   "outputs": [],
   "source": [
    "clf = MeanShift()\n",
    "clf.fit(X)\n",
    "\n",
    "#инициализируем атрибуты\n",
    "labels = clf.labels_\n",
    "cluster_centers =  clf.cluster_centers_\n",
    "n_clusters_ = len(np.unique(labels))\n",
    "\n",
    "original_df['cluster_group'] = labels"
   ]
  },
  {
   "cell_type": "markdown",
   "id": "df1d5f1b",
   "metadata": {},
   "source": [
    "В данном участке кода вся мощь данного алгоритма"
   ]
  },
  {
   "cell_type": "code",
   "execution_count": 25,
   "id": "3c9934f8",
   "metadata": {
    "scrolled": true
   },
   "outputs": [
    {
     "name": "stdout",
     "output_type": "stream",
     "text": [
      "{0: 0.3777416734362307, 1: 0.0, 2: 0.717948717948718, 3: 1.0, 4: 0.1}\n"
     ]
    }
   ],
   "source": [
    "survival_rates = {} #создаем словарь, который будет заполнен {группа : процент выживших}\n",
    "for i in range(n_clusters_):\n",
    "    temp_df = original_df[ (original_df['cluster_group']==i) ] #создаем датафрейм, где кластеризированная группа \n",
    "    #равняется индексу цикла, который ссылается на количество кластеров, а значит 0 индекс данного цикла равен\n",
    "    #кластеризированной группе. Проще говоря группа кластера = индексу цикла. \n",
    "    survival_cluster = temp_df[ (temp_df['survived']==1) ] #создаем датафрейм, где остались только выжившие \n",
    "    survival_rate = len(survival_cluster) / len(temp_df)\n",
    "    survival_rates[i] = survival_rate #заполняем словарь\n",
    "    \n",
    "print(survival_rates)"
   ]
  },
  {
   "cell_type": "markdown",
   "id": "56d27dd2",
   "metadata": {},
   "source": [
    "Посмотрим данные 1 группе, где процент выживших выше всего"
   ]
  },
  {
   "cell_type": "code",
   "execution_count": 26,
   "id": "78101ceb",
   "metadata": {},
   "outputs": [
    {
     "data": {
      "text/html": [
       "<div>\n",
       "<style scoped>\n",
       "    .dataframe tbody tr th:only-of-type {\n",
       "        vertical-align: middle;\n",
       "    }\n",
       "\n",
       "    .dataframe tbody tr th {\n",
       "        vertical-align: top;\n",
       "    }\n",
       "\n",
       "    .dataframe thead th {\n",
       "        text-align: right;\n",
       "    }\n",
       "</style>\n",
       "<table border=\"1\" class=\"dataframe\">\n",
       "  <thead>\n",
       "    <tr style=\"text-align: right;\">\n",
       "      <th></th>\n",
       "      <th>pclass</th>\n",
       "      <th>survived</th>\n",
       "      <th>name</th>\n",
       "      <th>sex</th>\n",
       "      <th>age</th>\n",
       "      <th>sibsp</th>\n",
       "      <th>parch</th>\n",
       "      <th>ticket</th>\n",
       "      <th>fare</th>\n",
       "      <th>cabin</th>\n",
       "      <th>embarked</th>\n",
       "      <th>boat</th>\n",
       "      <th>body</th>\n",
       "      <th>home.dest</th>\n",
       "      <th>cluster_group</th>\n",
       "    </tr>\n",
       "  </thead>\n",
       "  <tbody>\n",
       "    <tr>\n",
       "      <th>0</th>\n",
       "      <td>1</td>\n",
       "      <td>1</td>\n",
       "      <td>Allen, Miss. Elisabeth Walton</td>\n",
       "      <td>female</td>\n",
       "      <td>29.0</td>\n",
       "      <td>0</td>\n",
       "      <td>0</td>\n",
       "      <td>24160</td>\n",
       "      <td>211.3375</td>\n",
       "      <td>B5</td>\n",
       "      <td>S</td>\n",
       "      <td>2</td>\n",
       "      <td>NaN</td>\n",
       "      <td>St Louis, MO</td>\n",
       "      <td>0</td>\n",
       "    </tr>\n",
       "    <tr>\n",
       "      <th>5</th>\n",
       "      <td>1</td>\n",
       "      <td>1</td>\n",
       "      <td>Anderson, Mr. Harry</td>\n",
       "      <td>male</td>\n",
       "      <td>48.0</td>\n",
       "      <td>0</td>\n",
       "      <td>0</td>\n",
       "      <td>19952</td>\n",
       "      <td>26.5500</td>\n",
       "      <td>E12</td>\n",
       "      <td>S</td>\n",
       "      <td>3</td>\n",
       "      <td>NaN</td>\n",
       "      <td>New York, NY</td>\n",
       "      <td>0</td>\n",
       "    </tr>\n",
       "    <tr>\n",
       "      <th>6</th>\n",
       "      <td>1</td>\n",
       "      <td>1</td>\n",
       "      <td>Andrews, Miss. Kornelia Theodosia</td>\n",
       "      <td>female</td>\n",
       "      <td>63.0</td>\n",
       "      <td>1</td>\n",
       "      <td>0</td>\n",
       "      <td>13502</td>\n",
       "      <td>77.9583</td>\n",
       "      <td>D7</td>\n",
       "      <td>S</td>\n",
       "      <td>10</td>\n",
       "      <td>NaN</td>\n",
       "      <td>Hudson, NY</td>\n",
       "      <td>0</td>\n",
       "    </tr>\n",
       "    <tr>\n",
       "      <th>7</th>\n",
       "      <td>1</td>\n",
       "      <td>0</td>\n",
       "      <td>Andrews, Mr. Thomas Jr</td>\n",
       "      <td>male</td>\n",
       "      <td>39.0</td>\n",
       "      <td>0</td>\n",
       "      <td>0</td>\n",
       "      <td>112050</td>\n",
       "      <td>0.0000</td>\n",
       "      <td>A36</td>\n",
       "      <td>S</td>\n",
       "      <td>NaN</td>\n",
       "      <td>NaN</td>\n",
       "      <td>Belfast, NI</td>\n",
       "      <td>0</td>\n",
       "    </tr>\n",
       "    <tr>\n",
       "      <th>8</th>\n",
       "      <td>1</td>\n",
       "      <td>1</td>\n",
       "      <td>Appleton, Mrs. Edward Dale (Charlotte Lamson)</td>\n",
       "      <td>female</td>\n",
       "      <td>53.0</td>\n",
       "      <td>2</td>\n",
       "      <td>0</td>\n",
       "      <td>11769</td>\n",
       "      <td>51.4792</td>\n",
       "      <td>C101</td>\n",
       "      <td>S</td>\n",
       "      <td>D</td>\n",
       "      <td>NaN</td>\n",
       "      <td>Bayside, Queens, NY</td>\n",
       "      <td>0</td>\n",
       "    </tr>\n",
       "    <tr>\n",
       "      <th>...</th>\n",
       "      <td>...</td>\n",
       "      <td>...</td>\n",
       "      <td>...</td>\n",
       "      <td>...</td>\n",
       "      <td>...</td>\n",
       "      <td>...</td>\n",
       "      <td>...</td>\n",
       "      <td>...</td>\n",
       "      <td>...</td>\n",
       "      <td>...</td>\n",
       "      <td>...</td>\n",
       "      <td>...</td>\n",
       "      <td>...</td>\n",
       "      <td>...</td>\n",
       "      <td>...</td>\n",
       "    </tr>\n",
       "    <tr>\n",
       "      <th>1304</th>\n",
       "      <td>3</td>\n",
       "      <td>0</td>\n",
       "      <td>Zabour, Miss. Hileni</td>\n",
       "      <td>female</td>\n",
       "      <td>14.5</td>\n",
       "      <td>1</td>\n",
       "      <td>0</td>\n",
       "      <td>2665</td>\n",
       "      <td>14.4542</td>\n",
       "      <td>NaN</td>\n",
       "      <td>C</td>\n",
       "      <td>NaN</td>\n",
       "      <td>328.0</td>\n",
       "      <td>NaN</td>\n",
       "      <td>0</td>\n",
       "    </tr>\n",
       "    <tr>\n",
       "      <th>1305</th>\n",
       "      <td>3</td>\n",
       "      <td>0</td>\n",
       "      <td>Zabour, Miss. Thamine</td>\n",
       "      <td>female</td>\n",
       "      <td>NaN</td>\n",
       "      <td>1</td>\n",
       "      <td>0</td>\n",
       "      <td>2665</td>\n",
       "      <td>14.4542</td>\n",
       "      <td>NaN</td>\n",
       "      <td>C</td>\n",
       "      <td>NaN</td>\n",
       "      <td>NaN</td>\n",
       "      <td>NaN</td>\n",
       "      <td>0</td>\n",
       "    </tr>\n",
       "    <tr>\n",
       "      <th>1306</th>\n",
       "      <td>3</td>\n",
       "      <td>0</td>\n",
       "      <td>Zakarian, Mr. Mapriededer</td>\n",
       "      <td>male</td>\n",
       "      <td>26.5</td>\n",
       "      <td>0</td>\n",
       "      <td>0</td>\n",
       "      <td>2656</td>\n",
       "      <td>7.2250</td>\n",
       "      <td>NaN</td>\n",
       "      <td>C</td>\n",
       "      <td>NaN</td>\n",
       "      <td>304.0</td>\n",
       "      <td>NaN</td>\n",
       "      <td>0</td>\n",
       "    </tr>\n",
       "    <tr>\n",
       "      <th>1307</th>\n",
       "      <td>3</td>\n",
       "      <td>0</td>\n",
       "      <td>Zakarian, Mr. Ortin</td>\n",
       "      <td>male</td>\n",
       "      <td>27.0</td>\n",
       "      <td>0</td>\n",
       "      <td>0</td>\n",
       "      <td>2670</td>\n",
       "      <td>7.2250</td>\n",
       "      <td>NaN</td>\n",
       "      <td>C</td>\n",
       "      <td>NaN</td>\n",
       "      <td>NaN</td>\n",
       "      <td>NaN</td>\n",
       "      <td>0</td>\n",
       "    </tr>\n",
       "    <tr>\n",
       "      <th>1308</th>\n",
       "      <td>3</td>\n",
       "      <td>0</td>\n",
       "      <td>Zimmerman, Mr. Leo</td>\n",
       "      <td>male</td>\n",
       "      <td>29.0</td>\n",
       "      <td>0</td>\n",
       "      <td>0</td>\n",
       "      <td>315082</td>\n",
       "      <td>7.8750</td>\n",
       "      <td>NaN</td>\n",
       "      <td>S</td>\n",
       "      <td>NaN</td>\n",
       "      <td>NaN</td>\n",
       "      <td>NaN</td>\n",
       "      <td>0</td>\n",
       "    </tr>\n",
       "  </tbody>\n",
       "</table>\n",
       "<p>1231 rows × 15 columns</p>\n",
       "</div>"
      ],
      "text/plain": [
       "      pclass  survived                                           name     sex  \\\n",
       "0          1         1                  Allen, Miss. Elisabeth Walton  female   \n",
       "5          1         1                            Anderson, Mr. Harry    male   \n",
       "6          1         1              Andrews, Miss. Kornelia Theodosia  female   \n",
       "7          1         0                         Andrews, Mr. Thomas Jr    male   \n",
       "8          1         1  Appleton, Mrs. Edward Dale (Charlotte Lamson)  female   \n",
       "...      ...       ...                                            ...     ...   \n",
       "1304       3         0                           Zabour, Miss. Hileni  female   \n",
       "1305       3         0                          Zabour, Miss. Thamine  female   \n",
       "1306       3         0                      Zakarian, Mr. Mapriededer    male   \n",
       "1307       3         0                            Zakarian, Mr. Ortin    male   \n",
       "1308       3         0                             Zimmerman, Mr. Leo    male   \n",
       "\n",
       "       age  sibsp  parch  ticket      fare cabin embarked boat   body  \\\n",
       "0     29.0      0      0   24160  211.3375    B5        S    2    NaN   \n",
       "5     48.0      0      0   19952   26.5500   E12        S    3    NaN   \n",
       "6     63.0      1      0   13502   77.9583    D7        S   10    NaN   \n",
       "7     39.0      0      0  112050    0.0000   A36        S  NaN    NaN   \n",
       "8     53.0      2      0   11769   51.4792  C101        S    D    NaN   \n",
       "...    ...    ...    ...     ...       ...   ...      ...  ...    ...   \n",
       "1304  14.5      1      0    2665   14.4542   NaN        C  NaN  328.0   \n",
       "1305   NaN      1      0    2665   14.4542   NaN        C  NaN    NaN   \n",
       "1306  26.5      0      0    2656    7.2250   NaN        C  NaN  304.0   \n",
       "1307  27.0      0      0    2670    7.2250   NaN        C  NaN    NaN   \n",
       "1308  29.0      0      0  315082    7.8750   NaN        S  NaN    NaN   \n",
       "\n",
       "                home.dest  cluster_group  \n",
       "0            St Louis, MO              0  \n",
       "5            New York, NY              0  \n",
       "6              Hudson, NY              0  \n",
       "7             Belfast, NI              0  \n",
       "8     Bayside, Queens, NY              0  \n",
       "...                   ...            ...  \n",
       "1304                  NaN              0  \n",
       "1305                  NaN              0  \n",
       "1306                  NaN              0  \n",
       "1307                  NaN              0  \n",
       "1308                  NaN              0  \n",
       "\n",
       "[1231 rows x 15 columns]"
      ]
     },
     "execution_count": 26,
     "metadata": {},
     "output_type": "execute_result"
    }
   ],
   "source": [
    "original_df[ (original_df['cluster_group'] == 0) ]"
   ]
  },
  {
   "cell_type": "markdown",
   "id": "d22b73ea",
   "metadata": {},
   "source": [
    "## MeanShift from Scratch"
   ]
  },
  {
   "cell_type": "markdown",
   "id": "a9b22471",
   "metadata": {},
   "source": [
    "Создадим данные и посмотрим на них"
   ]
  },
  {
   "cell_type": "code",
   "execution_count": 27,
   "id": "1dc9d83e",
   "metadata": {},
   "outputs": [
    {
     "data": {
      "image/png": "[encoded data removed]",
      "text/plain": [
       "<Figure size 432x288 with 1 Axes>"
      ]
     },
     "metadata": {
      "needs_background": "light"
     },
     "output_type": "display_data"
    }
   ],
   "source": [
    "X = np.array([[1, 2],\n",
    "              [1.5, 1.8],\n",
    "              [5, 8],\n",
    "              [8, 8],\n",
    "              [1, 0.6],\n",
    "              [9, 11],\n",
    "             [8, 2],\n",
    "             [10, 2],\n",
    "             [9,3],])\n",
    "\n",
    "\n",
    "plt.scatter(X[:, 0],X[:, 1], s=150, linewidths = 5, zorder = 10)\n",
    "plt.show()\n",
    "\n",
    "colors = 10*[\"g\",\"r\",\"c\",\"b\" ,\"k\"]"
   ]
  },
  {
   "cell_type": "code",
   "execution_count": 28,
   "id": "70db331e",
   "metadata": {},
   "outputs": [],
   "source": [
    "class MeanShift:\n",
    "    def __init__(self, radius=4):\n",
    "        self.radius = radius\n",
    "        \n",
    "    def fit(self, data):\n",
    "        centroids = {} #словарь, который будем заполняется новыми центройдами\n",
    "        \n",
    "        for i in range(len(data)):  \n",
    "            centroids[i] = data[i] #заполняем словарь {i : data[i]}\n",
    "        \n",
    "        while True:\n",
    "            new_centroids = [] #каждый раз, когда будем находить новый центройд, то будет заполянть его в лист\n",
    "            \n",
    "            #цикл через все центройды, которые у нас есть (то есть через все точки)\n",
    "            for i in centroids:\n",
    "                in_bandwidth = [] #заполняем его признаками всех сэмплов, которые лежат в радиусе (in bandwidth)\n",
    "                centroid = centroids[i] #берем значение из словаря centroids\n",
    "                #далее цикл, который проверяет находятся ли признаки в радиусе данного центройда\n",
    "                for featureset in data:\n",
    "                    #если расстояние от точки до центройда меньше радиуса\n",
    "                    if np.linalg.norm(featureset-centroid) < self.radius:\n",
    "                        in_bandwidth.append(featureset) #если оно меньше радиуса, то добавляем его в лист band_width\n",
    "                        \n",
    "                #находим среднее данного центройда centroid[i] \n",
    "                new_centroid = np.average(in_bandwidth, axis=0)\n",
    "                #добавляем \n",
    "                new_centroids.append(tuple(new_centroid))\n",
    "                #конвертировали в tuples, т.к. нам нужно получить set из tuplse\n",
    "            \n",
    "            #получем уникальные центройды из листа new_centroids\n",
    "            #set - это уникальные элементы. Здесь у нас уникальные tuples и из них мы создаем лист\n",
    "            #нам нужны только уникальные значения центройдов, потому что точки в конвергенции имеют одинаковые положения\n",
    "            #на плоскости, но нам не нужны одинаковые центройды.\n",
    "            uniques = sorted(list(set(new_centroids)))\n",
    "            \n",
    "            prev_centroids = dict(centroids) #копируем словарь\n",
    "            \n",
    "            centroids = {}\n",
    "            #создаем словарь на основе uniques, который теперь сортирован (для отслеживания движения точки)\n",
    "            for i in range(len(uniques)):\n",
    "                #заполняем словарь {i = [unique[i]]}\n",
    "                centroids[i] = np.array(uniques[i])\n",
    "                \n",
    "            optimized = True #так же проверяем точки на наличие движений\n",
    "            \n",
    "            #если мы находим, что один из центройдо в centroids и prev_centroid двинулся (arrays[i] не равны), то оптимизируем\n",
    "            #дальше (останавливаем цикл и идем заново)\n",
    "            for i in centroids:\n",
    "                if not np.array_equal(centroids[i], prev_centroids[i]): #проверяем идентичны для два array\n",
    "                    optimized = False\n",
    "                if not optimized:\n",
    "                        break\n",
    "            #если оптимизировано, то заканчиваем цикл          \n",
    "            if optimized:\n",
    "                break\n",
    "                \n",
    "        self.centroids = centroids\n",
    "        \n",
    "    def predict(self, data):\n",
    "        pass"
   ]
  },
  {
   "cell_type": "code",
   "execution_count": 29,
   "id": "1ecd3966",
   "metadata": {},
   "outputs": [
    {
     "data": {
      "image/png": "[encoded data removed]",
      "text/plain": [
       "<Figure size 432x288 with 1 Axes>"
      ]
     },
     "metadata": {
      "needs_background": "light"
     },
     "output_type": "display_data"
    }
   ],
   "source": [
    "clf = MeanShift()\n",
    "clf.fit(X)\n",
    "\n",
    "centroids = clf.centroids \n",
    "\n",
    "plt.scatter(X[:, 0],X[:, 1])\n",
    "\n",
    "for c in centroids:\n",
    "    plt.scatter(centroids[c][0], centroids[c][1], color='k', marker='*')\n",
    "\n",
    "plt.show()\n",
    "#звезды - центройды\n",
    "#красным сэмплы"
   ]
  },
  {
   "cell_type": "markdown",
   "id": "44ee6065",
   "metadata": {},
   "source": [
    "Данный вид кода был представлен с радиусом, который мы могли изменить, но что, если мы не можем так просто рассчитать какой радиус нам нужен. К примеру, когда мы имеем 30 измерений в данных. Таким образом мы должны сделать код более динамичным. Мы возьмем изначально большой радиус и будем искать внутри него точки и чем дальше точки, тем меньше будет для них значение веса. "
   ]
  },
  {
   "cell_type": "markdown",
   "id": "5eab159f",
   "metadata": {},
   "source": [
    "## Динамическая модель Mean Shift"
   ]
  },
  {
   "cell_type": "code",
   "execution_count": 46,
   "id": "cd46766a",
   "metadata": {},
   "outputs": [],
   "source": [
    "class MeanShift:\n",
    "    def __init__(self, radius=None, radius_norm_step = 100):\n",
    "        self.radius = radius\n",
    "        self.radius_norm_step = radius_norm_step\n",
    "        \n",
    "    def fit(self, data):\n",
    "        \n",
    "        if self.radius == None: #если пользователь не определит радиус, то\n",
    "            all_data_centroid = np.average(data, axis=0) #находим среднее всех точек (центр для всех точек)\n",
    "            all_data_norm = np.linalg.norm(all_data_centroid) #находим величину вектора (чтобы знать в каком радиусе искать все точки)\n",
    "            self.radius = all_data_norm / self.radius_norm_step #создаем радиус. Здесь один шаг из ста от вектора all_data_norm\n",
    "\n",
    "        \n",
    "        centroids = {}#словарь, который будем заполняется новыми центройдами\n",
    "        \n",
    "        for i in range(len(data)):\n",
    "            centroids[i] = data[i] #заполняем словарь {i : data[i]}\n",
    "            \n",
    "        weights = [i for i in range(self.radius_norm_step)][::-1] #введем вес (пр. от 0 до 99)\n",
    "            #[::-1] - переворачиваем порядок листа (теперь это 99, 98, ..., 0)\n",
    "        \n",
    "        while True:\n",
    "            new_centroids = [] #каждый раз, когда будем находить новый центройд, то будем заполянть его в лист\n",
    "            \n",
    "            #цикл через все центройды, которые у нас есть (то есть через все точки)\n",
    "            for i in centroids:\n",
    "                in_bandwidth = [] #заполняем его признаками всех сэмплов, которые лежат в радиусе центройда i (in bandwidth)\n",
    "                centroid = centroids[i] #берем значение из словаря centroids\n",
    "                \n",
    "                #далее цикл, который проверяет находятся ли признаки в радиусе данного центройда\n",
    "                for featureset in data: #для каждого сэмпла в данных\n",
    "                    distance = np.linalg.norm(featureset - centroid) #расстояние от сэпмла до центройда\n",
    "                    if distance == 0: #для случай, когда сэмпл-центройд сравнивается сам с собой\n",
    "                        distance = 0.000000001 #чтобы дальше мы могли делить не 0, а очень маленькое число\n",
    "                        \n",
    "                    weight_index = int(distance/self.radius) #радиус определили выше в начале перед ицклом\n",
    "                    #проще говоря - это то, сколько шагов радиуса включает в себя расстояние и чем больше мы получили шагов,\n",
    "                    #тем меньше мы хотим, чтобы было значение веса. Пр. если weight_index = 0, то значение веса будет 99.\n",
    "                    #99, т.к. у нас всего 100 шагов радиуса (от 0 до 99). \n",
    "                    #int, чтобы было взято точное число для индекса\n",
    "                    if weight_index > self.radius_norm_step - 1: #если индек веса больше 100 (так определили переменную в начале)\n",
    "                        # - 1, т.к. у нас индекс от 0 до 99\n",
    "                        #если weight_index > 99, то (если weight_index больше, чем на 100 шагов)\n",
    "                        #weight_index = 99\n",
    "                        #Итак, почему 99? Потому что weight отсортирован в обратном порядке. 99 - индекс - это 0 вес (самый мелкий)\n",
    "                        weight_index = self.radius_norm_step - 1 \n",
    "                        \n",
    "                    #лист весы[индекс веса]**2. если индекс 0, то вес 99. Вес возводим во вторую степень и умножаем на признаки   \n",
    "                    to_add = (weights[weight_index]**2)*[featureset] #умножаем вес на сэмпл, чтобы придать сэпмлу вес по\n",
    "                    #отношению к центройду\n",
    "                    in_bandwidth += to_add \n",
    "                #для каждого центройда в цикле мы находим веса для окружающих его сэмплов. Сэмплам придаем вес и добавляем их в лист\n",
    "                #in_bandwidth, чтобы понять насколько далеко сэмпл от центройда\n",
    "                    \n",
    "                        \n",
    "                #находим среднее всех сэмплов для данного центройда centroid[i] \n",
    "                new_centroid = np.average(in_bandwidth, axis=0)\n",
    "                #добавляем в лист \n",
    "                new_centroids.append(tuple(new_centroid))\n",
    "                #конвертировали в tuples, т.к. нам нужно получить set из tuplse\n",
    "                #таким образом мы полуячаем новый центройд\n",
    "            \n",
    "            #получем уникальные центройды из листа new_centroids\n",
    "            #set - это уникальные элементы. Здесь у нас уникальные tuples и из них мы создаем лист\n",
    "            #нам нужны только уникальные значения центройдов, потому что точки в конвергенции имеют одинаковые положения\n",
    "            #на плоскости, но нам не нужны одинаковые центройды.\n",
    "            uniques = sorted(list(set(new_centroids)))\n",
    "            \n",
    "            \n",
    "            to_pop = []\n",
    "            \n",
    "#             for i in uniques:\n",
    "#                 for ii in uniques:\n",
    "#                     if i == ii: #если одна и та же точка, то просто пропускаем\n",
    "#                         pass \n",
    "#                     #нам не нужны одни и теже точки, которы буквально находятся очень близко друг с другом\n",
    "#                     #если дистанция между точками меньше радиуса, то точки будут одним центройдом и мы удаляем точку ii\n",
    "#                     #т.к. если расстояние между ними очень маленькое, то оно нам вообще не нужно. \n",
    "#                     elif np.linalg.norm(np.array(i) - np.array(ii)) <= self.radius:\n",
    "#                         to_pop.append(ii) #удаляем таким способом, так как мы не можем изменять лист в цикле\n",
    "#                         break\n",
    "             \n",
    "#             #удаляем ненужные точки\n",
    "#             for i in to_pop:\n",
    "#                 try:\n",
    "#                     uniques.remove[i]\n",
    "#                 except:\n",
    "#                     pass\n",
    "                        \n",
    "            #другая версия кода, которая сработала лучше\n",
    "            for i in uniques:\n",
    "                if i in to_pop:\n",
    "                      pass ## we're not inspecting centroids in radius of i since i will be popped\n",
    "                for ii in uniques:\n",
    "                    if i == ii:\n",
    "                        pass\n",
    "                    elif np.linalg.norm(np.array(i)-np.array(ii)) <= self.radius and ii not in to_pop: ##skipping already-added centroids\n",
    "                        to_pop.append(ii)\n",
    "\n",
    "            for i in to_pop:\n",
    "                uniques.remove(i)\n",
    "            \n",
    "                        \n",
    "            \n",
    "            prev_centroids = dict(centroids) #копируем словарь для сравнения\n",
    "            \n",
    "            centroids = {} #словарь с новыми центройдами из uniques\n",
    "            #создаем словарь на основе uniques, который теперь сортирован (для отслеживания движения точки)\n",
    "            for i in range(len(uniques)):\n",
    "                #заполняем словарь {i = [unique[i]]}\n",
    "                centroids[i] = np.array(uniques[i])\n",
    "                \n",
    "            optimized = True #так же проверяем точки на наличие движений\n",
    "            \n",
    "            #если мы находим, что один из центройдо в centroids и prev_centroid двинулся (arrays[i] не равны), то оптимизируем\n",
    "            #дальше (останавливаем цикл и идем заново)\n",
    "            for i in centroids:\n",
    "                if not np.array_equal(centroids[i], prev_centroids[i]): #проверяем идентичны для два array\n",
    "                    optimized = False\n",
    "                if not optimized: #прерываем, т.к. понимаем, что не нужно смотреть дальше уже точки, если хотя бы одна не равна\n",
    "                        break\n",
    "            #если оптимизировано, то заканчиваем цикл          \n",
    "            if optimized:\n",
    "                break\n",
    "                \n",
    "        #берем наши оптимизированные центройды\n",
    "        self.centroids = centroids\n",
    "        \n",
    "        #перейдем к классификации\n",
    "        self.classifications = {}\n",
    "        \n",
    "        for i in range(len(self.centroids)):\n",
    "            self.classifications[i] = [] #ключ - значение центройда, значение ключа - признак сэмпла\n",
    "            \n",
    "        for featureset in data:\n",
    "            #вычисляем расстояние от сэмпла до каждого центройда\n",
    "            distances = [np.linalg.norm(featureset - self.centroids[centroid]) for centroid in self.centroids] \n",
    "            #берем индекс минимальной дистанции\n",
    "            classification = distances.index(min(distances)) #получаем индекс до какого центройда минимальное расстояние\n",
    "            #добавляем в словарь в значения ключа (ключ отвечает за класс) признаки сэмпла \n",
    "            self.classifications[classification].append(featureset)\n",
    "            \n",
    "            \n",
    "    def predict(self, data):\n",
    "        #вычисляем расстояние от сэмпла до каждого центройда\n",
    "        distances = [np.linalg.norm(featureset - self.centroids[centroid]) for centroid in self.centroids] \n",
    "        #берем индекс минимальной дистанции\n",
    "        classification = distances.index(min(distances))\n",
    "        return classification"
   ]
  },
  {
   "cell_type": "code",
   "execution_count": 47,
   "id": "81a5b2a7",
   "metadata": {},
   "outputs": [
    {
     "name": "stdout",
     "output_type": "stream",
     "text": [
      "{0: array([-2.68877927,  6.57614069]), 1: array([ 7.44941371, -2.9239597 ])}\n",
      "\n",
      "{0: [array([-2.91835004,  5.61771068]), array([-2.68948592,  6.66121918]), array([-3.12005967,  7.15648068]), array([-2.37040168,  6.63854615]), array([-0.40669602,  5.79503248])], 1: [array([ 6.11642737, -1.07115448]), array([ 7.07754959, -4.55229487]), array([ 8.42240918, -2.32993904]), array([ 7.11346805, -2.86214043]), array([ 7.49697561, -2.99014828])]}\n"
     ]
    },
    {
     "data": {
      "image/png": "[encoded data removed]",
      "text/plain": [
       "<Figure size 432x288 with 1 Axes>"
      ]
     },
     "metadata": {
      "needs_background": "light"
     },
     "output_type": "display_data"
    }
   ],
   "source": [
    "clf = MeanShift()\n",
    "clf.fit(X)\n",
    "\n",
    "centroids = clf.centroids\n",
    "print(centroids)\n",
    "print()\n",
    "print(clf.classifications)\n",
    "\n",
    "colors = 10*['r','g','b','c','k','y']\n",
    "\n",
    "#для классификаций в датасете\n",
    "for classification in clf.classifications:\n",
    "    color = colors[classification]\n",
    "    for featureset in clf.classifications[classification]:\n",
    "        plt.scatter(featureset[0],featureset[1], marker = \"x\", color=color, s=150, linewidths = 5, zorder = 10)\n",
    "\n",
    "#для центройдов\n",
    "for c in centroids:\n",
    "    plt.scatter(centroids[c][0],centroids[c][1], color='k', marker = \"*\", s=20, linewidths = 5)\n",
    "\n",
    "plt.show()"
   ]
  },
  {
   "cell_type": "code",
   "execution_count": 44,
   "id": "027ee216",
   "metadata": {},
   "outputs": [],
   "source": [
    "X, y = make_blobs(n_samples=10, centers=random.randrange(2,4), n_features=2)"
   ]
  },
  {
   "cell_type": "code",
   "execution_count": 45,
   "id": "320a176d",
   "metadata": {},
   "outputs": [
    {
     "name": "stdout",
     "output_type": "stream",
     "text": [
      "{0: array([-2.68877927,  6.57614069]), 1: array([ 7.44941371, -2.9239597 ])}\n",
      "\n",
      "{0: [array([-2.91835004,  5.61771068]), array([-2.68948592,  6.66121918]), array([-3.12005967,  7.15648068]), array([-2.37040168,  6.63854615]), array([-0.40669602,  5.79503248])], 1: [array([ 6.11642737, -1.07115448]), array([ 7.07754959, -4.55229487]), array([ 8.42240918, -2.32993904]), array([ 7.11346805, -2.86214043]), array([ 7.49697561, -2.99014828])]}\n"
     ]
    },
    {
     "data": {
      "image/png": "[encoded data removed]",
      "text/plain": [
       "<Figure size 432x288 with 1 Axes>"
      ]
     },
     "metadata": {
      "needs_background": "light"
     },
     "output_type": "display_data"
    }
   ],
   "source": [
    "clf = MeanShift()\n",
    "clf.fit(X)\n",
    "\n",
    "centroids = clf.centroids\n",
    "print(centroids)\n",
    "print()\n",
    "print(clf.classifications)\n",
    "\n",
    "colors = 10*['r','g','b','c','k','y']\n",
    "\n",
    "#для классификаций в датасете\n",
    "for classification in clf.classifications:\n",
    "    color = colors[classification]\n",
    "    for featureset in clf.classifications[classification]:\n",
    "        plt.scatter(featureset[0],featureset[1], marker = \"x\", color=color, s=150, linewidths = 5, zorder = 10)\n",
    "\n",
    "#для центройдов\n",
    "for c in centroids:\n",
    "    plt.scatter(centroids[c][0],centroids[c][1], color='k', marker = \"*\", s=20, linewidths = 5)\n",
    "\n",
    "plt.show()"
   ]
  },
  {
   "cell_type": "code",
   "execution_count": null,
   "id": "cc507273",
   "metadata": {},
   "outputs": [],
   "source": []
  }
 ],
 "metadata": {
  "kernelspec": {
   "display_name": "Python 3 (ipykernel)",
   "language": "python",
   "name": "python3"
  },
  "language_info": {
   "codemirror_mode": {
    "name": "ipython",
    "version": 3
   },
   "file_extension": ".py",
   "mimetype": "text/x-python",
   "name": "python",
   "nbconvert_exporter": "python",
   "pygments_lexer": "ipython3",
   "version": "3.9.7"
  },
  "toc": {
   "base_numbering": 1,
   "nav_menu": {},
   "number_sections": true,
   "sideBar": true,
   "skip_h1_title": false,
   "title_cell": "Table of Contents",
   "title_sidebar": "Contents",
   "toc_cell": false,
   "toc_position": {},
   "toc_section_display": true,
   "toc_window_display": false
  }
 },
 "nbformat": 4,
 "nbformat_minor": 5
}
