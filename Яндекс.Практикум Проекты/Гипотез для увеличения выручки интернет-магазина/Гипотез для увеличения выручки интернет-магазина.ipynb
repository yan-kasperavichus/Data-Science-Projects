{
 "cells": [
  {
   "cell_type": "markdown",
   "metadata": {},
   "source": [
    "## Введение"
   ]
  },
  {
   "cell_type": "markdown",
   "metadata": {},
   "source": [
    "Описание проекта\n",
    "Контекст\n",
    "Вы — аналитик крупного интернет-магазина. Вместе с отделом маркетинга вы подготовили список гипотез для увеличения выручки.\n",
    "Приоритизируйте гипотезы, запустите A/B-тест и проанализируйте результаты."
   ]
  },
  {
   "cell_type": "markdown",
   "metadata": {},
   "source": [
    "## Шаг Первый: загрузка данных и подготовка к анализу"
   ]
  },
  {
   "cell_type": "markdown",
   "metadata": {},
   "source": [
    "- Для начала загрузим нужные нам библиотеки:"
   ]
  },
  {
   "cell_type": "code",
   "execution_count": 1,
   "metadata": {},
   "outputs": [],
   "source": [
    "import pandas as pd\n",
    "import matplotlib.pyplot as plt\n",
    "import numpy as np\n",
    "import datetime as dt\n",
    "from scipy import stats as st\n",
    "import scipy.stats as stats\n",
    "pd.set_option('display.max_columns', None)\n",
    "pd.set_option('display.max_colwidth', None)"
   ]
  },
  {
   "cell_type": "markdown",
   "metadata": {},
   "source": [
    "- Загрузим датасеты:"
   ]
  },
  {
   "cell_type": "code",
   "execution_count": 2,
   "metadata": {},
   "outputs": [],
   "source": [
    "hypothesis = pd.read_csv('/datasets/hypothesis.csv')\n",
    "visitors = pd.read_csv('/datasets/visitors.csv')\n",
    "orders = pd.read_csv('/datasets/orders.csv')"
   ]
  },
  {
   "cell_type": "markdown",
   "metadata": {},
   "source": [
    "### Таблица с гипотезами"
   ]
  },
  {
   "cell_type": "code",
   "execution_count": 3,
   "metadata": {},
   "outputs": [
    {
     "data": {
      "text/html": [
       "<div>\n",
       "<style scoped>\n",
       "    .dataframe tbody tr th:only-of-type {\n",
       "        vertical-align: middle;\n",
       "    }\n",
       "\n",
       "    .dataframe tbody tr th {\n",
       "        vertical-align: top;\n",
       "    }\n",
       "\n",
       "    .dataframe thead th {\n",
       "        text-align: right;\n",
       "    }\n",
       "</style>\n",
       "<table border=\"1\" class=\"dataframe\">\n",
       "  <thead>\n",
       "    <tr style=\"text-align: right;\">\n",
       "      <th></th>\n",
       "      <th>Hypothesis</th>\n",
       "      <th>Reach</th>\n",
       "      <th>Impact</th>\n",
       "      <th>Confidence</th>\n",
       "      <th>Efforts</th>\n",
       "    </tr>\n",
       "  </thead>\n",
       "  <tbody>\n",
       "    <tr>\n",
       "      <th>0</th>\n",
       "      <td>Добавить два новых канала привлечения трафика, что позволит привлекать на 30% больше пользователей</td>\n",
       "      <td>3</td>\n",
       "      <td>10</td>\n",
       "      <td>8</td>\n",
       "      <td>6</td>\n",
       "    </tr>\n",
       "    <tr>\n",
       "      <th>1</th>\n",
       "      <td>Запустить собственную службу доставки, что сократит срок доставки заказов</td>\n",
       "      <td>2</td>\n",
       "      <td>5</td>\n",
       "      <td>4</td>\n",
       "      <td>10</td>\n",
       "    </tr>\n",
       "    <tr>\n",
       "      <th>2</th>\n",
       "      <td>Добавить блоки рекомендаций товаров на сайт интернет магазина, чтобы повысить конверсию и средний чек заказа</td>\n",
       "      <td>8</td>\n",
       "      <td>3</td>\n",
       "      <td>7</td>\n",
       "      <td>3</td>\n",
       "    </tr>\n",
       "    <tr>\n",
       "      <th>3</th>\n",
       "      <td>Изменить структура категорий, что увеличит конверсию, т.к. пользователи быстрее найдут нужный товар</td>\n",
       "      <td>8</td>\n",
       "      <td>3</td>\n",
       "      <td>3</td>\n",
       "      <td>8</td>\n",
       "    </tr>\n",
       "    <tr>\n",
       "      <th>4</th>\n",
       "      <td>Изменить цвет фона главной страницы, чтобы увеличить вовлеченность пользователей</td>\n",
       "      <td>3</td>\n",
       "      <td>1</td>\n",
       "      <td>1</td>\n",
       "      <td>1</td>\n",
       "    </tr>\n",
       "  </tbody>\n",
       "</table>\n",
       "</div>"
      ],
      "text/plain": [
       "                                                                                                     Hypothesis  \\\n",
       "0            Добавить два новых канала привлечения трафика, что позволит привлекать на 30% больше пользователей   \n",
       "1                                     Запустить собственную службу доставки, что сократит срок доставки заказов   \n",
       "2  Добавить блоки рекомендаций товаров на сайт интернет магазина, чтобы повысить конверсию и средний чек заказа   \n",
       "3           Изменить структура категорий, что увеличит конверсию, т.к. пользователи быстрее найдут нужный товар   \n",
       "4                              Изменить цвет фона главной страницы, чтобы увеличить вовлеченность пользователей   \n",
       "\n",
       "   Reach  Impact  Confidence  Efforts  \n",
       "0      3      10           8        6  \n",
       "1      2       5           4       10  \n",
       "2      8       3           7        3  \n",
       "3      8       3           3        8  \n",
       "4      3       1           1        1  "
      ]
     },
     "execution_count": 3,
     "metadata": {},
     "output_type": "execute_result"
    }
   ],
   "source": [
    "hypothesis.head(5)"
   ]
  },
  {
   "cell_type": "code",
   "execution_count": 4,
   "metadata": {},
   "outputs": [
    {
     "name": "stdout",
     "output_type": "stream",
     "text": [
      "<class 'pandas.core.frame.DataFrame'>\n",
      "RangeIndex: 9 entries, 0 to 8\n",
      "Data columns (total 5 columns):\n",
      " #   Column      Non-Null Count  Dtype \n",
      "---  ------      --------------  ----- \n",
      " 0   Hypothesis  9 non-null      object\n",
      " 1   Reach       9 non-null      int64 \n",
      " 2   Impact      9 non-null      int64 \n",
      " 3   Confidence  9 non-null      int64 \n",
      " 4   Efforts     9 non-null      int64 \n",
      "dtypes: int64(4), object(1)\n",
      "memory usage: 488.0+ bytes\n"
     ]
    }
   ],
   "source": [
    "hypothesis.info()"
   ]
  },
  {
   "cell_type": "markdown",
   "metadata": {},
   "source": [
    "### Таблица с визитами"
   ]
  },
  {
   "cell_type": "code",
   "execution_count": 5,
   "metadata": {},
   "outputs": [
    {
     "data": {
      "text/html": [
       "<div>\n",
       "<style scoped>\n",
       "    .dataframe tbody tr th:only-of-type {\n",
       "        vertical-align: middle;\n",
       "    }\n",
       "\n",
       "    .dataframe tbody tr th {\n",
       "        vertical-align: top;\n",
       "    }\n",
       "\n",
       "    .dataframe thead th {\n",
       "        text-align: right;\n",
       "    }\n",
       "</style>\n",
       "<table border=\"1\" class=\"dataframe\">\n",
       "  <thead>\n",
       "    <tr style=\"text-align: right;\">\n",
       "      <th></th>\n",
       "      <th>date</th>\n",
       "      <th>group</th>\n",
       "      <th>visitors</th>\n",
       "    </tr>\n",
       "  </thead>\n",
       "  <tbody>\n",
       "    <tr>\n",
       "      <th>0</th>\n",
       "      <td>2019-08-01</td>\n",
       "      <td>A</td>\n",
       "      <td>719</td>\n",
       "    </tr>\n",
       "    <tr>\n",
       "      <th>1</th>\n",
       "      <td>2019-08-02</td>\n",
       "      <td>A</td>\n",
       "      <td>619</td>\n",
       "    </tr>\n",
       "    <tr>\n",
       "      <th>2</th>\n",
       "      <td>2019-08-03</td>\n",
       "      <td>A</td>\n",
       "      <td>507</td>\n",
       "    </tr>\n",
       "    <tr>\n",
       "      <th>3</th>\n",
       "      <td>2019-08-04</td>\n",
       "      <td>A</td>\n",
       "      <td>717</td>\n",
       "    </tr>\n",
       "    <tr>\n",
       "      <th>4</th>\n",
       "      <td>2019-08-05</td>\n",
       "      <td>A</td>\n",
       "      <td>756</td>\n",
       "    </tr>\n",
       "  </tbody>\n",
       "</table>\n",
       "</div>"
      ],
      "text/plain": [
       "         date group  visitors\n",
       "0  2019-08-01     A       719\n",
       "1  2019-08-02     A       619\n",
       "2  2019-08-03     A       507\n",
       "3  2019-08-04     A       717\n",
       "4  2019-08-05     A       756"
      ]
     },
     "execution_count": 5,
     "metadata": {},
     "output_type": "execute_result"
    }
   ],
   "source": [
    "visitors.head()"
   ]
  },
  {
   "cell_type": "code",
   "execution_count": 6,
   "metadata": {},
   "outputs": [
    {
     "name": "stdout",
     "output_type": "stream",
     "text": [
      "<class 'pandas.core.frame.DataFrame'>\n",
      "RangeIndex: 62 entries, 0 to 61\n",
      "Data columns (total 3 columns):\n",
      " #   Column    Non-Null Count  Dtype \n",
      "---  ------    --------------  ----- \n",
      " 0   date      62 non-null     object\n",
      " 1   group     62 non-null     object\n",
      " 2   visitors  62 non-null     int64 \n",
      "dtypes: int64(1), object(2)\n",
      "memory usage: 1.6+ KB\n"
     ]
    }
   ],
   "source": [
    "visitors.info()"
   ]
  },
  {
   "cell_type": "markdown",
   "metadata": {},
   "source": [
    "Измени тип данных date"
   ]
  },
  {
   "cell_type": "code",
   "execution_count": 7,
   "metadata": {},
   "outputs": [],
   "source": [
    "visitors['date'] = visitors['date'].map(\n",
    "    lambda x: dt.datetime.strptime(x, '%Y-%m-%d')\n",
    ")"
   ]
  },
  {
   "cell_type": "markdown",
   "metadata": {},
   "source": [
    "### Таблица с заказами"
   ]
  },
  {
   "cell_type": "code",
   "execution_count": 8,
   "metadata": {},
   "outputs": [
    {
     "data": {
      "text/html": [
       "<div>\n",
       "<style scoped>\n",
       "    .dataframe tbody tr th:only-of-type {\n",
       "        vertical-align: middle;\n",
       "    }\n",
       "\n",
       "    .dataframe tbody tr th {\n",
       "        vertical-align: top;\n",
       "    }\n",
       "\n",
       "    .dataframe thead th {\n",
       "        text-align: right;\n",
       "    }\n",
       "</style>\n",
       "<table border=\"1\" class=\"dataframe\">\n",
       "  <thead>\n",
       "    <tr style=\"text-align: right;\">\n",
       "      <th></th>\n",
       "      <th>transactionId</th>\n",
       "      <th>visitorId</th>\n",
       "      <th>date</th>\n",
       "      <th>revenue</th>\n",
       "      <th>group</th>\n",
       "    </tr>\n",
       "  </thead>\n",
       "  <tbody>\n",
       "    <tr>\n",
       "      <th>0</th>\n",
       "      <td>3667963787</td>\n",
       "      <td>3312258926</td>\n",
       "      <td>2019-08-15</td>\n",
       "      <td>1650</td>\n",
       "      <td>B</td>\n",
       "    </tr>\n",
       "    <tr>\n",
       "      <th>1</th>\n",
       "      <td>2804400009</td>\n",
       "      <td>3642806036</td>\n",
       "      <td>2019-08-15</td>\n",
       "      <td>730</td>\n",
       "      <td>B</td>\n",
       "    </tr>\n",
       "    <tr>\n",
       "      <th>2</th>\n",
       "      <td>2961555356</td>\n",
       "      <td>4069496402</td>\n",
       "      <td>2019-08-15</td>\n",
       "      <td>400</td>\n",
       "      <td>A</td>\n",
       "    </tr>\n",
       "    <tr>\n",
       "      <th>3</th>\n",
       "      <td>3797467345</td>\n",
       "      <td>1196621759</td>\n",
       "      <td>2019-08-15</td>\n",
       "      <td>9759</td>\n",
       "      <td>B</td>\n",
       "    </tr>\n",
       "    <tr>\n",
       "      <th>4</th>\n",
       "      <td>2282983706</td>\n",
       "      <td>2322279887</td>\n",
       "      <td>2019-08-15</td>\n",
       "      <td>2308</td>\n",
       "      <td>B</td>\n",
       "    </tr>\n",
       "  </tbody>\n",
       "</table>\n",
       "</div>"
      ],
      "text/plain": [
       "   transactionId   visitorId        date  revenue group\n",
       "0     3667963787  3312258926  2019-08-15     1650     B\n",
       "1     2804400009  3642806036  2019-08-15      730     B\n",
       "2     2961555356  4069496402  2019-08-15      400     A\n",
       "3     3797467345  1196621759  2019-08-15     9759     B\n",
       "4     2282983706  2322279887  2019-08-15     2308     B"
      ]
     },
     "execution_count": 8,
     "metadata": {},
     "output_type": "execute_result"
    }
   ],
   "source": [
    "orders.head()"
   ]
  },
  {
   "cell_type": "code",
   "execution_count": 9,
   "metadata": {},
   "outputs": [
    {
     "name": "stdout",
     "output_type": "stream",
     "text": [
      "<class 'pandas.core.frame.DataFrame'>\n",
      "RangeIndex: 1197 entries, 0 to 1196\n",
      "Data columns (total 5 columns):\n",
      " #   Column         Non-Null Count  Dtype \n",
      "---  ------         --------------  ----- \n",
      " 0   transactionId  1197 non-null   int64 \n",
      " 1   visitorId      1197 non-null   int64 \n",
      " 2   date           1197 non-null   object\n",
      " 3   revenue        1197 non-null   int64 \n",
      " 4   group          1197 non-null   object\n",
      "dtypes: int64(3), object(2)\n",
      "memory usage: 46.9+ KB\n"
     ]
    }
   ],
   "source": [
    "orders.info()"
   ]
  },
  {
   "cell_type": "code",
   "execution_count": 10,
   "metadata": {},
   "outputs": [],
   "source": [
    "orders['date'] = orders['date'].map(\n",
    "    lambda x: dt.datetime.strptime(x, '%Y-%m-%d')\n",
    ")"
   ]
  },
  {
   "cell_type": "markdown",
   "metadata": {},
   "source": [
    "Изменим названия столбцов, подогнав их к написанным скриптам:"
   ]
  },
  {
   "cell_type": "code",
   "execution_count": 11,
   "metadata": {},
   "outputs": [],
   "source": [
    "orders.rename(columns = {'visitorId':'userId', 'transactionId':'orderId'}, inplace = True)"
   ]
  },
  {
   "cell_type": "markdown",
   "metadata": {},
   "source": [
    "Проверим, есть ли в группах пользователи, которые попали сразу в две группы:"
   ]
  },
  {
   "cell_type": "code",
   "execution_count": 12,
   "metadata": {},
   "outputs": [
    {
     "name": "stdout",
     "output_type": "stream",
     "text": [
      "Количество пересекающихся пользователей = 58\n"
     ]
    }
   ],
   "source": [
    "duplicated_users = orders.groupby('userId').agg({'group':['nunique', 'unique']})\n",
    "duplicated_users.columns = ['groups', 'group_name']\n",
    "duplicated_users = duplicated_users.query('groups > 1')\n",
    "duplicated_users.head()\n",
    "print('Количество пересекающихся пользователей = {}'.format(len(duplicated_users)))"
   ]
  },
  {
   "cell_type": "markdown",
   "metadata": {},
   "source": [
    "В таком случае не лишним будет и проверить разницу в количестве пользователей: "
   ]
  },
  {
   "cell_type": "code",
   "execution_count": 13,
   "metadata": {},
   "outputs": [
    {
     "data": {
      "text/html": [
       "<div>\n",
       "<style scoped>\n",
       "    .dataframe tbody tr th:only-of-type {\n",
       "        vertical-align: middle;\n",
       "    }\n",
       "\n",
       "    .dataframe tbody tr th {\n",
       "        vertical-align: top;\n",
       "    }\n",
       "\n",
       "    .dataframe thead tr th {\n",
       "        text-align: left;\n",
       "    }\n",
       "\n",
       "    .dataframe thead tr:last-of-type th {\n",
       "        text-align: right;\n",
       "    }\n",
       "</style>\n",
       "<table border=\"1\" class=\"dataframe\">\n",
       "  <thead>\n",
       "    <tr>\n",
       "      <th></th>\n",
       "      <th>userId</th>\n",
       "    </tr>\n",
       "    <tr>\n",
       "      <th></th>\n",
       "      <th>nunique</th>\n",
       "    </tr>\n",
       "    <tr>\n",
       "      <th>group</th>\n",
       "      <th></th>\n",
       "    </tr>\n",
       "  </thead>\n",
       "  <tbody>\n",
       "    <tr>\n",
       "      <th>A</th>\n",
       "      <td>503</td>\n",
       "    </tr>\n",
       "    <tr>\n",
       "      <th>B</th>\n",
       "      <td>586</td>\n",
       "    </tr>\n",
       "  </tbody>\n",
       "</table>\n",
       "</div>"
      ],
      "text/plain": [
       "       userId\n",
       "      nunique\n",
       "group        \n",
       "A         503\n",
       "B         586"
      ]
     },
     "execution_count": 13,
     "metadata": {},
     "output_type": "execute_result"
    }
   ],
   "source": [
    "orders.groupby('group').agg({'userId':['nunique']})"
   ]
  },
  {
   "cell_type": "markdown",
   "metadata": {},
   "source": [
    "Группа B имеет на 83 пользоваетеля больше - ошибка автоматизации"
   ]
  },
  {
   "cell_type": "markdown",
   "metadata": {},
   "source": [
    "Пересекающиеся пользователи действительно есть. Такая погрешность это свидетельство ошибки автоматизации при проведении A/B-теста. Нужно отправить разработчикам отчет по данным."
   ]
  },
  {
   "cell_type": "code",
   "execution_count": 14,
   "metadata": {},
   "outputs": [
    {
     "data": {
      "text/html": [
       "<div>\n",
       "<style scoped>\n",
       "    .dataframe tbody tr th:only-of-type {\n",
       "        vertical-align: middle;\n",
       "    }\n",
       "\n",
       "    .dataframe tbody tr th {\n",
       "        vertical-align: top;\n",
       "    }\n",
       "\n",
       "    .dataframe thead th {\n",
       "        text-align: right;\n",
       "    }\n",
       "</style>\n",
       "<table border=\"1\" class=\"dataframe\">\n",
       "  <thead>\n",
       "    <tr style=\"text-align: right;\">\n",
       "      <th></th>\n",
       "      <th>orderId</th>\n",
       "      <th>userId</th>\n",
       "      <th>date</th>\n",
       "      <th>revenue</th>\n",
       "      <th>group</th>\n",
       "    </tr>\n",
       "  </thead>\n",
       "  <tbody>\n",
       "    <tr>\n",
       "      <th>0</th>\n",
       "      <td>3667963787</td>\n",
       "      <td>3312258926</td>\n",
       "      <td>2019-08-15</td>\n",
       "      <td>1650</td>\n",
       "      <td>B</td>\n",
       "    </tr>\n",
       "    <tr>\n",
       "      <th>1</th>\n",
       "      <td>2804400009</td>\n",
       "      <td>3642806036</td>\n",
       "      <td>2019-08-15</td>\n",
       "      <td>730</td>\n",
       "      <td>B</td>\n",
       "    </tr>\n",
       "    <tr>\n",
       "      <th>3</th>\n",
       "      <td>3797467345</td>\n",
       "      <td>1196621759</td>\n",
       "      <td>2019-08-15</td>\n",
       "      <td>9759</td>\n",
       "      <td>B</td>\n",
       "    </tr>\n",
       "    <tr>\n",
       "      <th>4</th>\n",
       "      <td>2282983706</td>\n",
       "      <td>2322279887</td>\n",
       "      <td>2019-08-15</td>\n",
       "      <td>2308</td>\n",
       "      <td>B</td>\n",
       "    </tr>\n",
       "    <tr>\n",
       "      <th>5</th>\n",
       "      <td>182168103</td>\n",
       "      <td>935554773</td>\n",
       "      <td>2019-08-15</td>\n",
       "      <td>2210</td>\n",
       "      <td>B</td>\n",
       "    </tr>\n",
       "  </tbody>\n",
       "</table>\n",
       "</div>"
      ],
      "text/plain": [
       "      orderId      userId       date  revenue group\n",
       "0  3667963787  3312258926 2019-08-15     1650     B\n",
       "1  2804400009  3642806036 2019-08-15      730     B\n",
       "3  3797467345  1196621759 2019-08-15     9759     B\n",
       "4  2282983706  2322279887 2019-08-15     2308     B\n",
       "5   182168103   935554773 2019-08-15     2210     B"
      ]
     },
     "execution_count": 14,
     "metadata": {},
     "output_type": "execute_result"
    }
   ],
   "source": [
    "orders = orders.query('userId not in @duplicated_users.index')\n",
    "orders.head()"
   ]
  },
  {
   "cell_type": "markdown",
   "metadata": {},
   "source": [
    "Проверим сколько осталось пользователей в группах после очистки:"
   ]
  },
  {
   "cell_type": "code",
   "execution_count": 15,
   "metadata": {},
   "outputs": [
    {
     "data": {
      "text/html": [
       "<div>\n",
       "<style scoped>\n",
       "    .dataframe tbody tr th:only-of-type {\n",
       "        vertical-align: middle;\n",
       "    }\n",
       "\n",
       "    .dataframe tbody tr th {\n",
       "        vertical-align: top;\n",
       "    }\n",
       "\n",
       "    .dataframe thead tr th {\n",
       "        text-align: left;\n",
       "    }\n",
       "\n",
       "    .dataframe thead tr:last-of-type th {\n",
       "        text-align: right;\n",
       "    }\n",
       "</style>\n",
       "<table border=\"1\" class=\"dataframe\">\n",
       "  <thead>\n",
       "    <tr>\n",
       "      <th></th>\n",
       "      <th>userId</th>\n",
       "    </tr>\n",
       "    <tr>\n",
       "      <th></th>\n",
       "      <th>nunique</th>\n",
       "    </tr>\n",
       "    <tr>\n",
       "      <th>group</th>\n",
       "      <th></th>\n",
       "    </tr>\n",
       "  </thead>\n",
       "  <tbody>\n",
       "    <tr>\n",
       "      <th>A</th>\n",
       "      <td>445</td>\n",
       "    </tr>\n",
       "    <tr>\n",
       "      <th>B</th>\n",
       "      <td>528</td>\n",
       "    </tr>\n",
       "  </tbody>\n",
       "</table>\n",
       "</div>"
      ],
      "text/plain": [
       "       userId\n",
       "      nunique\n",
       "group        \n",
       "A         445\n",
       "B         528"
      ]
     },
     "execution_count": 15,
     "metadata": {},
     "output_type": "execute_result"
    }
   ],
   "source": [
    "orders.groupby('group').agg({'userId':['nunique']})"
   ]
  },
  {
   "cell_type": "markdown",
   "metadata": {},
   "source": [
    "Группы все также различаются на 83 человека"
   ]
  },
  {
   "cell_type": "markdown",
   "metadata": {},
   "source": [
    "### Вывод о данных"
   ]
  },
  {
   "cell_type": "markdown",
   "metadata": {},
   "source": [
    "- Нужно привести данные с датами к типу date. \n",
    "- Данные не имеют пропусков.\n",
    "- Группы имеют пересекающихся пользователей.\n",
    "- Группы не равны."
   ]
  },
  {
   "cell_type": "markdown",
   "metadata": {},
   "source": [
    "## Шаг 2: Приоретизация гипотез"
   ]
  },
  {
   "cell_type": "markdown",
   "metadata": {},
   "source": [
    "### Приоретизация гипотез по фреймворку ICE"
   ]
  },
  {
   "cell_type": "code",
   "execution_count": 16,
   "metadata": {},
   "outputs": [],
   "source": [
    "hypothesis['ICE'] = hypothesis['Impact'] * hypothesis['Confidence'] / hypothesis['Efforts']"
   ]
  },
  {
   "cell_type": "code",
   "execution_count": 17,
   "metadata": {},
   "outputs": [
    {
     "data": {
      "text/html": [
       "<div>\n",
       "<style scoped>\n",
       "    .dataframe tbody tr th:only-of-type {\n",
       "        vertical-align: middle;\n",
       "    }\n",
       "\n",
       "    .dataframe tbody tr th {\n",
       "        vertical-align: top;\n",
       "    }\n",
       "\n",
       "    .dataframe thead th {\n",
       "        text-align: right;\n",
       "    }\n",
       "</style>\n",
       "<table border=\"1\" class=\"dataframe\">\n",
       "  <thead>\n",
       "    <tr style=\"text-align: right;\">\n",
       "      <th></th>\n",
       "      <th>Hypothesis</th>\n",
       "      <th>ICE</th>\n",
       "    </tr>\n",
       "  </thead>\n",
       "  <tbody>\n",
       "    <tr>\n",
       "      <th>8</th>\n",
       "      <td>Запустить акцию, дающую скидку на товар в день рождения</td>\n",
       "      <td>16.200000</td>\n",
       "    </tr>\n",
       "    <tr>\n",
       "      <th>0</th>\n",
       "      <td>Добавить два новых канала привлечения трафика, что позволит привлекать на 30% больше пользователей</td>\n",
       "      <td>13.333333</td>\n",
       "    </tr>\n",
       "    <tr>\n",
       "      <th>7</th>\n",
       "      <td>Добавить форму подписки на все основные страницы, чтобы собрать базу клиентов для email-рассылок</td>\n",
       "      <td>11.200000</td>\n",
       "    </tr>\n",
       "    <tr>\n",
       "      <th>6</th>\n",
       "      <td>Показать на главной странице баннеры с актуальными акциями и распродажами, чтобы увеличить конверсию</td>\n",
       "      <td>8.000000</td>\n",
       "    </tr>\n",
       "    <tr>\n",
       "      <th>2</th>\n",
       "      <td>Добавить блоки рекомендаций товаров на сайт интернет магазина, чтобы повысить конверсию и средний чек заказа</td>\n",
       "      <td>7.000000</td>\n",
       "    </tr>\n",
       "    <tr>\n",
       "      <th>1</th>\n",
       "      <td>Запустить собственную службу доставки, что сократит срок доставки заказов</td>\n",
       "      <td>2.000000</td>\n",
       "    </tr>\n",
       "    <tr>\n",
       "      <th>5</th>\n",
       "      <td>Добавить страницу отзывов клиентов о магазине, что позволит увеличить количество заказов</td>\n",
       "      <td>1.333333</td>\n",
       "    </tr>\n",
       "    <tr>\n",
       "      <th>3</th>\n",
       "      <td>Изменить структура категорий, что увеличит конверсию, т.к. пользователи быстрее найдут нужный товар</td>\n",
       "      <td>1.125000</td>\n",
       "    </tr>\n",
       "    <tr>\n",
       "      <th>4</th>\n",
       "      <td>Изменить цвет фона главной страницы, чтобы увеличить вовлеченность пользователей</td>\n",
       "      <td>1.000000</td>\n",
       "    </tr>\n",
       "  </tbody>\n",
       "</table>\n",
       "</div>"
      ],
      "text/plain": [
       "                                                                                                     Hypothesis  \\\n",
       "8                                                       Запустить акцию, дающую скидку на товар в день рождения   \n",
       "0            Добавить два новых канала привлечения трафика, что позволит привлекать на 30% больше пользователей   \n",
       "7              Добавить форму подписки на все основные страницы, чтобы собрать базу клиентов для email-рассылок   \n",
       "6          Показать на главной странице баннеры с актуальными акциями и распродажами, чтобы увеличить конверсию   \n",
       "2  Добавить блоки рекомендаций товаров на сайт интернет магазина, чтобы повысить конверсию и средний чек заказа   \n",
       "1                                     Запустить собственную службу доставки, что сократит срок доставки заказов   \n",
       "5                      Добавить страницу отзывов клиентов о магазине, что позволит увеличить количество заказов   \n",
       "3           Изменить структура категорий, что увеличит конверсию, т.к. пользователи быстрее найдут нужный товар   \n",
       "4                              Изменить цвет фона главной страницы, чтобы увеличить вовлеченность пользователей   \n",
       "\n",
       "         ICE  \n",
       "8  16.200000  \n",
       "0  13.333333  \n",
       "7  11.200000  \n",
       "6   8.000000  \n",
       "2   7.000000  \n",
       "1   2.000000  \n",
       "5   1.333333  \n",
       "3   1.125000  \n",
       "4   1.000000  "
      ]
     },
     "execution_count": 17,
     "metadata": {},
     "output_type": "execute_result"
    }
   ],
   "source": [
    "hypothesis[['Hypothesis','ICE']].sort_values(by='ICE', ascending=False)"
   ]
  },
  {
   "cell_type": "markdown",
   "metadata": {},
   "source": [
    "- По фреймворку ICE лидирует 8, 0 и 7 гипотезы"
   ]
  },
  {
   "cell_type": "markdown",
   "metadata": {},
   "source": [
    "### Приоретизация гипотез по фреймворку RICE"
   ]
  },
  {
   "cell_type": "code",
   "execution_count": 18,
   "metadata": {},
   "outputs": [],
   "source": [
    "hypothesis['RICE'] = hypothesis['Impact'] * hypothesis['Reach'] * hypothesis['Confidence'] / hypothesis['Efforts']"
   ]
  },
  {
   "cell_type": "code",
   "execution_count": 19,
   "metadata": {
    "scrolled": false
   },
   "outputs": [
    {
     "data": {
      "text/html": [
       "<div>\n",
       "<style scoped>\n",
       "    .dataframe tbody tr th:only-of-type {\n",
       "        vertical-align: middle;\n",
       "    }\n",
       "\n",
       "    .dataframe tbody tr th {\n",
       "        vertical-align: top;\n",
       "    }\n",
       "\n",
       "    .dataframe thead th {\n",
       "        text-align: right;\n",
       "    }\n",
       "</style>\n",
       "<table border=\"1\" class=\"dataframe\">\n",
       "  <thead>\n",
       "    <tr style=\"text-align: right;\">\n",
       "      <th></th>\n",
       "      <th>Hypothesis</th>\n",
       "      <th>RICE</th>\n",
       "    </tr>\n",
       "  </thead>\n",
       "  <tbody>\n",
       "    <tr>\n",
       "      <th>7</th>\n",
       "      <td>Добавить форму подписки на все основные страницы, чтобы собрать базу клиентов для email-рассылок</td>\n",
       "      <td>112.0</td>\n",
       "    </tr>\n",
       "    <tr>\n",
       "      <th>2</th>\n",
       "      <td>Добавить блоки рекомендаций товаров на сайт интернет магазина, чтобы повысить конверсию и средний чек заказа</td>\n",
       "      <td>56.0</td>\n",
       "    </tr>\n",
       "    <tr>\n",
       "      <th>0</th>\n",
       "      <td>Добавить два новых канала привлечения трафика, что позволит привлекать на 30% больше пользователей</td>\n",
       "      <td>40.0</td>\n",
       "    </tr>\n",
       "    <tr>\n",
       "      <th>6</th>\n",
       "      <td>Показать на главной странице баннеры с актуальными акциями и распродажами, чтобы увеличить конверсию</td>\n",
       "      <td>40.0</td>\n",
       "    </tr>\n",
       "    <tr>\n",
       "      <th>8</th>\n",
       "      <td>Запустить акцию, дающую скидку на товар в день рождения</td>\n",
       "      <td>16.2</td>\n",
       "    </tr>\n",
       "    <tr>\n",
       "      <th>3</th>\n",
       "      <td>Изменить структура категорий, что увеличит конверсию, т.к. пользователи быстрее найдут нужный товар</td>\n",
       "      <td>9.0</td>\n",
       "    </tr>\n",
       "    <tr>\n",
       "      <th>1</th>\n",
       "      <td>Запустить собственную службу доставки, что сократит срок доставки заказов</td>\n",
       "      <td>4.0</td>\n",
       "    </tr>\n",
       "    <tr>\n",
       "      <th>5</th>\n",
       "      <td>Добавить страницу отзывов клиентов о магазине, что позволит увеличить количество заказов</td>\n",
       "      <td>4.0</td>\n",
       "    </tr>\n",
       "    <tr>\n",
       "      <th>4</th>\n",
       "      <td>Изменить цвет фона главной страницы, чтобы увеличить вовлеченность пользователей</td>\n",
       "      <td>3.0</td>\n",
       "    </tr>\n",
       "  </tbody>\n",
       "</table>\n",
       "</div>"
      ],
      "text/plain": [
       "                                                                                                     Hypothesis  \\\n",
       "7              Добавить форму подписки на все основные страницы, чтобы собрать базу клиентов для email-рассылок   \n",
       "2  Добавить блоки рекомендаций товаров на сайт интернет магазина, чтобы повысить конверсию и средний чек заказа   \n",
       "0            Добавить два новых канала привлечения трафика, что позволит привлекать на 30% больше пользователей   \n",
       "6          Показать на главной странице баннеры с актуальными акциями и распродажами, чтобы увеличить конверсию   \n",
       "8                                                       Запустить акцию, дающую скидку на товар в день рождения   \n",
       "3           Изменить структура категорий, что увеличит конверсию, т.к. пользователи быстрее найдут нужный товар   \n",
       "1                                     Запустить собственную службу доставки, что сократит срок доставки заказов   \n",
       "5                      Добавить страницу отзывов клиентов о магазине, что позволит увеличить количество заказов   \n",
       "4                              Изменить цвет фона главной страницы, чтобы увеличить вовлеченность пользователей   \n",
       "\n",
       "    RICE  \n",
       "7  112.0  \n",
       "2   56.0  \n",
       "0   40.0  \n",
       "6   40.0  \n",
       "8   16.2  \n",
       "3    9.0  \n",
       "1    4.0  \n",
       "5    4.0  \n",
       "4    3.0  "
      ]
     },
     "execution_count": 19,
     "metadata": {},
     "output_type": "execute_result"
    }
   ],
   "source": [
    "hypothesis[['Hypothesis','RICE']].sort_values(by='RICE', ascending=False)"
   ]
  },
  {
   "cell_type": "markdown",
   "metadata": {},
   "source": [
    "- По фреймворку RICE лидируют 7, 2 и 0 гипотезы"
   ]
  },
  {
   "cell_type": "markdown",
   "metadata": {},
   "source": [
    "### Выводы по приоретизации гипотез"
   ]
  },
  {
   "cell_type": "markdown",
   "metadata": {},
   "source": [
    "Взглянем на получивщуюся таблицу"
   ]
  },
  {
   "cell_type": "code",
   "execution_count": 20,
   "metadata": {
    "scrolled": false
   },
   "outputs": [
    {
     "data": {
      "text/html": [
       "<div>\n",
       "<style scoped>\n",
       "    .dataframe tbody tr th:only-of-type {\n",
       "        vertical-align: middle;\n",
       "    }\n",
       "\n",
       "    .dataframe tbody tr th {\n",
       "        vertical-align: top;\n",
       "    }\n",
       "\n",
       "    .dataframe thead th {\n",
       "        text-align: right;\n",
       "    }\n",
       "</style>\n",
       "<table border=\"1\" class=\"dataframe\">\n",
       "  <thead>\n",
       "    <tr style=\"text-align: right;\">\n",
       "      <th></th>\n",
       "      <th>Hypothesis</th>\n",
       "      <th>Reach</th>\n",
       "      <th>Impact</th>\n",
       "      <th>Confidence</th>\n",
       "      <th>Efforts</th>\n",
       "      <th>ICE</th>\n",
       "      <th>RICE</th>\n",
       "    </tr>\n",
       "  </thead>\n",
       "  <tbody>\n",
       "    <tr>\n",
       "      <th>0</th>\n",
       "      <td>Добавить два новых канала привлечения трафика, что позволит привлекать на 30% больше пользователей</td>\n",
       "      <td>3</td>\n",
       "      <td>10</td>\n",
       "      <td>8</td>\n",
       "      <td>6</td>\n",
       "      <td>13.333333</td>\n",
       "      <td>40.0</td>\n",
       "    </tr>\n",
       "    <tr>\n",
       "      <th>1</th>\n",
       "      <td>Запустить собственную службу доставки, что сократит срок доставки заказов</td>\n",
       "      <td>2</td>\n",
       "      <td>5</td>\n",
       "      <td>4</td>\n",
       "      <td>10</td>\n",
       "      <td>2.000000</td>\n",
       "      <td>4.0</td>\n",
       "    </tr>\n",
       "    <tr>\n",
       "      <th>2</th>\n",
       "      <td>Добавить блоки рекомендаций товаров на сайт интернет магазина, чтобы повысить конверсию и средний чек заказа</td>\n",
       "      <td>8</td>\n",
       "      <td>3</td>\n",
       "      <td>7</td>\n",
       "      <td>3</td>\n",
       "      <td>7.000000</td>\n",
       "      <td>56.0</td>\n",
       "    </tr>\n",
       "    <tr>\n",
       "      <th>3</th>\n",
       "      <td>Изменить структура категорий, что увеличит конверсию, т.к. пользователи быстрее найдут нужный товар</td>\n",
       "      <td>8</td>\n",
       "      <td>3</td>\n",
       "      <td>3</td>\n",
       "      <td>8</td>\n",
       "      <td>1.125000</td>\n",
       "      <td>9.0</td>\n",
       "    </tr>\n",
       "    <tr>\n",
       "      <th>4</th>\n",
       "      <td>Изменить цвет фона главной страницы, чтобы увеличить вовлеченность пользователей</td>\n",
       "      <td>3</td>\n",
       "      <td>1</td>\n",
       "      <td>1</td>\n",
       "      <td>1</td>\n",
       "      <td>1.000000</td>\n",
       "      <td>3.0</td>\n",
       "    </tr>\n",
       "    <tr>\n",
       "      <th>5</th>\n",
       "      <td>Добавить страницу отзывов клиентов о магазине, что позволит увеличить количество заказов</td>\n",
       "      <td>3</td>\n",
       "      <td>2</td>\n",
       "      <td>2</td>\n",
       "      <td>3</td>\n",
       "      <td>1.333333</td>\n",
       "      <td>4.0</td>\n",
       "    </tr>\n",
       "    <tr>\n",
       "      <th>6</th>\n",
       "      <td>Показать на главной странице баннеры с актуальными акциями и распродажами, чтобы увеличить конверсию</td>\n",
       "      <td>5</td>\n",
       "      <td>3</td>\n",
       "      <td>8</td>\n",
       "      <td>3</td>\n",
       "      <td>8.000000</td>\n",
       "      <td>40.0</td>\n",
       "    </tr>\n",
       "    <tr>\n",
       "      <th>7</th>\n",
       "      <td>Добавить форму подписки на все основные страницы, чтобы собрать базу клиентов для email-рассылок</td>\n",
       "      <td>10</td>\n",
       "      <td>7</td>\n",
       "      <td>8</td>\n",
       "      <td>5</td>\n",
       "      <td>11.200000</td>\n",
       "      <td>112.0</td>\n",
       "    </tr>\n",
       "    <tr>\n",
       "      <th>8</th>\n",
       "      <td>Запустить акцию, дающую скидку на товар в день рождения</td>\n",
       "      <td>1</td>\n",
       "      <td>9</td>\n",
       "      <td>9</td>\n",
       "      <td>5</td>\n",
       "      <td>16.200000</td>\n",
       "      <td>16.2</td>\n",
       "    </tr>\n",
       "  </tbody>\n",
       "</table>\n",
       "</div>"
      ],
      "text/plain": [
       "                                                                                                     Hypothesis  \\\n",
       "0            Добавить два новых канала привлечения трафика, что позволит привлекать на 30% больше пользователей   \n",
       "1                                     Запустить собственную службу доставки, что сократит срок доставки заказов   \n",
       "2  Добавить блоки рекомендаций товаров на сайт интернет магазина, чтобы повысить конверсию и средний чек заказа   \n",
       "3           Изменить структура категорий, что увеличит конверсию, т.к. пользователи быстрее найдут нужный товар   \n",
       "4                              Изменить цвет фона главной страницы, чтобы увеличить вовлеченность пользователей   \n",
       "5                      Добавить страницу отзывов клиентов о магазине, что позволит увеличить количество заказов   \n",
       "6          Показать на главной странице баннеры с актуальными акциями и распродажами, чтобы увеличить конверсию   \n",
       "7              Добавить форму подписки на все основные страницы, чтобы собрать базу клиентов для email-рассылок   \n",
       "8                                                       Запустить акцию, дающую скидку на товар в день рождения   \n",
       "\n",
       "   Reach  Impact  Confidence  Efforts        ICE   RICE  \n",
       "0      3      10           8        6  13.333333   40.0  \n",
       "1      2       5           4       10   2.000000    4.0  \n",
       "2      8       3           7        3   7.000000   56.0  \n",
       "3      8       3           3        8   1.125000    9.0  \n",
       "4      3       1           1        1   1.000000    3.0  \n",
       "5      3       2           2        3   1.333333    4.0  \n",
       "6      5       3           8        3   8.000000   40.0  \n",
       "7     10       7           8        5  11.200000  112.0  \n",
       "8      1       9           9        5  16.200000   16.2  "
      ]
     },
     "execution_count": 20,
     "metadata": {},
     "output_type": "execute_result"
    }
   ],
   "source": [
    "hypothesis"
   ]
  },
  {
   "cell_type": "markdown",
   "metadata": {},
   "source": [
    "- При применении фреймворка RICE 8 гипотеза сдвинулась с первого места в середину, по сравнению с ICE. Так случилось из-за того, что параметр Reach (отвечающий за охват) для гипотезы 8 имеет 1. Тоже самое случилось и со второй гипотезой, однако здесь редуцирующим параметром стал параметр Impact.\n",
    "- Рекомендации по гипотезам: советую проверить гипотезы 7 и 0, которые оказались в тройке лидеров по обоим фреймворкам."
   ]
  },
  {
   "cell_type": "markdown",
   "metadata": {},
   "source": [
    "## Анализ A/B-теста"
   ]
  },
  {
   "cell_type": "markdown",
   "metadata": {},
   "source": [
    "### График кумулятивной выручки по группам"
   ]
  },
  {
   "cell_type": "code",
   "execution_count": 21,
   "metadata": {},
   "outputs": [],
   "source": [
    "datesGroups = orders[['date','group']].drop_duplicates() "
   ]
  },
  {
   "cell_type": "code",
   "execution_count": 22,
   "metadata": {},
   "outputs": [],
   "source": [
    "ordersAggregated = datesGroups.apply(lambda x: orders[np.logical_and(orders['date'] <= x['date'], orders['group'] == x['group'])]\\\n",
    ".agg({'date' : 'max', 'group' : 'max', 'orderId' : 'nunique', 'userId' : 'nunique', 'revenue' : 'sum'}), axis=1).sort_values(by=['date','group'])"
   ]
  },
  {
   "cell_type": "code",
   "execution_count": 23,
   "metadata": {},
   "outputs": [],
   "source": [
    "visitorsAggregated = datesGroups.apply(lambda x: visitors[np.logical_and(visitors['date'] <= x['date'], visitors['group'] == x['group'])].agg({'date' : 'max', 'group' : 'max', 'visitors' : 'sum'}), axis=1).sort_values(by=['date','group'])"
   ]
  },
  {
   "cell_type": "code",
   "execution_count": 24,
   "metadata": {},
   "outputs": [
    {
     "name": "stdout",
     "output_type": "stream",
     "text": [
      "        date group  orders  buyers  revenue  visitors\n",
      "0 2019-08-01     A      23      19   142779       719\n",
      "1 2019-08-01     B      17      17    59758       713\n",
      "2 2019-08-02     A      42      36   234381      1338\n",
      "3 2019-08-02     B      40      39   221801      1294\n",
      "4 2019-08-03     A      66      60   346854      1845\n"
     ]
    }
   ],
   "source": [
    "# создаем массив уникальных пар значений дат и групп теста\n",
    "datesGroups = orders[['date','group']].drop_duplicates()\n",
    "\n",
    "# получаем агрегированные кумулятивные по дням данные о заказах \n",
    "ordersAggregated = datesGroups.apply(lambda x: orders[np.logical_and(orders['date'] <= x['date'], orders['group'] == x['group'])].agg({'date' : 'max', 'group' : 'max', 'orderId' : 'nunique', 'userId' : 'nunique', 'revenue' : 'sum'}), axis=1).sort_values(by=['date','group'])\n",
    "\n",
    "# получаем агрегированные кумулятивные по дням данные о посетителях интернет-магазина \n",
    "visitorsAggregated = datesGroups.apply(lambda x: visitors[np.logical_and(visitors['date'] <= x['date'], visitors['group'] == x['group'])].agg({'date' : 'max', 'group' : 'max', 'visitors' : 'sum'}), axis=1).sort_values(by=['date','group'])\n",
    "\n",
    "# объединяем кумулятивные данные в одной таблице и присваиваем ее столбцам понятные названия\n",
    "cumulativeData = ordersAggregated.merge(visitorsAggregated, left_on=['date', 'group'], right_on=['date', 'group'])\n",
    "cumulativeData.columns = ['date', 'group', 'orders', 'buyers', 'revenue', 'visitors']\n",
    "\n",
    "print(cumulativeData.head(5))"
   ]
  },
  {
   "cell_type": "code",
   "execution_count": 25,
   "metadata": {
    "scrolled": false
   },
   "outputs": [
    {
     "data": {
      "image/png": "[encoded data removed]",
      "text/plain": [
       "<Figure size 1440x720 with 1 Axes>"
      ]
     },
     "metadata": {
      "needs_background": "light"
     },
     "output_type": "display_data"
    }
   ],
   "source": [
    "# датафрейм с кумулятивным количеством заказов и кумулятивной выручкой по дням в группе А\n",
    "cumulativeRevenueA = cumulativeData[cumulativeData['group']=='A'][['date','revenue', 'orders']]\n",
    "\n",
    "# датафрейм с кумулятивным количеством заказов и кумулятивной выручкой по дням в группе B\n",
    "cumulativeRevenueB = cumulativeData[cumulativeData['group']=='B'][['date','revenue', 'orders']]\n",
    "\n",
    "# Строим график выручки группы А\n",
    "plt.plot(cumulativeRevenueA['date'], cumulativeRevenueA['revenue'], label='A')\n",
    "\n",
    "# Строим график выручки группы B\n",
    "plt.plot(cumulativeRevenueB['date'], cumulativeRevenueB['revenue'], label='B')\n",
    "\n",
    "plt.legend()\n",
    "plt.gcf().set_size_inches(20, 10)\n",
    "plt.title('График кумулятивной выручки по группам')\n",
    "plt.ylabel('Выручка')\n",
    "plt.xlabel('Даты')\n",
    "plt.show()"
   ]
  },
  {
   "cell_type": "markdown",
   "metadata": {},
   "source": [
    "**Вывод кумулятивной выручки по группам:**\n",
    "- Выручка уверенно увеличивается в течении всего теста\n",
    "- График выручку в группе B имеет резкие скачки, возможно это выбросы\n",
    "- Группа A уверенно проигрывает группе B"
   ]
  },
  {
   "cell_type": "markdown",
   "metadata": {},
   "source": [
    "### График кумулятивного среднего чека по группам"
   ]
  },
  {
   "cell_type": "code",
   "execution_count": 26,
   "metadata": {},
   "outputs": [
    {
     "data": {
      "image/png": "[encoded data removed]",
      "text/plain": [
       "<Figure size 1440x720 with 1 Axes>"
      ]
     },
     "metadata": {
      "needs_background": "light"
     },
     "output_type": "display_data"
    }
   ],
   "source": [
    "plt.plot(cumulativeRevenueA['date'], cumulativeRevenueA['revenue']/cumulativeRevenueA['orders'], label='A')\n",
    "plt.plot(cumulativeRevenueB['date'], cumulativeRevenueB['revenue']/cumulativeRevenueB['orders'], label='B')\n",
    "plt.gcf().set_size_inches(20, 10)\n",
    "plt.legend() \n",
    "plt.title('График кумулятивного среднего чека по группам')\n",
    "plt.ylabel('Средний чек')\n",
    "plt.xlabel('Даты')\n",
    "plt.show()"
   ]
  },
  {
   "cell_type": "markdown",
   "metadata": {},
   "source": [
    "**Вывод по графику кумулятотивного среднего по группам:**\n",
    "- Группа A имеет падение по среднему чеку в начале теста, однако стабилизируется к середине теста\n",
    "- Группа В плавно растет по в начале теста и имеет резские всплеск в середине теста, который постепенно, медленно спадает"
   ]
  },
  {
   "cell_type": "markdown",
   "metadata": {},
   "source": [
    "### График относительного изменения кумулятивного среднего чека группы B к группе A."
   ]
  },
  {
   "cell_type": "code",
   "execution_count": 27,
   "metadata": {},
   "outputs": [
    {
     "data": {
      "image/png": "[encoded data removed]",
      "text/plain": [
       "<Figure size 1440x720 with 1 Axes>"
      ]
     },
     "metadata": {
      "needs_background": "light"
     },
     "output_type": "display_data"
    }
   ],
   "source": [
    "# собираем данные в одном датафрейме\n",
    "mergedCumulativeRevenue = cumulativeRevenueA.merge(cumulativeRevenueB, left_on='date', right_on='date', how='left', suffixes=['A', 'B'])\n",
    "\n",
    "# cтроим отношение средних чеков\n",
    "plt.plot(mergedCumulativeRevenue['date'], (mergedCumulativeRevenue['revenueB']/mergedCumulativeRevenue['ordersB'])/(mergedCumulativeRevenue['revenueA']/mergedCumulativeRevenue['ordersA'])-1)\n",
    "\n",
    "# добавляем ось X\n",
    "plt.axhline(y=0, color='black', linestyle='--')\n",
    "plt.gcf().set_size_inches(20, 10)\n",
    "plt.title('График относительного изменения кумулятивного среднего чека группы B к группе A')\n",
    "plt.ylabel('Относительное изменение')\n",
    "plt.xlabel('Даты')\n",
    "plt.show()"
   ]
  },
  {
   "cell_type": "markdown",
   "metadata": {},
   "source": [
    "**Выводы по графику относительного изменения кумулятивного среднего чека группы B к группе A:**\n",
    "- На протяжении всего графика наблюдается резкие скачки между сегментами, скорее всего дело в выбросах"
   ]
  },
  {
   "cell_type": "markdown",
   "metadata": {},
   "source": [
    "### График кумулятивной конверсии по группам"
   ]
  },
  {
   "cell_type": "code",
   "execution_count": 28,
   "metadata": {},
   "outputs": [],
   "source": [
    "# считаем кумулятивную конверсию\n",
    "cumulativeData['conversion'] = cumulativeData['orders']/cumulativeData['visitors']\n",
    "\n",
    "# отделяем данные по группе A\n",
    "cumulativeDataA = cumulativeData[cumulativeData['group']=='A']\n",
    "\n",
    "# отделяем данные по группе B\n",
    "cumulativeDataB = cumulativeData[cumulativeData['group']=='B']"
   ]
  },
  {
   "cell_type": "code",
   "execution_count": 29,
   "metadata": {},
   "outputs": [
    {
     "data": {
      "image/png": "[encoded data removed]",
      "text/plain": [
       "<Figure size 1440x720 with 1 Axes>"
      ]
     },
     "metadata": {
      "needs_background": "light"
     },
     "output_type": "display_data"
    }
   ],
   "source": [
    "# строим графики\n",
    "plt.plot(cumulativeDataA['date'], cumulativeDataA['conversion'], label='A')\n",
    "plt.plot(cumulativeDataB['date'], cumulativeDataB['conversion'], label='B')\n",
    "plt.legend()\n",
    "\n",
    "# задаем масштаб осей\n",
    "plt.gcf().set_size_inches(20, 10)\n",
    "plt.title('График кумулятотивной конверсии по группам')\n",
    "plt.ylabel('Конверсия')\n",
    "plt.xlabel('Даты')\n",
    "plt.show()"
   ]
  },
  {
   "cell_type": "markdown",
   "metadata": {},
   "source": [
    "**Выводы по графику кумулятотивной конверсии по группам:**\n",
    "- Конверсия группы А стабилизировалась и находится ниже конверсии группы А\n",
    "- В конверсии группы есть аномальный скачок в начале эксперимента, который сошел вниз по графику\n",
    "- В группе В в начале эксперимента произошел резкий скачок и было его удержание.\n",
    "- Конверсия группы В стабилизировалась"
   ]
  },
  {
   "cell_type": "markdown",
   "metadata": {},
   "source": [
    "### График относительного изменения кумулятивной конверсии группы B к группе A"
   ]
  },
  {
   "cell_type": "code",
   "execution_count": 30,
   "metadata": {},
   "outputs": [
    {
     "data": {
      "image/png": "[encoded data removed]",
      "text/plain": [
       "<Figure size 1440x720 with 1 Axes>"
      ]
     },
     "metadata": {
      "needs_background": "light"
     },
     "output_type": "display_data"
    }
   ],
   "source": [
    "mergedCumulativeConversions = cumulativeDataA[['date','conversion']].merge(cumulativeDataB[['date','conversion']], left_on='date', right_on='date', how='left', suffixes=['A', 'B'])\n",
    "\n",
    "plt.plot(mergedCumulativeConversions['date'], mergedCumulativeConversions['conversionB']/mergedCumulativeConversions['conversionA']-1, label=\"Относительный прирост конверсии группы B относительно группы A\")\n",
    "plt.legend()\n",
    "\n",
    "plt.axhline(y=0, color='black', linestyle='--')\n",
    "plt.axhline(y=-0.1, color='grey', linestyle='--')\n",
    "plt.gcf().set_size_inches(20, 10)\n",
    "plt.title('График относительного изменения кумулятивной конверсии группы B к группе A')\n",
    "plt.ylabel('Относительное изменение конверсии')\n",
    "plt.xlabel('Даты')\n",
    "plt.show()"
   ]
  },
  {
   "cell_type": "markdown",
   "metadata": {},
   "source": [
    "**Выводы по графику относительного изменения кумулятивной конверсии группы B к группе A:**\n",
    "- В начале теста группа В проигрывала группе А, но почти сразу же конверсия выросла и продолжает доминировать"
   ]
  },
  {
   "cell_type": "markdown",
   "metadata": {},
   "source": [
    "### Точечный график количества заказов по пользователям"
   ]
  },
  {
   "cell_type": "code",
   "execution_count": 31,
   "metadata": {},
   "outputs": [
    {
     "name": "stdout",
     "output_type": "stream",
     "text": [
      "         userId  orders\n",
      "908  3967698036       3\n",
      "55    249864742       3\n",
      "478  2108163459       3\n",
      "687  2988190573       3\n",
      "890  3908431265       3\n",
      "138   611059232       3\n",
      "632  2742574263       3\n",
      "157   678354126       2\n",
      "323  1404560065       2\n",
      "452  1985475298       2\n"
     ]
    }
   ],
   "source": [
    "ordersByUsers = (\n",
    "    orders.groupby('userId', as_index=False)\n",
    "    .agg({'orderId': pd.Series.nunique})\n",
    ")\n",
    "\n",
    "ordersByUsers.columns = ['userId', 'orders']\n",
    "\n",
    "print(ordersByUsers.sort_values(by='orders', ascending=False).head(10))"
   ]
  },
  {
   "cell_type": "code",
   "execution_count": 32,
   "metadata": {},
   "outputs": [
    {
     "data": {
      "image/png": "[encoded data removed]",
      "text/plain": [
       "<Figure size 432x288 with 1 Axes>"
      ]
     },
     "metadata": {
      "needs_background": "light"
     },
     "output_type": "display_data"
    }
   ],
   "source": [
    "x_values = pd.Series(range(0,len(ordersByUsers)))\n",
    "plt.scatter(x_values, ordersByUsers['orders']) \n",
    "plt.title('Точечный график количества заказов по пользователям')\n",
    "plt.ylabel('Количество заказов')\n",
    "plt.xlabel('Заказы')\n",
    "plt.show()"
   ]
  },
  {
   "cell_type": "markdown",
   "metadata": {},
   "source": [
    "**Вывод по точечному графику количества заказов по пользователям:**\n",
    "- Аномальные значения не редки для данного графика, они начинаются уже 3 заказов"
   ]
  },
  {
   "cell_type": "markdown",
   "metadata": {},
   "source": [
    "### 95-й и 99-й перцентили количества заказов на пользователя"
   ]
  },
  {
   "cell_type": "code",
   "execution_count": 33,
   "metadata": {},
   "outputs": [
    {
     "name": "stdout",
     "output_type": "stream",
     "text": [
      "90-ый перцентиль = 1.00\n",
      "95-ый перцентиль = 1.00\n",
      "99-ый перцентиль = 2.00\n"
     ]
    }
   ],
   "source": [
    "ordersByUsersPercentile = np.percentile(ordersByUsers['orders'], [90, 95, 99])\n",
    "print('90-ый перцентиль = {:.2f}'.format(ordersByUsersPercentile[0]))\n",
    "print('95-ый перцентиль = {:.2f}'.format(ordersByUsersPercentile[1]))\n",
    "print('99-ый перцентиль = {:.2f}'.format(ordersByUsersPercentile[2]))"
   ]
  },
  {
   "cell_type": "markdown",
   "metadata": {},
   "source": [
    "**Выводы по 95-ому и 99-ому перцентилям количества заказов на пользователя:**\n",
    "- Слудует выбрать границу по количествам аномальных заказов на пользователя с 2 заказов"
   ]
  },
  {
   "cell_type": "markdown",
   "metadata": {},
   "source": [
    "###  Точечный график стоимости заказов"
   ]
  },
  {
   "cell_type": "code",
   "execution_count": 34,
   "metadata": {
    "scrolled": true
   },
   "outputs": [
    {
     "data": {
      "image/png": "[encoded data removed]",
      "text/plain": [
       "<Figure size 432x288 with 1 Axes>"
      ]
     },
     "metadata": {
      "needs_background": "light"
     },
     "output_type": "display_data"
    }
   ],
   "source": [
    "x_values = pd.Series(range(0,len(orders['revenue'])))\n",
    "plt.scatter(x_values, orders['revenue']) \n",
    "plt.title('Точечный график стоимости заказов по пользователям')\n",
    "plt.ylabel('Стоимость заказов')\n",
    "plt.xlabel('Заказы')\n",
    "plt.show()"
   ]
  },
  {
   "cell_type": "markdown",
   "metadata": {},
   "source": [
    "**Вывод по точечному графику стомости заказов:**\n",
    "- Аномальные заказы крайне редки, они располагаются лишь на границе 20 000 и 130 000.\n",
    "- В основном все заказы лежат между 0 и 15 000"
   ]
  },
  {
   "cell_type": "markdown",
   "metadata": {},
   "source": [
    "### 95-й и 99-й перцентили стоимости заказов"
   ]
  },
  {
   "cell_type": "code",
   "execution_count": 35,
   "metadata": {},
   "outputs": [
    {
     "name": "stdout",
     "output_type": "stream",
     "text": [
      "90-ый перцентиль = 17990.00\n",
      "95-ый перцентиль = 26785.00\n",
      "99-ый перцентиль = 53904.00\n"
     ]
    }
   ],
   "source": [
    "revenue_percentiles = np.percentile(orders['revenue'], [90, 95, 99])\n",
    "print('90-ый перцентиль = {:.2f}'.format(revenue_percentiles[0]))\n",
    "print('95-ый перцентиль = {:.2f}'.format(revenue_percentiles[1]))\n",
    "print('99-ый перцентиль = {:.2f}'.format(revenue_percentiles[2]))"
   ]
  },
  {
   "cell_type": "markdown",
   "metadata": {},
   "source": [
    "**Выводы по 95-ому и 99-ому перцентилям стомости заказов:**\n",
    "- Следует выбрать границу для аномальных пользователей, которые выбрали заказ на больше, чем 34 000."
   ]
  },
  {
   "cell_type": "markdown",
   "metadata": {},
   "source": [
    "### Проверим данные на нормальность распределения "
   ]
  },
  {
   "cell_type": "markdown",
   "metadata": {},
   "source": [
    "Проверим как распределена выручка в группе А:"
   ]
  },
  {
   "cell_type": "code",
   "execution_count": 36,
   "metadata": {},
   "outputs": [
    {
     "name": "stdout",
     "output_type": "stream",
     "text": [
      "p-значение:  2.8240222045454137e-31\n",
      "Отвергаем нулевую гипотезу: распределение не нормально\n"
     ]
    }
   ],
   "source": [
    "alpha = 0.05  # критический уровень статистической значимости\n",
    "\n",
    "results = st.shapiro(orders.query('group == \"A\"')['revenue'])\n",
    "p_value = results[\n",
    "    1\n",
    "]  # второе значение в массиве результатов (с индексом 1) - p-value\n",
    "\n",
    "print('p-значение: ', p_value)\n",
    "\n",
    "if p_value < alpha:\n",
    "    print('Отвергаем нулевую гипотезу: распределение не нормально')\n",
    "else:\n",
    "    print('Не получилось отвергнуть нулевую гипотезу, всё нормально') "
   ]
  },
  {
   "cell_type": "markdown",
   "metadata": {},
   "source": [
    "Проверим как распределена выручка в группе В:"
   ]
  },
  {
   "cell_type": "code",
   "execution_count": 37,
   "metadata": {},
   "outputs": [
    {
     "name": "stdout",
     "output_type": "stream",
     "text": [
      "p-значение:  4.203895392974451e-45\n",
      "Отвергаем нулевую гипотезу: распределение не нормально\n"
     ]
    }
   ],
   "source": [
    "alpha = 0.05  # критический уровень статистической значимости\n",
    "\n",
    "results = st.shapiro(orders.query('group == \"B\"')['revenue'])\n",
    "p_value = results[\n",
    "    1\n",
    "]  # второе значение в массиве результатов (с индексом 1) - p-value\n",
    "\n",
    "print('p-значение: ', p_value)\n",
    "\n",
    "if p_value < alpha:\n",
    "    print('Отвергаем нулевую гипотезу: распределение не нормально')\n",
    "else:\n",
    "    print('Не получилось отвергнуть нулевую гипотезу, всё нормально') "
   ]
  },
  {
   "cell_type": "markdown",
   "metadata": {},
   "source": [
    "### Статистическая значимость различий в конверсии между группами по «сырым» данным"
   ]
  },
  {
   "cell_type": "markdown",
   "metadata": {},
   "source": [
    "Построим таблицу для нахождения практической значимости:"
   ]
  },
  {
   "cell_type": "code",
   "execution_count": 38,
   "metadata": {},
   "outputs": [],
   "source": [
    "visitorsADaily = visitors[visitors['group'] == 'A'][['date', 'visitors']]\n",
    "visitorsADaily.columns = ['date', 'visitorsPerDateA']\n",
    "\n",
    "visitorsACummulative = visitorsADaily.apply(\n",
    "    lambda x: visitorsADaily[visitorsADaily['date'] <= x['date']].agg(\n",
    "        {'date': 'max', 'visitorsPerDateA': 'sum'}\n",
    "    ),\n",
    "    axis=1,\n",
    ")\n",
    "visitorsACummulative.columns = ['date', 'visitorsCummulativeA']\n",
    "\n",
    "visitorsBDaily = visitors[visitors['group'] == 'B'][['date', 'visitors']]\n",
    "visitorsBDaily.columns = ['date', 'visitorsPerDateB']\n",
    "\n",
    "visitorsBCummulative = visitorsBDaily.apply(\n",
    "    lambda x: visitorsBDaily[visitorsBDaily['date'] <= x['date']].agg(\n",
    "        {'date': 'max', 'visitorsPerDateB': 'sum'}\n",
    "    ),\n",
    "    axis=1,\n",
    ")\n",
    "visitorsBCummulative.columns = ['date', 'visitorsCummulativeB']\n",
    "\n",
    "ordersADaily = (\n",
    "    orders[orders['group'] == 'A'][['date', 'orderId', 'userId', 'revenue']]\n",
    "    .groupby('date', as_index=False)\n",
    "    .agg({'orderId': pd.Series.nunique, 'revenue': 'sum'})\n",
    ")\n",
    "ordersADaily.columns = ['date', 'ordersPerDateA', 'revenuePerDateA']\n",
    "\n",
    "ordersACummulative = ordersADaily.apply(\n",
    "    lambda x: ordersADaily[ordersADaily['date'] <= x['date']].agg(\n",
    "        {'date': 'max', 'ordersPerDateA': 'sum', 'revenuePerDateA': 'sum'}\n",
    "    ),\n",
    "    axis=1,\n",
    ").sort_values(by=['date'])\n",
    "ordersACummulative.columns = [\n",
    "    'date',\n",
    "    'ordersCummulativeA',\n",
    "    'revenueCummulativeA',\n",
    "]\n",
    "\n",
    "ordersBDaily = (\n",
    "    orders[orders['group'] == 'B'][['date', 'orderId', 'userId', 'revenue']]\n",
    "    .groupby('date', as_index=False)\n",
    "    .agg({'orderId': pd.Series.nunique, 'revenue': 'sum'})\n",
    ")\n",
    "ordersBDaily.columns = ['date', 'ordersPerDateB', 'revenuePerDateB']\n",
    "\n",
    "ordersBCummulative = ordersBDaily.apply(\n",
    "    lambda x: ordersBDaily[ordersBDaily['date'] <= x['date']].agg(\n",
    "        {'date': 'max', 'ordersPerDateB': 'sum', 'revenuePerDateB': 'sum'}\n",
    "    ),\n",
    "    axis=1,\n",
    ").sort_values(by=['date'])\n",
    "ordersBCummulative.columns = [\n",
    "    'date',\n",
    "    'ordersCummulativeB',\n",
    "    'revenueCummulativeB',\n",
    "]\n",
    "\n",
    "data = (\n",
    "    ordersADaily.merge(\n",
    "        ordersBDaily, left_on='date', right_on='date', how='left'\n",
    "    )\n",
    "    .merge(ordersACummulative, left_on='date', right_on='date', how='left')\n",
    "    .merge(ordersBCummulative, left_on='date', right_on='date', how='left')\n",
    "    .merge(visitorsADaily, left_on='date', right_on='date', how='left')\n",
    "    .merge(visitorsBDaily, left_on='date', right_on='date', how='left')\n",
    "    .merge(visitorsACummulative, left_on='date', right_on='date', how='left')\n",
    "    .merge(visitorsBCummulative, left_on='date', right_on='date', how='left')\n",
    ")"
   ]
  },
  {
   "cell_type": "code",
   "execution_count": 39,
   "metadata": {},
   "outputs": [
    {
     "data": {
      "text/html": [
       "<div>\n",
       "<style scoped>\n",
       "    .dataframe tbody tr th:only-of-type {\n",
       "        vertical-align: middle;\n",
       "    }\n",
       "\n",
       "    .dataframe tbody tr th {\n",
       "        vertical-align: top;\n",
       "    }\n",
       "\n",
       "    .dataframe thead th {\n",
       "        text-align: right;\n",
       "    }\n",
       "</style>\n",
       "<table border=\"1\" class=\"dataframe\">\n",
       "  <thead>\n",
       "    <tr style=\"text-align: right;\">\n",
       "      <th></th>\n",
       "      <th>date</th>\n",
       "      <th>ordersPerDateA</th>\n",
       "      <th>revenuePerDateA</th>\n",
       "      <th>ordersPerDateB</th>\n",
       "      <th>revenuePerDateB</th>\n",
       "      <th>ordersCummulativeA</th>\n",
       "      <th>revenueCummulativeA</th>\n",
       "      <th>ordersCummulativeB</th>\n",
       "      <th>revenueCummulativeB</th>\n",
       "      <th>visitorsPerDateA</th>\n",
       "      <th>visitorsPerDateB</th>\n",
       "      <th>visitorsCummulativeA</th>\n",
       "      <th>visitorsCummulativeB</th>\n",
       "    </tr>\n",
       "  </thead>\n",
       "  <tbody>\n",
       "    <tr>\n",
       "      <th>0</th>\n",
       "      <td>2019-08-01</td>\n",
       "      <td>23</td>\n",
       "      <td>142779</td>\n",
       "      <td>17</td>\n",
       "      <td>59758</td>\n",
       "      <td>23</td>\n",
       "      <td>142779</td>\n",
       "      <td>17</td>\n",
       "      <td>59758</td>\n",
       "      <td>719</td>\n",
       "      <td>713</td>\n",
       "      <td>719</td>\n",
       "      <td>713</td>\n",
       "    </tr>\n",
       "    <tr>\n",
       "      <th>1</th>\n",
       "      <td>2019-08-02</td>\n",
       "      <td>19</td>\n",
       "      <td>91602</td>\n",
       "      <td>23</td>\n",
       "      <td>162043</td>\n",
       "      <td>42</td>\n",
       "      <td>234381</td>\n",
       "      <td>40</td>\n",
       "      <td>221801</td>\n",
       "      <td>619</td>\n",
       "      <td>581</td>\n",
       "      <td>1338</td>\n",
       "      <td>1294</td>\n",
       "    </tr>\n",
       "    <tr>\n",
       "      <th>2</th>\n",
       "      <td>2019-08-03</td>\n",
       "      <td>24</td>\n",
       "      <td>112473</td>\n",
       "      <td>14</td>\n",
       "      <td>67049</td>\n",
       "      <td>66</td>\n",
       "      <td>346854</td>\n",
       "      <td>54</td>\n",
       "      <td>288850</td>\n",
       "      <td>507</td>\n",
       "      <td>509</td>\n",
       "      <td>1845</td>\n",
       "      <td>1803</td>\n",
       "    </tr>\n",
       "    <tr>\n",
       "      <th>3</th>\n",
       "      <td>2019-08-04</td>\n",
       "      <td>11</td>\n",
       "      <td>41176</td>\n",
       "      <td>14</td>\n",
       "      <td>96890</td>\n",
       "      <td>77</td>\n",
       "      <td>388030</td>\n",
       "      <td>68</td>\n",
       "      <td>385740</td>\n",
       "      <td>717</td>\n",
       "      <td>770</td>\n",
       "      <td>2562</td>\n",
       "      <td>2573</td>\n",
       "    </tr>\n",
       "    <tr>\n",
       "      <th>4</th>\n",
       "      <td>2019-08-05</td>\n",
       "      <td>22</td>\n",
       "      <td>86383</td>\n",
       "      <td>21</td>\n",
       "      <td>89908</td>\n",
       "      <td>99</td>\n",
       "      <td>474413</td>\n",
       "      <td>89</td>\n",
       "      <td>475648</td>\n",
       "      <td>756</td>\n",
       "      <td>707</td>\n",
       "      <td>3318</td>\n",
       "      <td>3280</td>\n",
       "    </tr>\n",
       "  </tbody>\n",
       "</table>\n",
       "</div>"
      ],
      "text/plain": [
       "        date  ordersPerDateA  revenuePerDateA  ordersPerDateB  \\\n",
       "0 2019-08-01              23           142779              17   \n",
       "1 2019-08-02              19            91602              23   \n",
       "2 2019-08-03              24           112473              14   \n",
       "3 2019-08-04              11            41176              14   \n",
       "4 2019-08-05              22            86383              21   \n",
       "\n",
       "   revenuePerDateB  ordersCummulativeA  revenueCummulativeA  \\\n",
       "0            59758                  23               142779   \n",
       "1           162043                  42               234381   \n",
       "2            67049                  66               346854   \n",
       "3            96890                  77               388030   \n",
       "4            89908                  99               474413   \n",
       "\n",
       "   ordersCummulativeB  revenueCummulativeB  visitorsPerDateA  \\\n",
       "0                  17                59758               719   \n",
       "1                  40               221801               619   \n",
       "2                  54               288850               507   \n",
       "3                  68               385740               717   \n",
       "4                  89               475648               756   \n",
       "\n",
       "   visitorsPerDateB  visitorsCummulativeA  visitorsCummulativeB  \n",
       "0               713                   719                   713  \n",
       "1               581                  1338                  1294  \n",
       "2               509                  1845                  1803  \n",
       "3               770                  2562                  2573  \n",
       "4               707                  3318                  3280  "
      ]
     },
     "execution_count": 39,
     "metadata": {},
     "output_type": "execute_result"
    }
   ],
   "source": [
    "data.head()"
   ]
  },
  {
   "cell_type": "code",
   "execution_count": 40,
   "metadata": {},
   "outputs": [],
   "source": [
    "ordersByUsersA = (\n",
    "    orders[orders['group'] == 'A']\n",
    "    .groupby('userId', as_index=False)\n",
    "    .agg({'orderId': pd.Series.nunique})\n",
    ")\n",
    "ordersByUsersA.columns = ['userId', 'orders']\n",
    "\n",
    "ordersByUsersB = (\n",
    "    orders[orders['group'] == 'B']\n",
    "    .groupby('userId', as_index=False)\n",
    "    .agg({'orderId': pd.Series.nunique})\n",
    ")\n",
    "ordersByUsersB.columns = ['userId', 'orders'] "
   ]
  },
  {
   "cell_type": "code",
   "execution_count": 41,
   "metadata": {},
   "outputs": [],
   "source": [
    "sampleA = pd.concat([ordersByUsersA['orders'],pd.Series(0, index=np.arange(data['visitorsPerDateA'].sum() - len(ordersByUsersA['orders'])), name='orders')],axis=0)\n",
    "\n",
    "sampleB = pd.concat([ordersByUsersB['orders'],pd.Series(0, index=np.arange(data['visitorsPerDateB'].sum() - len(ordersByUsersB['orders'])), name='orders')],axis=0)"
   ]
  },
  {
   "cell_type": "markdown",
   "metadata": {},
   "source": [
    "H0 - разницы в конверсии между группами нет\n",
    "\n",
    "H1 - разница в конверсии между группами есть"
   ]
  },
  {
   "cell_type": "code",
   "execution_count": 42,
   "metadata": {
    "scrolled": true
   },
   "outputs": [
    {
     "name": "stdout",
     "output_type": "stream",
     "text": [
      "0.011\n",
      "0.160\n"
     ]
    }
   ],
   "source": [
    "print(\"{0:.3f}\".format(stats.mannwhitneyu(sampleA, sampleB, True, alternative=\"two-sided\")[1]))\n",
    "\n",
    "print(\"{0:.3f}\".format(sampleB.mean() / sampleA.mean() - 1))"
   ]
  },
  {
   "cell_type": "markdown",
   "metadata": {},
   "source": [
    "**Выводы по статистической значимости различий в конверсии между группами по «сырым» данным:**\n",
    "- P-Value значительно ниже уровня статистической значимости в 0.05, что указывает на то, что между данными есть разница\n",
    "- Нулевую гипотезу о том, что статистически значимых различий в конверсии между группами нет, отвергаем\n",
    "- Относительный проигрыш группы B равен 16%."
   ]
  },
  {
   "cell_type": "markdown",
   "metadata": {},
   "source": [
    "### Статистическая значимость различий в среднем чеке заказа между группами по «сырым» данным"
   ]
  },
  {
   "cell_type": "markdown",
   "metadata": {},
   "source": [
    "H0 - Различие по среднему чеку между группами А и В нет\n",
    "\n",
    "H1 - Различие по среднему чеку между группами А и В есть"
   ]
  },
  {
   "cell_type": "markdown",
   "metadata": {},
   "source": [
    "Применим статистический критерий Манна-Уитни к полученным выборкам:"
   ]
  },
  {
   "cell_type": "code",
   "execution_count": 43,
   "metadata": {},
   "outputs": [
    {
     "name": "stdout",
     "output_type": "stream",
     "text": [
      "P-Value = 0.829\n",
      "Относительное различие группы В по сравнению с группой А = 0.287\n"
     ]
    }
   ],
   "source": [
    "print('P-Value = {0:.3f}'.format(stats.mannwhitneyu(orders[orders['group']=='A']['revenue'], orders[orders['group']=='B']['revenue'], True, alternative=\"two-sided\")[1]))\n",
    "print('Относительное различие группы В по сравнению с группой А = {0:.3f}'.format(orders[orders['group']=='B']['revenue'].mean()/orders[orders['group']=='A']['revenue'].mean()-1))"
   ]
  },
  {
   "cell_type": "markdown",
   "metadata": {},
   "source": [
    "**Выводы по статистической значимость различий в среднем чеке заказа между группами по «сырым» данным:**  \n",
    "- P-value значительно больше 0.05. Значит, причин отвергать нулевую гипотезу и считать, что в среднем чеке есть различия, нет. Впрочем, средний чек группы B значительно ниже среднего чека группы A."
   ]
  },
  {
   "cell_type": "markdown",
   "metadata": {},
   "source": [
    "### Статистическая значимость различий в конверсии между группами по «очищенным» данным"
   ]
  },
  {
   "cell_type": "markdown",
   "metadata": {},
   "source": [
    "Подсчитаем количество аномальных пользователей:"
   ]
  },
  {
   "cell_type": "code",
   "execution_count": 44,
   "metadata": {},
   "outputs": [
    {
     "name": "stdout",
     "output_type": "stream",
     "text": [
      "1099    148427295\n",
      "33      249864742\n",
      "684     358944393\n",
      "648     382846391\n",
      "58      611059232\n",
      "Name: userId, dtype: int64\n",
      "(39,)\n"
     ]
    }
   ],
   "source": [
    "usersWithManyOrders = pd.concat(\n",
    "    [\n",
    "        ordersByUsersA[ordersByUsersA['orders'] > 2]['userId'],\n",
    "        ordersByUsersB[ordersByUsersB['orders'] > 2]['userId'],\n",
    "    ],\n",
    "    axis=0,\n",
    ")\n",
    "usersWithExpensiveOrders = orders[orders['revenue'] > 34000]['userId']\n",
    "abnormalUsers = (\n",
    "    pd.concat([usersWithManyOrders, usersWithExpensiveOrders], axis=0)\n",
    "    .drop_duplicates()\n",
    "    .sort_values()\n",
    ")\n",
    "print(abnormalUsers.head(5))\n",
    "print(abnormalUsers.shape)"
   ]
  },
  {
   "cell_type": "markdown",
   "metadata": {},
   "source": [
    "- Имеем 17 аномальных пользователей"
   ]
  },
  {
   "cell_type": "markdown",
   "metadata": {},
   "source": [
    "Произведем очистку данных:"
   ]
  },
  {
   "cell_type": "code",
   "execution_count": 45,
   "metadata": {},
   "outputs": [],
   "source": [
    "sampleAFiltered = pd.concat(\n",
    "    [\n",
    "        ordersByUsersA[\n",
    "            np.logical_not(ordersByUsersA['userId'].isin(abnormalUsers))\n",
    "        ]['orders'],\n",
    "        pd.Series(\n",
    "            0,\n",
    "            index=np.arange(\n",
    "                data['visitorsPerDateA'].sum() - len(ordersByUsersA['orders'])\n",
    "            ),\n",
    "            name='orders',\n",
    "        ),\n",
    "    ],\n",
    "    axis=0,\n",
    ")\n",
    "\n",
    "sampleBFiltered = pd.concat(\n",
    "    [\n",
    "        ordersByUsersB[\n",
    "            np.logical_not(ordersByUsersB['userId'].isin(abnormalUsers))\n",
    "        ]['orders'],\n",
    "        pd.Series(\n",
    "            0,\n",
    "            index=np.arange(\n",
    "                data['visitorsPerDateB'].sum() - len(ordersByUsersB['orders'])\n",
    "            ),\n",
    "            name='orders',\n",
    "        ),\n",
    "    ],\n",
    "    axis=0,\n",
    ")"
   ]
  },
  {
   "cell_type": "markdown",
   "metadata": {},
   "source": [
    "H0 - разницы в конверсии между группами нет\n",
    "\n",
    "H1 - разница в конверсии между группами есть"
   ]
  },
  {
   "cell_type": "markdown",
   "metadata": {},
   "source": [
    "Применим статистический критерий Манна-Уитни к полученным выборкам"
   ]
  },
  {
   "cell_type": "code",
   "execution_count": 46,
   "metadata": {},
   "outputs": [
    {
     "name": "stdout",
     "output_type": "stream",
     "text": [
      "P-Value = 0.007\n",
      "Относительное различие группы В по сравнению с группой А = 0.195\n"
     ]
    }
   ],
   "source": [
    "print('P-Value = {0:.3f}'.format(stats.mannwhitneyu(sampleAFiltered, sampleBFiltered, True, alternative=\"two-sided\")[1]))\n",
    "print('Относительное различие группы В по сравнению с группой А = {0:.3f}'.format(sampleBFiltered.mean()/sampleAFiltered.mean()-1)) "
   ]
  },
  {
   "cell_type": "markdown",
   "metadata": {},
   "source": [
    "**Выводы статистической значимости различий в конверсии между группами по «очищенным» данным:**\n",
    "- Результаты по конверсии практически не изменились, однако P-Value уменьшился и повысилось относительное различие групп"
   ]
  },
  {
   "cell_type": "markdown",
   "metadata": {},
   "source": [
    "### Статистическая значимость различий в среднем чеке заказа между группами по «очищенным» данным"
   ]
  },
  {
   "cell_type": "markdown",
   "metadata": {},
   "source": [
    "H0 - Различие по среднему чеку между группами А и В нет\n",
    "\n",
    "H1 - Различие по среднему чеку между группами А и В есть"
   ]
  },
  {
   "cell_type": "code",
   "execution_count": 47,
   "metadata": {},
   "outputs": [
    {
     "name": "stdout",
     "output_type": "stream",
     "text": [
      "P-Value = 0.877\n",
      "Относительное различие группы B по сравнению с группой А = 0.006\n"
     ]
    }
   ],
   "source": [
    "print(\n",
    "    'P-Value = {0:.3f}'.format(\n",
    "        stats.mannwhitneyu(\n",
    "            orders[\n",
    "                np.logical_and(\n",
    "                    orders['group'] == 'A',\n",
    "                    np.logical_not(orders['userId'].isin(abnormalUsers)),\n",
    "                )\n",
    "            ]['revenue'],\n",
    "            orders[\n",
    "                np.logical_and(\n",
    "                    orders['group'] == 'B',\n",
    "                    np.logical_not(orders['userId'].isin(abnormalUsers)),\n",
    "                )\n",
    "            ]['revenue'], True, alternative=\"two-sided\"\n",
    "        )[1]\n",
    "    )\n",
    ")\n",
    "\n",
    "print(\n",
    "    \"Относительное различие группы B по сравнению с группой А = {0:.3f}\".format(\n",
    "        orders[\n",
    "            np.logical_and(\n",
    "                orders['group'] == 'B',\n",
    "                np.logical_not(orders['userId'].isin(abnormalUsers)),\n",
    "            )\n",
    "        ]['revenue'].mean()\n",
    "        / orders[\n",
    "            np.logical_and(\n",
    "                orders['group'] == 'A',\n",
    "                np.logical_not(orders['userId'].isin(abnormalUsers)),\n",
    "            )\n",
    "        ]['revenue'].mean()\n",
    "        - 1\n",
    "    )\n",
    ")"
   ]
  },
  {
   "cell_type": "markdown",
   "metadata": {},
   "source": [
    "**Выводы по статистической значимости различий в среднем чеке заказа между группами по «очищенным» данным:**\n",
    "- P-Value значительно повысился\n",
    "- Относительное различие снизилось на 10%."
   ]
  },
  {
   "cell_type": "markdown",
   "metadata": {},
   "source": [
    "### Решение по результатам теста:"
   ]
  },
  {
   "cell_type": "markdown",
   "metadata": {},
   "source": [
    "- Есть статистически значимое различие по конверсии между группами по «сырым» и по данным после фильтрации аномалий\n",
    "- Нет статистически значимого различия по среднему чеку между группами ни по «сырым», ни по данным после фильтрации аномалий\n",
    "- График различия конверсии между группами сообщает, что результаты группы B лучше группы A и нет значительной тенденции к ухудшению\n",
    "- График различия среднего чека говорит о том, что результаты группы B лучше результатов группы А. Тенденция идет на спад, но она вовсе не критична.\n",
    "- Исходя из обнаруженных фактов, тест следует остановить и признать его успешным. Продолжать смысла нет, потому как вероятность, что при имеющихся данных сегмент B на самом деле хуже сегмента A — практически нулевая."
   ]
  }
 ],
 "metadata": {
  "ExecuteTimeLog": [
   {
    "duration": 892,
    "start_time": "2022-03-21T13:50:55.971Z"
   },
   {
    "duration": 116,
    "start_time": "2022-03-21T13:53:09.706Z"
   },
   {
    "duration": 75,
    "start_time": "2022-03-21T13:53:15.952Z"
   },
   {
    "duration": 12,
    "start_time": "2022-03-21T13:54:42.583Z"
   },
   {
    "duration": 12,
    "start_time": "2022-03-21T13:54:55.998Z"
   },
   {
    "duration": 8,
    "start_time": "2022-03-21T13:55:33.580Z"
   },
   {
    "duration": 11,
    "start_time": "2022-03-21T13:55:44.526Z"
   },
   {
    "duration": 8,
    "start_time": "2022-03-21T13:56:09.216Z"
   },
   {
    "duration": 11,
    "start_time": "2022-03-21T13:56:14.028Z"
   },
   {
    "duration": 9,
    "start_time": "2022-03-21T14:14:16.836Z"
   },
   {
    "duration": 7,
    "start_time": "2022-03-21T14:15:25.529Z"
   },
   {
    "duration": 2401,
    "start_time": "2022-03-21T14:16:12.875Z"
   },
   {
    "duration": 10,
    "start_time": "2022-03-21T14:16:49.333Z"
   },
   {
    "duration": 4,
    "start_time": "2022-03-21T14:18:09.359Z"
   },
   {
    "duration": 4,
    "start_time": "2022-03-21T14:18:19.617Z"
   },
   {
    "duration": 10,
    "start_time": "2022-03-21T14:18:33.071Z"
   },
   {
    "duration": 12,
    "start_time": "2022-03-21T14:19:06.939Z"
   },
   {
    "duration": 8,
    "start_time": "2022-03-21T14:29:16.922Z"
   },
   {
    "duration": 100,
    "start_time": "2022-03-21T14:29:34.321Z"
   },
   {
    "duration": 619,
    "start_time": "2022-03-21T14:29:38.656Z"
   },
   {
    "duration": 4,
    "start_time": "2022-03-21T14:29:55.729Z"
   },
   {
    "duration": 618,
    "start_time": "2022-03-21T14:29:58.418Z"
   },
   {
    "duration": 5,
    "start_time": "2022-03-21T14:30:25.216Z"
   },
   {
    "duration": 1704,
    "start_time": "2022-03-21T14:30:42.496Z"
   },
   {
    "duration": 12,
    "start_time": "2022-03-21T14:30:52.584Z"
   },
   {
    "duration": 2498,
    "start_time": "2022-03-21T14:31:57.647Z"
   },
   {
    "duration": 4,
    "start_time": "2022-03-21T14:35:27.270Z"
   },
   {
    "duration": 14,
    "start_time": "2022-03-21T14:35:33.819Z"
   },
   {
    "duration": 5,
    "start_time": "2022-03-21T14:38:58.232Z"
   },
   {
    "duration": 182,
    "start_time": "2022-03-21T14:39:06.432Z"
   },
   {
    "duration": 137,
    "start_time": "2022-03-21T14:39:12.216Z"
   },
   {
    "duration": 291,
    "start_time": "2022-03-21T14:39:20.293Z"
   },
   {
    "duration": 271,
    "start_time": "2022-03-21T14:39:32.798Z"
   },
   {
    "duration": 195,
    "start_time": "2022-03-21T14:39:55.698Z"
   },
   {
    "duration": 166,
    "start_time": "2022-03-21T14:41:38.998Z"
   },
   {
    "duration": 247,
    "start_time": "2022-03-21T14:42:06.356Z"
   },
   {
    "duration": 180,
    "start_time": "2022-03-21T14:42:11.786Z"
   },
   {
    "duration": 190,
    "start_time": "2022-03-21T14:42:21.396Z"
   },
   {
    "duration": 196,
    "start_time": "2022-03-21T14:42:52.632Z"
   },
   {
    "duration": 199,
    "start_time": "2022-03-21T14:42:57.617Z"
   },
   {
    "duration": 206,
    "start_time": "2022-03-21T14:43:01.068Z"
   },
   {
    "duration": 193,
    "start_time": "2022-03-21T14:43:05.492Z"
   },
   {
    "duration": 215,
    "start_time": "2022-03-21T14:43:10.748Z"
   },
   {
    "duration": 215,
    "start_time": "2022-03-21T14:43:35.997Z"
   },
   {
    "duration": 209,
    "start_time": "2022-03-21T14:43:42.570Z"
   },
   {
    "duration": 202,
    "start_time": "2022-03-21T14:43:45.943Z"
   },
   {
    "duration": 206,
    "start_time": "2022-03-21T14:43:49.045Z"
   },
   {
    "duration": 209,
    "start_time": "2022-03-21T14:43:53.503Z"
   },
   {
    "duration": 202,
    "start_time": "2022-03-21T14:43:58.817Z"
   },
   {
    "duration": 148,
    "start_time": "2022-03-21T14:44:40.945Z"
   },
   {
    "duration": 163,
    "start_time": "2022-03-21T14:44:46.460Z"
   },
   {
    "duration": 324,
    "start_time": "2022-03-21T14:44:50.094Z"
   },
   {
    "duration": 347,
    "start_time": "2022-03-21T14:44:57.033Z"
   },
   {
    "duration": 211,
    "start_time": "2022-03-21T14:45:04.117Z"
   },
   {
    "duration": 205,
    "start_time": "2022-03-21T14:45:24.444Z"
   },
   {
    "duration": 191,
    "start_time": "2022-03-21T14:46:07.954Z"
   },
   {
    "duration": 190,
    "start_time": "2022-03-21T14:46:10.962Z"
   },
   {
    "duration": 199,
    "start_time": "2022-03-21T14:46:14.437Z"
   },
   {
    "duration": 290,
    "start_time": "2022-03-21T14:46:18.664Z"
   },
   {
    "duration": 271,
    "start_time": "2022-03-21T14:46:22.611Z"
   },
   {
    "duration": 357,
    "start_time": "2022-03-21T14:46:26.100Z"
   },
   {
    "duration": 188,
    "start_time": "2022-03-21T14:46:36.247Z"
   },
   {
    "duration": 260,
    "start_time": "2022-03-21T14:47:15.455Z"
   },
   {
    "duration": 178,
    "start_time": "2022-03-21T14:49:38.668Z"
   },
   {
    "duration": 244,
    "start_time": "2022-03-21T14:49:46.899Z"
   },
   {
    "duration": 248,
    "start_time": "2022-03-21T14:49:52.082Z"
   },
   {
    "duration": 346,
    "start_time": "2022-03-21T15:01:28.322Z"
   },
   {
    "duration": 346,
    "start_time": "2022-03-21T15:01:40.468Z"
   },
   {
    "duration": 360,
    "start_time": "2022-03-21T15:01:47.049Z"
   },
   {
    "duration": 208,
    "start_time": "2022-03-21T15:27:57.512Z"
   },
   {
    "duration": 330,
    "start_time": "2022-03-21T15:28:05.694Z"
   },
   {
    "duration": 298,
    "start_time": "2022-03-21T15:28:13.202Z"
   },
   {
    "duration": 284,
    "start_time": "2022-03-21T15:28:19.211Z"
   },
   {
    "duration": 5,
    "start_time": "2022-03-21T15:28:54.772Z"
   },
   {
    "duration": 6,
    "start_time": "2022-03-21T15:29:00.772Z"
   },
   {
    "duration": 254,
    "start_time": "2022-03-21T15:29:20.854Z"
   },
   {
    "duration": 6,
    "start_time": "2022-03-21T15:29:45.573Z"
   },
   {
    "duration": 224,
    "start_time": "2022-03-21T15:29:53.272Z"
   },
   {
    "duration": 209,
    "start_time": "2022-03-21T15:30:52.451Z"
   },
   {
    "duration": 160,
    "start_time": "2022-03-21T15:31:57.811Z"
   },
   {
    "duration": 804,
    "start_time": "2022-03-21T18:43:54.763Z"
   },
   {
    "duration": 53,
    "start_time": "2022-03-21T18:43:55.569Z"
   },
   {
    "duration": 12,
    "start_time": "2022-03-21T18:43:55.624Z"
   },
   {
    "duration": 12,
    "start_time": "2022-03-21T18:43:55.638Z"
   },
   {
    "duration": 72,
    "start_time": "2022-03-21T18:43:55.653Z"
   },
   {
    "duration": 0,
    "start_time": "2022-03-21T18:43:55.727Z"
   },
   {
    "duration": 0,
    "start_time": "2022-03-21T18:43:55.738Z"
   },
   {
    "duration": 0,
    "start_time": "2022-03-21T18:43:55.739Z"
   },
   {
    "duration": 0,
    "start_time": "2022-03-21T18:43:55.740Z"
   },
   {
    "duration": 0,
    "start_time": "2022-03-21T18:43:55.741Z"
   },
   {
    "duration": 0,
    "start_time": "2022-03-21T18:43:55.742Z"
   },
   {
    "duration": 0,
    "start_time": "2022-03-21T18:43:55.743Z"
   },
   {
    "duration": 0,
    "start_time": "2022-03-21T18:43:55.744Z"
   },
   {
    "duration": 0,
    "start_time": "2022-03-21T18:43:55.746Z"
   },
   {
    "duration": 0,
    "start_time": "2022-03-21T18:43:55.747Z"
   },
   {
    "duration": 0,
    "start_time": "2022-03-21T18:43:55.748Z"
   },
   {
    "duration": 0,
    "start_time": "2022-03-21T18:43:55.749Z"
   },
   {
    "duration": 0,
    "start_time": "2022-03-21T18:43:55.749Z"
   },
   {
    "duration": 0,
    "start_time": "2022-03-21T18:43:55.750Z"
   },
   {
    "duration": 0,
    "start_time": "2022-03-21T18:43:55.751Z"
   },
   {
    "duration": 0,
    "start_time": "2022-03-21T18:43:55.753Z"
   },
   {
    "duration": 0,
    "start_time": "2022-03-21T18:43:55.754Z"
   },
   {
    "duration": 0,
    "start_time": "2022-03-21T18:43:55.755Z"
   },
   {
    "duration": 0,
    "start_time": "2022-03-21T18:43:55.756Z"
   },
   {
    "duration": 0,
    "start_time": "2022-03-21T18:43:55.757Z"
   },
   {
    "duration": 0,
    "start_time": "2022-03-21T18:43:55.758Z"
   },
   {
    "duration": 3,
    "start_time": "2022-03-21T18:44:11.844Z"
   },
   {
    "duration": 68,
    "start_time": "2022-03-21T18:44:11.849Z"
   },
   {
    "duration": 8,
    "start_time": "2022-03-21T18:44:11.918Z"
   },
   {
    "duration": 18,
    "start_time": "2022-03-21T18:44:11.928Z"
   },
   {
    "duration": 18,
    "start_time": "2022-03-21T18:44:11.948Z"
   },
   {
    "duration": 20,
    "start_time": "2022-03-21T18:44:11.967Z"
   },
   {
    "duration": 10,
    "start_time": "2022-03-21T18:44:11.988Z"
   },
   {
    "duration": 17,
    "start_time": "2022-03-21T18:44:12.000Z"
   },
   {
    "duration": 36,
    "start_time": "2022-03-21T18:44:12.018Z"
   },
   {
    "duration": 30,
    "start_time": "2022-03-21T18:44:12.056Z"
   },
   {
    "duration": 18,
    "start_time": "2022-03-21T18:44:12.088Z"
   },
   {
    "duration": 10,
    "start_time": "2022-03-21T18:44:12.108Z"
   },
   {
    "duration": 20,
    "start_time": "2022-03-21T18:44:12.119Z"
   },
   {
    "duration": 19,
    "start_time": "2022-03-21T18:44:12.141Z"
   },
   {
    "duration": 27,
    "start_time": "2022-03-21T18:44:12.162Z"
   },
   {
    "duration": 16,
    "start_time": "2022-03-21T18:44:12.191Z"
   },
   {
    "duration": 29,
    "start_time": "2022-03-21T18:44:12.209Z"
   },
   {
    "duration": 175,
    "start_time": "2022-03-21T18:44:12.240Z"
   },
   {
    "duration": 132,
    "start_time": "2022-03-21T18:44:12.417Z"
   },
   {
    "duration": 286,
    "start_time": "2022-03-21T18:44:12.551Z"
   },
   {
    "duration": 311,
    "start_time": "2022-03-21T18:44:12.839Z"
   },
   {
    "duration": 251,
    "start_time": "2022-03-21T18:44:13.152Z"
   },
   {
    "duration": 415,
    "start_time": "2022-03-21T18:44:13.405Z"
   },
   {
    "duration": 8,
    "start_time": "2022-03-21T18:44:13.821Z"
   },
   {
    "duration": 0,
    "start_time": "2022-03-21T18:44:13.838Z"
   },
   {
    "duration": 0,
    "start_time": "2022-03-21T18:44:13.839Z"
   },
   {
    "duration": 4,
    "start_time": "2022-03-21T18:44:30.295Z"
   },
   {
    "duration": 49,
    "start_time": "2022-03-21T18:44:30.301Z"
   },
   {
    "duration": 8,
    "start_time": "2022-03-21T18:44:30.352Z"
   },
   {
    "duration": 13,
    "start_time": "2022-03-21T18:44:30.362Z"
   },
   {
    "duration": 10,
    "start_time": "2022-03-21T18:44:30.377Z"
   },
   {
    "duration": 14,
    "start_time": "2022-03-21T18:44:30.389Z"
   },
   {
    "duration": 10,
    "start_time": "2022-03-21T18:44:30.405Z"
   },
   {
    "duration": 26,
    "start_time": "2022-03-21T18:44:30.417Z"
   },
   {
    "duration": 11,
    "start_time": "2022-03-21T18:44:30.445Z"
   },
   {
    "duration": 15,
    "start_time": "2022-03-21T18:44:30.458Z"
   },
   {
    "duration": 9,
    "start_time": "2022-03-21T18:44:30.475Z"
   },
   {
    "duration": 13,
    "start_time": "2022-03-21T18:44:30.486Z"
   },
   {
    "duration": 83,
    "start_time": "2022-03-21T18:44:30.501Z"
   },
   {
    "duration": 19,
    "start_time": "2022-03-21T18:44:30.587Z"
   },
   {
    "duration": 15,
    "start_time": "2022-03-21T18:44:30.608Z"
   },
   {
    "duration": 16,
    "start_time": "2022-03-21T18:44:30.625Z"
   },
   {
    "duration": 24,
    "start_time": "2022-03-21T18:44:30.643Z"
   },
   {
    "duration": 160,
    "start_time": "2022-03-21T18:44:30.669Z"
   },
   {
    "duration": 132,
    "start_time": "2022-03-21T18:44:30.831Z"
   },
   {
    "duration": 283,
    "start_time": "2022-03-21T18:44:30.965Z"
   },
   {
    "duration": 239,
    "start_time": "2022-03-21T18:44:31.250Z"
   },
   {
    "duration": 232,
    "start_time": "2022-03-21T18:44:31.490Z"
   },
   {
    "duration": 370,
    "start_time": "2022-03-21T18:44:31.724Z"
   },
   {
    "duration": 8,
    "start_time": "2022-03-21T18:44:32.095Z"
   },
   {
    "duration": 0,
    "start_time": "2022-03-21T18:44:32.105Z"
   },
   {
    "duration": 0,
    "start_time": "2022-03-21T18:44:32.106Z"
   },
   {
    "duration": 113,
    "start_time": "2022-03-21T18:44:37.306Z"
   },
   {
    "duration": 6,
    "start_time": "2022-03-21T18:44:51.553Z"
   },
   {
    "duration": 158,
    "start_time": "2022-03-21T18:44:52.982Z"
   },
   {
    "duration": 177,
    "start_time": "2022-03-21T18:45:01.532Z"
   },
   {
    "duration": 268,
    "start_time": "2022-03-21T18:45:07.858Z"
   },
   {
    "duration": 93,
    "start_time": "2022-03-21T18:46:44.074Z"
   },
   {
    "duration": 191,
    "start_time": "2022-03-21T18:46:48.931Z"
   },
   {
    "duration": 181,
    "start_time": "2022-03-21T18:47:00.781Z"
   },
   {
    "duration": 176,
    "start_time": "2022-03-21T18:47:07.426Z"
   },
   {
    "duration": 5,
    "start_time": "2022-03-21T18:47:55.707Z"
   },
   {
    "duration": 5,
    "start_time": "2022-03-21T18:47:57.368Z"
   },
   {
    "duration": 209,
    "start_time": "2022-03-21T18:48:08.914Z"
   },
   {
    "duration": 92,
    "start_time": "2022-03-21T18:48:44.543Z"
   },
   {
    "duration": 290,
    "start_time": "2022-03-21T18:48:55.983Z"
   },
   {
    "duration": 201,
    "start_time": "2022-03-21T18:50:01.298Z"
   },
   {
    "duration": 184,
    "start_time": "2022-03-21T18:50:18.595Z"
   },
   {
    "duration": 185,
    "start_time": "2022-03-21T18:50:35.303Z"
   },
   {
    "duration": 238,
    "start_time": "2022-03-21T18:50:39.869Z"
   },
   {
    "duration": 302,
    "start_time": "2022-03-21T18:57:54.764Z"
   },
   {
    "duration": 303,
    "start_time": "2022-03-21T18:58:09.428Z"
   },
   {
    "duration": 358,
    "start_time": "2022-03-21T18:58:19.825Z"
   },
   {
    "duration": 10,
    "start_time": "2022-03-21T19:02:01.833Z"
   },
   {
    "duration": 8,
    "start_time": "2022-03-21T19:02:39.079Z"
   },
   {
    "duration": 120,
    "start_time": "2022-03-21T19:02:44.306Z"
   },
   {
    "duration": 178,
    "start_time": "2022-03-21T19:02:51.048Z"
   },
   {
    "duration": 173,
    "start_time": "2022-03-21T19:03:06.200Z"
   },
   {
    "duration": 241,
    "start_time": "2022-03-21T19:03:08.402Z"
   },
   {
    "duration": 116,
    "start_time": "2022-03-21T19:03:11.057Z"
   },
   {
    "duration": 163,
    "start_time": "2022-03-21T19:03:16.070Z"
   },
   {
    "duration": 113,
    "start_time": "2022-03-21T19:03:26.979Z"
   },
   {
    "duration": 5,
    "start_time": "2022-03-21T19:05:50.118Z"
   },
   {
    "duration": 4,
    "start_time": "2022-03-21T19:08:26.417Z"
   },
   {
    "duration": 5,
    "start_time": "2022-03-21T19:08:32.274Z"
   },
   {
    "duration": 4,
    "start_time": "2022-03-21T19:08:45.589Z"
   },
   {
    "duration": 5,
    "start_time": "2022-03-21T19:09:01.357Z"
   },
   {
    "duration": 116,
    "start_time": "2022-03-21T19:13:36.853Z"
   },
   {
    "duration": 8,
    "start_time": "2022-03-21T19:14:00.292Z"
   },
   {
    "duration": 143,
    "start_time": "2022-03-21T19:14:05.227Z"
   },
   {
    "duration": 125,
    "start_time": "2022-03-21T19:14:30.046Z"
   },
   {
    "duration": 120,
    "start_time": "2022-03-21T19:14:35.998Z"
   },
   {
    "duration": 123,
    "start_time": "2022-03-21T19:14:40.146Z"
   },
   {
    "duration": 105,
    "start_time": "2022-03-21T19:15:26.588Z"
   },
   {
    "duration": 132,
    "start_time": "2022-03-21T19:21:24.174Z"
   },
   {
    "duration": 107,
    "start_time": "2022-03-21T19:21:24.563Z"
   },
   {
    "duration": 108,
    "start_time": "2022-03-21T19:21:31.019Z"
   },
   {
    "duration": 95,
    "start_time": "2022-03-21T19:25:35.613Z"
   },
   {
    "duration": 101,
    "start_time": "2022-03-21T19:25:38.822Z"
   },
   {
    "duration": 4,
    "start_time": "2022-03-21T19:26:05.812Z"
   },
   {
    "duration": 4,
    "start_time": "2022-03-21T19:26:48.845Z"
   },
   {
    "duration": 5,
    "start_time": "2022-03-21T19:26:51.812Z"
   },
   {
    "duration": 5,
    "start_time": "2022-03-21T19:27:07.551Z"
   },
   {
    "duration": 696,
    "start_time": "2022-03-21T19:29:28.344Z"
   },
   {
    "duration": 48,
    "start_time": "2022-03-21T19:30:30.781Z"
   },
   {
    "duration": 5,
    "start_time": "2022-03-21T19:30:43.194Z"
   },
   {
    "duration": 17,
    "start_time": "2022-03-21T19:31:01.545Z"
   },
   {
    "duration": 10,
    "start_time": "2022-03-21T19:36:46.749Z"
   },
   {
    "duration": 95,
    "start_time": "2022-03-21T19:37:06.405Z"
   },
   {
    "duration": 10,
    "start_time": "2022-03-21T19:39:31.994Z"
   },
   {
    "duration": 9,
    "start_time": "2022-03-21T19:39:48.236Z"
   },
   {
    "duration": 9,
    "start_time": "2022-03-21T19:40:09.403Z"
   },
   {
    "duration": 7,
    "start_time": "2022-03-21T19:40:42.790Z"
   },
   {
    "duration": 8,
    "start_time": "2022-03-21T19:41:26.597Z"
   },
   {
    "duration": 17,
    "start_time": "2022-03-21T19:41:34.139Z"
   },
   {
    "duration": 11,
    "start_time": "2022-03-21T19:42:37.815Z"
   },
   {
    "duration": 12,
    "start_time": "2022-03-21T19:42:40.155Z"
   },
   {
    "duration": 16,
    "start_time": "2022-03-21T19:43:09.525Z"
   },
   {
    "duration": 14,
    "start_time": "2022-03-21T19:45:45.646Z"
   },
   {
    "duration": 13,
    "start_time": "2022-03-21T19:46:25.225Z"
   },
   {
    "duration": 3,
    "start_time": "2022-03-21T19:53:27.206Z"
   },
   {
    "duration": 69,
    "start_time": "2022-03-21T19:53:27.211Z"
   },
   {
    "duration": 8,
    "start_time": "2022-03-21T19:53:27.282Z"
   },
   {
    "duration": 12,
    "start_time": "2022-03-21T19:53:27.291Z"
   },
   {
    "duration": 9,
    "start_time": "2022-03-21T19:53:27.305Z"
   },
   {
    "duration": 13,
    "start_time": "2022-03-21T19:53:27.316Z"
   },
   {
    "duration": 8,
    "start_time": "2022-03-21T19:53:27.331Z"
   },
   {
    "duration": 12,
    "start_time": "2022-03-21T19:53:27.341Z"
   },
   {
    "duration": 11,
    "start_time": "2022-03-21T19:53:27.354Z"
   },
   {
    "duration": 11,
    "start_time": "2022-03-21T19:53:27.366Z"
   },
   {
    "duration": 15,
    "start_time": "2022-03-21T19:53:27.378Z"
   },
   {
    "duration": 12,
    "start_time": "2022-03-21T19:53:27.394Z"
   },
   {
    "duration": 10,
    "start_time": "2022-03-21T19:53:27.409Z"
   },
   {
    "duration": 19,
    "start_time": "2022-03-21T19:53:27.421Z"
   },
   {
    "duration": 12,
    "start_time": "2022-03-21T19:53:27.442Z"
   },
   {
    "duration": 12,
    "start_time": "2022-03-21T19:53:27.456Z"
   },
   {
    "duration": 11,
    "start_time": "2022-03-21T19:53:27.469Z"
   },
   {
    "duration": 185,
    "start_time": "2022-03-21T19:53:27.481Z"
   },
   {
    "duration": 127,
    "start_time": "2022-03-21T19:53:27.668Z"
   },
   {
    "duration": 278,
    "start_time": "2022-03-21T19:53:27.797Z"
   },
   {
    "duration": 240,
    "start_time": "2022-03-21T19:53:28.077Z"
   },
   {
    "duration": 230,
    "start_time": "2022-03-21T19:53:28.319Z"
   },
   {
    "duration": 351,
    "start_time": "2022-03-21T19:53:28.551Z"
   },
   {
    "duration": 6,
    "start_time": "2022-03-21T19:53:28.903Z"
   },
   {
    "duration": 267,
    "start_time": "2022-03-21T19:53:28.910Z"
   },
   {
    "duration": 318,
    "start_time": "2022-03-21T19:53:29.179Z"
   },
   {
    "duration": 138,
    "start_time": "2022-03-21T19:53:29.500Z"
   },
   {
    "duration": 206,
    "start_time": "2022-03-21T19:53:29.640Z"
   },
   {
    "duration": 5,
    "start_time": "2022-03-21T19:53:29.848Z"
   },
   {
    "duration": 137,
    "start_time": "2022-03-21T19:53:29.855Z"
   },
   {
    "duration": 5,
    "start_time": "2022-03-21T19:53:29.994Z"
   },
   {
    "duration": 213,
    "start_time": "2022-03-21T19:53:30.002Z"
   },
   {
    "duration": 45,
    "start_time": "2022-03-21T19:53:30.217Z"
   },
   {
    "duration": 7,
    "start_time": "2022-03-21T19:53:30.263Z"
   },
   {
    "duration": 27,
    "start_time": "2022-03-21T19:53:30.272Z"
   },
   {
    "duration": 17,
    "start_time": "2022-03-21T19:53:30.300Z"
   },
   {
    "duration": 17,
    "start_time": "2022-03-21T19:53:30.321Z"
   },
   {
    "duration": 25,
    "start_time": "2022-03-21T19:53:30.340Z"
   },
   {
    "duration": 45,
    "start_time": "2022-03-21T19:53:30.367Z"
   },
   {
    "duration": 27,
    "start_time": "2022-03-21T19:53:30.414Z"
   },
   {
    "duration": 5,
    "start_time": "2022-03-22T13:51:44.483Z"
   },
   {
    "duration": 52,
    "start_time": "2022-03-22T13:51:44.490Z"
   },
   {
    "duration": 8,
    "start_time": "2022-03-22T13:51:44.544Z"
   },
   {
    "duration": 12,
    "start_time": "2022-03-22T13:51:44.553Z"
   },
   {
    "duration": 22,
    "start_time": "2022-03-22T13:51:44.566Z"
   },
   {
    "duration": 20,
    "start_time": "2022-03-22T13:51:44.589Z"
   },
   {
    "duration": 20,
    "start_time": "2022-03-22T13:51:44.611Z"
   },
   {
    "duration": 21,
    "start_time": "2022-03-22T13:51:44.633Z"
   },
   {
    "duration": 11,
    "start_time": "2022-03-22T13:51:44.659Z"
   },
   {
    "duration": 32,
    "start_time": "2022-03-22T13:51:44.672Z"
   },
   {
    "duration": 11,
    "start_time": "2022-03-22T13:51:44.706Z"
   },
   {
    "duration": 24,
    "start_time": "2022-03-22T13:51:44.719Z"
   },
   {
    "duration": 33,
    "start_time": "2022-03-22T13:51:44.744Z"
   },
   {
    "duration": 16,
    "start_time": "2022-03-22T13:51:44.779Z"
   },
   {
    "duration": 37,
    "start_time": "2022-03-22T13:51:44.797Z"
   },
   {
    "duration": 15,
    "start_time": "2022-03-22T13:51:44.836Z"
   },
   {
    "duration": 20,
    "start_time": "2022-03-22T13:51:44.852Z"
   },
   {
    "duration": 165,
    "start_time": "2022-03-22T13:51:44.874Z"
   },
   {
    "duration": 128,
    "start_time": "2022-03-22T13:51:45.041Z"
   },
   {
    "duration": 300,
    "start_time": "2022-03-22T13:51:45.171Z"
   },
   {
    "duration": 235,
    "start_time": "2022-03-22T13:51:45.472Z"
   },
   {
    "duration": 310,
    "start_time": "2022-03-22T13:51:45.709Z"
   },
   {
    "duration": 386,
    "start_time": "2022-03-22T13:51:46.021Z"
   },
   {
    "duration": 6,
    "start_time": "2022-03-22T13:51:46.409Z"
   },
   {
    "duration": 268,
    "start_time": "2022-03-22T13:51:46.416Z"
   },
   {
    "duration": 329,
    "start_time": "2022-03-22T13:51:46.686Z"
   },
   {
    "duration": 138,
    "start_time": "2022-03-22T13:51:47.016Z"
   },
   {
    "duration": 110,
    "start_time": "2022-03-22T13:51:47.155Z"
   },
   {
    "duration": 4,
    "start_time": "2022-03-22T13:51:47.267Z"
   },
   {
    "duration": 140,
    "start_time": "2022-03-22T13:51:47.273Z"
   },
   {
    "duration": 5,
    "start_time": "2022-03-22T13:51:47.414Z"
   },
   {
    "duration": 198,
    "start_time": "2022-03-22T13:51:47.420Z"
   },
   {
    "duration": 51,
    "start_time": "2022-03-22T13:51:47.620Z"
   },
   {
    "duration": 6,
    "start_time": "2022-03-22T13:51:47.673Z"
   },
   {
    "duration": 23,
    "start_time": "2022-03-22T13:51:47.680Z"
   },
   {
    "duration": 10,
    "start_time": "2022-03-22T13:51:47.705Z"
   },
   {
    "duration": 9,
    "start_time": "2022-03-22T13:51:47.717Z"
   },
   {
    "duration": 36,
    "start_time": "2022-03-22T13:51:47.727Z"
   },
   {
    "duration": 17,
    "start_time": "2022-03-22T13:51:47.764Z"
   },
   {
    "duration": 12,
    "start_time": "2022-03-22T13:51:47.782Z"
   },
   {
    "duration": 1064,
    "start_time": "2022-03-23T08:50:59.706Z"
   },
   {
    "duration": 44,
    "start_time": "2022-03-23T08:51:00.773Z"
   },
   {
    "duration": 18,
    "start_time": "2022-03-23T08:51:00.820Z"
   },
   {
    "duration": 17,
    "start_time": "2022-03-23T08:51:00.842Z"
   },
   {
    "duration": 24,
    "start_time": "2022-03-23T08:51:00.861Z"
   },
   {
    "duration": 25,
    "start_time": "2022-03-23T08:51:00.888Z"
   },
   {
    "duration": 25,
    "start_time": "2022-03-23T08:51:00.915Z"
   },
   {
    "duration": 32,
    "start_time": "2022-03-23T08:51:00.942Z"
   },
   {
    "duration": 25,
    "start_time": "2022-03-23T08:51:00.976Z"
   },
   {
    "duration": 20,
    "start_time": "2022-03-23T08:51:01.005Z"
   },
   {
    "duration": 13,
    "start_time": "2022-03-23T08:51:01.027Z"
   },
   {
    "duration": 18,
    "start_time": "2022-03-23T08:51:01.042Z"
   },
   {
    "duration": 24,
    "start_time": "2022-03-23T08:51:01.062Z"
   },
   {
    "duration": 13,
    "start_time": "2022-03-23T08:51:01.087Z"
   },
   {
    "duration": 21,
    "start_time": "2022-03-23T08:51:01.102Z"
   },
   {
    "duration": 18,
    "start_time": "2022-03-23T08:51:01.124Z"
   },
   {
    "duration": 13,
    "start_time": "2022-03-23T08:51:01.144Z"
   },
   {
    "duration": 291,
    "start_time": "2022-03-23T08:51:01.159Z"
   },
   {
    "duration": 238,
    "start_time": "2022-03-23T08:51:01.452Z"
   },
   {
    "duration": 481,
    "start_time": "2022-03-23T08:51:01.692Z"
   },
   {
    "duration": 604,
    "start_time": "2022-03-23T08:51:02.176Z"
   },
   {
    "duration": 449,
    "start_time": "2022-03-23T08:51:02.783Z"
   },
   {
    "duration": 601,
    "start_time": "2022-03-23T08:51:03.235Z"
   },
   {
    "duration": 8,
    "start_time": "2022-03-23T08:51:03.839Z"
   },
   {
    "duration": 517,
    "start_time": "2022-03-23T08:51:03.849Z"
   },
   {
    "duration": 543,
    "start_time": "2022-03-23T08:51:04.369Z"
   },
   {
    "duration": 263,
    "start_time": "2022-03-23T08:51:04.914Z"
   },
   {
    "duration": 186,
    "start_time": "2022-03-23T08:51:05.184Z"
   },
   {
    "duration": 8,
    "start_time": "2022-03-23T08:51:05.372Z"
   },
   {
    "duration": 210,
    "start_time": "2022-03-23T08:51:05.382Z"
   },
   {
    "duration": 8,
    "start_time": "2022-03-23T08:51:05.595Z"
   },
   {
    "duration": 869,
    "start_time": "2022-03-23T08:51:05.605Z"
   },
   {
    "duration": 68,
    "start_time": "2022-03-23T08:51:06.476Z"
   },
   {
    "duration": 33,
    "start_time": "2022-03-23T08:51:06.546Z"
   },
   {
    "duration": 47,
    "start_time": "2022-03-23T08:51:06.581Z"
   },
   {
    "duration": 14,
    "start_time": "2022-03-23T08:51:06.630Z"
   },
   {
    "duration": 40,
    "start_time": "2022-03-23T08:51:06.646Z"
   },
   {
    "duration": 35,
    "start_time": "2022-03-23T08:51:06.688Z"
   },
   {
    "duration": 30,
    "start_time": "2022-03-23T08:51:06.726Z"
   },
   {
    "duration": 22,
    "start_time": "2022-03-23T08:51:06.758Z"
   },
   {
    "duration": 4,
    "start_time": "2022-03-23T09:00:06.815Z"
   },
   {
    "duration": 43,
    "start_time": "2022-03-23T09:00:06.823Z"
   },
   {
    "duration": 12,
    "start_time": "2022-03-23T09:00:06.868Z"
   },
   {
    "duration": 15,
    "start_time": "2022-03-23T09:00:06.881Z"
   },
   {
    "duration": 11,
    "start_time": "2022-03-23T09:00:06.899Z"
   },
   {
    "duration": 15,
    "start_time": "2022-03-23T09:00:06.912Z"
   },
   {
    "duration": 46,
    "start_time": "2022-03-23T09:00:06.929Z"
   },
   {
    "duration": 13,
    "start_time": "2022-03-23T09:00:06.977Z"
   },
   {
    "duration": 19,
    "start_time": "2022-03-23T09:00:06.992Z"
   },
   {
    "duration": 17,
    "start_time": "2022-03-23T09:00:07.013Z"
   },
   {
    "duration": 7,
    "start_time": "2022-03-23T09:00:07.033Z"
   },
   {
    "duration": 32,
    "start_time": "2022-03-23T09:00:07.042Z"
   },
   {
    "duration": 13,
    "start_time": "2022-03-23T09:00:07.079Z"
   },
   {
    "duration": 9,
    "start_time": "2022-03-23T09:00:07.094Z"
   },
   {
    "duration": 17,
    "start_time": "2022-03-23T09:00:07.105Z"
   },
   {
    "duration": 13,
    "start_time": "2022-03-23T09:00:07.124Z"
   },
   {
    "duration": 40,
    "start_time": "2022-03-23T09:00:07.140Z"
   },
   {
    "duration": 278,
    "start_time": "2022-03-23T09:00:07.182Z"
   },
   {
    "duration": 224,
    "start_time": "2022-03-23T09:00:07.462Z"
   },
   {
    "duration": 453,
    "start_time": "2022-03-23T09:00:07.688Z"
   },
   {
    "duration": 511,
    "start_time": "2022-03-23T09:00:08.144Z"
   },
   {
    "duration": 420,
    "start_time": "2022-03-23T09:00:08.657Z"
   },
   {
    "duration": 513,
    "start_time": "2022-03-23T09:00:09.079Z"
   },
   {
    "duration": 9,
    "start_time": "2022-03-23T09:00:09.595Z"
   },
   {
    "duration": 445,
    "start_time": "2022-03-23T09:00:09.607Z"
   },
   {
    "duration": 542,
    "start_time": "2022-03-23T09:00:10.055Z"
   },
   {
    "duration": 303,
    "start_time": "2022-03-23T09:00:10.599Z"
   },
   {
    "duration": 184,
    "start_time": "2022-03-23T09:00:10.904Z"
   },
   {
    "duration": 7,
    "start_time": "2022-03-23T09:00:11.090Z"
   },
   {
    "duration": 211,
    "start_time": "2022-03-23T09:00:11.099Z"
   },
   {
    "duration": 7,
    "start_time": "2022-03-23T09:00:11.312Z"
   },
   {
    "duration": 315,
    "start_time": "2022-03-23T09:00:11.321Z"
   },
   {
    "duration": 76,
    "start_time": "2022-03-23T09:00:11.638Z"
   },
   {
    "duration": 10,
    "start_time": "2022-03-23T09:00:11.717Z"
   },
   {
    "duration": 55,
    "start_time": "2022-03-23T09:00:11.729Z"
   },
   {
    "duration": 13,
    "start_time": "2022-03-23T09:00:11.786Z"
   },
   {
    "duration": 12,
    "start_time": "2022-03-23T09:00:11.804Z"
   },
   {
    "duration": 13,
    "start_time": "2022-03-23T09:00:11.818Z"
   },
   {
    "duration": 62,
    "start_time": "2022-03-23T09:00:11.833Z"
   },
   {
    "duration": 19,
    "start_time": "2022-03-23T09:00:11.898Z"
   },
   {
    "duration": 9,
    "start_time": "2022-03-23T09:01:17.142Z"
   },
   {
    "duration": 8,
    "start_time": "2022-03-23T09:01:21.752Z"
   },
   {
    "duration": 166,
    "start_time": "2022-03-23T09:51:37.048Z"
   },
   {
    "duration": 23,
    "start_time": "2022-03-23T09:51:48.072Z"
   },
   {
    "duration": 15,
    "start_time": "2022-03-23T09:51:53.186Z"
   },
   {
    "duration": 29,
    "start_time": "2022-03-23T09:54:10.724Z"
   },
   {
    "duration": 35,
    "start_time": "2022-03-23T09:54:13.949Z"
   },
   {
    "duration": 42,
    "start_time": "2022-03-23T09:54:24.187Z"
   },
   {
    "duration": 49,
    "start_time": "2022-03-23T09:54:30.959Z"
   },
   {
    "duration": 42,
    "start_time": "2022-03-23T09:54:57.776Z"
   },
   {
    "duration": 46,
    "start_time": "2022-03-23T09:55:11.398Z"
   },
   {
    "duration": 42,
    "start_time": "2022-03-23T09:55:59.797Z"
   },
   {
    "duration": 44,
    "start_time": "2022-03-23T09:56:10.895Z"
   },
   {
    "duration": 37,
    "start_time": "2022-03-23T09:56:49.187Z"
   },
   {
    "duration": 54,
    "start_time": "2022-03-23T09:56:51.790Z"
   },
   {
    "duration": 19,
    "start_time": "2022-03-23T09:56:57.763Z"
   },
   {
    "duration": 4,
    "start_time": "2022-03-23T09:57:04.800Z"
   },
   {
    "duration": 52,
    "start_time": "2022-03-23T09:57:04.807Z"
   },
   {
    "duration": 15,
    "start_time": "2022-03-23T09:57:04.862Z"
   },
   {
    "duration": 35,
    "start_time": "2022-03-23T09:57:04.879Z"
   },
   {
    "duration": 19,
    "start_time": "2022-03-23T09:57:04.917Z"
   },
   {
    "duration": 32,
    "start_time": "2022-03-23T09:57:04.938Z"
   },
   {
    "duration": 24,
    "start_time": "2022-03-23T09:57:04.974Z"
   },
   {
    "duration": 15,
    "start_time": "2022-03-23T09:57:05.000Z"
   },
   {
    "duration": 17,
    "start_time": "2022-03-23T09:57:05.017Z"
   },
   {
    "duration": 38,
    "start_time": "2022-03-23T09:57:05.037Z"
   },
   {
    "duration": 22,
    "start_time": "2022-03-23T09:57:05.078Z"
   },
   {
    "duration": 141,
    "start_time": "2022-03-23T09:57:05.103Z"
   },
   {
    "duration": 28,
    "start_time": "2022-03-23T09:57:05.247Z"
   },
   {
    "duration": 7,
    "start_time": "2022-03-23T09:57:05.282Z"
   },
   {
    "duration": 21,
    "start_time": "2022-03-23T09:57:05.292Z"
   },
   {
    "duration": 7,
    "start_time": "2022-03-23T09:57:05.316Z"
   },
   {
    "duration": 49,
    "start_time": "2022-03-23T09:57:05.325Z"
   },
   {
    "duration": 20,
    "start_time": "2022-03-23T09:57:05.377Z"
   },
   {
    "duration": 12,
    "start_time": "2022-03-23T09:57:05.401Z"
   },
   {
    "duration": 301,
    "start_time": "2022-03-23T09:57:05.416Z"
   },
   {
    "duration": 238,
    "start_time": "2022-03-23T09:57:05.720Z"
   },
   {
    "duration": 484,
    "start_time": "2022-03-23T09:57:05.973Z"
   },
   {
    "duration": 472,
    "start_time": "2022-03-23T09:57:06.459Z"
   },
   {
    "duration": 469,
    "start_time": "2022-03-23T09:57:06.933Z"
   },
   {
    "duration": 520,
    "start_time": "2022-03-23T09:57:07.404Z"
   },
   {
    "duration": 8,
    "start_time": "2022-03-23T09:57:07.927Z"
   },
   {
    "duration": 544,
    "start_time": "2022-03-23T09:57:07.938Z"
   },
   {
    "duration": 552,
    "start_time": "2022-03-23T09:57:08.485Z"
   },
   {
    "duration": 251,
    "start_time": "2022-03-23T09:57:09.040Z"
   },
   {
    "duration": 235,
    "start_time": "2022-03-23T09:57:09.293Z"
   },
   {
    "duration": 6,
    "start_time": "2022-03-23T09:57:09.530Z"
   },
   {
    "duration": 215,
    "start_time": "2022-03-23T09:57:09.538Z"
   },
   {
    "duration": 6,
    "start_time": "2022-03-23T09:57:09.756Z"
   },
   {
    "duration": 332,
    "start_time": "2022-03-23T09:57:09.776Z"
   },
   {
    "duration": 86,
    "start_time": "2022-03-23T09:57:10.110Z"
   },
   {
    "duration": 9,
    "start_time": "2022-03-23T09:57:10.199Z"
   },
   {
    "duration": 31,
    "start_time": "2022-03-23T09:57:10.211Z"
   },
   {
    "duration": 37,
    "start_time": "2022-03-23T09:57:10.244Z"
   },
   {
    "duration": 14,
    "start_time": "2022-03-23T09:57:10.283Z"
   },
   {
    "duration": 11,
    "start_time": "2022-03-23T09:57:10.299Z"
   },
   {
    "duration": 61,
    "start_time": "2022-03-23T09:57:10.316Z"
   },
   {
    "duration": 19,
    "start_time": "2022-03-23T09:57:10.379Z"
   },
   {
    "duration": 40,
    "start_time": "2022-03-23T09:59:04.482Z"
   },
   {
    "duration": 5,
    "start_time": "2022-03-23T10:02:30.183Z"
   },
   {
    "duration": 40,
    "start_time": "2022-03-23T10:02:30.190Z"
   },
   {
    "duration": 12,
    "start_time": "2022-03-23T10:02:30.232Z"
   },
   {
    "duration": 35,
    "start_time": "2022-03-23T10:02:30.246Z"
   },
   {
    "duration": 14,
    "start_time": "2022-03-23T10:02:30.285Z"
   },
   {
    "duration": 16,
    "start_time": "2022-03-23T10:02:30.302Z"
   },
   {
    "duration": 8,
    "start_time": "2022-03-23T10:02:30.320Z"
   },
   {
    "duration": 45,
    "start_time": "2022-03-23T10:02:30.330Z"
   },
   {
    "duration": 15,
    "start_time": "2022-03-23T10:02:30.377Z"
   },
   {
    "duration": 19,
    "start_time": "2022-03-23T10:02:30.394Z"
   },
   {
    "duration": 17,
    "start_time": "2022-03-23T10:02:30.415Z"
   },
   {
    "duration": 147,
    "start_time": "2022-03-23T10:02:30.435Z"
   },
   {
    "duration": 15,
    "start_time": "2022-03-23T10:02:30.586Z"
   },
   {
    "duration": 7,
    "start_time": "2022-03-23T10:02:30.604Z"
   },
   {
    "duration": 23,
    "start_time": "2022-03-23T10:02:30.614Z"
   },
   {
    "duration": 12,
    "start_time": "2022-03-23T10:02:30.639Z"
   },
   {
    "duration": 34,
    "start_time": "2022-03-23T10:02:30.653Z"
   },
   {
    "duration": 24,
    "start_time": "2022-03-23T10:02:30.690Z"
   },
   {
    "duration": 21,
    "start_time": "2022-03-23T10:02:30.717Z"
   },
   {
    "duration": 278,
    "start_time": "2022-03-23T10:02:30.740Z"
   },
   {
    "duration": 223,
    "start_time": "2022-03-23T10:02:31.020Z"
   },
   {
    "duration": 468,
    "start_time": "2022-03-23T10:02:31.245Z"
   },
   {
    "duration": 432,
    "start_time": "2022-03-23T10:02:31.715Z"
   },
   {
    "duration": 435,
    "start_time": "2022-03-23T10:02:32.149Z"
   },
   {
    "duration": 475,
    "start_time": "2022-03-23T10:02:32.586Z"
   },
   {
    "duration": 16,
    "start_time": "2022-03-23T10:02:33.063Z"
   },
   {
    "duration": 421,
    "start_time": "2022-03-23T10:02:33.081Z"
   },
   {
    "duration": 507,
    "start_time": "2022-03-23T10:02:33.503Z"
   },
   {
    "duration": 252,
    "start_time": "2022-03-23T10:02:34.012Z"
   },
   {
    "duration": 193,
    "start_time": "2022-03-23T10:02:34.274Z"
   },
   {
    "duration": 7,
    "start_time": "2022-03-23T10:02:34.473Z"
   },
   {
    "duration": 275,
    "start_time": "2022-03-23T10:02:34.482Z"
   },
   {
    "duration": 13,
    "start_time": "2022-03-23T10:02:34.760Z"
   },
   {
    "duration": 314,
    "start_time": "2022-03-23T10:02:34.775Z"
   },
   {
    "duration": 90,
    "start_time": "2022-03-23T10:02:35.091Z"
   },
   {
    "duration": 10,
    "start_time": "2022-03-23T10:02:35.183Z"
   },
   {
    "duration": 26,
    "start_time": "2022-03-23T10:02:35.198Z"
   },
   {
    "duration": 48,
    "start_time": "2022-03-23T10:02:35.227Z"
   },
   {
    "duration": 13,
    "start_time": "2022-03-23T10:02:35.278Z"
   },
   {
    "duration": 13,
    "start_time": "2022-03-23T10:02:35.295Z"
   },
   {
    "duration": 27,
    "start_time": "2022-03-23T10:02:35.310Z"
   },
   {
    "duration": 21,
    "start_time": "2022-03-23T10:02:35.375Z"
   },
   {
    "duration": 36,
    "start_time": "2022-03-23T10:03:05.543Z"
   },
   {
    "duration": 4,
    "start_time": "2022-03-23T10:03:09.085Z"
   },
   {
    "duration": 39,
    "start_time": "2022-03-23T10:03:09.092Z"
   },
   {
    "duration": 12,
    "start_time": "2022-03-23T10:03:09.134Z"
   },
   {
    "duration": 34,
    "start_time": "2022-03-23T10:03:09.150Z"
   },
   {
    "duration": 16,
    "start_time": "2022-03-23T10:03:09.186Z"
   },
   {
    "duration": 24,
    "start_time": "2022-03-23T10:03:09.204Z"
   },
   {
    "duration": 8,
    "start_time": "2022-03-23T10:03:09.230Z"
   },
   {
    "duration": 38,
    "start_time": "2022-03-23T10:03:09.240Z"
   },
   {
    "duration": 16,
    "start_time": "2022-03-23T10:03:09.281Z"
   },
   {
    "duration": 18,
    "start_time": "2022-03-23T10:03:09.301Z"
   },
   {
    "duration": 6,
    "start_time": "2022-03-23T10:03:09.321Z"
   },
   {
    "duration": 152,
    "start_time": "2022-03-23T10:03:09.329Z"
   },
   {
    "duration": 16,
    "start_time": "2022-03-23T10:03:09.483Z"
   },
   {
    "duration": 5,
    "start_time": "2022-03-23T10:03:09.501Z"
   },
   {
    "duration": 14,
    "start_time": "2022-03-23T10:03:09.508Z"
   },
   {
    "duration": 10,
    "start_time": "2022-03-23T10:03:09.524Z"
   },
   {
    "duration": 49,
    "start_time": "2022-03-23T10:03:09.536Z"
   },
   {
    "duration": 17,
    "start_time": "2022-03-23T10:03:09.588Z"
   },
   {
    "duration": 9,
    "start_time": "2022-03-23T10:03:09.608Z"
   },
   {
    "duration": 302,
    "start_time": "2022-03-23T10:03:09.620Z"
   },
   {
    "duration": 221,
    "start_time": "2022-03-23T10:03:09.925Z"
   },
   {
    "duration": 469,
    "start_time": "2022-03-23T10:03:10.149Z"
   },
   {
    "duration": 433,
    "start_time": "2022-03-23T10:03:10.621Z"
   },
   {
    "duration": 432,
    "start_time": "2022-03-23T10:03:11.056Z"
   },
   {
    "duration": 499,
    "start_time": "2022-03-23T10:03:11.491Z"
   },
   {
    "duration": 7,
    "start_time": "2022-03-23T10:03:11.993Z"
   },
   {
    "duration": 438,
    "start_time": "2022-03-23T10:03:12.003Z"
   },
   {
    "duration": 554,
    "start_time": "2022-03-23T10:03:12.448Z"
   },
   {
    "duration": 279,
    "start_time": "2022-03-23T10:03:13.005Z"
   },
   {
    "duration": 218,
    "start_time": "2022-03-23T10:03:13.287Z"
   },
   {
    "duration": 8,
    "start_time": "2022-03-23T10:03:13.507Z"
   },
   {
    "duration": 206,
    "start_time": "2022-03-23T10:03:13.517Z"
   },
   {
    "duration": 6,
    "start_time": "2022-03-23T10:03:13.726Z"
   },
   {
    "duration": 311,
    "start_time": "2022-03-23T10:03:13.735Z"
   },
   {
    "duration": 81,
    "start_time": "2022-03-23T10:03:14.049Z"
   },
   {
    "duration": 8,
    "start_time": "2022-03-23T10:03:14.132Z"
   },
   {
    "duration": 52,
    "start_time": "2022-03-23T10:03:14.142Z"
   },
   {
    "duration": 14,
    "start_time": "2022-03-23T10:03:14.196Z"
   },
   {
    "duration": 13,
    "start_time": "2022-03-23T10:03:14.212Z"
   },
   {
    "duration": 50,
    "start_time": "2022-03-23T10:03:14.227Z"
   },
   {
    "duration": 26,
    "start_time": "2022-03-23T10:03:14.279Z"
   },
   {
    "duration": 20,
    "start_time": "2022-03-23T10:03:14.308Z"
   },
   {
    "duration": 11,
    "start_time": "2022-03-23T10:37:14.787Z"
   },
   {
    "duration": 19,
    "start_time": "2022-03-23T10:37:18.926Z"
   },
   {
    "duration": 22,
    "start_time": "2022-03-23T10:37:27.391Z"
   },
   {
    "duration": 16,
    "start_time": "2022-03-23T10:37:34.095Z"
   },
   {
    "duration": 15,
    "start_time": "2022-03-23T10:37:41.229Z"
   },
   {
    "duration": 15,
    "start_time": "2022-03-23T10:37:46.669Z"
   },
   {
    "duration": 4,
    "start_time": "2022-03-23T10:38:24.033Z"
   },
   {
    "duration": 39,
    "start_time": "2022-03-23T10:38:24.040Z"
   },
   {
    "duration": 10,
    "start_time": "2022-03-23T10:38:24.081Z"
   },
   {
    "duration": 30,
    "start_time": "2022-03-23T10:38:24.094Z"
   },
   {
    "duration": 45,
    "start_time": "2022-03-23T10:38:24.130Z"
   },
   {
    "duration": 36,
    "start_time": "2022-03-23T10:38:24.177Z"
   },
   {
    "duration": 20,
    "start_time": "2022-03-23T10:38:24.216Z"
   },
   {
    "duration": 15,
    "start_time": "2022-03-23T10:38:24.238Z"
   },
   {
    "duration": 29,
    "start_time": "2022-03-23T10:38:24.256Z"
   },
   {
    "duration": 27,
    "start_time": "2022-03-23T10:38:24.288Z"
   },
   {
    "duration": 9,
    "start_time": "2022-03-23T10:38:24.318Z"
   },
   {
    "duration": 145,
    "start_time": "2022-03-23T10:38:24.329Z"
   },
   {
    "duration": 15,
    "start_time": "2022-03-23T10:38:24.480Z"
   },
   {
    "duration": 16,
    "start_time": "2022-03-23T10:38:24.498Z"
   },
   {
    "duration": 21,
    "start_time": "2022-03-23T10:38:24.516Z"
   },
   {
    "duration": 40,
    "start_time": "2022-03-23T10:38:24.539Z"
   },
   {
    "duration": 27,
    "start_time": "2022-03-23T10:38:24.581Z"
   },
   {
    "duration": 17,
    "start_time": "2022-03-23T10:38:24.610Z"
   },
   {
    "duration": 28,
    "start_time": "2022-03-23T10:38:24.629Z"
   },
   {
    "duration": 22,
    "start_time": "2022-03-23T10:38:24.659Z"
   },
   {
    "duration": 12,
    "start_time": "2022-03-23T10:38:24.683Z"
   },
   {
    "duration": 272,
    "start_time": "2022-03-23T10:38:24.697Z"
   },
   {
    "duration": 220,
    "start_time": "2022-03-23T10:38:24.974Z"
   },
   {
    "duration": 493,
    "start_time": "2022-03-23T10:38:25.196Z"
   },
   {
    "duration": 529,
    "start_time": "2022-03-23T10:38:25.691Z"
   },
   {
    "duration": 511,
    "start_time": "2022-03-23T10:38:26.222Z"
   },
   {
    "duration": 532,
    "start_time": "2022-03-23T10:38:26.735Z"
   },
   {
    "duration": 9,
    "start_time": "2022-03-23T10:38:27.269Z"
   },
   {
    "duration": 439,
    "start_time": "2022-03-23T10:38:27.280Z"
   },
   {
    "duration": 589,
    "start_time": "2022-03-23T10:38:27.721Z"
   },
   {
    "duration": 239,
    "start_time": "2022-03-23T10:38:28.312Z"
   },
   {
    "duration": 217,
    "start_time": "2022-03-23T10:38:28.553Z"
   },
   {
    "duration": 7,
    "start_time": "2022-03-23T10:38:28.772Z"
   },
   {
    "duration": 305,
    "start_time": "2022-03-23T10:38:28.781Z"
   },
   {
    "duration": 7,
    "start_time": "2022-03-23T10:38:29.088Z"
   },
   {
    "duration": 330,
    "start_time": "2022-03-23T10:38:29.098Z"
   },
   {
    "duration": 108,
    "start_time": "2022-03-23T10:38:29.436Z"
   },
   {
    "duration": 28,
    "start_time": "2022-03-23T10:38:29.547Z"
   },
   {
    "duration": 40,
    "start_time": "2022-03-23T10:38:29.577Z"
   },
   {
    "duration": 18,
    "start_time": "2022-03-23T10:38:29.620Z"
   },
   {
    "duration": 45,
    "start_time": "2022-03-23T10:38:29.640Z"
   },
   {
    "duration": 12,
    "start_time": "2022-03-23T10:38:29.688Z"
   },
   {
    "duration": 26,
    "start_time": "2022-03-23T10:38:29.702Z"
   },
   {
    "duration": 50,
    "start_time": "2022-03-23T10:38:29.730Z"
   },
   {
    "duration": 108,
    "start_time": "2022-03-23T10:38:43.624Z"
   },
   {
    "duration": 129,
    "start_time": "2022-03-23T10:38:45.271Z"
   },
   {
    "duration": 5,
    "start_time": "2022-03-23T10:40:18.696Z"
   },
   {
    "duration": 43,
    "start_time": "2022-03-23T10:40:18.705Z"
   },
   {
    "duration": 12,
    "start_time": "2022-03-23T10:40:18.752Z"
   },
   {
    "duration": 18,
    "start_time": "2022-03-23T10:40:18.767Z"
   },
   {
    "duration": 10,
    "start_time": "2022-03-23T10:40:18.789Z"
   },
   {
    "duration": 18,
    "start_time": "2022-03-23T10:40:18.801Z"
   },
   {
    "duration": 52,
    "start_time": "2022-03-23T10:40:18.822Z"
   },
   {
    "duration": 12,
    "start_time": "2022-03-23T10:40:18.876Z"
   },
   {
    "duration": 16,
    "start_time": "2022-03-23T10:40:18.890Z"
   },
   {
    "duration": 20,
    "start_time": "2022-03-23T10:40:18.908Z"
   },
   {
    "duration": 11,
    "start_time": "2022-03-23T10:40:18.930Z"
   },
   {
    "duration": 152,
    "start_time": "2022-03-23T10:40:18.944Z"
   },
   {
    "duration": 15,
    "start_time": "2022-03-23T10:40:19.100Z"
   },
   {
    "duration": 15,
    "start_time": "2022-03-23T10:40:19.117Z"
   },
   {
    "duration": 48,
    "start_time": "2022-03-23T10:40:19.134Z"
   },
   {
    "duration": 5,
    "start_time": "2022-03-23T10:40:19.184Z"
   },
   {
    "duration": 15,
    "start_time": "2022-03-23T10:40:19.191Z"
   },
   {
    "duration": 8,
    "start_time": "2022-03-23T10:40:19.208Z"
   },
   {
    "duration": 18,
    "start_time": "2022-03-23T10:40:19.218Z"
   },
   {
    "duration": 44,
    "start_time": "2022-03-23T10:40:19.238Z"
   },
   {
    "duration": 10,
    "start_time": "2022-03-23T10:40:19.284Z"
   },
   {
    "duration": 277,
    "start_time": "2022-03-23T10:40:19.297Z"
   },
   {
    "duration": 221,
    "start_time": "2022-03-23T10:40:19.577Z"
   },
   {
    "duration": 458,
    "start_time": "2022-03-23T10:40:19.800Z"
   },
   {
    "duration": 432,
    "start_time": "2022-03-23T10:40:20.260Z"
   },
   {
    "duration": 421,
    "start_time": "2022-03-23T10:40:20.694Z"
   },
   {
    "duration": 522,
    "start_time": "2022-03-23T10:40:21.118Z"
   },
   {
    "duration": 8,
    "start_time": "2022-03-23T10:40:21.643Z"
   },
   {
    "duration": 446,
    "start_time": "2022-03-23T10:40:21.654Z"
   },
   {
    "duration": 608,
    "start_time": "2022-03-23T10:40:22.103Z"
   },
   {
    "duration": 273,
    "start_time": "2022-03-23T10:40:22.714Z"
   },
   {
    "duration": 214,
    "start_time": "2022-03-23T10:40:22.990Z"
   },
   {
    "duration": 7,
    "start_time": "2022-03-23T10:40:23.206Z"
   },
   {
    "duration": 211,
    "start_time": "2022-03-23T10:40:23.215Z"
   },
   {
    "duration": 6,
    "start_time": "2022-03-23T10:40:23.428Z"
   },
   {
    "duration": 322,
    "start_time": "2022-03-23T10:40:23.436Z"
   },
   {
    "duration": 73,
    "start_time": "2022-03-23T10:40:23.764Z"
   },
   {
    "duration": 34,
    "start_time": "2022-03-23T10:40:23.839Z"
   },
   {
    "duration": 29,
    "start_time": "2022-03-23T10:40:23.876Z"
   },
   {
    "duration": 15,
    "start_time": "2022-03-23T10:40:23.907Z"
   },
   {
    "duration": 24,
    "start_time": "2022-03-23T10:40:23.925Z"
   },
   {
    "duration": 32,
    "start_time": "2022-03-23T10:40:23.951Z"
   },
   {
    "duration": 35,
    "start_time": "2022-03-23T10:40:23.985Z"
   },
   {
    "duration": 20,
    "start_time": "2022-03-23T10:40:24.022Z"
   },
   {
    "duration": 16,
    "start_time": "2022-03-23T10:41:41.331Z"
   },
   {
    "duration": 16,
    "start_time": "2022-03-23T10:41:49.260Z"
   },
   {
    "duration": 15,
    "start_time": "2022-03-23T10:41:58.257Z"
   },
   {
    "duration": 15,
    "start_time": "2022-03-23T10:42:00.819Z"
   },
   {
    "duration": 5,
    "start_time": "2022-03-23T10:42:03.054Z"
   },
   {
    "duration": 61,
    "start_time": "2022-03-23T10:42:03.062Z"
   },
   {
    "duration": 11,
    "start_time": "2022-03-23T10:42:03.125Z"
   },
   {
    "duration": 38,
    "start_time": "2022-03-23T10:42:03.138Z"
   },
   {
    "duration": 21,
    "start_time": "2022-03-23T10:42:03.179Z"
   },
   {
    "duration": 34,
    "start_time": "2022-03-23T10:42:03.203Z"
   },
   {
    "duration": 25,
    "start_time": "2022-03-23T10:42:03.239Z"
   },
   {
    "duration": 40,
    "start_time": "2022-03-23T10:42:03.266Z"
   },
   {
    "duration": 37,
    "start_time": "2022-03-23T10:42:03.308Z"
   },
   {
    "duration": 30,
    "start_time": "2022-03-23T10:42:03.348Z"
   },
   {
    "duration": 27,
    "start_time": "2022-03-23T10:42:03.380Z"
   },
   {
    "duration": 144,
    "start_time": "2022-03-23T10:42:03.410Z"
   },
   {
    "duration": 23,
    "start_time": "2022-03-23T10:42:03.558Z"
   },
   {
    "duration": 45,
    "start_time": "2022-03-23T10:42:03.583Z"
   },
   {
    "duration": 43,
    "start_time": "2022-03-23T10:42:03.630Z"
   },
   {
    "duration": 29,
    "start_time": "2022-03-23T10:42:03.675Z"
   },
   {
    "duration": 38,
    "start_time": "2022-03-23T10:42:03.706Z"
   },
   {
    "duration": 32,
    "start_time": "2022-03-23T10:42:03.746Z"
   },
   {
    "duration": 42,
    "start_time": "2022-03-23T10:42:03.780Z"
   },
   {
    "duration": 44,
    "start_time": "2022-03-23T10:42:03.824Z"
   },
   {
    "duration": 24,
    "start_time": "2022-03-23T10:42:03.870Z"
   },
   {
    "duration": 280,
    "start_time": "2022-03-23T10:42:03.896Z"
   },
   {
    "duration": 226,
    "start_time": "2022-03-23T10:42:04.178Z"
   },
   {
    "duration": 461,
    "start_time": "2022-03-23T10:42:04.406Z"
   },
   {
    "duration": 407,
    "start_time": "2022-03-23T10:42:04.873Z"
   },
   {
    "duration": 432,
    "start_time": "2022-03-23T10:42:05.282Z"
   },
   {
    "duration": 522,
    "start_time": "2022-03-23T10:42:05.716Z"
   },
   {
    "duration": 11,
    "start_time": "2022-03-23T10:42:06.240Z"
   },
   {
    "duration": 443,
    "start_time": "2022-03-23T10:42:06.253Z"
   },
   {
    "duration": 524,
    "start_time": "2022-03-23T10:42:06.698Z"
   },
   {
    "duration": 249,
    "start_time": "2022-03-23T10:42:07.225Z"
   },
   {
    "duration": 210,
    "start_time": "2022-03-23T10:42:07.476Z"
   },
   {
    "duration": 6,
    "start_time": "2022-03-23T10:42:07.690Z"
   },
   {
    "duration": 201,
    "start_time": "2022-03-23T10:42:07.699Z"
   },
   {
    "duration": 7,
    "start_time": "2022-03-23T10:42:07.902Z"
   },
   {
    "duration": 400,
    "start_time": "2022-03-23T10:42:07.913Z"
   },
   {
    "duration": 84,
    "start_time": "2022-03-23T10:42:08.318Z"
   },
   {
    "duration": 8,
    "start_time": "2022-03-23T10:42:08.404Z"
   },
   {
    "duration": 58,
    "start_time": "2022-03-23T10:42:08.415Z"
   },
   {
    "duration": 21,
    "start_time": "2022-03-23T10:42:08.475Z"
   },
   {
    "duration": 21,
    "start_time": "2022-03-23T10:42:08.498Z"
   },
   {
    "duration": 31,
    "start_time": "2022-03-23T10:42:08.522Z"
   },
   {
    "duration": 53,
    "start_time": "2022-03-23T10:42:08.556Z"
   },
   {
    "duration": 22,
    "start_time": "2022-03-23T10:42:08.611Z"
   },
   {
    "duration": 4,
    "start_time": "2022-03-23T10:44:25.241Z"
   },
   {
    "duration": 16,
    "start_time": "2022-03-23T10:44:31.238Z"
   },
   {
    "duration": 4,
    "start_time": "2022-03-23T10:44:43.835Z"
   },
   {
    "duration": 19,
    "start_time": "2022-03-23T10:46:12.487Z"
   },
   {
    "duration": 18,
    "start_time": "2022-03-23T10:46:33.815Z"
   },
   {
    "duration": 13,
    "start_time": "2022-03-23T10:47:19.178Z"
   },
   {
    "duration": 18,
    "start_time": "2022-03-23T10:47:53.227Z"
   },
   {
    "duration": 69,
    "start_time": "2022-03-23T10:48:57.979Z"
   },
   {
    "duration": 17,
    "start_time": "2022-03-23T10:50:18.734Z"
   },
   {
    "duration": 422,
    "start_time": "2022-03-23T10:54:12.526Z"
   },
   {
    "duration": 436,
    "start_time": "2022-03-23T10:54:22.540Z"
   },
   {
    "duration": 437,
    "start_time": "2022-03-23T10:55:05.940Z"
   },
   {
    "duration": 445,
    "start_time": "2022-03-23T10:55:35.596Z"
   },
   {
    "duration": 458,
    "start_time": "2022-03-23T10:55:48.025Z"
   },
   {
    "duration": 503,
    "start_time": "2022-03-23T10:56:24.093Z"
   },
   {
    "duration": 450,
    "start_time": "2022-03-23T10:57:14.970Z"
   },
   {
    "duration": 610,
    "start_time": "2022-03-23T10:57:50.526Z"
   },
   {
    "duration": 229,
    "start_time": "2022-03-23T11:00:16.077Z"
   },
   {
    "duration": 227,
    "start_time": "2022-03-23T11:00:50.115Z"
   },
   {
    "duration": 14,
    "start_time": "2022-03-23T11:02:22.433Z"
   },
   {
    "duration": 4,
    "start_time": "2022-03-23T11:02:25.284Z"
   },
   {
    "duration": 42,
    "start_time": "2022-03-23T11:02:25.291Z"
   },
   {
    "duration": 10,
    "start_time": "2022-03-23T11:02:25.335Z"
   },
   {
    "duration": 34,
    "start_time": "2022-03-23T11:02:25.347Z"
   },
   {
    "duration": 109,
    "start_time": "2022-03-23T11:02:25.386Z"
   },
   {
    "duration": 17,
    "start_time": "2022-03-23T11:02:25.498Z"
   },
   {
    "duration": 7,
    "start_time": "2022-03-23T11:02:25.518Z"
   },
   {
    "duration": 48,
    "start_time": "2022-03-23T11:02:25.527Z"
   },
   {
    "duration": 15,
    "start_time": "2022-03-23T11:02:25.578Z"
   },
   {
    "duration": 21,
    "start_time": "2022-03-23T11:02:25.596Z"
   },
   {
    "duration": 5,
    "start_time": "2022-03-23T11:02:25.619Z"
   },
   {
    "duration": 165,
    "start_time": "2022-03-23T11:02:25.627Z"
   },
   {
    "duration": 15,
    "start_time": "2022-03-23T11:02:25.795Z"
   },
   {
    "duration": 17,
    "start_time": "2022-03-23T11:02:25.815Z"
   },
   {
    "duration": 44,
    "start_time": "2022-03-23T11:02:25.834Z"
   },
   {
    "duration": 5,
    "start_time": "2022-03-23T11:02:25.880Z"
   },
   {
    "duration": 13,
    "start_time": "2022-03-23T11:02:25.887Z"
   },
   {
    "duration": 5,
    "start_time": "2022-03-23T11:02:25.903Z"
   },
   {
    "duration": 14,
    "start_time": "2022-03-23T11:02:25.910Z"
   },
   {
    "duration": 55,
    "start_time": "2022-03-23T11:02:25.926Z"
   },
   {
    "duration": 10,
    "start_time": "2022-03-23T11:02:25.983Z"
   },
   {
    "duration": 289,
    "start_time": "2022-03-23T11:02:25.995Z"
   },
   {
    "duration": 220,
    "start_time": "2022-03-23T11:02:26.286Z"
   },
   {
    "duration": 566,
    "start_time": "2022-03-23T11:02:26.508Z"
   },
   {
    "duration": 448,
    "start_time": "2022-03-23T11:02:27.076Z"
   },
   {
    "duration": 463,
    "start_time": "2022-03-23T11:02:27.526Z"
   },
   {
    "duration": 537,
    "start_time": "2022-03-23T11:02:27.991Z"
   },
   {
    "duration": 9,
    "start_time": "2022-03-23T11:02:28.531Z"
   },
   {
    "duration": 468,
    "start_time": "2022-03-23T11:02:28.543Z"
   },
   {
    "duration": 638,
    "start_time": "2022-03-23T11:02:29.014Z"
   },
   {
    "duration": 247,
    "start_time": "2022-03-23T11:02:29.654Z"
   },
   {
    "duration": 242,
    "start_time": "2022-03-23T11:02:29.903Z"
   },
   {
    "duration": 7,
    "start_time": "2022-03-23T11:02:30.147Z"
   },
   {
    "duration": 228,
    "start_time": "2022-03-23T11:02:30.173Z"
   },
   {
    "duration": 6,
    "start_time": "2022-03-23T11:02:30.404Z"
   },
   {
    "duration": 314,
    "start_time": "2022-03-23T11:02:30.412Z"
   },
   {
    "duration": 84,
    "start_time": "2022-03-23T11:02:30.728Z"
   },
   {
    "duration": 18,
    "start_time": "2022-03-23T11:02:30.814Z"
   },
   {
    "duration": 55,
    "start_time": "2022-03-23T11:02:30.834Z"
   },
   {
    "duration": 13,
    "start_time": "2022-03-23T11:02:30.891Z"
   },
   {
    "duration": 16,
    "start_time": "2022-03-23T11:02:30.909Z"
   },
   {
    "duration": 20,
    "start_time": "2022-03-23T11:02:30.928Z"
   },
   {
    "duration": 44,
    "start_time": "2022-03-23T11:02:30.951Z"
   },
   {
    "duration": 21,
    "start_time": "2022-03-23T11:02:30.997Z"
   },
   {
    "duration": 4,
    "start_time": "2022-03-23T11:03:31.445Z"
   },
   {
    "duration": 49,
    "start_time": "2022-03-23T11:03:31.452Z"
   },
   {
    "duration": 11,
    "start_time": "2022-03-23T11:03:31.503Z"
   },
   {
    "duration": 20,
    "start_time": "2022-03-23T11:03:31.516Z"
   },
   {
    "duration": 36,
    "start_time": "2022-03-23T11:03:31.539Z"
   },
   {
    "duration": 27,
    "start_time": "2022-03-23T11:03:31.577Z"
   },
   {
    "duration": 6,
    "start_time": "2022-03-23T11:03:31.606Z"
   },
   {
    "duration": 13,
    "start_time": "2022-03-23T11:03:31.615Z"
   },
   {
    "duration": 15,
    "start_time": "2022-03-23T11:03:31.630Z"
   },
   {
    "duration": 40,
    "start_time": "2022-03-23T11:03:31.647Z"
   },
   {
    "duration": 14,
    "start_time": "2022-03-23T11:03:31.689Z"
   },
   {
    "duration": 134,
    "start_time": "2022-03-23T11:03:31.705Z"
   },
   {
    "duration": 15,
    "start_time": "2022-03-23T11:03:31.844Z"
   },
   {
    "duration": 15,
    "start_time": "2022-03-23T11:03:31.875Z"
   },
   {
    "duration": 15,
    "start_time": "2022-03-23T11:03:31.893Z"
   },
   {
    "duration": 5,
    "start_time": "2022-03-23T11:03:31.910Z"
   },
   {
    "duration": 13,
    "start_time": "2022-03-23T11:03:31.917Z"
   },
   {
    "duration": 42,
    "start_time": "2022-03-23T11:03:31.932Z"
   },
   {
    "duration": 17,
    "start_time": "2022-03-23T11:03:31.977Z"
   },
   {
    "duration": 20,
    "start_time": "2022-03-23T11:03:31.996Z"
   },
   {
    "duration": 11,
    "start_time": "2022-03-23T11:03:32.019Z"
   },
   {
    "duration": 286,
    "start_time": "2022-03-23T11:03:32.032Z"
   },
   {
    "duration": 223,
    "start_time": "2022-03-23T11:03:32.320Z"
   },
   {
    "duration": 492,
    "start_time": "2022-03-23T11:03:32.546Z"
   },
   {
    "duration": 446,
    "start_time": "2022-03-23T11:03:33.041Z"
   },
   {
    "duration": 452,
    "start_time": "2022-03-23T11:03:33.489Z"
   },
   {
    "duration": 812,
    "start_time": "2022-03-23T11:03:33.943Z"
   },
   {
    "duration": 11,
    "start_time": "2022-03-23T11:03:34.758Z"
   },
   {
    "duration": 482,
    "start_time": "2022-03-23T11:03:34.775Z"
   },
   {
    "duration": 558,
    "start_time": "2022-03-23T11:03:35.260Z"
   },
   {
    "duration": 392,
    "start_time": "2022-03-23T11:03:35.820Z"
   },
   {
    "duration": 480,
    "start_time": "2022-03-23T11:03:36.214Z"
   },
   {
    "duration": 7,
    "start_time": "2022-03-23T11:03:36.696Z"
   },
   {
    "duration": 472,
    "start_time": "2022-03-23T11:03:36.705Z"
   },
   {
    "duration": 7,
    "start_time": "2022-03-23T11:03:37.179Z"
   },
   {
    "duration": 607,
    "start_time": "2022-03-23T11:03:37.188Z"
   },
   {
    "duration": 181,
    "start_time": "2022-03-23T11:03:37.801Z"
   },
   {
    "duration": 8,
    "start_time": "2022-03-23T11:03:37.985Z"
   },
   {
    "duration": 26,
    "start_time": "2022-03-23T11:03:37.995Z"
   },
   {
    "duration": 14,
    "start_time": "2022-03-23T11:03:38.074Z"
   },
   {
    "duration": 18,
    "start_time": "2022-03-23T11:03:38.090Z"
   },
   {
    "duration": 65,
    "start_time": "2022-03-23T11:03:38.110Z"
   },
   {
    "duration": 25,
    "start_time": "2022-03-23T11:03:38.178Z"
   },
   {
    "duration": 77,
    "start_time": "2022-03-23T11:03:38.205Z"
   },
   {
    "duration": 25,
    "start_time": "2022-03-23T11:36:22.734Z"
   },
   {
    "duration": 26,
    "start_time": "2022-03-23T11:36:29.943Z"
   },
   {
    "duration": 29,
    "start_time": "2022-03-23T11:36:32.891Z"
   },
   {
    "duration": 14,
    "start_time": "2022-03-23T11:36:42.192Z"
   },
   {
    "duration": 25,
    "start_time": "2022-03-23T11:36:48.653Z"
   },
   {
    "duration": 25,
    "start_time": "2022-03-23T11:36:54.552Z"
   },
   {
    "duration": 27,
    "start_time": "2022-03-23T11:36:57.912Z"
   },
   {
    "duration": 20,
    "start_time": "2022-03-23T11:37:09.704Z"
   },
   {
    "duration": 12,
    "start_time": "2022-03-23T11:53:07.340Z"
   },
   {
    "duration": 5,
    "start_time": "2022-03-23T11:53:23.279Z"
   },
   {
    "duration": 8,
    "start_time": "2022-03-23T11:53:30.182Z"
   },
   {
    "duration": 11,
    "start_time": "2022-03-23T11:54:12.433Z"
   },
   {
    "duration": 9,
    "start_time": "2022-03-23T11:55:00.294Z"
   },
   {
    "duration": 14,
    "start_time": "2022-03-23T11:55:36.085Z"
   },
   {
    "duration": 7,
    "start_time": "2022-03-23T11:55:39.967Z"
   },
   {
    "duration": 26,
    "start_time": "2022-03-23T11:56:45.189Z"
   },
   {
    "duration": 14,
    "start_time": "2022-03-23T11:57:15.515Z"
   },
   {
    "duration": 28,
    "start_time": "2022-03-23T11:57:26.938Z"
   },
   {
    "duration": 27,
    "start_time": "2022-03-23T11:57:30.902Z"
   },
   {
    "duration": 41,
    "start_time": "2022-03-23T11:57:40.917Z"
   },
   {
    "duration": 22,
    "start_time": "2022-03-23T11:57:52.209Z"
   },
   {
    "duration": 20,
    "start_time": "2022-03-23T11:57:58.802Z"
   },
   {
    "duration": 20,
    "start_time": "2022-03-23T11:58:03.444Z"
   },
   {
    "duration": 1091,
    "start_time": "2022-03-23T19:32:44.150Z"
   },
   {
    "duration": 76,
    "start_time": "2022-03-23T19:32:45.243Z"
   },
   {
    "duration": 10,
    "start_time": "2022-03-23T19:32:45.321Z"
   },
   {
    "duration": 11,
    "start_time": "2022-03-23T19:32:45.335Z"
   },
   {
    "duration": 11,
    "start_time": "2022-03-23T19:32:45.348Z"
   },
   {
    "duration": 12,
    "start_time": "2022-03-23T19:32:45.361Z"
   },
   {
    "duration": 7,
    "start_time": "2022-03-23T19:32:45.375Z"
   },
   {
    "duration": 30,
    "start_time": "2022-03-23T19:32:45.385Z"
   },
   {
    "duration": 14,
    "start_time": "2022-03-23T19:32:45.417Z"
   },
   {
    "duration": 17,
    "start_time": "2022-03-23T19:32:45.435Z"
   },
   {
    "duration": 9,
    "start_time": "2022-03-23T19:32:45.454Z"
   },
   {
    "duration": 121,
    "start_time": "2022-03-23T19:32:45.465Z"
   },
   {
    "duration": 19,
    "start_time": "2022-03-23T19:32:45.587Z"
   },
   {
    "duration": 12,
    "start_time": "2022-03-23T19:32:45.608Z"
   },
   {
    "duration": 10,
    "start_time": "2022-03-23T19:32:45.621Z"
   },
   {
    "duration": 3,
    "start_time": "2022-03-23T19:32:45.633Z"
   },
   {
    "duration": 10,
    "start_time": "2022-03-23T19:32:45.638Z"
   },
   {
    "duration": 8,
    "start_time": "2022-03-23T19:32:45.650Z"
   },
   {
    "duration": 12,
    "start_time": "2022-03-23T19:32:45.660Z"
   },
   {
    "duration": 34,
    "start_time": "2022-03-23T19:32:45.674Z"
   },
   {
    "duration": 6,
    "start_time": "2022-03-23T19:32:45.710Z"
   },
   {
    "duration": 165,
    "start_time": "2022-03-23T19:32:45.718Z"
   },
   {
    "duration": 130,
    "start_time": "2022-03-23T19:32:45.884Z"
   },
   {
    "duration": 298,
    "start_time": "2022-03-23T19:32:46.017Z"
   },
   {
    "duration": 302,
    "start_time": "2022-03-23T19:32:46.317Z"
   },
   {
    "duration": 233,
    "start_time": "2022-03-23T19:32:46.620Z"
   },
   {
    "duration": 311,
    "start_time": "2022-03-23T19:32:46.854Z"
   },
   {
    "duration": 6,
    "start_time": "2022-03-23T19:32:47.168Z"
   },
   {
    "duration": 244,
    "start_time": "2022-03-23T19:32:47.175Z"
   },
   {
    "duration": 334,
    "start_time": "2022-03-23T19:32:47.421Z"
   },
   {
    "duration": 118,
    "start_time": "2022-03-23T19:32:47.757Z"
   },
   {
    "duration": 130,
    "start_time": "2022-03-23T19:32:47.877Z"
   },
   {
    "duration": 5,
    "start_time": "2022-03-23T19:32:48.009Z"
   },
   {
    "duration": 131,
    "start_time": "2022-03-23T19:32:48.016Z"
   },
   {
    "duration": 5,
    "start_time": "2022-03-23T19:32:48.149Z"
   },
   {
    "duration": 8,
    "start_time": "2022-03-23T19:32:48.156Z"
   },
   {
    "duration": 6,
    "start_time": "2022-03-23T19:32:48.165Z"
   },
   {
    "duration": 279,
    "start_time": "2022-03-23T19:32:48.173Z"
   },
   {
    "duration": 35,
    "start_time": "2022-03-23T19:32:48.453Z"
   },
   {
    "duration": 7,
    "start_time": "2022-03-23T19:32:48.501Z"
   },
   {
    "duration": 20,
    "start_time": "2022-03-23T19:32:48.509Z"
   },
   {
    "duration": 9,
    "start_time": "2022-03-23T19:32:48.530Z"
   },
   {
    "duration": 9,
    "start_time": "2022-03-23T19:32:48.541Z"
   },
   {
    "duration": 8,
    "start_time": "2022-03-23T19:32:48.551Z"
   },
   {
    "duration": 51,
    "start_time": "2022-03-23T19:32:48.561Z"
   },
   {
    "duration": 13,
    "start_time": "2022-03-23T19:32:48.614Z"
   },
   {
    "duration": 10,
    "start_time": "2022-03-23T19:38:46.754Z"
   },
   {
    "duration": 2511,
    "start_time": "2022-03-24T10:03:39.268Z"
   },
   {
    "duration": 42,
    "start_time": "2022-03-24T10:03:41.785Z"
   },
   {
    "duration": 19,
    "start_time": "2022-03-24T10:03:41.829Z"
   },
   {
    "duration": 17,
    "start_time": "2022-03-24T10:03:41.851Z"
   },
   {
    "duration": 21,
    "start_time": "2022-03-24T10:03:41.872Z"
   },
   {
    "duration": 26,
    "start_time": "2022-03-24T10:03:41.896Z"
   },
   {
    "duration": 11,
    "start_time": "2022-03-24T10:03:41.924Z"
   },
   {
    "duration": 16,
    "start_time": "2022-03-24T10:03:41.937Z"
   },
   {
    "duration": 47,
    "start_time": "2022-03-24T10:03:41.955Z"
   },
   {
    "duration": 30,
    "start_time": "2022-03-24T10:03:42.004Z"
   },
   {
    "duration": 8,
    "start_time": "2022-03-24T10:03:42.037Z"
   },
   {
    "duration": 137,
    "start_time": "2022-03-24T10:03:42.047Z"
   },
   {
    "duration": 16,
    "start_time": "2022-03-24T10:03:42.187Z"
   },
   {
    "duration": 24,
    "start_time": "2022-03-24T10:03:42.209Z"
   },
   {
    "duration": 18,
    "start_time": "2022-03-24T10:03:42.235Z"
   },
   {
    "duration": 8,
    "start_time": "2022-03-24T10:03:42.285Z"
   },
   {
    "duration": 28,
    "start_time": "2022-03-24T10:03:42.296Z"
   },
   {
    "duration": 9,
    "start_time": "2022-03-24T10:03:42.327Z"
   },
   {
    "duration": 16,
    "start_time": "2022-03-24T10:03:42.338Z"
   },
   {
    "duration": 14,
    "start_time": "2022-03-24T10:03:42.383Z"
   },
   {
    "duration": 8,
    "start_time": "2022-03-24T10:03:42.399Z"
   },
   {
    "duration": 299,
    "start_time": "2022-03-24T10:03:42.410Z"
   },
   {
    "duration": 302,
    "start_time": "2022-03-24T10:03:42.712Z"
   },
   {
    "duration": 490,
    "start_time": "2022-03-24T10:03:43.017Z"
   },
   {
    "duration": 616,
    "start_time": "2022-03-24T10:03:43.510Z"
   },
   {
    "duration": 478,
    "start_time": "2022-03-24T10:03:44.129Z"
   },
   {
    "duration": 626,
    "start_time": "2022-03-24T10:03:44.610Z"
   },
   {
    "duration": 9,
    "start_time": "2022-03-24T10:03:45.238Z"
   },
   {
    "duration": 488,
    "start_time": "2022-03-24T10:03:45.249Z"
   },
   {
    "duration": 579,
    "start_time": "2022-03-24T10:03:45.739Z"
   },
   {
    "duration": 243,
    "start_time": "2022-03-24T10:03:46.320Z"
   },
   {
    "duration": 247,
    "start_time": "2022-03-24T10:03:46.566Z"
   },
   {
    "duration": 7,
    "start_time": "2022-03-24T10:03:46.815Z"
   },
   {
    "duration": 246,
    "start_time": "2022-03-24T10:03:46.824Z"
   },
   {
    "duration": 15,
    "start_time": "2022-03-24T10:03:47.073Z"
   },
   {
    "duration": 20,
    "start_time": "2022-03-24T10:03:47.091Z"
   },
   {
    "duration": 25,
    "start_time": "2022-03-24T10:03:47.113Z"
   },
   {
    "duration": 425,
    "start_time": "2022-03-24T10:03:47.141Z"
   },
   {
    "duration": 23,
    "start_time": "2022-03-24T10:03:47.568Z"
   },
   {
    "duration": 92,
    "start_time": "2022-03-24T10:03:47.593Z"
   },
   {
    "duration": 11,
    "start_time": "2022-03-24T10:03:47.692Z"
   },
   {
    "duration": 27,
    "start_time": "2022-03-24T10:03:47.705Z"
   },
   {
    "duration": 15,
    "start_time": "2022-03-24T10:03:47.735Z"
   },
   {
    "duration": 14,
    "start_time": "2022-03-24T10:03:47.784Z"
   },
   {
    "duration": 27,
    "start_time": "2022-03-24T10:03:47.801Z"
   },
   {
    "duration": 30,
    "start_time": "2022-03-24T10:03:47.830Z"
   },
   {
    "duration": 22,
    "start_time": "2022-03-24T10:03:47.883Z"
   },
   {
    "duration": 406,
    "start_time": "2022-03-24T10:06:03.562Z"
   },
   {
    "duration": 294,
    "start_time": "2022-03-24T10:06:13.048Z"
   },
   {
    "duration": 15,
    "start_time": "2022-03-24T10:06:13.742Z"
   },
   {
    "duration": 27,
    "start_time": "2022-03-24T10:09:04.751Z"
   },
   {
    "duration": 19,
    "start_time": "2022-03-24T10:09:38.696Z"
   },
   {
    "duration": 8,
    "start_time": "2022-03-24T10:09:47.971Z"
   },
   {
    "duration": 8,
    "start_time": "2022-03-24T10:10:01.389Z"
   },
   {
    "duration": 15,
    "start_time": "2022-03-24T10:10:37.299Z"
   },
   {
    "duration": 14,
    "start_time": "2022-03-24T10:11:23.286Z"
   },
   {
    "duration": 818,
    "start_time": "2022-03-24T10:11:42.773Z"
   },
   {
    "duration": 477,
    "start_time": "2022-03-24T10:12:12.772Z"
   },
   {
    "duration": 29,
    "start_time": "2022-03-24T10:12:16.288Z"
   },
   {
    "duration": 15,
    "start_time": "2022-03-24T10:12:43.990Z"
   },
   {
    "duration": 11,
    "start_time": "2022-03-24T10:12:58.632Z"
   },
   {
    "duration": 5,
    "start_time": "2022-03-24T10:14:40.721Z"
   },
   {
    "duration": 80,
    "start_time": "2022-03-24T10:14:40.729Z"
   },
   {
    "duration": 15,
    "start_time": "2022-03-24T10:14:40.812Z"
   },
   {
    "duration": 23,
    "start_time": "2022-03-24T10:14:40.829Z"
   },
   {
    "duration": 47,
    "start_time": "2022-03-24T10:14:40.856Z"
   },
   {
    "duration": 23,
    "start_time": "2022-03-24T10:14:40.906Z"
   },
   {
    "duration": 10,
    "start_time": "2022-03-24T10:14:40.932Z"
   },
   {
    "duration": 15,
    "start_time": "2022-03-24T10:14:40.944Z"
   },
   {
    "duration": 17,
    "start_time": "2022-03-24T10:14:40.984Z"
   },
   {
    "duration": 26,
    "start_time": "2022-03-24T10:14:41.003Z"
   },
   {
    "duration": 9,
    "start_time": "2022-03-24T10:14:41.033Z"
   },
   {
    "duration": 150,
    "start_time": "2022-03-24T10:14:41.045Z"
   },
   {
    "duration": 20,
    "start_time": "2022-03-24T10:14:41.197Z"
   },
   {
    "duration": 17,
    "start_time": "2022-03-24T10:14:41.221Z"
   },
   {
    "duration": 50,
    "start_time": "2022-03-24T10:14:41.240Z"
   },
   {
    "duration": 10,
    "start_time": "2022-03-24T10:14:41.293Z"
   },
   {
    "duration": 24,
    "start_time": "2022-03-24T10:14:41.306Z"
   },
   {
    "duration": 13,
    "start_time": "2022-03-24T10:14:41.332Z"
   },
   {
    "duration": 44,
    "start_time": "2022-03-24T10:14:41.347Z"
   },
   {
    "duration": 18,
    "start_time": "2022-03-24T10:14:41.394Z"
   },
   {
    "duration": 12,
    "start_time": "2022-03-24T10:14:41.414Z"
   },
   {
    "duration": 430,
    "start_time": "2022-03-24T10:14:41.428Z"
   },
   {
    "duration": 229,
    "start_time": "2022-03-24T10:14:41.861Z"
   },
   {
    "duration": 488,
    "start_time": "2022-03-24T10:14:42.092Z"
   },
   {
    "duration": 503,
    "start_time": "2022-03-24T10:14:42.584Z"
   },
   {
    "duration": 1195,
    "start_time": "2022-03-24T10:14:43.089Z"
   },
   {
    "duration": 1239,
    "start_time": "2022-03-24T10:14:44.287Z"
   },
   {
    "duration": 65,
    "start_time": "2022-03-24T10:14:45.528Z"
   },
   {
    "duration": 634,
    "start_time": "2022-03-24T10:14:45.596Z"
   },
   {
    "duration": 619,
    "start_time": "2022-03-24T10:14:46.232Z"
   },
   {
    "duration": 430,
    "start_time": "2022-03-24T10:14:46.854Z"
   },
   {
    "duration": 354,
    "start_time": "2022-03-24T10:14:47.287Z"
   },
   {
    "duration": 8,
    "start_time": "2022-03-24T10:14:47.645Z"
   },
   {
    "duration": 365,
    "start_time": "2022-03-24T10:14:47.656Z"
   },
   {
    "duration": 8,
    "start_time": "2022-03-24T10:14:48.023Z"
   },
   {
    "duration": 21,
    "start_time": "2022-03-24T10:14:48.034Z"
   },
   {
    "duration": 29,
    "start_time": "2022-03-24T10:14:48.058Z"
   },
   {
    "duration": 17,
    "start_time": "2022-03-24T10:14:48.089Z"
   },
   {
    "duration": 331,
    "start_time": "2022-03-24T10:14:48.110Z"
   },
   {
    "duration": 8,
    "start_time": "2022-03-24T10:14:48.444Z"
   },
   {
    "duration": 45,
    "start_time": "2022-03-24T10:14:48.458Z"
   },
   {
    "duration": 115,
    "start_time": "2022-03-24T10:14:48.506Z"
   },
   {
    "duration": 10,
    "start_time": "2022-03-24T10:14:48.625Z"
   },
   {
    "duration": 49,
    "start_time": "2022-03-24T10:14:48.638Z"
   },
   {
    "duration": 16,
    "start_time": "2022-03-24T10:14:48.690Z"
   },
   {
    "duration": 19,
    "start_time": "2022-03-24T10:14:48.708Z"
   },
   {
    "duration": 18,
    "start_time": "2022-03-24T10:14:48.730Z"
   },
   {
    "duration": 58,
    "start_time": "2022-03-24T10:14:48.751Z"
   },
   {
    "duration": 27,
    "start_time": "2022-03-24T10:14:48.812Z"
   },
   {
    "duration": 6,
    "start_time": "2022-03-24T10:15:41.000Z"
   },
   {
    "duration": 11,
    "start_time": "2022-03-24T10:16:04.094Z"
   },
   {
    "duration": 9,
    "start_time": "2022-03-24T10:16:15.073Z"
   },
   {
    "duration": 9,
    "start_time": "2022-03-24T10:16:31.544Z"
   },
   {
    "duration": 8,
    "start_time": "2022-03-24T10:16:35.348Z"
   },
   {
    "duration": 5,
    "start_time": "2022-03-24T10:16:44.223Z"
   },
   {
    "duration": 48,
    "start_time": "2022-03-24T10:16:44.232Z"
   },
   {
    "duration": 13,
    "start_time": "2022-03-24T10:16:44.283Z"
   },
   {
    "duration": 22,
    "start_time": "2022-03-24T10:16:44.299Z"
   },
   {
    "duration": 59,
    "start_time": "2022-03-24T10:16:44.326Z"
   },
   {
    "duration": 16,
    "start_time": "2022-03-24T10:16:44.388Z"
   },
   {
    "duration": 10,
    "start_time": "2022-03-24T10:16:44.407Z"
   },
   {
    "duration": 19,
    "start_time": "2022-03-24T10:16:44.419Z"
   },
   {
    "duration": 52,
    "start_time": "2022-03-24T10:16:44.440Z"
   },
   {
    "duration": 22,
    "start_time": "2022-03-24T10:16:44.495Z"
   },
   {
    "duration": 10,
    "start_time": "2022-03-24T10:16:44.519Z"
   },
   {
    "duration": 141,
    "start_time": "2022-03-24T10:16:44.531Z"
   },
   {
    "duration": 15,
    "start_time": "2022-03-24T10:16:44.683Z"
   },
   {
    "duration": 16,
    "start_time": "2022-03-24T10:16:44.700Z"
   },
   {
    "duration": 16,
    "start_time": "2022-03-24T10:16:44.718Z"
   },
   {
    "duration": 5,
    "start_time": "2022-03-24T10:16:44.736Z"
   },
   {
    "duration": 18,
    "start_time": "2022-03-24T10:16:44.783Z"
   },
   {
    "duration": 10,
    "start_time": "2022-03-24T10:16:44.804Z"
   },
   {
    "duration": 25,
    "start_time": "2022-03-24T10:16:44.817Z"
   },
   {
    "duration": 40,
    "start_time": "2022-03-24T10:16:44.845Z"
   },
   {
    "duration": 10,
    "start_time": "2022-03-24T10:16:44.888Z"
   },
   {
    "duration": 293,
    "start_time": "2022-03-24T10:16:44.900Z"
   },
   {
    "duration": 319,
    "start_time": "2022-03-24T10:16:45.195Z"
   },
   {
    "duration": 767,
    "start_time": "2022-03-24T10:16:45.517Z"
   },
   {
    "duration": 908,
    "start_time": "2022-03-24T10:16:46.287Z"
   },
   {
    "duration": 1189,
    "start_time": "2022-03-24T10:16:47.198Z"
   },
   {
    "duration": 995,
    "start_time": "2022-03-24T10:16:48.389Z"
   },
   {
    "duration": 9,
    "start_time": "2022-03-24T10:16:49.387Z"
   },
   {
    "duration": 902,
    "start_time": "2022-03-24T10:16:49.399Z"
   },
   {
    "duration": 1010,
    "start_time": "2022-03-24T10:16:50.303Z"
   },
   {
    "duration": 678,
    "start_time": "2022-03-24T10:16:51.315Z"
   },
   {
    "duration": 280,
    "start_time": "2022-03-24T10:16:51.996Z"
   },
   {
    "duration": 8,
    "start_time": "2022-03-24T10:16:52.283Z"
   },
   {
    "duration": 369,
    "start_time": "2022-03-24T10:16:52.293Z"
   },
   {
    "duration": 20,
    "start_time": "2022-03-24T10:16:52.665Z"
   },
   {
    "duration": 11,
    "start_time": "2022-03-24T10:16:52.688Z"
   },
   {
    "duration": 10,
    "start_time": "2022-03-24T10:16:52.705Z"
   },
   {
    "duration": 9,
    "start_time": "2022-03-24T10:16:52.718Z"
   },
   {
    "duration": 14,
    "start_time": "2022-03-24T10:16:52.730Z"
   },
   {
    "duration": 315,
    "start_time": "2022-03-24T10:16:52.785Z"
   },
   {
    "duration": 8,
    "start_time": "2022-03-24T10:16:53.102Z"
   },
   {
    "duration": 36,
    "start_time": "2022-03-24T10:16:53.112Z"
   },
   {
    "duration": 48,
    "start_time": "2022-03-24T10:16:53.150Z"
   },
   {
    "duration": 116,
    "start_time": "2022-03-24T10:16:53.201Z"
   },
   {
    "duration": 11,
    "start_time": "2022-03-24T10:16:53.320Z"
   },
   {
    "duration": 56,
    "start_time": "2022-03-24T10:16:53.333Z"
   },
   {
    "duration": 18,
    "start_time": "2022-03-24T10:16:53.391Z"
   },
   {
    "duration": 32,
    "start_time": "2022-03-24T10:16:53.412Z"
   },
   {
    "duration": 21,
    "start_time": "2022-03-24T10:16:53.447Z"
   },
   {
    "duration": 41,
    "start_time": "2022-03-24T10:16:53.485Z"
   },
   {
    "duration": 28,
    "start_time": "2022-03-24T10:16:53.528Z"
   },
   {
    "duration": 307,
    "start_time": "2022-03-24T10:18:33.969Z"
   },
   {
    "duration": 10,
    "start_time": "2022-03-24T10:18:34.596Z"
   },
   {
    "duration": 9,
    "start_time": "2022-03-24T10:18:35.324Z"
   },
   {
    "duration": 23,
    "start_time": "2022-03-24T10:18:36.431Z"
   },
   {
    "duration": 471,
    "start_time": "2022-03-24T10:19:38.756Z"
   },
   {
    "duration": 11,
    "start_time": "2022-03-24T10:19:39.621Z"
   },
   {
    "duration": 9,
    "start_time": "2022-03-24T10:19:40.646Z"
   },
   {
    "duration": 22,
    "start_time": "2022-03-24T10:19:43.744Z"
   },
   {
    "duration": 5,
    "start_time": "2022-03-24T10:20:12.584Z"
   },
   {
    "duration": 75,
    "start_time": "2022-03-24T10:20:12.591Z"
   },
   {
    "duration": 12,
    "start_time": "2022-03-24T10:20:12.669Z"
   },
   {
    "duration": 57,
    "start_time": "2022-03-24T10:20:12.685Z"
   },
   {
    "duration": 35,
    "start_time": "2022-03-24T10:20:12.745Z"
   },
   {
    "duration": 30,
    "start_time": "2022-03-24T10:20:12.782Z"
   },
   {
    "duration": 39,
    "start_time": "2022-03-24T10:20:12.814Z"
   },
   {
    "duration": 49,
    "start_time": "2022-03-24T10:20:12.856Z"
   },
   {
    "duration": 32,
    "start_time": "2022-03-24T10:20:12.907Z"
   },
   {
    "duration": 38,
    "start_time": "2022-03-24T10:20:12.943Z"
   },
   {
    "duration": 7,
    "start_time": "2022-03-24T10:20:12.984Z"
   },
   {
    "duration": 229,
    "start_time": "2022-03-24T10:20:12.993Z"
   },
   {
    "duration": 17,
    "start_time": "2022-03-24T10:20:13.228Z"
   },
   {
    "duration": 42,
    "start_time": "2022-03-24T10:20:13.247Z"
   },
   {
    "duration": 16,
    "start_time": "2022-03-24T10:20:13.293Z"
   },
   {
    "duration": 13,
    "start_time": "2022-03-24T10:20:13.312Z"
   },
   {
    "duration": 28,
    "start_time": "2022-03-24T10:20:13.328Z"
   },
   {
    "duration": 38,
    "start_time": "2022-03-24T10:20:13.359Z"
   },
   {
    "duration": 18,
    "start_time": "2022-03-24T10:20:13.400Z"
   },
   {
    "duration": 23,
    "start_time": "2022-03-24T10:20:13.421Z"
   },
   {
    "duration": 15,
    "start_time": "2022-03-24T10:20:13.446Z"
   },
   {
    "duration": 293,
    "start_time": "2022-03-24T10:20:13.466Z"
   },
   {
    "duration": 349,
    "start_time": "2022-03-24T10:20:13.761Z"
   },
   {
    "duration": 1412,
    "start_time": "2022-03-24T10:20:14.112Z"
   },
   {
    "duration": 1164,
    "start_time": "2022-03-24T10:20:15.528Z"
   },
   {
    "duration": 1036,
    "start_time": "2022-03-24T10:20:16.695Z"
   },
   {
    "duration": 732,
    "start_time": "2022-03-24T10:20:17.733Z"
   },
   {
    "duration": 21,
    "start_time": "2022-03-24T10:20:18.468Z"
   },
   {
    "duration": 641,
    "start_time": "2022-03-24T10:20:18.493Z"
   },
   {
    "duration": 724,
    "start_time": "2022-03-24T10:20:19.137Z"
   },
   {
    "duration": 280,
    "start_time": "2022-03-24T10:20:19.865Z"
   },
   {
    "duration": 268,
    "start_time": "2022-03-24T10:20:20.148Z"
   },
   {
    "duration": 8,
    "start_time": "2022-03-24T10:20:20.419Z"
   },
   {
    "duration": 327,
    "start_time": "2022-03-24T10:20:20.430Z"
   },
   {
    "duration": 8,
    "start_time": "2022-03-24T10:20:20.761Z"
   },
   {
    "duration": 30,
    "start_time": "2022-03-24T10:20:20.772Z"
   },
   {
    "duration": 13,
    "start_time": "2022-03-24T10:20:20.811Z"
   },
   {
    "duration": 15,
    "start_time": "2022-03-24T10:20:20.828Z"
   },
   {
    "duration": 47,
    "start_time": "2022-03-24T10:20:20.847Z"
   },
   {
    "duration": 404,
    "start_time": "2022-03-24T10:20:20.898Z"
   },
   {
    "duration": 9,
    "start_time": "2022-03-24T10:20:21.305Z"
   },
   {
    "duration": 20,
    "start_time": "2022-03-24T10:20:21.317Z"
   },
   {
    "duration": 44,
    "start_time": "2022-03-24T10:20:21.340Z"
   },
   {
    "duration": 245,
    "start_time": "2022-03-24T10:20:21.387Z"
   },
   {
    "duration": 9,
    "start_time": "2022-03-24T10:20:21.635Z"
   },
   {
    "duration": 52,
    "start_time": "2022-03-24T10:20:21.646Z"
   },
   {
    "duration": 15,
    "start_time": "2022-03-24T10:20:21.700Z"
   },
   {
    "duration": 14,
    "start_time": "2022-03-24T10:20:21.717Z"
   },
   {
    "duration": 51,
    "start_time": "2022-03-24T10:20:21.733Z"
   },
   {
    "duration": 48,
    "start_time": "2022-03-24T10:20:21.788Z"
   },
   {
    "duration": 51,
    "start_time": "2022-03-24T10:20:21.839Z"
   },
   {
    "duration": 20,
    "start_time": "2022-03-24T10:21:05.173Z"
   },
   {
    "duration": 6,
    "start_time": "2022-03-24T10:30:32.108Z"
   },
   {
    "duration": 66,
    "start_time": "2022-03-24T10:30:32.118Z"
   },
   {
    "duration": 11,
    "start_time": "2022-03-24T10:30:32.187Z"
   },
   {
    "duration": 30,
    "start_time": "2022-03-24T10:30:32.200Z"
   },
   {
    "duration": 37,
    "start_time": "2022-03-24T10:30:32.234Z"
   },
   {
    "duration": 36,
    "start_time": "2022-03-24T10:30:32.273Z"
   },
   {
    "duration": 24,
    "start_time": "2022-03-24T10:30:32.312Z"
   },
   {
    "duration": 29,
    "start_time": "2022-03-24T10:30:32.338Z"
   },
   {
    "duration": 31,
    "start_time": "2022-03-24T10:30:32.371Z"
   },
   {
    "duration": 59,
    "start_time": "2022-03-24T10:30:32.405Z"
   },
   {
    "duration": 7,
    "start_time": "2022-03-24T10:30:32.469Z"
   },
   {
    "duration": 147,
    "start_time": "2022-03-24T10:30:32.479Z"
   },
   {
    "duration": 16,
    "start_time": "2022-03-24T10:30:32.632Z"
   },
   {
    "duration": 34,
    "start_time": "2022-03-24T10:30:32.652Z"
   },
   {
    "duration": 27,
    "start_time": "2022-03-24T10:30:32.689Z"
   },
   {
    "duration": 16,
    "start_time": "2022-03-24T10:30:32.719Z"
   },
   {
    "duration": 28,
    "start_time": "2022-03-24T10:30:32.737Z"
   },
   {
    "duration": 14,
    "start_time": "2022-03-24T10:30:32.784Z"
   },
   {
    "duration": 24,
    "start_time": "2022-03-24T10:30:32.800Z"
   },
   {
    "duration": 31,
    "start_time": "2022-03-24T10:30:32.826Z"
   },
   {
    "duration": 27,
    "start_time": "2022-03-24T10:30:32.859Z"
   },
   {
    "duration": 288,
    "start_time": "2022-03-24T10:30:32.888Z"
   },
   {
    "duration": 235,
    "start_time": "2022-03-24T10:30:33.178Z"
   },
   {
    "duration": 1270,
    "start_time": "2022-03-24T10:30:33.415Z"
   },
   {
    "duration": 1228,
    "start_time": "2022-03-24T10:30:34.688Z"
   },
   {
    "duration": 730,
    "start_time": "2022-03-24T10:30:35.919Z"
   },
   {
    "duration": 550,
    "start_time": "2022-03-24T10:30:36.651Z"
   },
   {
    "duration": 9,
    "start_time": "2022-03-24T10:30:37.203Z"
   },
   {
    "duration": 473,
    "start_time": "2022-03-24T10:30:37.215Z"
   },
   {
    "duration": 562,
    "start_time": "2022-03-24T10:30:37.691Z"
   },
   {
    "duration": 338,
    "start_time": "2022-03-24T10:30:38.256Z"
   },
   {
    "duration": 363,
    "start_time": "2022-03-24T10:30:38.597Z"
   },
   {
    "duration": 8,
    "start_time": "2022-03-24T10:30:38.963Z"
   },
   {
    "duration": 249,
    "start_time": "2022-03-24T10:30:38.985Z"
   },
   {
    "duration": 8,
    "start_time": "2022-03-24T10:30:39.236Z"
   },
   {
    "duration": 14,
    "start_time": "2022-03-24T10:30:39.247Z"
   },
   {
    "duration": 11,
    "start_time": "2022-03-24T10:30:39.283Z"
   },
   {
    "duration": 584,
    "start_time": "2022-03-24T10:30:39.297Z"
   },
   {
    "duration": 18,
    "start_time": "2022-03-24T10:30:39.883Z"
   },
   {
    "duration": 247,
    "start_time": "2022-03-24T10:30:39.903Z"
   },
   {
    "duration": 9,
    "start_time": "2022-03-24T10:30:40.152Z"
   },
   {
    "duration": 49,
    "start_time": "2022-03-24T10:30:40.165Z"
   },
   {
    "duration": 16,
    "start_time": "2022-03-24T10:30:40.216Z"
   },
   {
    "duration": 30,
    "start_time": "2022-03-24T10:30:40.234Z"
   },
   {
    "duration": 27,
    "start_time": "2022-03-24T10:30:40.285Z"
   },
   {
    "duration": 54,
    "start_time": "2022-03-24T10:30:40.315Z"
   },
   {
    "duration": 21,
    "start_time": "2022-03-24T10:30:40.371Z"
   },
   {
    "duration": 1690,
    "start_time": "2022-03-24T12:43:27.753Z"
   },
   {
    "duration": 38,
    "start_time": "2022-03-24T12:43:29.446Z"
   },
   {
    "duration": 19,
    "start_time": "2022-03-24T12:43:29.486Z"
   },
   {
    "duration": 22,
    "start_time": "2022-03-24T12:43:29.508Z"
   },
   {
    "duration": 23,
    "start_time": "2022-03-24T12:43:29.534Z"
   },
   {
    "duration": 20,
    "start_time": "2022-03-24T12:43:29.574Z"
   },
   {
    "duration": 12,
    "start_time": "2022-03-24T12:43:29.597Z"
   },
   {
    "duration": 20,
    "start_time": "2022-03-24T12:43:29.612Z"
   },
   {
    "duration": 46,
    "start_time": "2022-03-24T12:43:29.635Z"
   },
   {
    "duration": 32,
    "start_time": "2022-03-24T12:43:29.683Z"
   },
   {
    "duration": 9,
    "start_time": "2022-03-24T12:43:29.717Z"
   },
   {
    "duration": 138,
    "start_time": "2022-03-24T12:43:29.728Z"
   },
   {
    "duration": 15,
    "start_time": "2022-03-24T12:43:29.868Z"
   },
   {
    "duration": 15,
    "start_time": "2022-03-24T12:43:29.888Z"
   },
   {
    "duration": 14,
    "start_time": "2022-03-24T12:43:29.906Z"
   },
   {
    "duration": 14,
    "start_time": "2022-03-24T12:43:29.922Z"
   },
   {
    "duration": 47,
    "start_time": "2022-03-24T12:43:29.937Z"
   },
   {
    "duration": 15,
    "start_time": "2022-03-24T12:43:29.987Z"
   },
   {
    "duration": 34,
    "start_time": "2022-03-24T12:43:30.006Z"
   },
   {
    "duration": 27,
    "start_time": "2022-03-24T12:43:30.042Z"
   },
   {
    "duration": 24,
    "start_time": "2022-03-24T12:43:30.071Z"
   },
   {
    "duration": 290,
    "start_time": "2022-03-24T12:43:30.097Z"
   },
   {
    "duration": 211,
    "start_time": "2022-03-24T12:43:30.389Z"
   },
   {
    "duration": 471,
    "start_time": "2022-03-24T12:43:30.602Z"
   },
   {
    "duration": 592,
    "start_time": "2022-03-24T12:43:31.075Z"
   },
   {
    "duration": 457,
    "start_time": "2022-03-24T12:43:31.673Z"
   },
   {
    "duration": 606,
    "start_time": "2022-03-24T12:43:32.132Z"
   },
   {
    "duration": 7,
    "start_time": "2022-03-24T12:43:32.740Z"
   },
   {
    "duration": 578,
    "start_time": "2022-03-24T12:43:32.749Z"
   },
   {
    "duration": 581,
    "start_time": "2022-03-24T12:43:33.329Z"
   },
   {
    "duration": 261,
    "start_time": "2022-03-24T12:43:33.912Z"
   },
   {
    "duration": 240,
    "start_time": "2022-03-24T12:43:34.176Z"
   },
   {
    "duration": 9,
    "start_time": "2022-03-24T12:43:34.418Z"
   },
   {
    "duration": 227,
    "start_time": "2022-03-24T12:43:34.429Z"
   },
   {
    "duration": 16,
    "start_time": "2022-03-24T12:43:34.658Z"
   },
   {
    "duration": 9,
    "start_time": "2022-03-24T12:43:34.676Z"
   },
   {
    "duration": 22,
    "start_time": "2022-03-24T12:43:34.687Z"
   },
   {
    "duration": 379,
    "start_time": "2022-03-24T12:43:34.712Z"
   },
   {
    "duration": 17,
    "start_time": "2022-03-24T12:43:35.094Z"
   },
   {
    "duration": 289,
    "start_time": "2022-03-24T12:43:35.113Z"
   },
   {
    "duration": 8,
    "start_time": "2022-03-24T12:43:35.408Z"
   },
   {
    "duration": 53,
    "start_time": "2022-03-24T12:43:35.418Z"
   },
   {
    "duration": 14,
    "start_time": "2022-03-24T12:43:35.473Z"
   },
   {
    "duration": 19,
    "start_time": "2022-03-24T12:43:35.490Z"
   },
   {
    "duration": 29,
    "start_time": "2022-03-24T12:43:35.511Z"
   },
   {
    "duration": 53,
    "start_time": "2022-03-24T12:43:35.542Z"
   },
   {
    "duration": 18,
    "start_time": "2022-03-24T12:43:35.598Z"
   },
   {
    "duration": 1457,
    "start_time": "2022-06-03T12:58:48.008Z"
   },
   {
    "duration": 213,
    "start_time": "2022-06-03T12:58:49.467Z"
   },
   {
    "duration": 13,
    "start_time": "2022-06-03T12:58:49.682Z"
   },
   {
    "duration": 39,
    "start_time": "2022-06-03T12:58:49.697Z"
   },
   {
    "duration": 22,
    "start_time": "2022-06-03T12:58:49.738Z"
   },
   {
    "duration": 14,
    "start_time": "2022-06-03T12:58:49.762Z"
   },
   {
    "duration": 7,
    "start_time": "2022-06-03T12:58:49.823Z"
   },
   {
    "duration": 37,
    "start_time": "2022-06-03T12:58:49.832Z"
   },
   {
    "duration": 58,
    "start_time": "2022-06-03T12:58:49.872Z"
   },
   {
    "duration": 18,
    "start_time": "2022-06-03T12:58:49.936Z"
   },
   {
    "duration": 12,
    "start_time": "2022-06-03T12:58:49.957Z"
   },
   {
    "duration": 260,
    "start_time": "2022-06-03T12:58:49.971Z"
   },
   {
    "duration": 17,
    "start_time": "2022-06-03T12:58:50.233Z"
   },
   {
    "duration": 74,
    "start_time": "2022-06-03T12:58:50.252Z"
   },
   {
    "duration": 39,
    "start_time": "2022-06-03T12:58:50.328Z"
   },
   {
    "duration": 16,
    "start_time": "2022-06-03T12:58:50.369Z"
   },
   {
    "duration": 73,
    "start_time": "2022-06-03T12:58:50.388Z"
   },
   {
    "duration": 12,
    "start_time": "2022-06-03T12:58:50.463Z"
   },
   {
    "duration": 56,
    "start_time": "2022-06-03T12:58:50.477Z"
   },
   {
    "duration": 40,
    "start_time": "2022-06-03T12:58:50.536Z"
   },
   {
    "duration": 55,
    "start_time": "2022-06-03T12:58:50.578Z"
   },
   {
    "duration": 386,
    "start_time": "2022-06-03T12:58:50.637Z"
   },
   {
    "duration": 134,
    "start_time": "2022-06-03T12:58:51.025Z"
   },
   {
    "duration": 282,
    "start_time": "2022-06-03T12:58:51.161Z"
   },
   {
    "duration": 458,
    "start_time": "2022-06-03T12:58:51.444Z"
   },
   {
    "duration": 289,
    "start_time": "2022-06-03T12:58:51.904Z"
   },
   {
    "duration": 450,
    "start_time": "2022-06-03T12:58:52.195Z"
   },
   {
    "duration": 8,
    "start_time": "2022-06-03T12:58:52.649Z"
   },
   {
    "duration": 364,
    "start_time": "2022-06-03T12:58:52.659Z"
   },
   {
    "duration": 420,
    "start_time": "2022-06-03T12:58:53.025Z"
   },
   {
    "duration": 136,
    "start_time": "2022-06-03T12:58:53.447Z"
   },
   {
    "duration": 159,
    "start_time": "2022-06-03T12:58:53.586Z"
   },
   {
    "duration": 6,
    "start_time": "2022-06-03T12:58:53.747Z"
   },
   {
    "duration": 159,
    "start_time": "2022-06-03T12:58:53.755Z"
   },
   {
    "duration": 19,
    "start_time": "2022-06-03T12:58:53.915Z"
   },
   {
    "duration": 23,
    "start_time": "2022-06-03T12:58:53.939Z"
   },
   {
    "duration": 8,
    "start_time": "2022-06-03T12:58:53.963Z"
   },
   {
    "duration": 215,
    "start_time": "2022-06-03T12:58:53.973Z"
   },
   {
    "duration": 10,
    "start_time": "2022-06-03T12:58:54.190Z"
   },
   {
    "duration": 132,
    "start_time": "2022-06-03T12:58:54.202Z"
   },
   {
    "duration": 7,
    "start_time": "2022-06-03T12:58:54.336Z"
   },
   {
    "duration": 52,
    "start_time": "2022-06-03T12:58:54.345Z"
   },
   {
    "duration": 10,
    "start_time": "2022-06-03T12:58:54.399Z"
   },
   {
    "duration": 20,
    "start_time": "2022-06-03T12:58:54.410Z"
   },
   {
    "duration": 11,
    "start_time": "2022-06-03T12:58:54.432Z"
   },
   {
    "duration": 32,
    "start_time": "2022-06-03T12:58:54.446Z"
   },
   {
    "duration": 12,
    "start_time": "2022-06-03T12:58:54.480Z"
   },
   {
    "duration": 23,
    "start_time": "2022-06-03T12:59:10.525Z"
   },
   {
    "duration": 1206,
    "start_time": "2022-06-08T16:50:31.922Z"
   },
   {
    "duration": 200,
    "start_time": "2022-06-08T16:50:33.130Z"
   },
   {
    "duration": 11,
    "start_time": "2022-06-08T16:50:33.332Z"
   },
   {
    "duration": 11,
    "start_time": "2022-06-08T16:50:33.345Z"
   },
   {
    "duration": 18,
    "start_time": "2022-06-08T16:50:33.358Z"
   },
   {
    "duration": 13,
    "start_time": "2022-06-08T16:50:33.378Z"
   },
   {
    "duration": 7,
    "start_time": "2022-06-08T16:50:33.393Z"
   },
   {
    "duration": 10,
    "start_time": "2022-06-08T16:50:33.401Z"
   },
   {
    "duration": 10,
    "start_time": "2022-06-08T16:50:33.412Z"
   },
   {
    "duration": 11,
    "start_time": "2022-06-08T16:50:33.424Z"
   },
   {
    "duration": 5,
    "start_time": "2022-06-08T16:50:33.437Z"
   },
   {
    "duration": 79,
    "start_time": "2022-06-08T16:50:33.443Z"
   },
   {
    "duration": 8,
    "start_time": "2022-06-08T16:50:33.524Z"
   },
   {
    "duration": 10,
    "start_time": "2022-06-08T16:50:33.535Z"
   },
   {
    "duration": 33,
    "start_time": "2022-06-08T16:50:33.546Z"
   },
   {
    "duration": 4,
    "start_time": "2022-06-08T16:50:33.581Z"
   },
   {
    "duration": 13,
    "start_time": "2022-06-08T16:50:33.587Z"
   },
   {
    "duration": 13,
    "start_time": "2022-06-08T16:50:33.602Z"
   },
   {
    "duration": 14,
    "start_time": "2022-06-08T16:50:33.617Z"
   },
   {
    "duration": 12,
    "start_time": "2022-06-08T16:50:33.632Z"
   },
   {
    "duration": 8,
    "start_time": "2022-06-08T16:50:33.646Z"
   },
   {
    "duration": 179,
    "start_time": "2022-06-08T16:50:33.665Z"
   },
   {
    "duration": 133,
    "start_time": "2022-06-08T16:50:33.845Z"
   },
   {
    "duration": 304,
    "start_time": "2022-06-08T16:50:33.981Z"
   },
   {
    "duration": 366,
    "start_time": "2022-06-08T16:50:34.287Z"
   },
   {
    "duration": 284,
    "start_time": "2022-06-08T16:50:34.655Z"
   },
   {
    "duration": 418,
    "start_time": "2022-06-08T16:50:34.941Z"
   },
   {
    "duration": 8,
    "start_time": "2022-06-08T16:50:35.361Z"
   },
   {
    "duration": 304,
    "start_time": "2022-06-08T16:50:35.379Z"
   },
   {
    "duration": 376,
    "start_time": "2022-06-08T16:50:35.685Z"
   },
   {
    "duration": 135,
    "start_time": "2022-06-08T16:50:36.064Z"
   },
   {
    "duration": 160,
    "start_time": "2022-06-08T16:50:36.201Z"
   },
   {
    "duration": 9,
    "start_time": "2022-06-08T16:50:36.364Z"
   },
   {
    "duration": 152,
    "start_time": "2022-06-08T16:50:36.378Z"
   },
   {
    "duration": 4,
    "start_time": "2022-06-08T16:50:36.533Z"
   },
   {
    "duration": 12,
    "start_time": "2022-06-08T16:50:36.539Z"
   },
   {
    "duration": 16,
    "start_time": "2022-06-08T16:50:36.553Z"
   },
   {
    "duration": 239,
    "start_time": "2022-06-08T16:50:36.573Z"
   },
   {
    "duration": 10,
    "start_time": "2022-06-08T16:50:36.814Z"
   },
   {
    "duration": 161,
    "start_time": "2022-06-08T16:50:36.826Z"
   },
   {
    "duration": 6,
    "start_time": "2022-06-08T16:50:36.991Z"
   },
   {
    "duration": 28,
    "start_time": "2022-06-08T16:50:36.998Z"
   },
   {
    "duration": 12,
    "start_time": "2022-06-08T16:50:37.027Z"
   },
   {
    "duration": 27,
    "start_time": "2022-06-08T16:50:37.041Z"
   },
   {
    "duration": 15,
    "start_time": "2022-06-08T16:50:37.070Z"
   },
   {
    "duration": 33,
    "start_time": "2022-06-08T16:50:37.086Z"
   },
   {
    "duration": 14,
    "start_time": "2022-06-08T16:50:37.121Z"
   }
  ],
  "kernelspec": {
   "display_name": "Python 3 (ipykernel)",
   "language": "python",
   "name": "python3"
  },
  "language_info": {
   "codemirror_mode": {
    "name": "ipython",
    "version": 3
   },
   "file_extension": ".py",
   "mimetype": "text/x-python",
   "name": "python",
   "nbconvert_exporter": "python",
   "pygments_lexer": "ipython3",
   "version": "3.8.0"
  },
  "toc": {
   "base_numbering": 1,
   "nav_menu": {},
   "number_sections": true,
   "sideBar": true,
   "skip_h1_title": true,
   "title_cell": "Table of Contents",
   "title_sidebar": "Contents",
   "toc_cell": false,
   "toc_position": {
    "height": "calc(100% - 180px)",
    "left": "10px",
    "top": "150px",
    "width": "253px"
   },
   "toc_section_display": true,
   "toc_window_display": false
  }
 },
 "nbformat": 4,
 "nbformat_minor": 2
}
