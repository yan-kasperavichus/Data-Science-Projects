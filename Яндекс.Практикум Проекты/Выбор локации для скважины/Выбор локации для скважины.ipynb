{
 "cells": [
  {
   "cell_type": "markdown",
   "metadata": {},
   "source": [
    "# Выбор локации для скважины"
   ]
  },
  {
   "cell_type": "markdown",
   "metadata": {},
   "source": [
    "Допустим, вы работаете в добывающей компании «ГлавРосГосНефть». Нужно решить, где бурить новую скважину.\n",
    "\n",
    "Вам предоставлены пробы нефти в трёх регионах: в каждом 10 000 месторождений, где измерили качество нефти и объём её запасов. Постройте модель машинного обучения, которая поможет определить регион, где добыча принесёт наибольшую прибыль. Проанализируйте возможную прибыль и риски техникой *Bootstrap.*\n",
    "\n",
    "Шаги для выбора локации:\n",
    "\n",
    "- В избранном регионе ищут месторождения, для каждого определяют значения признаков;\n",
    "- Строят модель и оценивают объём запасов;\n",
    "- Выбирают месторождения с самым высокими оценками значений. Количество месторождений зависит от бюджета компании и стоимости разработки одной скважины;\n",
    "- Прибыль равна суммарной прибыли отобранных месторождений."
   ]
  },
  {
   "cell_type": "markdown",
   "metadata": {},
   "source": [
    "## Загрузка и подготовка данных"
   ]
  },
  {
   "cell_type": "markdown",
   "metadata": {},
   "source": [
    "Для начала импортируем нужные библиотеки:"
   ]
  },
  {
   "cell_type": "code",
   "execution_count": 3,
   "metadata": {},
   "outputs": [],
   "source": [
    "import pandas as pd\n",
    "import numpy as np\n",
    "pd.set_option('display.max_columns', None)\n",
    "from sklearn.model_selection import train_test_split\n",
    "from sklearn.metrics import f1_score\n",
    "import matplotlib.pyplot as plt\n",
    "from sklearn.metrics import mean_squared_error\n",
    "from sklearn.preprocessing import StandardScaler \n",
    "from sklearn.utils import shuffle\n",
    "from sklearn.linear_model import LinearRegression\n",
    "pd.options.mode.chained_assignment = None\n",
    "from sklearn import svm"
   ]
  },
  {
   "cell_type": "markdown",
   "metadata": {},
   "source": [
    "Поместим датасеты в переменные:"
   ]
  },
  {
   "cell_type": "code",
   "execution_count": 4,
   "metadata": {},
   "outputs": [],
   "source": [
    "df0 = pd.read_csv('/datasets/geo_data_0.csv')\n",
    "df1 = pd.read_csv('/datasets/geo_data_1.csv')\n",
    "df2 = pd.read_csv('/datasets/geo_data_2.csv')"
   ]
  },
  {
   "cell_type": "markdown",
   "metadata": {},
   "source": [
    "### Кратко ознакомимся с датасетами:"
   ]
  },
  {
   "cell_type": "markdown",
   "metadata": {},
   "source": [
    "#### Первый датасет"
   ]
  },
  {
   "cell_type": "code",
   "execution_count": 5,
   "metadata": {},
   "outputs": [
    {
     "data": {
      "text/html": [
       "<div>\n",
       "<style scoped>\n",
       "    .dataframe tbody tr th:only-of-type {\n",
       "        vertical-align: middle;\n",
       "    }\n",
       "\n",
       "    .dataframe tbody tr th {\n",
       "        vertical-align: top;\n",
       "    }\n",
       "\n",
       "    .dataframe thead th {\n",
       "        text-align: right;\n",
       "    }\n",
       "</style>\n",
       "<table border=\"1\" class=\"dataframe\">\n",
       "  <thead>\n",
       "    <tr style=\"text-align: right;\">\n",
       "      <th></th>\n",
       "      <th>id</th>\n",
       "      <th>f0</th>\n",
       "      <th>f1</th>\n",
       "      <th>f2</th>\n",
       "      <th>product</th>\n",
       "    </tr>\n",
       "  </thead>\n",
       "  <tbody>\n",
       "    <tr>\n",
       "      <td>0</td>\n",
       "      <td>txEyH</td>\n",
       "      <td>0.705745</td>\n",
       "      <td>-0.497823</td>\n",
       "      <td>1.221170</td>\n",
       "      <td>105.280062</td>\n",
       "    </tr>\n",
       "    <tr>\n",
       "      <td>1</td>\n",
       "      <td>2acmU</td>\n",
       "      <td>1.334711</td>\n",
       "      <td>-0.340164</td>\n",
       "      <td>4.365080</td>\n",
       "      <td>73.037750</td>\n",
       "    </tr>\n",
       "    <tr>\n",
       "      <td>2</td>\n",
       "      <td>409Wp</td>\n",
       "      <td>1.022732</td>\n",
       "      <td>0.151990</td>\n",
       "      <td>1.419926</td>\n",
       "      <td>85.265647</td>\n",
       "    </tr>\n",
       "    <tr>\n",
       "      <td>3</td>\n",
       "      <td>iJLyR</td>\n",
       "      <td>-0.032172</td>\n",
       "      <td>0.139033</td>\n",
       "      <td>2.978566</td>\n",
       "      <td>168.620776</td>\n",
       "    </tr>\n",
       "    <tr>\n",
       "      <td>4</td>\n",
       "      <td>Xdl7t</td>\n",
       "      <td>1.988431</td>\n",
       "      <td>0.155413</td>\n",
       "      <td>4.751769</td>\n",
       "      <td>154.036647</td>\n",
       "    </tr>\n",
       "  </tbody>\n",
       "</table>\n",
       "</div>"
      ],
      "text/plain": [
       "      id        f0        f1        f2     product\n",
       "0  txEyH  0.705745 -0.497823  1.221170  105.280062\n",
       "1  2acmU  1.334711 -0.340164  4.365080   73.037750\n",
       "2  409Wp  1.022732  0.151990  1.419926   85.265647\n",
       "3  iJLyR -0.032172  0.139033  2.978566  168.620776\n",
       "4  Xdl7t  1.988431  0.155413  4.751769  154.036647"
      ]
     },
     "execution_count": 5,
     "metadata": {},
     "output_type": "execute_result"
    }
   ],
   "source": [
    "df0.head()"
   ]
  },
  {
   "cell_type": "code",
   "execution_count": 6,
   "metadata": {},
   "outputs": [
    {
     "name": "stdout",
     "output_type": "stream",
     "text": [
      "<class 'pandas.core.frame.DataFrame'>\n",
      "RangeIndex: 100000 entries, 0 to 99999\n",
      "Data columns (total 5 columns):\n",
      "id         100000 non-null object\n",
      "f0         100000 non-null float64\n",
      "f1         100000 non-null float64\n",
      "f2         100000 non-null float64\n",
      "product    100000 non-null float64\n",
      "dtypes: float64(4), object(1)\n",
      "memory usage: 3.8+ MB\n"
     ]
    }
   ],
   "source": [
    "df0.info()"
   ]
  },
  {
   "cell_type": "code",
   "execution_count": 7,
   "metadata": {},
   "outputs": [
    {
     "data": {
      "text/html": [
       "<div>\n",
       "<style scoped>\n",
       "    .dataframe tbody tr th:only-of-type {\n",
       "        vertical-align: middle;\n",
       "    }\n",
       "\n",
       "    .dataframe tbody tr th {\n",
       "        vertical-align: top;\n",
       "    }\n",
       "\n",
       "    .dataframe thead th {\n",
       "        text-align: right;\n",
       "    }\n",
       "</style>\n",
       "<table border=\"1\" class=\"dataframe\">\n",
       "  <thead>\n",
       "    <tr style=\"text-align: right;\">\n",
       "      <th></th>\n",
       "      <th>f0</th>\n",
       "      <th>f1</th>\n",
       "      <th>f2</th>\n",
       "      <th>product</th>\n",
       "    </tr>\n",
       "  </thead>\n",
       "  <tbody>\n",
       "    <tr>\n",
       "      <td>count</td>\n",
       "      <td>100000.000000</td>\n",
       "      <td>100000.000000</td>\n",
       "      <td>100000.000000</td>\n",
       "      <td>100000.000000</td>\n",
       "    </tr>\n",
       "    <tr>\n",
       "      <td>mean</td>\n",
       "      <td>0.500419</td>\n",
       "      <td>0.250143</td>\n",
       "      <td>2.502647</td>\n",
       "      <td>92.500000</td>\n",
       "    </tr>\n",
       "    <tr>\n",
       "      <td>std</td>\n",
       "      <td>0.871832</td>\n",
       "      <td>0.504433</td>\n",
       "      <td>3.248248</td>\n",
       "      <td>44.288691</td>\n",
       "    </tr>\n",
       "    <tr>\n",
       "      <td>min</td>\n",
       "      <td>-1.408605</td>\n",
       "      <td>-0.848218</td>\n",
       "      <td>-12.088328</td>\n",
       "      <td>0.000000</td>\n",
       "    </tr>\n",
       "    <tr>\n",
       "      <td>25%</td>\n",
       "      <td>-0.072580</td>\n",
       "      <td>-0.200881</td>\n",
       "      <td>0.287748</td>\n",
       "      <td>56.497507</td>\n",
       "    </tr>\n",
       "    <tr>\n",
       "      <td>50%</td>\n",
       "      <td>0.502360</td>\n",
       "      <td>0.250252</td>\n",
       "      <td>2.515969</td>\n",
       "      <td>91.849972</td>\n",
       "    </tr>\n",
       "    <tr>\n",
       "      <td>75%</td>\n",
       "      <td>1.073581</td>\n",
       "      <td>0.700646</td>\n",
       "      <td>4.715088</td>\n",
       "      <td>128.564089</td>\n",
       "    </tr>\n",
       "    <tr>\n",
       "      <td>max</td>\n",
       "      <td>2.362331</td>\n",
       "      <td>1.343769</td>\n",
       "      <td>16.003790</td>\n",
       "      <td>185.364347</td>\n",
       "    </tr>\n",
       "  </tbody>\n",
       "</table>\n",
       "</div>"
      ],
      "text/plain": [
       "                  f0             f1             f2        product\n",
       "count  100000.000000  100000.000000  100000.000000  100000.000000\n",
       "mean        0.500419       0.250143       2.502647      92.500000\n",
       "std         0.871832       0.504433       3.248248      44.288691\n",
       "min        -1.408605      -0.848218     -12.088328       0.000000\n",
       "25%        -0.072580      -0.200881       0.287748      56.497507\n",
       "50%         0.502360       0.250252       2.515969      91.849972\n",
       "75%         1.073581       0.700646       4.715088     128.564089\n",
       "max         2.362331       1.343769      16.003790     185.364347"
      ]
     },
     "execution_count": 7,
     "metadata": {},
     "output_type": "execute_result"
    }
   ],
   "source": [
    "df0.describe()"
   ]
  },
  {
   "cell_type": "code",
   "execution_count": 8,
   "metadata": {
    "scrolled": true
   },
   "outputs": [
    {
     "data": {
      "text/html": [
       "<div>\n",
       "<style scoped>\n",
       "    .dataframe tbody tr th:only-of-type {\n",
       "        vertical-align: middle;\n",
       "    }\n",
       "\n",
       "    .dataframe tbody tr th {\n",
       "        vertical-align: top;\n",
       "    }\n",
       "\n",
       "    .dataframe thead th {\n",
       "        text-align: right;\n",
       "    }\n",
       "</style>\n",
       "<table border=\"1\" class=\"dataframe\">\n",
       "  <thead>\n",
       "    <tr style=\"text-align: right;\">\n",
       "      <th></th>\n",
       "      <th>id</th>\n",
       "      <th>f0</th>\n",
       "      <th>f1</th>\n",
       "      <th>f2</th>\n",
       "      <th>product</th>\n",
       "    </tr>\n",
       "  </thead>\n",
       "  <tbody>\n",
       "    <tr>\n",
       "      <td>74105</td>\n",
       "      <td>5wL1T</td>\n",
       "      <td>1.795652</td>\n",
       "      <td>-0.289982</td>\n",
       "      <td>-0.431721</td>\n",
       "      <td>40.812025</td>\n",
       "    </tr>\n",
       "  </tbody>\n",
       "</table>\n",
       "</div>"
      ],
      "text/plain": [
       "          id        f0        f1        f2    product\n",
       "74105  5wL1T  1.795652 -0.289982 -0.431721  40.812025"
      ]
     },
     "execution_count": 8,
     "metadata": {},
     "output_type": "execute_result"
    }
   ],
   "source": [
    "df0.sample()"
   ]
  },
  {
   "cell_type": "markdown",
   "metadata": {},
   "source": [
    "#### Второй датасет"
   ]
  },
  {
   "cell_type": "code",
   "execution_count": 9,
   "metadata": {},
   "outputs": [
    {
     "data": {
      "text/html": [
       "<div>\n",
       "<style scoped>\n",
       "    .dataframe tbody tr th:only-of-type {\n",
       "        vertical-align: middle;\n",
       "    }\n",
       "\n",
       "    .dataframe tbody tr th {\n",
       "        vertical-align: top;\n",
       "    }\n",
       "\n",
       "    .dataframe thead th {\n",
       "        text-align: right;\n",
       "    }\n",
       "</style>\n",
       "<table border=\"1\" class=\"dataframe\">\n",
       "  <thead>\n",
       "    <tr style=\"text-align: right;\">\n",
       "      <th></th>\n",
       "      <th>id</th>\n",
       "      <th>f0</th>\n",
       "      <th>f1</th>\n",
       "      <th>f2</th>\n",
       "      <th>product</th>\n",
       "    </tr>\n",
       "  </thead>\n",
       "  <tbody>\n",
       "    <tr>\n",
       "      <td>0</td>\n",
       "      <td>kBEdx</td>\n",
       "      <td>-15.001348</td>\n",
       "      <td>-8.276000</td>\n",
       "      <td>-0.005876</td>\n",
       "      <td>3.179103</td>\n",
       "    </tr>\n",
       "    <tr>\n",
       "      <td>1</td>\n",
       "      <td>62mP7</td>\n",
       "      <td>14.272088</td>\n",
       "      <td>-3.475083</td>\n",
       "      <td>0.999183</td>\n",
       "      <td>26.953261</td>\n",
       "    </tr>\n",
       "    <tr>\n",
       "      <td>2</td>\n",
       "      <td>vyE1P</td>\n",
       "      <td>6.263187</td>\n",
       "      <td>-5.948386</td>\n",
       "      <td>5.001160</td>\n",
       "      <td>134.766305</td>\n",
       "    </tr>\n",
       "    <tr>\n",
       "      <td>3</td>\n",
       "      <td>KcrkZ</td>\n",
       "      <td>-13.081196</td>\n",
       "      <td>-11.506057</td>\n",
       "      <td>4.999415</td>\n",
       "      <td>137.945408</td>\n",
       "    </tr>\n",
       "    <tr>\n",
       "      <td>4</td>\n",
       "      <td>AHL4O</td>\n",
       "      <td>12.702195</td>\n",
       "      <td>-8.147433</td>\n",
       "      <td>5.004363</td>\n",
       "      <td>134.766305</td>\n",
       "    </tr>\n",
       "  </tbody>\n",
       "</table>\n",
       "</div>"
      ],
      "text/plain": [
       "      id         f0         f1        f2     product\n",
       "0  kBEdx -15.001348  -8.276000 -0.005876    3.179103\n",
       "1  62mP7  14.272088  -3.475083  0.999183   26.953261\n",
       "2  vyE1P   6.263187  -5.948386  5.001160  134.766305\n",
       "3  KcrkZ -13.081196 -11.506057  4.999415  137.945408\n",
       "4  AHL4O  12.702195  -8.147433  5.004363  134.766305"
      ]
     },
     "execution_count": 9,
     "metadata": {},
     "output_type": "execute_result"
    }
   ],
   "source": [
    "df1.head()"
   ]
  },
  {
   "cell_type": "code",
   "execution_count": 10,
   "metadata": {},
   "outputs": [
    {
     "name": "stdout",
     "output_type": "stream",
     "text": [
      "<class 'pandas.core.frame.DataFrame'>\n",
      "RangeIndex: 100000 entries, 0 to 99999\n",
      "Data columns (total 5 columns):\n",
      "id         100000 non-null object\n",
      "f0         100000 non-null float64\n",
      "f1         100000 non-null float64\n",
      "f2         100000 non-null float64\n",
      "product    100000 non-null float64\n",
      "dtypes: float64(4), object(1)\n",
      "memory usage: 3.8+ MB\n"
     ]
    }
   ],
   "source": [
    "df1.info()"
   ]
  },
  {
   "cell_type": "code",
   "execution_count": 11,
   "metadata": {},
   "outputs": [
    {
     "data": {
      "text/html": [
       "<div>\n",
       "<style scoped>\n",
       "    .dataframe tbody tr th:only-of-type {\n",
       "        vertical-align: middle;\n",
       "    }\n",
       "\n",
       "    .dataframe tbody tr th {\n",
       "        vertical-align: top;\n",
       "    }\n",
       "\n",
       "    .dataframe thead th {\n",
       "        text-align: right;\n",
       "    }\n",
       "</style>\n",
       "<table border=\"1\" class=\"dataframe\">\n",
       "  <thead>\n",
       "    <tr style=\"text-align: right;\">\n",
       "      <th></th>\n",
       "      <th>f0</th>\n",
       "      <th>f1</th>\n",
       "      <th>f2</th>\n",
       "      <th>product</th>\n",
       "    </tr>\n",
       "  </thead>\n",
       "  <tbody>\n",
       "    <tr>\n",
       "      <td>count</td>\n",
       "      <td>100000.000000</td>\n",
       "      <td>100000.000000</td>\n",
       "      <td>100000.000000</td>\n",
       "      <td>100000.000000</td>\n",
       "    </tr>\n",
       "    <tr>\n",
       "      <td>mean</td>\n",
       "      <td>1.141296</td>\n",
       "      <td>-4.796579</td>\n",
       "      <td>2.494541</td>\n",
       "      <td>68.825000</td>\n",
       "    </tr>\n",
       "    <tr>\n",
       "      <td>std</td>\n",
       "      <td>8.965932</td>\n",
       "      <td>5.119872</td>\n",
       "      <td>1.703572</td>\n",
       "      <td>45.944423</td>\n",
       "    </tr>\n",
       "    <tr>\n",
       "      <td>min</td>\n",
       "      <td>-31.609576</td>\n",
       "      <td>-26.358598</td>\n",
       "      <td>-0.018144</td>\n",
       "      <td>0.000000</td>\n",
       "    </tr>\n",
       "    <tr>\n",
       "      <td>25%</td>\n",
       "      <td>-6.298551</td>\n",
       "      <td>-8.267985</td>\n",
       "      <td>1.000021</td>\n",
       "      <td>26.953261</td>\n",
       "    </tr>\n",
       "    <tr>\n",
       "      <td>50%</td>\n",
       "      <td>1.153055</td>\n",
       "      <td>-4.813172</td>\n",
       "      <td>2.011479</td>\n",
       "      <td>57.085625</td>\n",
       "    </tr>\n",
       "    <tr>\n",
       "      <td>75%</td>\n",
       "      <td>8.621015</td>\n",
       "      <td>-1.332816</td>\n",
       "      <td>3.999904</td>\n",
       "      <td>107.813044</td>\n",
       "    </tr>\n",
       "    <tr>\n",
       "      <td>max</td>\n",
       "      <td>29.421755</td>\n",
       "      <td>18.734063</td>\n",
       "      <td>5.019721</td>\n",
       "      <td>137.945408</td>\n",
       "    </tr>\n",
       "  </tbody>\n",
       "</table>\n",
       "</div>"
      ],
      "text/plain": [
       "                  f0             f1             f2        product\n",
       "count  100000.000000  100000.000000  100000.000000  100000.000000\n",
       "mean        1.141296      -4.796579       2.494541      68.825000\n",
       "std         8.965932       5.119872       1.703572      45.944423\n",
       "min       -31.609576     -26.358598      -0.018144       0.000000\n",
       "25%        -6.298551      -8.267985       1.000021      26.953261\n",
       "50%         1.153055      -4.813172       2.011479      57.085625\n",
       "75%         8.621015      -1.332816       3.999904     107.813044\n",
       "max        29.421755      18.734063       5.019721     137.945408"
      ]
     },
     "execution_count": 11,
     "metadata": {},
     "output_type": "execute_result"
    }
   ],
   "source": [
    "df1.describe()"
   ]
  },
  {
   "cell_type": "markdown",
   "metadata": {},
   "source": [
    "#### Третий датасет"
   ]
  },
  {
   "cell_type": "code",
   "execution_count": 12,
   "metadata": {},
   "outputs": [
    {
     "data": {
      "text/html": [
       "<div>\n",
       "<style scoped>\n",
       "    .dataframe tbody tr th:only-of-type {\n",
       "        vertical-align: middle;\n",
       "    }\n",
       "\n",
       "    .dataframe tbody tr th {\n",
       "        vertical-align: top;\n",
       "    }\n",
       "\n",
       "    .dataframe thead th {\n",
       "        text-align: right;\n",
       "    }\n",
       "</style>\n",
       "<table border=\"1\" class=\"dataframe\">\n",
       "  <thead>\n",
       "    <tr style=\"text-align: right;\">\n",
       "      <th></th>\n",
       "      <th>id</th>\n",
       "      <th>f0</th>\n",
       "      <th>f1</th>\n",
       "      <th>f2</th>\n",
       "      <th>product</th>\n",
       "    </tr>\n",
       "  </thead>\n",
       "  <tbody>\n",
       "    <tr>\n",
       "      <td>0</td>\n",
       "      <td>fwXo0</td>\n",
       "      <td>-1.146987</td>\n",
       "      <td>0.963328</td>\n",
       "      <td>-0.828965</td>\n",
       "      <td>27.758673</td>\n",
       "    </tr>\n",
       "    <tr>\n",
       "      <td>1</td>\n",
       "      <td>WJtFt</td>\n",
       "      <td>0.262778</td>\n",
       "      <td>0.269839</td>\n",
       "      <td>-2.530187</td>\n",
       "      <td>56.069697</td>\n",
       "    </tr>\n",
       "    <tr>\n",
       "      <td>2</td>\n",
       "      <td>ovLUW</td>\n",
       "      <td>0.194587</td>\n",
       "      <td>0.289035</td>\n",
       "      <td>-5.586433</td>\n",
       "      <td>62.871910</td>\n",
       "    </tr>\n",
       "    <tr>\n",
       "      <td>3</td>\n",
       "      <td>q6cA6</td>\n",
       "      <td>2.236060</td>\n",
       "      <td>-0.553760</td>\n",
       "      <td>0.930038</td>\n",
       "      <td>114.572842</td>\n",
       "    </tr>\n",
       "    <tr>\n",
       "      <td>4</td>\n",
       "      <td>WPMUX</td>\n",
       "      <td>-0.515993</td>\n",
       "      <td>1.716266</td>\n",
       "      <td>5.899011</td>\n",
       "      <td>149.600746</td>\n",
       "    </tr>\n",
       "  </tbody>\n",
       "</table>\n",
       "</div>"
      ],
      "text/plain": [
       "      id        f0        f1        f2     product\n",
       "0  fwXo0 -1.146987  0.963328 -0.828965   27.758673\n",
       "1  WJtFt  0.262778  0.269839 -2.530187   56.069697\n",
       "2  ovLUW  0.194587  0.289035 -5.586433   62.871910\n",
       "3  q6cA6  2.236060 -0.553760  0.930038  114.572842\n",
       "4  WPMUX -0.515993  1.716266  5.899011  149.600746"
      ]
     },
     "execution_count": 12,
     "metadata": {},
     "output_type": "execute_result"
    }
   ],
   "source": [
    "df2.head()"
   ]
  },
  {
   "cell_type": "code",
   "execution_count": 13,
   "metadata": {},
   "outputs": [
    {
     "name": "stdout",
     "output_type": "stream",
     "text": [
      "<class 'pandas.core.frame.DataFrame'>\n",
      "RangeIndex: 100000 entries, 0 to 99999\n",
      "Data columns (total 5 columns):\n",
      "id         100000 non-null object\n",
      "f0         100000 non-null float64\n",
      "f1         100000 non-null float64\n",
      "f2         100000 non-null float64\n",
      "product    100000 non-null float64\n",
      "dtypes: float64(4), object(1)\n",
      "memory usage: 3.8+ MB\n"
     ]
    }
   ],
   "source": [
    "df2.info()"
   ]
  },
  {
   "cell_type": "code",
   "execution_count": 14,
   "metadata": {},
   "outputs": [
    {
     "data": {
      "text/html": [
       "<div>\n",
       "<style scoped>\n",
       "    .dataframe tbody tr th:only-of-type {\n",
       "        vertical-align: middle;\n",
       "    }\n",
       "\n",
       "    .dataframe tbody tr th {\n",
       "        vertical-align: top;\n",
       "    }\n",
       "\n",
       "    .dataframe thead th {\n",
       "        text-align: right;\n",
       "    }\n",
       "</style>\n",
       "<table border=\"1\" class=\"dataframe\">\n",
       "  <thead>\n",
       "    <tr style=\"text-align: right;\">\n",
       "      <th></th>\n",
       "      <th>f0</th>\n",
       "      <th>f1</th>\n",
       "      <th>f2</th>\n",
       "      <th>product</th>\n",
       "    </tr>\n",
       "  </thead>\n",
       "  <tbody>\n",
       "    <tr>\n",
       "      <td>count</td>\n",
       "      <td>100000.000000</td>\n",
       "      <td>100000.000000</td>\n",
       "      <td>100000.000000</td>\n",
       "      <td>100000.000000</td>\n",
       "    </tr>\n",
       "    <tr>\n",
       "      <td>mean</td>\n",
       "      <td>0.002023</td>\n",
       "      <td>-0.002081</td>\n",
       "      <td>2.495128</td>\n",
       "      <td>95.000000</td>\n",
       "    </tr>\n",
       "    <tr>\n",
       "      <td>std</td>\n",
       "      <td>1.732045</td>\n",
       "      <td>1.730417</td>\n",
       "      <td>3.473445</td>\n",
       "      <td>44.749921</td>\n",
       "    </tr>\n",
       "    <tr>\n",
       "      <td>min</td>\n",
       "      <td>-8.760004</td>\n",
       "      <td>-7.084020</td>\n",
       "      <td>-11.970335</td>\n",
       "      <td>0.000000</td>\n",
       "    </tr>\n",
       "    <tr>\n",
       "      <td>25%</td>\n",
       "      <td>-1.162288</td>\n",
       "      <td>-1.174820</td>\n",
       "      <td>0.130359</td>\n",
       "      <td>59.450441</td>\n",
       "    </tr>\n",
       "    <tr>\n",
       "      <td>50%</td>\n",
       "      <td>0.009424</td>\n",
       "      <td>-0.009482</td>\n",
       "      <td>2.484236</td>\n",
       "      <td>94.925613</td>\n",
       "    </tr>\n",
       "    <tr>\n",
       "      <td>75%</td>\n",
       "      <td>1.158535</td>\n",
       "      <td>1.163678</td>\n",
       "      <td>4.858794</td>\n",
       "      <td>130.595027</td>\n",
       "    </tr>\n",
       "    <tr>\n",
       "      <td>max</td>\n",
       "      <td>7.238262</td>\n",
       "      <td>7.844801</td>\n",
       "      <td>16.739402</td>\n",
       "      <td>190.029838</td>\n",
       "    </tr>\n",
       "  </tbody>\n",
       "</table>\n",
       "</div>"
      ],
      "text/plain": [
       "                  f0             f1             f2        product\n",
       "count  100000.000000  100000.000000  100000.000000  100000.000000\n",
       "mean        0.002023      -0.002081       2.495128      95.000000\n",
       "std         1.732045       1.730417       3.473445      44.749921\n",
       "min        -8.760004      -7.084020     -11.970335       0.000000\n",
       "25%        -1.162288      -1.174820       0.130359      59.450441\n",
       "50%         0.009424      -0.009482       2.484236      94.925613\n",
       "75%         1.158535       1.163678       4.858794     130.595027\n",
       "max         7.238262       7.844801      16.739402     190.029838"
      ]
     },
     "execution_count": 14,
     "metadata": {},
     "output_type": "execute_result"
    }
   ],
   "source": [
    "df2.describe()"
   ]
  },
  {
   "cell_type": "markdown",
   "metadata": {},
   "source": [
    "**Вывод по блоку:**\n",
    "- Данные не имеют пропуском\n",
    "- Типы данных приведены к нужным типам\n",
    "- Имеется ненужный столбец id, который будет мешать обучению, предлагаю его удалить\n",
    "- Второй датасет имеет более широкую дисперсию по параметрам fo и f1, чем первый и третий датасеты, а также параметр f3 у второго датасета имеет меньшую дисперсию, чем параметры у первого и третьего датасета, возможно, стоит проверить признаки на мультиколлинеарность"
   ]
  },
  {
   "cell_type": "markdown",
   "metadata": {},
   "source": [
    "### Проверка на мультиколлинеарность"
   ]
  },
  {
   "cell_type": "code",
   "execution_count": 15,
   "metadata": {},
   "outputs": [
    {
     "data": {
      "text/html": [
       "<div>\n",
       "<style scoped>\n",
       "    .dataframe tbody tr th:only-of-type {\n",
       "        vertical-align: middle;\n",
       "    }\n",
       "\n",
       "    .dataframe tbody tr th {\n",
       "        vertical-align: top;\n",
       "    }\n",
       "\n",
       "    .dataframe thead th {\n",
       "        text-align: right;\n",
       "    }\n",
       "</style>\n",
       "<table border=\"1\" class=\"dataframe\">\n",
       "  <thead>\n",
       "    <tr style=\"text-align: right;\">\n",
       "      <th></th>\n",
       "      <th>f0</th>\n",
       "      <th>f1</th>\n",
       "      <th>f2</th>\n",
       "      <th>product</th>\n",
       "    </tr>\n",
       "  </thead>\n",
       "  <tbody>\n",
       "    <tr>\n",
       "      <td>f0</td>\n",
       "      <td>1.000000</td>\n",
       "      <td>-0.440723</td>\n",
       "      <td>-0.003153</td>\n",
       "      <td>0.143536</td>\n",
       "    </tr>\n",
       "    <tr>\n",
       "      <td>f1</td>\n",
       "      <td>-0.440723</td>\n",
       "      <td>1.000000</td>\n",
       "      <td>0.001724</td>\n",
       "      <td>-0.192356</td>\n",
       "    </tr>\n",
       "    <tr>\n",
       "      <td>f2</td>\n",
       "      <td>-0.003153</td>\n",
       "      <td>0.001724</td>\n",
       "      <td>1.000000</td>\n",
       "      <td>0.483663</td>\n",
       "    </tr>\n",
       "    <tr>\n",
       "      <td>product</td>\n",
       "      <td>0.143536</td>\n",
       "      <td>-0.192356</td>\n",
       "      <td>0.483663</td>\n",
       "      <td>1.000000</td>\n",
       "    </tr>\n",
       "  </tbody>\n",
       "</table>\n",
       "</div>"
      ],
      "text/plain": [
       "               f0        f1        f2   product\n",
       "f0       1.000000 -0.440723 -0.003153  0.143536\n",
       "f1      -0.440723  1.000000  0.001724 -0.192356\n",
       "f2      -0.003153  0.001724  1.000000  0.483663\n",
       "product  0.143536 -0.192356  0.483663  1.000000"
      ]
     },
     "execution_count": 15,
     "metadata": {},
     "output_type": "execute_result"
    }
   ],
   "source": [
    "df0.corr()"
   ]
  },
  {
   "cell_type": "markdown",
   "metadata": {},
   "source": [
    "- f1 и f0 имеет среднюю отрицательную корреляцию\n",
    "- f2 и целевой признак имеют среднюю положительную корреляцию"
   ]
  },
  {
   "cell_type": "code",
   "execution_count": 16,
   "metadata": {},
   "outputs": [
    {
     "data": {
      "text/html": [
       "<div>\n",
       "<style scoped>\n",
       "    .dataframe tbody tr th:only-of-type {\n",
       "        vertical-align: middle;\n",
       "    }\n",
       "\n",
       "    .dataframe tbody tr th {\n",
       "        vertical-align: top;\n",
       "    }\n",
       "\n",
       "    .dataframe thead th {\n",
       "        text-align: right;\n",
       "    }\n",
       "</style>\n",
       "<table border=\"1\" class=\"dataframe\">\n",
       "  <thead>\n",
       "    <tr style=\"text-align: right;\">\n",
       "      <th></th>\n",
       "      <th>f0</th>\n",
       "      <th>f1</th>\n",
       "      <th>f2</th>\n",
       "      <th>product</th>\n",
       "    </tr>\n",
       "  </thead>\n",
       "  <tbody>\n",
       "    <tr>\n",
       "      <td>f0</td>\n",
       "      <td>1.000000</td>\n",
       "      <td>0.182287</td>\n",
       "      <td>-0.001777</td>\n",
       "      <td>-0.030491</td>\n",
       "    </tr>\n",
       "    <tr>\n",
       "      <td>f1</td>\n",
       "      <td>0.182287</td>\n",
       "      <td>1.000000</td>\n",
       "      <td>-0.002595</td>\n",
       "      <td>-0.010155</td>\n",
       "    </tr>\n",
       "    <tr>\n",
       "      <td>f2</td>\n",
       "      <td>-0.001777</td>\n",
       "      <td>-0.002595</td>\n",
       "      <td>1.000000</td>\n",
       "      <td>0.999397</td>\n",
       "    </tr>\n",
       "    <tr>\n",
       "      <td>product</td>\n",
       "      <td>-0.030491</td>\n",
       "      <td>-0.010155</td>\n",
       "      <td>0.999397</td>\n",
       "      <td>1.000000</td>\n",
       "    </tr>\n",
       "  </tbody>\n",
       "</table>\n",
       "</div>"
      ],
      "text/plain": [
       "               f0        f1        f2   product\n",
       "f0       1.000000  0.182287 -0.001777 -0.030491\n",
       "f1       0.182287  1.000000 -0.002595 -0.010155\n",
       "f2      -0.001777 -0.002595  1.000000  0.999397\n",
       "product -0.030491 -0.010155  0.999397  1.000000"
      ]
     },
     "execution_count": 16,
     "metadata": {},
     "output_type": "execute_result"
    }
   ],
   "source": [
    "df1.corr()"
   ]
  },
  {
   "cell_type": "markdown",
   "metadata": {},
   "source": [
    "- f2 и product имеют сильную корреляцию"
   ]
  },
  {
   "cell_type": "code",
   "execution_count": 17,
   "metadata": {},
   "outputs": [
    {
     "data": {
      "text/html": [
       "<div>\n",
       "<style scoped>\n",
       "    .dataframe tbody tr th:only-of-type {\n",
       "        vertical-align: middle;\n",
       "    }\n",
       "\n",
       "    .dataframe tbody tr th {\n",
       "        vertical-align: top;\n",
       "    }\n",
       "\n",
       "    .dataframe thead th {\n",
       "        text-align: right;\n",
       "    }\n",
       "</style>\n",
       "<table border=\"1\" class=\"dataframe\">\n",
       "  <thead>\n",
       "    <tr style=\"text-align: right;\">\n",
       "      <th></th>\n",
       "      <th>f0</th>\n",
       "      <th>f1</th>\n",
       "      <th>f2</th>\n",
       "      <th>product</th>\n",
       "    </tr>\n",
       "  </thead>\n",
       "  <tbody>\n",
       "    <tr>\n",
       "      <td>f0</td>\n",
       "      <td>1.000000</td>\n",
       "      <td>0.000528</td>\n",
       "      <td>-0.000448</td>\n",
       "      <td>-0.001987</td>\n",
       "    </tr>\n",
       "    <tr>\n",
       "      <td>f1</td>\n",
       "      <td>0.000528</td>\n",
       "      <td>1.000000</td>\n",
       "      <td>0.000779</td>\n",
       "      <td>-0.001012</td>\n",
       "    </tr>\n",
       "    <tr>\n",
       "      <td>f2</td>\n",
       "      <td>-0.000448</td>\n",
       "      <td>0.000779</td>\n",
       "      <td>1.000000</td>\n",
       "      <td>0.445871</td>\n",
       "    </tr>\n",
       "    <tr>\n",
       "      <td>product</td>\n",
       "      <td>-0.001987</td>\n",
       "      <td>-0.001012</td>\n",
       "      <td>0.445871</td>\n",
       "      <td>1.000000</td>\n",
       "    </tr>\n",
       "  </tbody>\n",
       "</table>\n",
       "</div>"
      ],
      "text/plain": [
       "               f0        f1        f2   product\n",
       "f0       1.000000  0.000528 -0.000448 -0.001987\n",
       "f1       0.000528  1.000000  0.000779 -0.001012\n",
       "f2      -0.000448  0.000779  1.000000  0.445871\n",
       "product -0.001987 -0.001012  0.445871  1.000000"
      ]
     },
     "execution_count": 17,
     "metadata": {},
     "output_type": "execute_result"
    }
   ],
   "source": [
    "df2.corr()"
   ]
  },
  {
   "cell_type": "markdown",
   "metadata": {},
   "source": [
    "- f2 и целевой признак имеют среднюю положительную корреляцию"
   ]
  },
  {
   "cell_type": "markdown",
   "metadata": {},
   "source": [
    "###  Удаление столбцов"
   ]
  },
  {
   "cell_type": "code",
   "execution_count": 18,
   "metadata": {},
   "outputs": [],
   "source": [
    "df0 = df0.drop(['id'], axis=1)\n",
    "df1 = df1.drop(['id'], axis=1)\n",
    "df2 = df2.drop(['id'], axis=1)"
   ]
  },
  {
   "cell_type": "markdown",
   "metadata": {},
   "source": [
    "### Выбросы в данных"
   ]
  },
  {
   "cell_type": "markdown",
   "metadata": {},
   "source": [
    "Проверим распределение данных:"
   ]
  },
  {
   "cell_type": "code",
   "execution_count": 19,
   "metadata": {},
   "outputs": [],
   "source": [
    "def showkde(df):\n",
    "    for column in df.columns:\n",
    "        df[column].plot(kind='kde')\n",
    "        plt.title('График плотностей {}'.format(column))\n",
    "        plt.ylabel('Плотность')\n",
    "        plt.show()"
   ]
  },
  {
   "cell_type": "code",
   "execution_count": 20,
   "metadata": {
    "scrolled": true
   },
   "outputs": [
    {
     "data": {
      "image/png": "[encoded data removed]",
      "text/plain": [
       "<Figure size 432x288 with 1 Axes>"
      ]
     },
     "metadata": {
      "needs_background": "light"
     },
     "output_type": "display_data"
    },
    {
     "data": {
      "image/png": "[encoded data removed]",
      "text/plain": [
       "<Figure size 432x288 with 1 Axes>"
      ]
     },
     "metadata": {
      "needs_background": "light"
     },
     "output_type": "display_data"
    },
    {
     "data": {
      "image/png": "[encoded data removed]",
      "text/plain": [
       "<Figure size 432x288 with 1 Axes>"
      ]
     },
     "metadata": {
      "needs_background": "light"
     },
     "output_type": "display_data"
    },
    {
     "data": {
      "image/png": "[encoded data removed]",
      "text/plain": [
       "<Figure size 432x288 with 1 Axes>"
      ]
     },
     "metadata": {
      "needs_background": "light"
     },
     "output_type": "display_data"
    }
   ],
   "source": [
    "showkde(df0)"
   ]
  },
  {
   "cell_type": "code",
   "execution_count": 21,
   "metadata": {
    "scrolled": true
   },
   "outputs": [
    {
     "data": {
      "image/png": "[encoded data removed]",
      "text/plain": [
       "<Figure size 432x288 with 1 Axes>"
      ]
     },
     "metadata": {
      "needs_background": "light"
     },
     "output_type": "display_data"
    },
    {
     "data": {
      "image/png": "[encoded data removed]",
      "text/plain": [
       "<Figure size 432x288 with 1 Axes>"
      ]
     },
     "metadata": {
      "needs_background": "light"
     },
     "output_type": "display_data"
    },
    {
     "data": {
      "image/png": "[encoded data removed]",
      "text/plain": [
       "<Figure size 432x288 with 1 Axes>"
      ]
     },
     "metadata": {
      "needs_background": "light"
     },
     "output_type": "display_data"
    },
    {
     "data": {
      "image/png": "[encoded data removed]",
      "text/plain": [
       "<Figure size 432x288 with 1 Axes>"
      ]
     },
     "metadata": {
      "needs_background": "light"
     },
     "output_type": "display_data"
    }
   ],
   "source": [
    "showkde(df1)"
   ]
  },
  {
   "cell_type": "code",
   "execution_count": 22,
   "metadata": {
    "scrolled": true
   },
   "outputs": [
    {
     "data": {
      "image/png": "[encoded data removed]",
      "text/plain": [
       "<Figure size 432x288 with 1 Axes>"
      ]
     },
     "metadata": {
      "needs_background": "light"
     },
     "output_type": "display_data"
    },
    {
     "data": {
      "image/png": "[encoded data removed]",
      "text/plain": [
       "<Figure size 432x288 with 1 Axes>"
      ]
     },
     "metadata": {
      "needs_background": "light"
     },
     "output_type": "display_data"
    },
    {
     "data": {
      "image/png": "[encoded data removed]",
      "text/plain": [
       "<Figure size 432x288 with 1 Axes>"
      ]
     },
     "metadata": {
      "needs_background": "light"
     },
     "output_type": "display_data"
    },
    {
     "data": {
      "image/png": "[encoded data removed]",
      "text/plain": [
       "<Figure size 432x288 with 1 Axes>"
      ]
     },
     "metadata": {
      "needs_background": "light"
     },
     "output_type": "display_data"
    }
   ],
   "source": [
    "showkde(df2)"
   ]
  },
  {
   "cell_type": "markdown",
   "metadata": {},
   "source": [
    "Здесь мы столкнулись с полимодальным распределением, означающим что выборка не является однородной, и наблюдения порождены двумя или более наложенными распределениями. Из этого следует, что вероятнее всего данные собирались в разных частях региона."
   ]
  },
  {
   "cell_type": "markdown",
   "metadata": {},
   "source": [
    "Проверим, есть ли в данных выбросы, которые негативно могут повляить на обучение модели:"
   ]
  },
  {
   "cell_type": "code",
   "execution_count": 23,
   "metadata": {},
   "outputs": [],
   "source": [
    "def showboxplot(df):\n",
    "    for column in range(len(df.columns)):\n",
    "        df.boxplot(column=[df.columns[column]], figsize=(5,5))\n",
    "        plt.show()   "
   ]
  },
  {
   "cell_type": "code",
   "execution_count": 24,
   "metadata": {
    "scrolled": true
   },
   "outputs": [
    {
     "data": {
      "image/png": "[encoded data removed]",
      "text/plain": [
       "<Figure size 360x360 with 1 Axes>"
      ]
     },
     "metadata": {
      "needs_background": "light"
     },
     "output_type": "display_data"
    },
    {
     "data": {
      "image/png": "[encoded data removed]",
      "text/plain": [
       "<Figure size 360x360 with 1 Axes>"
      ]
     },
     "metadata": {
      "needs_background": "light"
     },
     "output_type": "display_data"
    },
    {
     "data": {
      "image/png": "[encoded data removed]",
      "text/plain": [
       "<Figure size 360x360 with 1 Axes>"
      ]
     },
     "metadata": {
      "needs_background": "light"
     },
     "output_type": "display_data"
    },
    {
     "data": {
      "image/png": "[encoded data removed]",
      "text/plain": [
       "<Figure size 360x360 with 1 Axes>"
      ]
     },
     "metadata": {
      "needs_background": "light"
     },
     "output_type": "display_data"
    }
   ],
   "source": [
    "showboxplot(df0)"
   ]
  },
  {
   "cell_type": "code",
   "execution_count": 25,
   "metadata": {
    "scrolled": true
   },
   "outputs": [
    {
     "data": {
      "image/png": "[encoded data removed]",
      "text/plain": [
       "<Figure size 360x360 with 1 Axes>"
      ]
     },
     "metadata": {
      "needs_background": "light"
     },
     "output_type": "display_data"
    },
    {
     "data": {
      "image/png": "[encoded data removed]",
      "text/plain": [
       "<Figure size 360x360 with 1 Axes>"
      ]
     },
     "metadata": {
      "needs_background": "light"
     },
     "output_type": "display_data"
    },
    {
     "data": {
      "image/png": "[encoded data removed]",
      "text/plain": [
       "<Figure size 360x360 with 1 Axes>"
      ]
     },
     "metadata": {
      "needs_background": "light"
     },
     "output_type": "display_data"
    },
    {
     "data": {
      "image/png": "[encoded data removed]",
      "text/plain": [
       "<Figure size 360x360 with 1 Axes>"
      ]
     },
     "metadata": {
      "needs_background": "light"
     },
     "output_type": "display_data"
    }
   ],
   "source": [
    "showboxplot(df1)"
   ]
  },
  {
   "cell_type": "code",
   "execution_count": 26,
   "metadata": {
    "scrolled": true
   },
   "outputs": [
    {
     "data": {
      "image/png": "[encoded data removed]",
      "text/plain": [
       "<Figure size 360x360 with 1 Axes>"
      ]
     },
     "metadata": {
      "needs_background": "light"
     },
     "output_type": "display_data"
    },
    {
     "data": {
      "image/png": "[encoded data removed]",
      "text/plain": [
       "<Figure size 360x360 with 1 Axes>"
      ]
     },
     "metadata": {
      "needs_background": "light"
     },
     "output_type": "display_data"
    },
    {
     "data": {
      "image/png": "[encoded data removed]",
      "text/plain": [
       "<Figure size 360x360 with 1 Axes>"
      ]
     },
     "metadata": {
      "needs_background": "light"
     },
     "output_type": "display_data"
    },
    {
     "data": {
      "image/png": "[encoded data removed]",
      "text/plain": [
       "<Figure size 360x360 with 1 Axes>"
      ]
     },
     "metadata": {
      "needs_background": "light"
     },
     "output_type": "display_data"
    }
   ],
   "source": [
    "showboxplot(df2)"
   ]
  },
  {
   "cell_type": "markdown",
   "metadata": {},
   "source": [
    "- В данных присутствуют выбросы, которые могут негативно повлиять на модель обучения, лучше от них избавиться"
   ]
  },
  {
   "cell_type": "markdown",
   "metadata": {},
   "source": [
    "### Предобработка данных"
   ]
  },
  {
   "cell_type": "markdown",
   "metadata": {},
   "source": [
    "#### Удаление выбросов из столбцов"
   ]
  },
  {
   "cell_type": "markdown",
   "metadata": {},
   "source": [
    "По итогу у нас остались выбросы в столбцах:\n",
    "- df0 - f2\n",
    "- df1 - f1\n",
    "- df2 - f0, f1, f2\n",
    "\n",
    "От самымх ананомальных из них следует избавиться:"
   ]
  },
  {
   "cell_type": "code",
   "execution_count": 27,
   "metadata": {},
   "outputs": [],
   "source": [
    "def delouts(df, column):\n",
    "    quant_25 = int(df[column].quantile(0.15))\n",
    "    quant_75 = int(df[column].quantile(0.90))\n",
    "    first_part=quant_25-1.5*(quant_75-quant_25)\n",
    "    second_part=quant_75+1.5*(quant_75-quant_25)\n",
    "    print('Осталось строк:', len(df[(df[column] >= first_part) & (df[column] <= second_part)]))\n",
    "    df_after_cleaning = df[(df[column] >= first_part) & (df[column] <= second_part)]\n",
    "    return df_after_cleaning.reset_index(drop=True) "
   ]
  },
  {
   "cell_type": "code",
   "execution_count": 28,
   "metadata": {},
   "outputs": [
    {
     "name": "stdout",
     "output_type": "stream",
     "text": [
      "Осталось строк: 99983\n",
      "Осталось строк: 99999\n",
      "Осталось строк: 99914\n",
      "Осталось строк: 99840\n",
      "Осталось строк: 99837\n"
     ]
    }
   ],
   "source": [
    "df0 = delouts(df0, 'f2')\n",
    "df1 = delouts(df1, 'f1')\n",
    "df2 = delouts(df2, 'f0')\n",
    "df2 = delouts(df2, 'f1')\n",
    "df2 = delouts(df2, 'f2')"
   ]
  },
  {
   "cell_type": "markdown",
   "metadata": {},
   "source": [
    "**Выводы:**\n",
    "- При проверке данных столкнулись полимодальным распределением, означающим что выборка не является однородной, и наблюдения порождены двумя или более наложенными распределениями. Из этого следует, что вероятнее всего данные собирались в разных частях региона.\n",
    "- В данных присутствуют выбросы, которые могут негативно повлиять на модель обучения, лучше от них избавиться"
   ]
  },
  {
   "cell_type": "markdown",
   "metadata": {},
   "source": [
    "## Обучение и проверка модели"
   ]
  },
  {
   "cell_type": "markdown",
   "metadata": {},
   "source": [
    "### Подготовка признаков"
   ]
  },
  {
   "cell_type": "markdown",
   "metadata": {},
   "source": [
    "Выделим целевой признак и обучающие, а также удалим признак f2 из первого датафрейма:"
   ]
  },
  {
   "cell_type": "code",
   "execution_count": 29,
   "metadata": {},
   "outputs": [],
   "source": [
    "df0_target = df0['product']\n",
    "df0_features = df0.drop(['product'], axis=1)\n",
    "\n",
    "df1_target = df1['product']\n",
    "df1_features = df1.drop(['product'], axis=1)\n",
    "\n",
    "df2_target = df2['product']\n",
    "df2_features = df2.drop(['product'], axis=1)"
   ]
  },
  {
   "cell_type": "markdown",
   "metadata": {},
   "source": [
    "Для начала стоит разделить данные на обучающую и валидационную выборку:"
   ]
  },
  {
   "cell_type": "code",
   "execution_count": 30,
   "metadata": {},
   "outputs": [],
   "source": [
    "df0_features_train, df0_features_valid, df0_target_train, df0_target_valid = train_test_split(df0_features, df0_target, test_size=0.25, random_state=12345)"
   ]
  },
  {
   "cell_type": "code",
   "execution_count": 31,
   "metadata": {},
   "outputs": [
    {
     "data": {
      "text/plain": [
       "(74987, 3)"
      ]
     },
     "execution_count": 31,
     "metadata": {},
     "output_type": "execute_result"
    }
   ],
   "source": [
    "df0_features_train.shape"
   ]
  },
  {
   "cell_type": "code",
   "execution_count": 32,
   "metadata": {},
   "outputs": [
    {
     "data": {
      "text/plain": [
       "(24996, 3)"
      ]
     },
     "execution_count": 32,
     "metadata": {},
     "output_type": "execute_result"
    }
   ],
   "source": [
    "df0_features_valid.shape"
   ]
  },
  {
   "cell_type": "code",
   "execution_count": 33,
   "metadata": {},
   "outputs": [
    {
     "data": {
      "text/plain": [
       "(74987,)"
      ]
     },
     "execution_count": 33,
     "metadata": {},
     "output_type": "execute_result"
    }
   ],
   "source": [
    "df0_target_train.shape"
   ]
  },
  {
   "cell_type": "code",
   "execution_count": 34,
   "metadata": {},
   "outputs": [
    {
     "data": {
      "text/plain": [
       "(24996,)"
      ]
     },
     "execution_count": 34,
     "metadata": {},
     "output_type": "execute_result"
    }
   ],
   "source": [
    "df0_target_valid.shape"
   ]
  },
  {
   "cell_type": "code",
   "execution_count": 35,
   "metadata": {},
   "outputs": [],
   "source": [
    "df1_features_train, df1_features_valid, df1_target_train, df1_target_valid = train_test_split(df1_features, df1_target, test_size=0.25, random_state=12345) "
   ]
  },
  {
   "cell_type": "code",
   "execution_count": 36,
   "metadata": {},
   "outputs": [
    {
     "data": {
      "text/plain": [
       "(74999, 3)"
      ]
     },
     "execution_count": 36,
     "metadata": {},
     "output_type": "execute_result"
    }
   ],
   "source": [
    "df1_features_train.shape"
   ]
  },
  {
   "cell_type": "code",
   "execution_count": 37,
   "metadata": {},
   "outputs": [
    {
     "data": {
      "text/plain": [
       "(25000, 3)"
      ]
     },
     "execution_count": 37,
     "metadata": {},
     "output_type": "execute_result"
    }
   ],
   "source": [
    "df1_features_valid.shape"
   ]
  },
  {
   "cell_type": "code",
   "execution_count": 38,
   "metadata": {},
   "outputs": [],
   "source": [
    "df2_features_train, df2_features_valid, df2_target_train, df2_target_valid = train_test_split(df2_features, df2_target, test_size=0.25, random_state=12345)"
   ]
  },
  {
   "cell_type": "code",
   "execution_count": 39,
   "metadata": {},
   "outputs": [
    {
     "data": {
      "text/plain": [
       "(74877, 3)"
      ]
     },
     "execution_count": 39,
     "metadata": {},
     "output_type": "execute_result"
    }
   ],
   "source": [
    "df2_features_train.shape"
   ]
  },
  {
   "cell_type": "code",
   "execution_count": 40,
   "metadata": {},
   "outputs": [
    {
     "data": {
      "text/plain": [
       "(24960, 3)"
      ]
     },
     "execution_count": 40,
     "metadata": {},
     "output_type": "execute_result"
    }
   ],
   "source": [
    "df2_features_valid.shape"
   ]
  },
  {
   "cell_type": "markdown",
   "metadata": {},
   "source": [
    "- Масштабируем признаки:"
   ]
  },
  {
   "cell_type": "code",
   "execution_count": 41,
   "metadata": {},
   "outputs": [],
   "source": [
    "df0_scaler = StandardScaler()\n",
    "df0_scaler.fit(df0_features_train)\n",
    "df0_features_train = df0_scaler.transform(df0_features_train)\n",
    "df0_features_valid = df0_scaler.transform(df0_features_valid)"
   ]
  },
  {
   "cell_type": "code",
   "execution_count": 42,
   "metadata": {},
   "outputs": [],
   "source": [
    "df1_scaler = StandardScaler()\n",
    "df1_scaler.fit(df1_features_train)\n",
    "df1_features_train = df1_scaler.transform(df1_features_train)\n",
    "df1_features_valid = df1_scaler.transform(df1_features_valid)"
   ]
  },
  {
   "cell_type": "code",
   "execution_count": 43,
   "metadata": {},
   "outputs": [],
   "source": [
    "df2_scaler = StandardScaler()\n",
    "df2_scaler.fit(df2_features_train)\n",
    "df2_features_train = df2_scaler.transform(df2_features_train)\n",
    "df2_features_valid = df2_scaler.transform(df2_features_valid)"
   ]
  },
  {
   "cell_type": "markdown",
   "metadata": {},
   "source": [
    "### Обучение модели"
   ]
  },
  {
   "cell_type": "markdown",
   "metadata": {},
   "source": [
    "#### Модель на основе первого региона"
   ]
  },
  {
   "cell_type": "code",
   "execution_count": 44,
   "metadata": {
    "scrolled": false
   },
   "outputs": [
    {
     "name": "stdout",
     "output_type": "stream",
     "text": [
      "Значение RMSE = 37.845731647168655\n"
     ]
    }
   ],
   "source": [
    "df0_model = LinearRegression()\n",
    "df0_model.fit(df0_features_train, df0_target_train)\n",
    "df0_predictions_valid = df0_model.predict(df0_features_valid)\n",
    "df0_result = (mean_squared_error(df0_target_valid, df0_predictions_valid)) ** 0.5\n",
    "print('Значение RMSE =', df0_result)"
   ]
  },
  {
   "cell_type": "markdown",
   "metadata": {},
   "source": [
    "Проверим модель на вменяемость и узнаем какой показатель RMSE даст RMSE, если взять в качестве предсказания среднее значение:"
   ]
  },
  {
   "cell_type": "code",
   "execution_count": 45,
   "metadata": {},
   "outputs": [
    {
     "name": "stdout",
     "output_type": "stream",
     "text": [
      "Значение RMSE при средних значениях предсказания = 44.684381558278815\n"
     ]
    }
   ],
   "source": [
    "print('Значение RMSE при средних значениях предсказания =', (mean_squared_error(df0_target_valid, (pd.Series(df0_target_valid.mean(), index = df0_target_valid.index)))) ** 0.5)"
   ]
  },
  {
   "cell_type": "code",
   "execution_count": 46,
   "metadata": {},
   "outputs": [
    {
     "name": "stdout",
     "output_type": "stream",
     "text": [
      "Средний запас предсказанного сырья = 92.50386001093658\n"
     ]
    }
   ],
   "source": [
    "print('Средний запас предсказанного сырья =', df0['product'].mean())"
   ]
  },
  {
   "cell_type": "markdown",
   "metadata": {},
   "source": [
    "**Вывод:**\n",
    "- Модель показала значение RMSE меньшее, чем средние значения предсказания"
   ]
  },
  {
   "cell_type": "markdown",
   "metadata": {},
   "source": [
    "#### Модель на основе второго региона"
   ]
  },
  {
   "cell_type": "code",
   "execution_count": 47,
   "metadata": {},
   "outputs": [
    {
     "name": "stdout",
     "output_type": "stream",
     "text": [
      "Значение RMSE = 0.8905337261310419\n"
     ]
    }
   ],
   "source": [
    "df1_model = LinearRegression()\n",
    "df1_model.fit(df1_features_train, df1_target_train)\n",
    "df1_predictions_valid = df1_model.predict(df1_features_valid)\n",
    "df1_result = (mean_squared_error(df1_target_valid, df1_predictions_valid)) ** 0.5\n",
    "print('Значение RMSE =', df1_result)"
   ]
  },
  {
   "cell_type": "markdown",
   "metadata": {},
   "source": [
    "Проверим модель на вменяемость:"
   ]
  },
  {
   "cell_type": "code",
   "execution_count": 48,
   "metadata": {},
   "outputs": [
    {
     "name": "stdout",
     "output_type": "stream",
     "text": [
      "Значение RMSE при средних значениях предсказания = 45.97428865057223\n"
     ]
    }
   ],
   "source": [
    "print('Значение RMSE при средних значениях предсказания =', (mean_squared_error(df1_target_valid, pd.Series(df1_target_valid.mean(), index = df1_target_valid)) ** 0.5))"
   ]
  },
  {
   "cell_type": "code",
   "execution_count": 49,
   "metadata": {},
   "outputs": [
    {
     "name": "stdout",
     "output_type": "stream",
     "text": [
      "Средний запас предсказанного сырья = 68.82541872157692\n"
     ]
    }
   ],
   "source": [
    "print('Средний запас предсказанного сырья =', df1['product'].mean())"
   ]
  },
  {
   "cell_type": "markdown",
   "metadata": {},
   "source": [
    "**Вывод:**\n",
    "- Модель показала результат лучший, чем при средних значениях, однако, совсем ненамного"
   ]
  },
  {
   "cell_type": "markdown",
   "metadata": {},
   "source": [
    "#### Модель на основе третьего региона"
   ]
  },
  {
   "cell_type": "code",
   "execution_count": 50,
   "metadata": {},
   "outputs": [
    {
     "name": "stdout",
     "output_type": "stream",
     "text": [
      "Значение RMSE = 39.81184582947897\n"
     ]
    }
   ],
   "source": [
    "df2_model = LinearRegression()\n",
    "df2_model.fit(df2_features_train, df2_target_train)\n",
    "df2_predictions_valid = df2_model.predict(df2_features_valid)\n",
    "df2_result = (mean_squared_error(df2_target_valid, df2_predictions_valid)) ** 0.5\n",
    "print('Значение RMSE =', df2_result)"
   ]
  },
  {
   "cell_type": "code",
   "execution_count": 51,
   "metadata": {},
   "outputs": [
    {
     "name": "stdout",
     "output_type": "stream",
     "text": [
      "Значение RMSE при средних значениях предсказания = 44.576320224300034\n"
     ]
    }
   ],
   "source": [
    "print('Значение RMSE при средних значениях предсказания =', (mean_squared_error(df2_target_valid, pd.Series(df2_target_valid.mean(), index = df2_target_valid)) ** 0.5))"
   ]
  },
  {
   "cell_type": "code",
   "execution_count": 52,
   "metadata": {},
   "outputs": [
    {
     "name": "stdout",
     "output_type": "stream",
     "text": [
      "Средний запас предсказанного сырья = 94.97868247807745\n"
     ]
    }
   ],
   "source": [
    "print('Средний запас предсказанного сырья =', df2['product'].mean())"
   ]
  },
  {
   "cell_type": "markdown",
   "metadata": {},
   "source": [
    "- Модель показала результат RMSE более низкий, чем у первой модели, но лучший, чем на при средних значениях"
   ]
  },
  {
   "cell_type": "markdown",
   "metadata": {},
   "source": [
    "#### Вывод по блоку:"
   ]
  },
  {
   "cell_type": "markdown",
   "metadata": {},
   "source": [
    "- Первый регион имеет среднюю ошибку, но второй по среднему запасу продукта\n",
    "- Второй регион имеет самую маленькую (с большим отрывом), но находится на третьем месте по среднему запасу продукта\n",
    "- Третий регион находится на втором месте по ошибке и на первом месте по среднему запасу продукта"
   ]
  },
  {
   "cell_type": "markdown",
   "metadata": {},
   "source": [
    "## Подготовка к расчёту прибыли"
   ]
  },
  {
   "cell_type": "markdown",
   "metadata": {},
   "source": [
    "### Необходимые для рассчета данные"
   ]
  },
  {
   "cell_type": "markdown",
   "metadata": {},
   "source": [
    "Цена за единцу сырья"
   ]
  },
  {
   "cell_type": "code",
   "execution_count": 53,
   "metadata": {},
   "outputs": [],
   "source": [
    "price_per_barrel = 450000"
   ]
  },
  {
   "cell_type": "markdown",
   "metadata": {},
   "source": [
    "Бюджет для разработки на регион"
   ]
  },
  {
   "cell_type": "code",
   "execution_count": 54,
   "metadata": {},
   "outputs": [],
   "source": [
    "budget_for_region = 10000000000"
   ]
  },
  {
   "cell_type": "markdown",
   "metadata": {},
   "source": [
    "Сколько точек исследуют в регионе"
   ]
  },
  {
   "cell_type": "code",
   "execution_count": 55,
   "metadata": {},
   "outputs": [],
   "source": [
    "max_well_count = 500"
   ]
  },
  {
   "cell_type": "markdown",
   "metadata": {},
   "source": [
    "Сколько точек отбирают после машинного обучения"
   ]
  },
  {
   "cell_type": "code",
   "execution_count": 56,
   "metadata": {},
   "outputs": [],
   "source": [
    "min_well_count = 200"
   ]
  },
  {
   "cell_type": "markdown",
   "metadata": {},
   "source": [
    "Максимальная вероятность убытков"
   ]
  },
  {
   "cell_type": "code",
   "execution_count": 57,
   "metadata": {},
   "outputs": [],
   "source": [
    "max_lesion = 0.025"
   ]
  },
  {
   "cell_type": "markdown",
   "metadata": {},
   "source": [
    "Сколько сырья нужно для безубыточной разработки новой скважины:"
   ]
  },
  {
   "cell_type": "code",
   "execution_count": 58,
   "metadata": {},
   "outputs": [
    {
     "name": "stdout",
     "output_type": "stream",
     "text": [
      "Объем сырья достаточный для безубыточной разработки скважины равен 111.1\n"
     ]
    }
   ],
   "source": [
    "undamaged_point = budget_for_region / (price_per_barrel * min_well_count)\n",
    "print('Объем сырья достаточный для безубыточной разработки скважины равен', round(undamaged_point, 1))"
   ]
  },
  {
   "cell_type": "markdown",
   "metadata": {},
   "source": [
    "### Распределение значений по регионам"
   ]
  },
  {
   "cell_type": "code",
   "execution_count": 59,
   "metadata": {},
   "outputs": [
    {
     "name": "stdout",
     "output_type": "stream",
     "text": [
      "Средний запас сырья в регионе: 92.50386001093658\n"
     ]
    }
   ],
   "source": [
    "print('Средний запас сырья в регионе:', df0['product'].mean())"
   ]
  },
  {
   "cell_type": "code",
   "execution_count": 60,
   "metadata": {},
   "outputs": [
    {
     "name": "stdout",
     "output_type": "stream",
     "text": [
      "Средний запас сырья в регионе: 68.82541872157692\n"
     ]
    }
   ],
   "source": [
    "print('Средний запас сырья в регионе:', df1['product'].mean())"
   ]
  },
  {
   "cell_type": "code",
   "execution_count": 61,
   "metadata": {},
   "outputs": [
    {
     "name": "stdout",
     "output_type": "stream",
     "text": [
      "Средний запас сырья в регионе: 94.97868247807745\n"
     ]
    }
   ],
   "source": [
    "print('Средний запас сырья в регионе:', df2['product'].mean())"
   ]
  },
  {
   "cell_type": "markdown",
   "metadata": {},
   "source": [
    "- Средний запас значения в каждом регионе меньше объема сырья, достаточного для безубыточной разработки скважин"
   ]
  },
  {
   "cell_type": "markdown",
   "metadata": {},
   "source": [
    "Предлагаю проверить сколько скважин в каждом регионе содержат достаточный объем сырья:"
   ]
  },
  {
   "cell_type": "code",
   "execution_count": 62,
   "metadata": {},
   "outputs": [
    {
     "name": "stdout",
     "output_type": "stream",
     "text": [
      "Процент скважин в нулевом регионе, содержащих нужный объем сырья: 36.59 %\n"
     ]
    }
   ],
   "source": [
    "print('Процент скважин в нулевом регионе, содержащих нужный объем сырья:', (round((len(df0[df0['product'] > undamaged_point])) / len(df0), 4)) * 100, '%')"
   ]
  },
  {
   "cell_type": "code",
   "execution_count": 63,
   "metadata": {},
   "outputs": [
    {
     "name": "stdout",
     "output_type": "stream",
     "text": [
      "Процент скважин в первом регионе, содержащих нужный объем сырья: 16.54 %\n"
     ]
    }
   ],
   "source": [
    "print('Процент скважин в первом регионе, содержащих нужный объем сырья:', (round((len(df1[df1['product'] > undamaged_point])) / len(df1), 4)) * 100, '%')"
   ]
  },
  {
   "cell_type": "code",
   "execution_count": 64,
   "metadata": {},
   "outputs": [
    {
     "name": "stdout",
     "output_type": "stream",
     "text": [
      "Процент скважин во втором регионе, содержащих нужный объем сырья: 38.16 %\n"
     ]
    }
   ],
   "source": [
    "print('Процент скважин во втором регионе, содержащих нужный объем сырья:', (round((len(df2[df2['product'] > undamaged_point])) / len(df2), 4)) * 100, '%')"
   ]
  },
  {
   "cell_type": "markdown",
   "metadata": {},
   "source": [
    "**Вывод:**\n",
    "- Объем сырья достаточный для безубыточной разработки скважины равен 111.1\n",
    "- Средний запас значения в каждом регионе меньше объема сырья, достаточного для безубыточной разработки скважин\n",
    "- Процент скважин в нулевом регионе, содержащих нужный объем сырья: 36.59 %\n",
    "- Процент скважин в первом регионе, содержащих нужный объем сырья: 16.54 %\n",
    "- Процент скважин во втором регионе, содержащих нужный объем сырья: 38.16 %"
   ]
  },
  {
   "cell_type": "markdown",
   "metadata": {},
   "source": [
    "## Расчёт прибыли"
   ]
  },
  {
   "cell_type": "markdown",
   "metadata": {},
   "source": [
    "Построим функцию для расчета прибыли по выбранным скважинам и предсказаниям модели:"
   ]
  },
  {
   "cell_type": "code",
   "execution_count": 65,
   "metadata": {},
   "outputs": [],
   "source": [
    "def income_from_pred(true_target, pred_target):\n",
    "    most_valuable_wells = pd.Series(pred_target).sort_values(axis=0, ascending=False)[:(min_well_count)]\n",
    "    true_values = true_target.reset_index(drop=True)[most_valuable_wells.index]\n",
    "    true_values_sum = true_values.sum()\n",
    "    return (true_values_sum * price_per_barrel) - budget_for_region"
   ]
  },
  {
   "cell_type": "code",
   "execution_count": 66,
   "metadata": {},
   "outputs": [
    {
     "name": "stdout",
     "output_type": "stream",
     "text": [
      "Прибыль, полученная с 200 скважин в нулевом регионе: 3353499587.14\n"
     ]
    }
   ],
   "source": [
    "print('Прибыль, полученная с 200 скважин в нулевом регионе:', round(income_from_pred(df0_target_valid, df0_predictions_valid),2))"
   ]
  },
  {
   "cell_type": "code",
   "execution_count": 67,
   "metadata": {},
   "outputs": [
    {
     "name": "stdout",
     "output_type": "stream",
     "text": [
      "Прибыль, полученная с 200 скважин в первом регионе: 2415086696.68\n"
     ]
    }
   ],
   "source": [
    "print('Прибыль, полученная с 200 скважин в первом регионе:', round(income_from_pred(df1_target_valid, df1_predictions_valid),2))"
   ]
  },
  {
   "cell_type": "code",
   "execution_count": 68,
   "metadata": {
    "scrolled": true
   },
   "outputs": [
    {
     "name": "stdout",
     "output_type": "stream",
     "text": [
      "Прибыль, полученная с 200 скважин во втором регионе: 2559279185.69\n"
     ]
    }
   ],
   "source": [
    "print('Прибыль, полученная с 200 скважин во втором регионе:', round(income_from_pred(df2_target_valid, df2_predictions_valid),2))"
   ]
  },
  {
   "cell_type": "markdown",
   "metadata": {},
   "source": [
    "**Выводы:**\n",
    "- Прибыль, полученная с 200 скважин в нулевом регионе: 3353499587.14\n",
    "- Прибыль, полученная с 200 скважин в первом регионе: 2415086696.68\n",
    "- Прибыль, полученная с 200 скважин во втором регионе: 2559279185.69"
   ]
  },
  {
   "cell_type": "markdown",
   "metadata": {},
   "source": [
    "## Подсчет рисков с каждого региона"
   ]
  },
  {
   "cell_type": "code",
   "execution_count": 69,
   "metadata": {},
   "outputs": [],
   "source": [
    "def confidence_interval(true_target, pred_target):\n",
    "    state=np.random.RandomState(12345)\n",
    "    values = []\n",
    "    for i in range(1000):\n",
    "        most_valuable_wells_boost_trap = pd.Series(pred_target).sample(n=max_well_count, replace=True, random_state=state)\n",
    "       #true_target = true_target.reset_index(drop=True)[most_valuable_wells.index]\n",
    "        income = income_from_pred(true_target, most_valuable_wells_boost_trap)\n",
    "        values.append(income)\n",
    "\n",
    "    values = pd.Series(values)\n",
    "    lower = round(values.quantile(0.025),2)\n",
    "    upper = round(values.quantile(0.975),2)\n",
    "    mean = round(values.mean(),2)\n",
    "    risk_of_loss = (len(list(filter(lambda x: x < 0, values))) / len(values))\n",
    "    print(\"- Средняя выручка:\", mean)\n",
    "    print(\"- 95%-процентный интервал находится в промежутке от {} и до {}\".format(lower, upper))\n",
    "    print('- Риск убытков: {:.1%}'.format(risk_of_loss))"
   ]
  },
  {
   "cell_type": "code",
   "execution_count": 70,
   "metadata": {},
   "outputs": [
    {
     "name": "stdout",
     "output_type": "stream",
     "text": [
      "Нулевой регион:\n",
      "- Средняя выручка: 479471938.57\n",
      "- 95%-процентный интервал находится в промежутке от -35352430.83 и до 987740898.07\n",
      "- Риск убытков: 3.7%\n"
     ]
    }
   ],
   "source": [
    "print('Нулевой регион:')\n",
    "confidence_interval(df0_target_valid, df0_predictions_valid)"
   ]
  },
  {
   "cell_type": "code",
   "execution_count": 71,
   "metadata": {
    "scrolled": true
   },
   "outputs": [
    {
     "name": "stdout",
     "output_type": "stream",
     "text": [
      "Первый регион:\n",
      "- Средняя выручка: 430551508.97\n",
      "- 95%-процентный интервал находится в промежутке от 8841056.41 и до 831816378.78\n",
      "- Риск убытков: 2.2%\n"
     ]
    }
   ],
   "source": [
    "print('Первый регион:')\n",
    "confidence_interval(df1_target_valid, df1_predictions_valid)"
   ]
  },
  {
   "cell_type": "code",
   "execution_count": 72,
   "metadata": {},
   "outputs": [
    {
     "name": "stdout",
     "output_type": "stream",
     "text": [
      "Второй регион\n",
      "- Средняя выручка: 386839419.47\n",
      "- 95%-процентный интервал находится в промежутке от -138308232.34 и до 877985387.01\n",
      "- Риск убытков: 7.1%\n"
     ]
    }
   ],
   "source": [
    "print('Второй регион')\n",
    "confidence_interval(df2_target_valid, df2_predictions_valid)"
   ]
  },
  {
   "cell_type": "code",
   "execution_count": 73,
   "metadata": {},
   "outputs": [
    {
     "name": "stdout",
     "output_type": "stream",
     "text": [
      "37.51785675046245\n"
     ]
    }
   ],
   "source": [
    "regr = svm.SVR()\n",
    "regr.fit(df0_features_train, df0_target_train)\n",
    "svm_df0_predictions_valid = regr.predict(df0_features_valid)\n",
    "score = (mean_squared_error(df0_target_valid, svm_df0_predictions_valid)) ** 0.5\n",
    "print(score)"
   ]
  },
  {
   "cell_type": "markdown",
   "metadata": {},
   "source": [
    "**Вывод:**\n",
    "- В соответствии с условием \"Вероятность убытков должна быть меньше 2.5%\" остается только первый регион."
   ]
  },
  {
   "cell_type": "code",
   "execution_count": 74,
   "metadata": {},
   "outputs": [],
   "source": [
    "def profit_calc(target, predictions):\n",
    "    predictions_sorted = predictions.sort_values(ascending=False)\n",
    "    selected_points = target[predictions_sorted.index][:min_well_count]\n",
    "    product = selected_points.sum()\n",
    "    revenue = product * price_per_barrel\n",
    "    return revenue - budget_for_region"
   ]
  },
  {
   "cell_type": "code",
   "execution_count": 75,
   "metadata": {},
   "outputs": [],
   "source": [
    "SAMPLE_SIZE = 500\n",
    "BOOTSTRAP_SIZE = 1000\n",
    "state=np.random.RandomState(12345)\n",
    "def confidence_interval(target, predict):\n",
    "    profit_values = []\n",
    "    for i in range(BOOTSTRAP_SIZE):\n",
    "        target_sample = target.sample(SAMPLE_SIZE, replace=True, random_state=state)\n",
    "        predictions_sample = predict[target_sample.index]\n",
    "        profit_values.append(profit_calc(target_sample, predictions_sample))\n",
    "    profit_values = pd.Series(profit_values)\n",
    "        \n",
    "    mean_profit = profit_values.mean()\n",
    "    confidence_interval = (profit_values.quantile(0.025), profit_values.quantile(0.975))\n",
    "    risk = ((profit_values < 0).mean())\n",
    "    \n",
    "    print(\"Средняя прибыль =\", mean_profit)\n",
    "    print(\"95%-ый доверительный интервал:\", confidence_interval)\n",
    "    print(\"Риск убытков =\", risk * 100, \"%\")\n",
    "    print()"
   ]
  },
  {
   "cell_type": "code",
   "execution_count": 76,
   "metadata": {},
   "outputs": [
    {
     "name": "stdout",
     "output_type": "stream",
     "text": [
      "Средняя прибыль = 509408459.96840864\n",
      "95%-ый доверительный интервал: (-32542910.286136717, 1027428554.6437469)\n",
      "Риск убытков = 3.5000000000000004 %\n",
      "\n"
     ]
    }
   ],
   "source": [
    "target=pd.Series(df0_target_valid.reset_index(drop=True))\n",
    "predict=pd.Series(df0_predictions_valid)\n",
    "\n",
    "confidence_interval(target, predict)"
   ]
  },
  {
   "cell_type": "code",
   "execution_count": 77,
   "metadata": {},
   "outputs": [
    {
     "name": "stdout",
     "output_type": "stream",
     "text": [
      "Средняя прибыль = 492190175.2279534\n",
      "95%-ый доверительный интервал: (63878578.768583015, 905097112.2101353)\n",
      "Риск убытков = 1.0999999999999999 %\n",
      "\n"
     ]
    }
   ],
   "source": [
    "target=pd.Series(df1_target_valid.reset_index(drop=True))\n",
    "predict=pd.Series(df1_predictions_valid)\n",
    "\n",
    "confidence_interval(target, predict)"
   ]
  },
  {
   "cell_type": "code",
   "execution_count": 78,
   "metadata": {},
   "outputs": [
    {
     "name": "stdout",
     "output_type": "stream",
     "text": [
      "Средняя прибыль = 388348817.3962251\n",
      "95%-ый доверительный интервал: (-178765973.57556883, 945288358.7005765)\n",
      "Риск убытков = 9.0 %\n",
      "\n"
     ]
    }
   ],
   "source": [
    "target=pd.Series(df2_target_valid.reset_index(drop=True))\n",
    "predict=pd.Series(df2_predictions_valid)\n",
    "\n",
    "confidence_interval(target, predict)"
   ]
  },
  {
   "cell_type": "markdown",
   "metadata": {},
   "source": [
    "## Общий вывод по проекту:"
   ]
  },
  {
   "cell_type": "markdown",
   "metadata": {},
   "source": [
    "**Этап ознакомления с датасетами:**\n",
    "- Данные не имеют пропуском\n",
    "- Типы данных приведены к нужным типам\n",
    "- Имеется ненужный столбец id, который будет мешать обучению, предлагаю его удалить\n",
    "- Второй датасет имеет более широкую дисперсию по параметрам fo и f1, чем первый и третий датасеты, а также параметр f3 у второго датасета имеет меньшую дисперсию, чем параметры у первого и третьего датасета, возможно, стоит проверить признаки на мультиколлинеарность\n",
    "\n",
    "**Этап предобработки данных:**\n",
    "- При проверке данных столкнулись полимодальным распределением, означающим что выборка не является однородной, и наблюдения порождены двумя или более наложенными распределениями. Из этого следует, что вероятнее всего данные собирались в разных частях региона.\n",
    "- В данных присутствуют выбросы, которые могут негативно повлиять на модель обучения, лучше от них избавиться\n",
    "\n",
    "**Этап обучения модели:**\n",
    "- Первый регион имеет среднюю ошибку, но второй по среднему запасу продукта\n",
    "- Второй регион имеет самую маленькую (с большим отрывом), но находится на третьем месте по среднему запасу продукта\n",
    "- Третий регион находится на втором месте по ошибке и на первом месте по среднему запасу продукта\n",
    "\n",
    "**Этап подготовки и рассчета прибыли:**\n",
    "- Объем сырья достаточный для безубыточной разработки скважины равен 111.1\n",
    "- Средний запас значения в каждом регионе меньше объема сырья, достаточного для безубыточной разработки скважин\n",
    "- роцент скважин в нулевом регионе, содержащих нужный объем сырья: 36.59 %\n",
    "- Процент скважин в первом регионе, содержащих нужный объем сырья: 16.54 %\n",
    "- Процент скважин во втором регионе, содержащих нужный объем сырья: 38.16 %\n",
    "\n",
    "**Этап подсчета прибыли:**\n",
    "- Прибыль, полученная с 200 скважин в нулевом регионе: 3353499587.14\n",
    "- Прибыль, полученная с 200 скважин в первом регионе: 2415086696.68\n",
    "- Прибыль, полученная с 200 скважин во втором регионе: 2559279185.69\n",
    "\n",
    "**Этап рассчета рисков:**\n",
    "- В соответствии с условием \"Вероятность убытков должна быть меньше 2.5%\" остается только первый регион."
   ]
  }
 ],
 "metadata": {
  "ExecuteTimeLog": [
   {
    "duration": 132,
    "start_time": "2021-12-09T11:24:06.345Z"
   },
   {
    "duration": 1048,
    "start_time": "2021-12-09T11:24:11.480Z"
   },
   {
    "duration": 338,
    "start_time": "2021-12-09T11:26:07.515Z"
   },
   {
    "duration": 15,
    "start_time": "2021-12-09T11:26:11.755Z"
   },
   {
    "duration": 14,
    "start_time": "2021-12-09T11:26:31.478Z"
   },
   {
    "duration": 16,
    "start_time": "2021-12-09T11:26:38.427Z"
   },
   {
    "duration": 10,
    "start_time": "2021-12-09T11:26:47.844Z"
   },
   {
    "duration": 12,
    "start_time": "2021-12-09T11:27:38.707Z"
   },
   {
    "duration": 9,
    "start_time": "2021-12-09T11:27:42.724Z"
   },
   {
    "duration": 707,
    "start_time": "2021-12-09T11:27:48.721Z"
   },
   {
    "duration": 11,
    "start_time": "2021-12-09T11:27:52.241Z"
   },
   {
    "duration": 285,
    "start_time": "2021-12-09T11:28:40.511Z"
   },
   {
    "duration": 38,
    "start_time": "2021-12-09T11:28:46.097Z"
   },
   {
    "duration": 11,
    "start_time": "2021-12-09T11:28:54.561Z"
   },
   {
    "duration": 8,
    "start_time": "2021-12-09T11:30:31.790Z"
   },
   {
    "duration": 11,
    "start_time": "2021-12-09T11:30:37.171Z"
   },
   {
    "duration": 9,
    "start_time": "2021-12-09T11:31:51.969Z"
   },
   {
    "duration": 11,
    "start_time": "2021-12-09T11:31:57.030Z"
   },
   {
    "duration": 426,
    "start_time": "2021-12-09T11:34:06.692Z"
   },
   {
    "duration": 5,
    "start_time": "2021-12-09T11:34:09.813Z"
   },
   {
    "duration": 10,
    "start_time": "2021-12-09T11:34:13.613Z"
   },
   {
    "duration": 266,
    "start_time": "2021-12-09T11:34:28.486Z"
   },
   {
    "duration": 15,
    "start_time": "2021-12-09T11:34:40.457Z"
   },
   {
    "duration": 26,
    "start_time": "2021-12-09T11:35:55.556Z"
   },
   {
    "duration": 39,
    "start_time": "2021-12-09T11:35:59.855Z"
   },
   {
    "duration": 42,
    "start_time": "2021-12-09T11:36:02.004Z"
   },
   {
    "duration": 280,
    "start_time": "2021-12-09T11:36:30.004Z"
   },
   {
    "duration": 3,
    "start_time": "2021-12-09T11:36:37.216Z"
   },
   {
    "duration": 368,
    "start_time": "2021-12-09T11:36:37.241Z"
   },
   {
    "duration": 9,
    "start_time": "2021-12-09T11:36:37.611Z"
   },
   {
    "duration": 11,
    "start_time": "2021-12-09T11:36:37.622Z"
   },
   {
    "duration": 34,
    "start_time": "2021-12-09T11:36:37.645Z"
   },
   {
    "duration": 9,
    "start_time": "2021-12-09T11:36:37.681Z"
   },
   {
    "duration": 9,
    "start_time": "2021-12-09T11:36:37.692Z"
   },
   {
    "duration": 15,
    "start_time": "2021-12-09T11:36:37.702Z"
   },
   {
    "duration": 32,
    "start_time": "2021-12-09T11:36:37.719Z"
   },
   {
    "duration": 13,
    "start_time": "2021-12-09T11:36:37.753Z"
   },
   {
    "duration": 10,
    "start_time": "2021-12-09T11:36:37.768Z"
   },
   {
    "duration": 11,
    "start_time": "2021-12-09T11:43:39.462Z"
   },
   {
    "duration": 694,
    "start_time": "2021-12-09T11:48:09.048Z"
   },
   {
    "duration": 302,
    "start_time": "2021-12-09T11:48:44.775Z"
   },
   {
    "duration": 16,
    "start_time": "2021-12-09T11:49:01.233Z"
   },
   {
    "duration": 16,
    "start_time": "2021-12-09T11:50:11.038Z"
   },
   {
    "duration": 4,
    "start_time": "2021-12-09T11:50:22.620Z"
   },
   {
    "duration": 4,
    "start_time": "2021-12-09T11:50:27.350Z"
   },
   {
    "duration": 6,
    "start_time": "2021-12-09T11:50:33.590Z"
   },
   {
    "duration": 4,
    "start_time": "2021-12-09T11:50:37.249Z"
   },
   {
    "duration": 3,
    "start_time": "2021-12-09T11:50:49.800Z"
   },
   {
    "duration": 4,
    "start_time": "2021-12-09T11:50:58.568Z"
   },
   {
    "duration": 4,
    "start_time": "2021-12-09T11:51:40.907Z"
   },
   {
    "duration": 4,
    "start_time": "2021-12-09T11:51:46.540Z"
   },
   {
    "duration": 17,
    "start_time": "2021-12-09T11:53:01.628Z"
   },
   {
    "duration": 3,
    "start_time": "2021-12-09T11:53:11.424Z"
   },
   {
    "duration": 4,
    "start_time": "2021-12-09T11:53:18.677Z"
   },
   {
    "duration": 3,
    "start_time": "2021-12-09T12:00:09.298Z"
   },
   {
    "duration": 286,
    "start_time": "2021-12-09T12:02:10.662Z"
   },
   {
    "duration": 4,
    "start_time": "2021-12-09T12:02:37.944Z"
   },
   {
    "duration": 354,
    "start_time": "2021-12-09T12:02:37.961Z"
   },
   {
    "duration": 8,
    "start_time": "2021-12-09T12:02:38.317Z"
   },
   {
    "duration": 22,
    "start_time": "2021-12-09T12:02:38.326Z"
   },
   {
    "duration": 36,
    "start_time": "2021-12-09T12:02:38.349Z"
   },
   {
    "duration": 10,
    "start_time": "2021-12-09T12:02:38.387Z"
   },
   {
    "duration": 11,
    "start_time": "2021-12-09T12:02:38.398Z"
   },
   {
    "duration": 36,
    "start_time": "2021-12-09T12:02:38.410Z"
   },
   {
    "duration": 9,
    "start_time": "2021-12-09T12:02:38.448Z"
   },
   {
    "duration": 17,
    "start_time": "2021-12-09T12:02:38.460Z"
   },
   {
    "duration": 10,
    "start_time": "2021-12-09T12:02:38.479Z"
   },
   {
    "duration": 11,
    "start_time": "2021-12-09T12:02:38.490Z"
   },
   {
    "duration": 13,
    "start_time": "2021-12-09T12:02:38.503Z"
   },
   {
    "duration": 4,
    "start_time": "2021-12-09T12:02:38.544Z"
   },
   {
    "duration": 5,
    "start_time": "2021-12-09T12:02:38.550Z"
   },
   {
    "duration": 10,
    "start_time": "2021-12-09T12:02:38.557Z"
   },
   {
    "duration": 5,
    "start_time": "2021-12-09T12:02:38.569Z"
   },
   {
    "duration": 15,
    "start_time": "2021-12-09T12:02:38.576Z"
   },
   {
    "duration": 4,
    "start_time": "2021-12-09T12:02:38.592Z"
   },
   {
    "duration": 5,
    "start_time": "2021-12-09T12:02:38.598Z"
   },
   {
    "duration": 51,
    "start_time": "2021-12-09T12:02:38.604Z"
   },
   {
    "duration": 4,
    "start_time": "2021-12-09T12:02:38.656Z"
   },
   {
    "duration": 5,
    "start_time": "2021-12-09T12:02:38.662Z"
   },
   {
    "duration": 487,
    "start_time": "2021-12-09T12:02:38.669Z"
   },
   {
    "duration": 272,
    "start_time": "2021-12-09T12:02:57.272Z"
   },
   {
    "duration": 10,
    "start_time": "2021-12-09T12:03:17.182Z"
   },
   {
    "duration": 267,
    "start_time": "2021-12-09T12:03:25.182Z"
   },
   {
    "duration": 272,
    "start_time": "2021-12-09T12:03:34.504Z"
   },
   {
    "duration": 4,
    "start_time": "2021-12-09T12:04:16.483Z"
   },
   {
    "duration": 369,
    "start_time": "2021-12-09T12:04:16.513Z"
   },
   {
    "duration": 8,
    "start_time": "2021-12-09T12:04:16.884Z"
   },
   {
    "duration": 17,
    "start_time": "2021-12-09T12:04:16.895Z"
   },
   {
    "duration": 39,
    "start_time": "2021-12-09T12:04:16.914Z"
   },
   {
    "duration": 10,
    "start_time": "2021-12-09T12:04:16.954Z"
   },
   {
    "duration": 8,
    "start_time": "2021-12-09T12:04:16.966Z"
   },
   {
    "duration": 12,
    "start_time": "2021-12-09T12:04:16.976Z"
   },
   {
    "duration": 8,
    "start_time": "2021-12-09T12:04:16.989Z"
   },
   {
    "duration": 11,
    "start_time": "2021-12-09T12:04:17.000Z"
   },
   {
    "duration": 40,
    "start_time": "2021-12-09T12:04:17.013Z"
   },
   {
    "duration": 11,
    "start_time": "2021-12-09T12:04:17.054Z"
   },
   {
    "duration": 15,
    "start_time": "2021-12-09T12:04:17.067Z"
   },
   {
    "duration": 4,
    "start_time": "2021-12-09T12:04:17.083Z"
   },
   {
    "duration": 8,
    "start_time": "2021-12-09T12:04:17.089Z"
   },
   {
    "duration": 5,
    "start_time": "2021-12-09T12:04:17.098Z"
   },
   {
    "duration": 39,
    "start_time": "2021-12-09T12:04:17.105Z"
   },
   {
    "duration": 12,
    "start_time": "2021-12-09T12:04:17.146Z"
   },
   {
    "duration": 3,
    "start_time": "2021-12-09T12:04:17.160Z"
   },
   {
    "duration": 5,
    "start_time": "2021-12-09T12:04:17.164Z"
   },
   {
    "duration": 14,
    "start_time": "2021-12-09T12:04:17.170Z"
   },
   {
    "duration": 4,
    "start_time": "2021-12-09T12:04:17.186Z"
   },
   {
    "duration": 5,
    "start_time": "2021-12-09T12:04:17.191Z"
   },
   {
    "duration": 47,
    "start_time": "2021-12-09T12:04:17.197Z"
   },
   {
    "duration": 3,
    "start_time": "2021-12-09T12:06:07.946Z"
   },
   {
    "duration": 373,
    "start_time": "2021-12-09T12:06:07.955Z"
   },
   {
    "duration": 8,
    "start_time": "2021-12-09T12:06:08.331Z"
   },
   {
    "duration": 10,
    "start_time": "2021-12-09T12:06:08.345Z"
   },
   {
    "duration": 36,
    "start_time": "2021-12-09T12:06:08.357Z"
   },
   {
    "duration": 10,
    "start_time": "2021-12-09T12:06:08.395Z"
   },
   {
    "duration": 10,
    "start_time": "2021-12-09T12:06:08.406Z"
   },
   {
    "duration": 35,
    "start_time": "2021-12-09T12:06:08.417Z"
   },
   {
    "duration": 9,
    "start_time": "2021-12-09T12:06:08.454Z"
   },
   {
    "duration": 11,
    "start_time": "2021-12-09T12:06:08.466Z"
   },
   {
    "duration": 10,
    "start_time": "2021-12-09T12:06:08.479Z"
   },
   {
    "duration": 10,
    "start_time": "2021-12-09T12:06:08.491Z"
   },
   {
    "duration": 42,
    "start_time": "2021-12-09T12:06:08.502Z"
   },
   {
    "duration": 3,
    "start_time": "2021-12-09T12:06:08.546Z"
   },
   {
    "duration": 6,
    "start_time": "2021-12-09T12:06:08.551Z"
   },
   {
    "duration": 5,
    "start_time": "2021-12-09T12:06:08.558Z"
   },
   {
    "duration": 5,
    "start_time": "2021-12-09T12:06:08.564Z"
   },
   {
    "duration": 14,
    "start_time": "2021-12-09T12:06:08.571Z"
   },
   {
    "duration": 4,
    "start_time": "2021-12-09T12:06:08.586Z"
   },
   {
    "duration": 10,
    "start_time": "2021-12-09T12:06:08.592Z"
   },
   {
    "duration": 45,
    "start_time": "2021-12-09T12:06:08.603Z"
   },
   {
    "duration": 4,
    "start_time": "2021-12-09T12:06:08.650Z"
   },
   {
    "duration": 5,
    "start_time": "2021-12-09T12:06:08.656Z"
   },
   {
    "duration": 14,
    "start_time": "2021-12-09T12:06:08.662Z"
   },
   {
    "duration": 274,
    "start_time": "2021-12-09T12:06:08.678Z"
   },
   {
    "duration": 13,
    "start_time": "2021-12-09T12:06:36.153Z"
   },
   {
    "duration": 13,
    "start_time": "2021-12-09T12:07:02.156Z"
   },
   {
    "duration": 4,
    "start_time": "2021-12-09T13:12:29.292Z"
   },
   {
    "duration": 394,
    "start_time": "2021-12-09T13:12:29.300Z"
   },
   {
    "duration": 9,
    "start_time": "2021-12-09T13:12:29.696Z"
   },
   {
    "duration": 12,
    "start_time": "2021-12-09T13:12:29.707Z"
   },
   {
    "duration": 53,
    "start_time": "2021-12-09T13:12:29.721Z"
   },
   {
    "duration": 10,
    "start_time": "2021-12-09T13:12:29.775Z"
   },
   {
    "duration": 9,
    "start_time": "2021-12-09T13:12:29.787Z"
   },
   {
    "duration": 11,
    "start_time": "2021-12-09T13:12:29.797Z"
   },
   {
    "duration": 8,
    "start_time": "2021-12-09T13:12:29.811Z"
   },
   {
    "duration": 32,
    "start_time": "2021-12-09T13:12:29.821Z"
   },
   {
    "duration": 19,
    "start_time": "2021-12-09T13:12:29.855Z"
   },
   {
    "duration": 14,
    "start_time": "2021-12-09T13:12:29.875Z"
   },
   {
    "duration": 15,
    "start_time": "2021-12-09T13:12:29.891Z"
   },
   {
    "duration": 3,
    "start_time": "2021-12-09T13:12:29.908Z"
   },
   {
    "duration": 9,
    "start_time": "2021-12-09T13:12:29.913Z"
   },
   {
    "duration": 22,
    "start_time": "2021-12-09T13:12:29.924Z"
   },
   {
    "duration": 4,
    "start_time": "2021-12-09T13:12:29.948Z"
   },
   {
    "duration": 13,
    "start_time": "2021-12-09T13:12:29.954Z"
   },
   {
    "duration": 3,
    "start_time": "2021-12-09T13:12:29.969Z"
   },
   {
    "duration": 4,
    "start_time": "2021-12-09T13:12:29.974Z"
   },
   {
    "duration": 16,
    "start_time": "2021-12-09T13:12:29.980Z"
   },
   {
    "duration": 3,
    "start_time": "2021-12-09T13:12:29.998Z"
   },
   {
    "duration": 43,
    "start_time": "2021-12-09T13:12:30.003Z"
   },
   {
    "duration": 13,
    "start_time": "2021-12-09T13:12:30.050Z"
   },
   {
    "duration": 14,
    "start_time": "2021-12-09T13:12:30.065Z"
   },
   {
    "duration": 14,
    "start_time": "2021-12-09T13:12:30.081Z"
   },
   {
    "duration": 276,
    "start_time": "2021-12-09T13:17:00.398Z"
   },
   {
    "duration": 3,
    "start_time": "2021-12-09T13:17:12.815Z"
   },
   {
    "duration": 12,
    "start_time": "2021-12-09T13:19:49.200Z"
   },
   {
    "duration": 4,
    "start_time": "2021-12-09T13:19:55.419Z"
   },
   {
    "duration": 307,
    "start_time": "2021-12-09T13:23:29.274Z"
   },
   {
    "duration": 521,
    "start_time": "2021-12-09T13:23:32.506Z"
   },
   {
    "duration": 316,
    "start_time": "2021-12-09T13:23:42.147Z"
   },
   {
    "duration": 281,
    "start_time": "2021-12-09T13:23:52.726Z"
   },
   {
    "duration": 267,
    "start_time": "2021-12-09T13:24:37.449Z"
   },
   {
    "duration": 387,
    "start_time": "2021-12-09T13:25:09.337Z"
   },
   {
    "duration": 14,
    "start_time": "2021-12-09T13:25:13.959Z"
   },
   {
    "duration": 7,
    "start_time": "2021-12-09T13:26:12.749Z"
   },
   {
    "duration": 5,
    "start_time": "2021-12-09T13:26:24.907Z"
   },
   {
    "duration": 6,
    "start_time": "2021-12-09T13:26:31.247Z"
   },
   {
    "duration": 13,
    "start_time": "2021-12-09T13:28:35.197Z"
   },
   {
    "duration": 18,
    "start_time": "2021-12-09T13:28:58.806Z"
   },
   {
    "duration": 7,
    "start_time": "2021-12-09T13:30:50.935Z"
   },
   {
    "duration": 19,
    "start_time": "2021-12-09T13:32:29.399Z"
   },
   {
    "duration": 16,
    "start_time": "2021-12-09T13:32:45.197Z"
   },
   {
    "duration": 11,
    "start_time": "2021-12-09T13:32:49.797Z"
   },
   {
    "duration": 12,
    "start_time": "2021-12-09T13:32:53.627Z"
   },
   {
    "duration": 11,
    "start_time": "2021-12-09T13:33:11.967Z"
   },
   {
    "duration": 15,
    "start_time": "2021-12-09T13:33:17.812Z"
   },
   {
    "duration": 7,
    "start_time": "2021-12-09T13:35:04.648Z"
   },
   {
    "duration": 12,
    "start_time": "2021-12-09T13:38:40.207Z"
   },
   {
    "duration": 6,
    "start_time": "2021-12-09T13:38:41.839Z"
   },
   {
    "duration": 6,
    "start_time": "2021-12-09T13:38:53.613Z"
   },
   {
    "duration": 77,
    "start_time": "2021-12-09T13:38:56.367Z"
   },
   {
    "duration": 5,
    "start_time": "2021-12-09T13:38:57.270Z"
   },
   {
    "duration": 1363,
    "start_time": "2021-12-10T08:27:44.260Z"
   },
   {
    "duration": 421,
    "start_time": "2021-12-10T08:27:45.626Z"
   },
   {
    "duration": 17,
    "start_time": "2021-12-10T08:27:46.050Z"
   },
   {
    "duration": 14,
    "start_time": "2021-12-10T08:27:46.069Z"
   },
   {
    "duration": 79,
    "start_time": "2021-12-10T08:27:46.086Z"
   },
   {
    "duration": 14,
    "start_time": "2021-12-10T08:27:46.167Z"
   },
   {
    "duration": 15,
    "start_time": "2021-12-10T08:27:46.184Z"
   },
   {
    "duration": 13,
    "start_time": "2021-12-10T08:27:46.225Z"
   },
   {
    "duration": 14,
    "start_time": "2021-12-10T08:27:46.241Z"
   },
   {
    "duration": 16,
    "start_time": "2021-12-10T08:27:46.257Z"
   },
   {
    "duration": 14,
    "start_time": "2021-12-10T08:27:46.276Z"
   },
   {
    "duration": 14,
    "start_time": "2021-12-10T08:27:46.323Z"
   },
   {
    "duration": 18,
    "start_time": "2021-12-10T08:27:46.339Z"
   },
   {
    "duration": 5,
    "start_time": "2021-12-10T08:27:46.359Z"
   },
   {
    "duration": 5,
    "start_time": "2021-12-10T08:27:46.367Z"
   },
   {
    "duration": 6,
    "start_time": "2021-12-10T08:27:46.374Z"
   },
   {
    "duration": 42,
    "start_time": "2021-12-10T08:27:46.382Z"
   },
   {
    "duration": 17,
    "start_time": "2021-12-10T08:27:46.427Z"
   },
   {
    "duration": 5,
    "start_time": "2021-12-10T08:27:46.447Z"
   },
   {
    "duration": 6,
    "start_time": "2021-12-10T08:27:46.455Z"
   },
   {
    "duration": 21,
    "start_time": "2021-12-10T08:27:46.463Z"
   },
   {
    "duration": 40,
    "start_time": "2021-12-10T08:27:46.486Z"
   },
   {
    "duration": 5,
    "start_time": "2021-12-10T08:27:46.531Z"
   },
   {
    "duration": 20,
    "start_time": "2021-12-10T08:27:46.539Z"
   },
   {
    "duration": 14,
    "start_time": "2021-12-10T08:27:46.561Z"
   },
   {
    "duration": 60,
    "start_time": "2021-12-10T08:27:46.577Z"
   },
   {
    "duration": 21,
    "start_time": "2021-12-10T08:27:46.639Z"
   },
   {
    "duration": 98,
    "start_time": "2021-12-10T08:27:46.732Z"
   },
   {
    "duration": 21,
    "start_time": "2021-12-10T08:32:16.702Z"
   },
   {
    "duration": 8,
    "start_time": "2021-12-10T08:32:59.475Z"
   },
   {
    "duration": 7,
    "start_time": "2021-12-10T08:41:08.476Z"
   },
   {
    "duration": 8,
    "start_time": "2021-12-10T08:41:50.667Z"
   },
   {
    "duration": 7,
    "start_time": "2021-12-10T08:42:40.978Z"
   },
   {
    "duration": 7,
    "start_time": "2021-12-10T08:43:14.954Z"
   },
   {
    "duration": 9,
    "start_time": "2021-12-10T08:44:21.068Z"
   },
   {
    "duration": 8,
    "start_time": "2021-12-10T08:44:30.184Z"
   },
   {
    "duration": 21,
    "start_time": "2021-12-10T08:45:03.902Z"
   },
   {
    "duration": 8,
    "start_time": "2021-12-10T08:45:04.571Z"
   },
   {
    "duration": 5,
    "start_time": "2021-12-10T08:45:56.615Z"
   },
   {
    "duration": 432,
    "start_time": "2021-12-10T08:45:56.837Z"
   },
   {
    "duration": 12,
    "start_time": "2021-12-10T08:45:57.271Z"
   },
   {
    "duration": 36,
    "start_time": "2021-12-10T08:45:57.287Z"
   },
   {
    "duration": 48,
    "start_time": "2021-12-10T08:45:57.326Z"
   },
   {
    "duration": 16,
    "start_time": "2021-12-10T08:45:57.376Z"
   },
   {
    "duration": 40,
    "start_time": "2021-12-10T08:45:57.394Z"
   },
   {
    "duration": 14,
    "start_time": "2021-12-10T08:45:57.437Z"
   },
   {
    "duration": 13,
    "start_time": "2021-12-10T08:45:57.454Z"
   },
   {
    "duration": 58,
    "start_time": "2021-12-10T08:45:57.473Z"
   },
   {
    "duration": 13,
    "start_time": "2021-12-10T08:45:57.535Z"
   },
   {
    "duration": 19,
    "start_time": "2021-12-10T08:45:57.551Z"
   },
   {
    "duration": 17,
    "start_time": "2021-12-10T08:45:57.572Z"
   },
   {
    "duration": 32,
    "start_time": "2021-12-10T08:45:57.591Z"
   },
   {
    "duration": 6,
    "start_time": "2021-12-10T08:45:57.625Z"
   },
   {
    "duration": 9,
    "start_time": "2021-12-10T08:45:57.633Z"
   },
   {
    "duration": 6,
    "start_time": "2021-12-10T08:45:57.645Z"
   },
   {
    "duration": 22,
    "start_time": "2021-12-10T08:45:57.653Z"
   },
   {
    "duration": 4,
    "start_time": "2021-12-10T08:45:57.677Z"
   },
   {
    "duration": 43,
    "start_time": "2021-12-10T08:45:57.683Z"
   },
   {
    "duration": 20,
    "start_time": "2021-12-10T08:45:57.728Z"
   },
   {
    "duration": 4,
    "start_time": "2021-12-10T08:45:57.751Z"
   },
   {
    "duration": 7,
    "start_time": "2021-12-10T08:45:57.757Z"
   },
   {
    "duration": 16,
    "start_time": "2021-12-10T08:45:57.766Z"
   },
   {
    "duration": 51,
    "start_time": "2021-12-10T08:45:57.784Z"
   },
   {
    "duration": 14,
    "start_time": "2021-12-10T08:45:57.837Z"
   },
   {
    "duration": 14,
    "start_time": "2021-12-10T08:45:57.853Z"
   },
   {
    "duration": 98,
    "start_time": "2021-12-10T08:45:57.929Z"
   },
   {
    "duration": 19,
    "start_time": "2021-12-10T08:45:58.030Z"
   },
   {
    "duration": 79,
    "start_time": "2021-12-10T08:45:58.052Z"
   },
   {
    "duration": 5,
    "start_time": "2021-12-10T08:46:19.676Z"
   },
   {
    "duration": 443,
    "start_time": "2021-12-10T08:46:19.688Z"
   },
   {
    "duration": 11,
    "start_time": "2021-12-10T08:46:20.134Z"
   },
   {
    "duration": 33,
    "start_time": "2021-12-10T08:46:20.148Z"
   },
   {
    "duration": 53,
    "start_time": "2021-12-10T08:46:20.183Z"
   },
   {
    "duration": 13,
    "start_time": "2021-12-10T08:46:20.239Z"
   },
   {
    "duration": 34,
    "start_time": "2021-12-10T08:46:20.254Z"
   },
   {
    "duration": 24,
    "start_time": "2021-12-10T08:46:20.290Z"
   },
   {
    "duration": 31,
    "start_time": "2021-12-10T08:46:20.317Z"
   },
   {
    "duration": 16,
    "start_time": "2021-12-10T08:46:20.352Z"
   },
   {
    "duration": 19,
    "start_time": "2021-12-10T08:46:20.371Z"
   },
   {
    "duration": 30,
    "start_time": "2021-12-10T08:46:20.392Z"
   },
   {
    "duration": 20,
    "start_time": "2021-12-10T08:46:20.424Z"
   },
   {
    "duration": 12,
    "start_time": "2021-12-10T08:46:20.447Z"
   },
   {
    "duration": 12,
    "start_time": "2021-12-10T08:46:20.462Z"
   },
   {
    "duration": 27,
    "start_time": "2021-12-10T08:46:20.476Z"
   },
   {
    "duration": 14,
    "start_time": "2021-12-10T08:46:20.505Z"
   },
   {
    "duration": 24,
    "start_time": "2021-12-10T08:46:20.521Z"
   },
   {
    "duration": 11,
    "start_time": "2021-12-10T08:46:20.547Z"
   },
   {
    "duration": 17,
    "start_time": "2021-12-10T08:46:20.560Z"
   },
   {
    "duration": 33,
    "start_time": "2021-12-10T08:46:20.580Z"
   },
   {
    "duration": 6,
    "start_time": "2021-12-10T08:46:20.616Z"
   },
   {
    "duration": 16,
    "start_time": "2021-12-10T08:46:20.624Z"
   },
   {
    "duration": 30,
    "start_time": "2021-12-10T08:46:20.642Z"
   },
   {
    "duration": 20,
    "start_time": "2021-12-10T08:46:20.674Z"
   },
   {
    "duration": 16,
    "start_time": "2021-12-10T08:46:20.697Z"
   },
   {
    "duration": 33,
    "start_time": "2021-12-10T08:46:20.715Z"
   },
   {
    "duration": 99,
    "start_time": "2021-12-10T08:46:20.828Z"
   },
   {
    "duration": 27,
    "start_time": "2021-12-10T08:46:20.930Z"
   },
   {
    "duration": 106,
    "start_time": "2021-12-10T08:46:21.025Z"
   },
   {
    "duration": 8,
    "start_time": "2021-12-10T08:52:20.473Z"
   },
   {
    "duration": 210,
    "start_time": "2021-12-10T08:52:35.204Z"
   },
   {
    "duration": 5,
    "start_time": "2021-12-10T08:52:41.594Z"
   },
   {
    "duration": 5,
    "start_time": "2021-12-10T08:52:50.966Z"
   },
   {
    "duration": 6,
    "start_time": "2021-12-10T08:53:05.549Z"
   },
   {
    "duration": 5,
    "start_time": "2021-12-10T08:53:16.523Z"
   },
   {
    "duration": 6,
    "start_time": "2021-12-10T08:53:16.570Z"
   },
   {
    "duration": 4,
    "start_time": "2021-12-10T08:53:23.198Z"
   },
   {
    "duration": 6,
    "start_time": "2021-12-10T08:53:23.238Z"
   },
   {
    "duration": 7,
    "start_time": "2021-12-10T08:54:54.167Z"
   },
   {
    "duration": 6,
    "start_time": "2021-12-10T08:58:54.745Z"
   },
   {
    "duration": 426,
    "start_time": "2021-12-10T08:58:54.780Z"
   },
   {
    "duration": 17,
    "start_time": "2021-12-10T08:58:55.208Z"
   },
   {
    "duration": 18,
    "start_time": "2021-12-10T08:58:55.228Z"
   },
   {
    "duration": 48,
    "start_time": "2021-12-10T08:58:55.249Z"
   },
   {
    "duration": 36,
    "start_time": "2021-12-10T08:58:55.299Z"
   },
   {
    "duration": 12,
    "start_time": "2021-12-10T08:58:55.337Z"
   },
   {
    "duration": 15,
    "start_time": "2021-12-10T08:58:55.351Z"
   },
   {
    "duration": 10,
    "start_time": "2021-12-10T08:58:55.369Z"
   },
   {
    "duration": 15,
    "start_time": "2021-12-10T08:58:55.733Z"
   },
   {
    "duration": 14,
    "start_time": "2021-12-10T08:58:55.751Z"
   },
   {
    "duration": 13,
    "start_time": "2021-12-10T08:58:55.769Z"
   },
   {
    "duration": 48,
    "start_time": "2021-12-10T08:58:55.785Z"
   },
   {
    "duration": 6,
    "start_time": "2021-12-10T08:58:55.835Z"
   },
   {
    "duration": 6,
    "start_time": "2021-12-10T08:58:55.844Z"
   },
   {
    "duration": 6,
    "start_time": "2021-12-10T08:58:55.853Z"
   },
   {
    "duration": 5,
    "start_time": "2021-12-10T08:58:55.862Z"
   },
   {
    "duration": 63,
    "start_time": "2021-12-10T08:58:55.871Z"
   },
   {
    "duration": 6,
    "start_time": "2021-12-10T08:58:55.938Z"
   },
   {
    "duration": 13,
    "start_time": "2021-12-10T08:58:55.947Z"
   },
   {
    "duration": 20,
    "start_time": "2021-12-10T08:58:55.962Z"
   },
   {
    "duration": 43,
    "start_time": "2021-12-10T08:58:55.985Z"
   },
   {
    "duration": 6,
    "start_time": "2021-12-10T08:58:56.031Z"
   },
   {
    "duration": 6,
    "start_time": "2021-12-10T08:58:56.039Z"
   },
   {
    "duration": 18,
    "start_time": "2021-12-10T08:58:56.048Z"
   },
   {
    "duration": 65,
    "start_time": "2021-12-10T08:58:56.068Z"
   },
   {
    "duration": 13,
    "start_time": "2021-12-10T08:58:56.135Z"
   },
   {
    "duration": 7,
    "start_time": "2021-12-10T08:58:56.325Z"
   },
   {
    "duration": 14,
    "start_time": "2021-12-10T08:58:56.334Z"
   },
   {
    "duration": 8,
    "start_time": "2021-12-10T08:58:56.424Z"
   },
   {
    "duration": 13,
    "start_time": "2021-12-10T09:00:34.563Z"
   },
   {
    "duration": 493,
    "start_time": "2021-12-10T09:05:23.249Z"
   },
   {
    "duration": 17,
    "start_time": "2021-12-10T09:06:04.527Z"
   },
   {
    "duration": 5,
    "start_time": "2021-12-10T09:06:42.743Z"
   },
   {
    "duration": 416,
    "start_time": "2021-12-10T09:06:42.761Z"
   },
   {
    "duration": 12,
    "start_time": "2021-12-10T09:06:43.180Z"
   },
   {
    "duration": 41,
    "start_time": "2021-12-10T09:06:43.197Z"
   },
   {
    "duration": 47,
    "start_time": "2021-12-10T09:06:43.241Z"
   },
   {
    "duration": 13,
    "start_time": "2021-12-10T09:06:43.290Z"
   },
   {
    "duration": 10,
    "start_time": "2021-12-10T09:06:43.324Z"
   },
   {
    "duration": 15,
    "start_time": "2021-12-10T09:06:43.336Z"
   },
   {
    "duration": 13,
    "start_time": "2021-12-10T09:06:43.353Z"
   },
   {
    "duration": 55,
    "start_time": "2021-12-10T09:06:43.371Z"
   },
   {
    "duration": 14,
    "start_time": "2021-12-10T09:06:43.429Z"
   },
   {
    "duration": 11,
    "start_time": "2021-12-10T09:06:43.445Z"
   },
   {
    "duration": 18,
    "start_time": "2021-12-10T09:06:43.459Z"
   },
   {
    "duration": 5,
    "start_time": "2021-12-10T09:06:43.480Z"
   },
   {
    "duration": 6,
    "start_time": "2021-12-10T09:06:43.524Z"
   },
   {
    "duration": 5,
    "start_time": "2021-12-10T09:06:44.531Z"
   },
   {
    "duration": 8,
    "start_time": "2021-12-10T09:06:44.538Z"
   },
   {
    "duration": 18,
    "start_time": "2021-12-10T09:06:44.549Z"
   },
   {
    "duration": 4,
    "start_time": "2021-12-10T09:06:44.570Z"
   },
   {
    "duration": 7,
    "start_time": "2021-12-10T09:06:44.576Z"
   },
   {
    "duration": 46,
    "start_time": "2021-12-10T09:06:44.585Z"
   },
   {
    "duration": 6,
    "start_time": "2021-12-10T09:06:44.634Z"
   },
   {
    "duration": 7,
    "start_time": "2021-12-10T09:06:44.642Z"
   },
   {
    "duration": 15,
    "start_time": "2021-12-10T09:06:44.651Z"
   },
   {
    "duration": 62,
    "start_time": "2021-12-10T09:06:44.668Z"
   },
   {
    "duration": 17,
    "start_time": "2021-12-10T09:06:44.733Z"
   },
   {
    "duration": 75,
    "start_time": "2021-12-10T09:06:44.753Z"
   },
   {
    "duration": 97,
    "start_time": "2021-12-10T09:06:44.832Z"
   },
   {
    "duration": 94,
    "start_time": "2021-12-10T09:06:44.933Z"
   },
   {
    "duration": 97,
    "start_time": "2021-12-10T09:06:45.031Z"
   },
   {
    "duration": 5,
    "start_time": "2021-12-10T09:12:25.381Z"
   },
   {
    "duration": 427,
    "start_time": "2021-12-10T09:12:25.393Z"
   },
   {
    "duration": 13,
    "start_time": "2021-12-10T09:12:25.824Z"
   },
   {
    "duration": 15,
    "start_time": "2021-12-10T09:12:25.841Z"
   },
   {
    "duration": 84,
    "start_time": "2021-12-10T09:12:25.860Z"
   },
   {
    "duration": 16,
    "start_time": "2021-12-10T09:12:25.947Z"
   },
   {
    "duration": 13,
    "start_time": "2021-12-10T09:12:25.966Z"
   },
   {
    "duration": 41,
    "start_time": "2021-12-10T09:12:25.982Z"
   },
   {
    "duration": 12,
    "start_time": "2021-12-10T09:12:26.025Z"
   },
   {
    "duration": 13,
    "start_time": "2021-12-10T09:12:26.041Z"
   },
   {
    "duration": 12,
    "start_time": "2021-12-10T09:12:26.057Z"
   },
   {
    "duration": 51,
    "start_time": "2021-12-10T09:12:26.072Z"
   },
   {
    "duration": 15,
    "start_time": "2021-12-10T09:12:26.125Z"
   },
   {
    "duration": 17,
    "start_time": "2021-12-10T09:12:26.142Z"
   },
   {
    "duration": 5,
    "start_time": "2021-12-10T09:12:26.161Z"
   },
   {
    "duration": 7,
    "start_time": "2021-12-10T09:12:26.169Z"
   },
   {
    "duration": 8,
    "start_time": "2021-12-10T09:12:26.178Z"
   },
   {
    "duration": 39,
    "start_time": "2021-12-10T09:12:26.188Z"
   },
   {
    "duration": 20,
    "start_time": "2021-12-10T09:12:26.230Z"
   },
   {
    "duration": 6,
    "start_time": "2021-12-10T09:12:26.253Z"
   },
   {
    "duration": 6,
    "start_time": "2021-12-10T09:12:26.262Z"
   },
   {
    "duration": 68,
    "start_time": "2021-12-10T09:12:26.271Z"
   },
   {
    "duration": 7,
    "start_time": "2021-12-10T09:12:26.342Z"
   },
   {
    "duration": 9,
    "start_time": "2021-12-10T09:12:26.351Z"
   },
   {
    "duration": 6,
    "start_time": "2021-12-10T09:12:26.362Z"
   },
   {
    "duration": 53,
    "start_time": "2021-12-10T09:12:26.370Z"
   },
   {
    "duration": 16,
    "start_time": "2021-12-10T09:12:26.425Z"
   },
   {
    "duration": 79,
    "start_time": "2021-12-10T09:12:26.445Z"
   },
   {
    "duration": 99,
    "start_time": "2021-12-10T09:12:26.527Z"
   },
   {
    "duration": 16,
    "start_time": "2021-12-10T09:12:26.629Z"
   },
   {
    "duration": 175,
    "start_time": "2021-12-10T09:12:26.648Z"
   },
   {
    "duration": 5,
    "start_time": "2021-12-10T09:13:12.536Z"
   },
   {
    "duration": 425,
    "start_time": "2021-12-10T09:13:12.559Z"
   },
   {
    "duration": 12,
    "start_time": "2021-12-10T09:13:12.986Z"
   },
   {
    "duration": 30,
    "start_time": "2021-12-10T09:13:13.001Z"
   },
   {
    "duration": 45,
    "start_time": "2021-12-10T09:13:13.034Z"
   },
   {
    "duration": 14,
    "start_time": "2021-12-10T09:13:13.081Z"
   },
   {
    "duration": 12,
    "start_time": "2021-12-10T09:13:13.123Z"
   },
   {
    "duration": 16,
    "start_time": "2021-12-10T09:13:13.137Z"
   },
   {
    "duration": 13,
    "start_time": "2021-12-10T09:13:13.155Z"
   },
   {
    "duration": 16,
    "start_time": "2021-12-10T09:13:13.173Z"
   },
   {
    "duration": 14,
    "start_time": "2021-12-10T09:13:13.225Z"
   },
   {
    "duration": 21,
    "start_time": "2021-12-10T09:13:13.241Z"
   },
   {
    "duration": 8,
    "start_time": "2021-12-10T09:13:13.264Z"
   },
   {
    "duration": 21,
    "start_time": "2021-12-10T09:13:13.274Z"
   },
   {
    "duration": 26,
    "start_time": "2021-12-10T09:13:13.297Z"
   },
   {
    "duration": 5,
    "start_time": "2021-12-10T09:13:13.325Z"
   },
   {
    "duration": 9,
    "start_time": "2021-12-10T09:13:13.332Z"
   },
   {
    "duration": 7,
    "start_time": "2021-12-10T09:13:13.343Z"
   },
   {
    "duration": 22,
    "start_time": "2021-12-10T09:13:13.352Z"
   },
   {
    "duration": 5,
    "start_time": "2021-12-10T09:13:13.377Z"
   },
   {
    "duration": 5,
    "start_time": "2021-12-10T09:13:13.424Z"
   },
   {
    "duration": 18,
    "start_time": "2021-12-10T09:13:13.432Z"
   },
   {
    "duration": 5,
    "start_time": "2021-12-10T09:13:13.452Z"
   },
   {
    "duration": 5,
    "start_time": "2021-12-10T09:13:13.460Z"
   },
   {
    "duration": 4,
    "start_time": "2021-12-10T09:13:13.467Z"
   },
   {
    "duration": 57,
    "start_time": "2021-12-10T09:13:13.474Z"
   },
   {
    "duration": 14,
    "start_time": "2021-12-10T09:13:13.533Z"
   },
   {
    "duration": 77,
    "start_time": "2021-12-10T09:13:13.551Z"
   },
   {
    "duration": 100,
    "start_time": "2021-12-10T09:13:13.632Z"
   },
   {
    "duration": 14,
    "start_time": "2021-12-10T09:13:13.735Z"
   },
   {
    "duration": 98,
    "start_time": "2021-12-10T09:13:13.830Z"
   },
   {
    "duration": 5,
    "start_time": "2021-12-10T09:19:30.881Z"
   },
   {
    "duration": 473,
    "start_time": "2021-12-10T09:19:30.888Z"
   },
   {
    "duration": 13,
    "start_time": "2021-12-10T09:19:31.364Z"
   },
   {
    "duration": 19,
    "start_time": "2021-12-10T09:19:31.380Z"
   },
   {
    "duration": 83,
    "start_time": "2021-12-10T09:19:31.402Z"
   },
   {
    "duration": 40,
    "start_time": "2021-12-10T09:19:31.488Z"
   },
   {
    "duration": 14,
    "start_time": "2021-12-10T09:19:31.531Z"
   },
   {
    "duration": 16,
    "start_time": "2021-12-10T09:19:31.551Z"
   },
   {
    "duration": 13,
    "start_time": "2021-12-10T09:19:31.571Z"
   },
   {
    "duration": 49,
    "start_time": "2021-12-10T09:19:31.586Z"
   },
   {
    "duration": 13,
    "start_time": "2021-12-10T09:19:31.637Z"
   },
   {
    "duration": 12,
    "start_time": "2021-12-10T09:19:31.653Z"
   },
   {
    "duration": 56,
    "start_time": "2021-12-10T09:19:31.668Z"
   },
   {
    "duration": 7,
    "start_time": "2021-12-10T09:19:31.727Z"
   },
   {
    "duration": 11,
    "start_time": "2021-12-10T09:19:31.737Z"
   },
   {
    "duration": 14,
    "start_time": "2021-12-10T09:19:31.750Z"
   },
   {
    "duration": 8,
    "start_time": "2021-12-10T09:19:31.766Z"
   },
   {
    "duration": 47,
    "start_time": "2021-12-10T09:19:31.777Z"
   },
   {
    "duration": 6,
    "start_time": "2021-12-10T09:19:31.826Z"
   },
   {
    "duration": 6,
    "start_time": "2021-12-10T09:19:31.835Z"
   },
   {
    "duration": 20,
    "start_time": "2021-12-10T09:19:31.845Z"
   },
   {
    "duration": 6,
    "start_time": "2021-12-10T09:19:31.867Z"
   },
   {
    "duration": 6,
    "start_time": "2021-12-10T09:19:31.924Z"
   },
   {
    "duration": 5,
    "start_time": "2021-12-10T09:19:31.933Z"
   },
   {
    "duration": 9,
    "start_time": "2021-12-10T09:19:31.941Z"
   },
   {
    "duration": 12,
    "start_time": "2021-12-10T09:19:31.952Z"
   },
   {
    "duration": 67,
    "start_time": "2021-12-10T09:19:31.966Z"
   },
   {
    "duration": 99,
    "start_time": "2021-12-10T09:19:32.037Z"
   },
   {
    "duration": 89,
    "start_time": "2021-12-10T09:19:32.138Z"
   },
   {
    "duration": 101,
    "start_time": "2021-12-10T09:19:32.231Z"
   },
   {
    "duration": 16,
    "start_time": "2021-12-10T09:21:36.402Z"
   },
   {
    "duration": 16,
    "start_time": "2021-12-10T09:21:44.332Z"
   },
   {
    "duration": 15,
    "start_time": "2021-12-10T09:21:45.683Z"
   },
   {
    "duration": 5,
    "start_time": "2021-12-10T09:22:19.434Z"
   },
   {
    "duration": 419,
    "start_time": "2021-12-10T09:22:19.493Z"
   },
   {
    "duration": 17,
    "start_time": "2021-12-10T09:22:19.915Z"
   },
   {
    "duration": 16,
    "start_time": "2021-12-10T09:22:19.935Z"
   },
   {
    "duration": 83,
    "start_time": "2021-12-10T09:22:19.953Z"
   },
   {
    "duration": 15,
    "start_time": "2021-12-10T09:22:20.039Z"
   },
   {
    "duration": 14,
    "start_time": "2021-12-10T09:22:20.056Z"
   },
   {
    "duration": 18,
    "start_time": "2021-12-10T09:22:20.072Z"
   },
   {
    "duration": 14,
    "start_time": "2021-12-10T09:22:20.124Z"
   },
   {
    "duration": 22,
    "start_time": "2021-12-10T09:22:20.142Z"
   },
   {
    "duration": 13,
    "start_time": "2021-12-10T09:22:20.167Z"
   },
   {
    "duration": 41,
    "start_time": "2021-12-10T09:22:20.182Z"
   },
   {
    "duration": 19,
    "start_time": "2021-12-10T09:22:20.225Z"
   },
   {
    "duration": 7,
    "start_time": "2021-12-10T09:22:20.246Z"
   },
   {
    "duration": 9,
    "start_time": "2021-12-10T09:22:20.255Z"
   },
   {
    "duration": 6,
    "start_time": "2021-12-10T09:22:20.267Z"
   },
   {
    "duration": 49,
    "start_time": "2021-12-10T09:22:20.275Z"
   },
   {
    "duration": 17,
    "start_time": "2021-12-10T09:22:20.326Z"
   },
   {
    "duration": 5,
    "start_time": "2021-12-10T09:22:20.345Z"
   },
   {
    "duration": 6,
    "start_time": "2021-12-10T09:22:20.352Z"
   },
   {
    "duration": 16,
    "start_time": "2021-12-10T09:22:20.360Z"
   },
   {
    "duration": 48,
    "start_time": "2021-12-10T09:22:20.378Z"
   },
   {
    "duration": 6,
    "start_time": "2021-12-10T09:22:20.429Z"
   },
   {
    "duration": 4,
    "start_time": "2021-12-10T09:22:20.437Z"
   },
   {
    "duration": 5,
    "start_time": "2021-12-10T09:22:20.444Z"
   },
   {
    "duration": 5,
    "start_time": "2021-12-10T09:22:20.452Z"
   },
   {
    "duration": 75,
    "start_time": "2021-12-10T09:22:20.459Z"
   },
   {
    "duration": 6,
    "start_time": "2021-12-10T09:22:20.627Z"
   },
   {
    "duration": 16,
    "start_time": "2021-12-10T09:22:20.635Z"
   },
   {
    "duration": 79,
    "start_time": "2021-12-10T09:22:20.654Z"
   },
   {
    "duration": 20,
    "start_time": "2021-12-10T09:22:20.824Z"
   },
   {
    "duration": 1286,
    "start_time": "2021-12-10T09:25:08.853Z"
   },
   {
    "duration": 405,
    "start_time": "2021-12-10T09:25:10.142Z"
   },
   {
    "duration": 16,
    "start_time": "2021-12-10T09:25:10.551Z"
   },
   {
    "duration": 21,
    "start_time": "2021-12-10T09:25:10.570Z"
   },
   {
    "duration": 61,
    "start_time": "2021-12-10T09:25:10.593Z"
   },
   {
    "duration": 15,
    "start_time": "2021-12-10T09:25:10.656Z"
   },
   {
    "duration": 28,
    "start_time": "2021-12-10T09:25:10.673Z"
   },
   {
    "duration": 26,
    "start_time": "2021-12-10T09:25:10.703Z"
   },
   {
    "duration": 18,
    "start_time": "2021-12-10T09:25:10.733Z"
   },
   {
    "duration": 19,
    "start_time": "2021-12-10T09:25:10.753Z"
   },
   {
    "duration": 14,
    "start_time": "2021-12-10T09:25:10.774Z"
   },
   {
    "duration": 40,
    "start_time": "2021-12-10T09:25:10.790Z"
   },
   {
    "duration": 21,
    "start_time": "2021-12-10T09:25:10.832Z"
   },
   {
    "duration": 9,
    "start_time": "2021-12-10T09:25:10.855Z"
   },
   {
    "duration": 7,
    "start_time": "2021-12-10T09:25:10.882Z"
   },
   {
    "duration": 14,
    "start_time": "2021-12-10T09:25:10.891Z"
   },
   {
    "duration": 20,
    "start_time": "2021-12-10T09:25:10.908Z"
   },
   {
    "duration": 17,
    "start_time": "2021-12-10T09:25:11.003Z"
   },
   {
    "duration": 5,
    "start_time": "2021-12-10T09:25:11.234Z"
   },
   {
    "duration": 6,
    "start_time": "2021-12-10T09:25:11.243Z"
   },
   {
    "duration": 19,
    "start_time": "2021-12-10T09:25:11.252Z"
   },
   {
    "duration": 5,
    "start_time": "2021-12-10T09:25:11.274Z"
   },
   {
    "duration": 5,
    "start_time": "2021-12-10T09:25:11.353Z"
   },
   {
    "duration": 5,
    "start_time": "2021-12-10T09:25:11.360Z"
   },
   {
    "duration": 3,
    "start_time": "2021-12-10T09:25:11.402Z"
   },
   {
    "duration": 3,
    "start_time": "2021-12-10T09:25:11.523Z"
   },
   {
    "duration": 98,
    "start_time": "2021-12-10T09:25:11.529Z"
   },
   {
    "duration": 7,
    "start_time": "2021-12-10T09:25:11.724Z"
   },
   {
    "duration": 15,
    "start_time": "2021-12-10T09:25:12.133Z"
   },
   {
    "duration": 172,
    "start_time": "2021-12-10T09:25:12.152Z"
   },
   {
    "duration": 15,
    "start_time": "2021-12-10T09:25:12.327Z"
   },
   {
    "duration": 405,
    "start_time": "2021-12-10T09:27:10.293Z"
   },
   {
    "duration": 298,
    "start_time": "2021-12-10T09:27:15.653Z"
   },
   {
    "duration": 17,
    "start_time": "2021-12-10T09:27:19.425Z"
   },
   {
    "duration": 76,
    "start_time": "2021-12-10T09:27:54.151Z"
   },
   {
    "duration": 16,
    "start_time": "2021-12-10T09:27:58.630Z"
   },
   {
    "duration": 384,
    "start_time": "2021-12-10T09:28:13.462Z"
   },
   {
    "duration": 355,
    "start_time": "2021-12-10T09:28:23.241Z"
   },
   {
    "duration": 12,
    "start_time": "2021-12-10T09:28:28.499Z"
   },
   {
    "duration": 13,
    "start_time": "2021-12-10T09:28:33.829Z"
   },
   {
    "duration": 7,
    "start_time": "2021-12-10T09:28:36.025Z"
   },
   {
    "duration": 5,
    "start_time": "2021-12-10T09:29:04.915Z"
   },
   {
    "duration": 502,
    "start_time": "2021-12-10T09:29:04.923Z"
   },
   {
    "duration": 12,
    "start_time": "2021-12-10T09:29:05.427Z"
   },
   {
    "duration": 17,
    "start_time": "2021-12-10T09:29:05.442Z"
   },
   {
    "duration": 80,
    "start_time": "2021-12-10T09:29:05.461Z"
   },
   {
    "duration": 15,
    "start_time": "2021-12-10T09:29:05.543Z"
   },
   {
    "duration": 16,
    "start_time": "2021-12-10T09:29:05.560Z"
   },
   {
    "duration": 15,
    "start_time": "2021-12-10T09:29:05.579Z"
   },
   {
    "duration": 12,
    "start_time": "2021-12-10T09:29:05.625Z"
   },
   {
    "duration": 17,
    "start_time": "2021-12-10T09:29:05.640Z"
   },
   {
    "duration": 13,
    "start_time": "2021-12-10T09:29:05.659Z"
   },
   {
    "duration": 14,
    "start_time": "2021-12-10T09:29:05.674Z"
   },
   {
    "duration": 44,
    "start_time": "2021-12-10T09:29:05.691Z"
   },
   {
    "duration": 5,
    "start_time": "2021-12-10T09:29:05.737Z"
   },
   {
    "duration": 11,
    "start_time": "2021-12-10T09:29:05.744Z"
   },
   {
    "duration": 6,
    "start_time": "2021-12-10T09:29:05.757Z"
   },
   {
    "duration": 9,
    "start_time": "2021-12-10T09:29:05.765Z"
   },
   {
    "duration": 58,
    "start_time": "2021-12-10T09:29:05.778Z"
   },
   {
    "duration": 6,
    "start_time": "2021-12-10T09:29:05.838Z"
   },
   {
    "duration": 8,
    "start_time": "2021-12-10T09:29:05.847Z"
   },
   {
    "duration": 18,
    "start_time": "2021-12-10T09:29:05.859Z"
   },
   {
    "duration": 5,
    "start_time": "2021-12-10T09:29:05.880Z"
   },
   {
    "duration": 41,
    "start_time": "2021-12-10T09:29:05.887Z"
   },
   {
    "duration": 5,
    "start_time": "2021-12-10T09:29:05.930Z"
   },
   {
    "duration": 3,
    "start_time": "2021-12-10T09:29:06.247Z"
   },
   {
    "duration": 5,
    "start_time": "2021-12-10T09:29:06.253Z"
   },
   {
    "duration": 54,
    "start_time": "2021-12-10T09:29:06.274Z"
   },
   {
    "duration": 8,
    "start_time": "2021-12-10T09:29:10.083Z"
   },
   {
    "duration": 17,
    "start_time": "2021-12-10T09:29:10.094Z"
   },
   {
    "duration": 9,
    "start_time": "2021-12-10T09:29:10.124Z"
   },
   {
    "duration": 117,
    "start_time": "2021-12-10T09:29:10.226Z"
   },
   {
    "duration": 14,
    "start_time": "2021-12-10T09:33:18.065Z"
   },
   {
    "duration": 11,
    "start_time": "2021-12-10T09:33:22.284Z"
   },
   {
    "duration": 11,
    "start_time": "2021-12-10T09:33:36.792Z"
   },
   {
    "duration": 48,
    "start_time": "2021-12-10T09:34:06.045Z"
   },
   {
    "duration": 46,
    "start_time": "2021-12-10T09:34:53.804Z"
   },
   {
    "duration": 426,
    "start_time": "2021-12-10T09:35:14.914Z"
   },
   {
    "duration": 5,
    "start_time": "2021-12-10T09:35:30.014Z"
   },
   {
    "duration": 452,
    "start_time": "2021-12-10T09:35:30.674Z"
   },
   {
    "duration": 16,
    "start_time": "2021-12-10T09:35:31.129Z"
   },
   {
    "duration": 22,
    "start_time": "2021-12-10T09:35:31.149Z"
   },
   {
    "duration": 48,
    "start_time": "2021-12-10T09:35:32.684Z"
   },
   {
    "duration": 46,
    "start_time": "2021-12-10T09:35:32.735Z"
   },
   {
    "duration": 67,
    "start_time": "2021-12-10T09:35:32.784Z"
   },
   {
    "duration": 16,
    "start_time": "2021-12-10T09:35:36.494Z"
   },
   {
    "duration": 24,
    "start_time": "2021-12-10T09:35:36.513Z"
   },
   {
    "duration": 33,
    "start_time": "2021-12-10T09:35:36.540Z"
   },
   {
    "duration": 14,
    "start_time": "2021-12-10T09:35:36.575Z"
   },
   {
    "duration": 13,
    "start_time": "2021-12-10T09:35:39.074Z"
   },
   {
    "duration": 12,
    "start_time": "2021-12-10T09:35:39.090Z"
   },
   {
    "duration": 12,
    "start_time": "2021-12-10T09:35:39.105Z"
   },
   {
    "duration": 12,
    "start_time": "2021-12-10T09:35:50.004Z"
   },
   {
    "duration": 22,
    "start_time": "2021-12-10T09:35:50.019Z"
   },
   {
    "duration": 6,
    "start_time": "2021-12-10T09:35:50.044Z"
   },
   {
    "duration": 5,
    "start_time": "2021-12-10T09:35:52.045Z"
   },
   {
    "duration": 7,
    "start_time": "2021-12-10T09:35:52.052Z"
   },
   {
    "duration": 9,
    "start_time": "2021-12-10T09:35:52.063Z"
   },
   {
    "duration": 17,
    "start_time": "2021-12-10T09:35:54.154Z"
   },
   {
    "duration": 5,
    "start_time": "2021-12-10T09:35:54.173Z"
   },
   {
    "duration": 6,
    "start_time": "2021-12-10T09:35:54.181Z"
   },
   {
    "duration": 18,
    "start_time": "2021-12-10T09:35:54.614Z"
   },
   {
    "duration": 5,
    "start_time": "2021-12-10T09:35:54.634Z"
   },
   {
    "duration": 6,
    "start_time": "2021-12-10T09:35:54.642Z"
   },
   {
    "duration": 3,
    "start_time": "2021-12-10T09:35:56.353Z"
   },
   {
    "duration": 6,
    "start_time": "2021-12-10T09:35:56.359Z"
   },
   {
    "duration": 3,
    "start_time": "2021-12-10T09:35:56.563Z"
   },
   {
    "duration": 24,
    "start_time": "2021-12-10T09:35:58.914Z"
   },
   {
    "duration": 10,
    "start_time": "2021-12-10T09:35:59.026Z"
   },
   {
    "duration": 15,
    "start_time": "2021-12-10T09:35:59.625Z"
   },
   {
    "duration": 87,
    "start_time": "2021-12-10T09:35:59.643Z"
   },
   {
    "duration": 14,
    "start_time": "2021-12-10T09:36:00.584Z"
   },
   {
    "duration": 44,
    "start_time": "2021-12-10T09:37:20.306Z"
   },
   {
    "duration": 284,
    "start_time": "2021-12-10T09:37:29.392Z"
   },
   {
    "duration": 49,
    "start_time": "2021-12-10T09:37:35.327Z"
   },
   {
    "duration": 12,
    "start_time": "2021-12-10T09:39:17.143Z"
   },
   {
    "duration": 14,
    "start_time": "2021-12-10T09:39:21.423Z"
   },
   {
    "duration": 14,
    "start_time": "2021-12-10T09:39:55.370Z"
   },
   {
    "duration": 353,
    "start_time": "2021-12-10T09:40:05.645Z"
   },
   {
    "duration": 12,
    "start_time": "2021-12-10T09:40:17.394Z"
   },
   {
    "duration": 15,
    "start_time": "2021-12-10T09:40:22.332Z"
   },
   {
    "duration": 11,
    "start_time": "2021-12-10T09:40:37.053Z"
   },
   {
    "duration": 15,
    "start_time": "2021-12-10T09:40:39.673Z"
   },
   {
    "duration": 5,
    "start_time": "2021-12-10T09:41:19.692Z"
   },
   {
    "duration": 402,
    "start_time": "2021-12-10T09:41:20.352Z"
   },
   {
    "duration": 11,
    "start_time": "2021-12-10T09:41:20.757Z"
   },
   {
    "duration": 17,
    "start_time": "2021-12-10T09:41:20.771Z"
   },
   {
    "duration": 71,
    "start_time": "2021-12-10T09:41:20.790Z"
   },
   {
    "duration": 16,
    "start_time": "2021-12-10T09:41:21.001Z"
   },
   {
    "duration": 15,
    "start_time": "2021-12-10T09:41:21.020Z"
   },
   {
    "duration": 14,
    "start_time": "2021-12-10T09:41:21.039Z"
   },
   {
    "duration": 46,
    "start_time": "2021-12-10T09:41:21.081Z"
   },
   {
    "duration": 12,
    "start_time": "2021-12-10T09:41:21.481Z"
   },
   {
    "duration": 14,
    "start_time": "2021-12-10T09:41:21.495Z"
   },
   {
    "duration": 42,
    "start_time": "2021-12-10T09:41:21.512Z"
   },
   {
    "duration": 13,
    "start_time": "2021-12-10T09:41:21.590Z"
   },
   {
    "duration": 11,
    "start_time": "2021-12-10T09:41:21.972Z"
   },
   {
    "duration": 18,
    "start_time": "2021-12-10T09:41:21.985Z"
   },
   {
    "duration": 17,
    "start_time": "2021-12-10T09:41:22.231Z"
   },
   {
    "duration": 4,
    "start_time": "2021-12-10T09:41:22.592Z"
   },
   {
    "duration": 6,
    "start_time": "2021-12-10T09:41:22.599Z"
   },
   {
    "duration": 7,
    "start_time": "2021-12-10T09:41:22.608Z"
   },
   {
    "duration": 4,
    "start_time": "2021-12-10T09:41:22.671Z"
   },
   {
    "duration": 18,
    "start_time": "2021-12-10T09:41:23.102Z"
   },
   {
    "duration": 5,
    "start_time": "2021-12-10T09:41:23.123Z"
   },
   {
    "duration": 6,
    "start_time": "2021-12-10T09:41:23.132Z"
   },
   {
    "duration": 17,
    "start_time": "2021-12-10T09:41:23.241Z"
   },
   {
    "duration": 5,
    "start_time": "2021-12-10T09:41:23.761Z"
   },
   {
    "duration": 7,
    "start_time": "2021-12-10T09:41:23.768Z"
   },
   {
    "duration": 12,
    "start_time": "2021-12-10T09:41:23.778Z"
   },
   {
    "duration": 12,
    "start_time": "2021-12-10T09:41:24.231Z"
   },
   {
    "duration": 12,
    "start_time": "2021-12-10T09:41:24.721Z"
   },
   {
    "duration": 91,
    "start_time": "2021-12-10T09:41:24.736Z"
   },
   {
    "duration": 7,
    "start_time": "2021-12-10T09:41:24.925Z"
   },
   {
    "duration": 20,
    "start_time": "2021-12-10T09:41:25.401Z"
   },
   {
    "duration": 103,
    "start_time": "2021-12-10T09:41:25.427Z"
   },
   {
    "duration": 61,
    "start_time": "2021-12-10T09:41:26.062Z"
   },
   {
    "duration": 5,
    "start_time": "2021-12-10T09:43:10.290Z"
   },
   {
    "duration": 438,
    "start_time": "2021-12-10T09:43:10.751Z"
   },
   {
    "duration": 12,
    "start_time": "2021-12-10T09:43:11.192Z"
   },
   {
    "duration": 32,
    "start_time": "2021-12-10T09:43:11.207Z"
   },
   {
    "duration": 48,
    "start_time": "2021-12-10T09:43:11.242Z"
   },
   {
    "duration": 17,
    "start_time": "2021-12-10T09:43:11.361Z"
   },
   {
    "duration": 17,
    "start_time": "2021-12-10T09:43:11.381Z"
   },
   {
    "duration": 16,
    "start_time": "2021-12-10T09:43:11.402Z"
   },
   {
    "duration": 46,
    "start_time": "2021-12-10T09:43:11.423Z"
   },
   {
    "duration": 12,
    "start_time": "2021-12-10T09:43:11.801Z"
   },
   {
    "duration": 20,
    "start_time": "2021-12-10T09:43:11.816Z"
   },
   {
    "duration": 47,
    "start_time": "2021-12-10T09:43:11.839Z"
   },
   {
    "duration": 13,
    "start_time": "2021-12-10T09:43:12.510Z"
   },
   {
    "duration": 11,
    "start_time": "2021-12-10T09:43:12.890Z"
   },
   {
    "duration": 15,
    "start_time": "2021-12-10T09:43:12.903Z"
   },
   {
    "duration": 17,
    "start_time": "2021-12-10T09:43:12.939Z"
   },
   {
    "duration": 5,
    "start_time": "2021-12-10T09:43:13.331Z"
   },
   {
    "duration": 8,
    "start_time": "2021-12-10T09:43:13.338Z"
   },
   {
    "duration": 7,
    "start_time": "2021-12-10T09:43:13.349Z"
   },
   {
    "duration": 5,
    "start_time": "2021-12-10T09:43:14.440Z"
   },
   {
    "duration": 18,
    "start_time": "2021-12-10T09:43:14.871Z"
   },
   {
    "duration": 5,
    "start_time": "2021-12-10T09:43:14.891Z"
   },
   {
    "duration": 9,
    "start_time": "2021-12-10T09:43:14.900Z"
   },
   {
    "duration": 17,
    "start_time": "2021-12-10T09:43:15.281Z"
   },
   {
    "duration": 6,
    "start_time": "2021-12-10T09:43:15.677Z"
   },
   {
    "duration": 6,
    "start_time": "2021-12-10T09:43:15.685Z"
   },
   {
    "duration": 4,
    "start_time": "2021-12-10T09:43:15.694Z"
   },
   {
    "duration": 3,
    "start_time": "2021-12-10T09:43:16.201Z"
   },
   {
    "duration": 8,
    "start_time": "2021-12-10T09:43:16.207Z"
   },
   {
    "duration": 92,
    "start_time": "2021-12-10T09:43:16.331Z"
   },
   {
    "duration": 7,
    "start_time": "2021-12-10T09:43:17.261Z"
   },
   {
    "duration": 16,
    "start_time": "2021-12-10T09:43:17.271Z"
   },
   {
    "duration": 8,
    "start_time": "2021-12-10T09:43:17.424Z"
   },
   {
    "duration": 20,
    "start_time": "2021-12-10T09:43:17.590Z"
   },
   {
    "duration": 9,
    "start_time": "2021-12-10T09:45:27.788Z"
   },
   {
    "duration": 13,
    "start_time": "2021-12-10T09:49:24.093Z"
   },
   {
    "duration": 301,
    "start_time": "2021-12-10T09:49:36.023Z"
   },
   {
    "duration": 11,
    "start_time": "2021-12-10T09:49:40.573Z"
   },
   {
    "duration": 283,
    "start_time": "2021-12-10T09:49:53.881Z"
   },
   {
    "duration": 6,
    "start_time": "2021-12-10T09:50:02.161Z"
   },
   {
    "duration": 15,
    "start_time": "2021-12-10T09:50:27.209Z"
   },
   {
    "duration": 15,
    "start_time": "2021-12-10T09:50:36.589Z"
   },
   {
    "duration": 11,
    "start_time": "2021-12-10T09:50:55.088Z"
   },
   {
    "duration": 45,
    "start_time": "2021-12-10T09:51:27.081Z"
   },
   {
    "duration": 19,
    "start_time": "2021-12-10T09:51:35.950Z"
   },
   {
    "duration": 1343,
    "start_time": "2021-12-10T10:22:43.124Z"
   },
   {
    "duration": 420,
    "start_time": "2021-12-10T10:22:44.470Z"
   },
   {
    "duration": 18,
    "start_time": "2021-12-10T10:22:44.893Z"
   },
   {
    "duration": 22,
    "start_time": "2021-12-10T10:22:44.913Z"
   },
   {
    "duration": 49,
    "start_time": "2021-12-10T10:22:44.937Z"
   },
   {
    "duration": 44,
    "start_time": "2021-12-10T10:22:44.989Z"
   },
   {
    "duration": 14,
    "start_time": "2021-12-10T10:22:45.035Z"
   },
   {
    "duration": 13,
    "start_time": "2021-12-10T10:22:45.053Z"
   },
   {
    "duration": 77,
    "start_time": "2021-12-10T10:22:45.069Z"
   },
   {
    "duration": 12,
    "start_time": "2021-12-10T10:22:45.148Z"
   },
   {
    "duration": 16,
    "start_time": "2021-12-10T10:22:45.162Z"
   },
   {
    "duration": 67,
    "start_time": "2021-12-10T10:22:45.181Z"
   },
   {
    "duration": 13,
    "start_time": "2021-12-10T10:22:45.250Z"
   },
   {
    "duration": 27,
    "start_time": "2021-12-10T10:22:45.266Z"
   },
   {
    "duration": 14,
    "start_time": "2021-12-10T10:22:45.296Z"
   },
   {
    "duration": 27,
    "start_time": "2021-12-10T10:22:45.312Z"
   },
   {
    "duration": 6,
    "start_time": "2021-12-10T10:22:45.342Z"
   },
   {
    "duration": 7,
    "start_time": "2021-12-10T10:22:45.350Z"
   },
   {
    "duration": 6,
    "start_time": "2021-12-10T10:22:45.360Z"
   },
   {
    "duration": 7,
    "start_time": "2021-12-10T10:22:45.369Z"
   },
   {
    "duration": 58,
    "start_time": "2021-12-10T10:22:45.379Z"
   },
   {
    "duration": 6,
    "start_time": "2021-12-10T10:22:45.440Z"
   },
   {
    "duration": 5,
    "start_time": "2021-12-10T10:22:45.451Z"
   },
   {
    "duration": 30,
    "start_time": "2021-12-10T10:22:45.459Z"
   },
   {
    "duration": 34,
    "start_time": "2021-12-10T10:22:45.491Z"
   },
   {
    "duration": 9,
    "start_time": "2021-12-10T10:22:45.527Z"
   },
   {
    "duration": 424,
    "start_time": "2021-12-10T10:22:45.538Z"
   },
   {
    "duration": 960,
    "start_time": "2021-12-10T10:22:45.004Z"
   },
   {
    "duration": 953,
    "start_time": "2021-12-10T10:22:45.012Z"
   },
   {
    "duration": 940,
    "start_time": "2021-12-10T10:22:45.027Z"
   },
   {
    "duration": 936,
    "start_time": "2021-12-10T10:22:45.032Z"
   },
   {
    "duration": 932,
    "start_time": "2021-12-10T10:22:45.037Z"
   },
   {
    "duration": 927,
    "start_time": "2021-12-10T10:22:45.044Z"
   },
   {
    "duration": 922,
    "start_time": "2021-12-10T10:22:45.050Z"
   },
   {
    "duration": 917,
    "start_time": "2021-12-10T10:22:45.056Z"
   },
   {
    "duration": 911,
    "start_time": "2021-12-10T10:22:45.063Z"
   },
   {
    "duration": 905,
    "start_time": "2021-12-10T10:22:45.071Z"
   },
   {
    "duration": 280,
    "start_time": "2021-12-10T10:25:46.808Z"
   },
   {
    "duration": 18,
    "start_time": "2021-12-10T10:37:51.781Z"
   },
   {
    "duration": 17,
    "start_time": "2021-12-10T10:37:57.710Z"
   },
   {
    "duration": 16,
    "start_time": "2021-12-10T10:38:46.604Z"
   },
   {
    "duration": 7,
    "start_time": "2021-12-10T10:38:48.378Z"
   },
   {
    "duration": 12,
    "start_time": "2021-12-10T10:38:54.594Z"
   },
   {
    "duration": 294,
    "start_time": "2021-12-10T10:38:54.949Z"
   },
   {
    "duration": 5,
    "start_time": "2021-12-10T10:39:24.096Z"
   },
   {
    "duration": 462,
    "start_time": "2021-12-10T10:39:24.116Z"
   },
   {
    "duration": 12,
    "start_time": "2021-12-10T10:39:24.580Z"
   },
   {
    "duration": 31,
    "start_time": "2021-12-10T10:39:24.595Z"
   },
   {
    "duration": 67,
    "start_time": "2021-12-10T10:39:24.629Z"
   },
   {
    "duration": 13,
    "start_time": "2021-12-10T10:39:24.699Z"
   },
   {
    "duration": 34,
    "start_time": "2021-12-10T10:39:24.714Z"
   },
   {
    "duration": 30,
    "start_time": "2021-12-10T10:39:24.750Z"
   },
   {
    "duration": 54,
    "start_time": "2021-12-10T10:39:24.783Z"
   },
   {
    "duration": 13,
    "start_time": "2021-12-10T10:39:24.840Z"
   },
   {
    "duration": 28,
    "start_time": "2021-12-10T10:39:24.856Z"
   },
   {
    "duration": 56,
    "start_time": "2021-12-10T10:39:24.887Z"
   },
   {
    "duration": 13,
    "start_time": "2021-12-10T10:39:24.946Z"
   },
   {
    "duration": 35,
    "start_time": "2021-12-10T10:39:24.962Z"
   },
   {
    "duration": 24,
    "start_time": "2021-12-10T10:39:24.999Z"
   },
   {
    "duration": 26,
    "start_time": "2021-12-10T10:39:25.026Z"
   },
   {
    "duration": 5,
    "start_time": "2021-12-10T10:39:25.055Z"
   },
   {
    "duration": 40,
    "start_time": "2021-12-10T10:39:25.062Z"
   },
   {
    "duration": 20,
    "start_time": "2021-12-10T10:39:25.104Z"
   },
   {
    "duration": 8,
    "start_time": "2021-12-10T10:39:25.126Z"
   },
   {
    "duration": 20,
    "start_time": "2021-12-10T10:39:25.136Z"
   },
   {
    "duration": 5,
    "start_time": "2021-12-10T10:39:25.158Z"
   },
   {
    "duration": 13,
    "start_time": "2021-12-10T10:39:25.165Z"
   },
   {
    "duration": 49,
    "start_time": "2021-12-10T10:39:25.181Z"
   },
   {
    "duration": 6,
    "start_time": "2021-12-10T10:39:25.232Z"
   },
   {
    "duration": 15,
    "start_time": "2021-12-10T10:39:25.240Z"
   },
   {
    "duration": 7,
    "start_time": "2021-12-10T10:39:25.257Z"
   },
   {
    "duration": 17,
    "start_time": "2021-12-10T10:39:25.269Z"
   },
   {
    "duration": 5,
    "start_time": "2021-12-10T10:39:25.289Z"
   },
   {
    "duration": 38,
    "start_time": "2021-12-10T10:39:25.296Z"
   },
   {
    "duration": 98,
    "start_time": "2021-12-10T10:39:25.425Z"
   },
   {
    "duration": 18,
    "start_time": "2021-12-10T10:39:25.526Z"
   },
   {
    "duration": 103,
    "start_time": "2021-12-10T10:39:25.625Z"
   },
   {
    "duration": 18,
    "start_time": "2021-12-10T10:39:25.731Z"
   },
   {
    "duration": 176,
    "start_time": "2021-12-10T10:39:25.752Z"
   },
   {
    "duration": 15,
    "start_time": "2021-12-10T10:49:37.265Z"
   },
   {
    "duration": 6,
    "start_time": "2021-12-10T11:13:36.223Z"
   },
   {
    "duration": 421,
    "start_time": "2021-12-10T11:13:36.241Z"
   },
   {
    "duration": 12,
    "start_time": "2021-12-10T11:13:36.664Z"
   },
   {
    "duration": 21,
    "start_time": "2021-12-10T11:13:36.679Z"
   },
   {
    "duration": 58,
    "start_time": "2021-12-10T11:13:36.703Z"
   },
   {
    "duration": 13,
    "start_time": "2021-12-10T11:13:36.764Z"
   },
   {
    "duration": 13,
    "start_time": "2021-12-10T11:13:36.780Z"
   },
   {
    "duration": 36,
    "start_time": "2021-12-10T11:13:36.795Z"
   },
   {
    "duration": 45,
    "start_time": "2021-12-10T11:13:36.833Z"
   },
   {
    "duration": 11,
    "start_time": "2021-12-10T11:13:36.882Z"
   },
   {
    "duration": 13,
    "start_time": "2021-12-10T11:13:36.924Z"
   },
   {
    "duration": 46,
    "start_time": "2021-12-10T11:13:36.939Z"
   },
   {
    "duration": 37,
    "start_time": "2021-12-10T11:13:36.988Z"
   },
   {
    "duration": 13,
    "start_time": "2021-12-10T11:13:37.027Z"
   },
   {
    "duration": 19,
    "start_time": "2021-12-10T11:13:37.042Z"
   },
   {
    "duration": 22,
    "start_time": "2021-12-10T11:13:37.064Z"
   },
   {
    "duration": 6,
    "start_time": "2021-12-10T11:13:37.089Z"
   },
   {
    "duration": 6,
    "start_time": "2021-12-10T11:13:37.124Z"
   },
   {
    "duration": 8,
    "start_time": "2021-12-10T11:13:37.133Z"
   },
   {
    "duration": 8,
    "start_time": "2021-12-10T11:13:37.143Z"
   },
   {
    "duration": 18,
    "start_time": "2021-12-10T11:13:37.153Z"
   },
   {
    "duration": 4,
    "start_time": "2021-12-10T11:13:37.173Z"
   },
   {
    "duration": 47,
    "start_time": "2021-12-10T11:13:37.179Z"
   },
   {
    "duration": 22,
    "start_time": "2021-12-10T11:13:37.229Z"
   },
   {
    "duration": 5,
    "start_time": "2021-12-10T11:13:37.253Z"
   },
   {
    "duration": 4,
    "start_time": "2021-12-10T11:13:37.260Z"
   },
   {
    "duration": 2,
    "start_time": "2021-12-10T11:13:37.266Z"
   },
   {
    "duration": 10,
    "start_time": "2021-12-10T11:13:37.273Z"
   },
   {
    "duration": 3,
    "start_time": "2021-12-10T11:13:37.324Z"
   },
   {
    "duration": 98,
    "start_time": "2021-12-10T11:13:37.329Z"
   },
   {
    "duration": 95,
    "start_time": "2021-12-10T11:13:37.434Z"
   },
   {
    "duration": 15,
    "start_time": "2021-12-10T11:13:37.531Z"
   },
   {
    "duration": 179,
    "start_time": "2021-12-10T11:13:37.549Z"
   },
   {
    "duration": 93,
    "start_time": "2021-12-10T11:13:37.730Z"
   },
   {
    "duration": 98,
    "start_time": "2021-12-10T11:13:37.827Z"
   },
   {
    "duration": 17,
    "start_time": "2021-12-10T11:14:56.026Z"
   },
   {
    "duration": 26,
    "start_time": "2021-12-10T11:15:20.075Z"
   },
   {
    "duration": 17,
    "start_time": "2021-12-10T11:15:24.795Z"
   },
   {
    "duration": 19,
    "start_time": "2021-12-10T11:17:34.529Z"
   },
   {
    "duration": 173,
    "start_time": "2021-12-10T11:22:57.059Z"
   },
   {
    "duration": 312,
    "start_time": "2021-12-10T11:23:02.947Z"
   },
   {
    "duration": 11,
    "start_time": "2021-12-10T11:23:20.008Z"
   },
   {
    "duration": 551,
    "start_time": "2021-12-10T11:23:20.409Z"
   },
   {
    "duration": 13,
    "start_time": "2021-12-10T11:23:20.963Z"
   },
   {
    "duration": 16,
    "start_time": "2021-12-10T11:23:20.979Z"
   },
   {
    "duration": 53,
    "start_time": "2021-12-10T11:23:21.188Z"
   },
   {
    "duration": 17,
    "start_time": "2021-12-10T11:23:21.599Z"
   },
   {
    "duration": 21,
    "start_time": "2021-12-10T11:23:21.619Z"
   },
   {
    "duration": 17,
    "start_time": "2021-12-10T11:23:21.643Z"
   },
   {
    "duration": 50,
    "start_time": "2021-12-10T11:23:25.519Z"
   },
   {
    "duration": 12,
    "start_time": "2021-12-10T11:23:25.572Z"
   },
   {
    "duration": 38,
    "start_time": "2021-12-10T11:23:25.587Z"
   },
   {
    "duration": 47,
    "start_time": "2021-12-10T11:23:25.628Z"
   },
   {
    "duration": 18,
    "start_time": "2021-12-10T11:23:26.698Z"
   },
   {
    "duration": 17,
    "start_time": "2021-12-10T11:23:26.719Z"
   },
   {
    "duration": 17,
    "start_time": "2021-12-10T11:23:26.739Z"
   },
   {
    "duration": 308,
    "start_time": "2021-12-10T11:23:32.121Z"
   },
   {
    "duration": 16,
    "start_time": "2021-12-10T11:23:32.749Z"
   },
   {
    "duration": 15,
    "start_time": "2021-12-10T11:23:32.767Z"
   },
   {
    "duration": 18,
    "start_time": "2021-12-10T11:23:32.784Z"
   },
   {
    "duration": 5,
    "start_time": "2021-12-10T11:23:34.119Z"
   },
   {
    "duration": 24,
    "start_time": "2021-12-10T11:23:34.128Z"
   },
   {
    "duration": 6,
    "start_time": "2021-12-10T11:23:34.528Z"
   },
   {
    "duration": 6,
    "start_time": "2021-12-10T11:23:34.537Z"
   },
   {
    "duration": 24,
    "start_time": "2021-12-10T11:23:34.547Z"
   },
   {
    "duration": 6,
    "start_time": "2021-12-10T11:23:35.569Z"
   },
   {
    "duration": 11,
    "start_time": "2021-12-10T11:23:35.577Z"
   },
   {
    "duration": 31,
    "start_time": "2021-12-10T11:23:35.591Z"
   },
   {
    "duration": 6,
    "start_time": "2021-12-10T11:23:37.039Z"
   },
   {
    "duration": 12,
    "start_time": "2021-12-10T11:23:37.048Z"
   },
   {
    "duration": 10,
    "start_time": "2021-12-10T11:23:37.063Z"
   },
   {
    "duration": 3,
    "start_time": "2021-12-10T11:23:37.449Z"
   },
   {
    "duration": 6,
    "start_time": "2021-12-10T11:23:37.455Z"
   },
   {
    "duration": 88,
    "start_time": "2021-12-10T11:23:39.249Z"
   },
   {
    "duration": 8,
    "start_time": "2021-12-10T11:23:39.425Z"
   },
   {
    "duration": 315,
    "start_time": "2021-12-10T11:23:40.289Z"
   },
   {
    "duration": -8357,
    "start_time": "2021-12-10T11:23:48.964Z"
   },
   {
    "duration": 336,
    "start_time": "2021-12-10T11:23:41.288Z"
   },
   {
    "duration": -7361,
    "start_time": "2021-12-10T11:23:48.988Z"
   },
   {
    "duration": 5,
    "start_time": "2021-12-10T11:29:06.766Z"
   },
   {
    "duration": 417,
    "start_time": "2021-12-10T11:29:07.207Z"
   },
   {
    "duration": 11,
    "start_time": "2021-12-10T11:29:07.627Z"
   },
   {
    "duration": 13,
    "start_time": "2021-12-10T11:29:08.117Z"
   },
   {
    "duration": 52,
    "start_time": "2021-12-10T11:29:08.132Z"
   },
   {
    "duration": 44,
    "start_time": "2021-12-10T11:29:08.187Z"
   },
   {
    "duration": 15,
    "start_time": "2021-12-10T11:29:08.235Z"
   },
   {
    "duration": 12,
    "start_time": "2021-12-10T11:29:09.067Z"
   },
   {
    "duration": 44,
    "start_time": "2021-12-10T11:29:09.083Z"
   },
   {
    "duration": 11,
    "start_time": "2021-12-10T11:29:09.130Z"
   },
   {
    "duration": 13,
    "start_time": "2021-12-10T11:29:09.247Z"
   },
   {
    "duration": 45,
    "start_time": "2021-12-10T11:29:09.263Z"
   },
   {
    "duration": 17,
    "start_time": "2021-12-10T11:29:10.077Z"
   },
   {
    "duration": 16,
    "start_time": "2021-12-10T11:29:10.097Z"
   },
   {
    "duration": 15,
    "start_time": "2021-12-10T11:29:10.116Z"
   },
   {
    "duration": 387,
    "start_time": "2021-12-10T11:29:10.467Z"
   },
   {
    "duration": -502,
    "start_time": "2021-12-10T11:29:11.359Z"
   },
   {
    "duration": -508,
    "start_time": "2021-12-10T11:29:11.366Z"
   },
   {
    "duration": -511,
    "start_time": "2021-12-10T11:29:11.371Z"
   },
   {
    "duration": 273,
    "start_time": "2021-12-10T11:29:11.377Z"
   },
   {
    "duration": -1979,
    "start_time": "2021-12-10T11:29:13.632Z"
   },
   {
    "duration": -1983,
    "start_time": "2021-12-10T11:29:13.638Z"
   },
   {
    "duration": 18,
    "start_time": "2021-12-10T11:29:11.756Z"
   },
   {
    "duration": 5,
    "start_time": "2021-12-10T11:29:11.776Z"
   },
   {
    "duration": 10,
    "start_time": "2021-12-10T11:29:11.784Z"
   },
   {
    "duration": 26,
    "start_time": "2021-12-10T11:29:12.097Z"
   },
   {
    "duration": 6,
    "start_time": "2021-12-10T11:29:12.126Z"
   },
   {
    "duration": 6,
    "start_time": "2021-12-10T11:29:12.136Z"
   },
   {
    "duration": 3,
    "start_time": "2021-12-10T11:29:12.737Z"
   },
   {
    "duration": 9,
    "start_time": "2021-12-10T11:29:12.743Z"
   },
   {
    "duration": 3,
    "start_time": "2021-12-10T11:29:13.177Z"
   },
   {
    "duration": 394,
    "start_time": "2021-12-10T11:29:13.182Z"
   },
   {
    "duration": 268,
    "start_time": "2021-12-10T11:29:13.997Z"
   },
   {
    "duration": 187,
    "start_time": "2021-12-10T11:29:14.081Z"
   },
   {
    "duration": 182,
    "start_time": "2021-12-10T11:29:14.088Z"
   },
   {
    "duration": 178,
    "start_time": "2021-12-10T11:29:14.094Z"
   },
   {
    "duration": 174,
    "start_time": "2021-12-10T11:29:14.100Z"
   },
   {
    "duration": 339,
    "start_time": "2021-12-10T11:29:58.732Z"
   },
   {
    "duration": 8,
    "start_time": "2021-12-10T11:30:03.903Z"
   },
   {
    "duration": 546,
    "start_time": "2021-12-10T11:30:04.193Z"
   },
   {
    "duration": 13,
    "start_time": "2021-12-10T11:30:04.742Z"
   },
   {
    "duration": 24,
    "start_time": "2021-12-10T11:30:04.757Z"
   },
   {
    "duration": 68,
    "start_time": "2021-12-10T11:30:04.784Z"
   },
   {
    "duration": 14,
    "start_time": "2021-12-10T11:30:04.855Z"
   },
   {
    "duration": 12,
    "start_time": "2021-12-10T11:30:04.872Z"
   },
   {
    "duration": 43,
    "start_time": "2021-12-10T11:30:04.887Z"
   },
   {
    "duration": 48,
    "start_time": "2021-12-10T11:30:04.933Z"
   },
   {
    "duration": 14,
    "start_time": "2021-12-10T11:30:05.353Z"
   },
   {
    "duration": 18,
    "start_time": "2021-12-10T11:30:05.369Z"
   },
   {
    "duration": 45,
    "start_time": "2021-12-10T11:30:05.390Z"
   },
   {
    "duration": 17,
    "start_time": "2021-12-10T11:30:05.437Z"
   },
   {
    "duration": 18,
    "start_time": "2021-12-10T11:30:05.843Z"
   },
   {
    "duration": 16,
    "start_time": "2021-12-10T11:30:05.863Z"
   },
   {
    "duration": 10,
    "start_time": "2021-12-10T11:30:05.882Z"
   },
   {
    "duration": 7088,
    "start_time": "2021-12-10T11:30:05.982Z"
   },
   {
    "duration": 979,
    "start_time": "2021-12-10T11:30:12.096Z"
   },
   {
    "duration": 974,
    "start_time": "2021-12-10T11:30:12.103Z"
   },
   {
    "duration": 972,
    "start_time": "2021-12-10T11:30:12.108Z"
   },
   {
    "duration": 968,
    "start_time": "2021-12-10T11:30:12.114Z"
   },
   {
    "duration": 956,
    "start_time": "2021-12-10T11:30:12.128Z"
   },
   {
    "duration": 948,
    "start_time": "2021-12-10T11:30:12.137Z"
   },
   {
    "duration": 945,
    "start_time": "2021-12-10T11:30:12.142Z"
   },
   {
    "duration": 941,
    "start_time": "2021-12-10T11:30:12.147Z"
   },
   {
    "duration": 936,
    "start_time": "2021-12-10T11:30:12.154Z"
   },
   {
    "duration": 931,
    "start_time": "2021-12-10T11:30:12.160Z"
   },
   {
    "duration": 928,
    "start_time": "2021-12-10T11:30:12.165Z"
   },
   {
    "duration": 913,
    "start_time": "2021-12-10T11:30:12.181Z"
   },
   {
    "duration": 909,
    "start_time": "2021-12-10T11:30:12.187Z"
   },
   {
    "duration": 904,
    "start_time": "2021-12-10T11:30:12.193Z"
   },
   {
    "duration": 900,
    "start_time": "2021-12-10T11:30:12.198Z"
   },
   {
    "duration": 895,
    "start_time": "2021-12-10T11:30:12.205Z"
   },
   {
    "duration": 890,
    "start_time": "2021-12-10T11:30:12.211Z"
   },
   {
    "duration": 885,
    "start_time": "2021-12-10T11:30:12.217Z"
   },
   {
    "duration": 879,
    "start_time": "2021-12-10T11:30:12.225Z"
   },
   {
    "duration": 874,
    "start_time": "2021-12-10T11:30:12.231Z"
   },
   {
    "duration": 6,
    "start_time": "2021-12-10T11:30:38.887Z"
   },
   {
    "duration": 423,
    "start_time": "2021-12-10T11:30:39.457Z"
   },
   {
    "duration": 12,
    "start_time": "2021-12-10T11:30:39.883Z"
   },
   {
    "duration": 27,
    "start_time": "2021-12-10T11:30:39.898Z"
   },
   {
    "duration": 48,
    "start_time": "2021-12-10T11:30:39.927Z"
   },
   {
    "duration": 46,
    "start_time": "2021-12-10T11:30:39.977Z"
   },
   {
    "duration": 12,
    "start_time": "2021-12-10T11:30:40.026Z"
   },
   {
    "duration": 18,
    "start_time": "2021-12-10T11:30:40.041Z"
   },
   {
    "duration": 71,
    "start_time": "2021-12-10T11:30:40.061Z"
   },
   {
    "duration": 12,
    "start_time": "2021-12-10T11:30:40.538Z"
   },
   {
    "duration": 24,
    "start_time": "2021-12-10T11:30:40.553Z"
   },
   {
    "duration": 44,
    "start_time": "2021-12-10T11:30:40.580Z"
   },
   {
    "duration": 16,
    "start_time": "2021-12-10T11:30:40.627Z"
   },
   {
    "duration": 17,
    "start_time": "2021-12-10T11:30:40.997Z"
   },
   {
    "duration": 16,
    "start_time": "2021-12-10T11:30:41.017Z"
   },
   {
    "duration": 12,
    "start_time": "2021-12-10T11:30:41.035Z"
   },
   {
    "duration": 11,
    "start_time": "2021-12-10T11:30:41.437Z"
   },
   {
    "duration": 17,
    "start_time": "2021-12-10T11:30:42.117Z"
   },
   {
    "duration": 5,
    "start_time": "2021-12-10T11:30:42.136Z"
   },
   {
    "duration": 8,
    "start_time": "2021-12-10T11:30:42.143Z"
   },
   {
    "duration": 5,
    "start_time": "2021-12-10T11:30:42.246Z"
   },
   {
    "duration": 5,
    "start_time": "2021-12-10T11:30:42.896Z"
   },
   {
    "duration": 27,
    "start_time": "2021-12-10T11:30:42.904Z"
   },
   {
    "duration": 12,
    "start_time": "2021-12-10T11:30:42.934Z"
   },
   {
    "duration": 6,
    "start_time": "2021-12-10T11:30:42.976Z"
   },
   {
    "duration": 20,
    "start_time": "2021-12-10T11:30:43.827Z"
   },
   {
    "duration": 9,
    "start_time": "2021-12-10T11:30:43.850Z"
   },
   {
    "duration": 38,
    "start_time": "2021-12-10T11:30:43.862Z"
   },
   {
    "duration": 3,
    "start_time": "2021-12-10T11:30:44.667Z"
   },
   {
    "duration": 3,
    "start_time": "2021-12-10T11:30:45.037Z"
   },
   {
    "duration": 11,
    "start_time": "2021-12-10T11:30:45.043Z"
   },
   {
    "duration": 96,
    "start_time": "2021-12-10T11:30:45.227Z"
   },
   {
    "duration": 7,
    "start_time": "2021-12-10T11:30:45.607Z"
   },
   {
    "duration": 15,
    "start_time": "2021-12-10T11:30:45.616Z"
   },
   {
    "duration": 8,
    "start_time": "2021-12-10T11:30:46.437Z"
   },
   {
    "duration": 50,
    "start_time": "2021-12-10T11:30:46.777Z"
   },
   {
    "duration": 9,
    "start_time": "2021-12-10T11:30:46.922Z"
   },
   {
    "duration": 13,
    "start_time": "2021-12-10T11:39:43.856Z"
   },
   {
    "duration": 16,
    "start_time": "2021-12-10T11:39:47.496Z"
   },
   {
    "duration": 275,
    "start_time": "2021-12-10T11:41:52.329Z"
   },
   {
    "duration": 272,
    "start_time": "2021-12-10T11:41:59.861Z"
   },
   {
    "duration": 320,
    "start_time": "2021-12-10T11:42:05.275Z"
   },
   {
    "duration": 288,
    "start_time": "2021-12-10T11:42:15.470Z"
   },
   {
    "duration": 289,
    "start_time": "2021-12-10T11:42:31.520Z"
   },
   {
    "duration": 1265,
    "start_time": "2021-12-10T11:45:19.439Z"
   },
   {
    "duration": 514,
    "start_time": "2021-12-10T11:45:27.416Z"
   },
   {
    "duration": 386,
    "start_time": "2021-12-10T11:45:34.984Z"
   },
   {
    "duration": 233,
    "start_time": "2021-12-10T11:45:41.054Z"
   },
   {
    "duration": 275,
    "start_time": "2021-12-10T11:45:49.794Z"
   },
   {
    "duration": 3,
    "start_time": "2021-12-10T11:46:44.829Z"
   },
   {
    "duration": 3,
    "start_time": "2021-12-10T11:46:51.329Z"
   },
   {
    "duration": 900,
    "start_time": "2021-12-10T11:47:04.398Z"
   },
   {
    "duration": 540,
    "start_time": "2021-12-10T11:48:35.696Z"
   },
   {
    "duration": 5,
    "start_time": "2021-12-10T11:48:52.745Z"
   },
   {
    "duration": 493,
    "start_time": "2021-12-10T11:48:57.315Z"
   },
   {
    "duration": 287,
    "start_time": "2021-12-10T11:49:00.757Z"
   },
   {
    "duration": 273,
    "start_time": "2021-12-10T11:49:03.755Z"
   },
   {
    "duration": 2368,
    "start_time": "2021-12-10T11:50:34.193Z"
   },
   {
    "duration": 632,
    "start_time": "2021-12-10T11:50:58.571Z"
   },
   {
    "duration": 89,
    "start_time": "2021-12-10T11:51:59.272Z"
   },
   {
    "duration": 847,
    "start_time": "2021-12-10T11:52:02.323Z"
   },
   {
    "duration": 4,
    "start_time": "2021-12-10T11:53:22.603Z"
   },
   {
    "duration": 528,
    "start_time": "2021-12-10T11:53:23.766Z"
   },
   {
    "duration": 104,
    "start_time": "2021-12-10T11:53:54.659Z"
   },
   {
    "duration": 4,
    "start_time": "2021-12-10T11:54:00.768Z"
   },
   {
    "duration": 646,
    "start_time": "2021-12-10T11:54:03.798Z"
   },
   {
    "duration": 265,
    "start_time": "2021-12-10T11:54:26.239Z"
   },
   {
    "duration": 364,
    "start_time": "2021-12-10T11:54:29.410Z"
   },
   {
    "duration": 5,
    "start_time": "2021-12-10T11:54:32.724Z"
   },
   {
    "duration": 5,
    "start_time": "2021-12-10T11:54:39.905Z"
   },
   {
    "duration": 4,
    "start_time": "2021-12-10T11:54:49.330Z"
   },
   {
    "duration": 796,
    "start_time": "2021-12-10T11:54:59.066Z"
   },
   {
    "duration": 6,
    "start_time": "2021-12-10T11:55:21.876Z"
   },
   {
    "duration": 4,
    "start_time": "2021-12-10T11:55:27.169Z"
   },
   {
    "duration": 853,
    "start_time": "2021-12-10T11:55:27.848Z"
   },
   {
    "duration": 5,
    "start_time": "2021-12-10T11:55:40.874Z"
   },
   {
    "duration": 858,
    "start_time": "2021-12-10T11:55:40.944Z"
   },
   {
    "duration": 5,
    "start_time": "2021-12-10T11:56:09.419Z"
   },
   {
    "duration": 766,
    "start_time": "2021-12-10T11:56:09.960Z"
   },
   {
    "duration": 733,
    "start_time": "2021-12-10T11:56:23.951Z"
   },
   {
    "duration": 882,
    "start_time": "2021-12-10T11:56:24.857Z"
   },
   {
    "duration": 4,
    "start_time": "2021-12-10T11:56:31.867Z"
   },
   {
    "duration": 900,
    "start_time": "2021-12-10T11:56:31.916Z"
   },
   {
    "duration": 4,
    "start_time": "2021-12-10T11:56:40.429Z"
   },
   {
    "duration": 838,
    "start_time": "2021-12-10T11:56:41.950Z"
   },
   {
    "duration": 4,
    "start_time": "2021-12-10T11:56:47.439Z"
   },
   {
    "duration": 880,
    "start_time": "2021-12-10T11:56:47.727Z"
   },
   {
    "duration": 4,
    "start_time": "2021-12-10T11:57:43.918Z"
   },
   {
    "duration": 822,
    "start_time": "2021-12-10T11:57:44.419Z"
   },
   {
    "duration": 705,
    "start_time": "2021-12-10T11:57:56.245Z"
   },
   {
    "duration": 841,
    "start_time": "2021-12-10T11:58:14.232Z"
   },
   {
    "duration": 4,
    "start_time": "2021-12-10T11:59:59.838Z"
   },
   {
    "duration": 824,
    "start_time": "2021-12-10T12:00:01.914Z"
   },
   {
    "duration": 5,
    "start_time": "2021-12-10T12:00:30.018Z"
   },
   {
    "duration": 859,
    "start_time": "2021-12-10T12:00:30.557Z"
   },
   {
    "duration": 423,
    "start_time": "2021-12-10T12:49:13.151Z"
   },
   {
    "duration": 296,
    "start_time": "2021-12-10T12:50:47.455Z"
   },
   {
    "duration": 90,
    "start_time": "2021-12-10T12:50:59.789Z"
   },
   {
    "duration": 122,
    "start_time": "2021-12-10T12:51:04.588Z"
   },
   {
    "duration": 354,
    "start_time": "2021-12-10T12:51:14.089Z"
   },
   {
    "duration": 572,
    "start_time": "2021-12-10T12:53:08.423Z"
   },
   {
    "duration": 22,
    "start_time": "2021-12-10T12:53:24.457Z"
   },
   {
    "duration": 263,
    "start_time": "2021-12-10T12:54:33.967Z"
   },
   {
    "duration": 338,
    "start_time": "2021-12-10T12:54:37.260Z"
   },
   {
    "duration": 1093,
    "start_time": "2021-12-10T12:54:48.891Z"
   },
   {
    "duration": 1077,
    "start_time": "2021-12-10T12:54:48.909Z"
   },
   {
    "duration": 279,
    "start_time": "2021-12-10T12:54:56.995Z"
   },
   {
    "duration": 283,
    "start_time": "2021-12-10T12:55:27.423Z"
   },
   {
    "duration": 9,
    "start_time": "2021-12-10T12:55:38.673Z"
   },
   {
    "duration": 93,
    "start_time": "2021-12-10T12:56:37.479Z"
   },
   {
    "duration": 305,
    "start_time": "2021-12-10T12:56:43.009Z"
   },
   {
    "duration": 301,
    "start_time": "2021-12-10T12:56:49.169Z"
   },
   {
    "duration": 8,
    "start_time": "2021-12-10T12:59:23.916Z"
   },
   {
    "duration": 95,
    "start_time": "2021-12-10T12:59:24.405Z"
   },
   {
    "duration": 5,
    "start_time": "2021-12-10T12:59:32.176Z"
   },
   {
    "duration": 920,
    "start_time": "2021-12-10T12:59:54.304Z"
   },
   {
    "duration": 6,
    "start_time": "2021-12-10T13:00:17.799Z"
   },
   {
    "duration": 594,
    "start_time": "2021-12-10T13:00:18.628Z"
   },
   {
    "duration": 4,
    "start_time": "2021-12-10T13:02:35.472Z"
   },
   {
    "duration": 737,
    "start_time": "2021-12-10T13:02:36.160Z"
   },
   {
    "duration": 4,
    "start_time": "2021-12-10T13:07:31.875Z"
   },
   {
    "duration": 685,
    "start_time": "2021-12-10T13:07:32.504Z"
   },
   {
    "duration": 7,
    "start_time": "2021-12-10T13:09:54.935Z"
   },
   {
    "duration": 12,
    "start_time": "2021-12-10T13:09:54.945Z"
   },
   {
    "duration": 4,
    "start_time": "2021-12-10T13:09:55.044Z"
   },
   {
    "duration": 4,
    "start_time": "2021-12-10T13:10:11.324Z"
   },
   {
    "duration": 639,
    "start_time": "2021-12-10T13:10:11.755Z"
   },
   {
    "duration": 9,
    "start_time": "2021-12-10T13:10:34.207Z"
   },
   {
    "duration": 9,
    "start_time": "2021-12-10T13:10:46.504Z"
   },
   {
    "duration": 8,
    "start_time": "2021-12-10T13:10:54.351Z"
   },
   {
    "duration": 7,
    "start_time": "2021-12-10T13:11:04.607Z"
   },
   {
    "duration": 7,
    "start_time": "2021-12-10T13:11:04.986Z"
   },
   {
    "duration": 4,
    "start_time": "2021-12-10T13:11:05.816Z"
   },
   {
    "duration": 650,
    "start_time": "2021-12-10T13:11:06.296Z"
   },
   {
    "duration": 10,
    "start_time": "2021-12-10T13:11:23.288Z"
   },
   {
    "duration": 7,
    "start_time": "2021-12-10T13:11:30.797Z"
   },
   {
    "duration": 7,
    "start_time": "2021-12-10T13:15:00.558Z"
   },
   {
    "duration": 7,
    "start_time": "2021-12-10T13:15:00.578Z"
   },
   {
    "duration": 7,
    "start_time": "2021-12-10T13:15:00.588Z"
   },
   {
    "duration": 636,
    "start_time": "2021-12-10T13:15:00.598Z"
   },
   {
    "duration": 4,
    "start_time": "2021-12-10T13:15:38.742Z"
   },
   {
    "duration": 572,
    "start_time": "2021-12-10T13:15:38.785Z"
   },
   {
    "duration": 995,
    "start_time": "2021-12-10T13:18:12.291Z"
   },
   {
    "duration": 980,
    "start_time": "2021-12-10T13:18:12.307Z"
   },
   {
    "duration": 4,
    "start_time": "2021-12-10T13:18:27.690Z"
   },
   {
    "duration": 578,
    "start_time": "2021-12-10T13:18:28.160Z"
   },
   {
    "duration": 5,
    "start_time": "2021-12-10T13:20:26.720Z"
   },
   {
    "duration": 571,
    "start_time": "2021-12-10T13:20:27.280Z"
   },
   {
    "duration": 5,
    "start_time": "2021-12-10T13:21:03.129Z"
   },
   {
    "duration": 634,
    "start_time": "2021-12-10T13:21:03.971Z"
   },
   {
    "duration": 16,
    "start_time": "2021-12-10T13:21:58.021Z"
   },
   {
    "duration": 277,
    "start_time": "2021-12-10T13:22:15.709Z"
   },
   {
    "duration": 17,
    "start_time": "2021-12-10T13:22:33.591Z"
   },
   {
    "duration": 5,
    "start_time": "2021-12-10T13:23:34.407Z"
   },
   {
    "duration": 564,
    "start_time": "2021-12-10T13:23:34.817Z"
   },
   {
    "duration": 12,
    "start_time": "2021-12-10T13:23:35.383Z"
   },
   {
    "duration": 33,
    "start_time": "2021-12-10T13:23:35.399Z"
   },
   {
    "duration": 49,
    "start_time": "2021-12-10T13:23:35.436Z"
   },
   {
    "duration": 44,
    "start_time": "2021-12-10T13:23:35.488Z"
   },
   {
    "duration": 11,
    "start_time": "2021-12-10T13:23:35.534Z"
   },
   {
    "duration": 14,
    "start_time": "2021-12-10T13:23:35.547Z"
   },
   {
    "duration": 81,
    "start_time": "2021-12-10T13:23:35.563Z"
   },
   {
    "duration": 13,
    "start_time": "2021-12-10T13:23:35.648Z"
   },
   {
    "duration": 14,
    "start_time": "2021-12-10T13:23:35.664Z"
   },
   {
    "duration": 73,
    "start_time": "2021-12-10T13:23:35.681Z"
   },
   {
    "duration": 16,
    "start_time": "2021-12-10T13:23:35.757Z"
   },
   {
    "duration": 48,
    "start_time": "2021-12-10T13:23:35.776Z"
   },
   {
    "duration": 16,
    "start_time": "2021-12-10T13:23:35.827Z"
   },
   {
    "duration": 5,
    "start_time": "2021-12-10T13:23:35.845Z"
   },
   {
    "duration": 1215,
    "start_time": "2021-12-10T13:23:35.852Z"
   },
   {
    "duration": 1119,
    "start_time": "2021-12-10T13:23:35.953Z"
   },
   {
    "duration": 1114,
    "start_time": "2021-12-10T13:23:35.959Z"
   },
   {
    "duration": 1107,
    "start_time": "2021-12-10T13:23:35.967Z"
   },
   {
    "duration": 1102,
    "start_time": "2021-12-10T13:23:35.974Z"
   },
   {
    "duration": 1095,
    "start_time": "2021-12-10T13:23:35.982Z"
   },
   {
    "duration": 1089,
    "start_time": "2021-12-10T13:23:35.990Z"
   },
   {
    "duration": 1082,
    "start_time": "2021-12-10T13:23:35.998Z"
   },
   {
    "duration": 1074,
    "start_time": "2021-12-10T13:23:36.007Z"
   },
   {
    "duration": 1068,
    "start_time": "2021-12-10T13:23:36.015Z"
   },
   {
    "duration": 1042,
    "start_time": "2021-12-10T13:23:36.042Z"
   },
   {
    "duration": 1034,
    "start_time": "2021-12-10T13:23:36.051Z"
   },
   {
    "duration": 1028,
    "start_time": "2021-12-10T13:23:36.058Z"
   },
   {
    "duration": 1018,
    "start_time": "2021-12-10T13:23:36.069Z"
   },
   {
    "duration": 1013,
    "start_time": "2021-12-10T13:23:36.076Z"
   },
   {
    "duration": 1005,
    "start_time": "2021-12-10T13:23:36.085Z"
   },
   {
    "duration": 1032,
    "start_time": "2021-12-10T13:23:36.091Z"
   },
   {
    "duration": 1025,
    "start_time": "2021-12-10T13:23:36.099Z"
   },
   {
    "duration": 1020,
    "start_time": "2021-12-10T13:23:36.106Z"
   },
   {
    "duration": 1013,
    "start_time": "2021-12-10T13:23:36.114Z"
   },
   {
    "duration": 1008,
    "start_time": "2021-12-10T13:23:36.121Z"
   },
   {
    "duration": 954,
    "start_time": "2021-12-10T13:23:36.176Z"
   },
   {
    "duration": 931,
    "start_time": "2021-12-10T13:23:36.200Z"
   },
   {
    "duration": 924,
    "start_time": "2021-12-10T13:23:36.209Z"
   },
   {
    "duration": 918,
    "start_time": "2021-12-10T13:23:36.216Z"
   },
   {
    "duration": 900,
    "start_time": "2021-12-10T13:23:36.235Z"
   },
   {
    "duration": 887,
    "start_time": "2021-12-10T13:23:36.250Z"
   },
   {
    "duration": 872,
    "start_time": "2021-12-10T13:23:36.266Z"
   },
   {
    "duration": 859,
    "start_time": "2021-12-10T13:23:36.281Z"
   },
   {
    "duration": 853,
    "start_time": "2021-12-10T13:23:36.289Z"
   },
   {
    "duration": 849,
    "start_time": "2021-12-10T13:23:36.295Z"
   },
   {
    "duration": 4,
    "start_time": "2021-12-10T13:24:41.603Z"
   },
   {
    "duration": 5,
    "start_time": "2021-12-10T13:24:43.631Z"
   },
   {
    "duration": 578,
    "start_time": "2021-12-10T13:24:43.891Z"
   },
   {
    "duration": 6,
    "start_time": "2021-12-10T13:25:20.083Z"
   },
   {
    "duration": 3,
    "start_time": "2021-12-10T13:25:20.940Z"
   },
   {
    "duration": 5,
    "start_time": "2021-12-10T13:25:21.218Z"
   },
   {
    "duration": 17,
    "start_time": "2021-12-10T13:25:21.940Z"
   },
   {
    "duration": 4,
    "start_time": "2021-12-10T13:25:29.673Z"
   },
   {
    "duration": 4,
    "start_time": "2021-12-10T13:25:30.003Z"
   },
   {
    "duration": 5,
    "start_time": "2021-12-10T13:25:30.312Z"
   },
   {
    "duration": 16,
    "start_time": "2021-12-10T13:25:30.714Z"
   },
   {
    "duration": 89,
    "start_time": "2021-12-10T13:25:39.149Z"
   },
   {
    "duration": 4,
    "start_time": "2021-12-10T13:25:49.328Z"
   },
   {
    "duration": 3,
    "start_time": "2021-12-10T13:25:49.375Z"
   },
   {
    "duration": 5,
    "start_time": "2021-12-10T13:25:49.645Z"
   },
   {
    "duration": 16,
    "start_time": "2021-12-10T13:25:49.862Z"
   },
   {
    "duration": 15,
    "start_time": "2021-12-10T13:26:01.976Z"
   },
   {
    "duration": 6,
    "start_time": "2021-12-10T13:27:21.983Z"
   },
   {
    "duration": 3,
    "start_time": "2021-12-10T13:27:22.563Z"
   },
   {
    "duration": 4,
    "start_time": "2021-12-10T13:27:22.831Z"
   },
   {
    "duration": 668,
    "start_time": "2021-12-10T13:27:23.083Z"
   },
   {
    "duration": 9,
    "start_time": "2021-12-10T13:27:53.055Z"
   },
   {
    "duration": 3,
    "start_time": "2021-12-10T13:27:53.092Z"
   },
   {
    "duration": 4,
    "start_time": "2021-12-10T13:27:53.101Z"
   },
   {
    "duration": 15,
    "start_time": "2021-12-10T13:27:53.782Z"
   },
   {
    "duration": 6,
    "start_time": "2021-12-10T13:28:02.363Z"
   },
   {
    "duration": 431,
    "start_time": "2021-12-10T13:28:02.385Z"
   },
   {
    "duration": 16,
    "start_time": "2021-12-10T13:28:02.819Z"
   },
   {
    "duration": 19,
    "start_time": "2021-12-10T13:28:02.838Z"
   },
   {
    "duration": 76,
    "start_time": "2021-12-10T13:28:02.860Z"
   },
   {
    "duration": 15,
    "start_time": "2021-12-10T13:28:02.939Z"
   },
   {
    "duration": 15,
    "start_time": "2021-12-10T13:28:02.956Z"
   },
   {
    "duration": 49,
    "start_time": "2021-12-10T13:28:02.974Z"
   },
   {
    "duration": 48,
    "start_time": "2021-12-10T13:28:03.026Z"
   },
   {
    "duration": 12,
    "start_time": "2021-12-10T13:28:03.079Z"
   },
   {
    "duration": 14,
    "start_time": "2021-12-10T13:28:03.123Z"
   },
   {
    "duration": 49,
    "start_time": "2021-12-10T13:28:03.140Z"
   },
   {
    "duration": 44,
    "start_time": "2021-12-10T13:28:03.191Z"
   },
   {
    "duration": 18,
    "start_time": "2021-12-10T13:28:03.237Z"
   },
   {
    "duration": 16,
    "start_time": "2021-12-10T13:28:03.257Z"
   },
   {
    "duration": 5,
    "start_time": "2021-12-10T13:28:03.275Z"
   },
   {
    "duration": 822,
    "start_time": "2021-12-10T13:28:03.282Z"
   },
   {
    "duration": 931,
    "start_time": "2021-12-10T13:28:03.176Z"
   },
   {
    "duration": 927,
    "start_time": "2021-12-10T13:28:03.182Z"
   },
   {
    "duration": 921,
    "start_time": "2021-12-10T13:28:03.189Z"
   },
   {
    "duration": 927,
    "start_time": "2021-12-10T13:28:03.196Z"
   },
   {
    "duration": 921,
    "start_time": "2021-12-10T13:28:03.203Z"
   },
   {
    "duration": 917,
    "start_time": "2021-12-10T13:28:03.209Z"
   },
   {
    "duration": 910,
    "start_time": "2021-12-10T13:28:03.217Z"
   },
   {
    "duration": 905,
    "start_time": "2021-12-10T13:28:03.223Z"
   },
   {
    "duration": 877,
    "start_time": "2021-12-10T13:28:03.253Z"
   },
   {
    "duration": 844,
    "start_time": "2021-12-10T13:28:03.287Z"
   },
   {
    "duration": 828,
    "start_time": "2021-12-10T13:28:03.304Z"
   },
   {
    "duration": 797,
    "start_time": "2021-12-10T13:28:03.336Z"
   },
   {
    "duration": 768,
    "start_time": "2021-12-10T13:28:03.367Z"
   },
   {
    "duration": 761,
    "start_time": "2021-12-10T13:28:03.375Z"
   },
   {
    "duration": 755,
    "start_time": "2021-12-10T13:28:03.382Z"
   },
   {
    "duration": 749,
    "start_time": "2021-12-10T13:28:03.390Z"
   },
   {
    "duration": 743,
    "start_time": "2021-12-10T13:28:03.397Z"
   },
   {
    "duration": 736,
    "start_time": "2021-12-10T13:28:03.405Z"
   },
   {
    "duration": 731,
    "start_time": "2021-12-10T13:28:03.411Z"
   },
   {
    "duration": 725,
    "start_time": "2021-12-10T13:28:03.419Z"
   },
   {
    "duration": 720,
    "start_time": "2021-12-10T13:28:03.425Z"
   },
   {
    "duration": 713,
    "start_time": "2021-12-10T13:28:03.433Z"
   },
   {
    "duration": 709,
    "start_time": "2021-12-10T13:28:03.439Z"
   },
   {
    "duration": 703,
    "start_time": "2021-12-10T13:28:03.446Z"
   },
   {
    "duration": 695,
    "start_time": "2021-12-10T13:28:03.455Z"
   },
   {
    "duration": 689,
    "start_time": "2021-12-10T13:28:03.462Z"
   },
   {
    "duration": 667,
    "start_time": "2021-12-10T13:28:03.486Z"
   },
   {
    "duration": 660,
    "start_time": "2021-12-10T13:28:03.494Z"
   },
   {
    "duration": 655,
    "start_time": "2021-12-10T13:28:03.500Z"
   },
   {
    "duration": 649,
    "start_time": "2021-12-10T13:28:03.508Z"
   },
   {
    "duration": 13,
    "start_time": "2021-12-10T13:28:11.004Z"
   },
   {
    "duration": 3,
    "start_time": "2021-12-10T13:28:11.699Z"
   },
   {
    "duration": 3,
    "start_time": "2021-12-10T13:28:11.918Z"
   },
   {
    "duration": 6,
    "start_time": "2021-12-10T13:28:12.469Z"
   },
   {
    "duration": 3,
    "start_time": "2021-12-10T13:28:13.603Z"
   },
   {
    "duration": 4,
    "start_time": "2021-12-10T13:28:13.696Z"
   },
   {
    "duration": 15,
    "start_time": "2021-12-10T13:28:15.190Z"
   },
   {
    "duration": 16,
    "start_time": "2021-12-10T13:29:08.205Z"
   },
   {
    "duration": 4,
    "start_time": "2021-12-10T13:29:42.870Z"
   },
   {
    "duration": 729,
    "start_time": "2021-12-10T13:29:43.661Z"
   },
   {
    "duration": 5,
    "start_time": "2021-12-10T13:29:53.764Z"
   },
   {
    "duration": 894,
    "start_time": "2021-12-10T13:29:54.179Z"
   },
   {
    "duration": 642,
    "start_time": "2021-12-10T13:29:59.681Z"
   },
   {
    "duration": 899,
    "start_time": "2021-12-10T13:30:00.326Z"
   },
   {
    "duration": 5,
    "start_time": "2021-12-10T13:30:06.453Z"
   },
   {
    "duration": 440,
    "start_time": "2021-12-10T13:30:06.486Z"
   },
   {
    "duration": 13,
    "start_time": "2021-12-10T13:30:06.929Z"
   },
   {
    "duration": 15,
    "start_time": "2021-12-10T13:30:06.945Z"
   },
   {
    "duration": 78,
    "start_time": "2021-12-10T13:30:06.962Z"
   },
   {
    "duration": 15,
    "start_time": "2021-12-10T13:30:07.042Z"
   },
   {
    "duration": 14,
    "start_time": "2021-12-10T13:30:07.059Z"
   },
   {
    "duration": 15,
    "start_time": "2021-12-10T13:30:07.075Z"
   },
   {
    "duration": 75,
    "start_time": "2021-12-10T13:30:07.093Z"
   },
   {
    "duration": 12,
    "start_time": "2021-12-10T13:30:07.172Z"
   },
   {
    "duration": 42,
    "start_time": "2021-12-10T13:30:07.187Z"
   },
   {
    "duration": 46,
    "start_time": "2021-12-10T13:30:07.232Z"
   },
   {
    "duration": 17,
    "start_time": "2021-12-10T13:30:07.280Z"
   },
   {
    "duration": 19,
    "start_time": "2021-12-10T13:30:07.323Z"
   },
   {
    "duration": 18,
    "start_time": "2021-12-10T13:30:07.345Z"
   },
   {
    "duration": 4,
    "start_time": "2021-12-10T13:30:07.365Z"
   },
   {
    "duration": 809,
    "start_time": "2021-12-10T13:30:07.371Z"
   },
   {
    "duration": 782,
    "start_time": "2021-12-10T13:30:07.403Z"
   },
   {
    "duration": 772,
    "start_time": "2021-12-10T13:30:07.415Z"
   },
   {
    "duration": 768,
    "start_time": "2021-12-10T13:30:07.421Z"
   },
   {
    "duration": 760,
    "start_time": "2021-12-10T13:30:07.431Z"
   },
   {
    "duration": 756,
    "start_time": "2021-12-10T13:30:07.438Z"
   },
   {
    "duration": 748,
    "start_time": "2021-12-10T13:30:07.448Z"
   },
   {
    "duration": 730,
    "start_time": "2021-12-10T13:30:07.468Z"
   },
   {
    "duration": 748,
    "start_time": "2021-12-10T13:30:07.475Z"
   },
   {
    "duration": 743,
    "start_time": "2021-12-10T13:30:07.482Z"
   },
   {
    "duration": 730,
    "start_time": "2021-12-10T13:30:07.498Z"
   },
   {
    "duration": 726,
    "start_time": "2021-12-10T13:30:07.504Z"
   },
   {
    "duration": 721,
    "start_time": "2021-12-10T13:30:07.511Z"
   },
   {
    "duration": 716,
    "start_time": "2021-12-10T13:30:07.518Z"
   },
   {
    "duration": 711,
    "start_time": "2021-12-10T13:30:07.526Z"
   },
   {
    "duration": 706,
    "start_time": "2021-12-10T13:30:07.533Z"
   },
   {
    "duration": 702,
    "start_time": "2021-12-10T13:30:07.540Z"
   },
   {
    "duration": 697,
    "start_time": "2021-12-10T13:30:07.547Z"
   },
   {
    "duration": 692,
    "start_time": "2021-12-10T13:30:07.554Z"
   },
   {
    "duration": 687,
    "start_time": "2021-12-10T13:30:07.562Z"
   },
   {
    "duration": 667,
    "start_time": "2021-12-10T13:30:07.584Z"
   },
   {
    "duration": 663,
    "start_time": "2021-12-10T13:30:07.590Z"
   },
   {
    "duration": 657,
    "start_time": "2021-12-10T13:30:07.598Z"
   },
   {
    "duration": 652,
    "start_time": "2021-12-10T13:30:07.605Z"
   },
   {
    "duration": 646,
    "start_time": "2021-12-10T13:30:07.613Z"
   },
   {
    "duration": 641,
    "start_time": "2021-12-10T13:30:07.620Z"
   },
   {
    "duration": 696,
    "start_time": "2021-12-10T13:30:07.627Z"
   },
   {
    "duration": 690,
    "start_time": "2021-12-10T13:30:07.635Z"
   },
   {
    "duration": 680,
    "start_time": "2021-12-10T13:30:07.646Z"
   },
   {
    "duration": 675,
    "start_time": "2021-12-10T13:30:07.653Z"
   },
   {
    "duration": 669,
    "start_time": "2021-12-10T13:30:07.660Z"
   },
   {
    "duration": 5,
    "start_time": "2021-12-10T13:30:25.863Z"
   },
   {
    "duration": 542,
    "start_time": "2021-12-10T13:30:26.326Z"
   },
   {
    "duration": 5,
    "start_time": "2021-12-10T13:30:30.725Z"
   },
   {
    "duration": 865,
    "start_time": "2021-12-10T13:30:31.203Z"
   },
   {
    "duration": 5,
    "start_time": "2021-12-10T13:30:36.798Z"
   },
   {
    "duration": 834,
    "start_time": "2021-12-10T13:30:37.238Z"
   },
   {
    "duration": 5,
    "start_time": "2021-12-10T13:31:00.723Z"
   },
   {
    "duration": 535,
    "start_time": "2021-12-10T13:31:00.801Z"
   },
   {
    "duration": 13,
    "start_time": "2021-12-10T13:31:01.339Z"
   },
   {
    "duration": 25,
    "start_time": "2021-12-10T13:31:01.355Z"
   },
   {
    "duration": 64,
    "start_time": "2021-12-10T13:31:01.383Z"
   },
   {
    "duration": 14,
    "start_time": "2021-12-10T13:31:01.450Z"
   },
   {
    "duration": 21,
    "start_time": "2021-12-10T13:31:01.466Z"
   },
   {
    "duration": 38,
    "start_time": "2021-12-10T13:31:01.489Z"
   },
   {
    "duration": 46,
    "start_time": "2021-12-10T13:31:01.529Z"
   },
   {
    "duration": 12,
    "start_time": "2021-12-10T13:31:01.579Z"
   },
   {
    "duration": 38,
    "start_time": "2021-12-10T13:31:01.594Z"
   },
   {
    "duration": 49,
    "start_time": "2021-12-10T13:31:01.634Z"
   },
   {
    "duration": 42,
    "start_time": "2021-12-10T13:31:01.685Z"
   },
   {
    "duration": 16,
    "start_time": "2021-12-10T13:31:01.730Z"
   },
   {
    "duration": 17,
    "start_time": "2021-12-10T13:31:01.748Z"
   },
   {
    "duration": 5,
    "start_time": "2021-12-10T13:31:01.767Z"
   },
   {
    "duration": 821,
    "start_time": "2021-12-10T13:31:01.774Z"
   },
   {
    "duration": 1025,
    "start_time": "2021-12-10T13:31:01.573Z"
   },
   {
    "duration": 1019,
    "start_time": "2021-12-10T13:31:01.581Z"
   },
   {
    "duration": 1013,
    "start_time": "2021-12-10T13:31:01.588Z"
   },
   {
    "duration": 1006,
    "start_time": "2021-12-10T13:31:01.597Z"
   },
   {
    "duration": 1000,
    "start_time": "2021-12-10T13:31:01.604Z"
   },
   {
    "duration": 993,
    "start_time": "2021-12-10T13:31:01.613Z"
   },
   {
    "duration": 988,
    "start_time": "2021-12-10T13:31:01.619Z"
   },
   {
    "duration": 979,
    "start_time": "2021-12-10T13:31:01.629Z"
   },
   {
    "duration": 987,
    "start_time": "2021-12-10T13:31:01.636Z"
   },
   {
    "duration": 980,
    "start_time": "2021-12-10T13:31:01.644Z"
   },
   {
    "duration": 975,
    "start_time": "2021-12-10T13:31:01.651Z"
   },
   {
    "duration": 968,
    "start_time": "2021-12-10T13:31:01.659Z"
   },
   {
    "duration": 962,
    "start_time": "2021-12-10T13:31:01.666Z"
   },
   {
    "duration": 913,
    "start_time": "2021-12-10T13:31:01.717Z"
   },
   {
    "duration": 904,
    "start_time": "2021-12-10T13:31:01.727Z"
   },
   {
    "duration": 895,
    "start_time": "2021-12-10T13:31:01.737Z"
   },
   {
    "duration": 887,
    "start_time": "2021-12-10T13:31:01.747Z"
   },
   {
    "duration": 879,
    "start_time": "2021-12-10T13:31:01.756Z"
   },
   {
    "duration": 869,
    "start_time": "2021-12-10T13:31:01.767Z"
   },
   {
    "duration": 860,
    "start_time": "2021-12-10T13:31:01.777Z"
   },
   {
    "duration": 856,
    "start_time": "2021-12-10T13:31:01.783Z"
   },
   {
    "duration": 847,
    "start_time": "2021-12-10T13:31:01.793Z"
   },
   {
    "duration": 839,
    "start_time": "2021-12-10T13:31:01.802Z"
   },
   {
    "duration": 832,
    "start_time": "2021-12-10T13:31:01.811Z"
   },
   {
    "duration": 807,
    "start_time": "2021-12-10T13:31:01.837Z"
   },
   {
    "duration": 798,
    "start_time": "2021-12-10T13:31:01.848Z"
   },
   {
    "duration": 793,
    "start_time": "2021-12-10T13:31:01.855Z"
   },
   {
    "duration": 785,
    "start_time": "2021-12-10T13:31:01.864Z"
   },
   {
    "duration": 774,
    "start_time": "2021-12-10T13:31:01.877Z"
   },
   {
    "duration": 767,
    "start_time": "2021-12-10T13:31:01.886Z"
   },
   {
    "duration": 6,
    "start_time": "2021-12-10T13:32:00.689Z"
   },
   {
    "duration": 10,
    "start_time": "2021-12-10T13:36:15.316Z"
   },
   {
    "duration": 896,
    "start_time": "2021-12-10T13:36:20.329Z"
   },
   {
    "duration": 287,
    "start_time": "2021-12-10T13:36:58.084Z"
   },
   {
    "duration": 6,
    "start_time": "2021-12-10T13:37:01.283Z"
   },
   {
    "duration": 551,
    "start_time": "2021-12-10T13:37:01.364Z"
   },
   {
    "duration": 29,
    "start_time": "2021-12-10T13:37:01.921Z"
   },
   {
    "duration": 50,
    "start_time": "2021-12-10T13:37:01.954Z"
   },
   {
    "duration": 58,
    "start_time": "2021-12-10T13:37:02.007Z"
   },
   {
    "duration": 17,
    "start_time": "2021-12-10T13:37:02.068Z"
   },
   {
    "duration": 38,
    "start_time": "2021-12-10T13:37:02.087Z"
   },
   {
    "duration": 24,
    "start_time": "2021-12-10T13:37:02.129Z"
   },
   {
    "duration": 73,
    "start_time": "2021-12-10T13:37:02.156Z"
   },
   {
    "duration": 13,
    "start_time": "2021-12-10T13:37:02.233Z"
   },
   {
    "duration": 27,
    "start_time": "2021-12-10T13:37:02.249Z"
   },
   {
    "duration": 68,
    "start_time": "2021-12-10T13:37:02.278Z"
   },
   {
    "duration": 18,
    "start_time": "2021-12-10T13:37:02.350Z"
   },
   {
    "duration": 14,
    "start_time": "2021-12-10T13:37:02.371Z"
   },
   {
    "duration": 50,
    "start_time": "2021-12-10T13:37:02.387Z"
   },
   {
    "duration": 13,
    "start_time": "2021-12-10T13:37:02.440Z"
   },
   {
    "duration": 27,
    "start_time": "2021-12-10T13:37:02.456Z"
   },
   {
    "duration": 1006,
    "start_time": "2021-12-10T13:37:02.485Z"
   },
   {
    "duration": 671,
    "start_time": "2021-12-10T13:37:03.494Z"
   },
   {
    "duration": 987,
    "start_time": "2021-12-10T13:37:04.168Z"
   },
   {
    "duration": 314,
    "start_time": "2021-12-10T13:37:05.158Z"
   },
   {
    "duration": 887,
    "start_time": "2021-12-10T13:37:04.588Z"
   },
   {
    "duration": 844,
    "start_time": "2021-12-10T13:37:04.633Z"
   },
   {
    "duration": 807,
    "start_time": "2021-12-10T13:37:04.671Z"
   },
   {
    "duration": 800,
    "start_time": "2021-12-10T13:37:04.679Z"
   },
   {
    "duration": 793,
    "start_time": "2021-12-10T13:37:04.688Z"
   },
   {
    "duration": 787,
    "start_time": "2021-12-10T13:37:04.695Z"
   },
   {
    "duration": 779,
    "start_time": "2021-12-10T13:37:04.704Z"
   },
   {
    "duration": 773,
    "start_time": "2021-12-10T13:37:04.711Z"
   },
   {
    "duration": 766,
    "start_time": "2021-12-10T13:37:04.720Z"
   },
   {
    "duration": 732,
    "start_time": "2021-12-10T13:37:04.755Z"
   },
   {
    "duration": 703,
    "start_time": "2021-12-10T13:37:04.785Z"
   },
   {
    "duration": 674,
    "start_time": "2021-12-10T13:37:04.816Z"
   },
   {
    "duration": 636,
    "start_time": "2021-12-10T13:37:04.855Z"
   },
   {
    "duration": 629,
    "start_time": "2021-12-10T13:37:04.863Z"
   },
   {
    "duration": 624,
    "start_time": "2021-12-10T13:37:04.871Z"
   },
   {
    "duration": 620,
    "start_time": "2021-12-10T13:37:04.877Z"
   },
   {
    "duration": 613,
    "start_time": "2021-12-10T13:37:04.886Z"
   },
   {
    "duration": 607,
    "start_time": "2021-12-10T13:37:04.894Z"
   },
   {
    "duration": 601,
    "start_time": "2021-12-10T13:37:04.903Z"
   },
   {
    "duration": 596,
    "start_time": "2021-12-10T13:37:04.910Z"
   },
   {
    "duration": 590,
    "start_time": "2021-12-10T13:37:04.918Z"
   },
   {
    "duration": 587,
    "start_time": "2021-12-10T13:37:04.925Z"
   },
   {
    "duration": 580,
    "start_time": "2021-12-10T13:37:04.933Z"
   },
   {
    "duration": 554,
    "start_time": "2021-12-10T13:37:04.969Z"
   },
   {
    "duration": 548,
    "start_time": "2021-12-10T13:37:04.978Z"
   },
   {
    "duration": 520,
    "start_time": "2021-12-10T13:37:05.008Z"
   },
   {
    "duration": 493,
    "start_time": "2021-12-10T13:37:05.038Z"
   },
   {
    "duration": 8,
    "start_time": "2021-12-10T13:37:34.390Z"
   },
   {
    "duration": 684,
    "start_time": "2021-12-10T13:37:34.980Z"
   },
   {
    "duration": 18,
    "start_time": "2021-12-10T13:37:35.667Z"
   },
   {
    "duration": 36,
    "start_time": "2021-12-10T13:37:35.689Z"
   },
   {
    "duration": 47,
    "start_time": "2021-12-10T13:37:35.728Z"
   },
   {
    "duration": 15,
    "start_time": "2021-12-10T13:37:35.777Z"
   },
   {
    "duration": 33,
    "start_time": "2021-12-10T13:37:35.794Z"
   },
   {
    "duration": 31,
    "start_time": "2021-12-10T13:37:35.829Z"
   },
   {
    "duration": 71,
    "start_time": "2021-12-10T13:37:35.862Z"
   },
   {
    "duration": 13,
    "start_time": "2021-12-10T13:37:35.936Z"
   },
   {
    "duration": 35,
    "start_time": "2021-12-10T13:37:35.952Z"
   },
   {
    "duration": 49,
    "start_time": "2021-12-10T13:37:36.329Z"
   },
   {
    "duration": 16,
    "start_time": "2021-12-10T13:37:36.381Z"
   },
   {
    "duration": 21,
    "start_time": "2021-12-10T13:37:36.849Z"
   },
   {
    "duration": 16,
    "start_time": "2021-12-10T13:37:36.873Z"
   },
   {
    "duration": 28,
    "start_time": "2021-12-10T13:37:36.891Z"
   },
   {
    "duration": 22,
    "start_time": "2021-12-10T13:37:36.921Z"
   },
   {
    "duration": 859,
    "start_time": "2021-12-10T13:37:37.189Z"
   },
   {
    "duration": 673,
    "start_time": "2021-12-10T13:37:38.051Z"
   },
   {
    "duration": 905,
    "start_time": "2021-12-10T13:37:38.729Z"
   },
   {
    "duration": 3,
    "start_time": "2021-12-10T13:37:39.638Z"
   },
   {
    "duration": 12,
    "start_time": "2021-12-10T13:37:39.644Z"
   },
   {
    "duration": 17,
    "start_time": "2021-12-10T13:37:39.660Z"
   },
   {
    "duration": 12,
    "start_time": "2021-12-10T13:37:39.680Z"
   },
   {
    "duration": 15,
    "start_time": "2021-12-10T13:37:39.694Z"
   },
   {
    "duration": 23,
    "start_time": "2021-12-10T13:37:39.713Z"
   },
   {
    "duration": 16,
    "start_time": "2021-12-10T13:37:39.740Z"
   },
   {
    "duration": 30,
    "start_time": "2021-12-10T13:37:39.758Z"
   },
   {
    "duration": 7,
    "start_time": "2021-12-10T13:37:39.791Z"
   },
   {
    "duration": 12,
    "start_time": "2021-12-10T13:37:39.824Z"
   },
   {
    "duration": 13,
    "start_time": "2021-12-10T13:37:39.838Z"
   },
   {
    "duration": 23,
    "start_time": "2021-12-10T13:37:39.853Z"
   },
   {
    "duration": 29,
    "start_time": "2021-12-10T13:37:39.878Z"
   },
   {
    "duration": 6,
    "start_time": "2021-12-10T13:37:39.909Z"
   },
   {
    "duration": 5,
    "start_time": "2021-12-10T13:37:39.923Z"
   },
   {
    "duration": 23,
    "start_time": "2021-12-10T13:37:39.931Z"
   },
   {
    "duration": 4,
    "start_time": "2021-12-10T13:37:39.957Z"
   },
   {
    "duration": 9,
    "start_time": "2021-12-10T13:37:39.964Z"
   },
   {
    "duration": 6,
    "start_time": "2021-12-10T13:37:39.976Z"
   },
   {
    "duration": 4,
    "start_time": "2021-12-10T13:37:40.025Z"
   },
   {
    "duration": 10,
    "start_time": "2021-12-10T13:37:40.032Z"
   },
   {
    "duration": 82,
    "start_time": "2021-12-10T13:37:40.045Z"
   },
   {
    "duration": 93,
    "start_time": "2021-12-10T13:37:40.130Z"
   },
   {
    "duration": 97,
    "start_time": "2021-12-10T13:37:40.228Z"
   },
   {
    "duration": 104,
    "start_time": "2021-12-10T13:37:40.328Z"
   },
   {
    "duration": 92,
    "start_time": "2021-12-10T13:37:40.434Z"
   },
   {
    "duration": 95,
    "start_time": "2021-12-10T13:37:40.530Z"
   },
   {
    "duration": 2526,
    "start_time": "2021-12-10T19:10:12.069Z"
   },
   {
    "duration": 359,
    "start_time": "2021-12-10T19:10:14.597Z"
   },
   {
    "duration": 12,
    "start_time": "2021-12-10T19:10:14.958Z"
   },
   {
    "duration": 11,
    "start_time": "2021-12-10T19:10:14.972Z"
   },
   {
    "duration": 56,
    "start_time": "2021-12-10T19:10:14.985Z"
   },
   {
    "duration": 10,
    "start_time": "2021-12-10T19:10:15.042Z"
   },
   {
    "duration": 10,
    "start_time": "2021-12-10T19:10:15.054Z"
   },
   {
    "duration": 12,
    "start_time": "2021-12-10T19:10:15.067Z"
   },
   {
    "duration": 57,
    "start_time": "2021-12-10T19:10:15.082Z"
   },
   {
    "duration": 8,
    "start_time": "2021-12-10T19:10:15.141Z"
   },
   {
    "duration": 14,
    "start_time": "2021-12-10T19:10:15.151Z"
   },
   {
    "duration": 61,
    "start_time": "2021-12-10T19:10:15.167Z"
   },
   {
    "duration": 13,
    "start_time": "2021-12-10T19:10:15.230Z"
   },
   {
    "duration": 12,
    "start_time": "2021-12-10T19:10:15.245Z"
   },
   {
    "duration": 14,
    "start_time": "2021-12-10T19:10:15.259Z"
   },
   {
    "duration": 12,
    "start_time": "2021-12-10T19:10:15.307Z"
   },
   {
    "duration": 5,
    "start_time": "2021-12-10T19:10:15.321Z"
   },
   {
    "duration": 532,
    "start_time": "2021-12-10T19:10:15.328Z"
   },
   {
    "duration": 385,
    "start_time": "2021-12-10T19:10:15.862Z"
   },
   {
    "duration": 588,
    "start_time": "2021-12-10T19:10:16.249Z"
   },
   {
    "duration": 3,
    "start_time": "2021-12-10T19:10:16.838Z"
   },
   {
    "duration": 5,
    "start_time": "2021-12-10T19:10:16.842Z"
   },
   {
    "duration": 4,
    "start_time": "2021-12-10T19:10:16.850Z"
   },
   {
    "duration": 4,
    "start_time": "2021-12-10T19:10:16.856Z"
   },
   {
    "duration": 5,
    "start_time": "2021-12-10T19:10:16.861Z"
   },
   {
    "duration": 39,
    "start_time": "2021-12-10T19:10:16.867Z"
   },
   {
    "duration": 9,
    "start_time": "2021-12-10T19:10:16.908Z"
   },
   {
    "duration": 16,
    "start_time": "2021-12-10T19:10:16.919Z"
   },
   {
    "duration": 4,
    "start_time": "2021-12-10T19:10:16.937Z"
   },
   {
    "duration": 4,
    "start_time": "2021-12-10T19:10:16.943Z"
   },
   {
    "duration": 5,
    "start_time": "2021-12-10T19:10:16.949Z"
   },
   {
    "duration": 3,
    "start_time": "2021-12-10T19:10:16.956Z"
   },
   {
    "duration": 52,
    "start_time": "2021-12-10T19:10:16.961Z"
   },
   {
    "duration": 4,
    "start_time": "2021-12-10T19:10:17.014Z"
   },
   {
    "duration": 5,
    "start_time": "2021-12-10T19:10:17.019Z"
   },
   {
    "duration": 15,
    "start_time": "2021-12-10T19:10:17.026Z"
   },
   {
    "duration": 3,
    "start_time": "2021-12-10T19:10:17.043Z"
   },
   {
    "duration": 5,
    "start_time": "2021-12-10T19:10:17.047Z"
   },
   {
    "duration": 3,
    "start_time": "2021-12-10T19:10:17.053Z"
   },
   {
    "duration": 4,
    "start_time": "2021-12-10T19:10:17.058Z"
   },
   {
    "duration": 4,
    "start_time": "2021-12-10T19:10:17.064Z"
   },
   {
    "duration": 55,
    "start_time": "2021-12-10T19:10:17.070Z"
   },
   {
    "duration": 7,
    "start_time": "2021-12-10T19:10:17.209Z"
   },
   {
    "duration": 11,
    "start_time": "2021-12-10T19:10:17.442Z"
   },
   {
    "duration": 53,
    "start_time": "2021-12-10T19:10:17.459Z"
   },
   {
    "duration": 17,
    "start_time": "2021-12-10T19:10:18.196Z"
   },
   {
    "duration": 101,
    "start_time": "2021-12-10T19:10:18.216Z"
   },
   {
    "duration": 1477,
    "start_time": "2021-12-11T07:57:59.718Z"
   },
   {
    "duration": 467,
    "start_time": "2021-12-11T07:58:01.198Z"
   },
   {
    "duration": 17,
    "start_time": "2021-12-11T07:58:01.668Z"
   },
   {
    "duration": 27,
    "start_time": "2021-12-11T07:58:01.687Z"
   },
   {
    "duration": 68,
    "start_time": "2021-12-11T07:58:01.716Z"
   },
   {
    "duration": 15,
    "start_time": "2021-12-11T07:58:01.787Z"
   },
   {
    "duration": 21,
    "start_time": "2021-12-11T07:58:01.805Z"
   },
   {
    "duration": 39,
    "start_time": "2021-12-11T07:58:01.832Z"
   },
   {
    "duration": 53,
    "start_time": "2021-12-11T07:58:01.875Z"
   },
   {
    "duration": 38,
    "start_time": "2021-12-11T07:58:01.931Z"
   },
   {
    "duration": 18,
    "start_time": "2021-12-11T07:58:01.972Z"
   },
   {
    "duration": 82,
    "start_time": "2021-12-11T07:58:01.993Z"
   },
   {
    "duration": 17,
    "start_time": "2021-12-11T07:58:02.078Z"
   },
   {
    "duration": 18,
    "start_time": "2021-12-11T07:58:02.098Z"
   },
   {
    "duration": 39,
    "start_time": "2021-12-11T07:58:02.118Z"
   },
   {
    "duration": 25,
    "start_time": "2021-12-11T07:58:02.168Z"
   },
   {
    "duration": 37,
    "start_time": "2021-12-11T07:58:02.196Z"
   },
   {
    "duration": 889,
    "start_time": "2021-12-11T07:58:02.236Z"
   },
   {
    "duration": 662,
    "start_time": "2021-12-11T07:58:03.127Z"
   },
   {
    "duration": 1024,
    "start_time": "2021-12-11T07:58:03.791Z"
   },
   {
    "duration": 3,
    "start_time": "2021-12-11T07:58:04.818Z"
   },
   {
    "duration": 11,
    "start_time": "2021-12-11T07:58:04.823Z"
   },
   {
    "duration": 5,
    "start_time": "2021-12-11T07:58:04.839Z"
   },
   {
    "duration": 21,
    "start_time": "2021-12-11T07:58:04.847Z"
   },
   {
    "duration": 7,
    "start_time": "2021-12-11T07:58:04.871Z"
   },
   {
    "duration": 18,
    "start_time": "2021-12-11T07:58:04.881Z"
   },
   {
    "duration": 11,
    "start_time": "2021-12-11T07:58:04.901Z"
   },
   {
    "duration": 55,
    "start_time": "2021-12-11T07:58:04.914Z"
   },
   {
    "duration": 5,
    "start_time": "2021-12-11T07:58:04.971Z"
   },
   {
    "duration": 6,
    "start_time": "2021-12-11T07:58:04.978Z"
   },
   {
    "duration": 8,
    "start_time": "2021-12-11T07:58:04.986Z"
   },
   {
    "duration": 7,
    "start_time": "2021-12-11T07:58:04.997Z"
   },
   {
    "duration": 64,
    "start_time": "2021-12-11T07:58:05.007Z"
   },
   {
    "duration": 6,
    "start_time": "2021-12-11T07:58:05.074Z"
   },
   {
    "duration": 9,
    "start_time": "2021-12-11T07:58:05.083Z"
   },
   {
    "duration": 21,
    "start_time": "2021-12-11T07:58:05.094Z"
   },
   {
    "duration": 7,
    "start_time": "2021-12-11T07:58:05.117Z"
   },
   {
    "duration": 6,
    "start_time": "2021-12-11T07:58:05.166Z"
   },
   {
    "duration": 7,
    "start_time": "2021-12-11T07:58:05.174Z"
   },
   {
    "duration": 12,
    "start_time": "2021-12-11T07:58:05.183Z"
   },
   {
    "duration": 7,
    "start_time": "2021-12-11T07:58:05.197Z"
   },
   {
    "duration": 162,
    "start_time": "2021-12-11T07:58:05.206Z"
   },
   {
    "duration": 7,
    "start_time": "2021-12-11T07:58:05.370Z"
   },
   {
    "duration": 87,
    "start_time": "2021-12-11T07:58:05.380Z"
   },
   {
    "duration": 97,
    "start_time": "2021-12-11T07:58:05.472Z"
   },
   {
    "duration": 21,
    "start_time": "2021-12-11T07:58:05.571Z"
   },
   {
    "duration": 78,
    "start_time": "2021-12-11T07:58:05.595Z"
   },
   {
    "duration": 489,
    "start_time": "2021-12-11T07:58:54.097Z"
   },
   {
    "duration": 20,
    "start_time": "2021-12-11T07:59:05.431Z"
   },
   {
    "duration": 16,
    "start_time": "2021-12-11T07:59:07.975Z"
   },
   {
    "duration": 6,
    "start_time": "2021-12-11T08:02:59.910Z"
   },
   {
    "duration": 497,
    "start_time": "2021-12-11T08:02:59.925Z"
   },
   {
    "duration": 13,
    "start_time": "2021-12-11T08:03:00.425Z"
   },
   {
    "duration": 36,
    "start_time": "2021-12-11T08:03:00.441Z"
   },
   {
    "duration": 51,
    "start_time": "2021-12-11T08:03:00.480Z"
   },
   {
    "duration": 37,
    "start_time": "2021-12-11T08:03:00.533Z"
   },
   {
    "duration": 18,
    "start_time": "2021-12-11T08:03:00.573Z"
   },
   {
    "duration": 18,
    "start_time": "2021-12-11T08:03:00.594Z"
   },
   {
    "duration": 73,
    "start_time": "2021-12-11T08:03:00.615Z"
   },
   {
    "duration": 12,
    "start_time": "2021-12-11T08:03:00.692Z"
   },
   {
    "duration": 23,
    "start_time": "2021-12-11T08:03:00.707Z"
   },
   {
    "duration": 69,
    "start_time": "2021-12-11T08:03:00.732Z"
   },
   {
    "duration": 17,
    "start_time": "2021-12-11T08:03:00.803Z"
   },
   {
    "duration": 16,
    "start_time": "2021-12-11T08:03:00.823Z"
   },
   {
    "duration": 18,
    "start_time": "2021-12-11T08:03:00.867Z"
   },
   {
    "duration": 13,
    "start_time": "2021-12-11T08:03:00.887Z"
   },
   {
    "duration": 20,
    "start_time": "2021-12-11T08:03:00.903Z"
   },
   {
    "duration": 955,
    "start_time": "2021-12-11T08:03:00.925Z"
   },
   {
    "duration": 803,
    "start_time": "2021-12-11T08:03:01.883Z"
   },
   {
    "duration": 1001,
    "start_time": "2021-12-11T08:03:02.689Z"
   },
   {
    "duration": 3,
    "start_time": "2021-12-11T08:03:03.692Z"
   },
   {
    "duration": 13,
    "start_time": "2021-12-11T08:03:03.698Z"
   },
   {
    "duration": 24,
    "start_time": "2021-12-11T08:03:03.713Z"
   },
   {
    "duration": 27,
    "start_time": "2021-12-11T08:03:03.740Z"
   },
   {
    "duration": 9,
    "start_time": "2021-12-11T08:03:03.769Z"
   },
   {
    "duration": 21,
    "start_time": "2021-12-11T08:03:03.780Z"
   },
   {
    "duration": 11,
    "start_time": "2021-12-11T08:03:03.804Z"
   },
   {
    "duration": 48,
    "start_time": "2021-12-11T08:03:03.823Z"
   },
   {
    "duration": 7,
    "start_time": "2021-12-11T08:03:03.874Z"
   },
   {
    "duration": 9,
    "start_time": "2021-12-11T08:03:03.884Z"
   },
   {
    "duration": 7,
    "start_time": "2021-12-11T08:03:03.895Z"
   },
   {
    "duration": 7,
    "start_time": "2021-12-11T08:03:03.905Z"
   },
   {
    "duration": 67,
    "start_time": "2021-12-11T08:03:03.914Z"
   },
   {
    "duration": 6,
    "start_time": "2021-12-11T08:03:03.983Z"
   },
   {
    "duration": 12,
    "start_time": "2021-12-11T08:03:03.992Z"
   },
   {
    "duration": 21,
    "start_time": "2021-12-11T08:03:04.006Z"
   },
   {
    "duration": 37,
    "start_time": "2021-12-11T08:03:04.030Z"
   },
   {
    "duration": 5,
    "start_time": "2021-12-11T08:03:04.070Z"
   },
   {
    "duration": 15,
    "start_time": "2021-12-11T08:03:04.078Z"
   },
   {
    "duration": 16,
    "start_time": "2021-12-11T08:03:04.095Z"
   },
   {
    "duration": 22,
    "start_time": "2021-12-11T08:03:04.113Z"
   },
   {
    "duration": 129,
    "start_time": "2021-12-11T08:03:04.137Z"
   },
   {
    "duration": 98,
    "start_time": "2021-12-11T08:03:04.270Z"
   },
   {
    "duration": 15,
    "start_time": "2021-12-11T08:03:04.371Z"
   },
   {
    "duration": 183,
    "start_time": "2021-12-11T08:03:04.389Z"
   },
   {
    "duration": 18,
    "start_time": "2021-12-11T08:03:04.575Z"
   },
   {
    "duration": 10,
    "start_time": "2021-12-11T08:03:04.667Z"
   },
   {
    "duration": 5,
    "start_time": "2021-12-11T08:05:23.089Z"
   },
   {
    "duration": 3,
    "start_time": "2021-12-11T08:05:23.938Z"
   },
   {
    "duration": 5,
    "start_time": "2021-12-11T08:05:24.928Z"
   },
   {
    "duration": 610,
    "start_time": "2021-12-11T08:05:26.288Z"
   },
   {
    "duration": 5,
    "start_time": "2021-12-11T08:05:44.207Z"
   },
   {
    "duration": 4,
    "start_time": "2021-12-11T08:05:44.485Z"
   },
   {
    "duration": 4,
    "start_time": "2021-12-11T08:05:44.886Z"
   },
   {
    "duration": 15,
    "start_time": "2021-12-11T08:05:45.306Z"
   },
   {
    "duration": 5,
    "start_time": "2021-12-11T08:07:58.330Z"
   },
   {
    "duration": 17,
    "start_time": "2021-12-11T08:08:06.989Z"
   },
   {
    "duration": 5,
    "start_time": "2021-12-11T08:08:08.418Z"
   },
   {
    "duration": 319,
    "start_time": "2021-12-11T08:08:36.479Z"
   },
   {
    "duration": 563,
    "start_time": "2021-12-11T08:08:44.689Z"
   },
   {
    "duration": 243,
    "start_time": "2021-12-11T08:08:56.500Z"
   },
   {
    "duration": 6,
    "start_time": "2021-12-11T08:11:18.391Z"
   },
   {
    "duration": 5,
    "start_time": "2021-12-11T08:11:20.141Z"
   },
   {
    "duration": 81,
    "start_time": "2021-12-11T08:11:20.561Z"
   },
   {
    "duration": 4,
    "start_time": "2021-12-11T08:11:21.861Z"
   },
   {
    "duration": 27,
    "start_time": "2021-12-11T08:11:24.691Z"
   },
   {
    "duration": 7,
    "start_time": "2021-12-11T08:11:33.822Z"
   },
   {
    "duration": 4,
    "start_time": "2021-12-11T08:11:35.110Z"
   },
   {
    "duration": 19,
    "start_time": "2021-12-11T08:11:35.951Z"
   },
   {
    "duration": 5,
    "start_time": "2021-12-11T08:11:38.591Z"
   },
   {
    "duration": 19,
    "start_time": "2021-12-11T08:11:39.070Z"
   },
   {
    "duration": 205,
    "start_time": "2021-12-11T08:12:02.348Z"
   },
   {
    "duration": 5,
    "start_time": "2021-12-11T08:12:02.567Z"
   },
   {
    "duration": 33,
    "start_time": "2021-12-11T08:12:02.575Z"
   },
   {
    "duration": 6,
    "start_time": "2021-12-11T08:12:02.976Z"
   },
   {
    "duration": 6,
    "start_time": "2021-12-11T08:12:22.077Z"
   },
   {
    "duration": 4,
    "start_time": "2021-12-11T08:12:22.627Z"
   },
   {
    "duration": 21,
    "start_time": "2021-12-11T08:12:22.886Z"
   },
   {
    "duration": 6,
    "start_time": "2021-12-11T08:12:23.437Z"
   },
   {
    "duration": 6,
    "start_time": "2021-12-11T08:12:45.694Z"
   },
   {
    "duration": 505,
    "start_time": "2021-12-11T08:12:46.425Z"
   },
   {
    "duration": 14,
    "start_time": "2021-12-11T08:12:46.933Z"
   },
   {
    "duration": 29,
    "start_time": "2021-12-11T08:12:46.950Z"
   },
   {
    "duration": 50,
    "start_time": "2021-12-11T08:12:46.982Z"
   },
   {
    "duration": 17,
    "start_time": "2021-12-11T08:12:47.224Z"
   },
   {
    "duration": 14,
    "start_time": "2021-12-11T08:12:47.244Z"
   },
   {
    "duration": 14,
    "start_time": "2021-12-11T08:12:47.261Z"
   },
   {
    "duration": 49,
    "start_time": "2021-12-11T08:12:47.314Z"
   },
   {
    "duration": 14,
    "start_time": "2021-12-11T08:12:47.935Z"
   },
   {
    "duration": 16,
    "start_time": "2021-12-11T08:12:47.952Z"
   },
   {
    "duration": 48,
    "start_time": "2021-12-11T08:12:47.971Z"
   },
   {
    "duration": 17,
    "start_time": "2021-12-11T08:12:48.022Z"
   },
   {
    "duration": 17,
    "start_time": "2021-12-11T08:12:48.354Z"
   },
   {
    "duration": 18,
    "start_time": "2021-12-11T08:12:48.373Z"
   },
   {
    "duration": 11,
    "start_time": "2021-12-11T08:12:48.394Z"
   },
   {
    "duration": 5,
    "start_time": "2021-12-11T08:12:48.604Z"
   },
   {
    "duration": 886,
    "start_time": "2021-12-11T08:12:49.274Z"
   },
   {
    "duration": 743,
    "start_time": "2021-12-11T08:12:50.162Z"
   },
   {
    "duration": 927,
    "start_time": "2021-12-11T08:12:50.908Z"
   },
   {
    "duration": 6,
    "start_time": "2021-12-11T08:12:51.837Z"
   },
   {
    "duration": 24,
    "start_time": "2021-12-11T08:12:51.845Z"
   },
   {
    "duration": 36,
    "start_time": "2021-12-11T08:12:51.872Z"
   },
   {
    "duration": 5,
    "start_time": "2021-12-11T08:12:51.910Z"
   },
   {
    "duration": 59,
    "start_time": "2021-12-11T08:12:51.917Z"
   },
   {
    "duration": 5,
    "start_time": "2021-12-11T08:12:51.979Z"
   },
   {
    "duration": 263,
    "start_time": "2021-12-11T08:12:51.986Z"
   },
   {
    "duration": 17,
    "start_time": "2021-12-11T08:12:52.251Z"
   },
   {
    "duration": 34,
    "start_time": "2021-12-11T08:12:52.271Z"
   },
   {
    "duration": 18,
    "start_time": "2021-12-11T08:12:52.307Z"
   },
   {
    "duration": 29,
    "start_time": "2021-12-11T08:12:52.328Z"
   },
   {
    "duration": 15,
    "start_time": "2021-12-11T08:12:52.360Z"
   },
   {
    "duration": 24,
    "start_time": "2021-12-11T08:12:52.378Z"
   },
   {
    "duration": 26,
    "start_time": "2021-12-11T08:12:52.405Z"
   },
   {
    "duration": 10,
    "start_time": "2021-12-11T08:12:52.433Z"
   },
   {
    "duration": 11,
    "start_time": "2021-12-11T08:12:52.446Z"
   },
   {
    "duration": 27,
    "start_time": "2021-12-11T08:12:52.460Z"
   },
   {
    "duration": 4,
    "start_time": "2021-12-11T08:12:52.490Z"
   },
   {
    "duration": 4,
    "start_time": "2021-12-11T08:13:00.612Z"
   },
   {
    "duration": 19,
    "start_time": "2021-12-11T08:13:00.619Z"
   },
   {
    "duration": 4,
    "start_time": "2021-12-11T08:13:00.994Z"
   },
   {
    "duration": 25,
    "start_time": "2021-12-11T08:13:01.000Z"
   },
   {
    "duration": 36,
    "start_time": "2021-12-11T08:13:02.044Z"
   },
   {
    "duration": 93,
    "start_time": "2021-12-11T08:13:02.083Z"
   },
   {
    "duration": 100,
    "start_time": "2021-12-11T08:13:02.268Z"
   },
   {
    "duration": 8,
    "start_time": "2021-12-11T08:13:02.468Z"
   },
   {
    "duration": 29,
    "start_time": "2021-12-11T08:13:02.478Z"
   },
   {
    "duration": 8,
    "start_time": "2021-12-11T08:13:02.843Z"
   },
   {
    "duration": 5,
    "start_time": "2021-12-11T08:15:26.977Z"
   },
   {
    "duration": 4,
    "start_time": "2021-12-11T08:15:27.426Z"
   },
   {
    "duration": 21,
    "start_time": "2021-12-11T08:15:27.433Z"
   },
   {
    "duration": 5,
    "start_time": "2021-12-11T08:16:06.586Z"
   },
   {
    "duration": 18,
    "start_time": "2021-12-11T08:16:17.985Z"
   },
   {
    "duration": 5,
    "start_time": "2021-12-11T08:16:45.347Z"
   },
   {
    "duration": 68,
    "start_time": "2021-12-11T08:18:01.846Z"
   },
   {
    "duration": 6,
    "start_time": "2021-12-11T08:18:11.766Z"
   },
   {
    "duration": 453,
    "start_time": "2021-12-11T08:18:14.435Z"
   },
   {
    "duration": 12,
    "start_time": "2021-12-11T08:18:14.891Z"
   },
   {
    "duration": 15,
    "start_time": "2021-12-11T08:18:16.987Z"
   },
   {
    "duration": 50,
    "start_time": "2021-12-11T08:18:17.005Z"
   },
   {
    "duration": 21,
    "start_time": "2021-12-11T08:18:17.058Z"
   },
   {
    "duration": 12,
    "start_time": "2021-12-11T08:18:17.082Z"
   },
   {
    "duration": 14,
    "start_time": "2021-12-11T08:18:19.806Z"
   },
   {
    "duration": 48,
    "start_time": "2021-12-11T08:18:19.823Z"
   },
   {
    "duration": 12,
    "start_time": "2021-12-11T08:18:19.874Z"
   },
   {
    "duration": 14,
    "start_time": "2021-12-11T08:18:22.946Z"
   },
   {
    "duration": 47,
    "start_time": "2021-12-11T08:18:22.963Z"
   },
   {
    "duration": 17,
    "start_time": "2021-12-11T08:18:23.013Z"
   },
   {
    "duration": 17,
    "start_time": "2021-12-11T08:18:25.017Z"
   },
   {
    "duration": 18,
    "start_time": "2021-12-11T08:18:25.037Z"
   },
   {
    "duration": 17,
    "start_time": "2021-12-11T08:18:25.058Z"
   },
   {
    "duration": 5,
    "start_time": "2021-12-11T08:18:27.316Z"
   },
   {
    "duration": 866,
    "start_time": "2021-12-11T08:18:27.323Z"
   },
   {
    "duration": 666,
    "start_time": "2021-12-11T08:18:28.192Z"
   },
   {
    "duration": 990,
    "start_time": "2021-12-11T08:18:28.867Z"
   },
   {
    "duration": 7,
    "start_time": "2021-12-11T08:18:31.126Z"
   },
   {
    "duration": 75,
    "start_time": "2021-12-11T08:18:31.136Z"
   },
   {
    "duration": 10,
    "start_time": "2021-12-11T08:18:33.825Z"
   },
   {
    "duration": 40,
    "start_time": "2021-12-11T08:18:33.838Z"
   },
   {
    "duration": 5,
    "start_time": "2021-12-11T08:18:36.797Z"
   },
   {
    "duration": 8,
    "start_time": "2021-12-11T08:18:36.805Z"
   },
   {
    "duration": 7,
    "start_time": "2021-12-11T08:18:36.816Z"
   },
   {
    "duration": 9,
    "start_time": "2021-12-11T08:18:36.825Z"
   },
   {
    "duration": 17,
    "start_time": "2021-12-11T08:18:38.916Z"
   },
   {
    "duration": 5,
    "start_time": "2021-12-11T08:18:38.936Z"
   },
   {
    "duration": 5,
    "start_time": "2021-12-11T08:18:40.946Z"
   },
   {
    "duration": 22,
    "start_time": "2021-12-11T08:18:40.953Z"
   },
   {
    "duration": 5,
    "start_time": "2021-12-11T08:18:40.977Z"
   },
   {
    "duration": 6,
    "start_time": "2021-12-11T08:18:41.335Z"
   },
   {
    "duration": 3,
    "start_time": "2021-12-11T08:18:41.344Z"
   },
   {
    "duration": 5,
    "start_time": "2021-12-11T08:20:12.905Z"
   },
   {
    "duration": 440,
    "start_time": "2021-12-11T08:20:13.316Z"
   },
   {
    "duration": 14,
    "start_time": "2021-12-11T08:20:13.759Z"
   },
   {
    "duration": 16,
    "start_time": "2021-12-11T08:20:13.776Z"
   },
   {
    "duration": 72,
    "start_time": "2021-12-11T08:20:13.796Z"
   },
   {
    "duration": 15,
    "start_time": "2021-12-11T08:20:13.870Z"
   },
   {
    "duration": 15,
    "start_time": "2021-12-11T08:20:13.888Z"
   },
   {
    "duration": 15,
    "start_time": "2021-12-11T08:20:13.905Z"
   },
   {
    "duration": 50,
    "start_time": "2021-12-11T08:20:13.955Z"
   },
   {
    "duration": 13,
    "start_time": "2021-12-11T08:20:15.026Z"
   },
   {
    "duration": 27,
    "start_time": "2021-12-11T08:20:15.042Z"
   },
   {
    "duration": 49,
    "start_time": "2021-12-11T08:20:15.072Z"
   },
   {
    "duration": 45,
    "start_time": "2021-12-11T08:20:15.123Z"
   },
   {
    "duration": 17,
    "start_time": "2021-12-11T08:20:16.186Z"
   },
   {
    "duration": 18,
    "start_time": "2021-12-11T08:20:16.206Z"
   },
   {
    "duration": 13,
    "start_time": "2021-12-11T08:20:16.227Z"
   },
   {
    "duration": 4,
    "start_time": "2021-12-11T08:20:17.116Z"
   },
   {
    "duration": 867,
    "start_time": "2021-12-11T08:20:17.877Z"
   },
   {
    "duration": 682,
    "start_time": "2021-12-11T08:20:18.747Z"
   },
   {
    "duration": 1042,
    "start_time": "2021-12-11T08:20:19.432Z"
   },
   {
    "duration": 6,
    "start_time": "2021-12-11T08:20:20.477Z"
   },
   {
    "duration": 95,
    "start_time": "2021-12-11T08:20:20.486Z"
   },
   {
    "duration": 10,
    "start_time": "2021-12-11T08:20:20.583Z"
   },
   {
    "duration": 38,
    "start_time": "2021-12-11T08:20:20.595Z"
   },
   {
    "duration": 10,
    "start_time": "2021-12-11T08:20:20.636Z"
   },
   {
    "duration": 27,
    "start_time": "2021-12-11T08:20:20.649Z"
   },
   {
    "duration": 19,
    "start_time": "2021-12-11T08:20:20.678Z"
   },
   {
    "duration": 6,
    "start_time": "2021-12-11T08:20:20.785Z"
   },
   {
    "duration": 17,
    "start_time": "2021-12-11T08:20:21.606Z"
   },
   {
    "duration": 5,
    "start_time": "2021-12-11T08:20:21.626Z"
   },
   {
    "duration": 6,
    "start_time": "2021-12-11T08:20:21.634Z"
   },
   {
    "duration": 16,
    "start_time": "2021-12-11T08:20:22.016Z"
   },
   {
    "duration": 6,
    "start_time": "2021-12-11T08:20:22.746Z"
   },
   {
    "duration": 6,
    "start_time": "2021-12-11T08:20:22.755Z"
   },
   {
    "duration": 3,
    "start_time": "2021-12-11T08:20:22.815Z"
   },
   {
    "duration": 3,
    "start_time": "2021-12-11T08:20:23.886Z"
   },
   {
    "duration": 8,
    "start_time": "2021-12-11T08:20:23.893Z"
   },
   {
    "duration": 22,
    "start_time": "2021-12-11T08:20:24.496Z"
   },
   {
    "duration": 8,
    "start_time": "2021-12-11T08:20:25.416Z"
   },
   {
    "duration": 14,
    "start_time": "2021-12-11T08:20:25.427Z"
   },
   {
    "duration": 7,
    "start_time": "2021-12-11T08:20:25.676Z"
   },
   {
    "duration": 16,
    "start_time": "2021-12-11T08:20:26.377Z"
   },
   {
    "duration": 73,
    "start_time": "2021-12-11T08:20:26.397Z"
   },
   {
    "duration": 5,
    "start_time": "2021-12-11T08:21:12.886Z"
   },
   {
    "duration": 6,
    "start_time": "2021-12-11T08:21:35.596Z"
   },
   {
    "duration": 9,
    "start_time": "2021-12-11T08:22:03.206Z"
   },
   {
    "duration": 918,
    "start_time": "2021-12-11T08:23:22.956Z"
   },
   {
    "duration": 13,
    "start_time": "2021-12-11T08:26:46.099Z"
   },
   {
    "duration": 12,
    "start_time": "2021-12-11T08:27:59.504Z"
   },
   {
    "duration": 6,
    "start_time": "2021-12-11T08:28:57.135Z"
   },
   {
    "duration": 536,
    "start_time": "2021-12-11T08:28:57.165Z"
   },
   {
    "duration": 13,
    "start_time": "2021-12-11T08:28:57.703Z"
   },
   {
    "duration": 18,
    "start_time": "2021-12-11T08:28:57.719Z"
   },
   {
    "duration": 70,
    "start_time": "2021-12-11T08:28:57.740Z"
   },
   {
    "duration": 15,
    "start_time": "2021-12-11T08:28:57.813Z"
   },
   {
    "duration": 42,
    "start_time": "2021-12-11T08:28:57.831Z"
   },
   {
    "duration": 13,
    "start_time": "2021-12-11T08:28:57.876Z"
   },
   {
    "duration": 49,
    "start_time": "2021-12-11T08:28:57.891Z"
   },
   {
    "duration": 13,
    "start_time": "2021-12-11T08:28:57.969Z"
   },
   {
    "duration": 14,
    "start_time": "2021-12-11T08:28:57.985Z"
   },
   {
    "duration": 75,
    "start_time": "2021-12-11T08:28:58.002Z"
   },
   {
    "duration": 18,
    "start_time": "2021-12-11T08:28:58.080Z"
   },
   {
    "duration": 17,
    "start_time": "2021-12-11T08:28:58.101Z"
   },
   {
    "duration": 57,
    "start_time": "2021-12-11T08:28:58.121Z"
   },
   {
    "duration": 12,
    "start_time": "2021-12-11T08:28:58.180Z"
   },
   {
    "duration": 7,
    "start_time": "2021-12-11T08:28:58.194Z"
   },
   {
    "duration": 886,
    "start_time": "2021-12-11T08:28:58.204Z"
   },
   {
    "duration": 660,
    "start_time": "2021-12-11T08:28:59.093Z"
   },
   {
    "duration": 1014,
    "start_time": "2021-12-11T08:28:59.755Z"
   },
   {
    "duration": 6,
    "start_time": "2021-12-11T08:29:00.771Z"
   },
   {
    "duration": 94,
    "start_time": "2021-12-11T08:29:00.779Z"
   },
   {
    "duration": 5,
    "start_time": "2021-12-11T08:29:00.876Z"
   },
   {
    "duration": 21,
    "start_time": "2021-12-11T08:29:00.883Z"
   },
   {
    "duration": 30,
    "start_time": "2021-12-11T08:29:00.906Z"
   },
   {
    "duration": 899,
    "start_time": "2021-12-11T08:29:00.938Z"
   },
   {
    "duration": 10,
    "start_time": "2021-12-11T08:29:01.839Z"
   },
   {
    "duration": 38,
    "start_time": "2021-12-11T08:29:01.855Z"
   },
   {
    "duration": 5,
    "start_time": "2021-12-11T08:29:01.896Z"
   },
   {
    "duration": 15,
    "start_time": "2021-12-11T08:29:01.904Z"
   },
   {
    "duration": 15,
    "start_time": "2021-12-11T08:29:01.921Z"
   },
   {
    "duration": 28,
    "start_time": "2021-12-11T08:29:01.939Z"
   },
   {
    "duration": 17,
    "start_time": "2021-12-11T08:29:01.969Z"
   },
   {
    "duration": 9,
    "start_time": "2021-12-11T08:29:01.988Z"
   },
   {
    "duration": 8,
    "start_time": "2021-12-11T08:29:02.000Z"
   },
   {
    "duration": 21,
    "start_time": "2021-12-11T08:29:02.011Z"
   },
   {
    "duration": 36,
    "start_time": "2021-12-11T08:29:02.034Z"
   },
   {
    "duration": 13,
    "start_time": "2021-12-11T08:29:02.072Z"
   },
   {
    "duration": 6,
    "start_time": "2021-12-11T08:29:02.087Z"
   },
   {
    "duration": 13,
    "start_time": "2021-12-11T08:29:02.095Z"
   },
   {
    "duration": 13,
    "start_time": "2021-12-11T08:29:02.111Z"
   },
   {
    "duration": 146,
    "start_time": "2021-12-11T08:29:02.126Z"
   },
   {
    "duration": 6,
    "start_time": "2021-12-11T08:29:02.275Z"
   },
   {
    "duration": 182,
    "start_time": "2021-12-11T08:29:02.284Z"
   },
   {
    "duration": 102,
    "start_time": "2021-12-11T08:29:02.470Z"
   },
   {
    "duration": 96,
    "start_time": "2021-12-11T08:29:02.574Z"
   },
   {
    "duration": 91,
    "start_time": "2021-12-11T08:29:02.677Z"
   },
   {
    "duration": 882,
    "start_time": "2021-12-11T08:32:42.831Z"
   },
   {
    "duration": 728,
    "start_time": "2021-12-11T08:32:48.809Z"
   },
   {
    "duration": 892,
    "start_time": "2021-12-11T08:32:56.539Z"
   },
   {
    "duration": 5,
    "start_time": "2021-12-11T08:36:10.335Z"
   },
   {
    "duration": 503,
    "start_time": "2021-12-11T08:36:10.430Z"
   },
   {
    "duration": 13,
    "start_time": "2021-12-11T08:36:10.936Z"
   },
   {
    "duration": 18,
    "start_time": "2021-12-11T08:36:10.967Z"
   },
   {
    "duration": 51,
    "start_time": "2021-12-11T08:36:10.987Z"
   },
   {
    "duration": 36,
    "start_time": "2021-12-11T08:36:11.040Z"
   },
   {
    "duration": 16,
    "start_time": "2021-12-11T08:36:11.078Z"
   },
   {
    "duration": 15,
    "start_time": "2021-12-11T08:36:11.097Z"
   },
   {
    "duration": 81,
    "start_time": "2021-12-11T08:36:11.114Z"
   },
   {
    "duration": 12,
    "start_time": "2021-12-11T08:36:11.199Z"
   },
   {
    "duration": 15,
    "start_time": "2021-12-11T08:36:11.214Z"
   },
   {
    "duration": 78,
    "start_time": "2021-12-11T08:36:11.231Z"
   },
   {
    "duration": 17,
    "start_time": "2021-12-11T08:36:11.311Z"
   },
   {
    "duration": 43,
    "start_time": "2021-12-11T08:36:11.331Z"
   },
   {
    "duration": 18,
    "start_time": "2021-12-11T08:36:11.376Z"
   },
   {
    "duration": 13,
    "start_time": "2021-12-11T08:36:11.396Z"
   },
   {
    "duration": 16,
    "start_time": "2021-12-11T08:36:11.411Z"
   },
   {
    "duration": 1032,
    "start_time": "2021-12-11T08:36:11.429Z"
   },
   {
    "duration": 700,
    "start_time": "2021-12-11T08:36:12.463Z"
   },
   {
    "duration": 1089,
    "start_time": "2021-12-11T08:36:13.168Z"
   },
   {
    "duration": 6,
    "start_time": "2021-12-11T08:36:14.267Z"
   },
   {
    "duration": 100,
    "start_time": "2021-12-11T08:36:14.275Z"
   },
   {
    "duration": 6,
    "start_time": "2021-12-11T08:36:14.378Z"
   },
   {
    "duration": 5,
    "start_time": "2021-12-11T08:36:14.386Z"
   },
   {
    "duration": 5,
    "start_time": "2021-12-11T08:36:14.393Z"
   },
   {
    "duration": 11,
    "start_time": "2021-12-11T08:36:14.400Z"
   },
   {
    "duration": 64,
    "start_time": "2021-12-11T08:36:14.413Z"
   },
   {
    "duration": 6,
    "start_time": "2021-12-11T08:36:14.482Z"
   },
   {
    "duration": 6,
    "start_time": "2021-12-11T08:36:14.491Z"
   },
   {
    "duration": 6,
    "start_time": "2021-12-11T08:36:14.499Z"
   },
   {
    "duration": 6,
    "start_time": "2021-12-11T08:36:14.507Z"
   },
   {
    "duration": 57,
    "start_time": "2021-12-11T08:36:14.515Z"
   },
   {
    "duration": 4,
    "start_time": "2021-12-11T08:36:14.575Z"
   },
   {
    "duration": 6,
    "start_time": "2021-12-11T08:36:14.581Z"
   },
   {
    "duration": 17,
    "start_time": "2021-12-11T08:36:14.590Z"
   },
   {
    "duration": 5,
    "start_time": "2021-12-11T08:36:14.609Z"
   },
   {
    "duration": 15,
    "start_time": "2021-12-11T08:36:14.616Z"
   },
   {
    "duration": 36,
    "start_time": "2021-12-11T08:36:14.633Z"
   },
   {
    "duration": 8,
    "start_time": "2021-12-11T08:36:14.671Z"
   },
   {
    "duration": 4,
    "start_time": "2021-12-11T08:36:14.682Z"
   },
   {
    "duration": 79,
    "start_time": "2021-12-11T08:36:14.689Z"
   },
   {
    "duration": 97,
    "start_time": "2021-12-11T08:36:14.771Z"
   },
   {
    "duration": 96,
    "start_time": "2021-12-11T08:36:14.871Z"
   },
   {
    "duration": 97,
    "start_time": "2021-12-11T08:36:14.971Z"
   },
   {
    "duration": 17,
    "start_time": "2021-12-11T08:36:15.071Z"
   },
   {
    "duration": 11,
    "start_time": "2021-12-11T08:36:15.166Z"
   },
   {
    "duration": 5,
    "start_time": "2021-12-11T08:36:49.270Z"
   },
   {
    "duration": 502,
    "start_time": "2021-12-11T08:36:49.299Z"
   },
   {
    "duration": 12,
    "start_time": "2021-12-11T08:36:49.804Z"
   },
   {
    "duration": 15,
    "start_time": "2021-12-11T08:36:49.820Z"
   },
   {
    "duration": 79,
    "start_time": "2021-12-11T08:36:49.838Z"
   },
   {
    "duration": 16,
    "start_time": "2021-12-11T08:36:49.920Z"
   },
   {
    "duration": 36,
    "start_time": "2021-12-11T08:36:49.939Z"
   },
   {
    "duration": 20,
    "start_time": "2021-12-11T08:36:49.978Z"
   },
   {
    "duration": 68,
    "start_time": "2021-12-11T08:36:50.000Z"
   },
   {
    "duration": 13,
    "start_time": "2021-12-11T08:36:50.072Z"
   },
   {
    "duration": 17,
    "start_time": "2021-12-11T08:36:50.088Z"
   },
   {
    "duration": 77,
    "start_time": "2021-12-11T08:36:50.107Z"
   },
   {
    "duration": 17,
    "start_time": "2021-12-11T08:36:50.186Z"
   },
   {
    "duration": 20,
    "start_time": "2021-12-11T08:36:50.205Z"
   },
   {
    "duration": 49,
    "start_time": "2021-12-11T08:36:50.227Z"
   },
   {
    "duration": 12,
    "start_time": "2021-12-11T08:36:50.278Z"
   },
   {
    "duration": 30,
    "start_time": "2021-12-11T08:36:50.293Z"
   },
   {
    "duration": 878,
    "start_time": "2021-12-11T08:36:50.325Z"
   },
   {
    "duration": 668,
    "start_time": "2021-12-11T08:36:51.206Z"
   },
   {
    "duration": 1002,
    "start_time": "2021-12-11T08:36:51.876Z"
   },
   {
    "duration": 6,
    "start_time": "2021-12-11T08:36:52.881Z"
   },
   {
    "duration": 102,
    "start_time": "2021-12-11T08:36:52.889Z"
   },
   {
    "duration": 5,
    "start_time": "2021-12-11T08:36:52.993Z"
   },
   {
    "duration": 12,
    "start_time": "2021-12-11T08:36:53.001Z"
   },
   {
    "duration": 6,
    "start_time": "2021-12-11T08:36:53.016Z"
   },
   {
    "duration": 43,
    "start_time": "2021-12-11T08:36:53.024Z"
   },
   {
    "duration": 17,
    "start_time": "2021-12-11T08:36:53.070Z"
   },
   {
    "duration": 5,
    "start_time": "2021-12-11T08:36:53.093Z"
   },
   {
    "duration": 20,
    "start_time": "2021-12-11T08:36:53.101Z"
   },
   {
    "duration": 20,
    "start_time": "2021-12-11T08:36:53.123Z"
   },
   {
    "duration": 24,
    "start_time": "2021-12-11T08:36:53.145Z"
   },
   {
    "duration": 18,
    "start_time": "2021-12-11T08:36:53.171Z"
   },
   {
    "duration": 6,
    "start_time": "2021-12-11T08:36:53.191Z"
   },
   {
    "duration": 17,
    "start_time": "2021-12-11T08:36:53.199Z"
   },
   {
    "duration": 31,
    "start_time": "2021-12-11T08:36:53.219Z"
   },
   {
    "duration": 17,
    "start_time": "2021-12-11T08:36:53.253Z"
   },
   {
    "duration": 12,
    "start_time": "2021-12-11T08:36:53.272Z"
   },
   {
    "duration": 11,
    "start_time": "2021-12-11T08:36:53.287Z"
   },
   {
    "duration": 9,
    "start_time": "2021-12-11T08:36:53.301Z"
   },
   {
    "duration": 11,
    "start_time": "2021-12-11T08:36:53.312Z"
   },
   {
    "duration": 141,
    "start_time": "2021-12-11T08:36:53.325Z"
   },
   {
    "duration": 100,
    "start_time": "2021-12-11T08:36:53.469Z"
   },
   {
    "duration": 25,
    "start_time": "2021-12-11T08:36:53.571Z"
   },
   {
    "duration": 76,
    "start_time": "2021-12-11T08:36:53.599Z"
   },
   {
    "duration": 17,
    "start_time": "2021-12-11T08:36:53.767Z"
   },
   {
    "duration": 86,
    "start_time": "2021-12-11T08:36:53.787Z"
   },
   {
    "duration": 6,
    "start_time": "2021-12-11T08:37:09.489Z"
   },
   {
    "duration": 473,
    "start_time": "2021-12-11T08:37:09.517Z"
   },
   {
    "duration": 12,
    "start_time": "2021-12-11T08:37:09.993Z"
   },
   {
    "duration": 18,
    "start_time": "2021-12-11T08:37:10.008Z"
   },
   {
    "duration": 75,
    "start_time": "2021-12-11T08:37:10.029Z"
   },
   {
    "duration": 15,
    "start_time": "2021-12-11T08:37:10.106Z"
   },
   {
    "duration": 17,
    "start_time": "2021-12-11T08:37:10.123Z"
   },
   {
    "duration": 18,
    "start_time": "2021-12-11T08:37:10.167Z"
   },
   {
    "duration": 50,
    "start_time": "2021-12-11T08:37:10.188Z"
   },
   {
    "duration": 12,
    "start_time": "2021-12-11T08:37:10.270Z"
   },
   {
    "duration": 16,
    "start_time": "2021-12-11T08:37:10.285Z"
   },
   {
    "duration": 79,
    "start_time": "2021-12-11T08:37:10.303Z"
   },
   {
    "duration": 16,
    "start_time": "2021-12-11T08:37:10.384Z"
   },
   {
    "duration": 17,
    "start_time": "2021-12-11T08:37:10.403Z"
   },
   {
    "duration": 49,
    "start_time": "2021-12-11T08:37:10.423Z"
   },
   {
    "duration": 12,
    "start_time": "2021-12-11T08:37:10.474Z"
   },
   {
    "duration": 12,
    "start_time": "2021-12-11T08:37:10.489Z"
   },
   {
    "duration": 915,
    "start_time": "2021-12-11T08:37:10.503Z"
   },
   {
    "duration": 672,
    "start_time": "2021-12-11T08:37:11.420Z"
   },
   {
    "duration": 906,
    "start_time": "2021-12-11T08:37:12.094Z"
   },
   {
    "duration": 5,
    "start_time": "2021-12-11T08:37:13.003Z"
   },
   {
    "duration": 106,
    "start_time": "2021-12-11T08:37:13.010Z"
   },
   {
    "duration": 5,
    "start_time": "2021-12-11T08:37:13.118Z"
   },
   {
    "duration": 9,
    "start_time": "2021-12-11T08:37:13.125Z"
   },
   {
    "duration": 5,
    "start_time": "2021-12-11T08:37:13.137Z"
   },
   {
    "duration": 114,
    "start_time": "2021-12-11T08:37:13.168Z"
   },
   {
    "duration": 19,
    "start_time": "2021-12-11T08:37:13.284Z"
   },
   {
    "duration": 5,
    "start_time": "2021-12-11T08:37:13.308Z"
   },
   {
    "duration": 6,
    "start_time": "2021-12-11T08:37:13.316Z"
   },
   {
    "duration": 7,
    "start_time": "2021-12-11T08:37:13.324Z"
   },
   {
    "duration": 5,
    "start_time": "2021-12-11T08:37:13.368Z"
   },
   {
    "duration": 19,
    "start_time": "2021-12-11T08:37:13.375Z"
   },
   {
    "duration": 5,
    "start_time": "2021-12-11T08:37:13.397Z"
   },
   {
    "duration": 13,
    "start_time": "2021-12-11T08:37:13.404Z"
   },
   {
    "duration": 50,
    "start_time": "2021-12-11T08:37:13.419Z"
   },
   {
    "duration": 6,
    "start_time": "2021-12-11T08:37:13.471Z"
   },
   {
    "duration": 7,
    "start_time": "2021-12-11T08:37:13.479Z"
   },
   {
    "duration": 4,
    "start_time": "2021-12-11T08:37:13.488Z"
   },
   {
    "duration": 11,
    "start_time": "2021-12-11T08:37:13.495Z"
   },
   {
    "duration": 5,
    "start_time": "2021-12-11T08:37:13.509Z"
   },
   {
    "duration": 59,
    "start_time": "2021-12-11T08:37:13.517Z"
   },
   {
    "duration": 8,
    "start_time": "2021-12-11T08:37:13.668Z"
   },
   {
    "duration": 89,
    "start_time": "2021-12-11T08:37:13.679Z"
   },
   {
    "duration": 98,
    "start_time": "2021-12-11T08:37:13.771Z"
   },
   {
    "duration": 99,
    "start_time": "2021-12-11T08:37:13.871Z"
   },
   {
    "duration": 93,
    "start_time": "2021-12-11T08:37:13.977Z"
   },
   {
    "duration": 51,
    "start_time": "2021-12-11T08:40:02.218Z"
   },
   {
    "duration": 6,
    "start_time": "2021-12-11T08:40:42.655Z"
   },
   {
    "duration": 79,
    "start_time": "2021-12-11T08:40:44.303Z"
   },
   {
    "duration": 5,
    "start_time": "2021-12-11T08:41:07.299Z"
   },
   {
    "duration": 491,
    "start_time": "2021-12-11T08:41:07.312Z"
   },
   {
    "duration": 14,
    "start_time": "2021-12-11T08:41:07.806Z"
   },
   {
    "duration": 42,
    "start_time": "2021-12-11T08:41:07.825Z"
   },
   {
    "duration": 51,
    "start_time": "2021-12-11T08:41:07.871Z"
   },
   {
    "duration": 14,
    "start_time": "2021-12-11T08:41:07.925Z"
   },
   {
    "duration": 37,
    "start_time": "2021-12-11T08:41:07.942Z"
   },
   {
    "duration": 15,
    "start_time": "2021-12-11T08:41:07.982Z"
   },
   {
    "duration": 82,
    "start_time": "2021-12-11T08:41:07.999Z"
   },
   {
    "duration": 13,
    "start_time": "2021-12-11T08:41:08.084Z"
   },
   {
    "duration": 15,
    "start_time": "2021-12-11T08:41:08.101Z"
   },
   {
    "duration": 78,
    "start_time": "2021-12-11T08:41:08.118Z"
   },
   {
    "duration": 17,
    "start_time": "2021-12-11T08:41:08.199Z"
   },
   {
    "duration": 18,
    "start_time": "2021-12-11T08:41:08.219Z"
   },
   {
    "duration": 46,
    "start_time": "2021-12-11T08:41:08.239Z"
   },
   {
    "duration": 9,
    "start_time": "2021-12-11T08:41:08.288Z"
   },
   {
    "duration": 6,
    "start_time": "2021-12-11T08:41:08.300Z"
   },
   {
    "duration": 892,
    "start_time": "2021-12-11T08:41:08.308Z"
   },
   {
    "duration": 655,
    "start_time": "2021-12-11T08:41:09.203Z"
   },
   {
    "duration": 907,
    "start_time": "2021-12-11T08:41:09.866Z"
   },
   {
    "duration": 6,
    "start_time": "2021-12-11T08:41:10.776Z"
   },
   {
    "duration": 100,
    "start_time": "2021-12-11T08:41:10.784Z"
   },
   {
    "duration": 11,
    "start_time": "2021-12-11T08:41:10.886Z"
   },
   {
    "duration": 19,
    "start_time": "2021-12-11T08:41:10.900Z"
   },
   {
    "duration": 6,
    "start_time": "2021-12-11T08:41:10.922Z"
   },
   {
    "duration": 41,
    "start_time": "2021-12-11T08:41:10.931Z"
   },
   {
    "duration": 6,
    "start_time": "2021-12-11T08:41:10.975Z"
   },
   {
    "duration": 6,
    "start_time": "2021-12-11T08:41:10.988Z"
   },
   {
    "duration": 17,
    "start_time": "2021-12-11T08:41:10.998Z"
   },
   {
    "duration": 51,
    "start_time": "2021-12-11T08:41:11.018Z"
   },
   {
    "duration": 16,
    "start_time": "2021-12-11T08:41:11.072Z"
   },
   {
    "duration": 49,
    "start_time": "2021-12-11T08:41:11.091Z"
   },
   {
    "duration": 6,
    "start_time": "2021-12-11T08:41:11.143Z"
   },
   {
    "duration": 17,
    "start_time": "2021-12-11T08:41:11.152Z"
   },
   {
    "duration": 15,
    "start_time": "2021-12-11T08:41:11.172Z"
   },
   {
    "duration": 9,
    "start_time": "2021-12-11T08:41:11.189Z"
   },
   {
    "duration": 6,
    "start_time": "2021-12-11T08:41:11.200Z"
   },
   {
    "duration": 158,
    "start_time": "2021-12-11T08:41:11.208Z"
   },
   {
    "duration": 9,
    "start_time": "2021-12-11T08:41:11.369Z"
   },
   {
    "duration": 90,
    "start_time": "2021-12-11T08:41:11.381Z"
   },
   {
    "duration": 97,
    "start_time": "2021-12-11T08:41:11.475Z"
   },
   {
    "duration": 18,
    "start_time": "2021-12-11T08:41:11.575Z"
   },
   {
    "duration": 100,
    "start_time": "2021-12-11T08:41:11.668Z"
   },
   {
    "duration": 10,
    "start_time": "2021-12-11T08:44:33.097Z"
   },
   {
    "duration": 6,
    "start_time": "2021-12-11T08:49:00.639Z"
   },
   {
    "duration": 470,
    "start_time": "2021-12-11T08:49:00.649Z"
   },
   {
    "duration": 13,
    "start_time": "2021-12-11T08:49:01.123Z"
   },
   {
    "duration": 15,
    "start_time": "2021-12-11T08:49:01.960Z"
   },
   {
    "duration": 74,
    "start_time": "2021-12-11T08:49:01.977Z"
   },
   {
    "duration": 16,
    "start_time": "2021-12-11T08:49:02.053Z"
   },
   {
    "duration": 32,
    "start_time": "2021-12-11T08:49:02.072Z"
   },
   {
    "duration": 13,
    "start_time": "2021-12-11T08:49:02.420Z"
   },
   {
    "duration": 55,
    "start_time": "2021-12-11T08:49:02.437Z"
   },
   {
    "duration": 14,
    "start_time": "2021-12-11T08:49:02.495Z"
   },
   {
    "duration": 14,
    "start_time": "2021-12-11T08:49:03.009Z"
   },
   {
    "duration": 64,
    "start_time": "2021-12-11T08:49:03.026Z"
   },
   {
    "duration": 17,
    "start_time": "2021-12-11T08:49:03.093Z"
   },
   {
    "duration": 18,
    "start_time": "2021-12-11T08:49:03.112Z"
   },
   {
    "duration": 16,
    "start_time": "2021-12-11T08:49:03.489Z"
   },
   {
    "duration": 19,
    "start_time": "2021-12-11T08:49:03.508Z"
   },
   {
    "duration": 26,
    "start_time": "2021-12-11T08:49:03.529Z"
   },
   {
    "duration": 1035,
    "start_time": "2021-12-11T08:49:03.958Z"
   },
   {
    "duration": 659,
    "start_time": "2021-12-11T08:49:04.996Z"
   },
   {
    "duration": 920,
    "start_time": "2021-12-11T08:49:05.659Z"
   },
   {
    "duration": 6,
    "start_time": "2021-12-11T08:49:06.582Z"
   },
   {
    "duration": 103,
    "start_time": "2021-12-11T08:49:06.590Z"
   },
   {
    "duration": 11,
    "start_time": "2021-12-11T08:49:06.695Z"
   },
   {
    "duration": 21,
    "start_time": "2021-12-11T08:49:06.709Z"
   },
   {
    "duration": 36,
    "start_time": "2021-12-11T08:49:06.733Z"
   },
   {
    "duration": 9,
    "start_time": "2021-12-11T08:49:06.774Z"
   },
   {
    "duration": 7,
    "start_time": "2021-12-11T08:49:06.786Z"
   },
   {
    "duration": 9,
    "start_time": "2021-12-11T08:49:06.795Z"
   },
   {
    "duration": 16,
    "start_time": "2021-12-11T08:49:06.807Z"
   },
   {
    "duration": 6,
    "start_time": "2021-12-11T08:49:06.825Z"
   },
   {
    "duration": 6,
    "start_time": "2021-12-11T08:49:06.868Z"
   },
   {
    "duration": 23,
    "start_time": "2021-12-11T08:49:06.876Z"
   },
   {
    "duration": 5,
    "start_time": "2021-12-11T08:49:06.902Z"
   },
   {
    "duration": 12,
    "start_time": "2021-12-11T08:49:06.909Z"
   },
   {
    "duration": 15,
    "start_time": "2021-12-11T08:49:06.923Z"
   },
   {
    "duration": 27,
    "start_time": "2021-12-11T08:49:06.941Z"
   },
   {
    "duration": 6,
    "start_time": "2021-12-11T08:49:06.971Z"
   },
   {
    "duration": 26,
    "start_time": "2021-12-11T08:49:07.049Z"
   },
   {
    "duration": 188,
    "start_time": "2021-12-11T08:49:07.079Z"
   },
   {
    "duration": 16,
    "start_time": "2021-12-11T08:49:07.272Z"
   },
   {
    "duration": 8,
    "start_time": "2021-12-11T08:49:07.468Z"
   },
   {
    "duration": 87,
    "start_time": "2021-12-11T08:49:07.480Z"
   },
   {
    "duration": 98,
    "start_time": "2021-12-11T08:49:07.573Z"
   },
   {
    "duration": 946,
    "start_time": "2021-12-11T08:50:28.339Z"
   },
   {
    "duration": 7,
    "start_time": "2021-12-11T08:50:44.489Z"
   },
   {
    "duration": 485,
    "start_time": "2021-12-11T08:50:44.618Z"
   },
   {
    "duration": 14,
    "start_time": "2021-12-11T08:50:45.105Z"
   },
   {
    "duration": 21,
    "start_time": "2021-12-11T08:50:45.122Z"
   },
   {
    "duration": 71,
    "start_time": "2021-12-11T08:50:45.146Z"
   },
   {
    "duration": 16,
    "start_time": "2021-12-11T08:50:45.219Z"
   },
   {
    "duration": 40,
    "start_time": "2021-12-11T08:50:45.237Z"
   },
   {
    "duration": 14,
    "start_time": "2021-12-11T08:50:45.279Z"
   },
   {
    "duration": 73,
    "start_time": "2021-12-11T08:50:45.296Z"
   },
   {
    "duration": 13,
    "start_time": "2021-12-11T08:50:45.519Z"
   },
   {
    "duration": 17,
    "start_time": "2021-12-11T08:50:45.535Z"
   },
   {
    "duration": 49,
    "start_time": "2021-12-11T08:50:45.555Z"
   },
   {
    "duration": 18,
    "start_time": "2021-12-11T08:50:45.606Z"
   },
   {
    "duration": 18,
    "start_time": "2021-12-11T08:50:46.008Z"
   },
   {
    "duration": 22,
    "start_time": "2021-12-11T08:50:46.029Z"
   },
   {
    "duration": 33,
    "start_time": "2021-12-11T08:50:46.053Z"
   },
   {
    "duration": 4,
    "start_time": "2021-12-11T08:50:46.098Z"
   },
   {
    "duration": 890,
    "start_time": "2021-12-11T08:50:46.489Z"
   },
   {
    "duration": 693,
    "start_time": "2021-12-11T08:50:47.381Z"
   },
   {
    "duration": 921,
    "start_time": "2021-12-11T08:50:48.076Z"
   },
   {
    "duration": 7,
    "start_time": "2021-12-11T08:50:49.001Z"
   },
   {
    "duration": 102,
    "start_time": "2021-12-11T08:50:49.010Z"
   },
   {
    "duration": 11,
    "start_time": "2021-12-11T08:50:49.114Z"
   },
   {
    "duration": 26,
    "start_time": "2021-12-11T08:50:49.128Z"
   },
   {
    "duration": 7,
    "start_time": "2021-12-11T08:50:49.167Z"
   },
   {
    "duration": 22,
    "start_time": "2021-12-11T08:50:49.177Z"
   },
   {
    "duration": 18,
    "start_time": "2021-12-11T08:50:49.202Z"
   },
   {
    "duration": 21,
    "start_time": "2021-12-11T08:50:49.223Z"
   },
   {
    "duration": 25,
    "start_time": "2021-12-11T08:50:49.246Z"
   },
   {
    "duration": 16,
    "start_time": "2021-12-11T08:50:49.273Z"
   },
   {
    "duration": 27,
    "start_time": "2021-12-11T08:50:49.292Z"
   },
   {
    "duration": 39,
    "start_time": "2021-12-11T08:50:49.321Z"
   },
   {
    "duration": 24,
    "start_time": "2021-12-11T08:50:49.362Z"
   },
   {
    "duration": 36,
    "start_time": "2021-12-11T08:50:49.388Z"
   },
   {
    "duration": 23,
    "start_time": "2021-12-11T08:50:49.427Z"
   },
   {
    "duration": 16,
    "start_time": "2021-12-11T08:50:49.454Z"
   },
   {
    "duration": 32,
    "start_time": "2021-12-11T08:50:49.473Z"
   },
   {
    "duration": 44,
    "start_time": "2021-12-11T08:50:49.508Z"
   },
   {
    "duration": 7,
    "start_time": "2021-12-11T08:50:49.849Z"
   },
   {
    "duration": 33,
    "start_time": "2021-12-11T08:50:49.858Z"
   },
   {
    "duration": 8,
    "start_time": "2021-12-11T08:50:50.068Z"
   },
   {
    "duration": 16,
    "start_time": "2021-12-11T08:50:50.428Z"
   },
   {
    "duration": 125,
    "start_time": "2021-12-11T08:50:50.448Z"
   },
   {
    "duration": 6,
    "start_time": "2021-12-11T08:51:21.852Z"
   },
   {
    "duration": 468,
    "start_time": "2021-12-11T08:51:22.182Z"
   },
   {
    "duration": 16,
    "start_time": "2021-12-11T08:51:22.653Z"
   },
   {
    "duration": 25,
    "start_time": "2021-12-11T08:51:22.672Z"
   },
   {
    "duration": 55,
    "start_time": "2021-12-11T08:51:22.699Z"
   },
   {
    "duration": 16,
    "start_time": "2021-12-11T08:51:22.767Z"
   },
   {
    "duration": 22,
    "start_time": "2021-12-11T08:51:22.786Z"
   },
   {
    "duration": 32,
    "start_time": "2021-12-11T08:51:22.811Z"
   },
   {
    "duration": 62,
    "start_time": "2021-12-11T08:51:22.847Z"
   },
   {
    "duration": 13,
    "start_time": "2021-12-11T08:51:23.122Z"
   },
   {
    "duration": 17,
    "start_time": "2021-12-11T08:51:23.139Z"
   },
   {
    "duration": 50,
    "start_time": "2021-12-11T08:51:23.160Z"
   },
   {
    "duration": 17,
    "start_time": "2021-12-11T08:51:23.213Z"
   },
   {
    "duration": 17,
    "start_time": "2021-12-11T08:51:23.563Z"
   },
   {
    "duration": 17,
    "start_time": "2021-12-11T08:51:23.582Z"
   },
   {
    "duration": 12,
    "start_time": "2021-12-11T08:51:23.602Z"
   },
   {
    "duration": 5,
    "start_time": "2021-12-11T08:51:23.681Z"
   },
   {
    "duration": 982,
    "start_time": "2021-12-11T08:51:24.042Z"
   },
   {
    "duration": 685,
    "start_time": "2021-12-11T08:51:25.027Z"
   },
   {
    "duration": 910,
    "start_time": "2021-12-11T08:51:25.716Z"
   },
   {
    "duration": 6,
    "start_time": "2021-12-11T08:51:26.628Z"
   },
   {
    "duration": 99,
    "start_time": "2021-12-11T08:51:26.636Z"
   },
   {
    "duration": 10,
    "start_time": "2021-12-11T08:51:26.737Z"
   },
   {
    "duration": 35,
    "start_time": "2021-12-11T08:51:26.749Z"
   },
   {
    "duration": 8,
    "start_time": "2021-12-11T08:51:26.786Z"
   },
   {
    "duration": 5,
    "start_time": "2021-12-11T08:51:26.799Z"
   },
   {
    "duration": 7,
    "start_time": "2021-12-11T08:51:26.806Z"
   },
   {
    "duration": 7,
    "start_time": "2021-12-11T08:51:26.815Z"
   },
   {
    "duration": 55,
    "start_time": "2021-12-11T08:51:26.824Z"
   },
   {
    "duration": 5,
    "start_time": "2021-12-11T08:51:26.881Z"
   },
   {
    "duration": 8,
    "start_time": "2021-12-11T08:51:26.888Z"
   },
   {
    "duration": 19,
    "start_time": "2021-12-11T08:51:26.898Z"
   },
   {
    "duration": 5,
    "start_time": "2021-12-11T08:51:26.919Z"
   },
   {
    "duration": 43,
    "start_time": "2021-12-11T08:51:26.926Z"
   },
   {
    "duration": 6,
    "start_time": "2021-12-11T08:51:26.971Z"
   },
   {
    "duration": 7,
    "start_time": "2021-12-11T08:51:26.980Z"
   },
   {
    "duration": 7,
    "start_time": "2021-12-11T08:51:26.989Z"
   },
   {
    "duration": 76,
    "start_time": "2021-12-11T08:51:27.000Z"
   },
   {
    "duration": 93,
    "start_time": "2021-12-11T08:51:27.080Z"
   },
   {
    "duration": 21,
    "start_time": "2021-12-11T08:51:27.175Z"
   },
   {
    "duration": 8,
    "start_time": "2021-12-11T08:51:27.369Z"
   },
   {
    "duration": 88,
    "start_time": "2021-12-11T08:51:27.380Z"
   },
   {
    "duration": 9,
    "start_time": "2021-12-11T08:51:27.568Z"
   },
   {
    "duration": 5,
    "start_time": "2021-12-11T08:52:40.442Z"
   },
   {
    "duration": 481,
    "start_time": "2021-12-11T08:52:40.502Z"
   },
   {
    "duration": 12,
    "start_time": "2021-12-11T08:52:40.986Z"
   },
   {
    "duration": 19,
    "start_time": "2021-12-11T08:52:41.001Z"
   },
   {
    "duration": 75,
    "start_time": "2021-12-11T08:52:41.022Z"
   },
   {
    "duration": 16,
    "start_time": "2021-12-11T08:52:41.100Z"
   },
   {
    "duration": 20,
    "start_time": "2021-12-11T08:52:41.118Z"
   },
   {
    "duration": 39,
    "start_time": "2021-12-11T08:52:41.141Z"
   },
   {
    "duration": 48,
    "start_time": "2021-12-11T08:52:41.183Z"
   },
   {
    "duration": 37,
    "start_time": "2021-12-11T08:52:41.235Z"
   },
   {
    "duration": 16,
    "start_time": "2021-12-11T08:52:41.275Z"
   },
   {
    "duration": 75,
    "start_time": "2021-12-11T08:52:41.294Z"
   },
   {
    "duration": 18,
    "start_time": "2021-12-11T08:52:41.371Z"
   },
   {
    "duration": 17,
    "start_time": "2021-12-11T08:52:41.392Z"
   },
   {
    "duration": 17,
    "start_time": "2021-12-11T08:52:41.411Z"
   },
   {
    "duration": 45,
    "start_time": "2021-12-11T08:52:41.431Z"
   },
   {
    "duration": 8,
    "start_time": "2021-12-11T08:52:41.478Z"
   },
   {
    "duration": 982,
    "start_time": "2021-12-11T08:52:41.489Z"
   },
   {
    "duration": 661,
    "start_time": "2021-12-11T08:52:42.473Z"
   },
   {
    "duration": 910,
    "start_time": "2021-12-11T08:52:43.137Z"
   },
   {
    "duration": 18,
    "start_time": "2021-12-11T08:52:44.050Z"
   },
   {
    "duration": 98,
    "start_time": "2021-12-11T08:52:44.071Z"
   },
   {
    "duration": 11,
    "start_time": "2021-12-11T08:52:44.172Z"
   },
   {
    "duration": 19,
    "start_time": "2021-12-11T08:52:44.187Z"
   },
   {
    "duration": 7,
    "start_time": "2021-12-11T08:52:44.209Z"
   },
   {
    "duration": 7,
    "start_time": "2021-12-11T08:52:44.219Z"
   },
   {
    "duration": 7,
    "start_time": "2021-12-11T08:52:44.269Z"
   },
   {
    "duration": 8,
    "start_time": "2021-12-11T08:52:44.281Z"
   },
   {
    "duration": 19,
    "start_time": "2021-12-11T08:52:44.292Z"
   },
   {
    "duration": 5,
    "start_time": "2021-12-11T08:52:44.313Z"
   },
   {
    "duration": 47,
    "start_time": "2021-12-11T08:52:44.320Z"
   },
   {
    "duration": 19,
    "start_time": "2021-12-11T08:52:44.369Z"
   },
   {
    "duration": 5,
    "start_time": "2021-12-11T08:52:44.391Z"
   },
   {
    "duration": 7,
    "start_time": "2021-12-11T08:52:44.398Z"
   },
   {
    "duration": 5,
    "start_time": "2021-12-11T08:52:44.407Z"
   },
   {
    "duration": 6,
    "start_time": "2021-12-11T08:52:44.414Z"
   },
   {
    "duration": 46,
    "start_time": "2021-12-11T08:52:44.422Z"
   },
   {
    "duration": 97,
    "start_time": "2021-12-11T08:52:44.471Z"
   },
   {
    "duration": 99,
    "start_time": "2021-12-11T08:52:44.572Z"
   },
   {
    "duration": 16,
    "start_time": "2021-12-11T08:52:44.674Z"
   },
   {
    "duration": 80,
    "start_time": "2021-12-11T08:52:44.693Z"
   },
   {
    "duration": 192,
    "start_time": "2021-12-11T08:52:44.776Z"
   },
   {
    "duration": 99,
    "start_time": "2021-12-11T08:52:44.972Z"
   },
   {
    "duration": 6,
    "start_time": "2021-12-11T08:53:04.076Z"
   },
   {
    "duration": 481,
    "start_time": "2021-12-11T08:53:04.139Z"
   },
   {
    "duration": 13,
    "start_time": "2021-12-11T08:53:04.622Z"
   },
   {
    "duration": 37,
    "start_time": "2021-12-11T08:53:04.640Z"
   },
   {
    "duration": 52,
    "start_time": "2021-12-11T08:53:04.680Z"
   },
   {
    "duration": 42,
    "start_time": "2021-12-11T08:53:04.734Z"
   },
   {
    "duration": 13,
    "start_time": "2021-12-11T08:53:04.778Z"
   },
   {
    "duration": 18,
    "start_time": "2021-12-11T08:53:04.794Z"
   },
   {
    "duration": 76,
    "start_time": "2021-12-11T08:53:04.814Z"
   },
   {
    "duration": 12,
    "start_time": "2021-12-11T08:53:04.893Z"
   },
   {
    "duration": 15,
    "start_time": "2021-12-11T08:53:04.908Z"
   },
   {
    "duration": 81,
    "start_time": "2021-12-11T08:53:04.926Z"
   },
   {
    "duration": 17,
    "start_time": "2021-12-11T08:53:05.009Z"
   },
   {
    "duration": 16,
    "start_time": "2021-12-11T08:53:05.028Z"
   },
   {
    "duration": 17,
    "start_time": "2021-12-11T08:53:05.066Z"
   },
   {
    "duration": 12,
    "start_time": "2021-12-11T08:53:05.085Z"
   },
   {
    "duration": 7,
    "start_time": "2021-12-11T08:53:05.099Z"
   },
   {
    "duration": 894,
    "start_time": "2021-12-11T08:53:05.108Z"
   },
   {
    "duration": 744,
    "start_time": "2021-12-11T08:53:06.004Z"
   },
   {
    "duration": 912,
    "start_time": "2021-12-11T08:53:06.750Z"
   },
   {
    "duration": 6,
    "start_time": "2021-12-11T08:53:07.668Z"
   },
   {
    "duration": 98,
    "start_time": "2021-12-11T08:53:07.676Z"
   },
   {
    "duration": 10,
    "start_time": "2021-12-11T08:53:07.776Z"
   },
   {
    "duration": 20,
    "start_time": "2021-12-11T08:53:07.789Z"
   },
   {
    "duration": 6,
    "start_time": "2021-12-11T08:53:07.812Z"
   },
   {
    "duration": 46,
    "start_time": "2021-12-11T08:53:07.821Z"
   },
   {
    "duration": 6,
    "start_time": "2021-12-11T08:53:07.871Z"
   },
   {
    "duration": 5,
    "start_time": "2021-12-11T08:53:07.886Z"
   },
   {
    "duration": 21,
    "start_time": "2021-12-11T08:53:07.895Z"
   },
   {
    "duration": 6,
    "start_time": "2021-12-11T08:53:07.919Z"
   },
   {
    "duration": 7,
    "start_time": "2021-12-11T08:53:07.968Z"
   },
   {
    "duration": 21,
    "start_time": "2021-12-11T08:53:07.978Z"
   },
   {
    "duration": 6,
    "start_time": "2021-12-11T08:53:08.001Z"
   },
   {
    "duration": 57,
    "start_time": "2021-12-11T08:53:08.010Z"
   },
   {
    "duration": 4,
    "start_time": "2021-12-11T08:53:08.070Z"
   },
   {
    "duration": 5,
    "start_time": "2021-12-11T08:53:08.077Z"
   },
   {
    "duration": 6,
    "start_time": "2021-12-11T08:53:08.085Z"
   },
   {
    "duration": 77,
    "start_time": "2021-12-11T08:53:08.094Z"
   },
   {
    "duration": 96,
    "start_time": "2021-12-11T08:53:08.174Z"
   },
   {
    "duration": 20,
    "start_time": "2021-12-11T08:53:08.273Z"
   },
   {
    "duration": 102,
    "start_time": "2021-12-11T08:53:08.370Z"
   },
   {
    "duration": 93,
    "start_time": "2021-12-11T08:53:08.474Z"
   },
   {
    "duration": 99,
    "start_time": "2021-12-11T08:53:08.572Z"
   },
   {
    "duration": 6,
    "start_time": "2021-12-11T08:54:46.478Z"
   },
   {
    "duration": 16,
    "start_time": "2021-12-11T08:55:55.717Z"
   },
   {
    "duration": 21,
    "start_time": "2021-12-11T08:55:59.785Z"
   },
   {
    "duration": 8,
    "start_time": "2021-12-11T08:56:12.687Z"
   },
   {
    "duration": 755,
    "start_time": "2021-12-11T08:56:12.758Z"
   },
   {
    "duration": 19,
    "start_time": "2021-12-11T08:56:13.516Z"
   },
   {
    "duration": 38,
    "start_time": "2021-12-11T08:56:13.539Z"
   },
   {
    "duration": 90,
    "start_time": "2021-12-11T08:56:13.581Z"
   },
   {
    "duration": 16,
    "start_time": "2021-12-11T08:56:13.673Z"
   },
   {
    "duration": 18,
    "start_time": "2021-12-11T08:56:13.692Z"
   },
   {
    "duration": 17,
    "start_time": "2021-12-11T08:56:13.712Z"
   },
   {
    "duration": 75,
    "start_time": "2021-12-11T08:56:13.731Z"
   },
   {
    "duration": 12,
    "start_time": "2021-12-11T08:56:13.810Z"
   },
   {
    "duration": 43,
    "start_time": "2021-12-11T08:56:13.826Z"
   },
   {
    "duration": 48,
    "start_time": "2021-12-11T08:56:13.872Z"
   },
   {
    "duration": 18,
    "start_time": "2021-12-11T08:56:13.923Z"
   },
   {
    "duration": 40,
    "start_time": "2021-12-11T08:56:13.943Z"
   },
   {
    "duration": 17,
    "start_time": "2021-12-11T08:56:13.986Z"
   },
   {
    "duration": 12,
    "start_time": "2021-12-11T08:56:14.005Z"
   },
   {
    "duration": 47,
    "start_time": "2021-12-11T08:56:14.020Z"
   },
   {
    "duration": 929,
    "start_time": "2021-12-11T08:56:14.069Z"
   },
   {
    "duration": 735,
    "start_time": "2021-12-11T08:56:15.000Z"
   },
   {
    "duration": 1105,
    "start_time": "2021-12-11T08:56:15.738Z"
   },
   {
    "duration": 6,
    "start_time": "2021-12-11T08:56:16.846Z"
   },
   {
    "duration": 93,
    "start_time": "2021-12-11T08:56:16.855Z"
   },
   {
    "duration": 24,
    "start_time": "2021-12-11T08:56:16.951Z"
   },
   {
    "duration": 20,
    "start_time": "2021-12-11T08:56:16.978Z"
   },
   {
    "duration": 6,
    "start_time": "2021-12-11T08:56:17.000Z"
   },
   {
    "duration": 7,
    "start_time": "2021-12-11T08:56:17.009Z"
   },
   {
    "duration": 52,
    "start_time": "2021-12-11T08:56:17.019Z"
   },
   {
    "duration": 8,
    "start_time": "2021-12-11T08:56:17.076Z"
   },
   {
    "duration": 23,
    "start_time": "2021-12-11T08:56:17.088Z"
   },
   {
    "duration": 6,
    "start_time": "2021-12-11T08:56:17.114Z"
   },
   {
    "duration": 5,
    "start_time": "2021-12-11T08:56:17.167Z"
   },
   {
    "duration": 18,
    "start_time": "2021-12-11T08:56:17.175Z"
   },
   {
    "duration": 7,
    "start_time": "2021-12-11T08:56:17.196Z"
   },
   {
    "duration": 8,
    "start_time": "2021-12-11T08:56:17.205Z"
   },
   {
    "duration": 5,
    "start_time": "2021-12-11T08:56:17.215Z"
   },
   {
    "duration": 53,
    "start_time": "2021-12-11T08:56:17.223Z"
   },
   {
    "duration": 6,
    "start_time": "2021-12-11T08:56:17.279Z"
   },
   {
    "duration": 26,
    "start_time": "2021-12-11T08:56:17.287Z"
   },
   {
    "duration": 62,
    "start_time": "2021-12-11T08:56:17.316Z"
   },
   {
    "duration": 98,
    "start_time": "2021-12-11T08:56:17.382Z"
   },
   {
    "duration": 94,
    "start_time": "2021-12-11T08:56:17.483Z"
   },
   {
    "duration": 98,
    "start_time": "2021-12-11T08:56:17.582Z"
   },
   {
    "duration": 92,
    "start_time": "2021-12-11T08:56:17.683Z"
   },
   {
    "duration": 16,
    "start_time": "2021-12-11T08:57:03.430Z"
   },
   {
    "duration": 18,
    "start_time": "2021-12-11T08:57:05.395Z"
   },
   {
    "duration": 24,
    "start_time": "2021-12-11T08:57:14.413Z"
   },
   {
    "duration": 9,
    "start_time": "2021-12-11T08:57:15.150Z"
   },
   {
    "duration": 13,
    "start_time": "2021-12-11T08:57:47.022Z"
   },
   {
    "duration": 17,
    "start_time": "2021-12-11T08:57:51.414Z"
   },
   {
    "duration": 8,
    "start_time": "2021-12-11T08:57:52.391Z"
   },
   {
    "duration": 16,
    "start_time": "2021-12-11T08:57:55.954Z"
   },
   {
    "duration": 8,
    "start_time": "2021-12-11T08:57:57.329Z"
   },
   {
    "duration": 12,
    "start_time": "2021-12-11T08:58:39.734Z"
   },
   {
    "duration": 15,
    "start_time": "2021-12-11T08:58:41.632Z"
   },
   {
    "duration": 7,
    "start_time": "2021-12-11T08:58:41.854Z"
   },
   {
    "duration": 12,
    "start_time": "2021-12-11T08:58:42.293Z"
   },
   {
    "duration": 8,
    "start_time": "2021-12-11T08:58:42.843Z"
   },
   {
    "duration": 15,
    "start_time": "2021-12-11T08:58:43.843Z"
   },
   {
    "duration": 8,
    "start_time": "2021-12-11T08:58:44.442Z"
   },
   {
    "duration": 5,
    "start_time": "2021-12-11T09:00:54.612Z"
   },
   {
    "duration": 5,
    "start_time": "2021-12-11T09:01:04.676Z"
   },
   {
    "duration": 5,
    "start_time": "2021-12-11T09:01:19.007Z"
   },
   {
    "duration": 3717,
    "start_time": "2021-12-11T09:05:51.187Z"
   },
   {
    "duration": 3285,
    "start_time": "2021-12-11T09:06:08.446Z"
   },
   {
    "duration": 3313,
    "start_time": "2021-12-11T09:06:22.569Z"
   },
   {
    "duration": 3239,
    "start_time": "2021-12-11T09:06:41.628Z"
   },
   {
    "duration": 4,
    "start_time": "2021-12-11T09:08:27.666Z"
   },
   {
    "duration": 681,
    "start_time": "2021-12-11T09:08:34.702Z"
   },
   {
    "duration": 5,
    "start_time": "2021-12-11T09:08:49.934Z"
   },
   {
    "duration": 7795,
    "start_time": "2021-12-11T09:08:49.945Z"
   },
   {
    "duration": 4,
    "start_time": "2021-12-11T09:09:10.710Z"
   },
   {
    "duration": 12923,
    "start_time": "2021-12-11T09:09:10.736Z"
   },
   {
    "duration": 5,
    "start_time": "2021-12-11T09:10:18.081Z"
   },
   {
    "duration": 3947,
    "start_time": "2021-12-11T09:10:18.150Z"
   },
   {
    "duration": 5,
    "start_time": "2021-12-11T09:10:28.239Z"
   },
   {
    "duration": 13070,
    "start_time": "2021-12-11T09:10:29.710Z"
   },
   {
    "duration": 585,
    "start_time": "2021-12-11T09:22:17.560Z"
   },
   {
    "duration": 13080,
    "start_time": "2021-12-11T09:23:13.645Z"
   },
   {
    "duration": 9381,
    "start_time": "2021-12-11T09:23:26.728Z"
   },
   {
    "duration": 13002,
    "start_time": "2021-12-11T09:23:36.112Z"
   },
   {
    "duration": 6,
    "start_time": "2021-12-11T09:27:05.089Z"
   },
   {
    "duration": 471,
    "start_time": "2021-12-11T09:27:05.115Z"
   },
   {
    "duration": 13,
    "start_time": "2021-12-11T09:27:05.588Z"
   },
   {
    "duration": 18,
    "start_time": "2021-12-11T09:27:05.605Z"
   },
   {
    "duration": 79,
    "start_time": "2021-12-11T09:27:05.626Z"
   },
   {
    "duration": 18,
    "start_time": "2021-12-11T09:27:05.708Z"
   },
   {
    "duration": 150,
    "start_time": "2021-12-11T09:27:05.729Z"
   },
   {
    "duration": 22,
    "start_time": "2021-12-11T09:27:05.881Z"
   },
   {
    "duration": 69,
    "start_time": "2021-12-11T09:27:05.905Z"
   },
   {
    "duration": 13,
    "start_time": "2021-12-11T09:27:05.978Z"
   },
   {
    "duration": 22,
    "start_time": "2021-12-11T09:27:05.994Z"
   },
   {
    "duration": 75,
    "start_time": "2021-12-11T09:27:06.019Z"
   },
   {
    "duration": 17,
    "start_time": "2021-12-11T09:27:06.097Z"
   },
   {
    "duration": 18,
    "start_time": "2021-12-11T09:27:06.116Z"
   },
   {
    "duration": 46,
    "start_time": "2021-12-11T09:27:06.136Z"
   },
   {
    "duration": 14,
    "start_time": "2021-12-11T09:27:06.184Z"
   },
   {
    "duration": 11,
    "start_time": "2021-12-11T09:27:06.201Z"
   },
   {
    "duration": 12756,
    "start_time": "2021-12-11T09:27:06.214Z"
   },
   {
    "duration": 12745,
    "start_time": "2021-12-11T09:27:18.973Z"
   },
   {
    "duration": 12720,
    "start_time": "2021-12-11T09:27:31.722Z"
   },
   {
    "duration": 5,
    "start_time": "2021-12-11T09:27:44.444Z"
   },
   {
    "duration": 983,
    "start_time": "2021-12-11T09:27:44.451Z"
   },
   {
    "duration": 886,
    "start_time": "2021-12-11T09:27:45.437Z"
   },
   {
    "duration": 909,
    "start_time": "2021-12-11T09:27:46.326Z"
   },
   {
    "duration": 6,
    "start_time": "2021-12-11T09:27:47.237Z"
   },
   {
    "duration": 107,
    "start_time": "2021-12-11T09:27:47.245Z"
   },
   {
    "duration": 19,
    "start_time": "2021-12-11T09:27:47.355Z"
   },
   {
    "duration": 28,
    "start_time": "2021-12-11T09:27:47.381Z"
   },
   {
    "duration": 5,
    "start_time": "2021-12-11T09:27:47.412Z"
   },
   {
    "duration": 21,
    "start_time": "2021-12-11T09:27:47.419Z"
   },
   {
    "duration": 24,
    "start_time": "2021-12-11T09:27:47.443Z"
   },
   {
    "duration": 8,
    "start_time": "2021-12-11T09:27:47.469Z"
   },
   {
    "duration": 21,
    "start_time": "2021-12-11T09:27:47.479Z"
   },
   {
    "duration": 5,
    "start_time": "2021-12-11T09:27:47.502Z"
   },
   {
    "duration": 7,
    "start_time": "2021-12-11T09:27:47.509Z"
   },
   {
    "duration": 54,
    "start_time": "2021-12-11T09:27:47.518Z"
   },
   {
    "duration": 5,
    "start_time": "2021-12-11T09:27:47.575Z"
   },
   {
    "duration": 15,
    "start_time": "2021-12-11T09:27:47.583Z"
   },
   {
    "duration": 20,
    "start_time": "2021-12-11T09:27:47.600Z"
   },
   {
    "duration": 12,
    "start_time": "2021-12-11T09:27:47.623Z"
   },
   {
    "duration": 37,
    "start_time": "2021-12-11T09:27:47.637Z"
   },
   {
    "duration": 95,
    "start_time": "2021-12-11T09:27:47.676Z"
   },
   {
    "duration": 98,
    "start_time": "2021-12-11T09:27:47.775Z"
   },
   {
    "duration": 7,
    "start_time": "2021-12-11T09:27:47.875Z"
   },
   {
    "duration": 90,
    "start_time": "2021-12-11T09:27:47.885Z"
   },
   {
    "duration": 8,
    "start_time": "2021-12-11T09:27:48.067Z"
   },
   {
    "duration": 13,
    "start_time": "2021-12-11T09:27:48.078Z"
   },
   {
    "duration": 79,
    "start_time": "2021-12-11T09:27:48.094Z"
   },
   {
    "duration": 7,
    "start_time": "2021-12-11T09:27:48.268Z"
   },
   {
    "duration": 13,
    "start_time": "2021-12-11T09:27:48.277Z"
   },
   {
    "duration": 17,
    "start_time": "2021-12-11T10:08:04.616Z"
   },
   {
    "duration": 12,
    "start_time": "2021-12-11T10:08:10.776Z"
   },
   {
    "duration": 4,
    "start_time": "2021-12-11T10:08:13.145Z"
   },
   {
    "duration": 8,
    "start_time": "2021-12-11T10:10:39.953Z"
   },
   {
    "duration": 5,
    "start_time": "2021-12-11T10:12:07.886Z"
   },
   {
    "duration": 18,
    "start_time": "2021-12-11T10:12:07.895Z"
   },
   {
    "duration": 18,
    "start_time": "2021-12-11T10:12:13.003Z"
   },
   {
    "duration": 5,
    "start_time": "2021-12-11T10:12:23.395Z"
   },
   {
    "duration": 468,
    "start_time": "2021-12-11T10:12:23.406Z"
   },
   {
    "duration": 15,
    "start_time": "2021-12-11T10:12:23.877Z"
   },
   {
    "duration": 15,
    "start_time": "2021-12-11T10:12:23.896Z"
   },
   {
    "duration": 103,
    "start_time": "2021-12-11T10:12:23.913Z"
   },
   {
    "duration": 16,
    "start_time": "2021-12-11T10:12:24.019Z"
   },
   {
    "duration": 37,
    "start_time": "2021-12-11T10:12:24.037Z"
   },
   {
    "duration": 23,
    "start_time": "2021-12-11T10:12:24.076Z"
   },
   {
    "duration": 68,
    "start_time": "2021-12-11T10:12:24.101Z"
   },
   {
    "duration": 14,
    "start_time": "2021-12-11T10:12:24.173Z"
   },
   {
    "duration": 16,
    "start_time": "2021-12-11T10:12:24.190Z"
   },
   {
    "duration": 80,
    "start_time": "2021-12-11T10:12:24.208Z"
   },
   {
    "duration": 17,
    "start_time": "2021-12-11T10:12:24.290Z"
   },
   {
    "duration": 17,
    "start_time": "2021-12-11T10:12:24.309Z"
   },
   {
    "duration": 50,
    "start_time": "2021-12-11T10:12:24.329Z"
   },
   {
    "duration": 13,
    "start_time": "2021-12-11T10:12:24.382Z"
   },
   {
    "duration": 9,
    "start_time": "2021-12-11T10:12:24.398Z"
   },
   {
    "duration": 13881,
    "start_time": "2021-12-11T10:12:24.409Z"
   },
   {
    "duration": 12075,
    "start_time": "2021-12-11T10:12:38.292Z"
   },
   {
    "duration": 12877,
    "start_time": "2021-12-11T10:12:50.369Z"
   },
   {
    "duration": 4,
    "start_time": "2021-12-11T10:13:03.249Z"
   },
   {
    "duration": 882,
    "start_time": "2021-12-11T10:13:03.267Z"
   },
   {
    "duration": 1039,
    "start_time": "2021-12-11T10:13:04.152Z"
   },
   {
    "duration": 940,
    "start_time": "2021-12-11T10:13:05.194Z"
   },
   {
    "duration": 7,
    "start_time": "2021-12-11T10:13:06.137Z"
   },
   {
    "duration": 98,
    "start_time": "2021-12-11T10:13:06.147Z"
   },
   {
    "duration": 24,
    "start_time": "2021-12-11T10:13:06.248Z"
   },
   {
    "duration": 17,
    "start_time": "2021-12-11T10:13:06.280Z"
   },
   {
    "duration": 5,
    "start_time": "2021-12-11T10:13:06.300Z"
   },
   {
    "duration": 26,
    "start_time": "2021-12-11T10:13:06.307Z"
   },
   {
    "duration": 36,
    "start_time": "2021-12-11T10:13:06.336Z"
   },
   {
    "duration": 12,
    "start_time": "2021-12-11T10:13:06.375Z"
   },
   {
    "duration": 38,
    "start_time": "2021-12-11T10:13:06.389Z"
   },
   {
    "duration": 14,
    "start_time": "2021-12-11T10:13:06.429Z"
   },
   {
    "duration": 35,
    "start_time": "2021-12-11T10:13:06.445Z"
   },
   {
    "duration": 33,
    "start_time": "2021-12-11T10:13:06.483Z"
   },
   {
    "duration": 12,
    "start_time": "2021-12-11T10:13:06.518Z"
   },
   {
    "duration": 21,
    "start_time": "2021-12-11T10:13:06.533Z"
   },
   {
    "duration": 36,
    "start_time": "2021-12-11T10:13:06.557Z"
   },
   {
    "duration": 30,
    "start_time": "2021-12-11T10:13:06.596Z"
   },
   {
    "duration": 23,
    "start_time": "2021-12-11T10:13:06.629Z"
   },
   {
    "duration": 33,
    "start_time": "2021-12-11T10:13:06.655Z"
   },
   {
    "duration": 97,
    "start_time": "2021-12-11T10:13:06.770Z"
   },
   {
    "duration": 28,
    "start_time": "2021-12-11T10:13:06.870Z"
   },
   {
    "duration": 74,
    "start_time": "2021-12-11T10:13:06.900Z"
   },
   {
    "duration": 101,
    "start_time": "2021-12-11T10:13:07.067Z"
   },
   {
    "duration": 6,
    "start_time": "2021-12-11T10:13:07.171Z"
   },
   {
    "duration": 89,
    "start_time": "2021-12-11T10:13:07.179Z"
   },
   {
    "duration": 95,
    "start_time": "2021-12-11T10:13:07.274Z"
   },
   {
    "duration": 20,
    "start_time": "2021-12-11T10:13:07.372Z"
   },
   {
    "duration": 31,
    "start_time": "2021-12-11T10:13:07.395Z"
   },
   {
    "duration": 8,
    "start_time": "2021-12-11T10:13:07.429Z"
   },
   {
    "duration": 42,
    "start_time": "2021-12-11T10:13:07.440Z"
   },
   {
    "duration": 8,
    "start_time": "2021-12-11T10:13:18.965Z"
   },
   {
    "duration": 4,
    "start_time": "2021-12-11T10:16:13.974Z"
   },
   {
    "duration": 5,
    "start_time": "2021-12-11T10:16:23.657Z"
   },
   {
    "duration": 3,
    "start_time": "2021-12-11T10:20:22.911Z"
   },
   {
    "duration": 3,
    "start_time": "2021-12-11T10:20:45.110Z"
   },
   {
    "duration": 340,
    "start_time": "2021-12-11T10:20:53.890Z"
   },
   {
    "duration": 4,
    "start_time": "2021-12-11T10:20:56.969Z"
   },
   {
    "duration": 4,
    "start_time": "2021-12-11T10:21:01.940Z"
   },
   {
    "duration": 3,
    "start_time": "2021-12-11T10:21:08.911Z"
   },
   {
    "duration": 4,
    "start_time": "2021-12-11T10:23:06.659Z"
   },
   {
    "duration": 5,
    "start_time": "2021-12-11T10:26:27.755Z"
   },
   {
    "duration": 3,
    "start_time": "2021-12-11T11:08:07.806Z"
   },
   {
    "duration": 4,
    "start_time": "2021-12-11T11:08:44.545Z"
   },
   {
    "duration": 7,
    "start_time": "2021-12-11T12:29:13.568Z"
   },
   {
    "duration": 6,
    "start_time": "2021-12-11T12:29:32.183Z"
   },
   {
    "duration": 6,
    "start_time": "2021-12-11T12:29:36.164Z"
   },
   {
    "duration": 324,
    "start_time": "2021-12-11T12:29:39.026Z"
   },
   {
    "duration": 5,
    "start_time": "2021-12-11T12:29:42.794Z"
   },
   {
    "duration": 5,
    "start_time": "2021-12-11T12:29:59.053Z"
   },
   {
    "duration": 1062,
    "start_time": "2021-12-13T16:00:40.356Z"
   },
   {
    "duration": 797,
    "start_time": "2021-12-13T16:00:41.420Z"
   },
   {
    "duration": 14,
    "start_time": "2021-12-13T16:00:42.219Z"
   },
   {
    "duration": 13,
    "start_time": "2021-12-13T16:00:42.235Z"
   },
   {
    "duration": 47,
    "start_time": "2021-12-13T16:00:42.249Z"
   },
   {
    "duration": 11,
    "start_time": "2021-12-13T16:00:42.298Z"
   },
   {
    "duration": 9,
    "start_time": "2021-12-13T16:00:42.310Z"
   },
   {
    "duration": 15,
    "start_time": "2021-12-13T16:00:42.321Z"
   },
   {
    "duration": 61,
    "start_time": "2021-12-13T16:00:42.338Z"
   },
   {
    "duration": 10,
    "start_time": "2021-12-13T16:00:42.401Z"
   },
   {
    "duration": 12,
    "start_time": "2021-12-13T16:00:42.413Z"
   },
   {
    "duration": 38,
    "start_time": "2021-12-13T16:00:42.427Z"
   },
   {
    "duration": 37,
    "start_time": "2021-12-13T16:00:42.466Z"
   },
   {
    "duration": 12,
    "start_time": "2021-12-13T16:00:42.504Z"
   },
   {
    "duration": 12,
    "start_time": "2021-12-13T16:00:42.518Z"
   },
   {
    "duration": 11,
    "start_time": "2021-12-13T16:00:42.531Z"
   },
   {
    "duration": 6,
    "start_time": "2021-12-13T16:00:42.544Z"
   },
   {
    "duration": 5095,
    "start_time": "2021-12-13T16:00:42.551Z"
   },
   {
    "duration": 5008,
    "start_time": "2021-12-13T16:00:47.648Z"
   },
   {
    "duration": 4889,
    "start_time": "2021-12-13T16:00:52.658Z"
   },
   {
    "duration": 3,
    "start_time": "2021-12-13T16:00:57.548Z"
   },
   {
    "duration": 571,
    "start_time": "2021-12-13T16:00:57.553Z"
   },
   {
    "duration": 629,
    "start_time": "2021-12-13T16:00:58.128Z"
   },
   {
    "duration": 575,
    "start_time": "2021-12-13T16:00:58.760Z"
   },
   {
    "duration": 5,
    "start_time": "2021-12-13T16:00:59.337Z"
   },
   {
    "duration": 97,
    "start_time": "2021-12-13T16:00:59.343Z"
   },
   {
    "duration": 9,
    "start_time": "2021-12-13T16:00:59.442Z"
   },
   {
    "duration": 19,
    "start_time": "2021-12-13T16:00:59.453Z"
   },
   {
    "duration": 4,
    "start_time": "2021-12-13T16:00:59.474Z"
   },
   {
    "duration": 4,
    "start_time": "2021-12-13T16:00:59.491Z"
   },
   {
    "duration": 5,
    "start_time": "2021-12-13T16:00:59.497Z"
   },
   {
    "duration": 5,
    "start_time": "2021-12-13T16:00:59.504Z"
   },
   {
    "duration": 18,
    "start_time": "2021-12-13T16:00:59.510Z"
   },
   {
    "duration": 4,
    "start_time": "2021-12-13T16:00:59.529Z"
   },
   {
    "duration": 5,
    "start_time": "2021-12-13T16:00:59.534Z"
   },
   {
    "duration": 58,
    "start_time": "2021-12-13T16:00:59.540Z"
   },
   {
    "duration": 5,
    "start_time": "2021-12-13T16:00:59.600Z"
   },
   {
    "duration": 6,
    "start_time": "2021-12-13T16:00:59.607Z"
   },
   {
    "duration": 19,
    "start_time": "2021-12-13T16:00:59.615Z"
   },
   {
    "duration": 11,
    "start_time": "2021-12-13T16:00:59.636Z"
   },
   {
    "duration": 9,
    "start_time": "2021-12-13T16:00:59.650Z"
   },
   {
    "duration": 50,
    "start_time": "2021-12-13T16:00:59.660Z"
   },
   {
    "duration": 10,
    "start_time": "2021-12-13T16:00:59.795Z"
   },
   {
    "duration": 5,
    "start_time": "2021-12-13T16:00:59.892Z"
   },
   {
    "duration": 19,
    "start_time": "2021-12-13T16:00:59.899Z"
   },
   {
    "duration": 84,
    "start_time": "2021-12-13T16:00:59.920Z"
   },
   {
    "duration": 5,
    "start_time": "2021-12-13T16:01:00.092Z"
   },
   {
    "duration": 27,
    "start_time": "2021-12-13T16:01:00.099Z"
   },
   {
    "duration": 7,
    "start_time": "2021-12-13T16:01:00.192Z"
   },
   {
    "duration": 92,
    "start_time": "2021-12-13T16:01:00.202Z"
   },
   {
    "duration": 4,
    "start_time": "2021-12-13T16:01:00.296Z"
   },
   {
    "duration": 10,
    "start_time": "2021-12-13T16:01:00.302Z"
   },
   {
    "duration": 7,
    "start_time": "2021-12-13T16:01:00.314Z"
   },
   {
    "duration": 7,
    "start_time": "2021-12-13T16:01:00.323Z"
   },
   {
    "duration": 9,
    "start_time": "2021-12-13T16:01:00.331Z"
   },
   {
    "duration": 8,
    "start_time": "2021-12-13T16:01:00.342Z"
   },
   {
    "duration": 10,
    "start_time": "2021-12-13T16:01:00.352Z"
   },
   {
    "duration": 28,
    "start_time": "2021-12-13T16:01:00.364Z"
   },
   {
    "duration": 6,
    "start_time": "2021-12-13T16:19:29.914Z"
   },
   {
    "duration": 4,
    "start_time": "2021-12-13T16:20:49.901Z"
   },
   {
    "duration": 4,
    "start_time": "2021-12-13T16:20:54.850Z"
   },
   {
    "duration": 4,
    "start_time": "2021-12-13T16:22:14.270Z"
   },
   {
    "duration": 4,
    "start_time": "2021-12-13T16:22:20.789Z"
   },
   {
    "duration": 255,
    "start_time": "2021-12-13T16:55:37.944Z"
   },
   {
    "duration": 4,
    "start_time": "2021-12-13T16:55:54.321Z"
   },
   {
    "duration": 4,
    "start_time": "2021-12-13T16:55:56.904Z"
   },
   {
    "duration": 4,
    "start_time": "2021-12-13T16:56:16.673Z"
   },
   {
    "duration": 4,
    "start_time": "2021-12-13T16:56:26.305Z"
   },
   {
    "duration": 4,
    "start_time": "2021-12-13T16:56:35.524Z"
   },
   {
    "duration": 5,
    "start_time": "2021-12-13T16:56:37.049Z"
   },
   {
    "duration": 3,
    "start_time": "2021-12-13T16:57:11.524Z"
   },
   {
    "duration": 3,
    "start_time": "2021-12-13T16:57:51.608Z"
   },
   {
    "duration": 191,
    "start_time": "2021-12-13T16:58:02.621Z"
   },
   {
    "duration": 179,
    "start_time": "2021-12-13T16:58:09.892Z"
   },
   {
    "duration": 4,
    "start_time": "2021-12-13T16:58:13.757Z"
   },
   {
    "duration": 3,
    "start_time": "2021-12-13T16:58:18.512Z"
   },
   {
    "duration": 3,
    "start_time": "2021-12-13T16:59:52.560Z"
   },
   {
    "duration": 4,
    "start_time": "2021-12-13T17:00:08.385Z"
   },
   {
    "duration": 183,
    "start_time": "2021-12-13T17:00:17.786Z"
   },
   {
    "duration": 7,
    "start_time": "2021-12-13T17:00:24.749Z"
   },
   {
    "duration": 3,
    "start_time": "2021-12-13T17:01:40.040Z"
   },
   {
    "duration": 204,
    "start_time": "2021-12-13T17:02:09.156Z"
   },
   {
    "duration": 324,
    "start_time": "2021-12-13T17:02:16.292Z"
   },
   {
    "duration": 178,
    "start_time": "2021-12-13T17:02:24.100Z"
   },
   {
    "duration": 8,
    "start_time": "2021-12-13T17:04:00.121Z"
   },
   {
    "duration": 5,
    "start_time": "2021-12-13T17:04:08.614Z"
   },
   {
    "duration": 6,
    "start_time": "2021-12-13T17:04:15.883Z"
   },
   {
    "duration": 4,
    "start_time": "2021-12-13T17:04:24.955Z"
   },
   {
    "duration": 5,
    "start_time": "2021-12-13T17:05:02.020Z"
   },
   {
    "duration": 5,
    "start_time": "2021-12-13T17:05:14.204Z"
   },
   {
    "duration": 5,
    "start_time": "2021-12-13T17:05:20.003Z"
   },
   {
    "duration": 1327,
    "start_time": "2021-12-13T17:11:24.148Z"
   },
   {
    "duration": 8,
    "start_time": "2021-12-13T17:13:59.902Z"
   },
   {
    "duration": 200,
    "start_time": "2021-12-13T17:14:58.810Z"
   },
   {
    "duration": 248,
    "start_time": "2021-12-13T17:15:02.375Z"
   },
   {
    "duration": 255,
    "start_time": "2021-12-13T17:15:05.728Z"
   },
   {
    "duration": 164,
    "start_time": "2021-12-13T17:15:17.038Z"
   },
   {
    "duration": 13,
    "start_time": "2021-12-13T17:15:37.900Z"
   },
   {
    "duration": 17,
    "start_time": "2021-12-13T17:16:10.204Z"
   },
   {
    "duration": 7,
    "start_time": "2021-12-13T17:16:15.104Z"
   },
   {
    "duration": 8,
    "start_time": "2021-12-13T17:16:28.163Z"
   },
   {
    "duration": 55,
    "start_time": "2021-12-13T17:17:16.774Z"
   },
   {
    "duration": 58,
    "start_time": "2021-12-13T17:17:20.165Z"
   },
   {
    "duration": 7,
    "start_time": "2021-12-13T17:17:30.022Z"
   },
   {
    "duration": 7,
    "start_time": "2021-12-13T17:18:01.189Z"
   },
   {
    "duration": 167,
    "start_time": "2021-12-13T17:18:08.042Z"
   },
   {
    "duration": 7,
    "start_time": "2021-12-13T17:18:13.776Z"
   },
   {
    "duration": 7,
    "start_time": "2021-12-13T17:19:54.773Z"
   },
   {
    "duration": 193,
    "start_time": "2021-12-13T17:20:42.333Z"
   },
   {
    "duration": 175,
    "start_time": "2021-12-13T17:20:53.403Z"
   },
   {
    "duration": 1631,
    "start_time": "2021-12-13T17:21:20.871Z"
   },
   {
    "duration": 57,
    "start_time": "2021-12-13T17:21:31.552Z"
   },
   {
    "duration": 104,
    "start_time": "2021-12-13T17:21:37.268Z"
   },
   {
    "duration": 62,
    "start_time": "2021-12-13T17:21:55.752Z"
   },
   {
    "duration": 56,
    "start_time": "2021-12-13T17:22:04.929Z"
   },
   {
    "duration": 70,
    "start_time": "2021-12-13T17:22:17.447Z"
   },
   {
    "duration": 52,
    "start_time": "2021-12-13T17:22:29.826Z"
   },
   {
    "duration": 548,
    "start_time": "2021-12-13T17:22:42.451Z"
   },
   {
    "duration": 3,
    "start_time": "2021-12-13T17:24:05.488Z"
   },
   {
    "duration": 3,
    "start_time": "2021-12-13T17:24:19.969Z"
   },
   {
    "duration": 54,
    "start_time": "2021-12-13T17:24:29.389Z"
   },
   {
    "duration": 6,
    "start_time": "2021-12-13T17:25:16.768Z"
   },
   {
    "duration": 6,
    "start_time": "2021-12-13T17:26:54.599Z"
   },
   {
    "duration": 9,
    "start_time": "2021-12-13T17:26:58.401Z"
   },
   {
    "duration": 7,
    "start_time": "2021-12-13T17:27:35.944Z"
   },
   {
    "duration": 7,
    "start_time": "2021-12-13T17:28:53.110Z"
   },
   {
    "duration": 6,
    "start_time": "2021-12-13T17:28:55.613Z"
   },
   {
    "duration": 6,
    "start_time": "2021-12-13T17:28:58.032Z"
   },
   {
    "duration": 6,
    "start_time": "2021-12-13T17:32:39.160Z"
   },
   {
    "duration": 7,
    "start_time": "2021-12-13T17:32:47.206Z"
   },
   {
    "duration": 6,
    "start_time": "2021-12-13T17:32:50.418Z"
   },
   {
    "duration": 8,
    "start_time": "2021-12-13T17:32:55.731Z"
   },
   {
    "duration": 3,
    "start_time": "2021-12-13T17:42:55.386Z"
   },
   {
    "duration": 3,
    "start_time": "2021-12-13T20:00:05.785Z"
   },
   {
    "duration": 332,
    "start_time": "2021-12-13T20:00:58.968Z"
   },
   {
    "duration": 3,
    "start_time": "2021-12-13T20:01:12.147Z"
   },
   {
    "duration": 338,
    "start_time": "2021-12-13T20:01:13.127Z"
   },
   {
    "duration": 4,
    "start_time": "2021-12-13T20:02:10.475Z"
   },
   {
    "duration": 10,
    "start_time": "2021-12-13T20:02:11.748Z"
   },
   {
    "duration": 4,
    "start_time": "2021-12-13T20:13:06.880Z"
   },
   {
    "duration": 9,
    "start_time": "2021-12-13T20:13:07.267Z"
   },
   {
    "duration": 3,
    "start_time": "2021-12-13T20:14:57.347Z"
   },
   {
    "duration": 10,
    "start_time": "2021-12-13T20:14:58.193Z"
   },
   {
    "duration": 4,
    "start_time": "2021-12-13T20:15:05.274Z"
   },
   {
    "duration": 9,
    "start_time": "2021-12-13T20:15:05.683Z"
   },
   {
    "duration": 177,
    "start_time": "2021-12-13T20:16:35.948Z"
   },
   {
    "duration": 9,
    "start_time": "2021-12-13T20:17:06.506Z"
   },
   {
    "duration": 7,
    "start_time": "2021-12-13T20:18:16.947Z"
   },
   {
    "duration": 4,
    "start_time": "2021-12-13T20:18:33.280Z"
   },
   {
    "duration": 56,
    "start_time": "2021-12-13T20:18:41.174Z"
   },
   {
    "duration": 6,
    "start_time": "2021-12-13T20:18:46.566Z"
   },
   {
    "duration": 10,
    "start_time": "2021-12-13T20:19:12.686Z"
   },
   {
    "duration": 7,
    "start_time": "2021-12-13T20:19:31.981Z"
   },
   {
    "duration": 174,
    "start_time": "2021-12-13T20:19:59.622Z"
   },
   {
    "duration": 104,
    "start_time": "2021-12-13T20:20:05.789Z"
   },
   {
    "duration": 3,
    "start_time": "2021-12-13T20:20:45.015Z"
   },
   {
    "duration": 11,
    "start_time": "2021-12-13T20:20:45.580Z"
   },
   {
    "duration": 5,
    "start_time": "2021-12-13T20:21:06.346Z"
   },
   {
    "duration": 13,
    "start_time": "2021-12-13T20:21:06.831Z"
   },
   {
    "duration": 3,
    "start_time": "2021-12-13T20:21:20.252Z"
   },
   {
    "duration": 9,
    "start_time": "2021-12-13T20:21:20.516Z"
   },
   {
    "duration": 4,
    "start_time": "2021-12-13T20:21:57.578Z"
   },
   {
    "duration": 10,
    "start_time": "2021-12-13T20:21:57.811Z"
   },
   {
    "duration": 3,
    "start_time": "2021-12-13T20:22:08.588Z"
   },
   {
    "duration": 9,
    "start_time": "2021-12-13T20:22:09.660Z"
   },
   {
    "duration": 9,
    "start_time": "2021-12-13T20:22:14.761Z"
   },
   {
    "duration": 3,
    "start_time": "2021-12-13T20:22:21.213Z"
   },
   {
    "duration": 9,
    "start_time": "2021-12-13T20:22:21.520Z"
   },
   {
    "duration": 3,
    "start_time": "2021-12-13T20:22:25.738Z"
   },
   {
    "duration": 9,
    "start_time": "2021-12-13T20:22:26.704Z"
   },
   {
    "duration": 11,
    "start_time": "2021-12-13T20:22:28.630Z"
   },
   {
    "duration": 6,
    "start_time": "2021-12-13T20:23:06.153Z"
   },
   {
    "duration": 7,
    "start_time": "2021-12-13T20:23:14.459Z"
   },
   {
    "duration": 7,
    "start_time": "2021-12-13T20:23:22.686Z"
   },
   {
    "duration": 172,
    "start_time": "2021-12-13T20:23:36.010Z"
   },
   {
    "duration": 6,
    "start_time": "2021-12-13T20:23:56.065Z"
   },
   {
    "duration": 3,
    "start_time": "2021-12-13T20:25:32.430Z"
   },
   {
    "duration": 10,
    "start_time": "2021-12-13T20:25:32.913Z"
   },
   {
    "duration": 82,
    "start_time": "2021-12-13T20:31:31.961Z"
   },
   {
    "duration": 175,
    "start_time": "2021-12-13T20:31:35.787Z"
   },
   {
    "duration": 182,
    "start_time": "2021-12-13T20:31:40.966Z"
   },
   {
    "duration": 200,
    "start_time": "2021-12-13T20:31:44.676Z"
   },
   {
    "duration": 177,
    "start_time": "2021-12-13T20:31:49.869Z"
   },
   {
    "duration": 3,
    "start_time": "2021-12-13T20:32:54.220Z"
   },
   {
    "duration": 340,
    "start_time": "2021-12-13T20:32:59.513Z"
   },
   {
    "duration": 536,
    "start_time": "2021-12-13T20:33:13.615Z"
   },
   {
    "duration": 4,
    "start_time": "2021-12-13T20:33:20.872Z"
   },
   {
    "duration": 8,
    "start_time": "2021-12-13T20:33:22.092Z"
   },
   {
    "duration": 9,
    "start_time": "2021-12-13T20:37:01.232Z"
   },
   {
    "duration": 8,
    "start_time": "2021-12-13T20:37:20.313Z"
   },
   {
    "duration": 9,
    "start_time": "2021-12-13T20:37:36.663Z"
   },
   {
    "duration": 13663,
    "start_time": "2021-12-13T20:40:47.707Z"
   },
   {
    "duration": 171,
    "start_time": "2021-12-13T20:44:13.324Z"
   },
   {
    "duration": 4390,
    "start_time": "2021-12-13T20:44:27.893Z"
   },
   {
    "duration": 3,
    "start_time": "2021-12-13T20:48:30.088Z"
   },
   {
    "duration": 3,
    "start_time": "2021-12-13T20:48:35.240Z"
   },
   {
    "duration": 176,
    "start_time": "2021-12-13T20:49:11.636Z"
   },
   {
    "duration": 171,
    "start_time": "2021-12-13T20:49:29.212Z"
   },
   {
    "duration": 211,
    "start_time": "2021-12-13T20:50:42.068Z"
   },
   {
    "duration": 172,
    "start_time": "2021-12-13T20:50:56.088Z"
   },
   {
    "duration": 176,
    "start_time": "2021-12-13T20:51:42.631Z"
   },
   {
    "duration": 173,
    "start_time": "2021-12-13T20:51:59.709Z"
   },
   {
    "duration": 165,
    "start_time": "2021-12-13T20:52:14.650Z"
   },
   {
    "duration": 169,
    "start_time": "2021-12-13T20:52:27.474Z"
   },
   {
    "duration": 170,
    "start_time": "2021-12-13T20:52:52.227Z"
   },
   {
    "duration": 184,
    "start_time": "2021-12-13T20:53:29.444Z"
   },
   {
    "duration": 1230,
    "start_time": "2021-12-14T08:58:05.285Z"
   },
   {
    "duration": 390,
    "start_time": "2021-12-14T08:58:06.517Z"
   },
   {
    "duration": 12,
    "start_time": "2021-12-14T08:58:06.909Z"
   },
   {
    "duration": 12,
    "start_time": "2021-12-14T08:58:06.923Z"
   },
   {
    "duration": 38,
    "start_time": "2021-12-14T08:58:06.937Z"
   },
   {
    "duration": 32,
    "start_time": "2021-12-14T08:58:06.976Z"
   },
   {
    "duration": 9,
    "start_time": "2021-12-14T08:58:07.009Z"
   },
   {
    "duration": 12,
    "start_time": "2021-12-14T08:58:07.020Z"
   },
   {
    "duration": 37,
    "start_time": "2021-12-14T08:58:07.034Z"
   },
   {
    "duration": 36,
    "start_time": "2021-12-14T08:58:07.072Z"
   },
   {
    "duration": 13,
    "start_time": "2021-12-14T08:58:07.110Z"
   },
   {
    "duration": 36,
    "start_time": "2021-12-14T08:58:07.125Z"
   },
   {
    "duration": 12,
    "start_time": "2021-12-14T08:58:07.162Z"
   },
   {
    "duration": 36,
    "start_time": "2021-12-14T08:58:07.176Z"
   },
   {
    "duration": 12,
    "start_time": "2021-12-14T08:58:07.214Z"
   },
   {
    "duration": 11,
    "start_time": "2021-12-14T08:58:07.228Z"
   },
   {
    "duration": 5,
    "start_time": "2021-12-14T08:58:07.241Z"
   },
   {
    "duration": 9211,
    "start_time": "2021-12-14T08:58:07.247Z"
   },
   {
    "duration": 8519,
    "start_time": "2021-12-14T08:58:16.460Z"
   },
   {
    "duration": 8974,
    "start_time": "2021-12-14T08:58:24.981Z"
   },
   {
    "duration": 4,
    "start_time": "2021-12-14T08:58:33.957Z"
   },
   {
    "duration": 544,
    "start_time": "2021-12-14T08:58:33.964Z"
   },
   {
    "duration": 595,
    "start_time": "2021-12-14T08:58:34.513Z"
   },
   {
    "duration": 546,
    "start_time": "2021-12-14T08:58:35.111Z"
   },
   {
    "duration": 4,
    "start_time": "2021-12-14T08:58:35.659Z"
   },
   {
    "duration": 84,
    "start_time": "2021-12-14T08:58:35.665Z"
   },
   {
    "duration": 10,
    "start_time": "2021-12-14T08:58:35.751Z"
   },
   {
    "duration": 18,
    "start_time": "2021-12-14T08:58:35.763Z"
   },
   {
    "duration": 4,
    "start_time": "2021-12-14T08:58:35.783Z"
   },
   {
    "duration": 20,
    "start_time": "2021-12-14T08:58:35.789Z"
   },
   {
    "duration": 7,
    "start_time": "2021-12-14T08:58:35.810Z"
   },
   {
    "duration": 5,
    "start_time": "2021-12-14T08:58:35.819Z"
   },
   {
    "duration": 16,
    "start_time": "2021-12-14T08:58:35.826Z"
   },
   {
    "duration": 3,
    "start_time": "2021-12-14T08:58:35.844Z"
   },
   {
    "duration": 9,
    "start_time": "2021-12-14T08:58:35.849Z"
   },
   {
    "duration": 20,
    "start_time": "2021-12-14T08:58:35.859Z"
   },
   {
    "duration": 28,
    "start_time": "2021-12-14T08:58:35.881Z"
   },
   {
    "duration": 6,
    "start_time": "2021-12-14T08:58:35.911Z"
   },
   {
    "duration": 13,
    "start_time": "2021-12-14T08:58:35.918Z"
   },
   {
    "duration": 8,
    "start_time": "2021-12-14T08:58:35.932Z"
   },
   {
    "duration": 10,
    "start_time": "2021-12-14T08:58:35.942Z"
   },
   {
    "duration": 63,
    "start_time": "2021-12-14T08:58:35.954Z"
   },
   {
    "duration": 6,
    "start_time": "2021-12-14T08:58:36.107Z"
   },
   {
    "duration": 14,
    "start_time": "2021-12-14T08:58:36.115Z"
   },
   {
    "duration": 78,
    "start_time": "2021-12-14T08:58:36.131Z"
   },
   {
    "duration": 94,
    "start_time": "2021-12-14T08:58:36.212Z"
   },
   {
    "duration": 4,
    "start_time": "2021-12-14T08:58:36.309Z"
   },
   {
    "duration": 11,
    "start_time": "2021-12-14T08:58:36.315Z"
   },
   {
    "duration": 84,
    "start_time": "2021-12-14T08:58:36.329Z"
   },
   {
    "duration": 95,
    "start_time": "2021-12-14T08:58:36.415Z"
   },
   {
    "duration": 3,
    "start_time": "2021-12-14T08:58:36.511Z"
   },
   {
    "duration": 5,
    "start_time": "2021-12-14T08:58:36.515Z"
   },
   {
    "duration": 5,
    "start_time": "2021-12-14T08:58:36.521Z"
   },
   {
    "duration": 4,
    "start_time": "2021-12-14T08:58:36.527Z"
   },
   {
    "duration": 4,
    "start_time": "2021-12-14T08:58:36.533Z"
   },
   {
    "duration": 5,
    "start_time": "2021-12-14T08:58:36.538Z"
   },
   {
    "duration": 6,
    "start_time": "2021-12-14T08:58:36.545Z"
   },
   {
    "duration": 4,
    "start_time": "2021-12-14T08:58:36.552Z"
   },
   {
    "duration": 48,
    "start_time": "2021-12-14T08:58:36.558Z"
   },
   {
    "duration": 6,
    "start_time": "2021-12-14T08:58:36.609Z"
   },
   {
    "duration": 7,
    "start_time": "2021-12-14T08:58:36.617Z"
   },
   {
    "duration": 8,
    "start_time": "2021-12-14T08:58:36.626Z"
   },
   {
    "duration": 4,
    "start_time": "2021-12-14T08:58:36.636Z"
   },
   {
    "duration": 10,
    "start_time": "2021-12-14T08:58:36.642Z"
   },
   {
    "duration": 53,
    "start_time": "2021-12-14T08:58:36.654Z"
   },
   {
    "duration": 10,
    "start_time": "2021-12-14T08:58:36.709Z"
   },
   {
    "duration": 4792,
    "start_time": "2021-12-14T08:58:36.721Z"
   },
   {
    "duration": 2,
    "start_time": "2021-12-14T08:58:41.517Z"
   },
   {
    "duration": 423,
    "start_time": "2021-12-14T08:58:41.521Z"
   },
   {
    "duration": 8,
    "start_time": "2021-12-14T09:00:53.739Z"
   },
   {
    "duration": 8,
    "start_time": "2021-12-14T09:00:57.358Z"
   },
   {
    "duration": 9,
    "start_time": "2021-12-14T09:01:01.746Z"
   },
   {
    "duration": 8,
    "start_time": "2021-12-14T09:01:11.769Z"
   },
   {
    "duration": 9,
    "start_time": "2021-12-14T09:01:29.852Z"
   },
   {
    "duration": 108,
    "start_time": "2021-12-14T09:01:44.887Z"
   },
   {
    "duration": 8,
    "start_time": "2021-12-14T09:01:55.392Z"
   },
   {
    "duration": 9,
    "start_time": "2021-12-14T09:02:00.558Z"
   },
   {
    "duration": 9,
    "start_time": "2021-12-14T09:02:08.866Z"
   },
   {
    "duration": 8,
    "start_time": "2021-12-14T09:02:12.115Z"
   },
   {
    "duration": 9,
    "start_time": "2021-12-14T09:02:25.423Z"
   },
   {
    "duration": 9,
    "start_time": "2021-12-14T09:03:03.197Z"
   },
   {
    "duration": 8,
    "start_time": "2021-12-14T09:03:12.102Z"
   },
   {
    "duration": 9,
    "start_time": "2021-12-14T09:03:18.441Z"
   },
   {
    "duration": 4443,
    "start_time": "2021-12-14T09:03:51.217Z"
   },
   {
    "duration": 4514,
    "start_time": "2021-12-14T09:04:42.920Z"
   },
   {
    "duration": 4760,
    "start_time": "2021-12-14T09:05:01.064Z"
   },
   {
    "duration": 4473,
    "start_time": "2021-12-14T09:05:18.526Z"
   },
   {
    "duration": 4534,
    "start_time": "2021-12-14T09:24:34.129Z"
   },
   {
    "duration": 4,
    "start_time": "2021-12-14T09:26:33.920Z"
   },
   {
    "duration": 1652,
    "start_time": "2021-12-15T08:10:44.042Z"
   },
   {
    "duration": 1238,
    "start_time": "2021-12-15T08:10:45.697Z"
   },
   {
    "duration": 19,
    "start_time": "2021-12-15T08:10:46.939Z"
   },
   {
    "duration": 15,
    "start_time": "2021-12-15T08:10:46.961Z"
   },
   {
    "duration": 82,
    "start_time": "2021-12-15T08:10:46.978Z"
   },
   {
    "duration": 14,
    "start_time": "2021-12-15T08:10:47.062Z"
   },
   {
    "duration": 25,
    "start_time": "2021-12-15T08:10:47.079Z"
   },
   {
    "duration": 14,
    "start_time": "2021-12-15T08:10:47.119Z"
   },
   {
    "duration": 49,
    "start_time": "2021-12-15T08:10:47.136Z"
   },
   {
    "duration": 39,
    "start_time": "2021-12-15T08:10:47.188Z"
   },
   {
    "duration": 21,
    "start_time": "2021-12-15T08:10:47.230Z"
   },
   {
    "duration": 65,
    "start_time": "2021-12-15T08:10:47.253Z"
   },
   {
    "duration": 17,
    "start_time": "2021-12-15T08:10:47.321Z"
   },
   {
    "duration": 17,
    "start_time": "2021-12-15T08:10:47.340Z"
   },
   {
    "duration": 59,
    "start_time": "2021-12-15T08:10:47.360Z"
   },
   {
    "duration": 15,
    "start_time": "2021-12-15T08:10:47.421Z"
   },
   {
    "duration": 6,
    "start_time": "2021-12-15T08:10:47.439Z"
   },
   {
    "duration": 12977,
    "start_time": "2021-12-15T08:10:47.447Z"
   },
   {
    "duration": 12071,
    "start_time": "2021-12-15T08:11:00.426Z"
   },
   {
    "duration": 12709,
    "start_time": "2021-12-15T08:11:12.500Z"
   },
   {
    "duration": 5,
    "start_time": "2021-12-15T08:11:25.212Z"
   },
   {
    "duration": 873,
    "start_time": "2021-12-15T08:11:25.220Z"
   },
   {
    "duration": 953,
    "start_time": "2021-12-15T08:11:26.099Z"
   },
   {
    "duration": 872,
    "start_time": "2021-12-15T08:11:27.055Z"
   },
   {
    "duration": 6,
    "start_time": "2021-12-15T08:11:27.930Z"
   },
   {
    "duration": 119,
    "start_time": "2021-12-15T08:11:27.939Z"
   },
   {
    "duration": 16,
    "start_time": "2021-12-15T08:11:28.060Z"
   },
   {
    "duration": 43,
    "start_time": "2021-12-15T08:11:28.079Z"
   },
   {
    "duration": 7,
    "start_time": "2021-12-15T08:11:28.124Z"
   },
   {
    "duration": 14,
    "start_time": "2021-12-15T08:11:28.134Z"
   },
   {
    "duration": 8,
    "start_time": "2021-12-15T08:11:28.151Z"
   },
   {
    "duration": 11,
    "start_time": "2021-12-15T08:11:28.162Z"
   },
   {
    "duration": 58,
    "start_time": "2021-12-15T08:11:28.176Z"
   },
   {
    "duration": 5,
    "start_time": "2021-12-15T08:11:28.237Z"
   },
   {
    "duration": 14,
    "start_time": "2021-12-15T08:11:28.245Z"
   },
   {
    "duration": 32,
    "start_time": "2021-12-15T08:11:28.262Z"
   },
   {
    "duration": 23,
    "start_time": "2021-12-15T08:11:28.296Z"
   },
   {
    "duration": 5,
    "start_time": "2021-12-15T08:11:28.322Z"
   },
   {
    "duration": 36,
    "start_time": "2021-12-15T08:11:28.329Z"
   },
   {
    "duration": 39,
    "start_time": "2021-12-15T08:11:28.367Z"
   },
   {
    "duration": 33,
    "start_time": "2021-12-15T08:11:28.409Z"
   },
   {
    "duration": 21,
    "start_time": "2021-12-15T08:11:28.445Z"
   },
   {
    "duration": 108,
    "start_time": "2021-12-15T08:11:28.520Z"
   },
   {
    "duration": 6,
    "start_time": "2021-12-15T08:11:28.630Z"
   },
   {
    "duration": 20,
    "start_time": "2021-12-15T08:11:28.639Z"
   },
   {
    "duration": 99,
    "start_time": "2021-12-15T08:11:28.719Z"
   },
   {
    "duration": 10,
    "start_time": "2021-12-15T08:11:28.822Z"
   },
   {
    "duration": 23,
    "start_time": "2021-12-15T08:11:28.835Z"
   },
   {
    "duration": 96,
    "start_time": "2021-12-15T08:11:28.922Z"
   },
   {
    "duration": 26,
    "start_time": "2021-12-15T08:11:29.021Z"
   },
   {
    "duration": 3,
    "start_time": "2021-12-15T08:11:29.054Z"
   },
   {
    "duration": 18,
    "start_time": "2021-12-15T08:11:29.060Z"
   },
   {
    "duration": 8,
    "start_time": "2021-12-15T08:11:29.081Z"
   },
   {
    "duration": 7,
    "start_time": "2021-12-15T08:11:29.091Z"
   },
   {
    "duration": 18,
    "start_time": "2021-12-15T08:11:29.100Z"
   },
   {
    "duration": 12,
    "start_time": "2021-12-15T08:11:29.120Z"
   },
   {
    "duration": 9,
    "start_time": "2021-12-15T08:11:29.134Z"
   },
   {
    "duration": 10,
    "start_time": "2021-12-15T08:11:29.146Z"
   },
   {
    "duration": 24,
    "start_time": "2021-12-15T08:11:29.159Z"
   },
   {
    "duration": 39,
    "start_time": "2021-12-15T08:11:29.186Z"
   },
   {
    "duration": 13,
    "start_time": "2021-12-15T08:11:29.228Z"
   },
   {
    "duration": 12,
    "start_time": "2021-12-15T08:11:29.244Z"
   },
   {
    "duration": 22,
    "start_time": "2021-12-15T08:11:29.259Z"
   },
   {
    "duration": 34,
    "start_time": "2021-12-15T08:11:29.283Z"
   },
   {
    "duration": 14,
    "start_time": "2021-12-15T08:11:29.320Z"
   },
   {
    "duration": 16,
    "start_time": "2021-12-15T08:11:29.337Z"
   },
   {
    "duration": 8,
    "start_time": "2021-12-15T08:11:29.356Z"
   },
   {
    "duration": 6,
    "start_time": "2021-12-15T08:17:45.893Z"
   },
   {
    "duration": 607,
    "start_time": "2021-12-15T08:18:26.448Z"
   },
   {
    "duration": 6,
    "start_time": "2021-12-15T08:18:42.962Z"
   },
   {
    "duration": 11474,
    "start_time": "2021-12-15T08:18:43.290Z"
   },
   {
    "duration": 6,
    "start_time": "2021-12-15T08:19:13.882Z"
   },
   {
    "duration": 11240,
    "start_time": "2021-12-15T08:19:14.370Z"
   },
   {
    "duration": 6,
    "start_time": "2021-12-15T08:19:49.830Z"
   },
   {
    "duration": 11183,
    "start_time": "2021-12-15T08:19:51.384Z"
   },
   {
    "duration": 7,
    "start_time": "2021-12-15T08:24:53.753Z"
   },
   {
    "duration": 494,
    "start_time": "2021-12-15T08:24:54.641Z"
   },
   {
    "duration": 7,
    "start_time": "2021-12-15T08:25:12.573Z"
   },
   {
    "duration": 472,
    "start_time": "2021-12-15T08:25:12.879Z"
   },
   {
    "duration": 7,
    "start_time": "2021-12-15T08:25:24.954Z"
   },
   {
    "duration": 11084,
    "start_time": "2021-12-15T08:25:25.525Z"
   },
   {
    "duration": 8,
    "start_time": "2021-12-15T08:26:27.075Z"
   },
   {
    "duration": 11626,
    "start_time": "2021-12-15T08:26:27.822Z"
   },
   {
    "duration": 6,
    "start_time": "2021-12-15T08:27:33.462Z"
   },
   {
    "duration": 8235,
    "start_time": "2021-12-15T08:27:34.295Z"
   },
   {
    "duration": 8,
    "start_time": "2021-12-15T08:34:19.442Z"
   },
   {
    "duration": 799,
    "start_time": "2021-12-15T08:34:21.261Z"
   },
   {
    "duration": 7,
    "start_time": "2021-12-15T08:34:56.429Z"
   },
   {
    "duration": 805,
    "start_time": "2021-12-15T08:34:56.998Z"
   },
   {
    "duration": 6,
    "start_time": "2021-12-15T08:56:31.438Z"
   },
   {
    "duration": 2726,
    "start_time": "2021-12-15T08:56:31.658Z"
   },
   {
    "duration": 7,
    "start_time": "2021-12-15T09:01:12.371Z"
   },
   {
    "duration": 691,
    "start_time": "2021-12-15T09:01:12.823Z"
   },
   {
    "duration": 7,
    "start_time": "2021-12-15T09:01:23.201Z"
   },
   {
    "duration": 2625,
    "start_time": "2021-12-15T09:01:23.741Z"
   },
   {
    "duration": 7,
    "start_time": "2021-12-15T09:02:40.419Z"
   },
   {
    "duration": 2689,
    "start_time": "2021-12-15T09:02:40.890Z"
   },
   {
    "duration": 7,
    "start_time": "2021-12-15T09:03:06.836Z"
   },
   {
    "duration": 3009,
    "start_time": "2021-12-15T09:03:07.022Z"
   },
   {
    "duration": 10,
    "start_time": "2021-12-15T09:04:00.666Z"
   },
   {
    "duration": 494,
    "start_time": "2021-12-15T09:04:01.160Z"
   },
   {
    "duration": 7,
    "start_time": "2021-12-15T09:04:20.608Z"
   },
   {
    "duration": 2787,
    "start_time": "2021-12-15T09:04:20.935Z"
   },
   {
    "duration": 6,
    "start_time": "2021-12-15T09:06:04.795Z"
   },
   {
    "duration": 2646,
    "start_time": "2021-12-15T09:06:05.180Z"
   },
   {
    "duration": 6,
    "start_time": "2021-12-15T09:06:18.835Z"
   },
   {
    "duration": 2702,
    "start_time": "2021-12-15T09:06:19.086Z"
   },
   {
    "duration": 7,
    "start_time": "2021-12-15T09:26:55.849Z"
   },
   {
    "duration": 4095,
    "start_time": "2021-12-15T09:26:57.349Z"
   },
   {
    "duration": 8,
    "start_time": "2021-12-15T09:27:20.910Z"
   },
   {
    "duration": 3265,
    "start_time": "2021-12-15T09:27:21.204Z"
   },
   {
    "duration": 7,
    "start_time": "2021-12-15T09:34:15.148Z"
   },
   {
    "duration": 2893,
    "start_time": "2021-12-15T09:34:15.393Z"
   },
   {
    "duration": 7,
    "start_time": "2021-12-15T09:34:50.991Z"
   },
   {
    "duration": 3373,
    "start_time": "2021-12-15T09:34:51.201Z"
   },
   {
    "duration": 7,
    "start_time": "2021-12-15T09:35:25.826Z"
   },
   {
    "duration": 3712,
    "start_time": "2021-12-15T09:35:26.091Z"
   },
   {
    "duration": 7,
    "start_time": "2021-12-15T09:36:05.141Z"
   },
   {
    "duration": 3228,
    "start_time": "2021-12-15T09:36:05.612Z"
   },
   {
    "duration": 7,
    "start_time": "2021-12-15T09:36:44.863Z"
   },
   {
    "duration": 2981,
    "start_time": "2021-12-15T09:36:45.270Z"
   },
   {
    "duration": 10,
    "start_time": "2021-12-15T09:38:13.623Z"
   },
   {
    "duration": 2864,
    "start_time": "2021-12-15T09:38:14.101Z"
   },
   {
    "duration": 7,
    "start_time": "2021-12-15T09:39:16.138Z"
   },
   {
    "duration": 3302,
    "start_time": "2021-12-15T09:39:16.394Z"
   },
   {
    "duration": 10,
    "start_time": "2021-12-15T09:39:24.228Z"
   },
   {
    "duration": 2793,
    "start_time": "2021-12-15T09:39:24.502Z"
   },
   {
    "duration": 7,
    "start_time": "2021-12-15T09:39:55.784Z"
   },
   {
    "duration": 2760,
    "start_time": "2021-12-15T09:39:56.092Z"
   },
   {
    "duration": 8,
    "start_time": "2021-12-15T09:40:26.208Z"
   },
   {
    "duration": 2869,
    "start_time": "2021-12-15T09:40:26.549Z"
   },
   {
    "duration": 7,
    "start_time": "2021-12-15T09:41:49.606Z"
   },
   {
    "duration": 3324,
    "start_time": "2021-12-15T09:41:49.841Z"
   },
   {
    "duration": 8,
    "start_time": "2021-12-15T09:42:23.544Z"
   },
   {
    "duration": 5734,
    "start_time": "2021-12-15T09:42:23.922Z"
   },
   {
    "duration": 8,
    "start_time": "2021-12-15T09:43:07.037Z"
   },
   {
    "duration": 3244,
    "start_time": "2021-12-15T09:43:07.388Z"
   },
   {
    "duration": 8,
    "start_time": "2021-12-15T09:45:28.229Z"
   },
   {
    "duration": 2625,
    "start_time": "2021-12-15T09:45:28.561Z"
   },
   {
    "duration": 9,
    "start_time": "2021-12-15T09:45:48.966Z"
   },
   {
    "duration": 2653,
    "start_time": "2021-12-15T09:45:49.259Z"
   },
   {
    "duration": 8,
    "start_time": "2021-12-15T09:46:01.408Z"
   },
   {
    "duration": 2795,
    "start_time": "2021-12-15T09:46:01.797Z"
   },
   {
    "duration": 13,
    "start_time": "2021-12-15T09:46:24.485Z"
   },
   {
    "duration": 2652,
    "start_time": "2021-12-15T09:46:25.152Z"
   },
   {
    "duration": 8,
    "start_time": "2021-12-15T09:46:38.414Z"
   },
   {
    "duration": 2785,
    "start_time": "2021-12-15T09:46:38.842Z"
   },
   {
    "duration": 8,
    "start_time": "2021-12-15T09:46:55.337Z"
   },
   {
    "duration": 2675,
    "start_time": "2021-12-15T09:46:55.777Z"
   },
   {
    "duration": 12,
    "start_time": "2021-12-15T09:47:10.396Z"
   },
   {
    "duration": 2884,
    "start_time": "2021-12-15T09:47:10.699Z"
   },
   {
    "duration": 8,
    "start_time": "2021-12-15T09:47:46.102Z"
   },
   {
    "duration": 3327,
    "start_time": "2021-12-15T09:47:46.578Z"
   },
   {
    "duration": 11,
    "start_time": "2021-12-15T09:48:34.521Z"
   },
   {
    "duration": 4280,
    "start_time": "2021-12-15T09:48:34.829Z"
   },
   {
    "duration": 8,
    "start_time": "2021-12-15T09:49:22.949Z"
   },
   {
    "duration": 2691,
    "start_time": "2021-12-15T09:49:23.227Z"
   },
   {
    "duration": 7,
    "start_time": "2021-12-15T09:49:32.844Z"
   },
   {
    "duration": 2665,
    "start_time": "2021-12-15T09:49:33.132Z"
   },
   {
    "duration": 2679,
    "start_time": "2021-12-15T09:49:48.397Z"
   },
   {
    "duration": 2807,
    "start_time": "2021-12-15T09:49:58.636Z"
   },
   {
    "duration": 84,
    "start_time": "2021-12-15T09:53:50.994Z"
   },
   {
    "duration": 14,
    "start_time": "2021-12-15T09:54:03.118Z"
   },
   {
    "duration": 2738,
    "start_time": "2021-12-15T09:54:07.937Z"
   },
   {
    "duration": 7,
    "start_time": "2021-12-15T09:54:32.339Z"
   },
   {
    "duration": 2776,
    "start_time": "2021-12-15T09:54:32.520Z"
   },
   {
    "duration": 2745,
    "start_time": "2021-12-15T09:55:30.725Z"
   },
   {
    "duration": 2899,
    "start_time": "2021-12-15T09:55:42.457Z"
   },
   {
    "duration": 2720,
    "start_time": "2021-12-15T09:55:55.947Z"
   },
   {
    "duration": 2882,
    "start_time": "2021-12-15T09:56:22.644Z"
   },
   {
    "duration": 1482,
    "start_time": "2021-12-15T11:13:50.612Z"
   },
   {
    "duration": 468,
    "start_time": "2021-12-15T11:13:52.097Z"
   },
   {
    "duration": 16,
    "start_time": "2021-12-15T11:14:30.352Z"
   },
   {
    "duration": 15,
    "start_time": "2021-12-15T11:14:30.985Z"
   },
   {
    "duration": 54,
    "start_time": "2021-12-15T11:14:31.593Z"
   },
   {
    "duration": 15,
    "start_time": "2021-12-15T11:14:32.267Z"
   },
   {
    "duration": 18,
    "start_time": "2021-12-15T11:14:34.492Z"
   },
   {
    "duration": 14,
    "start_time": "2021-12-15T11:14:34.666Z"
   },
   {
    "duration": 67,
    "start_time": "2021-12-15T11:14:34.864Z"
   },
   {
    "duration": 13,
    "start_time": "2021-12-15T11:14:35.728Z"
   },
   {
    "duration": 13,
    "start_time": "2021-12-15T11:14:36.158Z"
   },
   {
    "duration": 46,
    "start_time": "2021-12-15T11:14:36.329Z"
   },
   {
    "duration": 17,
    "start_time": "2021-12-15T11:15:16.964Z"
   },
   {
    "duration": 30,
    "start_time": "2021-12-15T11:15:18.191Z"
   },
   {
    "duration": 25,
    "start_time": "2021-12-15T11:15:18.679Z"
   },
   {
    "duration": 14,
    "start_time": "2021-12-15T11:16:49.750Z"
   },
   {
    "duration": 6,
    "start_time": "2021-12-15T11:16:52.161Z"
   },
   {
    "duration": 13935,
    "start_time": "2021-12-15T11:16:53.735Z"
   },
   {
    "duration": 12164,
    "start_time": "2021-12-15T11:17:07.674Z"
   },
   {
    "duration": 12897,
    "start_time": "2021-12-15T11:17:19.842Z"
   },
   {
    "duration": 5,
    "start_time": "2021-12-15T11:17:51.421Z"
   },
   {
    "duration": 851,
    "start_time": "2021-12-15T11:17:52.014Z"
   },
   {
    "duration": 955,
    "start_time": "2021-12-15T11:17:52.867Z"
   },
   {
    "duration": 892,
    "start_time": "2021-12-15T11:17:53.826Z"
   },
   {
    "duration": 6,
    "start_time": "2021-12-15T11:18:13.453Z"
   },
   {
    "duration": 90,
    "start_time": "2021-12-15T11:18:13.594Z"
   },
   {
    "duration": 13,
    "start_time": "2021-12-15T11:18:41.550Z"
   },
   {
    "duration": 20,
    "start_time": "2021-12-15T11:18:42.719Z"
   },
   {
    "duration": 5,
    "start_time": "2021-12-15T11:18:42.893Z"
   },
   {
    "duration": 5,
    "start_time": "2021-12-15T11:18:43.036Z"
   },
   {
    "duration": 5,
    "start_time": "2021-12-15T11:18:43.217Z"
   },
   {
    "duration": 5,
    "start_time": "2021-12-15T11:18:43.448Z"
   },
   {
    "duration": 25,
    "start_time": "2021-12-15T11:18:44.064Z"
   },
   {
    "duration": 7,
    "start_time": "2021-12-15T11:18:44.834Z"
   },
   {
    "duration": 7,
    "start_time": "2021-12-15T11:18:45.654Z"
   },
   {
    "duration": 27,
    "start_time": "2021-12-15T11:18:46.277Z"
   },
   {
    "duration": 6,
    "start_time": "2021-12-15T11:18:47.225Z"
   },
   {
    "duration": 6,
    "start_time": "2021-12-15T11:18:47.399Z"
   },
   {
    "duration": 19,
    "start_time": "2021-12-15T11:19:38.960Z"
   },
   {
    "duration": 16,
    "start_time": "2021-12-15T11:19:39.245Z"
   },
   {
    "duration": 16,
    "start_time": "2021-12-15T11:19:39.420Z"
   },
   {
    "duration": 84,
    "start_time": "2021-12-15T11:21:12.283Z"
   },
   {
    "duration": 7,
    "start_time": "2021-12-15T11:21:13.603Z"
   },
   {
    "duration": 6,
    "start_time": "2021-12-15T11:21:15.489Z"
   },
   {
    "duration": 23,
    "start_time": "2021-12-15T11:21:17.088Z"
   },
   {
    "duration": 7,
    "start_time": "2021-12-15T11:21:17.519Z"
   },
   {
    "duration": 6,
    "start_time": "2021-12-15T11:21:17.757Z"
   },
   {
    "duration": 86,
    "start_time": "2021-12-15T11:21:18.777Z"
   },
   {
    "duration": 8,
    "start_time": "2021-12-15T11:21:18.966Z"
   },
   {
    "duration": 7,
    "start_time": "2021-12-15T11:21:19.198Z"
   },
   {
    "duration": 4,
    "start_time": "2021-12-15T11:24:46.860Z"
   },
   {
    "duration": 4,
    "start_time": "2021-12-15T11:24:47.498Z"
   },
   {
    "duration": 4,
    "start_time": "2021-12-15T11:24:47.854Z"
   },
   {
    "duration": 3,
    "start_time": "2021-12-15T11:24:48.287Z"
   },
   {
    "duration": 3,
    "start_time": "2021-12-15T11:24:48.883Z"
   },
   {
    "duration": 5,
    "start_time": "2021-12-15T11:24:49.545Z"
   },
   {
    "duration": 5,
    "start_time": "2021-12-15T11:25:26.775Z"
   },
   {
    "duration": 6,
    "start_time": "2021-12-15T11:25:27.422Z"
   },
   {
    "duration": 6,
    "start_time": "2021-12-15T11:25:27.620Z"
   },
   {
    "duration": 8,
    "start_time": "2021-12-15T11:25:31.042Z"
   },
   {
    "duration": 8,
    "start_time": "2021-12-15T11:25:31.185Z"
   },
   {
    "duration": 9,
    "start_time": "2021-12-15T11:25:31.376Z"
   },
   {
    "duration": 6,
    "start_time": "2021-12-15T11:26:02.112Z"
   },
   {
    "duration": 15,
    "start_time": "2021-12-15T11:26:02.274Z"
   },
   {
    "duration": 14,
    "start_time": "2021-12-15T11:26:02.447Z"
   },
   {
    "duration": 14,
    "start_time": "2021-12-15T11:26:02.622Z"
   },
   {
    "duration": 6,
    "start_time": "2021-12-15T11:26:18.233Z"
   },
   {
    "duration": 13,
    "start_time": "2021-12-15T11:26:20.356Z"
   },
   {
    "duration": 13,
    "start_time": "2021-12-15T11:26:20.584Z"
   },
   {
    "duration": 13,
    "start_time": "2021-12-15T11:26:20.996Z"
   },
   {
    "duration": 8,
    "start_time": "2021-12-15T11:26:24.195Z"
   },
   {
    "duration": 5000,
    "start_time": "2021-12-15T11:26:27.154Z"
   },
   {
    "duration": 3727,
    "start_time": "2021-12-15T11:26:33.448Z"
   },
   {
    "duration": 3397,
    "start_time": "2021-12-15T11:26:38.162Z"
   },
   {
    "duration": 4,
    "start_time": "2021-12-15T11:27:16.675Z"
   },
   {
    "duration": 2987,
    "start_time": "2021-12-15T11:27:37.228Z"
   },
   {
    "duration": 3392,
    "start_time": "2021-12-15T11:27:40.218Z"
   },
   {
    "duration": 3667,
    "start_time": "2021-12-15T11:27:43.613Z"
   },
   {
    "duration": 5,
    "start_time": "2021-12-15T11:30:03.672Z"
   },
   {
    "duration": 8,
    "start_time": "2021-12-15T11:30:07.480Z"
   },
   {
    "duration": 874,
    "start_time": "2021-12-15T11:30:08.920Z"
   },
   {
    "duration": 8,
    "start_time": "2021-12-15T11:31:05.313Z"
   },
   {
    "duration": 5299,
    "start_time": "2021-12-15T11:31:06.337Z"
   },
   {
    "duration": 9,
    "start_time": "2021-12-15T11:31:28.712Z"
   },
   {
    "duration": 7255,
    "start_time": "2021-12-15T11:31:31.038Z"
   },
   {
    "duration": 12,
    "start_time": "2021-12-15T11:32:11.053Z"
   },
   {
    "duration": 7441,
    "start_time": "2021-12-15T11:32:12.190Z"
   },
   {
    "duration": 10,
    "start_time": "2021-12-15T11:35:15.299Z"
   },
   {
    "duration": 1315,
    "start_time": "2021-12-15T11:35:18.469Z"
   },
   {
    "duration": 9,
    "start_time": "2021-12-15T11:37:09.058Z"
   },
   {
    "duration": 6542,
    "start_time": "2021-12-15T11:37:10.639Z"
   },
   {
    "duration": 8,
    "start_time": "2021-12-15T11:38:22.185Z"
   },
   {
    "duration": 6728,
    "start_time": "2021-12-15T11:38:23.001Z"
   },
   {
    "duration": 7,
    "start_time": "2021-12-15T11:38:41.662Z"
   },
   {
    "duration": 3420,
    "start_time": "2021-12-15T11:38:42.430Z"
   },
   {
    "duration": 1448,
    "start_time": "2021-12-16T11:26:39.365Z"
   },
   {
    "duration": 419,
    "start_time": "2021-12-16T11:26:40.816Z"
   },
   {
    "duration": 16,
    "start_time": "2021-12-16T11:26:41.238Z"
   },
   {
    "duration": 26,
    "start_time": "2021-12-16T11:26:41.257Z"
   },
   {
    "duration": 65,
    "start_time": "2021-12-16T11:26:41.286Z"
   },
   {
    "duration": 14,
    "start_time": "2021-12-16T11:26:41.353Z"
   },
   {
    "duration": 37,
    "start_time": "2021-12-16T11:26:41.370Z"
   },
   {
    "duration": 24,
    "start_time": "2021-12-16T11:26:41.410Z"
   },
   {
    "duration": 68,
    "start_time": "2021-12-16T11:26:41.437Z"
   },
   {
    "duration": 11,
    "start_time": "2021-12-16T11:26:41.508Z"
   },
   {
    "duration": 38,
    "start_time": "2021-12-16T11:26:41.521Z"
   },
   {
    "duration": 50,
    "start_time": "2021-12-16T11:26:41.562Z"
   },
   {
    "duration": 16,
    "start_time": "2021-12-16T11:26:41.614Z"
   },
   {
    "duration": 22,
    "start_time": "2021-12-16T11:26:41.633Z"
   },
   {
    "duration": 21,
    "start_time": "2021-12-16T11:26:41.657Z"
   },
   {
    "duration": 14,
    "start_time": "2021-12-16T11:26:41.681Z"
   },
   {
    "duration": 28,
    "start_time": "2021-12-16T11:26:41.697Z"
   },
   {
    "duration": 12183,
    "start_time": "2021-12-16T11:26:41.728Z"
   },
   {
    "duration": 11679,
    "start_time": "2021-12-16T11:26:53.913Z"
   },
   {
    "duration": 11940,
    "start_time": "2021-12-16T11:27:05.595Z"
   },
   {
    "duration": 5,
    "start_time": "2021-12-16T11:27:17.538Z"
   },
   {
    "duration": 841,
    "start_time": "2021-12-16T11:27:17.545Z"
   },
   {
    "duration": 865,
    "start_time": "2021-12-16T11:27:18.392Z"
   },
   {
    "duration": 840,
    "start_time": "2021-12-16T11:27:19.261Z"
   },
   {
    "duration": 6,
    "start_time": "2021-12-16T11:27:20.104Z"
   },
   {
    "duration": 80,
    "start_time": "2021-12-16T11:27:20.124Z"
   },
   {
    "duration": 13,
    "start_time": "2021-12-16T11:27:20.223Z"
   },
   {
    "duration": 34,
    "start_time": "2021-12-16T11:27:20.239Z"
   },
   {
    "duration": 6,
    "start_time": "2021-12-16T11:27:20.276Z"
   },
   {
    "duration": 22,
    "start_time": "2021-12-16T11:27:20.285Z"
   },
   {
    "duration": 16,
    "start_time": "2021-12-16T11:27:20.310Z"
   },
   {
    "duration": 17,
    "start_time": "2021-12-16T11:27:20.328Z"
   },
   {
    "duration": 29,
    "start_time": "2021-12-16T11:27:20.347Z"
   },
   {
    "duration": 8,
    "start_time": "2021-12-16T11:27:20.378Z"
   },
   {
    "duration": 24,
    "start_time": "2021-12-16T11:27:20.389Z"
   },
   {
    "duration": 27,
    "start_time": "2021-12-16T11:27:20.416Z"
   },
   {
    "duration": 5,
    "start_time": "2021-12-16T11:27:20.445Z"
   },
   {
    "duration": 24,
    "start_time": "2021-12-16T11:27:20.453Z"
   },
   {
    "duration": 23,
    "start_time": "2021-12-16T11:27:20.480Z"
   },
   {
    "duration": 10,
    "start_time": "2021-12-16T11:27:20.506Z"
   },
   {
    "duration": 15,
    "start_time": "2021-12-16T11:27:20.518Z"
   },
   {
    "duration": 91,
    "start_time": "2021-12-16T11:27:20.535Z"
   },
   {
    "duration": 104,
    "start_time": "2021-12-16T11:27:20.630Z"
   },
   {
    "duration": 9,
    "start_time": "2021-12-16T11:27:20.737Z"
   },
   {
    "duration": 78,
    "start_time": "2021-12-16T11:27:20.749Z"
   },
   {
    "duration": 99,
    "start_time": "2021-12-16T11:27:20.830Z"
   },
   {
    "duration": 8,
    "start_time": "2021-12-16T11:27:20.932Z"
   },
   {
    "duration": 85,
    "start_time": "2021-12-16T11:27:20.943Z"
   },
   {
    "duration": 8,
    "start_time": "2021-12-16T11:27:21.123Z"
   },
   {
    "duration": 8,
    "start_time": "2021-12-16T11:27:21.133Z"
   },
   {
    "duration": 4,
    "start_time": "2021-12-16T11:27:21.143Z"
   },
   {
    "duration": 11,
    "start_time": "2021-12-16T11:27:21.149Z"
   },
   {
    "duration": 9,
    "start_time": "2021-12-16T11:27:21.162Z"
   },
   {
    "duration": 12,
    "start_time": "2021-12-16T11:27:21.173Z"
   },
   {
    "duration": 9,
    "start_time": "2021-12-16T11:27:21.187Z"
   },
   {
    "duration": 4,
    "start_time": "2021-12-16T11:27:21.223Z"
   },
   {
    "duration": 16,
    "start_time": "2021-12-16T11:27:21.230Z"
   },
   {
    "duration": 8,
    "start_time": "2021-12-16T11:27:21.248Z"
   },
   {
    "duration": 9,
    "start_time": "2021-12-16T11:27:21.258Z"
   },
   {
    "duration": 20,
    "start_time": "2021-12-16T11:27:21.269Z"
   },
   {
    "duration": 22,
    "start_time": "2021-12-16T11:27:21.291Z"
   },
   {
    "duration": 9,
    "start_time": "2021-12-16T11:27:21.324Z"
   },
   {
    "duration": 23,
    "start_time": "2021-12-16T11:27:21.335Z"
   },
   {
    "duration": 14,
    "start_time": "2021-12-16T11:27:21.360Z"
   },
   {
    "duration": 12,
    "start_time": "2021-12-16T11:27:21.376Z"
   },
   {
    "duration": 11,
    "start_time": "2021-12-16T11:27:21.390Z"
   },
   {
    "duration": 7,
    "start_time": "2021-12-16T11:27:21.424Z"
   },
   {
    "duration": 2666,
    "start_time": "2021-12-16T11:27:21.438Z"
   },
   {
    "duration": 2629,
    "start_time": "2021-12-16T11:27:24.107Z"
   },
   {
    "duration": 2717,
    "start_time": "2021-12-16T11:27:26.738Z"
   },
   {
    "duration": 1516,
    "start_time": "2021-12-16T12:45:14.236Z"
   },
   {
    "duration": 583,
    "start_time": "2021-12-16T12:45:15.755Z"
   },
   {
    "duration": 19,
    "start_time": "2021-12-16T12:45:18.028Z"
   },
   {
    "duration": 23,
    "start_time": "2021-12-16T12:45:18.206Z"
   },
   {
    "duration": 54,
    "start_time": "2021-12-16T12:45:18.351Z"
   },
   {
    "duration": 17,
    "start_time": "2021-12-16T12:45:18.509Z"
   },
   {
    "duration": 13,
    "start_time": "2021-12-16T12:45:19.023Z"
   },
   {
    "duration": 15,
    "start_time": "2021-12-16T12:45:19.168Z"
   },
   {
    "duration": 48,
    "start_time": "2021-12-16T12:45:19.343Z"
   },
   {
    "duration": 12,
    "start_time": "2021-12-16T12:45:19.650Z"
   },
   {
    "duration": 15,
    "start_time": "2021-12-16T12:45:19.788Z"
   },
   {
    "duration": 52,
    "start_time": "2021-12-16T12:45:19.944Z"
   },
   {
    "duration": 20,
    "start_time": "2021-12-16T12:45:20.576Z"
   },
   {
    "duration": 19,
    "start_time": "2021-12-16T12:45:20.901Z"
   },
   {
    "duration": 20,
    "start_time": "2021-12-16T12:45:21.270Z"
   },
   {
    "duration": 14,
    "start_time": "2021-12-16T12:45:21.947Z"
   },
   {
    "duration": 4,
    "start_time": "2021-12-16T12:45:22.465Z"
   },
   {
    "duration": 13486,
    "start_time": "2021-12-16T12:45:22.638Z"
   },
   {
    "duration": 12790,
    "start_time": "2021-12-16T12:45:36.127Z"
   },
   {
    "duration": 13198,
    "start_time": "2021-12-16T12:45:48.920Z"
   },
   {
    "duration": 5,
    "start_time": "2021-12-16T12:46:02.121Z"
   },
   {
    "duration": 899,
    "start_time": "2021-12-16T12:46:02.128Z"
   },
   {
    "duration": 1187,
    "start_time": "2021-12-16T12:46:03.030Z"
   },
   {
    "duration": 978,
    "start_time": "2021-12-16T12:46:04.220Z"
   },
   {
    "duration": 9,
    "start_time": "2021-12-16T12:46:35.024Z"
   },
   {
    "duration": 121,
    "start_time": "2021-12-16T12:46:35.215Z"
   },
   {
    "duration": 13,
    "start_time": "2021-12-16T12:46:37.493Z"
   },
   {
    "duration": 18,
    "start_time": "2021-12-16T12:46:37.975Z"
   },
   {
    "duration": 6,
    "start_time": "2021-12-16T12:46:38.197Z"
   },
   {
    "duration": 6,
    "start_time": "2021-12-16T12:46:38.378Z"
   },
   {
    "duration": 5,
    "start_time": "2021-12-16T12:46:38.546Z"
   },
   {
    "duration": 6,
    "start_time": "2021-12-16T12:46:38.719Z"
   },
   {
    "duration": 20,
    "start_time": "2021-12-16T12:46:39.093Z"
   },
   {
    "duration": 5,
    "start_time": "2021-12-16T12:46:39.282Z"
   },
   {
    "duration": 6,
    "start_time": "2021-12-16T12:46:39.448Z"
   },
   {
    "duration": 22,
    "start_time": "2021-12-16T12:46:39.614Z"
   },
   {
    "duration": 5,
    "start_time": "2021-12-16T12:46:39.771Z"
   },
   {
    "duration": 6,
    "start_time": "2021-12-16T12:46:39.946Z"
   },
   {
    "duration": 14,
    "start_time": "2021-12-16T12:46:40.785Z"
   },
   {
    "duration": 11,
    "start_time": "2021-12-16T12:46:41.070Z"
   },
   {
    "duration": 12,
    "start_time": "2021-12-16T12:46:41.237Z"
   },
   {
    "duration": 81,
    "start_time": "2021-12-16T12:46:43.178Z"
   },
   {
    "duration": 8,
    "start_time": "2021-12-16T12:46:46.357Z"
   },
   {
    "duration": 7,
    "start_time": "2021-12-16T12:46:46.369Z"
   },
   {
    "duration": 83,
    "start_time": "2021-12-16T12:46:46.380Z"
   },
   {
    "duration": 93,
    "start_time": "2021-12-16T12:46:46.466Z"
   },
   {
    "duration": 13,
    "start_time": "2021-12-16T12:46:46.562Z"
   },
   {
    "duration": 59,
    "start_time": "2021-12-16T12:46:46.701Z"
   },
   {
    "duration": 8,
    "start_time": "2021-12-16T12:46:46.871Z"
   },
   {
    "duration": 7,
    "start_time": "2021-12-16T12:46:47.578Z"
   },
   {
    "duration": 5,
    "start_time": "2021-12-16T12:46:50.259Z"
   },
   {
    "duration": 5,
    "start_time": "2021-12-16T12:46:50.686Z"
   },
   {
    "duration": 4,
    "start_time": "2021-12-16T12:46:51.011Z"
   },
   {
    "duration": 3,
    "start_time": "2021-12-16T12:46:51.547Z"
   },
   {
    "duration": 4,
    "start_time": "2021-12-16T12:46:52.137Z"
   },
   {
    "duration": 6,
    "start_time": "2021-12-16T12:46:52.516Z"
   },
   {
    "duration": 6,
    "start_time": "2021-12-16T12:46:55.515Z"
   },
   {
    "duration": 6,
    "start_time": "2021-12-16T12:46:55.698Z"
   },
   {
    "duration": 10,
    "start_time": "2021-12-16T12:46:55.888Z"
   },
   {
    "duration": 10,
    "start_time": "2021-12-16T12:46:56.402Z"
   },
   {
    "duration": 9,
    "start_time": "2021-12-16T12:46:56.720Z"
   },
   {
    "duration": 8,
    "start_time": "2021-12-16T12:46:56.943Z"
   },
   {
    "duration": 5,
    "start_time": "2021-12-16T12:47:05.065Z"
   },
   {
    "duration": 95,
    "start_time": "2021-12-16T12:47:05.916Z"
   },
   {
    "duration": 5,
    "start_time": "2021-12-16T12:47:12.681Z"
   },
   {
    "duration": 107,
    "start_time": "2021-12-16T12:47:14.696Z"
   },
   {
    "duration": 7,
    "start_time": "2021-12-16T12:47:23.078Z"
   },
   {
    "duration": 770,
    "start_time": "2021-12-16T12:47:24.049Z"
   },
   {
    "duration": 7,
    "start_time": "2021-12-16T12:47:58.344Z"
   },
   {
    "duration": 574,
    "start_time": "2021-12-16T12:47:59.261Z"
   },
   {
    "duration": 7,
    "start_time": "2021-12-16T12:48:24.972Z"
   },
   {
    "duration": 801,
    "start_time": "2021-12-16T12:48:25.804Z"
   },
   {
    "duration": 7,
    "start_time": "2021-12-16T12:48:58.782Z"
   },
   {
    "duration": 6,
    "start_time": "2021-12-16T12:49:12.639Z"
   },
   {
    "duration": 6,
    "start_time": "2021-12-16T12:49:21.671Z"
   },
   {
    "duration": 595,
    "start_time": "2021-12-16T12:51:23.610Z"
   },
   {
    "duration": 5340,
    "start_time": "2021-12-16T12:51:59.521Z"
   },
   {
    "duration": 6622,
    "start_time": "2021-12-16T12:52:41.925Z"
   },
   {
    "duration": 480,
    "start_time": "2021-12-16T12:55:00.181Z"
   },
   {
    "duration": 14,
    "start_time": "2021-12-16T12:55:01.813Z"
   },
   {
    "duration": 22,
    "start_time": "2021-12-16T12:55:01.999Z"
   },
   {
    "duration": 48,
    "start_time": "2021-12-16T12:55:02.388Z"
   },
   {
    "duration": 15,
    "start_time": "2021-12-16T12:55:02.586Z"
   },
   {
    "duration": 13,
    "start_time": "2021-12-16T12:55:03.291Z"
   },
   {
    "duration": 15,
    "start_time": "2021-12-16T12:55:03.774Z"
   },
   {
    "duration": 46,
    "start_time": "2021-12-16T12:55:03.979Z"
   },
   {
    "duration": 13,
    "start_time": "2021-12-16T12:55:04.636Z"
   },
   {
    "duration": 14,
    "start_time": "2021-12-16T12:55:04.948Z"
   },
   {
    "duration": 49,
    "start_time": "2021-12-16T12:55:06.126Z"
   },
   {
    "duration": 15,
    "start_time": "2021-12-16T12:55:12.176Z"
   },
   {
    "duration": 11,
    "start_time": "2021-12-16T12:55:17.847Z"
   },
   {
    "duration": 18,
    "start_time": "2021-12-16T12:55:19.084Z"
   },
   {
    "duration": 5,
    "start_time": "2021-12-16T12:55:19.267Z"
   },
   {
    "duration": 5,
    "start_time": "2021-12-16T12:55:19.450Z"
   },
   {
    "duration": 5,
    "start_time": "2021-12-16T12:55:19.695Z"
   },
   {
    "duration": 6,
    "start_time": "2021-12-16T12:55:19.892Z"
   },
   {
    "duration": 19,
    "start_time": "2021-12-16T12:55:20.077Z"
   },
   {
    "duration": 5,
    "start_time": "2021-12-16T12:55:20.677Z"
   },
   {
    "duration": 5,
    "start_time": "2021-12-16T12:55:20.877Z"
   },
   {
    "duration": 24,
    "start_time": "2021-12-16T12:55:21.044Z"
   },
   {
    "duration": 5,
    "start_time": "2021-12-16T12:55:21.526Z"
   },
   {
    "duration": 5,
    "start_time": "2021-12-16T12:55:21.789Z"
   },
   {
    "duration": 5303,
    "start_time": "2021-12-16T12:55:55.593Z"
   },
   {
    "duration": 21,
    "start_time": "2021-12-16T12:56:49.905Z"
   },
   {
    "duration": 17,
    "start_time": "2021-12-16T12:56:53.349Z"
   },
   {
    "duration": 16,
    "start_time": "2021-12-16T12:56:55.894Z"
   },
   {
    "duration": 5482,
    "start_time": "2021-12-16T12:57:04.942Z"
   },
   {
    "duration": 5357,
    "start_time": "2021-12-16T12:57:21.962Z"
   },
   {
    "duration": 5159,
    "start_time": "2021-12-16T12:57:47.119Z"
   },
   {
    "duration": 507,
    "start_time": "2021-12-16T12:58:24.473Z"
   },
   {
    "duration": 13,
    "start_time": "2021-12-16T12:58:25.467Z"
   },
   {
    "duration": 14,
    "start_time": "2021-12-16T12:58:25.600Z"
   },
   {
    "duration": 50,
    "start_time": "2021-12-16T12:58:25.758Z"
   },
   {
    "duration": 17,
    "start_time": "2021-12-16T12:58:25.911Z"
   },
   {
    "duration": 13,
    "start_time": "2021-12-16T12:58:26.201Z"
   },
   {
    "duration": 15,
    "start_time": "2021-12-16T12:58:27.399Z"
   },
   {
    "duration": 54,
    "start_time": "2021-12-16T12:58:27.682Z"
   },
   {
    "duration": 14,
    "start_time": "2021-12-16T12:58:28.064Z"
   },
   {
    "duration": 13,
    "start_time": "2021-12-16T12:58:28.502Z"
   },
   {
    "duration": 47,
    "start_time": "2021-12-16T12:58:28.689Z"
   },
   {
    "duration": 13,
    "start_time": "2021-12-16T12:58:33.327Z"
   },
   {
    "duration": 6,
    "start_time": "2021-12-16T12:58:38.794Z"
   },
   {
    "duration": 79,
    "start_time": "2021-12-16T12:58:39.262Z"
   },
   {
    "duration": 11,
    "start_time": "2021-12-16T12:58:44.807Z"
   },
   {
    "duration": 17,
    "start_time": "2021-12-16T12:58:49.836Z"
   },
   {
    "duration": 5,
    "start_time": "2021-12-16T12:58:50.305Z"
   },
   {
    "duration": 5,
    "start_time": "2021-12-16T12:58:50.463Z"
   },
   {
    "duration": 4,
    "start_time": "2021-12-16T12:58:50.638Z"
   },
   {
    "duration": 4,
    "start_time": "2021-12-16T12:58:50.805Z"
   },
   {
    "duration": 18,
    "start_time": "2021-12-16T12:58:50.978Z"
   },
   {
    "duration": 5,
    "start_time": "2021-12-16T12:58:51.128Z"
   },
   {
    "duration": 5,
    "start_time": "2021-12-16T12:58:51.462Z"
   },
   {
    "duration": 18,
    "start_time": "2021-12-16T12:58:51.866Z"
   },
   {
    "duration": 5,
    "start_time": "2021-12-16T12:58:52.746Z"
   },
   {
    "duration": 5,
    "start_time": "2021-12-16T12:58:52.920Z"
   },
   {
    "duration": 11,
    "start_time": "2021-12-16T12:58:54.443Z"
   },
   {
    "duration": 12,
    "start_time": "2021-12-16T12:58:54.616Z"
   },
   {
    "duration": 11,
    "start_time": "2021-12-16T12:58:55.140Z"
   },
   {
    "duration": 21,
    "start_time": "2021-12-16T12:58:57.454Z"
   },
   {
    "duration": 7,
    "start_time": "2021-12-16T12:58:57.763Z"
   },
   {
    "duration": 5,
    "start_time": "2021-12-16T12:58:57.923Z"
   },
   {
    "duration": 14,
    "start_time": "2021-12-16T12:58:58.395Z"
   },
   {
    "duration": 7,
    "start_time": "2021-12-16T12:58:58.702Z"
   },
   {
    "duration": 5,
    "start_time": "2021-12-16T12:58:58.858Z"
   },
   {
    "duration": 14,
    "start_time": "2021-12-16T12:58:59.460Z"
   },
   {
    "duration": 8,
    "start_time": "2021-12-16T12:58:59.660Z"
   },
   {
    "duration": 6,
    "start_time": "2021-12-16T12:58:59.999Z"
   },
   {
    "duration": 3,
    "start_time": "2021-12-16T12:59:04.756Z"
   },
   {
    "duration": 4,
    "start_time": "2021-12-16T12:59:05.088Z"
   },
   {
    "duration": 3,
    "start_time": "2021-12-16T12:59:05.406Z"
   },
   {
    "duration": 3,
    "start_time": "2021-12-16T12:59:05.714Z"
   },
   {
    "duration": 4,
    "start_time": "2021-12-16T12:59:06.014Z"
   },
   {
    "duration": 4,
    "start_time": "2021-12-16T12:59:06.357Z"
   },
   {
    "duration": 6,
    "start_time": "2021-12-16T12:59:08.037Z"
   },
   {
    "duration": 5,
    "start_time": "2021-12-16T12:59:08.188Z"
   },
   {
    "duration": 6,
    "start_time": "2021-12-16T12:59:08.361Z"
   },
   {
    "duration": 4,
    "start_time": "2021-12-16T12:59:19.884Z"
   },
   {
    "duration": 7,
    "start_time": "2021-12-16T12:59:20.924Z"
   },
   {
    "duration": 5278,
    "start_time": "2021-12-16T12:59:22.635Z"
   },
   {
    "duration": 5291,
    "start_time": "2021-12-16T12:59:27.916Z"
   },
   {
    "duration": 5405,
    "start_time": "2021-12-16T12:59:33.209Z"
   },
   {
    "duration": 1024,
    "start_time": "2021-12-21T18:55:25.117Z"
   },
   {
    "duration": 322,
    "start_time": "2021-12-21T18:55:50.238Z"
   },
   {
    "duration": 880,
    "start_time": "2021-12-22T14:36:22.824Z"
   },
   {
    "duration": 4,
    "start_time": "2021-12-22T14:36:27.744Z"
   },
   {
    "duration": 666,
    "start_time": "2021-12-22T14:36:28.204Z"
   },
   {
    "duration": 3153,
    "start_time": "2021-12-22T14:36:28.873Z"
   },
   {
    "duration": 25,
    "start_time": "2021-12-22T14:36:32.030Z"
   },
   {
    "duration": 22,
    "start_time": "2021-12-22T14:36:32.068Z"
   },
   {
    "duration": 99,
    "start_time": "2021-12-22T14:36:32.093Z"
   },
   {
    "duration": 16,
    "start_time": "2021-12-22T14:36:32.195Z"
   },
   {
    "duration": 14,
    "start_time": "2021-12-22T14:36:32.214Z"
   },
   {
    "duration": 44,
    "start_time": "2021-12-22T14:36:32.231Z"
   },
   {
    "duration": 51,
    "start_time": "2021-12-22T14:36:32.278Z"
   },
   {
    "duration": 38,
    "start_time": "2021-12-22T14:36:32.331Z"
   },
   {
    "duration": 18,
    "start_time": "2021-12-22T14:36:32.372Z"
   },
   {
    "duration": 86,
    "start_time": "2021-12-22T14:36:32.394Z"
   },
   {
    "duration": 20,
    "start_time": "2021-12-22T14:36:32.483Z"
   },
   {
    "duration": 19,
    "start_time": "2021-12-22T14:36:32.506Z"
   },
   {
    "duration": 49,
    "start_time": "2021-12-22T14:36:32.527Z"
   },
   {
    "duration": 14,
    "start_time": "2021-12-22T14:36:32.579Z"
   },
   {
    "duration": 5,
    "start_time": "2021-12-22T14:37:18.624Z"
   },
   {
    "duration": 592,
    "start_time": "2021-12-22T14:39:52.246Z"
   },
   {
    "duration": 8,
    "start_time": "2021-12-22T14:40:12.586Z"
   },
   {
    "duration": 631,
    "start_time": "2021-12-22T14:40:12.597Z"
   },
   {
    "duration": 14,
    "start_time": "2021-12-22T14:40:13.232Z"
   },
   {
    "duration": 40,
    "start_time": "2021-12-22T14:40:13.249Z"
   },
   {
    "duration": 87,
    "start_time": "2021-12-22T14:40:13.293Z"
   },
   {
    "duration": 22,
    "start_time": "2021-12-22T14:40:13.383Z"
   },
   {
    "duration": 16,
    "start_time": "2021-12-22T14:40:13.409Z"
   },
   {
    "duration": 53,
    "start_time": "2021-12-22T14:40:13.428Z"
   },
   {
    "duration": 88,
    "start_time": "2021-12-22T14:40:13.487Z"
   },
   {
    "duration": 23,
    "start_time": "2021-12-22T14:40:13.580Z"
   },
   {
    "duration": 17,
    "start_time": "2021-12-22T14:40:13.607Z"
   },
   {
    "duration": 100,
    "start_time": "2021-12-22T14:40:13.627Z"
   },
   {
    "duration": 46,
    "start_time": "2021-12-22T14:40:13.731Z"
   },
   {
    "duration": 26,
    "start_time": "2021-12-22T14:40:13.781Z"
   },
   {
    "duration": 20,
    "start_time": "2021-12-22T14:40:13.810Z"
   },
   {
    "duration": 38,
    "start_time": "2021-12-22T14:40:13.833Z"
   },
   {
    "duration": 7,
    "start_time": "2021-12-22T14:40:13.875Z"
   },
   {
    "duration": 15025,
    "start_time": "2021-12-22T14:40:13.885Z"
   },
   {
    "duration": 14650,
    "start_time": "2021-12-22T14:40:28.913Z"
   },
   {
    "duration": 16145,
    "start_time": "2021-12-22T14:40:43.568Z"
   },
   {
    "duration": 6,
    "start_time": "2021-12-22T14:40:59.716Z"
   },
   {
    "duration": 1135,
    "start_time": "2021-12-22T14:40:59.725Z"
   },
   {
    "duration": 1040,
    "start_time": "2021-12-22T14:41:00.867Z"
   },
   {
    "duration": 1232,
    "start_time": "2021-12-22T14:41:01.910Z"
   },
   {
    "duration": 8,
    "start_time": "2021-12-22T14:41:03.145Z"
   },
   {
    "duration": 151,
    "start_time": "2021-12-22T14:41:03.156Z"
   },
   {
    "duration": 18,
    "start_time": "2021-12-22T14:41:03.319Z"
   },
   {
    "duration": 46,
    "start_time": "2021-12-22T14:41:03.343Z"
   },
   {
    "duration": 7,
    "start_time": "2021-12-22T14:41:03.392Z"
   },
   {
    "duration": 12,
    "start_time": "2021-12-22T14:41:03.401Z"
   },
   {
    "duration": 6,
    "start_time": "2021-12-22T14:41:03.417Z"
   },
   {
    "duration": 7,
    "start_time": "2021-12-22T14:41:03.426Z"
   },
   {
    "duration": 24,
    "start_time": "2021-12-22T14:41:03.469Z"
   },
   {
    "duration": 9,
    "start_time": "2021-12-22T14:41:03.496Z"
   },
   {
    "duration": 8,
    "start_time": "2021-12-22T14:41:03.508Z"
   },
   {
    "duration": 70,
    "start_time": "2021-12-22T14:41:03.519Z"
   },
   {
    "duration": 6,
    "start_time": "2021-12-22T14:41:03.592Z"
   },
   {
    "duration": 9,
    "start_time": "2021-12-22T14:41:03.602Z"
   },
   {
    "duration": 55,
    "start_time": "2021-12-22T14:41:03.615Z"
   },
   {
    "duration": 13,
    "start_time": "2021-12-22T14:41:03.673Z"
   },
   {
    "duration": 12,
    "start_time": "2021-12-22T14:41:03.689Z"
   },
   {
    "duration": 646,
    "start_time": "2021-12-22T14:41:03.704Z"
   },
   {
    "duration": 389,
    "start_time": "2021-12-22T14:41:03.964Z"
   },
   {
    "duration": 385,
    "start_time": "2021-12-22T14:41:03.969Z"
   },
   {
    "duration": 361,
    "start_time": "2021-12-22T14:41:03.995Z"
   },
   {
    "duration": 357,
    "start_time": "2021-12-22T14:41:04.000Z"
   },
   {
    "duration": 355,
    "start_time": "2021-12-22T14:41:04.004Z"
   },
   {
    "duration": 351,
    "start_time": "2021-12-22T14:41:04.009Z"
   },
   {
    "duration": 348,
    "start_time": "2021-12-22T14:41:04.013Z"
   },
   {
    "duration": 346,
    "start_time": "2021-12-22T14:41:04.017Z"
   },
   {
    "duration": 346,
    "start_time": "2021-12-22T14:41:04.021Z"
   },
   {
    "duration": 344,
    "start_time": "2021-12-22T14:41:04.025Z"
   },
   {
    "duration": 341,
    "start_time": "2021-12-22T14:41:04.030Z"
   },
   {
    "duration": 339,
    "start_time": "2021-12-22T14:41:04.034Z"
   },
   {
    "duration": 336,
    "start_time": "2021-12-22T14:41:04.039Z"
   },
   {
    "duration": 325,
    "start_time": "2021-12-22T14:41:04.052Z"
   },
   {
    "duration": 323,
    "start_time": "2021-12-22T14:41:04.057Z"
   },
   {
    "duration": 321,
    "start_time": "2021-12-22T14:41:04.061Z"
   },
   {
    "duration": 318,
    "start_time": "2021-12-22T14:41:04.066Z"
   },
   {
    "duration": 315,
    "start_time": "2021-12-22T14:41:04.071Z"
   },
   {
    "duration": 313,
    "start_time": "2021-12-22T14:41:04.075Z"
   },
   {
    "duration": 309,
    "start_time": "2021-12-22T14:41:04.081Z"
   },
   {
    "duration": 296,
    "start_time": "2021-12-22T14:41:04.096Z"
   },
   {
    "duration": 293,
    "start_time": "2021-12-22T14:41:04.101Z"
   },
   {
    "duration": 281,
    "start_time": "2021-12-22T14:41:04.115Z"
   },
   {
    "duration": 270,
    "start_time": "2021-12-22T14:41:04.128Z"
   },
   {
    "duration": 268,
    "start_time": "2021-12-22T14:41:04.132Z"
   },
   {
    "duration": 259,
    "start_time": "2021-12-22T14:41:04.143Z"
   },
   {
    "duration": 256,
    "start_time": "2021-12-22T14:41:04.148Z"
   },
   {
    "duration": 254,
    "start_time": "2021-12-22T14:41:04.152Z"
   },
   {
    "duration": 252,
    "start_time": "2021-12-22T14:41:04.156Z"
   },
   {
    "duration": 250,
    "start_time": "2021-12-22T14:41:04.160Z"
   },
   {
    "duration": 247,
    "start_time": "2021-12-22T14:41:04.165Z"
   },
   {
    "duration": 294,
    "start_time": "2021-12-22T14:41:04.172Z"
   },
   {
    "duration": 293,
    "start_time": "2021-12-22T14:41:04.176Z"
   },
   {
    "duration": 290,
    "start_time": "2021-12-22T14:41:04.181Z"
   },
   {
    "duration": 1790,
    "start_time": "2021-12-22T14:43:51.007Z"
   },
   {
    "duration": 742,
    "start_time": "2021-12-22T14:43:52.800Z"
   },
   {
    "duration": 33,
    "start_time": "2021-12-22T14:43:53.546Z"
   },
   {
    "duration": 22,
    "start_time": "2021-12-22T14:43:53.583Z"
   },
   {
    "duration": 105,
    "start_time": "2021-12-22T14:43:53.608Z"
   },
   {
    "duration": 21,
    "start_time": "2021-12-22T14:43:53.716Z"
   },
   {
    "duration": 39,
    "start_time": "2021-12-22T14:43:53.740Z"
   },
   {
    "duration": 16,
    "start_time": "2021-12-22T14:43:53.784Z"
   },
   {
    "duration": 91,
    "start_time": "2021-12-22T14:43:53.803Z"
   },
   {
    "duration": 14,
    "start_time": "2021-12-22T14:43:53.897Z"
   },
   {
    "duration": 17,
    "start_time": "2021-12-22T14:43:53.914Z"
   },
   {
    "duration": 79,
    "start_time": "2021-12-22T14:43:53.935Z"
   },
   {
    "duration": 17,
    "start_time": "2021-12-22T14:43:54.016Z"
   },
   {
    "duration": 42,
    "start_time": "2021-12-22T14:43:54.036Z"
   },
   {
    "duration": 19,
    "start_time": "2021-12-22T14:43:54.081Z"
   },
   {
    "duration": 15,
    "start_time": "2021-12-22T14:43:54.102Z"
   },
   {
    "duration": 8,
    "start_time": "2021-12-22T14:43:54.120Z"
   },
   {
    "duration": 13641,
    "start_time": "2021-12-22T14:43:54.166Z"
   },
   {
    "duration": 12446,
    "start_time": "2021-12-22T14:44:07.810Z"
   },
   {
    "duration": 13393,
    "start_time": "2021-12-22T14:44:20.259Z"
   },
   {
    "duration": 12,
    "start_time": "2021-12-22T14:44:33.655Z"
   },
   {
    "duration": 905,
    "start_time": "2021-12-22T14:44:33.670Z"
   },
   {
    "duration": 1023,
    "start_time": "2021-12-22T14:44:34.581Z"
   },
   {
    "duration": 1262,
    "start_time": "2021-12-22T14:44:35.609Z"
   },
   {
    "duration": 8,
    "start_time": "2021-12-22T14:44:36.874Z"
   },
   {
    "duration": 137,
    "start_time": "2021-12-22T14:44:36.885Z"
   },
   {
    "duration": 14,
    "start_time": "2021-12-22T14:44:37.024Z"
   },
   {
    "duration": 45,
    "start_time": "2021-12-22T14:44:37.041Z"
   },
   {
    "duration": 7,
    "start_time": "2021-12-22T14:44:37.089Z"
   },
   {
    "duration": 8,
    "start_time": "2021-12-22T14:44:37.099Z"
   },
   {
    "duration": 8,
    "start_time": "2021-12-22T14:44:37.109Z"
   },
   {
    "duration": 16,
    "start_time": "2021-12-22T14:44:37.119Z"
   },
   {
    "duration": 55,
    "start_time": "2021-12-22T14:44:37.138Z"
   },
   {
    "duration": 6,
    "start_time": "2021-12-22T14:44:37.195Z"
   },
   {
    "duration": 12,
    "start_time": "2021-12-22T14:44:37.204Z"
   },
   {
    "duration": 25,
    "start_time": "2021-12-22T14:44:37.218Z"
   },
   {
    "duration": 5,
    "start_time": "2021-12-22T14:44:37.267Z"
   },
   {
    "duration": 13,
    "start_time": "2021-12-22T14:44:37.274Z"
   },
   {
    "duration": 17,
    "start_time": "2021-12-22T14:44:37.291Z"
   },
   {
    "duration": 12,
    "start_time": "2021-12-22T14:44:37.310Z"
   },
   {
    "duration": 48,
    "start_time": "2021-12-22T14:44:37.325Z"
   },
   {
    "duration": 1983,
    "start_time": "2021-12-22T14:47:54.144Z"
   },
   {
    "duration": 749,
    "start_time": "2021-12-22T14:47:56.130Z"
   },
   {
    "duration": 25,
    "start_time": "2021-12-22T14:47:56.883Z"
   },
   {
    "duration": 62,
    "start_time": "2021-12-22T14:47:56.910Z"
   },
   {
    "duration": 111,
    "start_time": "2021-12-22T14:47:56.975Z"
   },
   {
    "duration": 21,
    "start_time": "2021-12-22T14:47:57.088Z"
   },
   {
    "duration": 72,
    "start_time": "2021-12-22T14:47:57.112Z"
   },
   {
    "duration": 14,
    "start_time": "2021-12-22T14:47:57.189Z"
   },
   {
    "duration": 51,
    "start_time": "2021-12-22T14:47:57.206Z"
   },
   {
    "duration": 12,
    "start_time": "2021-12-22T14:47:57.268Z"
   },
   {
    "duration": 19,
    "start_time": "2021-12-22T14:47:57.283Z"
   },
   {
    "duration": 48,
    "start_time": "2021-12-22T14:47:57.305Z"
   },
   {
    "duration": 26,
    "start_time": "2021-12-22T14:47:57.355Z"
   },
   {
    "duration": 25,
    "start_time": "2021-12-22T14:47:57.384Z"
   },
   {
    "duration": 80,
    "start_time": "2021-12-22T14:47:57.412Z"
   },
   {
    "duration": 18,
    "start_time": "2021-12-22T14:47:57.495Z"
   },
   {
    "duration": 5,
    "start_time": "2021-12-22T14:47:57.516Z"
   },
   {
    "duration": 13334,
    "start_time": "2021-12-22T14:47:57.524Z"
   },
   {
    "duration": 12072,
    "start_time": "2021-12-22T14:48:10.861Z"
   },
   {
    "duration": 13896,
    "start_time": "2021-12-22T14:48:22.936Z"
   },
   {
    "duration": 6,
    "start_time": "2021-12-22T14:48:36.835Z"
   },
   {
    "duration": 915,
    "start_time": "2021-12-22T14:48:36.843Z"
   },
   {
    "duration": 1322,
    "start_time": "2021-12-22T14:48:37.771Z"
   },
   {
    "duration": 944,
    "start_time": "2021-12-22T14:48:39.098Z"
   },
   {
    "duration": 6,
    "start_time": "2021-12-22T14:48:40.045Z"
   },
   {
    "duration": 115,
    "start_time": "2021-12-22T14:48:40.066Z"
   },
   {
    "duration": 18,
    "start_time": "2021-12-22T14:48:40.185Z"
   },
   {
    "duration": 34,
    "start_time": "2021-12-22T14:48:40.206Z"
   },
   {
    "duration": 6,
    "start_time": "2021-12-22T14:48:40.243Z"
   },
   {
    "duration": 6,
    "start_time": "2021-12-22T14:48:40.268Z"
   },
   {
    "duration": 10,
    "start_time": "2021-12-22T14:48:40.277Z"
   },
   {
    "duration": 9,
    "start_time": "2021-12-22T14:48:40.289Z"
   },
   {
    "duration": 66,
    "start_time": "2021-12-22T14:48:40.301Z"
   },
   {
    "duration": 5,
    "start_time": "2021-12-22T14:48:40.370Z"
   },
   {
    "duration": 7,
    "start_time": "2021-12-22T14:48:40.377Z"
   },
   {
    "duration": 19,
    "start_time": "2021-12-22T14:48:40.387Z"
   },
   {
    "duration": 5,
    "start_time": "2021-12-22T14:48:40.409Z"
   },
   {
    "duration": 52,
    "start_time": "2021-12-22T14:48:40.416Z"
   },
   {
    "duration": 18,
    "start_time": "2021-12-22T14:48:40.471Z"
   },
   {
    "duration": 12,
    "start_time": "2021-12-22T14:48:40.492Z"
   },
   {
    "duration": 11,
    "start_time": "2021-12-22T14:48:40.507Z"
   },
   {
    "duration": 147,
    "start_time": "2021-12-22T14:48:40.520Z"
   },
   {
    "duration": 9,
    "start_time": "2021-12-22T14:48:40.671Z"
   },
   {
    "duration": 87,
    "start_time": "2021-12-22T14:48:40.684Z"
   },
   {
    "duration": 98,
    "start_time": "2021-12-22T14:48:40.775Z"
   },
   {
    "duration": 98,
    "start_time": "2021-12-22T14:48:40.876Z"
   },
   {
    "duration": 12,
    "start_time": "2021-12-22T14:48:40.980Z"
   },
   {
    "duration": 172,
    "start_time": "2021-12-22T14:48:40.996Z"
   },
   {
    "duration": 9,
    "start_time": "2021-12-22T14:48:41.171Z"
   },
   {
    "duration": 7,
    "start_time": "2021-12-22T14:48:41.183Z"
   },
   {
    "duration": 5,
    "start_time": "2021-12-22T14:48:41.193Z"
   },
   {
    "duration": 5,
    "start_time": "2021-12-22T14:48:41.268Z"
   },
   {
    "duration": 7,
    "start_time": "2021-12-22T14:48:41.275Z"
   },
   {
    "duration": 5,
    "start_time": "2021-12-22T14:48:41.285Z"
   },
   {
    "duration": 6,
    "start_time": "2021-12-22T14:48:41.293Z"
   },
   {
    "duration": 7,
    "start_time": "2021-12-22T14:48:41.301Z"
   },
   {
    "duration": 6,
    "start_time": "2021-12-22T14:48:41.310Z"
   },
   {
    "duration": 52,
    "start_time": "2021-12-22T14:48:41.319Z"
   },
   {
    "duration": 7,
    "start_time": "2021-12-22T14:48:41.374Z"
   },
   {
    "duration": 10,
    "start_time": "2021-12-22T14:48:41.384Z"
   },
   {
    "duration": 9,
    "start_time": "2021-12-22T14:48:41.396Z"
   },
   {
    "duration": 60,
    "start_time": "2021-12-22T14:48:41.409Z"
   },
   {
    "duration": 5,
    "start_time": "2021-12-22T14:48:41.471Z"
   },
   {
    "duration": 14,
    "start_time": "2021-12-22T14:48:41.479Z"
   },
   {
    "duration": 10,
    "start_time": "2021-12-22T14:48:41.496Z"
   },
   {
    "duration": 12,
    "start_time": "2021-12-22T14:48:41.509Z"
   },
   {
    "duration": 50,
    "start_time": "2021-12-22T14:48:41.523Z"
   },
   {
    "duration": 2799,
    "start_time": "2021-12-22T14:48:41.584Z"
   },
   {
    "duration": 2794,
    "start_time": "2021-12-22T14:48:44.387Z"
   },
   {
    "duration": 2802,
    "start_time": "2021-12-22T14:48:47.183Z"
   },
   {
    "duration": 6,
    "start_time": "2021-12-22T14:48:49.988Z"
   },
   {
    "duration": 9,
    "start_time": "2021-12-22T14:48:49.996Z"
   },
   {
    "duration": 5640,
    "start_time": "2021-12-22T14:48:50.008Z"
   },
   {
    "duration": 5491,
    "start_time": "2021-12-22T14:48:55.651Z"
   },
   {
    "duration": 5587,
    "start_time": "2021-12-22T14:49:01.145Z"
   },
   {
    "duration": 382223,
    "start_time": "2021-12-22T14:49:45.705Z"
   },
   {
    "duration": 4,
    "start_time": "2021-12-26T13:53:12.379Z"
   },
   {
    "duration": 594,
    "start_time": "2021-12-26T13:53:12.895Z"
   },
   {
    "duration": 1044,
    "start_time": "2021-12-26T13:53:16.075Z"
   },
   {
    "duration": 359,
    "start_time": "2021-12-26T13:53:17.121Z"
   },
   {
    "duration": 11,
    "start_time": "2021-12-26T13:53:17.482Z"
   },
   {
    "duration": 11,
    "start_time": "2021-12-26T13:53:17.495Z"
   },
   {
    "duration": 47,
    "start_time": "2021-12-26T13:53:17.507Z"
   },
   {
    "duration": 9,
    "start_time": "2021-12-26T13:53:17.556Z"
   },
   {
    "duration": 9,
    "start_time": "2021-12-26T13:53:17.566Z"
   },
   {
    "duration": 11,
    "start_time": "2021-12-26T13:53:17.577Z"
   },
   {
    "duration": 66,
    "start_time": "2021-12-26T13:53:17.591Z"
   },
   {
    "duration": 8,
    "start_time": "2021-12-26T13:53:17.659Z"
   },
   {
    "duration": 12,
    "start_time": "2021-12-26T13:53:17.669Z"
   },
   {
    "duration": 51,
    "start_time": "2021-12-26T13:53:17.682Z"
   },
   {
    "duration": 14,
    "start_time": "2021-12-26T13:53:17.734Z"
   },
   {
    "duration": 13,
    "start_time": "2021-12-26T13:53:17.750Z"
   },
   {
    "duration": 12,
    "start_time": "2021-12-26T13:53:17.765Z"
   },
   {
    "duration": 11,
    "start_time": "2021-12-26T13:53:17.779Z"
   },
   {
    "duration": 5,
    "start_time": "2021-12-26T13:53:17.828Z"
   },
   {
    "duration": 9478,
    "start_time": "2021-12-26T13:53:17.836Z"
   },
   {
    "duration": 8566,
    "start_time": "2021-12-26T13:53:27.315Z"
   },
   {
    "duration": 9312,
    "start_time": "2021-12-26T13:53:35.882Z"
   },
   {
    "duration": 3,
    "start_time": "2021-12-26T13:53:45.195Z"
   },
   {
    "duration": 571,
    "start_time": "2021-12-26T13:53:45.199Z"
   },
   {
    "duration": 591,
    "start_time": "2021-12-26T13:53:45.774Z"
   },
   {
    "duration": 515,
    "start_time": "2021-12-26T13:53:46.368Z"
   },
   {
    "duration": 4,
    "start_time": "2021-12-26T13:53:46.884Z"
   },
   {
    "duration": 77,
    "start_time": "2021-12-26T13:53:46.890Z"
   },
   {
    "duration": 10,
    "start_time": "2021-12-26T13:53:46.970Z"
   },
   {
    "duration": 15,
    "start_time": "2021-12-26T13:53:46.982Z"
   },
   {
    "duration": 4,
    "start_time": "2021-12-26T13:53:46.999Z"
   },
   {
    "duration": 24,
    "start_time": "2021-12-26T13:53:47.005Z"
   },
   {
    "duration": 8,
    "start_time": "2021-12-26T13:53:47.031Z"
   },
   {
    "duration": 6,
    "start_time": "2021-12-26T13:53:47.040Z"
   },
   {
    "duration": 14,
    "start_time": "2021-12-26T13:53:47.048Z"
   },
   {
    "duration": 3,
    "start_time": "2021-12-26T13:53:47.064Z"
   },
   {
    "duration": 4,
    "start_time": "2021-12-26T13:53:47.069Z"
   },
   {
    "duration": 14,
    "start_time": "2021-12-26T13:53:47.075Z"
   },
   {
    "duration": 3,
    "start_time": "2021-12-26T13:53:47.091Z"
   },
   {
    "duration": 3,
    "start_time": "2021-12-26T13:53:47.128Z"
   },
   {
    "duration": 12,
    "start_time": "2021-12-26T13:53:47.133Z"
   },
   {
    "duration": 8,
    "start_time": "2021-12-26T13:53:47.146Z"
   },
   {
    "duration": 10,
    "start_time": "2021-12-26T13:53:47.156Z"
   },
   {
    "duration": 67,
    "start_time": "2021-12-26T13:53:47.168Z"
   },
   {
    "duration": 91,
    "start_time": "2021-12-26T13:53:47.240Z"
   },
   {
    "duration": 5,
    "start_time": "2021-12-26T13:53:47.333Z"
   },
   {
    "duration": 22,
    "start_time": "2021-12-26T13:53:47.339Z"
   },
   {
    "duration": 168,
    "start_time": "2021-12-26T13:53:47.363Z"
   },
   {
    "duration": 4,
    "start_time": "2021-12-26T13:53:47.533Z"
   },
   {
    "duration": 12,
    "start_time": "2021-12-26T13:53:47.539Z"
   },
   {
    "duration": 76,
    "start_time": "2021-12-26T13:53:47.553Z"
   },
   {
    "duration": 103,
    "start_time": "2021-12-26T13:53:47.631Z"
   },
   {
    "duration": 10,
    "start_time": "2021-12-26T13:53:47.736Z"
   },
   {
    "duration": 7,
    "start_time": "2021-12-26T13:53:47.748Z"
   },
   {
    "duration": 7,
    "start_time": "2021-12-26T13:53:47.756Z"
   },
   {
    "duration": 9,
    "start_time": "2021-12-26T13:53:47.764Z"
   },
   {
    "duration": 6,
    "start_time": "2021-12-26T13:53:47.775Z"
   },
   {
    "duration": 6,
    "start_time": "2021-12-26T13:53:47.783Z"
   },
   {
    "duration": 7,
    "start_time": "2021-12-26T13:53:47.790Z"
   },
   {
    "duration": 4,
    "start_time": "2021-12-26T13:53:47.799Z"
   },
   {
    "duration": 4,
    "start_time": "2021-12-26T13:53:47.804Z"
   },
   {
    "duration": 21,
    "start_time": "2021-12-26T13:53:47.810Z"
   },
   {
    "duration": 6,
    "start_time": "2021-12-26T13:53:47.832Z"
   },
   {
    "duration": 5,
    "start_time": "2021-12-26T13:53:47.840Z"
   },
   {
    "duration": 4,
    "start_time": "2021-12-26T13:53:47.847Z"
   },
   {
    "duration": 10,
    "start_time": "2021-12-26T13:53:47.852Z"
   },
   {
    "duration": 19,
    "start_time": "2021-12-26T13:53:47.864Z"
   },
   {
    "duration": 8,
    "start_time": "2021-12-26T13:53:47.885Z"
   },
   {
    "duration": 5,
    "start_time": "2021-12-26T13:53:47.894Z"
   },
   {
    "duration": 1735,
    "start_time": "2021-12-26T13:53:47.930Z"
   },
   {
    "duration": 1710,
    "start_time": "2021-12-26T13:53:49.667Z"
   },
   {
    "duration": 1607,
    "start_time": "2021-12-26T13:53:51.378Z"
   },
   {
    "duration": 236885,
    "start_time": "2021-12-26T13:53:52.987Z"
   },
   {
    "duration": 3,
    "start_time": "2021-12-26T13:57:49.873Z"
   },
   {
    "duration": 6,
    "start_time": "2021-12-26T13:57:49.878Z"
   },
   {
    "duration": 2957,
    "start_time": "2021-12-26T13:57:49.886Z"
   },
   {
    "duration": 2943,
    "start_time": "2021-12-26T13:57:52.845Z"
   },
   {
    "duration": 3033,
    "start_time": "2021-12-26T13:57:55.789Z"
   }
  ],
  "kernelspec": {
   "display_name": "Python 3 (ipykernel)",
   "language": "python",
   "name": "python3"
  },
  "language_info": {
   "codemirror_mode": {
    "name": "ipython",
    "version": 3
   },
   "file_extension": ".py",
   "mimetype": "text/x-python",
   "name": "python",
   "nbconvert_exporter": "python",
   "pygments_lexer": "ipython3",
   "version": "3.8.0"
  },
  "toc": {
   "base_numbering": 1,
   "nav_menu": {},
   "number_sections": true,
   "sideBar": true,
   "skip_h1_title": true,
   "title_cell": "Table of Contents",
   "title_sidebar": "Contents",
   "toc_cell": false,
   "toc_position": {},
   "toc_section_display": true,
   "toc_window_display": false
  }
 },
 "nbformat": 4,
 "nbformat_minor": 2
}
