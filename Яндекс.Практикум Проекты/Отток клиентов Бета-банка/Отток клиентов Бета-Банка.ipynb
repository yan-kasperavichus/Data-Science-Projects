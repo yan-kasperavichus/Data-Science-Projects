{
 "cells": [
  {
   "cell_type": "markdown",
   "metadata": {
    "toc": true
   },
   "source": [
    "<h1>Содержание<span class=\"tocSkip\"></span></h1>\n",
    "<div class=\"toc\"><ul class=\"toc-item\"><li><span><a href=\"#Подготовка-данных\" data-toc-modified-id=\"Подготовка-данных-1\"><span class=\"toc-item-num\">1&nbsp;&nbsp;</span>Подготовка данных</a></span><ul class=\"toc-item\"><li><span><a href=\"#Краткое-ознакомление-с-таблицей\" data-toc-modified-id=\"Краткое-ознакомление-с-таблицей-1.1\"><span class=\"toc-item-num\">1.1&nbsp;&nbsp;</span>Краткое ознакомление с таблицей</a></span></li><li><span><a href=\"#Предобработка-данных\" data-toc-modified-id=\"Предобработка-данных-1.2\"><span class=\"toc-item-num\">1.2&nbsp;&nbsp;</span>Предобработка данных</a></span></li><li><span><a href=\"#Заполнение-пропусков\" data-toc-modified-id=\"Заполнение-пропусков-1.3\"><span class=\"toc-item-num\">1.3&nbsp;&nbsp;</span>Заполнение пропусков</a></span></li></ul></li><li><span><a href=\"#Исследование-задачи\" data-toc-modified-id=\"Исследование-задачи-2\"><span class=\"toc-item-num\">2&nbsp;&nbsp;</span>Исследование задачи</a></span><ul class=\"toc-item\"><li><span><a href=\"#Подготовка-данных--методом-OHE\" data-toc-modified-id=\"Подготовка-данных--методом-OHE-2.1\"><span class=\"toc-item-num\">2.1&nbsp;&nbsp;</span>Подготовка данных  методом OHE</a></span></li><li><span><a href=\"#Подготовка-данных-методом-OrdinalEncoding\" data-toc-modified-id=\"Подготовка-данных-методом-OrdinalEncoding-2.2\"><span class=\"toc-item-num\">2.2&nbsp;&nbsp;</span>Подготовка данных методом OrdinalEncoding</a></span><ul class=\"toc-item\"><li><span><a href=\"#Проверка-на-мультколлинеарность\" data-toc-modified-id=\"Проверка-на-мультколлинеарность-2.2.1\"><span class=\"toc-item-num\">2.2.1&nbsp;&nbsp;</span>Проверка на мультколлинеарность</a></span></li></ul></li><li><span><a href=\"#Проверка-дисбаланса-классов\" data-toc-modified-id=\"Проверка-дисбаланса-классов-2.3\"><span class=\"toc-item-num\">2.3&nbsp;&nbsp;</span>Проверка дисбаланса классов</a></span></li><li><span><a href=\"#Выводы-по-проверке-баланса-классов\" data-toc-modified-id=\"Выводы-по-проверке-баланса-классов-2.4\"><span class=\"toc-item-num\">2.4&nbsp;&nbsp;</span>Выводы по проверке баланса классов</a></span><ul class=\"toc-item\"><li><span><a href=\"#Модель-линейной-регрессии-без-учета-дисбаланса-классов\" data-toc-modified-id=\"Модель-линейной-регрессии-без-учета-дисбаланса-классов-2.4.1\"><span class=\"toc-item-num\">2.4.1&nbsp;&nbsp;</span>Модель линейной регрессии без учета дисбаланса классов</a></span></li><li><span><a href=\"#Модель-дерева-решений-без-учета-дисбаланса-классов-и-без-гиперпараметров\" data-toc-modified-id=\"Модель-дерева-решений-без-учета-дисбаланса-классов-и-без-гиперпараметров-2.4.2\"><span class=\"toc-item-num\">2.4.2&nbsp;&nbsp;</span>Модель дерева решений без учета дисбаланса классов и без гиперпараметров</a></span></li><li><span><a href=\"#Модель-случайного-леса-без-учета-дисбаланса-классов-и-гиперпараметров\" data-toc-modified-id=\"Модель-случайного-леса-без-учета-дисбаланса-классов-и-гиперпараметров-2.4.3\"><span class=\"toc-item-num\">2.4.3&nbsp;&nbsp;</span>Модель случайного леса без учета дисбаланса классов и гиперпараметров</a></span></li></ul></li></ul></li><li><span><a href=\"#Борьба-с-дисбалансом\" data-toc-modified-id=\"Борьба-с-дисбалансом-3\"><span class=\"toc-item-num\">3&nbsp;&nbsp;</span>Борьба с дисбалансом</a></span><ul class=\"toc-item\"><li><span><a href=\"#Взвешивание-классов\" data-toc-modified-id=\"Взвешивание-классов-3.1\"><span class=\"toc-item-num\">3.1&nbsp;&nbsp;</span>Взвешивание классов</a></span><ul class=\"toc-item\"><li><span><a href=\"#Линейнай-регрессия\" data-toc-modified-id=\"Линейнай-регрессия-3.1.1\"><span class=\"toc-item-num\">3.1.1&nbsp;&nbsp;</span>Линейнай регрессия</a></span></li><li><span><a href=\"#Дерево-решений\" data-toc-modified-id=\"Дерево-решений-3.1.2\"><span class=\"toc-item-num\">3.1.2&nbsp;&nbsp;</span>Дерево решений</a></span></li><li><span><a href=\"#Случайный-лес\" data-toc-modified-id=\"Случайный-лес-3.1.3\"><span class=\"toc-item-num\">3.1.3&nbsp;&nbsp;</span>Случайный лес</a></span></li></ul></li><li><span><a href=\"#Увеличение-выборки\" data-toc-modified-id=\"Увеличение-выборки-3.2\"><span class=\"toc-item-num\">3.2&nbsp;&nbsp;</span>Увеличение выборки</a></span><ul class=\"toc-item\"><li><span><a href=\"#Модель-логистической-регрессии-после-upsampling'а\" data-toc-modified-id=\"Модель-логистической-регрессии-после-upsampling'а-3.2.1\"><span class=\"toc-item-num\">3.2.1&nbsp;&nbsp;</span>Модель логистической регрессии после upsampling'а</a></span></li><li><span><a href=\"#Модель-дерева-решений-после-upsampling'a\" data-toc-modified-id=\"Модель-дерева-решений-после-upsampling'a-3.2.2\"><span class=\"toc-item-num\">3.2.2&nbsp;&nbsp;</span>Модель дерева решений после upsampling'a</a></span></li><li><span><a href=\"#Модель-случайного-леса-после-upsampling'a\" data-toc-modified-id=\"Модель-случайного-леса-после-upsampling'a-3.2.3\"><span class=\"toc-item-num\">3.2.3&nbsp;&nbsp;</span>Модель случайного леса после upsampling'a</a></span></li></ul></li><li><span><a href=\"#Уменьшение-выборки\" data-toc-modified-id=\"Уменьшение-выборки-3.3\"><span class=\"toc-item-num\">3.3&nbsp;&nbsp;</span>Уменьшение выборки</a></span><ul class=\"toc-item\"><li><span><a href=\"#Модель-логистической-регрессии-после-операции-downsampling'a\" data-toc-modified-id=\"Модель-логистической-регрессии-после-операции-downsampling'a-3.3.1\"><span class=\"toc-item-num\">3.3.1&nbsp;&nbsp;</span>Модель логистической регрессии после операции downsampling'a</a></span></li><li><span><a href=\"#Модель-дерева-решений-после-операции-downsampling'a\" data-toc-modified-id=\"Модель-дерева-решений-после-операции-downsampling'a-3.3.2\"><span class=\"toc-item-num\">3.3.2&nbsp;&nbsp;</span>Модель дерева решений после операции downsampling'a</a></span></li><li><span><a href=\"#Модель-случайного-леса-после-операции-downsampling'a\" data-toc-modified-id=\"Модель-случайного-леса-после-операции-downsampling'a-3.3.3\"><span class=\"toc-item-num\">3.3.3&nbsp;&nbsp;</span>Модель случайного леса после операции downsampling'a</a></span></li></ul></li><li><span><a href=\"#Изменение-порога-классификации\" data-toc-modified-id=\"Изменение-порога-классификации-3.4\"><span class=\"toc-item-num\">3.4&nbsp;&nbsp;</span>Изменение порога классификации</a></span><ul class=\"toc-item\"><li><span><a href=\"#Модель-логистической-регрессии\" data-toc-modified-id=\"Модель-логистической-регрессии-3.4.1\"><span class=\"toc-item-num\">3.4.1&nbsp;&nbsp;</span>Модель логистической регрессии</a></span></li><li><span><a href=\"#Модель-дерева-решений\" data-toc-modified-id=\"Модель-дерева-решений-3.4.2\"><span class=\"toc-item-num\">3.4.2&nbsp;&nbsp;</span>Модель дерева решений</a></span></li><li><span><a href=\"#Модель-случайного-леса\" data-toc-modified-id=\"Модель-случайного-леса-3.4.3\"><span class=\"toc-item-num\">3.4.3&nbsp;&nbsp;</span>Модель случайного леса</a></span></li></ul></li><li><span><a href=\"#Подбор-гиперпараметров\" data-toc-modified-id=\"Подбор-гиперпараметров-3.5\"><span class=\"toc-item-num\">3.5&nbsp;&nbsp;</span>Подбор гиперпараметров</a></span><ul class=\"toc-item\"><li><span><a href=\"#Модель-линейной-регрессии\" data-toc-modified-id=\"Модель-линейной-регрессии-3.5.1\"><span class=\"toc-item-num\">3.5.1&nbsp;&nbsp;</span>Модель линейной регрессии</a></span></li><li><span><a href=\"#Модель-решающего-дерева\" data-toc-modified-id=\"Модель-решающего-дерева-3.5.2\"><span class=\"toc-item-num\">3.5.2&nbsp;&nbsp;</span>Модель решающего дерева</a></span></li><li><span><a href=\"#Модель-случайного-леса\" data-toc-modified-id=\"Модель-случайного-леса-3.5.3\"><span class=\"toc-item-num\">3.5.3&nbsp;&nbsp;</span>Модель случайного леса</a></span></li></ul></li><li><span><a href=\"#Общий-вывод-по-исследованию-баланса-классов\" data-toc-modified-id=\"Общий-вывод-по-исследованию-баланса-классов-3.6\"><span class=\"toc-item-num\">3.6&nbsp;&nbsp;</span>Общий вывод по исследованию баланса классов</a></span></li></ul></li><li><span><a href=\"#Проверка-модели-на-тестовой-выборке\" data-toc-modified-id=\"Проверка-модели-на-тестовой-выборке-4\"><span class=\"toc-item-num\">4&nbsp;&nbsp;</span>Проверка модели на тестовой выборке</a></span><ul class=\"toc-item\"><li><span><a href=\"#Проверка-модели-линейной-регрессии-на-тестовой-выборке\" data-toc-modified-id=\"Проверка-модели-линейной-регрессии-на-тестовой-выборке-4.1\"><span class=\"toc-item-num\">4.1&nbsp;&nbsp;</span>Проверка модели линейной регрессии на тестовой выборке</a></span></li><li><span><a href=\"#Проверка-модели-дерева-решений-на-тестовой-выборке\" data-toc-modified-id=\"Проверка-модели-дерева-решений-на-тестовой-выборке-4.2\"><span class=\"toc-item-num\">4.2&nbsp;&nbsp;</span>Проверка модели дерева решений на тестовой выборке</a></span></li><li><span><a href=\"#Проверка-модели-случайного-леса-на-тестовой-выборке\" data-toc-modified-id=\"Проверка-модели-случайного-леса-на-тестовой-выборке-4.3\"><span class=\"toc-item-num\">4.3&nbsp;&nbsp;</span>Проверка модели случайного леса на тестовой выборке</a></span></li><li><span><a href=\"#Общий-вывод-по-тесту\" data-toc-modified-id=\"Общий-вывод-по-тесту-4.4\"><span class=\"toc-item-num\">4.4&nbsp;&nbsp;</span>Общий вывод по тесту</a></span></li></ul></li><li><span><a href=\"#Общие-выводы-по-всему-исследованию\" data-toc-modified-id=\"Общие-выводы-по-всему-исследованию-5\"><span class=\"toc-item-num\">5&nbsp;&nbsp;</span>Общие выводы по всему исследованию</a></span></li><li><span><a href=\"#Чек-лист-готовности-проекта\" data-toc-modified-id=\"Чек-лист-готовности-проекта-6\"><span class=\"toc-item-num\">6&nbsp;&nbsp;</span>Чек-лист готовности проекта</a></span></li></ul></div>"
   ]
  },
  {
   "cell_type": "markdown",
   "metadata": {},
   "source": [
    "# Отток клиентов"
   ]
  },
  {
   "cell_type": "markdown",
   "metadata": {},
   "source": [
    "Из «Бета-Банка» стали уходить клиенты. Каждый месяц. Немного, но заметно. Банковские маркетологи посчитали: сохранять текущих клиентов дешевле, чем привлекать новых.\n",
    "\n",
    "Нужно спрогнозировать, уйдёт клиент из банка в ближайшее время или нет. Вам предоставлены исторические данные о поведении клиентов и расторжении договоров с банком. \n",
    "\n",
    "Постройте модель с предельно большим значением *F1*-меры. Чтобы сдать проект успешно, нужно довести метрику до 0.59. Проверьте *F1*-меру на тестовой выборке самостоятельно.\n",
    "\n",
    "Дополнительно измеряйте *AUC-ROC*, сравнивайте её значение с *F1*-мерой.\n",
    "\n",
    "Источник данных: [https://www.kaggle.com/barelydedicated/bank-customer-churn-modeling](https://www.kaggle.com/barelydedicated/bank-customer-churn-modeling)"
   ]
  },
  {
   "cell_type": "markdown",
   "metadata": {},
   "source": [
    "## Подготовка данных"
   ]
  },
  {
   "cell_type": "markdown",
   "metadata": {},
   "source": [
    "Для начала импортируем нужные библиотеки:"
   ]
  },
  {
   "cell_type": "code",
   "execution_count": 103,
   "metadata": {},
   "outputs": [],
   "source": [
    "import pandas as pd\n",
    "\n",
    "import sklearn\n",
    "\n",
    "import numpy as np\n",
    "\n",
    "pd.set_option('display.max_columns', None)\n",
    "\n",
    "from sklearn.linear_model import LogisticRegression\n",
    "\n",
    "from sklearn.model_selection import train_test_split\n",
    "\n",
    "from sklearn.metrics import confusion_matrix\n",
    "\n",
    "from sklearn.preprocessing import OrdinalEncoder \n",
    "\n",
    "from sklearn.tree import DecisionTreeClassifier\n",
    "\n",
    "from sklearn.metrics import recall_score \n",
    "\n",
    "from sklearn.metrics import precision_score\n",
    "\n",
    "from sklearn.metrics import f1_score\n",
    "\n",
    "import matplotlib.pyplot as plt\n",
    "\n",
    "from sklearn.ensemble import RandomForestRegressor\n",
    "\n",
    "from sklearn.metrics import mean_absolute_error\n",
    "\n",
    "from sklearn.preprocessing import StandardScaler \n",
    "\n",
    "from sklearn.ensemble import RandomForestClassifier\n",
    "\n",
    "pd.options.mode.chained_assignment = None\n",
    "\n",
    "from sklearn.utils import shuffle\n",
    "\n",
    "from sklearn.metrics import roc_auc_score"
   ]
  },
  {
   "cell_type": "markdown",
   "metadata": {},
   "source": [
    "Поместим данные в таблицу df"
   ]
  },
  {
   "cell_type": "code",
   "execution_count": 104,
   "metadata": {},
   "outputs": [],
   "source": [
    "df = pd.read_csv('/datasets/Churn.csv')"
   ]
  },
  {
   "cell_type": "markdown",
   "metadata": {},
   "source": [
    "### Краткое ознакомление с таблицей"
   ]
  },
  {
   "cell_type": "code",
   "execution_count": 105,
   "metadata": {},
   "outputs": [
    {
     "data": {
      "text/html": [
       "<div>\n",
       "<style scoped>\n",
       "    .dataframe tbody tr th:only-of-type {\n",
       "        vertical-align: middle;\n",
       "    }\n",
       "\n",
       "    .dataframe tbody tr th {\n",
       "        vertical-align: top;\n",
       "    }\n",
       "\n",
       "    .dataframe thead th {\n",
       "        text-align: right;\n",
       "    }\n",
       "</style>\n",
       "<table border=\"1\" class=\"dataframe\">\n",
       "  <thead>\n",
       "    <tr style=\"text-align: right;\">\n",
       "      <th></th>\n",
       "      <th>RowNumber</th>\n",
       "      <th>CustomerId</th>\n",
       "      <th>Surname</th>\n",
       "      <th>CreditScore</th>\n",
       "      <th>Geography</th>\n",
       "      <th>Gender</th>\n",
       "      <th>Age</th>\n",
       "      <th>Tenure</th>\n",
       "      <th>Balance</th>\n",
       "      <th>NumOfProducts</th>\n",
       "      <th>HasCrCard</th>\n",
       "      <th>IsActiveMember</th>\n",
       "      <th>EstimatedSalary</th>\n",
       "      <th>Exited</th>\n",
       "    </tr>\n",
       "  </thead>\n",
       "  <tbody>\n",
       "    <tr>\n",
       "      <td>0</td>\n",
       "      <td>1</td>\n",
       "      <td>15634602</td>\n",
       "      <td>Hargrave</td>\n",
       "      <td>619</td>\n",
       "      <td>France</td>\n",
       "      <td>Female</td>\n",
       "      <td>42</td>\n",
       "      <td>2.0</td>\n",
       "      <td>0.00</td>\n",
       "      <td>1</td>\n",
       "      <td>1</td>\n",
       "      <td>1</td>\n",
       "      <td>101348.88</td>\n",
       "      <td>1</td>\n",
       "    </tr>\n",
       "    <tr>\n",
       "      <td>1</td>\n",
       "      <td>2</td>\n",
       "      <td>15647311</td>\n",
       "      <td>Hill</td>\n",
       "      <td>608</td>\n",
       "      <td>Spain</td>\n",
       "      <td>Female</td>\n",
       "      <td>41</td>\n",
       "      <td>1.0</td>\n",
       "      <td>83807.86</td>\n",
       "      <td>1</td>\n",
       "      <td>0</td>\n",
       "      <td>1</td>\n",
       "      <td>112542.58</td>\n",
       "      <td>0</td>\n",
       "    </tr>\n",
       "    <tr>\n",
       "      <td>2</td>\n",
       "      <td>3</td>\n",
       "      <td>15619304</td>\n",
       "      <td>Onio</td>\n",
       "      <td>502</td>\n",
       "      <td>France</td>\n",
       "      <td>Female</td>\n",
       "      <td>42</td>\n",
       "      <td>8.0</td>\n",
       "      <td>159660.80</td>\n",
       "      <td>3</td>\n",
       "      <td>1</td>\n",
       "      <td>0</td>\n",
       "      <td>113931.57</td>\n",
       "      <td>1</td>\n",
       "    </tr>\n",
       "    <tr>\n",
       "      <td>3</td>\n",
       "      <td>4</td>\n",
       "      <td>15701354</td>\n",
       "      <td>Boni</td>\n",
       "      <td>699</td>\n",
       "      <td>France</td>\n",
       "      <td>Female</td>\n",
       "      <td>39</td>\n",
       "      <td>1.0</td>\n",
       "      <td>0.00</td>\n",
       "      <td>2</td>\n",
       "      <td>0</td>\n",
       "      <td>0</td>\n",
       "      <td>93826.63</td>\n",
       "      <td>0</td>\n",
       "    </tr>\n",
       "    <tr>\n",
       "      <td>4</td>\n",
       "      <td>5</td>\n",
       "      <td>15737888</td>\n",
       "      <td>Mitchell</td>\n",
       "      <td>850</td>\n",
       "      <td>Spain</td>\n",
       "      <td>Female</td>\n",
       "      <td>43</td>\n",
       "      <td>2.0</td>\n",
       "      <td>125510.82</td>\n",
       "      <td>1</td>\n",
       "      <td>1</td>\n",
       "      <td>1</td>\n",
       "      <td>79084.10</td>\n",
       "      <td>0</td>\n",
       "    </tr>\n",
       "  </tbody>\n",
       "</table>\n",
       "</div>"
      ],
      "text/plain": [
       "   RowNumber  CustomerId   Surname  CreditScore Geography  Gender  Age  \\\n",
       "0          1    15634602  Hargrave          619    France  Female   42   \n",
       "1          2    15647311      Hill          608     Spain  Female   41   \n",
       "2          3    15619304      Onio          502    France  Female   42   \n",
       "3          4    15701354      Boni          699    France  Female   39   \n",
       "4          5    15737888  Mitchell          850     Spain  Female   43   \n",
       "\n",
       "   Tenure    Balance  NumOfProducts  HasCrCard  IsActiveMember  \\\n",
       "0     2.0       0.00              1          1               1   \n",
       "1     1.0   83807.86              1          0               1   \n",
       "2     8.0  159660.80              3          1               0   \n",
       "3     1.0       0.00              2          0               0   \n",
       "4     2.0  125510.82              1          1               1   \n",
       "\n",
       "   EstimatedSalary  Exited  \n",
       "0        101348.88       1  \n",
       "1        112542.58       0  \n",
       "2        113931.57       1  \n",
       "3         93826.63       0  \n",
       "4         79084.10       0  "
      ]
     },
     "execution_count": 105,
     "metadata": {},
     "output_type": "execute_result"
    }
   ],
   "source": [
    "df.head()"
   ]
  },
  {
   "cell_type": "code",
   "execution_count": 106,
   "metadata": {},
   "outputs": [
    {
     "data": {
      "text/html": [
       "<div>\n",
       "<style scoped>\n",
       "    .dataframe tbody tr th:only-of-type {\n",
       "        vertical-align: middle;\n",
       "    }\n",
       "\n",
       "    .dataframe tbody tr th {\n",
       "        vertical-align: top;\n",
       "    }\n",
       "\n",
       "    .dataframe thead th {\n",
       "        text-align: right;\n",
       "    }\n",
       "</style>\n",
       "<table border=\"1\" class=\"dataframe\">\n",
       "  <thead>\n",
       "    <tr style=\"text-align: right;\">\n",
       "      <th></th>\n",
       "      <th>RowNumber</th>\n",
       "      <th>CustomerId</th>\n",
       "      <th>CreditScore</th>\n",
       "      <th>Age</th>\n",
       "      <th>Tenure</th>\n",
       "      <th>Balance</th>\n",
       "      <th>NumOfProducts</th>\n",
       "      <th>HasCrCard</th>\n",
       "      <th>IsActiveMember</th>\n",
       "      <th>EstimatedSalary</th>\n",
       "      <th>Exited</th>\n",
       "    </tr>\n",
       "  </thead>\n",
       "  <tbody>\n",
       "    <tr>\n",
       "      <td>count</td>\n",
       "      <td>10000.00000</td>\n",
       "      <td>1.000000e+04</td>\n",
       "      <td>10000.000000</td>\n",
       "      <td>10000.000000</td>\n",
       "      <td>9091.000000</td>\n",
       "      <td>10000.000000</td>\n",
       "      <td>10000.000000</td>\n",
       "      <td>10000.00000</td>\n",
       "      <td>10000.000000</td>\n",
       "      <td>10000.000000</td>\n",
       "      <td>10000.000000</td>\n",
       "    </tr>\n",
       "    <tr>\n",
       "      <td>mean</td>\n",
       "      <td>5000.50000</td>\n",
       "      <td>1.569094e+07</td>\n",
       "      <td>650.528800</td>\n",
       "      <td>38.921800</td>\n",
       "      <td>4.997690</td>\n",
       "      <td>76485.889288</td>\n",
       "      <td>1.530200</td>\n",
       "      <td>0.70550</td>\n",
       "      <td>0.515100</td>\n",
       "      <td>100090.239881</td>\n",
       "      <td>0.203700</td>\n",
       "    </tr>\n",
       "    <tr>\n",
       "      <td>std</td>\n",
       "      <td>2886.89568</td>\n",
       "      <td>7.193619e+04</td>\n",
       "      <td>96.653299</td>\n",
       "      <td>10.487806</td>\n",
       "      <td>2.894723</td>\n",
       "      <td>62397.405202</td>\n",
       "      <td>0.581654</td>\n",
       "      <td>0.45584</td>\n",
       "      <td>0.499797</td>\n",
       "      <td>57510.492818</td>\n",
       "      <td>0.402769</td>\n",
       "    </tr>\n",
       "    <tr>\n",
       "      <td>min</td>\n",
       "      <td>1.00000</td>\n",
       "      <td>1.556570e+07</td>\n",
       "      <td>350.000000</td>\n",
       "      <td>18.000000</td>\n",
       "      <td>0.000000</td>\n",
       "      <td>0.000000</td>\n",
       "      <td>1.000000</td>\n",
       "      <td>0.00000</td>\n",
       "      <td>0.000000</td>\n",
       "      <td>11.580000</td>\n",
       "      <td>0.000000</td>\n",
       "    </tr>\n",
       "    <tr>\n",
       "      <td>25%</td>\n",
       "      <td>2500.75000</td>\n",
       "      <td>1.562853e+07</td>\n",
       "      <td>584.000000</td>\n",
       "      <td>32.000000</td>\n",
       "      <td>2.000000</td>\n",
       "      <td>0.000000</td>\n",
       "      <td>1.000000</td>\n",
       "      <td>0.00000</td>\n",
       "      <td>0.000000</td>\n",
       "      <td>51002.110000</td>\n",
       "      <td>0.000000</td>\n",
       "    </tr>\n",
       "    <tr>\n",
       "      <td>50%</td>\n",
       "      <td>5000.50000</td>\n",
       "      <td>1.569074e+07</td>\n",
       "      <td>652.000000</td>\n",
       "      <td>37.000000</td>\n",
       "      <td>5.000000</td>\n",
       "      <td>97198.540000</td>\n",
       "      <td>1.000000</td>\n",
       "      <td>1.00000</td>\n",
       "      <td>1.000000</td>\n",
       "      <td>100193.915000</td>\n",
       "      <td>0.000000</td>\n",
       "    </tr>\n",
       "    <tr>\n",
       "      <td>75%</td>\n",
       "      <td>7500.25000</td>\n",
       "      <td>1.575323e+07</td>\n",
       "      <td>718.000000</td>\n",
       "      <td>44.000000</td>\n",
       "      <td>7.000000</td>\n",
       "      <td>127644.240000</td>\n",
       "      <td>2.000000</td>\n",
       "      <td>1.00000</td>\n",
       "      <td>1.000000</td>\n",
       "      <td>149388.247500</td>\n",
       "      <td>0.000000</td>\n",
       "    </tr>\n",
       "    <tr>\n",
       "      <td>max</td>\n",
       "      <td>10000.00000</td>\n",
       "      <td>1.581569e+07</td>\n",
       "      <td>850.000000</td>\n",
       "      <td>92.000000</td>\n",
       "      <td>10.000000</td>\n",
       "      <td>250898.090000</td>\n",
       "      <td>4.000000</td>\n",
       "      <td>1.00000</td>\n",
       "      <td>1.000000</td>\n",
       "      <td>199992.480000</td>\n",
       "      <td>1.000000</td>\n",
       "    </tr>\n",
       "  </tbody>\n",
       "</table>\n",
       "</div>"
      ],
      "text/plain": [
       "         RowNumber    CustomerId   CreditScore           Age       Tenure  \\\n",
       "count  10000.00000  1.000000e+04  10000.000000  10000.000000  9091.000000   \n",
       "mean    5000.50000  1.569094e+07    650.528800     38.921800     4.997690   \n",
       "std     2886.89568  7.193619e+04     96.653299     10.487806     2.894723   \n",
       "min        1.00000  1.556570e+07    350.000000     18.000000     0.000000   \n",
       "25%     2500.75000  1.562853e+07    584.000000     32.000000     2.000000   \n",
       "50%     5000.50000  1.569074e+07    652.000000     37.000000     5.000000   \n",
       "75%     7500.25000  1.575323e+07    718.000000     44.000000     7.000000   \n",
       "max    10000.00000  1.581569e+07    850.000000     92.000000    10.000000   \n",
       "\n",
       "             Balance  NumOfProducts    HasCrCard  IsActiveMember  \\\n",
       "count   10000.000000   10000.000000  10000.00000    10000.000000   \n",
       "mean    76485.889288       1.530200      0.70550        0.515100   \n",
       "std     62397.405202       0.581654      0.45584        0.499797   \n",
       "min         0.000000       1.000000      0.00000        0.000000   \n",
       "25%         0.000000       1.000000      0.00000        0.000000   \n",
       "50%     97198.540000       1.000000      1.00000        1.000000   \n",
       "75%    127644.240000       2.000000      1.00000        1.000000   \n",
       "max    250898.090000       4.000000      1.00000        1.000000   \n",
       "\n",
       "       EstimatedSalary        Exited  \n",
       "count     10000.000000  10000.000000  \n",
       "mean     100090.239881      0.203700  \n",
       "std       57510.492818      0.402769  \n",
       "min          11.580000      0.000000  \n",
       "25%       51002.110000      0.000000  \n",
       "50%      100193.915000      0.000000  \n",
       "75%      149388.247500      0.000000  \n",
       "max      199992.480000      1.000000  "
      ]
     },
     "execution_count": 106,
     "metadata": {},
     "output_type": "execute_result"
    }
   ],
   "source": [
    "df.describe()"
   ]
  },
  {
   "cell_type": "code",
   "execution_count": 107,
   "metadata": {},
   "outputs": [
    {
     "data": {
      "text/html": [
       "<div>\n",
       "<style scoped>\n",
       "    .dataframe tbody tr th:only-of-type {\n",
       "        vertical-align: middle;\n",
       "    }\n",
       "\n",
       "    .dataframe tbody tr th {\n",
       "        vertical-align: top;\n",
       "    }\n",
       "\n",
       "    .dataframe thead th {\n",
       "        text-align: right;\n",
       "    }\n",
       "</style>\n",
       "<table border=\"1\" class=\"dataframe\">\n",
       "  <thead>\n",
       "    <tr style=\"text-align: right;\">\n",
       "      <th></th>\n",
       "      <th>RowNumber</th>\n",
       "      <th>CustomerId</th>\n",
       "      <th>Surname</th>\n",
       "      <th>CreditScore</th>\n",
       "      <th>Geography</th>\n",
       "      <th>Gender</th>\n",
       "      <th>Age</th>\n",
       "      <th>Tenure</th>\n",
       "      <th>Balance</th>\n",
       "      <th>NumOfProducts</th>\n",
       "      <th>HasCrCard</th>\n",
       "      <th>IsActiveMember</th>\n",
       "      <th>EstimatedSalary</th>\n",
       "      <th>Exited</th>\n",
       "    </tr>\n",
       "  </thead>\n",
       "  <tbody>\n",
       "    <tr>\n",
       "      <td>1313</td>\n",
       "      <td>1314</td>\n",
       "      <td>15576602</td>\n",
       "      <td>Lawrence</td>\n",
       "      <td>809</td>\n",
       "      <td>France</td>\n",
       "      <td>Male</td>\n",
       "      <td>38</td>\n",
       "      <td>3.0</td>\n",
       "      <td>0.0</td>\n",
       "      <td>2</td>\n",
       "      <td>1</td>\n",
       "      <td>1</td>\n",
       "      <td>80061.31</td>\n",
       "      <td>0</td>\n",
       "    </tr>\n",
       "  </tbody>\n",
       "</table>\n",
       "</div>"
      ],
      "text/plain": [
       "      RowNumber  CustomerId   Surname  CreditScore Geography Gender  Age  \\\n",
       "1313       1314    15576602  Lawrence          809    France   Male   38   \n",
       "\n",
       "      Tenure  Balance  NumOfProducts  HasCrCard  IsActiveMember  \\\n",
       "1313     3.0      0.0              2          1               1   \n",
       "\n",
       "      EstimatedSalary  Exited  \n",
       "1313         80061.31       0  "
      ]
     },
     "execution_count": 107,
     "metadata": {},
     "output_type": "execute_result"
    }
   ],
   "source": [
    "df.sample()"
   ]
  },
  {
   "cell_type": "code",
   "execution_count": 108,
   "metadata": {},
   "outputs": [
    {
     "name": "stdout",
     "output_type": "stream",
     "text": [
      "<class 'pandas.core.frame.DataFrame'>\n",
      "RangeIndex: 10000 entries, 0 to 9999\n",
      "Data columns (total 14 columns):\n",
      "RowNumber          10000 non-null int64\n",
      "CustomerId         10000 non-null int64\n",
      "Surname            10000 non-null object\n",
      "CreditScore        10000 non-null int64\n",
      "Geography          10000 non-null object\n",
      "Gender             10000 non-null object\n",
      "Age                10000 non-null int64\n",
      "Tenure             9091 non-null float64\n",
      "Balance            10000 non-null float64\n",
      "NumOfProducts      10000 non-null int64\n",
      "HasCrCard          10000 non-null int64\n",
      "IsActiveMember     10000 non-null int64\n",
      "EstimatedSalary    10000 non-null float64\n",
      "Exited             10000 non-null int64\n",
      "dtypes: float64(3), int64(8), object(3)\n",
      "memory usage: 1.1+ MB\n"
     ]
    }
   ],
   "source": [
    "df.info()"
   ]
  },
  {
   "cell_type": "markdown",
   "metadata": {},
   "source": [
    "**Вывод:** В столбце Tenure присутствует около тысячи пропусков. С этим нужно что-то сделать, ведь модели машинного обучения не работают с пропусками. Также присутсвует ненужный столбец RowNumber, CustomerId и Surname. Все данные соотвутсвуют нужным типам. Также можно было бы привести имена столбцов к нижнему регистру, однако такой метод будет не очень удобен в чтении, ведь столбцы не отдельные слова, а словосочетания."
   ]
  },
  {
   "cell_type": "markdown",
   "metadata": {},
   "source": [
    "### Предобработка данных"
   ]
  },
  {
   "cell_type": "markdown",
   "metadata": {},
   "source": [
    "Удалим столбец RowNumber и CutomerId"
   ]
  },
  {
   "cell_type": "code",
   "execution_count": 109,
   "metadata": {},
   "outputs": [],
   "source": [
    "df = df.drop(['RowNumber', 'CustomerId'], axis=1)"
   ]
  },
  {
   "cell_type": "markdown",
   "metadata": {},
   "source": [
    "Удалим столбец Surname (очень маловероятно, что фамилия сильно влияет на решение клиента о выборе банка, если, конечно банк не для экстрессенсов)"
   ]
  },
  {
   "cell_type": "code",
   "execution_count": 110,
   "metadata": {},
   "outputs": [],
   "source": [
    "df = df.drop(['Surname'], axis=1)"
   ]
  },
  {
   "cell_type": "markdown",
   "metadata": {},
   "source": [
    "### Заполнение пропусков"
   ]
  },
  {
   "cell_type": "markdown",
   "metadata": {},
   "source": [
    "10.000 - это не такая уж и большая сумма. Если отнять от нее еще тысячу, то тогда при делении на тестовую и валидационную выборки останется очень мало. Что можно сделать, кроме медианного значения и среднего значения? Создать обучающую модель. И так как нам нужна предельная точность, то возьмем для этого модель случайного леса."
   ]
  },
  {
   "cell_type": "code",
   "execution_count": 111,
   "metadata": {},
   "outputs": [],
   "source": [
    "data_to_model_for_na = df.dropna()\n",
    "encoder = OrdinalEncoder()\n",
    "data_to_model_for_na = pd.DataFrame(encoder.fit_transform(data_to_model_for_na), columns=data_to_model_for_na.columns)\n",
    "target_to_na = data_to_model_for_na['Tenure']\n",
    "features_to_na = data_to_model_for_na.drop(['Tenure'], axis=1)\n",
    "\n",
    "features_to_na_train, features_to_na_valid, target_to_na_train, target_to_na_valid = train_test_split(features_to_na, target_to_na, test_size=0.25, random_state=12345)\n",
    "\n",
    "data_tenure_na = df.loc[df.loc[:, 'Tenure'].isna()]\n",
    "data_tenure_na = data_tenure_na.drop(['Tenure'], axis=1)\n",
    "data_tenure_na = pd.DataFrame(encoder.fit_transform(data_tenure_na), columns=data_tenure_na.columns)"
   ]
  },
  {
   "cell_type": "code",
   "execution_count": 112,
   "metadata": {
    "scrolled": true
   },
   "outputs": [
    {
     "name": "stdout",
     "output_type": "stream",
     "text": [
      "mae = 2.4526150037136722, depth = 1, est = 10\n",
      "mae = 2.4506756189562324, depth = 1, est = 20\n"
     ]
    }
   ],
   "source": [
    "best_model_to_na = None\n",
    "best_mae_score_to_na_model = 12\n",
    "for est in range(10,40,10):\n",
    "    for depth in range(1,6,1):\n",
    "        scaler = StandardScaler()\n",
    "        numeric=['Age', 'Balance', 'EstimatedSalary', 'NumOfProducts','HasCrCard', 'IsActiveMember']\n",
    "        scaler.fit(features_to_na_train[numeric])\n",
    "        features_to_na_train[numeric] = scaler.transform(features_to_na_train[numeric])\n",
    "        features_to_na_valid[numeric] = scaler.transform(features_to_na_valid[numeric])\n",
    "        model_for_na = RandomForestRegressor(n_estimators=est, max_depth=depth, random_state=12345)\n",
    "        model_for_na.fit(features_to_na_train, target_to_na_train)\n",
    "        predictions_for_na = model_for_na.predict(features_to_na_valid)\n",
    "        mae = mean_absolute_error(target_to_na_valid, predictions_for_na)\n",
    "        if mae < best_mae_score_to_na_model:\n",
    "            best_model_to_na = model_for_na\n",
    "            best_mae_score_to_na_model = mae\n",
    "            predictions_for_na = model_for_na.predict(features_to_na_valid)\n",
    "            print('mae = {}, depth = {}, est = {}'.format(mean_absolute_error(target_to_na_valid, predictions_for_na), depth, est))\n",
    "        \n",
    "predictions_for_na_tenure = best_model_to_na.predict(data_tenure_na)"
   ]
  },
  {
   "cell_type": "code",
   "execution_count": 113,
   "metadata": {},
   "outputs": [],
   "source": [
    "df.loc[df['Tenure'].isna(), 'Tenure'] = predictions_for_na_tenure"
   ]
  },
  {
   "cell_type": "code",
   "execution_count": 114,
   "metadata": {},
   "outputs": [
    {
     "name": "stdout",
     "output_type": "stream",
     "text": [
      "<class 'pandas.core.frame.DataFrame'>\n",
      "RangeIndex: 10000 entries, 0 to 9999\n",
      "Data columns (total 11 columns):\n",
      "CreditScore        10000 non-null int64\n",
      "Geography          10000 non-null object\n",
      "Gender             10000 non-null object\n",
      "Age                10000 non-null int64\n",
      "Tenure             10000 non-null float64\n",
      "Balance            10000 non-null float64\n",
      "NumOfProducts      10000 non-null int64\n",
      "HasCrCard          10000 non-null int64\n",
      "IsActiveMember     10000 non-null int64\n",
      "EstimatedSalary    10000 non-null float64\n",
      "Exited             10000 non-null int64\n",
      "dtypes: float64(3), int64(6), object(2)\n",
      "memory usage: 859.5+ KB\n"
     ]
    }
   ],
   "source": [
    "df.info()"
   ]
  },
  {
   "cell_type": "code",
   "execution_count": 115,
   "metadata": {},
   "outputs": [],
   "source": [
    "df['Tenure'] = df['Tenure'].astype(int)"
   ]
  },
  {
   "cell_type": "code",
   "execution_count": 116,
   "metadata": {},
   "outputs": [],
   "source": [
    "df['Tenure'] = df['Tenure'].astype(float)"
   ]
  },
  {
   "cell_type": "markdown",
   "metadata": {},
   "source": [
    "## Исследование задачи"
   ]
  },
  {
   "cell_type": "markdown",
   "metadata": {},
   "source": [
    "Для того, чтобы начать исследование классов, потребуется создать хотя бы одну модель. Возьмем для этой цели модель Логистической регрессии, так как у нас задача классификации с бинарным целевым признаком."
   ]
  },
  {
   "cell_type": "markdown",
   "metadata": {},
   "source": [
    "### Подготовка данных  методом OHE"
   ]
  },
  {
   "cell_type": "markdown",
   "metadata": {},
   "source": [
    "Проведем процедуру прямого кодирования с данными для того, чтобы использовать её на линейной регрессии. Используем метод OHE."
   ]
  },
  {
   "cell_type": "code",
   "execution_count": 117,
   "metadata": {},
   "outputs": [],
   "source": [
    "data_ohe = pd.get_dummies(df, drop_first=True)"
   ]
  },
  {
   "cell_type": "code",
   "execution_count": 118,
   "metadata": {},
   "outputs": [],
   "source": [
    "target_ohe = data_ohe['Exited']\n",
    "features_ohe = data_ohe.drop(['Exited'], axis=1)"
   ]
  },
  {
   "cell_type": "markdown",
   "metadata": {},
   "source": [
    "Масштабируем признаки"
   ]
  },
  {
   "cell_type": "code",
   "execution_count": 119,
   "metadata": {},
   "outputs": [],
   "source": [
    "scaler = StandardScaler()\n",
    "numeric=['Age', 'Balance', 'EstimatedSalary', 'Tenure']\n",
    "scaler.fit(features_ohe[numeric])\n",
    "features_ohe[numeric] = scaler.transform(features_ohe[numeric])"
   ]
  },
  {
   "cell_type": "markdown",
   "metadata": {},
   "source": [
    "Разделим данные на валидационную и обучающую выборки:"
   ]
  },
  {
   "cell_type": "code",
   "execution_count": 120,
   "metadata": {},
   "outputs": [],
   "source": [
    "features_ohe_train, features_ohe_valid, target_ohe_train, target_ohe_valid = train_test_split(features_ohe, target_ohe, test_size=0.4, random_state=12345)"
   ]
  },
  {
   "cell_type": "markdown",
   "metadata": {},
   "source": [
    "Разделим валидационную выборку на тестовую и валидационную:"
   ]
  },
  {
   "cell_type": "code",
   "execution_count": 121,
   "metadata": {},
   "outputs": [],
   "source": [
    "features_ohe_valid, features_ohe_test, target_ohe_valid, target_ohe_test = train_test_split(features_ohe_valid, target_ohe_valid, test_size=0.5, random_state=12345)"
   ]
  },
  {
   "cell_type": "markdown",
   "metadata": {},
   "source": [
    "Проверим выборки:"
   ]
  },
  {
   "cell_type": "code",
   "execution_count": 122,
   "metadata": {},
   "outputs": [
    {
     "data": {
      "text/plain": [
       "(6000, 11)"
      ]
     },
     "execution_count": 122,
     "metadata": {},
     "output_type": "execute_result"
    }
   ],
   "source": [
    "features_ohe_train.shape"
   ]
  },
  {
   "cell_type": "code",
   "execution_count": 123,
   "metadata": {},
   "outputs": [
    {
     "data": {
      "text/plain": [
       "(6000,)"
      ]
     },
     "execution_count": 123,
     "metadata": {},
     "output_type": "execute_result"
    }
   ],
   "source": [
    "target_ohe_train.shape"
   ]
  },
  {
   "cell_type": "code",
   "execution_count": 124,
   "metadata": {},
   "outputs": [
    {
     "data": {
      "text/plain": [
       "(2000, 11)"
      ]
     },
     "execution_count": 124,
     "metadata": {},
     "output_type": "execute_result"
    }
   ],
   "source": [
    "features_ohe_valid.shape"
   ]
  },
  {
   "cell_type": "code",
   "execution_count": 125,
   "metadata": {},
   "outputs": [
    {
     "data": {
      "text/plain": [
       "(2000,)"
      ]
     },
     "execution_count": 125,
     "metadata": {},
     "output_type": "execute_result"
    }
   ],
   "source": [
    "target_ohe_valid.shape"
   ]
  },
  {
   "cell_type": "code",
   "execution_count": 126,
   "metadata": {},
   "outputs": [
    {
     "data": {
      "text/plain": [
       "(2000, 11)"
      ]
     },
     "execution_count": 126,
     "metadata": {},
     "output_type": "execute_result"
    }
   ],
   "source": [
    "features_ohe_test.shape"
   ]
  },
  {
   "cell_type": "code",
   "execution_count": 127,
   "metadata": {},
   "outputs": [
    {
     "data": {
      "text/plain": [
       "(2000,)"
      ]
     },
     "execution_count": 127,
     "metadata": {},
     "output_type": "execute_result"
    }
   ],
   "source": [
    "target_ohe_test.shape"
   ]
  },
  {
   "cell_type": "markdown",
   "metadata": {},
   "source": [
    "### Подготовка данных методом OrdinalEncoding"
   ]
  },
  {
   "cell_type": "markdown",
   "metadata": {},
   "source": [
    "Проведем процедуро порядкового кодирования для того, что использовать её на моделях решающего дерева и случайного леса. "
   ]
  },
  {
   "cell_type": "code",
   "execution_count": 128,
   "metadata": {},
   "outputs": [],
   "source": [
    "encoder = OrdinalEncoder()\n",
    "df_ordinal = pd.DataFrame(encoder.fit_transform(df), columns=df.columns)"
   ]
  },
  {
   "cell_type": "code",
   "execution_count": 129,
   "metadata": {},
   "outputs": [],
   "source": [
    "target_ordinal = df_ordinal['Exited']\n",
    "features_ordinal = df_ordinal.drop(['Exited'], axis=1)"
   ]
  },
  {
   "cell_type": "markdown",
   "metadata": {},
   "source": [
    "Разделим выборки на обучающую и валидационные:"
   ]
  },
  {
   "cell_type": "code",
   "execution_count": 130,
   "metadata": {},
   "outputs": [],
   "source": [
    "features_ordinal_train, features_ordinal_valid, target_ordinal_train, target_ordinal_valid = train_test_split(features_ordinal, target_ordinal, test_size=0.4, random_state=12345)"
   ]
  },
  {
   "cell_type": "code",
   "execution_count": 131,
   "metadata": {},
   "outputs": [],
   "source": [
    "features_ordinal_valid, features_ordinal_test, target_ordinal_valid, target_ordinal_test = train_test_split(features_ordinal_valid, target_ordinal_valid, test_size=0.5, random_state=12345)"
   ]
  },
  {
   "cell_type": "code",
   "execution_count": 132,
   "metadata": {},
   "outputs": [
    {
     "data": {
      "text/plain": [
       "(6000, 10)"
      ]
     },
     "execution_count": 132,
     "metadata": {},
     "output_type": "execute_result"
    }
   ],
   "source": [
    "features_ordinal_train.shape"
   ]
  },
  {
   "cell_type": "code",
   "execution_count": 133,
   "metadata": {},
   "outputs": [
    {
     "data": {
      "text/plain": [
       "(6000,)"
      ]
     },
     "execution_count": 133,
     "metadata": {},
     "output_type": "execute_result"
    }
   ],
   "source": [
    "target_ordinal_train.shape"
   ]
  },
  {
   "cell_type": "code",
   "execution_count": 134,
   "metadata": {},
   "outputs": [
    {
     "data": {
      "text/plain": [
       "(2000, 10)"
      ]
     },
     "execution_count": 134,
     "metadata": {},
     "output_type": "execute_result"
    }
   ],
   "source": [
    "features_ordinal_valid.shape"
   ]
  },
  {
   "cell_type": "code",
   "execution_count": 135,
   "metadata": {},
   "outputs": [
    {
     "data": {
      "text/plain": [
       "(2000,)"
      ]
     },
     "execution_count": 135,
     "metadata": {},
     "output_type": "execute_result"
    }
   ],
   "source": [
    "target_ordinal_valid.shape"
   ]
  },
  {
   "cell_type": "code",
   "execution_count": 136,
   "metadata": {},
   "outputs": [
    {
     "data": {
      "text/plain": [
       "(2000, 10)"
      ]
     },
     "execution_count": 136,
     "metadata": {},
     "output_type": "execute_result"
    }
   ],
   "source": [
    "features_ordinal_test.shape"
   ]
  },
  {
   "cell_type": "code",
   "execution_count": 137,
   "metadata": {
    "scrolled": true
   },
   "outputs": [
    {
     "data": {
      "text/plain": [
       "(2000,)"
      ]
     },
     "execution_count": 137,
     "metadata": {},
     "output_type": "execute_result"
    }
   ],
   "source": [
    "target_ordinal_test.shape"
   ]
  },
  {
   "cell_type": "markdown",
   "metadata": {},
   "source": [
    "#### Проверка на мультколлинеарность"
   ]
  },
  {
   "cell_type": "code",
   "execution_count": 138,
   "metadata": {},
   "outputs": [
    {
     "data": {
      "text/html": [
       "<div>\n",
       "<style scoped>\n",
       "    .dataframe tbody tr th:only-of-type {\n",
       "        vertical-align: middle;\n",
       "    }\n",
       "\n",
       "    .dataframe tbody tr th {\n",
       "        vertical-align: top;\n",
       "    }\n",
       "\n",
       "    .dataframe thead th {\n",
       "        text-align: right;\n",
       "    }\n",
       "</style>\n",
       "<table border=\"1\" class=\"dataframe\">\n",
       "  <thead>\n",
       "    <tr style=\"text-align: right;\">\n",
       "      <th></th>\n",
       "      <th>CreditScore</th>\n",
       "      <th>Age</th>\n",
       "      <th>Tenure</th>\n",
       "      <th>Balance</th>\n",
       "      <th>NumOfProducts</th>\n",
       "      <th>HasCrCard</th>\n",
       "      <th>IsActiveMember</th>\n",
       "      <th>EstimatedSalary</th>\n",
       "      <th>Exited</th>\n",
       "    </tr>\n",
       "  </thead>\n",
       "  <tbody>\n",
       "    <tr>\n",
       "      <td>CreditScore</td>\n",
       "      <td>1.000000</td>\n",
       "      <td>-0.003965</td>\n",
       "      <td>0.000644</td>\n",
       "      <td>0.006268</td>\n",
       "      <td>0.012238</td>\n",
       "      <td>-0.005458</td>\n",
       "      <td>0.025651</td>\n",
       "      <td>-0.001384</td>\n",
       "      <td>-0.027094</td>\n",
       "    </tr>\n",
       "    <tr>\n",
       "      <td>Age</td>\n",
       "      <td>-0.003965</td>\n",
       "      <td>1.000000</td>\n",
       "      <td>-0.011683</td>\n",
       "      <td>0.028308</td>\n",
       "      <td>-0.030680</td>\n",
       "      <td>-0.011721</td>\n",
       "      <td>0.085472</td>\n",
       "      <td>-0.007201</td>\n",
       "      <td>0.285323</td>\n",
       "    </tr>\n",
       "    <tr>\n",
       "      <td>Tenure</td>\n",
       "      <td>0.000644</td>\n",
       "      <td>-0.011683</td>\n",
       "      <td>1.000000</td>\n",
       "      <td>-0.007301</td>\n",
       "      <td>0.011345</td>\n",
       "      <td>0.025468</td>\n",
       "      <td>-0.030212</td>\n",
       "      <td>0.010514</td>\n",
       "      <td>-0.015710</td>\n",
       "    </tr>\n",
       "    <tr>\n",
       "      <td>Balance</td>\n",
       "      <td>0.006268</td>\n",
       "      <td>0.028308</td>\n",
       "      <td>-0.007301</td>\n",
       "      <td>1.000000</td>\n",
       "      <td>-0.304180</td>\n",
       "      <td>-0.014858</td>\n",
       "      <td>-0.010084</td>\n",
       "      <td>0.012797</td>\n",
       "      <td>0.118533</td>\n",
       "    </tr>\n",
       "    <tr>\n",
       "      <td>NumOfProducts</td>\n",
       "      <td>0.012238</td>\n",
       "      <td>-0.030680</td>\n",
       "      <td>0.011345</td>\n",
       "      <td>-0.304180</td>\n",
       "      <td>1.000000</td>\n",
       "      <td>0.003183</td>\n",
       "      <td>0.009612</td>\n",
       "      <td>0.014204</td>\n",
       "      <td>-0.047820</td>\n",
       "    </tr>\n",
       "    <tr>\n",
       "      <td>HasCrCard</td>\n",
       "      <td>-0.005458</td>\n",
       "      <td>-0.011721</td>\n",
       "      <td>0.025468</td>\n",
       "      <td>-0.014858</td>\n",
       "      <td>0.003183</td>\n",
       "      <td>1.000000</td>\n",
       "      <td>-0.011866</td>\n",
       "      <td>-0.009933</td>\n",
       "      <td>-0.007138</td>\n",
       "    </tr>\n",
       "    <tr>\n",
       "      <td>IsActiveMember</td>\n",
       "      <td>0.025651</td>\n",
       "      <td>0.085472</td>\n",
       "      <td>-0.030212</td>\n",
       "      <td>-0.010084</td>\n",
       "      <td>0.009612</td>\n",
       "      <td>-0.011866</td>\n",
       "      <td>1.000000</td>\n",
       "      <td>-0.011421</td>\n",
       "      <td>-0.156128</td>\n",
       "    </tr>\n",
       "    <tr>\n",
       "      <td>EstimatedSalary</td>\n",
       "      <td>-0.001384</td>\n",
       "      <td>-0.007201</td>\n",
       "      <td>0.010514</td>\n",
       "      <td>0.012797</td>\n",
       "      <td>0.014204</td>\n",
       "      <td>-0.009933</td>\n",
       "      <td>-0.011421</td>\n",
       "      <td>1.000000</td>\n",
       "      <td>0.012097</td>\n",
       "    </tr>\n",
       "    <tr>\n",
       "      <td>Exited</td>\n",
       "      <td>-0.027094</td>\n",
       "      <td>0.285323</td>\n",
       "      <td>-0.015710</td>\n",
       "      <td>0.118533</td>\n",
       "      <td>-0.047820</td>\n",
       "      <td>-0.007138</td>\n",
       "      <td>-0.156128</td>\n",
       "      <td>0.012097</td>\n",
       "      <td>1.000000</td>\n",
       "    </tr>\n",
       "  </tbody>\n",
       "</table>\n",
       "</div>"
      ],
      "text/plain": [
       "                 CreditScore       Age    Tenure   Balance  NumOfProducts  \\\n",
       "CreditScore         1.000000 -0.003965  0.000644  0.006268       0.012238   \n",
       "Age                -0.003965  1.000000 -0.011683  0.028308      -0.030680   \n",
       "Tenure              0.000644 -0.011683  1.000000 -0.007301       0.011345   \n",
       "Balance             0.006268  0.028308 -0.007301  1.000000      -0.304180   \n",
       "NumOfProducts       0.012238 -0.030680  0.011345 -0.304180       1.000000   \n",
       "HasCrCard          -0.005458 -0.011721  0.025468 -0.014858       0.003183   \n",
       "IsActiveMember      0.025651  0.085472 -0.030212 -0.010084       0.009612   \n",
       "EstimatedSalary    -0.001384 -0.007201  0.010514  0.012797       0.014204   \n",
       "Exited             -0.027094  0.285323 -0.015710  0.118533      -0.047820   \n",
       "\n",
       "                 HasCrCard  IsActiveMember  EstimatedSalary    Exited  \n",
       "CreditScore      -0.005458        0.025651        -0.001384 -0.027094  \n",
       "Age              -0.011721        0.085472        -0.007201  0.285323  \n",
       "Tenure            0.025468       -0.030212         0.010514 -0.015710  \n",
       "Balance          -0.014858       -0.010084         0.012797  0.118533  \n",
       "NumOfProducts     0.003183        0.009612         0.014204 -0.047820  \n",
       "HasCrCard         1.000000       -0.011866        -0.009933 -0.007138  \n",
       "IsActiveMember   -0.011866        1.000000        -0.011421 -0.156128  \n",
       "EstimatedSalary  -0.009933       -0.011421         1.000000  0.012097  \n",
       "Exited           -0.007138       -0.156128         0.012097  1.000000  "
      ]
     },
     "execution_count": 138,
     "metadata": {},
     "output_type": "execute_result"
    }
   ],
   "source": [
    "df.corr()"
   ]
  },
  {
   "cell_type": "markdown",
   "metadata": {},
   "source": [
    "- Признаки не имеют сильной корреляции"
   ]
  },
  {
   "cell_type": "markdown",
   "metadata": {},
   "source": [
    "### Проверка дисбаланса классов"
   ]
  },
  {
   "cell_type": "markdown",
   "metadata": {},
   "source": [
    "Построим простую пробную модель решающего дерева для того, что проверить дисбаланс классов:"
   ]
  },
  {
   "cell_type": "code",
   "execution_count": 139,
   "metadata": {},
   "outputs": [
    {
     "name": "stdout",
     "output_type": "stream",
     "text": [
      "Модель 2\n",
      "Depth = 2, F1_score = 0.5217391304347825\n",
      "Матрица неточностей:\n",
      "[[1456  126]\n",
      " [ 226  192]]\n",
      "\n",
      "Модель 4\n",
      "Depth = 4, F1_score = 0.5528700906344411\n",
      "Матрица неточностей:\n",
      "[[1521   61]\n",
      " [ 235  183]]\n",
      "\n"
     ]
    },
    {
     "name": "stderr",
     "output_type": "stream",
     "text": [
      "/opt/conda/lib/python3.7/site-packages/sklearn/metrics/classification.py:1437: UndefinedMetricWarning: F-score is ill-defined and being set to 0.0 due to no predicted samples.\n",
      "  'precision', 'predicted', average, warn_for)\n"
     ]
    }
   ],
   "source": [
    "best_model_dt_balance_check = None\n",
    "best_f1_score_dt_balance_check = 0\n",
    "for depth in range(1,7,1):\n",
    "    model_dt_balance_check = DecisionTreeClassifier(max_depth=depth, random_state=12345)\n",
    "    model_dt_balance_check.fit(features_ordinal_train, target_ordinal_train)\n",
    "    prediction_valid_balance_check = model_dt_balance_check.predict(features_ordinal_valid)\n",
    "    f1_score_dt_balance_check = f1_score(target_ordinal_valid, prediction_valid_balance_check)\n",
    "    if f1_score_dt_balance_check > best_f1_score_dt_balance_check:\n",
    "        best_model_dt_balance_check = model_dt_balance_check\n",
    "        best_f1_score_dt_balance_check = f1_score_dt_balance_check\n",
    "        print('Модель {}'.format(depth))\n",
    "        print('Depth = {}, F1_score = {}'.format(depth, f1_score(target_ordinal_valid,prediction_valid_balance_check)))\n",
    "        print('Матрица неточностей:')\n",
    "        print(confusion_matrix(target_ordinal_valid, prediction_valid_balance_check))\n",
    "        print()"
   ]
  },
  {
   "cell_type": "markdown",
   "metadata": {},
   "source": [
    "- Такая модель часто \"видит\" отрицательные ответы там, где их нет. Другими словами среди ошибок доминирует FalseNegative.\n",
    "- F1 метрика без каких-либо манипуляция с выборкой уже близка к требуемой F1."
   ]
  },
  {
   "cell_type": "markdown",
   "metadata": {},
   "source": [
    "Проверим меру полноты и точности:"
   ]
  },
  {
   "cell_type": "code",
   "execution_count": 140,
   "metadata": {},
   "outputs": [
    {
     "name": "stdout",
     "output_type": "stream",
     "text": [
      "Полнота (Доля истинноположительных ответов среди всех истинных ответов): 0.4090909090909091\n",
      "Точность (Доля истинноположительных ответов среди всех положительных ответов): 0.7772727272727272\n"
     ]
    }
   ],
   "source": [
    "recall_balance_check = recall_score(target_ordinal_valid, prediction_valid_balance_check)\n",
    "print('Полнота (Доля истинноположительных ответов среди всех истинных ответов):', recall_balance_check)\n",
    "precision_balance_check = precision_score(target_ordinal_valid, prediction_valid_balance_check)\n",
    "print('Точность (Доля истинноположительных ответов среди всех положительных ответов):', precision_balance_check)"
   ]
  },
  {
   "cell_type": "markdown",
   "metadata": {},
   "source": [
    "Подсчитаем частоты классов:"
   ]
  },
  {
   "cell_type": "code",
   "execution_count": 141,
   "metadata": {
    "scrolled": true
   },
   "outputs": [
    {
     "name": "stdout",
     "output_type": "stream",
     "text": [
      "0    0.7963\n",
      "1    0.2037\n",
      "Name: Exited, dtype: float64\n"
     ]
    },
    {
     "data": {
      "image/png": "[encoded data removed]",
      "text/plain": [
       "<Figure size 432x288 with 1 Axes>"
      ]
     },
     "metadata": {
      "needs_background": "light"
     },
     "output_type": "display_data"
    }
   ],
   "source": [
    "class_frequency=df['Exited'].value_counts(normalize=True)\n",
    "print(class_frequency)\n",
    "class_frequency.plot(kind='bar')\n",
    "plt.title('График частоты классов в исходных данных')\n",
    "plt.show()"
   ]
  },
  {
   "cell_type": "markdown",
   "metadata": {},
   "source": [
    "### Выводы по проверке баланса классов"
   ]
  },
  {
   "cell_type": "markdown",
   "metadata": {},
   "source": [
    "**Выводы**\n",
    "- На основе модели решающего дерева со случано взятыми гиперпараметрами удалось получить F1 метрику, равную 0.55\n",
    "- Данная модель склонна к показанию отрицательных ответов там где их нет.\n",
    "- В исходных данных больше отрицательных ответов в 0.4 раза (наблюдается дисбаланс классов)\n",
    "- Признаки не имеют сильной корреляции."
   ]
  },
  {
   "cell_type": "markdown",
   "metadata": {},
   "source": [
    "#### Модель линейной регрессии без учета дисбаланса классов"
   ]
  },
  {
   "cell_type": "code",
   "execution_count": 142,
   "metadata": {},
   "outputs": [
    {
     "name": "stdout",
     "output_type": "stream",
     "text": [
      "F1: 0.3254237288135593\n",
      "AUC ROC: 0.7585259407569608\n"
     ]
    }
   ],
   "source": [
    "model_LR_class_not_balanced = LogisticRegression(random_state=12345, solver='liblinear')\n",
    "model_LR_class_not_balanced.fit(features_ohe_train, target_ohe_train)\n",
    "LR_class_balanced_predictions_valid = model_LR_class_not_balanced.predict(features_ohe_valid)\n",
    "print('F1:', f1_score(target_ohe_valid, LR_class_balanced_predictions_valid))\n",
    "print('AUC ROC:', roc_auc_score(target_ohe_valid, (model_LR_class_not_balanced.predict_proba(features_ohe_valid)[:,1])))"
   ]
  },
  {
   "cell_type": "markdown",
   "metadata": {},
   "source": [
    "#### Модель дерева решений без учета дисбаланса классов и без гиперпараметров"
   ]
  },
  {
   "cell_type": "code",
   "execution_count": 143,
   "metadata": {},
   "outputs": [
    {
     "name": "stdout",
     "output_type": "stream",
     "text": [
      "F1: 0.4606060606060606\n",
      "AUC ROC: 0.6586886564762671\n"
     ]
    }
   ],
   "source": [
    "model_DT_class_not_balanced = DecisionTreeClassifier(random_state=12345)\n",
    "model_DT_class_not_balanced.fit(features_ordinal_train, target_ordinal_train)\n",
    "DT_class_balanced_predictions_valid = model_DT_class_not_balanced.predict(features_ordinal_valid)\n",
    "print('F1:', f1_score(target_ordinal_valid, DT_class_balanced_predictions_valid))\n",
    "print('AUC ROC:', roc_auc_score(target_ordinal_valid, (model_DT_class_not_balanced.predict_proba(features_ordinal_valid)[:,1])))"
   ]
  },
  {
   "cell_type": "markdown",
   "metadata": {},
   "source": [
    "#### Модель случайного леса без учета дисбаланса классов и гиперпараметров"
   ]
  },
  {
   "cell_type": "code",
   "execution_count": 144,
   "metadata": {
    "scrolled": false
   },
   "outputs": [
    {
     "name": "stdout",
     "output_type": "stream",
     "text": [
      "F1: 0.5515151515151515\n",
      "AUC ROC: 0.8137721616995022\n"
     ]
    },
    {
     "name": "stderr",
     "output_type": "stream",
     "text": [
      "/opt/conda/lib/python3.7/site-packages/sklearn/ensemble/forest.py:245: FutureWarning: The default value of n_estimators will change from 10 in version 0.20 to 100 in 0.22.\n",
      "  \"10 in version 0.20 to 100 in 0.22.\", FutureWarning)\n"
     ]
    }
   ],
   "source": [
    "model_RF_class_not_balanced = RandomForestClassifier(random_state=12345)\n",
    "model_RF_class_not_balanced.fit(features_ordinal_train, target_ordinal_train)\n",
    "RF_class_not_balanced_predictions_valid = model_RF_class_not_balanced.predict(features_ordinal_valid)\n",
    "print('F1:', f1_score(target_ordinal_valid, RF_class_not_balanced_predictions_valid))\n",
    "print('AUC ROC:', roc_auc_score(target_ordinal_valid, (model_RF_class_not_balanced.predict_proba(features_ordinal_valid)[:,1])))"
   ]
  },
  {
   "cell_type": "markdown",
   "metadata": {},
   "source": [
    "## Борьба с дисбалансом"
   ]
  },
  {
   "cell_type": "markdown",
   "metadata": {},
   "source": [
    "### Взвешивание классов"
   ]
  },
  {
   "cell_type": "markdown",
   "metadata": {},
   "source": [
    "#### Линейнай регрессия"
   ]
  },
  {
   "cell_type": "code",
   "execution_count": 145,
   "metadata": {},
   "outputs": [
    {
     "name": "stdout",
     "output_type": "stream",
     "text": [
      "F1: 0.4905982905982907\n",
      "AUC ROC: 0.7637476636079337\n"
     ]
    }
   ],
   "source": [
    "model_LR_class_balanced = LogisticRegression(random_state=12345, solver='liblinear', class_weight='balanced')\n",
    "model_LR_class_balanced.fit(features_ohe_train, target_ohe_train)\n",
    "LR_class_balanced_predictions_valid = model_LR_class_balanced.predict(features_ohe_valid)\n",
    "print('F1:', f1_score(target_ohe_valid, LR_class_balanced_predictions_valid))\n",
    "print('AUC ROC:', roc_auc_score(target_ohe_valid, (model_LR_class_balanced.predict_proba(features_ohe_valid)[:,1])))"
   ]
  },
  {
   "cell_type": "markdown",
   "metadata": {},
   "source": [
    "#### Дерево решений"
   ]
  },
  {
   "cell_type": "code",
   "execution_count": 146,
   "metadata": {},
   "outputs": [
    {
     "name": "stdout",
     "output_type": "stream",
     "text": [
      "F1: 0.48661800486618\n",
      "AUC ROC: 0.6747591020995772\n"
     ]
    }
   ],
   "source": [
    "model_DT_class_balanced = DecisionTreeClassifier(random_state=12345, class_weight='balanced')\n",
    "model_DT_class_balanced.fit(features_ordinal_train, target_ordinal_train)\n",
    "DT_class_balanced_predictions_valid = model_DT_class_balanced.predict(features_ordinal_valid)\n",
    "print('F1:', f1_score(target_ordinal_valid, DT_class_balanced_predictions_valid))\n",
    "print('AUC ROC:', roc_auc_score(target_ordinal_valid, (model_DT_class_balanced.predict_proba(features_ordinal_valid)[:,1])))"
   ]
  },
  {
   "cell_type": "markdown",
   "metadata": {},
   "source": [
    "#### Случайный лес"
   ]
  },
  {
   "cell_type": "code",
   "execution_count": 147,
   "metadata": {},
   "outputs": [
    {
     "name": "stdout",
     "output_type": "stream",
     "text": [
      "F1: 0.541795665634675\n",
      "AUC ROC: 0.8094895323586521\n"
     ]
    },
    {
     "name": "stderr",
     "output_type": "stream",
     "text": [
      "/opt/conda/lib/python3.7/site-packages/sklearn/ensemble/forest.py:245: FutureWarning: The default value of n_estimators will change from 10 in version 0.20 to 100 in 0.22.\n",
      "  \"10 in version 0.20 to 100 in 0.22.\", FutureWarning)\n"
     ]
    }
   ],
   "source": [
    "model_RF_class_balanced = RandomForestClassifier(class_weight=\"balanced\", random_state=12345)\n",
    "model_RF_class_balanced.fit(features_ordinal_train, target_ordinal_train)\n",
    "RF_class_balanced_predictions_valid = model_RF_class_balanced.predict(features_ordinal_valid)\n",
    "print('F1:', f1_score(target_ordinal_valid, RF_class_balanced_predictions_valid))\n",
    "print('AUC ROC:', roc_auc_score(target_ordinal_valid, (model_RF_class_balanced.predict_proba(features_ordinal_valid)[:,1])))"
   ]
  },
  {
   "cell_type": "markdown",
   "metadata": {},
   "source": [
    "**Вывод:**\n",
    "- Модель логистической регресси сильно увеличила показатели F1 и AUC-ROC после появления аргумента class_weigh='balanced'\n",
    "- Модель дерева решений немного увеличила показатель F1 и AUC-ROC после появления аргумента class_weigh='balanced'\n",
    "- Модель случайнго леса уменьшила показатель F1 и AUC-ROC после появления аргумента class_weigh='balanced'."
   ]
  },
  {
   "cell_type": "markdown",
   "metadata": {},
   "source": [
    "### Увеличение выборки"
   ]
  },
  {
   "cell_type": "markdown",
   "metadata": {},
   "source": [
    "Попробуем технику upsampling"
   ]
  },
  {
   "cell_type": "markdown",
   "metadata": {},
   "source": [
    "Создадим функцию для upsampling'a OHE и OE"
   ]
  },
  {
   "cell_type": "code",
   "execution_count": 148,
   "metadata": {},
   "outputs": [],
   "source": [
    "def upsampling(features, target, repeat):\n",
    "    features_zeros = features[target == 0]\n",
    "    features_ones = features[target == 1]\n",
    "    target_zeros = target[target == 0]\n",
    "    target_ones = target[target == 1]\n",
    "    \n",
    "    features_upsampled = pd.concat([features_zeros] + [features_ones] * repeat)\n",
    "    target_upsampled = pd.concat([target_zeros] + [target_ones] * repeat)\n",
    "    \n",
    "    features_upsampled, target_upsampled = shuffle(features_upsampled, target_upsampled, random_state=12345)\n",
    "    \n",
    "    return features_upsampled, target_upsampled"
   ]
  },
  {
   "cell_type": "code",
   "execution_count": 149,
   "metadata": {},
   "outputs": [],
   "source": [
    "features_upsampled_ohe, target_upsampled_ohe = upsampling(features_ohe_train, target_ohe_train, 10)"
   ]
  },
  {
   "cell_type": "code",
   "execution_count": 150,
   "metadata": {},
   "outputs": [],
   "source": [
    "features_upsampled_oe, target_upsampled_oe = upsampling(features_ordinal_train, target_ordinal_train, 10)"
   ]
  },
  {
   "cell_type": "markdown",
   "metadata": {},
   "source": [
    "#### Модель логистической регрессии после upsampling'а"
   ]
  },
  {
   "cell_type": "code",
   "execution_count": 151,
   "metadata": {
    "scrolled": true
   },
   "outputs": [
    {
     "name": "stdout",
     "output_type": "stream",
     "text": [
      "F1: 0.4212835984640702\n",
      "AUC ROC: 0.7670806138435389\n"
     ]
    }
   ],
   "source": [
    "LR_model_upsampling = LogisticRegression(random_state=12345, solver='liblinear')\n",
    "LR_model_upsampling.fit(features_upsampled_ohe, target_upsampled_ohe)\n",
    "print('F1:', f1_score(target_ohe_valid, LR_model_upsampling.predict(features_ohe_valid)))\n",
    "print('AUC ROC:', roc_auc_score(target_ohe_valid, (LR_model_upsampling.predict_proba(features_ohe_valid)[:,1])))"
   ]
  },
  {
   "cell_type": "markdown",
   "metadata": {},
   "source": [
    "#### Модель дерева решений после upsampling'a"
   ]
  },
  {
   "cell_type": "code",
   "execution_count": 152,
   "metadata": {},
   "outputs": [
    {
     "name": "stdout",
     "output_type": "stream",
     "text": [
      "F1: 0.47337278106508873\n",
      "AUC ROC: 0.667489822706404\n"
     ]
    }
   ],
   "source": [
    "DT_model_upsampling = DecisionTreeClassifier(random_state=12345)\n",
    "DT_model_upsampling.fit(features_upsampled_oe, target_upsampled_oe)\n",
    "print('F1:', f1_score(target_ordinal_valid, DT_model_upsampling.predict(features_ordinal_valid)))\n",
    "print('AUC ROC:', roc_auc_score(target_ordinal_valid, (DT_model_upsampling.predict_proba(features_ordinal_valid)[:,1])))"
   ]
  },
  {
   "cell_type": "markdown",
   "metadata": {},
   "source": [
    "#### Модель случайного леса после upsampling'a"
   ]
  },
  {
   "cell_type": "code",
   "execution_count": 153,
   "metadata": {},
   "outputs": [
    {
     "name": "stderr",
     "output_type": "stream",
     "text": [
      "/opt/conda/lib/python3.7/site-packages/sklearn/ensemble/forest.py:245: FutureWarning: The default value of n_estimators will change from 10 in version 0.20 to 100 in 0.22.\n",
      "  \"10 in version 0.20 to 100 in 0.22.\", FutureWarning)\n"
     ]
    },
    {
     "name": "stdout",
     "output_type": "stream",
     "text": [
      "F1: 0.5566433566433566\n",
      "AUC ROC: 0.8087009055220513\n"
     ]
    }
   ],
   "source": [
    "RF_model_upsampling = RandomForestClassifier(random_state=12345)\n",
    "RF_model_upsampling.fit(features_upsampled_oe, target_upsampled_oe)\n",
    "print('F1:', f1_score(target_ordinal_valid, RF_model_upsampling.predict(features_ordinal_valid)))\n",
    "print('AUC ROC:', roc_auc_score(target_ordinal_valid, (RF_model_upsampling.predict_proba(features_ordinal_valid)[:,1])))"
   ]
  },
  {
   "cell_type": "markdown",
   "metadata": {},
   "source": [
    "**Выводы:**\n",
    "- Модель логистической регрессии после операции upsampling'a дала более высокий результат F1\n",
    "- Модель дерева решений после операции upsampling'a дала немного более высокий результат F1\n",
    "- Модель случайного леса после операции upsampling'a дала немного более высокий результат F1"
   ]
  },
  {
   "cell_type": "markdown",
   "metadata": {},
   "source": [
    "### Уменьшение выборки"
   ]
  },
  {
   "cell_type": "markdown",
   "metadata": {},
   "source": [
    "Также построим функции для операции downsampling'a"
   ]
  },
  {
   "cell_type": "code",
   "execution_count": 154,
   "metadata": {},
   "outputs": [],
   "source": [
    "def downsampling(features, target, fraction):\n",
    "    features_zeros = features[target == 0]\n",
    "    features_ones = features[target == 1]\n",
    "    target_zeros = target[target == 0]\n",
    "    target_ones = target[target == 1]\n",
    "    \n",
    "    features_downsampled = pd.concat([features_zeros.sample(frac=fraction, random_state=12345)] + [features_ones])\n",
    "    target_downsampled = pd.concat([target_zeros.sample(frac=fraction, random_state=12345)] + [target_ones])\n",
    "    \n",
    "    features_downsampled, target_downsampled = shuffle(features_downsampled, target_downsampled, random_state=12345)\n",
    "    \n",
    "    return features_downsampled, target_downsampled\n",
    "    "
   ]
  },
  {
   "cell_type": "code",
   "execution_count": 155,
   "metadata": {},
   "outputs": [],
   "source": [
    "features_downsampled_ohe, target_downsampled_ohe = downsampling(features_ohe_train, target_ohe_train, 0.1)"
   ]
  },
  {
   "cell_type": "code",
   "execution_count": 156,
   "metadata": {},
   "outputs": [],
   "source": [
    "features_downsampled_oe, target_downsampled_oe = downsampling(features_ordinal_train, target_ordinal_train, 0.1)"
   ]
  },
  {
   "cell_type": "markdown",
   "metadata": {},
   "source": [
    "#### Модель логистической регрессии после операции downsampling'a"
   ]
  },
  {
   "cell_type": "code",
   "execution_count": 157,
   "metadata": {},
   "outputs": [
    {
     "name": "stdout",
     "output_type": "stream",
     "text": [
      "F1: 0.4287330316742081\n",
      "AUC ROC: 0.7578635849478886\n"
     ]
    }
   ],
   "source": [
    "LR_model_downsampling = LogisticRegression(random_state=12345, solver='liblinear')\n",
    "LR_model_downsampling.fit(features_downsampled_ohe, target_downsampled_ohe)\n",
    "print('F1:', f1_score(target_ohe_valid, LR_model_downsampling.predict(features_ohe_valid)))\n",
    "print('AUC ROC:', roc_auc_score(target_ohe_valid, (LR_model_downsampling.predict_proba(features_ohe_valid)[:,1])))"
   ]
  },
  {
   "cell_type": "markdown",
   "metadata": {},
   "source": [
    "#### Модель дерева решений после операции downsampling'a"
   ]
  },
  {
   "cell_type": "code",
   "execution_count": 158,
   "metadata": {},
   "outputs": [
    {
     "name": "stdout",
     "output_type": "stream",
     "text": [
      "F1: 0.4394250513347023\n",
      "AUC ROC: 0.6557791300455482\n"
     ]
    }
   ],
   "source": [
    "DT_model_downsampling = DecisionTreeClassifier(random_state=12345)\n",
    "DT_model_downsampling.fit(features_downsampled_oe, target_downsampled_oe)\n",
    "print('F1:', f1_score(target_ordinal_valid, DT_model_downsampling.predict(features_ordinal_valid)))\n",
    "print('AUC ROC:', roc_auc_score(target_ordinal_valid, (DT_model_downsampling.predict_proba(features_ordinal_valid)[:,1])))"
   ]
  },
  {
   "cell_type": "markdown",
   "metadata": {},
   "source": [
    "#### Модель случайного леса после операции downsampling'a"
   ]
  },
  {
   "cell_type": "code",
   "execution_count": 159,
   "metadata": {},
   "outputs": [
    {
     "name": "stdout",
     "output_type": "stream",
     "text": [
      "F1: 0.48239202657807306\n",
      "AUC ROC: 0.7905382926342405\n"
     ]
    },
    {
     "name": "stderr",
     "output_type": "stream",
     "text": [
      "/opt/conda/lib/python3.7/site-packages/sklearn/ensemble/forest.py:245: FutureWarning: The default value of n_estimators will change from 10 in version 0.20 to 100 in 0.22.\n",
      "  \"10 in version 0.20 to 100 in 0.22.\", FutureWarning)\n"
     ]
    }
   ],
   "source": [
    "RF_model_downsampling = RandomForestClassifier(random_state=12345)\n",
    "RF_model_downsampling.fit(features_downsampled_oe, target_downsampled_oe)\n",
    "print('F1:', f1_score(target_ordinal_valid, RF_model_downsampling.predict(features_ordinal_valid)))\n",
    "print('AUC ROC:', roc_auc_score(target_ordinal_valid, (RF_model_downsampling.predict_proba(features_ordinal_valid)[:,1])))"
   ]
  },
  {
   "cell_type": "markdown",
   "metadata": {},
   "source": [
    "**Выводы:**\n",
    "- Модель логистической регрессии после операции downsampling'a дала более высокий результат F1 и AUC-ROC, но меньший чем при upsampling'e\n",
    "- Модель дерева решений после операции downsampling'a дала немного более высокий результат F1 и AUC-ROC, но меньший чем при upsampling'e\n",
    "- Модель случайного леса после операции downsampling'a дала более низкий результат результат F1 и AUC-ROC."
   ]
  },
  {
   "cell_type": "markdown",
   "metadata": {},
   "source": [
    "### Изменение порога классификации "
   ]
  },
  {
   "cell_type": "markdown",
   "metadata": {},
   "source": [
    "#### Модель логистической регрессии "
   ]
  },
  {
   "cell_type": "code",
   "execution_count": 160,
   "metadata": {},
   "outputs": [],
   "source": [
    "check_th_model_LR = LogisticRegression(random_state=12345, solver='liblinear')\n",
    "check_th_model_LR.fit(features_ohe_train, target_ohe_train)\n",
    "probabilities_valid_LR_model = check_th_model_LR.predict_proba(features_ohe_valid)"
   ]
  },
  {
   "cell_type": "code",
   "execution_count": 161,
   "metadata": {},
   "outputs": [],
   "source": [
    "probabilities_one_valid_LR_model = probabilities_valid_LR_model[:,1]"
   ]
  },
  {
   "cell_type": "code",
   "execution_count": 162,
   "metadata": {},
   "outputs": [
    {
     "data": {
      "text/plain": [
       "array([0.17970997, 0.13157472, 0.23117308, ..., 0.10115118, 0.24434202,\n",
       "       0.53786447])"
      ]
     },
     "execution_count": 162,
     "metadata": {},
     "output_type": "execute_result"
    }
   ],
   "source": [
    "probabilities_one_valid_LR_model "
   ]
  },
  {
   "cell_type": "code",
   "execution_count": 163,
   "metadata": {},
   "outputs": [
    {
     "name": "stdout",
     "output_type": "stream",
     "text": [
      "Порог: 0.0, F1 = 0.3457402812241522, AUC-ROC = 0.7585259407569608\n",
      "Порог: 0.05, F1 = 0.3784530386740331, AUC-ROC = 0.7585259407569608\n",
      "Порог: 0.1, F1 = 0.42087542087542085, AUC-ROC = 0.7585259407569608\n",
      "Порог: 0.15000000000000002, F1 = 0.46271777003484316, AUC-ROC = 0.7585259407569608\n",
      "Порог: 0.2, F1 = 0.4813559322033898, AUC-ROC = 0.7585259407569608\n",
      "Порог: 0.25, F1 = 0.4980314960629922, AUC-ROC = 0.7585259407569608\n",
      "Порог: 0.30000000000000004, F1 = 0.48322147651006714, AUC-ROC = 0.7585259407569608\n",
      "Порог: 0.35000000000000003, F1 = 0.45489199491740784, AUC-ROC = 0.7585259407569608\n",
      "Порог: 0.4, F1 = 0.3988439306358382, AUC-ROC = 0.7585259407569608\n",
      "Порог: 0.45, F1 = 0.36306729264475746, AUC-ROC = 0.7585259407569608\n"
     ]
    },
    {
     "data": {
      "image/png": "[encoded data removed]",
      "text/plain": [
       "<Figure size 432x432 with 1 Axes>"
      ]
     },
     "metadata": {
      "needs_background": "light"
     },
     "output_type": "display_data"
    }
   ],
   "source": [
    "threshold_list_LR = []\n",
    "f1_list_LR = []\n",
    "for threshold in np.arange(0, 0.5, 0.05):\n",
    "    predicted_valid = probabilities_one_valid_LR_model > threshold\n",
    "    f1 = f1_score(target_ohe_valid, predicted_valid)\n",
    "    print('Порог: {}, F1 = {}, AUC-ROC = {}'.format(threshold, f1_score(target_ohe_valid, predicted_valid), roc_auc_score(target_ohe_valid, probabilities_one_valid_LR_model)))\n",
    "    threshold_list_LR.append(threshold)\n",
    "    f1_list_LR = np.append(f1_list_LR, f1)\n",
    "plt.figure(figsize=(6, 6))\n",
    "plt.plot(threshold_list_LR, f1_list_LR)\n",
    "plt.xlabel('Threshold Level')\n",
    "plt.ylabel('F1-score')\n",
    "plt.title('График зависимости F1-score от Threshold Level')\n",
    "plt.show()"
   ]
  },
  {
   "cell_type": "markdown",
   "metadata": {},
   "source": [
    "#### Модель дерева решений"
   ]
  },
  {
   "cell_type": "code",
   "execution_count": 164,
   "metadata": {},
   "outputs": [],
   "source": [
    "check_th_model_DT = DecisionTreeClassifier(random_state=12345)\n",
    "check_th_model_DT.fit(features_ordinal_train, target_ordinal_train)\n",
    "probabilities_valid_DT_model = check_th_model_DT.predict_proba(features_ordinal_valid)"
   ]
  },
  {
   "cell_type": "code",
   "execution_count": 165,
   "metadata": {},
   "outputs": [],
   "source": [
    "probabilities_one_valid_DT_model = probabilities_valid_DT_model[:,1]"
   ]
  },
  {
   "cell_type": "code",
   "execution_count": 166,
   "metadata": {},
   "outputs": [
    {
     "data": {
      "text/plain": [
       "array([0., 0., 0., ..., 0., 0., 0.])"
      ]
     },
     "execution_count": 166,
     "metadata": {},
     "output_type": "execute_result"
    }
   ],
   "source": [
    "probabilities_one_valid_DT_model"
   ]
  },
  {
   "cell_type": "code",
   "execution_count": 167,
   "metadata": {},
   "outputs": [
    {
     "name": "stdout",
     "output_type": "stream",
     "text": [
      "Порог: 0.0, F1 = 0.4606060606060606, AUC-ROC = 0.6586886564762671\n",
      "Порог: 0.05, F1 = 0.4606060606060606, AUC-ROC = 0.6586886564762671\n",
      "Порог: 0.1, F1 = 0.4606060606060606, AUC-ROC = 0.6586886564762671\n",
      "Порог: 0.15000000000000002, F1 = 0.4606060606060606, AUC-ROC = 0.6586886564762671\n",
      "Порог: 0.2, F1 = 0.4606060606060606, AUC-ROC = 0.6586886564762671\n",
      "Порог: 0.25, F1 = 0.4606060606060606, AUC-ROC = 0.6586886564762671\n",
      "Порог: 0.30000000000000004, F1 = 0.4606060606060606, AUC-ROC = 0.6586886564762671\n",
      "Порог: 0.35000000000000003, F1 = 0.4606060606060606, AUC-ROC = 0.6586886564762671\n",
      "Порог: 0.4, F1 = 0.4606060606060606, AUC-ROC = 0.6586886564762671\n",
      "Порог: 0.45, F1 = 0.4606060606060606, AUC-ROC = 0.6586886564762671\n"
     ]
    },
    {
     "data": {
      "image/png": "[encoded data removed]",
      "text/plain": [
       "<Figure size 432x432 with 1 Axes>"
      ]
     },
     "metadata": {
      "needs_background": "light"
     },
     "output_type": "display_data"
    }
   ],
   "source": [
    "threshold_list_DT = []\n",
    "f1_list_DT = []\n",
    "for threshold in np.arange(0, 0.5, 0.05):\n",
    "    predicted_valid = probabilities_one_valid_DT_model > threshold\n",
    "    f1 = f1_score(target_ordinal_valid, predicted_valid)\n",
    "    print('Порог: {}, F1 = {}, AUC-ROC = {}'.format(threshold, f1_score(target_ordinal_valid, predicted_valid), roc_auc_score(target_ordinal_valid, probabilities_one_valid_DT_model)))\n",
    "    threshold_list_DT.append(threshold)\n",
    "    f1_list_DT = np.append(f1_list_DT, f1)\n",
    "plt.figure(figsize=(6, 6))\n",
    "plt.plot(threshold_list_DT, f1_list_DT)\n",
    "plt.xlabel('Threshold Level')\n",
    "plt.ylabel('F1-score')\n",
    "plt.title('График зависимости F1-score от Threshold Level')\n",
    "plt.show()"
   ]
  },
  {
   "cell_type": "markdown",
   "metadata": {},
   "source": [
    "#### Модель случайного леса"
   ]
  },
  {
   "cell_type": "code",
   "execution_count": 168,
   "metadata": {},
   "outputs": [
    {
     "name": "stderr",
     "output_type": "stream",
     "text": [
      "/opt/conda/lib/python3.7/site-packages/sklearn/ensemble/forest.py:245: FutureWarning: The default value of n_estimators will change from 10 in version 0.20 to 100 in 0.22.\n",
      "  \"10 in version 0.20 to 100 in 0.22.\", FutureWarning)\n"
     ]
    }
   ],
   "source": [
    "check_th_model_RF = RandomForestClassifier(random_state=12345)\n",
    "check_th_model_RF.fit(features_ordinal_train, target_ordinal_train)\n",
    "probabilities_valid_RF_model = check_th_model_RF.predict_proba(features_ordinal_valid)"
   ]
  },
  {
   "cell_type": "code",
   "execution_count": 169,
   "metadata": {},
   "outputs": [],
   "source": [
    "probabilities_one_valid_RF_model = probabilities_valid_RF_model[:,1]"
   ]
  },
  {
   "cell_type": "code",
   "execution_count": 170,
   "metadata": {
    "scrolled": false
   },
   "outputs": [
    {
     "name": "stdout",
     "output_type": "stream",
     "text": [
      "Порог: 0.0, F1 = 0.43753598157743234, AUC-ROC = 0.8137721616995022\n",
      "Порог: 0.05, F1 = 0.43753598157743234, AUC-ROC = 0.8137721616995022\n",
      "Порог: 0.1, F1 = 0.5132475397426193, AUC-ROC = 0.8137721616995022\n",
      "Порог: 0.15000000000000002, F1 = 0.5132475397426193, AUC-ROC = 0.8137721616995022\n",
      "Порог: 0.2, F1 = 0.5589941972920697, AUC-ROC = 0.8137721616995022\n",
      "Порог: 0.25, F1 = 0.5589941972920697, AUC-ROC = 0.8137721616995022\n",
      "Порог: 0.30000000000000004, F1 = 0.5748218527315915, AUC-ROC = 0.8137721616995022\n",
      "Порог: 0.35000000000000003, F1 = 0.5748218527315915, AUC-ROC = 0.8137721616995022\n",
      "Порог: 0.4, F1 = 0.5710382513661202, AUC-ROC = 0.8137721616995022\n",
      "Порог: 0.45, F1 = 0.5710382513661202, AUC-ROC = 0.8137721616995022\n",
      "Порог: 0.5, F1 = 0.5515151515151515, AUC-ROC = 0.8137721616995022\n",
      "Порог: 0.55, F1 = 0.5515151515151515, AUC-ROC = 0.8137721616995022\n",
      "Порог: 0.6000000000000001, F1 = 0.47554806070826305, AUC-ROC = 0.8137721616995022\n",
      "Порог: 0.65, F1 = 0.47554806070826305, AUC-ROC = 0.8137721616995022\n",
      "Порог: 0.7000000000000001, F1 = 0.4088397790055249, AUC-ROC = 0.8137721616995022\n",
      "Порог: 0.75, F1 = 0.4088397790055249, AUC-ROC = 0.8137721616995022\n",
      "Порог: 0.8, F1 = 0.2868686868686869, AUC-ROC = 0.8137721616995022\n",
      "Порог: 0.8500000000000001, F1 = 0.2868686868686869, AUC-ROC = 0.8137721616995022\n",
      "Порог: 0.9, F1 = 0.13747228381374724, AUC-ROC = 0.8137721616995022\n",
      "Порог: 0.9500000000000001, F1 = 0.13747228381374724, AUC-ROC = 0.8137721616995022\n"
     ]
    },
    {
     "data": {
      "image/png": "[encoded data removed]",
      "text/plain": [
       "<Figure size 432x432 with 1 Axes>"
      ]
     },
     "metadata": {
      "needs_background": "light"
     },
     "output_type": "display_data"
    }
   ],
   "source": [
    "threshold_list_RF = []\n",
    "f1_list_RF = []\n",
    "for threshold in np.arange(0, 1, 0.05):\n",
    "    predicted_valid = probabilities_one_valid_RF_model > threshold\n",
    "    f1 = f1_score(target_ordinal_valid, predicted_valid)\n",
    "    print('Порог: {}, F1 = {}, AUC-ROC = {}'.format(threshold, f1_score(target_ordinal_valid, predicted_valid), roc_auc_score(target_ordinal_valid, probabilities_one_valid_RF_model)))\n",
    "    threshold_list_RF.append(threshold)\n",
    "    f1_list_RF = np.append(f1_list_RF, f1)\n",
    "plt.figure(figsize=(6, 6))\n",
    "plt.plot(threshold_list_LR, f1_list_LR)\n",
    "plt.xlabel('Threshold Level')\n",
    "plt.ylabel('F1-score')\n",
    "plt.title('График зависимости F1-score от Threshold Level')\n",
    "plt.show()"
   ]
  },
  {
   "cell_type": "markdown",
   "metadata": {},
   "source": [
    "**Выводы**\n",
    "- Модель решающего дерева не показала разницы в результате при изменении порога (это связано со стандартной максимальной глубиной, влиюящей на бинарность системы предсказаний, поэтому не стоит убирать убирать этот метод сразу, посмотрим что покажет тестирование модели при смене максимальной глубины)\n",
    "- Модель логистической регрессии показала более высокий результат при пороге, равном 0.25\n",
    "- Модель случайного леса показала более высокий результат при пороге, равном 0.3"
   ]
  },
  {
   "cell_type": "markdown",
   "metadata": {},
   "source": [
    "### Подбор гиперпараметров"
   ]
  },
  {
   "cell_type": "markdown",
   "metadata": {},
   "source": [
    "#### Модель линейной регрессии"
   ]
  },
  {
   "cell_type": "code",
   "execution_count": 171,
   "metadata": {
    "scrolled": true
   },
   "outputs": [
    {
     "name": "stdout",
     "output_type": "stream",
     "text": [
      "Порог: 0.0, F1 = 0.3457402812241522, AUC ROC = 0.7636765888978279\n",
      "Порог: 0.05, F1 = 0.34631317315658655, AUC ROC = 0.7636765888978279\n",
      "Порог: 0.1, F1 = 0.35438745231030094, AUC ROC = 0.7636765888978279\n",
      "Порог: 0.15000000000000002, F1 = 0.3713004484304933, AUC ROC = 0.7636765888978279\n",
      "Порог: 0.2, F1 = 0.387374461979914, AUC ROC = 0.7636765888978279\n",
      "Порог: 0.25, F1 = 0.4043321299638989, AUC ROC = 0.7636765888978279\n",
      "Порог: 0.30000000000000004, F1 = 0.42376681614349776, AUC ROC = 0.7636765888978279\n",
      "Порог: 0.35000000000000003, F1 = 0.4474492931776275, AUC ROC = 0.7636765888978279\n",
      "Порог: 0.4, F1 = 0.4714776632302405, AUC ROC = 0.7636765888978279\n",
      "Порог: 0.45, F1 = 0.48387096774193555, AUC ROC = 0.7636765888978279\n",
      "Порог: 0.5, F1 = 0.4893071000855432, AUC ROC = 0.7636765888978279\n",
      "Порог: 0.55, F1 = 0.5004775549188156, AUC ROC = 0.7636765888978279\n",
      "Порог: 0.6000000000000001, F1 = 0.4900938477580814, AUC ROC = 0.7636765888978279\n",
      "Порог: 0.65, F1 = 0.48, AUC ROC = 0.7636765888978279\n",
      "Порог: 0.7000000000000001, F1 = 0.42990654205607476, AUC ROC = 0.7636765888978279\n",
      "Порог: 0.75, F1 = 0.37237237237237236, AUC ROC = 0.7636765888978279\n",
      "Порог: 0.8, F1 = 0.33670033670033667, AUC ROC = 0.7636765888978279\n",
      "Порог: 0.8500000000000001, F1 = 0.23001949317738787, AUC ROC = 0.7636765888978279\n",
      "Порог: 0.9, F1 = 0.09606986899563319, AUC ROC = 0.7636765888978279\n",
      "Порог: 0.9500000000000001, F1 = 0.014051522248243561, AUC ROC = 0.7636765888978279\n"
     ]
    }
   ],
   "source": [
    "best_model_LR = LogisticRegression(random_state=12345, solver='liblinear', class_weight='balanced')\n",
    "best_model_LR.fit(features_upsampled_ohe, target_upsampled_ohe)\n",
    "\n",
    "best_model_LR_predictions_proba = best_model_LR.predict_proba(features_ohe_valid)\n",
    "probabilities_one_best_model_LR = best_model_LR_predictions_proba[:,1]\n",
    "for threshold in np.arange(0, 1, 0.05):\n",
    "    predicted = probabilities_one_best_model_LR > threshold\n",
    "    f1 = f1_score(target_ohe_valid, predicted)\n",
    "    auc_roc = roc_auc_score(target_ohe_valid, probabilities_one_best_model_LR)\n",
    "    print('Порог: {}, F1 = {}, AUC ROC = {}'.format(threshold, f1, auc_roc))"
   ]
  },
  {
   "cell_type": "markdown",
   "metadata": {},
   "source": [
    "- Модель показала лучший результат на валидационной выборке F1 и AUC ROC при использовании гиперпараметра class_weight = 'balanced'"
   ]
  },
  {
   "cell_type": "markdown",
   "metadata": {},
   "source": [
    "#### Модель решающего дерева"
   ]
  },
  {
   "cell_type": "code",
   "execution_count": 172,
   "metadata": {},
   "outputs": [
    {
     "name": "stdout",
     "output_type": "stream",
     "text": [
      "Depth = 1, F1 = 0.4994903160040775, AUC ROC = 0.6925565119556736\n",
      "Depth = 2, F1 = 0.541015625, AUC ROC = 0.7501814673449512\n",
      "Depth = 3, F1 = 0.541015625, AUC ROC = 0.7980472601455368\n",
      "Depth = 4, F1 = 0.5277777777777778, AUC ROC = 0.8190853743368881\n",
      "Depth = 5, F1 = 0.5894962486602359, AUC ROC = 0.8197447056902112\n",
      "Depth = 6, F1 = 0.5497287522603979, AUC ROC = 0.7993394588643774\n",
      "Depth = 7, F1 = 0.5409836065573771, AUC ROC = 0.7822966507177034\n",
      "Depth = 8, F1 = 0.533201189296333, AUC ROC = 0.7573569886098998\n",
      "Depth = 9, F1 = 0.5237154150197628, AUC ROC = 0.7554546059436603\n",
      "Depth = 10, F1 = 0.4980079681274901, AUC ROC = 0.7356912998505919\n",
      "Depth = 11, F1 = 0.49387755102040815, AUC ROC = 0.7193093352851154\n",
      "Depth = 12, F1 = 0.5031315240083508, AUC ROC = 0.7197924920910481\n",
      "Depth = 13, F1 = 0.49729729729729727, AUC ROC = 0.7041326163356904\n",
      "Depth = 14, F1 = 0.4927211646136618, AUC ROC = 0.692595829880413\n",
      "Depth = 15, F1 = 0.4832369942196532, AUC ROC = 0.6824109751450226\n"
     ]
    }
   ],
   "source": [
    "best_model_DT = None\n",
    "best_model_DT_f1_score = 0\n",
    "for depth in range(1, 16, 1):\n",
    "    best_model_DTis = DecisionTreeClassifier(random_state=12345, class_weight='balanced', max_depth = depth)\n",
    "    best_model_DTis.fit(features_upsampled_oe, target_upsampled_oe)\n",
    "    predictions = best_model_DTis.predict(features_ordinal_valid)\n",
    "    f1 = f1_score(target_ordinal_valid, predictions)\n",
    "    probabilites = best_model_DTis.predict_proba(features_ordinal_valid)\n",
    "    probabilites = probabilites[:,1]\n",
    "    if f1 > best_model_DT_f1_score:\n",
    "        best_model_DT = best_model_DTis\n",
    "        best_model_DT_f1_score = f1\n",
    "    f1 = f1_score(target_ordinal_valid, predictions)\n",
    "    auc_roc = roc_auc_score(target_ordinal_valid, probabilites)\n",
    "    print('Depth = {}, F1 = {}, AUC ROC = {}'.format(depth, f1, auc_roc))"
   ]
  },
  {
   "cell_type": "code",
   "execution_count": 173,
   "metadata": {},
   "outputs": [
    {
     "name": "stdout",
     "output_type": "stream",
     "text": [
      "Порог: 0.0, F1 = 0.34122042341220427, AUC ROC = 0.8197447056902112\n",
      "Порог: 0.05, F1 = 0.37934272300469485, AUC ROC = 0.8197447056902112\n",
      "Порог: 0.1, F1 = 0.37934272300469485, AUC ROC = 0.8197447056902112\n",
      "Порог: 0.15000000000000002, F1 = 0.3968015992003998, AUC ROC = 0.8197447056902112\n",
      "Порог: 0.2, F1 = 0.44354371742906773, AUC ROC = 0.8197447056902112\n",
      "Порог: 0.25, F1 = 0.48010610079575605, AUC ROC = 0.8197447056902112\n",
      "Порог: 0.30000000000000004, F1 = 0.48010610079575605, AUC ROC = 0.8197447056902112\n",
      "Порог: 0.35000000000000003, F1 = 0.48010610079575605, AUC ROC = 0.8197447056902112\n",
      "Порог: 0.4, F1 = 0.5021645021645023, AUC ROC = 0.8197447056902112\n",
      "Порог: 0.45, F1 = 0.5270270270270271, AUC ROC = 0.8197447056902112\n",
      "Порог: 0.5, F1 = 0.5894962486602359, AUC ROC = 0.8197447056902112\n",
      "Порог: 0.55, F1 = 0.5894962486602359, AUC ROC = 0.8197447056902112\n",
      "Порог: 0.6000000000000001, F1 = 0.6009174311926606, AUC ROC = 0.8197447056902112\n",
      "Порог: 0.65, F1 = 0.6009174311926606, AUC ROC = 0.8197447056902112\n",
      "Порог: 0.7000000000000001, F1 = 0.547085201793722, AUC ROC = 0.8197447056902112\n",
      "Порог: 0.75, F1 = 0.5449101796407185, AUC ROC = 0.8197447056902112\n",
      "Порог: 0.8, F1 = 0.5304212168486739, AUC ROC = 0.8197447056902112\n",
      "Порог: 0.8500000000000001, F1 = 0.47469458987783597, AUC ROC = 0.8197447056902112\n",
      "Порог: 0.9, F1 = 0.47469458987783597, AUC ROC = 0.8197447056902112\n",
      "Порог: 0.9500000000000001, F1 = 0.39106145251396646, AUC ROC = 0.8197447056902112\n"
     ]
    }
   ],
   "source": [
    "for threshold in np.arange(0, 1, 0.05):\n",
    "    probabilites = best_model_DT.predict_proba(features_ordinal_valid)\n",
    "    probabilites = probabilites[:,1]\n",
    "    predicted_valid = probabilites > threshold\n",
    "    f1 = f1_score(target_ordinal_valid, predicted_valid)\n",
    "    auc_roc = roc_auc_score(target_ordinal_valid, probabilites)\n",
    "    print('Порог: {}, F1 = {}, AUC ROC = {}'.format(threshold, f1, auc_roc))"
   ]
  },
  {
   "cell_type": "markdown",
   "metadata": {},
   "source": [
    "- Модель дерева решений показала лучший результат на валидационной выборке F1 при использовании гиперпараметра max_depth = 5 и class_weight='balanced'"
   ]
  },
  {
   "cell_type": "markdown",
   "metadata": {},
   "source": [
    "#### Модель случайного леса"
   ]
  },
  {
   "cell_type": "code",
   "execution_count": 174,
   "metadata": {},
   "outputs": [
    {
     "name": "stdout",
     "output_type": "stream",
     "text": [
      "Est = 60, Depth = 50, F1 = 0.5722070844686648, AUC ROC = 0.827553094320677\n",
      "Est = 70, Depth = 50, F1 = 0.578875171467764, AUC ROC = 0.8297738009545182\n",
      "Est = 80, Depth = 50, F1 = 0.5839017735334243, AUC ROC = 0.830488328625264\n",
      "Est = 90, Depth = 50, F1 = 0.5753052917232021, AUC ROC = 0.8320308010573497\n",
      "Est = 100, Depth = 50, F1 = 0.5772357723577236, AUC ROC = 0.8323967602030016\n",
      "Est = 110, Depth = 50, F1 = 0.5806451612903226, AUC ROC = 0.832245537415542\n",
      "Est = 120, Depth = 50, F1 = 0.5795148247978436, AUC ROC = 0.832996358555278\n"
     ]
    }
   ],
   "source": [
    "best_model_RF = None\n",
    "best_f1_score = 0\n",
    "for est in range(60, 121, 10):\n",
    "    for depth in range(40, 51, 2):\n",
    "        best_model_RFis = RandomForestClassifier(random_state=12345, n_estimators = est, max_depth = depth)\n",
    "        best_model_RFis.fit(features_upsampled_oe, target_upsampled_oe)\n",
    "        predictions = best_model_RFis.predict(features_ordinal_valid)\n",
    "        probabilities = best_model_RFis.predict_proba(features_ordinal_valid)\n",
    "        probabilities = probabilities[:,1]\n",
    "        f1 = f1_score(target_ordinal_valid, predictions)\n",
    "        if f1 > best_f1_score:\n",
    "            best_model_RF = best_model_RFis\n",
    "            best_f1_score = f1\n",
    "        f1 = f1_score(target_ordinal_valid, predictions)\n",
    "        auc_roc = roc_auc_score(target_ordinal_valid, probabilities)\n",
    "    print('Est = {}, Depth = {}, F1 = {}, AUC ROC = {}'.format(est, depth, f1, auc_roc))"
   ]
  },
  {
   "cell_type": "code",
   "execution_count": 175,
   "metadata": {},
   "outputs": [
    {
     "name": "stdout",
     "output_type": "stream",
     "text": [
      "Порог: 0.0, F1 = 0.36197121674662014, AUC ROC = 0.830488328625264\n",
      "Порог: 0.05, F1 = 0.41281512605042014, AUC ROC = 0.830488328625264\n",
      "Порог: 0.1, F1 = 0.4579496623695519, AUC ROC = 0.830488328625264\n",
      "Порог: 0.15000000000000002, F1 = 0.5105782792665726, AUC ROC = 0.830488328625264\n",
      "Порог: 0.2, F1 = 0.5412698412698412, AUC ROC = 0.830488328625264\n",
      "Порог: 0.25, F1 = 0.5521472392638037, AUC ROC = 0.830488328625264\n",
      "Порог: 0.30000000000000004, F1 = 0.5786901270772238, AUC ROC = 0.830488328625264\n",
      "Порог: 0.35000000000000003, F1 = 0.5874730021598272, AUC ROC = 0.830488328625264\n",
      "Порог: 0.4, F1 = 0.6004672897196262, AUC ROC = 0.830488328625264\n",
      "Порог: 0.45, F1 = 0.5927770859277708, AUC ROC = 0.830488328625264\n",
      "Порог: 0.5, F1 = 0.5839017735334243, AUC ROC = 0.830488328625264\n",
      "Порог: 0.55, F1 = 0.567251461988304, AUC ROC = 0.830488328625264\n",
      "Порог: 0.6000000000000001, F1 = 0.5401234567901234, AUC ROC = 0.830488328625264\n",
      "Порог: 0.65, F1 = 0.5185185185185185, AUC ROC = 0.830488328625264\n",
      "Порог: 0.7000000000000001, F1 = 0.4882154882154882, AUC ROC = 0.830488328625264\n",
      "Порог: 0.75, F1 = 0.44169611307420503, AUC ROC = 0.830488328625264\n",
      "Порог: 0.8, F1 = 0.3804143126177024, AUC ROC = 0.830488328625264\n",
      "Порог: 0.8500000000000001, F1 = 0.29999999999999993, AUC ROC = 0.830488328625264\n",
      "Порог: 0.9, F1 = 0.19271948608137046, AUC ROC = 0.830488328625264\n",
      "Порог: 0.9500000000000001, F1 = 0.060324825986078884, AUC ROC = 0.830488328625264\n"
     ]
    }
   ],
   "source": [
    "for threshold in np.arange(0, 1, 0.05):\n",
    "    probabilites = best_model_RF.predict_proba(features_ordinal_valid)\n",
    "    probabilites = probabilites[:,1]\n",
    "    predicted = probabilites > threshold\n",
    "    f1 = f1_score(target_ordinal_valid, predicted)\n",
    "    auc_roc = roc_auc_score(target_ordinal_valid, probabilites)\n",
    "    print('Порог: {}, F1 = {}, AUC ROC = {}'.format(threshold, f1, auc_roc))"
   ]
  },
  {
   "cell_type": "markdown",
   "metadata": {},
   "source": [
    "- Модель случайного леса показала лучший результат F1 и AUC-ROC на валидационной выборке при использовании гиперпараметра max_depth = 50 и n_estimators = 120 и пороге 0.4"
   ]
  },
  {
   "cell_type": "markdown",
   "metadata": {},
   "source": [
    "### Общий вывод по исследованию баланса классов"
   ]
  },
  {
   "cell_type": "markdown",
   "metadata": {},
   "source": [
    "**Выводы:**\n",
    "- Модель логистической регресси сильно увеличила показатель F1 после появления аргумента class_weigh='balanced'\n",
    "- Модель дерева решений немного увеличила показатель F1 после появления аргумента class_weigh='balanced'\n",
    "- Модель случайнго леса уменьшила показатель F1 после появления аргумента class_weigh='balanced'\n",
    "\n",
    "- Модель логистической регрессии после операции upsampling'a дала более высокий результат F1\n",
    "- Модель дерева решений после операции upsampling'a дала немного более высокий результат F1\n",
    "- Модель случайного леса после операции upsampling'a дала немного более высокий результат F1\n",
    "\n",
    "- Модель логистической регрессии после операции downsampling'a дала более высокий результат F1, но меньший чем при upsampling'e\n",
    "- Модель дерева решений после операции downsampling'a дала немного более высокий результат F1, но меньший чем при upsampling'e\n",
    "- Модель случайного леса после операции downsampling'a дала более низкий результат результат F1.\n",
    "\n",
    "- Модель показала лучший результат на валидационной выборке F1 и AUC ROC при использовании гиперпараметра class_weight = 'balanced'\n",
    "- Модель дерева решений показала лучший результат на валидационной выборке F1 при использовании гиперпараметра max_depth = 5 и class_weight='balanced'\n",
    "- Модель случайного леса показала лучший результат F1 и AUC-ROC на валидационной выборке при использовании гиперпараметра max_depth = 50 и n_estimators = 100"
   ]
  },
  {
   "cell_type": "markdown",
   "metadata": {},
   "source": [
    "## Проверка модели на тестовой выборке"
   ]
  },
  {
   "cell_type": "markdown",
   "metadata": {},
   "source": [
    "### Проверка модели линейной регрессии на тестовой выборке"
   ]
  },
  {
   "cell_type": "code",
   "execution_count": 181,
   "metadata": {},
   "outputs": [
    {
     "data": {
      "text/plain": [
       "LogisticRegression(C=1.0, class_weight='balanced', dual=False,\n",
       "                   fit_intercept=True, intercept_scaling=1, l1_ratio=None,\n",
       "                   max_iter=100, multi_class='warn', n_jobs=None, penalty='l2',\n",
       "                   random_state=12345, solver='liblinear', tol=0.0001,\n",
       "                   verbose=0, warm_start=False)"
      ]
     },
     "execution_count": 181,
     "metadata": {},
     "output_type": "execute_result"
    }
   ],
   "source": [
    "best_model_LR.fit(features_upsampled_ohe, target_upsampled_ohe)"
   ]
  },
  {
   "cell_type": "code",
   "execution_count": 182,
   "metadata": {},
   "outputs": [
    {
     "name": "stdout",
     "output_type": "stream",
     "text": [
      "Порог: 0.55, F1 = 0.47738209817131855, AUC ROC = 0.741703656732192\n"
     ]
    }
   ],
   "source": [
    "best_model_LR_predictions_proba_final = best_model_LR.predict_proba(features_ohe_test)\n",
    "probabilities_one_best_model_LR_final = best_model_LR_predictions_proba_final[:,1]\n",
    "threshold = 0.55\n",
    "predicted_LR_final = probabilities_one_best_model_LR_final > threshold\n",
    "f1 = f1_score(target_ohe_test, predicted_LR_final)\n",
    "auc_roc = roc_auc_score(target_ohe_test, probabilities_one_best_model_LR_final)\n",
    "print('Порог: {}, F1 = {}, AUC ROC = {}'.format(threshold, f1, auc_roc))"
   ]
  },
  {
   "cell_type": "markdown",
   "metadata": {},
   "source": [
    "###  Проверка модели дерева решений на тестовой выборке"
   ]
  },
  {
   "cell_type": "code",
   "execution_count": 183,
   "metadata": {
    "scrolled": true
   },
   "outputs": [
    {
     "data": {
      "text/plain": [
       "DecisionTreeClassifier(class_weight='balanced', criterion='gini', max_depth=5,\n",
       "                       max_features=None, max_leaf_nodes=None,\n",
       "                       min_impurity_decrease=0.0, min_impurity_split=None,\n",
       "                       min_samples_leaf=1, min_samples_split=2,\n",
       "                       min_weight_fraction_leaf=0.0, presort=False,\n",
       "                       random_state=12345, splitter='best')"
      ]
     },
     "execution_count": 183,
     "metadata": {},
     "output_type": "execute_result"
    }
   ],
   "source": [
    "best_model_DT.fit(features_upsampled_oe, target_upsampled_oe)"
   ]
  },
  {
   "cell_type": "code",
   "execution_count": 184,
   "metadata": {},
   "outputs": [
    {
     "name": "stdout",
     "output_type": "stream",
     "text": [
      "Порог: 0.6, F1 = 0.5993265993265993, AUC ROC = 0.8322779734091273\n"
     ]
    }
   ],
   "source": [
    "best_model_DT_probabilities = best_model_DT.predict_proba(features_ordinal_test)[:,1]\n",
    "threshold = 0.6\n",
    "predict_proba_DT_final = best_model_DT_probabilities > threshold\n",
    "f1 = f1_score(target_ordinal_test, predict_proba_DT_final)\n",
    "auc_roc = roc_auc_score(target_ordinal_test, best_model_DT_probabilities)\n",
    "print('Порог: {}, F1 = {}, AUC ROC = {}'.format(threshold, f1, auc_roc))"
   ]
  },
  {
   "cell_type": "code",
   "execution_count": 185,
   "metadata": {},
   "outputs": [],
   "source": [
    "importances_DT = best_model_DT.feature_importances_"
   ]
  },
  {
   "cell_type": "code",
   "execution_count": 186,
   "metadata": {},
   "outputs": [],
   "source": [
    "importances_for_best_model_DT = pd.DataFrame(columns = features_ordinal.columns, data=list([importances_DT]), index=['a'])"
   ]
  },
  {
   "cell_type": "code",
   "execution_count": 187,
   "metadata": {},
   "outputs": [],
   "source": [
    "importances_for_best_model_DT.sort_values(by='a', axis=1, ascending=False, inplace=True)"
   ]
  },
  {
   "cell_type": "code",
   "execution_count": 188,
   "metadata": {
    "scrolled": true
   },
   "outputs": [
    {
     "data": {
      "image/png": "[encoded data removed]",
      "text/plain": [
       "<Figure size 720x360 with 1 Axes>"
      ]
     },
     "metadata": {
      "needs_background": "light"
     },
     "output_type": "display_data"
    }
   ],
   "source": [
    "importances_for_best_model_DT.plot(kind='bar', figsize=(10,5))\n",
    "plt.title('График важности признаков для модели')\n",
    "plt.xlabel('Признаки')\n",
    "plt.ylabel('Важность признака')\n",
    "plt.show()"
   ]
  },
  {
   "cell_type": "markdown",
   "metadata": {},
   "source": [
    "### Проверка модели случайного леса на тестовой выборке"
   ]
  },
  {
   "cell_type": "code",
   "execution_count": 192,
   "metadata": {},
   "outputs": [],
   "source": [
    "features_ordinal_train_final, features_ordinal_test_final, target_ordinal_train_final, target_ordinal_test_final = train_test_split(features_ordinal, target_ordinal, test_size=0.25, random_state=12345)"
   ]
  },
  {
   "cell_type": "code",
   "execution_count": 206,
   "metadata": {},
   "outputs": [],
   "source": [
    "features_ordinal_train_final_up, target_ordinal_train_final_up = upsampling(features_ordinal_train_final, target_ordinal_train_final, 10)"
   ]
  },
  {
   "cell_type": "code",
   "execution_count": 211,
   "metadata": {},
   "outputs": [
    {
     "data": {
      "text/plain": [
       "RandomForestClassifier(bootstrap=True, class_weight=None, criterion='gini',\n",
       "                       max_depth=40, max_features='auto', max_leaf_nodes=None,\n",
       "                       min_impurity_decrease=0.0, min_impurity_split=None,\n",
       "                       min_samples_leaf=1, min_samples_split=2,\n",
       "                       min_weight_fraction_leaf=0.0, n_estimators=80,\n",
       "                       n_jobs=None, oob_score=False, random_state=12345,\n",
       "                       verbose=0, warm_start=False)"
      ]
     },
     "execution_count": 211,
     "metadata": {},
     "output_type": "execute_result"
    }
   ],
   "source": [
    "best_model_RF.fit(features_ordinal_train_final, target_ordinal_train_final)"
   ]
  },
  {
   "cell_type": "code",
   "execution_count": 212,
   "metadata": {},
   "outputs": [
    {
     "name": "stdout",
     "output_type": "stream",
     "text": [
      "Порог: 0.4, F1 = 0.6248693834900733, AUC ROC = 0.8493229649711065\n"
     ]
    }
   ],
   "source": [
    "best_model_RF_probabilities = best_model_RF.predict_proba(features_ordinal_test_final)[:,1]\n",
    "threshold = 0.4\n",
    "predict_proba_RF_final = best_model_RF_probabilities > threshold\n",
    "f1 = f1_score(target_ordinal_test_final, predict_proba_RF_final)\n",
    "auc_roc = roc_auc_score(target_ordinal_test_final, best_model_RF_probabilities)\n",
    "print('Порог: {}, F1 = {}, AUC ROC = {}'.format(threshold, f1, auc_roc))"
   ]
  },
  {
   "cell_type": "code",
   "execution_count": 197,
   "metadata": {},
   "outputs": [],
   "source": [
    "importances_RF = best_model_RF.feature_importances_"
   ]
  },
  {
   "cell_type": "code",
   "execution_count": 198,
   "metadata": {},
   "outputs": [],
   "source": [
    "importances_for_best_model_RF = pd.DataFrame(columns = features_ordinal.columns, data=list([importances_RF]), index=['a'])"
   ]
  },
  {
   "cell_type": "code",
   "execution_count": 199,
   "metadata": {},
   "outputs": [],
   "source": [
    "importances_for_best_model_RF.sort_values(by='a', axis=1, ascending=False, inplace=True)"
   ]
  },
  {
   "cell_type": "code",
   "execution_count": 200,
   "metadata": {
    "scrolled": true
   },
   "outputs": [
    {
     "data": {
      "image/png": "[encoded data removed]",
      "text/plain": [
       "<Figure size 720x360 with 1 Axes>"
      ]
     },
     "metadata": {
      "needs_background": "light"
     },
     "output_type": "display_data"
    }
   ],
   "source": [
    "importances_for_best_model_RF.plot(kind='bar', figsize=(10,5))\n",
    "plt.title('График важности признаков для модели')\n",
    "plt.show()"
   ]
  },
  {
   "cell_type": "markdown",
   "metadata": {},
   "source": [
    "### Общий вывод по тесту"
   ]
  },
  {
   "cell_type": "markdown",
   "metadata": {},
   "source": [
    "- При лучшем балансе классов модель логистической регрессии показала лучший результат F1 = 0.47251687560270006, AUC ROC = 0.7442176320061883 (был использован аргумент class_weight='balanced', upsampling выборки и использование порога в 0.55\n",
    "-  При лучшем балансе классов модель дерева решений показала результат на тестовой выборке F1 = 0.5993265993265993, AUC ROC = 0.8322779734091273 (был использован аргумент class_weight='balanced', метод upsampling'a выборки и использование порога в 0.6)\n",
    "- При лучшем балансе классов модель случайного леса показала результат на тестовой выборке F1 = 0.593984962406015, AUC ROC = 0.8437482666762608 (был использован метод upsampling'a выборки и использование порога в 0.4)\n",
    "- Модель дерева решений учитывает Age, Tenure и IsActiveMember как важнеший признаки\n",
    "- Модель случайного леса учитывает Age, CreditcScore, Balance и EstimatedSalary как важнейший признаки"
   ]
  },
  {
   "cell_type": "markdown",
   "metadata": {},
   "source": [
    "## Общие выводы по всему исследованию"
   ]
  },
  {
   "cell_type": "markdown",
   "metadata": {},
   "source": [
    "**Выводы по проверке баланса:**\n",
    "- На основе модели решающего дерева со случано взятыми гиперпараметрами удалось получить F1 метрику, равную 0.55\n",
    "- Данная модель склонна к показанию отрицательных ответов там где их нет.\n",
    "- В исходных данных больше отрицательных ответов в 0.4 раза (наблюдается дисбаланс классов)\n",
    "- Признаки не имеют сильной корреляции.\n",
    "\n",
    "**Выводы по исследованию баланса классов:**\n",
    "- Модель логистической регресси сильно увеличила показатель F1 после появления аргумента class_weigh='balanced'\n",
    "- Модель дерева решений немного увеличила показатель F1 после появления аргумента class_weigh='balanced'\n",
    "- Модель случайнго леса уменьшила показатель F1 после появления аргумента class_weigh='balanced'\n",
    "\n",
    "- Модель логистической регрессии после операции upsampling'a дала более высокий результат F1\n",
    "- Модель дерева решений после операции upsampling'a дала немного более высокий результат F1\n",
    "- Модель случайного леса после операции upsampling'a дала немного более высокий результат F1\n",
    "\n",
    "- Модель логистической регрессии после операции downsampling'a дала более высокий результат F1, но меньший чем при upsampling'e\n",
    "- Модель дерева решений после операции downsampling'a дала немного более высокий результат F1, но меньший чем при upsampling'e\n",
    "- Модель случайного леса после операции downsampling'a дала более низкий результат результат F1.\n",
    "\n",
    "- Модель показала лучший результат на валидационной выборке F1 и AUC ROC при использовании гиперпараметра class_weight = 'balanced'\n",
    "- Модель дерева решений показала лучший результат на валидационной выборке F1 при использовании гиперпараметра max_depth = 5 и class_weight='balanced'\n",
    "- Модель случайного леса показала лучший результат F1 и AUC-ROC на валидационной выборке при использовании гиперпараметра max_depth = 50 и n_estimators = 100\n",
    "\n",
    "**Выводы по тесту:**\n",
    "- При лучшем балансе классов модель логистической регрессии показала лучший результат F1 = 0.47251687560270006, AUC ROC = 0.7442176320061883 (был использован аргумент class_weight='balanced', upsampling выборки и использование порога в 0.55\n",
    "-  При лучшем балансе классов модель дерева решений показала результат на тестовой выборке F1 = 0.5993265993265993, AUC ROC = 0.8322779734091273 (был использован аргумент class_weight='balanced', метод upsampling'a выборки и использование порога в 0.6)\n",
    "- При лучшем балансе классов модель случайного леса показала результат на тестовой выборке F1 = 0.593984962406015, AUC ROC = 0.8437482666762608 (был использован метод upsampling'a выборки и использование порога в 0.4)\n",
    "- Модель дерева решений учитывает Age, Tenure и IsActiveMember как важнеший признаки\n",
    "- Модель случайного леса учитывает Age, CreditcScore, Balance и EstimatedSalary как важнейший признаки"
   ]
  },
  {
   "cell_type": "markdown",
   "metadata": {},
   "source": [
    "## Чек-лист готовности проекта"
   ]
  },
  {
   "cell_type": "markdown",
   "metadata": {},
   "source": [
    "- [x]  Jupyter Notebook открыт\n",
    "- [x]  Весь код выполняется без ошибок\n",
    "- [x]  Ячейки с кодом расположены в порядке исполнения\n",
    "- [x]  Выполнен шаг 1: данные подготовлены\n",
    "- [x]  Выполнен шаг 2: задача исследована\n",
    "    - [x]  Исследован баланс классов\n",
    "    - [x]  Изучены модели без учёта дисбаланса\n",
    "    - [x]  Написаны выводы по результатам исследования\n",
    "- [x]  Выполнен шаг 3: учтён дисбаланс\n",
    "    - [x]  Применено несколько способов борьбы с дисбалансом\n",
    "    - [x]  Написаны выводы по результатам исследования\n",
    "- [x]  Выполнен шаг 4: проведено тестирование\n",
    "- [x]  Удалось достичь *F1*-меры не менее 0.59\n",
    "- [x]  Исследована метрика *AUC-ROC*"
   ]
  }
 ],
 "metadata": {
  "ExecuteTimeLog": [
   {
    "duration": 224,
    "start_time": "2021-11-27T07:10:23.677Z"
   },
   {
    "duration": 578,
    "start_time": "2021-11-27T07:10:58.264Z"
   },
   {
    "duration": 2,
    "start_time": "2021-11-27T07:11:26.566Z"
   },
   {
    "duration": 30,
    "start_time": "2021-11-27T07:12:42.525Z"
   },
   {
    "duration": 19,
    "start_time": "2021-11-27T07:12:48.631Z"
   },
   {
    "duration": 13,
    "start_time": "2021-11-27T07:13:01.440Z"
   },
   {
    "duration": 40,
    "start_time": "2021-11-27T07:13:04.777Z"
   },
   {
    "duration": 11,
    "start_time": "2021-11-27T07:13:12.101Z"
   },
   {
    "duration": 9,
    "start_time": "2021-11-27T07:13:17.662Z"
   },
   {
    "duration": 5,
    "start_time": "2021-11-27T07:21:39.466Z"
   },
   {
    "duration": 21,
    "start_time": "2021-11-27T07:21:44.061Z"
   },
   {
    "duration": 5,
    "start_time": "2021-11-27T07:23:34.905Z"
   },
   {
    "duration": 4,
    "start_time": "2021-11-27T07:23:44.033Z"
   },
   {
    "duration": 21,
    "start_time": "2021-11-27T07:23:47.708Z"
   },
   {
    "duration": 199,
    "start_time": "2021-11-27T07:26:50.510Z"
   },
   {
    "duration": 2,
    "start_time": "2021-11-27T07:26:53.037Z"
   },
   {
    "duration": 2,
    "start_time": "2021-11-27T07:26:53.046Z"
   },
   {
    "duration": 31,
    "start_time": "2021-11-27T07:26:53.050Z"
   },
   {
    "duration": 11,
    "start_time": "2021-11-27T07:26:53.083Z"
   },
   {
    "duration": 41,
    "start_time": "2021-11-27T07:26:53.096Z"
   },
   {
    "duration": 12,
    "start_time": "2021-11-27T07:26:53.139Z"
   },
   {
    "duration": 7,
    "start_time": "2021-11-27T07:26:53.152Z"
   },
   {
    "duration": 3,
    "start_time": "2021-11-27T07:26:53.161Z"
   },
   {
    "duration": 4,
    "start_time": "2021-11-27T07:26:53.192Z"
   },
   {
    "duration": 6,
    "start_time": "2021-11-27T07:26:53.198Z"
   },
   {
    "duration": 2,
    "start_time": "2021-11-27T07:28:29.876Z"
   },
   {
    "duration": 3,
    "start_time": "2021-11-27T07:28:29.888Z"
   },
   {
    "duration": 30,
    "start_time": "2021-11-27T07:28:29.893Z"
   },
   {
    "duration": 12,
    "start_time": "2021-11-27T07:28:29.925Z"
   },
   {
    "duration": 38,
    "start_time": "2021-11-27T07:28:29.939Z"
   },
   {
    "duration": 21,
    "start_time": "2021-11-27T07:28:29.979Z"
   },
   {
    "duration": 11,
    "start_time": "2021-11-27T07:28:30.002Z"
   },
   {
    "duration": 5,
    "start_time": "2021-11-27T07:28:30.015Z"
   },
   {
    "duration": 7,
    "start_time": "2021-11-27T07:28:30.022Z"
   },
   {
    "duration": 177,
    "start_time": "2021-11-27T07:30:46.143Z"
   },
   {
    "duration": 3,
    "start_time": "2021-11-27T07:31:02.158Z"
   },
   {
    "duration": 9,
    "start_time": "2021-11-27T07:31:02.172Z"
   },
   {
    "duration": 35,
    "start_time": "2021-11-27T07:31:02.183Z"
   },
   {
    "duration": 13,
    "start_time": "2021-11-27T07:31:02.220Z"
   },
   {
    "duration": 50,
    "start_time": "2021-11-27T07:31:02.235Z"
   },
   {
    "duration": 10,
    "start_time": "2021-11-27T07:31:02.287Z"
   },
   {
    "duration": 23,
    "start_time": "2021-11-27T07:31:02.298Z"
   },
   {
    "duration": 4,
    "start_time": "2021-11-27T07:31:02.323Z"
   },
   {
    "duration": 10,
    "start_time": "2021-11-27T07:31:02.329Z"
   },
   {
    "duration": 180,
    "start_time": "2021-11-27T07:35:48.558Z"
   },
   {
    "duration": 204,
    "start_time": "2021-11-27T07:36:00.900Z"
   },
   {
    "duration": 164,
    "start_time": "2021-11-27T07:36:09.527Z"
   },
   {
    "duration": 19,
    "start_time": "2021-11-27T07:37:05.525Z"
   },
   {
    "duration": 7,
    "start_time": "2021-11-27T07:37:12.001Z"
   },
   {
    "duration": 7,
    "start_time": "2021-11-27T07:37:17.995Z"
   },
   {
    "duration": 11,
    "start_time": "2021-11-27T07:42:49.043Z"
   },
   {
    "duration": 2,
    "start_time": "2021-11-27T08:29:16.076Z"
   },
   {
    "duration": 447,
    "start_time": "2021-11-27T08:29:36.562Z"
   },
   {
    "duration": 14,
    "start_time": "2021-11-27T08:30:29.595Z"
   },
   {
    "duration": 6,
    "start_time": "2021-11-27T08:32:11.801Z"
   },
   {
    "duration": 4,
    "start_time": "2021-11-27T08:32:19.517Z"
   },
   {
    "duration": 5,
    "start_time": "2021-11-27T08:32:27.936Z"
   },
   {
    "duration": 3,
    "start_time": "2021-11-27T08:33:55.773Z"
   },
   {
    "duration": 8,
    "start_time": "2021-11-27T08:34:35.084Z"
   },
   {
    "duration": 4,
    "start_time": "2021-11-27T08:34:55.792Z"
   },
   {
    "duration": 4,
    "start_time": "2021-11-27T08:35:00.107Z"
   },
   {
    "duration": 4,
    "start_time": "2021-11-27T08:35:03.688Z"
   },
   {
    "duration": 220,
    "start_time": "2021-11-27T08:35:18.101Z"
   },
   {
    "duration": 4,
    "start_time": "2021-11-27T08:35:20.778Z"
   },
   {
    "duration": 4,
    "start_time": "2021-11-27T08:35:33.047Z"
   },
   {
    "duration": 2,
    "start_time": "2021-11-27T08:36:34.046Z"
   },
   {
    "duration": 163,
    "start_time": "2021-11-27T08:38:52.094Z"
   },
   {
    "duration": 181,
    "start_time": "2021-11-27T08:38:59.444Z"
   },
   {
    "duration": 172,
    "start_time": "2021-11-27T08:39:08.132Z"
   },
   {
    "duration": 193,
    "start_time": "2021-11-27T08:39:33.434Z"
   },
   {
    "duration": 191,
    "start_time": "2021-11-27T08:39:45.657Z"
   },
   {
    "duration": 186,
    "start_time": "2021-11-27T08:41:34.679Z"
   },
   {
    "duration": 98,
    "start_time": "2021-11-27T08:41:56.200Z"
   },
   {
    "duration": 27,
    "start_time": "2021-11-27T08:43:58.258Z"
   },
   {
    "duration": 3,
    "start_time": "2021-11-27T08:44:51.106Z"
   },
   {
    "duration": 292,
    "start_time": "2021-11-27T08:45:55.460Z"
   },
   {
    "duration": 269,
    "start_time": "2021-11-27T08:46:04.746Z"
   },
   {
    "duration": 84,
    "start_time": "2021-11-27T08:46:22.008Z"
   },
   {
    "duration": 2,
    "start_time": "2021-11-27T08:49:39.092Z"
   },
   {
    "duration": 16,
    "start_time": "2021-11-27T08:50:33.494Z"
   },
   {
    "duration": 55,
    "start_time": "2021-11-27T08:54:39.354Z"
   },
   {
    "duration": 24,
    "start_time": "2021-11-27T08:54:43.304Z"
   },
   {
    "duration": 4097,
    "start_time": "2021-11-27T08:55:34.687Z"
   },
   {
    "duration": 4,
    "start_time": "2021-11-27T08:55:52.069Z"
   },
   {
    "duration": 5,
    "start_time": "2021-11-27T08:58:28.724Z"
   },
   {
    "duration": 6,
    "start_time": "2021-11-27T08:58:52.978Z"
   },
   {
    "duration": 2,
    "start_time": "2021-11-27T09:14:49.387Z"
   },
   {
    "duration": 175,
    "start_time": "2021-11-27T09:16:44.684Z"
   },
   {
    "duration": 190,
    "start_time": "2021-11-27T09:17:05.861Z"
   },
   {
    "duration": 172,
    "start_time": "2021-11-27T09:17:13.944Z"
   },
   {
    "duration": 2,
    "start_time": "2021-11-27T09:17:16.491Z"
   },
   {
    "duration": 2,
    "start_time": "2021-11-27T09:17:16.505Z"
   },
   {
    "duration": 5,
    "start_time": "2021-11-27T09:17:16.509Z"
   },
   {
    "duration": 4,
    "start_time": "2021-11-27T09:17:16.516Z"
   },
   {
    "duration": 5,
    "start_time": "2021-11-27T09:17:16.522Z"
   },
   {
    "duration": 5,
    "start_time": "2021-11-27T09:17:16.528Z"
   },
   {
    "duration": 5,
    "start_time": "2021-11-27T09:17:16.534Z"
   },
   {
    "duration": 5,
    "start_time": "2021-11-27T09:17:16.540Z"
   },
   {
    "duration": 31,
    "start_time": "2021-11-27T09:17:16.546Z"
   },
   {
    "duration": 12,
    "start_time": "2021-11-27T09:17:16.593Z"
   },
   {
    "duration": 42,
    "start_time": "2021-11-27T09:17:16.607Z"
   },
   {
    "duration": 11,
    "start_time": "2021-11-27T09:17:16.650Z"
   },
   {
    "duration": 35,
    "start_time": "2021-11-27T09:17:16.663Z"
   },
   {
    "duration": 5,
    "start_time": "2021-11-27T09:17:16.700Z"
   },
   {
    "duration": 7,
    "start_time": "2021-11-27T09:17:16.707Z"
   },
   {
    "duration": 9,
    "start_time": "2021-11-27T09:17:16.716Z"
   },
   {
    "duration": 11,
    "start_time": "2021-11-27T09:17:16.727Z"
   },
   {
    "duration": 13,
    "start_time": "2021-11-27T09:17:16.740Z"
   },
   {
    "duration": 37,
    "start_time": "2021-11-27T09:17:16.755Z"
   },
   {
    "duration": 6,
    "start_time": "2021-11-27T09:17:16.793Z"
   },
   {
    "duration": 4,
    "start_time": "2021-11-27T09:17:16.801Z"
   },
   {
    "duration": 6,
    "start_time": "2021-11-27T09:17:16.806Z"
   },
   {
    "duration": 5,
    "start_time": "2021-11-27T09:17:16.814Z"
   },
   {
    "duration": 5,
    "start_time": "2021-11-27T09:17:16.821Z"
   },
   {
    "duration": 24,
    "start_time": "2021-11-27T09:17:16.828Z"
   },
   {
    "duration": 4,
    "start_time": "2021-11-27T09:17:16.855Z"
   },
   {
    "duration": 34,
    "start_time": "2021-11-27T09:17:16.861Z"
   },
   {
    "duration": 31,
    "start_time": "2021-11-27T09:17:16.897Z"
   },
   {
    "duration": 22,
    "start_time": "2021-11-27T09:18:11.298Z"
   },
   {
    "duration": 23,
    "start_time": "2021-11-27T09:18:27.577Z"
   },
   {
    "duration": 163,
    "start_time": "2021-11-27T09:19:18.721Z"
   },
   {
    "duration": 172,
    "start_time": "2021-11-27T09:19:23.794Z"
   },
   {
    "duration": 6,
    "start_time": "2021-11-27T09:19:31.576Z"
   },
   {
    "duration": 2,
    "start_time": "2021-11-27T09:24:25.172Z"
   },
   {
    "duration": 2,
    "start_time": "2021-11-27T09:24:32.086Z"
   },
   {
    "duration": 3,
    "start_time": "2021-11-27T09:24:43.796Z"
   },
   {
    "duration": 5,
    "start_time": "2021-11-27T09:25:46.257Z"
   },
   {
    "duration": 6,
    "start_time": "2021-11-27T09:26:42.489Z"
   },
   {
    "duration": 6,
    "start_time": "2021-11-27T09:27:15.319Z"
   },
   {
    "duration": 6,
    "start_time": "2021-11-27T09:27:22.190Z"
   },
   {
    "duration": 9,
    "start_time": "2021-11-27T09:28:22.456Z"
   },
   {
    "duration": 9,
    "start_time": "2021-11-27T09:29:46.435Z"
   },
   {
    "duration": 8,
    "start_time": "2021-11-27T09:30:01.705Z"
   },
   {
    "duration": 7,
    "start_time": "2021-11-27T09:31:57.693Z"
   },
   {
    "duration": 6,
    "start_time": "2021-11-27T09:32:18.119Z"
   },
   {
    "duration": 174,
    "start_time": "2021-11-27T09:37:21.346Z"
   },
   {
    "duration": 183,
    "start_time": "2021-11-27T09:37:44.622Z"
   },
   {
    "duration": 204,
    "start_time": "2021-11-27T09:38:05.767Z"
   },
   {
    "duration": 338,
    "start_time": "2021-11-27T09:38:26.110Z"
   },
   {
    "duration": 2,
    "start_time": "2021-11-27T09:38:51.016Z"
   },
   {
    "duration": 302,
    "start_time": "2021-11-27T09:38:56.775Z"
   },
   {
    "duration": 312,
    "start_time": "2021-11-27T09:40:15.489Z"
   },
   {
    "duration": 2,
    "start_time": "2021-11-27T09:40:39.866Z"
   },
   {
    "duration": 131,
    "start_time": "2021-11-27T09:40:45.395Z"
   },
   {
    "duration": 138,
    "start_time": "2021-11-27T09:40:52.370Z"
   },
   {
    "duration": 16,
    "start_time": "2021-11-27T10:07:38.165Z"
   },
   {
    "duration": 17,
    "start_time": "2021-11-27T10:07:57.337Z"
   },
   {
    "duration": 3,
    "start_time": "2021-11-27T11:27:00.811Z"
   },
   {
    "duration": 167,
    "start_time": "2021-11-27T11:28:11.757Z"
   },
   {
    "duration": 3,
    "start_time": "2021-11-27T11:28:16.383Z"
   },
   {
    "duration": 43,
    "start_time": "2021-11-27T11:29:12.578Z"
   },
   {
    "duration": 46,
    "start_time": "2021-11-27T11:30:04.771Z"
   },
   {
    "duration": 47,
    "start_time": "2021-11-27T11:30:49.964Z"
   },
   {
    "duration": 22,
    "start_time": "2021-11-27T11:33:11.795Z"
   },
   {
    "duration": 29,
    "start_time": "2021-11-27T11:33:45.288Z"
   },
   {
    "duration": 22,
    "start_time": "2021-11-27T11:33:48.851Z"
   },
   {
    "duration": 206,
    "start_time": "2021-11-27T11:40:31.939Z"
   },
   {
    "duration": 419,
    "start_time": "2021-11-27T11:41:04.573Z"
   },
   {
    "duration": 302,
    "start_time": "2021-11-27T11:41:20.524Z"
   },
   {
    "duration": 362,
    "start_time": "2021-11-27T11:41:37.306Z"
   },
   {
    "duration": 336,
    "start_time": "2021-11-27T11:42:23.514Z"
   },
   {
    "duration": 364,
    "start_time": "2021-11-27T11:42:35.747Z"
   },
   {
    "duration": 327,
    "start_time": "2021-11-27T11:42:49.675Z"
   },
   {
    "duration": 328,
    "start_time": "2021-11-27T11:45:12.252Z"
   },
   {
    "duration": 343,
    "start_time": "2021-11-27T11:45:20.673Z"
   },
   {
    "duration": 363,
    "start_time": "2021-11-27T11:45:27.741Z"
   },
   {
    "duration": 7,
    "start_time": "2021-11-27T11:47:59.134Z"
   },
   {
    "duration": 8,
    "start_time": "2021-11-27T11:48:14.592Z"
   },
   {
    "duration": 438,
    "start_time": "2021-11-27T11:49:14.590Z"
   },
   {
    "duration": 378,
    "start_time": "2021-11-27T11:49:33.358Z"
   },
   {
    "duration": 384,
    "start_time": "2021-11-27T11:50:04.363Z"
   },
   {
    "duration": 329,
    "start_time": "2021-11-27T11:50:33.448Z"
   },
   {
    "duration": 98,
    "start_time": "2021-11-27T11:50:45.713Z"
   },
   {
    "duration": 8,
    "start_time": "2021-11-27T11:51:45.450Z"
   },
   {
    "duration": 9,
    "start_time": "2021-11-27T11:51:47.538Z"
   },
   {
    "duration": 104,
    "start_time": "2021-11-27T11:54:54.604Z"
   },
   {
    "duration": 118,
    "start_time": "2021-11-27T11:55:23.370Z"
   },
   {
    "duration": 22,
    "start_time": "2021-11-27T11:55:53.219Z"
   },
   {
    "duration": 117,
    "start_time": "2021-11-27T11:56:07.520Z"
   },
   {
    "duration": 116,
    "start_time": "2021-11-27T11:56:24.220Z"
   },
   {
    "duration": 486,
    "start_time": "2021-11-28T07:26:27.248Z"
   },
   {
    "duration": 831,
    "start_time": "2021-11-28T07:30:52.175Z"
   },
   {
    "duration": 3,
    "start_time": "2021-11-28T07:32:19.418Z"
   },
   {
    "duration": 549,
    "start_time": "2021-11-28T07:33:12.662Z"
   },
   {
    "duration": 3,
    "start_time": "2021-11-28T07:33:13.214Z"
   },
   {
    "duration": 11,
    "start_time": "2021-11-28T07:33:13.219Z"
   },
   {
    "duration": 9,
    "start_time": "2021-11-28T07:33:13.232Z"
   },
   {
    "duration": 11,
    "start_time": "2021-11-28T07:33:13.243Z"
   },
   {
    "duration": 15,
    "start_time": "2021-11-28T07:33:13.260Z"
   },
   {
    "duration": 6,
    "start_time": "2021-11-28T07:33:13.277Z"
   },
   {
    "duration": 7,
    "start_time": "2021-11-28T07:33:13.287Z"
   },
   {
    "duration": 7,
    "start_time": "2021-11-28T07:33:13.297Z"
   },
   {
    "duration": 19,
    "start_time": "2021-11-28T07:33:13.306Z"
   },
   {
    "duration": 7,
    "start_time": "2021-11-28T07:33:13.327Z"
   },
   {
    "duration": 131,
    "start_time": "2021-11-28T07:33:13.336Z"
   },
   {
    "duration": 3,
    "start_time": "2021-11-28T07:33:13.469Z"
   },
   {
    "duration": 43,
    "start_time": "2021-11-28T07:33:13.474Z"
   },
   {
    "duration": 22,
    "start_time": "2021-11-28T07:33:13.519Z"
   },
   {
    "duration": 68,
    "start_time": "2021-11-28T07:33:13.544Z"
   },
   {
    "duration": 17,
    "start_time": "2021-11-28T07:33:13.614Z"
   },
   {
    "duration": 37,
    "start_time": "2021-11-28T07:33:13.633Z"
   },
   {
    "duration": 7,
    "start_time": "2021-11-28T07:33:13.672Z"
   },
   {
    "duration": 27,
    "start_time": "2021-11-28T07:33:13.681Z"
   },
   {
    "duration": 467,
    "start_time": "2021-11-28T07:33:13.710Z"
   },
   {
    "duration": -171,
    "start_time": "2021-11-28T07:33:14.351Z"
   },
   {
    "duration": -176,
    "start_time": "2021-11-28T07:33:14.357Z"
   },
   {
    "duration": -182,
    "start_time": "2021-11-28T07:33:14.364Z"
   },
   {
    "duration": -188,
    "start_time": "2021-11-28T07:33:14.371Z"
   },
   {
    "duration": -193,
    "start_time": "2021-11-28T07:33:14.378Z"
   },
   {
    "duration": -198,
    "start_time": "2021-11-28T07:33:14.384Z"
   },
   {
    "duration": -203,
    "start_time": "2021-11-28T07:33:14.390Z"
   },
   {
    "duration": -209,
    "start_time": "2021-11-28T07:33:14.397Z"
   },
   {
    "duration": -213,
    "start_time": "2021-11-28T07:33:14.403Z"
   },
   {
    "duration": -220,
    "start_time": "2021-11-28T07:33:14.411Z"
   },
   {
    "duration": -225,
    "start_time": "2021-11-28T07:33:14.417Z"
   },
   {
    "duration": -229,
    "start_time": "2021-11-28T07:33:14.423Z"
   },
   {
    "duration": -235,
    "start_time": "2021-11-28T07:33:14.430Z"
   },
   {
    "duration": -240,
    "start_time": "2021-11-28T07:33:14.436Z"
   },
   {
    "duration": -264,
    "start_time": "2021-11-28T07:33:14.461Z"
   },
   {
    "duration": -270,
    "start_time": "2021-11-28T07:33:14.468Z"
   },
   {
    "duration": 9,
    "start_time": "2021-11-28T07:33:25.261Z"
   },
   {
    "duration": 18,
    "start_time": "2021-11-28T07:33:36.623Z"
   },
   {
    "duration": 11,
    "start_time": "2021-11-28T07:35:03.811Z"
   },
   {
    "duration": 13,
    "start_time": "2021-11-28T07:37:54.012Z"
   },
   {
    "duration": 18,
    "start_time": "2021-11-28T07:38:02.472Z"
   },
   {
    "duration": 17,
    "start_time": "2021-11-28T07:38:48.427Z"
   },
   {
    "duration": 3,
    "start_time": "2021-11-28T07:42:03.861Z"
   },
   {
    "duration": 144,
    "start_time": "2021-11-28T07:45:27.274Z"
   },
   {
    "duration": 371,
    "start_time": "2021-11-28T07:45:29.676Z"
   },
   {
    "duration": 388,
    "start_time": "2021-11-28T07:45:49.099Z"
   },
   {
    "duration": 416,
    "start_time": "2021-11-28T07:46:20.047Z"
   },
   {
    "duration": 387,
    "start_time": "2021-11-28T07:50:23.967Z"
   },
   {
    "duration": 388,
    "start_time": "2021-11-28T07:50:33.013Z"
   },
   {
    "duration": 423,
    "start_time": "2021-11-28T07:51:43.624Z"
   },
   {
    "duration": 4,
    "start_time": "2021-11-28T07:51:50.474Z"
   },
   {
    "duration": 3,
    "start_time": "2021-11-28T07:51:50.487Z"
   },
   {
    "duration": 9,
    "start_time": "2021-11-28T07:51:50.493Z"
   },
   {
    "duration": 7,
    "start_time": "2021-11-28T07:51:50.505Z"
   },
   {
    "duration": 6,
    "start_time": "2021-11-28T07:51:50.515Z"
   },
   {
    "duration": 13,
    "start_time": "2021-11-28T07:51:50.523Z"
   },
   {
    "duration": 8,
    "start_time": "2021-11-28T07:51:50.538Z"
   },
   {
    "duration": 4,
    "start_time": "2021-11-28T07:51:50.560Z"
   },
   {
    "duration": 9,
    "start_time": "2021-11-28T07:51:50.566Z"
   },
   {
    "duration": 8,
    "start_time": "2021-11-28T07:51:50.579Z"
   },
   {
    "duration": 7,
    "start_time": "2021-11-28T07:51:50.589Z"
   },
   {
    "duration": 6,
    "start_time": "2021-11-28T07:51:50.598Z"
   },
   {
    "duration": 6,
    "start_time": "2021-11-28T07:51:50.606Z"
   },
   {
    "duration": 6,
    "start_time": "2021-11-28T07:51:50.614Z"
   },
   {
    "duration": 71,
    "start_time": "2021-11-28T07:51:50.622Z"
   },
   {
    "duration": 18,
    "start_time": "2021-11-28T07:51:50.696Z"
   },
   {
    "duration": 78,
    "start_time": "2021-11-28T07:51:50.718Z"
   },
   {
    "duration": 17,
    "start_time": "2021-11-28T07:51:50.798Z"
   },
   {
    "duration": 42,
    "start_time": "2021-11-28T07:51:50.818Z"
   },
   {
    "duration": 7,
    "start_time": "2021-11-28T07:51:50.863Z"
   },
   {
    "duration": 11,
    "start_time": "2021-11-28T07:51:50.872Z"
   },
   {
    "duration": 374,
    "start_time": "2021-11-28T07:51:50.886Z"
   },
   {
    "duration": -427,
    "start_time": "2021-11-28T07:51:51.690Z"
   },
   {
    "duration": -443,
    "start_time": "2021-11-28T07:51:51.708Z"
   },
   {
    "duration": -468,
    "start_time": "2021-11-28T07:51:51.734Z"
   },
   {
    "duration": -474,
    "start_time": "2021-11-28T07:51:51.741Z"
   },
   {
    "duration": -503,
    "start_time": "2021-11-28T07:51:51.772Z"
   },
   {
    "duration": -524,
    "start_time": "2021-11-28T07:51:51.794Z"
   },
   {
    "duration": -543,
    "start_time": "2021-11-28T07:51:51.814Z"
   },
   {
    "duration": -549,
    "start_time": "2021-11-28T07:51:51.822Z"
   },
   {
    "duration": -554,
    "start_time": "2021-11-28T07:51:51.828Z"
   },
   {
    "duration": -558,
    "start_time": "2021-11-28T07:51:51.833Z"
   },
   {
    "duration": -563,
    "start_time": "2021-11-28T07:51:51.840Z"
   },
   {
    "duration": -568,
    "start_time": "2021-11-28T07:51:51.846Z"
   },
   {
    "duration": -573,
    "start_time": "2021-11-28T07:51:51.852Z"
   },
   {
    "duration": -578,
    "start_time": "2021-11-28T07:51:51.859Z"
   },
   {
    "duration": -583,
    "start_time": "2021-11-28T07:51:51.865Z"
   },
   {
    "duration": -588,
    "start_time": "2021-11-28T07:51:51.871Z"
   },
   {
    "duration": 493,
    "start_time": "2021-11-28T07:52:08.017Z"
   },
   {
    "duration": 763,
    "start_time": "2021-11-28T07:52:32.738Z"
   },
   {
    "duration": 1163,
    "start_time": "2021-11-28T07:54:01.878Z"
   },
   {
    "duration": 609,
    "start_time": "2021-11-28T07:54:53.685Z"
   },
   {
    "duration": 821,
    "start_time": "2021-11-28T07:55:30.573Z"
   },
   {
    "duration": 796,
    "start_time": "2021-11-28T07:55:53.013Z"
   },
   {
    "duration": 775,
    "start_time": "2021-11-28T07:56:32.591Z"
   },
   {
    "duration": 1780,
    "start_time": "2021-11-28T07:56:49.849Z"
   },
   {
    "duration": 908,
    "start_time": "2021-11-28T07:57:05.078Z"
   },
   {
    "duration": 817,
    "start_time": "2021-11-28T07:57:13.675Z"
   },
   {
    "duration": 769,
    "start_time": "2021-11-28T07:57:21.880Z"
   },
   {
    "duration": 792,
    "start_time": "2021-11-28T08:02:06.177Z"
   },
   {
    "duration": 9,
    "start_time": "2021-11-28T08:08:12.235Z"
   },
   {
    "duration": 11,
    "start_time": "2021-11-28T08:08:16.814Z"
   },
   {
    "duration": 493,
    "start_time": "2021-11-28T08:08:31.342Z"
   },
   {
    "duration": 3,
    "start_time": "2021-11-28T08:08:36.246Z"
   },
   {
    "duration": 3,
    "start_time": "2021-11-28T08:08:36.261Z"
   },
   {
    "duration": 5,
    "start_time": "2021-11-28T08:08:36.267Z"
   },
   {
    "duration": 10,
    "start_time": "2021-11-28T08:08:36.276Z"
   },
   {
    "duration": 5,
    "start_time": "2021-11-28T08:08:36.289Z"
   },
   {
    "duration": 6,
    "start_time": "2021-11-28T08:08:36.297Z"
   },
   {
    "duration": 5,
    "start_time": "2021-11-28T08:08:36.307Z"
   },
   {
    "duration": 5,
    "start_time": "2021-11-28T08:08:36.362Z"
   },
   {
    "duration": 12,
    "start_time": "2021-11-28T08:08:36.370Z"
   },
   {
    "duration": 9,
    "start_time": "2021-11-28T08:08:36.384Z"
   },
   {
    "duration": 8,
    "start_time": "2021-11-28T08:08:36.395Z"
   },
   {
    "duration": 6,
    "start_time": "2021-11-28T08:08:36.405Z"
   },
   {
    "duration": 5,
    "start_time": "2021-11-28T08:08:36.413Z"
   },
   {
    "duration": 37,
    "start_time": "2021-11-28T08:08:36.421Z"
   },
   {
    "duration": 37,
    "start_time": "2021-11-28T08:08:36.462Z"
   },
   {
    "duration": 18,
    "start_time": "2021-11-28T08:08:36.502Z"
   },
   {
    "duration": 78,
    "start_time": "2021-11-28T08:08:36.522Z"
   },
   {
    "duration": 17,
    "start_time": "2021-11-28T08:08:36.602Z"
   },
   {
    "duration": 14,
    "start_time": "2021-11-28T08:08:36.621Z"
   },
   {
    "duration": 6,
    "start_time": "2021-11-28T08:08:36.660Z"
   },
   {
    "duration": 10,
    "start_time": "2021-11-28T08:08:36.669Z"
   },
   {
    "duration": 12,
    "start_time": "2021-11-28T08:08:36.681Z"
   },
   {
    "duration": 20,
    "start_time": "2021-11-28T08:08:36.697Z"
   },
   {
    "duration": 43,
    "start_time": "2021-11-28T08:08:36.720Z"
   },
   {
    "duration": 386,
    "start_time": "2021-11-28T08:08:36.766Z"
   },
   {
    "duration": -547,
    "start_time": "2021-11-28T08:08:37.701Z"
   },
   {
    "duration": -551,
    "start_time": "2021-11-28T08:08:37.707Z"
   },
   {
    "duration": -554,
    "start_time": "2021-11-28T08:08:37.712Z"
   },
   {
    "duration": -558,
    "start_time": "2021-11-28T08:08:37.717Z"
   },
   {
    "duration": -594,
    "start_time": "2021-11-28T08:08:37.755Z"
   },
   {
    "duration": -600,
    "start_time": "2021-11-28T08:08:37.762Z"
   },
   {
    "duration": -608,
    "start_time": "2021-11-28T08:08:37.771Z"
   },
   {
    "duration": -613,
    "start_time": "2021-11-28T08:08:37.778Z"
   },
   {
    "duration": -619,
    "start_time": "2021-11-28T08:08:37.785Z"
   },
   {
    "duration": -624,
    "start_time": "2021-11-28T08:08:37.791Z"
   },
   {
    "duration": -628,
    "start_time": "2021-11-28T08:08:37.797Z"
   },
   {
    "duration": -635,
    "start_time": "2021-11-28T08:08:37.805Z"
   },
   {
    "duration": -642,
    "start_time": "2021-11-28T08:08:37.813Z"
   },
   {
    "duration": 422,
    "start_time": "2021-11-28T08:10:26.781Z"
   },
   {
    "duration": 412,
    "start_time": "2021-11-28T08:11:07.802Z"
   },
   {
    "duration": 402,
    "start_time": "2021-11-28T08:11:42.761Z"
   },
   {
    "duration": 3,
    "start_time": "2021-11-28T08:11:50.934Z"
   },
   {
    "duration": 3,
    "start_time": "2021-11-28T08:11:50.949Z"
   },
   {
    "duration": 8,
    "start_time": "2021-11-28T08:11:50.954Z"
   },
   {
    "duration": 7,
    "start_time": "2021-11-28T08:11:50.964Z"
   },
   {
    "duration": 7,
    "start_time": "2021-11-28T08:11:50.974Z"
   },
   {
    "duration": 5,
    "start_time": "2021-11-28T08:11:50.984Z"
   },
   {
    "duration": 11,
    "start_time": "2021-11-28T08:11:50.992Z"
   },
   {
    "duration": 9,
    "start_time": "2021-11-28T08:11:51.006Z"
   },
   {
    "duration": 11,
    "start_time": "2021-11-28T08:11:51.017Z"
   },
   {
    "duration": 5,
    "start_time": "2021-11-28T08:11:51.062Z"
   },
   {
    "duration": 8,
    "start_time": "2021-11-28T08:11:51.070Z"
   },
   {
    "duration": 16,
    "start_time": "2021-11-28T08:11:51.080Z"
   },
   {
    "duration": 7,
    "start_time": "2021-11-28T08:11:51.099Z"
   },
   {
    "duration": 11,
    "start_time": "2021-11-28T08:11:51.108Z"
   },
   {
    "duration": 57,
    "start_time": "2021-11-28T08:11:51.121Z"
   },
   {
    "duration": 19,
    "start_time": "2021-11-28T08:11:51.180Z"
   },
   {
    "duration": 80,
    "start_time": "2021-11-28T08:11:51.202Z"
   },
   {
    "duration": 16,
    "start_time": "2021-11-28T08:11:51.284Z"
   },
   {
    "duration": 14,
    "start_time": "2021-11-28T08:11:51.302Z"
   },
   {
    "duration": 5,
    "start_time": "2021-11-28T08:11:51.319Z"
   },
   {
    "duration": 36,
    "start_time": "2021-11-28T08:11:51.327Z"
   },
   {
    "duration": 13,
    "start_time": "2021-11-28T08:11:51.365Z"
   },
   {
    "duration": 417,
    "start_time": "2021-11-28T08:11:51.380Z"
   },
   {
    "duration": -367,
    "start_time": "2021-11-28T08:11:52.167Z"
   },
   {
    "duration": -372,
    "start_time": "2021-11-28T08:11:52.173Z"
   },
   {
    "duration": -377,
    "start_time": "2021-11-28T08:11:52.180Z"
   },
   {
    "duration": -383,
    "start_time": "2021-11-28T08:11:52.187Z"
   },
   {
    "duration": -388,
    "start_time": "2021-11-28T08:11:52.193Z"
   },
   {
    "duration": -393,
    "start_time": "2021-11-28T08:11:52.199Z"
   },
   {
    "duration": -398,
    "start_time": "2021-11-28T08:11:52.206Z"
   },
   {
    "duration": -403,
    "start_time": "2021-11-28T08:11:52.212Z"
   },
   {
    "duration": -408,
    "start_time": "2021-11-28T08:11:52.218Z"
   },
   {
    "duration": -412,
    "start_time": "2021-11-28T08:11:52.224Z"
   },
   {
    "duration": -417,
    "start_time": "2021-11-28T08:11:52.230Z"
   },
   {
    "duration": -423,
    "start_time": "2021-11-28T08:11:52.237Z"
   },
   {
    "duration": -427,
    "start_time": "2021-11-28T08:11:52.243Z"
   },
   {
    "duration": -432,
    "start_time": "2021-11-28T08:11:52.249Z"
   },
   {
    "duration": -472,
    "start_time": "2021-11-28T08:11:52.291Z"
   },
   {
    "duration": -478,
    "start_time": "2021-11-28T08:11:52.298Z"
   },
   {
    "duration": 3,
    "start_time": "2021-11-28T08:12:05.064Z"
   },
   {
    "duration": 3,
    "start_time": "2021-11-28T08:12:05.078Z"
   },
   {
    "duration": 9,
    "start_time": "2021-11-28T08:12:05.085Z"
   },
   {
    "duration": 6,
    "start_time": "2021-11-28T08:12:05.097Z"
   },
   {
    "duration": 7,
    "start_time": "2021-11-28T08:12:05.106Z"
   },
   {
    "duration": 6,
    "start_time": "2021-11-28T08:12:05.116Z"
   },
   {
    "duration": 38,
    "start_time": "2021-11-28T08:12:05.125Z"
   },
   {
    "duration": 8,
    "start_time": "2021-11-28T08:12:05.166Z"
   },
   {
    "duration": 9,
    "start_time": "2021-11-28T08:12:05.177Z"
   },
   {
    "duration": 12,
    "start_time": "2021-11-28T08:12:05.189Z"
   },
   {
    "duration": 10,
    "start_time": "2021-11-28T08:12:05.205Z"
   },
   {
    "duration": 42,
    "start_time": "2021-11-28T08:12:05.217Z"
   },
   {
    "duration": 12,
    "start_time": "2021-11-28T08:12:05.262Z"
   },
   {
    "duration": 8,
    "start_time": "2021-11-28T08:12:05.277Z"
   },
   {
    "duration": 38,
    "start_time": "2021-11-28T08:12:05.287Z"
   },
   {
    "duration": 19,
    "start_time": "2021-11-28T08:12:05.328Z"
   },
   {
    "duration": 69,
    "start_time": "2021-11-28T08:12:05.349Z"
   },
   {
    "duration": 17,
    "start_time": "2021-11-28T08:12:05.421Z"
   },
   {
    "duration": 11,
    "start_time": "2021-11-28T08:12:05.461Z"
   },
   {
    "duration": 8,
    "start_time": "2021-11-28T08:12:05.475Z"
   },
   {
    "duration": 8,
    "start_time": "2021-11-28T08:12:05.485Z"
   },
   {
    "duration": 824,
    "start_time": "2021-11-28T08:12:05.496Z"
   },
   {
    "duration": 19,
    "start_time": "2021-11-28T08:12:06.322Z"
   },
   {
    "duration": 24,
    "start_time": "2021-11-28T08:12:06.343Z"
   },
   {
    "duration": 418,
    "start_time": "2021-11-28T08:12:06.370Z"
   },
   {
    "duration": -22,
    "start_time": "2021-11-28T08:12:06.813Z"
   },
   {
    "duration": -50,
    "start_time": "2021-11-28T08:12:06.842Z"
   },
   {
    "duration": -86,
    "start_time": "2021-11-28T08:12:06.879Z"
   },
   {
    "duration": -90,
    "start_time": "2021-11-28T08:12:06.885Z"
   },
   {
    "duration": -97,
    "start_time": "2021-11-28T08:12:06.893Z"
   },
   {
    "duration": -101,
    "start_time": "2021-11-28T08:12:06.898Z"
   },
   {
    "duration": -109,
    "start_time": "2021-11-28T08:12:06.907Z"
   },
   {
    "duration": -135,
    "start_time": "2021-11-28T08:12:06.935Z"
   },
   {
    "duration": -157,
    "start_time": "2021-11-28T08:12:06.958Z"
   },
   {
    "duration": -161,
    "start_time": "2021-11-28T08:12:06.963Z"
   },
   {
    "duration": -174,
    "start_time": "2021-11-28T08:12:06.977Z"
   },
   {
    "duration": -206,
    "start_time": "2021-11-28T08:12:07.010Z"
   },
   {
    "duration": -224,
    "start_time": "2021-11-28T08:12:07.029Z"
   },
   {
    "duration": 1029,
    "start_time": "2021-11-28T08:12:23.646Z"
   },
   {
    "duration": 1265,
    "start_time": "2021-11-28T08:12:32.090Z"
   },
   {
    "duration": 1156,
    "start_time": "2021-11-28T08:12:40.687Z"
   },
   {
    "duration": 1167,
    "start_time": "2021-11-28T08:12:53.929Z"
   },
   {
    "duration": 798,
    "start_time": "2021-11-28T08:13:06.513Z"
   },
   {
    "duration": 816,
    "start_time": "2021-11-28T08:15:23.651Z"
   },
   {
    "duration": 30,
    "start_time": "2021-11-28T08:15:31.595Z"
   },
   {
    "duration": 11,
    "start_time": "2021-11-28T08:15:35.476Z"
   },
   {
    "duration": 9832,
    "start_time": "2021-11-28T08:18:31.397Z"
   },
   {
    "duration": 3,
    "start_time": "2021-11-28T08:18:41.229Z"
   },
   {
    "duration": 778,
    "start_time": "2021-11-28T08:18:55.270Z"
   },
   {
    "duration": 388,
    "start_time": "2021-11-28T08:18:56.224Z"
   },
   {
    "duration": 16,
    "start_time": "2021-11-28T08:19:07.594Z"
   },
   {
    "duration": 428,
    "start_time": "2021-11-28T08:19:32.030Z"
   },
   {
    "duration": 3,
    "start_time": "2021-11-28T08:20:01.806Z"
   },
   {
    "duration": 25,
    "start_time": "2021-11-28T08:20:01.821Z"
   },
   {
    "duration": 22,
    "start_time": "2021-11-28T08:20:01.849Z"
   },
   {
    "duration": 13,
    "start_time": "2021-11-28T08:20:01.874Z"
   },
   {
    "duration": 11,
    "start_time": "2021-11-28T08:20:01.890Z"
   },
   {
    "duration": 13,
    "start_time": "2021-11-28T08:20:01.903Z"
   },
   {
    "duration": 17,
    "start_time": "2021-11-28T08:20:01.918Z"
   },
   {
    "duration": 22,
    "start_time": "2021-11-28T08:20:01.937Z"
   },
   {
    "duration": 9,
    "start_time": "2021-11-28T08:20:01.961Z"
   },
   {
    "duration": 18,
    "start_time": "2021-11-28T08:20:01.975Z"
   },
   {
    "duration": 11,
    "start_time": "2021-11-28T08:20:01.996Z"
   },
   {
    "duration": 20,
    "start_time": "2021-11-28T08:20:02.009Z"
   },
   {
    "duration": 25,
    "start_time": "2021-11-28T08:20:02.031Z"
   },
   {
    "duration": 17,
    "start_time": "2021-11-28T08:20:02.058Z"
   },
   {
    "duration": 51,
    "start_time": "2021-11-28T08:20:02.077Z"
   },
   {
    "duration": 17,
    "start_time": "2021-11-28T08:20:02.130Z"
   },
   {
    "duration": 66,
    "start_time": "2021-11-28T08:20:02.150Z"
   },
   {
    "duration": 17,
    "start_time": "2021-11-28T08:20:02.219Z"
   },
   {
    "duration": 45,
    "start_time": "2021-11-28T08:20:02.238Z"
   },
   {
    "duration": 7,
    "start_time": "2021-11-28T08:20:02.285Z"
   },
   {
    "duration": 25,
    "start_time": "2021-11-28T08:20:02.294Z"
   },
   {
    "duration": 2673,
    "start_time": "2021-11-28T08:20:02.322Z"
   },
   {
    "duration": 13,
    "start_time": "2021-11-28T08:20:04.985Z"
   },
   {
    "duration": 6,
    "start_time": "2021-11-28T08:20:04.993Z"
   },
   {
    "duration": 2,
    "start_time": "2021-11-28T08:20:04.999Z"
   },
   {
    "duration": -4,
    "start_time": "2021-11-28T08:20:05.006Z"
   },
   {
    "duration": -9,
    "start_time": "2021-11-28T08:20:05.013Z"
   },
   {
    "duration": -15,
    "start_time": "2021-11-28T08:20:05.020Z"
   },
   {
    "duration": -19,
    "start_time": "2021-11-28T08:20:05.026Z"
   },
   {
    "duration": -25,
    "start_time": "2021-11-28T08:20:05.033Z"
   },
   {
    "duration": -30,
    "start_time": "2021-11-28T08:20:05.040Z"
   },
   {
    "duration": -35,
    "start_time": "2021-11-28T08:20:05.046Z"
   },
   {
    "duration": -39,
    "start_time": "2021-11-28T08:20:05.052Z"
   },
   {
    "duration": -56,
    "start_time": "2021-11-28T08:20:05.070Z"
   },
   {
    "duration": -61,
    "start_time": "2021-11-28T08:20:05.077Z"
   },
   {
    "duration": -65,
    "start_time": "2021-11-28T08:20:05.082Z"
   },
   {
    "duration": -71,
    "start_time": "2021-11-28T08:20:05.089Z"
   },
   {
    "duration": -75,
    "start_time": "2021-11-28T08:20:05.095Z"
   },
   {
    "duration": -79,
    "start_time": "2021-11-28T08:20:05.100Z"
   },
   {
    "duration": 126,
    "start_time": "2021-11-28T08:21:56.472Z"
   },
   {
    "duration": 5,
    "start_time": "2021-11-28T08:22:02.941Z"
   },
   {
    "duration": 790,
    "start_time": "2021-11-28T08:22:10.605Z"
   },
   {
    "duration": 4,
    "start_time": "2021-11-28T08:22:24.249Z"
   },
   {
    "duration": 968,
    "start_time": "2021-11-28T08:22:24.731Z"
   },
   {
    "duration": 4,
    "start_time": "2021-11-28T08:22:58.738Z"
   },
   {
    "duration": 1298,
    "start_time": "2021-11-28T08:22:59.358Z"
   },
   {
    "duration": 830,
    "start_time": "2021-11-28T08:23:11.938Z"
   },
   {
    "duration": 3,
    "start_time": "2021-11-28T08:23:37.267Z"
   },
   {
    "duration": 4,
    "start_time": "2021-11-28T08:23:37.282Z"
   },
   {
    "duration": 10,
    "start_time": "2021-11-28T08:23:37.288Z"
   },
   {
    "duration": 7,
    "start_time": "2021-11-28T08:23:37.301Z"
   },
   {
    "duration": 11,
    "start_time": "2021-11-28T08:23:37.310Z"
   },
   {
    "duration": 6,
    "start_time": "2021-11-28T08:23:37.323Z"
   },
   {
    "duration": 28,
    "start_time": "2021-11-28T08:23:37.331Z"
   },
   {
    "duration": 10,
    "start_time": "2021-11-28T08:23:37.362Z"
   },
   {
    "duration": 12,
    "start_time": "2021-11-28T08:23:37.375Z"
   },
   {
    "duration": 5,
    "start_time": "2021-11-28T08:23:37.391Z"
   },
   {
    "duration": 11,
    "start_time": "2021-11-28T08:23:37.398Z"
   },
   {
    "duration": 7,
    "start_time": "2021-11-28T08:23:37.411Z"
   },
   {
    "duration": 11,
    "start_time": "2021-11-28T08:23:37.420Z"
   },
   {
    "duration": 31,
    "start_time": "2021-11-28T08:23:37.433Z"
   },
   {
    "duration": 41,
    "start_time": "2021-11-28T08:23:37.466Z"
   },
   {
    "duration": 19,
    "start_time": "2021-11-28T08:23:37.509Z"
   },
   {
    "duration": 85,
    "start_time": "2021-11-28T08:23:37.530Z"
   },
   {
    "duration": 18,
    "start_time": "2021-11-28T08:23:37.617Z"
   },
   {
    "duration": 12,
    "start_time": "2021-11-28T08:23:37.660Z"
   },
   {
    "duration": 5,
    "start_time": "2021-11-28T08:23:37.675Z"
   },
   {
    "duration": 7,
    "start_time": "2021-11-28T08:23:37.682Z"
   },
   {
    "duration": 1242,
    "start_time": "2021-11-28T08:23:37.691Z"
   },
   {
    "duration": -3,
    "start_time": "2021-11-28T08:23:38.939Z"
   },
   {
    "duration": -37,
    "start_time": "2021-11-28T08:23:38.974Z"
   },
   {
    "duration": -44,
    "start_time": "2021-11-28T08:23:38.982Z"
   },
   {
    "duration": -64,
    "start_time": "2021-11-28T08:23:39.003Z"
   },
   {
    "duration": -69,
    "start_time": "2021-11-28T08:23:39.010Z"
   },
   {
    "duration": -76,
    "start_time": "2021-11-28T08:23:39.018Z"
   },
   {
    "duration": -80,
    "start_time": "2021-11-28T08:23:39.024Z"
   },
   {
    "duration": -116,
    "start_time": "2021-11-28T08:23:39.061Z"
   },
   {
    "duration": -137,
    "start_time": "2021-11-28T08:23:39.083Z"
   },
   {
    "duration": -181,
    "start_time": "2021-11-28T08:23:39.128Z"
   },
   {
    "duration": -213,
    "start_time": "2021-11-28T08:23:39.162Z"
   },
   {
    "duration": -250,
    "start_time": "2021-11-28T08:23:39.200Z"
   },
   {
    "duration": -256,
    "start_time": "2021-11-28T08:23:39.207Z"
   },
   {
    "duration": -264,
    "start_time": "2021-11-28T08:23:39.216Z"
   },
   {
    "duration": -271,
    "start_time": "2021-11-28T08:23:39.224Z"
   },
   {
    "duration": -276,
    "start_time": "2021-11-28T08:23:39.231Z"
   },
   {
    "duration": -282,
    "start_time": "2021-11-28T08:23:39.238Z"
   },
   {
    "duration": -322,
    "start_time": "2021-11-28T08:23:39.279Z"
   },
   {
    "duration": 364,
    "start_time": "2021-11-28T08:23:54.930Z"
   },
   {
    "duration": 3,
    "start_time": "2021-11-28T08:23:58.938Z"
   },
   {
    "duration": 7,
    "start_time": "2021-11-28T08:23:58.953Z"
   },
   {
    "duration": 10,
    "start_time": "2021-11-28T08:23:58.963Z"
   },
   {
    "duration": 16,
    "start_time": "2021-11-28T08:23:58.977Z"
   },
   {
    "duration": 10,
    "start_time": "2021-11-28T08:23:58.996Z"
   },
   {
    "duration": 17,
    "start_time": "2021-11-28T08:23:59.008Z"
   },
   {
    "duration": 31,
    "start_time": "2021-11-28T08:23:59.028Z"
   },
   {
    "duration": 11,
    "start_time": "2021-11-28T08:23:59.062Z"
   },
   {
    "duration": 15,
    "start_time": "2021-11-28T08:23:59.076Z"
   },
   {
    "duration": 17,
    "start_time": "2021-11-28T08:23:59.096Z"
   },
   {
    "duration": 11,
    "start_time": "2021-11-28T08:23:59.118Z"
   },
   {
    "duration": 18,
    "start_time": "2021-11-28T08:23:59.132Z"
   },
   {
    "duration": 9,
    "start_time": "2021-11-28T08:23:59.153Z"
   },
   {
    "duration": 22,
    "start_time": "2021-11-28T08:23:59.165Z"
   },
   {
    "duration": 58,
    "start_time": "2021-11-28T08:23:59.190Z"
   },
   {
    "duration": 26,
    "start_time": "2021-11-28T08:23:59.251Z"
   },
   {
    "duration": 112,
    "start_time": "2021-11-28T08:23:59.280Z"
   },
   {
    "duration": 26,
    "start_time": "2021-11-28T08:23:59.395Z"
   },
   {
    "duration": 37,
    "start_time": "2021-11-28T08:23:59.424Z"
   },
   {
    "duration": 7,
    "start_time": "2021-11-28T08:23:59.465Z"
   },
   {
    "duration": 8,
    "start_time": "2021-11-28T08:23:59.475Z"
   },
   {
    "duration": 1402,
    "start_time": "2021-11-28T08:23:59.485Z"
   },
   {
    "duration": -157,
    "start_time": "2021-11-28T08:24:01.047Z"
   },
   {
    "duration": -168,
    "start_time": "2021-11-28T08:24:01.059Z"
   },
   {
    "duration": -178,
    "start_time": "2021-11-28T08:24:01.071Z"
   },
   {
    "duration": -185,
    "start_time": "2021-11-28T08:24:01.079Z"
   },
   {
    "duration": -195,
    "start_time": "2021-11-28T08:24:01.091Z"
   },
   {
    "duration": -204,
    "start_time": "2021-11-28T08:24:01.101Z"
   },
   {
    "duration": -210,
    "start_time": "2021-11-28T08:24:01.109Z"
   },
   {
    "duration": -217,
    "start_time": "2021-11-28T08:24:01.118Z"
   },
   {
    "duration": -222,
    "start_time": "2021-11-28T08:24:01.124Z"
   },
   {
    "duration": -229,
    "start_time": "2021-11-28T08:24:01.132Z"
   },
   {
    "duration": -317,
    "start_time": "2021-11-28T08:24:01.222Z"
   },
   {
    "duration": -323,
    "start_time": "2021-11-28T08:24:01.229Z"
   },
   {
    "duration": -331,
    "start_time": "2021-11-28T08:24:01.238Z"
   },
   {
    "duration": -347,
    "start_time": "2021-11-28T08:24:01.255Z"
   },
   {
    "duration": -369,
    "start_time": "2021-11-28T08:24:01.278Z"
   },
   {
    "duration": -399,
    "start_time": "2021-11-28T08:24:01.310Z"
   },
   {
    "duration": -410,
    "start_time": "2021-11-28T08:24:01.322Z"
   },
   {
    "duration": -417,
    "start_time": "2021-11-28T08:24:01.330Z"
   },
   {
    "duration": 370,
    "start_time": "2021-11-28T08:24:48.312Z"
   },
   {
    "duration": 4,
    "start_time": "2021-11-28T08:24:52.286Z"
   },
   {
    "duration": 14,
    "start_time": "2021-11-28T08:24:52.300Z"
   },
   {
    "duration": 15,
    "start_time": "2021-11-28T08:24:52.317Z"
   },
   {
    "duration": 20,
    "start_time": "2021-11-28T08:24:52.335Z"
   },
   {
    "duration": 20,
    "start_time": "2021-11-28T08:24:52.358Z"
   },
   {
    "duration": 9,
    "start_time": "2021-11-28T08:24:52.380Z"
   },
   {
    "duration": 6,
    "start_time": "2021-11-28T08:24:52.392Z"
   },
   {
    "duration": 15,
    "start_time": "2021-11-28T08:24:52.401Z"
   },
   {
    "duration": 13,
    "start_time": "2021-11-28T08:24:52.419Z"
   },
   {
    "duration": 24,
    "start_time": "2021-11-28T08:24:52.437Z"
   },
   {
    "duration": 7,
    "start_time": "2021-11-28T08:24:52.465Z"
   },
   {
    "duration": 15,
    "start_time": "2021-11-28T08:24:52.474Z"
   },
   {
    "duration": 13,
    "start_time": "2021-11-28T08:24:52.492Z"
   },
   {
    "duration": 18,
    "start_time": "2021-11-28T08:24:52.507Z"
   },
   {
    "duration": 46,
    "start_time": "2021-11-28T08:24:52.528Z"
   },
   {
    "duration": 19,
    "start_time": "2021-11-28T08:24:52.576Z"
   },
   {
    "duration": 74,
    "start_time": "2021-11-28T08:24:52.597Z"
   },
   {
    "duration": 18,
    "start_time": "2021-11-28T08:24:52.673Z"
   },
   {
    "duration": 17,
    "start_time": "2021-11-28T08:24:52.693Z"
   },
   {
    "duration": 8,
    "start_time": "2021-11-28T08:24:52.713Z"
   },
   {
    "duration": 5,
    "start_time": "2021-11-28T08:24:52.760Z"
   },
   {
    "duration": 1392,
    "start_time": "2021-11-28T08:24:52.767Z"
   },
   {
    "duration": 12,
    "start_time": "2021-11-28T08:24:54.150Z"
   },
   {
    "duration": -17,
    "start_time": "2021-11-28T08:24:54.180Z"
   },
   {
    "duration": -22,
    "start_time": "2021-11-28T08:24:54.187Z"
   },
   {
    "duration": -32,
    "start_time": "2021-11-28T08:24:54.198Z"
   },
   {
    "duration": -38,
    "start_time": "2021-11-28T08:24:54.205Z"
   },
   {
    "duration": -43,
    "start_time": "2021-11-28T08:24:54.212Z"
   },
   {
    "duration": -50,
    "start_time": "2021-11-28T08:24:54.220Z"
   },
   {
    "duration": -54,
    "start_time": "2021-11-28T08:24:54.226Z"
   },
   {
    "duration": -60,
    "start_time": "2021-11-28T08:24:54.233Z"
   },
   {
    "duration": -64,
    "start_time": "2021-11-28T08:24:54.238Z"
   },
   {
    "duration": -69,
    "start_time": "2021-11-28T08:24:54.245Z"
   },
   {
    "duration": -74,
    "start_time": "2021-11-28T08:24:54.251Z"
   },
   {
    "duration": -77,
    "start_time": "2021-11-28T08:24:54.256Z"
   },
   {
    "duration": -83,
    "start_time": "2021-11-28T08:24:54.263Z"
   },
   {
    "duration": -114,
    "start_time": "2021-11-28T08:24:54.296Z"
   },
   {
    "duration": -129,
    "start_time": "2021-11-28T08:24:54.312Z"
   },
   {
    "duration": -146,
    "start_time": "2021-11-28T08:24:54.331Z"
   },
   {
    "duration": -163,
    "start_time": "2021-11-28T08:24:54.349Z"
   },
   {
    "duration": 440,
    "start_time": "2021-11-28T08:25:43.775Z"
   },
   {
    "duration": 4,
    "start_time": "2021-11-28T08:25:47.824Z"
   },
   {
    "duration": 4,
    "start_time": "2021-11-28T08:25:47.842Z"
   },
   {
    "duration": 7,
    "start_time": "2021-11-28T08:25:47.848Z"
   },
   {
    "duration": 6,
    "start_time": "2021-11-28T08:25:47.857Z"
   },
   {
    "duration": 5,
    "start_time": "2021-11-28T08:25:47.866Z"
   },
   {
    "duration": 6,
    "start_time": "2021-11-28T08:25:47.874Z"
   },
   {
    "duration": 5,
    "start_time": "2021-11-28T08:25:47.883Z"
   },
   {
    "duration": 7,
    "start_time": "2021-11-28T08:25:47.890Z"
   },
   {
    "duration": 6,
    "start_time": "2021-11-28T08:25:47.900Z"
   },
   {
    "duration": 7,
    "start_time": "2021-11-28T08:25:47.908Z"
   },
   {
    "duration": 4,
    "start_time": "2021-11-28T08:25:47.960Z"
   },
   {
    "duration": 8,
    "start_time": "2021-11-28T08:25:47.966Z"
   },
   {
    "duration": 10,
    "start_time": "2021-11-28T08:25:47.976Z"
   },
   {
    "duration": 9,
    "start_time": "2021-11-28T08:25:47.988Z"
   },
   {
    "duration": 78,
    "start_time": "2021-11-28T08:25:48.001Z"
   },
   {
    "duration": 18,
    "start_time": "2021-11-28T08:25:48.082Z"
   },
   {
    "duration": 85,
    "start_time": "2021-11-28T08:25:48.103Z"
   },
   {
    "duration": 16,
    "start_time": "2021-11-28T08:25:48.190Z"
   },
   {
    "duration": 11,
    "start_time": "2021-11-28T08:25:48.209Z"
   },
   {
    "duration": 6,
    "start_time": "2021-11-28T08:25:48.223Z"
   },
   {
    "duration": 5,
    "start_time": "2021-11-28T08:25:48.260Z"
   },
   {
    "duration": 823,
    "start_time": "2021-11-28T08:25:48.268Z"
   },
   {
    "duration": 360,
    "start_time": "2021-11-28T08:25:49.093Z"
   },
   {
    "duration": 43,
    "start_time": "2021-11-28T08:25:49.413Z"
   },
   {
    "duration": 37,
    "start_time": "2021-11-28T08:25:49.420Z"
   },
   {
    "duration": 10,
    "start_time": "2021-11-28T08:25:49.449Z"
   },
   {
    "duration": 5,
    "start_time": "2021-11-28T08:25:49.455Z"
   },
   {
    "duration": -1,
    "start_time": "2021-11-28T08:25:49.463Z"
   },
   {
    "duration": -6,
    "start_time": "2021-11-28T08:25:49.469Z"
   },
   {
    "duration": -12,
    "start_time": "2021-11-28T08:25:49.477Z"
   },
   {
    "duration": -16,
    "start_time": "2021-11-28T08:25:49.482Z"
   },
   {
    "duration": -21,
    "start_time": "2021-11-28T08:25:49.488Z"
   },
   {
    "duration": -53,
    "start_time": "2021-11-28T08:25:49.522Z"
   },
   {
    "duration": -59,
    "start_time": "2021-11-28T08:25:49.529Z"
   },
   {
    "duration": -63,
    "start_time": "2021-11-28T08:25:49.534Z"
   },
   {
    "duration": -68,
    "start_time": "2021-11-28T08:25:49.541Z"
   },
   {
    "duration": -73,
    "start_time": "2021-11-28T08:25:49.547Z"
   },
   {
    "duration": -77,
    "start_time": "2021-11-28T08:25:49.553Z"
   },
   {
    "duration": -82,
    "start_time": "2021-11-28T08:25:49.559Z"
   },
   {
    "duration": -87,
    "start_time": "2021-11-28T08:25:49.566Z"
   },
   {
    "duration": -91,
    "start_time": "2021-11-28T08:25:49.571Z"
   },
   {
    "duration": 367,
    "start_time": "2021-11-28T08:26:01.030Z"
   },
   {
    "duration": 350,
    "start_time": "2021-11-28T08:26:11.303Z"
   },
   {
    "duration": 3,
    "start_time": "2021-11-28T08:26:15.456Z"
   },
   {
    "duration": 23,
    "start_time": "2021-11-28T08:26:15.469Z"
   },
   {
    "duration": 30,
    "start_time": "2021-11-28T08:26:15.495Z"
   },
   {
    "duration": 33,
    "start_time": "2021-11-28T08:26:15.528Z"
   },
   {
    "duration": 31,
    "start_time": "2021-11-28T08:26:15.564Z"
   },
   {
    "duration": 51,
    "start_time": "2021-11-28T08:26:15.597Z"
   },
   {
    "duration": 21,
    "start_time": "2021-11-28T08:26:15.651Z"
   },
   {
    "duration": 23,
    "start_time": "2021-11-28T08:26:15.674Z"
   },
   {
    "duration": 13,
    "start_time": "2021-11-28T08:26:15.699Z"
   },
   {
    "duration": 22,
    "start_time": "2021-11-28T08:26:15.716Z"
   },
   {
    "duration": 29,
    "start_time": "2021-11-28T08:26:15.741Z"
   },
   {
    "duration": 26,
    "start_time": "2021-11-28T08:26:15.772Z"
   },
   {
    "duration": 24,
    "start_time": "2021-11-28T08:26:15.800Z"
   },
   {
    "duration": 18,
    "start_time": "2021-11-28T08:26:15.827Z"
   },
   {
    "duration": 52,
    "start_time": "2021-11-28T08:26:15.848Z"
   },
   {
    "duration": 20,
    "start_time": "2021-11-28T08:26:15.903Z"
   },
   {
    "duration": 69,
    "start_time": "2021-11-28T08:26:15.926Z"
   },
   {
    "duration": 17,
    "start_time": "2021-11-28T08:26:15.997Z"
   },
   {
    "duration": 26,
    "start_time": "2021-11-28T08:26:16.017Z"
   },
   {
    "duration": 5,
    "start_time": "2021-11-28T08:26:16.059Z"
   },
   {
    "duration": 24,
    "start_time": "2021-11-28T08:26:16.067Z"
   },
   {
    "duration": 829,
    "start_time": "2021-11-28T08:26:16.094Z"
   },
   {
    "duration": 2514,
    "start_time": "2021-11-28T08:26:16.925Z"
   },
   {
    "duration": 42,
    "start_time": "2021-11-28T08:26:19.400Z"
   },
   {
    "duration": 7,
    "start_time": "2021-11-28T08:26:19.436Z"
   },
   {
    "duration": -8,
    "start_time": "2021-11-28T08:26:19.452Z"
   },
   {
    "duration": -22,
    "start_time": "2021-11-28T08:26:19.468Z"
   },
   {
    "duration": -38,
    "start_time": "2021-11-28T08:26:19.485Z"
   },
   {
    "duration": -43,
    "start_time": "2021-11-28T08:26:19.491Z"
   },
   {
    "duration": -48,
    "start_time": "2021-11-28T08:26:19.498Z"
   },
   {
    "duration": -52,
    "start_time": "2021-11-28T08:26:19.504Z"
   },
   {
    "duration": -58,
    "start_time": "2021-11-28T08:26:19.511Z"
   },
   {
    "duration": -62,
    "start_time": "2021-11-28T08:26:19.517Z"
   },
   {
    "duration": -68,
    "start_time": "2021-11-28T08:26:19.524Z"
   },
   {
    "duration": -73,
    "start_time": "2021-11-28T08:26:19.530Z"
   },
   {
    "duration": -78,
    "start_time": "2021-11-28T08:26:19.536Z"
   },
   {
    "duration": -81,
    "start_time": "2021-11-28T08:26:19.541Z"
   },
   {
    "duration": -87,
    "start_time": "2021-11-28T08:26:19.548Z"
   },
   {
    "duration": -92,
    "start_time": "2021-11-28T08:26:19.555Z"
   },
   {
    "duration": -96,
    "start_time": "2021-11-28T08:26:19.560Z"
   },
   {
    "duration": -101,
    "start_time": "2021-11-28T08:26:19.567Z"
   },
   {
    "duration": 24,
    "start_time": "2021-11-28T08:27:45.898Z"
   },
   {
    "duration": 3,
    "start_time": "2021-11-28T08:27:55.724Z"
   },
   {
    "duration": 410,
    "start_time": "2021-11-28T08:28:13.150Z"
   },
   {
    "duration": 430,
    "start_time": "2021-11-28T08:28:25.045Z"
   },
   {
    "duration": 2823,
    "start_time": "2021-11-28T08:31:29.048Z"
   },
   {
    "duration": 7,
    "start_time": "2021-11-28T08:33:30.156Z"
   },
   {
    "duration": 402,
    "start_time": "2021-11-28T08:33:39.620Z"
   },
   {
    "duration": 3,
    "start_time": "2021-11-28T08:33:54.615Z"
   },
   {
    "duration": 3,
    "start_time": "2021-11-28T08:33:54.628Z"
   },
   {
    "duration": 4,
    "start_time": "2021-11-28T08:33:54.634Z"
   },
   {
    "duration": 8,
    "start_time": "2021-11-28T08:33:54.641Z"
   },
   {
    "duration": 6,
    "start_time": "2021-11-28T08:33:54.651Z"
   },
   {
    "duration": 9,
    "start_time": "2021-11-28T08:33:54.660Z"
   },
   {
    "duration": 8,
    "start_time": "2021-11-28T08:33:54.672Z"
   },
   {
    "duration": 7,
    "start_time": "2021-11-28T08:33:54.682Z"
   },
   {
    "duration": 10,
    "start_time": "2021-11-28T08:33:54.691Z"
   },
   {
    "duration": 10,
    "start_time": "2021-11-28T08:33:54.704Z"
   },
   {
    "duration": 7,
    "start_time": "2021-11-28T08:33:54.717Z"
   },
   {
    "duration": 4,
    "start_time": "2021-11-28T08:33:54.727Z"
   },
   {
    "duration": 6,
    "start_time": "2021-11-28T08:33:54.760Z"
   },
   {
    "duration": 6,
    "start_time": "2021-11-28T08:33:54.768Z"
   },
   {
    "duration": 39,
    "start_time": "2021-11-28T08:33:54.776Z"
   },
   {
    "duration": 18,
    "start_time": "2021-11-28T08:33:54.817Z"
   },
   {
    "duration": 59,
    "start_time": "2021-11-28T08:33:54.860Z"
   },
   {
    "duration": 16,
    "start_time": "2021-11-28T08:33:54.921Z"
   },
   {
    "duration": 11,
    "start_time": "2021-11-28T08:33:54.959Z"
   },
   {
    "duration": 8,
    "start_time": "2021-11-28T08:33:54.972Z"
   },
   {
    "duration": 73,
    "start_time": "2021-11-28T08:33:55.000Z"
   },
   {
    "duration": 992,
    "start_time": "2021-11-28T08:33:55.076Z"
   },
   {
    "duration": 7,
    "start_time": "2021-11-28T08:33:56.071Z"
   },
   {
    "duration": 394,
    "start_time": "2021-11-28T08:33:56.083Z"
   },
   {
    "duration": 47,
    "start_time": "2021-11-28T08:33:56.433Z"
   },
   {
    "duration": 41,
    "start_time": "2021-11-28T08:33:56.440Z"
   },
   {
    "duration": 37,
    "start_time": "2021-11-28T08:33:56.446Z"
   },
   {
    "duration": 10,
    "start_time": "2021-11-28T08:33:56.474Z"
   },
   {
    "duration": 5,
    "start_time": "2021-11-28T08:33:56.480Z"
   },
   {
    "duration": 1,
    "start_time": "2021-11-28T08:33:56.486Z"
   },
   {
    "duration": -3,
    "start_time": "2021-11-28T08:33:56.491Z"
   },
   {
    "duration": -10,
    "start_time": "2021-11-28T08:33:56.499Z"
   },
   {
    "duration": -13,
    "start_time": "2021-11-28T08:33:56.504Z"
   },
   {
    "duration": -18,
    "start_time": "2021-11-28T08:33:56.510Z"
   },
   {
    "duration": -22,
    "start_time": "2021-11-28T08:33:56.516Z"
   },
   {
    "duration": -25,
    "start_time": "2021-11-28T08:33:56.521Z"
   },
   {
    "duration": -29,
    "start_time": "2021-11-28T08:33:56.526Z"
   },
   {
    "duration": -48,
    "start_time": "2021-11-28T08:33:56.547Z"
   },
   {
    "duration": -54,
    "start_time": "2021-11-28T08:33:56.554Z"
   },
   {
    "duration": -64,
    "start_time": "2021-11-28T08:33:56.565Z"
   },
   {
    "duration": 3,
    "start_time": "2021-11-28T08:34:33.824Z"
   },
   {
    "duration": 3,
    "start_time": "2021-11-28T08:34:33.835Z"
   },
   {
    "duration": 9,
    "start_time": "2021-11-28T08:34:33.840Z"
   },
   {
    "duration": 8,
    "start_time": "2021-11-28T08:34:33.852Z"
   },
   {
    "duration": 12,
    "start_time": "2021-11-28T08:34:33.863Z"
   },
   {
    "duration": 6,
    "start_time": "2021-11-28T08:34:33.878Z"
   },
   {
    "duration": 11,
    "start_time": "2021-11-28T08:34:33.887Z"
   },
   {
    "duration": 8,
    "start_time": "2021-11-28T08:34:33.900Z"
   },
   {
    "duration": 11,
    "start_time": "2021-11-28T08:34:33.911Z"
   },
   {
    "duration": 7,
    "start_time": "2021-11-28T08:34:33.925Z"
   },
   {
    "duration": 4,
    "start_time": "2021-11-28T08:34:33.961Z"
   },
   {
    "duration": 6,
    "start_time": "2021-11-28T08:34:33.968Z"
   },
   {
    "duration": 7,
    "start_time": "2021-11-28T08:34:33.976Z"
   },
   {
    "duration": 8,
    "start_time": "2021-11-28T08:34:33.986Z"
   },
   {
    "duration": 66,
    "start_time": "2021-11-28T08:34:33.997Z"
   },
   {
    "duration": 19,
    "start_time": "2021-11-28T08:34:34.065Z"
   },
   {
    "duration": 93,
    "start_time": "2021-11-28T08:34:34.087Z"
   },
   {
    "duration": 20,
    "start_time": "2021-11-28T08:34:34.183Z"
   },
   {
    "duration": 15,
    "start_time": "2021-11-28T08:34:34.206Z"
   },
   {
    "duration": 39,
    "start_time": "2021-11-28T08:34:34.223Z"
   },
   {
    "duration": 8,
    "start_time": "2021-11-28T08:34:34.266Z"
   },
   {
    "duration": 830,
    "start_time": "2021-11-28T08:34:34.276Z"
   },
   {
    "duration": 366,
    "start_time": "2021-11-28T08:34:35.109Z"
   },
   {
    "duration": 38,
    "start_time": "2021-11-28T08:34:35.439Z"
   },
   {
    "duration": 34,
    "start_time": "2021-11-28T08:34:35.445Z"
   },
   {
    "duration": 27,
    "start_time": "2021-11-28T08:34:35.453Z"
   },
   {
    "duration": 21,
    "start_time": "2021-11-28T08:34:35.460Z"
   },
   {
    "duration": 16,
    "start_time": "2021-11-28T08:34:35.467Z"
   },
   {
    "duration": 12,
    "start_time": "2021-11-28T08:34:35.472Z"
   },
   {
    "duration": 8,
    "start_time": "2021-11-28T08:34:35.478Z"
   },
   {
    "duration": -7,
    "start_time": "2021-11-28T08:34:35.494Z"
   },
   {
    "duration": -13,
    "start_time": "2021-11-28T08:34:35.501Z"
   },
   {
    "duration": -16,
    "start_time": "2021-11-28T08:34:35.506Z"
   },
   {
    "duration": -20,
    "start_time": "2021-11-28T08:34:35.512Z"
   },
   {
    "duration": -30,
    "start_time": "2021-11-28T08:34:35.523Z"
   },
   {
    "duration": -34,
    "start_time": "2021-11-28T08:34:35.529Z"
   },
   {
    "duration": -41,
    "start_time": "2021-11-28T08:34:35.537Z"
   },
   {
    "duration": -45,
    "start_time": "2021-11-28T08:34:35.543Z"
   },
   {
    "duration": -53,
    "start_time": "2021-11-28T08:34:35.552Z"
   },
   {
    "duration": -56,
    "start_time": "2021-11-28T08:34:35.557Z"
   },
   {
    "duration": 578,
    "start_time": "2021-11-28T08:34:46.499Z"
   },
   {
    "duration": 1027,
    "start_time": "2021-11-28T08:35:05.989Z"
   },
   {
    "duration": 5,
    "start_time": "2021-11-28T08:35:11.299Z"
   },
   {
    "duration": 973,
    "start_time": "2021-11-28T08:37:43.961Z"
   },
   {
    "duration": 4,
    "start_time": "2021-11-28T08:49:17.245Z"
   },
   {
    "duration": 718,
    "start_time": "2021-11-28T08:49:22.168Z"
   },
   {
    "duration": 3,
    "start_time": "2021-11-28T08:49:36.975Z"
   },
   {
    "duration": 4,
    "start_time": "2021-11-28T08:49:36.988Z"
   },
   {
    "duration": 8,
    "start_time": "2021-11-28T08:49:36.994Z"
   },
   {
    "duration": 12,
    "start_time": "2021-11-28T08:49:37.005Z"
   },
   {
    "duration": 5,
    "start_time": "2021-11-28T08:49:37.020Z"
   },
   {
    "duration": 6,
    "start_time": "2021-11-28T08:49:37.027Z"
   },
   {
    "duration": 7,
    "start_time": "2021-11-28T08:49:37.035Z"
   },
   {
    "duration": 16,
    "start_time": "2021-11-28T08:49:37.044Z"
   },
   {
    "duration": 6,
    "start_time": "2021-11-28T08:49:37.064Z"
   },
   {
    "duration": 4,
    "start_time": "2021-11-28T08:49:37.076Z"
   },
   {
    "duration": 6,
    "start_time": "2021-11-28T08:49:37.082Z"
   },
   {
    "duration": 12,
    "start_time": "2021-11-28T08:49:37.090Z"
   },
   {
    "duration": 9,
    "start_time": "2021-11-28T08:49:37.104Z"
   },
   {
    "duration": 44,
    "start_time": "2021-11-28T08:49:37.115Z"
   },
   {
    "duration": 36,
    "start_time": "2021-11-28T08:49:37.163Z"
   },
   {
    "duration": 18,
    "start_time": "2021-11-28T08:49:37.201Z"
   },
   {
    "duration": 92,
    "start_time": "2021-11-28T08:49:37.222Z"
   },
   {
    "duration": 18,
    "start_time": "2021-11-28T08:49:37.316Z"
   },
   {
    "duration": 30,
    "start_time": "2021-11-28T08:49:37.336Z"
   },
   {
    "duration": 6,
    "start_time": "2021-11-28T08:49:37.368Z"
   },
   {
    "duration": 13,
    "start_time": "2021-11-28T08:49:37.376Z"
   },
   {
    "duration": 837,
    "start_time": "2021-11-28T08:49:37.391Z"
   },
   {
    "duration": 5,
    "start_time": "2021-11-28T08:49:38.231Z"
   },
   {
    "duration": 18,
    "start_time": "2021-11-28T08:49:38.241Z"
   },
   {
    "duration": 9,
    "start_time": "2021-11-28T08:49:38.263Z"
   },
   {
    "duration": 8,
    "start_time": "2021-11-28T08:49:38.274Z"
   },
   {
    "duration": 731,
    "start_time": "2021-11-28T08:49:38.284Z"
   },
   {
    "duration": 42,
    "start_time": "2021-11-28T08:49:38.975Z"
   },
   {
    "duration": 33,
    "start_time": "2021-11-28T08:49:38.986Z"
   },
   {
    "duration": 27,
    "start_time": "2021-11-28T08:49:38.993Z"
   },
   {
    "duration": 20,
    "start_time": "2021-11-28T08:49:39.001Z"
   },
   {
    "duration": 17,
    "start_time": "2021-11-28T08:49:39.006Z"
   },
   {
    "duration": 12,
    "start_time": "2021-11-28T08:49:39.012Z"
   },
   {
    "duration": 8,
    "start_time": "2021-11-28T08:49:39.018Z"
   },
   {
    "duration": 2,
    "start_time": "2021-11-28T08:49:39.025Z"
   },
   {
    "duration": -3,
    "start_time": "2021-11-28T08:49:39.032Z"
   },
   {
    "duration": -8,
    "start_time": "2021-11-28T08:49:39.039Z"
   },
   {
    "duration": -25,
    "start_time": "2021-11-28T08:49:39.057Z"
   },
   {
    "duration": -30,
    "start_time": "2021-11-28T08:49:39.063Z"
   },
   {
    "duration": -34,
    "start_time": "2021-11-28T08:49:39.069Z"
   },
   {
    "duration": -39,
    "start_time": "2021-11-28T08:49:39.075Z"
   },
   {
    "duration": -45,
    "start_time": "2021-11-28T08:49:39.082Z"
   },
   {
    "duration": -74,
    "start_time": "2021-11-28T08:49:39.112Z"
   },
   {
    "duration": 4,
    "start_time": "2021-11-28T08:50:26.997Z"
   },
   {
    "duration": 781,
    "start_time": "2021-11-28T08:50:27.917Z"
   },
   {
    "duration": 357,
    "start_time": "2021-11-28T08:51:48.233Z"
   },
   {
    "duration": 17,
    "start_time": "2021-11-28T08:51:56.171Z"
   },
   {
    "duration": 8,
    "start_time": "2021-11-28T08:54:30.208Z"
   },
   {
    "duration": 29,
    "start_time": "2021-11-28T08:54:34.127Z"
   },
   {
    "duration": 12,
    "start_time": "2021-11-28T08:54:38.053Z"
   },
   {
    "duration": 28,
    "start_time": "2021-11-28T09:00:04.013Z"
   },
   {
    "duration": 368,
    "start_time": "2021-11-28T09:00:35.094Z"
   },
   {
    "duration": 351,
    "start_time": "2021-11-28T09:01:08.645Z"
   },
   {
    "duration": 5,
    "start_time": "2021-11-28T09:02:00.486Z"
   },
   {
    "duration": 29,
    "start_time": "2021-11-28T09:02:04.433Z"
   },
   {
    "duration": 4,
    "start_time": "2021-11-28T09:02:34.961Z"
   },
   {
    "duration": 28,
    "start_time": "2021-11-28T09:02:38.358Z"
   },
   {
    "duration": 608,
    "start_time": "2021-11-28T11:21:19.045Z"
   },
   {
    "duration": 4,
    "start_time": "2021-11-28T11:21:24.582Z"
   },
   {
    "duration": 3,
    "start_time": "2021-11-28T11:21:24.599Z"
   },
   {
    "duration": 10,
    "start_time": "2021-11-28T11:21:24.605Z"
   },
   {
    "duration": 5,
    "start_time": "2021-11-28T11:21:24.618Z"
   },
   {
    "duration": 7,
    "start_time": "2021-11-28T11:21:24.626Z"
   },
   {
    "duration": 13,
    "start_time": "2021-11-28T11:21:24.636Z"
   },
   {
    "duration": 18,
    "start_time": "2021-11-28T11:21:24.651Z"
   },
   {
    "duration": 17,
    "start_time": "2021-11-28T11:21:24.672Z"
   },
   {
    "duration": 18,
    "start_time": "2021-11-28T11:21:24.691Z"
   },
   {
    "duration": 9,
    "start_time": "2021-11-28T11:21:24.713Z"
   },
   {
    "duration": 19,
    "start_time": "2021-11-28T11:21:24.725Z"
   },
   {
    "duration": 16,
    "start_time": "2021-11-28T11:21:24.747Z"
   },
   {
    "duration": 16,
    "start_time": "2021-11-28T11:21:24.766Z"
   },
   {
    "duration": 10,
    "start_time": "2021-11-28T11:21:24.784Z"
   },
   {
    "duration": 53,
    "start_time": "2021-11-28T11:21:24.796Z"
   },
   {
    "duration": 18,
    "start_time": "2021-11-28T11:21:24.852Z"
   },
   {
    "duration": 78,
    "start_time": "2021-11-28T11:21:24.872Z"
   },
   {
    "duration": 21,
    "start_time": "2021-11-28T11:21:24.953Z"
   },
   {
    "duration": 15,
    "start_time": "2021-11-28T11:21:24.977Z"
   },
   {
    "duration": 9,
    "start_time": "2021-11-28T11:21:24.995Z"
   },
   {
    "duration": 11,
    "start_time": "2021-11-28T11:21:25.007Z"
   },
   {
    "duration": 1267,
    "start_time": "2021-11-28T11:21:25.021Z"
   },
   {
    "duration": 228,
    "start_time": "2021-11-28T11:21:26.064Z"
   },
   {
    "duration": 219,
    "start_time": "2021-11-28T11:21:26.074Z"
   },
   {
    "duration": 188,
    "start_time": "2021-11-28T11:21:26.106Z"
   },
   {
    "duration": 169,
    "start_time": "2021-11-28T11:21:26.127Z"
   },
   {
    "duration": 132,
    "start_time": "2021-11-28T11:21:26.165Z"
   },
   {
    "duration": 97,
    "start_time": "2021-11-28T11:21:26.202Z"
   },
   {
    "duration": 58,
    "start_time": "2021-11-28T11:21:26.242Z"
   },
   {
    "duration": 25,
    "start_time": "2021-11-28T11:21:26.277Z"
   },
   {
    "duration": -5,
    "start_time": "2021-11-28T11:21:26.309Z"
   },
   {
    "duration": -13,
    "start_time": "2021-11-28T11:21:26.318Z"
   },
   {
    "duration": -20,
    "start_time": "2021-11-28T11:21:26.326Z"
   },
   {
    "duration": -25,
    "start_time": "2021-11-28T11:21:26.333Z"
   },
   {
    "duration": -30,
    "start_time": "2021-11-28T11:21:26.339Z"
   },
   {
    "duration": -37,
    "start_time": "2021-11-28T11:21:26.347Z"
   },
   {
    "duration": -42,
    "start_time": "2021-11-28T11:21:26.354Z"
   },
   {
    "duration": -78,
    "start_time": "2021-11-28T11:21:26.391Z"
   },
   {
    "duration": -95,
    "start_time": "2021-11-28T11:21:26.410Z"
   },
   {
    "duration": -127,
    "start_time": "2021-11-28T11:21:26.443Z"
   },
   {
    "duration": -145,
    "start_time": "2021-11-28T11:21:26.463Z"
   },
   {
    "duration": -174,
    "start_time": "2021-11-28T11:21:26.494Z"
   },
   {
    "duration": 1166,
    "start_time": "2021-11-28T11:22:46.505Z"
   },
   {
    "duration": 497,
    "start_time": "2021-11-28T11:23:14.639Z"
   },
   {
    "duration": 533,
    "start_time": "2021-11-28T11:23:25.956Z"
   },
   {
    "duration": 476,
    "start_time": "2021-11-28T11:24:49.217Z"
   },
   {
    "duration": 4409,
    "start_time": "2021-11-28T11:25:12.392Z"
   },
   {
    "duration": 2760,
    "start_time": "2021-11-28T11:25:31.670Z"
   },
   {
    "duration": 2550,
    "start_time": "2021-11-28T11:25:37.928Z"
   },
   {
    "duration": 2925,
    "start_time": "2021-11-28T11:25:46.575Z"
   },
   {
    "duration": 2666,
    "start_time": "2021-11-28T11:26:15.080Z"
   },
   {
    "duration": 3380,
    "start_time": "2021-11-28T11:27:15.510Z"
   },
   {
    "duration": 4,
    "start_time": "2021-11-28T11:27:52.935Z"
   },
   {
    "duration": 3,
    "start_time": "2021-11-28T11:27:52.952Z"
   },
   {
    "duration": 6,
    "start_time": "2021-11-28T11:27:52.959Z"
   },
   {
    "duration": 6,
    "start_time": "2021-11-28T11:27:52.968Z"
   },
   {
    "duration": 10,
    "start_time": "2021-11-28T11:27:52.977Z"
   },
   {
    "duration": 10,
    "start_time": "2021-11-28T11:27:52.989Z"
   },
   {
    "duration": 9,
    "start_time": "2021-11-28T11:27:53.003Z"
   },
   {
    "duration": 43,
    "start_time": "2021-11-28T11:27:53.016Z"
   },
   {
    "duration": 6,
    "start_time": "2021-11-28T11:27:53.062Z"
   },
   {
    "duration": 8,
    "start_time": "2021-11-28T11:27:53.071Z"
   },
   {
    "duration": 10,
    "start_time": "2021-11-28T11:27:53.082Z"
   },
   {
    "duration": 7,
    "start_time": "2021-11-28T11:27:53.095Z"
   },
   {
    "duration": 9,
    "start_time": "2021-11-28T11:27:53.105Z"
   },
   {
    "duration": 46,
    "start_time": "2021-11-28T11:27:53.117Z"
   },
   {
    "duration": 33,
    "start_time": "2021-11-28T11:27:53.168Z"
   },
   {
    "duration": 20,
    "start_time": "2021-11-28T11:27:53.204Z"
   },
   {
    "duration": 82,
    "start_time": "2021-11-28T11:27:53.226Z"
   },
   {
    "duration": 18,
    "start_time": "2021-11-28T11:27:53.310Z"
   },
   {
    "duration": 33,
    "start_time": "2021-11-28T11:27:53.330Z"
   },
   {
    "duration": 6,
    "start_time": "2021-11-28T11:27:53.366Z"
   },
   {
    "duration": 10,
    "start_time": "2021-11-28T11:27:53.375Z"
   },
   {
    "duration": 3606,
    "start_time": "2021-11-28T11:27:53.388Z"
   },
   {
    "duration": 212,
    "start_time": "2021-11-28T11:27:56.784Z"
   },
   {
    "duration": 206,
    "start_time": "2021-11-28T11:27:56.792Z"
   },
   {
    "duration": 199,
    "start_time": "2021-11-28T11:27:56.800Z"
   },
   {
    "duration": 180,
    "start_time": "2021-11-28T11:27:56.821Z"
   },
   {
    "duration": 171,
    "start_time": "2021-11-28T11:27:56.831Z"
   },
   {
    "duration": 166,
    "start_time": "2021-11-28T11:27:56.837Z"
   },
   {
    "duration": 160,
    "start_time": "2021-11-28T11:27:56.845Z"
   },
   {
    "duration": 155,
    "start_time": "2021-11-28T11:27:56.852Z"
   },
   {
    "duration": 149,
    "start_time": "2021-11-28T11:27:56.859Z"
   },
   {
    "duration": 144,
    "start_time": "2021-11-28T11:27:56.865Z"
   },
   {
    "duration": 138,
    "start_time": "2021-11-28T11:27:56.873Z"
   },
   {
    "duration": 133,
    "start_time": "2021-11-28T11:27:56.879Z"
   },
   {
    "duration": 127,
    "start_time": "2021-11-28T11:27:56.886Z"
   },
   {
    "duration": 121,
    "start_time": "2021-11-28T11:27:56.893Z"
   },
   {
    "duration": 116,
    "start_time": "2021-11-28T11:27:56.900Z"
   },
   {
    "duration": 110,
    "start_time": "2021-11-28T11:27:56.907Z"
   },
   {
    "duration": 79,
    "start_time": "2021-11-28T11:27:56.940Z"
   },
   {
    "duration": 61,
    "start_time": "2021-11-28T11:27:56.959Z"
   },
   {
    "duration": 35,
    "start_time": "2021-11-28T11:27:56.986Z"
   },
   {
    "duration": 18,
    "start_time": "2021-11-28T11:27:57.005Z"
   },
   {
    "duration": 2508,
    "start_time": "2021-11-28T11:28:25.413Z"
   },
   {
    "duration": 2419,
    "start_time": "2021-11-28T11:28:40.514Z"
   },
   {
    "duration": 2316,
    "start_time": "2021-11-28T11:29:57.096Z"
   },
   {
    "duration": 7,
    "start_time": "2021-11-28T11:29:59.415Z"
   },
   {
    "duration": 16,
    "start_time": "2021-11-28T11:29:59.424Z"
   },
   {
    "duration": 20,
    "start_time": "2021-11-28T11:29:59.442Z"
   },
   {
    "duration": 4,
    "start_time": "2021-11-28T11:30:02.312Z"
   },
   {
    "duration": 503,
    "start_time": "2021-11-28T11:34:42.756Z"
   },
   {
    "duration": 3,
    "start_time": "2021-11-28T11:35:12.518Z"
   },
   {
    "duration": 4,
    "start_time": "2021-11-28T11:35:12.535Z"
   },
   {
    "duration": 5,
    "start_time": "2021-11-28T11:35:12.542Z"
   },
   {
    "duration": 5,
    "start_time": "2021-11-28T11:35:12.550Z"
   },
   {
    "duration": 7,
    "start_time": "2021-11-28T11:35:12.558Z"
   },
   {
    "duration": 8,
    "start_time": "2021-11-28T11:35:12.568Z"
   },
   {
    "duration": 6,
    "start_time": "2021-11-28T11:35:12.578Z"
   },
   {
    "duration": 8,
    "start_time": "2021-11-28T11:35:12.586Z"
   },
   {
    "duration": 7,
    "start_time": "2021-11-28T11:35:12.597Z"
   },
   {
    "duration": 6,
    "start_time": "2021-11-28T11:35:12.607Z"
   },
   {
    "duration": 6,
    "start_time": "2021-11-28T11:35:12.616Z"
   },
   {
    "duration": 36,
    "start_time": "2021-11-28T11:35:12.624Z"
   },
   {
    "duration": 17,
    "start_time": "2021-11-28T11:35:12.663Z"
   },
   {
    "duration": 9,
    "start_time": "2021-11-28T11:35:12.682Z"
   },
   {
    "duration": 37,
    "start_time": "2021-11-28T11:35:12.693Z"
   },
   {
    "duration": 28,
    "start_time": "2021-11-28T11:35:12.733Z"
   },
   {
    "duration": 62,
    "start_time": "2021-11-28T11:35:12.763Z"
   },
   {
    "duration": 35,
    "start_time": "2021-11-28T11:35:12.827Z"
   },
   {
    "duration": 13,
    "start_time": "2021-11-28T11:35:12.864Z"
   },
   {
    "duration": 5,
    "start_time": "2021-11-28T11:35:12.880Z"
   },
   {
    "duration": 6,
    "start_time": "2021-11-28T11:35:12.890Z"
   },
   {
    "duration": 3808,
    "start_time": "2021-11-28T11:35:12.899Z"
   },
   {
    "duration": -790,
    "start_time": "2021-11-28T11:35:17.499Z"
   },
   {
    "duration": -794,
    "start_time": "2021-11-28T11:35:17.505Z"
   },
   {
    "duration": -802,
    "start_time": "2021-11-28T11:35:17.515Z"
   },
   {
    "duration": -807,
    "start_time": "2021-11-28T11:35:17.522Z"
   },
   {
    "duration": -813,
    "start_time": "2021-11-28T11:35:17.529Z"
   },
   {
    "duration": -818,
    "start_time": "2021-11-28T11:35:17.535Z"
   },
   {
    "duration": -824,
    "start_time": "2021-11-28T11:35:17.542Z"
   },
   {
    "duration": -829,
    "start_time": "2021-11-28T11:35:17.549Z"
   },
   {
    "duration": -835,
    "start_time": "2021-11-28T11:35:17.556Z"
   },
   {
    "duration": -840,
    "start_time": "2021-11-28T11:35:17.562Z"
   },
   {
    "duration": -846,
    "start_time": "2021-11-28T11:35:17.569Z"
   },
   {
    "duration": -850,
    "start_time": "2021-11-28T11:35:17.575Z"
   },
   {
    "duration": -856,
    "start_time": "2021-11-28T11:35:17.582Z"
   },
   {
    "duration": -861,
    "start_time": "2021-11-28T11:35:17.588Z"
   },
   {
    "duration": -883,
    "start_time": "2021-11-28T11:35:17.611Z"
   },
   {
    "duration": -887,
    "start_time": "2021-11-28T11:35:17.617Z"
   },
   {
    "duration": -892,
    "start_time": "2021-11-28T11:35:17.623Z"
   },
   {
    "duration": -897,
    "start_time": "2021-11-28T11:35:17.630Z"
   },
   {
    "duration": -903,
    "start_time": "2021-11-28T11:35:17.637Z"
   },
   {
    "duration": -907,
    "start_time": "2021-11-28T11:35:17.643Z"
   },
   {
    "duration": 1285,
    "start_time": "2021-11-28T11:35:39.293Z"
   },
   {
    "duration": 2211,
    "start_time": "2021-11-28T11:35:49.894Z"
   },
   {
    "duration": 7,
    "start_time": "2021-11-28T11:36:10.142Z"
   },
   {
    "duration": 11,
    "start_time": "2021-11-28T11:36:10.523Z"
   },
   {
    "duration": 5,
    "start_time": "2021-11-28T11:36:10.768Z"
   },
   {
    "duration": 5,
    "start_time": "2021-11-28T11:36:11.731Z"
   },
   {
    "duration": 541,
    "start_time": "2021-11-28T11:36:31.662Z"
   },
   {
    "duration": 4,
    "start_time": "2021-11-28T11:36:38.790Z"
   },
   {
    "duration": 6,
    "start_time": "2021-11-28T11:36:38.805Z"
   },
   {
    "duration": 6,
    "start_time": "2021-11-28T11:36:38.813Z"
   },
   {
    "duration": 6,
    "start_time": "2021-11-28T11:36:38.822Z"
   },
   {
    "duration": 9,
    "start_time": "2021-11-28T11:36:38.831Z"
   },
   {
    "duration": 9,
    "start_time": "2021-11-28T11:36:38.842Z"
   },
   {
    "duration": 9,
    "start_time": "2021-11-28T11:36:38.853Z"
   },
   {
    "duration": 8,
    "start_time": "2021-11-28T11:36:38.864Z"
   },
   {
    "duration": 6,
    "start_time": "2021-11-28T11:36:38.874Z"
   },
   {
    "duration": 6,
    "start_time": "2021-11-28T11:36:38.883Z"
   },
   {
    "duration": 6,
    "start_time": "2021-11-28T11:36:38.892Z"
   },
   {
    "duration": 7,
    "start_time": "2021-11-28T11:36:38.900Z"
   },
   {
    "duration": 14,
    "start_time": "2021-11-28T11:36:38.910Z"
   },
   {
    "duration": 33,
    "start_time": "2021-11-28T11:36:38.926Z"
   },
   {
    "duration": 37,
    "start_time": "2021-11-28T11:36:38.962Z"
   },
   {
    "duration": 18,
    "start_time": "2021-11-28T11:36:39.002Z"
   },
   {
    "duration": 77,
    "start_time": "2021-11-28T11:36:39.022Z"
   },
   {
    "duration": 17,
    "start_time": "2021-11-28T11:36:39.101Z"
   },
   {
    "duration": 14,
    "start_time": "2021-11-28T11:36:39.121Z"
   },
   {
    "duration": 7,
    "start_time": "2021-11-28T11:36:39.160Z"
   },
   {
    "duration": 8,
    "start_time": "2021-11-28T11:36:39.169Z"
   },
   {
    "duration": 2938,
    "start_time": "2021-11-28T11:36:39.181Z"
   },
   {
    "duration": 6,
    "start_time": "2021-11-28T11:36:42.122Z"
   },
   {
    "duration": 28,
    "start_time": "2021-11-28T11:36:42.131Z"
   },
   {
    "duration": 5,
    "start_time": "2021-11-28T11:36:42.162Z"
   },
   {
    "duration": 6,
    "start_time": "2021-11-28T11:36:42.170Z"
   },
   {
    "duration": 22,
    "start_time": "2021-11-28T11:36:42.179Z"
   },
   {
    "duration": 6,
    "start_time": "2021-11-28T11:36:42.204Z"
   },
   {
    "duration": 445,
    "start_time": "2021-11-28T11:36:42.212Z"
   },
   {
    "duration": 221,
    "start_time": "2021-11-28T11:36:42.439Z"
   },
   {
    "duration": 215,
    "start_time": "2021-11-28T11:36:42.446Z"
   },
   {
    "duration": 211,
    "start_time": "2021-11-28T11:36:42.452Z"
   },
   {
    "duration": 207,
    "start_time": "2021-11-28T11:36:42.457Z"
   },
   {
    "duration": 204,
    "start_time": "2021-11-28T11:36:42.462Z"
   },
   {
    "duration": 199,
    "start_time": "2021-11-28T11:36:42.468Z"
   },
   {
    "duration": 195,
    "start_time": "2021-11-28T11:36:42.474Z"
   },
   {
    "duration": 178,
    "start_time": "2021-11-28T11:36:42.492Z"
   },
   {
    "duration": 174,
    "start_time": "2021-11-28T11:36:42.498Z"
   },
   {
    "duration": 169,
    "start_time": "2021-11-28T11:36:42.504Z"
   },
   {
    "duration": 139,
    "start_time": "2021-11-28T11:36:42.536Z"
   },
   {
    "duration": 109,
    "start_time": "2021-11-28T11:36:42.567Z"
   },
   {
    "duration": 91,
    "start_time": "2021-11-28T11:36:42.587Z"
   },
   {
    "duration": 550,
    "start_time": "2021-11-28T11:37:16.445Z"
   },
   {
    "duration": 4,
    "start_time": "2021-11-28T11:37:19.281Z"
   },
   {
    "duration": 3,
    "start_time": "2021-11-28T11:37:19.303Z"
   },
   {
    "duration": 10,
    "start_time": "2021-11-28T11:37:19.309Z"
   },
   {
    "duration": 8,
    "start_time": "2021-11-28T11:37:19.322Z"
   },
   {
    "duration": 9,
    "start_time": "2021-11-28T11:37:19.333Z"
   },
   {
    "duration": 11,
    "start_time": "2021-11-28T11:37:19.345Z"
   },
   {
    "duration": 7,
    "start_time": "2021-11-28T11:37:19.358Z"
   },
   {
    "duration": 9,
    "start_time": "2021-11-28T11:37:19.367Z"
   },
   {
    "duration": 7,
    "start_time": "2021-11-28T11:37:19.378Z"
   },
   {
    "duration": 7,
    "start_time": "2021-11-28T11:37:19.389Z"
   },
   {
    "duration": 6,
    "start_time": "2021-11-28T11:37:19.399Z"
   },
   {
    "duration": 5,
    "start_time": "2021-11-28T11:37:19.408Z"
   },
   {
    "duration": 6,
    "start_time": "2021-11-28T11:37:19.416Z"
   },
   {
    "duration": 36,
    "start_time": "2021-11-28T11:37:19.424Z"
   },
   {
    "duration": 34,
    "start_time": "2021-11-28T11:37:19.463Z"
   },
   {
    "duration": 20,
    "start_time": "2021-11-28T11:37:19.499Z"
   },
   {
    "duration": 95,
    "start_time": "2021-11-28T11:37:19.522Z"
   },
   {
    "duration": 17,
    "start_time": "2021-11-28T11:37:19.620Z"
   },
   {
    "duration": 26,
    "start_time": "2021-11-28T11:37:19.640Z"
   },
   {
    "duration": 6,
    "start_time": "2021-11-28T11:37:19.668Z"
   },
   {
    "duration": 9,
    "start_time": "2021-11-28T11:37:19.676Z"
   },
   {
    "duration": 2254,
    "start_time": "2021-11-28T11:37:19.688Z"
   },
   {
    "duration": 14,
    "start_time": "2021-11-28T11:37:21.947Z"
   },
   {
    "duration": 15,
    "start_time": "2021-11-28T11:37:21.963Z"
   },
   {
    "duration": 5,
    "start_time": "2021-11-28T11:37:21.980Z"
   },
   {
    "duration": 17,
    "start_time": "2021-11-28T11:37:21.987Z"
   },
   {
    "duration": 36,
    "start_time": "2021-11-28T11:37:22.007Z"
   },
   {
    "duration": 16,
    "start_time": "2021-11-28T11:37:22.046Z"
   },
   {
    "duration": 475,
    "start_time": "2021-11-28T11:37:22.065Z"
   },
   {
    "duration": 227,
    "start_time": "2021-11-28T11:37:22.315Z"
   },
   {
    "duration": 211,
    "start_time": "2021-11-28T11:37:22.333Z"
   },
   {
    "duration": 194,
    "start_time": "2021-11-28T11:37:22.351Z"
   },
   {
    "duration": 172,
    "start_time": "2021-11-28T11:37:22.375Z"
   },
   {
    "duration": 164,
    "start_time": "2021-11-28T11:37:22.384Z"
   },
   {
    "duration": 160,
    "start_time": "2021-11-28T11:37:22.390Z"
   },
   {
    "duration": 153,
    "start_time": "2021-11-28T11:37:22.398Z"
   },
   {
    "duration": 148,
    "start_time": "2021-11-28T11:37:22.405Z"
   },
   {
    "duration": 140,
    "start_time": "2021-11-28T11:37:22.414Z"
   },
   {
    "duration": 135,
    "start_time": "2021-11-28T11:37:22.421Z"
   },
   {
    "duration": 128,
    "start_time": "2021-11-28T11:37:22.429Z"
   },
   {
    "duration": 123,
    "start_time": "2021-11-28T11:37:22.436Z"
   },
   {
    "duration": 116,
    "start_time": "2021-11-28T11:37:22.444Z"
   },
   {
    "duration": 449,
    "start_time": "2021-11-28T11:39:34.753Z"
   },
   {
    "duration": 413,
    "start_time": "2021-11-28T11:39:51.010Z"
   },
   {
    "duration": 3,
    "start_time": "2021-11-28T11:39:58.421Z"
   },
   {
    "duration": 3,
    "start_time": "2021-11-28T11:39:58.436Z"
   },
   {
    "duration": 7,
    "start_time": "2021-11-28T11:39:58.441Z"
   },
   {
    "duration": 7,
    "start_time": "2021-11-28T11:39:58.451Z"
   },
   {
    "duration": 9,
    "start_time": "2021-11-28T11:39:58.460Z"
   },
   {
    "duration": 6,
    "start_time": "2021-11-28T11:39:58.472Z"
   },
   {
    "duration": 7,
    "start_time": "2021-11-28T11:39:58.481Z"
   },
   {
    "duration": 9,
    "start_time": "2021-11-28T11:39:58.491Z"
   },
   {
    "duration": 6,
    "start_time": "2021-11-28T11:39:58.503Z"
   },
   {
    "duration": 8,
    "start_time": "2021-11-28T11:39:58.511Z"
   },
   {
    "duration": 37,
    "start_time": "2021-11-28T11:39:58.521Z"
   },
   {
    "duration": 3,
    "start_time": "2021-11-28T11:39:58.561Z"
   },
   {
    "duration": 9,
    "start_time": "2021-11-28T11:39:58.566Z"
   },
   {
    "duration": 7,
    "start_time": "2021-11-28T11:39:58.579Z"
   },
   {
    "duration": 41,
    "start_time": "2021-11-28T11:39:58.589Z"
   },
   {
    "duration": 36,
    "start_time": "2021-11-28T11:39:58.633Z"
   },
   {
    "duration": 65,
    "start_time": "2021-11-28T11:39:58.671Z"
   },
   {
    "duration": 35,
    "start_time": "2021-11-28T11:39:58.738Z"
   },
   {
    "duration": 13,
    "start_time": "2021-11-28T11:39:58.775Z"
   },
   {
    "duration": 6,
    "start_time": "2021-11-28T11:39:58.790Z"
   },
   {
    "duration": 9,
    "start_time": "2021-11-28T11:39:58.798Z"
   },
   {
    "duration": 85,
    "start_time": "2021-11-28T11:39:58.809Z"
   },
   {
    "duration": 1798,
    "start_time": "2021-11-28T11:39:58.896Z"
   },
   {
    "duration": 7,
    "start_time": "2021-11-28T11:40:00.696Z"
   },
   {
    "duration": 58,
    "start_time": "2021-11-28T11:40:00.705Z"
   },
   {
    "duration": 28,
    "start_time": "2021-11-28T11:40:00.765Z"
   },
   {
    "duration": 16,
    "start_time": "2021-11-28T11:40:00.795Z"
   },
   {
    "duration": 34,
    "start_time": "2021-11-28T11:40:00.813Z"
   },
   {
    "duration": 7,
    "start_time": "2021-11-28T11:40:00.849Z"
   },
   {
    "duration": 384,
    "start_time": "2021-11-28T11:40:00.858Z"
   },
   {
    "duration": 230,
    "start_time": "2021-11-28T11:40:01.015Z"
   },
   {
    "duration": 225,
    "start_time": "2021-11-28T11:40:01.022Z"
   },
   {
    "duration": 220,
    "start_time": "2021-11-28T11:40:01.028Z"
   },
   {
    "duration": 215,
    "start_time": "2021-11-28T11:40:01.034Z"
   },
   {
    "duration": 209,
    "start_time": "2021-11-28T11:40:01.041Z"
   },
   {
    "duration": 206,
    "start_time": "2021-11-28T11:40:01.046Z"
   },
   {
    "duration": 200,
    "start_time": "2021-11-28T11:40:01.053Z"
   },
   {
    "duration": 195,
    "start_time": "2021-11-28T11:40:01.059Z"
   },
   {
    "duration": 190,
    "start_time": "2021-11-28T11:40:01.065Z"
   },
   {
    "duration": 186,
    "start_time": "2021-11-28T11:40:01.071Z"
   },
   {
    "duration": 181,
    "start_time": "2021-11-28T11:40:01.077Z"
   },
   {
    "duration": 176,
    "start_time": "2021-11-28T11:40:01.083Z"
   },
   {
    "duration": 172,
    "start_time": "2021-11-28T11:40:01.089Z"
   },
   {
    "duration": 9,
    "start_time": "2021-11-28T11:40:30.813Z"
   },
   {
    "duration": 7,
    "start_time": "2021-11-28T11:42:54.282Z"
   },
   {
    "duration": 7,
    "start_time": "2021-11-28T11:43:46.129Z"
   },
   {
    "duration": 6,
    "start_time": "2021-11-28T11:43:46.247Z"
   },
   {
    "duration": 6,
    "start_time": "2021-11-28T11:43:46.368Z"
   },
   {
    "duration": 4,
    "start_time": "2021-11-28T11:43:46.490Z"
   },
   {
    "duration": 5,
    "start_time": "2021-11-28T11:43:46.617Z"
   },
   {
    "duration": 5,
    "start_time": "2021-11-28T11:43:48.625Z"
   },
   {
    "duration": 20,
    "start_time": "2021-11-28T11:44:03.671Z"
   },
   {
    "duration": 7,
    "start_time": "2021-11-28T11:44:03.958Z"
   },
   {
    "duration": 9,
    "start_time": "2021-11-28T11:44:04.281Z"
   },
   {
    "duration": 9,
    "start_time": "2021-11-28T11:44:04.524Z"
   },
   {
    "duration": 5,
    "start_time": "2021-11-28T11:44:04.868Z"
   },
   {
    "duration": 5,
    "start_time": "2021-11-28T11:44:05.116Z"
   },
   {
    "duration": 5,
    "start_time": "2021-11-28T11:44:05.358Z"
   },
   {
    "duration": 5,
    "start_time": "2021-11-28T11:44:05.741Z"
   },
   {
    "duration": 6,
    "start_time": "2021-11-28T11:44:06.090Z"
   },
   {
    "duration": 5,
    "start_time": "2021-11-28T11:44:06.488Z"
   },
   {
    "duration": 4,
    "start_time": "2021-11-28T11:45:03.483Z"
   },
   {
    "duration": 7,
    "start_time": "2021-11-28T11:45:03.500Z"
   },
   {
    "duration": 10,
    "start_time": "2021-11-28T11:45:03.509Z"
   },
   {
    "duration": 12,
    "start_time": "2021-11-28T11:45:03.522Z"
   },
   {
    "duration": 9,
    "start_time": "2021-11-28T11:45:03.537Z"
   },
   {
    "duration": 19,
    "start_time": "2021-11-28T11:45:03.548Z"
   },
   {
    "duration": 8,
    "start_time": "2021-11-28T11:45:03.570Z"
   },
   {
    "duration": 8,
    "start_time": "2021-11-28T11:45:03.580Z"
   },
   {
    "duration": 28,
    "start_time": "2021-11-28T11:45:03.591Z"
   },
   {
    "duration": 4,
    "start_time": "2021-11-28T11:45:03.625Z"
   },
   {
    "duration": 11,
    "start_time": "2021-11-28T11:45:03.632Z"
   },
   {
    "duration": 13,
    "start_time": "2021-11-28T11:45:03.646Z"
   },
   {
    "duration": 7,
    "start_time": "2021-11-28T11:45:03.661Z"
   },
   {
    "duration": 12,
    "start_time": "2021-11-28T11:45:03.670Z"
   },
   {
    "duration": 38,
    "start_time": "2021-11-28T11:45:03.685Z"
   },
   {
    "duration": 34,
    "start_time": "2021-11-28T11:45:03.725Z"
   },
   {
    "duration": 64,
    "start_time": "2021-11-28T11:45:03.762Z"
   },
   {
    "duration": 41,
    "start_time": "2021-11-28T11:45:03.828Z"
   },
   {
    "duration": 23,
    "start_time": "2021-11-28T11:45:03.872Z"
   },
   {
    "duration": 7,
    "start_time": "2021-11-28T11:45:03.897Z"
   },
   {
    "duration": 11,
    "start_time": "2021-11-28T11:45:03.906Z"
   },
   {
    "duration": 77,
    "start_time": "2021-11-28T11:45:03.920Z"
   },
   {
    "duration": 1922,
    "start_time": "2021-11-28T11:45:04.000Z"
   },
   {
    "duration": 9,
    "start_time": "2021-11-28T11:45:05.925Z"
   },
   {
    "duration": 31,
    "start_time": "2021-11-28T11:45:05.938Z"
   },
   {
    "duration": 6,
    "start_time": "2021-11-28T11:45:05.972Z"
   },
   {
    "duration": 22,
    "start_time": "2021-11-28T11:45:05.982Z"
   },
   {
    "duration": 26,
    "start_time": "2021-11-28T11:45:06.009Z"
   },
   {
    "duration": 24,
    "start_time": "2021-11-28T11:45:06.038Z"
   },
   {
    "duration": 13,
    "start_time": "2021-11-28T11:45:06.065Z"
   },
   {
    "duration": 9,
    "start_time": "2021-11-28T11:45:06.081Z"
   },
   {
    "duration": 39,
    "start_time": "2021-11-28T11:45:06.092Z"
   },
   {
    "duration": 14,
    "start_time": "2021-11-28T11:45:06.134Z"
   },
   {
    "duration": 12,
    "start_time": "2021-11-28T11:45:06.150Z"
   },
   {
    "duration": 10,
    "start_time": "2021-11-28T11:45:06.164Z"
   },
   {
    "duration": 8,
    "start_time": "2021-11-28T11:45:06.176Z"
   },
   {
    "duration": 12,
    "start_time": "2021-11-28T11:45:06.186Z"
   },
   {
    "duration": 69,
    "start_time": "2021-11-28T11:45:06.200Z"
   },
   {
    "duration": 6,
    "start_time": "2021-11-28T11:45:06.272Z"
   },
   {
    "duration": 438,
    "start_time": "2021-11-28T11:45:06.280Z"
   },
   {
    "duration": 232,
    "start_time": "2021-11-28T11:45:06.488Z"
   },
   {
    "duration": 226,
    "start_time": "2021-11-28T11:45:06.495Z"
   },
   {
    "duration": 222,
    "start_time": "2021-11-28T11:45:06.501Z"
   },
   {
    "duration": 216,
    "start_time": "2021-11-28T11:45:06.508Z"
   },
   {
    "duration": 209,
    "start_time": "2021-11-28T11:45:06.516Z"
   },
   {
    "duration": 205,
    "start_time": "2021-11-28T11:45:06.522Z"
   },
   {
    "duration": 8,
    "start_time": "2021-11-28T11:45:38.150Z"
   },
   {
    "duration": 5,
    "start_time": "2021-11-28T11:45:38.414Z"
   },
   {
    "duration": 5,
    "start_time": "2021-11-28T11:45:38.540Z"
   },
   {
    "duration": 5,
    "start_time": "2021-11-28T11:45:38.678Z"
   },
   {
    "duration": 5,
    "start_time": "2021-11-28T11:45:38.966Z"
   },
   {
    "duration": 5,
    "start_time": "2021-11-28T11:45:39.577Z"
   },
   {
    "duration": 5,
    "start_time": "2021-11-28T11:45:40.204Z"
   },
   {
    "duration": 36,
    "start_time": "2021-11-28T11:45:50.104Z"
   },
   {
    "duration": 5,
    "start_time": "2021-11-28T11:45:50.509Z"
   },
   {
    "duration": 10,
    "start_time": "2021-11-28T11:46:11.485Z"
   },
   {
    "duration": 8,
    "start_time": "2021-11-28T11:47:22.346Z"
   },
   {
    "duration": 9,
    "start_time": "2021-11-28T11:48:44.910Z"
   },
   {
    "duration": 85,
    "start_time": "2021-11-28T11:48:44.930Z"
   },
   {
    "duration": 52,
    "start_time": "2021-11-28T11:48:45.019Z"
   },
   {
    "duration": 16,
    "start_time": "2021-11-28T11:48:45.074Z"
   },
   {
    "duration": 24,
    "start_time": "2021-11-28T11:48:45.093Z"
   },
   {
    "duration": 7,
    "start_time": "2021-11-28T11:48:45.119Z"
   },
   {
    "duration": 17,
    "start_time": "2021-11-28T11:48:45.128Z"
   },
   {
    "duration": 15,
    "start_time": "2021-11-28T11:48:45.147Z"
   },
   {
    "duration": 12,
    "start_time": "2021-11-28T11:48:45.166Z"
   },
   {
    "duration": 8,
    "start_time": "2021-11-28T11:48:45.181Z"
   },
   {
    "duration": 8,
    "start_time": "2021-11-28T11:48:45.192Z"
   },
   {
    "duration": 6,
    "start_time": "2021-11-28T11:48:45.203Z"
   },
   {
    "duration": 10,
    "start_time": "2021-11-28T11:48:45.212Z"
   },
   {
    "duration": 8,
    "start_time": "2021-11-28T11:48:45.224Z"
   },
   {
    "duration": 43,
    "start_time": "2021-11-28T11:48:45.235Z"
   },
   {
    "duration": 18,
    "start_time": "2021-11-28T11:48:45.280Z"
   },
   {
    "duration": 83,
    "start_time": "2021-11-28T11:48:45.301Z"
   },
   {
    "duration": 17,
    "start_time": "2021-11-28T11:48:45.387Z"
   },
   {
    "duration": 18,
    "start_time": "2021-11-28T11:48:45.407Z"
   },
   {
    "duration": 33,
    "start_time": "2021-11-28T11:48:45.427Z"
   },
   {
    "duration": 10,
    "start_time": "2021-11-28T11:48:45.463Z"
   },
   {
    "duration": 55,
    "start_time": "2021-11-28T11:48:45.475Z"
   },
   {
    "duration": 1530,
    "start_time": "2021-11-28T11:48:45.532Z"
   },
   {
    "duration": 9,
    "start_time": "2021-11-28T11:48:47.070Z"
   },
   {
    "duration": 17,
    "start_time": "2021-11-28T11:48:47.083Z"
   },
   {
    "duration": 59,
    "start_time": "2021-11-28T11:48:47.103Z"
   },
   {
    "duration": 11,
    "start_time": "2021-11-28T11:48:47.165Z"
   },
   {
    "duration": 85,
    "start_time": "2021-11-28T11:48:47.179Z"
   },
   {
    "duration": 7,
    "start_time": "2021-11-28T11:48:47.266Z"
   },
   {
    "duration": 11,
    "start_time": "2021-11-28T11:48:47.275Z"
   },
   {
    "duration": 10,
    "start_time": "2021-11-28T11:48:47.288Z"
   },
   {
    "duration": 60,
    "start_time": "2021-11-28T11:48:47.301Z"
   },
   {
    "duration": 5,
    "start_time": "2021-11-28T11:48:47.364Z"
   },
   {
    "duration": 7,
    "start_time": "2021-11-28T11:48:47.371Z"
   },
   {
    "duration": 10,
    "start_time": "2021-11-28T11:48:47.380Z"
   },
   {
    "duration": 9,
    "start_time": "2021-11-28T11:48:47.392Z"
   },
   {
    "duration": 59,
    "start_time": "2021-11-28T11:48:47.403Z"
   },
   {
    "duration": 40,
    "start_time": "2021-11-28T11:48:47.464Z"
   },
   {
    "duration": 54,
    "start_time": "2021-11-28T11:48:47.506Z"
   },
   {
    "duration": 22,
    "start_time": "2021-11-28T11:48:47.563Z"
   },
   {
    "duration": 12,
    "start_time": "2021-11-28T11:48:47.587Z"
   },
   {
    "duration": 6,
    "start_time": "2021-11-28T11:48:47.602Z"
   },
   {
    "duration": 52,
    "start_time": "2021-11-28T11:48:47.611Z"
   },
   {
    "duration": 12,
    "start_time": "2021-11-28T11:48:47.665Z"
   },
   {
    "duration": 7,
    "start_time": "2021-11-28T11:48:47.679Z"
   },
   {
    "duration": 5,
    "start_time": "2021-11-28T11:48:47.689Z"
   },
   {
    "duration": 8,
    "start_time": "2021-11-28T11:48:47.696Z"
   },
   {
    "duration": 229,
    "start_time": "2021-11-28T11:48:47.760Z"
   },
   {
    "duration": 11,
    "start_time": "2021-11-28T11:48:47.992Z"
   },
   {
    "duration": 11,
    "start_time": "2021-11-28T11:48:48.058Z"
   },
   {
    "duration": 315,
    "start_time": "2021-11-28T11:48:48.072Z"
   },
   {
    "duration": 169,
    "start_time": "2021-11-28T11:48:48.390Z"
   },
   {
    "duration": 117,
    "start_time": "2021-11-28T11:48:48.562Z"
   },
   {
    "duration": 31,
    "start_time": "2021-11-28T11:51:41.296Z"
   },
   {
    "duration": 2265,
    "start_time": "2021-11-28T11:52:18.965Z"
   },
   {
    "duration": 4885,
    "start_time": "2021-11-28T11:52:25.361Z"
   },
   {
    "duration": 2151,
    "start_time": "2021-11-28T11:52:31.156Z"
   },
   {
    "duration": 3,
    "start_time": "2021-11-28T12:35:11.283Z"
   },
   {
    "duration": 31,
    "start_time": "2021-11-28T12:37:27.569Z"
   },
   {
    "duration": 374,
    "start_time": "2021-11-28T12:40:05.024Z"
   },
   {
    "duration": 534,
    "start_time": "2021-11-28T12:40:19.635Z"
   },
   {
    "duration": 374,
    "start_time": "2021-11-28T12:40:32.428Z"
   },
   {
    "duration": 431,
    "start_time": "2021-11-28T12:41:14.677Z"
   },
   {
    "duration": 388,
    "start_time": "2021-11-28T12:42:01.080Z"
   },
   {
    "duration": 387,
    "start_time": "2021-11-28T12:42:59.028Z"
   },
   {
    "duration": 13,
    "start_time": "2021-11-28T12:43:24.479Z"
   },
   {
    "duration": 442,
    "start_time": "2021-11-28T12:43:40.291Z"
   },
   {
    "duration": 2910,
    "start_time": "2021-11-28T12:44:58.331Z"
   },
   {
    "duration": 2533,
    "start_time": "2021-11-28T12:45:18.104Z"
   },
   {
    "duration": 379,
    "start_time": "2021-11-28T12:45:20.640Z"
   },
   {
    "duration": 4,
    "start_time": "2021-11-28T12:46:02.038Z"
   },
   {
    "duration": 3,
    "start_time": "2021-11-28T12:46:04.187Z"
   },
   {
    "duration": 3,
    "start_time": "2021-11-28T12:46:04.205Z"
   },
   {
    "duration": 6,
    "start_time": "2021-11-28T12:46:04.211Z"
   },
   {
    "duration": 10,
    "start_time": "2021-11-28T12:46:04.219Z"
   },
   {
    "duration": 17,
    "start_time": "2021-11-28T12:46:04.232Z"
   },
   {
    "duration": 6,
    "start_time": "2021-11-28T12:46:04.252Z"
   },
   {
    "duration": 7,
    "start_time": "2021-11-28T12:46:04.261Z"
   },
   {
    "duration": 6,
    "start_time": "2021-11-28T12:46:04.270Z"
   },
   {
    "duration": 6,
    "start_time": "2021-11-28T12:46:04.278Z"
   },
   {
    "duration": 7,
    "start_time": "2021-11-28T12:46:04.286Z"
   },
   {
    "duration": 6,
    "start_time": "2021-11-28T12:46:04.296Z"
   },
   {
    "duration": 6,
    "start_time": "2021-11-28T12:46:04.305Z"
   },
   {
    "duration": 6,
    "start_time": "2021-11-28T12:46:04.314Z"
   },
   {
    "duration": 41,
    "start_time": "2021-11-28T12:46:04.323Z"
   },
   {
    "duration": 6,
    "start_time": "2021-11-28T12:46:04.368Z"
   },
   {
    "duration": 11,
    "start_time": "2021-11-28T12:46:04.377Z"
   },
   {
    "duration": 42,
    "start_time": "2021-11-28T12:46:04.390Z"
   },
   {
    "duration": 34,
    "start_time": "2021-11-28T12:46:04.435Z"
   },
   {
    "duration": 61,
    "start_time": "2021-11-28T12:46:04.471Z"
   },
   {
    "duration": 41,
    "start_time": "2021-11-28T12:46:04.534Z"
   },
   {
    "duration": 15,
    "start_time": "2021-11-28T12:46:04.578Z"
   },
   {
    "duration": 6,
    "start_time": "2021-11-28T12:46:04.596Z"
   },
   {
    "duration": 11,
    "start_time": "2021-11-28T12:46:04.604Z"
   },
   {
    "duration": 90,
    "start_time": "2021-11-28T12:46:04.617Z"
   },
   {
    "duration": 2662,
    "start_time": "2021-11-28T12:46:04.709Z"
   },
   {
    "duration": 6,
    "start_time": "2021-11-28T12:46:07.374Z"
   },
   {
    "duration": 13,
    "start_time": "2021-11-28T12:46:07.382Z"
   },
   {
    "duration": 4,
    "start_time": "2021-11-28T12:46:07.398Z"
   },
   {
    "duration": 8,
    "start_time": "2021-11-28T12:46:07.404Z"
   },
   {
    "duration": 53,
    "start_time": "2021-11-28T12:46:07.414Z"
   },
   {
    "duration": 6,
    "start_time": "2021-11-28T12:46:07.469Z"
   },
   {
    "duration": 8,
    "start_time": "2021-11-28T12:46:07.477Z"
   },
   {
    "duration": 7,
    "start_time": "2021-11-28T12:46:07.491Z"
   },
   {
    "duration": 6,
    "start_time": "2021-11-28T12:46:07.501Z"
   },
   {
    "duration": 7,
    "start_time": "2021-11-28T12:46:07.509Z"
   },
   {
    "duration": 43,
    "start_time": "2021-11-28T12:46:07.518Z"
   },
   {
    "duration": 12,
    "start_time": "2021-11-28T12:46:07.563Z"
   },
   {
    "duration": 13,
    "start_time": "2021-11-28T12:46:07.578Z"
   },
   {
    "duration": 6,
    "start_time": "2021-11-28T12:46:07.594Z"
   },
   {
    "duration": 63,
    "start_time": "2021-11-28T12:46:07.603Z"
   },
   {
    "duration": 6,
    "start_time": "2021-11-28T12:46:07.668Z"
   },
   {
    "duration": 13,
    "start_time": "2021-11-28T12:46:07.676Z"
   },
   {
    "duration": 10,
    "start_time": "2021-11-28T12:46:07.692Z"
   },
   {
    "duration": 10,
    "start_time": "2021-11-28T12:46:07.705Z"
   },
   {
    "duration": 21,
    "start_time": "2021-11-28T12:46:07.717Z"
   },
   {
    "duration": 26,
    "start_time": "2021-11-28T12:46:07.740Z"
   },
   {
    "duration": 7,
    "start_time": "2021-11-28T12:46:07.769Z"
   },
   {
    "duration": 11,
    "start_time": "2021-11-28T12:46:07.778Z"
   },
   {
    "duration": 17,
    "start_time": "2021-11-28T12:46:07.791Z"
   },
   {
    "duration": 140,
    "start_time": "2021-11-28T12:46:07.811Z"
   },
   {
    "duration": 14,
    "start_time": "2021-11-28T12:46:07.953Z"
   },
   {
    "duration": 260,
    "start_time": "2021-11-28T12:46:07.970Z"
   },
   {
    "duration": 128,
    "start_time": "2021-11-28T12:46:08.232Z"
   },
   {
    "duration": 122,
    "start_time": "2021-11-28T12:46:08.364Z"
   },
   {
    "duration": 378,
    "start_time": "2021-11-28T13:59:59.666Z"
   },
   {
    "duration": 48,
    "start_time": "2021-11-28T14:00:12.805Z"
   },
   {
    "duration": 31,
    "start_time": "2021-11-28T14:00:30.521Z"
   },
   {
    "duration": 30,
    "start_time": "2021-11-28T14:01:20.379Z"
   },
   {
    "duration": 30,
    "start_time": "2021-11-28T14:01:24.377Z"
   },
   {
    "duration": 31,
    "start_time": "2021-11-28T14:01:27.843Z"
   },
   {
    "duration": 29,
    "start_time": "2021-11-28T14:01:31.417Z"
   },
   {
    "duration": 32,
    "start_time": "2021-11-28T14:01:55.235Z"
   },
   {
    "duration": 37,
    "start_time": "2021-11-28T14:01:58.832Z"
   },
   {
    "duration": 30,
    "start_time": "2021-11-28T14:02:02.963Z"
   },
   {
    "duration": 45,
    "start_time": "2021-11-28T14:02:20.480Z"
   },
   {
    "duration": 46,
    "start_time": "2021-11-28T14:03:06.932Z"
   },
   {
    "duration": 47,
    "start_time": "2021-11-28T14:03:07.660Z"
   },
   {
    "duration": 86,
    "start_time": "2021-11-28T14:05:18.875Z"
   },
   {
    "duration": 115,
    "start_time": "2021-11-28T14:05:27.744Z"
   },
   {
    "duration": 79,
    "start_time": "2021-11-28T14:05:30.407Z"
   },
   {
    "duration": 47,
    "start_time": "2021-11-28T14:05:47.848Z"
   },
   {
    "duration": 30,
    "start_time": "2021-11-28T14:07:35.457Z"
   },
   {
    "duration": 29,
    "start_time": "2021-11-28T14:07:45.787Z"
   },
   {
    "duration": 28,
    "start_time": "2021-11-28T14:07:54.728Z"
   },
   {
    "duration": 368,
    "start_time": "2021-11-28T14:10:02.659Z"
   },
   {
    "duration": 362,
    "start_time": "2021-11-28T14:10:09.257Z"
   },
   {
    "duration": 373,
    "start_time": "2021-11-28T14:10:44.988Z"
   },
   {
    "duration": 366,
    "start_time": "2021-11-28T14:11:17.639Z"
   },
   {
    "duration": 9186,
    "start_time": "2021-11-28T14:12:35.616Z"
   },
   {
    "duration": 362,
    "start_time": "2021-11-28T14:12:48.080Z"
   },
   {
    "duration": 8798,
    "start_time": "2021-11-28T14:13:01.607Z"
   },
   {
    "duration": 383,
    "start_time": "2021-11-28T14:13:11.029Z"
   },
   {
    "duration": 363,
    "start_time": "2021-11-28T14:13:30.390Z"
   },
   {
    "duration": 467,
    "start_time": "2021-11-28T14:14:46.526Z"
   },
   {
    "duration": 360,
    "start_time": "2021-11-28T14:15:03.500Z"
   },
   {
    "duration": 4,
    "start_time": "2021-11-28T14:21:03.995Z"
   },
   {
    "duration": 4,
    "start_time": "2021-11-28T14:21:04.011Z"
   },
   {
    "duration": 10,
    "start_time": "2021-11-28T14:21:04.018Z"
   },
   {
    "duration": 6,
    "start_time": "2021-11-28T14:21:04.032Z"
   },
   {
    "duration": 10,
    "start_time": "2021-11-28T14:21:04.041Z"
   },
   {
    "duration": 6,
    "start_time": "2021-11-28T14:21:04.054Z"
   },
   {
    "duration": 12,
    "start_time": "2021-11-28T14:21:04.063Z"
   },
   {
    "duration": 7,
    "start_time": "2021-11-28T14:21:04.077Z"
   },
   {
    "duration": 10,
    "start_time": "2021-11-28T14:21:04.086Z"
   },
   {
    "duration": 5,
    "start_time": "2021-11-28T14:21:04.099Z"
   },
   {
    "duration": 13,
    "start_time": "2021-11-28T14:21:04.107Z"
   },
   {
    "duration": 15,
    "start_time": "2021-11-28T14:21:04.122Z"
   },
   {
    "duration": 21,
    "start_time": "2021-11-28T14:21:04.140Z"
   },
   {
    "duration": 10,
    "start_time": "2021-11-28T14:21:04.164Z"
   },
   {
    "duration": 10,
    "start_time": "2021-11-28T14:21:04.176Z"
   },
   {
    "duration": 8,
    "start_time": "2021-11-28T14:21:04.189Z"
   },
   {
    "duration": 65,
    "start_time": "2021-11-28T14:21:04.199Z"
   },
   {
    "duration": 19,
    "start_time": "2021-11-28T14:21:04.267Z"
   },
   {
    "duration": 97,
    "start_time": "2021-11-28T14:21:04.289Z"
   },
   {
    "duration": 18,
    "start_time": "2021-11-28T14:21:04.388Z"
   },
   {
    "duration": 16,
    "start_time": "2021-11-28T14:21:04.408Z"
   },
   {
    "duration": 36,
    "start_time": "2021-11-28T14:21:04.429Z"
   },
   {
    "duration": 15,
    "start_time": "2021-11-28T14:21:04.469Z"
   },
   {
    "duration": 70,
    "start_time": "2021-11-28T14:21:04.487Z"
   },
   {
    "duration": 2624,
    "start_time": "2021-11-28T14:21:04.559Z"
   },
   {
    "duration": 7,
    "start_time": "2021-11-28T14:21:07.186Z"
   },
   {
    "duration": 63,
    "start_time": "2021-11-28T14:21:07.196Z"
   },
   {
    "duration": 5,
    "start_time": "2021-11-28T14:21:07.262Z"
   },
   {
    "duration": 13,
    "start_time": "2021-11-28T14:21:07.270Z"
   },
   {
    "duration": 73,
    "start_time": "2021-11-28T14:21:07.286Z"
   },
   {
    "duration": 8,
    "start_time": "2021-11-28T14:21:07.362Z"
   },
   {
    "duration": 17,
    "start_time": "2021-11-28T14:21:07.372Z"
   },
   {
    "duration": 14,
    "start_time": "2021-11-28T14:21:07.392Z"
   },
   {
    "duration": 8,
    "start_time": "2021-11-28T14:21:07.408Z"
   },
   {
    "duration": 42,
    "start_time": "2021-11-28T14:21:07.419Z"
   },
   {
    "duration": 10,
    "start_time": "2021-11-28T14:21:07.463Z"
   },
   {
    "duration": 6,
    "start_time": "2021-11-28T14:21:07.475Z"
   },
   {
    "duration": 12,
    "start_time": "2021-11-28T14:21:07.484Z"
   },
   {
    "duration": 10,
    "start_time": "2021-11-28T14:21:07.498Z"
   },
   {
    "duration": 71,
    "start_time": "2021-11-28T14:21:07.510Z"
   },
   {
    "duration": 5,
    "start_time": "2021-11-28T14:21:07.584Z"
   },
   {
    "duration": 17,
    "start_time": "2021-11-28T14:21:07.592Z"
   },
   {
    "duration": 10,
    "start_time": "2021-11-28T14:21:07.611Z"
   },
   {
    "duration": 5,
    "start_time": "2021-11-28T14:21:07.623Z"
   },
   {
    "duration": 30,
    "start_time": "2021-11-28T14:21:07.631Z"
   },
   {
    "duration": 14,
    "start_time": "2021-11-28T14:21:07.663Z"
   },
   {
    "duration": 12,
    "start_time": "2021-11-28T14:21:07.680Z"
   },
   {
    "duration": 13,
    "start_time": "2021-11-28T14:21:07.694Z"
   },
   {
    "duration": 11,
    "start_time": "2021-11-28T14:21:07.710Z"
   },
   {
    "duration": 155,
    "start_time": "2021-11-28T14:21:07.724Z"
   },
   {
    "duration": 15,
    "start_time": "2021-11-28T14:21:07.882Z"
   },
   {
    "duration": 275,
    "start_time": "2021-11-28T14:21:07.900Z"
   },
   {
    "duration": 84,
    "start_time": "2021-11-28T14:21:08.177Z"
   },
   {
    "duration": 120,
    "start_time": "2021-11-28T14:21:08.264Z"
   },
   {
    "duration": 405,
    "start_time": "2021-11-28T14:21:08.387Z"
   },
   {
    "duration": 403,
    "start_time": "2021-11-28T14:21:08.392Z"
   },
   {
    "duration": 396,
    "start_time": "2021-11-28T14:21:08.400Z"
   },
   {
    "duration": 391,
    "start_time": "2021-11-28T14:21:08.407Z"
   },
   {
    "duration": 348,
    "start_time": "2021-11-28T14:21:43.376Z"
   },
   {
    "duration": 359,
    "start_time": "2021-11-28T14:25:14.351Z"
   },
   {
    "duration": 376,
    "start_time": "2021-11-28T14:25:20.920Z"
   },
   {
    "duration": 411,
    "start_time": "2021-11-28T14:25:55.256Z"
   },
   {
    "duration": 384,
    "start_time": "2021-11-28T14:27:18.207Z"
   },
   {
    "duration": 4,
    "start_time": "2021-11-28T14:27:34.245Z"
   },
   {
    "duration": 5,
    "start_time": "2021-11-28T14:27:41.797Z"
   },
   {
    "duration": 400371,
    "start_time": "2021-11-28T14:28:43.056Z"
   },
   {
    "duration": 2660,
    "start_time": "2021-11-28T14:35:23.431Z"
   },
   {
    "duration": 420,
    "start_time": "2021-11-28T14:36:34.021Z"
   },
   {
    "duration": 414,
    "start_time": "2021-11-28T14:36:42.910Z"
   },
   {
    "duration": 445,
    "start_time": "2021-11-28T14:37:45.853Z"
   },
   {
    "duration": 382,
    "start_time": "2021-11-28T14:45:46.812Z"
   },
   {
    "duration": 389,
    "start_time": "2021-11-28T14:45:56.103Z"
   },
   {
    "duration": 367,
    "start_time": "2021-11-28T14:54:34.035Z"
   },
   {
    "duration": 3,
    "start_time": "2021-11-28T14:55:05.752Z"
   },
   {
    "duration": 364,
    "start_time": "2021-11-28T14:55:27.123Z"
   },
   {
    "duration": 200,
    "start_time": "2021-11-28T14:55:33.237Z"
   },
   {
    "duration": 118,
    "start_time": "2021-11-28T14:57:34.275Z"
   },
   {
    "duration": 114,
    "start_time": "2021-11-28T14:58:17.181Z"
   },
   {
    "duration": 118,
    "start_time": "2021-11-28T15:12:34.137Z"
   },
   {
    "duration": 183,
    "start_time": "2021-11-28T15:12:42.379Z"
   },
   {
    "duration": 30,
    "start_time": "2021-11-28T15:12:43.194Z"
   },
   {
    "duration": 114,
    "start_time": "2021-11-28T15:12:44.218Z"
   },
   {
    "duration": 47,
    "start_time": "2021-11-28T16:23:49.713Z"
   },
   {
    "duration": 109,
    "start_time": "2021-11-28T16:23:55.185Z"
   },
   {
    "duration": 674,
    "start_time": "2021-11-29T08:16:58.150Z"
   },
   {
    "duration": 229,
    "start_time": "2021-11-29T08:16:58.826Z"
   },
   {
    "duration": 3,
    "start_time": "2021-11-29T08:16:59.058Z"
   },
   {
    "duration": 46,
    "start_time": "2021-11-29T08:16:59.063Z"
   },
   {
    "duration": 269,
    "start_time": "2021-11-29T08:16:59.111Z"
   },
   {
    "duration": 3,
    "start_time": "2021-11-29T08:16:59.383Z"
   },
   {
    "duration": 45,
    "start_time": "2021-11-29T08:16:59.388Z"
   },
   {
    "duration": 22,
    "start_time": "2021-11-29T08:16:59.437Z"
   },
   {
    "duration": 48,
    "start_time": "2021-11-29T08:16:59.462Z"
   },
   {
    "duration": 2,
    "start_time": "2021-11-29T08:16:59.512Z"
   },
   {
    "duration": 33,
    "start_time": "2021-11-29T08:16:59.516Z"
   },
   {
    "duration": 26,
    "start_time": "2021-11-29T08:16:59.552Z"
   },
   {
    "duration": 110,
    "start_time": "2021-11-29T08:16:59.580Z"
   },
   {
    "duration": 10,
    "start_time": "2021-11-29T08:16:59.692Z"
   },
   {
    "duration": 18,
    "start_time": "2021-11-29T08:16:59.703Z"
   },
   {
    "duration": 23,
    "start_time": "2021-11-29T08:16:59.723Z"
   },
   {
    "duration": 20,
    "start_time": "2021-11-29T08:16:59.748Z"
   },
   {
    "duration": 21,
    "start_time": "2021-11-29T08:16:59.770Z"
   },
   {
    "duration": 43,
    "start_time": "2021-11-29T08:16:59.793Z"
   },
   {
    "duration": 29,
    "start_time": "2021-11-29T08:16:59.837Z"
   },
   {
    "duration": 62,
    "start_time": "2021-11-29T08:16:59.868Z"
   },
   {
    "duration": 16,
    "start_time": "2021-11-29T08:16:59.932Z"
   },
   {
    "duration": 44,
    "start_time": "2021-11-29T08:16:59.953Z"
   },
   {
    "duration": 14,
    "start_time": "2021-11-29T08:17:00.001Z"
   },
   {
    "duration": 23,
    "start_time": "2021-11-29T08:17:00.017Z"
   },
   {
    "duration": 80,
    "start_time": "2021-11-29T08:17:00.042Z"
   },
   {
    "duration": 1870,
    "start_time": "2021-11-29T08:17:00.124Z"
   },
   {
    "duration": 5,
    "start_time": "2021-11-29T08:17:01.996Z"
   },
   {
    "duration": 67,
    "start_time": "2021-11-29T08:17:02.003Z"
   },
   {
    "duration": 33,
    "start_time": "2021-11-29T08:17:02.072Z"
   },
   {
    "duration": 88,
    "start_time": "2021-11-29T08:17:02.107Z"
   },
   {
    "duration": 35,
    "start_time": "2021-11-29T08:17:02.197Z"
   },
   {
    "duration": 47,
    "start_time": "2021-11-29T08:17:02.234Z"
   },
   {
    "duration": 62,
    "start_time": "2021-11-29T08:17:02.282Z"
   },
   {
    "duration": 60,
    "start_time": "2021-11-29T08:17:02.346Z"
   },
   {
    "duration": 33,
    "start_time": "2021-11-29T08:17:02.408Z"
   },
   {
    "duration": 21,
    "start_time": "2021-11-29T08:17:02.443Z"
   },
   {
    "duration": 39,
    "start_time": "2021-11-29T08:17:02.466Z"
   },
   {
    "duration": 57,
    "start_time": "2021-11-29T08:17:02.507Z"
   },
   {
    "duration": 12,
    "start_time": "2021-11-29T08:17:02.566Z"
   },
   {
    "duration": 8,
    "start_time": "2021-11-29T08:17:02.580Z"
   },
   {
    "duration": 41,
    "start_time": "2021-11-29T08:17:02.589Z"
   },
   {
    "duration": 81,
    "start_time": "2021-11-29T08:17:02.632Z"
   },
   {
    "duration": 62,
    "start_time": "2021-11-29T08:17:02.715Z"
   },
   {
    "duration": 61,
    "start_time": "2021-11-29T08:17:02.779Z"
   },
   {
    "duration": 58,
    "start_time": "2021-11-29T08:17:02.842Z"
   },
   {
    "duration": 31,
    "start_time": "2021-11-29T08:17:02.901Z"
   },
   {
    "duration": 27,
    "start_time": "2021-11-29T08:17:02.934Z"
   },
   {
    "duration": 34,
    "start_time": "2021-11-29T08:17:02.962Z"
   },
   {
    "duration": 40,
    "start_time": "2021-11-29T08:17:02.997Z"
   },
   {
    "duration": 34,
    "start_time": "2021-11-29T08:17:03.038Z"
   },
   {
    "duration": 120,
    "start_time": "2021-11-29T08:17:03.074Z"
   },
   {
    "duration": 9,
    "start_time": "2021-11-29T08:17:03.196Z"
   },
   {
    "duration": 207,
    "start_time": "2021-11-29T08:17:03.207Z"
   },
   {
    "duration": 49,
    "start_time": "2021-11-29T08:17:03.416Z"
   },
   {
    "duration": 370,
    "start_time": "2021-11-29T08:17:03.546Z"
   },
   {
    "duration": -605,
    "start_time": "2021-11-29T08:17:04.523Z"
   },
   {
    "duration": -618,
    "start_time": "2021-11-29T08:17:04.537Z"
   },
   {
    "duration": -636,
    "start_time": "2021-11-29T08:17:04.556Z"
   },
   {
    "duration": -850,
    "start_time": "2021-11-29T08:17:04.771Z"
   },
   {
    "duration": 298,
    "start_time": "2021-11-29T08:20:16.091Z"
   },
   {
    "duration": 33,
    "start_time": "2021-11-29T08:20:25.922Z"
   },
   {
    "duration": 78,
    "start_time": "2021-11-29T08:20:29.248Z"
   },
   {
    "duration": 41,
    "start_time": "2021-11-29T08:20:34.895Z"
   },
   {
    "duration": 31,
    "start_time": "2021-11-29T08:20:35.868Z"
   },
   {
    "duration": 75,
    "start_time": "2021-11-29T08:20:36.707Z"
   },
   {
    "duration": 14,
    "start_time": "2021-11-29T08:23:52.103Z"
   },
   {
    "duration": 14,
    "start_time": "2021-11-29T08:24:48.025Z"
   },
   {
    "duration": 2,
    "start_time": "2021-11-29T08:35:12.420Z"
   },
   {
    "duration": 4,
    "start_time": "2021-11-29T08:36:22.043Z"
   },
   {
    "duration": 4,
    "start_time": "2021-11-29T08:38:06.385Z"
   },
   {
    "duration": 20,
    "start_time": "2021-11-29T08:39:07.361Z"
   },
   {
    "duration": 4,
    "start_time": "2021-11-29T08:40:31.579Z"
   },
   {
    "duration": 3,
    "start_time": "2021-11-29T08:41:43.231Z"
   },
   {
    "duration": 22,
    "start_time": "2021-11-29T08:41:43.252Z"
   },
   {
    "duration": 24,
    "start_time": "2021-11-29T08:41:43.276Z"
   },
   {
    "duration": 39,
    "start_time": "2021-11-29T08:41:43.302Z"
   },
   {
    "duration": 27,
    "start_time": "2021-11-29T08:41:43.342Z"
   },
   {
    "duration": 32,
    "start_time": "2021-11-29T08:41:43.371Z"
   },
   {
    "duration": 34,
    "start_time": "2021-11-29T08:41:43.405Z"
   },
   {
    "duration": 39,
    "start_time": "2021-11-29T08:41:43.441Z"
   },
   {
    "duration": 25,
    "start_time": "2021-11-29T08:41:43.482Z"
   },
   {
    "duration": 46,
    "start_time": "2021-11-29T08:41:43.509Z"
   },
   {
    "duration": 36,
    "start_time": "2021-11-29T08:41:43.558Z"
   },
   {
    "duration": 44,
    "start_time": "2021-11-29T08:41:43.597Z"
   },
   {
    "duration": 19,
    "start_time": "2021-11-29T08:41:43.643Z"
   },
   {
    "duration": 19,
    "start_time": "2021-11-29T08:41:43.664Z"
   },
   {
    "duration": 29,
    "start_time": "2021-11-29T08:41:43.685Z"
   },
   {
    "duration": 33,
    "start_time": "2021-11-29T08:41:43.716Z"
   },
   {
    "duration": 24,
    "start_time": "2021-11-29T08:41:43.752Z"
   },
   {
    "duration": 20,
    "start_time": "2021-11-29T08:41:43.779Z"
   },
   {
    "duration": 31,
    "start_time": "2021-11-29T08:41:43.802Z"
   },
   {
    "duration": 53,
    "start_time": "2021-11-29T08:41:43.836Z"
   },
   {
    "duration": 22,
    "start_time": "2021-11-29T08:41:43.892Z"
   },
   {
    "duration": 63,
    "start_time": "2021-11-29T08:41:43.916Z"
   },
   {
    "duration": 14,
    "start_time": "2021-11-29T08:41:43.982Z"
   },
   {
    "duration": 31,
    "start_time": "2021-11-29T08:41:43.998Z"
   },
   {
    "duration": 14,
    "start_time": "2021-11-29T08:41:44.031Z"
   },
   {
    "duration": 14,
    "start_time": "2021-11-29T08:41:44.047Z"
   },
   {
    "duration": 48,
    "start_time": "2021-11-29T08:41:44.062Z"
   },
   {
    "duration": 1713,
    "start_time": "2021-11-29T08:41:44.114Z"
   },
   {
    "duration": 4,
    "start_time": "2021-11-29T08:41:45.830Z"
   },
   {
    "duration": 35,
    "start_time": "2021-11-29T08:41:45.836Z"
   },
   {
    "duration": 20,
    "start_time": "2021-11-29T08:41:45.873Z"
   },
   {
    "duration": 26,
    "start_time": "2021-11-29T08:41:45.895Z"
   },
   {
    "duration": 42,
    "start_time": "2021-11-29T08:41:45.923Z"
   },
   {
    "duration": 28,
    "start_time": "2021-11-29T08:41:45.966Z"
   },
   {
    "duration": 36,
    "start_time": "2021-11-29T08:41:45.996Z"
   },
   {
    "duration": 36,
    "start_time": "2021-11-29T08:41:46.034Z"
   },
   {
    "duration": 21,
    "start_time": "2021-11-29T08:41:46.071Z"
   },
   {
    "duration": 14,
    "start_time": "2021-11-29T08:41:46.094Z"
   },
   {
    "duration": 28,
    "start_time": "2021-11-29T08:41:46.109Z"
   },
   {
    "duration": 36,
    "start_time": "2021-11-29T08:41:46.139Z"
   },
   {
    "duration": 33,
    "start_time": "2021-11-29T08:41:46.177Z"
   },
   {
    "duration": 40,
    "start_time": "2021-11-29T08:41:46.212Z"
   },
   {
    "duration": 45,
    "start_time": "2021-11-29T08:41:46.254Z"
   },
   {
    "duration": 22,
    "start_time": "2021-11-29T08:41:46.301Z"
   },
   {
    "duration": 39,
    "start_time": "2021-11-29T08:41:46.324Z"
   },
   {
    "duration": 28,
    "start_time": "2021-11-29T08:41:46.365Z"
   },
   {
    "duration": 21,
    "start_time": "2021-11-29T08:41:46.395Z"
   },
   {
    "duration": 29,
    "start_time": "2021-11-29T08:41:46.418Z"
   },
   {
    "duration": 23,
    "start_time": "2021-11-29T08:41:46.448Z"
   },
   {
    "duration": 43,
    "start_time": "2021-11-29T08:41:46.472Z"
   },
   {
    "duration": 27,
    "start_time": "2021-11-29T08:41:46.517Z"
   },
   {
    "duration": 17,
    "start_time": "2021-11-29T08:41:46.546Z"
   },
   {
    "duration": 26,
    "start_time": "2021-11-29T08:41:46.565Z"
   },
   {
    "duration": 83,
    "start_time": "2021-11-29T08:41:46.593Z"
   },
   {
    "duration": 8,
    "start_time": "2021-11-29T08:41:46.677Z"
   },
   {
    "duration": 172,
    "start_time": "2021-11-29T08:41:46.686Z"
   },
   {
    "duration": 90,
    "start_time": "2021-11-29T08:41:46.859Z"
   },
   {
    "duration": 123,
    "start_time": "2021-11-29T08:41:46.951Z"
   },
   {
    "duration": 103,
    "start_time": "2021-11-29T08:41:47.076Z"
   },
   {
    "duration": 69,
    "start_time": "2021-11-29T08:41:47.181Z"
   },
   {
    "duration": 211,
    "start_time": "2021-11-29T08:41:47.252Z"
   },
   {
    "duration": 88,
    "start_time": "2021-11-29T08:41:47.465Z"
   },
   {
    "duration": 3,
    "start_time": "2021-11-29T08:41:47.555Z"
   },
   {
    "duration": 43,
    "start_time": "2021-11-29T08:41:47.560Z"
   },
   {
    "duration": 13,
    "start_time": "2021-11-29T08:41:47.604Z"
   },
   {
    "duration": 294,
    "start_time": "2021-11-29T08:41:47.619Z"
   },
   {
    "duration": 14,
    "start_time": "2021-11-29T08:43:13.679Z"
   },
   {
    "duration": 17,
    "start_time": "2021-11-29T08:44:00.271Z"
   },
   {
    "duration": 11,
    "start_time": "2021-11-29T08:44:36.805Z"
   },
   {
    "duration": 28,
    "start_time": "2021-11-29T08:48:17.116Z"
   },
   {
    "duration": 13,
    "start_time": "2021-11-29T08:49:23.041Z"
   },
   {
    "duration": 3,
    "start_time": "2021-11-29T08:49:34.797Z"
   },
   {
    "duration": 17,
    "start_time": "2021-11-29T08:49:34.803Z"
   },
   {
    "duration": 6,
    "start_time": "2021-11-29T08:49:34.823Z"
   },
   {
    "duration": 6,
    "start_time": "2021-11-29T08:49:34.831Z"
   },
   {
    "duration": 5,
    "start_time": "2021-11-29T08:49:34.839Z"
   },
   {
    "duration": 19,
    "start_time": "2021-11-29T08:49:34.845Z"
   },
   {
    "duration": 12,
    "start_time": "2021-11-29T08:49:34.866Z"
   },
   {
    "duration": 15,
    "start_time": "2021-11-29T08:49:34.880Z"
   },
   {
    "duration": 29,
    "start_time": "2021-11-29T08:49:34.898Z"
   },
   {
    "duration": 6,
    "start_time": "2021-11-29T08:49:34.929Z"
   },
   {
    "duration": 11,
    "start_time": "2021-11-29T08:49:34.936Z"
   },
   {
    "duration": 7,
    "start_time": "2021-11-29T08:49:34.949Z"
   },
   {
    "duration": 8,
    "start_time": "2021-11-29T08:49:34.958Z"
   },
   {
    "duration": 9,
    "start_time": "2021-11-29T08:49:34.967Z"
   },
   {
    "duration": 10,
    "start_time": "2021-11-29T08:49:34.977Z"
   },
   {
    "duration": 21,
    "start_time": "2021-11-29T08:49:34.988Z"
   },
   {
    "duration": 20,
    "start_time": "2021-11-29T08:49:35.010Z"
   },
   {
    "duration": 9,
    "start_time": "2021-11-29T08:49:35.032Z"
   },
   {
    "duration": 22,
    "start_time": "2021-11-29T08:49:35.043Z"
   },
   {
    "duration": 38,
    "start_time": "2021-11-29T08:49:35.067Z"
   },
   {
    "duration": 12,
    "start_time": "2021-11-29T08:49:35.107Z"
   },
   {
    "duration": 40,
    "start_time": "2021-11-29T08:49:35.121Z"
   },
   {
    "duration": 10,
    "start_time": "2021-11-29T08:49:35.163Z"
   },
   {
    "duration": 16,
    "start_time": "2021-11-29T08:49:35.175Z"
   },
   {
    "duration": 5,
    "start_time": "2021-11-29T08:49:35.193Z"
   },
   {
    "duration": 8,
    "start_time": "2021-11-29T08:49:35.199Z"
   },
   {
    "duration": 44,
    "start_time": "2021-11-29T08:49:35.211Z"
   },
   {
    "duration": 1907,
    "start_time": "2021-11-29T08:49:35.258Z"
   },
   {
    "duration": 8,
    "start_time": "2021-11-29T08:49:37.166Z"
   },
   {
    "duration": 14,
    "start_time": "2021-11-29T08:49:37.176Z"
   },
   {
    "duration": 12,
    "start_time": "2021-11-29T08:49:37.192Z"
   },
   {
    "duration": 16,
    "start_time": "2021-11-29T08:49:37.206Z"
   },
   {
    "duration": 16,
    "start_time": "2021-11-29T08:49:37.223Z"
   },
   {
    "duration": 4,
    "start_time": "2021-11-29T08:49:37.240Z"
   },
   {
    "duration": 27,
    "start_time": "2021-11-29T08:49:37.246Z"
   },
   {
    "duration": 5,
    "start_time": "2021-11-29T08:49:37.275Z"
   },
   {
    "duration": 12,
    "start_time": "2021-11-29T08:49:37.281Z"
   },
   {
    "duration": 10,
    "start_time": "2021-11-29T08:49:37.295Z"
   },
   {
    "duration": 14,
    "start_time": "2021-11-29T08:49:37.306Z"
   },
   {
    "duration": 15,
    "start_time": "2021-11-29T08:49:37.321Z"
   },
   {
    "duration": 6,
    "start_time": "2021-11-29T08:49:37.338Z"
   },
   {
    "duration": 6,
    "start_time": "2021-11-29T08:49:37.345Z"
   },
   {
    "duration": 6,
    "start_time": "2021-11-29T08:49:37.352Z"
   },
   {
    "duration": 32,
    "start_time": "2021-11-29T08:49:37.359Z"
   },
   {
    "duration": 3,
    "start_time": "2021-11-29T08:49:37.393Z"
   },
   {
    "duration": 20,
    "start_time": "2021-11-29T08:49:37.398Z"
   },
   {
    "duration": 5,
    "start_time": "2021-11-29T08:49:37.420Z"
   },
   {
    "duration": 20,
    "start_time": "2021-11-29T08:49:37.427Z"
   },
   {
    "duration": 12,
    "start_time": "2021-11-29T08:49:37.449Z"
   },
   {
    "duration": 9,
    "start_time": "2021-11-29T08:49:37.463Z"
   },
   {
    "duration": 15,
    "start_time": "2021-11-29T08:49:37.473Z"
   },
   {
    "duration": 6,
    "start_time": "2021-11-29T08:49:37.490Z"
   },
   {
    "duration": 5,
    "start_time": "2021-11-29T08:49:37.498Z"
   },
   {
    "duration": 11,
    "start_time": "2021-11-29T08:49:37.505Z"
   },
   {
    "duration": 15,
    "start_time": "2021-11-29T08:49:37.518Z"
   },
   {
    "duration": 88,
    "start_time": "2021-11-29T08:49:37.535Z"
   },
   {
    "duration": 20,
    "start_time": "2021-11-29T08:49:37.625Z"
   },
   {
    "duration": 148,
    "start_time": "2021-11-29T08:49:37.647Z"
   },
   {
    "duration": 71,
    "start_time": "2021-11-29T08:49:37.797Z"
   },
   {
    "duration": 126,
    "start_time": "2021-11-29T08:49:37.946Z"
   },
   {
    "duration": 101,
    "start_time": "2021-11-29T08:49:38.074Z"
   },
   {
    "duration": 69,
    "start_time": "2021-11-29T08:49:38.177Z"
   },
   {
    "duration": 128,
    "start_time": "2021-11-29T08:49:38.249Z"
   },
   {
    "duration": 79,
    "start_time": "2021-11-29T08:49:38.443Z"
   },
   {
    "duration": 4,
    "start_time": "2021-11-29T08:49:38.523Z"
   },
   {
    "duration": 13,
    "start_time": "2021-11-29T08:49:38.545Z"
   },
   {
    "duration": 6,
    "start_time": "2021-11-29T08:49:38.560Z"
   },
   {
    "duration": 15,
    "start_time": "2021-11-29T08:49:38.568Z"
   },
   {
    "duration": 15,
    "start_time": "2021-11-29T08:51:45.783Z"
   },
   {
    "duration": 3,
    "start_time": "2021-11-29T08:52:46.244Z"
   },
   {
    "duration": 3,
    "start_time": "2021-11-29T08:52:46.260Z"
   },
   {
    "duration": 5,
    "start_time": "2021-11-29T08:52:46.265Z"
   },
   {
    "duration": 5,
    "start_time": "2021-11-29T08:52:46.272Z"
   },
   {
    "duration": 5,
    "start_time": "2021-11-29T08:52:46.278Z"
   },
   {
    "duration": 4,
    "start_time": "2021-11-29T08:52:46.284Z"
   },
   {
    "duration": 4,
    "start_time": "2021-11-29T08:52:46.290Z"
   },
   {
    "duration": 4,
    "start_time": "2021-11-29T08:52:46.297Z"
   },
   {
    "duration": 10,
    "start_time": "2021-11-29T08:52:46.303Z"
   },
   {
    "duration": 6,
    "start_time": "2021-11-29T08:52:46.315Z"
   },
   {
    "duration": 30,
    "start_time": "2021-11-29T08:52:46.322Z"
   },
   {
    "duration": 9,
    "start_time": "2021-11-29T08:52:46.353Z"
   },
   {
    "duration": 6,
    "start_time": "2021-11-29T08:52:46.363Z"
   },
   {
    "duration": 8,
    "start_time": "2021-11-29T08:52:46.371Z"
   },
   {
    "duration": 7,
    "start_time": "2021-11-29T08:52:46.381Z"
   },
   {
    "duration": 18,
    "start_time": "2021-11-29T08:52:46.390Z"
   },
   {
    "duration": 12,
    "start_time": "2021-11-29T08:52:46.410Z"
   },
   {
    "duration": 7,
    "start_time": "2021-11-29T08:52:46.423Z"
   },
   {
    "duration": 5,
    "start_time": "2021-11-29T08:52:46.431Z"
   },
   {
    "duration": 81,
    "start_time": "2021-11-29T08:52:46.438Z"
   },
   {
    "duration": 11,
    "start_time": "2021-11-29T08:52:46.521Z"
   },
   {
    "duration": 42,
    "start_time": "2021-11-29T08:52:46.533Z"
   },
   {
    "duration": 10,
    "start_time": "2021-11-29T08:52:46.576Z"
   },
   {
    "duration": 9,
    "start_time": "2021-11-29T08:52:46.587Z"
   },
   {
    "duration": 3,
    "start_time": "2021-11-29T08:52:46.599Z"
   },
   {
    "duration": 6,
    "start_time": "2021-11-29T08:52:46.604Z"
   },
   {
    "duration": 61,
    "start_time": "2021-11-29T08:52:46.612Z"
   },
   {
    "duration": 1733,
    "start_time": "2021-11-29T08:52:46.675Z"
   },
   {
    "duration": 4,
    "start_time": "2021-11-29T08:52:48.410Z"
   },
   {
    "duration": 12,
    "start_time": "2021-11-29T08:52:48.416Z"
   },
   {
    "duration": 15,
    "start_time": "2021-11-29T08:52:48.429Z"
   },
   {
    "duration": 8,
    "start_time": "2021-11-29T08:52:48.446Z"
   },
   {
    "duration": 16,
    "start_time": "2021-11-29T08:52:48.455Z"
   },
   {
    "duration": 5,
    "start_time": "2021-11-29T08:52:48.472Z"
   },
   {
    "duration": 19,
    "start_time": "2021-11-29T08:52:48.479Z"
   },
   {
    "duration": 6,
    "start_time": "2021-11-29T08:52:48.500Z"
   },
   {
    "duration": 9,
    "start_time": "2021-11-29T08:52:48.507Z"
   },
   {
    "duration": 27,
    "start_time": "2021-11-29T08:52:48.518Z"
   },
   {
    "duration": 4,
    "start_time": "2021-11-29T08:52:48.547Z"
   },
   {
    "duration": 5,
    "start_time": "2021-11-29T08:52:48.552Z"
   },
   {
    "duration": 5,
    "start_time": "2021-11-29T08:52:48.559Z"
   },
   {
    "duration": 8,
    "start_time": "2021-11-29T08:52:48.565Z"
   },
   {
    "duration": 5,
    "start_time": "2021-11-29T08:52:48.574Z"
   },
   {
    "duration": 29,
    "start_time": "2021-11-29T08:52:48.581Z"
   },
   {
    "duration": 4,
    "start_time": "2021-11-29T08:52:48.612Z"
   },
   {
    "duration": 11,
    "start_time": "2021-11-29T08:52:48.647Z"
   },
   {
    "duration": 6,
    "start_time": "2021-11-29T08:52:48.660Z"
   },
   {
    "duration": 16,
    "start_time": "2021-11-29T08:52:48.667Z"
   },
   {
    "duration": 6,
    "start_time": "2021-11-29T08:52:48.684Z"
   },
   {
    "duration": 10,
    "start_time": "2021-11-29T08:52:48.692Z"
   },
   {
    "duration": 6,
    "start_time": "2021-11-29T08:52:48.704Z"
   },
   {
    "duration": 6,
    "start_time": "2021-11-29T08:52:48.712Z"
   },
   {
    "duration": 6,
    "start_time": "2021-11-29T08:52:48.720Z"
   },
   {
    "duration": 19,
    "start_time": "2021-11-29T08:52:48.728Z"
   },
   {
    "duration": 17,
    "start_time": "2021-11-29T08:52:48.748Z"
   },
   {
    "duration": 102,
    "start_time": "2021-11-29T08:52:48.767Z"
   },
   {
    "duration": 8,
    "start_time": "2021-11-29T08:52:48.871Z"
   },
   {
    "duration": 163,
    "start_time": "2021-11-29T08:52:48.881Z"
   },
   {
    "duration": 102,
    "start_time": "2021-11-29T08:52:49.046Z"
   },
   {
    "duration": 120,
    "start_time": "2021-11-29T08:52:49.151Z"
   },
   {
    "duration": 95,
    "start_time": "2021-11-29T08:52:49.273Z"
   },
   {
    "duration": 83,
    "start_time": "2021-11-29T08:52:49.370Z"
   },
   {
    "duration": 118,
    "start_time": "2021-11-29T08:52:49.455Z"
   },
   {
    "duration": 89,
    "start_time": "2021-11-29T08:52:49.575Z"
   },
   {
    "duration": 4,
    "start_time": "2021-11-29T08:52:49.666Z"
   },
   {
    "duration": 20,
    "start_time": "2021-11-29T08:52:49.671Z"
   },
   {
    "duration": 4,
    "start_time": "2021-11-29T08:52:49.692Z"
   },
   {
    "duration": 15,
    "start_time": "2021-11-29T08:52:49.698Z"
   },
   {
    "duration": 3,
    "start_time": "2021-11-29T08:53:23.982Z"
   },
   {
    "duration": 3,
    "start_time": "2021-11-29T08:53:23.997Z"
   },
   {
    "duration": 6,
    "start_time": "2021-11-29T08:53:24.002Z"
   },
   {
    "duration": 6,
    "start_time": "2021-11-29T08:53:24.010Z"
   },
   {
    "duration": 5,
    "start_time": "2021-11-29T08:53:24.017Z"
   },
   {
    "duration": 5,
    "start_time": "2021-11-29T08:53:24.024Z"
   },
   {
    "duration": 5,
    "start_time": "2021-11-29T08:53:24.031Z"
   },
   {
    "duration": 4,
    "start_time": "2021-11-29T08:53:24.039Z"
   },
   {
    "duration": 10,
    "start_time": "2021-11-29T08:53:24.044Z"
   },
   {
    "duration": 8,
    "start_time": "2021-11-29T08:53:24.055Z"
   },
   {
    "duration": 9,
    "start_time": "2021-11-29T08:53:24.064Z"
   },
   {
    "duration": 9,
    "start_time": "2021-11-29T08:53:24.074Z"
   },
   {
    "duration": 8,
    "start_time": "2021-11-29T08:53:24.085Z"
   },
   {
    "duration": 5,
    "start_time": "2021-11-29T08:53:24.095Z"
   },
   {
    "duration": 5,
    "start_time": "2021-11-29T08:53:24.102Z"
   },
   {
    "duration": 5,
    "start_time": "2021-11-29T08:53:24.108Z"
   },
   {
    "duration": 5,
    "start_time": "2021-11-29T08:53:24.115Z"
   },
   {
    "duration": 5,
    "start_time": "2021-11-29T08:53:24.122Z"
   },
   {
    "duration": 4,
    "start_time": "2021-11-29T08:53:24.129Z"
   },
   {
    "duration": 39,
    "start_time": "2021-11-29T08:53:24.135Z"
   },
   {
    "duration": 14,
    "start_time": "2021-11-29T08:53:24.176Z"
   },
   {
    "duration": 55,
    "start_time": "2021-11-29T08:53:24.192Z"
   },
   {
    "duration": 12,
    "start_time": "2021-11-29T08:53:24.252Z"
   },
   {
    "duration": 13,
    "start_time": "2021-11-29T08:53:24.267Z"
   },
   {
    "duration": 6,
    "start_time": "2021-11-29T08:53:24.282Z"
   },
   {
    "duration": 8,
    "start_time": "2021-11-29T08:53:24.290Z"
   },
   {
    "duration": 67,
    "start_time": "2021-11-29T08:53:24.300Z"
   },
   {
    "duration": 1815,
    "start_time": "2021-11-29T08:53:24.369Z"
   },
   {
    "duration": 5,
    "start_time": "2021-11-29T08:53:26.186Z"
   },
   {
    "duration": 20,
    "start_time": "2021-11-29T08:53:26.192Z"
   },
   {
    "duration": 13,
    "start_time": "2021-11-29T08:53:26.213Z"
   },
   {
    "duration": 13,
    "start_time": "2021-11-29T08:53:26.228Z"
   },
   {
    "duration": 14,
    "start_time": "2021-11-29T08:53:26.243Z"
   },
   {
    "duration": 5,
    "start_time": "2021-11-29T08:53:26.258Z"
   },
   {
    "duration": 7,
    "start_time": "2021-11-29T08:53:26.264Z"
   },
   {
    "duration": 8,
    "start_time": "2021-11-29T08:53:26.273Z"
   },
   {
    "duration": 4,
    "start_time": "2021-11-29T08:53:26.283Z"
   },
   {
    "duration": 6,
    "start_time": "2021-11-29T08:53:26.289Z"
   },
   {
    "duration": 6,
    "start_time": "2021-11-29T08:53:26.296Z"
   },
   {
    "duration": 5,
    "start_time": "2021-11-29T08:53:26.304Z"
   },
   {
    "duration": 6,
    "start_time": "2021-11-29T08:53:26.311Z"
   },
   {
    "duration": 5,
    "start_time": "2021-11-29T08:53:26.319Z"
   },
   {
    "duration": 21,
    "start_time": "2021-11-29T08:53:26.325Z"
   },
   {
    "duration": 27,
    "start_time": "2021-11-29T08:53:26.348Z"
   },
   {
    "duration": 4,
    "start_time": "2021-11-29T08:53:26.377Z"
   },
   {
    "duration": 5,
    "start_time": "2021-11-29T08:53:26.382Z"
   },
   {
    "duration": 8,
    "start_time": "2021-11-29T08:53:26.389Z"
   },
   {
    "duration": 5,
    "start_time": "2021-11-29T08:53:26.398Z"
   },
   {
    "duration": 4,
    "start_time": "2021-11-29T08:53:26.407Z"
   },
   {
    "duration": 31,
    "start_time": "2021-11-29T08:53:26.413Z"
   },
   {
    "duration": 4,
    "start_time": "2021-11-29T08:53:26.446Z"
   },
   {
    "duration": 8,
    "start_time": "2021-11-29T08:53:26.451Z"
   },
   {
    "duration": 7,
    "start_time": "2021-11-29T08:53:26.460Z"
   },
   {
    "duration": 6,
    "start_time": "2021-11-29T08:53:26.468Z"
   },
   {
    "duration": 16,
    "start_time": "2021-11-29T08:53:26.476Z"
   },
   {
    "duration": 103,
    "start_time": "2021-11-29T08:53:26.493Z"
   },
   {
    "duration": 8,
    "start_time": "2021-11-29T08:53:26.597Z"
   },
   {
    "duration": 153,
    "start_time": "2021-11-29T08:53:26.606Z"
   },
   {
    "duration": 33,
    "start_time": "2021-11-29T08:53:26.762Z"
   },
   {
    "duration": 123,
    "start_time": "2021-11-29T08:53:26.846Z"
   },
   {
    "duration": 97,
    "start_time": "2021-11-29T08:53:26.971Z"
   },
   {
    "duration": 78,
    "start_time": "2021-11-29T08:53:27.069Z"
   },
   {
    "duration": 123,
    "start_time": "2021-11-29T08:53:27.150Z"
   },
   {
    "duration": 93,
    "start_time": "2021-11-29T08:53:27.274Z"
   },
   {
    "duration": 4,
    "start_time": "2021-11-29T08:53:27.369Z"
   },
   {
    "duration": 19,
    "start_time": "2021-11-29T08:53:27.374Z"
   },
   {
    "duration": 3,
    "start_time": "2021-11-29T08:53:27.395Z"
   },
   {
    "duration": 12,
    "start_time": "2021-11-29T08:53:27.400Z"
   },
   {
    "duration": 3,
    "start_time": "2021-11-29T08:55:07.591Z"
   },
   {
    "duration": 13,
    "start_time": "2021-11-29T08:55:07.610Z"
   },
   {
    "duration": 27,
    "start_time": "2021-11-29T08:55:07.625Z"
   },
   {
    "duration": 18,
    "start_time": "2021-11-29T08:55:07.654Z"
   },
   {
    "duration": 20,
    "start_time": "2021-11-29T08:55:07.674Z"
   },
   {
    "duration": 19,
    "start_time": "2021-11-29T08:55:07.696Z"
   },
   {
    "duration": 29,
    "start_time": "2021-11-29T08:55:07.717Z"
   },
   {
    "duration": 25,
    "start_time": "2021-11-29T08:55:07.748Z"
   },
   {
    "duration": 29,
    "start_time": "2021-11-29T08:55:07.775Z"
   },
   {
    "duration": 17,
    "start_time": "2021-11-29T08:55:07.807Z"
   },
   {
    "duration": 33,
    "start_time": "2021-11-29T08:55:07.827Z"
   },
   {
    "duration": 14,
    "start_time": "2021-11-29T08:55:07.863Z"
   },
   {
    "duration": 25,
    "start_time": "2021-11-29T08:55:07.879Z"
   },
   {
    "duration": 36,
    "start_time": "2021-11-29T08:55:07.906Z"
   },
   {
    "duration": 18,
    "start_time": "2021-11-29T08:55:07.943Z"
   },
   {
    "duration": 31,
    "start_time": "2021-11-29T08:55:07.962Z"
   },
   {
    "duration": 22,
    "start_time": "2021-11-29T08:55:07.995Z"
   },
   {
    "duration": 22,
    "start_time": "2021-11-29T08:55:08.019Z"
   },
   {
    "duration": 26,
    "start_time": "2021-11-29T08:55:08.043Z"
   },
   {
    "duration": 41,
    "start_time": "2021-11-29T08:55:08.071Z"
   },
   {
    "duration": 17,
    "start_time": "2021-11-29T08:55:08.113Z"
   },
   {
    "duration": 43,
    "start_time": "2021-11-29T08:55:08.132Z"
   },
   {
    "duration": 11,
    "start_time": "2021-11-29T08:55:08.176Z"
   },
   {
    "duration": 26,
    "start_time": "2021-11-29T08:55:08.189Z"
   },
   {
    "duration": 22,
    "start_time": "2021-11-29T08:55:08.217Z"
   },
   {
    "duration": 32,
    "start_time": "2021-11-29T08:55:08.240Z"
   },
   {
    "duration": 48,
    "start_time": "2021-11-29T08:55:08.274Z"
   },
   {
    "duration": 1769,
    "start_time": "2021-11-29T08:55:08.326Z"
   },
   {
    "duration": 4,
    "start_time": "2021-11-29T08:55:10.097Z"
   },
   {
    "duration": 33,
    "start_time": "2021-11-29T08:55:10.103Z"
   },
   {
    "duration": 29,
    "start_time": "2021-11-29T08:55:10.138Z"
   },
   {
    "duration": 18,
    "start_time": "2021-11-29T08:55:10.169Z"
   },
   {
    "duration": 38,
    "start_time": "2021-11-29T08:55:10.189Z"
   },
   {
    "duration": 16,
    "start_time": "2021-11-29T08:55:10.229Z"
   },
   {
    "duration": 30,
    "start_time": "2021-11-29T08:55:10.247Z"
   },
   {
    "duration": 33,
    "start_time": "2021-11-29T08:55:10.279Z"
   },
   {
    "duration": 16,
    "start_time": "2021-11-29T08:55:10.313Z"
   },
   {
    "duration": 31,
    "start_time": "2021-11-29T08:55:10.331Z"
   },
   {
    "duration": 30,
    "start_time": "2021-11-29T08:55:10.363Z"
   },
   {
    "duration": 18,
    "start_time": "2021-11-29T08:55:10.395Z"
   },
   {
    "duration": 36,
    "start_time": "2021-11-29T08:55:10.415Z"
   },
   {
    "duration": 23,
    "start_time": "2021-11-29T08:55:10.453Z"
   },
   {
    "duration": 21,
    "start_time": "2021-11-29T08:55:10.478Z"
   },
   {
    "duration": 54,
    "start_time": "2021-11-29T08:55:10.501Z"
   },
   {
    "duration": 17,
    "start_time": "2021-11-29T08:55:10.557Z"
   },
   {
    "duration": 28,
    "start_time": "2021-11-29T08:55:10.575Z"
   },
   {
    "duration": 36,
    "start_time": "2021-11-29T08:55:10.605Z"
   },
   {
    "duration": 26,
    "start_time": "2021-11-29T08:55:10.643Z"
   },
   {
    "duration": 35,
    "start_time": "2021-11-29T08:55:10.671Z"
   },
   {
    "duration": 29,
    "start_time": "2021-11-29T08:55:10.708Z"
   },
   {
    "duration": 32,
    "start_time": "2021-11-29T08:55:10.739Z"
   },
   {
    "duration": 33,
    "start_time": "2021-11-29T08:55:10.773Z"
   },
   {
    "duration": 26,
    "start_time": "2021-11-29T08:55:10.808Z"
   },
   {
    "duration": 27,
    "start_time": "2021-11-29T08:55:10.836Z"
   },
   {
    "duration": 39,
    "start_time": "2021-11-29T08:55:10.865Z"
   },
   {
    "duration": 85,
    "start_time": "2021-11-29T08:55:10.906Z"
   },
   {
    "duration": 9,
    "start_time": "2021-11-29T08:55:10.993Z"
   },
   {
    "duration": 158,
    "start_time": "2021-11-29T08:55:11.003Z"
   },
   {
    "duration": 86,
    "start_time": "2021-11-29T08:55:11.163Z"
   },
   {
    "duration": 32,
    "start_time": "2021-11-29T08:55:11.344Z"
   },
   {
    "duration": 88,
    "start_time": "2021-11-29T08:55:11.378Z"
   },
   {
    "duration": 83,
    "start_time": "2021-11-29T08:55:11.468Z"
   },
   {
    "duration": 115,
    "start_time": "2021-11-29T08:55:11.553Z"
   },
   {
    "duration": 89,
    "start_time": "2021-11-29T08:55:11.670Z"
   },
   {
    "duration": 4,
    "start_time": "2021-11-29T08:55:11.760Z"
   },
   {
    "duration": 53,
    "start_time": "2021-11-29T08:55:11.765Z"
   },
   {
    "duration": 26,
    "start_time": "2021-11-29T08:55:11.820Z"
   },
   {
    "duration": 48,
    "start_time": "2021-11-29T08:55:11.848Z"
   },
   {
    "duration": 3,
    "start_time": "2021-11-29T08:55:28.152Z"
   },
   {
    "duration": 3,
    "start_time": "2021-11-29T08:55:28.168Z"
   },
   {
    "duration": 10,
    "start_time": "2021-11-29T08:55:28.173Z"
   },
   {
    "duration": 5,
    "start_time": "2021-11-29T08:55:28.185Z"
   },
   {
    "duration": 5,
    "start_time": "2021-11-29T08:55:28.191Z"
   },
   {
    "duration": 7,
    "start_time": "2021-11-29T08:55:28.197Z"
   },
   {
    "duration": 5,
    "start_time": "2021-11-29T08:55:28.205Z"
   },
   {
    "duration": 11,
    "start_time": "2021-11-29T08:55:28.211Z"
   },
   {
    "duration": 10,
    "start_time": "2021-11-29T08:55:28.224Z"
   },
   {
    "duration": 5,
    "start_time": "2021-11-29T08:55:28.235Z"
   },
   {
    "duration": 7,
    "start_time": "2021-11-29T08:55:28.241Z"
   },
   {
    "duration": 8,
    "start_time": "2021-11-29T08:55:28.250Z"
   },
   {
    "duration": 17,
    "start_time": "2021-11-29T08:55:28.260Z"
   },
   {
    "duration": 9,
    "start_time": "2021-11-29T08:55:28.279Z"
   },
   {
    "duration": 6,
    "start_time": "2021-11-29T08:55:28.289Z"
   },
   {
    "duration": 4,
    "start_time": "2021-11-29T08:55:28.297Z"
   },
   {
    "duration": 9,
    "start_time": "2021-11-29T08:55:28.303Z"
   },
   {
    "duration": 6,
    "start_time": "2021-11-29T08:55:28.314Z"
   },
   {
    "duration": 7,
    "start_time": "2021-11-29T08:55:28.322Z"
   },
   {
    "duration": 35,
    "start_time": "2021-11-29T08:55:28.331Z"
   },
   {
    "duration": 12,
    "start_time": "2021-11-29T08:55:28.368Z"
   },
   {
    "duration": 41,
    "start_time": "2021-11-29T08:55:28.382Z"
   },
   {
    "duration": 27,
    "start_time": "2021-11-29T08:55:28.425Z"
   },
   {
    "duration": 7,
    "start_time": "2021-11-29T08:55:28.454Z"
   },
   {
    "duration": 12,
    "start_time": "2021-11-29T08:55:28.463Z"
   },
   {
    "duration": 13,
    "start_time": "2021-11-29T08:55:28.477Z"
   },
   {
    "duration": 57,
    "start_time": "2021-11-29T08:55:28.492Z"
   },
   {
    "duration": 1702,
    "start_time": "2021-11-29T08:55:28.552Z"
   },
   {
    "duration": 5,
    "start_time": "2021-11-29T08:55:30.257Z"
   },
   {
    "duration": 17,
    "start_time": "2021-11-29T08:55:30.263Z"
   },
   {
    "duration": 11,
    "start_time": "2021-11-29T08:55:30.282Z"
   },
   {
    "duration": 10,
    "start_time": "2021-11-29T08:55:30.294Z"
   },
   {
    "duration": 19,
    "start_time": "2021-11-29T08:55:30.306Z"
   },
   {
    "duration": 7,
    "start_time": "2021-11-29T08:55:30.326Z"
   },
   {
    "duration": 27,
    "start_time": "2021-11-29T08:55:30.334Z"
   },
   {
    "duration": 8,
    "start_time": "2021-11-29T08:55:30.363Z"
   },
   {
    "duration": 27,
    "start_time": "2021-11-29T08:55:30.372Z"
   },
   {
    "duration": 17,
    "start_time": "2021-11-29T08:55:30.401Z"
   },
   {
    "duration": 20,
    "start_time": "2021-11-29T08:55:30.419Z"
   },
   {
    "duration": 10,
    "start_time": "2021-11-29T08:55:30.441Z"
   },
   {
    "duration": 13,
    "start_time": "2021-11-29T08:55:30.453Z"
   },
   {
    "duration": 17,
    "start_time": "2021-11-29T08:55:30.468Z"
   },
   {
    "duration": 14,
    "start_time": "2021-11-29T08:55:30.486Z"
   },
   {
    "duration": 32,
    "start_time": "2021-11-29T08:55:30.501Z"
   },
   {
    "duration": 4,
    "start_time": "2021-11-29T08:55:30.534Z"
   },
   {
    "duration": 21,
    "start_time": "2021-11-29T08:55:30.540Z"
   },
   {
    "duration": 10,
    "start_time": "2021-11-29T08:55:30.563Z"
   },
   {
    "duration": 12,
    "start_time": "2021-11-29T08:55:30.575Z"
   },
   {
    "duration": 9,
    "start_time": "2021-11-29T08:55:30.588Z"
   },
   {
    "duration": 8,
    "start_time": "2021-11-29T08:55:30.598Z"
   },
   {
    "duration": 12,
    "start_time": "2021-11-29T08:55:30.608Z"
   },
   {
    "duration": 15,
    "start_time": "2021-11-29T08:55:30.622Z"
   },
   {
    "duration": 8,
    "start_time": "2021-11-29T08:55:30.639Z"
   },
   {
    "duration": 13,
    "start_time": "2021-11-29T08:55:30.648Z"
   },
   {
    "duration": 20,
    "start_time": "2021-11-29T08:55:30.663Z"
   },
   {
    "duration": 90,
    "start_time": "2021-11-29T08:55:30.684Z"
   },
   {
    "duration": 9,
    "start_time": "2021-11-29T08:55:30.776Z"
   },
   {
    "duration": 146,
    "start_time": "2021-11-29T08:55:30.787Z"
   },
   {
    "duration": 45,
    "start_time": "2021-11-29T08:55:30.935Z"
   },
   {
    "duration": 123,
    "start_time": "2021-11-29T08:55:31.045Z"
   },
   {
    "duration": 87,
    "start_time": "2021-11-29T08:55:31.170Z"
   },
   {
    "duration": 85,
    "start_time": "2021-11-29T08:55:31.259Z"
   },
   {
    "duration": 121,
    "start_time": "2021-11-29T08:55:31.351Z"
   },
   {
    "duration": 92,
    "start_time": "2021-11-29T08:55:31.474Z"
   },
   {
    "duration": 3,
    "start_time": "2021-11-29T08:55:31.568Z"
   },
   {
    "duration": 20,
    "start_time": "2021-11-29T08:55:31.573Z"
   },
   {
    "duration": 4,
    "start_time": "2021-11-29T08:55:31.594Z"
   },
   {
    "duration": 20,
    "start_time": "2021-11-29T08:55:31.599Z"
   },
   {
    "duration": 2,
    "start_time": "2021-11-29T08:56:37.661Z"
   },
   {
    "duration": 2,
    "start_time": "2021-11-29T08:56:37.683Z"
   },
   {
    "duration": 6,
    "start_time": "2021-11-29T08:56:37.687Z"
   },
   {
    "duration": 10,
    "start_time": "2021-11-29T08:56:37.695Z"
   },
   {
    "duration": 8,
    "start_time": "2021-11-29T08:56:37.706Z"
   },
   {
    "duration": 7,
    "start_time": "2021-11-29T08:56:37.715Z"
   },
   {
    "duration": 8,
    "start_time": "2021-11-29T08:56:37.723Z"
   },
   {
    "duration": 11,
    "start_time": "2021-11-29T08:56:37.733Z"
   },
   {
    "duration": 36,
    "start_time": "2021-11-29T08:56:37.746Z"
   },
   {
    "duration": 10,
    "start_time": "2021-11-29T08:56:37.783Z"
   },
   {
    "duration": 8,
    "start_time": "2021-11-29T08:56:37.795Z"
   },
   {
    "duration": 11,
    "start_time": "2021-11-29T08:56:37.804Z"
   },
   {
    "duration": 5,
    "start_time": "2021-11-29T08:56:37.816Z"
   },
   {
    "duration": 4,
    "start_time": "2021-11-29T08:56:37.823Z"
   },
   {
    "duration": 5,
    "start_time": "2021-11-29T08:56:37.829Z"
   },
   {
    "duration": 10,
    "start_time": "2021-11-29T08:56:37.835Z"
   },
   {
    "duration": 8,
    "start_time": "2021-11-29T08:56:37.846Z"
   },
   {
    "duration": 5,
    "start_time": "2021-11-29T08:56:37.856Z"
   },
   {
    "duration": 8,
    "start_time": "2021-11-29T08:56:37.863Z"
   },
   {
    "duration": 32,
    "start_time": "2021-11-29T08:56:37.872Z"
   },
   {
    "duration": 11,
    "start_time": "2021-11-29T08:56:37.905Z"
   },
   {
    "duration": 40,
    "start_time": "2021-11-29T08:56:37.918Z"
   },
   {
    "duration": 11,
    "start_time": "2021-11-29T08:56:37.959Z"
   },
   {
    "duration": 10,
    "start_time": "2021-11-29T08:56:37.972Z"
   },
   {
    "duration": 18,
    "start_time": "2021-11-29T08:56:37.983Z"
   },
   {
    "duration": 14,
    "start_time": "2021-11-29T08:56:38.003Z"
   },
   {
    "duration": 46,
    "start_time": "2021-11-29T08:56:38.018Z"
   },
   {
    "duration": 1693,
    "start_time": "2021-11-29T08:56:38.066Z"
   },
   {
    "duration": 5,
    "start_time": "2021-11-29T08:56:39.761Z"
   },
   {
    "duration": 25,
    "start_time": "2021-11-29T08:56:39.768Z"
   },
   {
    "duration": 4,
    "start_time": "2021-11-29T08:56:39.795Z"
   },
   {
    "duration": 5,
    "start_time": "2021-11-29T08:56:39.801Z"
   },
   {
    "duration": 33,
    "start_time": "2021-11-29T08:56:39.808Z"
   },
   {
    "duration": 5,
    "start_time": "2021-11-29T08:56:39.843Z"
   },
   {
    "duration": 21,
    "start_time": "2021-11-29T08:56:39.849Z"
   },
   {
    "duration": 6,
    "start_time": "2021-11-29T08:56:39.872Z"
   },
   {
    "duration": 21,
    "start_time": "2021-11-29T08:56:39.880Z"
   },
   {
    "duration": 6,
    "start_time": "2021-11-29T08:56:39.905Z"
   },
   {
    "duration": 8,
    "start_time": "2021-11-29T08:56:39.913Z"
   },
   {
    "duration": 13,
    "start_time": "2021-11-29T08:56:39.923Z"
   },
   {
    "duration": 4,
    "start_time": "2021-11-29T08:56:39.944Z"
   },
   {
    "duration": 8,
    "start_time": "2021-11-29T08:56:39.950Z"
   },
   {
    "duration": 8,
    "start_time": "2021-11-29T08:56:39.960Z"
   },
   {
    "duration": 28,
    "start_time": "2021-11-29T08:56:39.970Z"
   },
   {
    "duration": 5,
    "start_time": "2021-11-29T08:56:40.000Z"
   },
   {
    "duration": 38,
    "start_time": "2021-11-29T08:56:40.007Z"
   },
   {
    "duration": 9,
    "start_time": "2021-11-29T08:56:40.047Z"
   },
   {
    "duration": 5,
    "start_time": "2021-11-29T08:56:40.058Z"
   },
   {
    "duration": 12,
    "start_time": "2021-11-29T08:56:40.065Z"
   },
   {
    "duration": 10,
    "start_time": "2021-11-29T08:56:40.079Z"
   },
   {
    "duration": 9,
    "start_time": "2021-11-29T08:56:40.091Z"
   },
   {
    "duration": 35,
    "start_time": "2021-11-29T08:56:40.101Z"
   },
   {
    "duration": 9,
    "start_time": "2021-11-29T08:56:40.138Z"
   },
   {
    "duration": 41,
    "start_time": "2021-11-29T08:56:40.148Z"
   },
   {
    "duration": 98,
    "start_time": "2021-11-29T08:56:40.191Z"
   },
   {
    "duration": 9,
    "start_time": "2021-11-29T08:56:40.291Z"
   },
   {
    "duration": 161,
    "start_time": "2021-11-29T08:56:40.302Z"
   },
   {
    "duration": 180,
    "start_time": "2021-11-29T08:56:40.465Z"
   },
   {
    "duration": 32,
    "start_time": "2021-11-29T08:56:40.647Z"
   },
   {
    "duration": 95,
    "start_time": "2021-11-29T08:56:40.681Z"
   },
   {
    "duration": 70,
    "start_time": "2021-11-29T08:56:40.778Z"
   },
   {
    "duration": 122,
    "start_time": "2021-11-29T08:56:40.851Z"
   },
   {
    "duration": 106,
    "start_time": "2021-11-29T08:56:40.975Z"
   },
   {
    "duration": 4,
    "start_time": "2021-11-29T08:56:41.083Z"
   },
   {
    "duration": 30,
    "start_time": "2021-11-29T08:56:41.089Z"
   },
   {
    "duration": 4,
    "start_time": "2021-11-29T08:56:41.120Z"
   },
   {
    "duration": 22,
    "start_time": "2021-11-29T08:56:41.126Z"
   },
   {
    "duration": 15,
    "start_time": "2021-11-29T09:01:25.987Z"
   },
   {
    "duration": 4,
    "start_time": "2021-11-29T09:01:26.441Z"
   },
   {
    "duration": 9,
    "start_time": "2021-11-29T09:01:29.241Z"
   },
   {
    "duration": 3,
    "start_time": "2021-11-29T09:01:34.613Z"
   },
   {
    "duration": 42,
    "start_time": "2021-11-29T09:01:34.618Z"
   },
   {
    "duration": 28,
    "start_time": "2021-11-29T09:01:34.662Z"
   },
   {
    "duration": 20,
    "start_time": "2021-11-29T09:01:34.691Z"
   },
   {
    "duration": 19,
    "start_time": "2021-11-29T09:01:34.712Z"
   },
   {
    "duration": 25,
    "start_time": "2021-11-29T09:01:34.733Z"
   },
   {
    "duration": 26,
    "start_time": "2021-11-29T09:01:34.760Z"
   },
   {
    "duration": 33,
    "start_time": "2021-11-29T09:01:34.788Z"
   },
   {
    "duration": 17,
    "start_time": "2021-11-29T09:01:34.824Z"
   },
   {
    "duration": 25,
    "start_time": "2021-11-29T09:01:34.843Z"
   },
   {
    "duration": 14,
    "start_time": "2021-11-29T09:01:34.870Z"
   },
   {
    "duration": 19,
    "start_time": "2021-11-29T09:01:34.886Z"
   },
   {
    "duration": 22,
    "start_time": "2021-11-29T09:01:34.906Z"
   },
   {
    "duration": 13,
    "start_time": "2021-11-29T09:01:34.929Z"
   },
   {
    "duration": 25,
    "start_time": "2021-11-29T09:01:34.944Z"
   },
   {
    "duration": 17,
    "start_time": "2021-11-29T09:01:34.970Z"
   },
   {
    "duration": 18,
    "start_time": "2021-11-29T09:01:34.988Z"
   },
   {
    "duration": 27,
    "start_time": "2021-11-29T09:01:35.008Z"
   },
   {
    "duration": 8,
    "start_time": "2021-11-29T09:01:35.037Z"
   },
   {
    "duration": 36,
    "start_time": "2021-11-29T09:01:35.047Z"
   },
   {
    "duration": 11,
    "start_time": "2021-11-29T09:01:35.085Z"
   },
   {
    "duration": 42,
    "start_time": "2021-11-29T09:01:35.097Z"
   },
   {
    "duration": 11,
    "start_time": "2021-11-29T09:01:35.141Z"
   },
   {
    "duration": 10,
    "start_time": "2021-11-29T09:01:35.153Z"
   },
   {
    "duration": 12,
    "start_time": "2021-11-29T09:01:35.165Z"
   },
   {
    "duration": 16,
    "start_time": "2021-11-29T09:01:35.179Z"
   },
   {
    "duration": 40,
    "start_time": "2021-11-29T09:01:35.199Z"
   },
   {
    "duration": 1737,
    "start_time": "2021-11-29T09:01:35.242Z"
   },
   {
    "duration": 5,
    "start_time": "2021-11-29T09:01:36.980Z"
   },
   {
    "duration": 27,
    "start_time": "2021-11-29T09:01:36.986Z"
   },
   {
    "duration": 24,
    "start_time": "2021-11-29T09:01:37.015Z"
   },
   {
    "duration": 20,
    "start_time": "2021-11-29T09:01:37.040Z"
   },
   {
    "duration": 38,
    "start_time": "2021-11-29T09:01:37.061Z"
   },
   {
    "duration": 22,
    "start_time": "2021-11-29T09:01:37.100Z"
   },
   {
    "duration": 36,
    "start_time": "2021-11-29T09:01:37.124Z"
   },
   {
    "duration": 6,
    "start_time": "2021-11-29T09:01:37.162Z"
   },
   {
    "duration": 23,
    "start_time": "2021-11-29T09:01:37.169Z"
   },
   {
    "duration": 17,
    "start_time": "2021-11-29T09:01:37.194Z"
   },
   {
    "duration": 26,
    "start_time": "2021-11-29T09:01:37.212Z"
   },
   {
    "duration": 23,
    "start_time": "2021-11-29T09:01:37.240Z"
   },
   {
    "duration": 32,
    "start_time": "2021-11-29T09:01:37.265Z"
   },
   {
    "duration": 26,
    "start_time": "2021-11-29T09:01:37.298Z"
   },
   {
    "duration": 33,
    "start_time": "2021-11-29T09:01:37.325Z"
   },
   {
    "duration": 41,
    "start_time": "2021-11-29T09:01:37.359Z"
   },
   {
    "duration": 4,
    "start_time": "2021-11-29T09:01:37.402Z"
   },
   {
    "duration": 24,
    "start_time": "2021-11-29T09:01:37.407Z"
   },
   {
    "duration": 11,
    "start_time": "2021-11-29T09:01:37.433Z"
   },
   {
    "duration": 39,
    "start_time": "2021-11-29T09:01:37.446Z"
   },
   {
    "duration": 18,
    "start_time": "2021-11-29T09:01:37.486Z"
   },
   {
    "duration": 27,
    "start_time": "2021-11-29T09:01:37.506Z"
   },
   {
    "duration": 39,
    "start_time": "2021-11-29T09:01:37.535Z"
   },
   {
    "duration": 17,
    "start_time": "2021-11-29T09:01:37.576Z"
   },
   {
    "duration": 26,
    "start_time": "2021-11-29T09:01:37.595Z"
   },
   {
    "duration": 26,
    "start_time": "2021-11-29T09:01:37.623Z"
   },
   {
    "duration": 93,
    "start_time": "2021-11-29T09:01:37.650Z"
   },
   {
    "duration": 9,
    "start_time": "2021-11-29T09:01:37.745Z"
   },
   {
    "duration": 146,
    "start_time": "2021-11-29T09:01:37.756Z"
   },
   {
    "duration": 46,
    "start_time": "2021-11-29T09:01:37.903Z"
   },
   {
    "duration": 210,
    "start_time": "2021-11-29T09:01:37.952Z"
   },
   {
    "duration": 96,
    "start_time": "2021-11-29T09:01:38.164Z"
   },
   {
    "duration": 39,
    "start_time": "2021-11-29T09:01:38.261Z"
   },
   {
    "duration": 161,
    "start_time": "2021-11-29T09:01:38.304Z"
   },
   {
    "duration": 90,
    "start_time": "2021-11-29T09:01:38.467Z"
   },
   {
    "duration": 4,
    "start_time": "2021-11-29T09:01:38.558Z"
   },
   {
    "duration": 19,
    "start_time": "2021-11-29T09:01:38.564Z"
   },
   {
    "duration": 3,
    "start_time": "2021-11-29T09:01:38.585Z"
   },
   {
    "duration": 13,
    "start_time": "2021-11-29T09:01:38.590Z"
   },
   {
    "duration": 2,
    "start_time": "2021-11-29T09:03:53.504Z"
   },
   {
    "duration": 258,
    "start_time": "2021-11-29T09:23:22.746Z"
   },
   {
    "duration": 87,
    "start_time": "2021-11-29T09:23:42.467Z"
   },
   {
    "duration": 137,
    "start_time": "2021-11-29T09:24:48.311Z"
   },
   {
    "duration": 86,
    "start_time": "2021-11-29T09:25:04.164Z"
   },
   {
    "duration": 308,
    "start_time": "2021-11-29T09:27:22.669Z"
   },
   {
    "duration": 312,
    "start_time": "2021-11-29T09:27:43.964Z"
   },
   {
    "duration": 321,
    "start_time": "2021-11-29T09:28:58.068Z"
   },
   {
    "duration": 56,
    "start_time": "2021-11-29T09:29:17.624Z"
   },
   {
    "duration": 90,
    "start_time": "2021-11-29T09:34:13.656Z"
   },
   {
    "duration": 111,
    "start_time": "2021-11-29T09:34:20.187Z"
   },
   {
    "duration": 265,
    "start_time": "2021-11-29T09:34:32.306Z"
   },
   {
    "duration": 144,
    "start_time": "2021-11-29T09:34:37.025Z"
   },
   {
    "duration": 5,
    "start_time": "2021-11-29T09:46:46.057Z"
   },
   {
    "duration": 282,
    "start_time": "2021-11-29T09:47:48.763Z"
   },
   {
    "duration": 529,
    "start_time": "2021-11-29T09:48:06.696Z"
   },
   {
    "duration": 3,
    "start_time": "2021-11-29T09:48:25.594Z"
   },
   {
    "duration": 3,
    "start_time": "2021-11-29T09:48:25.617Z"
   },
   {
    "duration": 21,
    "start_time": "2021-11-29T09:48:25.622Z"
   },
   {
    "duration": 28,
    "start_time": "2021-11-29T09:48:25.645Z"
   },
   {
    "duration": 21,
    "start_time": "2021-11-29T09:48:25.675Z"
   },
   {
    "duration": 28,
    "start_time": "2021-11-29T09:48:25.697Z"
   },
   {
    "duration": 26,
    "start_time": "2021-11-29T09:48:25.727Z"
   },
   {
    "duration": 21,
    "start_time": "2021-11-29T09:48:25.755Z"
   },
   {
    "duration": 12,
    "start_time": "2021-11-29T09:48:25.778Z"
   },
   {
    "duration": 22,
    "start_time": "2021-11-29T09:48:25.793Z"
   },
   {
    "duration": 17,
    "start_time": "2021-11-29T09:48:25.817Z"
   },
   {
    "duration": 24,
    "start_time": "2021-11-29T09:48:25.836Z"
   },
   {
    "duration": 13,
    "start_time": "2021-11-29T09:48:25.862Z"
   },
   {
    "duration": 22,
    "start_time": "2021-11-29T09:48:25.877Z"
   },
   {
    "duration": 20,
    "start_time": "2021-11-29T09:48:25.901Z"
   },
   {
    "duration": 24,
    "start_time": "2021-11-29T09:48:25.922Z"
   },
   {
    "duration": 22,
    "start_time": "2021-11-29T09:48:25.947Z"
   },
   {
    "duration": 17,
    "start_time": "2021-11-29T09:48:25.970Z"
   },
   {
    "duration": 10,
    "start_time": "2021-11-29T09:48:25.989Z"
   },
   {
    "duration": 55,
    "start_time": "2021-11-29T09:48:26.000Z"
   },
   {
    "duration": 18,
    "start_time": "2021-11-29T09:48:26.057Z"
   },
   {
    "duration": 55,
    "start_time": "2021-11-29T09:48:26.077Z"
   },
   {
    "duration": 14,
    "start_time": "2021-11-29T09:48:26.133Z"
   },
   {
    "duration": 20,
    "start_time": "2021-11-29T09:48:26.149Z"
   },
   {
    "duration": 23,
    "start_time": "2021-11-29T09:48:26.171Z"
   },
   {
    "duration": 21,
    "start_time": "2021-11-29T09:48:26.195Z"
   },
   {
    "duration": 49,
    "start_time": "2021-11-29T09:48:26.220Z"
   },
   {
    "duration": 1713,
    "start_time": "2021-11-29T09:48:26.272Z"
   },
   {
    "duration": 5,
    "start_time": "2021-11-29T09:48:27.986Z"
   },
   {
    "duration": 15,
    "start_time": "2021-11-29T09:48:27.993Z"
   },
   {
    "duration": 5,
    "start_time": "2021-11-29T09:48:28.010Z"
   },
   {
    "duration": 4,
    "start_time": "2021-11-29T09:48:28.017Z"
   },
   {
    "duration": 36,
    "start_time": "2021-11-29T09:48:28.022Z"
   },
   {
    "duration": 6,
    "start_time": "2021-11-29T09:48:28.060Z"
   },
   {
    "duration": 22,
    "start_time": "2021-11-29T09:48:28.068Z"
   },
   {
    "duration": 6,
    "start_time": "2021-11-29T09:48:28.092Z"
   },
   {
    "duration": 9,
    "start_time": "2021-11-29T09:48:28.099Z"
   },
   {
    "duration": 13,
    "start_time": "2021-11-29T09:48:28.109Z"
   },
   {
    "duration": 24,
    "start_time": "2021-11-29T09:48:28.123Z"
   },
   {
    "duration": 6,
    "start_time": "2021-11-29T09:48:28.149Z"
   },
   {
    "duration": 6,
    "start_time": "2021-11-29T09:48:28.156Z"
   },
   {
    "duration": 8,
    "start_time": "2021-11-29T09:48:28.164Z"
   },
   {
    "duration": 6,
    "start_time": "2021-11-29T09:48:28.174Z"
   },
   {
    "duration": 27,
    "start_time": "2021-11-29T09:48:28.182Z"
   },
   {
    "duration": 4,
    "start_time": "2021-11-29T09:48:28.211Z"
   },
   {
    "duration": 8,
    "start_time": "2021-11-29T09:48:28.245Z"
   },
   {
    "duration": 7,
    "start_time": "2021-11-29T09:48:28.254Z"
   },
   {
    "duration": 15,
    "start_time": "2021-11-29T09:48:28.262Z"
   },
   {
    "duration": 10,
    "start_time": "2021-11-29T09:48:28.278Z"
   },
   {
    "duration": 8,
    "start_time": "2021-11-29T09:48:28.289Z"
   },
   {
    "duration": 6,
    "start_time": "2021-11-29T09:48:28.299Z"
   },
   {
    "duration": 6,
    "start_time": "2021-11-29T09:48:28.307Z"
   },
   {
    "duration": 8,
    "start_time": "2021-11-29T09:48:28.314Z"
   },
   {
    "duration": 23,
    "start_time": "2021-11-29T09:48:28.323Z"
   },
   {
    "duration": 78,
    "start_time": "2021-11-29T09:48:28.348Z"
   },
   {
    "duration": 23,
    "start_time": "2021-11-29T09:48:28.427Z"
   },
   {
    "duration": 148,
    "start_time": "2021-11-29T09:48:28.452Z"
   },
   {
    "duration": 145,
    "start_time": "2021-11-29T09:48:28.602Z"
   },
   {
    "duration": 126,
    "start_time": "2021-11-29T09:48:28.749Z"
   },
   {
    "duration": 96,
    "start_time": "2021-11-29T09:48:28.877Z"
   },
   {
    "duration": 169,
    "start_time": "2021-11-29T09:48:28.975Z"
   },
   {
    "duration": 35,
    "start_time": "2021-11-29T09:48:29.146Z"
   },
   {
    "duration": 99,
    "start_time": "2021-11-29T09:48:29.183Z"
   },
   {
    "duration": 3,
    "start_time": "2021-11-29T09:48:29.284Z"
   },
   {
    "duration": 20,
    "start_time": "2021-11-29T09:48:29.289Z"
   },
   {
    "duration": 3,
    "start_time": "2021-11-29T09:48:29.311Z"
   },
   {
    "duration": 28,
    "start_time": "2021-11-29T09:48:29.316Z"
   },
   {
    "duration": 109,
    "start_time": "2021-11-29T09:48:29.346Z"
   },
   {
    "duration": 228,
    "start_time": "2021-11-29T09:48:29.458Z"
   },
   {
    "duration": 153,
    "start_time": "2021-11-29T09:48:29.687Z"
   },
   {
    "duration": 4,
    "start_time": "2021-11-29T09:48:29.842Z"
   },
   {
    "duration": 685,
    "start_time": "2021-11-29T09:48:29.847Z"
   },
   {
    "duration": 572,
    "start_time": "2021-11-29T09:50:00.833Z"
   },
   {
    "duration": 4,
    "start_time": "2021-11-29T09:50:31.686Z"
   },
   {
    "duration": 11,
    "start_time": "2021-11-29T09:50:32.384Z"
   },
   {
    "duration": 327,
    "start_time": "2021-11-29T09:51:24.485Z"
   },
   {
    "duration": 10,
    "start_time": "2021-11-29T09:51:41.991Z"
   },
   {
    "duration": 3,
    "start_time": "2021-11-29T09:52:45.150Z"
   },
   {
    "duration": 19,
    "start_time": "2021-11-29T09:52:45.167Z"
   },
   {
    "duration": 35,
    "start_time": "2021-11-29T09:52:45.188Z"
   },
   {
    "duration": 20,
    "start_time": "2021-11-29T09:52:45.225Z"
   },
   {
    "duration": 29,
    "start_time": "2021-11-29T09:52:45.247Z"
   },
   {
    "duration": 27,
    "start_time": "2021-11-29T09:52:45.278Z"
   },
   {
    "duration": 23,
    "start_time": "2021-11-29T09:52:45.306Z"
   },
   {
    "duration": 25,
    "start_time": "2021-11-29T09:52:45.331Z"
   },
   {
    "duration": 22,
    "start_time": "2021-11-29T09:52:45.358Z"
   },
   {
    "duration": 25,
    "start_time": "2021-11-29T09:52:45.384Z"
   },
   {
    "duration": 27,
    "start_time": "2021-11-29T09:52:45.412Z"
   },
   {
    "duration": 31,
    "start_time": "2021-11-29T09:52:45.442Z"
   },
   {
    "duration": 21,
    "start_time": "2021-11-29T09:52:45.475Z"
   },
   {
    "duration": 26,
    "start_time": "2021-11-29T09:52:45.499Z"
   },
   {
    "duration": 21,
    "start_time": "2021-11-29T09:52:45.527Z"
   },
   {
    "duration": 28,
    "start_time": "2021-11-29T09:52:45.550Z"
   },
   {
    "duration": 20,
    "start_time": "2021-11-29T09:52:45.580Z"
   },
   {
    "duration": 31,
    "start_time": "2021-11-29T09:52:45.602Z"
   },
   {
    "duration": 30,
    "start_time": "2021-11-29T09:52:45.635Z"
   },
   {
    "duration": 40,
    "start_time": "2021-11-29T09:52:45.667Z"
   },
   {
    "duration": 29,
    "start_time": "2021-11-29T09:52:45.708Z"
   },
   {
    "duration": 70,
    "start_time": "2021-11-29T09:52:45.739Z"
   },
   {
    "duration": 10,
    "start_time": "2021-11-29T09:52:45.811Z"
   },
   {
    "duration": 19,
    "start_time": "2021-11-29T09:52:45.823Z"
   },
   {
    "duration": 15,
    "start_time": "2021-11-29T09:52:45.844Z"
   },
   {
    "duration": 28,
    "start_time": "2021-11-29T09:52:45.861Z"
   },
   {
    "duration": 78,
    "start_time": "2021-11-29T09:52:45.891Z"
   },
   {
    "duration": 2570,
    "start_time": "2021-11-29T09:52:45.974Z"
   },
   {
    "duration": 6,
    "start_time": "2021-11-29T09:52:48.547Z"
   },
   {
    "duration": 8,
    "start_time": "2021-11-29T09:52:48.555Z"
   },
   {
    "duration": 5,
    "start_time": "2021-11-29T09:52:48.565Z"
   },
   {
    "duration": 4,
    "start_time": "2021-11-29T09:52:48.572Z"
   },
   {
    "duration": 17,
    "start_time": "2021-11-29T09:52:48.578Z"
   },
   {
    "duration": 7,
    "start_time": "2021-11-29T09:52:48.597Z"
   },
   {
    "duration": 52,
    "start_time": "2021-11-29T09:52:48.606Z"
   },
   {
    "duration": 6,
    "start_time": "2021-11-29T09:52:48.660Z"
   },
   {
    "duration": 18,
    "start_time": "2021-11-29T09:52:48.668Z"
   },
   {
    "duration": 5,
    "start_time": "2021-11-29T09:52:48.688Z"
   },
   {
    "duration": 25,
    "start_time": "2021-11-29T09:52:48.694Z"
   },
   {
    "duration": 8,
    "start_time": "2021-11-29T09:52:48.720Z"
   },
   {
    "duration": 5,
    "start_time": "2021-11-29T09:52:48.730Z"
   },
   {
    "duration": 6,
    "start_time": "2021-11-29T09:52:48.744Z"
   },
   {
    "duration": 6,
    "start_time": "2021-11-29T09:52:48.751Z"
   },
   {
    "duration": 26,
    "start_time": "2021-11-29T09:52:48.759Z"
   },
   {
    "duration": 3,
    "start_time": "2021-11-29T09:52:48.787Z"
   },
   {
    "duration": 9,
    "start_time": "2021-11-29T09:52:48.792Z"
   },
   {
    "duration": 6,
    "start_time": "2021-11-29T09:52:48.802Z"
   },
   {
    "duration": 35,
    "start_time": "2021-11-29T09:52:48.810Z"
   },
   {
    "duration": 4,
    "start_time": "2021-11-29T09:52:48.847Z"
   },
   {
    "duration": 9,
    "start_time": "2021-11-29T09:52:48.852Z"
   },
   {
    "duration": 6,
    "start_time": "2021-11-29T09:52:48.863Z"
   },
   {
    "duration": 5,
    "start_time": "2021-11-29T09:52:48.871Z"
   },
   {
    "duration": 6,
    "start_time": "2021-11-29T09:52:48.878Z"
   },
   {
    "duration": 15,
    "start_time": "2021-11-29T09:52:48.885Z"
   },
   {
    "duration": 125,
    "start_time": "2021-11-29T09:52:48.902Z"
   },
   {
    "duration": 18,
    "start_time": "2021-11-29T09:52:49.029Z"
   },
   {
    "duration": 150,
    "start_time": "2021-11-29T09:52:49.048Z"
   },
   {
    "duration": 56,
    "start_time": "2021-11-29T09:52:49.199Z"
   },
   {
    "duration": 208,
    "start_time": "2021-11-29T09:52:49.257Z"
   },
   {
    "duration": 140,
    "start_time": "2021-11-29T09:52:49.467Z"
   },
   {
    "duration": 70,
    "start_time": "2021-11-29T09:52:49.609Z"
   },
   {
    "duration": 189,
    "start_time": "2021-11-29T09:52:49.681Z"
   },
   {
    "duration": 92,
    "start_time": "2021-11-29T09:52:49.872Z"
   },
   {
    "duration": 4,
    "start_time": "2021-11-29T09:52:49.966Z"
   },
   {
    "duration": 32,
    "start_time": "2021-11-29T09:52:49.971Z"
   },
   {
    "duration": 12,
    "start_time": "2021-11-29T09:52:50.005Z"
   },
   {
    "duration": 130,
    "start_time": "2021-11-29T09:52:50.019Z"
   },
   {
    "duration": 238,
    "start_time": "2021-11-29T09:52:50.152Z"
   },
   {
    "duration": 216,
    "start_time": "2021-11-29T09:52:50.392Z"
   },
   {
    "duration": 6,
    "start_time": "2021-11-29T09:52:50.610Z"
   },
   {
    "duration": 31,
    "start_time": "2021-11-29T09:52:50.617Z"
   },
   {
    "duration": 33,
    "start_time": "2021-11-29T09:52:50.650Z"
   },
   {
    "duration": 111,
    "start_time": "2021-11-29T09:54:33.938Z"
   },
   {
    "duration": 16,
    "start_time": "2021-11-29T09:55:35.071Z"
   },
   {
    "duration": 35,
    "start_time": "2021-11-29T09:56:31.572Z"
   },
   {
    "duration": 88,
    "start_time": "2021-11-29T09:58:49.782Z"
   },
   {
    "duration": 142,
    "start_time": "2021-11-29T09:58:58.583Z"
   },
   {
    "duration": 47,
    "start_time": "2021-11-29T10:05:39.732Z"
   },
   {
    "duration": 58,
    "start_time": "2021-11-29T10:05:42.838Z"
   },
   {
    "duration": 67,
    "start_time": "2021-11-29T10:05:46.128Z"
   },
   {
    "duration": 79,
    "start_time": "2021-11-29T10:05:49.284Z"
   },
   {
    "duration": 106,
    "start_time": "2021-11-29T10:05:52.099Z"
   },
   {
    "duration": 126,
    "start_time": "2021-11-29T10:05:55.531Z"
   },
   {
    "duration": 140,
    "start_time": "2021-11-29T10:05:58.974Z"
   },
   {
    "duration": 218,
    "start_time": "2021-11-29T10:06:05.466Z"
   },
   {
    "duration": 163,
    "start_time": "2021-11-29T10:06:10.087Z"
   },
   {
    "duration": 153,
    "start_time": "2021-11-29T10:06:13.302Z"
   },
   {
    "duration": 141,
    "start_time": "2021-11-29T10:06:17.422Z"
   },
   {
    "duration": 1051,
    "start_time": "2021-11-29T10:06:27.906Z"
   },
   {
    "duration": 143,
    "start_time": "2021-11-29T10:06:38.201Z"
   },
   {
    "duration": 35,
    "start_time": "2021-11-29T11:28:02.914Z"
   },
   {
    "duration": 60,
    "start_time": "2021-11-29T11:28:27.986Z"
   },
   {
    "duration": 5,
    "start_time": "2021-11-29T11:28:41.528Z"
   },
   {
    "duration": 3,
    "start_time": "2021-11-29T11:31:30.553Z"
   },
   {
    "duration": 4,
    "start_time": "2021-11-29T11:31:53.673Z"
   },
   {
    "duration": 328,
    "start_time": "2021-11-29T11:32:31.157Z"
   },
   {
    "duration": 272,
    "start_time": "2021-11-29T11:32:41.604Z"
   },
   {
    "duration": 20,
    "start_time": "2021-11-29T11:32:58.175Z"
   },
   {
    "duration": 35,
    "start_time": "2021-11-29T11:33:42.138Z"
   },
   {
    "duration": 318,
    "start_time": "2021-11-29T11:38:46.807Z"
   },
   {
    "duration": 54,
    "start_time": "2021-11-29T11:40:10.407Z"
   },
   {
    "duration": 53,
    "start_time": "2021-11-29T11:40:31.272Z"
   },
   {
    "duration": 317,
    "start_time": "2021-11-29T11:40:48.801Z"
   },
   {
    "duration": 52,
    "start_time": "2021-11-29T11:40:53.826Z"
   },
   {
    "duration": 274,
    "start_time": "2021-11-29T11:41:52.880Z"
   },
   {
    "duration": 53,
    "start_time": "2021-11-29T11:42:03.549Z"
   },
   {
    "duration": 58,
    "start_time": "2021-11-29T11:42:12.614Z"
   },
   {
    "duration": 355,
    "start_time": "2021-11-29T11:42:31.058Z"
   },
   {
    "duration": 279,
    "start_time": "2021-11-29T11:42:58.414Z"
   },
   {
    "duration": 285,
    "start_time": "2021-11-29T11:43:06.509Z"
   },
   {
    "duration": 283,
    "start_time": "2021-11-29T11:43:19.043Z"
   },
   {
    "duration": 61,
    "start_time": "2021-11-29T11:43:45.402Z"
   },
   {
    "duration": 113,
    "start_time": "2021-11-29T11:44:07.013Z"
   },
   {
    "duration": 94,
    "start_time": "2021-11-29T11:44:19.803Z"
   },
   {
    "duration": 302,
    "start_time": "2021-11-29T11:44:23.497Z"
   },
   {
    "duration": 53,
    "start_time": "2021-11-29T11:45:20.500Z"
   },
   {
    "duration": 72,
    "start_time": "2021-11-29T11:45:28.438Z"
   },
   {
    "duration": 211,
    "start_time": "2021-11-29T11:46:07.336Z"
   },
   {
    "duration": 97,
    "start_time": "2021-11-29T11:46:49.348Z"
   },
   {
    "duration": 307,
    "start_time": "2021-11-29T11:46:53.753Z"
   },
   {
    "duration": 313,
    "start_time": "2021-11-29T11:47:23.698Z"
   },
   {
    "duration": 304,
    "start_time": "2021-11-29T11:48:14.614Z"
   },
   {
    "duration": 214,
    "start_time": "2021-11-29T11:49:52.208Z"
   },
   {
    "duration": 215,
    "start_time": "2021-11-29T11:50:01.655Z"
   },
   {
    "duration": 218,
    "start_time": "2021-11-29T11:50:14.314Z"
   },
   {
    "duration": 511,
    "start_time": "2021-11-29T11:50:48.024Z"
   },
   {
    "duration": 543,
    "start_time": "2021-11-29T11:51:02.258Z"
   },
   {
    "duration": 508,
    "start_time": "2021-11-29T11:51:11.299Z"
   },
   {
    "duration": -831,
    "start_time": "2021-11-29T11:51:43.786Z"
   },
   {
    "duration": 463,
    "start_time": "2021-11-29T11:52:04.819Z"
   },
   {
    "duration": 205,
    "start_time": "2021-11-29T11:52:18.424Z"
   },
   {
    "duration": 346,
    "start_time": "2021-11-29T11:52:28.640Z"
   },
   {
    "duration": 63,
    "start_time": "2021-11-29T11:53:13.321Z"
   },
   {
    "duration": 63,
    "start_time": "2021-11-29T11:53:24.572Z"
   },
   {
    "duration": 53,
    "start_time": "2021-11-29T11:53:49.473Z"
   },
   {
    "duration": 42,
    "start_time": "2021-11-29T11:54:07.821Z"
   },
   {
    "duration": 48,
    "start_time": "2021-11-29T11:54:26.331Z"
   },
   {
    "duration": 223,
    "start_time": "2021-11-29T11:54:36.199Z"
   },
   {
    "duration": 209,
    "start_time": "2021-11-29T11:54:48.262Z"
   },
   {
    "duration": 219,
    "start_time": "2021-11-29T11:55:20.475Z"
   },
   {
    "duration": 302,
    "start_time": "2021-11-29T11:55:47.588Z"
   },
   {
    "duration": 543,
    "start_time": "2021-11-29T16:31:14.515Z"
   },
   {
    "duration": 236,
    "start_time": "2021-11-29T16:31:15.060Z"
   },
   {
    "duration": 3,
    "start_time": "2021-11-29T16:31:15.298Z"
   },
   {
    "duration": 5,
    "start_time": "2021-11-29T16:31:15.302Z"
   },
   {
    "duration": 229,
    "start_time": "2021-11-29T16:31:15.309Z"
   },
   {
    "duration": 3,
    "start_time": "2021-11-29T16:31:15.540Z"
   },
   {
    "duration": 8,
    "start_time": "2021-11-29T16:31:15.544Z"
   },
   {
    "duration": 4,
    "start_time": "2021-11-29T16:31:15.555Z"
   },
   {
    "duration": 33,
    "start_time": "2021-11-29T16:31:15.561Z"
   },
   {
    "duration": 3,
    "start_time": "2021-11-29T16:31:15.596Z"
   },
   {
    "duration": 5,
    "start_time": "2021-11-29T16:31:15.600Z"
   },
   {
    "duration": 4,
    "start_time": "2021-11-29T16:31:15.607Z"
   },
   {
    "duration": 90,
    "start_time": "2021-11-29T16:31:15.613Z"
   },
   {
    "duration": 10,
    "start_time": "2021-11-29T16:31:15.705Z"
   },
   {
    "duration": 3,
    "start_time": "2021-11-29T16:31:15.716Z"
   },
   {
    "duration": 4,
    "start_time": "2021-11-29T16:31:15.721Z"
   },
   {
    "duration": 4,
    "start_time": "2021-11-29T16:31:15.726Z"
   },
   {
    "duration": 4,
    "start_time": "2021-11-29T16:31:15.732Z"
   },
   {
    "duration": 5,
    "start_time": "2021-11-29T16:31:15.737Z"
   },
   {
    "duration": 50,
    "start_time": "2021-11-29T16:31:15.743Z"
   },
   {
    "duration": 16,
    "start_time": "2021-11-29T16:31:15.794Z"
   },
   {
    "duration": 40,
    "start_time": "2021-11-29T16:31:15.812Z"
   },
   {
    "duration": 36,
    "start_time": "2021-11-29T16:31:15.857Z"
   },
   {
    "duration": 9,
    "start_time": "2021-11-29T16:31:15.896Z"
   },
   {
    "duration": 4,
    "start_time": "2021-11-29T16:31:15.907Z"
   },
   {
    "duration": 6,
    "start_time": "2021-11-29T16:31:15.913Z"
   },
   {
    "duration": 37,
    "start_time": "2021-11-29T16:31:15.921Z"
   },
   {
    "duration": 1805,
    "start_time": "2021-11-29T16:31:15.959Z"
   },
   {
    "duration": 7,
    "start_time": "2021-11-29T16:31:17.766Z"
   },
   {
    "duration": 21,
    "start_time": "2021-11-29T16:31:17.774Z"
   },
   {
    "duration": 4,
    "start_time": "2021-11-29T16:31:17.797Z"
   },
   {
    "duration": 6,
    "start_time": "2021-11-29T16:31:17.802Z"
   },
   {
    "duration": 16,
    "start_time": "2021-11-29T16:31:17.810Z"
   },
   {
    "duration": 5,
    "start_time": "2021-11-29T16:31:17.827Z"
   },
   {
    "duration": 20,
    "start_time": "2021-11-29T16:31:17.834Z"
   },
   {
    "duration": 6,
    "start_time": "2021-11-29T16:31:17.855Z"
   },
   {
    "duration": 34,
    "start_time": "2021-11-29T16:31:17.862Z"
   },
   {
    "duration": 5,
    "start_time": "2021-11-29T16:31:17.898Z"
   },
   {
    "duration": 4,
    "start_time": "2021-11-29T16:31:17.905Z"
   },
   {
    "duration": 6,
    "start_time": "2021-11-29T16:31:17.911Z"
   },
   {
    "duration": 4,
    "start_time": "2021-11-29T16:31:17.919Z"
   },
   {
    "duration": 5,
    "start_time": "2021-11-29T16:31:17.925Z"
   },
   {
    "duration": 4,
    "start_time": "2021-11-29T16:31:17.932Z"
   },
   {
    "duration": 69,
    "start_time": "2021-11-29T16:31:17.938Z"
   },
   {
    "duration": 4,
    "start_time": "2021-11-29T16:31:18.009Z"
   },
   {
    "duration": 9,
    "start_time": "2021-11-29T16:31:18.015Z"
   },
   {
    "duration": 6,
    "start_time": "2021-11-29T16:31:18.026Z"
   },
   {
    "duration": 7,
    "start_time": "2021-11-29T16:31:18.033Z"
   },
   {
    "duration": 6,
    "start_time": "2021-11-29T16:31:18.042Z"
   },
   {
    "duration": 4,
    "start_time": "2021-11-29T16:31:18.050Z"
   },
   {
    "duration": 4,
    "start_time": "2021-11-29T16:31:18.055Z"
   },
   {
    "duration": 34,
    "start_time": "2021-11-29T16:31:18.061Z"
   },
   {
    "duration": 6,
    "start_time": "2021-11-29T16:31:18.097Z"
   },
   {
    "duration": 19,
    "start_time": "2021-11-29T16:31:18.105Z"
   },
   {
    "duration": 107,
    "start_time": "2021-11-29T16:31:18.125Z"
   },
   {
    "duration": 9,
    "start_time": "2021-11-29T16:31:18.234Z"
   },
   {
    "duration": 174,
    "start_time": "2021-11-29T16:31:18.244Z"
   },
   {
    "duration": 77,
    "start_time": "2021-11-29T16:31:18.420Z"
   },
   {
    "duration": 129,
    "start_time": "2021-11-29T16:31:18.498Z"
   },
   {
    "duration": 104,
    "start_time": "2021-11-29T16:31:18.629Z"
   },
   {
    "duration": 65,
    "start_time": "2021-11-29T16:31:18.735Z"
   },
   {
    "duration": 190,
    "start_time": "2021-11-29T16:31:18.802Z"
   },
   {
    "duration": 71,
    "start_time": "2021-11-29T16:31:18.994Z"
   },
   {
    "duration": 4,
    "start_time": "2021-11-29T16:31:19.067Z"
   },
   {
    "duration": 32,
    "start_time": "2021-11-29T16:31:19.073Z"
   },
   {
    "duration": 10,
    "start_time": "2021-11-29T16:31:19.107Z"
   },
   {
    "duration": 176,
    "start_time": "2021-11-29T16:31:19.118Z"
   },
   {
    "duration": 137,
    "start_time": "2021-11-29T16:31:19.301Z"
   },
   {
    "duration": 153,
    "start_time": "2021-11-29T16:31:19.440Z"
   },
   {
    "duration": 4,
    "start_time": "2021-11-29T16:31:19.595Z"
   },
   {
    "duration": 271,
    "start_time": "2021-11-29T16:31:19.601Z"
   },
   {
    "duration": -14,
    "start_time": "2021-11-29T16:31:19.888Z"
   },
   {
    "duration": -22,
    "start_time": "2021-11-29T16:31:19.897Z"
   },
   {
    "duration": -33,
    "start_time": "2021-11-29T16:31:19.909Z"
   },
   {
    "duration": -43,
    "start_time": "2021-11-29T16:31:19.920Z"
   },
   {
    "duration": -52,
    "start_time": "2021-11-29T16:31:19.931Z"
   },
   {
    "duration": -60,
    "start_time": "2021-11-29T16:31:19.940Z"
   },
   {
    "duration": -86,
    "start_time": "2021-11-29T16:31:19.967Z"
   },
   {
    "duration": -94,
    "start_time": "2021-11-29T16:31:19.976Z"
   },
   {
    "duration": 11,
    "start_time": "2021-11-29T16:31:43.186Z"
   },
   {
    "duration": 176,
    "start_time": "2021-11-29T16:31:44.812Z"
   },
   {
    "duration": 16,
    "start_time": "2021-11-29T16:31:45.261Z"
   },
   {
    "duration": 9,
    "start_time": "2021-11-29T16:31:51.109Z"
   },
   {
    "duration": 18,
    "start_time": "2021-11-29T16:31:52.668Z"
   },
   {
    "duration": 15,
    "start_time": "2021-11-29T16:31:53.372Z"
   },
   {
    "duration": 53,
    "start_time": "2021-11-29T16:31:55.623Z"
   },
   {
    "duration": 46,
    "start_time": "2021-11-29T16:31:56.957Z"
   },
   {
    "duration": 3,
    "start_time": "2021-11-29T16:31:57.192Z"
   },
   {
    "duration": 4,
    "start_time": "2021-11-29T16:31:57.329Z"
   },
   {
    "duration": 213,
    "start_time": "2021-11-29T16:31:57.759Z"
   },
   {
    "duration": 268,
    "start_time": "2021-11-29T16:34:55.500Z"
   },
   {
    "duration": 30,
    "start_time": "2021-11-29T16:35:10.379Z"
   },
   {
    "duration": 3,
    "start_time": "2021-11-29T16:35:34.801Z"
   },
   {
    "duration": 173,
    "start_time": "2021-11-29T16:36:09.355Z"
   },
   {
    "duration": 33,
    "start_time": "2021-11-29T16:36:24.905Z"
   },
   {
    "duration": 2,
    "start_time": "2021-11-29T16:36:25.169Z"
   },
   {
    "duration": 172,
    "start_time": "2021-11-29T16:36:25.581Z"
   },
   {
    "duration": 269,
    "start_time": "2021-11-29T16:36:49.104Z"
   },
   {
    "duration": 793,
    "start_time": "2021-11-29T16:36:48.582Z"
   },
   {
    "duration": 2,
    "start_time": "2021-11-29T16:36:58.527Z"
   },
   {
    "duration": 3,
    "start_time": "2021-11-29T16:36:58.548Z"
   },
   {
    "duration": 5,
    "start_time": "2021-11-29T16:36:58.553Z"
   },
   {
    "duration": 5,
    "start_time": "2021-11-29T16:36:58.560Z"
   },
   {
    "duration": 5,
    "start_time": "2021-11-29T16:36:58.567Z"
   },
   {
    "duration": 9,
    "start_time": "2021-11-29T16:36:58.573Z"
   },
   {
    "duration": 5,
    "start_time": "2021-11-29T16:36:58.584Z"
   },
   {
    "duration": 6,
    "start_time": "2021-11-29T16:36:58.590Z"
   },
   {
    "duration": 5,
    "start_time": "2021-11-29T16:36:58.597Z"
   },
   {
    "duration": 4,
    "start_time": "2021-11-29T16:36:58.604Z"
   },
   {
    "duration": 6,
    "start_time": "2021-11-29T16:36:58.610Z"
   },
   {
    "duration": 5,
    "start_time": "2021-11-29T16:36:58.617Z"
   },
   {
    "duration": 8,
    "start_time": "2021-11-29T16:36:58.625Z"
   },
   {
    "duration": 7,
    "start_time": "2021-11-29T16:36:58.635Z"
   },
   {
    "duration": 7,
    "start_time": "2021-11-29T16:36:58.644Z"
   },
   {
    "duration": 5,
    "start_time": "2021-11-29T16:36:58.652Z"
   },
   {
    "duration": 5,
    "start_time": "2021-11-29T16:36:58.659Z"
   },
   {
    "duration": 10,
    "start_time": "2021-11-29T16:36:58.666Z"
   },
   {
    "duration": 14,
    "start_time": "2021-11-29T16:36:58.678Z"
   },
   {
    "duration": 32,
    "start_time": "2021-11-29T16:36:58.694Z"
   },
   {
    "duration": 12,
    "start_time": "2021-11-29T16:36:58.728Z"
   },
   {
    "duration": 52,
    "start_time": "2021-11-29T16:36:58.742Z"
   },
   {
    "duration": 11,
    "start_time": "2021-11-29T16:36:58.795Z"
   },
   {
    "duration": 14,
    "start_time": "2021-11-29T16:36:58.807Z"
   },
   {
    "duration": 4,
    "start_time": "2021-11-29T16:36:58.822Z"
   },
   {
    "duration": 5,
    "start_time": "2021-11-29T16:36:58.829Z"
   },
   {
    "duration": 60,
    "start_time": "2021-11-29T16:36:58.837Z"
   },
   {
    "duration": 1680,
    "start_time": "2021-11-29T16:36:58.899Z"
   },
   {
    "duration": 5,
    "start_time": "2021-11-29T16:37:00.581Z"
   },
   {
    "duration": 9,
    "start_time": "2021-11-29T16:37:00.591Z"
   },
   {
    "duration": 4,
    "start_time": "2021-11-29T16:37:00.602Z"
   },
   {
    "duration": 12,
    "start_time": "2021-11-29T16:37:00.608Z"
   },
   {
    "duration": 31,
    "start_time": "2021-11-29T16:37:00.622Z"
   },
   {
    "duration": 6,
    "start_time": "2021-11-29T16:37:00.655Z"
   },
   {
    "duration": 28,
    "start_time": "2021-11-29T16:37:00.663Z"
   },
   {
    "duration": 5,
    "start_time": "2021-11-29T16:37:00.693Z"
   },
   {
    "duration": 8,
    "start_time": "2021-11-29T16:37:00.700Z"
   },
   {
    "duration": 9,
    "start_time": "2021-11-29T16:37:00.710Z"
   },
   {
    "duration": 6,
    "start_time": "2021-11-29T16:37:00.721Z"
   },
   {
    "duration": 12,
    "start_time": "2021-11-29T16:37:00.729Z"
   },
   {
    "duration": 14,
    "start_time": "2021-11-29T16:37:00.742Z"
   },
   {
    "duration": 11,
    "start_time": "2021-11-29T16:37:00.757Z"
   },
   {
    "duration": 11,
    "start_time": "2021-11-29T16:37:00.770Z"
   },
   {
    "duration": 30,
    "start_time": "2021-11-29T16:37:00.782Z"
   },
   {
    "duration": 4,
    "start_time": "2021-11-29T16:37:00.813Z"
   },
   {
    "duration": 19,
    "start_time": "2021-11-29T16:37:00.821Z"
   },
   {
    "duration": 16,
    "start_time": "2021-11-29T16:37:00.843Z"
   },
   {
    "duration": 6,
    "start_time": "2021-11-29T16:37:00.861Z"
   },
   {
    "duration": 8,
    "start_time": "2021-11-29T16:37:00.868Z"
   },
   {
    "duration": 9,
    "start_time": "2021-11-29T16:37:00.877Z"
   },
   {
    "duration": 17,
    "start_time": "2021-11-29T16:37:00.888Z"
   },
   {
    "duration": 13,
    "start_time": "2021-11-29T16:37:00.907Z"
   },
   {
    "duration": 12,
    "start_time": "2021-11-29T16:37:00.922Z"
   },
   {
    "duration": 24,
    "start_time": "2021-11-29T16:37:00.936Z"
   },
   {
    "duration": 85,
    "start_time": "2021-11-29T16:37:00.963Z"
   },
   {
    "duration": 8,
    "start_time": "2021-11-29T16:37:01.050Z"
   },
   {
    "duration": 166,
    "start_time": "2021-11-29T16:37:01.059Z"
   },
   {
    "duration": 69,
    "start_time": "2021-11-29T16:37:01.227Z"
   },
   {
    "duration": 119,
    "start_time": "2021-11-29T16:37:01.300Z"
   },
   {
    "duration": 96,
    "start_time": "2021-11-29T16:37:01.421Z"
   },
   {
    "duration": 75,
    "start_time": "2021-11-29T16:37:01.519Z"
   },
   {
    "duration": 124,
    "start_time": "2021-11-29T16:37:01.596Z"
   },
   {
    "duration": 87,
    "start_time": "2021-11-29T16:37:01.722Z"
   },
   {
    "duration": 4,
    "start_time": "2021-11-29T16:37:01.810Z"
   },
   {
    "duration": 21,
    "start_time": "2021-11-29T16:37:01.816Z"
   },
   {
    "duration": 10,
    "start_time": "2021-11-29T16:37:01.839Z"
   },
   {
    "duration": 148,
    "start_time": "2021-11-29T16:37:01.850Z"
   },
   {
    "duration": 192,
    "start_time": "2021-11-29T16:37:02.000Z"
   },
   {
    "duration": 153,
    "start_time": "2021-11-29T16:37:02.194Z"
   },
   {
    "duration": 5,
    "start_time": "2021-11-29T16:37:02.350Z"
   },
   {
    "duration": 16,
    "start_time": "2021-11-29T16:37:02.357Z"
   },
   {
    "duration": 22,
    "start_time": "2021-11-29T16:37:02.375Z"
   },
   {
    "duration": 18,
    "start_time": "2021-11-29T16:37:02.399Z"
   },
   {
    "duration": 175,
    "start_time": "2021-11-29T16:37:02.418Z"
   },
   {
    "duration": 35,
    "start_time": "2021-11-29T16:37:02.595Z"
   },
   {
    "duration": 60,
    "start_time": "2021-11-29T16:37:02.632Z"
   },
   {
    "duration": 4,
    "start_time": "2021-11-29T16:37:02.694Z"
   },
   {
    "duration": 96,
    "start_time": "2021-11-29T16:37:02.700Z"
   },
   {
    "duration": 228,
    "start_time": "2021-11-29T16:37:02.798Z"
   },
   {
    "duration": 30,
    "start_time": "2021-11-29T16:37:03.028Z"
   },
   {
    "duration": 2,
    "start_time": "2021-11-29T16:37:03.060Z"
   },
   {
    "duration": 248,
    "start_time": "2021-11-29T16:37:03.063Z"
   },
   {
    "duration": 4,
    "start_time": "2021-11-29T16:37:20.576Z"
   },
   {
    "duration": 4,
    "start_time": "2021-11-29T16:37:48.735Z"
   },
   {
    "duration": 277,
    "start_time": "2021-11-29T16:38:41.351Z"
   },
   {
    "duration": 30,
    "start_time": "2021-11-29T16:38:44.241Z"
   },
   {
    "duration": 3,
    "start_time": "2021-11-29T16:38:44.403Z"
   },
   {
    "duration": 4,
    "start_time": "2021-11-29T16:38:44.551Z"
   },
   {
    "duration": 210,
    "start_time": "2021-11-29T16:38:45.187Z"
   },
   {
    "duration": 4,
    "start_time": "2021-11-29T16:39:08.676Z"
   },
   {
    "duration": 5,
    "start_time": "2021-11-29T16:39:32.588Z"
   },
   {
    "duration": 173,
    "start_time": "2021-11-29T16:40:15.542Z"
   },
   {
    "duration": 5,
    "start_time": "2021-11-29T16:40:20.457Z"
   },
   {
    "duration": 5,
    "start_time": "2021-11-29T16:41:27.664Z"
   },
   {
    "duration": 6,
    "start_time": "2021-11-29T16:41:33.629Z"
   },
   {
    "duration": 8,
    "start_time": "2021-11-29T16:41:37.953Z"
   },
   {
    "duration": 244,
    "start_time": "2021-11-29T16:43:42.677Z"
   },
   {
    "duration": 309,
    "start_time": "2021-11-29T16:43:50.428Z"
   },
   {
    "duration": 228,
    "start_time": "2021-11-29T16:44:02.929Z"
   },
   {
    "duration": 228,
    "start_time": "2021-11-29T16:44:11.414Z"
   },
   {
    "duration": 3,
    "start_time": "2021-11-29T16:44:16.672Z"
   },
   {
    "duration": 3,
    "start_time": "2021-11-29T16:44:16.696Z"
   },
   {
    "duration": 6,
    "start_time": "2021-11-29T16:44:16.700Z"
   },
   {
    "duration": 4,
    "start_time": "2021-11-29T16:44:16.708Z"
   },
   {
    "duration": 3,
    "start_time": "2021-11-29T16:44:16.716Z"
   },
   {
    "duration": 5,
    "start_time": "2021-11-29T16:44:16.721Z"
   },
   {
    "duration": 6,
    "start_time": "2021-11-29T16:44:16.728Z"
   },
   {
    "duration": 6,
    "start_time": "2021-11-29T16:44:16.735Z"
   },
   {
    "duration": 5,
    "start_time": "2021-11-29T16:44:16.742Z"
   },
   {
    "duration": 10,
    "start_time": "2021-11-29T16:44:16.749Z"
   },
   {
    "duration": 4,
    "start_time": "2021-11-29T16:44:16.762Z"
   },
   {
    "duration": 24,
    "start_time": "2021-11-29T16:44:16.768Z"
   },
   {
    "duration": 9,
    "start_time": "2021-11-29T16:44:16.794Z"
   },
   {
    "duration": 7,
    "start_time": "2021-11-29T16:44:16.804Z"
   },
   {
    "duration": 7,
    "start_time": "2021-11-29T16:44:16.813Z"
   },
   {
    "duration": 4,
    "start_time": "2021-11-29T16:44:16.822Z"
   },
   {
    "duration": 9,
    "start_time": "2021-11-29T16:44:16.828Z"
   },
   {
    "duration": 6,
    "start_time": "2021-11-29T16:44:16.838Z"
   },
   {
    "duration": 5,
    "start_time": "2021-11-29T16:44:16.845Z"
   },
   {
    "duration": 43,
    "start_time": "2021-11-29T16:44:16.852Z"
   },
   {
    "duration": 12,
    "start_time": "2021-11-29T16:44:16.897Z"
   },
   {
    "duration": 52,
    "start_time": "2021-11-29T16:44:16.911Z"
   },
   {
    "duration": 11,
    "start_time": "2021-11-29T16:44:16.991Z"
   },
   {
    "duration": 9,
    "start_time": "2021-11-29T16:44:17.004Z"
   },
   {
    "duration": 4,
    "start_time": "2021-11-29T16:44:17.015Z"
   },
   {
    "duration": 6,
    "start_time": "2021-11-29T16:44:17.021Z"
   },
   {
    "duration": 67,
    "start_time": "2021-11-29T16:44:17.029Z"
   },
   {
    "duration": 1735,
    "start_time": "2021-11-29T16:44:17.097Z"
   },
   {
    "duration": 5,
    "start_time": "2021-11-29T16:44:18.833Z"
   },
   {
    "duration": 15,
    "start_time": "2021-11-29T16:44:18.840Z"
   },
   {
    "duration": 7,
    "start_time": "2021-11-29T16:44:18.856Z"
   },
   {
    "duration": 12,
    "start_time": "2021-11-29T16:44:18.865Z"
   },
   {
    "duration": 22,
    "start_time": "2021-11-29T16:44:18.878Z"
   },
   {
    "duration": 5,
    "start_time": "2021-11-29T16:44:18.902Z"
   },
   {
    "duration": 21,
    "start_time": "2021-11-29T16:44:18.908Z"
   },
   {
    "duration": 6,
    "start_time": "2021-11-29T16:44:18.931Z"
   },
   {
    "duration": 8,
    "start_time": "2021-11-29T16:44:18.938Z"
   },
   {
    "duration": 6,
    "start_time": "2021-11-29T16:44:18.947Z"
   },
   {
    "duration": 4,
    "start_time": "2021-11-29T16:44:18.957Z"
   },
   {
    "duration": 3,
    "start_time": "2021-11-29T16:44:18.991Z"
   },
   {
    "duration": 9,
    "start_time": "2021-11-29T16:44:18.996Z"
   },
   {
    "duration": 6,
    "start_time": "2021-11-29T16:44:19.007Z"
   },
   {
    "duration": 8,
    "start_time": "2021-11-29T16:44:19.015Z"
   },
   {
    "duration": 31,
    "start_time": "2021-11-29T16:44:19.024Z"
   },
   {
    "duration": 4,
    "start_time": "2021-11-29T16:44:19.057Z"
   },
   {
    "duration": 8,
    "start_time": "2021-11-29T16:44:19.063Z"
   },
   {
    "duration": 22,
    "start_time": "2021-11-29T16:44:19.073Z"
   },
   {
    "duration": 5,
    "start_time": "2021-11-29T16:44:19.097Z"
   },
   {
    "duration": 7,
    "start_time": "2021-11-29T16:44:19.104Z"
   },
   {
    "duration": 6,
    "start_time": "2021-11-29T16:44:19.113Z"
   },
   {
    "duration": 5,
    "start_time": "2021-11-29T16:44:19.121Z"
   },
   {
    "duration": 6,
    "start_time": "2021-11-29T16:44:19.128Z"
   },
   {
    "duration": 5,
    "start_time": "2021-11-29T16:44:19.136Z"
   },
   {
    "duration": 52,
    "start_time": "2021-11-29T16:44:19.143Z"
   },
   {
    "duration": 81,
    "start_time": "2021-11-29T16:44:19.196Z"
   },
   {
    "duration": 8,
    "start_time": "2021-11-29T16:44:19.292Z"
   },
   {
    "duration": 159,
    "start_time": "2021-11-29T16:44:19.301Z"
   },
   {
    "duration": 47,
    "start_time": "2021-11-29T16:44:19.462Z"
   },
   {
    "duration": 196,
    "start_time": "2021-11-29T16:44:19.511Z"
   },
   {
    "duration": 90,
    "start_time": "2021-11-29T16:44:19.709Z"
   },
   {
    "duration": 91,
    "start_time": "2021-11-29T16:44:19.801Z"
   },
   {
    "duration": 129,
    "start_time": "2021-11-29T16:44:19.895Z"
   },
   {
    "duration": 102,
    "start_time": "2021-11-29T16:44:20.026Z"
   },
   {
    "duration": 5,
    "start_time": "2021-11-29T16:44:20.130Z"
   },
   {
    "duration": 21,
    "start_time": "2021-11-29T16:44:20.137Z"
   },
   {
    "duration": 11,
    "start_time": "2021-11-29T16:44:20.160Z"
   },
   {
    "duration": 108,
    "start_time": "2021-11-29T16:44:20.192Z"
   },
   {
    "duration": 209,
    "start_time": "2021-11-29T16:44:20.302Z"
   },
   {
    "duration": 152,
    "start_time": "2021-11-29T16:44:20.513Z"
   },
   {
    "duration": 5,
    "start_time": "2021-11-29T16:44:20.667Z"
   },
   {
    "duration": 33,
    "start_time": "2021-11-29T16:44:20.674Z"
   },
   {
    "duration": 8,
    "start_time": "2021-11-29T16:44:20.709Z"
   },
   {
    "duration": 75,
    "start_time": "2021-11-29T16:44:20.718Z"
   },
   {
    "duration": 102,
    "start_time": "2021-11-29T16:44:20.795Z"
   },
   {
    "duration": 35,
    "start_time": "2021-11-29T16:44:20.899Z"
   },
   {
    "duration": 68,
    "start_time": "2021-11-29T16:44:20.936Z"
   },
   {
    "duration": 3,
    "start_time": "2021-11-29T16:44:21.007Z"
   },
   {
    "duration": 84,
    "start_time": "2021-11-29T16:44:21.011Z"
   },
   {
    "duration": 250,
    "start_time": "2021-11-29T16:44:21.098Z"
   },
   {
    "duration": 43,
    "start_time": "2021-11-29T16:44:21.350Z"
   },
   {
    "duration": 4,
    "start_time": "2021-11-29T16:44:21.394Z"
   },
   {
    "duration": 7,
    "start_time": "2021-11-29T16:44:21.400Z"
   },
   {
    "duration": 250,
    "start_time": "2021-11-29T16:44:21.409Z"
   },
   {
    "duration": 599,
    "start_time": "2021-11-29T16:45:10.493Z"
   },
   {
    "duration": 211,
    "start_time": "2021-11-29T16:45:11.094Z"
   },
   {
    "duration": 3,
    "start_time": "2021-11-29T16:45:11.308Z"
   },
   {
    "duration": 79,
    "start_time": "2021-11-29T16:45:11.313Z"
   },
   {
    "duration": 217,
    "start_time": "2021-11-29T16:45:11.394Z"
   },
   {
    "duration": 2,
    "start_time": "2021-11-29T16:45:11.613Z"
   },
   {
    "duration": 5,
    "start_time": "2021-11-29T16:45:11.617Z"
   },
   {
    "duration": 6,
    "start_time": "2021-11-29T16:45:11.625Z"
   },
   {
    "duration": 19,
    "start_time": "2021-11-29T16:45:11.633Z"
   },
   {
    "duration": 2,
    "start_time": "2021-11-29T16:45:11.654Z"
   },
   {
    "duration": 5,
    "start_time": "2021-11-29T16:45:11.658Z"
   },
   {
    "duration": 6,
    "start_time": "2021-11-29T16:45:11.665Z"
   },
   {
    "duration": 98,
    "start_time": "2021-11-29T16:45:11.673Z"
   },
   {
    "duration": 9,
    "start_time": "2021-11-29T16:45:11.772Z"
   },
   {
    "duration": 2,
    "start_time": "2021-11-29T16:45:11.792Z"
   },
   {
    "duration": 5,
    "start_time": "2021-11-29T16:45:11.796Z"
   },
   {
    "duration": 5,
    "start_time": "2021-11-29T16:45:11.803Z"
   },
   {
    "duration": 6,
    "start_time": "2021-11-29T16:45:11.810Z"
   },
   {
    "duration": 5,
    "start_time": "2021-11-29T16:45:11.817Z"
   },
   {
    "duration": 32,
    "start_time": "2021-11-29T16:45:11.824Z"
   },
   {
    "duration": 16,
    "start_time": "2021-11-29T16:45:11.857Z"
   },
   {
    "duration": 48,
    "start_time": "2021-11-29T16:45:11.875Z"
   },
   {
    "duration": 11,
    "start_time": "2021-11-29T16:45:11.928Z"
   },
   {
    "duration": 8,
    "start_time": "2021-11-29T16:45:11.941Z"
   },
   {
    "duration": 4,
    "start_time": "2021-11-29T16:45:11.951Z"
   },
   {
    "duration": 34,
    "start_time": "2021-11-29T16:45:11.957Z"
   },
   {
    "duration": 39,
    "start_time": "2021-11-29T16:45:11.993Z"
   },
   {
    "duration": 1705,
    "start_time": "2021-11-29T16:45:12.034Z"
   },
   {
    "duration": 5,
    "start_time": "2021-11-29T16:45:13.741Z"
   },
   {
    "duration": 10,
    "start_time": "2021-11-29T16:45:13.748Z"
   },
   {
    "duration": 3,
    "start_time": "2021-11-29T16:45:13.760Z"
   },
   {
    "duration": 5,
    "start_time": "2021-11-29T16:45:13.765Z"
   },
   {
    "duration": 28,
    "start_time": "2021-11-29T16:45:13.772Z"
   },
   {
    "duration": 5,
    "start_time": "2021-11-29T16:45:13.801Z"
   },
   {
    "duration": 22,
    "start_time": "2021-11-29T16:45:13.808Z"
   },
   {
    "duration": 5,
    "start_time": "2021-11-29T16:45:13.832Z"
   },
   {
    "duration": 6,
    "start_time": "2021-11-29T16:45:13.839Z"
   },
   {
    "duration": 6,
    "start_time": "2021-11-29T16:45:13.847Z"
   },
   {
    "duration": 5,
    "start_time": "2021-11-29T16:45:13.855Z"
   },
   {
    "duration": 30,
    "start_time": "2021-11-29T16:45:13.862Z"
   },
   {
    "duration": 3,
    "start_time": "2021-11-29T16:45:13.894Z"
   },
   {
    "duration": 6,
    "start_time": "2021-11-29T16:45:13.899Z"
   },
   {
    "duration": 6,
    "start_time": "2021-11-29T16:45:13.906Z"
   },
   {
    "duration": 26,
    "start_time": "2021-11-29T16:45:13.914Z"
   },
   {
    "duration": 4,
    "start_time": "2021-11-29T16:45:13.941Z"
   },
   {
    "duration": 8,
    "start_time": "2021-11-29T16:45:13.947Z"
   },
   {
    "duration": 5,
    "start_time": "2021-11-29T16:45:13.956Z"
   },
   {
    "duration": 30,
    "start_time": "2021-11-29T16:45:13.963Z"
   },
   {
    "duration": 6,
    "start_time": "2021-11-29T16:45:13.995Z"
   },
   {
    "duration": 5,
    "start_time": "2021-11-29T16:45:14.002Z"
   },
   {
    "duration": 6,
    "start_time": "2021-11-29T16:45:14.009Z"
   },
   {
    "duration": 5,
    "start_time": "2021-11-29T16:45:14.016Z"
   },
   {
    "duration": 11,
    "start_time": "2021-11-29T16:45:14.023Z"
   },
   {
    "duration": 16,
    "start_time": "2021-11-29T16:45:14.036Z"
   },
   {
    "duration": 122,
    "start_time": "2021-11-29T16:45:14.054Z"
   },
   {
    "duration": 20,
    "start_time": "2021-11-29T16:45:14.178Z"
   },
   {
    "duration": 163,
    "start_time": "2021-11-29T16:45:14.199Z"
   },
   {
    "duration": 50,
    "start_time": "2021-11-29T16:45:14.363Z"
   },
   {
    "duration": 201,
    "start_time": "2021-11-29T16:45:14.415Z"
   },
   {
    "duration": 95,
    "start_time": "2021-11-29T16:45:14.617Z"
   },
   {
    "duration": 84,
    "start_time": "2021-11-29T16:45:14.714Z"
   },
   {
    "duration": 116,
    "start_time": "2021-11-29T16:45:14.801Z"
   },
   {
    "duration": 124,
    "start_time": "2021-11-29T16:45:14.919Z"
   },
   {
    "duration": 4,
    "start_time": "2021-11-29T16:45:15.045Z"
   },
   {
    "duration": 21,
    "start_time": "2021-11-29T16:45:15.050Z"
   },
   {
    "duration": 22,
    "start_time": "2021-11-29T16:45:15.073Z"
   },
   {
    "duration": 103,
    "start_time": "2021-11-29T16:45:15.097Z"
   },
   {
    "duration": 141,
    "start_time": "2021-11-29T16:45:15.291Z"
   },
   {
    "duration": 149,
    "start_time": "2021-11-29T16:45:15.434Z"
   },
   {
    "duration": 8,
    "start_time": "2021-11-29T16:45:15.585Z"
   },
   {
    "duration": 34,
    "start_time": "2021-11-29T16:45:15.595Z"
   },
   {
    "duration": 15,
    "start_time": "2021-11-29T16:45:15.630Z"
   },
   {
    "duration": 52,
    "start_time": "2021-11-29T16:45:15.646Z"
   },
   {
    "duration": 104,
    "start_time": "2021-11-29T16:45:15.699Z"
   },
   {
    "duration": 97,
    "start_time": "2021-11-29T16:45:15.805Z"
   },
   {
    "duration": 33,
    "start_time": "2021-11-29T16:45:15.903Z"
   },
   {
    "duration": 55,
    "start_time": "2021-11-29T16:45:15.938Z"
   },
   {
    "duration": 98,
    "start_time": "2021-11-29T16:45:15.995Z"
   },
   {
    "duration": 271,
    "start_time": "2021-11-29T16:45:16.095Z"
   },
   {
    "duration": -52,
    "start_time": "2021-11-29T16:45:16.420Z"
   },
   {
    "duration": -62,
    "start_time": "2021-11-29T16:45:16.431Z"
   },
   {
    "duration": -72,
    "start_time": "2021-11-29T16:45:16.442Z"
   },
   {
    "duration": -102,
    "start_time": "2021-11-29T16:45:16.473Z"
   },
   {
    "duration": 172,
    "start_time": "2021-11-29T16:45:31.024Z"
   },
   {
    "duration": 209,
    "start_time": "2021-11-29T16:45:43.868Z"
   },
   {
    "duration": 32,
    "start_time": "2021-11-29T16:45:47.283Z"
   },
   {
    "duration": 3,
    "start_time": "2021-11-29T16:45:47.389Z"
   },
   {
    "duration": 4,
    "start_time": "2021-11-29T16:45:47.545Z"
   },
   {
    "duration": 188,
    "start_time": "2021-11-29T16:45:47.860Z"
   },
   {
    "duration": 201,
    "start_time": "2021-11-29T16:46:13.877Z"
   },
   {
    "duration": 9,
    "start_time": "2021-11-29T16:49:59.000Z"
   },
   {
    "duration": 2,
    "start_time": "2021-11-29T16:49:59.286Z"
   },
   {
    "duration": 5,
    "start_time": "2021-11-29T16:49:59.459Z"
   },
   {
    "duration": 249,
    "start_time": "2021-11-29T16:50:04.978Z"
   },
   {
    "duration": 10,
    "start_time": "2021-11-29T16:52:06.612Z"
   },
   {
    "duration": 3,
    "start_time": "2021-11-29T16:52:07.471Z"
   },
   {
    "duration": 5,
    "start_time": "2021-11-29T16:52:07.599Z"
   },
   {
    "duration": 230,
    "start_time": "2021-11-29T16:52:07.744Z"
   },
   {
    "duration": 13,
    "start_time": "2021-11-29T16:52:16.037Z"
   },
   {
    "duration": 3,
    "start_time": "2021-11-29T16:52:16.189Z"
   },
   {
    "duration": 30,
    "start_time": "2021-11-29T16:52:20.284Z"
   },
   {
    "duration": 3,
    "start_time": "2021-11-29T16:52:20.714Z"
   },
   {
    "duration": 4,
    "start_time": "2021-11-29T16:52:20.967Z"
   },
   {
    "duration": 275,
    "start_time": "2021-11-29T16:52:21.091Z"
   },
   {
    "duration": 12,
    "start_time": "2021-11-29T16:52:45.496Z"
   },
   {
    "duration": 14,
    "start_time": "2021-11-29T16:52:49.280Z"
   },
   {
    "duration": 11,
    "start_time": "2021-11-29T16:53:04.532Z"
   },
   {
    "duration": 3,
    "start_time": "2021-11-29T16:53:04.680Z"
   },
   {
    "duration": 4,
    "start_time": "2021-11-29T16:53:04.789Z"
   },
   {
    "duration": 257,
    "start_time": "2021-11-29T16:53:04.922Z"
   },
   {
    "duration": 31,
    "start_time": "2021-11-29T16:53:19.533Z"
   },
   {
    "duration": 2,
    "start_time": "2021-11-29T16:53:19.687Z"
   },
   {
    "duration": 4,
    "start_time": "2021-11-29T16:53:19.788Z"
   },
   {
    "duration": 230,
    "start_time": "2021-11-29T16:53:19.912Z"
   },
   {
    "duration": 33,
    "start_time": "2021-11-29T16:53:37.908Z"
   },
   {
    "duration": 72,
    "start_time": "2021-11-29T17:10:14.955Z"
   },
   {
    "duration": 3,
    "start_time": "2021-11-29T17:10:44.958Z"
   },
   {
    "duration": 6,
    "start_time": "2021-11-29T17:10:55.937Z"
   },
   {
    "duration": 225,
    "start_time": "2021-11-29T17:12:24.966Z"
   },
   {
    "duration": 77,
    "start_time": "2021-11-29T17:12:54.434Z"
   },
   {
    "duration": 3,
    "start_time": "2021-11-29T17:12:54.619Z"
   },
   {
    "duration": 223,
    "start_time": "2021-11-29T17:12:54.748Z"
   },
   {
    "duration": 116,
    "start_time": "2021-11-29T17:25:46.981Z"
   },
   {
    "duration": 58,
    "start_time": "2021-11-29T17:26:37.291Z"
   },
   {
    "duration": 199,
    "start_time": "2021-11-29T17:26:40.894Z"
   },
   {
    "duration": 130,
    "start_time": "2021-11-29T17:26:50.163Z"
   },
   {
    "duration": 152,
    "start_time": "2021-11-29T17:26:53.846Z"
   },
   {
    "duration": 300,
    "start_time": "2021-11-29T17:27:51.705Z"
   },
   {
    "duration": 129,
    "start_time": "2021-11-29T17:28:04.164Z"
   },
   {
    "duration": 120,
    "start_time": "2021-11-29T17:28:33.272Z"
   },
   {
    "duration": 160,
    "start_time": "2021-11-29T17:28:57.539Z"
   },
   {
    "duration": 111,
    "start_time": "2021-11-29T17:30:03.703Z"
   },
   {
    "duration": 109,
    "start_time": "2021-11-29T17:30:07.691Z"
   },
   {
    "duration": 148,
    "start_time": "2021-11-29T17:30:17.643Z"
   },
   {
    "duration": 107,
    "start_time": "2021-11-29T17:30:20.421Z"
   },
   {
    "duration": 133,
    "start_time": "2021-11-29T17:30:24.557Z"
   },
   {
    "duration": 96,
    "start_time": "2021-11-29T17:31:24.296Z"
   },
   {
    "duration": 2,
    "start_time": "2021-11-29T17:31:24.967Z"
   },
   {
    "duration": 5,
    "start_time": "2021-11-29T17:31:25.224Z"
   },
   {
    "duration": 215,
    "start_time": "2021-11-29T17:31:25.766Z"
   },
   {
    "duration": 230,
    "start_time": "2021-11-29T17:31:37.264Z"
   },
   {
    "duration": 200,
    "start_time": "2021-11-29T17:32:16.913Z"
   },
   {
    "duration": 31,
    "start_time": "2021-11-29T17:32:22.127Z"
   },
   {
    "duration": 2,
    "start_time": "2021-11-29T17:32:22.301Z"
   },
   {
    "duration": 5,
    "start_time": "2021-11-29T17:32:22.420Z"
   },
   {
    "duration": 218,
    "start_time": "2021-11-29T17:32:22.558Z"
   },
   {
    "duration": 102,
    "start_time": "2021-11-29T17:33:45.354Z"
   },
   {
    "duration": 220,
    "start_time": "2021-11-29T17:36:19.581Z"
   },
   {
    "duration": 131,
    "start_time": "2021-11-29T17:36:24.561Z"
   },
   {
    "duration": 110,
    "start_time": "2021-11-29T17:36:32.596Z"
   },
   {
    "duration": 248,
    "start_time": "2021-11-29T17:36:36.246Z"
   },
   {
    "duration": 111,
    "start_time": "2021-11-29T17:37:49.587Z"
   },
   {
    "duration": 171,
    "start_time": "2021-11-29T17:38:47.137Z"
   },
   {
    "duration": 170,
    "start_time": "2021-11-29T17:39:07.688Z"
   },
   {
    "duration": 158,
    "start_time": "2021-11-29T17:39:11.840Z"
   },
   {
    "duration": 57,
    "start_time": "2021-11-29T17:39:16.296Z"
   },
   {
    "duration": 164,
    "start_time": "2021-11-29T17:39:18.846Z"
   },
   {
    "duration": 140,
    "start_time": "2021-11-29T17:39:34.478Z"
   },
   {
    "duration": 137,
    "start_time": "2021-11-29T17:40:29.533Z"
   },
   {
    "duration": 130,
    "start_time": "2021-11-29T17:40:34.182Z"
   },
   {
    "duration": 144,
    "start_time": "2021-11-29T17:40:38.133Z"
   },
   {
    "duration": 323,
    "start_time": "2021-11-29T17:40:50.547Z"
   },
   {
    "duration": 140,
    "start_time": "2021-11-29T17:40:56.517Z"
   },
   {
    "duration": 278,
    "start_time": "2021-11-29T17:41:36.635Z"
   },
   {
    "duration": 138,
    "start_time": "2021-11-29T17:41:45.661Z"
   },
   {
    "duration": 133,
    "start_time": "2021-11-29T17:41:54.506Z"
   },
   {
    "duration": 126,
    "start_time": "2021-11-29T17:41:59.038Z"
   },
   {
    "duration": 168,
    "start_time": "2021-11-29T17:43:05.278Z"
   },
   {
    "duration": 139,
    "start_time": "2021-11-29T17:44:32.485Z"
   },
   {
    "duration": 133,
    "start_time": "2021-11-29T17:44:42.884Z"
   },
   {
    "duration": 131,
    "start_time": "2021-11-29T17:44:49.141Z"
   },
   {
    "duration": 134,
    "start_time": "2021-11-29T17:45:08.105Z"
   },
   {
    "duration": 133,
    "start_time": "2021-11-29T17:45:16.960Z"
   },
   {
    "duration": 135,
    "start_time": "2021-11-29T17:45:21.227Z"
   },
   {
    "duration": 130,
    "start_time": "2021-11-29T17:46:07.914Z"
   },
   {
    "duration": 135,
    "start_time": "2021-11-29T17:47:04.583Z"
   },
   {
    "duration": 141,
    "start_time": "2021-11-29T17:47:27.288Z"
   },
   {
    "duration": 138,
    "start_time": "2021-11-29T17:47:34.908Z"
   },
   {
    "duration": 132,
    "start_time": "2021-11-29T17:47:55.974Z"
   },
   {
    "duration": 135,
    "start_time": "2021-11-29T17:48:10.435Z"
   },
   {
    "duration": 136,
    "start_time": "2021-11-29T17:48:16.155Z"
   },
   {
    "duration": 136,
    "start_time": "2021-11-29T17:48:27.882Z"
   },
   {
    "duration": 133,
    "start_time": "2021-11-29T17:48:33.999Z"
   },
   {
    "duration": 150,
    "start_time": "2021-11-29T17:49:03.076Z"
   },
   {
    "duration": 133,
    "start_time": "2021-11-29T17:49:15.627Z"
   },
   {
    "duration": 267,
    "start_time": "2021-11-29T17:50:05.743Z"
   },
   {
    "duration": 279,
    "start_time": "2021-11-29T17:55:57.542Z"
   },
   {
    "duration": 273,
    "start_time": "2021-11-29T17:56:10.248Z"
   },
   {
    "duration": 317,
    "start_time": "2021-11-29T17:56:27.607Z"
   },
   {
    "duration": 270,
    "start_time": "2021-11-29T17:56:53.039Z"
   },
   {
    "duration": 338,
    "start_time": "2021-11-29T17:57:28.712Z"
   },
   {
    "duration": 323,
    "start_time": "2021-11-29T17:57:34.490Z"
   },
   {
    "duration": 3,
    "start_time": "2021-11-29T18:04:09.462Z"
   },
   {
    "duration": 56,
    "start_time": "2021-11-29T18:08:31.105Z"
   },
   {
    "duration": 219,
    "start_time": "2021-11-29T18:08:54.163Z"
   },
   {
    "duration": 246,
    "start_time": "2021-11-29T18:09:06.895Z"
   },
   {
    "duration": 3,
    "start_time": "2021-11-29T18:09:13.887Z"
   },
   {
    "duration": 3,
    "start_time": "2021-11-29T18:09:13.910Z"
   },
   {
    "duration": 5,
    "start_time": "2021-11-29T18:09:13.915Z"
   },
   {
    "duration": 5,
    "start_time": "2021-11-29T18:09:13.922Z"
   },
   {
    "duration": 5,
    "start_time": "2021-11-29T18:09:13.929Z"
   },
   {
    "duration": 5,
    "start_time": "2021-11-29T18:09:13.935Z"
   },
   {
    "duration": 8,
    "start_time": "2021-11-29T18:09:13.942Z"
   },
   {
    "duration": 9,
    "start_time": "2021-11-29T18:09:13.952Z"
   },
   {
    "duration": 5,
    "start_time": "2021-11-29T18:09:13.962Z"
   },
   {
    "duration": 4,
    "start_time": "2021-11-29T18:09:13.969Z"
   },
   {
    "duration": 5,
    "start_time": "2021-11-29T18:09:13.975Z"
   },
   {
    "duration": 5,
    "start_time": "2021-11-29T18:09:13.981Z"
   },
   {
    "duration": 2,
    "start_time": "2021-11-29T18:09:13.991Z"
   },
   {
    "duration": 5,
    "start_time": "2021-11-29T18:09:13.995Z"
   },
   {
    "duration": 7,
    "start_time": "2021-11-29T18:09:14.002Z"
   },
   {
    "duration": 6,
    "start_time": "2021-11-29T18:09:14.011Z"
   },
   {
    "duration": 4,
    "start_time": "2021-11-29T18:09:14.019Z"
   },
   {
    "duration": 5,
    "start_time": "2021-11-29T18:09:14.025Z"
   },
   {
    "duration": 5,
    "start_time": "2021-11-29T18:09:14.032Z"
   },
   {
    "duration": 4,
    "start_time": "2021-11-29T18:09:14.039Z"
   },
   {
    "duration": 30,
    "start_time": "2021-11-29T18:09:14.046Z"
   },
   {
    "duration": 12,
    "start_time": "2021-11-29T18:09:14.092Z"
   },
   {
    "duration": 42,
    "start_time": "2021-11-29T18:09:14.106Z"
   },
   {
    "duration": 10,
    "start_time": "2021-11-29T18:09:14.150Z"
   },
   {
    "duration": 33,
    "start_time": "2021-11-29T18:09:14.162Z"
   },
   {
    "duration": 5,
    "start_time": "2021-11-29T18:09:14.197Z"
   },
   {
    "duration": 7,
    "start_time": "2021-11-29T18:09:14.204Z"
   },
   {
    "duration": 38,
    "start_time": "2021-11-29T18:09:14.213Z"
   },
   {
    "duration": 1746,
    "start_time": "2021-11-29T18:09:14.253Z"
   },
   {
    "duration": 6,
    "start_time": "2021-11-29T18:09:16.001Z"
   },
   {
    "duration": 16,
    "start_time": "2021-11-29T18:09:16.008Z"
   },
   {
    "duration": 7,
    "start_time": "2021-11-29T18:09:16.025Z"
   },
   {
    "duration": 22,
    "start_time": "2021-11-29T18:09:16.033Z"
   },
   {
    "duration": 31,
    "start_time": "2021-11-29T18:09:16.057Z"
   },
   {
    "duration": 5,
    "start_time": "2021-11-29T18:09:16.090Z"
   },
   {
    "duration": 35,
    "start_time": "2021-11-29T18:09:16.096Z"
   },
   {
    "duration": 5,
    "start_time": "2021-11-29T18:09:16.133Z"
   },
   {
    "duration": 26,
    "start_time": "2021-11-29T18:09:16.140Z"
   },
   {
    "duration": 12,
    "start_time": "2021-11-29T18:09:16.167Z"
   },
   {
    "duration": 26,
    "start_time": "2021-11-29T18:09:16.180Z"
   },
   {
    "duration": 7,
    "start_time": "2021-11-29T18:09:16.208Z"
   },
   {
    "duration": 18,
    "start_time": "2021-11-29T18:09:16.216Z"
   },
   {
    "duration": 26,
    "start_time": "2021-11-29T18:09:16.236Z"
   },
   {
    "duration": 24,
    "start_time": "2021-11-29T18:09:16.267Z"
   },
   {
    "duration": 46,
    "start_time": "2021-11-29T18:09:16.294Z"
   },
   {
    "duration": 4,
    "start_time": "2021-11-29T18:09:16.342Z"
   },
   {
    "duration": 24,
    "start_time": "2021-11-29T18:09:16.347Z"
   },
   {
    "duration": 26,
    "start_time": "2021-11-29T18:09:16.373Z"
   },
   {
    "duration": 14,
    "start_time": "2021-11-29T18:09:16.401Z"
   },
   {
    "duration": 27,
    "start_time": "2021-11-29T18:09:16.417Z"
   },
   {
    "duration": 19,
    "start_time": "2021-11-29T18:09:16.445Z"
   },
   {
    "duration": 17,
    "start_time": "2021-11-29T18:09:16.466Z"
   },
   {
    "duration": 13,
    "start_time": "2021-11-29T18:09:16.485Z"
   },
   {
    "duration": 12,
    "start_time": "2021-11-29T18:09:16.500Z"
   },
   {
    "duration": 34,
    "start_time": "2021-11-29T18:09:16.514Z"
   },
   {
    "duration": 86,
    "start_time": "2021-11-29T18:09:16.550Z"
   },
   {
    "duration": 7,
    "start_time": "2021-11-29T18:09:16.638Z"
   },
   {
    "duration": 163,
    "start_time": "2021-11-29T18:09:16.647Z"
   },
   {
    "duration": 86,
    "start_time": "2021-11-29T18:09:16.812Z"
   },
   {
    "duration": 192,
    "start_time": "2021-11-29T18:09:16.900Z"
   },
   {
    "duration": 76,
    "start_time": "2021-11-29T18:09:17.093Z"
   },
   {
    "duration": 122,
    "start_time": "2021-11-29T18:09:17.171Z"
   },
   {
    "duration": 118,
    "start_time": "2021-11-29T18:09:17.296Z"
   },
   {
    "duration": 93,
    "start_time": "2021-11-29T18:09:17.415Z"
   },
   {
    "duration": 4,
    "start_time": "2021-11-29T18:09:17.509Z"
   },
   {
    "duration": 31,
    "start_time": "2021-11-29T18:09:17.515Z"
   },
   {
    "duration": 10,
    "start_time": "2021-11-29T18:09:17.548Z"
   },
   {
    "duration": 95,
    "start_time": "2021-11-29T18:09:17.560Z"
   },
   {
    "duration": 136,
    "start_time": "2021-11-29T18:09:17.693Z"
   },
   {
    "duration": 154,
    "start_time": "2021-11-29T18:09:17.831Z"
   },
   {
    "duration": 4,
    "start_time": "2021-11-29T18:09:17.987Z"
   },
   {
    "duration": 28,
    "start_time": "2021-11-29T18:09:17.993Z"
   },
   {
    "duration": 8,
    "start_time": "2021-11-29T18:09:18.023Z"
   },
   {
    "duration": 59,
    "start_time": "2021-11-29T18:09:18.032Z"
   },
   {
    "duration": 112,
    "start_time": "2021-11-29T18:09:18.094Z"
   },
   {
    "duration": 50,
    "start_time": "2021-11-29T18:09:18.208Z"
   },
   {
    "duration": 58,
    "start_time": "2021-11-29T18:09:18.260Z"
   },
   {
    "duration": 4,
    "start_time": "2021-11-29T18:09:18.393Z"
   },
   {
    "duration": 94,
    "start_time": "2021-11-29T18:09:18.399Z"
   },
   {
    "duration": 233,
    "start_time": "2021-11-29T18:09:18.495Z"
   },
   {
    "duration": 31,
    "start_time": "2021-11-29T18:09:18.730Z"
   },
   {
    "duration": 3,
    "start_time": "2021-11-29T18:09:18.763Z"
   },
   {
    "duration": 27,
    "start_time": "2021-11-29T18:09:18.768Z"
   },
   {
    "duration": 297,
    "start_time": "2021-11-29T18:09:18.797Z"
   },
   {
    "duration": 84,
    "start_time": "2021-11-29T18:09:19.096Z"
   },
   {
    "duration": 3,
    "start_time": "2021-11-29T18:09:19.191Z"
   },
   {
    "duration": 238,
    "start_time": "2021-11-29T18:09:19.196Z"
   },
   {
    "duration": 286,
    "start_time": "2021-11-29T18:09:19.436Z"
   },
   {
    "duration": 243,
    "start_time": "2021-11-29T18:09:19.725Z"
   },
   {
    "duration": 250,
    "start_time": "2021-11-29T18:10:05.136Z"
   },
   {
    "duration": 15221,
    "start_time": "2021-11-29T18:10:32.407Z"
   },
   {
    "duration": 15664,
    "start_time": "2021-11-29T18:11:15.966Z"
   },
   {
    "duration": 265,
    "start_time": "2021-11-29T18:12:56.730Z"
   },
   {
    "duration": 171,
    "start_time": "2021-11-29T18:13:16.500Z"
   },
   {
    "duration": 228,
    "start_time": "2021-11-29T18:13:44.944Z"
   },
   {
    "duration": 613,
    "start_time": "2021-11-29T18:13:51.495Z"
   },
   {
    "duration": 609,
    "start_time": "2021-11-29T18:15:03.067Z"
   },
   {
    "duration": 560,
    "start_time": "2021-11-29T18:15:22.865Z"
   },
   {
    "duration": 601,
    "start_time": "2021-11-29T18:15:40.718Z"
   },
   {
    "duration": 823,
    "start_time": "2021-11-30T08:11:03.898Z"
   },
   {
    "duration": 304,
    "start_time": "2021-11-30T08:11:04.724Z"
   },
   {
    "duration": 3,
    "start_time": "2021-11-30T08:11:05.031Z"
   },
   {
    "duration": 6,
    "start_time": "2021-11-30T08:11:05.037Z"
   },
   {
    "duration": 330,
    "start_time": "2021-11-30T08:11:05.045Z"
   },
   {
    "duration": 4,
    "start_time": "2021-11-30T08:11:05.378Z"
   },
   {
    "duration": 6,
    "start_time": "2021-11-30T08:11:05.385Z"
   },
   {
    "duration": 5,
    "start_time": "2021-11-30T08:11:05.402Z"
   },
   {
    "duration": 25,
    "start_time": "2021-11-30T08:11:05.410Z"
   },
   {
    "duration": 3,
    "start_time": "2021-11-30T08:11:05.438Z"
   },
   {
    "duration": 8,
    "start_time": "2021-11-30T08:11:05.443Z"
   },
   {
    "duration": 11,
    "start_time": "2021-11-30T08:11:05.454Z"
   },
   {
    "duration": 148,
    "start_time": "2021-11-30T08:11:05.467Z"
   },
   {
    "duration": 13,
    "start_time": "2021-11-30T08:11:05.617Z"
   },
   {
    "duration": 4,
    "start_time": "2021-11-30T08:11:05.632Z"
   },
   {
    "duration": 6,
    "start_time": "2021-11-30T08:11:05.638Z"
   },
   {
    "duration": 8,
    "start_time": "2021-11-30T08:11:05.647Z"
   },
   {
    "duration": 5,
    "start_time": "2021-11-30T08:11:05.657Z"
   },
   {
    "duration": 35,
    "start_time": "2021-11-30T08:11:05.665Z"
   },
   {
    "duration": 3,
    "start_time": "2021-11-30T08:11:05.703Z"
   },
   {
    "duration": 39,
    "start_time": "2021-11-30T08:11:05.708Z"
   },
   {
    "duration": 23,
    "start_time": "2021-11-30T08:11:05.750Z"
   },
   {
    "duration": 79,
    "start_time": "2021-11-30T08:11:05.779Z"
   },
   {
    "duration": 39,
    "start_time": "2021-11-30T08:11:05.862Z"
   },
   {
    "duration": 12,
    "start_time": "2021-11-30T08:11:05.904Z"
   },
   {
    "duration": 6,
    "start_time": "2021-11-30T08:11:05.919Z"
   },
   {
    "duration": 10,
    "start_time": "2021-11-30T08:11:05.928Z"
   },
   {
    "duration": 88,
    "start_time": "2021-11-30T08:11:05.941Z"
   },
   {
    "duration": 2480,
    "start_time": "2021-11-30T08:11:06.032Z"
   },
   {
    "duration": 7,
    "start_time": "2021-11-30T08:11:08.515Z"
   },
   {
    "duration": 27,
    "start_time": "2021-11-30T08:11:08.524Z"
   },
   {
    "duration": 5,
    "start_time": "2021-11-30T08:11:08.554Z"
   },
   {
    "duration": 10,
    "start_time": "2021-11-30T08:11:08.561Z"
   },
   {
    "duration": 50,
    "start_time": "2021-11-30T08:11:08.574Z"
   },
   {
    "duration": 9,
    "start_time": "2021-11-30T08:11:08.627Z"
   },
   {
    "duration": 30,
    "start_time": "2021-11-30T08:11:08.639Z"
   },
   {
    "duration": 33,
    "start_time": "2021-11-30T08:11:08.672Z"
   },
   {
    "duration": 9,
    "start_time": "2021-11-30T08:11:08.707Z"
   },
   {
    "duration": 29,
    "start_time": "2021-11-30T08:11:08.718Z"
   },
   {
    "duration": 28,
    "start_time": "2021-11-30T08:11:08.749Z"
   },
   {
    "duration": 8,
    "start_time": "2021-11-30T08:11:08.779Z"
   },
   {
    "duration": 16,
    "start_time": "2021-11-30T08:11:08.789Z"
   },
   {
    "duration": 8,
    "start_time": "2021-11-30T08:11:08.807Z"
   },
   {
    "duration": 10,
    "start_time": "2021-11-30T08:11:08.817Z"
   },
   {
    "duration": 50,
    "start_time": "2021-11-30T08:11:08.829Z"
   },
   {
    "duration": 5,
    "start_time": "2021-11-30T08:11:08.881Z"
   },
   {
    "duration": 8,
    "start_time": "2021-11-30T08:11:08.901Z"
   },
   {
    "duration": 9,
    "start_time": "2021-11-30T08:11:08.912Z"
   },
   {
    "duration": 8,
    "start_time": "2021-11-30T08:11:08.923Z"
   },
   {
    "duration": 17,
    "start_time": "2021-11-30T08:11:08.933Z"
   },
   {
    "duration": 10,
    "start_time": "2021-11-30T08:11:08.952Z"
   },
   {
    "duration": 35,
    "start_time": "2021-11-30T08:11:08.965Z"
   },
   {
    "duration": 7,
    "start_time": "2021-11-30T08:11:09.003Z"
   },
   {
    "duration": 11,
    "start_time": "2021-11-30T08:11:09.013Z"
   },
   {
    "duration": 28,
    "start_time": "2021-11-30T08:11:09.027Z"
   },
   {
    "duration": 150,
    "start_time": "2021-11-30T08:11:09.058Z"
   },
   {
    "duration": 11,
    "start_time": "2021-11-30T08:11:09.211Z"
   },
   {
    "duration": 271,
    "start_time": "2021-11-30T08:11:09.224Z"
   },
   {
    "duration": 101,
    "start_time": "2021-11-30T08:11:09.501Z"
   },
   {
    "duration": 136,
    "start_time": "2021-11-30T08:11:09.606Z"
   },
   {
    "duration": 136,
    "start_time": "2021-11-30T08:11:09.744Z"
   },
   {
    "duration": 120,
    "start_time": "2021-11-30T08:11:09.882Z"
   },
   {
    "duration": 136,
    "start_time": "2021-11-30T08:11:10.005Z"
   },
   {
    "duration": 133,
    "start_time": "2021-11-30T08:11:10.144Z"
   },
   {
    "duration": 6,
    "start_time": "2021-11-30T08:11:10.279Z"
   },
   {
    "duration": 37,
    "start_time": "2021-11-30T08:11:10.287Z"
   },
   {
    "duration": 15,
    "start_time": "2021-11-30T08:11:10.326Z"
   },
   {
    "duration": 256,
    "start_time": "2021-11-30T08:11:10.349Z"
   },
   {
    "duration": 172,
    "start_time": "2021-11-30T08:11:10.610Z"
   },
   {
    "duration": 263,
    "start_time": "2021-11-30T08:11:10.801Z"
   },
   {
    "duration": 6,
    "start_time": "2021-11-30T08:11:11.066Z"
   },
   {
    "duration": 36,
    "start_time": "2021-11-30T08:11:11.074Z"
   },
   {
    "duration": 17,
    "start_time": "2021-11-30T08:11:11.112Z"
   },
   {
    "duration": 74,
    "start_time": "2021-11-30T08:11:11.132Z"
   },
   {
    "duration": 106,
    "start_time": "2021-11-30T08:11:11.210Z"
   },
   {
    "duration": 52,
    "start_time": "2021-11-30T08:11:11.318Z"
   },
   {
    "duration": 131,
    "start_time": "2021-11-30T08:11:11.372Z"
   },
   {
    "duration": 95,
    "start_time": "2021-11-30T08:11:11.506Z"
   },
   {
    "duration": 13,
    "start_time": "2021-11-30T08:11:11.603Z"
   },
   {
    "duration": 376,
    "start_time": "2021-11-30T08:11:11.618Z"
   },
   {
    "duration": 45,
    "start_time": "2021-11-30T08:11:12.000Z"
   },
   {
    "duration": 3,
    "start_time": "2021-11-30T08:11:12.047Z"
   },
   {
    "duration": 22,
    "start_time": "2021-11-30T08:11:12.052Z"
   },
   {
    "duration": 365,
    "start_time": "2021-11-30T08:11:12.076Z"
   },
   {
    "duration": 121,
    "start_time": "2021-11-30T08:11:12.443Z"
   },
   {
    "duration": 3,
    "start_time": "2021-11-30T08:11:12.566Z"
   },
   {
    "duration": 383,
    "start_time": "2021-11-30T08:11:12.571Z"
   },
   {
    "duration": 385,
    "start_time": "2021-11-30T08:11:12.956Z"
   },
   {
    "duration": 1107,
    "start_time": "2021-11-30T08:11:13.344Z"
   },
   {
    "duration": 134,
    "start_time": "2021-11-30T08:14:23.738Z"
   },
   {
    "duration": 88,
    "start_time": "2021-11-30T08:16:55.217Z"
   },
   {
    "duration": 434,
    "start_time": "2021-11-30T08:21:37.145Z"
   },
   {
    "duration": 125,
    "start_time": "2021-11-30T08:22:48.777Z"
   },
   {
    "duration": 584,
    "start_time": "2021-11-30T08:40:17.379Z"
   },
   {
    "duration": 40,
    "start_time": "2021-11-30T09:33:33.360Z"
   },
   {
    "duration": 5,
    "start_time": "2021-11-30T09:33:33.422Z"
   },
   {
    "duration": 7,
    "start_time": "2021-11-30T09:33:33.455Z"
   },
   {
    "duration": 11,
    "start_time": "2021-11-30T09:33:33.512Z"
   },
   {
    "duration": 14,
    "start_time": "2021-11-30T09:33:33.553Z"
   },
   {
    "duration": 16,
    "start_time": "2021-11-30T09:33:33.592Z"
   },
   {
    "duration": 10,
    "start_time": "2021-11-30T09:33:33.637Z"
   },
   {
    "duration": 9,
    "start_time": "2021-11-30T09:33:33.675Z"
   },
   {
    "duration": 8,
    "start_time": "2021-11-30T09:33:33.707Z"
   },
   {
    "duration": 10,
    "start_time": "2021-11-30T09:33:33.737Z"
   },
   {
    "duration": 8,
    "start_time": "2021-11-30T09:33:33.774Z"
   },
   {
    "duration": 14,
    "start_time": "2021-11-30T09:33:33.808Z"
   },
   {
    "duration": 10,
    "start_time": "2021-11-30T09:33:33.847Z"
   },
   {
    "duration": 10,
    "start_time": "2021-11-30T09:33:33.886Z"
   },
   {
    "duration": 3,
    "start_time": "2021-11-30T09:33:33.929Z"
   },
   {
    "duration": 9,
    "start_time": "2021-11-30T09:33:33.961Z"
   },
   {
    "duration": 4,
    "start_time": "2021-11-30T09:33:34.003Z"
   },
   {
    "duration": 8,
    "start_time": "2021-11-30T09:33:34.032Z"
   },
   {
    "duration": 18,
    "start_time": "2021-11-30T09:33:34.100Z"
   },
   {
    "duration": 3,
    "start_time": "2021-11-30T09:33:34.184Z"
   },
   {
    "duration": 25,
    "start_time": "2021-11-30T09:33:34.304Z"
   },
   {
    "duration": 19,
    "start_time": "2021-11-30T09:33:34.447Z"
   },
   {
    "duration": 82,
    "start_time": "2021-11-30T09:33:34.525Z"
   },
   {
    "duration": 16,
    "start_time": "2021-11-30T09:33:34.640Z"
   },
   {
    "duration": -2814,
    "start_time": "2021-11-30T09:33:37.896Z"
   },
   {
    "duration": -2823,
    "start_time": "2021-11-30T09:33:37.909Z"
   },
   {
    "duration": -2832,
    "start_time": "2021-11-30T09:33:37.922Z"
   },
   {
    "duration": -2842,
    "start_time": "2021-11-30T09:33:37.936Z"
   },
   {
    "duration": -2849,
    "start_time": "2021-11-30T09:33:37.947Z"
   },
   {
    "duration": -2856,
    "start_time": "2021-11-30T09:33:37.958Z"
   },
   {
    "duration": -2865,
    "start_time": "2021-11-30T09:33:37.970Z"
   },
   {
    "duration": -2872,
    "start_time": "2021-11-30T09:33:37.981Z"
   },
   {
    "duration": -2896,
    "start_time": "2021-11-30T09:33:38.010Z"
   },
   {
    "duration": -2905,
    "start_time": "2021-11-30T09:33:38.023Z"
   },
   {
    "duration": -2912,
    "start_time": "2021-11-30T09:33:38.035Z"
   },
   {
    "duration": -2922,
    "start_time": "2021-11-30T09:33:38.048Z"
   },
   {
    "duration": -2931,
    "start_time": "2021-11-30T09:33:38.061Z"
   },
   {
    "duration": -2940,
    "start_time": "2021-11-30T09:33:38.074Z"
   },
   {
    "duration": -2949,
    "start_time": "2021-11-30T09:33:38.086Z"
   },
   {
    "duration": -2898,
    "start_time": "2021-11-30T09:33:38.099Z"
   },
   {
    "duration": -2921,
    "start_time": "2021-11-30T09:33:38.127Z"
   },
   {
    "duration": -2928,
    "start_time": "2021-11-30T09:33:38.139Z"
   },
   {
    "duration": -2936,
    "start_time": "2021-11-30T09:33:38.151Z"
   },
   {
    "duration": -2943,
    "start_time": "2021-11-30T09:33:38.164Z"
   },
   {
    "duration": -2951,
    "start_time": "2021-11-30T09:33:38.176Z"
   },
   {
    "duration": -2958,
    "start_time": "2021-11-30T09:33:38.187Z"
   },
   {
    "duration": -2965,
    "start_time": "2021-11-30T09:33:38.199Z"
   },
   {
    "duration": -2975,
    "start_time": "2021-11-30T09:33:38.213Z"
   },
   {
    "duration": -2936,
    "start_time": "2021-11-30T09:33:38.241Z"
   },
   {
    "duration": -2945,
    "start_time": "2021-11-30T09:33:38.254Z"
   },
   {
    "duration": -2955,
    "start_time": "2021-11-30T09:33:38.267Z"
   },
   {
    "duration": -2964,
    "start_time": "2021-11-30T09:33:38.280Z"
   },
   {
    "duration": -2973,
    "start_time": "2021-11-30T09:33:38.293Z"
   },
   {
    "duration": -2981,
    "start_time": "2021-11-30T09:33:38.305Z"
   },
   {
    "duration": -2990,
    "start_time": "2021-11-30T09:33:38.317Z"
   },
   {
    "duration": -2997,
    "start_time": "2021-11-30T09:33:38.328Z"
   },
   {
    "duration": -3005,
    "start_time": "2021-11-30T09:33:38.340Z"
   },
   {
    "duration": -3030,
    "start_time": "2021-11-30T09:33:38.369Z"
   },
   {
    "duration": -2980,
    "start_time": "2021-11-30T09:33:38.383Z"
   },
   {
    "duration": -2989,
    "start_time": "2021-11-30T09:33:38.396Z"
   },
   {
    "duration": -2999,
    "start_time": "2021-11-30T09:33:38.410Z"
   },
   {
    "duration": -3008,
    "start_time": "2021-11-30T09:33:38.423Z"
   },
   {
    "duration": -3017,
    "start_time": "2021-11-30T09:33:38.436Z"
   },
   {
    "duration": -3027,
    "start_time": "2021-11-30T09:33:38.450Z"
   },
   {
    "duration": -3036,
    "start_time": "2021-11-30T09:33:38.463Z"
   },
   {
    "duration": -3062,
    "start_time": "2021-11-30T09:33:38.492Z"
   },
   {
    "duration": -3071,
    "start_time": "2021-11-30T09:33:38.505Z"
   },
   {
    "duration": -3079,
    "start_time": "2021-11-30T09:33:38.517Z"
   },
   {
    "duration": -3028,
    "start_time": "2021-11-30T09:33:38.532Z"
   },
   {
    "duration": -3037,
    "start_time": "2021-11-30T09:33:38.545Z"
   },
   {
    "duration": -3045,
    "start_time": "2021-11-30T09:33:38.557Z"
   },
   {
    "duration": -3053,
    "start_time": "2021-11-30T09:33:38.569Z"
   },
   {
    "duration": -3063,
    "start_time": "2021-11-30T09:33:38.582Z"
   },
   {
    "duration": -3086,
    "start_time": "2021-11-30T09:33:38.609Z"
   },
   {
    "duration": -3096,
    "start_time": "2021-11-30T09:33:38.623Z"
   },
   {
    "duration": -3105,
    "start_time": "2021-11-30T09:33:38.636Z"
   },
   {
    "duration": -3112,
    "start_time": "2021-11-30T09:33:38.648Z"
   },
   {
    "duration": -3059,
    "start_time": "2021-11-30T09:33:38.660Z"
   },
   {
    "duration": -3067,
    "start_time": "2021-11-30T09:33:38.672Z"
   },
   {
    "duration": -3075,
    "start_time": "2021-11-30T09:33:38.685Z"
   },
   {
    "duration": -3083,
    "start_time": "2021-11-30T09:33:38.698Z"
   },
   {
    "duration": -3108,
    "start_time": "2021-11-30T09:33:38.727Z"
   },
   {
    "duration": -3116,
    "start_time": "2021-11-30T09:33:38.740Z"
   },
   {
    "duration": -3124,
    "start_time": "2021-11-30T09:33:38.752Z"
   },
   {
    "duration": -3134,
    "start_time": "2021-11-30T09:33:38.765Z"
   },
   {
    "duration": -3141,
    "start_time": "2021-11-30T09:33:38.776Z"
   },
   {
    "duration": -3087,
    "start_time": "2021-11-30T09:33:38.789Z"
   },
   {
    "duration": -3094,
    "start_time": "2021-11-30T09:33:38.800Z"
   },
   {
    "duration": -3101,
    "start_time": "2021-11-30T09:33:38.811Z"
   },
   {
    "duration": -3112,
    "start_time": "2021-11-30T09:33:38.823Z"
   },
   {
    "duration": -3134,
    "start_time": "2021-11-30T09:33:38.848Z"
   },
   {
    "duration": 11,
    "start_time": "2021-11-30T09:34:31.379Z"
   },
   {
    "duration": 387,
    "start_time": "2021-11-30T09:34:34.287Z"
   },
   {
    "duration": 381,
    "start_time": "2021-11-30T09:34:34.748Z"
   },
   {
    "duration": 3,
    "start_time": "2021-11-30T09:34:44.057Z"
   },
   {
    "duration": 3,
    "start_time": "2021-11-30T09:34:44.073Z"
   },
   {
    "duration": 5,
    "start_time": "2021-11-30T09:34:44.079Z"
   },
   {
    "duration": 7,
    "start_time": "2021-11-30T09:34:44.087Z"
   },
   {
    "duration": 9,
    "start_time": "2021-11-30T09:34:44.097Z"
   },
   {
    "duration": 7,
    "start_time": "2021-11-30T09:34:44.108Z"
   },
   {
    "duration": 20,
    "start_time": "2021-11-30T09:34:44.117Z"
   },
   {
    "duration": 6,
    "start_time": "2021-11-30T09:34:44.140Z"
   },
   {
    "duration": 10,
    "start_time": "2021-11-30T09:34:44.148Z"
   },
   {
    "duration": 8,
    "start_time": "2021-11-30T09:34:44.161Z"
   },
   {
    "duration": 7,
    "start_time": "2021-11-30T09:34:44.173Z"
   },
   {
    "duration": 17,
    "start_time": "2021-11-30T09:34:44.183Z"
   },
   {
    "duration": 10,
    "start_time": "2021-11-30T09:34:44.203Z"
   },
   {
    "duration": 14,
    "start_time": "2021-11-30T09:34:44.215Z"
   },
   {
    "duration": 8,
    "start_time": "2021-11-30T09:34:44.232Z"
   },
   {
    "duration": 13,
    "start_time": "2021-11-30T09:34:44.242Z"
   },
   {
    "duration": 10,
    "start_time": "2021-11-30T09:34:44.257Z"
   },
   {
    "duration": 10,
    "start_time": "2021-11-30T09:34:44.269Z"
   },
   {
    "duration": 19,
    "start_time": "2021-11-30T09:34:44.281Z"
   },
   {
    "duration": 12,
    "start_time": "2021-11-30T09:34:44.303Z"
   },
   {
    "duration": 39,
    "start_time": "2021-11-30T09:34:44.319Z"
   },
   {
    "duration": 18,
    "start_time": "2021-11-30T09:34:44.360Z"
   },
   {
    "duration": 79,
    "start_time": "2021-11-30T09:34:44.381Z"
   },
   {
    "duration": 16,
    "start_time": "2021-11-30T09:34:44.463Z"
   },
   {
    "duration": 12,
    "start_time": "2021-11-30T09:34:44.501Z"
   },
   {
    "duration": 6,
    "start_time": "2021-11-30T09:34:44.515Z"
   },
   {
    "duration": 10,
    "start_time": "2021-11-30T09:34:44.523Z"
   },
   {
    "duration": 94,
    "start_time": "2021-11-30T09:34:44.536Z"
   },
   {
    "duration": 2561,
    "start_time": "2021-11-30T09:34:44.633Z"
   },
   {
    "duration": 7,
    "start_time": "2021-11-30T09:34:47.196Z"
   },
   {
    "duration": 14,
    "start_time": "2021-11-30T09:34:47.205Z"
   },
   {
    "duration": 4,
    "start_time": "2021-11-30T09:34:47.222Z"
   },
   {
    "duration": 16,
    "start_time": "2021-11-30T09:34:47.229Z"
   },
   {
    "duration": 25,
    "start_time": "2021-11-30T09:34:47.248Z"
   },
   {
    "duration": 28,
    "start_time": "2021-11-30T09:34:47.278Z"
   },
   {
    "duration": 30,
    "start_time": "2021-11-30T09:34:47.310Z"
   },
   {
    "duration": 8,
    "start_time": "2021-11-30T09:34:47.343Z"
   },
   {
    "duration": 15,
    "start_time": "2021-11-30T09:34:47.353Z"
   },
   {
    "duration": 32,
    "start_time": "2021-11-30T09:34:47.370Z"
   },
   {
    "duration": 10,
    "start_time": "2021-11-30T09:34:47.404Z"
   },
   {
    "duration": 13,
    "start_time": "2021-11-30T09:34:47.416Z"
   },
   {
    "duration": 18,
    "start_time": "2021-11-30T09:34:47.432Z"
   },
   {
    "duration": 10,
    "start_time": "2021-11-30T09:34:47.452Z"
   },
   {
    "duration": 11,
    "start_time": "2021-11-30T09:34:47.464Z"
   },
   {
    "duration": 55,
    "start_time": "2021-11-30T09:34:47.478Z"
   },
   {
    "duration": 6,
    "start_time": "2021-11-30T09:34:47.536Z"
   },
   {
    "duration": 11,
    "start_time": "2021-11-30T09:34:47.545Z"
   },
   {
    "duration": 7,
    "start_time": "2021-11-30T09:34:47.558Z"
   },
   {
    "duration": 35,
    "start_time": "2021-11-30T09:34:47.567Z"
   },
   {
    "duration": 5,
    "start_time": "2021-11-30T09:34:47.605Z"
   },
   {
    "duration": 8,
    "start_time": "2021-11-30T09:34:47.612Z"
   },
   {
    "duration": 10,
    "start_time": "2021-11-30T09:34:47.623Z"
   },
   {
    "duration": 13,
    "start_time": "2021-11-30T09:34:47.635Z"
   },
   {
    "duration": 9,
    "start_time": "2021-11-30T09:34:47.650Z"
   },
   {
    "duration": 55,
    "start_time": "2021-11-30T09:34:47.661Z"
   },
   {
    "duration": 146,
    "start_time": "2021-11-30T09:34:47.719Z"
   },
   {
    "duration": 14,
    "start_time": "2021-11-30T09:34:47.868Z"
   },
   {
    "duration": 262,
    "start_time": "2021-11-30T09:34:47.901Z"
   },
   {
    "duration": 141,
    "start_time": "2021-11-30T09:34:48.165Z"
   },
   {
    "duration": 135,
    "start_time": "2021-11-30T09:34:48.309Z"
   },
   {
    "duration": 136,
    "start_time": "2021-11-30T09:34:48.446Z"
   },
   {
    "duration": 117,
    "start_time": "2021-11-30T09:34:48.584Z"
   },
   {
    "duration": 136,
    "start_time": "2021-11-30T09:34:48.705Z"
   },
   {
    "duration": 134,
    "start_time": "2021-11-30T09:34:48.843Z"
   },
   {
    "duration": 5,
    "start_time": "2021-11-30T09:34:48.980Z"
   },
   {
    "duration": 99,
    "start_time": "2021-11-30T09:34:48.987Z"
   },
   {
    "duration": 24,
    "start_time": "2021-11-30T09:34:49.088Z"
   },
   {
    "duration": 187,
    "start_time": "2021-11-30T09:34:49.115Z"
   },
   {
    "duration": 269,
    "start_time": "2021-11-30T09:34:49.305Z"
   },
   {
    "duration": 267,
    "start_time": "2021-11-30T09:34:49.577Z"
   },
   {
    "duration": 6,
    "start_time": "2021-11-30T09:34:49.846Z"
   },
   {
    "duration": 25,
    "start_time": "2021-11-30T09:34:49.854Z"
   },
   {
    "duration": 25,
    "start_time": "2021-11-30T09:34:49.882Z"
   },
   {
    "duration": 92,
    "start_time": "2021-11-30T09:34:49.909Z"
   },
   {
    "duration": 112,
    "start_time": "2021-11-30T09:34:50.005Z"
   },
   {
    "duration": 52,
    "start_time": "2021-11-30T09:34:50.123Z"
   },
   {
    "duration": 63,
    "start_time": "2021-11-30T09:34:50.201Z"
   },
   {
    "duration": 4,
    "start_time": "2021-11-30T09:34:50.301Z"
   },
   {
    "duration": 94,
    "start_time": "2021-11-30T09:34:50.308Z"
   },
   {
    "duration": 428,
    "start_time": "2021-11-30T09:34:50.405Z"
   },
   {
    "duration": 44,
    "start_time": "2021-11-30T09:34:50.836Z"
   },
   {
    "duration": 20,
    "start_time": "2021-11-30T09:34:50.882Z"
   },
   {
    "duration": 21,
    "start_time": "2021-11-30T09:34:50.905Z"
   },
   {
    "duration": 351,
    "start_time": "2021-11-30T09:34:50.928Z"
   },
   {
    "duration": 127,
    "start_time": "2021-11-30T09:34:51.281Z"
   },
   {
    "duration": 4,
    "start_time": "2021-11-30T09:34:51.412Z"
   },
   {
    "duration": 390,
    "start_time": "2021-11-30T09:34:51.419Z"
   },
   {
    "duration": 457,
    "start_time": "2021-11-30T09:34:51.812Z"
   },
   {
    "duration": 1083,
    "start_time": "2021-11-30T09:34:52.271Z"
   },
   {
    "duration": 134,
    "start_time": "2021-11-30T09:34:53.356Z"
   },
   {
    "duration": 822,
    "start_time": "2021-11-30T10:30:03.833Z"
   },
   {
    "duration": 267,
    "start_time": "2021-11-30T10:30:04.658Z"
   },
   {
    "duration": 4,
    "start_time": "2021-11-30T10:30:04.928Z"
   },
   {
    "duration": 13,
    "start_time": "2021-11-30T10:30:04.934Z"
   },
   {
    "duration": 418,
    "start_time": "2021-11-30T10:30:04.950Z"
   },
   {
    "duration": 3,
    "start_time": "2021-11-30T10:30:05.371Z"
   },
   {
    "duration": 27,
    "start_time": "2021-11-30T10:30:05.377Z"
   },
   {
    "duration": 48,
    "start_time": "2021-11-30T10:30:05.408Z"
   },
   {
    "duration": 33,
    "start_time": "2021-11-30T10:30:05.459Z"
   },
   {
    "duration": 3,
    "start_time": "2021-11-30T10:30:05.495Z"
   },
   {
    "duration": 49,
    "start_time": "2021-11-30T10:30:05.501Z"
   },
   {
    "duration": 42,
    "start_time": "2021-11-30T10:30:05.552Z"
   },
   {
    "duration": 123,
    "start_time": "2021-11-30T10:30:05.597Z"
   },
   {
    "duration": 13,
    "start_time": "2021-11-30T10:30:05.723Z"
   },
   {
    "duration": 47,
    "start_time": "2021-11-30T10:30:05.739Z"
   },
   {
    "duration": 76,
    "start_time": "2021-11-30T10:30:05.788Z"
   },
   {
    "duration": 59,
    "start_time": "2021-11-30T10:30:05.867Z"
   },
   {
    "duration": 30,
    "start_time": "2021-11-30T10:30:05.929Z"
   },
   {
    "duration": 14,
    "start_time": "2021-11-30T10:30:05.962Z"
   },
   {
    "duration": 17,
    "start_time": "2021-11-30T10:30:05.978Z"
   },
   {
    "duration": 55,
    "start_time": "2021-11-30T10:30:05.997Z"
   },
   {
    "duration": 24,
    "start_time": "2021-11-30T10:30:06.054Z"
   },
   {
    "duration": 65,
    "start_time": "2021-11-30T10:30:06.085Z"
   },
   {
    "duration": 18,
    "start_time": "2021-11-30T10:30:06.154Z"
   },
   {
    "duration": 45,
    "start_time": "2021-11-30T10:30:06.175Z"
   },
   {
    "duration": 26,
    "start_time": "2021-11-30T10:30:06.223Z"
   },
   {
    "duration": 11,
    "start_time": "2021-11-30T10:30:06.252Z"
   },
   {
    "duration": 61,
    "start_time": "2021-11-30T10:30:06.266Z"
   },
   {
    "duration": 2426,
    "start_time": "2021-11-30T10:30:06.329Z"
   },
   {
    "duration": 8,
    "start_time": "2021-11-30T10:30:08.757Z"
   },
   {
    "duration": 22,
    "start_time": "2021-11-30T10:30:08.767Z"
   },
   {
    "duration": 6,
    "start_time": "2021-11-30T10:30:08.801Z"
   },
   {
    "duration": 15,
    "start_time": "2021-11-30T10:30:08.809Z"
   },
   {
    "duration": 38,
    "start_time": "2021-11-30T10:30:08.826Z"
   },
   {
    "duration": 7,
    "start_time": "2021-11-30T10:30:08.867Z"
   },
   {
    "duration": 38,
    "start_time": "2021-11-30T10:30:08.876Z"
   },
   {
    "duration": 8,
    "start_time": "2021-11-30T10:30:08.916Z"
   },
   {
    "duration": 8,
    "start_time": "2021-11-30T10:30:08.927Z"
   },
   {
    "duration": 8,
    "start_time": "2021-11-30T10:30:08.937Z"
   },
   {
    "duration": 12,
    "start_time": "2021-11-30T10:30:08.947Z"
   },
   {
    "duration": 39,
    "start_time": "2021-11-30T10:30:08.961Z"
   },
   {
    "duration": 6,
    "start_time": "2021-11-30T10:30:09.002Z"
   },
   {
    "duration": 11,
    "start_time": "2021-11-30T10:30:09.011Z"
   },
   {
    "duration": 14,
    "start_time": "2021-11-30T10:30:09.026Z"
   },
   {
    "duration": 75,
    "start_time": "2021-11-30T10:30:09.044Z"
   },
   {
    "duration": 7,
    "start_time": "2021-11-30T10:30:09.123Z"
   },
   {
    "duration": 13,
    "start_time": "2021-11-30T10:30:09.133Z"
   },
   {
    "duration": 22,
    "start_time": "2021-11-30T10:30:09.148Z"
   },
   {
    "duration": 17,
    "start_time": "2021-11-30T10:30:09.173Z"
   },
   {
    "duration": 7,
    "start_time": "2021-11-30T10:30:09.201Z"
   },
   {
    "duration": 22,
    "start_time": "2021-11-30T10:30:09.210Z"
   },
   {
    "duration": 12,
    "start_time": "2021-11-30T10:30:09.234Z"
   },
   {
    "duration": 16,
    "start_time": "2021-11-30T10:30:09.248Z"
   },
   {
    "duration": 10,
    "start_time": "2021-11-30T10:30:09.266Z"
   },
   {
    "duration": 25,
    "start_time": "2021-11-30T10:30:09.300Z"
   },
   {
    "duration": 145,
    "start_time": "2021-11-30T10:30:09.328Z"
   },
   {
    "duration": 11,
    "start_time": "2021-11-30T10:30:09.475Z"
   },
   {
    "duration": 256,
    "start_time": "2021-11-30T10:30:09.501Z"
   },
   {
    "duration": 141,
    "start_time": "2021-11-30T10:30:09.759Z"
   },
   {
    "duration": 157,
    "start_time": "2021-11-30T10:30:09.904Z"
   },
   {
    "duration": 193,
    "start_time": "2021-11-30T10:30:10.065Z"
   },
   {
    "duration": 139,
    "start_time": "2021-11-30T10:30:10.261Z"
   },
   {
    "duration": 136,
    "start_time": "2021-11-30T10:30:10.404Z"
   },
   {
    "duration": 143,
    "start_time": "2021-11-30T10:30:10.544Z"
   },
   {
    "duration": 16,
    "start_time": "2021-11-30T10:30:10.690Z"
   },
   {
    "duration": 40,
    "start_time": "2021-11-30T10:30:10.709Z"
   },
   {
    "duration": 22,
    "start_time": "2021-11-30T10:30:10.751Z"
   },
   {
    "duration": 222,
    "start_time": "2021-11-30T10:30:10.782Z"
   },
   {
    "duration": 175,
    "start_time": "2021-11-30T10:30:11.009Z"
   },
   {
    "duration": 266,
    "start_time": "2021-11-30T10:30:11.186Z"
   },
   {
    "duration": 6,
    "start_time": "2021-11-30T10:30:11.454Z"
   },
   {
    "duration": 33,
    "start_time": "2021-11-30T10:30:11.463Z"
   },
   {
    "duration": 12,
    "start_time": "2021-11-30T10:30:11.500Z"
   },
   {
    "duration": 90,
    "start_time": "2021-11-30T10:30:11.515Z"
   },
   {
    "duration": 117,
    "start_time": "2021-11-30T10:30:11.608Z"
   },
   {
    "duration": 54,
    "start_time": "2021-11-30T10:30:11.727Z"
   },
   {
    "duration": 125,
    "start_time": "2021-11-30T10:30:11.784Z"
   },
   {
    "duration": 89,
    "start_time": "2021-11-30T10:30:11.912Z"
   },
   {
    "duration": 22,
    "start_time": "2021-11-30T10:30:12.004Z"
   },
   {
    "duration": 381,
    "start_time": "2021-11-30T10:30:12.029Z"
   },
   {
    "duration": 44,
    "start_time": "2021-11-30T10:30:12.412Z"
   },
   {
    "duration": 4,
    "start_time": "2021-11-30T10:30:12.458Z"
   },
   {
    "duration": 19,
    "start_time": "2021-11-30T10:30:12.464Z"
   },
   {
    "duration": 353,
    "start_time": "2021-11-30T10:30:12.501Z"
   },
   {
    "duration": 127,
    "start_time": "2021-11-30T10:30:12.856Z"
   },
   {
    "duration": 16,
    "start_time": "2021-11-30T10:30:12.986Z"
   },
   {
    "duration": 366,
    "start_time": "2021-11-30T10:30:13.004Z"
   },
   {
    "duration": 436,
    "start_time": "2021-11-30T10:30:13.372Z"
   },
   {
    "duration": 1060,
    "start_time": "2021-11-30T10:30:13.811Z"
   },
   {
    "duration": 242,
    "start_time": "2021-11-30T10:30:14.874Z"
   },
   {
    "duration": 272198,
    "start_time": "2021-11-30T10:30:15.118Z"
   },
   {
    "duration": 1228,
    "start_time": "2021-11-30T10:35:13.861Z"
   },
   {
    "duration": 1254,
    "start_time": "2021-11-30T10:38:27.588Z"
   },
   {
    "duration": 494,
    "start_time": "2021-11-30T10:55:51.708Z"
   },
   {
    "duration": 1312,
    "start_time": "2021-11-30T11:07:11.271Z"
   },
   {
    "duration": 333,
    "start_time": "2021-11-30T11:07:12.586Z"
   },
   {
    "duration": 4,
    "start_time": "2021-11-30T11:07:12.922Z"
   },
   {
    "duration": 8,
    "start_time": "2021-11-30T11:07:12.928Z"
   },
   {
    "duration": 333,
    "start_time": "2021-11-30T11:07:12.938Z"
   },
   {
    "duration": 4,
    "start_time": "2021-11-30T11:07:13.273Z"
   },
   {
    "duration": 7,
    "start_time": "2021-11-30T11:07:13.279Z"
   },
   {
    "duration": 3,
    "start_time": "2021-11-30T11:07:13.303Z"
   },
   {
    "duration": 32,
    "start_time": "2021-11-30T11:07:13.309Z"
   },
   {
    "duration": 3,
    "start_time": "2021-11-30T11:07:13.344Z"
   },
   {
    "duration": 13,
    "start_time": "2021-11-30T11:07:13.349Z"
   },
   {
    "duration": 10,
    "start_time": "2021-11-30T11:07:13.364Z"
   },
   {
    "duration": 130,
    "start_time": "2021-11-30T11:07:13.377Z"
   },
   {
    "duration": 14,
    "start_time": "2021-11-30T11:07:13.509Z"
   },
   {
    "duration": 4,
    "start_time": "2021-11-30T11:07:13.525Z"
   },
   {
    "duration": 6,
    "start_time": "2021-11-30T11:07:13.531Z"
   },
   {
    "duration": 8,
    "start_time": "2021-11-30T11:07:13.540Z"
   },
   {
    "duration": 8,
    "start_time": "2021-11-30T11:07:13.551Z"
   },
   {
    "duration": 9,
    "start_time": "2021-11-30T11:07:13.562Z"
   },
   {
    "duration": 4,
    "start_time": "2021-11-30T11:07:13.601Z"
   },
   {
    "duration": 44,
    "start_time": "2021-11-30T11:07:13.607Z"
   },
   {
    "duration": 24,
    "start_time": "2021-11-30T11:07:13.653Z"
   },
   {
    "duration": 80,
    "start_time": "2021-11-30T11:07:13.683Z"
   },
   {
    "duration": 17,
    "start_time": "2021-11-30T11:07:13.767Z"
   },
   {
    "duration": 24,
    "start_time": "2021-11-30T11:07:13.787Z"
   },
   {
    "duration": 6,
    "start_time": "2021-11-30T11:07:13.813Z"
   },
   {
    "duration": 11,
    "start_time": "2021-11-30T11:07:13.821Z"
   },
   {
    "duration": 90,
    "start_time": "2021-11-30T11:07:13.834Z"
   },
   {
    "duration": 2384,
    "start_time": "2021-11-30T11:07:13.927Z"
   },
   {
    "duration": 7,
    "start_time": "2021-11-30T11:07:16.314Z"
   },
   {
    "duration": 25,
    "start_time": "2021-11-30T11:07:16.323Z"
   },
   {
    "duration": 20,
    "start_time": "2021-11-30T11:07:16.351Z"
   },
   {
    "duration": 12,
    "start_time": "2021-11-30T11:07:16.374Z"
   },
   {
    "duration": 40,
    "start_time": "2021-11-30T11:07:16.388Z"
   },
   {
    "duration": 12,
    "start_time": "2021-11-30T11:07:16.430Z"
   },
   {
    "duration": 44,
    "start_time": "2021-11-30T11:07:16.445Z"
   },
   {
    "duration": 12,
    "start_time": "2021-11-30T11:07:16.491Z"
   },
   {
    "duration": 9,
    "start_time": "2021-11-30T11:07:16.505Z"
   },
   {
    "duration": 10,
    "start_time": "2021-11-30T11:07:16.516Z"
   },
   {
    "duration": 9,
    "start_time": "2021-11-30T11:07:16.528Z"
   },
   {
    "duration": 8,
    "start_time": "2021-11-30T11:07:16.540Z"
   },
   {
    "duration": 10,
    "start_time": "2021-11-30T11:07:16.550Z"
   },
   {
    "duration": 40,
    "start_time": "2021-11-30T11:07:16.562Z"
   },
   {
    "duration": 10,
    "start_time": "2021-11-30T11:07:16.604Z"
   },
   {
    "duration": 46,
    "start_time": "2021-11-30T11:07:16.616Z"
   },
   {
    "duration": 6,
    "start_time": "2021-11-30T11:07:16.665Z"
   },
   {
    "duration": 27,
    "start_time": "2021-11-30T11:07:16.673Z"
   },
   {
    "duration": 7,
    "start_time": "2021-11-30T11:07:16.703Z"
   },
   {
    "duration": 12,
    "start_time": "2021-11-30T11:07:16.712Z"
   },
   {
    "duration": 9,
    "start_time": "2021-11-30T11:07:16.727Z"
   },
   {
    "duration": 20,
    "start_time": "2021-11-30T11:07:16.739Z"
   },
   {
    "duration": 17,
    "start_time": "2021-11-30T11:07:16.761Z"
   },
   {
    "duration": 20,
    "start_time": "2021-11-30T11:07:16.781Z"
   },
   {
    "duration": 5,
    "start_time": "2021-11-30T11:07:16.803Z"
   },
   {
    "duration": 26,
    "start_time": "2021-11-30T11:07:16.810Z"
   },
   {
    "duration": 147,
    "start_time": "2021-11-30T11:07:16.839Z"
   },
   {
    "duration": 15,
    "start_time": "2021-11-30T11:07:16.989Z"
   },
   {
    "duration": 267,
    "start_time": "2021-11-30T11:07:17.006Z"
   },
   {
    "duration": 125,
    "start_time": "2021-11-30T11:07:17.276Z"
   },
   {
    "duration": 140,
    "start_time": "2021-11-30T11:07:17.404Z"
   },
   {
    "duration": 142,
    "start_time": "2021-11-30T11:07:17.546Z"
   },
   {
    "duration": 210,
    "start_time": "2021-11-30T11:07:17.691Z"
   },
   {
    "duration": 109,
    "start_time": "2021-11-30T11:07:17.904Z"
   },
   {
    "duration": 126,
    "start_time": "2021-11-30T11:07:18.015Z"
   },
   {
    "duration": 5,
    "start_time": "2021-11-30T11:07:18.144Z"
   },
   {
    "duration": 102,
    "start_time": "2021-11-30T11:07:18.151Z"
   },
   {
    "duration": 37,
    "start_time": "2021-11-30T11:07:18.255Z"
   },
   {
    "duration": 208,
    "start_time": "2021-11-30T11:07:18.299Z"
   },
   {
    "duration": 246,
    "start_time": "2021-11-30T11:07:18.511Z"
   },
   {
    "duration": 322,
    "start_time": "2021-11-30T11:07:18.760Z"
   },
   {
    "duration": 16,
    "start_time": "2021-11-30T11:07:19.085Z"
   },
   {
    "duration": 22,
    "start_time": "2021-11-30T11:07:19.103Z"
   },
   {
    "duration": 12,
    "start_time": "2021-11-30T11:07:19.127Z"
   },
   {
    "duration": 73,
    "start_time": "2021-11-30T11:07:19.141Z"
   },
   {
    "duration": 102,
    "start_time": "2021-11-30T11:07:19.302Z"
   },
   {
    "duration": 52,
    "start_time": "2021-11-30T11:07:19.406Z"
   },
   {
    "duration": 82,
    "start_time": "2021-11-30T11:07:19.461Z"
   },
   {
    "duration": 97,
    "start_time": "2021-11-30T11:07:19.604Z"
   },
   {
    "duration": 9,
    "start_time": "2021-11-30T11:07:19.703Z"
   },
   {
    "duration": 403,
    "start_time": "2021-11-30T11:07:19.714Z"
   },
   {
    "duration": 45,
    "start_time": "2021-11-30T11:07:20.120Z"
   },
   {
    "duration": 4,
    "start_time": "2021-11-30T11:07:20.167Z"
   },
   {
    "duration": 44,
    "start_time": "2021-11-30T11:07:20.173Z"
   },
   {
    "duration": 359,
    "start_time": "2021-11-30T11:07:20.219Z"
   },
   {
    "duration": 129,
    "start_time": "2021-11-30T11:07:20.581Z"
   },
   {
    "duration": 3,
    "start_time": "2021-11-30T11:07:20.712Z"
   },
   {
    "duration": 382,
    "start_time": "2021-11-30T11:07:20.718Z"
   },
   {
    "duration": 498,
    "start_time": "2021-11-30T11:07:21.103Z"
   },
   {
    "duration": 1064,
    "start_time": "2021-11-30T11:07:21.604Z"
   },
   {
    "duration": 161,
    "start_time": "2021-11-30T11:07:22.671Z"
   },
   {
    "duration": 92372,
    "start_time": "2021-11-30T11:07:22.835Z"
   },
   {
    "duration": 1312,
    "start_time": "2021-11-30T11:08:55.210Z"
   },
   {
    "duration": 658,
    "start_time": "2021-12-01T11:00:58.670Z"
   },
   {
    "duration": 230,
    "start_time": "2021-12-01T11:00:59.330Z"
   },
   {
    "duration": 3,
    "start_time": "2021-12-01T11:00:59.646Z"
   },
   {
    "duration": 10,
    "start_time": "2021-12-01T11:00:59.651Z"
   },
   {
    "duration": 263,
    "start_time": "2021-12-01T11:00:59.662Z"
   },
   {
    "duration": 3,
    "start_time": "2021-12-01T11:00:59.927Z"
   },
   {
    "duration": 24,
    "start_time": "2021-12-01T11:00:59.932Z"
   },
   {
    "duration": 20,
    "start_time": "2021-12-01T11:00:59.959Z"
   },
   {
    "duration": 51,
    "start_time": "2021-12-01T11:00:59.981Z"
   },
   {
    "duration": 20,
    "start_time": "2021-12-01T11:01:00.034Z"
   },
   {
    "duration": 19,
    "start_time": "2021-12-01T11:01:00.056Z"
   },
   {
    "duration": 27,
    "start_time": "2021-12-01T11:01:00.078Z"
   },
   {
    "duration": 102,
    "start_time": "2021-12-01T11:01:00.107Z"
   },
   {
    "duration": 10,
    "start_time": "2021-12-01T11:01:00.211Z"
   },
   {
    "duration": 9,
    "start_time": "2021-12-01T11:01:00.222Z"
   },
   {
    "duration": 24,
    "start_time": "2021-12-01T11:01:00.233Z"
   },
   {
    "duration": 19,
    "start_time": "2021-12-01T11:01:00.259Z"
   },
   {
    "duration": 26,
    "start_time": "2021-12-01T11:01:00.280Z"
   },
   {
    "duration": 11,
    "start_time": "2021-12-01T11:01:00.308Z"
   },
   {
    "duration": 11,
    "start_time": "2021-12-01T11:01:00.321Z"
   },
   {
    "duration": 34,
    "start_time": "2021-12-01T11:01:00.334Z"
   },
   {
    "duration": 15,
    "start_time": "2021-12-01T11:01:00.370Z"
   },
   {
    "duration": 45,
    "start_time": "2021-12-01T11:01:00.390Z"
   },
   {
    "duration": 14,
    "start_time": "2021-12-01T11:01:00.438Z"
   },
   {
    "duration": 14,
    "start_time": "2021-12-01T11:01:00.454Z"
   },
   {
    "duration": 10,
    "start_time": "2021-12-01T11:01:00.470Z"
   },
   {
    "duration": 18,
    "start_time": "2021-12-01T11:01:00.481Z"
   },
   {
    "duration": 48,
    "start_time": "2021-12-01T11:01:00.501Z"
   },
   {
    "duration": 1763,
    "start_time": "2021-12-01T11:01:00.550Z"
   },
   {
    "duration": 5,
    "start_time": "2021-12-01T11:01:02.315Z"
   },
   {
    "duration": 44,
    "start_time": "2021-12-01T11:01:02.322Z"
   },
   {
    "duration": 49,
    "start_time": "2021-12-01T11:01:02.367Z"
   },
   {
    "duration": 36,
    "start_time": "2021-12-01T11:01:02.418Z"
   },
   {
    "duration": 40,
    "start_time": "2021-12-01T11:01:02.456Z"
   },
   {
    "duration": 29,
    "start_time": "2021-12-01T11:01:02.497Z"
   },
   {
    "duration": 46,
    "start_time": "2021-12-01T11:01:02.528Z"
   },
   {
    "duration": 46,
    "start_time": "2021-12-01T11:01:02.576Z"
   },
   {
    "duration": 55,
    "start_time": "2021-12-01T11:01:02.624Z"
   },
   {
    "duration": 55,
    "start_time": "2021-12-01T11:01:02.681Z"
   },
   {
    "duration": 46,
    "start_time": "2021-12-01T11:01:02.737Z"
   },
   {
    "duration": 44,
    "start_time": "2021-12-01T11:01:02.785Z"
   },
   {
    "duration": 29,
    "start_time": "2021-12-01T11:01:02.831Z"
   },
   {
    "duration": 48,
    "start_time": "2021-12-01T11:01:02.862Z"
   },
   {
    "duration": 47,
    "start_time": "2021-12-01T11:01:02.912Z"
   },
   {
    "duration": 62,
    "start_time": "2021-12-01T11:01:02.961Z"
   },
   {
    "duration": 25,
    "start_time": "2021-12-01T11:01:03.025Z"
   },
   {
    "duration": 29,
    "start_time": "2021-12-01T11:01:03.052Z"
   },
   {
    "duration": 52,
    "start_time": "2021-12-01T11:01:03.082Z"
   },
   {
    "duration": 27,
    "start_time": "2021-12-01T11:01:03.136Z"
   },
   {
    "duration": 57,
    "start_time": "2021-12-01T11:01:03.165Z"
   },
   {
    "duration": 33,
    "start_time": "2021-12-01T11:01:03.223Z"
   },
   {
    "duration": 27,
    "start_time": "2021-12-01T11:01:03.257Z"
   },
   {
    "duration": 26,
    "start_time": "2021-12-01T11:01:03.286Z"
   },
   {
    "duration": 30,
    "start_time": "2021-12-01T11:01:03.313Z"
   },
   {
    "duration": 65,
    "start_time": "2021-12-01T11:01:03.344Z"
   },
   {
    "duration": 167,
    "start_time": "2021-12-01T11:01:03.410Z"
   },
   {
    "duration": 32,
    "start_time": "2021-12-01T11:01:03.579Z"
   },
   {
    "duration": 181,
    "start_time": "2021-12-01T11:01:03.613Z"
   },
   {
    "duration": 59,
    "start_time": "2021-12-01T11:01:03.797Z"
   },
   {
    "duration": 208,
    "start_time": "2021-12-01T11:01:03.858Z"
   },
   {
    "duration": 94,
    "start_time": "2021-12-01T11:01:04.068Z"
   },
   {
    "duration": 81,
    "start_time": "2021-12-01T11:01:04.164Z"
   },
   {
    "duration": 124,
    "start_time": "2021-12-01T11:01:04.247Z"
   },
   {
    "duration": 93,
    "start_time": "2021-12-01T11:01:04.373Z"
   },
   {
    "duration": 4,
    "start_time": "2021-12-01T11:01:04.468Z"
   },
   {
    "duration": 67,
    "start_time": "2021-12-01T11:01:04.474Z"
   },
   {
    "duration": 23,
    "start_time": "2021-12-01T11:01:04.543Z"
   },
   {
    "duration": 110,
    "start_time": "2021-12-01T11:01:04.571Z"
   },
   {
    "duration": 200,
    "start_time": "2021-12-01T11:01:04.683Z"
   },
   {
    "duration": 156,
    "start_time": "2021-12-01T11:01:04.885Z"
   },
   {
    "duration": 4,
    "start_time": "2021-12-01T11:01:05.045Z"
   },
   {
    "duration": 50,
    "start_time": "2021-12-01T11:01:05.051Z"
   },
   {
    "duration": 34,
    "start_time": "2021-12-01T11:01:05.103Z"
   },
   {
    "duration": 58,
    "start_time": "2021-12-01T11:01:05.139Z"
   },
   {
    "duration": 149,
    "start_time": "2021-12-01T11:01:05.199Z"
   },
   {
    "duration": 56,
    "start_time": "2021-12-01T11:01:05.350Z"
   },
   {
    "duration": 36,
    "start_time": "2021-12-01T11:01:05.408Z"
   },
   {
    "duration": 4,
    "start_time": "2021-12-01T11:01:05.447Z"
   },
   {
    "duration": 193,
    "start_time": "2021-12-01T11:01:05.454Z"
   },
   {
    "duration": 225,
    "start_time": "2021-12-01T11:01:05.649Z"
   },
   {
    "duration": 29,
    "start_time": "2021-12-01T11:01:05.876Z"
   },
   {
    "duration": 2,
    "start_time": "2021-12-01T11:01:05.907Z"
   },
   {
    "duration": 16,
    "start_time": "2021-12-01T11:01:05.911Z"
   },
   {
    "duration": 216,
    "start_time": "2021-12-01T11:01:05.928Z"
   },
   {
    "duration": 80,
    "start_time": "2021-12-01T11:01:06.146Z"
   },
   {
    "duration": 17,
    "start_time": "2021-12-01T11:01:06.228Z"
   },
   {
    "duration": 209,
    "start_time": "2021-12-01T11:01:06.246Z"
   },
   {
    "duration": 327,
    "start_time": "2021-12-01T11:01:06.457Z"
   },
   {
    "duration": 616,
    "start_time": "2021-12-01T11:01:06.786Z"
   },
   {
    "duration": 86,
    "start_time": "2021-12-01T11:01:07.404Z"
   },
   {
    "duration": 55385,
    "start_time": "2021-12-01T11:01:07.492Z"
   },
   {
    "duration": 869,
    "start_time": "2021-12-01T11:02:02.878Z"
   },
   {
    "duration": 87,
    "start_time": "2021-12-01T11:02:03.750Z"
   },
   {
    "duration": 5,
    "start_time": "2021-12-01T11:03:57.186Z"
   },
   {
    "duration": 11,
    "start_time": "2021-12-01T11:06:21.662Z"
   },
   {
    "duration": 5,
    "start_time": "2021-12-01T11:08:23.415Z"
   },
   {
    "duration": 28,
    "start_time": "2021-12-01T11:08:23.434Z"
   },
   {
    "duration": 17,
    "start_time": "2021-12-01T11:08:23.464Z"
   },
   {
    "duration": 50,
    "start_time": "2021-12-01T11:08:23.483Z"
   },
   {
    "duration": 14,
    "start_time": "2021-12-01T11:08:23.535Z"
   },
   {
    "duration": 36,
    "start_time": "2021-12-01T11:08:23.550Z"
   },
   {
    "duration": 9,
    "start_time": "2021-12-01T11:08:23.587Z"
   },
   {
    "duration": 31,
    "start_time": "2021-12-01T11:08:23.598Z"
   },
   {
    "duration": 49,
    "start_time": "2021-12-01T11:08:23.631Z"
   },
   {
    "duration": 1751,
    "start_time": "2021-12-01T11:08:23.682Z"
   },
   {
    "duration": 9,
    "start_time": "2021-12-01T11:08:25.435Z"
   },
   {
    "duration": 11,
    "start_time": "2021-12-01T11:08:25.446Z"
   },
   {
    "duration": 4,
    "start_time": "2021-12-01T11:08:25.459Z"
   },
   {
    "duration": 4,
    "start_time": "2021-12-01T11:08:25.465Z"
   },
   {
    "duration": 14,
    "start_time": "2021-12-01T11:08:25.471Z"
   },
   {
    "duration": 5,
    "start_time": "2021-12-01T11:08:25.487Z"
   },
   {
    "duration": 6,
    "start_time": "2021-12-01T11:08:25.494Z"
   },
   {
    "duration": 5,
    "start_time": "2021-12-01T11:08:25.501Z"
   },
   {
    "duration": 37,
    "start_time": "2021-12-01T11:08:25.509Z"
   },
   {
    "duration": 4,
    "start_time": "2021-12-01T11:08:25.549Z"
   },
   {
    "duration": 5,
    "start_time": "2021-12-01T11:08:25.555Z"
   },
   {
    "duration": 6,
    "start_time": "2021-12-01T11:08:25.561Z"
   },
   {
    "duration": 5,
    "start_time": "2021-12-01T11:08:25.569Z"
   },
   {
    "duration": 4,
    "start_time": "2021-12-01T11:08:25.576Z"
   },
   {
    "duration": 12,
    "start_time": "2021-12-01T11:08:25.582Z"
   },
   {
    "duration": 66,
    "start_time": "2021-12-01T11:08:25.596Z"
   },
   {
    "duration": 4,
    "start_time": "2021-12-01T11:08:25.664Z"
   },
   {
    "duration": 9,
    "start_time": "2021-12-01T11:08:25.669Z"
   },
   {
    "duration": 5,
    "start_time": "2021-12-01T11:08:25.680Z"
   },
   {
    "duration": 4,
    "start_time": "2021-12-01T11:08:25.687Z"
   },
   {
    "duration": 5,
    "start_time": "2021-12-01T11:08:25.692Z"
   },
   {
    "duration": 6,
    "start_time": "2021-12-01T11:08:25.699Z"
   },
   {
    "duration": 5,
    "start_time": "2021-12-01T11:08:25.706Z"
   },
   {
    "duration": 3,
    "start_time": "2021-12-01T11:08:25.744Z"
   },
   {
    "duration": 6,
    "start_time": "2021-12-01T11:08:25.749Z"
   },
   {
    "duration": 17,
    "start_time": "2021-12-01T11:08:25.756Z"
   },
   {
    "duration": 106,
    "start_time": "2021-12-01T11:08:25.775Z"
   },
   {
    "duration": 8,
    "start_time": "2021-12-01T11:08:25.883Z"
   },
   {
    "duration": 155,
    "start_time": "2021-12-01T11:08:25.893Z"
   },
   {
    "duration": 36,
    "start_time": "2021-12-01T11:08:26.050Z"
   },
   {
    "duration": 126,
    "start_time": "2021-12-01T11:08:26.146Z"
   },
   {
    "duration": 87,
    "start_time": "2021-12-01T11:08:26.274Z"
   },
   {
    "duration": 30,
    "start_time": "2021-12-01T11:08:26.362Z"
   },
   {
    "duration": 126,
    "start_time": "2021-12-01T11:08:26.448Z"
   },
   {
    "duration": 89,
    "start_time": "2021-12-01T11:08:26.576Z"
   },
   {
    "duration": 4,
    "start_time": "2021-12-01T11:08:26.667Z"
   },
   {
    "duration": 17,
    "start_time": "2021-12-01T11:08:26.673Z"
   },
   {
    "duration": 10,
    "start_time": "2021-12-01T11:08:26.692Z"
   },
   {
    "duration": 140,
    "start_time": "2021-12-01T11:08:26.703Z"
   },
   {
    "duration": 143,
    "start_time": "2021-12-01T11:08:26.846Z"
   },
   {
    "duration": 160,
    "start_time": "2021-12-01T11:08:26.993Z"
   },
   {
    "duration": 3,
    "start_time": "2021-12-01T11:08:27.156Z"
   },
   {
    "duration": 14,
    "start_time": "2021-12-01T11:08:27.161Z"
   },
   {
    "duration": 8,
    "start_time": "2021-12-01T11:08:27.177Z"
   },
   {
    "duration": 63,
    "start_time": "2021-12-01T11:08:27.187Z"
   },
   {
    "duration": 103,
    "start_time": "2021-12-01T11:08:27.253Z"
   },
   {
    "duration": 87,
    "start_time": "2021-12-01T11:08:27.358Z"
   },
   {
    "duration": 98,
    "start_time": "2021-12-01T11:08:27.447Z"
   },
   {
    "duration": 3,
    "start_time": "2021-12-01T11:08:27.548Z"
   },
   {
    "duration": 91,
    "start_time": "2021-12-01T11:08:27.554Z"
   },
   {
    "duration": 204,
    "start_time": "2021-12-01T11:08:27.647Z"
   },
   {
    "duration": 30,
    "start_time": "2021-12-01T11:08:27.853Z"
   },
   {
    "duration": 2,
    "start_time": "2021-12-01T11:08:27.885Z"
   },
   {
    "duration": 13,
    "start_time": "2021-12-01T11:08:27.889Z"
   },
   {
    "duration": 199,
    "start_time": "2021-12-01T11:08:27.903Z"
   },
   {
    "duration": 82,
    "start_time": "2021-12-01T11:08:28.103Z"
   },
   {
    "duration": 3,
    "start_time": "2021-12-01T11:08:28.186Z"
   },
   {
    "duration": 200,
    "start_time": "2021-12-01T11:08:28.190Z"
   },
   {
    "duration": 293,
    "start_time": "2021-12-01T11:08:28.391Z"
   },
   {
    "duration": 617,
    "start_time": "2021-12-01T11:08:28.686Z"
   },
   {
    "duration": 86,
    "start_time": "2021-12-01T11:08:29.304Z"
   },
   {
    "duration": 61770,
    "start_time": "2021-12-01T11:08:29.392Z"
   },
   {
    "duration": 875,
    "start_time": "2021-12-01T11:09:31.163Z"
   },
   {
    "duration": 94,
    "start_time": "2021-12-01T11:13:25.601Z"
   },
   {
    "duration": 87,
    "start_time": "2021-12-01T11:13:50.284Z"
   },
   {
    "duration": 91,
    "start_time": "2021-12-01T11:14:07.394Z"
   },
   {
    "duration": 85,
    "start_time": "2021-12-01T11:14:41.681Z"
   },
   {
    "duration": 36,
    "start_time": "2021-12-01T11:15:07.997Z"
   },
   {
    "duration": 52,
    "start_time": "2021-12-01T11:15:38.393Z"
   },
   {
    "duration": 105,
    "start_time": "2021-12-01T11:17:24.939Z"
   },
   {
    "duration": 473,
    "start_time": "2021-12-01T11:18:01.112Z"
   },
   {
    "duration": 36,
    "start_time": "2021-12-01T11:18:10.649Z"
   },
   {
    "duration": 85,
    "start_time": "2021-12-01T11:18:21.741Z"
   },
   {
    "duration": 64,
    "start_time": "2021-12-01T11:19:59.599Z"
   },
   {
    "duration": 59,
    "start_time": "2021-12-01T11:20:28.001Z"
   },
   {
    "duration": 156,
    "start_time": "2021-12-01T11:20:40.210Z"
   },
   {
    "duration": 39,
    "start_time": "2021-12-01T11:21:20.584Z"
   },
   {
    "duration": 18,
    "start_time": "2021-12-01T11:21:32.905Z"
   },
   {
    "duration": 23,
    "start_time": "2021-12-01T11:21:56.589Z"
   },
   {
    "duration": 223,
    "start_time": "2021-12-01T11:27:07.842Z"
   },
   {
    "duration": 209,
    "start_time": "2021-12-01T11:31:05.959Z"
   },
   {
    "duration": 5,
    "start_time": "2021-12-01T11:31:43.460Z"
   },
   {
    "duration": 196,
    "start_time": "2021-12-01T11:31:43.889Z"
   },
   {
    "duration": 328,
    "start_time": "2021-12-01T11:32:20.556Z"
   },
   {
    "duration": 219,
    "start_time": "2021-12-01T11:32:58.950Z"
   },
   {
    "duration": 5,
    "start_time": "2021-12-01T11:33:07.396Z"
   },
   {
    "duration": 28,
    "start_time": "2021-12-01T11:33:07.435Z"
   },
   {
    "duration": 17,
    "start_time": "2021-12-01T11:33:07.465Z"
   },
   {
    "duration": 58,
    "start_time": "2021-12-01T11:33:07.483Z"
   },
   {
    "duration": 11,
    "start_time": "2021-12-01T11:33:07.543Z"
   },
   {
    "duration": 34,
    "start_time": "2021-12-01T11:33:07.556Z"
   },
   {
    "duration": 7,
    "start_time": "2021-12-01T11:33:07.592Z"
   },
   {
    "duration": 38,
    "start_time": "2021-12-01T11:33:07.601Z"
   },
   {
    "duration": 46,
    "start_time": "2021-12-01T11:33:07.641Z"
   },
   {
    "duration": 1731,
    "start_time": "2021-12-01T11:33:07.690Z"
   },
   {
    "duration": 7,
    "start_time": "2021-12-01T11:33:09.424Z"
   },
   {
    "duration": 35,
    "start_time": "2021-12-01T11:33:09.433Z"
   },
   {
    "duration": 21,
    "start_time": "2021-12-01T11:33:09.470Z"
   },
   {
    "duration": 32,
    "start_time": "2021-12-01T11:33:09.492Z"
   },
   {
    "duration": 36,
    "start_time": "2021-12-01T11:33:09.526Z"
   },
   {
    "duration": 22,
    "start_time": "2021-12-01T11:33:09.564Z"
   },
   {
    "duration": 45,
    "start_time": "2021-12-01T11:33:09.588Z"
   },
   {
    "duration": 34,
    "start_time": "2021-12-01T11:33:09.635Z"
   },
   {
    "duration": 36,
    "start_time": "2021-12-01T11:33:09.671Z"
   },
   {
    "duration": 18,
    "start_time": "2021-12-01T11:33:09.709Z"
   },
   {
    "duration": 31,
    "start_time": "2021-12-01T11:33:09.729Z"
   },
   {
    "duration": 19,
    "start_time": "2021-12-01T11:33:09.762Z"
   },
   {
    "duration": 15,
    "start_time": "2021-12-01T11:33:09.783Z"
   },
   {
    "duration": 28,
    "start_time": "2021-12-01T11:33:09.799Z"
   },
   {
    "duration": 39,
    "start_time": "2021-12-01T11:33:09.828Z"
   },
   {
    "duration": 43,
    "start_time": "2021-12-01T11:33:09.869Z"
   },
   {
    "duration": 7,
    "start_time": "2021-12-01T11:33:09.914Z"
   },
   {
    "duration": 28,
    "start_time": "2021-12-01T11:33:09.925Z"
   },
   {
    "duration": 29,
    "start_time": "2021-12-01T11:33:09.955Z"
   },
   {
    "duration": 17,
    "start_time": "2021-12-01T11:33:09.986Z"
   },
   {
    "duration": 38,
    "start_time": "2021-12-01T11:33:10.005Z"
   },
   {
    "duration": 29,
    "start_time": "2021-12-01T11:33:10.045Z"
   },
   {
    "duration": 28,
    "start_time": "2021-12-01T11:33:10.075Z"
   },
   {
    "duration": 15,
    "start_time": "2021-12-01T11:33:10.104Z"
   },
   {
    "duration": 18,
    "start_time": "2021-12-01T11:33:10.121Z"
   },
   {
    "duration": 36,
    "start_time": "2021-12-01T11:33:10.141Z"
   },
   {
    "duration": 102,
    "start_time": "2021-12-01T11:33:10.178Z"
   },
   {
    "duration": 8,
    "start_time": "2021-12-01T11:33:10.282Z"
   },
   {
    "duration": 163,
    "start_time": "2021-12-01T11:33:10.292Z"
   },
   {
    "duration": 87,
    "start_time": "2021-12-01T11:33:10.457Z"
   },
   {
    "duration": 123,
    "start_time": "2021-12-01T11:33:10.546Z"
   },
   {
    "duration": 97,
    "start_time": "2021-12-01T11:33:10.671Z"
   },
   {
    "duration": 77,
    "start_time": "2021-12-01T11:33:10.770Z"
   },
   {
    "duration": 124,
    "start_time": "2021-12-01T11:33:10.850Z"
   },
   {
    "duration": 97,
    "start_time": "2021-12-01T11:33:10.976Z"
   },
   {
    "duration": 4,
    "start_time": "2021-12-01T11:33:11.074Z"
   },
   {
    "duration": 109,
    "start_time": "2021-12-01T11:33:11.080Z"
   },
   {
    "duration": 9,
    "start_time": "2021-12-01T11:33:11.191Z"
   },
   {
    "duration": 144,
    "start_time": "2021-12-01T11:33:11.202Z"
   },
   {
    "duration": 149,
    "start_time": "2021-12-01T11:33:11.348Z"
   },
   {
    "duration": 161,
    "start_time": "2021-12-01T11:33:11.498Z"
   },
   {
    "duration": 4,
    "start_time": "2021-12-01T11:33:11.660Z"
   },
   {
    "duration": 43,
    "start_time": "2021-12-01T11:33:11.665Z"
   },
   {
    "duration": 19,
    "start_time": "2021-12-01T11:33:11.710Z"
   },
   {
    "duration": 40,
    "start_time": "2021-12-01T11:33:11.731Z"
   },
   {
    "duration": 105,
    "start_time": "2021-12-01T11:33:11.845Z"
   },
   {
    "duration": 49,
    "start_time": "2021-12-01T11:33:11.952Z"
   },
   {
    "duration": 42,
    "start_time": "2021-12-01T11:33:12.003Z"
   },
   {
    "duration": 3,
    "start_time": "2021-12-01T11:33:12.048Z"
   },
   {
    "duration": 99,
    "start_time": "2021-12-01T11:33:12.054Z"
   },
   {
    "duration": 313,
    "start_time": "2021-12-01T11:33:12.155Z"
   },
   {
    "duration": 30,
    "start_time": "2021-12-01T11:33:12.470Z"
   },
   {
    "duration": 4,
    "start_time": "2021-12-01T11:33:12.502Z"
   },
   {
    "duration": 32,
    "start_time": "2021-12-01T11:33:12.508Z"
   },
   {
    "duration": 216,
    "start_time": "2021-12-01T11:33:12.541Z"
   },
   {
    "duration": 75,
    "start_time": "2021-12-01T11:33:12.759Z"
   },
   {
    "duration": 2,
    "start_time": "2021-12-01T11:33:12.845Z"
   },
   {
    "duration": 236,
    "start_time": "2021-12-01T11:33:12.849Z"
   },
   {
    "duration": 305,
    "start_time": "2021-12-01T11:33:13.087Z"
   },
   {
    "duration": 725,
    "start_time": "2021-12-01T11:33:13.394Z"
   },
   {
    "duration": 82,
    "start_time": "2021-12-01T11:33:14.120Z"
   },
   {
    "duration": 53761,
    "start_time": "2021-12-01T11:33:14.204Z"
   },
   {
    "duration": 860,
    "start_time": "2021-12-01T11:34:07.968Z"
   },
   {
    "duration": 462,
    "start_time": "2021-12-01T11:35:46.179Z"
   },
   {
    "duration": 205,
    "start_time": "2021-12-01T11:35:55.831Z"
   },
   {
    "duration": 211,
    "start_time": "2021-12-01T11:36:08.746Z"
   },
   {
    "duration": 203,
    "start_time": "2021-12-01T11:36:16.631Z"
   },
   {
    "duration": 17,
    "start_time": "2021-12-01T11:37:32.038Z"
   },
   {
    "duration": 22,
    "start_time": "2021-12-01T11:37:42.331Z"
   },
   {
    "duration": 24,
    "start_time": "2021-12-01T11:37:51.283Z"
   },
   {
    "duration": 11,
    "start_time": "2021-12-01T11:37:58.749Z"
   },
   {
    "duration": 5,
    "start_time": "2021-12-01T11:38:17.565Z"
   },
   {
    "duration": 28,
    "start_time": "2021-12-01T11:38:17.598Z"
   },
   {
    "duration": 11,
    "start_time": "2021-12-01T11:38:17.628Z"
   },
   {
    "duration": 45,
    "start_time": "2021-12-01T11:38:17.641Z"
   },
   {
    "duration": 10,
    "start_time": "2021-12-01T11:38:17.688Z"
   },
   {
    "duration": 21,
    "start_time": "2021-12-01T11:38:17.699Z"
   },
   {
    "duration": 11,
    "start_time": "2021-12-01T11:38:17.722Z"
   },
   {
    "duration": 18,
    "start_time": "2021-12-01T11:38:17.735Z"
   },
   {
    "duration": 39,
    "start_time": "2021-12-01T11:38:17.755Z"
   },
   {
    "duration": 1763,
    "start_time": "2021-12-01T11:38:17.796Z"
   },
   {
    "duration": 6,
    "start_time": "2021-12-01T11:38:19.561Z"
   },
   {
    "duration": 22,
    "start_time": "2021-12-01T11:38:19.569Z"
   },
   {
    "duration": 15,
    "start_time": "2021-12-01T11:38:19.593Z"
   },
   {
    "duration": 21,
    "start_time": "2021-12-01T11:38:19.610Z"
   },
   {
    "duration": 31,
    "start_time": "2021-12-01T11:38:19.633Z"
   },
   {
    "duration": 10,
    "start_time": "2021-12-01T11:38:19.666Z"
   },
   {
    "duration": 18,
    "start_time": "2021-12-01T11:38:19.677Z"
   },
   {
    "duration": 16,
    "start_time": "2021-12-01T11:38:19.696Z"
   },
   {
    "duration": 15,
    "start_time": "2021-12-01T11:38:19.715Z"
   },
   {
    "duration": 30,
    "start_time": "2021-12-01T11:38:19.733Z"
   },
   {
    "duration": 24,
    "start_time": "2021-12-01T11:38:19.765Z"
   },
   {
    "duration": 18,
    "start_time": "2021-12-01T11:38:19.790Z"
   },
   {
    "duration": 25,
    "start_time": "2021-12-01T11:38:19.810Z"
   },
   {
    "duration": 25,
    "start_time": "2021-12-01T11:38:19.836Z"
   },
   {
    "duration": 33,
    "start_time": "2021-12-01T11:38:19.863Z"
   },
   {
    "duration": 36,
    "start_time": "2021-12-01T11:38:19.897Z"
   },
   {
    "duration": 6,
    "start_time": "2021-12-01T11:38:19.935Z"
   },
   {
    "duration": 42,
    "start_time": "2021-12-01T11:38:19.942Z"
   },
   {
    "duration": 29,
    "start_time": "2021-12-01T11:38:19.986Z"
   },
   {
    "duration": 30,
    "start_time": "2021-12-01T11:38:20.017Z"
   },
   {
    "duration": 21,
    "start_time": "2021-12-01T11:38:20.049Z"
   },
   {
    "duration": 22,
    "start_time": "2021-12-01T11:38:20.072Z"
   },
   {
    "duration": 28,
    "start_time": "2021-12-01T11:38:20.096Z"
   },
   {
    "duration": 19,
    "start_time": "2021-12-01T11:38:20.126Z"
   },
   {
    "duration": 17,
    "start_time": "2021-12-01T11:38:20.147Z"
   },
   {
    "duration": 26,
    "start_time": "2021-12-01T11:38:20.166Z"
   },
   {
    "duration": 86,
    "start_time": "2021-12-01T11:38:20.194Z"
   },
   {
    "duration": 8,
    "start_time": "2021-12-01T11:38:20.282Z"
   },
   {
    "duration": 156,
    "start_time": "2021-12-01T11:38:20.291Z"
   },
   {
    "duration": 31,
    "start_time": "2021-12-01T11:38:20.449Z"
   },
   {
    "duration": 133,
    "start_time": "2021-12-01T11:38:20.547Z"
   },
   {
    "duration": 94,
    "start_time": "2021-12-01T11:38:20.681Z"
   },
   {
    "duration": 74,
    "start_time": "2021-12-01T11:38:20.777Z"
   },
   {
    "duration": 215,
    "start_time": "2021-12-01T11:38:20.853Z"
   },
   {
    "duration": 95,
    "start_time": "2021-12-01T11:38:21.070Z"
   },
   {
    "duration": 4,
    "start_time": "2021-12-01T11:38:21.167Z"
   },
   {
    "duration": 40,
    "start_time": "2021-12-01T11:38:21.172Z"
   },
   {
    "duration": 9,
    "start_time": "2021-12-01T11:38:21.214Z"
   },
   {
    "duration": 121,
    "start_time": "2021-12-01T11:38:21.225Z"
   },
   {
    "duration": 147,
    "start_time": "2021-12-01T11:38:21.349Z"
   },
   {
    "duration": 168,
    "start_time": "2021-12-01T11:38:21.498Z"
   },
   {
    "duration": 5,
    "start_time": "2021-12-01T11:38:21.671Z"
   },
   {
    "duration": 36,
    "start_time": "2021-12-01T11:38:21.678Z"
   },
   {
    "duration": 20,
    "start_time": "2021-12-01T11:38:21.716Z"
   },
   {
    "duration": 29,
    "start_time": "2021-12-01T11:38:21.737Z"
   },
   {
    "duration": 110,
    "start_time": "2021-12-01T11:38:21.846Z"
   },
   {
    "duration": 48,
    "start_time": "2021-12-01T11:38:21.958Z"
   },
   {
    "duration": 44,
    "start_time": "2021-12-01T11:38:22.008Z"
   },
   {
    "duration": 4,
    "start_time": "2021-12-01T11:38:22.054Z"
   },
   {
    "duration": 187,
    "start_time": "2021-12-01T11:38:22.060Z"
   },
   {
    "duration": 226,
    "start_time": "2021-12-01T11:38:22.249Z"
   },
   {
    "duration": 31,
    "start_time": "2021-12-01T11:38:22.477Z"
   },
   {
    "duration": 2,
    "start_time": "2021-12-01T11:38:22.510Z"
   },
   {
    "duration": 21,
    "start_time": "2021-12-01T11:38:22.514Z"
   },
   {
    "duration": 229,
    "start_time": "2021-12-01T11:38:22.537Z"
   },
   {
    "duration": 85,
    "start_time": "2021-12-01T11:38:22.768Z"
   },
   {
    "duration": 3,
    "start_time": "2021-12-01T11:38:22.855Z"
   },
   {
    "duration": 300,
    "start_time": "2021-12-01T11:38:22.859Z"
   },
   {
    "duration": 327,
    "start_time": "2021-12-01T11:38:23.160Z"
   },
   {
    "duration": 631,
    "start_time": "2021-12-01T11:38:23.489Z"
   },
   {
    "duration": 93,
    "start_time": "2021-12-01T11:38:24.121Z"
   },
   {
    "duration": 55282,
    "start_time": "2021-12-01T11:38:24.215Z"
   },
   {
    "duration": 865,
    "start_time": "2021-12-01T11:39:19.499Z"
   },
   {
    "duration": 5,
    "start_time": "2021-12-01T11:39:33.178Z"
   },
   {
    "duration": 30,
    "start_time": "2021-12-01T11:39:33.197Z"
   },
   {
    "duration": 11,
    "start_time": "2021-12-01T11:39:33.229Z"
   },
   {
    "duration": 42,
    "start_time": "2021-12-01T11:39:33.242Z"
   },
   {
    "duration": 11,
    "start_time": "2021-12-01T11:39:33.285Z"
   },
   {
    "duration": 10,
    "start_time": "2021-12-01T11:39:33.298Z"
   },
   {
    "duration": 5,
    "start_time": "2021-12-01T11:39:33.311Z"
   },
   {
    "duration": 32,
    "start_time": "2021-12-01T11:39:33.318Z"
   },
   {
    "duration": 37,
    "start_time": "2021-12-01T11:39:33.352Z"
   },
   {
    "duration": 2004,
    "start_time": "2021-12-01T11:39:33.391Z"
   },
   {
    "duration": 7,
    "start_time": "2021-12-01T11:39:35.397Z"
   },
   {
    "duration": 11,
    "start_time": "2021-12-01T11:39:35.406Z"
   },
   {
    "duration": 3,
    "start_time": "2021-12-01T11:39:35.419Z"
   },
   {
    "duration": 20,
    "start_time": "2021-12-01T11:39:35.424Z"
   },
   {
    "duration": 14,
    "start_time": "2021-12-01T11:39:35.447Z"
   },
   {
    "duration": 6,
    "start_time": "2021-12-01T11:39:35.463Z"
   },
   {
    "duration": 10,
    "start_time": "2021-12-01T11:39:35.470Z"
   },
   {
    "duration": 6,
    "start_time": "2021-12-01T11:39:35.481Z"
   },
   {
    "duration": 13,
    "start_time": "2021-12-01T11:39:35.489Z"
   },
   {
    "duration": 7,
    "start_time": "2021-12-01T11:39:35.504Z"
   },
   {
    "duration": 6,
    "start_time": "2021-12-01T11:39:35.513Z"
   },
   {
    "duration": 25,
    "start_time": "2021-12-01T11:39:35.521Z"
   },
   {
    "duration": 15,
    "start_time": "2021-12-01T11:39:35.547Z"
   },
   {
    "duration": 11,
    "start_time": "2021-12-01T11:39:35.563Z"
   },
   {
    "duration": 15,
    "start_time": "2021-12-01T11:39:35.575Z"
   },
   {
    "duration": 7,
    "start_time": "2021-12-01T11:39:35.592Z"
   },
   {
    "duration": 28,
    "start_time": "2021-12-01T11:39:35.601Z"
   },
   {
    "duration": 14,
    "start_time": "2021-12-01T11:39:35.631Z"
   },
   {
    "duration": 11,
    "start_time": "2021-12-01T11:39:35.648Z"
   },
   {
    "duration": 14,
    "start_time": "2021-12-01T11:39:35.661Z"
   },
   {
    "duration": 20,
    "start_time": "2021-12-01T11:39:35.677Z"
   },
   {
    "duration": 11,
    "start_time": "2021-12-01T11:39:35.699Z"
   },
   {
    "duration": 9,
    "start_time": "2021-12-01T11:39:35.712Z"
   },
   {
    "duration": 6,
    "start_time": "2021-12-01T11:39:35.723Z"
   },
   {
    "duration": 14,
    "start_time": "2021-12-01T11:39:35.731Z"
   },
   {
    "duration": 15,
    "start_time": "2021-12-01T11:39:35.747Z"
   },
   {
    "duration": 43,
    "start_time": "2021-12-01T11:39:35.764Z"
   },
   {
    "duration": 87,
    "start_time": "2021-12-01T11:39:35.811Z"
   },
   {
    "duration": 8,
    "start_time": "2021-12-01T11:39:35.901Z"
   },
   {
    "duration": 164,
    "start_time": "2021-12-01T11:39:35.911Z"
   },
   {
    "duration": 73,
    "start_time": "2021-12-01T11:39:36.077Z"
   },
   {
    "duration": 128,
    "start_time": "2021-12-01T11:39:36.152Z"
   },
   {
    "duration": 143,
    "start_time": "2021-12-01T11:39:36.282Z"
   },
   {
    "duration": 121,
    "start_time": "2021-12-01T11:39:36.427Z"
   },
   {
    "duration": 125,
    "start_time": "2021-12-01T11:39:36.550Z"
   },
   {
    "duration": 98,
    "start_time": "2021-12-01T11:39:36.677Z"
   },
   {
    "duration": 3,
    "start_time": "2021-12-01T11:39:36.777Z"
   },
   {
    "duration": 24,
    "start_time": "2021-12-01T11:39:36.782Z"
   },
   {
    "duration": 9,
    "start_time": "2021-12-01T11:39:36.808Z"
   },
   {
    "duration": 131,
    "start_time": "2021-12-01T11:39:36.819Z"
   },
   {
    "duration": 147,
    "start_time": "2021-12-01T11:39:36.952Z"
   },
   {
    "duration": 163,
    "start_time": "2021-12-01T11:39:37.101Z"
   },
   {
    "duration": 4,
    "start_time": "2021-12-01T11:39:37.266Z"
   },
   {
    "duration": 17,
    "start_time": "2021-12-01T11:39:37.271Z"
   },
   {
    "duration": 10,
    "start_time": "2021-12-01T11:39:37.289Z"
   },
   {
    "duration": 49,
    "start_time": "2021-12-01T11:39:37.300Z"
   },
   {
    "duration": 195,
    "start_time": "2021-12-01T11:39:37.352Z"
   },
   {
    "duration": 40,
    "start_time": "2021-12-01T11:39:37.549Z"
   },
   {
    "duration": 57,
    "start_time": "2021-12-01T11:39:37.590Z"
   },
   {
    "duration": 4,
    "start_time": "2021-12-01T11:39:37.649Z"
   },
   {
    "duration": 103,
    "start_time": "2021-12-01T11:39:37.655Z"
   },
   {
    "duration": 235,
    "start_time": "2021-12-01T11:39:37.760Z"
   },
   {
    "duration": 30,
    "start_time": "2021-12-01T11:39:37.997Z"
   },
   {
    "duration": 3,
    "start_time": "2021-12-01T11:39:38.029Z"
   },
   {
    "duration": 4,
    "start_time": "2021-12-01T11:39:38.044Z"
   },
   {
    "duration": 217,
    "start_time": "2021-12-01T11:39:38.050Z"
   },
   {
    "duration": 83,
    "start_time": "2021-12-01T11:39:38.269Z"
   },
   {
    "duration": 2,
    "start_time": "2021-12-01T11:39:38.354Z"
   },
   {
    "duration": 229,
    "start_time": "2021-12-01T11:39:38.358Z"
   },
   {
    "duration": 306,
    "start_time": "2021-12-01T11:39:38.589Z"
   },
   {
    "duration": 635,
    "start_time": "2021-12-01T11:39:38.896Z"
   },
   {
    "duration": 82,
    "start_time": "2021-12-01T11:39:39.533Z"
   },
   {
    "duration": 53604,
    "start_time": "2021-12-01T11:39:39.617Z"
   },
   {
    "duration": 855,
    "start_time": "2021-12-01T11:40:33.222Z"
   },
   {
    "duration": 5,
    "start_time": "2021-12-01T11:40:46.027Z"
   },
   {
    "duration": 30,
    "start_time": "2021-12-01T11:40:46.047Z"
   },
   {
    "duration": 12,
    "start_time": "2021-12-01T11:40:46.079Z"
   },
   {
    "duration": 59,
    "start_time": "2021-12-01T11:40:46.093Z"
   },
   {
    "duration": 10,
    "start_time": "2021-12-01T11:40:46.154Z"
   },
   {
    "duration": 24,
    "start_time": "2021-12-01T11:40:46.166Z"
   },
   {
    "duration": 6,
    "start_time": "2021-12-01T11:40:46.193Z"
   },
   {
    "duration": 7,
    "start_time": "2021-12-01T11:40:46.201Z"
   },
   {
    "duration": 53,
    "start_time": "2021-12-01T11:40:46.211Z"
   },
   {
    "duration": 1804,
    "start_time": "2021-12-01T11:40:46.266Z"
   },
   {
    "duration": 5,
    "start_time": "2021-12-01T11:40:48.072Z"
   },
   {
    "duration": 25,
    "start_time": "2021-12-01T11:40:48.079Z"
   },
   {
    "duration": 6,
    "start_time": "2021-12-01T11:40:48.106Z"
   },
   {
    "duration": 7,
    "start_time": "2021-12-01T11:40:48.113Z"
   },
   {
    "duration": 16,
    "start_time": "2021-12-01T11:40:48.122Z"
   },
   {
    "duration": 6,
    "start_time": "2021-12-01T11:40:48.140Z"
   },
   {
    "duration": 7,
    "start_time": "2021-12-01T11:40:48.147Z"
   },
   {
    "duration": 6,
    "start_time": "2021-12-01T11:40:48.156Z"
   },
   {
    "duration": 8,
    "start_time": "2021-12-01T11:40:48.163Z"
   },
   {
    "duration": 7,
    "start_time": "2021-12-01T11:40:48.173Z"
   },
   {
    "duration": 4,
    "start_time": "2021-12-01T11:40:48.183Z"
   },
   {
    "duration": 5,
    "start_time": "2021-12-01T11:40:48.189Z"
   },
   {
    "duration": 16,
    "start_time": "2021-12-01T11:40:48.195Z"
   },
   {
    "duration": 6,
    "start_time": "2021-12-01T11:40:48.212Z"
   },
   {
    "duration": 282,
    "start_time": "2021-12-01T11:40:48.220Z"
   },
   {
    "duration": 859,
    "start_time": "2021-12-01T11:40:47.645Z"
   },
   {
    "duration": 846,
    "start_time": "2021-12-01T11:40:47.659Z"
   },
   {
    "duration": 834,
    "start_time": "2021-12-01T11:40:47.672Z"
   },
   {
    "duration": 825,
    "start_time": "2021-12-01T11:40:47.682Z"
   },
   {
    "duration": 813,
    "start_time": "2021-12-01T11:40:47.695Z"
   },
   {
    "duration": 804,
    "start_time": "2021-12-01T11:40:47.706Z"
   },
   {
    "duration": 762,
    "start_time": "2021-12-01T11:40:47.748Z"
   },
   {
    "duration": 751,
    "start_time": "2021-12-01T11:40:47.761Z"
   },
   {
    "duration": 739,
    "start_time": "2021-12-01T11:40:47.773Z"
   },
   {
    "duration": 727,
    "start_time": "2021-12-01T11:40:47.786Z"
   },
   {
    "duration": 706,
    "start_time": "2021-12-01T11:40:47.808Z"
   },
   {
    "duration": 695,
    "start_time": "2021-12-01T11:40:47.820Z"
   },
   {
    "duration": 682,
    "start_time": "2021-12-01T11:40:47.834Z"
   },
   {
    "duration": 652,
    "start_time": "2021-12-01T11:40:47.865Z"
   },
   {
    "duration": 637,
    "start_time": "2021-12-01T11:40:47.881Z"
   },
   {
    "duration": 623,
    "start_time": "2021-12-01T11:40:47.896Z"
   },
   {
    "duration": 607,
    "start_time": "2021-12-01T11:40:47.913Z"
   },
   {
    "duration": 593,
    "start_time": "2021-12-01T11:40:47.927Z"
   },
   {
    "duration": 579,
    "start_time": "2021-12-01T11:40:47.942Z"
   },
   {
    "duration": 567,
    "start_time": "2021-12-01T11:40:47.956Z"
   },
   {
    "duration": 531,
    "start_time": "2021-12-01T11:40:47.992Z"
   },
   {
    "duration": 518,
    "start_time": "2021-12-01T11:40:48.006Z"
   },
   {
    "duration": 502,
    "start_time": "2021-12-01T11:40:48.023Z"
   },
   {
    "duration": 490,
    "start_time": "2021-12-01T11:40:48.036Z"
   },
   {
    "duration": 474,
    "start_time": "2021-12-01T11:40:48.053Z"
   },
   {
    "duration": 460,
    "start_time": "2021-12-01T11:40:48.068Z"
   },
   {
    "duration": 445,
    "start_time": "2021-12-01T11:40:48.084Z"
   },
   {
    "duration": 405,
    "start_time": "2021-12-01T11:40:48.125Z"
   },
   {
    "duration": 353,
    "start_time": "2021-12-01T11:40:48.178Z"
   },
   {
    "duration": 306,
    "start_time": "2021-12-01T11:40:48.226Z"
   },
   {
    "duration": 291,
    "start_time": "2021-12-01T11:40:48.242Z"
   },
   {
    "duration": 278,
    "start_time": "2021-12-01T11:40:48.255Z"
   },
   {
    "duration": 265,
    "start_time": "2021-12-01T11:40:48.269Z"
   },
   {
    "duration": 253,
    "start_time": "2021-12-01T11:40:48.282Z"
   },
   {
    "duration": 240,
    "start_time": "2021-12-01T11:40:48.297Z"
   },
   {
    "duration": 227,
    "start_time": "2021-12-01T11:40:48.310Z"
   },
   {
    "duration": 190,
    "start_time": "2021-12-01T11:40:48.348Z"
   },
   {
    "duration": 143,
    "start_time": "2021-12-01T11:40:48.396Z"
   },
   {
    "duration": 96,
    "start_time": "2021-12-01T11:40:48.444Z"
   },
   {
    "duration": 65,
    "start_time": "2021-12-01T11:40:48.476Z"
   },
   {
    "duration": 51,
    "start_time": "2021-12-01T11:40:48.491Z"
   },
   {
    "duration": 41,
    "start_time": "2021-12-01T11:40:48.502Z"
   },
   {
    "duration": 27,
    "start_time": "2021-12-01T11:40:48.516Z"
   },
   {
    "duration": 16,
    "start_time": "2021-12-01T11:40:48.528Z"
   },
   {
    "duration": 5,
    "start_time": "2021-12-01T11:40:48.540Z"
   },
   {
    "duration": -4,
    "start_time": "2021-12-01T11:40:48.550Z"
   },
   {
    "duration": -16,
    "start_time": "2021-12-01T11:40:48.562Z"
   },
   {
    "duration": -78,
    "start_time": "2021-12-01T11:40:48.625Z"
   },
   {
    "duration": 5,
    "start_time": "2021-12-01T11:41:07.474Z"
   },
   {
    "duration": 29,
    "start_time": "2021-12-01T11:41:07.494Z"
   },
   {
    "duration": 12,
    "start_time": "2021-12-01T11:41:07.525Z"
   },
   {
    "duration": 39,
    "start_time": "2021-12-01T11:41:07.539Z"
   },
   {
    "duration": 10,
    "start_time": "2021-12-01T11:41:07.580Z"
   },
   {
    "duration": 10,
    "start_time": "2021-12-01T11:41:07.591Z"
   },
   {
    "duration": 14,
    "start_time": "2021-12-01T11:41:07.603Z"
   },
   {
    "duration": 9,
    "start_time": "2021-12-01T11:41:07.619Z"
   },
   {
    "duration": 48,
    "start_time": "2021-12-01T11:41:07.630Z"
   },
   {
    "duration": 2025,
    "start_time": "2021-12-01T11:41:07.680Z"
   },
   {
    "duration": 6,
    "start_time": "2021-12-01T11:41:09.707Z"
   },
   {
    "duration": 17,
    "start_time": "2021-12-01T11:41:09.715Z"
   },
   {
    "duration": 24,
    "start_time": "2021-12-01T11:41:09.734Z"
   },
   {
    "duration": 15,
    "start_time": "2021-12-01T11:41:09.760Z"
   },
   {
    "duration": 37,
    "start_time": "2021-12-01T11:41:09.779Z"
   },
   {
    "duration": 8,
    "start_time": "2021-12-01T11:41:09.819Z"
   },
   {
    "duration": 26,
    "start_time": "2021-12-01T11:41:09.829Z"
   },
   {
    "duration": 23,
    "start_time": "2021-12-01T11:41:09.857Z"
   },
   {
    "duration": 15,
    "start_time": "2021-12-01T11:41:09.882Z"
   },
   {
    "duration": 27,
    "start_time": "2021-12-01T11:41:09.899Z"
   },
   {
    "duration": 24,
    "start_time": "2021-12-01T11:41:09.928Z"
   },
   {
    "duration": 22,
    "start_time": "2021-12-01T11:41:09.954Z"
   },
   {
    "duration": 33,
    "start_time": "2021-12-01T11:41:09.978Z"
   },
   {
    "duration": 24,
    "start_time": "2021-12-01T11:41:10.013Z"
   },
   {
    "duration": 32,
    "start_time": "2021-12-01T11:41:10.039Z"
   },
   {
    "duration": 45,
    "start_time": "2021-12-01T11:41:10.073Z"
   },
   {
    "duration": 9,
    "start_time": "2021-12-01T11:41:10.119Z"
   },
   {
    "duration": 27,
    "start_time": "2021-12-01T11:41:10.129Z"
   },
   {
    "duration": 30,
    "start_time": "2021-12-01T11:41:10.158Z"
   },
   {
    "duration": 31,
    "start_time": "2021-12-01T11:41:10.190Z"
   },
   {
    "duration": 30,
    "start_time": "2021-12-01T11:41:10.223Z"
   },
   {
    "duration": 18,
    "start_time": "2021-12-01T11:41:10.255Z"
   },
   {
    "duration": 31,
    "start_time": "2021-12-01T11:41:10.274Z"
   },
   {
    "duration": 31,
    "start_time": "2021-12-01T11:41:10.307Z"
   },
   {
    "duration": 22,
    "start_time": "2021-12-01T11:41:10.340Z"
   },
   {
    "duration": 40,
    "start_time": "2021-12-01T11:41:10.364Z"
   },
   {
    "duration": 100,
    "start_time": "2021-12-01T11:41:10.407Z"
   },
   {
    "duration": 10,
    "start_time": "2021-12-01T11:41:10.509Z"
   },
   {
    "duration": 142,
    "start_time": "2021-12-01T11:41:10.545Z"
   },
   {
    "duration": 157,
    "start_time": "2021-12-01T11:41:10.689Z"
   },
   {
    "duration": 122,
    "start_time": "2021-12-01T11:41:10.848Z"
   },
   {
    "duration": 96,
    "start_time": "2021-12-01T11:41:10.971Z"
   },
   {
    "duration": 83,
    "start_time": "2021-12-01T11:41:11.068Z"
   },
   {
    "duration": 126,
    "start_time": "2021-12-01T11:41:11.244Z"
   },
   {
    "duration": 97,
    "start_time": "2021-12-01T11:41:11.372Z"
   },
   {
    "duration": 3,
    "start_time": "2021-12-01T11:41:11.471Z"
   },
   {
    "duration": 47,
    "start_time": "2021-12-01T11:41:11.476Z"
   },
   {
    "duration": 26,
    "start_time": "2021-12-01T11:41:11.524Z"
   },
   {
    "duration": 193,
    "start_time": "2021-12-01T11:41:11.552Z"
   },
   {
    "duration": 149,
    "start_time": "2021-12-01T11:41:11.747Z"
   },
   {
    "duration": 219,
    "start_time": "2021-12-01T11:41:11.898Z"
   },
   {
    "duration": 4,
    "start_time": "2021-12-01T11:41:12.118Z"
   },
   {
    "duration": 49,
    "start_time": "2021-12-01T11:41:12.124Z"
   },
   {
    "duration": 32,
    "start_time": "2021-12-01T11:41:12.175Z"
   },
   {
    "duration": 37,
    "start_time": "2021-12-01T11:41:12.209Z"
   },
   {
    "duration": 200,
    "start_time": "2021-12-01T11:41:12.249Z"
   },
   {
    "duration": 39,
    "start_time": "2021-12-01T11:41:12.450Z"
   },
   {
    "duration": 54,
    "start_time": "2021-12-01T11:41:12.491Z"
   },
   {
    "duration": 98,
    "start_time": "2021-12-01T11:41:12.547Z"
   },
   {
    "duration": 19,
    "start_time": "2021-12-01T11:41:12.647Z"
   },
   {
    "duration": 258,
    "start_time": "2021-12-01T11:41:12.668Z"
   },
   {
    "duration": 40,
    "start_time": "2021-12-01T11:41:12.929Z"
   },
   {
    "duration": 2,
    "start_time": "2021-12-01T11:41:12.971Z"
   },
   {
    "duration": 16,
    "start_time": "2021-12-01T11:41:12.975Z"
   },
   {
    "duration": 230,
    "start_time": "2021-12-01T11:41:12.993Z"
   },
   {
    "duration": 82,
    "start_time": "2021-12-01T11:41:13.225Z"
   },
   {
    "duration": 3,
    "start_time": "2021-12-01T11:41:13.309Z"
   },
   {
    "duration": 230,
    "start_time": "2021-12-01T11:41:13.314Z"
   },
   {
    "duration": 248,
    "start_time": "2021-12-01T11:41:13.546Z"
   },
   {
    "duration": 675,
    "start_time": "2021-12-01T11:41:13.796Z"
   },
   {
    "duration": 122,
    "start_time": "2021-12-01T11:41:14.473Z"
   },
   {
    "duration": 54983,
    "start_time": "2021-12-01T11:41:14.597Z"
   },
   {
    "duration": 845,
    "start_time": "2021-12-01T11:42:09.582Z"
   },
   {
    "duration": 242,
    "start_time": "2021-12-01T11:42:23.175Z"
   },
   {
    "duration": 286,
    "start_time": "2021-12-01T11:43:00.958Z"
   },
   {
    "duration": 313,
    "start_time": "2021-12-01T11:51:03.089Z"
   },
   {
    "duration": 7,
    "start_time": "2021-12-01T11:55:47.922Z"
   },
   {
    "duration": 4,
    "start_time": "2021-12-01T11:56:23.453Z"
   },
   {
    "duration": 4,
    "start_time": "2021-12-01T11:56:23.613Z"
   },
   {
    "duration": 4,
    "start_time": "2021-12-01T11:56:23.736Z"
   },
   {
    "duration": 4,
    "start_time": "2021-12-01T11:56:23.860Z"
   },
   {
    "duration": 26,
    "start_time": "2021-12-01T11:57:07.712Z"
   },
   {
    "duration": 7,
    "start_time": "2021-12-01T12:00:12.541Z"
   },
   {
    "duration": 4,
    "start_time": "2021-12-01T12:00:12.715Z"
   },
   {
    "duration": 4,
    "start_time": "2021-12-01T12:00:12.866Z"
   },
   {
    "duration": 4,
    "start_time": "2021-12-01T12:00:13.016Z"
   },
   {
    "duration": 4,
    "start_time": "2021-12-01T12:00:13.150Z"
   },
   {
    "duration": 15,
    "start_time": "2021-12-01T12:00:13.845Z"
   },
   {
    "duration": 7,
    "start_time": "2021-12-01T12:01:07.350Z"
   },
   {
    "duration": 48,
    "start_time": "2021-12-01T12:01:07.371Z"
   },
   {
    "duration": 20,
    "start_time": "2021-12-01T12:01:07.421Z"
   },
   {
    "duration": 71,
    "start_time": "2021-12-01T12:01:07.443Z"
   },
   {
    "duration": 19,
    "start_time": "2021-12-01T12:01:07.516Z"
   },
   {
    "duration": 14,
    "start_time": "2021-12-01T12:01:07.537Z"
   },
   {
    "duration": 11,
    "start_time": "2021-12-01T12:01:07.553Z"
   },
   {
    "duration": 5,
    "start_time": "2021-12-01T12:01:07.567Z"
   },
   {
    "duration": 61,
    "start_time": "2021-12-01T12:01:07.575Z"
   },
   {
    "duration": 1722,
    "start_time": "2021-12-01T12:01:07.645Z"
   },
   {
    "duration": 5,
    "start_time": "2021-12-01T12:01:09.369Z"
   },
   {
    "duration": 10,
    "start_time": "2021-12-01T12:01:09.376Z"
   },
   {
    "duration": 3,
    "start_time": "2021-12-01T12:01:09.388Z"
   },
   {
    "duration": 5,
    "start_time": "2021-12-01T12:01:09.393Z"
   },
   {
    "duration": 13,
    "start_time": "2021-12-01T12:01:09.400Z"
   },
   {
    "duration": 28,
    "start_time": "2021-12-01T12:01:09.415Z"
   },
   {
    "duration": 8,
    "start_time": "2021-12-01T12:01:09.445Z"
   },
   {
    "duration": 7,
    "start_time": "2021-12-01T12:01:09.455Z"
   },
   {
    "duration": 6,
    "start_time": "2021-12-01T12:01:09.463Z"
   },
   {
    "duration": 6,
    "start_time": "2021-12-01T12:01:09.471Z"
   },
   {
    "duration": 6,
    "start_time": "2021-12-01T12:01:09.479Z"
   },
   {
    "duration": 6,
    "start_time": "2021-12-01T12:01:09.487Z"
   },
   {
    "duration": 4,
    "start_time": "2021-12-01T12:01:09.495Z"
   },
   {
    "duration": 4,
    "start_time": "2021-12-01T12:01:09.544Z"
   },
   {
    "duration": 12,
    "start_time": "2021-12-01T12:01:09.551Z"
   },
   {
    "duration": 24,
    "start_time": "2021-12-01T12:01:09.565Z"
   },
   {
    "duration": 3,
    "start_time": "2021-12-01T12:01:09.591Z"
   },
   {
    "duration": 9,
    "start_time": "2021-12-01T12:01:09.595Z"
   },
   {
    "duration": 5,
    "start_time": "2021-12-01T12:01:09.606Z"
   },
   {
    "duration": 32,
    "start_time": "2021-12-01T12:01:09.612Z"
   },
   {
    "duration": 3,
    "start_time": "2021-12-01T12:01:09.646Z"
   },
   {
    "duration": 5,
    "start_time": "2021-12-01T12:01:09.651Z"
   },
   {
    "duration": 7,
    "start_time": "2021-12-01T12:01:09.657Z"
   },
   {
    "duration": 5,
    "start_time": "2021-12-01T12:01:09.665Z"
   },
   {
    "duration": 7,
    "start_time": "2021-12-01T12:01:09.671Z"
   },
   {
    "duration": 14,
    "start_time": "2021-12-01T12:01:09.680Z"
   },
   {
    "duration": 109,
    "start_time": "2021-12-01T12:01:09.696Z"
   },
   {
    "duration": 8,
    "start_time": "2021-12-01T12:01:09.807Z"
   },
   {
    "duration": 162,
    "start_time": "2021-12-01T12:01:09.817Z"
   },
   {
    "duration": 70,
    "start_time": "2021-12-01T12:01:09.981Z"
   },
   {
    "duration": 207,
    "start_time": "2021-12-01T12:01:10.053Z"
   },
   {
    "duration": 89,
    "start_time": "2021-12-01T12:01:10.261Z"
   },
   {
    "duration": 96,
    "start_time": "2021-12-01T12:01:10.352Z"
   },
   {
    "duration": 123,
    "start_time": "2021-12-01T12:01:10.451Z"
   },
   {
    "duration": 95,
    "start_time": "2021-12-01T12:01:10.576Z"
   },
   {
    "duration": 4,
    "start_time": "2021-12-01T12:01:10.673Z"
   },
   {
    "duration": 18,
    "start_time": "2021-12-01T12:01:10.678Z"
   },
   {
    "duration": 10,
    "start_time": "2021-12-01T12:01:10.697Z"
   },
   {
    "duration": 140,
    "start_time": "2021-12-01T12:01:10.708Z"
   },
   {
    "duration": 145,
    "start_time": "2021-12-01T12:01:10.850Z"
   },
   {
    "duration": 158,
    "start_time": "2021-12-01T12:01:10.997Z"
   },
   {
    "duration": 4,
    "start_time": "2021-12-01T12:01:11.157Z"
   },
   {
    "duration": 21,
    "start_time": "2021-12-01T12:01:11.163Z"
   },
   {
    "duration": 9,
    "start_time": "2021-12-01T12:01:11.186Z"
   },
   {
    "duration": 54,
    "start_time": "2021-12-01T12:01:11.197Z"
   },
   {
    "duration": 196,
    "start_time": "2021-12-01T12:01:11.254Z"
   },
   {
    "duration": 46,
    "start_time": "2021-12-01T12:01:11.452Z"
   },
   {
    "duration": 53,
    "start_time": "2021-12-01T12:01:11.500Z"
   },
   {
    "duration": 4,
    "start_time": "2021-12-01T12:01:11.555Z"
   },
   {
    "duration": 90,
    "start_time": "2021-12-01T12:01:11.561Z"
   },
   {
    "duration": 306,
    "start_time": "2021-12-01T12:01:11.653Z"
   },
   {
    "duration": 30,
    "start_time": "2021-12-01T12:01:11.961Z"
   },
   {
    "duration": 3,
    "start_time": "2021-12-01T12:01:11.992Z"
   },
   {
    "duration": 6,
    "start_time": "2021-12-01T12:01:11.996Z"
   },
   {
    "duration": 225,
    "start_time": "2021-12-01T12:01:12.003Z"
   },
   {
    "duration": 81,
    "start_time": "2021-12-01T12:01:12.230Z"
   },
   {
    "duration": 2,
    "start_time": "2021-12-01T12:01:12.313Z"
   },
   {
    "duration": 281,
    "start_time": "2021-12-01T12:01:12.320Z"
   },
   {
    "duration": 290,
    "start_time": "2021-12-01T12:01:12.603Z"
   },
   {
    "duration": 630,
    "start_time": "2021-12-01T12:01:12.894Z"
   },
   {
    "duration": 95,
    "start_time": "2021-12-01T12:01:13.526Z"
   },
   {
    "duration": 52284,
    "start_time": "2021-12-01T12:01:13.623Z"
   },
   {
    "duration": 830,
    "start_time": "2021-12-01T12:02:05.909Z"
   },
   {
    "duration": 6,
    "start_time": "2021-12-01T12:02:06.744Z"
   },
   {
    "duration": 3,
    "start_time": "2021-12-01T12:02:06.752Z"
   },
   {
    "duration": 6,
    "start_time": "2021-12-01T12:02:06.757Z"
   },
   {
    "duration": 8,
    "start_time": "2021-12-01T12:02:06.764Z"
   },
   {
    "duration": 7,
    "start_time": "2021-12-01T12:02:06.774Z"
   },
   {
    "duration": 21,
    "start_time": "2021-12-01T12:02:06.783Z"
   },
   {
    "duration": 71,
    "start_time": "2021-12-01T12:02:06.806Z"
   },
   {
    "duration": 303,
    "start_time": "2021-12-01T12:06:37.186Z"
   },
   {
    "duration": 89,
    "start_time": "2021-12-01T12:12:05.407Z"
   },
   {
    "duration": 18,
    "start_time": "2021-12-01T12:12:09.045Z"
   },
   {
    "duration": 397,
    "start_time": "2021-12-01T12:13:30.029Z"
   },
   {
    "duration": 310,
    "start_time": "2021-12-01T12:14:00.315Z"
   },
   {
    "duration": 63,
    "start_time": "2021-12-01T12:14:09.282Z"
   },
   {
    "duration": 5,
    "start_time": "2021-12-01T12:17:21.890Z"
   },
   {
    "duration": 29,
    "start_time": "2021-12-01T12:17:21.913Z"
   },
   {
    "duration": 12,
    "start_time": "2021-12-01T12:17:21.944Z"
   },
   {
    "duration": 40,
    "start_time": "2021-12-01T12:17:21.958Z"
   },
   {
    "duration": 12,
    "start_time": "2021-12-01T12:17:22.000Z"
   },
   {
    "duration": 34,
    "start_time": "2021-12-01T12:17:22.014Z"
   },
   {
    "duration": 6,
    "start_time": "2021-12-01T12:17:22.050Z"
   },
   {
    "duration": 5,
    "start_time": "2021-12-01T12:17:22.059Z"
   },
   {
    "duration": 42,
    "start_time": "2021-12-01T12:17:22.066Z"
   },
   {
    "duration": 1762,
    "start_time": "2021-12-01T12:17:22.110Z"
   },
   {
    "duration": 5,
    "start_time": "2021-12-01T12:17:23.873Z"
   },
   {
    "duration": 10,
    "start_time": "2021-12-01T12:17:23.880Z"
   },
   {
    "duration": 4,
    "start_time": "2021-12-01T12:17:23.891Z"
   },
   {
    "duration": 4,
    "start_time": "2021-12-01T12:17:23.897Z"
   },
   {
    "duration": 14,
    "start_time": "2021-12-01T12:17:23.903Z"
   },
   {
    "duration": 28,
    "start_time": "2021-12-01T12:17:23.919Z"
   },
   {
    "duration": 8,
    "start_time": "2021-12-01T12:17:23.949Z"
   },
   {
    "duration": 6,
    "start_time": "2021-12-01T12:17:23.960Z"
   },
   {
    "duration": 3,
    "start_time": "2021-12-01T12:17:23.969Z"
   },
   {
    "duration": 5,
    "start_time": "2021-12-01T12:17:23.974Z"
   },
   {
    "duration": 5,
    "start_time": "2021-12-01T12:17:23.981Z"
   },
   {
    "duration": 6,
    "start_time": "2021-12-01T12:17:23.988Z"
   },
   {
    "duration": 5,
    "start_time": "2021-12-01T12:17:23.995Z"
   },
   {
    "duration": 5,
    "start_time": "2021-12-01T12:17:24.045Z"
   },
   {
    "duration": 23,
    "start_time": "2021-12-01T12:17:24.052Z"
   },
   {
    "duration": 32,
    "start_time": "2021-12-01T12:17:24.077Z"
   },
   {
    "duration": 3,
    "start_time": "2021-12-01T12:17:24.111Z"
   },
   {
    "duration": 24,
    "start_time": "2021-12-01T12:17:24.116Z"
   },
   {
    "duration": 9,
    "start_time": "2021-12-01T12:17:24.142Z"
   },
   {
    "duration": 11,
    "start_time": "2021-12-01T12:17:24.153Z"
   },
   {
    "duration": 8,
    "start_time": "2021-12-01T12:17:24.165Z"
   },
   {
    "duration": 17,
    "start_time": "2021-12-01T12:17:24.174Z"
   },
   {
    "duration": 8,
    "start_time": "2021-12-01T12:17:24.192Z"
   },
   {
    "duration": 13,
    "start_time": "2021-12-01T12:17:24.201Z"
   },
   {
    "duration": 9,
    "start_time": "2021-12-01T12:17:24.215Z"
   },
   {
    "duration": 18,
    "start_time": "2021-12-01T12:17:24.226Z"
   },
   {
    "duration": 84,
    "start_time": "2021-12-01T12:17:24.246Z"
   },
   {
    "duration": 19,
    "start_time": "2021-12-01T12:17:24.332Z"
   },
   {
    "duration": 159,
    "start_time": "2021-12-01T12:17:24.353Z"
   },
   {
    "duration": 42,
    "start_time": "2021-12-01T12:17:24.515Z"
   },
   {
    "duration": 204,
    "start_time": "2021-12-01T12:17:24.559Z"
   },
   {
    "duration": 96,
    "start_time": "2021-12-01T12:17:24.765Z"
   },
   {
    "duration": 87,
    "start_time": "2021-12-01T12:17:24.863Z"
   },
   {
    "duration": 123,
    "start_time": "2021-12-01T12:17:24.952Z"
   },
   {
    "duration": 106,
    "start_time": "2021-12-01T12:17:25.076Z"
   },
   {
    "duration": 4,
    "start_time": "2021-12-01T12:17:25.186Z"
   },
   {
    "duration": 21,
    "start_time": "2021-12-01T12:17:25.192Z"
   },
   {
    "duration": 12,
    "start_time": "2021-12-01T12:17:25.214Z"
   },
   {
    "duration": 123,
    "start_time": "2021-12-01T12:17:25.227Z"
   },
   {
    "duration": 241,
    "start_time": "2021-12-01T12:17:25.352Z"
   },
   {
    "duration": 167,
    "start_time": "2021-12-01T12:17:25.594Z"
   },
   {
    "duration": 4,
    "start_time": "2021-12-01T12:17:25.763Z"
   },
   {
    "duration": 21,
    "start_time": "2021-12-01T12:17:25.768Z"
   },
   {
    "duration": 9,
    "start_time": "2021-12-01T12:17:25.791Z"
   },
   {
    "duration": 53,
    "start_time": "2021-12-01T12:17:25.802Z"
   },
   {
    "duration": 188,
    "start_time": "2021-12-01T12:17:25.857Z"
   },
   {
    "duration": 42,
    "start_time": "2021-12-01T12:17:26.047Z"
   },
   {
    "duration": 57,
    "start_time": "2021-12-01T12:17:26.091Z"
   },
   {
    "duration": 3,
    "start_time": "2021-12-01T12:17:26.150Z"
   },
   {
    "duration": 10,
    "start_time": "2021-12-01T12:17:26.244Z"
   },
   {
    "duration": 301,
    "start_time": "2021-12-01T12:17:26.256Z"
   },
   {
    "duration": 31,
    "start_time": "2021-12-01T12:17:26.559Z"
   },
   {
    "duration": 3,
    "start_time": "2021-12-01T12:17:26.591Z"
   },
   {
    "duration": 8,
    "start_time": "2021-12-01T12:17:26.596Z"
   },
   {
    "duration": 248,
    "start_time": "2021-12-01T12:17:26.605Z"
   },
   {
    "duration": 77,
    "start_time": "2021-12-01T12:17:26.855Z"
   },
   {
    "duration": 12,
    "start_time": "2021-12-01T12:17:26.933Z"
   },
   {
    "duration": 343,
    "start_time": "2021-12-01T12:17:26.946Z"
   },
   {
    "duration": 298,
    "start_time": "2021-12-01T12:17:27.291Z"
   },
   {
    "duration": 637,
    "start_time": "2021-12-01T12:17:27.591Z"
   },
   {
    "duration": 87,
    "start_time": "2021-12-01T12:17:28.229Z"
   },
   {
    "duration": 53031,
    "start_time": "2021-12-01T12:17:28.318Z"
   },
   {
    "duration": 857,
    "start_time": "2021-12-01T12:18:21.351Z"
   },
   {
    "duration": 7,
    "start_time": "2021-12-01T12:18:22.210Z"
   },
   {
    "duration": 5,
    "start_time": "2021-12-01T12:18:22.219Z"
   },
   {
    "duration": 22,
    "start_time": "2021-12-01T12:18:22.226Z"
   },
   {
    "duration": 6,
    "start_time": "2021-12-01T12:18:22.250Z"
   },
   {
    "duration": 7,
    "start_time": "2021-12-01T12:18:22.258Z"
   },
   {
    "duration": 24,
    "start_time": "2021-12-01T12:18:22.266Z"
   },
   {
    "duration": 66,
    "start_time": "2021-12-01T12:18:22.291Z"
   },
   {
    "duration": 89,
    "start_time": "2021-12-01T12:18:22.359Z"
   },
   {
    "duration": 6,
    "start_time": "2021-12-01T12:23:54.276Z"
   },
   {
    "duration": 3,
    "start_time": "2021-12-01T12:24:34.932Z"
   },
   {
    "duration": 4,
    "start_time": "2021-12-01T12:24:35.082Z"
   },
   {
    "duration": 3,
    "start_time": "2021-12-01T12:24:35.216Z"
   },
   {
    "duration": 4,
    "start_time": "2021-12-01T12:24:37.357Z"
   },
   {
    "duration": 12,
    "start_time": "2021-12-01T12:25:25.864Z"
   },
   {
    "duration": 38,
    "start_time": "2021-12-01T12:26:10.934Z"
   },
   {
    "duration": 287,
    "start_time": "2021-12-01T12:30:35.456Z"
   },
   {
    "duration": 9,
    "start_time": "2021-12-01T12:30:50.603Z"
   },
   {
    "duration": 50,
    "start_time": "2021-12-01T12:32:54.152Z"
   },
   {
    "duration": 1661,
    "start_time": "2021-12-01T12:32:58.293Z"
   },
   {
    "duration": 56,
    "start_time": "2021-12-01T12:32:59.956Z"
   },
   {
    "duration": 51,
    "start_time": "2021-12-01T12:36:10.279Z"
   },
   {
    "duration": 55,
    "start_time": "2021-12-01T12:36:13.987Z"
   },
   {
    "duration": 60,
    "start_time": "2021-12-01T12:36:17.223Z"
   },
   {
    "duration": 56,
    "start_time": "2021-12-01T12:36:19.003Z"
   },
   {
    "duration": 57,
    "start_time": "2021-12-01T12:36:22.693Z"
   },
   {
    "duration": 53,
    "start_time": "2021-12-01T12:36:27.526Z"
   },
   {
    "duration": 59,
    "start_time": "2021-12-01T12:36:32.030Z"
   },
   {
    "duration": 63,
    "start_time": "2021-12-01T12:36:36.752Z"
   },
   {
    "duration": 54,
    "start_time": "2021-12-01T12:36:38.985Z"
   },
   {
    "duration": 55,
    "start_time": "2021-12-01T12:36:41.407Z"
   },
   {
    "duration": 56,
    "start_time": "2021-12-01T12:36:43.878Z"
   },
   {
    "duration": 54,
    "start_time": "2021-12-01T12:36:58.201Z"
   },
   {
    "duration": 56,
    "start_time": "2021-12-01T12:37:02.324Z"
   },
   {
    "duration": 57,
    "start_time": "2021-12-01T12:37:05.402Z"
   },
   {
    "duration": 285,
    "start_time": "2021-12-01T12:38:35.641Z"
   },
   {
    "duration": 285,
    "start_time": "2021-12-01T12:38:39.834Z"
   },
   {
    "duration": 1657,
    "start_time": "2021-12-01T12:38:58.688Z"
   },
   {
    "duration": 55,
    "start_time": "2021-12-01T12:39:00.347Z"
   },
   {
    "duration": 5,
    "start_time": "2021-12-01T12:39:08.614Z"
   },
   {
    "duration": 29,
    "start_time": "2021-12-01T12:39:08.636Z"
   },
   {
    "duration": 12,
    "start_time": "2021-12-01T12:39:08.667Z"
   },
   {
    "duration": 74,
    "start_time": "2021-12-01T12:39:08.681Z"
   },
   {
    "duration": 11,
    "start_time": "2021-12-01T12:39:08.757Z"
   },
   {
    "duration": 38,
    "start_time": "2021-12-01T12:39:08.769Z"
   },
   {
    "duration": 27,
    "start_time": "2021-12-01T12:39:08.808Z"
   },
   {
    "duration": 30,
    "start_time": "2021-12-01T12:39:08.837Z"
   },
   {
    "duration": 66,
    "start_time": "2021-12-01T12:39:08.869Z"
   },
   {
    "duration": 1741,
    "start_time": "2021-12-01T12:39:08.937Z"
   },
   {
    "duration": 4,
    "start_time": "2021-12-01T12:39:10.680Z"
   },
   {
    "duration": 29,
    "start_time": "2021-12-01T12:39:10.686Z"
   },
   {
    "duration": 31,
    "start_time": "2021-12-01T12:39:10.716Z"
   },
   {
    "duration": 13,
    "start_time": "2021-12-01T12:39:10.749Z"
   },
   {
    "duration": 37,
    "start_time": "2021-12-01T12:39:10.764Z"
   },
   {
    "duration": 25,
    "start_time": "2021-12-01T12:39:10.803Z"
   },
   {
    "duration": 33,
    "start_time": "2021-12-01T12:39:10.829Z"
   },
   {
    "duration": 32,
    "start_time": "2021-12-01T12:39:10.864Z"
   },
   {
    "duration": 20,
    "start_time": "2021-12-01T12:39:10.899Z"
   },
   {
    "duration": 23,
    "start_time": "2021-12-01T12:39:10.922Z"
   },
   {
    "duration": 28,
    "start_time": "2021-12-01T12:39:10.946Z"
   },
   {
    "duration": 42,
    "start_time": "2021-12-01T12:39:10.976Z"
   },
   {
    "duration": 28,
    "start_time": "2021-12-01T12:39:11.019Z"
   },
   {
    "duration": 47,
    "start_time": "2021-12-01T12:39:11.049Z"
   },
   {
    "duration": 40,
    "start_time": "2021-12-01T12:39:11.099Z"
   },
   {
    "duration": 46,
    "start_time": "2021-12-01T12:39:11.141Z"
   },
   {
    "duration": 14,
    "start_time": "2021-12-01T12:39:11.189Z"
   },
   {
    "duration": 38,
    "start_time": "2021-12-01T12:39:11.205Z"
   },
   {
    "duration": 30,
    "start_time": "2021-12-01T12:39:11.245Z"
   },
   {
    "duration": 26,
    "start_time": "2021-12-01T12:39:11.277Z"
   },
   {
    "duration": 28,
    "start_time": "2021-12-01T12:39:11.305Z"
   },
   {
    "duration": 29,
    "start_time": "2021-12-01T12:39:11.334Z"
   },
   {
    "duration": 27,
    "start_time": "2021-12-01T12:39:11.366Z"
   },
   {
    "duration": 30,
    "start_time": "2021-12-01T12:39:11.395Z"
   },
   {
    "duration": 33,
    "start_time": "2021-12-01T12:39:11.426Z"
   },
   {
    "duration": 45,
    "start_time": "2021-12-01T12:39:11.460Z"
   },
   {
    "duration": 117,
    "start_time": "2021-12-01T12:39:11.507Z"
   },
   {
    "duration": 8,
    "start_time": "2021-12-01T12:39:11.625Z"
   },
   {
    "duration": 146,
    "start_time": "2021-12-01T12:39:11.644Z"
   },
   {
    "duration": 63,
    "start_time": "2021-12-01T12:39:11.792Z"
   },
   {
    "duration": 128,
    "start_time": "2021-12-01T12:39:11.947Z"
   },
   {
    "duration": 102,
    "start_time": "2021-12-01T12:39:12.076Z"
   },
   {
    "duration": 72,
    "start_time": "2021-12-01T12:39:12.180Z"
   },
   {
    "duration": 215,
    "start_time": "2021-12-01T12:39:12.254Z"
   },
   {
    "duration": 96,
    "start_time": "2021-12-01T12:39:12.471Z"
   },
   {
    "duration": 3,
    "start_time": "2021-12-01T12:39:12.569Z"
   },
   {
    "duration": 44,
    "start_time": "2021-12-01T12:39:12.574Z"
   },
   {
    "duration": 14,
    "start_time": "2021-12-01T12:39:12.619Z"
   },
   {
    "duration": 116,
    "start_time": "2021-12-01T12:39:12.635Z"
   },
   {
    "duration": 234,
    "start_time": "2021-12-01T12:39:12.754Z"
   },
   {
    "duration": 167,
    "start_time": "2021-12-01T12:39:12.990Z"
   },
   {
    "duration": 4,
    "start_time": "2021-12-01T12:39:13.161Z"
   },
   {
    "duration": 30,
    "start_time": "2021-12-01T12:39:13.167Z"
   },
   {
    "duration": 14,
    "start_time": "2021-12-01T12:39:13.199Z"
   },
   {
    "duration": 34,
    "start_time": "2021-12-01T12:39:13.215Z"
   },
   {
    "duration": 198,
    "start_time": "2021-12-01T12:39:13.252Z"
   },
   {
    "duration": 56,
    "start_time": "2021-12-01T12:39:13.452Z"
   },
   {
    "duration": 37,
    "start_time": "2021-12-01T12:39:13.509Z"
   },
   {
    "duration": 4,
    "start_time": "2021-12-01T12:39:13.548Z"
   },
   {
    "duration": 95,
    "start_time": "2021-12-01T12:39:13.554Z"
   },
   {
    "duration": 309,
    "start_time": "2021-12-01T12:39:13.651Z"
   },
   {
    "duration": 30,
    "start_time": "2021-12-01T12:39:13.962Z"
   },
   {
    "duration": 2,
    "start_time": "2021-12-01T12:39:13.994Z"
   },
   {
    "duration": 31,
    "start_time": "2021-12-01T12:39:13.998Z"
   },
   {
    "duration": 226,
    "start_time": "2021-12-01T12:39:14.030Z"
   },
   {
    "duration": 70,
    "start_time": "2021-12-01T12:39:14.258Z"
   },
   {
    "duration": 2,
    "start_time": "2021-12-01T12:39:14.330Z"
   },
   {
    "duration": 263,
    "start_time": "2021-12-01T12:39:14.344Z"
   },
   {
    "duration": 286,
    "start_time": "2021-12-01T12:39:14.609Z"
   },
   {
    "duration": 640,
    "start_time": "2021-12-01T12:39:14.896Z"
   },
   {
    "duration": 175,
    "start_time": "2021-12-01T12:39:15.550Z"
   },
   {
    "duration": 53643,
    "start_time": "2021-12-01T12:39:15.727Z"
   },
   {
    "duration": 864,
    "start_time": "2021-12-01T12:40:09.372Z"
   },
   {
    "duration": 7,
    "start_time": "2021-12-01T12:40:10.245Z"
   },
   {
    "duration": 17,
    "start_time": "2021-12-01T12:40:10.254Z"
   },
   {
    "duration": 28,
    "start_time": "2021-12-01T12:40:10.273Z"
   },
   {
    "duration": 26,
    "start_time": "2021-12-01T12:40:10.303Z"
   },
   {
    "duration": 12,
    "start_time": "2021-12-01T12:40:10.330Z"
   },
   {
    "duration": 43,
    "start_time": "2021-12-01T12:40:10.343Z"
   },
   {
    "duration": 63,
    "start_time": "2021-12-01T12:40:10.388Z"
   },
   {
    "duration": 92,
    "start_time": "2021-12-01T12:40:10.453Z"
   },
   {
    "duration": 99,
    "start_time": "2021-12-01T12:40:10.548Z"
   },
   {
    "duration": 4,
    "start_time": "2021-12-01T12:40:10.649Z"
   },
   {
    "duration": 21,
    "start_time": "2021-12-01T12:40:10.654Z"
   },
   {
    "duration": 14,
    "start_time": "2021-12-01T12:40:10.677Z"
   },
   {
    "duration": 4,
    "start_time": "2021-12-01T12:40:10.693Z"
   },
   {
    "duration": 16,
    "start_time": "2021-12-01T12:40:10.699Z"
   },
   {
    "duration": 43,
    "start_time": "2021-12-01T12:40:10.717Z"
   },
   {
    "duration": 9,
    "start_time": "2021-12-01T12:40:10.761Z"
   },
   {
    "duration": 1665,
    "start_time": "2021-12-01T12:40:10.772Z"
   },
   {
    "duration": 57,
    "start_time": "2021-12-01T12:40:12.438Z"
   },
   {
    "duration": 10,
    "start_time": "2021-12-01T12:50:20.122Z"
   },
   {
    "duration": 40,
    "start_time": "2021-12-01T12:50:20.467Z"
   },
   {
    "duration": 10,
    "start_time": "2021-12-01T12:50:21.417Z"
   },
   {
    "duration": 12,
    "start_time": "2021-12-01T12:50:28.596Z"
   },
   {
    "duration": 40,
    "start_time": "2021-12-01T12:50:29.068Z"
   },
   {
    "duration": 10,
    "start_time": "2021-12-01T12:50:30.321Z"
   },
   {
    "duration": 5,
    "start_time": "2021-12-01T12:50:37.672Z"
   },
   {
    "duration": 30,
    "start_time": "2021-12-01T12:50:37.712Z"
   },
   {
    "duration": 12,
    "start_time": "2021-12-01T12:50:37.744Z"
   },
   {
    "duration": 38,
    "start_time": "2021-12-01T12:50:37.758Z"
   },
   {
    "duration": 11,
    "start_time": "2021-12-01T12:50:37.797Z"
   },
   {
    "duration": 34,
    "start_time": "2021-12-01T12:50:37.810Z"
   },
   {
    "duration": 5,
    "start_time": "2021-12-01T12:50:37.846Z"
   },
   {
    "duration": 18,
    "start_time": "2021-12-01T12:50:37.852Z"
   },
   {
    "duration": 44,
    "start_time": "2021-12-01T12:50:37.872Z"
   },
   {
    "duration": 1776,
    "start_time": "2021-12-01T12:50:37.920Z"
   },
   {
    "duration": 5,
    "start_time": "2021-12-01T12:50:39.699Z"
   },
   {
    "duration": 16,
    "start_time": "2021-12-01T12:50:39.705Z"
   },
   {
    "duration": 4,
    "start_time": "2021-12-01T12:50:39.723Z"
   },
   {
    "duration": 17,
    "start_time": "2021-12-01T12:50:39.729Z"
   },
   {
    "duration": 16,
    "start_time": "2021-12-01T12:50:39.748Z"
   },
   {
    "duration": 5,
    "start_time": "2021-12-01T12:50:39.766Z"
   },
   {
    "duration": 8,
    "start_time": "2021-12-01T12:50:39.773Z"
   },
   {
    "duration": 6,
    "start_time": "2021-12-01T12:50:39.783Z"
   },
   {
    "duration": 5,
    "start_time": "2021-12-01T12:50:39.791Z"
   },
   {
    "duration": 5,
    "start_time": "2021-12-01T12:50:39.798Z"
   },
   {
    "duration": 6,
    "start_time": "2021-12-01T12:50:39.805Z"
   },
   {
    "duration": 4,
    "start_time": "2021-12-01T12:50:39.845Z"
   },
   {
    "duration": 7,
    "start_time": "2021-12-01T12:50:39.850Z"
   },
   {
    "duration": 6,
    "start_time": "2021-12-01T12:50:39.859Z"
   },
   {
    "duration": 17,
    "start_time": "2021-12-01T12:50:39.867Z"
   },
   {
    "duration": 26,
    "start_time": "2021-12-01T12:50:39.888Z"
   },
   {
    "duration": 28,
    "start_time": "2021-12-01T12:50:39.917Z"
   },
   {
    "duration": 12,
    "start_time": "2021-12-01T12:50:39.947Z"
   },
   {
    "duration": 6,
    "start_time": "2021-12-01T12:50:39.961Z"
   },
   {
    "duration": 6,
    "start_time": "2021-12-01T12:50:39.969Z"
   },
   {
    "duration": 9,
    "start_time": "2021-12-01T12:50:39.977Z"
   },
   {
    "duration": 7,
    "start_time": "2021-12-01T12:50:39.988Z"
   },
   {
    "duration": 14,
    "start_time": "2021-12-01T12:50:39.997Z"
   },
   {
    "duration": 13,
    "start_time": "2021-12-01T12:50:40.013Z"
   },
   {
    "duration": 18,
    "start_time": "2021-12-01T12:50:40.028Z"
   },
   {
    "duration": 42,
    "start_time": "2021-12-01T12:50:40.048Z"
   },
   {
    "duration": 87,
    "start_time": "2021-12-01T12:50:40.092Z"
   },
   {
    "duration": 8,
    "start_time": "2021-12-01T12:50:40.181Z"
   },
   {
    "duration": 148,
    "start_time": "2021-12-01T12:50:40.190Z"
   },
   {
    "duration": 105,
    "start_time": "2021-12-01T12:50:40.345Z"
   },
   {
    "duration": 38,
    "start_time": "2021-12-01T12:50:40.544Z"
   },
   {
    "duration": 108,
    "start_time": "2021-12-01T12:50:40.584Z"
   },
   {
    "duration": 61,
    "start_time": "2021-12-01T12:50:40.694Z"
   },
   {
    "duration": 128,
    "start_time": "2021-12-01T12:50:40.846Z"
   },
   {
    "duration": 94,
    "start_time": "2021-12-01T12:50:40.976Z"
   },
   {
    "duration": 3,
    "start_time": "2021-12-01T12:50:41.072Z"
   },
   {
    "duration": 21,
    "start_time": "2021-12-01T12:50:41.077Z"
   },
   {
    "duration": 13,
    "start_time": "2021-12-01T12:50:41.100Z"
   },
   {
    "duration": 134,
    "start_time": "2021-12-01T12:50:41.115Z"
   },
   {
    "duration": 229,
    "start_time": "2021-12-01T12:50:41.252Z"
   },
   {
    "duration": 162,
    "start_time": "2021-12-01T12:50:41.482Z"
   },
   {
    "duration": 4,
    "start_time": "2021-12-01T12:50:41.646Z"
   },
   {
    "duration": 13,
    "start_time": "2021-12-01T12:50:41.651Z"
   },
   {
    "duration": 8,
    "start_time": "2021-12-01T12:50:41.666Z"
   },
   {
    "duration": 75,
    "start_time": "2021-12-01T12:50:41.676Z"
   },
   {
    "duration": 199,
    "start_time": "2021-12-01T12:50:41.753Z"
   },
   {
    "duration": 42,
    "start_time": "2021-12-01T12:50:41.954Z"
   },
   {
    "duration": 61,
    "start_time": "2021-12-01T12:50:41.998Z"
   },
   {
    "duration": 85,
    "start_time": "2021-12-01T12:50:42.061Z"
   },
   {
    "duration": 97,
    "start_time": "2021-12-01T12:50:42.149Z"
   },
   {
    "duration": 233,
    "start_time": "2021-12-01T12:50:42.248Z"
   },
   {
    "duration": 32,
    "start_time": "2021-12-01T12:50:42.482Z"
   },
   {
    "duration": 2,
    "start_time": "2021-12-01T12:50:42.516Z"
   },
   {
    "duration": 9,
    "start_time": "2021-12-01T12:50:42.519Z"
   },
   {
    "duration": 217,
    "start_time": "2021-12-01T12:50:42.545Z"
   },
   {
    "duration": 86,
    "start_time": "2021-12-01T12:50:42.764Z"
   },
   {
    "duration": 2,
    "start_time": "2021-12-01T12:50:42.852Z"
   },
   {
    "duration": 281,
    "start_time": "2021-12-01T12:50:42.856Z"
   },
   {
    "duration": 247,
    "start_time": "2021-12-01T12:50:43.144Z"
   },
   {
    "duration": 639,
    "start_time": "2021-12-01T12:50:43.393Z"
   },
   {
    "duration": 87,
    "start_time": "2021-12-01T12:50:44.034Z"
   },
   {
    "duration": 54714,
    "start_time": "2021-12-01T12:50:44.122Z"
   },
   {
    "duration": 877,
    "start_time": "2021-12-01T12:51:38.845Z"
   },
   {
    "duration": 20,
    "start_time": "2021-12-01T12:51:39.724Z"
   },
   {
    "duration": 3,
    "start_time": "2021-12-01T12:51:39.746Z"
   },
   {
    "duration": 12,
    "start_time": "2021-12-01T12:51:39.751Z"
   },
   {
    "duration": 8,
    "start_time": "2021-12-01T12:51:39.765Z"
   },
   {
    "duration": 8,
    "start_time": "2021-12-01T12:51:39.774Z"
   },
   {
    "duration": 22,
    "start_time": "2021-12-01T12:51:39.784Z"
   },
   {
    "duration": 84,
    "start_time": "2021-12-01T12:51:39.808Z"
   },
   {
    "duration": 64,
    "start_time": "2021-12-01T12:51:39.894Z"
   },
   {
    "duration": 7,
    "start_time": "2021-12-01T12:51:40.045Z"
   },
   {
    "duration": 10,
    "start_time": "2021-12-01T12:51:40.054Z"
   },
   {
    "duration": 5,
    "start_time": "2021-12-01T12:51:40.066Z"
   },
   {
    "duration": 5,
    "start_time": "2021-12-01T12:51:40.073Z"
   },
   {
    "duration": 5,
    "start_time": "2021-12-01T12:51:40.080Z"
   },
   {
    "duration": 22,
    "start_time": "2021-12-01T12:51:40.087Z"
   },
   {
    "duration": 90,
    "start_time": "2021-12-01T12:51:40.111Z"
   },
   {
    "duration": 13,
    "start_time": "2021-12-01T12:51:40.203Z"
   },
   {
    "duration": 1835,
    "start_time": "2021-12-01T12:51:40.217Z"
   },
   {
    "duration": 58,
    "start_time": "2021-12-01T12:51:42.054Z"
   },
   {
    "duration": 3,
    "start_time": "2021-12-01T12:55:57.005Z"
   },
   {
    "duration": 354,
    "start_time": "2021-12-01T12:55:58.360Z"
   },
   {
    "duration": 1604,
    "start_time": "2021-12-01T12:56:14.469Z"
   },
   {
    "duration": 54,
    "start_time": "2021-12-01T12:56:16.075Z"
   },
   {
    "duration": 2019,
    "start_time": "2021-12-01T12:56:28.979Z"
   },
   {
    "duration": 74,
    "start_time": "2021-12-01T12:56:31.000Z"
   },
   {
    "duration": 261,
    "start_time": "2021-12-01T12:57:13.136Z"
   },
   {
    "duration": 2012,
    "start_time": "2021-12-01T12:57:17.979Z"
   },
   {
    "duration": 99,
    "start_time": "2021-12-01T12:57:19.994Z"
   },
   {
    "duration": 1667,
    "start_time": "2021-12-01T12:57:59.355Z"
   },
   {
    "duration": 55,
    "start_time": "2021-12-01T12:58:18.043Z"
   },
   {
    "duration": 1608,
    "start_time": "2021-12-01T12:58:20.458Z"
   },
   {
    "duration": 56,
    "start_time": "2021-12-01T12:58:22.067Z"
   },
   {
    "duration": 294,
    "start_time": "2021-12-01T13:06:10.384Z"
   },
   {
    "duration": 327,
    "start_time": "2021-12-01T13:07:02.986Z"
   },
   {
    "duration": 320,
    "start_time": "2021-12-01T13:07:08.544Z"
   },
   {
    "duration": 259,
    "start_time": "2021-12-01T13:08:30.385Z"
   },
   {
    "duration": 13,
    "start_time": "2021-12-01T13:08:37.605Z"
   },
   {
    "duration": 101,
    "start_time": "2021-12-01T13:08:42.744Z"
   },
   {
    "duration": 4,
    "start_time": "2021-12-01T13:08:46.211Z"
   },
   {
    "duration": 498,
    "start_time": "2021-12-01T13:09:27.568Z"
   },
   {
    "duration": 430,
    "start_time": "2021-12-01T13:10:09.505Z"
   },
   {
    "duration": 443,
    "start_time": "2021-12-01T13:10:15.406Z"
   },
   {
    "duration": 459,
    "start_time": "2021-12-01T13:10:26.271Z"
   },
   {
    "duration": 462,
    "start_time": "2021-12-01T13:10:36.697Z"
   },
   {
    "duration": 3,
    "start_time": "2021-12-01T13:11:32.601Z"
   },
   {
    "duration": 5,
    "start_time": "2021-12-01T13:11:33.611Z"
   },
   {
    "duration": 13,
    "start_time": "2021-12-01T13:12:36.972Z"
   },
   {
    "duration": 4,
    "start_time": "2021-12-01T13:12:37.229Z"
   },
   {
    "duration": 14,
    "start_time": "2021-12-01T13:12:41.134Z"
   },
   {
    "duration": 17,
    "start_time": "2021-12-01T13:13:07.473Z"
   },
   {
    "duration": 16,
    "start_time": "2021-12-01T13:13:48.557Z"
   },
   {
    "duration": 4,
    "start_time": "2021-12-01T13:14:00.340Z"
   },
   {
    "duration": 3,
    "start_time": "2021-12-01T13:14:07.785Z"
   },
   {
    "duration": 147,
    "start_time": "2021-12-01T13:14:30.715Z"
   },
   {
    "duration": 403,
    "start_time": "2021-12-01T13:14:38.980Z"
   },
   {
    "duration": 414,
    "start_time": "2021-12-01T13:15:10.654Z"
   },
   {
    "duration": 323,
    "start_time": "2021-12-01T13:16:51.725Z"
   },
   {
    "duration": 294,
    "start_time": "2021-12-01T13:17:26.869Z"
   },
   {
    "duration": 10,
    "start_time": "2021-12-01T13:18:06.545Z"
   },
   {
    "duration": 5,
    "start_time": "2021-12-01T13:18:30.781Z"
   },
   {
    "duration": 294,
    "start_time": "2021-12-01T13:18:45.147Z"
   },
   {
    "duration": 274,
    "start_time": "2021-12-01T13:18:53.721Z"
   },
   {
    "duration": 10,
    "start_time": "2021-12-01T13:19:04.223Z"
   },
   {
    "duration": 14,
    "start_time": "2021-12-01T13:19:33.787Z"
   },
   {
    "duration": 268,
    "start_time": "2021-12-01T13:19:42.510Z"
   },
   {
    "duration": 13,
    "start_time": "2021-12-01T13:23:19.380Z"
   },
   {
    "duration": 21,
    "start_time": "2021-12-01T13:23:37.941Z"
   },
   {
    "duration": 133,
    "start_time": "2021-12-01T13:23:44.820Z"
   },
   {
    "duration": 338,
    "start_time": "2021-12-01T13:23:48.565Z"
   },
   {
    "duration": 264,
    "start_time": "2021-12-01T13:24:11.176Z"
   },
   {
    "duration": 5,
    "start_time": "2021-12-01T13:25:05.352Z"
   },
   {
    "duration": 5,
    "start_time": "2021-12-01T13:25:09.311Z"
   },
   {
    "duration": 89,
    "start_time": "2021-12-01T13:25:21.317Z"
   },
   {
    "duration": 11,
    "start_time": "2021-12-01T13:25:35.424Z"
   },
   {
    "duration": 4,
    "start_time": "2021-12-01T13:26:01.053Z"
   },
   {
    "duration": 420,
    "start_time": "2021-12-01T13:26:17.574Z"
   },
   {
    "duration": 340,
    "start_time": "2021-12-01T13:26:28.145Z"
   },
   {
    "duration": 413,
    "start_time": "2021-12-01T13:26:34.393Z"
   },
   {
    "duration": 12,
    "start_time": "2021-12-01T13:34:56.284Z"
   },
   {
    "duration": 4,
    "start_time": "2021-12-01T13:35:02.745Z"
   },
   {
    "duration": 199,
    "start_time": "2021-12-01T13:37:12.929Z"
   },
   {
    "duration": 299,
    "start_time": "2021-12-01T13:37:40.819Z"
   },
   {
    "duration": 572,
    "start_time": "2021-12-01T13:37:57.006Z"
   },
   {
    "duration": 879,
    "start_time": "2021-12-01T13:38:57.674Z"
   },
   {
    "duration": 210,
    "start_time": "2021-12-01T13:39:09.065Z"
   },
   {
    "duration": 231,
    "start_time": "2021-12-01T13:39:14.168Z"
   },
   {
    "duration": 2,
    "start_time": "2021-12-01T14:24:53.203Z"
   },
   {
    "duration": 4,
    "start_time": "2021-12-01T14:25:18.742Z"
   },
   {
    "duration": 4,
    "start_time": "2021-12-01T14:25:25.279Z"
   },
   {
    "duration": 4,
    "start_time": "2021-12-01T14:25:34.282Z"
   },
   {
    "duration": 213,
    "start_time": "2021-12-01T14:27:20.701Z"
   },
   {
    "duration": 259,
    "start_time": "2021-12-01T14:28:05.871Z"
   },
   {
    "duration": 1229,
    "start_time": "2021-12-01T14:42:47.958Z"
   },
   {
    "duration": 38,
    "start_time": "2021-12-01T14:42:49.189Z"
   },
   {
    "duration": 19,
    "start_time": "2021-12-01T14:42:49.230Z"
   },
   {
    "duration": 50,
    "start_time": "2021-12-01T14:42:49.252Z"
   },
   {
    "duration": 12,
    "start_time": "2021-12-01T14:42:49.303Z"
   },
   {
    "duration": 33,
    "start_time": "2021-12-01T14:42:49.317Z"
   },
   {
    "duration": 14,
    "start_time": "2021-12-01T14:42:49.353Z"
   },
   {
    "duration": 10,
    "start_time": "2021-12-01T14:42:49.369Z"
   },
   {
    "duration": 41,
    "start_time": "2021-12-01T14:42:49.381Z"
   },
   {
    "duration": 1951,
    "start_time": "2021-12-01T14:42:49.424Z"
   },
   {
    "duration": 5,
    "start_time": "2021-12-01T14:42:51.377Z"
   },
   {
    "duration": 14,
    "start_time": "2021-12-01T14:42:51.384Z"
   },
   {
    "duration": 6,
    "start_time": "2021-12-01T14:42:51.399Z"
   },
   {
    "duration": 7,
    "start_time": "2021-12-01T14:42:51.406Z"
   },
   {
    "duration": 32,
    "start_time": "2021-12-01T14:42:51.414Z"
   },
   {
    "duration": 10,
    "start_time": "2021-12-01T14:42:51.449Z"
   },
   {
    "duration": 7,
    "start_time": "2021-12-01T14:42:51.461Z"
   },
   {
    "duration": 5,
    "start_time": "2021-12-01T14:42:51.470Z"
   },
   {
    "duration": 5,
    "start_time": "2021-12-01T14:42:51.477Z"
   },
   {
    "duration": 7,
    "start_time": "2021-12-01T14:42:51.483Z"
   },
   {
    "duration": 12,
    "start_time": "2021-12-01T14:42:51.492Z"
   },
   {
    "duration": 10,
    "start_time": "2021-12-01T14:42:51.506Z"
   },
   {
    "duration": 9,
    "start_time": "2021-12-01T14:42:51.548Z"
   },
   {
    "duration": 4,
    "start_time": "2021-12-01T14:42:51.561Z"
   },
   {
    "duration": 18,
    "start_time": "2021-12-01T14:42:51.567Z"
   },
   {
    "duration": 27,
    "start_time": "2021-12-01T14:42:51.587Z"
   },
   {
    "duration": 6,
    "start_time": "2021-12-01T14:42:51.645Z"
   },
   {
    "duration": 22,
    "start_time": "2021-12-01T14:42:51.653Z"
   },
   {
    "duration": 29,
    "start_time": "2021-12-01T14:42:51.677Z"
   },
   {
    "duration": 34,
    "start_time": "2021-12-01T14:42:51.709Z"
   },
   {
    "duration": 31,
    "start_time": "2021-12-01T14:42:51.746Z"
   },
   {
    "duration": 17,
    "start_time": "2021-12-01T14:42:51.778Z"
   },
   {
    "duration": 25,
    "start_time": "2021-12-01T14:42:51.797Z"
   },
   {
    "duration": 23,
    "start_time": "2021-12-01T14:42:51.824Z"
   },
   {
    "duration": 16,
    "start_time": "2021-12-01T14:42:51.849Z"
   },
   {
    "duration": 55,
    "start_time": "2021-12-01T14:42:51.868Z"
   },
   {
    "duration": 92,
    "start_time": "2021-12-01T14:42:51.925Z"
   },
   {
    "duration": 8,
    "start_time": "2021-12-01T14:42:52.019Z"
   },
   {
    "duration": 181,
    "start_time": "2021-12-01T14:42:52.029Z"
   },
   {
    "duration": 133,
    "start_time": "2021-12-01T14:42:52.211Z"
   },
   {
    "duration": 132,
    "start_time": "2021-12-01T14:42:52.348Z"
   },
   {
    "duration": 111,
    "start_time": "2021-12-01T14:42:52.482Z"
   },
   {
    "duration": 155,
    "start_time": "2021-12-01T14:42:52.595Z"
   },
   {
    "duration": 131,
    "start_time": "2021-12-01T14:42:52.752Z"
   },
   {
    "duration": 130,
    "start_time": "2021-12-01T14:42:52.884Z"
   },
   {
    "duration": 3,
    "start_time": "2021-12-01T14:42:53.016Z"
   },
   {
    "duration": 27,
    "start_time": "2021-12-01T14:42:53.021Z"
   },
   {
    "duration": 14,
    "start_time": "2021-12-01T14:42:53.051Z"
   },
   {
    "duration": 185,
    "start_time": "2021-12-01T14:42:53.067Z"
   },
   {
    "duration": 239,
    "start_time": "2021-12-01T14:42:53.254Z"
   },
   {
    "duration": 180,
    "start_time": "2021-12-01T14:42:53.495Z"
   },
   {
    "duration": 4,
    "start_time": "2021-12-01T14:42:53.677Z"
   },
   {
    "duration": 17,
    "start_time": "2021-12-01T14:42:53.682Z"
   },
   {
    "duration": 7,
    "start_time": "2021-12-01T14:42:53.701Z"
   },
   {
    "duration": 45,
    "start_time": "2021-12-01T14:42:53.710Z"
   },
   {
    "duration": 197,
    "start_time": "2021-12-01T14:42:53.757Z"
   },
   {
    "duration": 41,
    "start_time": "2021-12-01T14:42:53.957Z"
   },
   {
    "duration": 59,
    "start_time": "2021-12-01T14:42:53.999Z"
   },
   {
    "duration": 4,
    "start_time": "2021-12-01T14:42:54.060Z"
   },
   {
    "duration": 96,
    "start_time": "2021-12-01T14:42:54.067Z"
   },
   {
    "duration": 335,
    "start_time": "2021-12-01T14:42:54.166Z"
   },
   {
    "duration": 42,
    "start_time": "2021-12-01T14:42:54.503Z"
   },
   {
    "duration": 3,
    "start_time": "2021-12-01T14:42:54.547Z"
   },
   {
    "duration": 27,
    "start_time": "2021-12-01T14:42:54.553Z"
   },
   {
    "duration": 225,
    "start_time": "2021-12-01T14:42:54.582Z"
   },
   {
    "duration": 96,
    "start_time": "2021-12-01T14:42:54.809Z"
   },
   {
    "duration": 3,
    "start_time": "2021-12-01T14:42:54.906Z"
   },
   {
    "duration": 301,
    "start_time": "2021-12-01T14:42:54.914Z"
   },
   {
    "duration": 284,
    "start_time": "2021-12-01T14:42:55.217Z"
   },
   {
    "duration": 695,
    "start_time": "2021-12-01T14:42:55.503Z"
   },
   {
    "duration": 103,
    "start_time": "2021-12-01T14:42:56.200Z"
   },
   {
    "duration": 57723,
    "start_time": "2021-12-01T14:42:56.305Z"
   },
   {
    "duration": 936,
    "start_time": "2021-12-01T14:43:54.030Z"
   },
   {
    "duration": 7,
    "start_time": "2021-12-01T14:43:54.968Z"
   },
   {
    "duration": 35,
    "start_time": "2021-12-01T14:43:54.977Z"
   },
   {
    "duration": 27,
    "start_time": "2021-12-01T14:43:55.014Z"
   },
   {
    "duration": 52,
    "start_time": "2021-12-01T14:43:55.043Z"
   },
   {
    "duration": 37,
    "start_time": "2021-12-01T14:43:55.097Z"
   },
   {
    "duration": 40,
    "start_time": "2021-12-01T14:43:55.136Z"
   },
   {
    "duration": 81,
    "start_time": "2021-12-01T14:43:55.178Z"
   },
   {
    "duration": 92,
    "start_time": "2021-12-01T14:43:55.261Z"
   },
   {
    "duration": 108,
    "start_time": "2021-12-01T14:43:55.356Z"
   },
   {
    "duration": 10,
    "start_time": "2021-12-01T14:43:55.465Z"
   },
   {
    "duration": 20,
    "start_time": "2021-12-01T14:43:55.477Z"
   },
   {
    "duration": 22,
    "start_time": "2021-12-01T14:43:55.499Z"
   },
   {
    "duration": 20,
    "start_time": "2021-12-01T14:43:55.523Z"
   },
   {
    "duration": 46,
    "start_time": "2021-12-01T14:43:55.546Z"
   },
   {
    "duration": 45,
    "start_time": "2021-12-01T14:43:55.594Z"
   },
   {
    "duration": 14,
    "start_time": "2021-12-01T14:43:55.640Z"
   },
   {
    "duration": 3,
    "start_time": "2021-12-01T14:43:55.658Z"
   },
   {
    "duration": 24,
    "start_time": "2021-12-01T14:43:55.662Z"
   },
   {
    "duration": 425,
    "start_time": "2021-12-01T14:43:55.688Z"
   },
   {
    "duration": -199,
    "start_time": "2021-12-01T14:43:56.315Z"
   },
   {
    "duration": -213,
    "start_time": "2021-12-01T14:43:56.330Z"
   },
   {
    "duration": -224,
    "start_time": "2021-12-01T14:43:56.343Z"
   },
   {
    "duration": -237,
    "start_time": "2021-12-01T14:43:56.357Z"
   },
   {
    "duration": -248,
    "start_time": "2021-12-01T14:43:56.369Z"
   },
   {
    "duration": 262,
    "start_time": "2021-12-01T14:44:26.012Z"
   },
   {
    "duration": 2393,
    "start_time": "2021-12-01T14:44:29.353Z"
   },
   {
    "duration": 79,
    "start_time": "2021-12-01T14:44:31.749Z"
   },
   {
    "duration": 108,
    "start_time": "2021-12-01T14:44:31.844Z"
   },
   {
    "duration": 5,
    "start_time": "2021-12-01T14:44:31.955Z"
   },
   {
    "duration": 281,
    "start_time": "2021-12-01T14:44:31.962Z"
   },
   {
    "duration": 12,
    "start_time": "2021-12-01T15:33:41.973Z"
   },
   {
    "duration": 5,
    "start_time": "2021-12-01T15:33:46.734Z"
   },
   {
    "duration": 30,
    "start_time": "2021-12-01T15:33:46.767Z"
   },
   {
    "duration": 12,
    "start_time": "2021-12-01T15:33:46.799Z"
   },
   {
    "duration": 43,
    "start_time": "2021-12-01T15:33:46.813Z"
   },
   {
    "duration": 11,
    "start_time": "2021-12-01T15:33:46.858Z"
   },
   {
    "duration": 10,
    "start_time": "2021-12-01T15:33:46.871Z"
   },
   {
    "duration": 12,
    "start_time": "2021-12-01T15:33:46.883Z"
   },
   {
    "duration": 6,
    "start_time": "2021-12-01T15:33:46.897Z"
   },
   {
    "duration": 63,
    "start_time": "2021-12-01T15:33:46.905Z"
   },
   {
    "duration": 1897,
    "start_time": "2021-12-01T15:33:46.970Z"
   },
   {
    "duration": 4,
    "start_time": "2021-12-01T15:33:48.869Z"
   },
   {
    "duration": 52,
    "start_time": "2021-12-01T15:33:48.875Z"
   },
   {
    "duration": 23,
    "start_time": "2021-12-01T15:33:48.928Z"
   },
   {
    "duration": 39,
    "start_time": "2021-12-01T15:33:48.953Z"
   },
   {
    "duration": 56,
    "start_time": "2021-12-01T15:33:48.995Z"
   },
   {
    "duration": 26,
    "start_time": "2021-12-01T15:33:49.054Z"
   },
   {
    "duration": 32,
    "start_time": "2021-12-01T15:33:49.082Z"
   },
   {
    "duration": 6,
    "start_time": "2021-12-01T15:33:49.116Z"
   },
   {
    "duration": 22,
    "start_time": "2021-12-01T15:33:49.123Z"
   },
   {
    "duration": 40,
    "start_time": "2021-12-01T15:33:49.147Z"
   },
   {
    "duration": 27,
    "start_time": "2021-12-01T15:33:49.188Z"
   },
   {
    "duration": 26,
    "start_time": "2021-12-01T15:33:49.217Z"
   },
   {
    "duration": 35,
    "start_time": "2021-12-01T15:33:49.245Z"
   },
   {
    "duration": 18,
    "start_time": "2021-12-01T15:33:49.282Z"
   },
   {
    "duration": 22,
    "start_time": "2021-12-01T15:33:49.301Z"
   },
   {
    "duration": 32,
    "start_time": "2021-12-01T15:33:49.325Z"
   },
   {
    "duration": 17,
    "start_time": "2021-12-01T15:33:49.359Z"
   },
   {
    "duration": 46,
    "start_time": "2021-12-01T15:33:49.379Z"
   },
   {
    "duration": 26,
    "start_time": "2021-12-01T15:33:49.427Z"
   },
   {
    "duration": 27,
    "start_time": "2021-12-01T15:33:49.455Z"
   },
   {
    "duration": 30,
    "start_time": "2021-12-01T15:33:49.483Z"
   },
   {
    "duration": 23,
    "start_time": "2021-12-01T15:33:49.515Z"
   },
   {
    "duration": 25,
    "start_time": "2021-12-01T15:33:49.540Z"
   },
   {
    "duration": 39,
    "start_time": "2021-12-01T15:33:49.567Z"
   },
   {
    "duration": 25,
    "start_time": "2021-12-01T15:33:49.608Z"
   },
   {
    "duration": 36,
    "start_time": "2021-12-01T15:33:49.635Z"
   },
   {
    "duration": 82,
    "start_time": "2021-12-01T15:33:49.672Z"
   },
   {
    "duration": 8,
    "start_time": "2021-12-01T15:33:49.756Z"
   },
   {
    "duration": 163,
    "start_time": "2021-12-01T15:33:49.765Z"
   },
   {
    "duration": 48,
    "start_time": "2021-12-01T15:33:49.930Z"
   },
   {
    "duration": 133,
    "start_time": "2021-12-01T15:33:50.048Z"
   },
   {
    "duration": 110,
    "start_time": "2021-12-01T15:33:50.183Z"
   },
   {
    "duration": 157,
    "start_time": "2021-12-01T15:33:50.295Z"
   },
   {
    "duration": 216,
    "start_time": "2021-12-01T15:33:50.454Z"
   },
   {
    "duration": 98,
    "start_time": "2021-12-01T15:33:50.672Z"
   },
   {
    "duration": 3,
    "start_time": "2021-12-01T15:33:50.772Z"
   },
   {
    "duration": 39,
    "start_time": "2021-12-01T15:33:50.777Z"
   },
   {
    "duration": 41,
    "start_time": "2021-12-01T15:33:50.817Z"
   },
   {
    "duration": 94,
    "start_time": "2021-12-01T15:33:50.860Z"
   },
   {
    "duration": 147,
    "start_time": "2021-12-01T15:33:51.046Z"
   },
   {
    "duration": 170,
    "start_time": "2021-12-01T15:33:51.195Z"
   },
   {
    "duration": 4,
    "start_time": "2021-12-01T15:33:51.367Z"
   },
   {
    "duration": 34,
    "start_time": "2021-12-01T15:33:51.373Z"
   },
   {
    "duration": 34,
    "start_time": "2021-12-01T15:33:51.409Z"
   },
   {
    "duration": 50,
    "start_time": "2021-12-01T15:33:51.445Z"
   },
   {
    "duration": 114,
    "start_time": "2021-12-01T15:33:51.547Z"
   },
   {
    "duration": 55,
    "start_time": "2021-12-01T15:33:51.663Z"
   },
   {
    "duration": 37,
    "start_time": "2021-12-01T15:33:51.720Z"
   },
   {
    "duration": 86,
    "start_time": "2021-12-01T15:33:51.759Z"
   },
   {
    "duration": 101,
    "start_time": "2021-12-01T15:33:51.847Z"
   },
   {
    "duration": 255,
    "start_time": "2021-12-01T15:33:51.950Z"
   },
   {
    "duration": 41,
    "start_time": "2021-12-01T15:33:52.207Z"
   },
   {
    "duration": 4,
    "start_time": "2021-12-01T15:33:52.250Z"
   },
   {
    "duration": 38,
    "start_time": "2021-12-01T15:33:52.256Z"
   },
   {
    "duration": 254,
    "start_time": "2021-12-01T15:33:52.296Z"
   },
   {
    "duration": 76,
    "start_time": "2021-12-01T15:33:52.551Z"
   },
   {
    "duration": 3,
    "start_time": "2021-12-01T15:33:52.644Z"
   },
   {
    "duration": 303,
    "start_time": "2021-12-01T15:33:52.650Z"
   },
   {
    "duration": 315,
    "start_time": "2021-12-01T15:33:52.955Z"
   },
   {
    "duration": 667,
    "start_time": "2021-12-01T15:33:53.272Z"
   },
   {
    "duration": 81,
    "start_time": "2021-12-01T15:33:53.945Z"
   },
   {
    "duration": 54625,
    "start_time": "2021-12-01T15:33:54.028Z"
   },
   {
    "duration": 895,
    "start_time": "2021-12-01T15:34:48.654Z"
   },
   {
    "duration": 7,
    "start_time": "2021-12-01T15:34:49.550Z"
   },
   {
    "duration": 22,
    "start_time": "2021-12-01T15:34:49.559Z"
   },
   {
    "duration": 18,
    "start_time": "2021-12-01T15:34:49.583Z"
   },
   {
    "duration": 12,
    "start_time": "2021-12-01T15:34:49.603Z"
   },
   {
    "duration": 6,
    "start_time": "2021-12-01T15:34:49.617Z"
   },
   {
    "duration": 18,
    "start_time": "2021-12-01T15:34:49.624Z"
   },
   {
    "duration": 54,
    "start_time": "2021-12-01T15:34:49.645Z"
   },
   {
    "duration": 53,
    "start_time": "2021-12-01T15:34:49.701Z"
   },
   {
    "duration": 95,
    "start_time": "2021-12-01T15:34:49.757Z"
   },
   {
    "duration": 20,
    "start_time": "2021-12-01T15:34:49.854Z"
   },
   {
    "duration": 5,
    "start_time": "2021-12-01T15:34:49.876Z"
   },
   {
    "duration": 18,
    "start_time": "2021-12-01T15:34:49.883Z"
   },
   {
    "duration": 5,
    "start_time": "2021-12-01T15:34:49.903Z"
   },
   {
    "duration": 26,
    "start_time": "2021-12-01T15:34:49.910Z"
   },
   {
    "duration": 42,
    "start_time": "2021-12-01T15:34:49.938Z"
   },
   {
    "duration": 8,
    "start_time": "2021-12-01T15:34:49.982Z"
   },
   {
    "duration": 3,
    "start_time": "2021-12-01T15:34:49.992Z"
   },
   {
    "duration": 7,
    "start_time": "2021-12-01T15:34:49.997Z"
   },
   {
    "duration": 249,
    "start_time": "2021-12-01T15:34:50.006Z"
   },
   {
    "duration": 1768,
    "start_time": "2021-12-01T15:34:50.257Z"
   },
   {
    "duration": 72,
    "start_time": "2021-12-01T15:34:52.027Z"
   },
   {
    "duration": 14,
    "start_time": "2021-12-01T15:34:52.101Z"
   },
   {
    "duration": 4,
    "start_time": "2021-12-01T15:34:52.116Z"
   },
   {
    "duration": 302,
    "start_time": "2021-12-01T15:34:52.122Z"
   },
   {
    "duration": 654,
    "start_time": "2021-12-01T15:39:16.820Z"
   },
   {
    "duration": 92,
    "start_time": "2021-12-01T15:39:36.283Z"
   },
   {
    "duration": 54621,
    "start_time": "2021-12-01T15:40:13.843Z"
   },
   {
    "duration": 802,
    "start_time": "2021-12-01T15:41:15.338Z"
   },
   {
    "duration": 737,
    "start_time": "2021-12-01T15:41:48.889Z"
   },
   {
    "duration": 12,
    "start_time": "2021-12-01T15:45:51.721Z"
   },
   {
    "duration": 31,
    "start_time": "2021-12-01T15:46:37.790Z"
   },
   {
    "duration": 596,
    "start_time": "2021-12-01T15:46:55.554Z"
   },
   {
    "duration": 628,
    "start_time": "2021-12-01T15:47:11.609Z"
   },
   {
    "duration": 9,
    "start_time": "2021-12-01T15:47:23.035Z"
   },
   {
    "duration": 12,
    "start_time": "2021-12-01T15:47:30.305Z"
   },
   {
    "duration": 3,
    "start_time": "2021-12-01T15:47:30.504Z"
   },
   {
    "duration": 4,
    "start_time": "2021-12-01T15:47:31.208Z"
   },
   {
    "duration": 222,
    "start_time": "2021-12-01T15:47:32.255Z"
   },
   {
    "duration": 4,
    "start_time": "2021-12-01T15:48:09.534Z"
   },
   {
    "duration": 220,
    "start_time": "2021-12-01T15:48:10.096Z"
   },
   {
    "duration": 299,
    "start_time": "2021-12-01T15:48:43.954Z"
   },
   {
    "duration": 225,
    "start_time": "2021-12-01T15:48:53.368Z"
   },
   {
    "duration": 353,
    "start_time": "2021-12-01T15:48:58.513Z"
   },
   {
    "duration": 588,
    "start_time": "2021-12-01T15:50:02.292Z"
   },
   {
    "duration": 309,
    "start_time": "2021-12-01T15:50:24.726Z"
   },
   {
    "duration": 1023,
    "start_time": "2021-12-01T15:50:29.809Z"
   },
   {
    "duration": 570,
    "start_time": "2021-12-01T15:50:49.520Z"
   },
   {
    "duration": 250,
    "start_time": "2021-12-01T15:50:50.207Z"
   },
   {
    "duration": 868,
    "start_time": "2021-12-01T15:51:14.632Z"
   },
   {
    "duration": 18,
    "start_time": "2021-12-01T15:51:34.140Z"
   },
   {
    "duration": 645,
    "start_time": "2021-12-01T15:51:43.028Z"
   },
   {
    "duration": 4,
    "start_time": "2021-12-01T15:52:19.721Z"
   },
   {
    "duration": 289,
    "start_time": "2021-12-01T15:52:28.170Z"
   },
   {
    "duration": 266,
    "start_time": "2021-12-01T15:52:36.706Z"
   },
   {
    "duration": 261,
    "start_time": "2021-12-01T15:53:08.440Z"
   },
   {
    "duration": 249,
    "start_time": "2021-12-01T15:55:05.079Z"
   },
   {
    "duration": 5,
    "start_time": "2021-12-01T15:55:09.634Z"
   },
   {
    "duration": 269,
    "start_time": "2021-12-01T15:55:10.404Z"
   },
   {
    "duration": 11,
    "start_time": "2021-12-01T15:55:19.052Z"
   },
   {
    "duration": 265,
    "start_time": "2021-12-01T15:55:28.905Z"
   },
   {
    "duration": 5,
    "start_time": "2021-12-01T15:55:32.549Z"
   },
   {
    "duration": 253,
    "start_time": "2021-12-01T15:55:37.325Z"
   },
   {
    "duration": 4,
    "start_time": "2021-12-01T15:56:29.320Z"
   },
   {
    "duration": 4,
    "start_time": "2021-12-01T15:56:42.606Z"
   },
   {
    "duration": 239,
    "start_time": "2021-12-01T15:56:43.294Z"
   },
   {
    "duration": 1237,
    "start_time": "2021-12-01T16:00:36.536Z"
   },
   {
    "duration": 31,
    "start_time": "2021-12-01T16:00:37.775Z"
   },
   {
    "duration": 29,
    "start_time": "2021-12-01T16:00:37.808Z"
   },
   {
    "duration": 56,
    "start_time": "2021-12-01T16:00:37.840Z"
   },
   {
    "duration": 11,
    "start_time": "2021-12-01T16:00:37.897Z"
   },
   {
    "duration": 45,
    "start_time": "2021-12-01T16:00:37.910Z"
   },
   {
    "duration": 14,
    "start_time": "2021-12-01T16:00:37.956Z"
   },
   {
    "duration": 20,
    "start_time": "2021-12-01T16:00:37.973Z"
   },
   {
    "duration": 50,
    "start_time": "2021-12-01T16:00:37.995Z"
   },
   {
    "duration": 1803,
    "start_time": "2021-12-01T16:00:38.047Z"
   },
   {
    "duration": 5,
    "start_time": "2021-12-01T16:00:39.852Z"
   },
   {
    "duration": 42,
    "start_time": "2021-12-01T16:00:39.858Z"
   },
   {
    "duration": 11,
    "start_time": "2021-12-01T16:00:39.902Z"
   },
   {
    "duration": 37,
    "start_time": "2021-12-01T16:00:39.915Z"
   },
   {
    "duration": 40,
    "start_time": "2021-12-01T16:00:39.954Z"
   },
   {
    "duration": 31,
    "start_time": "2021-12-01T16:00:39.996Z"
   },
   {
    "duration": 32,
    "start_time": "2021-12-01T16:00:40.029Z"
   },
   {
    "duration": 8,
    "start_time": "2021-12-01T16:00:40.063Z"
   },
   {
    "duration": 16,
    "start_time": "2021-12-01T16:00:40.073Z"
   },
   {
    "duration": 15,
    "start_time": "2021-12-01T16:00:40.090Z"
   },
   {
    "duration": 17,
    "start_time": "2021-12-01T16:00:40.107Z"
   },
   {
    "duration": 30,
    "start_time": "2021-12-01T16:00:40.126Z"
   },
   {
    "duration": 10,
    "start_time": "2021-12-01T16:00:40.160Z"
   },
   {
    "duration": 19,
    "start_time": "2021-12-01T16:00:40.173Z"
   },
   {
    "duration": 9,
    "start_time": "2021-12-01T16:00:40.194Z"
   },
   {
    "duration": 44,
    "start_time": "2021-12-01T16:00:40.205Z"
   },
   {
    "duration": 3,
    "start_time": "2021-12-01T16:00:40.251Z"
   },
   {
    "duration": 18,
    "start_time": "2021-12-01T16:00:40.256Z"
   },
   {
    "duration": 16,
    "start_time": "2021-12-01T16:00:40.275Z"
   },
   {
    "duration": 20,
    "start_time": "2021-12-01T16:00:40.293Z"
   },
   {
    "duration": 19,
    "start_time": "2021-12-01T16:00:40.315Z"
   },
   {
    "duration": 22,
    "start_time": "2021-12-01T16:00:40.336Z"
   },
   {
    "duration": 11,
    "start_time": "2021-12-01T16:00:40.360Z"
   },
   {
    "duration": 11,
    "start_time": "2021-12-01T16:00:40.373Z"
   },
   {
    "duration": 16,
    "start_time": "2021-12-01T16:00:40.385Z"
   },
   {
    "duration": 25,
    "start_time": "2021-12-01T16:00:40.403Z"
   },
   {
    "duration": 86,
    "start_time": "2021-12-01T16:00:40.430Z"
   },
   {
    "duration": 8,
    "start_time": "2021-12-01T16:00:40.518Z"
   },
   {
    "duration": 154,
    "start_time": "2021-12-01T16:00:40.527Z"
   },
   {
    "duration": 163,
    "start_time": "2021-12-01T16:00:40.682Z"
   },
   {
    "duration": 126,
    "start_time": "2021-12-01T16:00:40.848Z"
   },
   {
    "duration": 99,
    "start_time": "2021-12-01T16:00:40.976Z"
   },
   {
    "duration": 72,
    "start_time": "2021-12-01T16:00:41.077Z"
   },
   {
    "duration": 204,
    "start_time": "2021-12-01T16:00:41.152Z"
   },
   {
    "duration": 93,
    "start_time": "2021-12-01T16:00:41.358Z"
   },
   {
    "duration": 4,
    "start_time": "2021-12-01T16:00:41.452Z"
   },
   {
    "duration": 41,
    "start_time": "2021-12-01T16:00:41.457Z"
   },
   {
    "duration": 10,
    "start_time": "2021-12-01T16:00:41.499Z"
   },
   {
    "duration": 137,
    "start_time": "2021-12-01T16:00:41.511Z"
   },
   {
    "duration": 148,
    "start_time": "2021-12-01T16:00:41.650Z"
   },
   {
    "duration": 165,
    "start_time": "2021-12-01T16:00:41.799Z"
   },
   {
    "duration": 4,
    "start_time": "2021-12-01T16:00:41.966Z"
   },
   {
    "duration": 41,
    "start_time": "2021-12-01T16:00:41.972Z"
   },
   {
    "duration": 45,
    "start_time": "2021-12-01T16:00:42.014Z"
   },
   {
    "duration": 84,
    "start_time": "2021-12-01T16:00:42.061Z"
   },
   {
    "duration": 112,
    "start_time": "2021-12-01T16:00:42.147Z"
   },
   {
    "duration": 40,
    "start_time": "2021-12-01T16:00:42.261Z"
   },
   {
    "duration": 48,
    "start_time": "2021-12-01T16:00:42.302Z"
   },
   {
    "duration": 5,
    "start_time": "2021-12-01T16:00:42.353Z"
   },
   {
    "duration": 6,
    "start_time": "2021-12-01T16:00:42.445Z"
   },
   {
    "duration": 228,
    "start_time": "2021-12-01T16:00:42.544Z"
   },
   {
    "duration": 32,
    "start_time": "2021-12-01T16:00:42.774Z"
   },
   {
    "duration": 22,
    "start_time": "2021-12-01T16:00:42.808Z"
   },
   {
    "duration": 11,
    "start_time": "2021-12-01T16:00:42.832Z"
   },
   {
    "duration": 222,
    "start_time": "2021-12-01T16:00:42.845Z"
   },
   {
    "duration": 90,
    "start_time": "2021-12-01T16:00:43.069Z"
   },
   {
    "duration": 3,
    "start_time": "2021-12-01T16:00:43.161Z"
   },
   {
    "duration": 282,
    "start_time": "2021-12-01T16:00:43.169Z"
   },
   {
    "duration": 333,
    "start_time": "2021-12-01T16:00:43.453Z"
   },
   {
    "duration": 676,
    "start_time": "2021-12-01T16:00:43.789Z"
   },
   {
    "duration": 119,
    "start_time": "2021-12-01T16:00:44.467Z"
   },
   {
    "duration": 52471,
    "start_time": "2021-12-01T16:00:44.588Z"
   },
   {
    "duration": 710,
    "start_time": "2021-12-01T16:01:37.060Z"
   },
   {
    "duration": 2,
    "start_time": "2021-12-01T16:01:37.772Z"
   },
   {
    "duration": 21,
    "start_time": "2021-12-01T16:01:37.776Z"
   },
   {
    "duration": 32,
    "start_time": "2021-12-01T16:01:37.798Z"
   },
   {
    "duration": 28,
    "start_time": "2021-12-01T16:01:37.832Z"
   },
   {
    "duration": 19,
    "start_time": "2021-12-01T16:01:37.862Z"
   },
   {
    "duration": 90,
    "start_time": "2021-12-01T16:01:37.883Z"
   },
   {
    "duration": 73,
    "start_time": "2021-12-01T16:01:37.975Z"
   },
   {
    "duration": 123,
    "start_time": "2021-12-01T16:01:38.051Z"
   },
   {
    "duration": 9,
    "start_time": "2021-12-01T16:01:38.175Z"
   },
   {
    "duration": 28,
    "start_time": "2021-12-01T16:01:38.185Z"
   },
   {
    "duration": 13,
    "start_time": "2021-12-01T16:01:38.215Z"
   },
   {
    "duration": 34,
    "start_time": "2021-12-01T16:01:38.230Z"
   },
   {
    "duration": 251,
    "start_time": "2021-12-01T16:01:38.265Z"
   },
   {
    "duration": 335,
    "start_time": "2021-12-01T16:01:38.518Z"
   },
   {
    "duration": 64,
    "start_time": "2021-12-01T16:01:38.790Z"
   },
   {
    "duration": 44,
    "start_time": "2021-12-01T16:01:38.811Z"
   },
   {
    "duration": 30,
    "start_time": "2021-12-01T16:01:38.826Z"
   },
   {
    "duration": 17,
    "start_time": "2021-12-01T16:01:38.840Z"
   },
   {
    "duration": -12,
    "start_time": "2021-12-01T16:01:38.870Z"
   },
   {
    "duration": 1030,
    "start_time": "2021-12-01T16:03:31.517Z"
   },
   {
    "duration": 263,
    "start_time": "2021-12-01T16:03:33.950Z"
   },
   {
    "duration": 11,
    "start_time": "2021-12-01T16:03:34.787Z"
   },
   {
    "duration": 239,
    "start_time": "2021-12-01T16:03:51.043Z"
   },
   {
    "duration": 41,
    "start_time": "2021-12-01T16:04:05.083Z"
   },
   {
    "duration": 10,
    "start_time": "2021-12-01T16:04:10.204Z"
   },
   {
    "duration": 4,
    "start_time": "2021-12-01T16:04:10.490Z"
   },
   {
    "duration": 4,
    "start_time": "2021-12-01T16:04:11.088Z"
   },
   {
    "duration": 276,
    "start_time": "2021-12-01T16:04:11.453Z"
   },
   {
    "duration": 389,
    "start_time": "2021-12-02T11:45:24.841Z"
   },
   {
    "duration": 1725,
    "start_time": "2021-12-02T11:45:29.189Z"
   },
   {
    "duration": 38,
    "start_time": "2021-12-02T11:45:30.917Z"
   },
   {
    "duration": 57,
    "start_time": "2021-12-02T11:45:30.958Z"
   },
   {
    "duration": 118,
    "start_time": "2021-12-02T11:45:31.018Z"
   },
   {
    "duration": 20,
    "start_time": "2021-12-02T11:45:31.139Z"
   },
   {
    "duration": 34,
    "start_time": "2021-12-02T11:45:31.162Z"
   },
   {
    "duration": 34,
    "start_time": "2021-12-02T11:45:31.199Z"
   },
   {
    "duration": 20,
    "start_time": "2021-12-02T11:45:31.238Z"
   },
   {
    "duration": 63,
    "start_time": "2021-12-02T11:45:31.262Z"
   },
   {
    "duration": 2414,
    "start_time": "2021-12-02T11:45:31.328Z"
   },
   {
    "duration": 6,
    "start_time": "2021-12-02T11:45:33.745Z"
   },
   {
    "duration": 16,
    "start_time": "2021-12-02T11:45:33.754Z"
   },
   {
    "duration": 7,
    "start_time": "2021-12-02T11:45:33.773Z"
   },
   {
    "duration": 8,
    "start_time": "2021-12-02T11:45:33.783Z"
   },
   {
    "duration": 48,
    "start_time": "2021-12-02T11:45:33.794Z"
   },
   {
    "duration": 7,
    "start_time": "2021-12-02T11:45:33.845Z"
   },
   {
    "duration": 21,
    "start_time": "2021-12-02T11:45:33.854Z"
   },
   {
    "duration": 9,
    "start_time": "2021-12-02T11:45:33.878Z"
   },
   {
    "duration": 44,
    "start_time": "2021-12-02T11:45:33.889Z"
   },
   {
    "duration": 7,
    "start_time": "2021-12-02T11:45:33.936Z"
   },
   {
    "duration": 8,
    "start_time": "2021-12-02T11:45:33.945Z"
   },
   {
    "duration": 10,
    "start_time": "2021-12-02T11:45:33.956Z"
   },
   {
    "duration": 9,
    "start_time": "2021-12-02T11:45:33.973Z"
   },
   {
    "duration": 15,
    "start_time": "2021-12-02T11:45:33.986Z"
   },
   {
    "duration": 5,
    "start_time": "2021-12-02T11:45:34.030Z"
   },
   {
    "duration": 44,
    "start_time": "2021-12-02T11:45:34.037Z"
   },
   {
    "duration": 5,
    "start_time": "2021-12-02T11:45:34.084Z"
   },
   {
    "duration": 16,
    "start_time": "2021-12-02T11:45:34.091Z"
   },
   {
    "duration": 8,
    "start_time": "2021-12-02T11:45:34.128Z"
   },
   {
    "duration": 14,
    "start_time": "2021-12-02T11:45:34.138Z"
   },
   {
    "duration": 12,
    "start_time": "2021-12-02T11:45:34.154Z"
   },
   {
    "duration": 12,
    "start_time": "2021-12-02T11:45:34.168Z"
   },
   {
    "duration": 48,
    "start_time": "2021-12-02T11:45:34.183Z"
   },
   {
    "duration": 13,
    "start_time": "2021-12-02T11:45:34.234Z"
   },
   {
    "duration": 14,
    "start_time": "2021-12-02T11:45:34.249Z"
   },
   {
    "duration": 26,
    "start_time": "2021-12-02T11:45:34.266Z"
   },
   {
    "duration": 167,
    "start_time": "2021-12-02T11:45:34.294Z"
   },
   {
    "duration": 11,
    "start_time": "2021-12-02T11:45:34.464Z"
   },
   {
    "duration": 282,
    "start_time": "2021-12-02T11:45:34.478Z"
   },
   {
    "duration": 178,
    "start_time": "2021-12-02T11:45:34.762Z"
   },
   {
    "duration": 130,
    "start_time": "2021-12-02T11:45:34.943Z"
   },
   {
    "duration": 159,
    "start_time": "2021-12-02T11:45:35.076Z"
   },
   {
    "duration": 196,
    "start_time": "2021-12-02T11:45:35.237Z"
   },
   {
    "duration": 140,
    "start_time": "2021-12-02T11:45:35.436Z"
   },
   {
    "duration": 142,
    "start_time": "2021-12-02T11:45:35.578Z"
   },
   {
    "duration": 6,
    "start_time": "2021-12-02T11:45:35.729Z"
   },
   {
    "duration": 43,
    "start_time": "2021-12-02T11:45:35.738Z"
   },
   {
    "duration": 16,
    "start_time": "2021-12-02T11:45:35.784Z"
   },
   {
    "duration": 138,
    "start_time": "2021-12-02T11:45:35.802Z"
   },
   {
    "duration": 178,
    "start_time": "2021-12-02T11:45:36.031Z"
   },
   {
    "duration": 269,
    "start_time": "2021-12-02T11:45:36.212Z"
   },
   {
    "duration": 6,
    "start_time": "2021-12-02T11:45:36.483Z"
   },
   {
    "duration": 24,
    "start_time": "2021-12-02T11:45:36.491Z"
   },
   {
    "duration": 12,
    "start_time": "2021-12-02T11:45:36.530Z"
   },
   {
    "duration": 90,
    "start_time": "2021-12-02T11:45:36.545Z"
   },
   {
    "duration": 204,
    "start_time": "2021-12-02T11:45:36.639Z"
   },
   {
    "duration": 116,
    "start_time": "2021-12-02T11:45:36.846Z"
   },
   {
    "duration": 79,
    "start_time": "2021-12-02T11:45:36.966Z"
   },
   {
    "duration": 81,
    "start_time": "2021-12-02T11:45:37.048Z"
   },
   {
    "duration": 9,
    "start_time": "2021-12-02T11:45:37.133Z"
   },
   {
    "duration": 383,
    "start_time": "2021-12-02T11:45:37.230Z"
   },
   {
    "duration": 53,
    "start_time": "2021-12-02T11:45:37.617Z"
   },
   {
    "duration": 4,
    "start_time": "2021-12-02T11:45:37.673Z"
   },
   {
    "duration": 38,
    "start_time": "2021-12-02T11:45:37.679Z"
   },
   {
    "duration": 348,
    "start_time": "2021-12-02T11:45:37.720Z"
   },
   {
    "duration": 126,
    "start_time": "2021-12-02T11:45:38.070Z"
   },
   {
    "duration": 4,
    "start_time": "2021-12-02T11:45:38.198Z"
   },
   {
    "duration": 498,
    "start_time": "2021-12-02T11:45:38.210Z"
   },
   {
    "duration": 396,
    "start_time": "2021-12-02T11:45:38.712Z"
   },
   {
    "duration": 1067,
    "start_time": "2021-12-02T11:45:39.111Z"
   },
   {
    "duration": 161,
    "start_time": "2021-12-02T11:45:40.181Z"
   },
   {
    "duration": 90585,
    "start_time": "2021-12-02T11:45:40.345Z"
   },
   {
    "duration": 1043,
    "start_time": "2021-12-02T11:47:10.932Z"
   },
   {
    "duration": 4,
    "start_time": "2021-12-02T11:47:11.978Z"
   },
   {
    "duration": 6,
    "start_time": "2021-12-02T11:47:11.985Z"
   },
   {
    "duration": 10,
    "start_time": "2021-12-02T11:47:11.994Z"
   },
   {
    "duration": 23,
    "start_time": "2021-12-02T11:47:12.006Z"
   },
   {
    "duration": 6,
    "start_time": "2021-12-02T11:47:12.031Z"
   },
   {
    "duration": 136,
    "start_time": "2021-12-02T11:47:12.039Z"
   },
   {
    "duration": 63,
    "start_time": "2021-12-02T11:47:12.177Z"
   },
   {
    "duration": 139,
    "start_time": "2021-12-02T11:47:12.243Z"
   },
   {
    "duration": 12,
    "start_time": "2021-12-02T11:47:12.385Z"
   },
   {
    "duration": 30,
    "start_time": "2021-12-02T11:47:12.399Z"
   },
   {
    "duration": 6,
    "start_time": "2021-12-02T11:47:12.432Z"
   },
   {
    "duration": 10,
    "start_time": "2021-12-02T11:47:12.441Z"
   },
   {
    "duration": 414,
    "start_time": "2021-12-02T11:47:12.453Z"
   },
   {
    "duration": 14,
    "start_time": "2021-12-02T11:47:12.870Z"
   },
   {
    "duration": 1855,
    "start_time": "2021-12-02T11:47:12.886Z"
   },
   {
    "duration": 58,
    "start_time": "2021-12-02T11:47:14.744Z"
   },
   {
    "duration": 39,
    "start_time": "2021-12-02T11:47:14.804Z"
   },
   {
    "duration": 12,
    "start_time": "2021-12-02T11:47:14.845Z"
   },
   {
    "duration": 11,
    "start_time": "2021-12-02T11:47:14.860Z"
   },
   {
    "duration": 774,
    "start_time": "2021-12-02T11:47:14.874Z"
   },
   {
    "duration": 511,
    "start_time": "2021-12-02T11:47:27.930Z"
   },
   {
    "duration": 390,
    "start_time": "2021-12-02T11:48:04.395Z"
   },
   {
    "duration": 10,
    "start_time": "2021-12-02T11:49:13.194Z"
   },
   {
    "duration": 6022,
    "start_time": "2021-12-02T11:49:27.632Z"
   },
   {
    "duration": 120,
    "start_time": "2021-12-02T11:49:34.908Z"
   },
   {
    "duration": 73,
    "start_time": "2021-12-02T11:51:58.189Z"
   },
   {
    "duration": 8,
    "start_time": "2021-12-02T11:52:18.939Z"
   },
   {
    "duration": 38,
    "start_time": "2021-12-02T11:52:18.960Z"
   },
   {
    "duration": 21,
    "start_time": "2021-12-02T11:52:19.001Z"
   },
   {
    "duration": 64,
    "start_time": "2021-12-02T11:52:19.030Z"
   },
   {
    "duration": 48,
    "start_time": "2021-12-02T11:52:19.098Z"
   },
   {
    "duration": 13,
    "start_time": "2021-12-02T11:52:19.149Z"
   },
   {
    "duration": 7,
    "start_time": "2021-12-02T11:52:19.165Z"
   },
   {
    "duration": 11,
    "start_time": "2021-12-02T11:52:19.175Z"
   },
   {
    "duration": 67,
    "start_time": "2021-12-02T11:52:19.233Z"
   },
   {
    "duration": 2545,
    "start_time": "2021-12-02T11:52:19.303Z"
   },
   {
    "duration": 7,
    "start_time": "2021-12-02T11:52:21.851Z"
   },
   {
    "duration": 23,
    "start_time": "2021-12-02T11:52:21.861Z"
   },
   {
    "duration": 8,
    "start_time": "2021-12-02T11:52:21.888Z"
   },
   {
    "duration": 30,
    "start_time": "2021-12-02T11:52:21.899Z"
   },
   {
    "duration": 21,
    "start_time": "2021-12-02T11:52:21.933Z"
   },
   {
    "duration": 17,
    "start_time": "2021-12-02T11:52:21.957Z"
   },
   {
    "duration": 53,
    "start_time": "2021-12-02T11:52:21.978Z"
   },
   {
    "duration": 11,
    "start_time": "2021-12-02T11:52:22.034Z"
   },
   {
    "duration": 14,
    "start_time": "2021-12-02T11:52:22.048Z"
   },
   {
    "duration": 9,
    "start_time": "2021-12-02T11:52:22.064Z"
   },
   {
    "duration": 15,
    "start_time": "2021-12-02T11:52:22.077Z"
   },
   {
    "duration": 36,
    "start_time": "2021-12-02T11:52:22.095Z"
   },
   {
    "duration": 9,
    "start_time": "2021-12-02T11:52:22.137Z"
   },
   {
    "duration": 8,
    "start_time": "2021-12-02T11:52:22.152Z"
   },
   {
    "duration": 7,
    "start_time": "2021-12-02T11:52:22.163Z"
   },
   {
    "duration": 76,
    "start_time": "2021-12-02T11:52:22.173Z"
   },
   {
    "duration": 5,
    "start_time": "2021-12-02T11:52:22.252Z"
   },
   {
    "duration": 12,
    "start_time": "2021-12-02T11:52:22.260Z"
   },
   {
    "duration": 10,
    "start_time": "2021-12-02T11:52:22.275Z"
   },
   {
    "duration": 11,
    "start_time": "2021-12-02T11:52:22.288Z"
   },
   {
    "duration": 32,
    "start_time": "2021-12-02T11:52:22.301Z"
   },
   {
    "duration": 10,
    "start_time": "2021-12-02T11:52:22.335Z"
   },
   {
    "duration": 9,
    "start_time": "2021-12-02T11:52:22.348Z"
   },
   {
    "duration": 11,
    "start_time": "2021-12-02T11:52:22.360Z"
   },
   {
    "duration": 14,
    "start_time": "2021-12-02T11:52:22.374Z"
   },
   {
    "duration": 56,
    "start_time": "2021-12-02T11:52:22.391Z"
   },
   {
    "duration": 146,
    "start_time": "2021-12-02T11:52:22.449Z"
   },
   {
    "duration": 31,
    "start_time": "2021-12-02T11:52:22.598Z"
   },
   {
    "duration": 273,
    "start_time": "2021-12-02T11:52:22.632Z"
   },
   {
    "duration": 64,
    "start_time": "2021-12-02T11:52:22.907Z"
   },
   {
    "duration": 140,
    "start_time": "2021-12-02T11:52:23.031Z"
   },
   {
    "duration": 152,
    "start_time": "2021-12-02T11:52:23.174Z"
   },
   {
    "duration": 114,
    "start_time": "2021-12-02T11:52:23.330Z"
   },
   {
    "duration": 141,
    "start_time": "2021-12-02T11:52:23.531Z"
   },
   {
    "duration": 144,
    "start_time": "2021-12-02T11:52:23.674Z"
   },
   {
    "duration": 6,
    "start_time": "2021-12-02T11:52:23.828Z"
   },
   {
    "duration": 31,
    "start_time": "2021-12-02T11:52:23.836Z"
   },
   {
    "duration": 16,
    "start_time": "2021-12-02T11:52:23.869Z"
   },
   {
    "duration": 154,
    "start_time": "2021-12-02T11:52:23.888Z"
   },
   {
    "duration": 265,
    "start_time": "2021-12-02T11:52:24.045Z"
   },
   {
    "duration": 381,
    "start_time": "2021-12-02T11:52:24.314Z"
   },
   {
    "duration": 6,
    "start_time": "2021-12-02T11:52:24.698Z"
   },
   {
    "duration": 48,
    "start_time": "2021-12-02T11:52:24.707Z"
   },
   {
    "duration": 20,
    "start_time": "2021-12-02T11:52:24.759Z"
   },
   {
    "duration": 147,
    "start_time": "2021-12-02T11:52:24.783Z"
   },
   {
    "duration": 122,
    "start_time": "2021-12-02T11:52:24.935Z"
   },
   {
    "duration": 80,
    "start_time": "2021-12-02T11:52:25.060Z"
   },
   {
    "duration": 91,
    "start_time": "2021-12-02T11:52:25.142Z"
   },
   {
    "duration": 89,
    "start_time": "2021-12-02T11:52:25.242Z"
   },
   {
    "duration": 11,
    "start_time": "2021-12-02T11:52:25.335Z"
   },
   {
    "duration": 449,
    "start_time": "2021-12-02T11:52:25.350Z"
   },
   {
    "duration": 56,
    "start_time": "2021-12-02T11:52:25.801Z"
   },
   {
    "duration": 3,
    "start_time": "2021-12-02T11:52:25.860Z"
   },
   {
    "duration": 11,
    "start_time": "2021-12-02T11:52:25.866Z"
   },
   {
    "duration": 406,
    "start_time": "2021-12-02T11:52:25.885Z"
   },
   {
    "duration": 134,
    "start_time": "2021-12-02T11:52:26.294Z"
   },
   {
    "duration": 4,
    "start_time": "2021-12-02T11:52:26.431Z"
   },
   {
    "duration": 485,
    "start_time": "2021-12-02T11:52:26.437Z"
   },
   {
    "duration": 378,
    "start_time": "2021-12-02T11:52:26.925Z"
   },
   {
    "duration": 1081,
    "start_time": "2021-12-02T11:52:27.306Z"
   },
   {
    "duration": 169,
    "start_time": "2021-12-02T11:52:28.389Z"
   },
   {
    "duration": 109278,
    "start_time": "2021-12-02T11:52:28.562Z"
   },
   {
    "duration": 1043,
    "start_time": "2021-12-02T11:54:17.843Z"
   },
   {
    "duration": 4,
    "start_time": "2021-12-02T11:54:18.889Z"
   },
   {
    "duration": 6,
    "start_time": "2021-12-02T11:54:18.896Z"
   },
   {
    "duration": 24,
    "start_time": "2021-12-02T11:54:18.905Z"
   },
   {
    "duration": 5,
    "start_time": "2021-12-02T11:54:18.933Z"
   },
   {
    "duration": 5,
    "start_time": "2021-12-02T11:54:18.942Z"
   },
   {
    "duration": 149,
    "start_time": "2021-12-02T11:54:18.950Z"
   },
   {
    "duration": 139,
    "start_time": "2021-12-02T11:54:19.103Z"
   },
   {
    "duration": 134,
    "start_time": "2021-12-02T11:54:19.245Z"
   },
   {
    "duration": 16,
    "start_time": "2021-12-02T11:54:19.382Z"
   },
   {
    "duration": 29,
    "start_time": "2021-12-02T11:54:19.401Z"
   },
   {
    "duration": 6,
    "start_time": "2021-12-02T11:54:19.433Z"
   },
   {
    "duration": 7,
    "start_time": "2021-12-02T11:54:19.441Z"
   },
   {
    "duration": 432,
    "start_time": "2021-12-02T11:54:19.450Z"
   },
   {
    "duration": 15,
    "start_time": "2021-12-02T11:54:19.884Z"
   },
   {
    "duration": 30,
    "start_time": "2021-12-02T11:54:19.902Z"
   },
   {
    "duration": 3915,
    "start_time": "2021-12-02T11:54:19.934Z"
   },
   {
    "duration": 90,
    "start_time": "2021-12-02T11:54:23.851Z"
   },
   {
    "duration": 21,
    "start_time": "2021-12-02T11:54:23.943Z"
   },
   {
    "duration": 5,
    "start_time": "2021-12-02T11:54:23.967Z"
   },
   {
    "duration": 14,
    "start_time": "2021-12-02T11:54:23.974Z"
   },
   {
    "duration": 414,
    "start_time": "2021-12-02T11:54:23.991Z"
   },
   {
    "duration": 6,
    "start_time": "2021-12-02T11:56:38.014Z"
   },
   {
    "duration": 50,
    "start_time": "2021-12-02T11:57:14.928Z"
   },
   {
    "duration": 679,
    "start_time": "2021-12-02T11:58:16.793Z"
   },
   {
    "duration": 8,
    "start_time": "2021-12-02T11:58:21.065Z"
   },
   {
    "duration": 2679,
    "start_time": "2021-12-02T11:58:22.391Z"
   },
   {
    "duration": 75,
    "start_time": "2021-12-02T11:58:25.784Z"
   },
   {
    "duration": 6,
    "start_time": "2021-12-02T11:59:34.493Z"
   },
   {
    "duration": 2074,
    "start_time": "2021-12-02T11:59:35.330Z"
   },
   {
    "duration": 64,
    "start_time": "2021-12-02T11:59:37.406Z"
   },
   {
    "duration": 1868,
    "start_time": "2021-12-02T12:00:21.482Z"
   },
   {
    "duration": 75,
    "start_time": "2021-12-02T12:00:23.353Z"
   },
   {
    "duration": 1078,
    "start_time": "2021-12-03T07:59:23.599Z"
   },
   {
    "duration": 29,
    "start_time": "2021-12-03T07:59:24.679Z"
   },
   {
    "duration": 12,
    "start_time": "2021-12-03T07:59:24.710Z"
   },
   {
    "duration": 35,
    "start_time": "2021-12-03T07:59:24.724Z"
   },
   {
    "duration": 9,
    "start_time": "2021-12-03T07:59:24.761Z"
   },
   {
    "duration": 21,
    "start_time": "2021-12-03T07:59:24.771Z"
   },
   {
    "duration": 4,
    "start_time": "2021-12-03T07:59:24.793Z"
   },
   {
    "duration": 6,
    "start_time": "2021-12-03T07:59:24.799Z"
   },
   {
    "duration": 36,
    "start_time": "2021-12-03T07:59:24.807Z"
   },
   {
    "duration": 1585,
    "start_time": "2021-12-03T07:59:24.844Z"
   },
   {
    "duration": 5,
    "start_time": "2021-12-03T07:59:26.431Z"
   },
   {
    "duration": 10,
    "start_time": "2021-12-03T07:59:26.437Z"
   },
   {
    "duration": 3,
    "start_time": "2021-12-03T07:59:26.448Z"
   },
   {
    "duration": 5,
    "start_time": "2021-12-03T07:59:26.453Z"
   },
   {
    "duration": 29,
    "start_time": "2021-12-03T07:59:26.459Z"
   },
   {
    "duration": 8,
    "start_time": "2021-12-03T07:59:26.489Z"
   },
   {
    "duration": 13,
    "start_time": "2021-12-03T07:59:26.498Z"
   },
   {
    "duration": 6,
    "start_time": "2021-12-03T07:59:26.512Z"
   },
   {
    "duration": 5,
    "start_time": "2021-12-03T07:59:26.519Z"
   },
   {
    "duration": 4,
    "start_time": "2021-12-03T07:59:26.525Z"
   },
   {
    "duration": 7,
    "start_time": "2021-12-03T07:59:26.530Z"
   },
   {
    "duration": 12,
    "start_time": "2021-12-03T07:59:26.538Z"
   },
   {
    "duration": 5,
    "start_time": "2021-12-03T07:59:26.553Z"
   },
   {
    "duration": 5,
    "start_time": "2021-12-03T07:59:26.560Z"
   },
   {
    "duration": 23,
    "start_time": "2021-12-03T07:59:26.566Z"
   },
   {
    "duration": 27,
    "start_time": "2021-12-03T07:59:26.591Z"
   },
   {
    "duration": 4,
    "start_time": "2021-12-03T07:59:26.619Z"
   },
   {
    "duration": 7,
    "start_time": "2021-12-03T07:59:26.624Z"
   },
   {
    "duration": 5,
    "start_time": "2021-12-03T07:59:26.632Z"
   },
   {
    "duration": 5,
    "start_time": "2021-12-03T07:59:26.638Z"
   },
   {
    "duration": 5,
    "start_time": "2021-12-03T07:59:26.644Z"
   },
   {
    "duration": 5,
    "start_time": "2021-12-03T07:59:26.650Z"
   },
   {
    "duration": 32,
    "start_time": "2021-12-03T07:59:26.656Z"
   },
   {
    "duration": 3,
    "start_time": "2021-12-03T07:59:26.689Z"
   },
   {
    "duration": 5,
    "start_time": "2021-12-03T07:59:26.693Z"
   },
   {
    "duration": 15,
    "start_time": "2021-12-03T07:59:26.699Z"
   },
   {
    "duration": 95,
    "start_time": "2021-12-03T07:59:26.715Z"
   },
   {
    "duration": 7,
    "start_time": "2021-12-03T07:59:26.811Z"
   },
   {
    "duration": 140,
    "start_time": "2021-12-03T07:59:26.819Z"
   },
   {
    "duration": 126,
    "start_time": "2021-12-03T07:59:26.961Z"
   },
   {
    "duration": 123,
    "start_time": "2021-12-03T07:59:27.090Z"
   },
   {
    "duration": 91,
    "start_time": "2021-12-03T07:59:27.214Z"
   },
   {
    "duration": 83,
    "start_time": "2021-12-03T07:59:27.307Z"
   },
   {
    "duration": 123,
    "start_time": "2021-12-03T07:59:27.392Z"
   },
   {
    "duration": 87,
    "start_time": "2021-12-03T07:59:27.517Z"
   },
   {
    "duration": 4,
    "start_time": "2021-12-03T07:59:27.605Z"
   },
   {
    "duration": 18,
    "start_time": "2021-12-03T07:59:27.610Z"
   },
   {
    "duration": 10,
    "start_time": "2021-12-03T07:59:27.629Z"
   },
   {
    "duration": 147,
    "start_time": "2021-12-03T07:59:27.640Z"
   },
   {
    "duration": 143,
    "start_time": "2021-12-03T07:59:27.790Z"
   },
   {
    "duration": 152,
    "start_time": "2021-12-03T07:59:27.935Z"
   },
   {
    "duration": 4,
    "start_time": "2021-12-03T07:59:28.089Z"
   },
   {
    "duration": 15,
    "start_time": "2021-12-03T07:59:28.094Z"
   },
   {
    "duration": 7,
    "start_time": "2021-12-03T07:59:28.110Z"
   },
   {
    "duration": 70,
    "start_time": "2021-12-03T07:59:28.119Z"
   },
   {
    "duration": 103,
    "start_time": "2021-12-03T07:59:28.191Z"
   },
   {
    "duration": 37,
    "start_time": "2021-12-03T07:59:28.295Z"
   },
   {
    "duration": 55,
    "start_time": "2021-12-03T07:59:28.333Z"
   },
   {
    "duration": 3,
    "start_time": "2021-12-03T07:59:28.391Z"
   },
   {
    "duration": 94,
    "start_time": "2021-12-03T07:59:28.397Z"
   },
   {
    "duration": 229,
    "start_time": "2021-12-03T07:59:28.492Z"
   },
   {
    "duration": 29,
    "start_time": "2021-12-03T07:59:28.722Z"
   },
   {
    "duration": 2,
    "start_time": "2021-12-03T07:59:28.753Z"
   },
   {
    "duration": 6,
    "start_time": "2021-12-03T07:59:28.757Z"
   },
   {
    "duration": 209,
    "start_time": "2021-12-03T07:59:28.765Z"
   },
   {
    "duration": 73,
    "start_time": "2021-12-03T07:59:28.976Z"
   },
   {
    "duration": 2,
    "start_time": "2021-12-03T07:59:29.051Z"
   },
   {
    "duration": 273,
    "start_time": "2021-12-03T07:59:29.059Z"
   },
   {
    "duration": 301,
    "start_time": "2021-12-03T07:59:29.335Z"
   },
   {
    "duration": 579,
    "start_time": "2021-12-03T07:59:29.637Z"
   },
   {
    "duration": 85,
    "start_time": "2021-12-03T07:59:30.218Z"
   },
   {
    "duration": 48510,
    "start_time": "2021-12-03T07:59:30.305Z"
   },
   {
    "duration": 632,
    "start_time": "2021-12-03T08:00:18.817Z"
   },
   {
    "duration": 2,
    "start_time": "2021-12-03T08:00:19.451Z"
   },
   {
    "duration": 5,
    "start_time": "2021-12-03T08:00:19.454Z"
   },
   {
    "duration": 5,
    "start_time": "2021-12-03T08:00:19.460Z"
   },
   {
    "duration": 4,
    "start_time": "2021-12-03T08:00:19.467Z"
   },
   {
    "duration": 16,
    "start_time": "2021-12-03T08:00:19.472Z"
   },
   {
    "duration": 69,
    "start_time": "2021-12-03T08:00:19.489Z"
   },
   {
    "duration": 133,
    "start_time": "2021-12-03T08:00:19.560Z"
   },
   {
    "duration": 94,
    "start_time": "2021-12-03T08:00:19.696Z"
   },
   {
    "duration": 7,
    "start_time": "2021-12-03T08:00:19.792Z"
   },
   {
    "duration": 2,
    "start_time": "2021-12-03T08:00:19.800Z"
   },
   {
    "duration": 5,
    "start_time": "2021-12-03T08:00:19.804Z"
   },
   {
    "duration": 6,
    "start_time": "2021-12-03T08:00:19.811Z"
   },
   {
    "duration": 233,
    "start_time": "2021-12-03T08:00:19.818Z"
   },
   {
    "duration": 2,
    "start_time": "2021-12-03T08:00:20.052Z"
   },
   {
    "duration": 5,
    "start_time": "2021-12-03T08:00:20.056Z"
   },
   {
    "duration": 4,
    "start_time": "2021-12-03T08:00:20.062Z"
   },
   {
    "duration": 20,
    "start_time": "2021-12-03T08:00:20.067Z"
   },
   {
    "duration": 961,
    "start_time": "2021-12-03T08:00:20.089Z"
   },
   {
    "duration": 45,
    "start_time": "2021-12-03T08:00:21.051Z"
   },
   {
    "duration": 9,
    "start_time": "2021-12-03T08:00:21.097Z"
   },
   {
    "duration": 3,
    "start_time": "2021-12-03T08:00:21.108Z"
   },
   {
    "duration": 5,
    "start_time": "2021-12-03T08:00:21.112Z"
   },
   {
    "duration": 269,
    "start_time": "2021-12-03T08:00:21.118Z"
   },
   {
    "duration": 323,
    "start_time": "2021-12-03T08:01:57.343Z"
   },
   {
    "duration": 6,
    "start_time": "2021-12-03T08:02:28.076Z"
   },
   {
    "duration": 12,
    "start_time": "2021-12-03T08:03:18.867Z"
   },
   {
    "duration": 1209,
    "start_time": "2021-12-03T08:04:06.552Z"
   },
   {
    "duration": 288,
    "start_time": "2021-12-03T08:04:08.357Z"
   },
   {
    "duration": 45,
    "start_time": "2021-12-03T08:04:26.781Z"
   },
   {
    "duration": 5,
    "start_time": "2021-12-03T09:25:40.110Z"
   },
   {
    "duration": 4,
    "start_time": "2021-12-03T09:28:23.668Z"
   },
   {
    "duration": 28,
    "start_time": "2021-12-03T09:28:23.685Z"
   },
   {
    "duration": 10,
    "start_time": "2021-12-03T09:28:23.715Z"
   },
   {
    "duration": 34,
    "start_time": "2021-12-03T09:28:23.727Z"
   },
   {
    "duration": 10,
    "start_time": "2021-12-03T09:28:23.763Z"
   },
   {
    "duration": 18,
    "start_time": "2021-12-03T09:28:23.774Z"
   },
   {
    "duration": 4,
    "start_time": "2021-12-03T09:28:23.794Z"
   },
   {
    "duration": 7,
    "start_time": "2021-12-03T09:28:23.799Z"
   },
   {
    "duration": 36,
    "start_time": "2021-12-03T09:28:23.808Z"
   },
   {
    "duration": 1621,
    "start_time": "2021-12-03T09:28:23.845Z"
   },
   {
    "duration": 6,
    "start_time": "2021-12-03T09:28:25.467Z"
   },
   {
    "duration": 15,
    "start_time": "2021-12-03T09:28:25.475Z"
   },
   {
    "duration": 10,
    "start_time": "2021-12-03T09:28:25.492Z"
   },
   {
    "duration": 9,
    "start_time": "2021-12-03T09:28:25.503Z"
   },
   {
    "duration": 16,
    "start_time": "2021-12-03T09:28:25.513Z"
   },
   {
    "duration": 8,
    "start_time": "2021-12-03T09:28:25.531Z"
   },
   {
    "duration": 16,
    "start_time": "2021-12-03T09:28:25.540Z"
   },
   {
    "duration": 7,
    "start_time": "2021-12-03T09:28:25.557Z"
   },
   {
    "duration": 4,
    "start_time": "2021-12-03T09:28:25.566Z"
   },
   {
    "duration": 18,
    "start_time": "2021-12-03T09:28:25.571Z"
   },
   {
    "duration": 7,
    "start_time": "2021-12-03T09:28:25.590Z"
   },
   {
    "duration": 10,
    "start_time": "2021-12-03T09:28:25.599Z"
   },
   {
    "duration": 4,
    "start_time": "2021-12-03T09:28:25.610Z"
   },
   {
    "duration": 6,
    "start_time": "2021-12-03T09:28:25.615Z"
   },
   {
    "duration": 4,
    "start_time": "2021-12-03T09:28:25.622Z"
   },
   {
    "duration": 23,
    "start_time": "2021-12-03T09:28:25.629Z"
   },
   {
    "duration": 4,
    "start_time": "2021-12-03T09:28:25.654Z"
   },
   {
    "duration": 32,
    "start_time": "2021-12-03T09:28:25.659Z"
   },
   {
    "duration": 4,
    "start_time": "2021-12-03T09:28:25.692Z"
   },
   {
    "duration": 4,
    "start_time": "2021-12-03T09:28:25.698Z"
   },
   {
    "duration": 5,
    "start_time": "2021-12-03T09:28:25.703Z"
   },
   {
    "duration": 15,
    "start_time": "2021-12-03T09:28:25.709Z"
   },
   {
    "duration": 4,
    "start_time": "2021-12-03T09:28:25.725Z"
   },
   {
    "duration": 5,
    "start_time": "2021-12-03T09:28:25.731Z"
   },
   {
    "duration": 4,
    "start_time": "2021-12-03T09:28:25.737Z"
   },
   {
    "duration": 14,
    "start_time": "2021-12-03T09:28:25.742Z"
   },
   {
    "duration": 93,
    "start_time": "2021-12-03T09:28:25.757Z"
   },
   {
    "duration": 8,
    "start_time": "2021-12-03T09:28:25.851Z"
   },
   {
    "duration": 134,
    "start_time": "2021-12-03T09:28:25.860Z"
   },
   {
    "duration": 29,
    "start_time": "2021-12-03T09:28:25.995Z"
   },
   {
    "duration": 187,
    "start_time": "2021-12-03T09:28:26.025Z"
   },
   {
    "duration": 85,
    "start_time": "2021-12-03T09:28:26.214Z"
   },
   {
    "duration": 88,
    "start_time": "2021-12-03T09:28:26.301Z"
   },
   {
    "duration": 124,
    "start_time": "2021-12-03T09:28:26.391Z"
   },
   {
    "duration": 92,
    "start_time": "2021-12-03T09:28:26.516Z"
   },
   {
    "duration": 3,
    "start_time": "2021-12-03T09:28:26.610Z"
   },
   {
    "duration": 17,
    "start_time": "2021-12-03T09:28:26.614Z"
   },
   {
    "duration": 9,
    "start_time": "2021-12-03T09:28:26.633Z"
   },
   {
    "duration": 145,
    "start_time": "2021-12-03T09:28:26.644Z"
   },
   {
    "duration": 143,
    "start_time": "2021-12-03T09:28:26.791Z"
   },
   {
    "duration": 148,
    "start_time": "2021-12-03T09:28:26.936Z"
   },
   {
    "duration": 4,
    "start_time": "2021-12-03T09:28:27.087Z"
   },
   {
    "duration": 11,
    "start_time": "2021-12-03T09:28:27.093Z"
   },
   {
    "duration": 7,
    "start_time": "2021-12-03T09:28:27.106Z"
   },
   {
    "duration": 75,
    "start_time": "2021-12-03T09:28:27.114Z"
   },
   {
    "duration": 105,
    "start_time": "2021-12-03T09:28:27.191Z"
   },
   {
    "duration": 36,
    "start_time": "2021-12-03T09:28:27.298Z"
   },
   {
    "duration": 52,
    "start_time": "2021-12-03T09:28:27.336Z"
   },
   {
    "duration": 3,
    "start_time": "2021-12-03T09:28:27.390Z"
   },
   {
    "duration": 95,
    "start_time": "2021-12-03T09:28:27.395Z"
   },
   {
    "duration": 225,
    "start_time": "2021-12-03T09:28:27.492Z"
   },
   {
    "duration": 29,
    "start_time": "2021-12-03T09:28:27.718Z"
   },
   {
    "duration": 2,
    "start_time": "2021-12-03T09:28:27.748Z"
   },
   {
    "duration": 6,
    "start_time": "2021-12-03T09:28:27.752Z"
   },
   {
    "duration": 206,
    "start_time": "2021-12-03T09:28:27.759Z"
   },
   {
    "duration": 78,
    "start_time": "2021-12-03T09:28:27.967Z"
   },
   {
    "duration": 2,
    "start_time": "2021-12-03T09:28:28.046Z"
   },
   {
    "duration": 262,
    "start_time": "2021-12-03T09:28:28.053Z"
   },
   {
    "duration": 301,
    "start_time": "2021-12-03T09:28:28.317Z"
   },
   {
    "duration": 583,
    "start_time": "2021-12-03T09:28:28.620Z"
   },
   {
    "duration": 86,
    "start_time": "2021-12-03T09:28:29.205Z"
   },
   {
    "duration": 1091,
    "start_time": "2021-12-03T09:29:21.485Z"
   },
   {
    "duration": 29,
    "start_time": "2021-12-03T09:29:22.577Z"
   },
   {
    "duration": 13,
    "start_time": "2021-12-03T09:29:22.608Z"
   },
   {
    "duration": 39,
    "start_time": "2021-12-03T09:29:22.623Z"
   },
   {
    "duration": 27,
    "start_time": "2021-12-03T09:29:22.663Z"
   },
   {
    "duration": 9,
    "start_time": "2021-12-03T09:29:22.692Z"
   },
   {
    "duration": 4,
    "start_time": "2021-12-03T09:29:22.703Z"
   },
   {
    "duration": 5,
    "start_time": "2021-12-03T09:29:22.709Z"
   },
   {
    "duration": 35,
    "start_time": "2021-12-03T09:29:22.716Z"
   },
   {
    "duration": 1591,
    "start_time": "2021-12-03T09:29:22.752Z"
   },
   {
    "duration": 4,
    "start_time": "2021-12-03T09:29:24.345Z"
   },
   {
    "duration": 12,
    "start_time": "2021-12-03T09:29:24.350Z"
   },
   {
    "duration": 3,
    "start_time": "2021-12-03T09:29:24.364Z"
   },
   {
    "duration": 5,
    "start_time": "2021-12-03T09:29:24.369Z"
   },
   {
    "duration": 23,
    "start_time": "2021-12-03T09:29:24.375Z"
   },
   {
    "duration": 5,
    "start_time": "2021-12-03T09:29:24.399Z"
   },
   {
    "duration": 14,
    "start_time": "2021-12-03T09:29:24.405Z"
   },
   {
    "duration": 5,
    "start_time": "2021-12-03T09:29:24.420Z"
   },
   {
    "duration": 14,
    "start_time": "2021-12-03T09:29:24.427Z"
   },
   {
    "duration": 11,
    "start_time": "2021-12-03T09:29:24.442Z"
   },
   {
    "duration": 5,
    "start_time": "2021-12-03T09:29:24.455Z"
   },
   {
    "duration": 8,
    "start_time": "2021-12-03T09:29:24.461Z"
   },
   {
    "duration": 17,
    "start_time": "2021-12-03T09:29:24.473Z"
   },
   {
    "duration": 5,
    "start_time": "2021-12-03T09:29:24.492Z"
   },
   {
    "duration": 4,
    "start_time": "2021-12-03T09:29:24.498Z"
   },
   {
    "duration": 25,
    "start_time": "2021-12-03T09:29:24.504Z"
   },
   {
    "duration": 4,
    "start_time": "2021-12-03T09:29:24.530Z"
   },
   {
    "duration": 8,
    "start_time": "2021-12-03T09:29:24.535Z"
   },
   {
    "duration": 5,
    "start_time": "2021-12-03T09:29:24.544Z"
   },
   {
    "duration": 4,
    "start_time": "2021-12-03T09:29:24.550Z"
   },
   {
    "duration": 32,
    "start_time": "2021-12-03T09:29:24.556Z"
   },
   {
    "duration": 3,
    "start_time": "2021-12-03T09:29:24.589Z"
   },
   {
    "duration": 4,
    "start_time": "2021-12-03T09:29:24.594Z"
   },
   {
    "duration": 5,
    "start_time": "2021-12-03T09:29:24.600Z"
   },
   {
    "duration": 6,
    "start_time": "2021-12-03T09:29:24.606Z"
   },
   {
    "duration": 15,
    "start_time": "2021-12-03T09:29:24.614Z"
   },
   {
    "duration": 103,
    "start_time": "2021-12-03T09:29:24.630Z"
   },
   {
    "duration": 7,
    "start_time": "2021-12-03T09:29:24.734Z"
   },
   {
    "duration": 136,
    "start_time": "2021-12-03T09:29:24.742Z"
   },
   {
    "duration": 101,
    "start_time": "2021-12-03T09:29:24.887Z"
   },
   {
    "duration": 122,
    "start_time": "2021-12-03T09:29:24.991Z"
   },
   {
    "duration": 94,
    "start_time": "2021-12-03T09:29:25.116Z"
   },
   {
    "duration": 30,
    "start_time": "2021-12-03T09:29:25.212Z"
   },
   {
    "duration": 123,
    "start_time": "2021-12-03T09:29:25.290Z"
   },
   {
    "duration": 108,
    "start_time": "2021-12-03T09:29:25.415Z"
   },
   {
    "duration": 3,
    "start_time": "2021-12-03T09:29:25.525Z"
   },
   {
    "duration": 17,
    "start_time": "2021-12-03T09:29:25.530Z"
   },
   {
    "duration": 9,
    "start_time": "2021-12-03T09:29:25.549Z"
   },
   {
    "duration": 129,
    "start_time": "2021-12-03T09:29:25.560Z"
   },
   {
    "duration": 144,
    "start_time": "2021-12-03T09:29:25.691Z"
   },
   {
    "duration": 146,
    "start_time": "2021-12-03T09:29:25.837Z"
   },
   {
    "duration": 4,
    "start_time": "2021-12-03T09:29:25.984Z"
   },
   {
    "duration": 12,
    "start_time": "2021-12-03T09:29:25.990Z"
   },
   {
    "duration": 7,
    "start_time": "2021-12-03T09:29:26.003Z"
   },
   {
    "duration": 77,
    "start_time": "2021-12-03T09:29:26.012Z"
   },
   {
    "duration": 108,
    "start_time": "2021-12-03T09:29:26.091Z"
   },
   {
    "duration": 36,
    "start_time": "2021-12-03T09:29:26.201Z"
   },
   {
    "duration": 20,
    "start_time": "2021-12-03T09:29:26.238Z"
   },
   {
    "duration": 4,
    "start_time": "2021-12-03T09:29:26.289Z"
   },
   {
    "duration": 98,
    "start_time": "2021-12-03T09:29:26.295Z"
   },
   {
    "duration": 244,
    "start_time": "2021-12-03T09:29:26.394Z"
   },
   {
    "duration": 28,
    "start_time": "2021-12-03T09:29:26.640Z"
   },
   {
    "duration": 3,
    "start_time": "2021-12-03T09:29:26.669Z"
   },
   {
    "duration": 19,
    "start_time": "2021-12-03T09:29:26.673Z"
   },
   {
    "duration": 207,
    "start_time": "2021-12-03T09:29:26.693Z"
   },
   {
    "duration": 75,
    "start_time": "2021-12-03T09:29:26.901Z"
   },
   {
    "duration": 2,
    "start_time": "2021-12-03T09:29:26.988Z"
   },
   {
    "duration": 265,
    "start_time": "2021-12-03T09:29:26.996Z"
   },
   {
    "duration": 270,
    "start_time": "2021-12-03T09:29:27.263Z"
   },
   {
    "duration": 612,
    "start_time": "2021-12-03T09:29:27.535Z"
   },
   {
    "duration": 86,
    "start_time": "2021-12-03T09:29:28.149Z"
   },
   {
    "duration": 51790,
    "start_time": "2021-12-03T09:29:28.237Z"
   },
   {
    "duration": 630,
    "start_time": "2021-12-03T09:30:20.029Z"
   },
   {
    "duration": 2,
    "start_time": "2021-12-03T09:30:20.661Z"
   },
   {
    "duration": 7,
    "start_time": "2021-12-03T09:30:20.664Z"
   },
   {
    "duration": 4,
    "start_time": "2021-12-03T09:30:20.673Z"
   },
   {
    "duration": 2,
    "start_time": "2021-12-03T09:30:20.687Z"
   },
   {
    "duration": 4,
    "start_time": "2021-12-03T09:30:20.691Z"
   },
   {
    "duration": 68,
    "start_time": "2021-12-03T09:30:20.696Z"
   },
   {
    "duration": 26,
    "start_time": "2021-12-03T09:30:20.766Z"
   },
   {
    "duration": 214,
    "start_time": "2021-12-03T09:30:20.795Z"
   },
   {
    "duration": 8,
    "start_time": "2021-12-03T09:30:21.010Z"
   },
   {
    "duration": 2,
    "start_time": "2021-12-03T09:30:21.020Z"
   },
   {
    "duration": 6,
    "start_time": "2021-12-03T09:30:21.024Z"
   },
   {
    "duration": 6,
    "start_time": "2021-12-03T09:30:21.032Z"
   },
   {
    "duration": 231,
    "start_time": "2021-12-03T09:30:21.040Z"
   },
   {
    "duration": 2,
    "start_time": "2021-12-03T09:30:21.272Z"
   },
   {
    "duration": 7,
    "start_time": "2021-12-03T09:30:21.275Z"
   },
   {
    "duration": 2,
    "start_time": "2021-12-03T09:30:21.288Z"
   },
   {
    "duration": 6,
    "start_time": "2021-12-03T09:30:21.291Z"
   },
   {
    "duration": 5,
    "start_time": "2021-12-03T09:30:21.298Z"
   },
   {
    "duration": 8,
    "start_time": "2021-12-03T09:30:21.304Z"
   },
   {
    "duration": 1119,
    "start_time": "2021-12-03T09:30:21.314Z"
   },
   {
    "duration": 320,
    "start_time": "2021-12-03T09:30:22.434Z"
   },
   {
    "duration": -12,
    "start_time": "2021-12-03T09:30:22.768Z"
   },
   {
    "duration": -28,
    "start_time": "2021-12-03T09:30:22.784Z"
   },
   {
    "duration": -39,
    "start_time": "2021-12-03T09:30:22.796Z"
   },
   {
    "duration": -52,
    "start_time": "2021-12-03T09:30:22.810Z"
   },
   {
    "duration": 347,
    "start_time": "2021-12-03T09:31:01.556Z"
   },
   {
    "duration": 39,
    "start_time": "2021-12-03T09:31:06.401Z"
   },
   {
    "duration": 253,
    "start_time": "2021-12-03T09:32:28.419Z"
   },
   {
    "duration": 6,
    "start_time": "2021-12-03T09:32:32.208Z"
   },
   {
    "duration": 12,
    "start_time": "2021-12-03T09:32:32.610Z"
   },
   {
    "duration": 3,
    "start_time": "2021-12-03T09:32:33.564Z"
   },
   {
    "duration": 611,
    "start_time": "2021-12-03T09:32:34.040Z"
   },
   {
    "duration": 100,
    "start_time": "2021-12-03T09:32:35.787Z"
   },
   {
    "duration": 10,
    "start_time": "2021-12-03T09:32:38.201Z"
   },
   {
    "duration": 3,
    "start_time": "2021-12-03T09:32:38.361Z"
   },
   {
    "duration": 4,
    "start_time": "2021-12-03T09:32:38.518Z"
   },
   {
    "duration": 205,
    "start_time": "2021-12-03T09:32:39.236Z"
   },
   {
    "duration": 41,
    "start_time": "2021-12-03T09:33:51.505Z"
   },
   {
    "duration": 42,
    "start_time": "2021-12-03T09:33:54.573Z"
   },
   {
    "duration": 41,
    "start_time": "2021-12-03T09:33:57.539Z"
   },
   {
    "duration": 42,
    "start_time": "2021-12-03T09:34:00.233Z"
   },
   {
    "duration": 42,
    "start_time": "2021-12-03T09:34:04.035Z"
   },
   {
    "duration": 41,
    "start_time": "2021-12-03T09:34:06.474Z"
   },
   {
    "duration": 42,
    "start_time": "2021-12-03T09:34:08.673Z"
   },
   {
    "duration": 41,
    "start_time": "2021-12-03T09:34:11.429Z"
   },
   {
    "duration": 9,
    "start_time": "2021-12-03T09:34:11.968Z"
   },
   {
    "duration": 4,
    "start_time": "2021-12-03T09:34:12.304Z"
   },
   {
    "duration": 4,
    "start_time": "2021-12-03T09:34:12.504Z"
   },
   {
    "duration": 202,
    "start_time": "2021-12-03T09:34:13.347Z"
   },
   {
    "duration": 40,
    "start_time": "2021-12-03T09:38:48.067Z"
   },
   {
    "duration": 10,
    "start_time": "2021-12-03T09:40:08.679Z"
   },
   {
    "duration": 5,
    "start_time": "2021-12-03T09:40:09.076Z"
   },
   {
    "duration": 4,
    "start_time": "2021-12-03T09:40:09.432Z"
   },
   {
    "duration": 207,
    "start_time": "2021-12-03T09:40:10.052Z"
   },
   {
    "duration": 319,
    "start_time": "2021-12-09T08:25:19.103Z"
   },
   {
    "duration": -91,
    "start_time": "2021-12-09T08:25:19.515Z"
   },
   {
    "duration": 1535,
    "start_time": "2021-12-09T08:25:46.834Z"
   },
   {
    "duration": 83,
    "start_time": "2021-12-09T08:25:48.372Z"
   },
   {
    "duration": 27,
    "start_time": "2021-12-09T08:25:48.458Z"
   },
   {
    "duration": 66,
    "start_time": "2021-12-09T08:25:48.487Z"
   },
   {
    "duration": 17,
    "start_time": "2021-12-09T08:25:48.556Z"
   },
   {
    "duration": 12,
    "start_time": "2021-12-09T08:25:48.575Z"
   },
   {
    "duration": 33,
    "start_time": "2021-12-09T08:25:48.590Z"
   },
   {
    "duration": 6,
    "start_time": "2021-12-09T08:25:48.627Z"
   },
   {
    "duration": 52,
    "start_time": "2021-12-09T08:25:48.636Z"
   },
   {
    "duration": 2321,
    "start_time": "2021-12-09T08:25:48.691Z"
   },
   {
    "duration": 12,
    "start_time": "2021-12-09T08:25:51.014Z"
   },
   {
    "duration": 35,
    "start_time": "2021-12-09T08:25:51.029Z"
   },
   {
    "duration": 23,
    "start_time": "2021-12-09T08:25:51.067Z"
   },
   {
    "duration": 40,
    "start_time": "2021-12-09T08:25:51.093Z"
   },
   {
    "duration": 36,
    "start_time": "2021-12-09T08:25:51.135Z"
   },
   {
    "duration": 17,
    "start_time": "2021-12-09T08:25:51.173Z"
   },
   {
    "duration": 34,
    "start_time": "2021-12-09T08:25:51.192Z"
   },
   {
    "duration": 8,
    "start_time": "2021-12-09T08:25:51.229Z"
   },
   {
    "duration": 9,
    "start_time": "2021-12-09T08:25:51.240Z"
   },
   {
    "duration": 9,
    "start_time": "2021-12-09T08:25:51.251Z"
   },
   {
    "duration": 12,
    "start_time": "2021-12-09T08:25:51.262Z"
   },
   {
    "duration": 7,
    "start_time": "2021-12-09T08:25:51.276Z"
   },
   {
    "duration": 6,
    "start_time": "2021-12-09T08:25:51.326Z"
   },
   {
    "duration": 6,
    "start_time": "2021-12-09T08:25:51.337Z"
   },
   {
    "duration": 8,
    "start_time": "2021-12-09T08:25:51.346Z"
   },
   {
    "duration": 75,
    "start_time": "2021-12-09T08:25:51.357Z"
   },
   {
    "duration": 6,
    "start_time": "2021-12-09T08:25:51.435Z"
   },
   {
    "duration": 10,
    "start_time": "2021-12-09T08:25:51.445Z"
   },
   {
    "duration": 8,
    "start_time": "2021-12-09T08:25:51.458Z"
   },
   {
    "duration": 8,
    "start_time": "2021-12-09T08:25:51.468Z"
   },
   {
    "duration": 61,
    "start_time": "2021-12-09T08:25:51.480Z"
   },
   {
    "duration": 5,
    "start_time": "2021-12-09T08:25:51.544Z"
   },
   {
    "duration": 7,
    "start_time": "2021-12-09T08:25:51.552Z"
   },
   {
    "duration": 6,
    "start_time": "2021-12-09T08:25:51.561Z"
   },
   {
    "duration": 9,
    "start_time": "2021-12-09T08:25:51.570Z"
   },
   {
    "duration": 53,
    "start_time": "2021-12-09T08:25:51.581Z"
   },
   {
    "duration": 136,
    "start_time": "2021-12-09T08:25:51.637Z"
   },
   {
    "duration": 14,
    "start_time": "2021-12-09T08:25:51.776Z"
   },
   {
    "duration": 270,
    "start_time": "2021-12-09T08:25:51.793Z"
   },
   {
    "duration": 157,
    "start_time": "2021-12-09T08:25:52.066Z"
   },
   {
    "duration": 134,
    "start_time": "2021-12-09T08:25:52.227Z"
   },
   {
    "duration": 141,
    "start_time": "2021-12-09T08:25:52.365Z"
   },
   {
    "duration": 217,
    "start_time": "2021-12-09T08:25:52.508Z"
   },
   {
    "duration": 141,
    "start_time": "2021-12-09T08:25:52.730Z"
   },
   {
    "duration": 142,
    "start_time": "2021-12-09T08:25:52.874Z"
   },
   {
    "duration": 5,
    "start_time": "2021-12-09T08:25:53.019Z"
   },
   {
    "duration": 30,
    "start_time": "2021-12-09T08:25:53.027Z"
   },
   {
    "duration": 15,
    "start_time": "2021-12-09T08:25:53.060Z"
   },
   {
    "duration": 259,
    "start_time": "2021-12-09T08:25:53.078Z"
   },
   {
    "duration": 181,
    "start_time": "2021-12-09T08:25:53.425Z"
   },
   {
    "duration": 253,
    "start_time": "2021-12-09T08:25:53.608Z"
   },
   {
    "duration": 6,
    "start_time": "2021-12-09T08:25:53.863Z"
   },
   {
    "duration": 26,
    "start_time": "2021-12-09T08:25:53.872Z"
   },
   {
    "duration": 30,
    "start_time": "2021-12-09T08:25:53.900Z"
   },
   {
    "duration": 98,
    "start_time": "2021-12-09T08:25:53.932Z"
   },
   {
    "duration": 110,
    "start_time": "2021-12-09T08:25:54.034Z"
   },
   {
    "duration": 131,
    "start_time": "2021-12-09T08:25:54.146Z"
   },
   {
    "duration": 63,
    "start_time": "2021-12-09T08:25:54.280Z"
   },
   {
    "duration": 5,
    "start_time": "2021-12-09T08:25:54.346Z"
   },
   {
    "duration": 101,
    "start_time": "2021-12-09T08:25:54.425Z"
   },
   {
    "duration": 391,
    "start_time": "2021-12-09T08:25:54.529Z"
   },
   {
    "duration": 43,
    "start_time": "2021-12-09T08:25:54.923Z"
   },
   {
    "duration": 4,
    "start_time": "2021-12-09T08:25:54.968Z"
   },
   {
    "duration": 9,
    "start_time": "2021-12-09T08:25:54.975Z"
   },
   {
    "duration": 389,
    "start_time": "2021-12-09T08:25:54.987Z"
   },
   {
    "duration": 124,
    "start_time": "2021-12-09T08:25:55.378Z"
   },
   {
    "duration": 3,
    "start_time": "2021-12-09T08:25:55.505Z"
   },
   {
    "duration": 460,
    "start_time": "2021-12-09T08:25:55.527Z"
   },
   {
    "duration": 401,
    "start_time": "2021-12-09T08:25:55.990Z"
   },
   {
    "duration": 1058,
    "start_time": "2021-12-09T08:25:56.394Z"
   },
   {
    "duration": 136,
    "start_time": "2021-12-09T08:25:57.455Z"
   },
   {
    "duration": 87536,
    "start_time": "2021-12-09T08:25:57.594Z"
   },
   {
    "duration": 1053,
    "start_time": "2021-12-09T08:27:25.133Z"
   },
   {
    "duration": 4,
    "start_time": "2021-12-09T08:27:26.189Z"
   },
   {
    "duration": 5,
    "start_time": "2021-12-09T08:27:26.196Z"
   },
   {
    "duration": 11,
    "start_time": "2021-12-09T08:27:26.224Z"
   },
   {
    "duration": 10,
    "start_time": "2021-12-09T08:27:26.238Z"
   },
   {
    "duration": 8,
    "start_time": "2021-12-09T08:27:26.251Z"
   },
   {
    "duration": 128,
    "start_time": "2021-12-09T08:27:26.262Z"
   },
   {
    "duration": 43,
    "start_time": "2021-12-09T08:27:26.393Z"
   },
   {
    "duration": 119,
    "start_time": "2021-12-09T08:27:26.525Z"
   },
   {
    "duration": 16,
    "start_time": "2021-12-09T08:27:26.647Z"
   },
   {
    "duration": 3,
    "start_time": "2021-12-09T08:27:26.666Z"
   },
   {
    "duration": 15,
    "start_time": "2021-12-09T08:27:26.672Z"
   },
   {
    "duration": 7,
    "start_time": "2021-12-09T08:27:26.691Z"
   },
   {
    "duration": 399,
    "start_time": "2021-12-09T08:27:26.724Z"
   },
   {
    "duration": 4,
    "start_time": "2021-12-09T08:27:27.125Z"
   },
   {
    "duration": 9,
    "start_time": "2021-12-09T08:27:27.131Z"
   },
   {
    "duration": 5,
    "start_time": "2021-12-09T08:27:27.143Z"
   },
   {
    "duration": 11,
    "start_time": "2021-12-09T08:27:27.151Z"
   },
   {
    "duration": 16,
    "start_time": "2021-12-09T08:27:27.165Z"
   },
   {
    "duration": 3,
    "start_time": "2021-12-09T08:27:27.183Z"
   },
   {
    "duration": 367,
    "start_time": "2021-12-09T08:27:27.224Z"
   },
   {
    "duration": -193,
    "start_time": "2021-12-09T08:27:27.788Z"
   },
   {
    "duration": -210,
    "start_time": "2021-12-09T08:27:27.807Z"
   },
   {
    "duration": -224,
    "start_time": "2021-12-09T08:27:27.823Z"
   },
   {
    "duration": -243,
    "start_time": "2021-12-09T08:27:27.844Z"
   },
   {
    "duration": -287,
    "start_time": "2021-12-09T08:27:27.891Z"
   },
   {
    "duration": 989,
    "start_time": "2021-12-09T08:34:30.194Z"
   },
   {
    "duration": 62,
    "start_time": "2021-12-09T08:34:32.892Z"
   },
   {
    "duration": 16,
    "start_time": "2021-12-09T08:35:12.266Z"
   },
   {
    "duration": 4,
    "start_time": "2021-12-09T08:35:13.850Z"
   },
   {
    "duration": 2257,
    "start_time": "2021-12-09T08:35:34.176Z"
   },
   {
    "duration": 70,
    "start_time": "2021-12-09T08:35:37.950Z"
   },
   {
    "duration": 970,
    "start_time": "2021-12-09T08:35:48.048Z"
   },
   {
    "duration": 125,
    "start_time": "2021-12-09T08:35:49.759Z"
   },
   {
    "duration": 7,
    "start_time": "2021-12-09T08:36:28.569Z"
   },
   {
    "duration": 875,
    "start_time": "2021-12-09T08:36:28.584Z"
   },
   {
    "duration": 18,
    "start_time": "2021-12-09T08:36:29.462Z"
   },
   {
    "duration": 71,
    "start_time": "2021-12-09T08:36:29.484Z"
   },
   {
    "duration": 18,
    "start_time": "2021-12-09T08:36:29.557Z"
   },
   {
    "duration": 16,
    "start_time": "2021-12-09T08:36:29.579Z"
   },
   {
    "duration": 28,
    "start_time": "2021-12-09T08:36:29.598Z"
   },
   {
    "duration": 10,
    "start_time": "2021-12-09T08:36:29.628Z"
   },
   {
    "duration": 55,
    "start_time": "2021-12-09T08:36:29.641Z"
   },
   {
    "duration": 2351,
    "start_time": "2021-12-09T08:36:30.851Z"
   },
   {
    "duration": 7,
    "start_time": "2021-12-09T08:36:33.205Z"
   },
   {
    "duration": 20,
    "start_time": "2021-12-09T08:36:33.215Z"
   },
   {
    "duration": 7,
    "start_time": "2021-12-09T08:36:33.238Z"
   },
   {
    "duration": 6,
    "start_time": "2021-12-09T08:36:33.248Z"
   },
   {
    "duration": 29,
    "start_time": "2021-12-09T08:36:33.256Z"
   },
   {
    "duration": 40,
    "start_time": "2021-12-09T08:36:33.288Z"
   },
   {
    "duration": 23,
    "start_time": "2021-12-09T08:36:33.331Z"
   },
   {
    "duration": 11,
    "start_time": "2021-12-09T08:36:33.358Z"
   },
   {
    "duration": 9,
    "start_time": "2021-12-09T08:36:33.373Z"
   },
   {
    "duration": 41,
    "start_time": "2021-12-09T08:36:33.384Z"
   },
   {
    "duration": 9,
    "start_time": "2021-12-09T08:36:33.428Z"
   },
   {
    "duration": 8,
    "start_time": "2021-12-09T08:36:33.440Z"
   },
   {
    "duration": 9,
    "start_time": "2021-12-09T08:36:33.451Z"
   },
   {
    "duration": 10,
    "start_time": "2021-12-09T08:36:33.463Z"
   },
   {
    "duration": 51,
    "start_time": "2021-12-09T08:36:33.476Z"
   },
   {
    "duration": 46,
    "start_time": "2021-12-09T08:36:33.529Z"
   },
   {
    "duration": 6,
    "start_time": "2021-12-09T08:36:33.578Z"
   },
   {
    "duration": 26,
    "start_time": "2021-12-09T08:36:33.587Z"
   },
   {
    "duration": 11,
    "start_time": "2021-12-09T08:36:33.618Z"
   },
   {
    "duration": 8,
    "start_time": "2021-12-09T08:36:33.632Z"
   },
   {
    "duration": 6,
    "start_time": "2021-12-09T08:36:33.643Z"
   },
   {
    "duration": 7,
    "start_time": "2021-12-09T08:36:33.652Z"
   },
   {
    "duration": 6,
    "start_time": "2021-12-09T08:36:33.662Z"
   },
   {
    "duration": 7,
    "start_time": "2021-12-09T08:36:33.671Z"
   },
   {
    "duration": 8,
    "start_time": "2021-12-09T08:36:33.724Z"
   },
   {
    "duration": 23,
    "start_time": "2021-12-09T08:36:33.740Z"
   },
   {
    "duration": 168,
    "start_time": "2021-12-09T08:36:33.767Z"
   },
   {
    "duration": 11,
    "start_time": "2021-12-09T08:36:33.937Z"
   },
   {
    "duration": 270,
    "start_time": "2021-12-09T08:36:33.951Z"
   },
   {
    "duration": 107,
    "start_time": "2021-12-09T08:36:34.224Z"
   },
   {
    "duration": 207,
    "start_time": "2021-12-09T08:36:34.333Z"
   },
   {
    "duration": 138,
    "start_time": "2021-12-09T08:36:34.542Z"
   },
   {
    "duration": 142,
    "start_time": "2021-12-09T08:36:34.682Z"
   },
   {
    "duration": 139,
    "start_time": "2021-12-09T08:36:34.827Z"
   },
   {
    "duration": 194,
    "start_time": "2021-12-09T08:36:34.968Z"
   },
   {
    "duration": 7,
    "start_time": "2021-12-09T08:36:35.165Z"
   },
   {
    "duration": 55,
    "start_time": "2021-12-09T08:36:35.175Z"
   },
   {
    "duration": 22,
    "start_time": "2021-12-09T08:36:35.233Z"
   },
   {
    "duration": 274,
    "start_time": "2021-12-09T08:36:35.258Z"
   },
   {
    "duration": 189,
    "start_time": "2021-12-09T08:36:35.535Z"
   },
   {
    "duration": 287,
    "start_time": "2021-12-09T08:36:35.727Z"
   },
   {
    "duration": 8,
    "start_time": "2021-12-09T08:36:36.024Z"
   },
   {
    "duration": 36,
    "start_time": "2021-12-09T08:36:36.034Z"
   },
   {
    "duration": 15,
    "start_time": "2021-12-09T08:36:36.073Z"
   },
   {
    "duration": 60,
    "start_time": "2021-12-09T08:36:36.090Z"
   },
   {
    "duration": 113,
    "start_time": "2021-12-09T08:36:36.225Z"
   },
   {
    "duration": 103,
    "start_time": "2021-12-09T08:36:36.341Z"
   },
   {
    "duration": 85,
    "start_time": "2021-12-09T08:36:36.447Z"
   },
   {
    "duration": 89,
    "start_time": "2021-12-09T08:36:36.535Z"
   },
   {
    "duration": 17,
    "start_time": "2021-12-09T08:36:36.628Z"
   },
   {
    "duration": 447,
    "start_time": "2021-12-09T08:36:36.726Z"
   },
   {
    "duration": 60,
    "start_time": "2021-12-09T08:36:37.177Z"
   },
   {
    "duration": 4,
    "start_time": "2021-12-09T08:36:37.239Z"
   },
   {
    "duration": 9,
    "start_time": "2021-12-09T08:36:37.246Z"
   },
   {
    "duration": 407,
    "start_time": "2021-12-09T08:36:37.258Z"
   },
   {
    "duration": 143,
    "start_time": "2021-12-09T08:36:37.667Z"
   },
   {
    "duration": 3,
    "start_time": "2021-12-09T08:36:37.813Z"
   },
   {
    "duration": 504,
    "start_time": "2021-12-09T08:36:37.819Z"
   },
   {
    "duration": 377,
    "start_time": "2021-12-09T08:36:38.326Z"
   },
   {
    "duration": 1508,
    "start_time": "2021-12-09T08:36:38.706Z"
   },
   {
    "duration": 148,
    "start_time": "2021-12-09T08:36:40.224Z"
   },
   {
    "duration": 88195,
    "start_time": "2021-12-09T08:36:40.374Z"
   },
   {
    "duration": 1184,
    "start_time": "2021-12-09T08:38:08.572Z"
   },
   {
    "duration": 3,
    "start_time": "2021-12-09T08:38:09.759Z"
   },
   {
    "duration": 58,
    "start_time": "2021-12-09T08:38:09.764Z"
   },
   {
    "duration": 7,
    "start_time": "2021-12-09T08:38:09.825Z"
   },
   {
    "duration": 5,
    "start_time": "2021-12-09T08:38:09.835Z"
   },
   {
    "duration": 5,
    "start_time": "2021-12-09T08:38:09.842Z"
   },
   {
    "duration": 219,
    "start_time": "2021-12-09T08:38:09.849Z"
   },
   {
    "duration": 154,
    "start_time": "2021-12-09T08:38:10.071Z"
   },
   {
    "duration": 53,
    "start_time": "2021-12-09T08:38:10.228Z"
   },
   {
    "duration": 12,
    "start_time": "2021-12-09T08:38:10.283Z"
   },
   {
    "duration": 3,
    "start_time": "2021-12-09T08:38:10.297Z"
   },
   {
    "duration": 8,
    "start_time": "2021-12-09T08:38:10.303Z"
   },
   {
    "duration": 16,
    "start_time": "2021-12-09T08:38:10.313Z"
   },
   {
    "duration": 383,
    "start_time": "2021-12-09T08:38:10.332Z"
   },
   {
    "duration": 6,
    "start_time": "2021-12-09T08:38:10.717Z"
   },
   {
    "duration": 10,
    "start_time": "2021-12-09T08:38:10.726Z"
   },
   {
    "duration": 9,
    "start_time": "2021-12-09T08:38:10.738Z"
   },
   {
    "duration": 9,
    "start_time": "2021-12-09T08:38:10.755Z"
   },
   {
    "duration": 16,
    "start_time": "2021-12-09T08:38:10.767Z"
   },
   {
    "duration": 19,
    "start_time": "2021-12-09T08:38:10.786Z"
   },
   {
    "duration": 2540,
    "start_time": "2021-12-09T08:38:10.808Z"
   },
   {
    "duration": 81,
    "start_time": "2021-12-09T08:38:13.351Z"
   },
   {
    "duration": 18,
    "start_time": "2021-12-09T08:38:13.435Z"
   },
   {
    "duration": 6,
    "start_time": "2021-12-09T08:38:13.455Z"
   },
   {
    "duration": 10,
    "start_time": "2021-12-09T08:38:13.464Z"
   },
   {
    "duration": 596,
    "start_time": "2021-12-09T08:38:13.476Z"
   },
   {
    "duration": 968,
    "start_time": "2021-12-09T08:39:16.394Z"
   },
   {
    "duration": 63,
    "start_time": "2021-12-09T08:39:17.502Z"
   },
   {
    "duration": 15,
    "start_time": "2021-12-09T08:41:22.317Z"
   },
   {
    "duration": 1648,
    "start_time": "2021-12-09T08:41:30.146Z"
   },
   {
    "duration": 69,
    "start_time": "2021-12-09T08:41:33.236Z"
   },
   {
    "duration": 19,
    "start_time": "2021-12-09T08:41:51.633Z"
   },
   {
    "duration": 1886,
    "start_time": "2021-12-09T08:41:57.555Z"
   },
   {
    "duration": 64,
    "start_time": "2021-12-09T08:42:00.483Z"
   },
   {
    "duration": 2358,
    "start_time": "2021-12-09T08:42:21.137Z"
   },
   {
    "duration": 76,
    "start_time": "2021-12-09T08:42:24.076Z"
   },
   {
    "duration": 982,
    "start_time": "2021-12-09T08:42:32.555Z"
   },
   {
    "duration": 60,
    "start_time": "2021-12-09T08:42:33.540Z"
   }
  ],
  "kernelspec": {
   "display_name": "Python 3 (ipykernel)",
   "language": "python",
   "name": "python3"
  },
  "language_info": {
   "codemirror_mode": {
    "name": "ipython",
    "version": 3
   },
   "file_extension": ".py",
   "mimetype": "text/x-python",
   "name": "python",
   "nbconvert_exporter": "python",
   "pygments_lexer": "ipython3",
   "version": "3.8.0"
  },
  "toc": {
   "base_numbering": 1,
   "nav_menu": {},
   "number_sections": true,
   "sideBar": true,
   "skip_h1_title": true,
   "title_cell": "Содержание",
   "title_sidebar": "Contents",
   "toc_cell": true,
   "toc_position": {
    "height": "calc(100% - 180px)",
    "left": "10px",
    "top": "150px",
    "width": "255.594px"
   },
   "toc_section_display": true,
   "toc_window_display": false
  }
 },
 "nbformat": 4,
 "nbformat_minor": 2
}
