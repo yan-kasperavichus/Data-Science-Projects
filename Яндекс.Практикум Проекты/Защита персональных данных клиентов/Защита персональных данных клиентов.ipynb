{
 "cells": [
  {
   "cell_type": "markdown",
   "metadata": {
    "toc": true
   },
   "source": [
    "<h1>Содержание<span class=\"tocSkip\"></span></h1>\n",
    "<div class=\"toc\"><ul class=\"toc-item\"><li><span><a href=\"#Загрузка-данных\" data-toc-modified-id=\"Загрузка-данных-1\"><span class=\"toc-item-num\">1&nbsp;&nbsp;</span>Загрузка данных</a></span><ul class=\"toc-item\"><li><span><a href=\"#Краткий-обзор-данных\" data-toc-modified-id=\"Краткий-обзор-данных-1.1\"><span class=\"toc-item-num\">1.1&nbsp;&nbsp;</span>Краткий обзор данных</a></span></li><li><span><a href=\"#Подготовка-признаков-для-обучения\" data-toc-modified-id=\"Подготовка-признаков-для-обучения-1.2\"><span class=\"toc-item-num\">1.2&nbsp;&nbsp;</span>Подготовка признаков для обучения</a></span></li></ul></li><li><span><a href=\"#Умножение-матриц\" data-toc-modified-id=\"Умножение-матриц-2\"><span class=\"toc-item-num\">2&nbsp;&nbsp;</span>Умножение матриц</a></span></li><li><span><a href=\"#Алгоритм-преобразования\" data-toc-modified-id=\"Алгоритм-преобразования-3\"><span class=\"toc-item-num\">3&nbsp;&nbsp;</span>Алгоритм преобразования</a></span></li><li><span><a href=\"#Проверка-алгоритма\" data-toc-modified-id=\"Проверка-алгоритма-4\"><span class=\"toc-item-num\">4&nbsp;&nbsp;</span>Проверка алгоритма</a></span><ul class=\"toc-item\"><li><span><a href=\"#Нахождение-R2-на-нешифрованном-массиве\" data-toc-modified-id=\"Нахождение-R2-на-нешифрованном-массиве-4.1\"><span class=\"toc-item-num\">4.1&nbsp;&nbsp;</span>Нахождение R2 на нешифрованном массиве</a></span></li><li><span><a href=\"#Создание-алгоритма\" data-toc-modified-id=\"Создание-алгоритма-4.2\"><span class=\"toc-item-num\">4.2&nbsp;&nbsp;</span>Создание алгоритма</a></span></li><li><span><a href=\"#Итог\" data-toc-modified-id=\"Итог-4.3\"><span class=\"toc-item-num\">4.3&nbsp;&nbsp;</span>Итог</a></span></li></ul></li><li><span><a href=\"#Итог\" data-toc-modified-id=\"Итог-5\"><span class=\"toc-item-num\">5&nbsp;&nbsp;</span>Итог</a></span></li><li><span><a href=\"#Чек-лист-проверки\" data-toc-modified-id=\"Чек-лист-проверки-6\"><span class=\"toc-item-num\">6&nbsp;&nbsp;</span>Чек-лист проверки</a></span></li></ul></div>"
   ]
  },
  {
   "cell_type": "markdown",
   "metadata": {},
   "source": [
    "# Защита персональных данных клиентов"
   ]
  },
  {
   "cell_type": "markdown",
   "metadata": {},
   "source": [
    "Вам нужно защитить данные клиентов страховой компании «Хоть потоп». Разработайте такой метод преобразования данных, чтобы по ним было сложно восстановить персональную информацию. Обоснуйте корректность его работы.\n",
    "\n",
    "Нужно защитить данные, чтобы при преобразовании качество моделей машинного обучения не ухудшилось. Подбирать наилучшую модель не требуется."
   ]
  },
  {
   "cell_type": "markdown",
   "metadata": {},
   "source": [
    "## Загрузка данных"
   ]
  },
  {
   "cell_type": "markdown",
   "metadata": {},
   "source": [
    "Для начала сделаем импорт нужных библиотек:"
   ]
  },
  {
   "cell_type": "code",
   "execution_count": 1,
   "metadata": {},
   "outputs": [],
   "source": [
    "import pandas as pd\n",
    "import numpy as np\n",
    "pd.set_option('display.max_columns', None)\n",
    "from sklearn.model_selection import train_test_split\n",
    "import matplotlib.pyplot as plt\n",
    "from sklearn.preprocessing import StandardScaler \n",
    "from sklearn.linear_model import LinearRegression\n",
    "pd.options.mode.chained_assignment = None\n",
    "from sklearn.metrics import r2_score"
   ]
  },
  {
   "cell_type": "markdown",
   "metadata": {},
   "source": [
    "Импортируем нужный датасет:"
   ]
  },
  {
   "cell_type": "code",
   "execution_count": 2,
   "metadata": {},
   "outputs": [],
   "source": [
    "df = pd.read_csv('/datasets/insurance.csv')"
   ]
  },
  {
   "cell_type": "markdown",
   "metadata": {},
   "source": [
    "### Краткий обзор данных"
   ]
  },
  {
   "cell_type": "code",
   "execution_count": 3,
   "metadata": {
    "scrolled": true
   },
   "outputs": [
    {
     "data": {
      "text/html": [
       "<div>\n",
       "<style scoped>\n",
       "    .dataframe tbody tr th:only-of-type {\n",
       "        vertical-align: middle;\n",
       "    }\n",
       "\n",
       "    .dataframe tbody tr th {\n",
       "        vertical-align: top;\n",
       "    }\n",
       "\n",
       "    .dataframe thead th {\n",
       "        text-align: right;\n",
       "    }\n",
       "</style>\n",
       "<table border=\"1\" class=\"dataframe\">\n",
       "  <thead>\n",
       "    <tr style=\"text-align: right;\">\n",
       "      <th></th>\n",
       "      <th>Пол</th>\n",
       "      <th>Возраст</th>\n",
       "      <th>Зарплата</th>\n",
       "      <th>Члены семьи</th>\n",
       "      <th>Страховые выплаты</th>\n",
       "    </tr>\n",
       "  </thead>\n",
       "  <tbody>\n",
       "    <tr>\n",
       "      <td>0</td>\n",
       "      <td>1</td>\n",
       "      <td>41.0</td>\n",
       "      <td>49600.0</td>\n",
       "      <td>1</td>\n",
       "      <td>0</td>\n",
       "    </tr>\n",
       "    <tr>\n",
       "      <td>1</td>\n",
       "      <td>0</td>\n",
       "      <td>46.0</td>\n",
       "      <td>38000.0</td>\n",
       "      <td>1</td>\n",
       "      <td>1</td>\n",
       "    </tr>\n",
       "    <tr>\n",
       "      <td>2</td>\n",
       "      <td>0</td>\n",
       "      <td>29.0</td>\n",
       "      <td>21000.0</td>\n",
       "      <td>0</td>\n",
       "      <td>0</td>\n",
       "    </tr>\n",
       "    <tr>\n",
       "      <td>3</td>\n",
       "      <td>0</td>\n",
       "      <td>21.0</td>\n",
       "      <td>41700.0</td>\n",
       "      <td>2</td>\n",
       "      <td>0</td>\n",
       "    </tr>\n",
       "    <tr>\n",
       "      <td>4</td>\n",
       "      <td>1</td>\n",
       "      <td>28.0</td>\n",
       "      <td>26100.0</td>\n",
       "      <td>0</td>\n",
       "      <td>0</td>\n",
       "    </tr>\n",
       "  </tbody>\n",
       "</table>\n",
       "</div>"
      ],
      "text/plain": [
       "   Пол  Возраст  Зарплата  Члены семьи  Страховые выплаты\n",
       "0    1     41.0   49600.0            1                  0\n",
       "1    0     46.0   38000.0            1                  1\n",
       "2    0     29.0   21000.0            0                  0\n",
       "3    0     21.0   41700.0            2                  0\n",
       "4    1     28.0   26100.0            0                  0"
      ]
     },
     "execution_count": 3,
     "metadata": {},
     "output_type": "execute_result"
    }
   ],
   "source": [
    "df.head()"
   ]
  },
  {
   "cell_type": "code",
   "execution_count": 4,
   "metadata": {},
   "outputs": [
    {
     "name": "stdout",
     "output_type": "stream",
     "text": [
      "<class 'pandas.core.frame.DataFrame'>\n",
      "RangeIndex: 5000 entries, 0 to 4999\n",
      "Data columns (total 5 columns):\n",
      "Пол                  5000 non-null int64\n",
      "Возраст              5000 non-null float64\n",
      "Зарплата             5000 non-null float64\n",
      "Члены семьи          5000 non-null int64\n",
      "Страховые выплаты    5000 non-null int64\n",
      "dtypes: float64(2), int64(3)\n",
      "memory usage: 195.4 KB\n"
     ]
    }
   ],
   "source": [
    "df.info()"
   ]
  },
  {
   "cell_type": "code",
   "execution_count": 5,
   "metadata": {},
   "outputs": [
    {
     "data": {
      "text/html": [
       "<div>\n",
       "<style scoped>\n",
       "    .dataframe tbody tr th:only-of-type {\n",
       "        vertical-align: middle;\n",
       "    }\n",
       "\n",
       "    .dataframe tbody tr th {\n",
       "        vertical-align: top;\n",
       "    }\n",
       "\n",
       "    .dataframe thead th {\n",
       "        text-align: right;\n",
       "    }\n",
       "</style>\n",
       "<table border=\"1\" class=\"dataframe\">\n",
       "  <thead>\n",
       "    <tr style=\"text-align: right;\">\n",
       "      <th></th>\n",
       "      <th>Пол</th>\n",
       "      <th>Возраст</th>\n",
       "      <th>Зарплата</th>\n",
       "      <th>Члены семьи</th>\n",
       "      <th>Страховые выплаты</th>\n",
       "    </tr>\n",
       "  </thead>\n",
       "  <tbody>\n",
       "    <tr>\n",
       "      <td>count</td>\n",
       "      <td>5000.000000</td>\n",
       "      <td>5000.000000</td>\n",
       "      <td>5000.000000</td>\n",
       "      <td>5000.000000</td>\n",
       "      <td>5000.000000</td>\n",
       "    </tr>\n",
       "    <tr>\n",
       "      <td>mean</td>\n",
       "      <td>0.499000</td>\n",
       "      <td>30.952800</td>\n",
       "      <td>39916.360000</td>\n",
       "      <td>1.194200</td>\n",
       "      <td>0.148000</td>\n",
       "    </tr>\n",
       "    <tr>\n",
       "      <td>std</td>\n",
       "      <td>0.500049</td>\n",
       "      <td>8.440807</td>\n",
       "      <td>9900.083569</td>\n",
       "      <td>1.091387</td>\n",
       "      <td>0.463183</td>\n",
       "    </tr>\n",
       "    <tr>\n",
       "      <td>min</td>\n",
       "      <td>0.000000</td>\n",
       "      <td>18.000000</td>\n",
       "      <td>5300.000000</td>\n",
       "      <td>0.000000</td>\n",
       "      <td>0.000000</td>\n",
       "    </tr>\n",
       "    <tr>\n",
       "      <td>25%</td>\n",
       "      <td>0.000000</td>\n",
       "      <td>24.000000</td>\n",
       "      <td>33300.000000</td>\n",
       "      <td>0.000000</td>\n",
       "      <td>0.000000</td>\n",
       "    </tr>\n",
       "    <tr>\n",
       "      <td>50%</td>\n",
       "      <td>0.000000</td>\n",
       "      <td>30.000000</td>\n",
       "      <td>40200.000000</td>\n",
       "      <td>1.000000</td>\n",
       "      <td>0.000000</td>\n",
       "    </tr>\n",
       "    <tr>\n",
       "      <td>75%</td>\n",
       "      <td>1.000000</td>\n",
       "      <td>37.000000</td>\n",
       "      <td>46600.000000</td>\n",
       "      <td>2.000000</td>\n",
       "      <td>0.000000</td>\n",
       "    </tr>\n",
       "    <tr>\n",
       "      <td>max</td>\n",
       "      <td>1.000000</td>\n",
       "      <td>65.000000</td>\n",
       "      <td>79000.000000</td>\n",
       "      <td>6.000000</td>\n",
       "      <td>5.000000</td>\n",
       "    </tr>\n",
       "  </tbody>\n",
       "</table>\n",
       "</div>"
      ],
      "text/plain": [
       "               Пол      Возраст      Зарплата  Члены семьи  Страховые выплаты\n",
       "count  5000.000000  5000.000000   5000.000000  5000.000000        5000.000000\n",
       "mean      0.499000    30.952800  39916.360000     1.194200           0.148000\n",
       "std       0.500049     8.440807   9900.083569     1.091387           0.463183\n",
       "min       0.000000    18.000000   5300.000000     0.000000           0.000000\n",
       "25%       0.000000    24.000000  33300.000000     0.000000           0.000000\n",
       "50%       0.000000    30.000000  40200.000000     1.000000           0.000000\n",
       "75%       1.000000    37.000000  46600.000000     2.000000           0.000000\n",
       "max       1.000000    65.000000  79000.000000     6.000000           5.000000"
      ]
     },
     "execution_count": 5,
     "metadata": {},
     "output_type": "execute_result"
    }
   ],
   "source": [
    "df.describe()"
   ]
  },
  {
   "cell_type": "code",
   "execution_count": 6,
   "metadata": {
    "scrolled": false
   },
   "outputs": [
    {
     "data": {
      "text/html": [
       "<div>\n",
       "<style scoped>\n",
       "    .dataframe tbody tr th:only-of-type {\n",
       "        vertical-align: middle;\n",
       "    }\n",
       "\n",
       "    .dataframe tbody tr th {\n",
       "        vertical-align: top;\n",
       "    }\n",
       "\n",
       "    .dataframe thead th {\n",
       "        text-align: right;\n",
       "    }\n",
       "</style>\n",
       "<table border=\"1\" class=\"dataframe\">\n",
       "  <thead>\n",
       "    <tr style=\"text-align: right;\">\n",
       "      <th></th>\n",
       "      <th>Пол</th>\n",
       "      <th>Возраст</th>\n",
       "      <th>Зарплата</th>\n",
       "      <th>Члены семьи</th>\n",
       "      <th>Страховые выплаты</th>\n",
       "    </tr>\n",
       "  </thead>\n",
       "  <tbody>\n",
       "    <tr>\n",
       "      <td>1501</td>\n",
       "      <td>1</td>\n",
       "      <td>28.0</td>\n",
       "      <td>56100.0</td>\n",
       "      <td>0</td>\n",
       "      <td>0</td>\n",
       "    </tr>\n",
       "  </tbody>\n",
       "</table>\n",
       "</div>"
      ],
      "text/plain": [
       "      Пол  Возраст  Зарплата  Члены семьи  Страховые выплаты\n",
       "1501    1     28.0   56100.0            0                  0"
      ]
     },
     "execution_count": 6,
     "metadata": {},
     "output_type": "execute_result"
    }
   ],
   "source": [
    "df.sample(random_state=42)"
   ]
  },
  {
   "cell_type": "markdown",
   "metadata": {},
   "source": [
    "Проверим количество дубликатов:"
   ]
  },
  {
   "cell_type": "code",
   "execution_count": 7,
   "metadata": {},
   "outputs": [
    {
     "data": {
      "text/plain": [
       "153"
      ]
     },
     "execution_count": 7,
     "metadata": {},
     "output_type": "execute_result"
    }
   ],
   "source": [
    "df.duplicated().sum()"
   ]
  },
  {
   "cell_type": "markdown",
   "metadata": {},
   "source": [
    "В данных присутствуют дубликаты, целью задания не является построение модели с наилучшим значением метрики, а работа с целым числом 5000 намного приятнее, поэтому не будем торопится с удалением дубликатов. К тому же данные имеют не настолько большой диапазон, чтобы считать, что это дубликаты."
   ]
  },
  {
   "cell_type": "markdown",
   "metadata": {},
   "source": [
    "Как видно столбцы Возраст и Зарплата имеют данные float. Возможно,лучше было бы перенести их в значение int, чтобы сделать таблицу более низкой по памяти."
   ]
  },
  {
   "cell_type": "code",
   "execution_count": 8,
   "metadata": {
    "scrolled": true
   },
   "outputs": [
    {
     "data": {
      "text/plain": [
       "19.0    223\n",
       "25.0    214\n",
       "31.0    212\n",
       "26.0    211\n",
       "22.0    209\n",
       "27.0    209\n",
       "32.0    206\n",
       "28.0    204\n",
       "29.0    203\n",
       "30.0    202\n",
       "23.0    202\n",
       "21.0    200\n",
       "20.0    195\n",
       "36.0    193\n",
       "33.0    191\n",
       "24.0    182\n",
       "35.0    179\n",
       "34.0    177\n",
       "37.0    147\n",
       "39.0    141\n",
       "38.0    139\n",
       "41.0    129\n",
       "18.0    117\n",
       "40.0    114\n",
       "42.0     93\n",
       "43.0     77\n",
       "44.0     74\n",
       "45.0     73\n",
       "46.0     60\n",
       "47.0     47\n",
       "49.0     37\n",
       "50.0     27\n",
       "48.0     26\n",
       "52.0     22\n",
       "51.0     21\n",
       "53.0     11\n",
       "55.0      9\n",
       "54.0      7\n",
       "56.0      5\n",
       "59.0      3\n",
       "60.0      2\n",
       "58.0      2\n",
       "57.0      2\n",
       "62.0      1\n",
       "65.0      1\n",
       "61.0      1\n",
       "Name: Возраст, dtype: int64"
      ]
     },
     "execution_count": 8,
     "metadata": {},
     "output_type": "execute_result"
    }
   ],
   "source": [
    "df['Возраст'].value_counts()"
   ]
  },
  {
   "cell_type": "code",
   "execution_count": 9,
   "metadata": {
    "scrolled": true
   },
   "outputs": [
    {
     "data": {
      "text/plain": [
       "45800.0    29\n",
       "37100.0    28\n",
       "43200.0    27\n",
       "41500.0    27\n",
       "46800.0    26\n",
       "           ..\n",
       "68900.0     1\n",
       "59700.0     1\n",
       "59000.0     1\n",
       "68000.0     1\n",
       "64400.0     1\n",
       "Name: Зарплата, Length: 524, dtype: int64"
      ]
     },
     "execution_count": 9,
     "metadata": {},
     "output_type": "execute_result"
    }
   ],
   "source": [
    "df['Зарплата'].value_counts()"
   ]
  },
  {
   "cell_type": "markdown",
   "metadata": {},
   "source": [
    "Как видим, все значения можно перенести в тип int"
   ]
  },
  {
   "cell_type": "code",
   "execution_count": 10,
   "metadata": {},
   "outputs": [],
   "source": [
    "df['Возраст'] = np.int64(df['Возраст'])"
   ]
  },
  {
   "cell_type": "code",
   "execution_count": 11,
   "metadata": {},
   "outputs": [],
   "source": [
    "df['Зарплата'] = np.int64(df['Зарплата'])"
   ]
  },
  {
   "cell_type": "markdown",
   "metadata": {},
   "source": [
    "### Подготовка признаков для обучения"
   ]
  },
  {
   "cell_type": "code",
   "execution_count": 12,
   "metadata": {},
   "outputs": [],
   "source": [
    "features = df.drop('Страховые выплаты',axis=1)\n",
    "target = df['Страховые выплаты']"
   ]
  },
  {
   "cell_type": "code",
   "execution_count": 13,
   "metadata": {},
   "outputs": [],
   "source": [
    "features_train, features_test, target_train, target_test = train_test_split(features, target, test_size=0.25, random_state=42)"
   ]
  },
  {
   "cell_type": "code",
   "execution_count": 14,
   "metadata": {},
   "outputs": [
    {
     "data": {
      "text/plain": [
       "(3750, 4)"
      ]
     },
     "execution_count": 14,
     "metadata": {},
     "output_type": "execute_result"
    }
   ],
   "source": [
    "features_train.shape"
   ]
  },
  {
   "cell_type": "code",
   "execution_count": 15,
   "metadata": {},
   "outputs": [
    {
     "data": {
      "text/plain": [
       "(1250, 4)"
      ]
     },
     "execution_count": 15,
     "metadata": {},
     "output_type": "execute_result"
    }
   ],
   "source": [
    "features_test.shape"
   ]
  },
  {
   "cell_type": "code",
   "execution_count": 16,
   "metadata": {
    "scrolled": true
   },
   "outputs": [
    {
     "data": {
      "text/plain": [
       "(3750,)"
      ]
     },
     "execution_count": 16,
     "metadata": {},
     "output_type": "execute_result"
    }
   ],
   "source": [
    "target_train.shape"
   ]
  },
  {
   "cell_type": "code",
   "execution_count": 17,
   "metadata": {},
   "outputs": [
    {
     "data": {
      "text/plain": [
       "(1250,)"
      ]
     },
     "execution_count": 17,
     "metadata": {},
     "output_type": "execute_result"
    }
   ],
   "source": [
    "target_test.shape"
   ]
  },
  {
   "cell_type": "markdown",
   "metadata": {},
   "source": [
    "## Умножение матриц"
   ]
  },
  {
   "cell_type": "markdown",
   "metadata": {},
   "source": [
    "Как создать произволбную обратимую матрицу? numpy.random.normal() "
   ]
  },
  {
   "cell_type": "markdown",
   "metadata": {},
   "source": [
    "В этом задании вы можете записывать формулы в *Jupyter Notebook.*\n",
    "\n",
    "Чтобы записать формулу внутри текста, окружите её символами доллара \\\\$; если снаружи —  двойными символами \\\\$\\\\$. Эти формулы записываются на языке вёрстки *LaTeX.* \n",
    "\n",
    "Для примера мы записали формулы линейной регрессии. Можете их скопировать и отредактировать, чтобы решить задачу.\n",
    "\n",
    "Работать в *LaTeX* необязательно."
   ]
  },
  {
   "cell_type": "markdown",
   "metadata": {},
   "source": [
    "Обозначения:\n",
    "\n",
    "- $X$ — матрица признаков (нулевой столбец состоит из единиц)\n",
    "\n",
    "- $y$ — вектор целевого признака\n",
    "\n",
    "- $P$ — матрица, на которую умножаются признаки\n",
    "\n",
    "- $w$ — вектор весов линейной регрессии (нулевой элемент равен сдвигу)"
   ]
  },
  {
   "cell_type": "markdown",
   "metadata": {},
   "source": [
    "Предсказания:\n",
    "\n",
    "$$\n",
    "a = Xw\n",
    "$$\n",
    "\n",
    "Задача обучения:\n",
    "\n",
    "$$\n",
    "w = \\arg\\min_w MSE(Xw, y)\n",
    "$$\n",
    "\n",
    "Формула обучения:\n",
    "\n",
    "$$\n",
    "w = (X^T X)^{-1} X^T y\n",
    "$$"
   ]
  },
  {
   "cell_type": "markdown",
   "metadata": {},
   "source": [
    "Формула предсказания с минимальной функцией потерь\n",
    "\n",
    "$$\n",
    "a = X(X^T X)^{-1} X^T y\n",
    "$$"
   ]
  },
  {
   "cell_type": "markdown",
   "metadata": {},
   "source": [
    "Нужно доказать:\n",
    "\n",
    "Если\n",
    "\n",
    "$$\n",
    "w_{1} = (X^T × X)^{-1} × X^T × y = ((XP)^T × XP)^{-1} × (XP)^T × y \n",
    "$$\n",
    "\n",
    "И\n",
    "\n",
    "$$\n",
    "a_{1} = XP × ((XP)^T× XP)^{-1} × (XP)^T × y\n",
    "$$\n",
    "\n",
    "\n",
    "где P - является обратимой матрицей"
   ]
  },
  {
   "cell_type": "markdown",
   "metadata": {},
   "source": [
    "В итоге нужно доказать:\n",
    "\n",
    "$$\n",
    "a = a_{1}\n",
    "$$"
   ]
  },
  {
   "cell_type": "markdown",
   "metadata": {},
   "source": [
    "**Ответ:** Не изменится\n",
    "\n",
    "**Обоснование:** \n",
    "\n",
    "- Еще раз обратимся к \n",
    "\n",
    "$$\n",
    "a_{1} = XP × ((XP)^T × XP)^{-1} × (XP)^T × y\n",
    "$$"
   ]
  },
  {
   "cell_type": "markdown",
   "metadata": {},
   "source": [
    "- Раскроем более четко, что нужно доказать:\n",
    "\n",
    "$$\n",
    "X(X^T X)^{-1} X^T y = XP × ((XP)^T × XP)^{-1} × (XP)^T × y\n",
    "$$\n"
   ]
  },
  {
   "cell_type": "markdown",
   "metadata": {},
   "source": [
    "Свойство матриц, нужные для док-ва:\n",
    "\n",
    "$$\n",
    "(AB)^{-1} = B^{-1}A^{-1}\n",
    "$$\n",
    "\n",
    "$$\n",
    "(AB)^T = B^TA^T\n",
    "$$\n",
    "\n",
    "$$\n",
    "ABC = (AB)C=A(BC)\n",
    "$$\n",
    "\n",
    "$$\n",
    "EA = AE = A\n",
    "$$\n",
    "\n",
    "$$\n",
    "AA^{-1} = A^{-1}A=E\n",
    "$$"
   ]
  },
  {
   "cell_type": "markdown",
   "metadata": {},
   "source": [
    "Воспользуемся данным свойствами матриц:\n",
    "\n",
    "$$ \n",
    "a_{1}=XP × (XP)^{-1} × ((XP)^T)^{-1} × (XP)^T × y = XPP^{-1}X^{-1} × ((XP)^T)^{-1} × (XP)^T × y = XEX^{-1} × ((XP)^T)^{-1} × (XP)^T × y \n",
    "$$"
   ]
  },
  {
   "cell_type": "markdown",
   "metadata": {},
   "source": [
    "$$\n",
    "XEX^{-1} × ((P^TX^T)^{-1} × P^TX^T × y\n",
    "$$"
   ]
  },
  {
   "cell_type": "markdown",
   "metadata": {},
   "source": [
    "$$\n",
    "XEX^{-1} × (X^T)^{-1} × (P^T)^{-1} × P^TX^T × y \n",
    "$$"
   ]
  },
  {
   "cell_type": "markdown",
   "metadata": {},
   "source": [
    "$$\n",
    "XEX^{-1} × (X^T)^{-1} × EX^T × y \n",
    "$$"
   ]
  },
  {
   "cell_type": "markdown",
   "metadata": {},
   "source": [
    "$$\n",
    "XX^{-1} × (X^T)^{-1} × X^T × y\n",
    "$$"
   ]
  },
  {
   "cell_type": "markdown",
   "metadata": {},
   "source": [
    "$$\n",
    "a_{1} = XX^{-1} × (X^T)^{-1} × X^T × y = X(X^TX)^{-1}X^Ty\n",
    "$$"
   ]
  },
  {
   "cell_type": "markdown",
   "metadata": {},
   "source": [
    "$$\n",
    "a = X(X^T X)^{-1} X^T y\n",
    "$$"
   ]
  },
  {
   "cell_type": "markdown",
   "metadata": {},
   "source": [
    "$$\n",
    "a_{1} = a\n",
    "$$"
   ]
  },
  {
   "cell_type": "markdown",
   "metadata": {},
   "source": [
    "$$\n",
    "w' = ((XP)^T XP)^{-1} (XP)^T y\n",
    "$$\n",
    "$$\n",
    "w' = (P^T (X^T X) P)^{-1} (XP)^T y\n",
    "$$\n",
    "$$\n",
    "....\n",
    "$$"
   ]
  },
  {
   "cell_type": "markdown",
   "metadata": {},
   "source": [
    "$$\n",
    "a' = X(P^T (X^T X) P)^{-1} (XP)^T y\n",
    "$$\n",
    "\n",
    "$$\n",
    "(X^T X)\n",
    "$$\n",
    "\n",
    "Последняя матрица - это одна квадратная матрица, которая может быть подвергнута первому свойству матриц"
   ]
  },
  {
   "cell_type": "markdown",
   "metadata": {},
   "source": [
    "Воспользуемся первым свойством матриц, действительным только для квадратных (а матрица X в степени T умноженная на X является таковой) "
   ]
  },
  {
   "cell_type": "markdown",
   "metadata": {},
   "source": [
    "$$\n",
    "a' = X P^{-1} (X^T X)^{-1} (P^T)^{-1} (XP)^T y\n",
    "$$"
   ]
  },
  {
   "cell_type": "markdown",
   "metadata": {},
   "source": [
    "$$\n",
    "a' = X (P^{-1}) (X^T X)^{-1} (P^T)^{-1} P^TX^T y\n",
    "$$"
   ]
  },
  {
   "cell_type": "markdown",
   "metadata": {},
   "source": [
    "$$\n",
    "a' = X (P^{-1}) (X^T X)^{-1} EX^T y\n",
    "$$"
   ]
  },
  {
   "cell_type": "markdown",
   "metadata": {},
   "source": [
    "Воспользуемся пятым свойством матриц"
   ]
  },
  {
   "cell_type": "markdown",
   "metadata": {},
   "source": [
    "$$\n",
    "a' = X (P^{-1}) (X^T X)^{-1} X^T y\n",
    "$$"
   ]
  },
  {
   "cell_type": "markdown",
   "metadata": {},
   "source": [
    "Можно заметить, что права часть уравнения после P в -1 степени является нужным нам w"
   ]
  },
  {
   "cell_type": "markdown",
   "metadata": {},
   "source": [
    "$$\n",
    "w' = P^{-1} w\n",
    "$$"
   ]
  },
  {
   "cell_type": "markdown",
   "metadata": {},
   "source": [
    "$$\n",
    "a' = X(P^{-1})w\n",
    "$$"
   ]
  },
  {
   "cell_type": "markdown",
   "metadata": {},
   "source": [
    "Что и требовалось доказать"
   ]
  },
  {
   "cell_type": "markdown",
   "metadata": {},
   "source": [
    "## Алгоритм преобразования"
   ]
  },
  {
   "cell_type": "markdown",
   "metadata": {},
   "source": [
    "**Алгоритм**\n",
    "\n",
    "На основе выведенного выше док-ва можно выдвинуть следующий алгоритм:\n",
    "1. Создадим матрицу, соответствующую размерам исходной матрице.\n",
    "2. Проверим её на необратимость\n",
    "3. Умножим исходную матрицу на новую матрицу.\n",
    "4. Применение алгоритма на получивщейся матрице."
   ]
  },
  {
   "cell_type": "markdown",
   "metadata": {},
   "source": [
    "**Обоснование**\n",
    "\n",
    "Выведенное выше докозательства является подтверждением того, что умножение исходной матрице на преобразованную не изменит качество предсказания."
   ]
  },
  {
   "cell_type": "markdown",
   "metadata": {},
   "source": [
    "## Проверка алгоритма"
   ]
  },
  {
   "cell_type": "markdown",
   "metadata": {},
   "source": [
    "### Нахождение R2 на нешифрованном массиве"
   ]
  },
  {
   "cell_type": "code",
   "execution_count": 18,
   "metadata": {
    "scrolled": true
   },
   "outputs": [
    {
     "name": "stdout",
     "output_type": "stream",
     "text": [
      "R2 = 0.4254778535754761\n",
      "W-coef [ 4.92432127e-03  3.51527195e-02 -2.45798536e-07 -1.49140097e-02]\n"
     ]
    }
   ],
   "source": [
    "model = LinearRegression()\n",
    "model.fit(features_train, target_train)\n",
    "print('R2 =',r2_score(target_test, model.predict(features_test)))\n",
    "print('W-coef',model.coef_)"
   ]
  },
  {
   "cell_type": "code",
   "execution_count": 19,
   "metadata": {},
   "outputs": [],
   "source": [
    "no_matrix_model = r2_score(target_test, model.predict(features_test)) #переменная для итоговой таблицы"
   ]
  },
  {
   "cell_type": "markdown",
   "metadata": {},
   "source": [
    "### Создание алгоритма"
   ]
  },
  {
   "cell_type": "markdown",
   "metadata": {},
   "source": [
    "Создадим алгоритм для преобразования матрицы признаков:"
   ]
  },
  {
   "cell_type": "code",
   "execution_count": 20,
   "metadata": {},
   "outputs": [],
   "source": [
    "def encoded_matrix(features):\n",
    "    n = features.shape[1]\n",
    "    matrix = np.random.normal(loc = 30, scale = 10, size=(n,n)) \n",
    "    while np.linalg.det(matrix) == 0:\n",
    "        matrix = np.random.normal(loc = 30, scale = 10, size=(n,n))\n",
    "    encoded_matrix = features @ matrix\n",
    "    encoded_matrix.columns = [features.columns]\n",
    "    return encoded_matrix"
   ]
  },
  {
   "cell_type": "code",
   "execution_count": 21,
   "metadata": {},
   "outputs": [],
   "source": [
    "new_features = encoded_matrix(features)"
   ]
  },
  {
   "cell_type": "code",
   "execution_count": 22,
   "metadata": {},
   "outputs": [
    {
     "data": {
      "text/html": [
       "<div>\n",
       "<style scoped>\n",
       "    .dataframe tbody tr th:only-of-type {\n",
       "        vertical-align: middle;\n",
       "    }\n",
       "\n",
       "    .dataframe tbody tr th {\n",
       "        vertical-align: top;\n",
       "    }\n",
       "\n",
       "    .dataframe thead tr th {\n",
       "        text-align: left;\n",
       "    }\n",
       "</style>\n",
       "<table border=\"1\" class=\"dataframe\">\n",
       "  <thead>\n",
       "    <tr>\n",
       "      <th></th>\n",
       "      <th>Пол</th>\n",
       "      <th>Возраст</th>\n",
       "      <th>Зарплата</th>\n",
       "      <th>Члены семьи</th>\n",
       "    </tr>\n",
       "  </thead>\n",
       "  <tbody>\n",
       "    <tr>\n",
       "      <td>0</td>\n",
       "      <td>1.320090e+06</td>\n",
       "      <td>1.954372e+06</td>\n",
       "      <td>1.907499e+06</td>\n",
       "      <td>1.749775e+06</td>\n",
       "    </tr>\n",
       "    <tr>\n",
       "      <td>1</td>\n",
       "      <td>1.011983e+06</td>\n",
       "      <td>1.497689e+06</td>\n",
       "      <td>1.461519e+06</td>\n",
       "      <td>1.341179e+06</td>\n",
       "    </tr>\n",
       "    <tr>\n",
       "      <td>2</td>\n",
       "      <td>5.593898e+05</td>\n",
       "      <td>8.277493e+05</td>\n",
       "      <td>8.077036e+05</td>\n",
       "      <td>7.413243e+05</td>\n",
       "    </tr>\n",
       "    <tr>\n",
       "      <td>3</td>\n",
       "      <td>1.109260e+06</td>\n",
       "      <td>1.642730e+06</td>\n",
       "      <td>1.603548e+06</td>\n",
       "      <td>1.470487e+06</td>\n",
       "    </tr>\n",
       "    <tr>\n",
       "      <td>4</td>\n",
       "      <td>6.949217e+05</td>\n",
       "      <td>1.028585e+06</td>\n",
       "      <td>1.003813e+06</td>\n",
       "      <td>9.210346e+05</td>\n",
       "    </tr>\n",
       "    <tr>\n",
       "      <td>...</td>\n",
       "      <td>...</td>\n",
       "      <td>...</td>\n",
       "      <td>...</td>\n",
       "      <td>...</td>\n",
       "    </tr>\n",
       "    <tr>\n",
       "      <td>4995</td>\n",
       "      <td>9.501050e+05</td>\n",
       "      <td>1.406656e+06</td>\n",
       "      <td>1.372932e+06</td>\n",
       "      <td>1.259353e+06</td>\n",
       "    </tr>\n",
       "    <tr>\n",
       "      <td>4996</td>\n",
       "      <td>1.394166e+06</td>\n",
       "      <td>2.064401e+06</td>\n",
       "      <td>2.015047e+06</td>\n",
       "      <td>1.848112e+06</td>\n",
       "    </tr>\n",
       "    <tr>\n",
       "      <td>4997</td>\n",
       "      <td>9.019153e+05</td>\n",
       "      <td>1.335553e+06</td>\n",
       "      <td>1.303643e+06</td>\n",
       "      <td>1.195569e+06</td>\n",
       "    </tr>\n",
       "    <tr>\n",
       "      <td>4998</td>\n",
       "      <td>8.701823e+05</td>\n",
       "      <td>1.288427e+06</td>\n",
       "      <td>1.257588e+06</td>\n",
       "      <td>1.153417e+06</td>\n",
       "    </tr>\n",
       "    <tr>\n",
       "      <td>4999</td>\n",
       "      <td>1.080327e+06</td>\n",
       "      <td>1.599606e+06</td>\n",
       "      <td>1.561335e+06</td>\n",
       "      <td>1.432040e+06</td>\n",
       "    </tr>\n",
       "  </tbody>\n",
       "</table>\n",
       "<p>5000 rows × 4 columns</p>\n",
       "</div>"
      ],
      "text/plain": [
       "               Пол       Возраст      Зарплата   Члены семьи\n",
       "0     1.320090e+06  1.954372e+06  1.907499e+06  1.749775e+06\n",
       "1     1.011983e+06  1.497689e+06  1.461519e+06  1.341179e+06\n",
       "2     5.593898e+05  8.277493e+05  8.077036e+05  7.413243e+05\n",
       "3     1.109260e+06  1.642730e+06  1.603548e+06  1.470487e+06\n",
       "4     6.949217e+05  1.028585e+06  1.003813e+06  9.210346e+05\n",
       "...            ...           ...           ...           ...\n",
       "4995  9.501050e+05  1.406656e+06  1.372932e+06  1.259353e+06\n",
       "4996  1.394166e+06  2.064401e+06  2.015047e+06  1.848112e+06\n",
       "4997  9.019153e+05  1.335553e+06  1.303643e+06  1.195569e+06\n",
       "4998  8.701823e+05  1.288427e+06  1.257588e+06  1.153417e+06\n",
       "4999  1.080327e+06  1.599606e+06  1.561335e+06  1.432040e+06\n",
       "\n",
       "[5000 rows x 4 columns]"
      ]
     },
     "execution_count": 22,
     "metadata": {},
     "output_type": "execute_result"
    }
   ],
   "source": [
    "new_features"
   ]
  },
  {
   "cell_type": "markdown",
   "metadata": {},
   "source": [
    "Как видим в датафрейме получились абсолютно иные значения"
   ]
  },
  {
   "cell_type": "markdown",
   "metadata": {},
   "source": [
    "Разделим данные для обучающей и тестовой выборок:"
   ]
  },
  {
   "cell_type": "code",
   "execution_count": 23,
   "metadata": {},
   "outputs": [],
   "source": [
    "features_train_matrix, features_test_matrix, target_train_matrix, target_test_matrix = train_test_split(new_features, target, test_size=0.25, random_state=42)"
   ]
  },
  {
   "cell_type": "markdown",
   "metadata": {},
   "source": [
    "Обучим на них модель"
   ]
  },
  {
   "cell_type": "code",
   "execution_count": 24,
   "metadata": {},
   "outputs": [
    {
     "data": {
      "text/plain": [
       "LinearRegression(copy_X=True, fit_intercept=True, n_jobs=None, normalize=False)"
      ]
     },
     "execution_count": 24,
     "metadata": {},
     "output_type": "execute_result"
    }
   ],
   "source": [
    "model_m=LinearRegression()\n",
    "model_m.fit(features_train_matrix, target_train_matrix)"
   ]
  },
  {
   "cell_type": "code",
   "execution_count": 25,
   "metadata": {},
   "outputs": [
    {
     "name": "stdout",
     "output_type": "stream",
     "text": [
      "R2 = 0.4254778535755155\n",
      "W-coef [ 0.00081293 -0.00245895  0.00068913  0.00138273]\n"
     ]
    }
   ],
   "source": [
    "print('R2 =',r2_score(target_test_matrix, model_m.predict(features_test_matrix)))\n",
    "print('W-coef', model_m.coef_)"
   ]
  },
  {
   "cell_type": "code",
   "execution_count": 26,
   "metadata": {},
   "outputs": [],
   "source": [
    "matrix_model = r2_score(target_test_matrix, model_m.predict(features_test_matrix)) #переменная для итоговой таблицы"
   ]
  },
  {
   "cell_type": "markdown",
   "metadata": {},
   "source": [
    "### Итог"
   ]
  },
  {
   "cell_type": "markdown",
   "metadata": {},
   "source": [
    "Создадим датафрейм, чтобы заказчику было удобнее сравнить данные:"
   ]
  },
  {
   "cell_type": "code",
   "execution_count": 27,
   "metadata": {},
   "outputs": [],
   "source": [
    "final_df = pd.DataFrame(data = [no_matrix_model, matrix_model], \n",
    "                        columns=['R2'], \n",
    "                        index=['Линейная регрессия', 'Линейнай регрессия с преобразованными признаками'])"
   ]
  },
  {
   "cell_type": "code",
   "execution_count": 28,
   "metadata": {},
   "outputs": [
    {
     "data": {
      "text/html": [
       "<div>\n",
       "<style scoped>\n",
       "    .dataframe tbody tr th:only-of-type {\n",
       "        vertical-align: middle;\n",
       "    }\n",
       "\n",
       "    .dataframe tbody tr th {\n",
       "        vertical-align: top;\n",
       "    }\n",
       "\n",
       "    .dataframe thead th {\n",
       "        text-align: right;\n",
       "    }\n",
       "</style>\n",
       "<table border=\"1\" class=\"dataframe\">\n",
       "  <thead>\n",
       "    <tr style=\"text-align: right;\">\n",
       "      <th></th>\n",
       "      <th>R2</th>\n",
       "    </tr>\n",
       "  </thead>\n",
       "  <tbody>\n",
       "    <tr>\n",
       "      <td>Линейная регрессия</td>\n",
       "      <td>0.425478</td>\n",
       "    </tr>\n",
       "    <tr>\n",
       "      <td>Линейнай регрессия с преобразованными признаками</td>\n",
       "      <td>0.425478</td>\n",
       "    </tr>\n",
       "  </tbody>\n",
       "</table>\n",
       "</div>"
      ],
      "text/plain": [
       "                                                        R2\n",
       "Линейная регрессия                                0.425478\n",
       "Линейнай регрессия с преобразованными признаками  0.425478"
      ]
     },
     "execution_count": 28,
     "metadata": {},
     "output_type": "execute_result"
    }
   ],
   "source": [
    "final_df"
   ]
  },
  {
   "cell_type": "markdown",
   "metadata": {},
   "source": [
    "## Итог"
   ]
  },
  {
   "cell_type": "markdown",
   "metadata": {},
   "source": [
    "- Умножение признаков на обратимую матрицу не несет вреда для линейной регрессии.\n",
    "- Данный алгоритм может быть использован для кодирования данных"
   ]
  }
 ],
 "metadata": {
  "ExecuteTimeLog": [
   {
    "duration": 1470,
    "start_time": "2022-01-16T13:15:48.047Z"
   },
   {
    "duration": 483,
    "start_time": "2022-01-16T13:16:59.725Z"
   },
   {
    "duration": 20,
    "start_time": "2022-01-16T13:17:05.756Z"
   },
   {
    "duration": 23,
    "start_time": "2022-01-16T13:17:11.418Z"
   },
   {
    "duration": 12,
    "start_time": "2022-01-16T13:17:18.243Z"
   },
   {
    "duration": 35,
    "start_time": "2022-01-16T13:17:47.544Z"
   },
   {
    "duration": 13,
    "start_time": "2022-01-16T13:18:00.249Z"
   },
   {
    "duration": 13,
    "start_time": "2022-01-16T13:18:04.837Z"
   },
   {
    "duration": 13,
    "start_time": "2022-01-16T13:18:07.621Z"
   },
   {
    "duration": 11,
    "start_time": "2022-01-16T13:18:22.687Z"
   },
   {
    "duration": 329,
    "start_time": "2022-01-16T13:19:28.140Z"
   },
   {
    "duration": 301,
    "start_time": "2022-01-16T13:19:42.097Z"
   },
   {
    "duration": 354,
    "start_time": "2022-01-16T13:20:31.375Z"
   },
   {
    "duration": 329,
    "start_time": "2022-01-16T13:20:36.527Z"
   },
   {
    "duration": 10,
    "start_time": "2022-01-16T13:20:53.861Z"
   },
   {
    "duration": 637,
    "start_time": "2022-01-18T08:29:40.026Z"
   },
   {
    "duration": 1084,
    "start_time": "2022-01-18T08:29:43.790Z"
   },
   {
    "duration": 15,
    "start_time": "2022-01-18T08:29:44.875Z"
   },
   {
    "duration": 16,
    "start_time": "2022-01-18T08:29:44.892Z"
   },
   {
    "duration": 17,
    "start_time": "2022-01-18T08:29:44.909Z"
   },
   {
    "duration": 29,
    "start_time": "2022-01-18T08:29:44.928Z"
   },
   {
    "duration": 7,
    "start_time": "2022-01-18T08:29:44.958Z"
   },
   {
    "duration": 19,
    "start_time": "2022-01-18T08:29:44.967Z"
   },
   {
    "duration": 18,
    "start_time": "2022-01-18T08:29:44.988Z"
   },
   {
    "duration": 280,
    "start_time": "2022-01-18T08:29:53.817Z"
   },
   {
    "duration": 4,
    "start_time": "2022-01-18T08:30:02.625Z"
   },
   {
    "duration": 4,
    "start_time": "2022-01-18T08:30:31.809Z"
   },
   {
    "duration": 253,
    "start_time": "2022-01-18T08:30:34.303Z"
   },
   {
    "duration": 7,
    "start_time": "2022-01-18T08:31:54.109Z"
   },
   {
    "duration": 239,
    "start_time": "2022-01-18T08:32:02.875Z"
   },
   {
    "duration": 6,
    "start_time": "2022-01-18T08:32:05.537Z"
   },
   {
    "duration": 3,
    "start_time": "2022-01-18T08:34:18.942Z"
   },
   {
    "duration": 3,
    "start_time": "2022-01-18T08:34:52.034Z"
   },
   {
    "duration": 15,
    "start_time": "2022-01-18T08:34:52.051Z"
   },
   {
    "duration": 15,
    "start_time": "2022-01-18T08:34:52.067Z"
   },
   {
    "duration": 11,
    "start_time": "2022-01-18T08:34:52.084Z"
   },
   {
    "duration": 19,
    "start_time": "2022-01-18T08:34:52.096Z"
   },
   {
    "duration": 7,
    "start_time": "2022-01-18T08:34:52.116Z"
   },
   {
    "duration": 11,
    "start_time": "2022-01-18T08:34:52.124Z"
   },
   {
    "duration": 16,
    "start_time": "2022-01-18T08:34:52.136Z"
   },
   {
    "duration": 6,
    "start_time": "2022-01-18T08:34:52.153Z"
   },
   {
    "duration": 3,
    "start_time": "2022-01-18T08:34:52.161Z"
   },
   {
    "duration": 5,
    "start_time": "2022-01-18T08:34:52.165Z"
   },
   {
    "duration": 10,
    "start_time": "2022-01-18T08:34:58.627Z"
   },
   {
    "duration": 6,
    "start_time": "2022-01-18T08:35:02.509Z"
   },
   {
    "duration": 8,
    "start_time": "2022-01-18T08:35:12.026Z"
   },
   {
    "duration": 5,
    "start_time": "2022-01-18T08:35:34.828Z"
   },
   {
    "duration": 3,
    "start_time": "2022-01-18T08:35:49.144Z"
   },
   {
    "duration": 14,
    "start_time": "2022-01-18T08:35:49.158Z"
   },
   {
    "duration": 7,
    "start_time": "2022-01-18T08:35:49.174Z"
   },
   {
    "duration": 6,
    "start_time": "2022-01-18T08:35:49.183Z"
   },
   {
    "duration": 21,
    "start_time": "2022-01-18T08:35:49.192Z"
   },
   {
    "duration": 8,
    "start_time": "2022-01-18T08:35:49.214Z"
   },
   {
    "duration": 7,
    "start_time": "2022-01-18T08:35:49.223Z"
   },
   {
    "duration": 5,
    "start_time": "2022-01-18T08:35:49.231Z"
   },
   {
    "duration": 8,
    "start_time": "2022-01-18T08:35:49.238Z"
   },
   {
    "duration": 4,
    "start_time": "2022-01-18T08:35:49.248Z"
   },
   {
    "duration": 4,
    "start_time": "2022-01-18T08:35:49.253Z"
   },
   {
    "duration": 4,
    "start_time": "2022-01-18T08:35:49.258Z"
   },
   {
    "duration": 6,
    "start_time": "2022-01-18T08:35:49.264Z"
   },
   {
    "duration": 94,
    "start_time": "2022-01-18T13:13:08.402Z"
   },
   {
    "duration": 300,
    "start_time": "2022-01-18T14:33:30.787Z"
   },
   {
    "duration": 1059,
    "start_time": "2022-01-18T14:33:33.866Z"
   },
   {
    "duration": 16,
    "start_time": "2022-01-18T14:33:34.927Z"
   },
   {
    "duration": 10,
    "start_time": "2022-01-18T14:33:34.945Z"
   },
   {
    "duration": 6,
    "start_time": "2022-01-18T14:33:34.956Z"
   },
   {
    "duration": 23,
    "start_time": "2022-01-18T14:33:34.964Z"
   },
   {
    "duration": 7,
    "start_time": "2022-01-18T14:33:34.988Z"
   },
   {
    "duration": 5,
    "start_time": "2022-01-18T14:33:34.997Z"
   },
   {
    "duration": 5,
    "start_time": "2022-01-18T14:33:35.004Z"
   },
   {
    "duration": 5,
    "start_time": "2022-01-18T14:33:35.011Z"
   },
   {
    "duration": 3,
    "start_time": "2022-01-18T14:33:35.017Z"
   },
   {
    "duration": 8,
    "start_time": "2022-01-18T14:33:35.021Z"
   },
   {
    "duration": 41,
    "start_time": "2022-01-18T14:33:35.031Z"
   },
   {
    "duration": 370,
    "start_time": "2022-01-18T16:58:20.991Z"
   },
   {
    "duration": 3,
    "start_time": "2022-01-18T16:58:24.392Z"
   },
   {
    "duration": 16,
    "start_time": "2022-01-18T16:58:24.412Z"
   },
   {
    "duration": 6,
    "start_time": "2022-01-18T16:58:24.430Z"
   },
   {
    "duration": 6,
    "start_time": "2022-01-18T16:58:24.438Z"
   },
   {
    "duration": 20,
    "start_time": "2022-01-18T16:58:24.446Z"
   },
   {
    "duration": 7,
    "start_time": "2022-01-18T16:58:24.467Z"
   },
   {
    "duration": 7,
    "start_time": "2022-01-18T16:58:24.475Z"
   },
   {
    "duration": 6,
    "start_time": "2022-01-18T16:58:24.483Z"
   },
   {
    "duration": 6,
    "start_time": "2022-01-18T16:58:24.491Z"
   },
   {
    "duration": 6,
    "start_time": "2022-01-18T16:58:24.499Z"
   },
   {
    "duration": 7,
    "start_time": "2022-01-18T16:58:24.506Z"
   },
   {
    "duration": 287,
    "start_time": "2022-01-18T16:58:24.515Z"
   },
   {
    "duration": 4,
    "start_time": "2022-01-18T17:01:08.677Z"
   },
   {
    "duration": 284,
    "start_time": "2022-01-18T17:01:18.431Z"
   },
   {
    "duration": 4,
    "start_time": "2022-01-18T17:01:22.781Z"
   },
   {
    "duration": 4,
    "start_time": "2022-01-18T17:01:26.757Z"
   },
   {
    "duration": 271,
    "start_time": "2022-01-18T17:01:46.162Z"
   },
   {
    "duration": 5,
    "start_time": "2022-01-18T17:01:50.186Z"
   },
   {
    "duration": 9,
    "start_time": "2022-01-18T17:02:06.673Z"
   },
   {
    "duration": 3,
    "start_time": "2022-01-18T17:02:29.062Z"
   },
   {
    "duration": 256,
    "start_time": "2022-01-18T17:02:37.212Z"
   },
   {
    "duration": 246,
    "start_time": "2022-01-18T17:02:42.772Z"
   },
   {
    "duration": 4,
    "start_time": "2022-01-18T17:02:46.843Z"
   },
   {
    "duration": 3,
    "start_time": "2022-01-18T17:03:46.692Z"
   },
   {
    "duration": 4,
    "start_time": "2022-01-18T17:03:51.858Z"
   },
   {
    "duration": 3499,
    "start_time": "2022-01-18T17:04:05.349Z"
   },
   {
    "duration": 220,
    "start_time": "2022-01-18T17:04:27.255Z"
   },
   {
    "duration": 4,
    "start_time": "2022-01-18T17:11:06.420Z"
   },
   {
    "duration": 267,
    "start_time": "2022-01-18T17:15:55.845Z"
   },
   {
    "duration": 259,
    "start_time": "2022-01-18T17:16:08.114Z"
   },
   {
    "duration": 433,
    "start_time": "2022-01-18T17:16:38.513Z"
   },
   {
    "duration": 287,
    "start_time": "2022-01-18T17:19:14.552Z"
   },
   {
    "duration": 250,
    "start_time": "2022-01-18T17:19:17.692Z"
   },
   {
    "duration": 16,
    "start_time": "2022-01-18T17:19:20.439Z"
   },
   {
    "duration": 290,
    "start_time": "2022-01-18T17:20:02.258Z"
   },
   {
    "duration": 1592,
    "start_time": "2022-01-18T17:20:05.512Z"
   },
   {
    "duration": 16245,
    "start_time": "2022-01-18T17:20:25.149Z"
   },
   {
    "duration": 6,
    "start_time": "2022-01-18T17:21:20.901Z"
   },
   {
    "duration": 3,
    "start_time": "2022-01-18T17:21:30.151Z"
   },
   {
    "duration": 3195,
    "start_time": "2022-01-18T17:21:53.659Z"
   },
   {
    "duration": 3,
    "start_time": "2022-01-18T17:25:19.716Z"
   },
   {
    "duration": 4,
    "start_time": "2022-01-18T17:25:31.932Z"
   },
   {
    "duration": 5,
    "start_time": "2022-01-18T17:25:33.413Z"
   },
   {
    "duration": 3,
    "start_time": "2022-01-18T17:25:41.521Z"
   },
   {
    "duration": 3,
    "start_time": "2022-01-18T17:25:47.270Z"
   },
   {
    "duration": 4,
    "start_time": "2022-01-18T17:25:51.806Z"
   },
   {
    "duration": 3,
    "start_time": "2022-01-18T17:26:02.726Z"
   },
   {
    "duration": 5,
    "start_time": "2022-01-18T17:26:03.131Z"
   },
   {
    "duration": 198,
    "start_time": "2022-01-18T17:26:09.380Z"
   },
   {
    "duration": 3861,
    "start_time": "2022-01-18T17:26:18.844Z"
   },
   {
    "duration": 2749,
    "start_time": "2022-01-18T17:26:43.067Z"
   },
   {
    "duration": 433,
    "start_time": "2022-01-18T17:26:51.988Z"
   },
   {
    "duration": 3,
    "start_time": "2022-01-18T17:28:26.808Z"
   },
   {
    "duration": 255,
    "start_time": "2022-01-18T17:29:22.110Z"
   },
   {
    "duration": 4,
    "start_time": "2022-01-18T17:29:30.143Z"
   },
   {
    "duration": 1975,
    "start_time": "2022-01-19T08:18:56.259Z"
   },
   {
    "duration": 24,
    "start_time": "2022-01-19T08:18:58.238Z"
   },
   {
    "duration": 23,
    "start_time": "2022-01-19T08:18:58.266Z"
   },
   {
    "duration": 11,
    "start_time": "2022-01-19T08:18:58.293Z"
   },
   {
    "duration": 49,
    "start_time": "2022-01-19T08:18:58.324Z"
   },
   {
    "duration": 13,
    "start_time": "2022-01-19T08:18:58.376Z"
   },
   {
    "duration": 34,
    "start_time": "2022-01-19T08:18:58.391Z"
   },
   {
    "duration": 9,
    "start_time": "2022-01-19T08:18:58.429Z"
   },
   {
    "duration": 11,
    "start_time": "2022-01-19T08:18:58.441Z"
   },
   {
    "duration": 5,
    "start_time": "2022-01-19T08:18:58.455Z"
   },
   {
    "duration": 8,
    "start_time": "2022-01-19T08:18:58.462Z"
   },
   {
    "duration": 52,
    "start_time": "2022-01-19T08:18:58.473Z"
   },
   {
    "duration": 6,
    "start_time": "2022-01-19T08:18:58.528Z"
   },
   {
    "duration": 7,
    "start_time": "2022-01-19T08:18:58.537Z"
   },
   {
    "duration": 285,
    "start_time": "2022-01-19T08:18:58.546Z"
   },
   {
    "duration": 5201,
    "start_time": "2022-01-19T08:18:58.835Z"
   },
   {
    "duration": 4,
    "start_time": "2022-01-19T08:19:04.038Z"
   },
   {
    "duration": 671,
    "start_time": "2022-01-19T08:19:04.044Z"
   },
   {
    "duration": 4,
    "start_time": "2022-01-19T08:19:40.172Z"
   },
   {
    "duration": 13,
    "start_time": "2022-01-19T08:19:41.598Z"
   },
   {
    "duration": 199,
    "start_time": "2022-01-19T08:20:02.136Z"
   },
   {
    "duration": 5390,
    "start_time": "2022-01-19T08:20:08.333Z"
   },
   {
    "duration": 7793,
    "start_time": "2022-01-19T08:20:28.930Z"
   },
   {
    "duration": 6323,
    "start_time": "2022-01-19T08:20:46.915Z"
   },
   {
    "duration": 648,
    "start_time": "2022-01-19T08:21:20.195Z"
   },
   {
    "duration": 5,
    "start_time": "2022-01-19T08:21:34.122Z"
   },
   {
    "duration": 5,
    "start_time": "2022-01-19T08:21:44.235Z"
   },
   {
    "duration": 19660,
    "start_time": "2022-01-19T08:22:52.409Z"
   },
   {
    "duration": 570,
    "start_time": "2022-01-19T08:25:23.458Z"
   },
   {
    "duration": 5,
    "start_time": "2022-01-19T08:31:28.701Z"
   },
   {
    "duration": 7,
    "start_time": "2022-01-19T08:33:50.618Z"
   },
   {
    "duration": 6,
    "start_time": "2022-01-19T08:34:08.309Z"
   },
   {
    "duration": 7,
    "start_time": "2022-01-19T08:34:17.942Z"
   },
   {
    "duration": 5,
    "start_time": "2022-01-19T08:34:25.877Z"
   },
   {
    "duration": 6,
    "start_time": "2022-01-19T08:34:38.313Z"
   },
   {
    "duration": 6,
    "start_time": "2022-01-19T08:38:37.744Z"
   },
   {
    "duration": 4,
    "start_time": "2022-01-19T08:38:50.996Z"
   },
   {
    "duration": 5,
    "start_time": "2022-01-19T08:38:59.370Z"
   },
   {
    "duration": 381,
    "start_time": "2022-01-19T08:39:09.764Z"
   },
   {
    "duration": 377,
    "start_time": "2022-01-19T08:39:21.260Z"
   },
   {
    "duration": 1106,
    "start_time": "2022-01-19T08:39:35.898Z"
   },
   {
    "duration": 6,
    "start_time": "2022-01-19T08:39:37.637Z"
   },
   {
    "duration": 15860,
    "start_time": "2022-01-19T08:39:38.766Z"
   },
   {
    "duration": 6,
    "start_time": "2022-01-19T08:41:02.147Z"
   },
   {
    "duration": 6,
    "start_time": "2022-01-19T08:41:03.692Z"
   },
   {
    "duration": 1406,
    "start_time": "2022-01-19T08:41:12.598Z"
   },
   {
    "duration": 17,
    "start_time": "2022-01-19T08:41:14.006Z"
   },
   {
    "duration": 188,
    "start_time": "2022-01-19T08:41:26.850Z"
   },
   {
    "duration": 20,
    "start_time": "2022-01-19T08:41:30.842Z"
   },
   {
    "duration": 562,
    "start_time": "2022-01-19T08:41:38.581Z"
   },
   {
    "duration": 30337,
    "start_time": "2022-01-19T08:41:50.953Z"
   },
   {
    "duration": 346,
    "start_time": "2022-01-19T08:46:16.872Z"
   },
   {
    "duration": 5,
    "start_time": "2022-01-19T08:46:22.161Z"
   },
   {
    "duration": 17,
    "start_time": "2022-01-19T08:46:22.181Z"
   },
   {
    "duration": 14,
    "start_time": "2022-01-19T08:46:22.201Z"
   },
   {
    "duration": 11,
    "start_time": "2022-01-19T08:46:22.219Z"
   },
   {
    "duration": 39,
    "start_time": "2022-01-19T08:46:22.234Z"
   },
   {
    "duration": 12,
    "start_time": "2022-01-19T08:46:22.275Z"
   },
   {
    "duration": 12,
    "start_time": "2022-01-19T08:46:22.325Z"
   },
   {
    "duration": 20,
    "start_time": "2022-01-19T08:46:22.340Z"
   },
   {
    "duration": 14,
    "start_time": "2022-01-19T08:46:22.363Z"
   },
   {
    "duration": 4,
    "start_time": "2022-01-19T08:46:22.383Z"
   },
   {
    "duration": 34,
    "start_time": "2022-01-19T08:46:22.390Z"
   },
   {
    "duration": 13,
    "start_time": "2022-01-19T08:46:22.426Z"
   },
   {
    "duration": 16,
    "start_time": "2022-01-19T08:46:22.442Z"
   },
   {
    "duration": 14,
    "start_time": "2022-01-19T08:46:22.460Z"
   },
   {
    "duration": 15,
    "start_time": "2022-01-19T08:46:22.476Z"
   },
   {
    "duration": 21,
    "start_time": "2022-01-19T08:46:22.494Z"
   },
   {
    "duration": 9,
    "start_time": "2022-01-19T08:46:22.517Z"
   },
   {
    "duration": 369,
    "start_time": "2022-01-19T08:46:22.529Z"
   },
   {
    "duration": -221,
    "start_time": "2022-01-19T08:46:23.122Z"
   },
   {
    "duration": -241,
    "start_time": "2022-01-19T08:46:23.144Z"
   },
   {
    "duration": -250,
    "start_time": "2022-01-19T08:46:23.154Z"
   },
   {
    "duration": -256,
    "start_time": "2022-01-19T08:46:23.161Z"
   },
   {
    "duration": -275,
    "start_time": "2022-01-19T08:46:23.182Z"
   },
   {
    "duration": -280,
    "start_time": "2022-01-19T08:46:23.188Z"
   },
   {
    "duration": 11,
    "start_time": "2022-01-19T08:46:35.579Z"
   },
   {
    "duration": 985,
    "start_time": "2022-01-19T08:48:16.625Z"
   },
   {
    "duration": 5,
    "start_time": "2022-01-19T08:48:17.613Z"
   },
   {
    "duration": 16297,
    "start_time": "2022-01-19T08:48:17.840Z"
   },
   {
    "duration": 32818,
    "start_time": "2022-01-19T08:48:34.145Z"
   },
   {
    "duration": 275,
    "start_time": "2022-01-19T08:49:06.967Z"
   },
   {
    "duration": 107,
    "start_time": "2022-01-19T08:49:07.326Z"
   },
   {
    "duration": 166,
    "start_time": "2022-01-19T08:49:33.272Z"
   },
   {
    "duration": 15,
    "start_time": "2022-01-19T08:49:34.182Z"
   },
   {
    "duration": 414,
    "start_time": "2022-01-19T08:50:04.640Z"
   },
   {
    "duration": 9,
    "start_time": "2022-01-19T08:50:43.389Z"
   },
   {
    "duration": 9,
    "start_time": "2022-01-19T08:50:52.730Z"
   },
   {
    "duration": 309,
    "start_time": "2022-01-19T08:51:17.014Z"
   },
   {
    "duration": 132,
    "start_time": "2022-01-19T08:51:22.200Z"
   },
   {
    "duration": 7,
    "start_time": "2022-01-19T08:52:11.456Z"
   },
   {
    "duration": 388,
    "start_time": "2022-01-19T08:53:00.183Z"
   },
   {
    "duration": 211,
    "start_time": "2022-01-19T08:53:15.817Z"
   },
   {
    "duration": 15,
    "start_time": "2022-01-19T08:53:16.287Z"
   },
   {
    "duration": 331,
    "start_time": "2022-01-19T08:53:25.675Z"
   },
   {
    "duration": 11,
    "start_time": "2022-01-19T08:53:36.481Z"
   },
   {
    "duration": 427,
    "start_time": "2022-01-19T08:53:59.514Z"
   },
   {
    "duration": 9,
    "start_time": "2022-01-19T08:54:05.882Z"
   },
   {
    "duration": 4,
    "start_time": "2022-01-19T08:57:34.641Z"
   },
   {
    "duration": 5,
    "start_time": "2022-01-19T08:57:34.897Z"
   },
   {
    "duration": 6,
    "start_time": "2022-01-19T08:57:38.869Z"
   },
   {
    "duration": 7,
    "start_time": "2022-01-19T08:57:42.370Z"
   },
   {
    "duration": 4,
    "start_time": "2022-01-19T08:57:56.078Z"
   },
   {
    "duration": 15,
    "start_time": "2022-01-19T08:57:57.230Z"
   },
   {
    "duration": 7,
    "start_time": "2022-01-19T08:58:02.547Z"
   },
   {
    "duration": 8,
    "start_time": "2022-01-19T08:58:05.267Z"
   },
   {
    "duration": 7,
    "start_time": "2022-01-19T08:58:05.788Z"
   },
   {
    "duration": 5,
    "start_time": "2022-01-19T09:01:03.496Z"
   },
   {
    "duration": 20,
    "start_time": "2022-01-19T09:01:03.514Z"
   },
   {
    "duration": 18,
    "start_time": "2022-01-19T09:01:03.538Z"
   },
   {
    "duration": 10,
    "start_time": "2022-01-19T09:01:03.559Z"
   },
   {
    "duration": 78,
    "start_time": "2022-01-19T09:01:03.572Z"
   },
   {
    "duration": 14,
    "start_time": "2022-01-19T09:01:03.653Z"
   },
   {
    "duration": 10,
    "start_time": "2022-01-19T09:01:03.670Z"
   },
   {
    "duration": 46,
    "start_time": "2022-01-19T09:01:03.683Z"
   },
   {
    "duration": 12,
    "start_time": "2022-01-19T09:01:03.732Z"
   },
   {
    "duration": 8,
    "start_time": "2022-01-19T09:01:03.750Z"
   },
   {
    "duration": 6,
    "start_time": "2022-01-19T09:01:03.761Z"
   },
   {
    "duration": 22,
    "start_time": "2022-01-19T09:01:03.770Z"
   },
   {
    "duration": 35,
    "start_time": "2022-01-19T09:01:03.794Z"
   },
   {
    "duration": 15,
    "start_time": "2022-01-19T09:01:03.832Z"
   },
   {
    "duration": 11,
    "start_time": "2022-01-19T09:01:03.850Z"
   },
   {
    "duration": 10,
    "start_time": "2022-01-19T09:01:03.863Z"
   },
   {
    "duration": 11,
    "start_time": "2022-01-19T09:01:03.875Z"
   },
   {
    "duration": 22,
    "start_time": "2022-01-19T09:01:03.887Z"
   },
   {
    "duration": 5,
    "start_time": "2022-01-19T09:01:03.925Z"
   },
   {
    "duration": 23,
    "start_time": "2022-01-19T09:01:03.934Z"
   },
   {
    "duration": 12,
    "start_time": "2022-01-19T09:01:03.959Z"
   },
   {
    "duration": 17,
    "start_time": "2022-01-19T09:01:03.974Z"
   },
   {
    "duration": 50,
    "start_time": "2022-01-19T09:01:03.994Z"
   },
   {
    "duration": 92,
    "start_time": "2022-01-19T09:01:04.049Z"
   },
   {
    "duration": 12,
    "start_time": "2022-01-19T09:01:04.143Z"
   },
   {
    "duration": 13,
    "start_time": "2022-01-19T09:01:04.158Z"
   },
   {
    "duration": 7,
    "start_time": "2022-01-19T09:01:04.174Z"
   },
   {
    "duration": 335,
    "start_time": "2022-01-19T09:02:37.773Z"
   },
   {
    "duration": 309,
    "start_time": "2022-01-19T09:02:46.814Z"
   },
   {
    "duration": 6,
    "start_time": "2022-01-19T09:02:55.108Z"
   },
   {
    "duration": 6,
    "start_time": "2022-01-19T09:03:03.310Z"
   },
   {
    "duration": 339,
    "start_time": "2022-01-19T09:03:10.318Z"
   },
   {
    "duration": 344,
    "start_time": "2022-01-19T09:03:30.057Z"
   },
   {
    "duration": 342,
    "start_time": "2022-01-19T09:03:39.936Z"
   },
   {
    "duration": 340,
    "start_time": "2022-01-19T09:03:44.171Z"
   },
   {
    "duration": 346,
    "start_time": "2022-01-19T09:03:53.335Z"
   },
   {
    "duration": 5,
    "start_time": "2022-01-19T09:04:43.441Z"
   },
   {
    "duration": 17,
    "start_time": "2022-01-19T09:04:48.690Z"
   },
   {
    "duration": 5,
    "start_time": "2022-01-19T09:12:25.924Z"
   },
   {
    "duration": 4,
    "start_time": "2022-01-19T09:12:37.619Z"
   },
   {
    "duration": 4,
    "start_time": "2022-01-19T09:12:42.923Z"
   },
   {
    "duration": 566,
    "start_time": "2022-01-19T09:12:52.608Z"
   },
   {
    "duration": 4,
    "start_time": "2022-01-19T09:13:00.345Z"
   },
   {
    "duration": 5,
    "start_time": "2022-01-19T09:13:11.916Z"
   },
   {
    "duration": 4,
    "start_time": "2022-01-19T09:13:12.394Z"
   },
   {
    "duration": 6,
    "start_time": "2022-01-19T09:13:12.844Z"
   },
   {
    "duration": 6,
    "start_time": "2022-01-19T09:13:15.784Z"
   },
   {
    "duration": 5,
    "start_time": "2022-01-19T09:15:42.863Z"
   },
   {
    "duration": 4,
    "start_time": "2022-01-19T09:15:43.606Z"
   },
   {
    "duration": 7,
    "start_time": "2022-01-19T09:15:44.082Z"
   },
   {
    "duration": 6,
    "start_time": "2022-01-19T09:15:44.807Z"
   },
   {
    "duration": 7,
    "start_time": "2022-01-19T09:16:35.032Z"
   },
   {
    "duration": 5,
    "start_time": "2022-01-19T09:16:35.464Z"
   },
   {
    "duration": 22,
    "start_time": "2022-01-19T09:16:35.972Z"
   },
   {
    "duration": 595,
    "start_time": "2022-01-19T09:16:38.724Z"
   },
   {
    "duration": 114,
    "start_time": "2022-01-19T09:17:08.591Z"
   },
   {
    "duration": 4,
    "start_time": "2022-01-19T09:17:08.943Z"
   },
   {
    "duration": 5,
    "start_time": "2022-01-19T09:17:33.026Z"
   },
   {
    "duration": 5,
    "start_time": "2022-01-19T09:17:35.745Z"
   },
   {
    "duration": 5,
    "start_time": "2022-01-19T09:17:36.215Z"
   },
   {
    "duration": 17,
    "start_time": "2022-01-19T09:17:36.802Z"
   },
   {
    "duration": 8,
    "start_time": "2022-01-19T09:19:28.396Z"
   },
   {
    "duration": 7,
    "start_time": "2022-01-19T09:19:31.790Z"
   },
   {
    "duration": 7,
    "start_time": "2022-01-19T09:19:32.126Z"
   },
   {
    "duration": 334,
    "start_time": "2022-01-19T09:20:34.696Z"
   },
   {
    "duration": 6,
    "start_time": "2022-01-19T09:20:42.791Z"
   },
   {
    "duration": 5,
    "start_time": "2022-01-19T09:20:43.154Z"
   },
   {
    "duration": 17,
    "start_time": "2022-01-19T09:20:49.035Z"
   },
   {
    "duration": 8,
    "start_time": "2022-01-19T09:21:10.761Z"
   },
   {
    "duration": 9,
    "start_time": "2022-01-19T09:21:26.352Z"
   },
   {
    "duration": 8,
    "start_time": "2022-01-19T09:21:26.820Z"
   },
   {
    "duration": 5,
    "start_time": "2022-01-19T09:24:33.370Z"
   },
   {
    "duration": 17,
    "start_time": "2022-01-19T09:24:33.389Z"
   },
   {
    "duration": 15,
    "start_time": "2022-01-19T09:24:33.409Z"
   },
   {
    "duration": 16,
    "start_time": "2022-01-19T09:24:33.427Z"
   },
   {
    "duration": 36,
    "start_time": "2022-01-19T09:24:33.446Z"
   },
   {
    "duration": 38,
    "start_time": "2022-01-19T09:24:33.485Z"
   },
   {
    "duration": 11,
    "start_time": "2022-01-19T09:24:33.526Z"
   },
   {
    "duration": 13,
    "start_time": "2022-01-19T09:24:33.540Z"
   },
   {
    "duration": 11,
    "start_time": "2022-01-19T09:24:33.556Z"
   },
   {
    "duration": 5,
    "start_time": "2022-01-19T09:24:33.624Z"
   },
   {
    "duration": 9,
    "start_time": "2022-01-19T09:24:33.634Z"
   },
   {
    "duration": 8,
    "start_time": "2022-01-19T09:24:33.646Z"
   },
   {
    "duration": 8,
    "start_time": "2022-01-19T09:24:33.657Z"
   },
   {
    "duration": 13,
    "start_time": "2022-01-19T09:24:33.668Z"
   },
   {
    "duration": 10,
    "start_time": "2022-01-19T09:24:33.683Z"
   },
   {
    "duration": 6,
    "start_time": "2022-01-19T09:24:33.724Z"
   },
   {
    "duration": 9,
    "start_time": "2022-01-19T09:24:33.733Z"
   },
   {
    "duration": 13,
    "start_time": "2022-01-19T09:24:33.745Z"
   },
   {
    "duration": 4,
    "start_time": "2022-01-19T09:24:33.761Z"
   },
   {
    "duration": 10,
    "start_time": "2022-01-19T09:24:33.767Z"
   },
   {
    "duration": 45,
    "start_time": "2022-01-19T09:24:33.780Z"
   },
   {
    "duration": 15,
    "start_time": "2022-01-19T09:24:33.828Z"
   },
   {
    "duration": 79,
    "start_time": "2022-01-19T09:24:33.845Z"
   },
   {
    "duration": 97,
    "start_time": "2022-01-19T09:24:33.928Z"
   },
   {
    "duration": 6,
    "start_time": "2022-01-19T09:24:34.028Z"
   },
   {
    "duration": 22,
    "start_time": "2022-01-19T09:24:34.037Z"
   },
   {
    "duration": 12,
    "start_time": "2022-01-19T09:24:34.062Z"
   },
   {
    "duration": 44,
    "start_time": "2022-01-19T09:24:34.079Z"
   },
   {
    "duration": 7,
    "start_time": "2022-01-19T09:24:34.126Z"
   },
   {
    "duration": 6,
    "start_time": "2022-01-19T09:24:34.136Z"
   },
   {
    "duration": 10,
    "start_time": "2022-01-19T09:24:34.144Z"
   },
   {
    "duration": 14,
    "start_time": "2022-01-19T09:24:34.156Z"
   },
   {
    "duration": 10,
    "start_time": "2022-01-19T09:24:34.172Z"
   },
   {
    "duration": 39,
    "start_time": "2022-01-19T09:24:34.184Z"
   },
   {
    "duration": 5,
    "start_time": "2022-01-19T09:24:58.673Z"
   },
   {
    "duration": 17,
    "start_time": "2022-01-19T09:24:58.694Z"
   },
   {
    "duration": 11,
    "start_time": "2022-01-19T09:24:58.714Z"
   },
   {
    "duration": 12,
    "start_time": "2022-01-19T09:24:58.728Z"
   },
   {
    "duration": 44,
    "start_time": "2022-01-19T09:24:58.744Z"
   },
   {
    "duration": 44,
    "start_time": "2022-01-19T09:24:58.792Z"
   },
   {
    "duration": 10,
    "start_time": "2022-01-19T09:24:58.839Z"
   },
   {
    "duration": 10,
    "start_time": "2022-01-19T09:24:58.852Z"
   },
   {
    "duration": 60,
    "start_time": "2022-01-19T09:24:58.865Z"
   },
   {
    "duration": 4,
    "start_time": "2022-01-19T09:24:58.931Z"
   },
   {
    "duration": 6,
    "start_time": "2022-01-19T09:24:58.939Z"
   },
   {
    "duration": 7,
    "start_time": "2022-01-19T09:24:58.948Z"
   },
   {
    "duration": 9,
    "start_time": "2022-01-19T09:24:58.958Z"
   },
   {
    "duration": 55,
    "start_time": "2022-01-19T09:24:58.970Z"
   },
   {
    "duration": 7,
    "start_time": "2022-01-19T09:24:59.027Z"
   },
   {
    "duration": 5,
    "start_time": "2022-01-19T09:24:59.037Z"
   },
   {
    "duration": 6,
    "start_time": "2022-01-19T09:24:59.044Z"
   },
   {
    "duration": 10,
    "start_time": "2022-01-19T09:24:59.052Z"
   },
   {
    "duration": 3,
    "start_time": "2022-01-19T09:24:59.065Z"
   },
   {
    "duration": 60,
    "start_time": "2022-01-19T09:24:59.071Z"
   },
   {
    "duration": 11,
    "start_time": "2022-01-19T09:24:59.134Z"
   },
   {
    "duration": 14,
    "start_time": "2022-01-19T09:24:59.148Z"
   },
   {
    "duration": 6,
    "start_time": "2022-01-19T09:24:59.224Z"
   },
   {
    "duration": 105,
    "start_time": "2022-01-19T09:24:59.232Z"
   },
   {
    "duration": 6,
    "start_time": "2022-01-19T09:24:59.340Z"
   },
   {
    "duration": 19,
    "start_time": "2022-01-19T09:24:59.349Z"
   },
   {
    "duration": 5,
    "start_time": "2022-01-19T09:24:59.371Z"
   },
   {
    "duration": 43,
    "start_time": "2022-01-19T09:24:59.381Z"
   },
   {
    "duration": 8,
    "start_time": "2022-01-19T09:24:59.426Z"
   },
   {
    "duration": 10,
    "start_time": "2022-01-19T09:24:59.437Z"
   },
   {
    "duration": 9,
    "start_time": "2022-01-19T09:24:59.450Z"
   },
   {
    "duration": 4,
    "start_time": "2022-01-19T09:25:25.809Z"
   },
   {
    "duration": 18,
    "start_time": "2022-01-19T09:25:25.829Z"
   },
   {
    "duration": 16,
    "start_time": "2022-01-19T09:25:25.849Z"
   },
   {
    "duration": 11,
    "start_time": "2022-01-19T09:25:25.869Z"
   },
   {
    "duration": 78,
    "start_time": "2022-01-19T09:25:25.884Z"
   },
   {
    "duration": 17,
    "start_time": "2022-01-19T09:25:25.965Z"
   },
   {
    "duration": 38,
    "start_time": "2022-01-19T09:25:25.985Z"
   },
   {
    "duration": 12,
    "start_time": "2022-01-19T09:25:26.027Z"
   },
   {
    "duration": 12,
    "start_time": "2022-01-19T09:25:26.041Z"
   },
   {
    "duration": 5,
    "start_time": "2022-01-19T09:25:26.057Z"
   },
   {
    "duration": 6,
    "start_time": "2022-01-19T09:25:26.064Z"
   },
   {
    "duration": 50,
    "start_time": "2022-01-19T09:25:26.073Z"
   },
   {
    "duration": 8,
    "start_time": "2022-01-19T09:25:26.126Z"
   },
   {
    "duration": 11,
    "start_time": "2022-01-19T09:25:26.137Z"
   },
   {
    "duration": 9,
    "start_time": "2022-01-19T09:25:26.151Z"
   },
   {
    "duration": 6,
    "start_time": "2022-01-19T09:25:26.163Z"
   },
   {
    "duration": 53,
    "start_time": "2022-01-19T09:25:26.172Z"
   },
   {
    "duration": 13,
    "start_time": "2022-01-19T09:25:26.228Z"
   },
   {
    "duration": 6,
    "start_time": "2022-01-19T09:25:26.244Z"
   },
   {
    "duration": 10,
    "start_time": "2022-01-19T09:25:26.253Z"
   },
   {
    "duration": 10,
    "start_time": "2022-01-19T09:25:26.266Z"
   },
   {
    "duration": 47,
    "start_time": "2022-01-19T09:25:26.278Z"
   },
   {
    "duration": 9,
    "start_time": "2022-01-19T09:25:26.328Z"
   },
   {
    "duration": 8,
    "start_time": "2022-01-19T09:25:36.719Z"
   },
   {
    "duration": 8,
    "start_time": "2022-01-19T09:25:41.200Z"
   },
   {
    "duration": 5,
    "start_time": "2022-01-19T09:25:57.673Z"
   },
   {
    "duration": 16,
    "start_time": "2022-01-19T09:25:57.691Z"
   },
   {
    "duration": 12,
    "start_time": "2022-01-19T09:25:57.710Z"
   },
   {
    "duration": 9,
    "start_time": "2022-01-19T09:25:57.726Z"
   },
   {
    "duration": 42,
    "start_time": "2022-01-19T09:25:57.737Z"
   },
   {
    "duration": 44,
    "start_time": "2022-01-19T09:25:57.781Z"
   },
   {
    "duration": 10,
    "start_time": "2022-01-19T09:25:57.828Z"
   },
   {
    "duration": 11,
    "start_time": "2022-01-19T09:25:57.840Z"
   },
   {
    "duration": 10,
    "start_time": "2022-01-19T09:25:57.854Z"
   },
   {
    "duration": 5,
    "start_time": "2022-01-19T09:25:57.869Z"
   },
   {
    "duration": 5,
    "start_time": "2022-01-19T09:25:57.925Z"
   },
   {
    "duration": 8,
    "start_time": "2022-01-19T09:25:57.933Z"
   },
   {
    "duration": 8,
    "start_time": "2022-01-19T09:25:57.944Z"
   },
   {
    "duration": 6,
    "start_time": "2022-01-19T09:25:57.955Z"
   },
   {
    "duration": 4,
    "start_time": "2022-01-19T09:25:57.964Z"
   },
   {
    "duration": 6,
    "start_time": "2022-01-19T09:25:57.971Z"
   },
   {
    "duration": 7,
    "start_time": "2022-01-19T09:25:58.024Z"
   },
   {
    "duration": 13,
    "start_time": "2022-01-19T09:25:58.034Z"
   },
   {
    "duration": 5,
    "start_time": "2022-01-19T09:25:58.049Z"
   },
   {
    "duration": 7,
    "start_time": "2022-01-19T09:25:58.057Z"
   },
   {
    "duration": 13,
    "start_time": "2022-01-19T09:25:58.066Z"
   },
   {
    "duration": 48,
    "start_time": "2022-01-19T09:25:58.081Z"
   },
   {
    "duration": 7,
    "start_time": "2022-01-19T09:25:58.132Z"
   },
   {
    "duration": 115,
    "start_time": "2022-01-19T09:27:34.811Z"
   },
   {
    "duration": 345,
    "start_time": "2022-01-19T09:27:37.782Z"
   },
   {
    "duration": 7,
    "start_time": "2022-01-19T09:27:42.772Z"
   },
   {
    "duration": 9,
    "start_time": "2022-01-19T09:27:42.923Z"
   },
   {
    "duration": 7,
    "start_time": "2022-01-19T09:27:43.047Z"
   },
   {
    "duration": 8,
    "start_time": "2022-01-19T09:28:01.197Z"
   },
   {
    "duration": 146,
    "start_time": "2022-01-19T09:31:16.635Z"
   },
   {
    "duration": 115,
    "start_time": "2022-01-19T09:31:38.038Z"
   },
   {
    "duration": 157,
    "start_time": "2022-01-19T09:32:01.304Z"
   },
   {
    "duration": 7,
    "start_time": "2022-01-19T09:33:17.334Z"
   },
   {
    "duration": 4,
    "start_time": "2022-01-19T09:33:29.447Z"
   },
   {
    "duration": 8,
    "start_time": "2022-01-19T09:33:34.718Z"
   },
   {
    "duration": 6,
    "start_time": "2022-01-19T09:33:59.344Z"
   },
   {
    "duration": 4,
    "start_time": "2022-01-19T09:34:06.696Z"
   },
   {
    "duration": 5,
    "start_time": "2022-01-19T09:34:15.495Z"
   },
   {
    "duration": 8,
    "start_time": "2022-01-19T09:34:16.728Z"
   },
   {
    "duration": 5,
    "start_time": "2022-01-19T09:34:59.883Z"
   },
   {
    "duration": 9,
    "start_time": "2022-01-19T09:35:00.440Z"
   },
   {
    "duration": 6,
    "start_time": "2022-01-19T09:35:30.094Z"
   },
   {
    "duration": 6,
    "start_time": "2022-01-19T09:35:36.237Z"
   },
   {
    "duration": 6,
    "start_time": "2022-01-19T09:35:49.591Z"
   },
   {
    "duration": 17,
    "start_time": "2022-01-19T09:36:40.331Z"
   },
   {
    "duration": 13,
    "start_time": "2022-01-19T09:36:45.668Z"
   },
   {
    "duration": 22,
    "start_time": "2022-01-19T09:36:47.886Z"
   },
   {
    "duration": 1521,
    "start_time": "2022-01-19T09:40:09.589Z"
   },
   {
    "duration": 18,
    "start_time": "2022-01-19T09:40:11.113Z"
   },
   {
    "duration": 16,
    "start_time": "2022-01-19T09:40:11.134Z"
   },
   {
    "duration": 9,
    "start_time": "2022-01-19T09:40:11.153Z"
   },
   {
    "duration": 73,
    "start_time": "2022-01-19T09:40:11.165Z"
   },
   {
    "duration": 15,
    "start_time": "2022-01-19T09:40:11.241Z"
   },
   {
    "duration": 12,
    "start_time": "2022-01-19T09:40:11.259Z"
   },
   {
    "duration": 11,
    "start_time": "2022-01-19T09:40:11.275Z"
   },
   {
    "duration": 44,
    "start_time": "2022-01-19T09:40:11.289Z"
   },
   {
    "duration": 5,
    "start_time": "2022-01-19T09:40:11.336Z"
   },
   {
    "duration": 6,
    "start_time": "2022-01-19T09:40:11.344Z"
   },
   {
    "duration": 7,
    "start_time": "2022-01-19T09:40:11.353Z"
   },
   {
    "duration": 9,
    "start_time": "2022-01-19T09:40:11.363Z"
   },
   {
    "duration": 6,
    "start_time": "2022-01-19T09:40:11.374Z"
   },
   {
    "duration": 7,
    "start_time": "2022-01-19T09:40:11.424Z"
   },
   {
    "duration": 6,
    "start_time": "2022-01-19T09:40:11.434Z"
   },
   {
    "duration": 11,
    "start_time": "2022-01-19T09:40:11.443Z"
   },
   {
    "duration": 14,
    "start_time": "2022-01-19T09:40:11.457Z"
   },
   {
    "duration": 53,
    "start_time": "2022-01-19T09:40:11.473Z"
   },
   {
    "duration": 7,
    "start_time": "2022-01-19T09:40:11.529Z"
   },
   {
    "duration": 8,
    "start_time": "2022-01-19T09:40:11.539Z"
   },
   {
    "duration": 17,
    "start_time": "2022-01-19T09:40:11.550Z"
   },
   {
    "duration": 7,
    "start_time": "2022-01-19T09:40:11.571Z"
   },
   {
    "duration": 10,
    "start_time": "2022-01-19T09:40:11.624Z"
   },
   {
    "duration": 7,
    "start_time": "2022-01-19T09:40:11.636Z"
   },
   {
    "duration": 5,
    "start_time": "2022-01-19T09:40:11.646Z"
   },
   {
    "duration": 6,
    "start_time": "2022-01-19T09:40:11.654Z"
   },
   {
    "duration": 11,
    "start_time": "2022-01-19T09:40:11.662Z"
   },
   {
    "duration": 1087,
    "start_time": "2022-01-19T11:22:54.751Z"
   },
   {
    "duration": 40,
    "start_time": "2022-01-19T11:22:55.887Z"
   },
   {
    "duration": 11,
    "start_time": "2022-01-19T11:22:56.504Z"
   },
   {
    "duration": 7,
    "start_time": "2022-01-19T11:22:56.685Z"
   },
   {
    "duration": 22,
    "start_time": "2022-01-19T11:22:57.057Z"
   },
   {
    "duration": 10,
    "start_time": "2022-01-19T11:22:57.507Z"
   },
   {
    "duration": 6,
    "start_time": "2022-01-19T11:22:58.502Z"
   },
   {
    "duration": 7,
    "start_time": "2022-01-19T11:23:00.667Z"
   },
   {
    "duration": 7,
    "start_time": "2022-01-19T11:23:03.087Z"
   },
   {
    "duration": 4,
    "start_time": "2022-01-19T11:23:04.054Z"
   },
   {
    "duration": 4,
    "start_time": "2022-01-19T11:23:04.345Z"
   },
   {
    "duration": 5,
    "start_time": "2022-01-19T11:24:12.447Z"
   },
   {
    "duration": 6,
    "start_time": "2022-01-19T11:24:12.972Z"
   },
   {
    "duration": 4,
    "start_time": "2022-01-19T11:24:13.139Z"
   },
   {
    "duration": 4,
    "start_time": "2022-01-19T11:24:13.367Z"
   },
   {
    "duration": 3,
    "start_time": "2022-01-19T11:24:14.332Z"
   },
   {
    "duration": 13,
    "start_time": "2022-01-19T11:24:14.337Z"
   },
   {
    "duration": 8,
    "start_time": "2022-01-19T11:38:12.381Z"
   },
   {
    "duration": 4,
    "start_time": "2022-01-19T11:38:13.058Z"
   },
   {
    "duration": 3,
    "start_time": "2022-01-19T11:38:30.960Z"
   },
   {
    "duration": 5,
    "start_time": "2022-01-19T11:38:31.750Z"
   },
   {
    "duration": 13,
    "start_time": "2022-01-19T11:38:33.460Z"
   },
   {
    "duration": 6,
    "start_time": "2022-01-19T11:38:35.153Z"
   },
   {
    "duration": 7,
    "start_time": "2022-01-19T11:38:35.475Z"
   },
   {
    "duration": 6,
    "start_time": "2022-01-19T11:38:35.632Z"
   },
   {
    "duration": 5,
    "start_time": "2022-01-19T11:38:35.799Z"
   },
   {
    "duration": 4,
    "start_time": "2022-01-19T11:38:36.493Z"
   },
   {
    "duration": 7,
    "start_time": "2022-01-19T11:38:36.682Z"
   },
   {
    "duration": 1520,
    "start_time": "2022-01-21T09:29:33.246Z"
   },
   {
    "duration": 50,
    "start_time": "2022-01-21T09:29:34.769Z"
   },
   {
    "duration": 16,
    "start_time": "2022-01-21T09:29:34.823Z"
   },
   {
    "duration": 10,
    "start_time": "2022-01-21T09:29:34.842Z"
   },
   {
    "duration": 38,
    "start_time": "2022-01-21T09:29:34.854Z"
   },
   {
    "duration": 11,
    "start_time": "2022-01-21T09:29:34.894Z"
   },
   {
    "duration": 9,
    "start_time": "2022-01-21T09:29:34.933Z"
   },
   {
    "duration": 10,
    "start_time": "2022-01-21T09:29:34.947Z"
   },
   {
    "duration": 11,
    "start_time": "2022-01-21T09:29:34.961Z"
   },
   {
    "duration": 9,
    "start_time": "2022-01-21T09:29:34.975Z"
   },
   {
    "duration": 5,
    "start_time": "2022-01-21T09:29:35.034Z"
   },
   {
    "duration": 13,
    "start_time": "2022-01-21T09:29:35.041Z"
   },
   {
    "duration": 8,
    "start_time": "2022-01-21T09:29:35.056Z"
   },
   {
    "duration": 17,
    "start_time": "2022-01-21T09:29:35.066Z"
   },
   {
    "duration": 14,
    "start_time": "2022-01-21T09:29:35.085Z"
   },
   {
    "duration": 33,
    "start_time": "2022-01-21T09:29:35.101Z"
   },
   {
    "duration": 12,
    "start_time": "2022-01-21T09:29:35.136Z"
   },
   {
    "duration": 12,
    "start_time": "2022-01-21T09:29:35.151Z"
   },
   {
    "duration": 5,
    "start_time": "2022-01-21T09:29:35.165Z"
   },
   {
    "duration": 5,
    "start_time": "2022-01-21T09:29:35.173Z"
   },
   {
    "duration": 16,
    "start_time": "2022-01-21T09:29:35.181Z"
   },
   {
    "duration": 17,
    "start_time": "2022-01-21T09:29:35.233Z"
   },
   {
    "duration": 8,
    "start_time": "2022-01-21T09:29:35.255Z"
   },
   {
    "duration": 15,
    "start_time": "2022-01-21T09:29:35.265Z"
   },
   {
    "duration": 9,
    "start_time": "2022-01-21T09:29:35.282Z"
   },
   {
    "duration": 41,
    "start_time": "2022-01-21T09:29:35.293Z"
   },
   {
    "duration": 7,
    "start_time": "2022-01-21T09:29:35.336Z"
   },
   {
    "duration": 12,
    "start_time": "2022-01-21T09:29:35.345Z"
   },
   {
    "duration": 1356,
    "start_time": "2022-01-21T09:29:46.483Z"
   },
   {
    "duration": 18,
    "start_time": "2022-01-21T09:29:47.841Z"
   },
   {
    "duration": 16,
    "start_time": "2022-01-21T09:29:47.862Z"
   },
   {
    "duration": 9,
    "start_time": "2022-01-21T09:29:47.881Z"
   },
   {
    "duration": 58,
    "start_time": "2022-01-21T09:29:47.892Z"
   },
   {
    "duration": 12,
    "start_time": "2022-01-21T09:29:47.952Z"
   },
   {
    "duration": 10,
    "start_time": "2022-01-21T09:29:47.966Z"
   },
   {
    "duration": 9,
    "start_time": "2022-01-21T09:29:47.980Z"
   },
   {
    "duration": 44,
    "start_time": "2022-01-21T09:29:47.992Z"
   },
   {
    "duration": 6,
    "start_time": "2022-01-21T09:29:48.038Z"
   },
   {
    "duration": 11,
    "start_time": "2022-01-21T09:29:48.046Z"
   },
   {
    "duration": 9,
    "start_time": "2022-01-21T09:29:48.060Z"
   },
   {
    "duration": 7,
    "start_time": "2022-01-21T09:29:48.071Z"
   },
   {
    "duration": 7,
    "start_time": "2022-01-21T09:29:48.080Z"
   },
   {
    "duration": 43,
    "start_time": "2022-01-21T09:29:48.089Z"
   },
   {
    "duration": 5,
    "start_time": "2022-01-21T09:29:48.134Z"
   },
   {
    "duration": 15,
    "start_time": "2022-01-21T09:29:48.141Z"
   },
   {
    "duration": 12,
    "start_time": "2022-01-21T09:29:48.159Z"
   },
   {
    "duration": 6,
    "start_time": "2022-01-21T09:29:48.173Z"
   },
   {
    "duration": 18,
    "start_time": "2022-01-21T09:29:48.181Z"
   },
   {
    "duration": 32,
    "start_time": "2022-01-21T09:29:48.201Z"
   },
   {
    "duration": 26,
    "start_time": "2022-01-21T09:29:48.236Z"
   },
   {
    "duration": 16,
    "start_time": "2022-01-21T09:29:48.266Z"
   },
   {
    "duration": 19,
    "start_time": "2022-01-21T09:29:48.284Z"
   },
   {
    "duration": 16,
    "start_time": "2022-01-21T09:29:48.305Z"
   },
   {
    "duration": 46,
    "start_time": "2022-01-21T09:29:48.323Z"
   },
   {
    "duration": 19,
    "start_time": "2022-01-21T09:29:48.372Z"
   },
   {
    "duration": 16,
    "start_time": "2022-01-21T09:29:48.393Z"
   }
  ],
  "kernelspec": {
   "display_name": "Python 3 (ipykernel)",
   "language": "python",
   "name": "python3"
  },
  "language_info": {
   "codemirror_mode": {
    "name": "ipython",
    "version": 3
   },
   "file_extension": ".py",
   "mimetype": "text/x-python",
   "name": "python",
   "nbconvert_exporter": "python",
   "pygments_lexer": "ipython3",
   "version": "3.8.0"
  },
  "toc": {
   "base_numbering": 1,
   "nav_menu": {},
   "number_sections": true,
   "sideBar": true,
   "skip_h1_title": true,
   "title_cell": "Содержание",
   "title_sidebar": "Contents",
   "toc_cell": true,
   "toc_position": {
    "height": "calc(100% - 180px)",
    "left": "10px",
    "top": "150px",
    "width": "176px"
   },
   "toc_section_display": true,
   "toc_window_display": true
  }
 },
 "nbformat": 4,
 "nbformat_minor": 2
}
