{
 "cells": [
  {
   "cell_type": "markdown",
   "metadata": {},
   "source": [
    "# Проект \"Рынок заведений общественного питания Москвы\""
   ]
  },
  {
   "cell_type": "markdown",
   "metadata": {},
   "source": [
    "Вы решили открыть небольшое кафе в Москве. Оно оригинальное — гостей должны обслуживать роботы. Проект многообещающий, но дорогой. Вместе с партнёрами вы решились обратиться к инвесторам. Их интересует текущее положение дел на рынке — сможете ли вы снискать популярность на долгое время, когда все зеваки насмотрятся на роботов-официантов?\n",
    "Вы — гуру аналитики, и партнёры просят вас подготовить исследование рынка. У вас есть открытые данные о заведениях общественного питания в Москве."
   ]
  },
  {
   "cell_type": "markdown",
   "metadata": {},
   "source": [
    "# Оглавление \n",
    "1. [Загрузка и проверка данных](#загрузка)\n",
    "2. [Анализ данных](#анализ)\n",
    "    * [Cоотношение видов объектов общественного питания по количеству](#2.1)\n",
    "    * [Соотношение сетевых и несетевых заведений по количеству](#2.2)\n",
    "    * [Вид объекта общественного питания, которому характерно сетевое распространение](#2.3)\n",
    "    * [ Что характерно для сетевых заведений: много заведений с небольшим числом посадочных мест в каждом или мало заведений с большим количеством посадочных мест?](#2.4)\n",
    "    * [Среднее кол-во посадочных мест для каждого типа заведения](#2.5)\n",
    "    * [Информация об улице](#2.6)\n",
    "    * [Топ-10 улиц по количеству объектов общественного питания](#2.7)\n",
    "    * [Число улиц с одним объектом общественного питания](#2.8)\n",
    "    * [Распределение количества посадочных мест для улиц с большим количеством объектов общественного питания](#2.9)  \n",
    "3. [Общий вывод](#общийвывод)\n",
    "    * [Выводы по исследованию](#вывод)\n",
    "    * [Рекомендации по исследованию](#рекомендации)\n",
    "    * [Презентация](#презентация)"
   ]
  },
  {
   "cell_type": "markdown",
   "metadata": {},
   "source": [
    "## Загрузка и проверка данных \n",
    "<a id=\"загрузка\"></a> "
   ]
  },
  {
   "cell_type": "markdown",
   "metadata": {},
   "source": [
    "Импортируем нужные библиотеки:"
   ]
  },
  {
   "cell_type": "code",
   "execution_count": 1,
   "metadata": {},
   "outputs": [],
   "source": [
    "import pandas as pd\n",
    "import matplotlib.pyplot as plt\n",
    "import numpy as np\n",
    "import seaborn as sns\n",
    "import plotly as px\n",
    "pd.set_option('display.max_columns', None)\n",
    "pd.set_option('display.max_colwidth', None)"
   ]
  },
  {
   "cell_type": "markdown",
   "metadata": {},
   "source": [
    "Загрузим датасет"
   ]
  },
  {
   "cell_type": "code",
   "execution_count": 2,
   "metadata": {},
   "outputs": [],
   "source": [
    "df = pd.read_csv('/datasets/rest_data.csv')"
   ]
  },
  {
   "cell_type": "markdown",
   "metadata": {},
   "source": [
    "Изучим датасет детальнее:"
   ]
  },
  {
   "cell_type": "code",
   "execution_count": 3,
   "metadata": {},
   "outputs": [
    {
     "data": {
      "text/html": [
       "<div>\n",
       "<style scoped>\n",
       "    .dataframe tbody tr th:only-of-type {\n",
       "        vertical-align: middle;\n",
       "    }\n",
       "\n",
       "    .dataframe tbody tr th {\n",
       "        vertical-align: top;\n",
       "    }\n",
       "\n",
       "    .dataframe thead th {\n",
       "        text-align: right;\n",
       "    }\n",
       "</style>\n",
       "<table border=\"1\" class=\"dataframe\">\n",
       "  <thead>\n",
       "    <tr style=\"text-align: right;\">\n",
       "      <th></th>\n",
       "      <th>id</th>\n",
       "      <th>object_name</th>\n",
       "      <th>chain</th>\n",
       "      <th>object_type</th>\n",
       "      <th>address</th>\n",
       "      <th>number</th>\n",
       "    </tr>\n",
       "  </thead>\n",
       "  <tbody>\n",
       "    <tr>\n",
       "      <th>0</th>\n",
       "      <td>151635</td>\n",
       "      <td>СМЕТАНА</td>\n",
       "      <td>нет</td>\n",
       "      <td>кафе</td>\n",
       "      <td>город Москва, улица Егора Абакумова, дом 9</td>\n",
       "      <td>48</td>\n",
       "    </tr>\n",
       "    <tr>\n",
       "      <th>1</th>\n",
       "      <td>77874</td>\n",
       "      <td>Родник</td>\n",
       "      <td>нет</td>\n",
       "      <td>кафе</td>\n",
       "      <td>город Москва, улица Талалихина, дом 2/1, корпус 1</td>\n",
       "      <td>35</td>\n",
       "    </tr>\n",
       "    <tr>\n",
       "      <th>2</th>\n",
       "      <td>24309</td>\n",
       "      <td>Кафе «Академия»</td>\n",
       "      <td>нет</td>\n",
       "      <td>кафе</td>\n",
       "      <td>город Москва, Абельмановская улица, дом 6</td>\n",
       "      <td>95</td>\n",
       "    </tr>\n",
       "    <tr>\n",
       "      <th>3</th>\n",
       "      <td>21894</td>\n",
       "      <td>ПИЦЦЕТОРИЯ</td>\n",
       "      <td>да</td>\n",
       "      <td>кафе</td>\n",
       "      <td>город Москва, Абрамцевская улица, дом 1</td>\n",
       "      <td>40</td>\n",
       "    </tr>\n",
       "    <tr>\n",
       "      <th>4</th>\n",
       "      <td>119365</td>\n",
       "      <td>Кафе «Вишневая метель»</td>\n",
       "      <td>нет</td>\n",
       "      <td>кафе</td>\n",
       "      <td>город Москва, Абрамцевская улица, дом 9, корпус 1</td>\n",
       "      <td>50</td>\n",
       "    </tr>\n",
       "  </tbody>\n",
       "</table>\n",
       "</div>"
      ],
      "text/plain": [
       "       id             object_name chain object_type  \\\n",
       "0  151635                 СМЕТАНА   нет        кафе   \n",
       "1   77874                  Родник   нет        кафе   \n",
       "2   24309         Кафе «Академия»   нет        кафе   \n",
       "3   21894              ПИЦЦЕТОРИЯ    да        кафе   \n",
       "4  119365  Кафе «Вишневая метель»   нет        кафе   \n",
       "\n",
       "                                             address  number  \n",
       "0         город Москва, улица Егора Абакумова, дом 9      48  \n",
       "1  город Москва, улица Талалихина, дом 2/1, корпус 1      35  \n",
       "2          город Москва, Абельмановская улица, дом 6      95  \n",
       "3            город Москва, Абрамцевская улица, дом 1      40  \n",
       "4  город Москва, Абрамцевская улица, дом 9, корпус 1      50  "
      ]
     },
     "execution_count": 3,
     "metadata": {},
     "output_type": "execute_result"
    }
   ],
   "source": [
    "df.head()"
   ]
  },
  {
   "cell_type": "code",
   "execution_count": 4,
   "metadata": {},
   "outputs": [
    {
     "name": "stdout",
     "output_type": "stream",
     "text": [
      "<class 'pandas.core.frame.DataFrame'>\n",
      "RangeIndex: 15366 entries, 0 to 15365\n",
      "Data columns (total 6 columns):\n",
      " #   Column       Non-Null Count  Dtype \n",
      "---  ------       --------------  ----- \n",
      " 0   id           15366 non-null  int64 \n",
      " 1   object_name  15366 non-null  object\n",
      " 2   chain        15366 non-null  object\n",
      " 3   object_type  15366 non-null  object\n",
      " 4   address      15366 non-null  object\n",
      " 5   number       15366 non-null  int64 \n",
      "dtypes: int64(2), object(4)\n",
      "memory usage: 720.4+ KB\n"
     ]
    }
   ],
   "source": [
    "df.info()"
   ]
  },
  {
   "cell_type": "code",
   "execution_count": 5,
   "metadata": {},
   "outputs": [
    {
     "data": {
      "text/html": [
       "<div>\n",
       "<style scoped>\n",
       "    .dataframe tbody tr th:only-of-type {\n",
       "        vertical-align: middle;\n",
       "    }\n",
       "\n",
       "    .dataframe tbody tr th {\n",
       "        vertical-align: top;\n",
       "    }\n",
       "\n",
       "    .dataframe thead th {\n",
       "        text-align: right;\n",
       "    }\n",
       "</style>\n",
       "<table border=\"1\" class=\"dataframe\">\n",
       "  <thead>\n",
       "    <tr style=\"text-align: right;\">\n",
       "      <th></th>\n",
       "      <th>id</th>\n",
       "      <th>object_name</th>\n",
       "      <th>chain</th>\n",
       "      <th>object_type</th>\n",
       "      <th>address</th>\n",
       "      <th>number</th>\n",
       "    </tr>\n",
       "  </thead>\n",
       "  <tbody>\n",
       "    <tr>\n",
       "      <th>13046</th>\n",
       "      <td>199941</td>\n",
       "      <td>Oh My Pho</td>\n",
       "      <td>нет</td>\n",
       "      <td>предприятие быстрого обслуживания</td>\n",
       "      <td>город Москва, Дмитровское шоссе, дом 89</td>\n",
       "      <td>40</td>\n",
       "    </tr>\n",
       "  </tbody>\n",
       "</table>\n",
       "</div>"
      ],
      "text/plain": [
       "           id object_name chain                        object_type  \\\n",
       "13046  199941   Oh My Pho   нет  предприятие быстрого обслуживания   \n",
       "\n",
       "                                       address  number  \n",
       "13046  город Москва, Дмитровское шоссе, дом 89      40  "
      ]
     },
     "execution_count": 5,
     "metadata": {},
     "output_type": "execute_result"
    }
   ],
   "source": [
    "df.sample()"
   ]
  },
  {
   "cell_type": "code",
   "execution_count": 6,
   "metadata": {},
   "outputs": [
    {
     "data": {
      "text/html": [
       "<div>\n",
       "<style scoped>\n",
       "    .dataframe tbody tr th:only-of-type {\n",
       "        vertical-align: middle;\n",
       "    }\n",
       "\n",
       "    .dataframe tbody tr th {\n",
       "        vertical-align: top;\n",
       "    }\n",
       "\n",
       "    .dataframe thead th {\n",
       "        text-align: right;\n",
       "    }\n",
       "</style>\n",
       "<table border=\"1\" class=\"dataframe\">\n",
       "  <thead>\n",
       "    <tr style=\"text-align: right;\">\n",
       "      <th></th>\n",
       "      <th>count</th>\n",
       "      <th>mean</th>\n",
       "      <th>std</th>\n",
       "      <th>min</th>\n",
       "      <th>25%</th>\n",
       "      <th>50%</th>\n",
       "      <th>75%</th>\n",
       "      <th>max</th>\n",
       "    </tr>\n",
       "  </thead>\n",
       "  <tbody>\n",
       "    <tr>\n",
       "      <th>id</th>\n",
       "      <td>15366.0</td>\n",
       "      <td>119720.066901</td>\n",
       "      <td>73036.130732</td>\n",
       "      <td>838.0</td>\n",
       "      <td>28524.0</td>\n",
       "      <td>144974.5</td>\n",
       "      <td>184262.25</td>\n",
       "      <td>223439.0</td>\n",
       "    </tr>\n",
       "    <tr>\n",
       "      <th>number</th>\n",
       "      <td>15366.0</td>\n",
       "      <td>59.547182</td>\n",
       "      <td>74.736833</td>\n",
       "      <td>0.0</td>\n",
       "      <td>12.0</td>\n",
       "      <td>40.0</td>\n",
       "      <td>80.00</td>\n",
       "      <td>1700.0</td>\n",
       "    </tr>\n",
       "  </tbody>\n",
       "</table>\n",
       "</div>"
      ],
      "text/plain": [
       "          count           mean           std    min      25%       50%  \\\n",
       "id      15366.0  119720.066901  73036.130732  838.0  28524.0  144974.5   \n",
       "number  15366.0      59.547182     74.736833    0.0     12.0      40.0   \n",
       "\n",
       "              75%       max  \n",
       "id      184262.25  223439.0  \n",
       "number      80.00    1700.0  "
      ]
     },
     "execution_count": 6,
     "metadata": {},
     "output_type": "execute_result"
    }
   ],
   "source": [
    "df.describe().T"
   ]
  },
  {
   "cell_type": "markdown",
   "metadata": {},
   "source": [
    "Проверим наличие дубликатов:"
   ]
  },
  {
   "cell_type": "code",
   "execution_count": 7,
   "metadata": {},
   "outputs": [
    {
     "data": {
      "text/plain": [
       "0"
      ]
     },
     "execution_count": 7,
     "metadata": {},
     "output_type": "execute_result"
    }
   ],
   "source": [
    "df.duplicated().sum()"
   ]
  },
  {
   "cell_type": "markdown",
   "metadata": {},
   "source": [
    "Приведем данные в столбце chain к бинарному, численному виду для удобства вычисления"
   ]
  },
  {
   "cell_type": "code",
   "execution_count": 8,
   "metadata": {},
   "outputs": [],
   "source": [
    "def yes_or_no(row):\n",
    "    chain = row['chain']\n",
    "    if chain == 'нет':\n",
    "        return 0\n",
    "    if chain == 'да':\n",
    "        return 1\n",
    "df['chain'] = df.apply(yes_or_no, axis=1)"
   ]
  },
  {
   "cell_type": "markdown",
   "metadata": {},
   "source": [
    "Также были замечаны дубликаты, по типу \"ресторан \"Якитория\"\" и \"Якитория\" и дубликаты по типу \"теремок\" и \"Теремок\". Попробуем от них избавиться."
   ]
  },
  {
   "cell_type": "code",
   "execution_count": 9,
   "metadata": {},
   "outputs": [],
   "source": [
    "import re\n",
    "#list(df['object_type'].unique())\n",
    "def del_duplicates(row):\n",
    "    name = row['object_name']\n",
    "#    #name1 = ''.join(re.findall(r'«([^<>]+)»', name))\n",
    "    name = (re.sub(r'[«»]', '', name))\n",
    "#    #for i in list(df['object_type'].unique()):\n",
    "#    name = name.lstrip('Кафе').rstrip('')\n",
    "#    name = name.lstrip('ресторан').rstrip('') и т.д.\n",
    "#    #return (re.sub(r'«([^<>]+)»', r'«([^<>]+)»', name))\n",
    "    name = name.replace('кафе ', '')\n",
    "    name = name.replace('столовая ', '')\n",
    "    name = name.replace('закусочная ', '')      \n",
    "    name = name.replace('кафетерий ', '')\n",
    "    name = name.replace('буфет ', '')\n",
    "    name = name.replace('магазин (отдел кулинарии) ', '')  \n",
    "    name = name.replace('бар ', '') \n",
    "    name = name.replace('ресторан ', '')\n",
    "    name = name.replace('Кафе ', '')\n",
    "    name = name.replace('Ресторан ', '')\n",
    "    name = name.replace(' burger king', '')\n",
    "    return name.lower()"
   ]
  },
  {
   "cell_type": "code",
   "execution_count": 10,
   "metadata": {},
   "outputs": [],
   "source": [
    "df['object_name'] = df.apply(del_duplicates, axis=1)"
   ]
  },
  {
   "cell_type": "markdown",
   "metadata": {},
   "source": [
    "**Вывод по загрузке и проверке данных:**\n",
    "- В данных отсутствуют пропуски\n",
    "- Данные приведены к нужному типу, однако столбец с именами объектов нужно переделать."
   ]
  },
  {
   "cell_type": "code",
   "execution_count": 39,
   "metadata": {},
   "outputs": [
    {
     "data": {
      "text/html": [
       "<div>\n",
       "<style scoped>\n",
       "    .dataframe tbody tr th:only-of-type {\n",
       "        vertical-align: middle;\n",
       "    }\n",
       "\n",
       "    .dataframe tbody tr th {\n",
       "        vertical-align: top;\n",
       "    }\n",
       "\n",
       "    .dataframe thead th {\n",
       "        text-align: right;\n",
       "    }\n",
       "</style>\n",
       "<table border=\"1\" class=\"dataframe\">\n",
       "  <thead>\n",
       "    <tr style=\"text-align: right;\">\n",
       "      <th></th>\n",
       "      <th>id</th>\n",
       "      <th>object_name</th>\n",
       "      <th>chain</th>\n",
       "      <th>object_type</th>\n",
       "      <th>address</th>\n",
       "      <th>number</th>\n",
       "      <th>street</th>\n",
       "    </tr>\n",
       "  </thead>\n",
       "  <tbody>\n",
       "    <tr>\n",
       "      <th>113</th>\n",
       "      <td>28608</td>\n",
       "      <td>комбинат питания мгту им.н.э.баумана</td>\n",
       "      <td>0</td>\n",
       "      <td>буфет</td>\n",
       "      <td>город Москва, Бригадирский переулок, дом 3-5</td>\n",
       "      <td>34</td>\n",
       "      <td>Бригадирский переулок</td>\n",
       "    </tr>\n",
       "    <tr>\n",
       "      <th>114</th>\n",
       "      <td>28613</td>\n",
       "      <td>комбинат питания мгту им.н.э.баумана</td>\n",
       "      <td>0</td>\n",
       "      <td>закусочная</td>\n",
       "      <td>город Москва, Бригадирский переулок, дом 3-5</td>\n",
       "      <td>216</td>\n",
       "      <td>Бригадирский переулок</td>\n",
       "    </tr>\n",
       "    <tr>\n",
       "      <th>115</th>\n",
       "      <td>28614</td>\n",
       "      <td>комбинат питания мгту им.н.э.баумана</td>\n",
       "      <td>0</td>\n",
       "      <td>буфет</td>\n",
       "      <td>город Москва, Бригадирский переулок, дом 3-5</td>\n",
       "      <td>12</td>\n",
       "      <td>Бригадирский переулок</td>\n",
       "    </tr>\n",
       "    <tr>\n",
       "      <th>2374</th>\n",
       "      <td>28603</td>\n",
       "      <td>комбинат питания мгту им.н.э.баумана</td>\n",
       "      <td>0</td>\n",
       "      <td>столовая</td>\n",
       "      <td>город Москва, 2-я Бауманская улица, дом 5, строение 1</td>\n",
       "      <td>100</td>\n",
       "      <td>2-я Бауманская улица</td>\n",
       "    </tr>\n",
       "    <tr>\n",
       "      <th>2375</th>\n",
       "      <td>28604</td>\n",
       "      <td>комбинат питания мгту им.н.э.баумана</td>\n",
       "      <td>0</td>\n",
       "      <td>столовая</td>\n",
       "      <td>город Москва, 2-я Бауманская улица, дом 5, строение 1</td>\n",
       "      <td>150</td>\n",
       "      <td>2-я Бауманская улица</td>\n",
       "    </tr>\n",
       "    <tr>\n",
       "      <th>2376</th>\n",
       "      <td>28605</td>\n",
       "      <td>комбинат питания мгту им.н.э.баумана</td>\n",
       "      <td>0</td>\n",
       "      <td>кафетерий</td>\n",
       "      <td>город Москва, 2-я Бауманская улица, дом 5, строение 1</td>\n",
       "      <td>35</td>\n",
       "      <td>2-я Бауманская улица</td>\n",
       "    </tr>\n",
       "    <tr>\n",
       "      <th>2377</th>\n",
       "      <td>28606</td>\n",
       "      <td>комбинат питания мгту им.н.э.баумана</td>\n",
       "      <td>0</td>\n",
       "      <td>буфет</td>\n",
       "      <td>город Москва, 2-я Бауманская улица, дом 5, строение 1</td>\n",
       "      <td>16</td>\n",
       "      <td>2-я Бауманская улица</td>\n",
       "    </tr>\n",
       "    <tr>\n",
       "      <th>2378</th>\n",
       "      <td>28607</td>\n",
       "      <td>комбинат питания мгту им.н.э.баумана</td>\n",
       "      <td>0</td>\n",
       "      <td>закусочная</td>\n",
       "      <td>город Москва, 2-я Бауманская улица, дом 5, строение 1</td>\n",
       "      <td>16</td>\n",
       "      <td>2-я Бауманская улица</td>\n",
       "    </tr>\n",
       "    <tr>\n",
       "      <th>2379</th>\n",
       "      <td>28609</td>\n",
       "      <td>комбинат питания мгту им.н.э.баумана</td>\n",
       "      <td>0</td>\n",
       "      <td>буфет</td>\n",
       "      <td>город Москва, 2-я Бауманская улица, дом 5, строение 1</td>\n",
       "      <td>30</td>\n",
       "      <td>2-я Бауманская улица</td>\n",
       "    </tr>\n",
       "    <tr>\n",
       "      <th>2380</th>\n",
       "      <td>28610</td>\n",
       "      <td>комбинат питания мгту им.н.э.баумана</td>\n",
       "      <td>0</td>\n",
       "      <td>столовая</td>\n",
       "      <td>город Москва, 2-я Бауманская улица, дом 5, строение 1</td>\n",
       "      <td>200</td>\n",
       "      <td>2-я Бауманская улица</td>\n",
       "    </tr>\n",
       "    <tr>\n",
       "      <th>2381</th>\n",
       "      <td>28611</td>\n",
       "      <td>комбинат питания мгту им.н.э.баумана</td>\n",
       "      <td>0</td>\n",
       "      <td>столовая</td>\n",
       "      <td>город Москва, 2-я Бауманская улица, дом 5, строение 1</td>\n",
       "      <td>100</td>\n",
       "      <td>2-я Бауманская улица</td>\n",
       "    </tr>\n",
       "    <tr>\n",
       "      <th>2382</th>\n",
       "      <td>28615</td>\n",
       "      <td>комбинат питания мгту им.н.э.баумана</td>\n",
       "      <td>0</td>\n",
       "      <td>столовая</td>\n",
       "      <td>город Москва, 2-я Бауманская улица, дом 5, строение 1</td>\n",
       "      <td>168</td>\n",
       "      <td>2-я Бауманская улица</td>\n",
       "    </tr>\n",
       "    <tr>\n",
       "      <th>2383</th>\n",
       "      <td>28616</td>\n",
       "      <td>комбинат питания мгту им.н.э.баумана</td>\n",
       "      <td>0</td>\n",
       "      <td>закусочная</td>\n",
       "      <td>город Москва, 2-я Бауманская улица, дом 5, строение 1</td>\n",
       "      <td>64</td>\n",
       "      <td>2-я Бауманская улица</td>\n",
       "    </tr>\n",
       "    <tr>\n",
       "      <th>2384</th>\n",
       "      <td>28617</td>\n",
       "      <td>комбинат питания мгту им.н.э.баумана</td>\n",
       "      <td>0</td>\n",
       "      <td>столовая</td>\n",
       "      <td>город Москва, 2-я Бауманская улица, дом 5, строение 1</td>\n",
       "      <td>108</td>\n",
       "      <td>2-я Бауманская улица</td>\n",
       "    </tr>\n",
       "    <tr>\n",
       "      <th>2393</th>\n",
       "      <td>28602</td>\n",
       "      <td>комбинат питания мгту им.н.э.баумана</td>\n",
       "      <td>0</td>\n",
       "      <td>буфет</td>\n",
       "      <td>город Москва, 2-я Бауманская улица, дом 5, строение 2</td>\n",
       "      <td>60</td>\n",
       "      <td>2-я Бауманская улица</td>\n",
       "    </tr>\n",
       "    <tr>\n",
       "      <th>2394</th>\n",
       "      <td>28612</td>\n",
       "      <td>комбинат питания мгту им.н.э.баумана</td>\n",
       "      <td>0</td>\n",
       "      <td>столовая</td>\n",
       "      <td>город Москва, 2-я Бауманская улица, дом 5, строение 2</td>\n",
       "      <td>80</td>\n",
       "      <td>2-я Бауманская улица</td>\n",
       "    </tr>\n",
       "  </tbody>\n",
       "</table>\n",
       "</div>"
      ],
      "text/plain": [
       "         id                           object_name  chain object_type  \\\n",
       "113   28608  комбинат питания мгту им.н.э.баумана      0       буфет   \n",
       "114   28613  комбинат питания мгту им.н.э.баумана      0  закусочная   \n",
       "115   28614  комбинат питания мгту им.н.э.баумана      0       буфет   \n",
       "2374  28603  комбинат питания мгту им.н.э.баумана      0    столовая   \n",
       "2375  28604  комбинат питания мгту им.н.э.баумана      0    столовая   \n",
       "2376  28605  комбинат питания мгту им.н.э.баумана      0   кафетерий   \n",
       "2377  28606  комбинат питания мгту им.н.э.баумана      0       буфет   \n",
       "2378  28607  комбинат питания мгту им.н.э.баумана      0  закусочная   \n",
       "2379  28609  комбинат питания мгту им.н.э.баумана      0       буфет   \n",
       "2380  28610  комбинат питания мгту им.н.э.баумана      0    столовая   \n",
       "2381  28611  комбинат питания мгту им.н.э.баумана      0    столовая   \n",
       "2382  28615  комбинат питания мгту им.н.э.баумана      0    столовая   \n",
       "2383  28616  комбинат питания мгту им.н.э.баумана      0  закусочная   \n",
       "2384  28617  комбинат питания мгту им.н.э.баумана      0    столовая   \n",
       "2393  28602  комбинат питания мгту им.н.э.баумана      0       буфет   \n",
       "2394  28612  комбинат питания мгту им.н.э.баумана      0    столовая   \n",
       "\n",
       "                                                    address  number  \\\n",
       "113            город Москва, Бригадирский переулок, дом 3-5      34   \n",
       "114            город Москва, Бригадирский переулок, дом 3-5     216   \n",
       "115            город Москва, Бригадирский переулок, дом 3-5      12   \n",
       "2374  город Москва, 2-я Бауманская улица, дом 5, строение 1     100   \n",
       "2375  город Москва, 2-я Бауманская улица, дом 5, строение 1     150   \n",
       "2376  город Москва, 2-я Бауманская улица, дом 5, строение 1      35   \n",
       "2377  город Москва, 2-я Бауманская улица, дом 5, строение 1      16   \n",
       "2378  город Москва, 2-я Бауманская улица, дом 5, строение 1      16   \n",
       "2379  город Москва, 2-я Бауманская улица, дом 5, строение 1      30   \n",
       "2380  город Москва, 2-я Бауманская улица, дом 5, строение 1     200   \n",
       "2381  город Москва, 2-я Бауманская улица, дом 5, строение 1     100   \n",
       "2382  город Москва, 2-я Бауманская улица, дом 5, строение 1     168   \n",
       "2383  город Москва, 2-я Бауманская улица, дом 5, строение 1      64   \n",
       "2384  город Москва, 2-я Бауманская улица, дом 5, строение 1     108   \n",
       "2393  город Москва, 2-я Бауманская улица, дом 5, строение 2      60   \n",
       "2394  город Москва, 2-я Бауманская улица, дом 5, строение 2      80   \n",
       "\n",
       "                      street  \n",
       "113    Бригадирский переулок  \n",
       "114    Бригадирский переулок  \n",
       "115    Бригадирский переулок  \n",
       "2374    2-я Бауманская улица  \n",
       "2375    2-я Бауманская улица  \n",
       "2376    2-я Бауманская улица  \n",
       "2377    2-я Бауманская улица  \n",
       "2378    2-я Бауманская улица  \n",
       "2379    2-я Бауманская улица  \n",
       "2380    2-я Бауманская улица  \n",
       "2381    2-я Бауманская улица  \n",
       "2382    2-я Бауманская улица  \n",
       "2383    2-я Бауманская улица  \n",
       "2384    2-я Бауманская улица  \n",
       "2393    2-я Бауманская улица  \n",
       "2394    2-я Бауманская улица  "
      ]
     },
     "execution_count": 39,
     "metadata": {},
     "output_type": "execute_result"
    }
   ],
   "source": [
    "df[df['object_name']== 'комбинат питания мгту им.н.э.баумана']"
   ]
  },
  {
   "cell_type": "markdown",
   "metadata": {},
   "source": [
    "## Анализ данных \n",
    "<a class=\"anchor\" id=\"анализ\"></a> "
   ]
  },
  {
   "cell_type": "markdown",
   "metadata": {},
   "source": [
    "### Cоотношение видов объектов общественного питания по количеству\n",
    "<a id=\"2.1\"></a> "
   ]
  },
  {
   "cell_type": "code",
   "execution_count": 11,
   "metadata": {},
   "outputs": [
    {
     "data": {
      "image/png": "[encoded data removed]",
      "text/plain": [
       "<Figure size 1440x720 with 1 Axes>"
      ]
     },
     "metadata": {
      "needs_background": "light"
     },
     "output_type": "display_data"
    }
   ],
   "source": [
    "(df.groupby('object_type')['object_type'].count() / len(df)).sort_values(ascending=False).plot(kind='bar').plot(kind='bar')\n",
    "plt.gcf().set_size_inches(20, 10)\n",
    "sns.set(font_scale = 1.5)\n",
    "plt.title('График соотношения видов объектов общественного питания по количеству')\n",
    "plt.ylabel('Доля от всех заведений')\n",
    "plt.xlabel('Вид заведения')\n",
    "locs, labels = plt.xticks()\n",
    "plt.xticks(rotation='vertical')\n",
    "plt.setp(labels, rotation=290)\n",
    "plt.show()"
   ]
  },
  {
   "cell_type": "markdown",
   "metadata": {},
   "source": [
    "- По кол-ву заведений на вид общественного питания лидируют кафе, столовая и ресторан. \n",
    "- В конце списка закусочная и магазин (отдел кулинарии)."
   ]
  },
  {
   "cell_type": "markdown",
   "metadata": {},
   "source": [
    "### Соотношение сетевых и несетевых заведений по количеству\n",
    "<a id=\"2.2\"></a> "
   ]
  },
  {
   "cell_type": "code",
   "execution_count": 12,
   "metadata": {},
   "outputs": [
    {
     "data": {
      "image/png": "[encoded data removed]",
      "text/plain": [
       "<Figure size 1080x504 with 1 Axes>"
      ]
     },
     "metadata": {},
     "output_type": "display_data"
    }
   ],
   "source": [
    "(df.groupby('chain')['chain'].count() / len(df)).plot(kind='pie')\n",
    "plt.gcf().set_size_inches(15, 7)\n",
    "plt.title('График Соотношения сетевых и несетевых заведений по количеству')\n",
    "plt.ylabel('Наличие сети')\n",
    "legend = plt.legend(['Не сетевые','Сетевые'], title = \"Legend\", bbox_to_anchor=(1, 0.6))\n",
    "plt.show()"
   ]
  },
  {
   "cell_type": "markdown",
   "metadata": {},
   "source": [
    "- Несетвых ресторанов больше примерно на 80%"
   ]
  },
  {
   "cell_type": "markdown",
   "metadata": {},
   "source": [
    "### Вид объекта общественного питания, которому характерно сетевое распространение\n",
    "<a id=\"2.3\"></a> "
   ]
  },
  {
   "cell_type": "code",
   "execution_count": 13,
   "metadata": {},
   "outputs": [
    {
     "data": {
      "text/html": [
       "<div>\n",
       "<style scoped>\n",
       "    .dataframe tbody tr th:only-of-type {\n",
       "        vertical-align: middle;\n",
       "    }\n",
       "\n",
       "    .dataframe tbody tr th {\n",
       "        vertical-align: top;\n",
       "    }\n",
       "\n",
       "    .dataframe thead th {\n",
       "        text-align: right;\n",
       "    }\n",
       "</style>\n",
       "<table border=\"1\" class=\"dataframe\">\n",
       "  <thead>\n",
       "    <tr style=\"text-align: right;\">\n",
       "      <th></th>\n",
       "      <th>Кол-во объектов</th>\n",
       "      <th>Вид заведения</th>\n",
       "      <th>Доля сетевых заведений</th>\n",
       "    </tr>\n",
       "  </thead>\n",
       "  <tbody>\n",
       "    <tr>\n",
       "      <th>6</th>\n",
       "      <td>1923</td>\n",
       "      <td>предприятие быстрого обслуживания</td>\n",
       "      <td>0.411336</td>\n",
       "    </tr>\n",
       "    <tr>\n",
       "      <th>5</th>\n",
       "      <td>273</td>\n",
       "      <td>магазин (отдел кулинарии)</td>\n",
       "      <td>0.285714</td>\n",
       "    </tr>\n",
       "    <tr>\n",
       "      <th>7</th>\n",
       "      <td>2285</td>\n",
       "      <td>ресторан</td>\n",
       "      <td>0.238074</td>\n",
       "    </tr>\n",
       "    <tr>\n",
       "      <th>3</th>\n",
       "      <td>6099</td>\n",
       "      <td>кафе</td>\n",
       "      <td>0.228890</td>\n",
       "    </tr>\n",
       "    <tr>\n",
       "      <th>2</th>\n",
       "      <td>360</td>\n",
       "      <td>закусочная</td>\n",
       "      <td>0.155556</td>\n",
       "    </tr>\n",
       "    <tr>\n",
       "      <th>4</th>\n",
       "      <td>398</td>\n",
       "      <td>кафетерий</td>\n",
       "      <td>0.130653</td>\n",
       "    </tr>\n",
       "    <tr>\n",
       "      <th>0</th>\n",
       "      <td>856</td>\n",
       "      <td>бар</td>\n",
       "      <td>0.043224</td>\n",
       "    </tr>\n",
       "    <tr>\n",
       "      <th>1</th>\n",
       "      <td>585</td>\n",
       "      <td>буфет</td>\n",
       "      <td>0.018803</td>\n",
       "    </tr>\n",
       "    <tr>\n",
       "      <th>8</th>\n",
       "      <td>2587</td>\n",
       "      <td>столовая</td>\n",
       "      <td>0.001160</td>\n",
       "    </tr>\n",
       "  </tbody>\n",
       "</table>\n",
       "</div>"
      ],
      "text/plain": [
       "   Кол-во объектов                      Вид заведения  Доля сетевых заведений\n",
       "6             1923  предприятие быстрого обслуживания                0.411336\n",
       "5              273          магазин (отдел кулинарии)                0.285714\n",
       "7             2285                           ресторан                0.238074\n",
       "3             6099                               кафе                0.228890\n",
       "2              360                         закусочная                0.155556\n",
       "4              398                          кафетерий                0.130653\n",
       "0              856                                бар                0.043224\n",
       "1              585                              буфет                0.018803\n",
       "8             2587                           столовая                0.001160"
      ]
     },
     "execution_count": 13,
     "metadata": {},
     "output_type": "execute_result"
    }
   ],
   "source": [
    "df_plot = df.groupby('object_type', as_index=False).agg({'object_type':['count','first'], 'chain':'mean'})\n",
    "df_plot.columns = ['Кол-во объектов','Вид заведения','Доля сетевых заведений']\n",
    "df_plot = df_plot.sort_values(by='Доля сетевых заведений', ascending=False)\n",
    "df_plot"
   ]
  },
  {
   "cell_type": "code",
   "execution_count": 14,
   "metadata": {},
   "outputs": [
    {
     "data": {
      "image/png": "[encoded data removed]",
      "text/plain": [
       "<Figure size 1440x720 with 1 Axes>"
      ]
     },
     "metadata": {},
     "output_type": "display_data"
    }
   ],
   "source": [
    "sns.set(font_scale = 1.5)\n",
    "sns.barplot(x='Вид заведения', y='Доля сетевых заведений', data=df_plot)\n",
    "plt.gcf().set_size_inches(20, 10)\n",
    "plt.xticks(rotation='vertical')\n",
    "plt.title('График доли сетевых заведений в соответствии с видом заведения')\n",
    "locs, labels = plt.xticks()\n",
    "plt.setp(labels, rotation=290)\n",
    "plt.show()"
   ]
  },
  {
   "cell_type": "markdown",
   "metadata": {},
   "source": [
    "- Сетевое распространение характерно для: предприятий быстрого питания, магазнов (отеделов кулинарии), ресторанов и кафе\n",
    "- Сетевое распространение не характерно для: баров, буфетов и столовых"
   ]
  },
  {
   "cell_type": "markdown",
   "metadata": {},
   "source": [
    "### Что характерно для сетевых заведений: много заведений с небольшим числом посадочных мест в каждом или мало заведений с большим количеством посадочных мест?\n",
    "<a id=\"2.4\"></a> "
   ]
  },
  {
   "cell_type": "markdown",
   "metadata": {},
   "source": [
    "В данных присутствуют рестораны, помеченные как сети, которые по сути имеют только одно заведение, для анализа данного вопроса нам стоит убрать из выборки:"
   ]
  },
  {
   "cell_type": "code",
   "execution_count": 15,
   "metadata": {},
   "outputs": [],
   "source": [
    "df_plot = df.query('chain == 1').groupby('object_name').agg({'id':'nunique', 'number':'mean'})\n",
    "df_plot = df_plot.query('id != 1 and number != 0')"
   ]
  },
  {
   "cell_type": "code",
   "execution_count": 16,
   "metadata": {},
   "outputs": [
    {
     "data": {
      "text/plain": [
       "array([44.])"
      ]
     },
     "execution_count": 16,
     "metadata": {},
     "output_type": "execute_result"
    }
   ],
   "source": [
    "np.percentile(df_plot['number'], [50])"
   ]
  },
  {
   "cell_type": "code",
   "execution_count": 17,
   "metadata": {},
   "outputs": [
    {
     "data": {
      "text/plain": [
       "array([4.])"
      ]
     },
     "execution_count": 17,
     "metadata": {},
     "output_type": "execute_result"
    }
   ],
   "source": [
    "np.percentile(df_plot['id'], [50])"
   ]
  },
  {
   "cell_type": "code",
   "execution_count": 18,
   "metadata": {},
   "outputs": [],
   "source": [
    "def big_or_small(row):\n",
    "    count_ids = row['id']\n",
    "    mean_number = row['number']\n",
    "    if mean_number < np.percentile(df_plot['number'], [50]) and count_ids < np.percentile(df_plot['id'], [50]):\n",
    "        return 'Мало мест, мало заведений'\n",
    "    if mean_number >= np.percentile(df_plot['number'], [50]) and count_ids < np.percentile(df_plot['id'], [50]):\n",
    "        return 'Много мест, мало заведений' \n",
    "    if mean_number >= np.percentile(df_plot['number'], [50]) and count_ids >= np.percentile(df_plot['id'], [50]):\n",
    "        return 'Много мест, много заведений'\n",
    "    if mean_number < np.percentile(df_plot['number'], [50]) and count_ids >= np.percentile(df_plot['id'], [50]):\n",
    "        return 'Мало мест, много заведений'"
   ]
  },
  {
   "cell_type": "code",
   "execution_count": 19,
   "metadata": {},
   "outputs": [],
   "source": [
    "df_plot['Места/Заведения'] = df_plot.apply(big_or_small, axis = 1)"
   ]
  },
  {
   "cell_type": "code",
   "execution_count": 20,
   "metadata": {},
   "outputs": [],
   "source": [
    "df_plot = df_plot.groupby('Места/Заведения').agg({'Места/Заведения':'count'})\n",
    "df_plot.columns = ['Кол-во']\n",
    "df_plot = df_plot.reset_index()"
   ]
  },
  {
   "cell_type": "code",
   "execution_count": 21,
   "metadata": {},
   "outputs": [],
   "source": [
    "df_plot = df_plot.reset_index().sort_values(by='Кол-во', ascending=False)"
   ]
  },
  {
   "cell_type": "code",
   "execution_count": 22,
   "metadata": {},
   "outputs": [
    {
     "data": {
      "text/html": [
       "<div>\n",
       "<style scoped>\n",
       "    .dataframe tbody tr th:only-of-type {\n",
       "        vertical-align: middle;\n",
       "    }\n",
       "\n",
       "    .dataframe tbody tr th {\n",
       "        vertical-align: top;\n",
       "    }\n",
       "\n",
       "    .dataframe thead th {\n",
       "        text-align: right;\n",
       "    }\n",
       "</style>\n",
       "<table border=\"1\" class=\"dataframe\">\n",
       "  <thead>\n",
       "    <tr style=\"text-align: right;\">\n",
       "      <th></th>\n",
       "      <th>index</th>\n",
       "      <th>Места/Заведения</th>\n",
       "      <th>Кол-во</th>\n",
       "    </tr>\n",
       "  </thead>\n",
       "  <tbody>\n",
       "    <tr>\n",
       "      <th>1</th>\n",
       "      <td>1</td>\n",
       "      <td>Мало мест, много заведений</td>\n",
       "      <td>61</td>\n",
       "    </tr>\n",
       "    <tr>\n",
       "      <th>3</th>\n",
       "      <td>3</td>\n",
       "      <td>Много мест, много заведений</td>\n",
       "      <td>57</td>\n",
       "    </tr>\n",
       "    <tr>\n",
       "      <th>2</th>\n",
       "      <td>2</td>\n",
       "      <td>Много мест, мало заведений</td>\n",
       "      <td>52</td>\n",
       "    </tr>\n",
       "    <tr>\n",
       "      <th>0</th>\n",
       "      <td>0</td>\n",
       "      <td>Мало мест, мало заведений</td>\n",
       "      <td>46</td>\n",
       "    </tr>\n",
       "  </tbody>\n",
       "</table>\n",
       "</div>"
      ],
      "text/plain": [
       "   index              Места/Заведения  Кол-во\n",
       "1      1   Мало мест, много заведений      61\n",
       "3      3  Много мест, много заведений      57\n",
       "2      2   Много мест, мало заведений      52\n",
       "0      0    Мало мест, мало заведений      46"
      ]
     },
     "execution_count": 22,
     "metadata": {},
     "output_type": "execute_result"
    }
   ],
   "source": [
    "df_plot"
   ]
  },
  {
   "cell_type": "code",
   "execution_count": 23,
   "metadata": {},
   "outputs": [
    {
     "data": {
      "image/png": "[encoded data removed]",
      "text/plain": [
       "<Figure size 1440x720 with 1 Axes>"
      ]
     },
     "metadata": {},
     "output_type": "display_data"
    }
   ],
   "source": [
    "sns.set(font_scale = 1.5)\n",
    "sns.barplot(x='Места/Заведения', y='Кол-во', data=df_plot)\n",
    "plt.gcf().set_size_inches(20, 10)\n",
    "plt.xticks(rotation='vertical')\n",
    "plt.title('График распределения Мест/Заведений для сетевых ресторанов')\n",
    "locs, labels = plt.xticks()\n",
    "plt.setp(labels, rotation=290)\n",
    "plt.show()"
   ]
  },
  {
   "cell_type": "markdown",
   "metadata": {},
   "source": [
    "- Преобладает тип: Мало мест, много заведений\n",
    "- Меньше всего: Мало мест, мало заведений"
   ]
  },
  {
   "cell_type": "markdown",
   "metadata": {},
   "source": [
    "### Среднее кол-во посадочных мест для каждого типа заведения\n",
    "<a id=\"2.5\"></a> "
   ]
  },
  {
   "cell_type": "code",
   "execution_count": 24,
   "metadata": {},
   "outputs": [],
   "source": [
    "df_plot = df.groupby('object_type').agg({'number':'mean'}).reset_index().sort_values(by='number', ascending=False)"
   ]
  },
  {
   "cell_type": "code",
   "execution_count": 25,
   "metadata": {},
   "outputs": [
    {
     "data": {
      "image/png": "[encoded data removed]",
      "text/plain": [
       "<Figure size 1440x720 with 1 Axes>"
      ]
     },
     "metadata": {},
     "output_type": "display_data"
    }
   ],
   "source": [
    "sns.set(font_scale = 1.5)\n",
    "sns.barplot(x='object_type', y='number', data=df_plot)\n",
    "plt.gcf().set_size_inches(20, 10)\n",
    "plt.xticks(rotation='vertical')\n",
    "plt.ylabel('Кол-во посадочных мест')\n",
    "plt.xlabel('Вид заведения')\n",
    "plt.title('Среднее число посадочных мест в соответствии с типом заведения')\n",
    "locs, labels = plt.xticks()\n",
    "plt.setp(labels, rotation=300)\n",
    "plt.show()"
   ]
  },
  {
   "cell_type": "markdown",
   "metadata": {},
   "source": [
    "- В среднем наибольшее число посадочных мест в: столовых, ресторанах и буфетах\n",
    "- В среднем наименьшее число посадочных меств: кафетериях, закусочных и магазинах (отделах кулинарии)"
   ]
  },
  {
   "cell_type": "markdown",
   "metadata": {},
   "source": [
    "### Информация об улице\n",
    "<a id=\"2.6\"></a> "
   ]
  },
  {
   "cell_type": "code",
   "execution_count": 26,
   "metadata": {},
   "outputs": [],
   "source": [
    "def only_street_info(row):\n",
    "    address_name = row['address']\n",
    "    #adress_name = adress_name.lstrip('город Москва, ').rstrip('')\n",
    "    #adress_name = adress_name.lstrip('город Москва, город Зеленоград, ').rstrip('')\n",
    "    #adress_name = adress_name.lstrip('город Москва, ')\n",
    "    address_name = address_name.split(\",\")\n",
    "    if 'Зеленоград' in address_name[1]:\n",
    "        return address_name[2]\n",
    "    if 'поселок' in address_name[1]:\n",
    "        return address_name[2]\n",
    "    if 'деревня' in address_name[1]:\n",
    "        return address_name[2]\n",
    "    else:\n",
    "        return address_name[1]\n",
    "    #if adress_name.split(\",\")[0] == 'город Москва':\n",
    "    #    return adress_name.split(\",\")[1]\n",
    "    #if adress_name.split(\",\")[1] == ' город Зеленоград':\n",
    "    #    return adress_name.split(\",\")[2]\n",
    "    #return adress_name.lstrip('город Зеленоград,')"
   ]
  },
  {
   "cell_type": "code",
   "execution_count": 27,
   "metadata": {},
   "outputs": [],
   "source": [
    "df['street'] = df['address']"
   ]
  },
  {
   "cell_type": "code",
   "execution_count": 28,
   "metadata": {},
   "outputs": [],
   "source": [
    "df['street'] = df.apply(only_street_info, axis=1)"
   ]
  },
  {
   "cell_type": "code",
   "execution_count": 29,
   "metadata": {},
   "outputs": [
    {
     "data": {
      "text/html": [
       "<div>\n",
       "<style scoped>\n",
       "    .dataframe tbody tr th:only-of-type {\n",
       "        vertical-align: middle;\n",
       "    }\n",
       "\n",
       "    .dataframe tbody tr th {\n",
       "        vertical-align: top;\n",
       "    }\n",
       "\n",
       "    .dataframe thead th {\n",
       "        text-align: right;\n",
       "    }\n",
       "</style>\n",
       "<table border=\"1\" class=\"dataframe\">\n",
       "  <thead>\n",
       "    <tr style=\"text-align: right;\">\n",
       "      <th></th>\n",
       "      <th>id</th>\n",
       "      <th>object_name</th>\n",
       "      <th>chain</th>\n",
       "      <th>object_type</th>\n",
       "      <th>address</th>\n",
       "      <th>number</th>\n",
       "      <th>street</th>\n",
       "    </tr>\n",
       "  </thead>\n",
       "  <tbody>\n",
       "    <tr>\n",
       "      <th>0</th>\n",
       "      <td>151635</td>\n",
       "      <td>сметана</td>\n",
       "      <td>0</td>\n",
       "      <td>кафе</td>\n",
       "      <td>город Москва, улица Егора Абакумова, дом 9</td>\n",
       "      <td>48</td>\n",
       "      <td>улица Егора Абакумова</td>\n",
       "    </tr>\n",
       "    <tr>\n",
       "      <th>1</th>\n",
       "      <td>77874</td>\n",
       "      <td>родник</td>\n",
       "      <td>0</td>\n",
       "      <td>кафе</td>\n",
       "      <td>город Москва, улица Талалихина, дом 2/1, корпус 1</td>\n",
       "      <td>35</td>\n",
       "      <td>улица Талалихина</td>\n",
       "    </tr>\n",
       "    <tr>\n",
       "      <th>2</th>\n",
       "      <td>24309</td>\n",
       "      <td>академия</td>\n",
       "      <td>0</td>\n",
       "      <td>кафе</td>\n",
       "      <td>город Москва, Абельмановская улица, дом 6</td>\n",
       "      <td>95</td>\n",
       "      <td>Абельмановская улица</td>\n",
       "    </tr>\n",
       "    <tr>\n",
       "      <th>3</th>\n",
       "      <td>21894</td>\n",
       "      <td>пиццетория</td>\n",
       "      <td>1</td>\n",
       "      <td>кафе</td>\n",
       "      <td>город Москва, Абрамцевская улица, дом 1</td>\n",
       "      <td>40</td>\n",
       "      <td>Абрамцевская улица</td>\n",
       "    </tr>\n",
       "    <tr>\n",
       "      <th>4</th>\n",
       "      <td>119365</td>\n",
       "      <td>вишневая метель</td>\n",
       "      <td>0</td>\n",
       "      <td>кафе</td>\n",
       "      <td>город Москва, Абрамцевская улица, дом 9, корпус 1</td>\n",
       "      <td>50</td>\n",
       "      <td>Абрамцевская улица</td>\n",
       "    </tr>\n",
       "  </tbody>\n",
       "</table>\n",
       "</div>"
      ],
      "text/plain": [
       "       id      object_name  chain object_type  \\\n",
       "0  151635          сметана      0        кафе   \n",
       "1   77874           родник      0        кафе   \n",
       "2   24309         академия      0        кафе   \n",
       "3   21894       пиццетория      1        кафе   \n",
       "4  119365  вишневая метель      0        кафе   \n",
       "\n",
       "                                             address  number  \\\n",
       "0         город Москва, улица Егора Абакумова, дом 9      48   \n",
       "1  город Москва, улица Талалихина, дом 2/1, корпус 1      35   \n",
       "2          город Москва, Абельмановская улица, дом 6      95   \n",
       "3            город Москва, Абрамцевская улица, дом 1      40   \n",
       "4  город Москва, Абрамцевская улица, дом 9, корпус 1      50   \n",
       "\n",
       "                   street  \n",
       "0   улица Егора Абакумова  \n",
       "1        улица Талалихина  \n",
       "2    Абельмановская улица  \n",
       "3      Абрамцевская улица  \n",
       "4      Абрамцевская улица  "
      ]
     },
     "execution_count": 29,
     "metadata": {},
     "output_type": "execute_result"
    }
   ],
   "source": [
    "df.head(5)"
   ]
  },
  {
   "cell_type": "markdown",
   "metadata": {},
   "source": [
    "### Топ-10 улиц по количеству объектов общественного питания\n",
    "<a id=\"2.7\"></a> "
   ]
  },
  {
   "cell_type": "code",
   "execution_count": 30,
   "metadata": {},
   "outputs": [
    {
     "data": {
      "text/html": [
       "<div>\n",
       "<style scoped>\n",
       "    .dataframe tbody tr th:only-of-type {\n",
       "        vertical-align: middle;\n",
       "    }\n",
       "\n",
       "    .dataframe tbody tr th {\n",
       "        vertical-align: top;\n",
       "    }\n",
       "\n",
       "    .dataframe thead th {\n",
       "        text-align: right;\n",
       "    }\n",
       "</style>\n",
       "<table border=\"1\" class=\"dataframe\">\n",
       "  <thead>\n",
       "    <tr style=\"text-align: right;\">\n",
       "      <th></th>\n",
       "      <th>street</th>\n",
       "      <th>id</th>\n",
       "    </tr>\n",
       "  </thead>\n",
       "  <tbody>\n",
       "    <tr>\n",
       "      <th>1578</th>\n",
       "      <td>проспект Мира</td>\n",
       "      <td>204</td>\n",
       "    </tr>\n",
       "    <tr>\n",
       "      <th>1004</th>\n",
       "      <td>Профсоюзная улица</td>\n",
       "      <td>182</td>\n",
       "    </tr>\n",
       "    <tr>\n",
       "      <th>688</th>\n",
       "      <td>Ленинградский проспект</td>\n",
       "      <td>171</td>\n",
       "    </tr>\n",
       "    <tr>\n",
       "      <th>988</th>\n",
       "      <td>Пресненская набережная</td>\n",
       "      <td>167</td>\n",
       "    </tr>\n",
       "    <tr>\n",
       "      <th>409</th>\n",
       "      <td>Варшавское шоссе</td>\n",
       "      <td>161</td>\n",
       "    </tr>\n",
       "    <tr>\n",
       "      <th>691</th>\n",
       "      <td>Ленинский проспект</td>\n",
       "      <td>147</td>\n",
       "    </tr>\n",
       "    <tr>\n",
       "      <th>1542</th>\n",
       "      <td>поселение Сосенское</td>\n",
       "      <td>138</td>\n",
       "    </tr>\n",
       "    <tr>\n",
       "      <th>1574</th>\n",
       "      <td>проспект Вернадского</td>\n",
       "      <td>132</td>\n",
       "    </tr>\n",
       "    <tr>\n",
       "      <th>679</th>\n",
       "      <td>Кутузовский проспект</td>\n",
       "      <td>114</td>\n",
       "    </tr>\n",
       "    <tr>\n",
       "      <th>603</th>\n",
       "      <td>Каширское шоссе</td>\n",
       "      <td>112</td>\n",
       "    </tr>\n",
       "  </tbody>\n",
       "</table>\n",
       "</div>"
      ],
      "text/plain": [
       "                       street   id\n",
       "1578            проспект Мира  204\n",
       "1004        Профсоюзная улица  182\n",
       "688    Ленинградский проспект  171\n",
       "988    Пресненская набережная  167\n",
       "409          Варшавское шоссе  161\n",
       "691        Ленинский проспект  147\n",
       "1542      поселение Сосенское  138\n",
       "1574     проспект Вернадского  132\n",
       "679      Кутузовский проспект  114\n",
       "603           Каширское шоссе  112"
      ]
     },
     "execution_count": 30,
     "metadata": {},
     "output_type": "execute_result"
    }
   ],
   "source": [
    "df_plot = df.groupby('street').agg({'id':'count'}).reset_index().sort_values(by='id', ascending=False).head(10)\n",
    "df_plot"
   ]
  },
  {
   "cell_type": "code",
   "execution_count": 31,
   "metadata": {},
   "outputs": [
    {
     "data": {
      "image/png": "[encoded data removed]",
      "text/plain": [
       "<Figure size 1440x720 with 1 Axes>"
      ]
     },
     "metadata": {},
     "output_type": "display_data"
    }
   ],
   "source": [
    "sns.set(font_scale = 1.5)\n",
    "sns.barplot(x='street', y='id', data=df_plot)\n",
    "plt.gcf().set_size_inches(20, 10)\n",
    "plt.xticks(rotation='vertical')\n",
    "plt.ylabel('Кол-во заведений')\n",
    "plt.xlabel('Улица')\n",
    "plt.title('Среднее число посадочных мест в соответствии с типом заведения')\n",
    "locs, labels = plt.xticks()\n",
    "plt.setp(labels, rotation=300)\n",
    "plt.show()"
   ]
  },
  {
   "cell_type": "markdown",
   "metadata": {},
   "source": [
    "- Наибольшее число заведений находятся на улицах: проспект Мира, Профсоюзная и Ленинградский проспект"
   ]
  },
  {
   "cell_type": "markdown",
   "metadata": {},
   "source": [
    "### Число улиц с одним объектом общественного питания\n",
    "<a id=\"2.8\"></a> "
   ]
  },
  {
   "cell_type": "code",
   "execution_count": 32,
   "metadata": {
    "scrolled": false
   },
   "outputs": [
    {
     "name": "stdout",
     "output_type": "stream",
     "text": [
      "Число улиц с одним объектом общественного питаниия: 668\n"
     ]
    }
   ],
   "source": [
    "print('Число улиц с одним объектом общественного питаниия: {}'.format(len(df.groupby('street').agg({'id':'count'}).query('id == 1'))))"
   ]
  },
  {
   "cell_type": "markdown",
   "metadata": {},
   "source": [
    "Посмотрим эти улицы детальнее:"
   ]
  },
  {
   "cell_type": "code",
   "execution_count": 33,
   "metadata": {
    "scrolled": true
   },
   "outputs": [],
   "source": [
    "df_plot = df.groupby('street').agg({'id':'count'}).query('id == 1').reset_index()\n",
    "list_of_streets = list(df_plot['street'])"
   ]
  },
  {
   "cell_type": "markdown",
   "metadata": {},
   "source": [
    "Т.к. название одной улицы может быть в нескольких населенных пунктах, то вернемся к прошлой таблице, чтобы можно было более детальнее изучить данные, если нужно:"
   ]
  },
  {
   "cell_type": "code",
   "execution_count": 34,
   "metadata": {
    "scrolled": true
   },
   "outputs": [
    {
     "data": {
      "text/html": [
       "<div>\n",
       "<style scoped>\n",
       "    .dataframe tbody tr th:only-of-type {\n",
       "        vertical-align: middle;\n",
       "    }\n",
       "\n",
       "    .dataframe tbody tr th {\n",
       "        vertical-align: top;\n",
       "    }\n",
       "\n",
       "    .dataframe thead th {\n",
       "        text-align: right;\n",
       "    }\n",
       "</style>\n",
       "<table border=\"1\" class=\"dataframe\">\n",
       "  <thead>\n",
       "    <tr style=\"text-align: right;\">\n",
       "      <th></th>\n",
       "      <th>object_type</th>\n",
       "      <th>address</th>\n",
       "      <th>street</th>\n",
       "      <th>number</th>\n",
       "    </tr>\n",
       "  </thead>\n",
       "  <tbody>\n",
       "    <tr>\n",
       "      <th>19</th>\n",
       "      <td>кафе</td>\n",
       "      <td>город Москва, Филипповский переулок, дом 15/5</td>\n",
       "      <td>Филипповский переулок</td>\n",
       "      <td>20</td>\n",
       "    </tr>\n",
       "    <tr>\n",
       "      <th>61</th>\n",
       "      <td>столовая</td>\n",
       "      <td>город Москва, Бабаевская улица, дом 3</td>\n",
       "      <td>Бабаевская улица</td>\n",
       "      <td>90</td>\n",
       "    </tr>\n",
       "    <tr>\n",
       "      <th>69</th>\n",
       "      <td>ресторан</td>\n",
       "      <td>город Москва, 1-й Балтийский переулок, дом 3/25</td>\n",
       "      <td>1-й Балтийский переулок</td>\n",
       "      <td>60</td>\n",
       "    </tr>\n",
       "    <tr>\n",
       "      <th>81</th>\n",
       "      <td>ресторан</td>\n",
       "      <td>город Москва, улица Демьяна Бедного, дом 4</td>\n",
       "      <td>улица Демьяна Бедного</td>\n",
       "      <td>180</td>\n",
       "    </tr>\n",
       "    <tr>\n",
       "      <th>131</th>\n",
       "      <td>столовая</td>\n",
       "      <td>город Москва, Будайская улица, дом 3</td>\n",
       "      <td>Будайская улица</td>\n",
       "      <td>45</td>\n",
       "    </tr>\n",
       "  </tbody>\n",
       "</table>\n",
       "</div>"
      ],
      "text/plain": [
       "    object_type                                          address  \\\n",
       "19         кафе    город Москва, Филипповский переулок, дом 15/5   \n",
       "61     столовая            город Москва, Бабаевская улица, дом 3   \n",
       "69     ресторан  город Москва, 1-й Балтийский переулок, дом 3/25   \n",
       "81     ресторан       город Москва, улица Демьяна Бедного, дом 4   \n",
       "131    столовая             город Москва, Будайская улица, дом 3   \n",
       "\n",
       "                       street  number  \n",
       "19      Филипповский переулок      20  \n",
       "61           Бабаевская улица      90  \n",
       "69    1-й Балтийский переулок      60  \n",
       "81      улица Демьяна Бедного     180  \n",
       "131           Будайская улица      45  "
      ]
     },
     "execution_count": 34,
     "metadata": {},
     "output_type": "execute_result"
    }
   ],
   "source": [
    "df[['object_type', 'address', 'street', 'number']][df['street'].isin(list(df_plot['street']))].head()"
   ]
  },
  {
   "cell_type": "markdown",
   "metadata": {},
   "source": [
    "- Число улиц с одним объектом общественного питаниия: 668\n",
    "- В основном улицы в которых только одно заведение общественного питания находятся либо на границе второго кольца, либо на границах третьего кольца"
   ]
  },
  {
   "cell_type": "markdown",
   "metadata": {},
   "source": [
    "### Распределение количества посадочных мест для улиц с большим количеством объектов общественного питания\n",
    "<a id=\"2.9\"></a> "
   ]
  },
  {
   "cell_type": "markdown",
   "metadata": {},
   "source": [
    "Предположим, что улицы с больщим количеством объектов общественного питания имеет больше объектов, чем медианное значение кол-ва объектов на одной улице:"
   ]
  },
  {
   "cell_type": "code",
   "execution_count": 35,
   "metadata": {},
   "outputs": [],
   "source": [
    "list_of_streets = list(df.groupby('street').agg({'id':'count'}).query('id > id.median()'))"
   ]
  },
  {
   "cell_type": "code",
   "execution_count": 36,
   "metadata": {},
   "outputs": [
    {
     "data": {
      "text/html": [
       "<div>\n",
       "<style scoped>\n",
       "    .dataframe tbody tr th:only-of-type {\n",
       "        vertical-align: middle;\n",
       "    }\n",
       "\n",
       "    .dataframe tbody tr th {\n",
       "        vertical-align: top;\n",
       "    }\n",
       "\n",
       "    .dataframe thead th {\n",
       "        text-align: right;\n",
       "    }\n",
       "</style>\n",
       "<table border=\"1\" class=\"dataframe\">\n",
       "  <thead>\n",
       "    <tr style=\"text-align: right;\">\n",
       "      <th></th>\n",
       "      <th>id</th>\n",
       "      <th>object_name</th>\n",
       "      <th>chain</th>\n",
       "      <th>object_type</th>\n",
       "      <th>address</th>\n",
       "      <th>number</th>\n",
       "      <th>street</th>\n",
       "    </tr>\n",
       "  </thead>\n",
       "  <tbody>\n",
       "    <tr>\n",
       "      <th>19</th>\n",
       "      <td>153644</td>\n",
       "      <td>американская лаборатория десертов</td>\n",
       "      <td>0</td>\n",
       "      <td>кафе</td>\n",
       "      <td>город Москва, Филипповский переулок, дом 15/5</td>\n",
       "      <td>20</td>\n",
       "      <td>Филипповский переулок</td>\n",
       "    </tr>\n",
       "    <tr>\n",
       "      <th>61</th>\n",
       "      <td>21214</td>\n",
       "      <td>столовая</td>\n",
       "      <td>0</td>\n",
       "      <td>столовая</td>\n",
       "      <td>город Москва, Бабаевская улица, дом 3</td>\n",
       "      <td>90</td>\n",
       "      <td>Бабаевская улица</td>\n",
       "    </tr>\n",
       "    <tr>\n",
       "      <th>69</th>\n",
       "      <td>22139</td>\n",
       "      <td>хуанхэ</td>\n",
       "      <td>0</td>\n",
       "      <td>ресторан</td>\n",
       "      <td>город Москва, 1-й Балтийский переулок, дом 3/25</td>\n",
       "      <td>60</td>\n",
       "      <td>1-й Балтийский переулок</td>\n",
       "    </tr>\n",
       "    <tr>\n",
       "      <th>81</th>\n",
       "      <td>25833</td>\n",
       "      <td>азербайджан</td>\n",
       "      <td>0</td>\n",
       "      <td>ресторан</td>\n",
       "      <td>город Москва, улица Демьяна Бедного, дом 4</td>\n",
       "      <td>180</td>\n",
       "      <td>улица Демьяна Бедного</td>\n",
       "    </tr>\n",
       "    <tr>\n",
       "      <th>131</th>\n",
       "      <td>150881</td>\n",
       "      <td>вгик</td>\n",
       "      <td>0</td>\n",
       "      <td>столовая</td>\n",
       "      <td>город Москва, Будайская улица, дом 3</td>\n",
       "      <td>45</td>\n",
       "      <td>Будайская улица</td>\n",
       "    </tr>\n",
       "  </tbody>\n",
       "</table>\n",
       "</div>"
      ],
      "text/plain": [
       "         id                        object_name  chain object_type  \\\n",
       "19   153644  американская лаборатория десертов      0        кафе   \n",
       "61    21214                           столовая      0    столовая   \n",
       "69    22139                             хуанхэ      0    ресторан   \n",
       "81    25833                        азербайджан      0    ресторан   \n",
       "131  150881                               вгик      0    столовая   \n",
       "\n",
       "                                             address  number  \\\n",
       "19     город Москва, Филипповский переулок, дом 15/5      20   \n",
       "61             город Москва, Бабаевская улица, дом 3      90   \n",
       "69   город Москва, 1-й Балтийский переулок, дом 3/25      60   \n",
       "81        город Москва, улица Демьяна Бедного, дом 4     180   \n",
       "131             город Москва, Будайская улица, дом 3      45   \n",
       "\n",
       "                       street  \n",
       "19      Филипповский переулок  \n",
       "61           Бабаевская улица  \n",
       "69    1-й Балтийский переулок  \n",
       "81      улица Демьяна Бедного  \n",
       "131           Будайская улица  "
      ]
     },
     "execution_count": 36,
     "metadata": {},
     "output_type": "execute_result"
    }
   ],
   "source": [
    "df_plot = df[df['street'].isin(list(df_plot['street']))].head()\n",
    "df_plot"
   ]
  },
  {
   "cell_type": "code",
   "execution_count": 37,
   "metadata": {},
   "outputs": [
    {
     "data": {
      "image/png": "[encoded data removed]",
      "text/plain": [
       "<Figure size 1440x720 with 1 Axes>"
      ]
     },
     "metadata": {},
     "output_type": "display_data"
    }
   ],
   "source": [
    "df_plot['number'].plot(kind='kde')\n",
    "plt.gcf().set_size_inches(20, 10)\n",
    "plt.ylabel('Плотность кол-ва мест на улицах')\n",
    "plt.xlabel('Кол-во посадочных мест')\n",
    "plt.title('Распределение кол-ва посадочных мест для улиц с большим кол-вом объектов общественного питания')\n",
    "plt.show()"
   ]
  },
  {
   "cell_type": "markdown",
   "metadata": {},
   "source": [
    "- Большее кол-во посадочных мест для мест с большим кол-вом объектов общественного питания находится в пределах 50 штук и постепенно снижается к 125"
   ]
  },
  {
   "cell_type": "markdown",
   "metadata": {},
   "source": [
    "## Общий вывод:\n",
    "<a id=\"общийвывод\"></a> "
   ]
  },
  {
   "cell_type": "markdown",
   "metadata": {},
   "source": [
    "### Выводы по исследованию\n",
    "<a id=\"вывод\"></a> "
   ]
  },
  {
   "cell_type": "markdown",
   "metadata": {},
   "source": [
    "- По кол-ву заведений на вид общественного питания лидируют кафе, столовая и ресторан.\n",
    "- В конце списка закусочная и магазин (отдел кулинарии).\n",
    "\n",
    "- Несетвых ресторанов больше примерно на 80%\n",
    "\n",
    "- Сетевое распространение характерно для: предприятий быстрого питания, магазнов (отеделов кулинарии), ресторанов и кафе\n",
    "- Сетевое распространение не характерно для: баров, буфетов и столовых\n",
    "\n",
    "- В среднем наибольшее число посадочных мест в: столовых, ресторанах и буфетах\n",
    "- В среднем наименьшее число посадочных меств: кафетериях, закусочных и магазинах (отделах кулинарии)\n",
    "\n",
    "- Наибольшее число заведений находятся на улицах: проспект Мира, Профсоюзная и Ленинградский проспект\n",
    "\n",
    "- Число улиц с одним объектом общественного питаниия: 668\n",
    "- В основном улицы в которых только одно заведение общественного питания находятся либо на границе второго кольца, либо на границах третьего кольца\n",
    "\n",
    "- Большее кол-во посадочных мест для мест с большим кол-вом объектов общественного питания находится в пределах 50 штук и постепенно снижается к 125\n",
    "- Преобладает тип: Мало мест, много заведений\n",
    "- Меньше всего: Мало мест, мало заведений"
   ]
  },
  {
   "cell_type": "markdown",
   "metadata": {},
   "source": [
    "### Рекомендации по исследованию\n",
    "<a id=\"рекомендации\"></a> "
   ]
  },
  {
   "cell_type": "markdown",
   "metadata": {},
   "source": [
    "- Кафе является доминирующим видом общественного питания. Ближайшие конкуренты по видам (столовая и ресторан) отстают по показателям кол-во заведений на вид общественного питания в два раза. Конкуренция среди таких заведений будет высокой\n",
    "- Число посадочных мест должно быть в районе 50 и более\n",
    "- Большинство единичных несетевых ресторанов находятся либо на границе второго кольца, либо на границах третьего кольца, скорее всего там наибольший шанс \"выжить\" для таких заведений, однако подобное заведение имеет явное УТП, которое направлено скорее на инфлюенсеров и \"зевак\", которыми полон центр города."
   ]
  },
  {
   "cell_type": "markdown",
   "metadata": {},
   "source": [
    "### Презентация\n",
    "<a id=\"презентация\"></a> "
   ]
  },
  {
   "cell_type": "code",
   "execution_count": 38,
   "metadata": {},
   "outputs": [
    {
     "name": "stdout",
     "output_type": "stream",
     "text": [
      "Ссылка для презентации: https://drive.google.com/drive/folders/1De0panL6CsIDSnYmPU9hHxyM0Sr1Jv9C?usp=sharing\n"
     ]
    }
   ],
   "source": [
    "print('Ссылка для презентации: {}'.format('https://drive.google.com/drive/folders/1De0panL6CsIDSnYmPU9hHxyM0Sr1Jv9C?usp=sharing'))"
   ]
  }
 ],
 "metadata": {
  "ExecuteTimeLog": [
   {
    "duration": 1101,
    "start_time": "2022-03-28T15:42:22.065Z"
   },
   {
    "duration": 71,
    "start_time": "2022-03-28T15:43:00.773Z"
   },
   {
    "duration": 18,
    "start_time": "2022-03-28T15:43:04.673Z"
   },
   {
    "duration": 20,
    "start_time": "2022-03-28T15:43:09.271Z"
   },
   {
    "duration": 25,
    "start_time": "2022-03-28T15:44:35.595Z"
   },
   {
    "duration": 139,
    "start_time": "2022-03-28T15:45:09.289Z"
   },
   {
    "duration": 17,
    "start_time": "2022-03-28T15:45:12.459Z"
   },
   {
    "duration": 9,
    "start_time": "2022-03-28T15:45:39.083Z"
   },
   {
    "duration": 21,
    "start_time": "2022-03-28T15:46:06.425Z"
   },
   {
    "duration": 113,
    "start_time": "2022-03-28T15:46:13.285Z"
   },
   {
    "duration": 27,
    "start_time": "2022-03-28T15:46:15.027Z"
   },
   {
    "duration": 20,
    "start_time": "2022-03-28T15:46:17.791Z"
   },
   {
    "duration": 26,
    "start_time": "2022-03-28T15:46:21.786Z"
   },
   {
    "duration": 9,
    "start_time": "2022-03-28T15:47:17.501Z"
   },
   {
    "duration": 4,
    "start_time": "2022-03-28T16:20:27.242Z"
   },
   {
    "duration": 68,
    "start_time": "2022-03-28T16:20:27.251Z"
   },
   {
    "duration": 14,
    "start_time": "2022-03-28T16:20:27.321Z"
   },
   {
    "duration": 43,
    "start_time": "2022-03-28T16:20:27.337Z"
   },
   {
    "duration": 13,
    "start_time": "2022-03-28T16:20:27.384Z"
   },
   {
    "duration": 27,
    "start_time": "2022-03-28T16:20:27.400Z"
   },
   {
    "duration": 57,
    "start_time": "2022-03-28T16:20:27.430Z"
   },
   {
    "duration": 49,
    "start_time": "2022-03-28T17:11:50.927Z"
   },
   {
    "duration": 1387,
    "start_time": "2022-03-28T17:12:04.606Z"
   },
   {
    "duration": 7,
    "start_time": "2022-03-28T17:12:16.040Z"
   },
   {
    "duration": 3,
    "start_time": "2022-03-28T17:12:21.831Z"
   },
   {
    "duration": 62,
    "start_time": "2022-03-28T17:12:36.089Z"
   },
   {
    "duration": 54,
    "start_time": "2022-03-28T17:12:39.594Z"
   },
   {
    "duration": 12,
    "start_time": "2022-03-28T17:12:39.813Z"
   },
   {
    "duration": 14,
    "start_time": "2022-03-28T17:12:39.916Z"
   },
   {
    "duration": 10,
    "start_time": "2022-03-28T17:12:40.045Z"
   },
   {
    "duration": 19,
    "start_time": "2022-03-28T17:12:40.172Z"
   },
   {
    "duration": 18,
    "start_time": "2022-03-28T17:12:40.420Z"
   },
   {
    "duration": 9,
    "start_time": "2022-03-28T17:12:40.802Z"
   },
   {
    "duration": 7,
    "start_time": "2022-03-28T17:13:40.180Z"
   },
   {
    "duration": 13,
    "start_time": "2022-03-28T17:14:11.825Z"
   },
   {
    "duration": 13,
    "start_time": "2022-03-28T17:14:46.628Z"
   },
   {
    "duration": 9,
    "start_time": "2022-03-28T17:14:51.324Z"
   },
   {
    "duration": 9,
    "start_time": "2022-03-28T17:14:57.670Z"
   },
   {
    "duration": 4,
    "start_time": "2022-03-28T17:15:13.729Z"
   },
   {
    "duration": 18,
    "start_time": "2022-03-28T17:15:45.203Z"
   },
   {
    "duration": 77,
    "start_time": "2022-03-28T17:15:54.879Z"
   },
   {
    "duration": 11,
    "start_time": "2022-03-28T17:17:05.189Z"
   },
   {
    "duration": 12,
    "start_time": "2022-03-28T17:17:15.347Z"
   },
   {
    "duration": 80,
    "start_time": "2022-03-28T17:17:29.346Z"
   },
   {
    "duration": 7,
    "start_time": "2022-03-28T17:17:35.021Z"
   },
   {
    "duration": 940,
    "start_time": "2022-03-28T17:17:56.584Z"
   },
   {
    "duration": 11,
    "start_time": "2022-03-28T17:18:06.598Z"
   },
   {
    "duration": 8,
    "start_time": "2022-03-28T17:18:12.638Z"
   },
   {
    "duration": 193,
    "start_time": "2022-03-28T17:18:38.277Z"
   },
   {
    "duration": 139,
    "start_time": "2022-03-28T17:18:43.567Z"
   },
   {
    "duration": 14,
    "start_time": "2022-03-28T17:19:53.316Z"
   },
   {
    "duration": 9,
    "start_time": "2022-03-28T17:20:41.763Z"
   },
   {
    "duration": 9,
    "start_time": "2022-03-28T17:20:46.318Z"
   },
   {
    "duration": 165,
    "start_time": "2022-03-28T17:21:17.435Z"
   },
   {
    "duration": 154,
    "start_time": "2022-03-28T17:21:48.712Z"
   },
   {
    "duration": 154,
    "start_time": "2022-03-28T17:22:13.644Z"
   },
   {
    "duration": 148,
    "start_time": "2022-03-28T17:22:23.536Z"
   },
   {
    "duration": 171,
    "start_time": "2022-03-28T17:23:29.010Z"
   },
   {
    "duration": 9,
    "start_time": "2022-03-28T17:24:14.850Z"
   },
   {
    "duration": 8,
    "start_time": "2022-03-28T17:24:43.091Z"
   },
   {
    "duration": 7,
    "start_time": "2022-03-28T17:25:05.595Z"
   },
   {
    "duration": 7,
    "start_time": "2022-03-28T17:25:20.938Z"
   },
   {
    "duration": 9,
    "start_time": "2022-03-28T17:26:16.668Z"
   },
   {
    "duration": 13,
    "start_time": "2022-03-28T17:27:06.202Z"
   },
   {
    "duration": 184,
    "start_time": "2022-03-28T17:27:10.797Z"
   },
   {
    "duration": 163,
    "start_time": "2022-03-28T17:27:31.062Z"
   },
   {
    "duration": 71,
    "start_time": "2022-03-28T17:27:35.508Z"
   },
   {
    "duration": 156,
    "start_time": "2022-03-28T17:28:04.021Z"
   },
   {
    "duration": 80,
    "start_time": "2022-03-28T17:28:27.631Z"
   },
   {
    "duration": 78,
    "start_time": "2022-03-28T17:28:33.976Z"
   },
   {
    "duration": 8,
    "start_time": "2022-03-28T17:29:37.386Z"
   },
   {
    "duration": 8,
    "start_time": "2022-03-28T17:31:02.957Z"
   },
   {
    "duration": 11,
    "start_time": "2022-03-28T17:31:36.930Z"
   },
   {
    "duration": 17,
    "start_time": "2022-03-28T17:31:49.115Z"
   },
   {
    "duration": 16,
    "start_time": "2022-03-28T17:31:54.504Z"
   },
   {
    "duration": 1429,
    "start_time": "2022-03-28T17:33:46.070Z"
   },
   {
    "duration": 15,
    "start_time": "2022-03-28T17:35:42.843Z"
   },
   {
    "duration": 13,
    "start_time": "2022-03-28T17:36:06.204Z"
   },
   {
    "duration": 3,
    "start_time": "2022-03-28T17:39:45.887Z"
   },
   {
    "duration": 98,
    "start_time": "2022-03-28T17:40:40.374Z"
   },
   {
    "duration": 16,
    "start_time": "2022-03-28T17:40:43.094Z"
   },
   {
    "duration": 10,
    "start_time": "2022-03-28T17:40:51.635Z"
   },
   {
    "duration": 5,
    "start_time": "2022-03-28T17:40:54.390Z"
   },
   {
    "duration": 13,
    "start_time": "2022-03-28T17:41:13.390Z"
   },
   {
    "duration": 4,
    "start_time": "2022-03-28T17:41:16.487Z"
   },
   {
    "duration": 90,
    "start_time": "2022-03-28T17:41:16.493Z"
   },
   {
    "duration": 11,
    "start_time": "2022-03-28T17:41:16.586Z"
   },
   {
    "duration": 19,
    "start_time": "2022-03-28T17:41:16.599Z"
   },
   {
    "duration": 9,
    "start_time": "2022-03-28T17:41:16.621Z"
   },
   {
    "duration": 28,
    "start_time": "2022-03-28T17:41:16.633Z"
   },
   {
    "duration": 24,
    "start_time": "2022-03-28T17:41:16.663Z"
   },
   {
    "duration": 132,
    "start_time": "2022-03-28T17:41:16.702Z"
   },
   {
    "duration": 259,
    "start_time": "2022-03-28T17:41:16.836Z"
   },
   {
    "duration": 116,
    "start_time": "2022-03-28T17:41:17.101Z"
   },
   {
    "duration": 13,
    "start_time": "2022-03-28T17:41:17.219Z"
   },
   {
    "duration": 18,
    "start_time": "2022-03-28T17:41:17.234Z"
   },
   {
    "duration": 15,
    "start_time": "2022-03-28T17:41:51.743Z"
   },
   {
    "duration": 14,
    "start_time": "2022-03-28T17:41:56.716Z"
   },
   {
    "duration": 14,
    "start_time": "2022-03-28T17:42:00.725Z"
   },
   {
    "duration": 18,
    "start_time": "2022-03-28T17:42:42.280Z"
   },
   {
    "duration": 15,
    "start_time": "2022-03-28T17:44:43.874Z"
   },
   {
    "duration": 15,
    "start_time": "2022-03-28T17:44:49.762Z"
   },
   {
    "duration": 14,
    "start_time": "2022-03-28T17:45:07.511Z"
   },
   {
    "duration": 176,
    "start_time": "2022-03-28T17:45:23.777Z"
   },
   {
    "duration": 29,
    "start_time": "2022-03-28T17:45:54.738Z"
   },
   {
    "duration": 18,
    "start_time": "2022-03-28T17:46:05.395Z"
   },
   {
    "duration": 14,
    "start_time": "2022-03-28T17:46:12.949Z"
   },
   {
    "duration": 9,
    "start_time": "2022-03-28T17:46:54.415Z"
   },
   {
    "duration": 8,
    "start_time": "2022-03-28T17:47:04.693Z"
   },
   {
    "duration": 9,
    "start_time": "2022-03-28T17:47:10.457Z"
   },
   {
    "duration": 9,
    "start_time": "2022-03-28T17:47:11.580Z"
   },
   {
    "duration": 16,
    "start_time": "2022-03-28T17:47:48.734Z"
   },
   {
    "duration": 9,
    "start_time": "2022-03-28T17:48:03.693Z"
   },
   {
    "duration": 10,
    "start_time": "2022-03-28T17:48:08.953Z"
   },
   {
    "duration": 8,
    "start_time": "2022-03-28T17:48:13.834Z"
   },
   {
    "duration": 5,
    "start_time": "2022-03-28T17:48:17.698Z"
   },
   {
    "duration": 13,
    "start_time": "2022-03-28T17:48:21.540Z"
   },
   {
    "duration": 188,
    "start_time": "2022-03-28T17:49:18.362Z"
   },
   {
    "duration": 177,
    "start_time": "2022-03-28T17:50:00.985Z"
   },
   {
    "duration": 19,
    "start_time": "2022-03-28T17:50:05.886Z"
   },
   {
    "duration": 107,
    "start_time": "2022-03-28T17:51:26.619Z"
   },
   {
    "duration": 87,
    "start_time": "2022-03-28T17:51:41.335Z"
   },
   {
    "duration": 13,
    "start_time": "2022-03-28T17:52:23.373Z"
   },
   {
    "duration": 114,
    "start_time": "2022-03-28T17:53:11.358Z"
   },
   {
    "duration": 124,
    "start_time": "2022-03-28T17:53:17.902Z"
   },
   {
    "duration": 19,
    "start_time": "2022-03-28T17:53:41.158Z"
   },
   {
    "duration": 15,
    "start_time": "2022-03-28T17:54:09.160Z"
   },
   {
    "duration": 12,
    "start_time": "2022-03-28T17:54:25.280Z"
   },
   {
    "duration": 10,
    "start_time": "2022-03-28T17:54:31.501Z"
   },
   {
    "duration": 103,
    "start_time": "2022-03-28T17:54:33.388Z"
   },
   {
    "duration": 106,
    "start_time": "2022-03-28T17:54:39.559Z"
   },
   {
    "duration": 224,
    "start_time": "2022-03-28T17:55:07.428Z"
   },
   {
    "duration": 18,
    "start_time": "2022-03-28T17:55:33.412Z"
   },
   {
    "duration": 179,
    "start_time": "2022-03-28T17:55:33.963Z"
   },
   {
    "duration": 10,
    "start_time": "2022-03-28T17:57:20.598Z"
   },
   {
    "duration": 17,
    "start_time": "2022-03-28T17:57:26.587Z"
   },
   {
    "duration": 170,
    "start_time": "2022-03-28T17:57:47.307Z"
   },
   {
    "duration": 12,
    "start_time": "2022-03-28T17:57:53.780Z"
   },
   {
    "duration": 20,
    "start_time": "2022-03-28T17:58:12.935Z"
   },
   {
    "duration": 19,
    "start_time": "2022-03-28T17:58:20.512Z"
   },
   {
    "duration": 20,
    "start_time": "2022-03-28T17:58:32.380Z"
   },
   {
    "duration": 19,
    "start_time": "2022-03-28T17:58:54.178Z"
   },
   {
    "duration": 23,
    "start_time": "2022-03-28T17:59:00.910Z"
   },
   {
    "duration": 9,
    "start_time": "2022-03-28T17:59:14.188Z"
   },
   {
    "duration": 16,
    "start_time": "2022-03-28T17:59:16.490Z"
   },
   {
    "duration": 22,
    "start_time": "2022-03-28T17:59:37.359Z"
   },
   {
    "duration": 15,
    "start_time": "2022-03-28T18:00:01.338Z"
   },
   {
    "duration": 20,
    "start_time": "2022-03-28T18:00:24.599Z"
   },
   {
    "duration": 15,
    "start_time": "2022-03-28T18:01:27.272Z"
   },
   {
    "duration": 23,
    "start_time": "2022-03-28T18:01:36.292Z"
   },
   {
    "duration": 17,
    "start_time": "2022-03-28T18:01:47.861Z"
   },
   {
    "duration": 11,
    "start_time": "2022-03-28T18:01:57.366Z"
   },
   {
    "duration": 10,
    "start_time": "2022-03-28T18:02:07.796Z"
   },
   {
    "duration": 16,
    "start_time": "2022-03-28T18:02:33.442Z"
   },
   {
    "duration": 13,
    "start_time": "2022-03-28T18:02:41.555Z"
   },
   {
    "duration": 21,
    "start_time": "2022-03-28T18:03:00.628Z"
   },
   {
    "duration": 17,
    "start_time": "2022-03-28T18:03:28.098Z"
   },
   {
    "duration": 9,
    "start_time": "2022-03-28T18:04:57.131Z"
   },
   {
    "duration": 13,
    "start_time": "2022-03-28T18:05:01.144Z"
   },
   {
    "duration": 28,
    "start_time": "2022-03-28T18:05:21.680Z"
   },
   {
    "duration": 10,
    "start_time": "2022-03-28T18:06:10.859Z"
   },
   {
    "duration": 12,
    "start_time": "2022-03-28T18:06:21.639Z"
   },
   {
    "duration": 15,
    "start_time": "2022-03-28T18:07:51.245Z"
   },
   {
    "duration": 8,
    "start_time": "2022-03-28T18:08:56.137Z"
   },
   {
    "duration": 13,
    "start_time": "2022-03-28T18:08:58.851Z"
   },
   {
    "duration": 122,
    "start_time": "2022-03-28T18:11:46.616Z"
   },
   {
    "duration": 9,
    "start_time": "2022-03-28T18:11:56.407Z"
   },
   {
    "duration": 8,
    "start_time": "2022-03-28T18:11:57.947Z"
   },
   {
    "duration": 13,
    "start_time": "2022-03-28T18:12:01.181Z"
   },
   {
    "duration": 16,
    "start_time": "2022-03-28T18:13:00.715Z"
   },
   {
    "duration": 18,
    "start_time": "2022-03-28T18:13:36.703Z"
   },
   {
    "duration": 19,
    "start_time": "2022-03-28T18:14:10.565Z"
   },
   {
    "duration": 15,
    "start_time": "2022-03-28T18:14:25.677Z"
   },
   {
    "duration": 18,
    "start_time": "2022-03-28T18:15:38.498Z"
   },
   {
    "duration": 14,
    "start_time": "2022-03-28T18:15:45.743Z"
   },
   {
    "duration": 17,
    "start_time": "2022-03-28T18:16:17.219Z"
   },
   {
    "duration": 17,
    "start_time": "2022-03-28T18:16:32.315Z"
   },
   {
    "duration": 17,
    "start_time": "2022-03-28T18:17:07.983Z"
   },
   {
    "duration": 17,
    "start_time": "2022-03-28T18:17:14.869Z"
   },
   {
    "duration": 7,
    "start_time": "2022-03-28T18:17:32.784Z"
   },
   {
    "duration": 8,
    "start_time": "2022-03-28T18:17:36.326Z"
   },
   {
    "duration": 10,
    "start_time": "2022-03-28T18:17:41.489Z"
   },
   {
    "duration": 16,
    "start_time": "2022-03-28T18:17:52.209Z"
   },
   {
    "duration": 8,
    "start_time": "2022-03-28T18:17:59.770Z"
   },
   {
    "duration": 11,
    "start_time": "2022-03-28T18:18:06.519Z"
   },
   {
    "duration": 9,
    "start_time": "2022-03-28T18:18:14.042Z"
   },
   {
    "duration": 12,
    "start_time": "2022-03-28T18:18:14.653Z"
   },
   {
    "duration": 25,
    "start_time": "2022-03-28T18:19:31.760Z"
   },
   {
    "duration": 21,
    "start_time": "2022-03-28T18:19:59.657Z"
   },
   {
    "duration": 19,
    "start_time": "2022-03-28T18:21:06.458Z"
   },
   {
    "duration": 10,
    "start_time": "2022-03-28T18:21:19.179Z"
   },
   {
    "duration": 17,
    "start_time": "2022-03-28T18:21:22.261Z"
   },
   {
    "duration": 18,
    "start_time": "2022-03-28T18:21:31.107Z"
   },
   {
    "duration": 17,
    "start_time": "2022-03-28T18:21:37.303Z"
   },
   {
    "duration": 19,
    "start_time": "2022-03-28T18:21:43.193Z"
   },
   {
    "duration": 17,
    "start_time": "2022-03-28T18:21:50.422Z"
   },
   {
    "duration": 12,
    "start_time": "2022-03-28T18:22:02.561Z"
   },
   {
    "duration": 16,
    "start_time": "2022-03-28T18:22:05.430Z"
   },
   {
    "duration": 15,
    "start_time": "2022-03-28T18:22:45.834Z"
   },
   {
    "duration": 147,
    "start_time": "2022-03-28T18:22:57.627Z"
   },
   {
    "duration": 612,
    "start_time": "2022-03-28T18:23:14.459Z"
   },
   {
    "duration": 564,
    "start_time": "2022-03-28T18:23:25.623Z"
   },
   {
    "duration": 141,
    "start_time": "2022-03-28T18:23:44.281Z"
   },
   {
    "duration": 139,
    "start_time": "2022-03-28T18:24:33.937Z"
   },
   {
    "duration": 237,
    "start_time": "2022-03-28T18:24:38.057Z"
   },
   {
    "duration": 183,
    "start_time": "2022-03-28T18:24:57.342Z"
   },
   {
    "duration": 614,
    "start_time": "2022-03-28T18:25:32.167Z"
   },
   {
    "duration": 12,
    "start_time": "2022-03-28T18:26:06.820Z"
   },
   {
    "duration": 208,
    "start_time": "2022-03-28T18:26:20.119Z"
   },
   {
    "duration": 244,
    "start_time": "2022-03-28T18:28:18.560Z"
   },
   {
    "duration": 211,
    "start_time": "2022-03-28T18:28:32.579Z"
   },
   {
    "duration": 235,
    "start_time": "2022-03-28T18:28:37.241Z"
   },
   {
    "duration": 1436,
    "start_time": "2022-03-29T08:31:07.087Z"
   },
   {
    "duration": 59,
    "start_time": "2022-03-29T08:31:08.526Z"
   },
   {
    "duration": 16,
    "start_time": "2022-03-29T08:31:08.586Z"
   },
   {
    "duration": 14,
    "start_time": "2022-03-29T08:31:08.603Z"
   },
   {
    "duration": 13,
    "start_time": "2022-03-29T08:31:08.619Z"
   },
   {
    "duration": 19,
    "start_time": "2022-03-29T08:31:08.634Z"
   },
   {
    "duration": 52,
    "start_time": "2022-03-29T08:31:08.655Z"
   },
   {
    "duration": 106,
    "start_time": "2022-03-29T08:31:08.709Z"
   },
   {
    "duration": 197,
    "start_time": "2022-03-29T08:31:08.817Z"
   },
   {
    "duration": 87,
    "start_time": "2022-03-29T08:31:09.016Z"
   },
   {
    "duration": 8,
    "start_time": "2022-03-29T08:31:09.105Z"
   },
   {
    "duration": 17,
    "start_time": "2022-03-29T08:31:09.115Z"
   },
   {
    "duration": 269,
    "start_time": "2022-03-29T08:31:09.134Z"
   },
   {
    "duration": 110,
    "start_time": "2022-03-29T08:31:09.407Z"
   },
   {
    "duration": 166,
    "start_time": "2022-03-29T08:31:45.349Z"
   },
   {
    "duration": 325,
    "start_time": "2022-03-29T08:31:50.096Z"
   },
   {
    "duration": 233,
    "start_time": "2022-03-29T08:32:24.516Z"
   },
   {
    "duration": 311,
    "start_time": "2022-03-29T08:33:09.387Z"
   },
   {
    "duration": 260,
    "start_time": "2022-03-29T08:33:17.720Z"
   },
   {
    "duration": 517,
    "start_time": "2022-03-29T08:33:22.631Z"
   },
   {
    "duration": 16,
    "start_time": "2022-03-29T08:33:53.485Z"
   },
   {
    "duration": 265,
    "start_time": "2022-03-29T08:33:57.506Z"
   },
   {
    "duration": 17,
    "start_time": "2022-03-29T08:34:39.152Z"
   },
   {
    "duration": 261,
    "start_time": "2022-03-29T08:34:39.719Z"
   },
   {
    "duration": 9,
    "start_time": "2022-03-29T08:35:50.789Z"
   },
   {
    "duration": 16,
    "start_time": "2022-03-29T08:36:05.015Z"
   },
   {
    "duration": 7,
    "start_time": "2022-03-29T08:37:38.151Z"
   },
   {
    "duration": 13,
    "start_time": "2022-03-29T08:37:49.644Z"
   },
   {
    "duration": 14,
    "start_time": "2022-03-29T08:37:55.848Z"
   },
   {
    "duration": 15,
    "start_time": "2022-03-29T08:38:06.110Z"
   },
   {
    "duration": 15,
    "start_time": "2022-03-29T08:39:21.315Z"
   },
   {
    "duration": 16,
    "start_time": "2022-03-29T08:39:35.727Z"
   },
   {
    "duration": 14,
    "start_time": "2022-03-29T08:39:56.942Z"
   },
   {
    "duration": 16,
    "start_time": "2022-03-29T08:40:26.745Z"
   },
   {
    "duration": 14,
    "start_time": "2022-03-29T08:40:43.845Z"
   },
   {
    "duration": 15,
    "start_time": "2022-03-29T08:40:51.973Z"
   },
   {
    "duration": 15,
    "start_time": "2022-03-29T08:40:56.947Z"
   },
   {
    "duration": 172,
    "start_time": "2022-03-29T08:41:20.607Z"
   },
   {
    "duration": 15,
    "start_time": "2022-03-29T08:41:28.388Z"
   },
   {
    "duration": 13,
    "start_time": "2022-03-29T08:41:52.315Z"
   },
   {
    "duration": 670,
    "start_time": "2022-03-29T08:47:21.893Z"
   },
   {
    "duration": 8,
    "start_time": "2022-03-29T08:47:31.335Z"
   },
   {
    "duration": 14,
    "start_time": "2022-03-29T08:48:26.993Z"
   },
   {
    "duration": 87,
    "start_time": "2022-03-29T08:48:40.409Z"
   },
   {
    "duration": 83,
    "start_time": "2022-03-29T08:49:05.527Z"
   },
   {
    "duration": 90,
    "start_time": "2022-03-29T08:49:11.819Z"
   },
   {
    "duration": 89,
    "start_time": "2022-03-29T08:49:16.409Z"
   },
   {
    "duration": 10,
    "start_time": "2022-03-29T08:49:19.075Z"
   },
   {
    "duration": 12,
    "start_time": "2022-03-29T08:51:49.734Z"
   },
   {
    "duration": 10,
    "start_time": "2022-03-29T08:51:58.417Z"
   },
   {
    "duration": 11,
    "start_time": "2022-03-29T08:52:10.546Z"
   },
   {
    "duration": 13,
    "start_time": "2022-03-29T08:52:24.500Z"
   },
   {
    "duration": 10,
    "start_time": "2022-03-29T08:53:07.134Z"
   },
   {
    "duration": 10,
    "start_time": "2022-03-29T08:53:14.229Z"
   },
   {
    "duration": 10,
    "start_time": "2022-03-29T08:53:20.822Z"
   },
   {
    "duration": 11,
    "start_time": "2022-03-29T08:53:23.297Z"
   },
   {
    "duration": 243,
    "start_time": "2022-03-29T09:19:19.149Z"
   },
   {
    "duration": 3,
    "start_time": "2022-03-29T09:19:33.997Z"
   },
   {
    "duration": 2324,
    "start_time": "2022-03-29T09:20:15.108Z"
   },
   {
    "duration": 2,
    "start_time": "2022-03-29T09:20:36.920Z"
   },
   {
    "duration": 827,
    "start_time": "2022-03-29T09:20:37.325Z"
   },
   {
    "duration": 772,
    "start_time": "2022-03-29T09:20:43.026Z"
   },
   {
    "duration": 13,
    "start_time": "2022-03-29T09:21:03.375Z"
   },
   {
    "duration": 2,
    "start_time": "2022-03-29T09:22:56.574Z"
   },
   {
    "duration": 769,
    "start_time": "2022-03-29T09:22:56.938Z"
   },
   {
    "duration": 3,
    "start_time": "2022-03-29T09:23:06.790Z"
   },
   {
    "duration": 658,
    "start_time": "2022-03-29T09:23:07.086Z"
   },
   {
    "duration": 4,
    "start_time": "2022-03-29T09:27:30.573Z"
   },
   {
    "duration": 726,
    "start_time": "2022-03-29T09:27:33.387Z"
   },
   {
    "duration": 673,
    "start_time": "2022-03-29T09:27:39.301Z"
   },
   {
    "duration": 3,
    "start_time": "2022-03-29T09:28:26.591Z"
   },
   {
    "duration": 696,
    "start_time": "2022-03-29T09:28:27.030Z"
   },
   {
    "duration": 704,
    "start_time": "2022-03-29T09:28:32.712Z"
   },
   {
    "duration": 2,
    "start_time": "2022-03-29T09:29:55.312Z"
   },
   {
    "duration": 697,
    "start_time": "2022-03-29T09:29:56.000Z"
   },
   {
    "duration": 105,
    "start_time": "2022-03-29T09:30:18.020Z"
   },
   {
    "duration": 8,
    "start_time": "2022-03-29T09:30:25.110Z"
   },
   {
    "duration": 3,
    "start_time": "2022-03-29T09:30:54.507Z"
   },
   {
    "duration": 108,
    "start_time": "2022-03-29T09:30:54.899Z"
   },
   {
    "duration": 8,
    "start_time": "2022-03-29T09:30:55.401Z"
   },
   {
    "duration": 3,
    "start_time": "2022-03-29T09:31:19.989Z"
   },
   {
    "duration": 108,
    "start_time": "2022-03-29T09:31:20.454Z"
   },
   {
    "duration": 10,
    "start_time": "2022-03-29T09:31:20.869Z"
   },
   {
    "duration": 3,
    "start_time": "2022-03-29T09:31:36.386Z"
   },
   {
    "duration": 100,
    "start_time": "2022-03-29T09:31:37.716Z"
   },
   {
    "duration": 9,
    "start_time": "2022-03-29T09:31:38.098Z"
   },
   {
    "duration": 5,
    "start_time": "2022-03-29T09:31:42.634Z"
   },
   {
    "duration": 60,
    "start_time": "2022-03-29T09:31:42.641Z"
   },
   {
    "duration": 9,
    "start_time": "2022-03-29T09:31:42.703Z"
   },
   {
    "duration": 14,
    "start_time": "2022-03-29T09:31:42.714Z"
   },
   {
    "duration": 9,
    "start_time": "2022-03-29T09:31:42.731Z"
   },
   {
    "duration": 22,
    "start_time": "2022-03-29T09:31:42.742Z"
   },
   {
    "duration": 39,
    "start_time": "2022-03-29T09:31:42.766Z"
   },
   {
    "duration": 115,
    "start_time": "2022-03-29T09:31:42.806Z"
   },
   {
    "duration": 3,
    "start_time": "2022-03-29T09:31:42.923Z"
   },
   {
    "duration": 124,
    "start_time": "2022-03-29T09:31:42.927Z"
   },
   {
    "duration": 15,
    "start_time": "2022-03-29T09:31:43.053Z"
   },
   {
    "duration": 215,
    "start_time": "2022-03-29T09:31:43.070Z"
   },
   {
    "duration": 91,
    "start_time": "2022-03-29T09:31:43.286Z"
   },
   {
    "duration": 31,
    "start_time": "2022-03-29T09:31:43.380Z"
   },
   {
    "duration": 279,
    "start_time": "2022-03-29T09:31:43.412Z"
   },
   {
    "duration": 8,
    "start_time": "2022-03-29T09:31:43.701Z"
   },
   {
    "duration": 12,
    "start_time": "2022-03-29T09:31:43.710Z"
   },
   {
    "duration": 14,
    "start_time": "2022-03-29T09:31:43.723Z"
   },
   {
    "duration": 3,
    "start_time": "2022-03-29T09:31:43.739Z"
   },
   {
    "duration": 4,
    "start_time": "2022-03-29T09:31:55.376Z"
   },
   {
    "duration": 74,
    "start_time": "2022-03-29T09:31:55.381Z"
   },
   {
    "duration": 9,
    "start_time": "2022-03-29T09:31:55.456Z"
   },
   {
    "duration": 31,
    "start_time": "2022-03-29T09:31:55.467Z"
   },
   {
    "duration": 23,
    "start_time": "2022-03-29T09:31:55.500Z"
   },
   {
    "duration": 36,
    "start_time": "2022-03-29T09:31:55.524Z"
   },
   {
    "duration": 27,
    "start_time": "2022-03-29T09:31:55.561Z"
   },
   {
    "duration": 101,
    "start_time": "2022-03-29T09:31:55.590Z"
   },
   {
    "duration": 3,
    "start_time": "2022-03-29T09:31:55.693Z"
   },
   {
    "duration": 19,
    "start_time": "2022-03-29T09:31:55.698Z"
   },
   {
    "duration": 22,
    "start_time": "2022-03-29T09:31:55.719Z"
   },
   {
    "duration": 204,
    "start_time": "2022-03-29T09:31:55.742Z"
   },
   {
    "duration": 93,
    "start_time": "2022-03-29T09:31:55.947Z"
   },
   {
    "duration": 16,
    "start_time": "2022-03-29T09:31:56.043Z"
   },
   {
    "duration": 291,
    "start_time": "2022-03-29T09:31:56.061Z"
   },
   {
    "duration": 9,
    "start_time": "2022-03-29T09:31:56.354Z"
   },
   {
    "duration": 21,
    "start_time": "2022-03-29T09:31:56.365Z"
   },
   {
    "duration": 14,
    "start_time": "2022-03-29T09:31:56.401Z"
   },
   {
    "duration": 23,
    "start_time": "2022-03-29T09:31:56.417Z"
   },
   {
    "duration": 3,
    "start_time": "2022-03-29T09:32:26.840Z"
   },
   {
    "duration": 112,
    "start_time": "2022-03-29T09:32:27.150Z"
   },
   {
    "duration": 9,
    "start_time": "2022-03-29T09:32:27.516Z"
   },
   {
    "duration": 3,
    "start_time": "2022-03-29T09:32:33.964Z"
   },
   {
    "duration": 106,
    "start_time": "2022-03-29T09:32:34.437Z"
   },
   {
    "duration": 9,
    "start_time": "2022-03-29T09:32:34.792Z"
   },
   {
    "duration": 2,
    "start_time": "2022-03-29T09:32:39.151Z"
   },
   {
    "duration": 100,
    "start_time": "2022-03-29T09:32:39.324Z"
   },
   {
    "duration": 9,
    "start_time": "2022-03-29T09:32:39.511Z"
   },
   {
    "duration": 3,
    "start_time": "2022-03-29T09:32:41.618Z"
   },
   {
    "duration": 62,
    "start_time": "2022-03-29T09:32:41.623Z"
   },
   {
    "duration": 8,
    "start_time": "2022-03-29T09:32:41.686Z"
   },
   {
    "duration": 14,
    "start_time": "2022-03-29T09:32:41.696Z"
   },
   {
    "duration": 9,
    "start_time": "2022-03-29T09:32:41.713Z"
   },
   {
    "duration": 18,
    "start_time": "2022-03-29T09:32:41.723Z"
   },
   {
    "duration": 18,
    "start_time": "2022-03-29T09:32:41.742Z"
   },
   {
    "duration": 120,
    "start_time": "2022-03-29T09:32:41.761Z"
   },
   {
    "duration": 3,
    "start_time": "2022-03-29T09:32:41.883Z"
   },
   {
    "duration": 116,
    "start_time": "2022-03-29T09:32:41.888Z"
   },
   {
    "duration": 9,
    "start_time": "2022-03-29T09:32:42.005Z"
   },
   {
    "duration": 220,
    "start_time": "2022-03-29T09:32:42.016Z"
   },
   {
    "duration": 103,
    "start_time": "2022-03-29T09:32:42.238Z"
   },
   {
    "duration": 23,
    "start_time": "2022-03-29T09:32:42.344Z"
   },
   {
    "duration": 417,
    "start_time": "2022-03-29T09:32:42.369Z"
   },
   {
    "duration": 17,
    "start_time": "2022-03-29T09:32:42.787Z"
   },
   {
    "duration": 12,
    "start_time": "2022-03-29T09:32:42.806Z"
   },
   {
    "duration": 14,
    "start_time": "2022-03-29T09:32:42.819Z"
   },
   {
    "duration": 3,
    "start_time": "2022-03-29T09:32:42.834Z"
   },
   {
    "duration": 3,
    "start_time": "2022-03-29T09:33:25.296Z"
   },
   {
    "duration": 17,
    "start_time": "2022-03-29T09:33:26.440Z"
   },
   {
    "duration": 9,
    "start_time": "2022-03-29T09:33:26.640Z"
   },
   {
    "duration": 3,
    "start_time": "2022-03-29T09:33:35.420Z"
   },
   {
    "duration": 57,
    "start_time": "2022-03-29T09:33:35.424Z"
   },
   {
    "duration": 9,
    "start_time": "2022-03-29T09:33:35.482Z"
   },
   {
    "duration": 14,
    "start_time": "2022-03-29T09:33:35.493Z"
   },
   {
    "duration": 8,
    "start_time": "2022-03-29T09:33:35.509Z"
   },
   {
    "duration": 17,
    "start_time": "2022-03-29T09:33:35.518Z"
   },
   {
    "duration": 19,
    "start_time": "2022-03-29T09:33:35.537Z"
   },
   {
    "duration": 127,
    "start_time": "2022-03-29T09:33:35.558Z"
   },
   {
    "duration": 3,
    "start_time": "2022-03-29T09:33:35.686Z"
   },
   {
    "duration": 130,
    "start_time": "2022-03-29T09:33:35.691Z"
   },
   {
    "duration": 10,
    "start_time": "2022-03-29T09:33:35.823Z"
   },
   {
    "duration": 303,
    "start_time": "2022-03-29T09:33:35.835Z"
   },
   {
    "duration": 96,
    "start_time": "2022-03-29T09:33:36.140Z"
   },
   {
    "duration": 17,
    "start_time": "2022-03-29T09:33:36.238Z"
   },
   {
    "duration": 293,
    "start_time": "2022-03-29T09:33:36.257Z"
   },
   {
    "duration": 8,
    "start_time": "2022-03-29T09:33:36.552Z"
   },
   {
    "duration": 11,
    "start_time": "2022-03-29T09:33:36.562Z"
   },
   {
    "duration": 34,
    "start_time": "2022-03-29T09:33:36.574Z"
   },
   {
    "duration": 6,
    "start_time": "2022-03-29T09:33:36.610Z"
   },
   {
    "duration": 4,
    "start_time": "2022-03-29T09:34:11.369Z"
   },
   {
    "duration": 78,
    "start_time": "2022-03-29T09:34:11.376Z"
   },
   {
    "duration": 9,
    "start_time": "2022-03-29T09:34:11.456Z"
   },
   {
    "duration": 35,
    "start_time": "2022-03-29T09:34:11.467Z"
   },
   {
    "duration": 31,
    "start_time": "2022-03-29T09:34:11.505Z"
   },
   {
    "duration": 37,
    "start_time": "2022-03-29T09:34:11.538Z"
   },
   {
    "duration": 33,
    "start_time": "2022-03-29T09:34:11.577Z"
   },
   {
    "duration": 106,
    "start_time": "2022-03-29T09:34:11.612Z"
   },
   {
    "duration": 4,
    "start_time": "2022-03-29T09:34:11.719Z"
   },
   {
    "duration": 27,
    "start_time": "2022-03-29T09:34:11.725Z"
   },
   {
    "duration": 39,
    "start_time": "2022-03-29T09:34:11.753Z"
   },
   {
    "duration": 220,
    "start_time": "2022-03-29T09:34:11.794Z"
   },
   {
    "duration": 89,
    "start_time": "2022-03-29T09:34:12.016Z"
   },
   {
    "duration": 17,
    "start_time": "2022-03-29T09:34:12.108Z"
   },
   {
    "duration": 299,
    "start_time": "2022-03-29T09:34:12.126Z"
   },
   {
    "duration": 10,
    "start_time": "2022-03-29T09:34:12.426Z"
   },
   {
    "duration": 34,
    "start_time": "2022-03-29T09:34:12.438Z"
   },
   {
    "duration": 37,
    "start_time": "2022-03-29T09:34:12.474Z"
   },
   {
    "duration": 16,
    "start_time": "2022-03-29T09:34:12.514Z"
   },
   {
    "duration": 3,
    "start_time": "2022-03-29T09:36:02.113Z"
   },
   {
    "duration": 2,
    "start_time": "2022-03-29T09:36:02.455Z"
   },
   {
    "duration": 18,
    "start_time": "2022-03-29T09:36:05.019Z"
   },
   {
    "duration": 3,
    "start_time": "2022-03-29T09:36:32.867Z"
   },
   {
    "duration": 18,
    "start_time": "2022-03-29T09:36:33.679Z"
   },
   {
    "duration": 4,
    "start_time": "2022-03-29T09:43:22.314Z"
   },
   {
    "duration": 109,
    "start_time": "2022-03-29T09:43:22.794Z"
   },
   {
    "duration": 8,
    "start_time": "2022-03-29T09:43:23.967Z"
   },
   {
    "duration": 182,
    "start_time": "2022-03-29T09:45:28.520Z"
   },
   {
    "duration": 18,
    "start_time": "2022-03-29T09:45:28.984Z"
   },
   {
    "duration": 8,
    "start_time": "2022-03-29T09:45:29.455Z"
   },
   {
    "duration": 4,
    "start_time": "2022-03-29T09:45:41.970Z"
   },
   {
    "duration": 17,
    "start_time": "2022-03-29T09:45:42.669Z"
   },
   {
    "duration": 7,
    "start_time": "2022-03-29T09:45:45.175Z"
   },
   {
    "duration": 3,
    "start_time": "2022-03-29T09:45:47.097Z"
   },
   {
    "duration": 75,
    "start_time": "2022-03-29T09:45:47.102Z"
   },
   {
    "duration": 9,
    "start_time": "2022-03-29T09:45:47.179Z"
   },
   {
    "duration": 13,
    "start_time": "2022-03-29T09:45:47.189Z"
   },
   {
    "duration": 8,
    "start_time": "2022-03-29T09:45:47.204Z"
   },
   {
    "duration": 20,
    "start_time": "2022-03-29T09:45:47.213Z"
   },
   {
    "duration": 17,
    "start_time": "2022-03-29T09:45:47.234Z"
   },
   {
    "duration": 114,
    "start_time": "2022-03-29T09:45:47.252Z"
   },
   {
    "duration": 3,
    "start_time": "2022-03-29T09:45:47.368Z"
   },
   {
    "duration": 121,
    "start_time": "2022-03-29T09:45:47.373Z"
   },
   {
    "duration": 10,
    "start_time": "2022-03-29T09:45:47.496Z"
   },
   {
    "duration": 201,
    "start_time": "2022-03-29T09:45:47.507Z"
   },
   {
    "duration": 93,
    "start_time": "2022-03-29T09:45:47.710Z"
   },
   {
    "duration": 18,
    "start_time": "2022-03-29T09:45:47.806Z"
   },
   {
    "duration": 326,
    "start_time": "2022-03-29T09:45:47.825Z"
   },
   {
    "duration": 9,
    "start_time": "2022-03-29T09:45:48.202Z"
   },
   {
    "duration": 11,
    "start_time": "2022-03-29T09:45:48.213Z"
   },
   {
    "duration": 11,
    "start_time": "2022-03-29T09:45:48.225Z"
   },
   {
    "duration": 3,
    "start_time": "2022-03-29T09:45:48.237Z"
   },
   {
    "duration": 209,
    "start_time": "2022-03-29T09:46:09.576Z"
   },
   {
    "duration": 0,
    "start_time": "2022-03-29T09:46:09.786Z"
   },
   {
    "duration": 3,
    "start_time": "2022-03-29T09:46:21.575Z"
   },
   {
    "duration": 68,
    "start_time": "2022-03-29T09:46:21.580Z"
   },
   {
    "duration": 9,
    "start_time": "2022-03-29T09:46:21.650Z"
   },
   {
    "duration": 21,
    "start_time": "2022-03-29T09:46:21.660Z"
   },
   {
    "duration": 16,
    "start_time": "2022-03-29T09:46:21.683Z"
   },
   {
    "duration": 42,
    "start_time": "2022-03-29T09:46:21.700Z"
   },
   {
    "duration": 20,
    "start_time": "2022-03-29T09:46:21.744Z"
   },
   {
    "duration": 94,
    "start_time": "2022-03-29T09:46:21.765Z"
   },
   {
    "duration": 252,
    "start_time": "2022-03-29T09:46:21.861Z"
   },
   {
    "duration": 0,
    "start_time": "2022-03-29T09:46:22.115Z"
   },
   {
    "duration": 0,
    "start_time": "2022-03-29T09:46:22.116Z"
   },
   {
    "duration": 0,
    "start_time": "2022-03-29T09:46:22.117Z"
   },
   {
    "duration": 0,
    "start_time": "2022-03-29T09:46:22.118Z"
   },
   {
    "duration": 0,
    "start_time": "2022-03-29T09:46:22.119Z"
   },
   {
    "duration": 0,
    "start_time": "2022-03-29T09:46:22.120Z"
   },
   {
    "duration": 0,
    "start_time": "2022-03-29T09:46:22.121Z"
   },
   {
    "duration": 0,
    "start_time": "2022-03-29T09:46:22.123Z"
   },
   {
    "duration": 0,
    "start_time": "2022-03-29T09:46:22.124Z"
   },
   {
    "duration": 0,
    "start_time": "2022-03-29T09:46:22.125Z"
   },
   {
    "duration": 3,
    "start_time": "2022-03-29T09:46:42.085Z"
   },
   {
    "duration": 17,
    "start_time": "2022-03-29T09:46:42.690Z"
   },
   {
    "duration": 10,
    "start_time": "2022-03-29T09:46:43.480Z"
   },
   {
    "duration": 4,
    "start_time": "2022-03-29T09:46:52.614Z"
   },
   {
    "duration": 219,
    "start_time": "2022-03-29T09:46:52.996Z"
   },
   {
    "duration": 8,
    "start_time": "2022-03-29T09:46:54.654Z"
   },
   {
    "duration": 3,
    "start_time": "2022-03-29T09:47:05.423Z"
   },
   {
    "duration": 59,
    "start_time": "2022-03-29T09:47:05.428Z"
   },
   {
    "duration": 9,
    "start_time": "2022-03-29T09:47:05.489Z"
   },
   {
    "duration": 14,
    "start_time": "2022-03-29T09:47:05.499Z"
   },
   {
    "duration": 8,
    "start_time": "2022-03-29T09:47:05.515Z"
   },
   {
    "duration": 18,
    "start_time": "2022-03-29T09:47:05.525Z"
   },
   {
    "duration": 19,
    "start_time": "2022-03-29T09:47:05.544Z"
   },
   {
    "duration": 120,
    "start_time": "2022-03-29T09:47:05.564Z"
   },
   {
    "duration": 3,
    "start_time": "2022-03-29T09:47:05.686Z"
   },
   {
    "duration": 112,
    "start_time": "2022-03-29T09:47:05.690Z"
   },
   {
    "duration": 8,
    "start_time": "2022-03-29T09:47:05.804Z"
   },
   {
    "duration": 327,
    "start_time": "2022-03-29T09:47:05.814Z"
   },
   {
    "duration": 578,
    "start_time": "2022-03-29T09:47:06.143Z"
   },
   {
    "duration": 76,
    "start_time": "2022-03-29T09:47:06.724Z"
   },
   {
    "duration": 916,
    "start_time": "2022-03-29T09:47:06.803Z"
   },
   {
    "duration": 12,
    "start_time": "2022-03-29T09:47:07.721Z"
   },
   {
    "duration": 67,
    "start_time": "2022-03-29T09:47:07.735Z"
   },
   {
    "duration": 13,
    "start_time": "2022-03-29T09:47:07.804Z"
   },
   {
    "duration": 3,
    "start_time": "2022-03-29T09:47:07.819Z"
   },
   {
    "duration": 3,
    "start_time": "2022-03-29T09:47:42.360Z"
   },
   {
    "duration": 77,
    "start_time": "2022-03-29T09:47:42.365Z"
   },
   {
    "duration": 9,
    "start_time": "2022-03-29T09:47:42.444Z"
   },
   {
    "duration": 29,
    "start_time": "2022-03-29T09:47:42.454Z"
   },
   {
    "duration": 15,
    "start_time": "2022-03-29T09:47:42.486Z"
   },
   {
    "duration": 36,
    "start_time": "2022-03-29T09:47:42.502Z"
   },
   {
    "duration": 24,
    "start_time": "2022-03-29T09:47:42.539Z"
   },
   {
    "duration": 97,
    "start_time": "2022-03-29T09:47:42.565Z"
   },
   {
    "duration": 3,
    "start_time": "2022-03-29T09:47:42.663Z"
   },
   {
    "duration": 116,
    "start_time": "2022-03-29T09:47:42.668Z"
   },
   {
    "duration": 8,
    "start_time": "2022-03-29T09:47:42.786Z"
   },
   {
    "duration": 215,
    "start_time": "2022-03-29T09:47:42.795Z"
   },
   {
    "duration": 123,
    "start_time": "2022-03-29T09:47:43.012Z"
   },
   {
    "duration": 69,
    "start_time": "2022-03-29T09:47:43.137Z"
   },
   {
    "duration": 719,
    "start_time": "2022-03-29T09:47:43.207Z"
   },
   {
    "duration": 11,
    "start_time": "2022-03-29T09:47:43.928Z"
   },
   {
    "duration": 67,
    "start_time": "2022-03-29T09:47:43.941Z"
   },
   {
    "duration": 28,
    "start_time": "2022-03-29T09:47:44.010Z"
   },
   {
    "duration": 17,
    "start_time": "2022-03-29T09:47:44.040Z"
   },
   {
    "duration": 3,
    "start_time": "2022-03-29T09:48:15.736Z"
   },
   {
    "duration": 74,
    "start_time": "2022-03-29T09:48:15.741Z"
   },
   {
    "duration": 10,
    "start_time": "2022-03-29T09:48:15.816Z"
   },
   {
    "duration": 27,
    "start_time": "2022-03-29T09:48:15.827Z"
   },
   {
    "duration": 22,
    "start_time": "2022-03-29T09:48:15.856Z"
   },
   {
    "duration": 26,
    "start_time": "2022-03-29T09:48:15.880Z"
   },
   {
    "duration": 28,
    "start_time": "2022-03-29T09:48:15.907Z"
   },
   {
    "duration": 101,
    "start_time": "2022-03-29T09:48:15.937Z"
   },
   {
    "duration": 4,
    "start_time": "2022-03-29T09:48:16.040Z"
   },
   {
    "duration": 124,
    "start_time": "2022-03-29T09:48:16.045Z"
   },
   {
    "duration": 8,
    "start_time": "2022-03-29T09:48:16.171Z"
   },
   {
    "duration": 216,
    "start_time": "2022-03-29T09:48:16.180Z"
   },
   {
    "duration": 81,
    "start_time": "2022-03-29T09:48:16.398Z"
   },
   {
    "duration": 24,
    "start_time": "2022-03-29T09:48:16.481Z"
   },
   {
    "duration": 286,
    "start_time": "2022-03-29T09:48:16.506Z"
   },
   {
    "duration": 9,
    "start_time": "2022-03-29T09:48:16.801Z"
   },
   {
    "duration": 35,
    "start_time": "2022-03-29T09:48:16.811Z"
   },
   {
    "duration": 27,
    "start_time": "2022-03-29T09:48:16.848Z"
   },
   {
    "duration": 12,
    "start_time": "2022-03-29T09:48:16.877Z"
   },
   {
    "duration": 2174,
    "start_time": "2022-03-29T11:00:07.573Z"
   },
   {
    "duration": 79,
    "start_time": "2022-03-29T11:00:09.750Z"
   },
   {
    "duration": 17,
    "start_time": "2022-03-29T11:00:09.831Z"
   },
   {
    "duration": 19,
    "start_time": "2022-03-29T11:00:09.851Z"
   },
   {
    "duration": 14,
    "start_time": "2022-03-29T11:00:09.873Z"
   },
   {
    "duration": 55,
    "start_time": "2022-03-29T11:00:09.889Z"
   },
   {
    "duration": 26,
    "start_time": "2022-03-29T11:00:09.946Z"
   },
   {
    "duration": 178,
    "start_time": "2022-03-29T11:00:09.974Z"
   },
   {
    "duration": 4,
    "start_time": "2022-03-29T11:00:10.155Z"
   },
   {
    "duration": 170,
    "start_time": "2022-03-29T11:00:10.161Z"
   },
   {
    "duration": 12,
    "start_time": "2022-03-29T11:00:10.333Z"
   },
   {
    "duration": 322,
    "start_time": "2022-03-29T11:00:10.347Z"
   },
   {
    "duration": 149,
    "start_time": "2022-03-29T11:00:10.671Z"
   },
   {
    "duration": 35,
    "start_time": "2022-03-29T11:00:10.824Z"
   },
   {
    "duration": 555,
    "start_time": "2022-03-29T11:00:10.861Z"
   },
   {
    "duration": 12,
    "start_time": "2022-03-29T11:00:11.418Z"
   },
   {
    "duration": 25,
    "start_time": "2022-03-29T11:00:11.432Z"
   },
   {
    "duration": 22,
    "start_time": "2022-03-29T11:00:11.459Z"
   },
   {
    "duration": 14,
    "start_time": "2022-03-29T11:00:11.484Z"
   },
   {
    "duration": 175,
    "start_time": "2022-03-29T11:00:54.409Z"
   },
   {
    "duration": 157,
    "start_time": "2022-03-29T11:00:54.734Z"
   },
   {
    "duration": 4,
    "start_time": "2022-03-29T11:02:01.611Z"
   },
   {
    "duration": 5,
    "start_time": "2022-03-29T11:02:03.794Z"
   },
   {
    "duration": 78,
    "start_time": "2022-03-29T11:02:03.802Z"
   },
   {
    "duration": 12,
    "start_time": "2022-03-29T11:02:03.882Z"
   },
   {
    "duration": 24,
    "start_time": "2022-03-29T11:02:03.896Z"
   },
   {
    "duration": 26,
    "start_time": "2022-03-29T11:02:03.923Z"
   },
   {
    "duration": 29,
    "start_time": "2022-03-29T11:02:03.951Z"
   },
   {
    "duration": 25,
    "start_time": "2022-03-29T11:02:03.982Z"
   },
   {
    "duration": 195,
    "start_time": "2022-03-29T11:02:04.009Z"
   },
   {
    "duration": 5,
    "start_time": "2022-03-29T11:02:04.206Z"
   },
   {
    "duration": 175,
    "start_time": "2022-03-29T11:02:04.213Z"
   },
   {
    "duration": 11,
    "start_time": "2022-03-29T11:02:04.391Z"
   },
   {
    "duration": 538,
    "start_time": "2022-03-29T11:02:04.405Z"
   },
   {
    "duration": 302,
    "start_time": "2022-03-29T11:02:04.945Z"
   },
   {
    "duration": 24,
    "start_time": "2022-03-29T11:02:05.250Z"
   },
   {
    "duration": 1077,
    "start_time": "2022-03-29T11:02:05.276Z"
   },
   {
    "duration": 12,
    "start_time": "2022-03-29T11:02:06.355Z"
   },
   {
    "duration": 17,
    "start_time": "2022-03-29T11:02:06.369Z"
   },
   {
    "duration": 20,
    "start_time": "2022-03-29T11:02:06.442Z"
   },
   {
    "duration": 4,
    "start_time": "2022-03-29T11:02:06.465Z"
   },
   {
    "duration": 187,
    "start_time": "2022-03-29T11:03:08.697Z"
   },
   {
    "duration": 24,
    "start_time": "2022-03-29T11:03:09.037Z"
   },
   {
    "duration": 13,
    "start_time": "2022-03-29T11:03:09.434Z"
   },
   {
    "duration": 5,
    "start_time": "2022-03-29T11:04:23.819Z"
   },
   {
    "duration": 98,
    "start_time": "2022-03-29T11:04:23.826Z"
   },
   {
    "duration": 17,
    "start_time": "2022-03-29T11:04:23.927Z"
   },
   {
    "duration": 19,
    "start_time": "2022-03-29T11:04:23.947Z"
   },
   {
    "duration": 13,
    "start_time": "2022-03-29T11:04:23.969Z"
   },
   {
    "duration": 26,
    "start_time": "2022-03-29T11:04:23.984Z"
   },
   {
    "duration": 57,
    "start_time": "2022-03-29T11:04:24.012Z"
   },
   {
    "duration": 177,
    "start_time": "2022-03-29T11:04:24.071Z"
   },
   {
    "duration": 4,
    "start_time": "2022-03-29T11:04:24.250Z"
   },
   {
    "duration": 182,
    "start_time": "2022-03-29T11:04:24.257Z"
   },
   {
    "duration": 12,
    "start_time": "2022-03-29T11:04:24.442Z"
   },
   {
    "duration": 366,
    "start_time": "2022-03-29T11:04:24.456Z"
   },
   {
    "duration": 157,
    "start_time": "2022-03-29T11:04:24.823Z"
   },
   {
    "duration": 25,
    "start_time": "2022-03-29T11:04:24.983Z"
   },
   {
    "duration": 628,
    "start_time": "2022-03-29T11:04:25.009Z"
   },
   {
    "duration": 12,
    "start_time": "2022-03-29T11:04:25.639Z"
   },
   {
    "duration": 31,
    "start_time": "2022-03-29T11:04:25.653Z"
   },
   {
    "duration": 25,
    "start_time": "2022-03-29T11:04:25.686Z"
   },
   {
    "duration": 17,
    "start_time": "2022-03-29T11:04:25.714Z"
   },
   {
    "duration": 7,
    "start_time": "2022-03-29T11:04:52.896Z"
   },
   {
    "duration": 14,
    "start_time": "2022-03-29T11:04:59.223Z"
   },
   {
    "duration": 2842,
    "start_time": "2022-03-29T11:05:07.243Z"
   },
   {
    "duration": 5,
    "start_time": "2022-03-29T11:05:10.776Z"
   },
   {
    "duration": 70,
    "start_time": "2022-03-29T11:05:10.784Z"
   },
   {
    "duration": 12,
    "start_time": "2022-03-29T11:05:10.856Z"
   },
   {
    "duration": 18,
    "start_time": "2022-03-29T11:05:10.870Z"
   },
   {
    "duration": 12,
    "start_time": "2022-03-29T11:05:10.891Z"
   },
   {
    "duration": 51,
    "start_time": "2022-03-29T11:05:10.905Z"
   },
   {
    "duration": 27,
    "start_time": "2022-03-29T11:05:10.959Z"
   },
   {
    "duration": 189,
    "start_time": "2022-03-29T11:05:10.989Z"
   },
   {
    "duration": 2984,
    "start_time": "2022-03-29T11:05:11.180Z"
   },
   {
    "duration": 0,
    "start_time": "2022-03-29T11:05:14.168Z"
   },
   {
    "duration": 0,
    "start_time": "2022-03-29T11:05:14.171Z"
   },
   {
    "duration": 0,
    "start_time": "2022-03-29T11:05:14.173Z"
   },
   {
    "duration": 0,
    "start_time": "2022-03-29T11:05:14.175Z"
   },
   {
    "duration": 0,
    "start_time": "2022-03-29T11:05:14.177Z"
   },
   {
    "duration": 0,
    "start_time": "2022-03-29T11:05:14.179Z"
   },
   {
    "duration": 0,
    "start_time": "2022-03-29T11:05:14.180Z"
   },
   {
    "duration": 0,
    "start_time": "2022-03-29T11:05:14.182Z"
   },
   {
    "duration": 0,
    "start_time": "2022-03-29T11:05:14.183Z"
   },
   {
    "duration": 0,
    "start_time": "2022-03-29T11:05:14.184Z"
   },
   {
    "duration": 0,
    "start_time": "2022-03-29T11:05:14.186Z"
   },
   {
    "duration": 175,
    "start_time": "2022-03-29T11:11:06.480Z"
   },
   {
    "duration": 22,
    "start_time": "2022-03-29T11:11:09.653Z"
   },
   {
    "duration": 30,
    "start_time": "2022-03-29T11:11:13.508Z"
   },
   {
    "duration": 173,
    "start_time": "2022-03-29T11:11:23.603Z"
   },
   {
    "duration": 30,
    "start_time": "2022-03-29T11:11:27.403Z"
   },
   {
    "duration": 23,
    "start_time": "2022-03-29T11:11:39.971Z"
   },
   {
    "duration": 19,
    "start_time": "2022-03-29T11:11:42.375Z"
   },
   {
    "duration": 4,
    "start_time": "2022-03-29T11:12:46.665Z"
   },
   {
    "duration": 83,
    "start_time": "2022-03-29T11:12:46.672Z"
   },
   {
    "duration": 13,
    "start_time": "2022-03-29T11:12:46.757Z"
   },
   {
    "duration": 20,
    "start_time": "2022-03-29T11:12:46.772Z"
   },
   {
    "duration": 13,
    "start_time": "2022-03-29T11:12:46.795Z"
   },
   {
    "duration": 25,
    "start_time": "2022-03-29T11:12:46.843Z"
   },
   {
    "duration": 26,
    "start_time": "2022-03-29T11:12:46.870Z"
   },
   {
    "duration": 205,
    "start_time": "2022-03-29T11:12:46.898Z"
   },
   {
    "duration": 0,
    "start_time": "2022-03-29T11:12:47.105Z"
   },
   {
    "duration": 0,
    "start_time": "2022-03-29T11:12:47.107Z"
   },
   {
    "duration": 0,
    "start_time": "2022-03-29T11:12:47.109Z"
   },
   {
    "duration": 0,
    "start_time": "2022-03-29T11:12:47.110Z"
   },
   {
    "duration": 0,
    "start_time": "2022-03-29T11:12:47.112Z"
   },
   {
    "duration": 0,
    "start_time": "2022-03-29T11:12:47.113Z"
   },
   {
    "duration": 0,
    "start_time": "2022-03-29T11:12:47.115Z"
   },
   {
    "duration": 0,
    "start_time": "2022-03-29T11:12:47.116Z"
   },
   {
    "duration": 0,
    "start_time": "2022-03-29T11:12:47.118Z"
   },
   {
    "duration": 0,
    "start_time": "2022-03-29T11:12:47.121Z"
   },
   {
    "duration": 0,
    "start_time": "2022-03-29T11:12:47.123Z"
   },
   {
    "duration": 0,
    "start_time": "2022-03-29T11:12:47.124Z"
   },
   {
    "duration": 6,
    "start_time": "2022-03-29T11:13:08.781Z"
   },
   {
    "duration": 159,
    "start_time": "2022-03-29T11:13:48.741Z"
   },
   {
    "duration": 4,
    "start_time": "2022-03-29T11:13:50.063Z"
   },
   {
    "duration": 23,
    "start_time": "2022-03-29T11:13:50.554Z"
   },
   {
    "duration": 195,
    "start_time": "2022-03-29T11:14:22.028Z"
   },
   {
    "duration": 28,
    "start_time": "2022-03-29T11:14:22.528Z"
   },
   {
    "duration": 4,
    "start_time": "2022-03-29T11:14:35.511Z"
   },
   {
    "duration": 182,
    "start_time": "2022-03-29T11:14:36.196Z"
   },
   {
    "duration": 14,
    "start_time": "2022-03-29T11:14:37.006Z"
   },
   {
    "duration": 12,
    "start_time": "2022-03-29T11:15:26.257Z"
   },
   {
    "duration": 12,
    "start_time": "2022-03-29T11:15:29.761Z"
   },
   {
    "duration": 8,
    "start_time": "2022-03-29T11:15:34.232Z"
   },
   {
    "duration": 8,
    "start_time": "2022-03-29T11:15:41.519Z"
   },
   {
    "duration": 4,
    "start_time": "2022-03-29T11:16:18.884Z"
   },
   {
    "duration": 24,
    "start_time": "2022-03-29T11:16:19.041Z"
   },
   {
    "duration": 5,
    "start_time": "2022-03-29T11:16:32.158Z"
   },
   {
    "duration": 74,
    "start_time": "2022-03-29T11:16:32.165Z"
   },
   {
    "duration": 13,
    "start_time": "2022-03-29T11:16:32.241Z"
   },
   {
    "duration": 17,
    "start_time": "2022-03-29T11:16:32.256Z"
   },
   {
    "duration": 13,
    "start_time": "2022-03-29T11:16:32.276Z"
   },
   {
    "duration": 63,
    "start_time": "2022-03-29T11:16:32.291Z"
   },
   {
    "duration": 26,
    "start_time": "2022-03-29T11:16:32.356Z"
   },
   {
    "duration": 5,
    "start_time": "2022-03-29T11:16:32.384Z"
   },
   {
    "duration": 191,
    "start_time": "2022-03-29T11:16:32.391Z"
   },
   {
    "duration": 8,
    "start_time": "2022-03-29T11:16:32.585Z"
   },
   {
    "duration": 16,
    "start_time": "2022-03-29T11:16:32.596Z"
   },
   {
    "duration": 50,
    "start_time": "2022-03-29T11:16:32.614Z"
   },
   {
    "duration": 1,
    "start_time": "2022-03-29T11:16:32.667Z"
   },
   {
    "duration": 0,
    "start_time": "2022-03-29T11:16:32.669Z"
   },
   {
    "duration": 0,
    "start_time": "2022-03-29T11:16:32.671Z"
   },
   {
    "duration": 0,
    "start_time": "2022-03-29T11:16:32.672Z"
   },
   {
    "duration": 0,
    "start_time": "2022-03-29T11:16:32.674Z"
   },
   {
    "duration": 0,
    "start_time": "2022-03-29T11:16:32.676Z"
   },
   {
    "duration": 0,
    "start_time": "2022-03-29T11:16:32.678Z"
   },
   {
    "duration": 0,
    "start_time": "2022-03-29T11:16:32.679Z"
   },
   {
    "duration": 1,
    "start_time": "2022-03-29T11:16:32.681Z"
   },
   {
    "duration": 5,
    "start_time": "2022-03-29T11:17:04.463Z"
   },
   {
    "duration": 24727,
    "start_time": "2022-03-29T11:17:04.765Z"
   },
   {
    "duration": 11,
    "start_time": "2022-03-29T11:17:29.495Z"
   },
   {
    "duration": 5,
    "start_time": "2022-03-29T11:17:45.977Z"
   },
   {
    "duration": 68,
    "start_time": "2022-03-29T11:17:45.986Z"
   },
   {
    "duration": 14,
    "start_time": "2022-03-29T11:17:46.056Z"
   },
   {
    "duration": 19,
    "start_time": "2022-03-29T11:17:46.073Z"
   },
   {
    "duration": 47,
    "start_time": "2022-03-29T11:17:46.096Z"
   },
   {
    "duration": 26,
    "start_time": "2022-03-29T11:17:46.145Z"
   },
   {
    "duration": 25,
    "start_time": "2022-03-29T11:17:46.173Z"
   },
   {
    "duration": 5,
    "start_time": "2022-03-29T11:17:46.200Z"
   },
   {
    "duration": 204,
    "start_time": "2022-03-29T11:17:46.208Z"
   },
   {
    "duration": 7,
    "start_time": "2022-03-29T11:17:46.414Z"
   },
   {
    "duration": 5,
    "start_time": "2022-03-29T11:17:46.423Z"
   },
   {
    "duration": 228,
    "start_time": "2022-03-29T11:17:46.443Z"
   },
   {
    "duration": 13,
    "start_time": "2022-03-29T11:17:46.673Z"
   },
   {
    "duration": 708,
    "start_time": "2022-03-29T11:17:46.744Z"
   },
   {
    "duration": 298,
    "start_time": "2022-03-29T11:17:47.455Z"
   },
   {
    "duration": 25,
    "start_time": "2022-03-29T11:17:47.755Z"
   },
   {
    "duration": 1089,
    "start_time": "2022-03-29T11:17:47.782Z"
   },
   {
    "duration": 12,
    "start_time": "2022-03-29T11:17:48.873Z"
   },
   {
    "duration": 15,
    "start_time": "2022-03-29T11:17:48.943Z"
   },
   {
    "duration": 20,
    "start_time": "2022-03-29T11:17:48.961Z"
   },
   {
    "duration": 5,
    "start_time": "2022-03-29T11:17:48.983Z"
   },
   {
    "duration": 5,
    "start_time": "2022-03-29T11:19:28.189Z"
   },
   {
    "duration": 68,
    "start_time": "2022-03-29T11:19:28.197Z"
   },
   {
    "duration": 13,
    "start_time": "2022-03-29T11:19:28.267Z"
   },
   {
    "duration": 19,
    "start_time": "2022-03-29T11:19:28.282Z"
   },
   {
    "duration": 13,
    "start_time": "2022-03-29T11:19:28.304Z"
   },
   {
    "duration": 26,
    "start_time": "2022-03-29T11:19:28.344Z"
   },
   {
    "duration": 25,
    "start_time": "2022-03-29T11:19:28.372Z"
   },
   {
    "duration": 5,
    "start_time": "2022-03-29T11:19:28.399Z"
   },
   {
    "duration": 198,
    "start_time": "2022-03-29T11:19:28.406Z"
   },
   {
    "duration": 8,
    "start_time": "2022-03-29T11:19:28.606Z"
   },
   {
    "duration": 176,
    "start_time": "2022-03-29T11:19:28.615Z"
   },
   {
    "duration": 0,
    "start_time": "2022-03-29T11:19:28.793Z"
   },
   {
    "duration": 0,
    "start_time": "2022-03-29T11:19:28.795Z"
   },
   {
    "duration": 0,
    "start_time": "2022-03-29T11:19:28.796Z"
   },
   {
    "duration": 0,
    "start_time": "2022-03-29T11:19:28.798Z"
   },
   {
    "duration": 0,
    "start_time": "2022-03-29T11:19:28.800Z"
   },
   {
    "duration": 0,
    "start_time": "2022-03-29T11:19:28.801Z"
   },
   {
    "duration": 0,
    "start_time": "2022-03-29T11:19:28.802Z"
   },
   {
    "duration": 0,
    "start_time": "2022-03-29T11:19:28.804Z"
   },
   {
    "duration": 0,
    "start_time": "2022-03-29T11:19:28.805Z"
   },
   {
    "duration": 0,
    "start_time": "2022-03-29T11:19:28.806Z"
   },
   {
    "duration": 4,
    "start_time": "2022-03-29T11:19:41.334Z"
   },
   {
    "duration": 22,
    "start_time": "2022-03-29T11:19:41.916Z"
   },
   {
    "duration": 5,
    "start_time": "2022-03-29T11:19:50.620Z"
   },
   {
    "duration": 181,
    "start_time": "2022-03-29T11:19:51.060Z"
   },
   {
    "duration": 13,
    "start_time": "2022-03-29T11:19:51.896Z"
   },
   {
    "duration": 5,
    "start_time": "2022-03-29T11:21:16.869Z"
   },
   {
    "duration": 172,
    "start_time": "2022-03-29T11:21:17.113Z"
   },
   {
    "duration": 12,
    "start_time": "2022-03-29T11:21:17.428Z"
   },
   {
    "duration": 9,
    "start_time": "2022-03-29T11:22:18.361Z"
   },
   {
    "duration": 7,
    "start_time": "2022-03-29T11:28:23.066Z"
   },
   {
    "duration": 69,
    "start_time": "2022-03-29T11:28:23.076Z"
   },
   {
    "duration": 14,
    "start_time": "2022-03-29T11:28:23.147Z"
   },
   {
    "duration": 21,
    "start_time": "2022-03-29T11:28:23.165Z"
   },
   {
    "duration": 15,
    "start_time": "2022-03-29T11:28:23.189Z"
   },
   {
    "duration": 59,
    "start_time": "2022-03-29T11:28:23.206Z"
   },
   {
    "duration": 24,
    "start_time": "2022-03-29T11:28:23.267Z"
   },
   {
    "duration": 5,
    "start_time": "2022-03-29T11:28:23.294Z"
   },
   {
    "duration": 204,
    "start_time": "2022-03-29T11:28:23.302Z"
   },
   {
    "duration": 8,
    "start_time": "2022-03-29T11:28:23.510Z"
   },
   {
    "duration": 192,
    "start_time": "2022-03-29T11:28:23.520Z"
   },
   {
    "duration": 0,
    "start_time": "2022-03-29T11:28:23.714Z"
   },
   {
    "duration": 0,
    "start_time": "2022-03-29T11:28:23.716Z"
   },
   {
    "duration": 0,
    "start_time": "2022-03-29T11:28:23.717Z"
   },
   {
    "duration": 0,
    "start_time": "2022-03-29T11:28:23.718Z"
   },
   {
    "duration": 0,
    "start_time": "2022-03-29T11:28:23.720Z"
   },
   {
    "duration": 0,
    "start_time": "2022-03-29T11:28:23.721Z"
   },
   {
    "duration": 0,
    "start_time": "2022-03-29T11:28:23.722Z"
   },
   {
    "duration": 0,
    "start_time": "2022-03-29T11:28:23.723Z"
   },
   {
    "duration": 0,
    "start_time": "2022-03-29T11:28:23.725Z"
   },
   {
    "duration": 0,
    "start_time": "2022-03-29T11:28:23.727Z"
   },
   {
    "duration": 0,
    "start_time": "2022-03-29T11:28:23.731Z"
   },
   {
    "duration": 4,
    "start_time": "2022-03-29T11:28:33.927Z"
   },
   {
    "duration": 188,
    "start_time": "2022-03-29T11:28:35.032Z"
   },
   {
    "duration": 182,
    "start_time": "2022-03-29T11:28:38.948Z"
   },
   {
    "duration": 13,
    "start_time": "2022-03-29T11:28:40.931Z"
   },
   {
    "duration": 5,
    "start_time": "2022-03-29T11:28:51.497Z"
   },
   {
    "duration": 187,
    "start_time": "2022-03-29T11:28:52.012Z"
   },
   {
    "duration": 12,
    "start_time": "2022-03-29T11:28:52.476Z"
   },
   {
    "duration": 172,
    "start_time": "2022-03-29T11:29:16.378Z"
   },
   {
    "duration": 177,
    "start_time": "2022-03-29T11:29:16.971Z"
   },
   {
    "duration": 12,
    "start_time": "2022-03-29T11:29:17.720Z"
   },
   {
    "duration": 5,
    "start_time": "2022-03-29T11:29:33.357Z"
   },
   {
    "duration": 181,
    "start_time": "2022-03-29T11:29:35.983Z"
   },
   {
    "duration": 13,
    "start_time": "2022-03-29T11:29:36.263Z"
   },
   {
    "duration": 4,
    "start_time": "2022-03-29T11:30:25.182Z"
   },
   {
    "duration": 181,
    "start_time": "2022-03-29T11:30:25.358Z"
   },
   {
    "duration": 12,
    "start_time": "2022-03-29T11:30:25.681Z"
   },
   {
    "duration": 5,
    "start_time": "2022-03-29T11:30:39.764Z"
   },
   {
    "duration": 177,
    "start_time": "2022-03-29T11:30:40.060Z"
   },
   {
    "duration": 13,
    "start_time": "2022-03-29T11:30:40.308Z"
   },
   {
    "duration": 4,
    "start_time": "2022-03-29T11:30:43.516Z"
   },
   {
    "duration": 177,
    "start_time": "2022-03-29T11:30:43.698Z"
   },
   {
    "duration": 11,
    "start_time": "2022-03-29T11:30:44.213Z"
   },
   {
    "duration": 4,
    "start_time": "2022-03-29T11:33:15.562Z"
   },
   {
    "duration": 182,
    "start_time": "2022-03-29T11:33:17.307Z"
   },
   {
    "duration": 12,
    "start_time": "2022-03-29T11:33:18.099Z"
   },
   {
    "duration": 6,
    "start_time": "2022-03-29T11:38:30.977Z"
   },
   {
    "duration": 199,
    "start_time": "2022-03-29T11:38:31.283Z"
   },
   {
    "duration": 13,
    "start_time": "2022-03-29T11:38:31.593Z"
   },
   {
    "duration": 4,
    "start_time": "2022-03-29T11:38:35.784Z"
   },
   {
    "duration": 30,
    "start_time": "2022-03-29T11:38:36.082Z"
   },
   {
    "duration": 19,
    "start_time": "2022-03-29T11:38:36.258Z"
   },
   {
    "duration": 6,
    "start_time": "2022-03-29T11:38:37.901Z"
   },
   {
    "duration": 115,
    "start_time": "2022-03-29T11:38:37.911Z"
   },
   {
    "duration": 22,
    "start_time": "2022-03-29T11:38:38.029Z"
   },
   {
    "duration": 23,
    "start_time": "2022-03-29T11:38:38.054Z"
   },
   {
    "duration": 14,
    "start_time": "2022-03-29T11:38:38.081Z"
   },
   {
    "duration": 60,
    "start_time": "2022-03-29T11:38:38.097Z"
   },
   {
    "duration": 26,
    "start_time": "2022-03-29T11:38:38.160Z"
   },
   {
    "duration": 5,
    "start_time": "2022-03-29T11:38:38.189Z"
   },
   {
    "duration": 198,
    "start_time": "2022-03-29T11:38:38.196Z"
   },
   {
    "duration": 180,
    "start_time": "2022-03-29T11:38:38.397Z"
   },
   {
    "duration": 0,
    "start_time": "2022-03-29T11:38:38.579Z"
   },
   {
    "duration": 0,
    "start_time": "2022-03-29T11:38:38.581Z"
   },
   {
    "duration": 0,
    "start_time": "2022-03-29T11:38:38.583Z"
   },
   {
    "duration": 0,
    "start_time": "2022-03-29T11:38:38.584Z"
   },
   {
    "duration": 0,
    "start_time": "2022-03-29T11:38:38.586Z"
   },
   {
    "duration": 0,
    "start_time": "2022-03-29T11:38:38.587Z"
   },
   {
    "duration": 0,
    "start_time": "2022-03-29T11:38:38.588Z"
   },
   {
    "duration": 0,
    "start_time": "2022-03-29T11:38:38.590Z"
   },
   {
    "duration": 0,
    "start_time": "2022-03-29T11:38:38.592Z"
   },
   {
    "duration": 0,
    "start_time": "2022-03-29T11:38:38.593Z"
   },
   {
    "duration": 0,
    "start_time": "2022-03-29T11:38:38.595Z"
   },
   {
    "duration": 5,
    "start_time": "2022-03-29T11:38:51.312Z"
   },
   {
    "duration": 4,
    "start_time": "2022-03-29T11:38:53.315Z"
   },
   {
    "duration": 184,
    "start_time": "2022-03-29T11:38:54.595Z"
   },
   {
    "duration": 12,
    "start_time": "2022-03-29T11:38:54.942Z"
   },
   {
    "duration": 3,
    "start_time": "2022-03-29T11:39:00.728Z"
   },
   {
    "duration": 184,
    "start_time": "2022-03-29T11:39:01.019Z"
   },
   {
    "duration": 13,
    "start_time": "2022-03-29T11:39:01.439Z"
   },
   {
    "duration": 6,
    "start_time": "2022-03-29T11:39:11.265Z"
   },
   {
    "duration": 83,
    "start_time": "2022-03-29T11:39:11.275Z"
   },
   {
    "duration": 12,
    "start_time": "2022-03-29T11:39:11.360Z"
   },
   {
    "duration": 27,
    "start_time": "2022-03-29T11:39:11.375Z"
   },
   {
    "duration": 13,
    "start_time": "2022-03-29T11:39:11.405Z"
   },
   {
    "duration": 49,
    "start_time": "2022-03-29T11:39:11.420Z"
   },
   {
    "duration": 25,
    "start_time": "2022-03-29T11:39:11.471Z"
   },
   {
    "duration": 6,
    "start_time": "2022-03-29T11:39:11.498Z"
   },
   {
    "duration": 193,
    "start_time": "2022-03-29T11:39:11.507Z"
   },
   {
    "duration": 5,
    "start_time": "2022-03-29T11:39:11.702Z"
   },
   {
    "duration": 27,
    "start_time": "2022-03-29T11:39:11.709Z"
   },
   {
    "duration": 200,
    "start_time": "2022-03-29T11:39:11.738Z"
   },
   {
    "duration": 13,
    "start_time": "2022-03-29T11:39:11.940Z"
   },
   {
    "duration": 619,
    "start_time": "2022-03-29T11:39:11.956Z"
   },
   {
    "duration": 469,
    "start_time": "2022-03-29T11:39:12.577Z"
   },
   {
    "duration": 36,
    "start_time": "2022-03-29T11:39:13.049Z"
   },
   {
    "duration": 1517,
    "start_time": "2022-03-29T11:39:13.144Z"
   },
   {
    "duration": 18,
    "start_time": "2022-03-29T11:39:14.664Z"
   },
   {
    "duration": 73,
    "start_time": "2022-03-29T11:39:14.685Z"
   },
   {
    "duration": 86,
    "start_time": "2022-03-29T11:39:14.761Z"
   },
   {
    "duration": 4,
    "start_time": "2022-03-29T11:39:14.850Z"
   },
   {
    "duration": 5,
    "start_time": "2022-03-29T11:41:26.537Z"
   },
   {
    "duration": 188,
    "start_time": "2022-03-29T11:41:27.142Z"
   },
   {
    "duration": 14,
    "start_time": "2022-03-29T11:41:27.540Z"
   },
   {
    "duration": 5,
    "start_time": "2022-03-29T11:42:02.459Z"
   },
   {
    "duration": 79,
    "start_time": "2022-03-29T11:42:02.467Z"
   },
   {
    "duration": 13,
    "start_time": "2022-03-29T11:42:02.548Z"
   },
   {
    "duration": 20,
    "start_time": "2022-03-29T11:42:02.564Z"
   },
   {
    "duration": 13,
    "start_time": "2022-03-29T11:42:02.587Z"
   },
   {
    "duration": 52,
    "start_time": "2022-03-29T11:42:02.602Z"
   },
   {
    "duration": 26,
    "start_time": "2022-03-29T11:42:02.656Z"
   },
   {
    "duration": 5,
    "start_time": "2022-03-29T11:42:02.685Z"
   },
   {
    "duration": 192,
    "start_time": "2022-03-29T11:42:02.692Z"
   },
   {
    "duration": 5,
    "start_time": "2022-03-29T11:42:02.886Z"
   },
   {
    "duration": 7,
    "start_time": "2022-03-29T11:42:02.892Z"
   },
   {
    "duration": 197,
    "start_time": "2022-03-29T11:42:02.901Z"
   },
   {
    "duration": 11,
    "start_time": "2022-03-29T11:42:03.101Z"
   },
   {
    "duration": 8,
    "start_time": "2022-03-29T11:42:03.116Z"
   },
   {
    "duration": 371,
    "start_time": "2022-03-29T11:42:03.126Z"
   },
   {
    "duration": 160,
    "start_time": "2022-03-29T11:42:03.499Z"
   },
   {
    "duration": 26,
    "start_time": "2022-03-29T11:42:03.662Z"
   },
   {
    "duration": 1198,
    "start_time": "2022-03-29T11:42:03.691Z"
   },
   {
    "duration": 18,
    "start_time": "2022-03-29T11:42:04.944Z"
   },
   {
    "duration": 79,
    "start_time": "2022-03-29T11:42:04.964Z"
   },
   {
    "duration": 28,
    "start_time": "2022-03-29T11:42:05.046Z"
   },
   {
    "duration": 6,
    "start_time": "2022-03-29T11:42:05.076Z"
   },
   {
    "duration": 5,
    "start_time": "2022-03-29T11:42:40.235Z"
   },
   {
    "duration": 69,
    "start_time": "2022-03-29T11:42:40.243Z"
   },
   {
    "duration": 28,
    "start_time": "2022-03-29T11:42:40.314Z"
   },
   {
    "duration": 18,
    "start_time": "2022-03-29T11:42:40.345Z"
   },
   {
    "duration": 14,
    "start_time": "2022-03-29T11:42:40.365Z"
   },
   {
    "duration": 33,
    "start_time": "2022-03-29T11:42:40.381Z"
   },
   {
    "duration": 48,
    "start_time": "2022-03-29T11:42:40.416Z"
   },
   {
    "duration": 7,
    "start_time": "2022-03-29T11:42:40.466Z"
   },
   {
    "duration": 188,
    "start_time": "2022-03-29T11:42:40.475Z"
   },
   {
    "duration": 5,
    "start_time": "2022-03-29T11:42:40.665Z"
   },
   {
    "duration": 15,
    "start_time": "2022-03-29T11:42:40.672Z"
   },
   {
    "duration": 204,
    "start_time": "2022-03-29T11:42:40.689Z"
   },
   {
    "duration": 13,
    "start_time": "2022-03-29T11:42:40.895Z"
   },
   {
    "duration": 376,
    "start_time": "2022-03-29T11:42:40.914Z"
   },
   {
    "duration": 161,
    "start_time": "2022-03-29T11:42:41.293Z"
   },
   {
    "duration": 31,
    "start_time": "2022-03-29T11:42:41.457Z"
   },
   {
    "duration": 565,
    "start_time": "2022-03-29T11:42:41.490Z"
   },
   {
    "duration": 12,
    "start_time": "2022-03-29T11:42:42.057Z"
   },
   {
    "duration": 18,
    "start_time": "2022-03-29T11:42:42.071Z"
   },
   {
    "duration": 19,
    "start_time": "2022-03-29T11:42:42.091Z"
   },
   {
    "duration": 5,
    "start_time": "2022-03-29T11:42:42.143Z"
   },
   {
    "duration": 4,
    "start_time": "2022-03-29T11:42:47.780Z"
   },
   {
    "duration": 69,
    "start_time": "2022-03-29T11:42:47.787Z"
   },
   {
    "duration": 13,
    "start_time": "2022-03-29T11:42:47.858Z"
   },
   {
    "duration": 17,
    "start_time": "2022-03-29T11:42:47.873Z"
   },
   {
    "duration": 13,
    "start_time": "2022-03-29T11:42:47.893Z"
   },
   {
    "duration": 48,
    "start_time": "2022-03-29T11:42:47.909Z"
   },
   {
    "duration": 26,
    "start_time": "2022-03-29T11:42:47.959Z"
   },
   {
    "duration": 5,
    "start_time": "2022-03-29T11:42:47.987Z"
   },
   {
    "duration": 196,
    "start_time": "2022-03-29T11:42:47.994Z"
   },
   {
    "duration": 5,
    "start_time": "2022-03-29T11:42:48.192Z"
   },
   {
    "duration": 8,
    "start_time": "2022-03-29T11:42:48.199Z"
   },
   {
    "duration": 201,
    "start_time": "2022-03-29T11:42:48.209Z"
   },
   {
    "duration": 12,
    "start_time": "2022-03-29T11:42:48.413Z"
   },
   {
    "duration": 365,
    "start_time": "2022-03-29T11:42:48.429Z"
   },
   {
    "duration": 150,
    "start_time": "2022-03-29T11:42:48.797Z"
   },
   {
    "duration": 26,
    "start_time": "2022-03-29T11:42:48.949Z"
   },
   {
    "duration": 967,
    "start_time": "2022-03-29T11:42:48.976Z"
   },
   {
    "duration": 14,
    "start_time": "2022-03-29T11:42:49.945Z"
   },
   {
    "duration": 23,
    "start_time": "2022-03-29T11:42:49.962Z"
   },
   {
    "duration": 82,
    "start_time": "2022-03-29T11:42:49.987Z"
   },
   {
    "duration": 6,
    "start_time": "2022-03-29T11:42:50.071Z"
   },
   {
    "duration": 2798,
    "start_time": "2022-03-29T11:44:52.356Z"
   },
   {
    "duration": 12,
    "start_time": "2022-03-29T11:45:04.311Z"
   },
   {
    "duration": 13,
    "start_time": "2022-03-29T11:45:10.674Z"
   },
   {
    "duration": 184,
    "start_time": "2022-03-29T11:46:04.621Z"
   },
   {
    "duration": 182,
    "start_time": "2022-03-29T11:46:05.068Z"
   },
   {
    "duration": 6,
    "start_time": "2022-03-29T11:46:09.807Z"
   },
   {
    "duration": 26,
    "start_time": "2022-03-29T11:46:10.478Z"
   },
   {
    "duration": 13,
    "start_time": "2022-03-29T11:46:15.541Z"
   },
   {
    "duration": 6,
    "start_time": "2022-03-29T11:46:18.778Z"
   },
   {
    "duration": 80,
    "start_time": "2022-03-29T11:46:18.788Z"
   },
   {
    "duration": 12,
    "start_time": "2022-03-29T11:46:18.871Z"
   },
   {
    "duration": 23,
    "start_time": "2022-03-29T11:46:18.886Z"
   },
   {
    "duration": 40,
    "start_time": "2022-03-29T11:46:18.913Z"
   },
   {
    "duration": 26,
    "start_time": "2022-03-29T11:46:18.956Z"
   },
   {
    "duration": 26,
    "start_time": "2022-03-29T11:46:18.984Z"
   },
   {
    "duration": 34,
    "start_time": "2022-03-29T11:46:19.012Z"
   },
   {
    "duration": 172,
    "start_time": "2022-03-29T11:46:19.048Z"
   },
   {
    "duration": 5,
    "start_time": "2022-03-29T11:46:19.222Z"
   },
   {
    "duration": 14,
    "start_time": "2022-03-29T11:46:19.229Z"
   },
   {
    "duration": 30,
    "start_time": "2022-03-29T11:46:19.245Z"
   },
   {
    "duration": 0,
    "start_time": "2022-03-29T11:46:19.277Z"
   },
   {
    "duration": 0,
    "start_time": "2022-03-29T11:46:19.279Z"
   },
   {
    "duration": 0,
    "start_time": "2022-03-29T11:46:19.281Z"
   },
   {
    "duration": 0,
    "start_time": "2022-03-29T11:46:19.282Z"
   },
   {
    "duration": 0,
    "start_time": "2022-03-29T11:46:19.283Z"
   },
   {
    "duration": 0,
    "start_time": "2022-03-29T11:46:19.284Z"
   },
   {
    "duration": 0,
    "start_time": "2022-03-29T11:46:19.285Z"
   },
   {
    "duration": 0,
    "start_time": "2022-03-29T11:46:19.287Z"
   },
   {
    "duration": 0,
    "start_time": "2022-03-29T11:46:19.288Z"
   },
   {
    "duration": 0,
    "start_time": "2022-03-29T11:46:19.289Z"
   },
   {
    "duration": 1,
    "start_time": "2022-03-29T11:46:19.290Z"
   },
   {
    "duration": 1697,
    "start_time": "2022-03-29T12:03:07.291Z"
   },
   {
    "duration": 67,
    "start_time": "2022-03-29T12:03:08.991Z"
   },
   {
    "duration": 21,
    "start_time": "2022-03-29T12:03:09.060Z"
   },
   {
    "duration": 21,
    "start_time": "2022-03-29T12:03:09.084Z"
   },
   {
    "duration": 13,
    "start_time": "2022-03-29T12:03:09.108Z"
   },
   {
    "duration": 55,
    "start_time": "2022-03-29T12:03:09.123Z"
   },
   {
    "duration": 26,
    "start_time": "2022-03-29T12:03:09.180Z"
   },
   {
    "duration": 6,
    "start_time": "2022-03-29T12:03:09.208Z"
   },
   {
    "duration": 191,
    "start_time": "2022-03-29T12:03:09.216Z"
   },
   {
    "duration": 5,
    "start_time": "2022-03-29T12:03:09.409Z"
   },
   {
    "duration": 8,
    "start_time": "2022-03-29T12:03:09.416Z"
   },
   {
    "duration": 175,
    "start_time": "2022-03-29T12:03:09.426Z"
   },
   {
    "duration": 0,
    "start_time": "2022-03-29T12:03:09.604Z"
   },
   {
    "duration": 0,
    "start_time": "2022-03-29T12:03:09.606Z"
   },
   {
    "duration": 0,
    "start_time": "2022-03-29T12:03:09.607Z"
   },
   {
    "duration": 1,
    "start_time": "2022-03-29T12:03:09.608Z"
   },
   {
    "duration": 0,
    "start_time": "2022-03-29T12:03:09.610Z"
   },
   {
    "duration": 0,
    "start_time": "2022-03-29T12:03:09.611Z"
   },
   {
    "duration": 0,
    "start_time": "2022-03-29T12:03:09.614Z"
   },
   {
    "duration": 0,
    "start_time": "2022-03-29T12:03:09.616Z"
   },
   {
    "duration": 0,
    "start_time": "2022-03-29T12:03:09.617Z"
   },
   {
    "duration": 0,
    "start_time": "2022-03-29T12:03:09.619Z"
   },
   {
    "duration": 0,
    "start_time": "2022-03-29T12:03:09.622Z"
   },
   {
    "duration": 4,
    "start_time": "2022-03-29T12:03:28.840Z"
   },
   {
    "duration": 192,
    "start_time": "2022-03-29T12:03:29.458Z"
   },
   {
    "duration": 14,
    "start_time": "2022-03-29T12:03:30.902Z"
   },
   {
    "duration": 12,
    "start_time": "2022-03-29T12:03:37.960Z"
   },
   {
    "duration": 13,
    "start_time": "2022-03-29T12:03:40.138Z"
   },
   {
    "duration": 57,
    "start_time": "2022-03-29T12:04:07.525Z"
   },
   {
    "duration": 12,
    "start_time": "2022-03-29T12:04:09.413Z"
   },
   {
    "duration": 20,
    "start_time": "2022-03-29T12:04:18.096Z"
   },
   {
    "duration": 13,
    "start_time": "2022-03-29T12:04:29.534Z"
   },
   {
    "duration": 21,
    "start_time": "2022-03-29T12:04:36.677Z"
   },
   {
    "duration": 15,
    "start_time": "2022-03-29T12:05:08.874Z"
   },
   {
    "duration": 7,
    "start_time": "2022-03-29T12:05:30.110Z"
   },
   {
    "duration": 12,
    "start_time": "2022-03-29T12:05:46.572Z"
   },
   {
    "duration": 21,
    "start_time": "2022-03-29T12:05:49.882Z"
   },
   {
    "duration": 6,
    "start_time": "2022-03-29T12:30:34.463Z"
   },
   {
    "duration": 68,
    "start_time": "2022-03-29T12:30:34.473Z"
   },
   {
    "duration": 24,
    "start_time": "2022-03-29T12:30:34.543Z"
   },
   {
    "duration": 18,
    "start_time": "2022-03-29T12:30:34.570Z"
   },
   {
    "duration": 15,
    "start_time": "2022-03-29T12:30:34.592Z"
   },
   {
    "duration": 66,
    "start_time": "2022-03-29T12:30:34.609Z"
   },
   {
    "duration": 27,
    "start_time": "2022-03-29T12:30:34.677Z"
   },
   {
    "duration": 5,
    "start_time": "2022-03-29T12:30:34.707Z"
   },
   {
    "duration": 196,
    "start_time": "2022-03-29T12:30:34.715Z"
   },
   {
    "duration": 6,
    "start_time": "2022-03-29T12:30:34.913Z"
   },
   {
    "duration": 5,
    "start_time": "2022-03-29T12:30:34.922Z"
   },
   {
    "duration": 211,
    "start_time": "2022-03-29T12:30:34.929Z"
   },
   {
    "duration": 23,
    "start_time": "2022-03-29T12:30:35.143Z"
   },
   {
    "duration": 55,
    "start_time": "2022-03-29T12:30:35.170Z"
   },
   {
    "duration": 20,
    "start_time": "2022-03-29T12:30:35.227Z"
   },
   {
    "duration": 310,
    "start_time": "2022-03-29T12:30:35.267Z"
   },
   {
    "duration": 154,
    "start_time": "2022-03-29T12:30:35.579Z"
   },
   {
    "duration": 34,
    "start_time": "2022-03-29T12:30:35.736Z"
   },
   {
    "duration": 599,
    "start_time": "2022-03-29T12:30:35.773Z"
   },
   {
    "duration": 14,
    "start_time": "2022-03-29T12:30:36.375Z"
   },
   {
    "duration": 19,
    "start_time": "2022-03-29T12:30:36.391Z"
   },
   {
    "duration": 20,
    "start_time": "2022-03-29T12:30:36.412Z"
   },
   {
    "duration": 33,
    "start_time": "2022-03-29T12:30:36.434Z"
   },
   {
    "duration": 227,
    "start_time": "2022-03-29T12:30:50.291Z"
   },
   {
    "duration": 21,
    "start_time": "2022-03-29T12:30:56.328Z"
   },
   {
    "duration": 5,
    "start_time": "2022-03-29T12:31:12.284Z"
   },
   {
    "duration": 69,
    "start_time": "2022-03-29T12:31:12.292Z"
   },
   {
    "duration": 14,
    "start_time": "2022-03-29T12:31:12.363Z"
   },
   {
    "duration": 23,
    "start_time": "2022-03-29T12:31:12.379Z"
   },
   {
    "duration": 13,
    "start_time": "2022-03-29T12:31:12.405Z"
   },
   {
    "duration": 57,
    "start_time": "2022-03-29T12:31:12.420Z"
   },
   {
    "duration": 25,
    "start_time": "2022-03-29T12:31:12.480Z"
   },
   {
    "duration": 7,
    "start_time": "2022-03-29T12:31:12.507Z"
   },
   {
    "duration": 184,
    "start_time": "2022-03-29T12:31:12.516Z"
   },
   {
    "duration": 5,
    "start_time": "2022-03-29T12:31:12.703Z"
   },
   {
    "duration": 19,
    "start_time": "2022-03-29T12:31:12.710Z"
   },
   {
    "duration": 191,
    "start_time": "2022-03-29T12:31:12.731Z"
   },
   {
    "duration": 13,
    "start_time": "2022-03-29T12:31:12.924Z"
   },
   {
    "duration": 16,
    "start_time": "2022-03-29T12:31:12.942Z"
   },
   {
    "duration": 39,
    "start_time": "2022-03-29T12:31:12.967Z"
   },
   {
    "duration": 352,
    "start_time": "2022-03-29T12:31:13.009Z"
   },
   {
    "duration": 154,
    "start_time": "2022-03-29T12:31:13.363Z"
   },
   {
    "duration": 24,
    "start_time": "2022-03-29T12:31:13.520Z"
   },
   {
    "duration": 554,
    "start_time": "2022-03-29T12:31:13.547Z"
   },
   {
    "duration": 15,
    "start_time": "2022-03-29T12:31:14.104Z"
   },
   {
    "duration": 19,
    "start_time": "2022-03-29T12:31:14.122Z"
   },
   {
    "duration": 47,
    "start_time": "2022-03-29T12:31:14.143Z"
   },
   {
    "duration": 27,
    "start_time": "2022-03-29T12:31:14.192Z"
   },
   {
    "duration": 4,
    "start_time": "2022-03-29T12:31:14.222Z"
   },
   {
    "duration": 14,
    "start_time": "2022-03-29T12:31:37.531Z"
   },
   {
    "duration": 17,
    "start_time": "2022-03-29T12:31:48.720Z"
   },
   {
    "duration": 5,
    "start_time": "2022-03-29T12:32:06.236Z"
   },
   {
    "duration": 66,
    "start_time": "2022-03-29T12:32:06.244Z"
   },
   {
    "duration": 23,
    "start_time": "2022-03-29T12:32:06.312Z"
   },
   {
    "duration": 32,
    "start_time": "2022-03-29T12:32:06.338Z"
   },
   {
    "duration": 13,
    "start_time": "2022-03-29T12:32:06.373Z"
   },
   {
    "duration": 26,
    "start_time": "2022-03-29T12:32:06.388Z"
   },
   {
    "duration": 56,
    "start_time": "2022-03-29T12:32:06.416Z"
   },
   {
    "duration": 6,
    "start_time": "2022-03-29T12:32:06.474Z"
   },
   {
    "duration": 173,
    "start_time": "2022-03-29T12:32:06.483Z"
   },
   {
    "duration": 9,
    "start_time": "2022-03-29T12:32:06.659Z"
   },
   {
    "duration": 5,
    "start_time": "2022-03-29T12:32:06.671Z"
   },
   {
    "duration": 210,
    "start_time": "2022-03-29T12:32:06.679Z"
   },
   {
    "duration": 12,
    "start_time": "2022-03-29T12:32:06.891Z"
   },
   {
    "duration": 70,
    "start_time": "2022-03-29T12:32:06.907Z"
   },
   {
    "duration": 20,
    "start_time": "2022-03-29T12:32:06.979Z"
   },
   {
    "duration": 383,
    "start_time": "2022-03-29T12:32:07.002Z"
   },
   {
    "duration": 180,
    "start_time": "2022-03-29T12:32:07.388Z"
   },
   {
    "duration": 27,
    "start_time": "2022-03-29T12:32:07.571Z"
   },
   {
    "duration": 643,
    "start_time": "2022-03-29T12:32:07.601Z"
   },
   {
    "duration": 27,
    "start_time": "2022-03-29T12:32:08.247Z"
   },
   {
    "duration": 19,
    "start_time": "2022-03-29T12:32:08.277Z"
   },
   {
    "duration": 31,
    "start_time": "2022-03-29T12:32:08.298Z"
   },
   {
    "duration": 47,
    "start_time": "2022-03-29T12:32:08.332Z"
   },
   {
    "duration": 5,
    "start_time": "2022-03-29T12:32:08.382Z"
   },
   {
    "duration": 134,
    "start_time": "2022-03-29T12:32:39.534Z"
   },
   {
    "duration": 132,
    "start_time": "2022-03-29T12:32:43.233Z"
   },
   {
    "duration": 196,
    "start_time": "2022-03-29T12:32:52.900Z"
   },
   {
    "duration": 154,
    "start_time": "2022-03-29T12:32:57.341Z"
   },
   {
    "duration": 122,
    "start_time": "2022-03-29T12:33:06.661Z"
   },
   {
    "duration": 126,
    "start_time": "2022-03-29T12:33:11.034Z"
   },
   {
    "duration": 126,
    "start_time": "2022-03-29T12:33:15.080Z"
   },
   {
    "duration": 115,
    "start_time": "2022-03-29T12:33:38.044Z"
   },
   {
    "duration": 6,
    "start_time": "2022-03-29T12:35:12.344Z"
   },
   {
    "duration": 6,
    "start_time": "2022-03-29T12:35:15.156Z"
   },
   {
    "duration": 28,
    "start_time": "2022-03-29T12:35:15.957Z"
   },
   {
    "duration": 5,
    "start_time": "2022-03-29T12:37:02.148Z"
   },
   {
    "duration": 27,
    "start_time": "2022-03-29T12:37:02.789Z"
   },
   {
    "duration": 4,
    "start_time": "2022-03-29T12:37:21.278Z"
   },
   {
    "duration": 67,
    "start_time": "2022-03-29T12:37:21.285Z"
   },
   {
    "duration": 22,
    "start_time": "2022-03-29T12:37:21.354Z"
   },
   {
    "duration": 20,
    "start_time": "2022-03-29T12:37:21.378Z"
   },
   {
    "duration": 14,
    "start_time": "2022-03-29T12:37:21.401Z"
   },
   {
    "duration": 59,
    "start_time": "2022-03-29T12:37:21.417Z"
   },
   {
    "duration": 25,
    "start_time": "2022-03-29T12:37:21.478Z"
   },
   {
    "duration": 6,
    "start_time": "2022-03-29T12:37:21.505Z"
   },
   {
    "duration": 185,
    "start_time": "2022-03-29T12:37:21.513Z"
   },
   {
    "duration": 5,
    "start_time": "2022-03-29T12:37:21.700Z"
   },
   {
    "duration": 8,
    "start_time": "2022-03-29T12:37:21.707Z"
   },
   {
    "duration": 206,
    "start_time": "2022-03-29T12:37:21.717Z"
   },
   {
    "duration": 13,
    "start_time": "2022-03-29T12:37:21.925Z"
   },
   {
    "duration": 138,
    "start_time": "2022-03-29T12:37:21.942Z"
   },
   {
    "duration": 0,
    "start_time": "2022-03-29T12:37:22.082Z"
   },
   {
    "duration": 0,
    "start_time": "2022-03-29T12:37:22.084Z"
   },
   {
    "duration": 0,
    "start_time": "2022-03-29T12:37:22.085Z"
   },
   {
    "duration": 0,
    "start_time": "2022-03-29T12:37:22.087Z"
   },
   {
    "duration": 0,
    "start_time": "2022-03-29T12:37:22.088Z"
   },
   {
    "duration": 0,
    "start_time": "2022-03-29T12:37:22.089Z"
   },
   {
    "duration": 0,
    "start_time": "2022-03-29T12:37:22.091Z"
   },
   {
    "duration": 0,
    "start_time": "2022-03-29T12:37:22.092Z"
   },
   {
    "duration": 0,
    "start_time": "2022-03-29T12:37:22.094Z"
   },
   {
    "duration": 0,
    "start_time": "2022-03-29T12:37:22.095Z"
   },
   {
    "duration": 128,
    "start_time": "2022-03-29T12:37:53.356Z"
   },
   {
    "duration": 12,
    "start_time": "2022-03-29T12:39:26.429Z"
   },
   {
    "duration": 583,
    "start_time": "2022-03-29T12:39:35.198Z"
   },
   {
    "duration": 10,
    "start_time": "2022-03-29T12:40:07.573Z"
   },
   {
    "duration": 354,
    "start_time": "2022-03-29T12:40:09.641Z"
   },
   {
    "duration": 162,
    "start_time": "2022-03-29T12:40:09.998Z"
   },
   {
    "duration": 23,
    "start_time": "2022-03-29T12:40:10.170Z"
   },
   {
    "duration": 528,
    "start_time": "2022-03-29T12:40:10.300Z"
   },
   {
    "duration": 13,
    "start_time": "2022-03-29T12:40:10.830Z"
   },
   {
    "duration": 17,
    "start_time": "2022-03-29T12:40:11.180Z"
   },
   {
    "duration": 22,
    "start_time": "2022-03-29T12:40:13.229Z"
   },
   {
    "duration": 22,
    "start_time": "2022-03-29T12:40:13.350Z"
   },
   {
    "duration": 16,
    "start_time": "2022-03-29T12:40:19.429Z"
   },
   {
    "duration": 17,
    "start_time": "2022-03-29T12:40:25.738Z"
   },
   {
    "duration": 7,
    "start_time": "2022-03-29T12:41:34.421Z"
   },
   {
    "duration": 16,
    "start_time": "2022-03-29T12:42:25.106Z"
   },
   {
    "duration": 16,
    "start_time": "2022-03-29T12:42:27.786Z"
   },
   {
    "duration": 131,
    "start_time": "2022-03-29T12:43:08.397Z"
   },
   {
    "duration": 5,
    "start_time": "2022-03-29T12:45:11.283Z"
   },
   {
    "duration": 27020,
    "start_time": "2022-03-29T12:45:11.977Z"
   },
   {
    "duration": 15,
    "start_time": "2022-03-29T12:45:39.001Z"
   },
   {
    "duration": 5,
    "start_time": "2022-03-29T12:46:04.323Z"
   },
   {
    "duration": 126,
    "start_time": "2022-03-29T12:46:04.331Z"
   },
   {
    "duration": 14,
    "start_time": "2022-03-29T12:46:04.459Z"
   },
   {
    "duration": 49,
    "start_time": "2022-03-29T12:46:04.475Z"
   },
   {
    "duration": 55,
    "start_time": "2022-03-29T12:46:04.527Z"
   },
   {
    "duration": 76,
    "start_time": "2022-03-29T12:46:04.584Z"
   },
   {
    "duration": 38,
    "start_time": "2022-03-29T12:46:04.662Z"
   },
   {
    "duration": 20,
    "start_time": "2022-03-29T12:46:04.702Z"
   },
   {
    "duration": 170,
    "start_time": "2022-03-29T12:46:04.724Z"
   },
   {
    "duration": 7,
    "start_time": "2022-03-29T12:46:04.896Z"
   },
   {
    "duration": 47,
    "start_time": "2022-03-29T12:46:04.906Z"
   },
   {
    "duration": 25125,
    "start_time": "2022-03-29T12:46:04.956Z"
   },
   {
    "duration": 12,
    "start_time": "2022-03-29T12:46:30.083Z"
   },
   {
    "duration": 165,
    "start_time": "2022-03-29T12:46:30.098Z"
   },
   {
    "duration": 0,
    "start_time": "2022-03-29T12:46:30.265Z"
   },
   {
    "duration": 0,
    "start_time": "2022-03-29T12:46:30.267Z"
   },
   {
    "duration": 0,
    "start_time": "2022-03-29T12:46:30.268Z"
   },
   {
    "duration": 0,
    "start_time": "2022-03-29T12:46:30.269Z"
   },
   {
    "duration": 0,
    "start_time": "2022-03-29T12:46:30.270Z"
   },
   {
    "duration": 0,
    "start_time": "2022-03-29T12:46:30.272Z"
   },
   {
    "duration": 0,
    "start_time": "2022-03-29T12:46:30.273Z"
   },
   {
    "duration": 0,
    "start_time": "2022-03-29T12:46:30.275Z"
   },
   {
    "duration": 0,
    "start_time": "2022-03-29T12:46:30.276Z"
   },
   {
    "duration": 0,
    "start_time": "2022-03-29T12:46:30.278Z"
   },
   {
    "duration": 4,
    "start_time": "2022-03-29T12:46:53.734Z"
   },
   {
    "duration": 5,
    "start_time": "2022-03-29T12:46:55.722Z"
   },
   {
    "duration": 65,
    "start_time": "2022-03-29T12:46:55.730Z"
   },
   {
    "duration": 13,
    "start_time": "2022-03-29T12:46:55.797Z"
   },
   {
    "duration": 18,
    "start_time": "2022-03-29T12:46:55.812Z"
   },
   {
    "duration": 35,
    "start_time": "2022-03-29T12:46:55.833Z"
   },
   {
    "duration": 27,
    "start_time": "2022-03-29T12:46:55.870Z"
   },
   {
    "duration": 26,
    "start_time": "2022-03-29T12:46:55.900Z"
   },
   {
    "duration": 5,
    "start_time": "2022-03-29T12:46:55.928Z"
   },
   {
    "duration": 169,
    "start_time": "2022-03-29T12:46:55.967Z"
   },
   {
    "duration": 8,
    "start_time": "2022-03-29T12:46:56.138Z"
   },
   {
    "duration": 24,
    "start_time": "2022-03-29T12:46:56.148Z"
   },
   {
    "duration": 403,
    "start_time": "2022-03-29T12:46:56.174Z"
   },
   {
    "duration": 17,
    "start_time": "2022-03-29T12:46:56.580Z"
   },
   {
    "duration": 16,
    "start_time": "2022-03-29T12:46:56.601Z"
   },
   {
    "duration": 50,
    "start_time": "2022-03-29T12:46:56.619Z"
   },
   {
    "duration": 798,
    "start_time": "2022-03-29T12:46:56.671Z"
   },
   {
    "duration": 516,
    "start_time": "2022-03-29T12:46:57.471Z"
   },
   {
    "duration": 81,
    "start_time": "2022-03-29T12:46:57.990Z"
   },
   {
    "duration": 1503,
    "start_time": "2022-03-29T12:46:58.073Z"
   },
   {
    "duration": 18,
    "start_time": "2022-03-29T12:46:59.578Z"
   },
   {
    "duration": 76,
    "start_time": "2022-03-29T12:46:59.599Z"
   },
   {
    "duration": 18,
    "start_time": "2022-03-29T12:46:59.678Z"
   },
   {
    "duration": 70,
    "start_time": "2022-03-29T12:46:59.699Z"
   },
   {
    "duration": 5,
    "start_time": "2022-03-29T12:46:59.771Z"
   },
   {
    "duration": 4,
    "start_time": "2022-03-29T12:47:24.218Z"
   },
   {
    "duration": 62,
    "start_time": "2022-03-29T12:47:24.225Z"
   },
   {
    "duration": 12,
    "start_time": "2022-03-29T12:47:24.289Z"
   },
   {
    "duration": 18,
    "start_time": "2022-03-29T12:47:24.304Z"
   },
   {
    "duration": 13,
    "start_time": "2022-03-29T12:47:24.325Z"
   },
   {
    "duration": 27,
    "start_time": "2022-03-29T12:47:24.368Z"
   },
   {
    "duration": 25,
    "start_time": "2022-03-29T12:47:24.397Z"
   },
   {
    "duration": 5,
    "start_time": "2022-03-29T12:47:24.424Z"
   },
   {
    "duration": 199,
    "start_time": "2022-03-29T12:47:24.431Z"
   },
   {
    "duration": 7,
    "start_time": "2022-03-29T12:47:24.633Z"
   },
   {
    "duration": 4,
    "start_time": "2022-03-29T12:47:24.642Z"
   },
   {
    "duration": 200,
    "start_time": "2022-03-29T12:47:24.667Z"
   },
   {
    "duration": 12,
    "start_time": "2022-03-29T12:47:24.870Z"
   },
   {
    "duration": 4,
    "start_time": "2022-03-29T12:47:24.887Z"
   },
   {
    "duration": 5,
    "start_time": "2022-03-29T12:47:24.893Z"
   },
   {
    "duration": 497,
    "start_time": "2022-03-29T12:47:24.900Z"
   },
   {
    "duration": 302,
    "start_time": "2022-03-29T12:47:25.399Z"
   },
   {
    "duration": 77,
    "start_time": "2022-03-29T12:47:25.704Z"
   },
   {
    "duration": 1115,
    "start_time": "2022-03-29T12:47:25.783Z"
   },
   {
    "duration": 68,
    "start_time": "2022-03-29T12:47:26.900Z"
   },
   {
    "duration": 16,
    "start_time": "2022-03-29T12:47:26.971Z"
   },
   {
    "duration": 77,
    "start_time": "2022-03-29T12:47:26.990Z"
   },
   {
    "duration": 28,
    "start_time": "2022-03-29T12:47:27.070Z"
   },
   {
    "duration": 5,
    "start_time": "2022-03-29T12:47:27.101Z"
   },
   {
    "duration": 18,
    "start_time": "2022-03-29T12:47:39.083Z"
   },
   {
    "duration": 5,
    "start_time": "2022-03-29T12:48:51.728Z"
   },
   {
    "duration": 195,
    "start_time": "2022-03-29T12:48:52.013Z"
   },
   {
    "duration": 13,
    "start_time": "2022-03-29T12:48:52.381Z"
   },
   {
    "duration": 5,
    "start_time": "2022-03-29T12:49:01.626Z"
   },
   {
    "duration": 76,
    "start_time": "2022-03-29T12:49:01.634Z"
   },
   {
    "duration": 12,
    "start_time": "2022-03-29T12:49:01.712Z"
   },
   {
    "duration": 37,
    "start_time": "2022-03-29T12:49:01.726Z"
   },
   {
    "duration": 18,
    "start_time": "2022-03-29T12:49:01.766Z"
   },
   {
    "duration": 38,
    "start_time": "2022-03-29T12:49:01.786Z"
   },
   {
    "duration": 26,
    "start_time": "2022-03-29T12:49:01.826Z"
   },
   {
    "duration": 16,
    "start_time": "2022-03-29T12:49:01.854Z"
   },
   {
    "duration": 183,
    "start_time": "2022-03-29T12:49:01.872Z"
   },
   {
    "duration": 11,
    "start_time": "2022-03-29T12:49:02.058Z"
   },
   {
    "duration": 35,
    "start_time": "2022-03-29T12:49:02.071Z"
   },
   {
    "duration": 221,
    "start_time": "2022-03-29T12:49:02.108Z"
   },
   {
    "duration": 12,
    "start_time": "2022-03-29T12:49:02.332Z"
   },
   {
    "duration": 19,
    "start_time": "2022-03-29T12:49:02.348Z"
   },
   {
    "duration": 3,
    "start_time": "2022-03-29T12:49:02.370Z"
   },
   {
    "duration": 633,
    "start_time": "2022-03-29T12:49:02.375Z"
   },
   {
    "duration": 357,
    "start_time": "2022-03-29T12:49:03.011Z"
   },
   {
    "duration": 24,
    "start_time": "2022-03-29T12:49:03.370Z"
   },
   {
    "duration": 1088,
    "start_time": "2022-03-29T12:49:03.396Z"
   },
   {
    "duration": 12,
    "start_time": "2022-03-29T12:49:04.486Z"
   },
   {
    "duration": 74,
    "start_time": "2022-03-29T12:49:04.500Z"
   },
   {
    "duration": 31,
    "start_time": "2022-03-29T12:49:04.577Z"
   },
   {
    "duration": 27,
    "start_time": "2022-03-29T12:49:04.667Z"
   },
   {
    "duration": 5,
    "start_time": "2022-03-29T12:49:04.697Z"
   },
   {
    "duration": 5,
    "start_time": "2022-03-29T12:49:13.091Z"
   },
   {
    "duration": 196,
    "start_time": "2022-03-29T12:49:13.350Z"
   },
   {
    "duration": 13,
    "start_time": "2022-03-29T12:49:13.750Z"
   },
   {
    "duration": 16,
    "start_time": "2022-03-29T12:49:55.325Z"
   },
   {
    "duration": 15,
    "start_time": "2022-03-29T12:50:05.122Z"
   },
   {
    "duration": 5,
    "start_time": "2022-03-29T13:30:59.783Z"
   },
   {
    "duration": 68,
    "start_time": "2022-03-29T13:30:59.791Z"
   },
   {
    "duration": 15,
    "start_time": "2022-03-29T13:30:59.861Z"
   },
   {
    "duration": 20,
    "start_time": "2022-03-29T13:30:59.878Z"
   },
   {
    "duration": 13,
    "start_time": "2022-03-29T13:30:59.901Z"
   },
   {
    "duration": 56,
    "start_time": "2022-03-29T13:30:59.917Z"
   },
   {
    "duration": 24,
    "start_time": "2022-03-29T13:30:59.976Z"
   },
   {
    "duration": 6,
    "start_time": "2022-03-29T13:31:00.003Z"
   },
   {
    "duration": 193,
    "start_time": "2022-03-29T13:31:00.011Z"
   },
   {
    "duration": 7,
    "start_time": "2022-03-29T13:31:00.207Z"
   },
   {
    "duration": 28,
    "start_time": "2022-03-29T13:31:00.216Z"
   },
   {
    "duration": 13,
    "start_time": "2022-03-29T13:31:00.246Z"
   },
   {
    "duration": 26,
    "start_time": "2022-03-29T13:31:00.262Z"
   },
   {
    "duration": 27,
    "start_time": "2022-03-29T13:31:00.292Z"
   },
   {
    "duration": 20,
    "start_time": "2022-03-29T13:31:00.322Z"
   },
   {
    "duration": 35,
    "start_time": "2022-03-29T13:31:00.344Z"
   },
   {
    "duration": 370,
    "start_time": "2022-03-29T13:31:00.381Z"
   },
   {
    "duration": 227,
    "start_time": "2022-03-29T13:31:00.753Z"
   },
   {
    "duration": 26,
    "start_time": "2022-03-29T13:31:00.983Z"
   },
   {
    "duration": 1103,
    "start_time": "2022-03-29T13:31:01.011Z"
   },
   {
    "duration": 13,
    "start_time": "2022-03-29T13:31:02.169Z"
   },
   {
    "duration": 19,
    "start_time": "2022-03-29T13:31:02.184Z"
   },
   {
    "duration": 76,
    "start_time": "2022-03-29T13:31:02.205Z"
   },
   {
    "duration": 20,
    "start_time": "2022-03-29T13:31:02.283Z"
   },
   {
    "duration": 4,
    "start_time": "2022-03-29T13:31:02.305Z"
   },
   {
    "duration": 15,
    "start_time": "2022-03-29T13:31:09.692Z"
   },
   {
    "duration": 15,
    "start_time": "2022-03-29T13:31:14.715Z"
   },
   {
    "duration": 190,
    "start_time": "2022-03-29T13:31:29.613Z"
   },
   {
    "duration": 16,
    "start_time": "2022-03-29T13:31:30.257Z"
   },
   {
    "duration": 5,
    "start_time": "2022-03-29T13:31:49.034Z"
   },
   {
    "duration": 66,
    "start_time": "2022-03-29T13:31:49.043Z"
   },
   {
    "duration": 14,
    "start_time": "2022-03-29T13:31:49.112Z"
   },
   {
    "duration": 38,
    "start_time": "2022-03-29T13:31:49.129Z"
   },
   {
    "duration": 13,
    "start_time": "2022-03-29T13:31:49.170Z"
   },
   {
    "duration": 30,
    "start_time": "2022-03-29T13:31:49.185Z"
   },
   {
    "duration": 24,
    "start_time": "2022-03-29T13:31:49.218Z"
   },
   {
    "duration": 7,
    "start_time": "2022-03-29T13:31:49.268Z"
   },
   {
    "duration": 178,
    "start_time": "2022-03-29T13:31:49.277Z"
   },
   {
    "duration": 15,
    "start_time": "2022-03-29T13:31:49.458Z"
   },
   {
    "duration": 15,
    "start_time": "2022-03-29T13:31:49.475Z"
   },
   {
    "duration": 212,
    "start_time": "2022-03-29T13:31:49.492Z"
   },
   {
    "duration": 17,
    "start_time": "2022-03-29T13:31:49.708Z"
   },
   {
    "duration": 40,
    "start_time": "2022-03-29T13:31:49.729Z"
   },
   {
    "duration": 9,
    "start_time": "2022-03-29T13:31:49.771Z"
   },
   {
    "duration": 19,
    "start_time": "2022-03-29T13:31:49.782Z"
   },
   {
    "duration": 694,
    "start_time": "2022-03-29T13:31:49.803Z"
   },
   {
    "duration": 288,
    "start_time": "2022-03-29T13:31:50.499Z"
   },
   {
    "duration": 25,
    "start_time": "2022-03-29T13:31:50.789Z"
   },
   {
    "duration": 1076,
    "start_time": "2022-03-29T13:31:50.816Z"
   },
   {
    "duration": 13,
    "start_time": "2022-03-29T13:31:51.894Z"
   },
   {
    "duration": 72,
    "start_time": "2022-03-29T13:31:51.909Z"
   },
   {
    "duration": 26,
    "start_time": "2022-03-29T13:31:51.984Z"
   },
   {
    "duration": 73,
    "start_time": "2022-03-29T13:31:52.012Z"
   },
   {
    "duration": 5,
    "start_time": "2022-03-29T13:31:52.087Z"
   },
   {
    "duration": 4,
    "start_time": "2022-03-29T13:32:23.911Z"
   },
   {
    "duration": 62,
    "start_time": "2022-03-29T13:32:23.918Z"
   },
   {
    "duration": 13,
    "start_time": "2022-03-29T13:32:23.982Z"
   },
   {
    "duration": 19,
    "start_time": "2022-03-29T13:32:23.997Z"
   },
   {
    "duration": 13,
    "start_time": "2022-03-29T13:32:24.019Z"
   },
   {
    "duration": 54,
    "start_time": "2022-03-29T13:32:24.033Z"
   },
   {
    "duration": 25,
    "start_time": "2022-03-29T13:32:24.089Z"
   },
   {
    "duration": 5,
    "start_time": "2022-03-29T13:32:24.117Z"
   },
   {
    "duration": 192,
    "start_time": "2022-03-29T13:32:24.124Z"
   },
   {
    "duration": 7,
    "start_time": "2022-03-29T13:32:24.318Z"
   },
   {
    "duration": 8,
    "start_time": "2022-03-29T13:32:24.327Z"
   },
   {
    "duration": 8,
    "start_time": "2022-03-29T13:32:24.337Z"
   },
   {
    "duration": 29,
    "start_time": "2022-03-29T13:32:24.347Z"
   },
   {
    "duration": 12,
    "start_time": "2022-03-29T13:32:24.380Z"
   },
   {
    "duration": 5,
    "start_time": "2022-03-29T13:32:24.394Z"
   },
   {
    "duration": 4,
    "start_time": "2022-03-29T13:32:24.401Z"
   },
   {
    "duration": 386,
    "start_time": "2022-03-29T13:32:24.407Z"
   },
   {
    "duration": 290,
    "start_time": "2022-03-29T13:32:24.796Z"
   },
   {
    "duration": 25,
    "start_time": "2022-03-29T13:32:25.089Z"
   },
   {
    "duration": 760,
    "start_time": "2022-03-29T13:32:25.116Z"
   },
   {
    "duration": 14,
    "start_time": "2022-03-29T13:32:25.878Z"
   },
   {
    "duration": 17,
    "start_time": "2022-03-29T13:32:25.894Z"
   },
   {
    "duration": 22,
    "start_time": "2022-03-29T13:32:25.968Z"
   },
   {
    "duration": 77,
    "start_time": "2022-03-29T13:32:25.992Z"
   },
   {
    "duration": 5,
    "start_time": "2022-03-29T13:32:26.071Z"
   },
   {
    "duration": 11,
    "start_time": "2022-03-29T13:34:27.218Z"
   },
   {
    "duration": 4,
    "start_time": "2022-03-29T13:36:59.776Z"
   },
   {
    "duration": 3,
    "start_time": "2022-03-29T13:39:50.175Z"
   },
   {
    "duration": 3,
    "start_time": "2022-03-29T13:39:50.317Z"
   },
   {
    "duration": 5,
    "start_time": "2022-03-29T13:40:40.347Z"
   },
   {
    "duration": 66,
    "start_time": "2022-03-29T13:40:40.355Z"
   },
   {
    "duration": 14,
    "start_time": "2022-03-29T13:40:40.423Z"
   },
   {
    "duration": 32,
    "start_time": "2022-03-29T13:40:40.439Z"
   },
   {
    "duration": 12,
    "start_time": "2022-03-29T13:40:40.474Z"
   },
   {
    "duration": 25,
    "start_time": "2022-03-29T13:40:40.489Z"
   },
   {
    "duration": 59,
    "start_time": "2022-03-29T13:40:40.516Z"
   },
   {
    "duration": 172,
    "start_time": "2022-03-29T13:40:40.577Z"
   },
   {
    "duration": 3,
    "start_time": "2022-03-29T13:40:40.752Z"
   },
   {
    "duration": 384,
    "start_time": "2022-03-29T13:40:40.757Z"
   },
   {
    "duration": 170,
    "start_time": "2022-03-29T13:40:41.144Z"
   },
   {
    "duration": 25,
    "start_time": "2022-03-29T13:40:41.317Z"
   },
   {
    "duration": 763,
    "start_time": "2022-03-29T13:40:41.345Z"
   },
   {
    "duration": 13,
    "start_time": "2022-03-29T13:40:42.112Z"
   },
   {
    "duration": 9,
    "start_time": "2022-03-29T13:40:42.127Z"
   },
   {
    "duration": 10,
    "start_time": "2022-03-29T13:40:42.139Z"
   },
   {
    "duration": 22,
    "start_time": "2022-03-29T13:40:42.168Z"
   },
   {
    "duration": 8,
    "start_time": "2022-03-29T13:43:04.038Z"
   },
   {
    "duration": 224,
    "start_time": "2022-03-29T13:43:13.972Z"
   },
   {
    "duration": 32,
    "start_time": "2022-03-29T13:43:17.501Z"
   },
   {
    "duration": 7,
    "start_time": "2022-03-29T13:43:30.551Z"
   },
   {
    "duration": 203,
    "start_time": "2022-03-29T13:43:30.915Z"
   },
   {
    "duration": 22,
    "start_time": "2022-03-29T13:43:31.359Z"
   },
   {
    "duration": 20,
    "start_time": "2022-03-29T13:43:39.554Z"
   },
   {
    "duration": 24,
    "start_time": "2022-03-29T13:43:42.411Z"
   },
   {
    "duration": 21,
    "start_time": "2022-03-29T13:44:02.089Z"
   },
   {
    "duration": 6,
    "start_time": "2022-03-29T13:47:15.932Z"
   },
   {
    "duration": 25165,
    "start_time": "2022-03-29T13:47:16.439Z"
   },
   {
    "duration": 22,
    "start_time": "2022-03-29T13:47:41.606Z"
   },
   {
    "duration": 8,
    "start_time": "2022-03-29T13:48:12.641Z"
   },
   {
    "duration": 5,
    "start_time": "2022-03-29T13:49:46.755Z"
   },
   {
    "duration": 63,
    "start_time": "2022-03-29T13:49:46.763Z"
   },
   {
    "duration": 13,
    "start_time": "2022-03-29T13:49:46.828Z"
   },
   {
    "duration": 36,
    "start_time": "2022-03-29T13:49:46.844Z"
   },
   {
    "duration": 13,
    "start_time": "2022-03-29T13:49:46.883Z"
   },
   {
    "duration": 29,
    "start_time": "2022-03-29T13:49:46.898Z"
   },
   {
    "duration": 63,
    "start_time": "2022-03-29T13:49:46.929Z"
   },
   {
    "duration": 175,
    "start_time": "2022-03-29T13:49:46.995Z"
   },
   {
    "duration": 7,
    "start_time": "2022-03-29T13:49:47.172Z"
   },
   {
    "duration": 12,
    "start_time": "2022-03-29T13:49:47.182Z"
   },
   {
    "duration": 436,
    "start_time": "2022-03-29T13:49:47.196Z"
   },
   {
    "duration": 43,
    "start_time": "2022-03-29T13:49:47.635Z"
   },
   {
    "duration": 386,
    "start_time": "2022-03-29T13:49:47.681Z"
   },
   {
    "duration": 169,
    "start_time": "2022-03-29T13:49:48.072Z"
   },
   {
    "duration": 44,
    "start_time": "2022-03-29T13:49:48.243Z"
   },
   {
    "duration": 566,
    "start_time": "2022-03-29T13:49:48.290Z"
   },
   {
    "duration": 18,
    "start_time": "2022-03-29T13:49:48.858Z"
   },
   {
    "duration": 16,
    "start_time": "2022-03-29T13:49:48.878Z"
   },
   {
    "duration": 12,
    "start_time": "2022-03-29T13:49:48.897Z"
   },
   {
    "duration": 58,
    "start_time": "2022-03-29T13:49:48.911Z"
   },
   {
    "duration": 5,
    "start_time": "2022-03-29T13:50:00.899Z"
   },
   {
    "duration": 74,
    "start_time": "2022-03-29T13:50:00.908Z"
   },
   {
    "duration": 14,
    "start_time": "2022-03-29T13:50:00.984Z"
   },
   {
    "duration": 20,
    "start_time": "2022-03-29T13:50:01.000Z"
   },
   {
    "duration": 13,
    "start_time": "2022-03-29T13:50:01.024Z"
   },
   {
    "duration": 28,
    "start_time": "2022-03-29T13:50:01.067Z"
   },
   {
    "duration": 27,
    "start_time": "2022-03-29T13:50:01.098Z"
   },
   {
    "duration": 196,
    "start_time": "2022-03-29T13:50:01.128Z"
   },
   {
    "duration": 10,
    "start_time": "2022-03-29T13:50:01.326Z"
   },
   {
    "duration": 29,
    "start_time": "2022-03-29T13:50:01.338Z"
   },
   {
    "duration": 217,
    "start_time": "2022-03-29T13:50:01.370Z"
   },
   {
    "duration": 23,
    "start_time": "2022-03-29T13:50:01.589Z"
   },
   {
    "duration": 386,
    "start_time": "2022-03-29T13:50:01.614Z"
   },
   {
    "duration": 171,
    "start_time": "2022-03-29T13:50:02.003Z"
   },
   {
    "duration": 25,
    "start_time": "2022-03-29T13:50:02.176Z"
   },
   {
    "duration": 1000,
    "start_time": "2022-03-29T13:50:02.204Z"
   },
   {
    "duration": 72,
    "start_time": "2022-03-29T13:50:03.207Z"
   },
   {
    "duration": 19,
    "start_time": "2022-03-29T13:50:03.281Z"
   },
   {
    "duration": 77,
    "start_time": "2022-03-29T13:50:03.302Z"
   },
   {
    "duration": 23,
    "start_time": "2022-03-29T13:50:03.381Z"
   },
   {
    "duration": 5,
    "start_time": "2022-03-29T13:50:53.640Z"
   },
   {
    "duration": 67,
    "start_time": "2022-03-29T13:50:53.648Z"
   },
   {
    "duration": 13,
    "start_time": "2022-03-29T13:50:53.718Z"
   },
   {
    "duration": 38,
    "start_time": "2022-03-29T13:50:53.734Z"
   },
   {
    "duration": 14,
    "start_time": "2022-03-29T13:50:53.777Z"
   },
   {
    "duration": 29,
    "start_time": "2022-03-29T13:50:53.794Z"
   },
   {
    "duration": 55,
    "start_time": "2022-03-29T13:50:53.826Z"
   },
   {
    "duration": 179,
    "start_time": "2022-03-29T13:50:53.883Z"
   },
   {
    "duration": 7,
    "start_time": "2022-03-29T13:50:54.067Z"
   },
   {
    "duration": 9,
    "start_time": "2022-03-29T13:50:54.077Z"
   },
   {
    "duration": 246,
    "start_time": "2022-03-29T13:50:54.089Z"
   },
   {
    "duration": 30,
    "start_time": "2022-03-29T13:50:54.338Z"
   },
   {
    "duration": 389,
    "start_time": "2022-03-29T13:50:54.370Z"
   },
   {
    "duration": 162,
    "start_time": "2022-03-29T13:50:54.768Z"
   },
   {
    "duration": 41,
    "start_time": "2022-03-29T13:50:54.933Z"
   },
   {
    "duration": 553,
    "start_time": "2022-03-29T13:50:54.976Z"
   },
   {
    "duration": 14,
    "start_time": "2022-03-29T13:50:55.532Z"
   },
   {
    "duration": 22,
    "start_time": "2022-03-29T13:50:55.568Z"
   },
   {
    "duration": 28,
    "start_time": "2022-03-29T13:50:55.592Z"
   },
   {
    "duration": 54,
    "start_time": "2022-03-29T13:50:55.623Z"
   },
   {
    "duration": 18,
    "start_time": "2022-03-29T13:52:34.183Z"
   },
   {
    "duration": 17,
    "start_time": "2022-03-29T13:52:39.230Z"
   },
   {
    "duration": 4,
    "start_time": "2022-03-29T13:55:02.544Z"
   },
   {
    "duration": 4,
    "start_time": "2022-03-29T13:55:04.579Z"
   },
   {
    "duration": 1476,
    "start_time": "2022-03-29T14:20:59.062Z"
   },
   {
    "duration": 65,
    "start_time": "2022-03-29T14:21:00.541Z"
   },
   {
    "duration": 14,
    "start_time": "2022-03-29T14:21:00.608Z"
   },
   {
    "duration": 18,
    "start_time": "2022-03-29T14:21:00.624Z"
   },
   {
    "duration": 11,
    "start_time": "2022-03-29T14:21:00.645Z"
   },
   {
    "duration": 48,
    "start_time": "2022-03-29T14:21:00.658Z"
   },
   {
    "duration": 28,
    "start_time": "2022-03-29T14:21:00.708Z"
   },
   {
    "duration": 172,
    "start_time": "2022-03-29T14:21:00.739Z"
   },
   {
    "duration": 8,
    "start_time": "2022-03-29T14:21:00.914Z"
   },
   {
    "duration": 223,
    "start_time": "2022-03-29T14:21:00.924Z"
   },
   {
    "duration": 215,
    "start_time": "2022-03-29T14:21:01.150Z"
   },
   {
    "duration": 106,
    "start_time": "2022-03-29T14:21:01.367Z"
   },
   {
    "duration": 32,
    "start_time": "2022-03-29T14:21:01.475Z"
   },
   {
    "duration": 352,
    "start_time": "2022-03-29T14:21:01.510Z"
   },
   {
    "duration": 9,
    "start_time": "2022-03-29T14:21:01.864Z"
   },
   {
    "duration": 11,
    "start_time": "2022-03-29T14:21:01.875Z"
   },
   {
    "duration": 9,
    "start_time": "2022-03-29T14:21:01.888Z"
   },
   {
    "duration": 18,
    "start_time": "2022-03-29T14:21:01.899Z"
   },
   {
    "duration": 14,
    "start_time": "2022-03-29T14:21:06.147Z"
   },
   {
    "duration": 19,
    "start_time": "2022-03-29T14:21:15.381Z"
   },
   {
    "duration": 3,
    "start_time": "2022-03-29T14:21:51.048Z"
   },
   {
    "duration": 3,
    "start_time": "2022-03-29T14:21:51.822Z"
   },
   {
    "duration": 160,
    "start_time": "2022-03-29T14:23:19.635Z"
   },
   {
    "duration": 23,
    "start_time": "2022-03-29T14:23:24.796Z"
   },
   {
    "duration": 17,
    "start_time": "2022-03-29T14:23:48.292Z"
   },
   {
    "duration": 16,
    "start_time": "2022-03-29T14:24:16.310Z"
   },
   {
    "duration": 18,
    "start_time": "2022-03-29T14:25:02.167Z"
   },
   {
    "duration": 19,
    "start_time": "2022-03-29T14:25:09.289Z"
   },
   {
    "duration": 16,
    "start_time": "2022-03-29T14:25:15.219Z"
   },
   {
    "duration": 12,
    "start_time": "2022-03-29T14:25:37.942Z"
   },
   {
    "duration": 19,
    "start_time": "2022-03-29T14:25:41.004Z"
   },
   {
    "duration": 15,
    "start_time": "2022-03-29T14:26:00.173Z"
   },
   {
    "duration": 153,
    "start_time": "2022-03-29T14:27:12.837Z"
   },
   {
    "duration": 1922,
    "start_time": "2022-03-29T14:27:18.141Z"
   },
   {
    "duration": 16,
    "start_time": "2022-03-29T14:27:24.093Z"
   },
   {
    "duration": 6,
    "start_time": "2022-03-29T14:27:33.849Z"
   },
   {
    "duration": 12,
    "start_time": "2022-03-29T14:27:51.873Z"
   },
   {
    "duration": 16,
    "start_time": "2022-03-29T14:27:56.348Z"
   },
   {
    "duration": 18,
    "start_time": "2022-03-29T14:28:02.831Z"
   },
   {
    "duration": 6,
    "start_time": "2022-03-29T14:28:27.214Z"
   },
   {
    "duration": 6,
    "start_time": "2022-03-29T14:28:30.659Z"
   },
   {
    "duration": 20,
    "start_time": "2022-03-29T14:28:32.545Z"
   },
   {
    "duration": 6,
    "start_time": "2022-03-29T14:28:39.958Z"
   },
   {
    "duration": 142,
    "start_time": "2022-03-29T14:28:40.594Z"
   },
   {
    "duration": 15,
    "start_time": "2022-03-29T14:28:46.167Z"
   },
   {
    "duration": 4,
    "start_time": "2022-03-29T14:28:48.491Z"
   },
   {
    "duration": 63,
    "start_time": "2022-03-29T14:28:48.498Z"
   },
   {
    "duration": 10,
    "start_time": "2022-03-29T14:28:48.563Z"
   },
   {
    "duration": 26,
    "start_time": "2022-03-29T14:28:48.575Z"
   },
   {
    "duration": 11,
    "start_time": "2022-03-29T14:28:48.604Z"
   },
   {
    "duration": 20,
    "start_time": "2022-03-29T14:28:48.617Z"
   },
   {
    "duration": 21,
    "start_time": "2022-03-29T14:28:48.639Z"
   },
   {
    "duration": 132,
    "start_time": "2022-03-29T14:28:48.661Z"
   },
   {
    "duration": 6,
    "start_time": "2022-03-29T14:28:48.795Z"
   },
   {
    "duration": 150,
    "start_time": "2022-03-29T14:28:48.803Z"
   },
   {
    "duration": 14,
    "start_time": "2022-03-29T14:28:48.955Z"
   },
   {
    "duration": 237,
    "start_time": "2022-03-29T14:28:48.971Z"
   },
   {
    "duration": 108,
    "start_time": "2022-03-29T14:28:49.210Z"
   },
   {
    "duration": 19,
    "start_time": "2022-03-29T14:28:49.322Z"
   },
   {
    "duration": 471,
    "start_time": "2022-03-29T14:28:49.343Z"
   },
   {
    "duration": 14,
    "start_time": "2022-03-29T14:28:49.817Z"
   },
   {
    "duration": 4,
    "start_time": "2022-03-29T14:28:49.833Z"
   },
   {
    "duration": 6,
    "start_time": "2022-03-29T14:28:49.839Z"
   },
   {
    "duration": 17,
    "start_time": "2022-03-29T14:28:49.902Z"
   },
   {
    "duration": 23,
    "start_time": "2022-03-29T14:28:49.921Z"
   },
   {
    "duration": 17,
    "start_time": "2022-03-29T14:29:42.697Z"
   },
   {
    "duration": 16,
    "start_time": "2022-03-29T14:29:49.386Z"
   },
   {
    "duration": 13,
    "start_time": "2022-03-29T14:31:15.702Z"
   },
   {
    "duration": 11,
    "start_time": "2022-03-29T14:31:18.916Z"
   },
   {
    "duration": 50,
    "start_time": "2022-03-29T14:31:34.057Z"
   },
   {
    "duration": 18,
    "start_time": "2022-03-29T14:31:34.303Z"
   },
   {
    "duration": 4,
    "start_time": "2022-03-29T14:31:37.781Z"
   },
   {
    "duration": 71,
    "start_time": "2022-03-29T14:31:37.788Z"
   },
   {
    "duration": 11,
    "start_time": "2022-03-29T14:31:37.861Z"
   },
   {
    "duration": 15,
    "start_time": "2022-03-29T14:31:37.874Z"
   },
   {
    "duration": 17,
    "start_time": "2022-03-29T14:31:37.892Z"
   },
   {
    "duration": 25,
    "start_time": "2022-03-29T14:31:37.911Z"
   },
   {
    "duration": 21,
    "start_time": "2022-03-29T14:31:37.938Z"
   },
   {
    "duration": 140,
    "start_time": "2022-03-29T14:31:37.961Z"
   },
   {
    "duration": 5,
    "start_time": "2022-03-29T14:31:38.104Z"
   },
   {
    "duration": 142,
    "start_time": "2022-03-29T14:31:38.111Z"
   },
   {
    "duration": 14,
    "start_time": "2022-03-29T14:31:38.255Z"
   },
   {
    "duration": 244,
    "start_time": "2022-03-29T14:31:38.271Z"
   },
   {
    "duration": 106,
    "start_time": "2022-03-29T14:31:38.518Z"
   },
   {
    "duration": 21,
    "start_time": "2022-03-29T14:31:38.628Z"
   },
   {
    "duration": 793,
    "start_time": "2022-03-29T14:31:38.651Z"
   },
   {
    "duration": 59,
    "start_time": "2022-03-29T14:31:39.446Z"
   },
   {
    "duration": 5,
    "start_time": "2022-03-29T14:31:39.507Z"
   },
   {
    "duration": 8,
    "start_time": "2022-03-29T14:31:39.514Z"
   },
   {
    "duration": 112,
    "start_time": "2022-03-29T14:31:39.523Z"
   },
   {
    "duration": 77,
    "start_time": "2022-03-29T14:31:39.637Z"
   },
   {
    "duration": 3,
    "start_time": "2022-03-29T14:31:50.244Z"
   },
   {
    "duration": 60,
    "start_time": "2022-03-29T14:31:50.249Z"
   },
   {
    "duration": 10,
    "start_time": "2022-03-29T14:31:50.311Z"
   },
   {
    "duration": 18,
    "start_time": "2022-03-29T14:31:50.323Z"
   },
   {
    "duration": 11,
    "start_time": "2022-03-29T14:31:50.344Z"
   },
   {
    "duration": 44,
    "start_time": "2022-03-29T14:31:50.357Z"
   },
   {
    "duration": 21,
    "start_time": "2022-03-29T14:31:50.404Z"
   },
   {
    "duration": 124,
    "start_time": "2022-03-29T14:31:50.427Z"
   },
   {
    "duration": 5,
    "start_time": "2022-03-29T14:31:50.553Z"
   },
   {
    "duration": 152,
    "start_time": "2022-03-29T14:31:50.560Z"
   },
   {
    "duration": 15,
    "start_time": "2022-03-29T14:31:50.714Z"
   },
   {
    "duration": 228,
    "start_time": "2022-03-29T14:31:50.731Z"
   },
   {
    "duration": 143,
    "start_time": "2022-03-29T14:31:50.961Z"
   },
   {
    "duration": 25,
    "start_time": "2022-03-29T14:31:51.109Z"
   },
   {
    "duration": 331,
    "start_time": "2022-03-29T14:31:51.136Z"
   },
   {
    "duration": 9,
    "start_time": "2022-03-29T14:31:51.470Z"
   },
   {
    "duration": 6,
    "start_time": "2022-03-29T14:31:51.481Z"
   },
   {
    "duration": 3,
    "start_time": "2022-03-29T14:31:51.501Z"
   },
   {
    "duration": 15,
    "start_time": "2022-03-29T14:31:51.506Z"
   },
   {
    "duration": 11,
    "start_time": "2022-03-29T14:31:51.523Z"
   },
   {
    "duration": 13,
    "start_time": "2022-03-29T14:33:40.552Z"
   },
   {
    "duration": 14,
    "start_time": "2022-03-29T14:33:47.054Z"
   },
   {
    "duration": 808,
    "start_time": "2022-03-29T14:37:53.322Z"
   },
   {
    "duration": 4,
    "start_time": "2022-03-29T14:38:09.076Z"
   },
   {
    "duration": 6,
    "start_time": "2022-03-29T14:38:14.986Z"
   },
   {
    "duration": 14,
    "start_time": "2022-03-29T14:38:32.807Z"
   },
   {
    "duration": 9,
    "start_time": "2022-03-29T14:38:33.300Z"
   },
   {
    "duration": 11,
    "start_time": "2022-03-29T14:38:47.673Z"
   },
   {
    "duration": 10,
    "start_time": "2022-03-29T14:39:06.329Z"
   },
   {
    "duration": 6,
    "start_time": "2022-03-29T14:39:17.303Z"
   },
   {
    "duration": 3,
    "start_time": "2022-03-29T14:39:30.042Z"
   },
   {
    "duration": 70,
    "start_time": "2022-03-29T14:39:30.047Z"
   },
   {
    "duration": 11,
    "start_time": "2022-03-29T14:39:30.119Z"
   },
   {
    "duration": 19,
    "start_time": "2022-03-29T14:39:30.133Z"
   },
   {
    "duration": 13,
    "start_time": "2022-03-29T14:39:30.155Z"
   },
   {
    "duration": 42,
    "start_time": "2022-03-29T14:39:30.170Z"
   },
   {
    "duration": 21,
    "start_time": "2022-03-29T14:39:30.214Z"
   },
   {
    "duration": 127,
    "start_time": "2022-03-29T14:39:30.236Z"
   },
   {
    "duration": 6,
    "start_time": "2022-03-29T14:39:30.366Z"
   },
   {
    "duration": 150,
    "start_time": "2022-03-29T14:39:30.374Z"
   },
   {
    "duration": 15,
    "start_time": "2022-03-29T14:39:30.527Z"
   },
   {
    "duration": 241,
    "start_time": "2022-03-29T14:39:30.544Z"
   },
   {
    "duration": 114,
    "start_time": "2022-03-29T14:39:30.787Z"
   },
   {
    "duration": 22,
    "start_time": "2022-03-29T14:39:30.905Z"
   },
   {
    "duration": 478,
    "start_time": "2022-03-29T14:39:30.930Z"
   },
   {
    "duration": 11,
    "start_time": "2022-03-29T14:39:31.411Z"
   },
   {
    "duration": 8,
    "start_time": "2022-03-29T14:39:31.425Z"
   },
   {
    "duration": 8,
    "start_time": "2022-03-29T14:39:31.435Z"
   },
   {
    "duration": 22,
    "start_time": "2022-03-29T14:39:31.445Z"
   },
   {
    "duration": 17,
    "start_time": "2022-03-29T14:39:31.469Z"
   },
   {
    "duration": 779,
    "start_time": "2022-03-29T14:39:31.502Z"
   },
   {
    "duration": 12,
    "start_time": "2022-03-29T14:39:59.651Z"
   },
   {
    "duration": 11,
    "start_time": "2022-03-29T14:40:07.871Z"
   },
   {
    "duration": 11,
    "start_time": "2022-03-29T14:40:11.840Z"
   },
   {
    "duration": 8,
    "start_time": "2022-03-29T14:40:19.735Z"
   },
   {
    "duration": 11,
    "start_time": "2022-03-29T14:40:22.820Z"
   },
   {
    "duration": 4,
    "start_time": "2022-03-29T14:41:46.003Z"
   },
   {
    "duration": 78,
    "start_time": "2022-03-29T14:41:46.010Z"
   },
   {
    "duration": 13,
    "start_time": "2022-03-29T14:41:46.090Z"
   },
   {
    "duration": 25,
    "start_time": "2022-03-29T14:41:46.105Z"
   },
   {
    "duration": 12,
    "start_time": "2022-03-29T14:41:46.134Z"
   },
   {
    "duration": 25,
    "start_time": "2022-03-29T14:41:46.148Z"
   },
   {
    "duration": 44,
    "start_time": "2022-03-29T14:41:46.175Z"
   },
   {
    "duration": 119,
    "start_time": "2022-03-29T14:41:46.221Z"
   },
   {
    "duration": 7,
    "start_time": "2022-03-29T14:41:46.342Z"
   },
   {
    "duration": 216,
    "start_time": "2022-03-29T14:41:46.351Z"
   },
   {
    "duration": 35,
    "start_time": "2022-03-29T14:41:46.569Z"
   },
   {
    "duration": 299,
    "start_time": "2022-03-29T14:41:46.606Z"
   },
   {
    "duration": 108,
    "start_time": "2022-03-29T14:41:46.907Z"
   },
   {
    "duration": 19,
    "start_time": "2022-03-29T14:41:47.018Z"
   },
   {
    "duration": 330,
    "start_time": "2022-03-29T14:41:47.039Z"
   },
   {
    "duration": 12,
    "start_time": "2022-03-29T14:41:47.371Z"
   },
   {
    "duration": 16,
    "start_time": "2022-03-29T14:41:47.385Z"
   },
   {
    "duration": 3,
    "start_time": "2022-03-29T14:41:47.404Z"
   },
   {
    "duration": 20,
    "start_time": "2022-03-29T14:41:47.409Z"
   },
   {
    "duration": 13,
    "start_time": "2022-03-29T14:41:47.431Z"
   },
   {
    "duration": 10,
    "start_time": "2022-03-29T14:50:44.215Z"
   },
   {
    "duration": 12,
    "start_time": "2022-03-29T14:51:30.613Z"
   },
   {
    "duration": 135,
    "start_time": "2022-03-29T14:52:36.841Z"
   },
   {
    "duration": 10,
    "start_time": "2022-03-29T14:52:40.726Z"
   },
   {
    "duration": 324,
    "start_time": "2022-03-29T14:52:55.950Z"
   },
   {
    "duration": 9,
    "start_time": "2022-03-29T14:53:18.441Z"
   },
   {
    "duration": 361,
    "start_time": "2022-03-29T14:53:18.776Z"
   },
   {
    "duration": 10,
    "start_time": "2022-03-29T14:53:28.215Z"
   },
   {
    "duration": 358,
    "start_time": "2022-03-29T14:53:30.387Z"
   },
   {
    "duration": 387,
    "start_time": "2022-03-29T14:54:15.091Z"
   },
   {
    "duration": 334,
    "start_time": "2022-03-29T14:54:53.719Z"
   },
   {
    "duration": 19,
    "start_time": "2022-03-29T14:55:50.631Z"
   },
   {
    "duration": 4,
    "start_time": "2022-03-29T14:55:56.166Z"
   },
   {
    "duration": 75,
    "start_time": "2022-03-29T14:55:56.173Z"
   },
   {
    "duration": 12,
    "start_time": "2022-03-29T14:55:56.249Z"
   },
   {
    "duration": 23,
    "start_time": "2022-03-29T14:55:56.263Z"
   },
   {
    "duration": 21,
    "start_time": "2022-03-29T14:55:56.288Z"
   },
   {
    "duration": 23,
    "start_time": "2022-03-29T14:55:56.310Z"
   },
   {
    "duration": 25,
    "start_time": "2022-03-29T14:55:56.335Z"
   },
   {
    "duration": 143,
    "start_time": "2022-03-29T14:55:56.362Z"
   },
   {
    "duration": 6,
    "start_time": "2022-03-29T14:55:56.507Z"
   },
   {
    "duration": 155,
    "start_time": "2022-03-29T14:55:56.515Z"
   },
   {
    "duration": 16,
    "start_time": "2022-03-29T14:55:56.672Z"
   },
   {
    "duration": 249,
    "start_time": "2022-03-29T14:55:56.705Z"
   },
   {
    "duration": 111,
    "start_time": "2022-03-29T14:55:56.956Z"
   },
   {
    "duration": 34,
    "start_time": "2022-03-29T14:55:57.071Z"
   },
   {
    "duration": 350,
    "start_time": "2022-03-29T14:55:57.108Z"
   },
   {
    "duration": 10,
    "start_time": "2022-03-29T14:55:57.461Z"
   },
   {
    "duration": 6,
    "start_time": "2022-03-29T14:55:57.473Z"
   },
   {
    "duration": 21,
    "start_time": "2022-03-29T14:55:57.481Z"
   },
   {
    "duration": 33,
    "start_time": "2022-03-29T14:55:57.504Z"
   },
   {
    "duration": 11,
    "start_time": "2022-03-29T14:55:57.539Z"
   },
   {
    "duration": 12,
    "start_time": "2022-03-29T14:55:57.552Z"
   },
   {
    "duration": 11,
    "start_time": "2022-03-29T14:55:57.566Z"
   },
   {
    "duration": 374,
    "start_time": "2022-03-29T14:55:57.579Z"
   },
   {
    "duration": 15,
    "start_time": "2022-03-29T14:56:47.499Z"
   },
   {
    "duration": 19,
    "start_time": "2022-03-29T14:59:22.513Z"
   },
   {
    "duration": 18,
    "start_time": "2022-03-29T15:00:05.722Z"
   },
   {
    "duration": 3,
    "start_time": "2022-03-29T15:01:11.873Z"
   },
   {
    "duration": 4,
    "start_time": "2022-03-29T15:02:38.785Z"
   },
   {
    "duration": 147,
    "start_time": "2022-03-29T15:02:49.715Z"
   },
   {
    "duration": 19,
    "start_time": "2022-03-29T15:02:53.054Z"
   },
   {
    "duration": 22,
    "start_time": "2022-03-29T15:03:08.772Z"
   },
   {
    "duration": 21,
    "start_time": "2022-03-29T15:03:09.169Z"
   },
   {
    "duration": 4,
    "start_time": "2022-03-29T15:03:12.076Z"
   },
   {
    "duration": 74,
    "start_time": "2022-03-29T15:03:12.082Z"
   },
   {
    "duration": 10,
    "start_time": "2022-03-29T15:03:12.158Z"
   },
   {
    "duration": 27,
    "start_time": "2022-03-29T15:03:12.169Z"
   },
   {
    "duration": 15,
    "start_time": "2022-03-29T15:03:12.198Z"
   },
   {
    "duration": 32,
    "start_time": "2022-03-29T15:03:12.216Z"
   },
   {
    "duration": 20,
    "start_time": "2022-03-29T15:03:12.250Z"
   },
   {
    "duration": 138,
    "start_time": "2022-03-29T15:03:12.273Z"
   },
   {
    "duration": 6,
    "start_time": "2022-03-29T15:03:12.415Z"
   },
   {
    "duration": 152,
    "start_time": "2022-03-29T15:03:12.424Z"
   },
   {
    "duration": 27,
    "start_time": "2022-03-29T15:03:12.579Z"
   },
   {
    "duration": 254,
    "start_time": "2022-03-29T15:03:12.610Z"
   },
   {
    "duration": 119,
    "start_time": "2022-03-29T15:03:12.866Z"
   },
   {
    "duration": 29,
    "start_time": "2022-03-29T15:03:12.989Z"
   },
   {
    "duration": 352,
    "start_time": "2022-03-29T15:03:13.020Z"
   },
   {
    "duration": 9,
    "start_time": "2022-03-29T15:03:13.374Z"
   },
   {
    "duration": 17,
    "start_time": "2022-03-29T15:03:13.385Z"
   },
   {
    "duration": 9,
    "start_time": "2022-03-29T15:03:13.404Z"
   },
   {
    "duration": 20,
    "start_time": "2022-03-29T15:03:13.415Z"
   },
   {
    "duration": 11,
    "start_time": "2022-03-29T15:03:13.437Z"
   },
   {
    "duration": 11,
    "start_time": "2022-03-29T15:03:13.450Z"
   },
   {
    "duration": 569,
    "start_time": "2022-03-29T15:03:13.463Z"
   },
   {
    "duration": 3,
    "start_time": "2022-03-29T15:03:14.034Z"
   },
   {
    "duration": 11,
    "start_time": "2022-03-29T15:03:14.039Z"
   },
   {
    "duration": 20,
    "start_time": "2022-03-29T15:03:14.053Z"
   },
   {
    "duration": 0,
    "start_time": "2022-03-29T15:03:14.076Z"
   },
   {
    "duration": 3,
    "start_time": "2022-03-29T15:03:28.767Z"
   },
   {
    "duration": 4,
    "start_time": "2022-03-29T15:03:29.171Z"
   },
   {
    "duration": 118,
    "start_time": "2022-03-29T15:03:29.576Z"
   },
   {
    "duration": 17,
    "start_time": "2022-03-29T15:03:30.630Z"
   },
   {
    "duration": 11,
    "start_time": "2022-03-29T15:03:46.845Z"
   },
   {
    "duration": 29,
    "start_time": "2022-03-29T15:03:49.578Z"
   },
   {
    "duration": 17,
    "start_time": "2022-03-29T15:06:45.593Z"
   },
   {
    "duration": 14,
    "start_time": "2022-03-29T15:07:05.918Z"
   },
   {
    "duration": 20,
    "start_time": "2022-03-29T15:07:25.227Z"
   },
   {
    "duration": 5,
    "start_time": "2022-03-29T15:11:06.496Z"
   },
   {
    "duration": 4,
    "start_time": "2022-03-29T15:11:06.863Z"
   },
   {
    "duration": 122,
    "start_time": "2022-03-29T15:11:07.128Z"
   },
   {
    "duration": 17,
    "start_time": "2022-03-29T15:11:07.481Z"
   },
   {
    "duration": 4,
    "start_time": "2022-03-29T15:11:19.756Z"
   },
   {
    "duration": 5,
    "start_time": "2022-03-29T15:11:20.114Z"
   },
   {
    "duration": 139,
    "start_time": "2022-03-29T15:11:20.254Z"
   },
   {
    "duration": 24,
    "start_time": "2022-03-29T15:11:20.620Z"
   },
   {
    "duration": 4,
    "start_time": "2022-03-29T15:12:08.118Z"
   },
   {
    "duration": 4,
    "start_time": "2022-03-29T15:12:08.278Z"
   },
   {
    "duration": 121,
    "start_time": "2022-03-29T15:12:08.415Z"
   },
   {
    "duration": 17,
    "start_time": "2022-03-29T15:12:08.731Z"
   },
   {
    "duration": 4,
    "start_time": "2022-03-29T15:13:38.625Z"
   },
   {
    "duration": 5,
    "start_time": "2022-03-29T15:13:38.775Z"
   },
   {
    "duration": 146,
    "start_time": "2022-03-29T15:13:38.927Z"
   },
   {
    "duration": 16,
    "start_time": "2022-03-29T15:13:39.361Z"
   },
   {
    "duration": 18,
    "start_time": "2022-03-29T15:16:49.115Z"
   },
   {
    "duration": 16,
    "start_time": "2022-03-29T15:17:02.475Z"
   },
   {
    "duration": 20,
    "start_time": "2022-03-29T15:17:27.901Z"
   },
   {
    "duration": 19,
    "start_time": "2022-03-29T15:17:49.531Z"
   },
   {
    "duration": 3,
    "start_time": "2022-03-29T15:18:22.144Z"
   },
   {
    "duration": 6,
    "start_time": "2022-03-29T15:18:22.447Z"
   },
   {
    "duration": 127,
    "start_time": "2022-03-29T15:18:22.579Z"
   },
   {
    "duration": 9,
    "start_time": "2022-03-29T15:18:22.968Z"
   },
   {
    "duration": 18,
    "start_time": "2022-03-29T15:18:26.639Z"
   },
   {
    "duration": 15,
    "start_time": "2022-03-29T15:20:34.376Z"
   },
   {
    "duration": 11,
    "start_time": "2022-03-29T15:20:59.639Z"
   },
   {
    "duration": 16,
    "start_time": "2022-03-29T15:21:12.023Z"
   },
   {
    "duration": 16,
    "start_time": "2022-03-29T15:21:20.881Z"
   },
   {
    "duration": 360,
    "start_time": "2022-03-29T15:21:37.560Z"
   },
   {
    "duration": 377,
    "start_time": "2022-03-29T15:22:57.464Z"
   },
   {
    "duration": 354,
    "start_time": "2022-03-29T15:23:05.448Z"
   },
   {
    "duration": 478,
    "start_time": "2022-03-29T15:23:48.889Z"
   },
   {
    "duration": 500,
    "start_time": "2022-03-29T15:24:12.097Z"
   },
   {
    "duration": 367,
    "start_time": "2022-03-29T15:24:22.328Z"
   },
   {
    "duration": 449,
    "start_time": "2022-03-29T15:24:27.521Z"
   },
   {
    "duration": 330,
    "start_time": "2022-03-29T15:24:34.079Z"
   },
   {
    "duration": 365,
    "start_time": "2022-03-29T15:24:36.471Z"
   },
   {
    "duration": 364,
    "start_time": "2022-03-29T15:24:41.885Z"
   },
   {
    "duration": 351,
    "start_time": "2022-03-29T15:24:46.208Z"
   },
   {
    "duration": 367,
    "start_time": "2022-03-29T15:24:53.429Z"
   },
   {
    "duration": 397,
    "start_time": "2022-03-29T15:24:57.576Z"
   },
   {
    "duration": 24,
    "start_time": "2022-03-29T15:25:07.413Z"
   },
   {
    "duration": 3,
    "start_time": "2022-03-29T15:25:28.558Z"
   },
   {
    "duration": 67,
    "start_time": "2022-03-29T15:25:28.563Z"
   },
   {
    "duration": 11,
    "start_time": "2022-03-29T15:25:28.631Z"
   },
   {
    "duration": 19,
    "start_time": "2022-03-29T15:25:28.644Z"
   },
   {
    "duration": 12,
    "start_time": "2022-03-29T15:25:28.665Z"
   },
   {
    "duration": 40,
    "start_time": "2022-03-29T15:25:28.679Z"
   },
   {
    "duration": 24,
    "start_time": "2022-03-29T15:25:28.725Z"
   },
   {
    "duration": 140,
    "start_time": "2022-03-29T15:25:28.751Z"
   },
   {
    "duration": 11,
    "start_time": "2022-03-29T15:25:28.894Z"
   },
   {
    "duration": 191,
    "start_time": "2022-03-29T15:25:28.910Z"
   },
   {
    "duration": 24,
    "start_time": "2022-03-29T15:25:29.104Z"
   },
   {
    "duration": 253,
    "start_time": "2022-03-29T15:25:29.130Z"
   },
   {
    "duration": 126,
    "start_time": "2022-03-29T15:25:29.385Z"
   },
   {
    "duration": 21,
    "start_time": "2022-03-29T15:25:29.517Z"
   },
   {
    "duration": 368,
    "start_time": "2022-03-29T15:25:29.540Z"
   },
   {
    "duration": 13,
    "start_time": "2022-03-29T15:25:29.910Z"
   },
   {
    "duration": 4,
    "start_time": "2022-03-29T15:25:29.925Z"
   },
   {
    "duration": 7,
    "start_time": "2022-03-29T15:25:29.931Z"
   },
   {
    "duration": 15,
    "start_time": "2022-03-29T15:25:29.939Z"
   },
   {
    "duration": 45,
    "start_time": "2022-03-29T15:25:29.956Z"
   },
   {
    "duration": 15,
    "start_time": "2022-03-29T15:25:30.004Z"
   },
   {
    "duration": 583,
    "start_time": "2022-03-29T15:25:30.022Z"
   },
   {
    "duration": 11,
    "start_time": "2022-03-29T15:25:30.610Z"
   },
   {
    "duration": 15,
    "start_time": "2022-03-29T15:25:30.624Z"
   },
   {
    "duration": 138,
    "start_time": "2022-03-29T15:25:30.641Z"
   },
   {
    "duration": 25,
    "start_time": "2022-03-29T15:25:30.782Z"
   },
   {
    "duration": 360,
    "start_time": "2022-03-29T15:25:30.810Z"
   },
   {
    "duration": 286,
    "start_time": "2022-03-29T15:25:37.845Z"
   },
   {
    "duration": 209,
    "start_time": "2022-03-29T15:25:48.798Z"
   },
   {
    "duration": 244,
    "start_time": "2022-03-29T15:25:52.114Z"
   },
   {
    "duration": 240,
    "start_time": "2022-03-29T15:25:56.814Z"
   },
   {
    "duration": 257,
    "start_time": "2022-03-29T15:26:27.882Z"
   },
   {
    "duration": 271,
    "start_time": "2022-03-29T15:26:31.482Z"
   },
   {
    "duration": 267,
    "start_time": "2022-03-29T15:26:35.485Z"
   },
   {
    "duration": 217,
    "start_time": "2022-03-29T15:26:41.048Z"
   },
   {
    "duration": 254,
    "start_time": "2022-03-29T15:26:45.803Z"
   },
   {
    "duration": 269,
    "start_time": "2022-03-29T15:26:50.323Z"
   },
   {
    "duration": 246,
    "start_time": "2022-03-29T15:26:58.445Z"
   },
   {
    "duration": 227,
    "start_time": "2022-03-29T15:27:16.348Z"
   },
   {
    "duration": 237,
    "start_time": "2022-03-29T15:27:19.834Z"
   },
   {
    "duration": 16,
    "start_time": "2022-03-29T15:27:43.249Z"
   },
   {
    "duration": 26,
    "start_time": "2022-03-29T15:27:48.655Z"
   },
   {
    "duration": 472,
    "start_time": "2022-03-29T15:27:50.235Z"
   },
   {
    "duration": 357,
    "start_time": "2022-03-29T15:27:55.548Z"
   },
   {
    "duration": 340,
    "start_time": "2022-03-29T15:27:57.243Z"
   },
   {
    "duration": 390,
    "start_time": "2022-03-29T15:28:01.442Z"
   },
   {
    "duration": 353,
    "start_time": "2022-03-29T15:28:06.586Z"
   },
   {
    "duration": 590,
    "start_time": "2022-03-29T15:28:08.683Z"
   },
   {
    "duration": 484,
    "start_time": "2022-03-29T15:28:19.676Z"
   },
   {
    "duration": 11,
    "start_time": "2022-03-29T15:29:18.827Z"
   },
   {
    "duration": 23,
    "start_time": "2022-03-29T15:30:35.306Z"
   },
   {
    "duration": 24,
    "start_time": "2022-03-29T15:30:44.870Z"
   },
   {
    "duration": 13,
    "start_time": "2022-03-29T15:31:02.151Z"
   },
   {
    "duration": 12,
    "start_time": "2022-03-29T15:31:38.972Z"
   },
   {
    "duration": 19,
    "start_time": "2022-03-29T15:31:51.834Z"
   },
   {
    "duration": 20,
    "start_time": "2022-03-29T15:33:07.045Z"
   },
   {
    "duration": 5,
    "start_time": "2022-03-29T15:37:07.062Z"
   },
   {
    "duration": 74,
    "start_time": "2022-03-29T15:37:07.070Z"
   },
   {
    "duration": 11,
    "start_time": "2022-03-29T15:37:07.146Z"
   },
   {
    "duration": 21,
    "start_time": "2022-03-29T15:37:07.159Z"
   },
   {
    "duration": 26,
    "start_time": "2022-03-29T15:37:07.183Z"
   },
   {
    "duration": 26,
    "start_time": "2022-03-29T15:37:07.213Z"
   },
   {
    "duration": 21,
    "start_time": "2022-03-29T15:37:07.241Z"
   },
   {
    "duration": 175,
    "start_time": "2022-03-29T15:37:07.264Z"
   },
   {
    "duration": 6,
    "start_time": "2022-03-29T15:37:07.441Z"
   },
   {
    "duration": 161,
    "start_time": "2022-03-29T15:37:07.449Z"
   },
   {
    "duration": 252,
    "start_time": "2022-03-29T15:37:07.613Z"
   },
   {
    "duration": 164,
    "start_time": "2022-03-29T15:37:07.867Z"
   },
   {
    "duration": 80,
    "start_time": "2022-03-29T15:37:08.033Z"
   },
   {
    "duration": 933,
    "start_time": "2022-03-29T15:37:08.117Z"
   },
   {
    "duration": 67,
    "start_time": "2022-03-29T15:37:09.052Z"
   },
   {
    "duration": 3,
    "start_time": "2022-03-29T15:37:09.122Z"
   },
   {
    "duration": 6,
    "start_time": "2022-03-29T15:37:09.127Z"
   },
   {
    "duration": 75,
    "start_time": "2022-03-29T15:37:09.134Z"
   },
   {
    "duration": 12,
    "start_time": "2022-03-29T15:37:09.212Z"
   },
   {
    "duration": 12,
    "start_time": "2022-03-29T15:37:09.226Z"
   },
   {
    "duration": 793,
    "start_time": "2022-03-29T15:37:09.241Z"
   },
   {
    "duration": 4,
    "start_time": "2022-03-29T15:37:10.036Z"
   },
   {
    "duration": 79,
    "start_time": "2022-03-29T15:37:10.042Z"
   },
   {
    "duration": 207,
    "start_time": "2022-03-29T15:37:10.123Z"
   },
   {
    "duration": 18,
    "start_time": "2022-03-29T15:37:10.333Z"
   },
   {
    "duration": 27,
    "start_time": "2022-03-29T15:37:10.353Z"
   },
   {
    "duration": 345,
    "start_time": "2022-03-29T15:37:10.405Z"
   },
   {
    "duration": 12,
    "start_time": "2022-03-29T15:37:10.752Z"
   },
   {
    "duration": 35,
    "start_time": "2022-03-29T15:37:10.766Z"
   },
   {
    "duration": 22,
    "start_time": "2022-03-29T15:37:10.804Z"
   },
   {
    "duration": 18,
    "start_time": "2022-03-29T15:37:10.829Z"
   },
   {
    "duration": 12,
    "start_time": "2022-03-29T15:38:08.233Z"
   },
   {
    "duration": 18,
    "start_time": "2022-03-29T15:38:11.088Z"
   },
   {
    "duration": 4,
    "start_time": "2022-03-29T15:39:33.654Z"
   },
   {
    "duration": 60,
    "start_time": "2022-03-29T15:39:33.661Z"
   },
   {
    "duration": 12,
    "start_time": "2022-03-29T15:39:33.723Z"
   },
   {
    "duration": 15,
    "start_time": "2022-03-29T15:39:33.747Z"
   },
   {
    "duration": 11,
    "start_time": "2022-03-29T15:39:33.765Z"
   },
   {
    "duration": 49,
    "start_time": "2022-03-29T15:39:33.778Z"
   },
   {
    "duration": 22,
    "start_time": "2022-03-29T15:39:33.829Z"
   },
   {
    "duration": 128,
    "start_time": "2022-03-29T15:39:33.853Z"
   },
   {
    "duration": 7,
    "start_time": "2022-03-29T15:39:33.983Z"
   },
   {
    "duration": 171,
    "start_time": "2022-03-29T15:39:33.992Z"
   },
   {
    "duration": 264,
    "start_time": "2022-03-29T15:39:34.165Z"
   },
   {
    "duration": 111,
    "start_time": "2022-03-29T15:39:34.432Z"
   },
   {
    "duration": 20,
    "start_time": "2022-03-29T15:39:34.546Z"
   },
   {
    "duration": 383,
    "start_time": "2022-03-29T15:39:34.569Z"
   },
   {
    "duration": 10,
    "start_time": "2022-03-29T15:39:34.955Z"
   },
   {
    "duration": 7,
    "start_time": "2022-03-29T15:39:34.967Z"
   },
   {
    "duration": 7,
    "start_time": "2022-03-29T15:39:34.976Z"
   },
   {
    "duration": 15,
    "start_time": "2022-03-29T15:39:35.006Z"
   },
   {
    "duration": 11,
    "start_time": "2022-03-29T15:39:35.024Z"
   },
   {
    "duration": 12,
    "start_time": "2022-03-29T15:39:35.038Z"
   },
   {
    "duration": 351,
    "start_time": "2022-03-29T15:39:35.052Z"
   },
   {
    "duration": 5,
    "start_time": "2022-03-29T15:39:35.405Z"
   },
   {
    "duration": 18,
    "start_time": "2022-03-29T15:39:35.412Z"
   },
   {
    "duration": 133,
    "start_time": "2022-03-29T15:39:35.432Z"
   },
   {
    "duration": 18,
    "start_time": "2022-03-29T15:39:35.567Z"
   },
   {
    "duration": 23,
    "start_time": "2022-03-29T15:39:35.603Z"
   },
   {
    "duration": 363,
    "start_time": "2022-03-29T15:39:35.629Z"
   },
   {
    "duration": 15,
    "start_time": "2022-03-29T15:39:36.001Z"
   },
   {
    "duration": 29,
    "start_time": "2022-03-29T15:39:36.019Z"
   },
   {
    "duration": 13,
    "start_time": "2022-03-29T15:39:36.050Z"
   },
   {
    "duration": 44,
    "start_time": "2022-03-29T15:39:36.065Z"
   },
   {
    "duration": 23,
    "start_time": "2022-03-29T15:39:36.110Z"
   },
   {
    "duration": 22,
    "start_time": "2022-03-29T15:39:46.021Z"
   },
   {
    "duration": 19,
    "start_time": "2022-03-29T15:40:03.079Z"
   },
   {
    "duration": 21,
    "start_time": "2022-03-29T15:42:02.296Z"
   },
   {
    "duration": 4,
    "start_time": "2022-03-29T15:42:30.166Z"
   },
   {
    "duration": 86,
    "start_time": "2022-03-29T15:42:30.173Z"
   },
   {
    "duration": 12,
    "start_time": "2022-03-29T15:42:30.260Z"
   },
   {
    "duration": 22,
    "start_time": "2022-03-29T15:42:30.274Z"
   },
   {
    "duration": 22,
    "start_time": "2022-03-29T15:42:30.311Z"
   },
   {
    "duration": 37,
    "start_time": "2022-03-29T15:42:30.336Z"
   },
   {
    "duration": 35,
    "start_time": "2022-03-29T15:42:30.375Z"
   },
   {
    "duration": 205,
    "start_time": "2022-03-29T15:42:30.413Z"
   },
   {
    "duration": 5,
    "start_time": "2022-03-29T15:42:30.621Z"
   },
   {
    "duration": 221,
    "start_time": "2022-03-29T15:42:30.628Z"
   },
   {
    "duration": 316,
    "start_time": "2022-03-29T15:42:30.851Z"
   },
   {
    "duration": 251,
    "start_time": "2022-03-29T15:42:31.169Z"
   },
   {
    "duration": 21,
    "start_time": "2022-03-29T15:42:31.423Z"
   },
   {
    "duration": 957,
    "start_time": "2022-03-29T15:42:31.448Z"
   },
   {
    "duration": 16,
    "start_time": "2022-03-29T15:42:32.421Z"
   },
   {
    "duration": 8,
    "start_time": "2022-03-29T15:42:32.439Z"
   },
   {
    "duration": 6,
    "start_time": "2022-03-29T15:42:32.449Z"
   },
   {
    "duration": 76,
    "start_time": "2022-03-29T15:42:32.457Z"
   },
   {
    "duration": 19,
    "start_time": "2022-03-29T15:42:32.535Z"
   },
   {
    "duration": 65,
    "start_time": "2022-03-29T15:42:32.556Z"
   },
   {
    "duration": 899,
    "start_time": "2022-03-29T15:42:32.625Z"
   },
   {
    "duration": 12,
    "start_time": "2022-03-29T15:42:33.527Z"
   },
   {
    "duration": 26,
    "start_time": "2022-03-29T15:42:33.542Z"
   },
   {
    "duration": 299,
    "start_time": "2022-03-29T15:42:33.571Z"
   },
   {
    "duration": 45,
    "start_time": "2022-03-29T15:42:33.874Z"
   },
   {
    "duration": 42,
    "start_time": "2022-03-29T15:42:33.923Z"
   },
   {
    "duration": 382,
    "start_time": "2022-03-29T15:42:33.967Z"
   },
   {
    "duration": 14,
    "start_time": "2022-03-29T15:42:34.352Z"
   },
   {
    "duration": 53,
    "start_time": "2022-03-29T15:42:34.369Z"
   },
   {
    "duration": 31,
    "start_time": "2022-03-29T15:42:34.425Z"
   },
   {
    "duration": 22,
    "start_time": "2022-03-29T15:42:34.459Z"
   },
   {
    "duration": 46,
    "start_time": "2022-03-29T15:42:34.484Z"
   },
   {
    "duration": 21,
    "start_time": "2022-03-29T15:43:00.173Z"
   },
   {
    "duration": 4,
    "start_time": "2022-03-29T15:43:57.957Z"
   },
   {
    "duration": 93,
    "start_time": "2022-03-29T15:43:57.963Z"
   },
   {
    "duration": 11,
    "start_time": "2022-03-29T15:43:58.058Z"
   },
   {
    "duration": 17,
    "start_time": "2022-03-29T15:43:58.071Z"
   },
   {
    "duration": 23,
    "start_time": "2022-03-29T15:43:58.107Z"
   },
   {
    "duration": 27,
    "start_time": "2022-03-29T15:43:58.132Z"
   },
   {
    "duration": 48,
    "start_time": "2022-03-29T15:43:58.162Z"
   },
   {
    "duration": 171,
    "start_time": "2022-03-29T15:43:58.213Z"
   },
   {
    "duration": 9,
    "start_time": "2022-03-29T15:43:58.386Z"
   },
   {
    "duration": 176,
    "start_time": "2022-03-29T15:43:58.401Z"
   },
   {
    "duration": 289,
    "start_time": "2022-03-29T15:43:58.579Z"
   },
   {
    "duration": 110,
    "start_time": "2022-03-29T15:43:58.870Z"
   },
   {
    "duration": 29,
    "start_time": "2022-03-29T15:43:58.983Z"
   },
   {
    "duration": 1606,
    "start_time": "2022-03-29T15:43:59.017Z"
   },
   {
    "duration": 12,
    "start_time": "2022-03-29T15:44:00.625Z"
   },
   {
    "duration": 77,
    "start_time": "2022-03-29T15:44:00.639Z"
   },
   {
    "duration": 7,
    "start_time": "2022-03-29T15:44:00.721Z"
   },
   {
    "duration": 25,
    "start_time": "2022-03-29T15:44:00.732Z"
   },
   {
    "duration": 51,
    "start_time": "2022-03-29T15:44:00.760Z"
   },
   {
    "duration": 30,
    "start_time": "2022-03-29T15:44:00.813Z"
   },
   {
    "duration": 973,
    "start_time": "2022-03-29T15:44:00.845Z"
   },
   {
    "duration": 5,
    "start_time": "2022-03-29T15:44:01.820Z"
   },
   {
    "duration": 42,
    "start_time": "2022-03-29T15:44:01.826Z"
   },
   {
    "duration": 0,
    "start_time": "2022-03-29T15:44:01.870Z"
   },
   {
    "duration": 0,
    "start_time": "2022-03-29T15:44:01.871Z"
   },
   {
    "duration": 0,
    "start_time": "2022-03-29T15:44:01.872Z"
   },
   {
    "duration": 0,
    "start_time": "2022-03-29T15:44:01.873Z"
   },
   {
    "duration": 0,
    "start_time": "2022-03-29T15:44:01.875Z"
   },
   {
    "duration": 0,
    "start_time": "2022-03-29T15:44:01.876Z"
   },
   {
    "duration": 0,
    "start_time": "2022-03-29T15:44:01.877Z"
   },
   {
    "duration": 0,
    "start_time": "2022-03-29T15:44:01.878Z"
   },
   {
    "duration": 0,
    "start_time": "2022-03-29T15:44:01.902Z"
   },
   {
    "duration": 0,
    "start_time": "2022-03-29T15:44:01.903Z"
   },
   {
    "duration": 3,
    "start_time": "2022-03-29T15:44:13.932Z"
   },
   {
    "duration": 68,
    "start_time": "2022-03-29T15:44:13.938Z"
   },
   {
    "duration": 20,
    "start_time": "2022-03-29T15:44:14.009Z"
   },
   {
    "duration": 24,
    "start_time": "2022-03-29T15:44:14.031Z"
   },
   {
    "duration": 11,
    "start_time": "2022-03-29T15:44:14.058Z"
   },
   {
    "duration": 46,
    "start_time": "2022-03-29T15:44:14.072Z"
   },
   {
    "duration": 22,
    "start_time": "2022-03-29T15:44:14.120Z"
   },
   {
    "duration": 135,
    "start_time": "2022-03-29T15:44:14.145Z"
   },
   {
    "duration": 7,
    "start_time": "2022-03-29T15:44:14.282Z"
   },
   {
    "duration": 254,
    "start_time": "2022-03-29T15:44:14.291Z"
   },
   {
    "duration": 280,
    "start_time": "2022-03-29T15:44:14.548Z"
   },
   {
    "duration": 117,
    "start_time": "2022-03-29T15:44:14.830Z"
   },
   {
    "duration": 26,
    "start_time": "2022-03-29T15:44:14.949Z"
   },
   {
    "duration": 522,
    "start_time": "2022-03-29T15:44:14.979Z"
   },
   {
    "duration": 19,
    "start_time": "2022-03-29T15:44:15.503Z"
   },
   {
    "duration": 7,
    "start_time": "2022-03-29T15:44:15.524Z"
   },
   {
    "duration": 7,
    "start_time": "2022-03-29T15:44:15.533Z"
   },
   {
    "duration": 23,
    "start_time": "2022-03-29T15:44:15.543Z"
   },
   {
    "duration": 39,
    "start_time": "2022-03-29T15:44:15.568Z"
   },
   {
    "duration": 15,
    "start_time": "2022-03-29T15:44:15.609Z"
   },
   {
    "duration": 353,
    "start_time": "2022-03-29T15:44:15.627Z"
   },
   {
    "duration": 5,
    "start_time": "2022-03-29T15:44:15.982Z"
   },
   {
    "duration": 4,
    "start_time": "2022-03-29T15:44:16.003Z"
   },
   {
    "duration": 151,
    "start_time": "2022-03-29T15:44:16.010Z"
   },
   {
    "duration": 24,
    "start_time": "2022-03-29T15:44:16.164Z"
   },
   {
    "duration": 29,
    "start_time": "2022-03-29T15:44:16.200Z"
   },
   {
    "duration": 345,
    "start_time": "2022-03-29T15:44:16.232Z"
   },
   {
    "duration": 24,
    "start_time": "2022-03-29T15:44:16.578Z"
   },
   {
    "duration": 23,
    "start_time": "2022-03-29T15:44:16.605Z"
   },
   {
    "duration": 16,
    "start_time": "2022-03-29T15:44:16.630Z"
   },
   {
    "duration": 29,
    "start_time": "2022-03-29T15:44:16.649Z"
   },
   {
    "duration": 51,
    "start_time": "2022-03-29T15:44:16.680Z"
   },
   {
    "duration": 5,
    "start_time": "2022-03-29T15:45:36.596Z"
   },
   {
    "duration": 75,
    "start_time": "2022-03-29T15:45:36.603Z"
   },
   {
    "duration": 10,
    "start_time": "2022-03-29T15:45:36.681Z"
   },
   {
    "duration": 20,
    "start_time": "2022-03-29T15:45:36.701Z"
   },
   {
    "duration": 23,
    "start_time": "2022-03-29T15:45:36.725Z"
   },
   {
    "duration": 29,
    "start_time": "2022-03-29T15:45:36.750Z"
   },
   {
    "duration": 49,
    "start_time": "2022-03-29T15:45:36.781Z"
   },
   {
    "duration": 198,
    "start_time": "2022-03-29T15:45:36.832Z"
   },
   {
    "duration": 7,
    "start_time": "2022-03-29T15:45:37.033Z"
   },
   {
    "duration": 232,
    "start_time": "2022-03-29T15:45:37.043Z"
   },
   {
    "duration": 356,
    "start_time": "2022-03-29T15:45:37.278Z"
   },
   {
    "duration": 137,
    "start_time": "2022-03-29T15:45:37.637Z"
   },
   {
    "duration": 30,
    "start_time": "2022-03-29T15:45:37.777Z"
   },
   {
    "duration": 484,
    "start_time": "2022-03-29T15:45:37.812Z"
   },
   {
    "duration": 17,
    "start_time": "2022-03-29T15:45:38.298Z"
   },
   {
    "duration": 12,
    "start_time": "2022-03-29T15:45:38.318Z"
   },
   {
    "duration": 10,
    "start_time": "2022-03-29T15:45:38.332Z"
   },
   {
    "duration": 17,
    "start_time": "2022-03-29T15:45:38.345Z"
   },
   {
    "duration": 13,
    "start_time": "2022-03-29T15:45:38.364Z"
   },
   {
    "duration": 13,
    "start_time": "2022-03-29T15:45:38.405Z"
   },
   {
    "duration": 611,
    "start_time": "2022-03-29T15:45:38.421Z"
   },
   {
    "duration": 5,
    "start_time": "2022-03-29T15:45:39.035Z"
   },
   {
    "duration": 105,
    "start_time": "2022-03-29T15:45:39.041Z"
   },
   {
    "duration": 360,
    "start_time": "2022-03-29T15:45:39.149Z"
   },
   {
    "duration": 26,
    "start_time": "2022-03-29T15:45:39.511Z"
   },
   {
    "duration": 68,
    "start_time": "2022-03-29T15:45:39.539Z"
   },
   {
    "duration": 721,
    "start_time": "2022-03-29T15:45:39.610Z"
   },
   {
    "duration": 12,
    "start_time": "2022-03-29T15:45:40.333Z"
   },
   {
    "duration": 68,
    "start_time": "2022-03-29T15:45:40.348Z"
   },
   {
    "duration": 17,
    "start_time": "2022-03-29T15:45:40.419Z"
   },
   {
    "duration": 76,
    "start_time": "2022-03-29T15:45:40.439Z"
   },
   {
    "duration": 29,
    "start_time": "2022-03-29T15:45:40.518Z"
   },
   {
    "duration": 3,
    "start_time": "2022-03-29T15:45:50.283Z"
   },
   {
    "duration": 74,
    "start_time": "2022-03-29T15:45:50.289Z"
   },
   {
    "duration": 10,
    "start_time": "2022-03-29T15:45:50.365Z"
   },
   {
    "duration": 28,
    "start_time": "2022-03-29T15:45:50.377Z"
   },
   {
    "duration": 11,
    "start_time": "2022-03-29T15:45:50.408Z"
   },
   {
    "duration": 23,
    "start_time": "2022-03-29T15:45:50.422Z"
   },
   {
    "duration": 20,
    "start_time": "2022-03-29T15:45:50.447Z"
   },
   {
    "duration": 155,
    "start_time": "2022-03-29T15:45:50.469Z"
   },
   {
    "duration": 6,
    "start_time": "2022-03-29T15:45:50.626Z"
   },
   {
    "duration": 194,
    "start_time": "2022-03-29T15:45:50.634Z"
   },
   {
    "duration": 271,
    "start_time": "2022-03-29T15:45:50.830Z"
   },
   {
    "duration": 122,
    "start_time": "2022-03-29T15:45:51.103Z"
   },
   {
    "duration": 18,
    "start_time": "2022-03-29T15:45:51.230Z"
   },
   {
    "duration": 383,
    "start_time": "2022-03-29T15:45:51.252Z"
   },
   {
    "duration": 12,
    "start_time": "2022-03-29T15:45:51.638Z"
   },
   {
    "duration": 4,
    "start_time": "2022-03-29T15:45:51.653Z"
   },
   {
    "duration": 45,
    "start_time": "2022-03-29T15:45:51.660Z"
   },
   {
    "duration": 28,
    "start_time": "2022-03-29T15:45:51.708Z"
   },
   {
    "duration": 11,
    "start_time": "2022-03-29T15:45:51.738Z"
   },
   {
    "duration": 58,
    "start_time": "2022-03-29T15:45:51.751Z"
   },
   {
    "duration": 820,
    "start_time": "2022-03-29T15:45:51.813Z"
   },
   {
    "duration": 3,
    "start_time": "2022-03-29T15:45:52.636Z"
   },
   {
    "duration": 60,
    "start_time": "2022-03-29T15:45:52.641Z"
   },
   {
    "duration": 300,
    "start_time": "2022-03-29T15:45:52.704Z"
   },
   {
    "duration": 25,
    "start_time": "2022-03-29T15:45:53.007Z"
   },
   {
    "duration": 87,
    "start_time": "2022-03-29T15:45:53.034Z"
   },
   {
    "duration": 1003,
    "start_time": "2022-03-29T15:45:53.124Z"
   },
   {
    "duration": 11,
    "start_time": "2022-03-29T15:45:54.129Z"
   },
   {
    "duration": 77,
    "start_time": "2022-03-29T15:45:54.142Z"
   },
   {
    "duration": 14,
    "start_time": "2022-03-29T15:45:54.222Z"
   },
   {
    "duration": 81,
    "start_time": "2022-03-29T15:45:54.238Z"
   },
   {
    "duration": 20,
    "start_time": "2022-03-29T15:45:54.322Z"
   },
   {
    "duration": 21,
    "start_time": "2022-03-29T15:46:25.042Z"
   },
   {
    "duration": 4,
    "start_time": "2022-03-29T15:47:13.837Z"
   },
   {
    "duration": 74,
    "start_time": "2022-03-29T15:47:13.844Z"
   },
   {
    "duration": 12,
    "start_time": "2022-03-29T15:47:13.920Z"
   },
   {
    "duration": 17,
    "start_time": "2022-03-29T15:47:13.934Z"
   },
   {
    "duration": 11,
    "start_time": "2022-03-29T15:47:13.954Z"
   },
   {
    "duration": 52,
    "start_time": "2022-03-29T15:47:13.967Z"
   },
   {
    "duration": 30,
    "start_time": "2022-03-29T15:47:14.022Z"
   },
   {
    "duration": 134,
    "start_time": "2022-03-29T15:47:14.054Z"
   },
   {
    "duration": 14,
    "start_time": "2022-03-29T15:47:14.191Z"
   },
   {
    "duration": 163,
    "start_time": "2022-03-29T15:47:14.208Z"
   },
   {
    "duration": 269,
    "start_time": "2022-03-29T15:47:14.373Z"
   },
   {
    "duration": 107,
    "start_time": "2022-03-29T15:47:14.644Z"
   },
   {
    "duration": 54,
    "start_time": "2022-03-29T15:47:14.753Z"
   },
   {
    "duration": 1215,
    "start_time": "2022-03-29T15:47:14.812Z"
   },
   {
    "duration": 11,
    "start_time": "2022-03-29T15:47:16.029Z"
   },
   {
    "duration": 5,
    "start_time": "2022-03-29T15:47:16.042Z"
   },
   {
    "duration": 59,
    "start_time": "2022-03-29T15:47:16.050Z"
   },
   {
    "duration": 25,
    "start_time": "2022-03-29T15:47:16.112Z"
   },
   {
    "duration": 15,
    "start_time": "2022-03-29T15:47:16.140Z"
   },
   {
    "duration": 19,
    "start_time": "2022-03-29T15:47:16.204Z"
   },
   {
    "duration": 882,
    "start_time": "2022-03-29T15:47:16.225Z"
   },
   {
    "duration": 9,
    "start_time": "2022-03-29T15:47:17.110Z"
   },
   {
    "duration": 100,
    "start_time": "2022-03-29T15:47:17.122Z"
   },
   {
    "duration": 0,
    "start_time": "2022-03-29T15:47:17.224Z"
   },
   {
    "duration": 0,
    "start_time": "2022-03-29T15:47:17.226Z"
   },
   {
    "duration": 0,
    "start_time": "2022-03-29T15:47:17.227Z"
   },
   {
    "duration": 0,
    "start_time": "2022-03-29T15:47:17.229Z"
   },
   {
    "duration": 0,
    "start_time": "2022-03-29T15:47:17.230Z"
   },
   {
    "duration": 0,
    "start_time": "2022-03-29T15:47:17.231Z"
   },
   {
    "duration": 0,
    "start_time": "2022-03-29T15:47:17.233Z"
   },
   {
    "duration": 0,
    "start_time": "2022-03-29T15:47:17.235Z"
   },
   {
    "duration": 0,
    "start_time": "2022-03-29T15:47:17.237Z"
   },
   {
    "duration": 0,
    "start_time": "2022-03-29T15:47:17.240Z"
   },
   {
    "duration": 5,
    "start_time": "2022-03-29T15:47:23.973Z"
   },
   {
    "duration": 91,
    "start_time": "2022-03-29T15:47:23.982Z"
   },
   {
    "duration": 13,
    "start_time": "2022-03-29T15:47:24.075Z"
   },
   {
    "duration": 30,
    "start_time": "2022-03-29T15:47:24.091Z"
   },
   {
    "duration": 12,
    "start_time": "2022-03-29T15:47:24.125Z"
   },
   {
    "duration": 23,
    "start_time": "2022-03-29T15:47:24.139Z"
   },
   {
    "duration": 58,
    "start_time": "2022-03-29T15:47:24.163Z"
   },
   {
    "duration": 132,
    "start_time": "2022-03-29T15:47:24.223Z"
   },
   {
    "duration": 5,
    "start_time": "2022-03-29T15:47:24.357Z"
   },
   {
    "duration": 178,
    "start_time": "2022-03-29T15:47:24.365Z"
   },
   {
    "duration": 344,
    "start_time": "2022-03-29T15:47:24.545Z"
   },
   {
    "duration": 165,
    "start_time": "2022-03-29T15:47:24.892Z"
   },
   {
    "duration": 19,
    "start_time": "2022-03-29T15:47:25.060Z"
   },
   {
    "duration": 852,
    "start_time": "2022-03-29T15:47:25.082Z"
   },
   {
    "duration": 10,
    "start_time": "2022-03-29T15:47:25.936Z"
   },
   {
    "duration": 4,
    "start_time": "2022-03-29T15:47:26.022Z"
   },
   {
    "duration": 14,
    "start_time": "2022-03-29T15:47:26.029Z"
   },
   {
    "duration": 76,
    "start_time": "2022-03-29T15:47:26.045Z"
   },
   {
    "duration": 26,
    "start_time": "2022-03-29T15:47:26.124Z"
   },
   {
    "duration": 60,
    "start_time": "2022-03-29T15:47:26.152Z"
   },
   {
    "duration": 707,
    "start_time": "2022-03-29T15:47:26.214Z"
   },
   {
    "duration": 4,
    "start_time": "2022-03-29T15:47:26.930Z"
   },
   {
    "duration": 9,
    "start_time": "2022-03-29T15:47:26.936Z"
   },
   {
    "duration": 6,
    "start_time": "2022-03-29T15:47:26.947Z"
   },
   {
    "duration": 281,
    "start_time": "2022-03-29T15:47:26.955Z"
   },
   {
    "duration": 72,
    "start_time": "2022-03-29T15:47:27.238Z"
   },
   {
    "duration": 32,
    "start_time": "2022-03-29T15:47:27.312Z"
   },
   {
    "duration": 783,
    "start_time": "2022-03-29T15:47:27.346Z"
   },
   {
    "duration": 12,
    "start_time": "2022-03-29T15:47:28.131Z"
   },
   {
    "duration": 75,
    "start_time": "2022-03-29T15:47:28.145Z"
   },
   {
    "duration": 13,
    "start_time": "2022-03-29T15:47:28.222Z"
   },
   {
    "duration": 79,
    "start_time": "2022-03-29T15:47:28.238Z"
   },
   {
    "duration": 22,
    "start_time": "2022-03-29T15:47:28.319Z"
   },
   {
    "duration": 5,
    "start_time": "2022-03-29T15:50:32.121Z"
   },
   {
    "duration": 4,
    "start_time": "2022-03-29T15:50:33.616Z"
   },
   {
    "duration": 6,
    "start_time": "2022-03-29T15:50:33.814Z"
   },
   {
    "duration": 30,
    "start_time": "2022-03-29T15:50:35.479Z"
   },
   {
    "duration": 25,
    "start_time": "2022-03-29T15:50:35.711Z"
   },
   {
    "duration": 17,
    "start_time": "2022-03-29T15:50:41.762Z"
   },
   {
    "duration": 5,
    "start_time": "2022-03-29T15:51:19.283Z"
   },
   {
    "duration": 4,
    "start_time": "2022-03-29T15:51:19.676Z"
   },
   {
    "duration": 5,
    "start_time": "2022-03-29T15:51:19.944Z"
   },
   {
    "duration": 141,
    "start_time": "2022-03-29T15:51:20.466Z"
   },
   {
    "duration": 5,
    "start_time": "2022-03-29T15:51:52.997Z"
   },
   {
    "duration": 3,
    "start_time": "2022-03-29T15:51:53.786Z"
   },
   {
    "duration": 4,
    "start_time": "2022-03-29T15:51:54.045Z"
   },
   {
    "duration": 116,
    "start_time": "2022-03-29T15:51:54.381Z"
   },
   {
    "duration": 16,
    "start_time": "2022-03-29T15:51:54.853Z"
   },
   {
    "duration": 12,
    "start_time": "2022-03-29T15:51:58.421Z"
   },
   {
    "duration": 22,
    "start_time": "2022-03-29T15:52:05.889Z"
   },
   {
    "duration": 4,
    "start_time": "2022-03-29T15:52:33.739Z"
   },
   {
    "duration": 80,
    "start_time": "2022-03-29T15:52:33.746Z"
   },
   {
    "duration": 11,
    "start_time": "2022-03-29T15:52:33.828Z"
   },
   {
    "duration": 21,
    "start_time": "2022-03-29T15:52:33.841Z"
   },
   {
    "duration": 12,
    "start_time": "2022-03-29T15:52:33.865Z"
   },
   {
    "duration": 48,
    "start_time": "2022-03-29T15:52:33.879Z"
   },
   {
    "duration": 21,
    "start_time": "2022-03-29T15:52:33.929Z"
   },
   {
    "duration": 137,
    "start_time": "2022-03-29T15:52:33.952Z"
   },
   {
    "duration": 5,
    "start_time": "2022-03-29T15:52:34.091Z"
   },
   {
    "duration": 169,
    "start_time": "2022-03-29T15:52:34.106Z"
   },
   {
    "duration": 269,
    "start_time": "2022-03-29T15:52:34.277Z"
   },
   {
    "duration": 130,
    "start_time": "2022-03-29T15:52:34.548Z"
   },
   {
    "duration": 30,
    "start_time": "2022-03-29T15:52:34.681Z"
   },
   {
    "duration": 532,
    "start_time": "2022-03-29T15:52:34.717Z"
   },
   {
    "duration": 68,
    "start_time": "2022-03-29T15:52:35.251Z"
   },
   {
    "duration": 11,
    "start_time": "2022-03-29T15:52:35.321Z"
   },
   {
    "duration": 17,
    "start_time": "2022-03-29T15:52:35.334Z"
   },
   {
    "duration": 60,
    "start_time": "2022-03-29T15:52:35.353Z"
   },
   {
    "duration": 14,
    "start_time": "2022-03-29T15:52:35.416Z"
   },
   {
    "duration": 18,
    "start_time": "2022-03-29T15:52:35.432Z"
   },
   {
    "duration": 695,
    "start_time": "2022-03-29T15:52:35.453Z"
   },
   {
    "duration": 4,
    "start_time": "2022-03-29T15:52:36.150Z"
   },
   {
    "duration": 55,
    "start_time": "2022-03-29T15:52:36.156Z"
   },
   {
    "duration": 17,
    "start_time": "2022-03-29T15:52:36.214Z"
   },
   {
    "duration": 217,
    "start_time": "2022-03-29T15:52:36.233Z"
   },
   {
    "duration": 76,
    "start_time": "2022-03-29T15:52:36.452Z"
   },
   {
    "duration": 20,
    "start_time": "2022-03-29T15:52:36.530Z"
   },
   {
    "duration": 701,
    "start_time": "2022-03-29T15:52:36.552Z"
   },
   {
    "duration": 61,
    "start_time": "2022-03-29T15:52:37.254Z"
   },
   {
    "duration": 34,
    "start_time": "2022-03-29T15:52:37.318Z"
   },
   {
    "duration": 12,
    "start_time": "2022-03-29T15:52:37.357Z"
   },
   {
    "duration": 37,
    "start_time": "2022-03-29T15:52:37.372Z"
   },
   {
    "duration": 25,
    "start_time": "2022-03-29T15:52:37.415Z"
   },
   {
    "duration": 4,
    "start_time": "2022-03-29T15:53:02.531Z"
   },
   {
    "duration": 79,
    "start_time": "2022-03-29T15:53:02.537Z"
   },
   {
    "duration": 18,
    "start_time": "2022-03-29T15:53:02.620Z"
   },
   {
    "duration": 16,
    "start_time": "2022-03-29T15:53:02.640Z"
   },
   {
    "duration": 14,
    "start_time": "2022-03-29T15:53:02.659Z"
   },
   {
    "duration": 47,
    "start_time": "2022-03-29T15:53:02.676Z"
   },
   {
    "duration": 38,
    "start_time": "2022-03-29T15:53:02.726Z"
   },
   {
    "duration": 204,
    "start_time": "2022-03-29T15:53:02.766Z"
   },
   {
    "duration": 9,
    "start_time": "2022-03-29T15:53:02.973Z"
   },
   {
    "duration": 263,
    "start_time": "2022-03-29T15:53:02.984Z"
   },
   {
    "duration": 434,
    "start_time": "2022-03-29T15:53:03.250Z"
   },
   {
    "duration": 127,
    "start_time": "2022-03-29T15:53:03.687Z"
   },
   {
    "duration": 28,
    "start_time": "2022-03-29T15:53:03.817Z"
   },
   {
    "duration": 872,
    "start_time": "2022-03-29T15:53:03.849Z"
   },
   {
    "duration": 12,
    "start_time": "2022-03-29T15:53:04.723Z"
   },
   {
    "duration": 7,
    "start_time": "2022-03-29T15:53:04.736Z"
   },
   {
    "duration": 6,
    "start_time": "2022-03-29T15:53:04.745Z"
   },
   {
    "duration": 63,
    "start_time": "2022-03-29T15:53:04.753Z"
   },
   {
    "duration": 21,
    "start_time": "2022-03-29T15:53:04.818Z"
   },
   {
    "duration": 10,
    "start_time": "2022-03-29T15:53:04.841Z"
   },
   {
    "duration": 755,
    "start_time": "2022-03-29T15:53:04.853Z"
   },
   {
    "duration": 130,
    "start_time": "2022-03-29T15:53:05.611Z"
   },
   {
    "duration": 0,
    "start_time": "2022-03-29T15:53:05.743Z"
   },
   {
    "duration": 0,
    "start_time": "2022-03-29T15:53:05.744Z"
   },
   {
    "duration": 0,
    "start_time": "2022-03-29T15:53:05.746Z"
   },
   {
    "duration": 0,
    "start_time": "2022-03-29T15:53:05.748Z"
   },
   {
    "duration": 0,
    "start_time": "2022-03-29T15:53:05.750Z"
   },
   {
    "duration": 0,
    "start_time": "2022-03-29T15:53:05.752Z"
   },
   {
    "duration": 0,
    "start_time": "2022-03-29T15:53:05.754Z"
   },
   {
    "duration": 0,
    "start_time": "2022-03-29T15:53:05.756Z"
   },
   {
    "duration": 0,
    "start_time": "2022-03-29T15:53:05.757Z"
   },
   {
    "duration": 0,
    "start_time": "2022-03-29T15:53:05.759Z"
   },
   {
    "duration": 0,
    "start_time": "2022-03-29T15:53:05.761Z"
   },
   {
    "duration": 6,
    "start_time": "2022-03-29T15:53:18.700Z"
   },
   {
    "duration": 5,
    "start_time": "2022-03-29T15:53:19.487Z"
   },
   {
    "duration": 4,
    "start_time": "2022-03-29T15:53:19.625Z"
   },
   {
    "duration": 153,
    "start_time": "2022-03-29T15:53:20.873Z"
   },
   {
    "duration": 23,
    "start_time": "2022-03-29T15:53:21.434Z"
   },
   {
    "duration": 29,
    "start_time": "2022-03-29T15:53:23.886Z"
   },
   {
    "duration": 5,
    "start_time": "2022-03-29T15:53:54.925Z"
   },
   {
    "duration": 4,
    "start_time": "2022-03-29T15:53:55.108Z"
   },
   {
    "duration": 8,
    "start_time": "2022-03-29T15:53:55.301Z"
   },
   {
    "duration": 187,
    "start_time": "2022-03-29T15:53:55.755Z"
   },
   {
    "duration": 17,
    "start_time": "2022-03-29T15:53:56.149Z"
   },
   {
    "duration": 21,
    "start_time": "2022-03-29T15:53:57.293Z"
   },
   {
    "duration": 4,
    "start_time": "2022-03-29T15:54:19.969Z"
   },
   {
    "duration": 3,
    "start_time": "2022-03-29T15:54:20.253Z"
   },
   {
    "duration": 6,
    "start_time": "2022-03-29T15:54:20.476Z"
   },
   {
    "duration": 186,
    "start_time": "2022-03-29T15:54:20.728Z"
   },
   {
    "duration": 18,
    "start_time": "2022-03-29T15:54:21.077Z"
   },
   {
    "duration": 18,
    "start_time": "2022-03-29T15:54:22.472Z"
   },
   {
    "duration": 5,
    "start_time": "2022-03-29T15:54:28.454Z"
   },
   {
    "duration": 6,
    "start_time": "2022-03-29T15:54:29.420Z"
   },
   {
    "duration": 5,
    "start_time": "2022-03-29T15:54:29.589Z"
   },
   {
    "duration": 19,
    "start_time": "2022-03-29T15:54:29.719Z"
   },
   {
    "duration": 16,
    "start_time": "2022-03-29T15:54:29.856Z"
   },
   {
    "duration": 31,
    "start_time": "2022-03-29T15:54:32.677Z"
   },
   {
    "duration": 5,
    "start_time": "2022-03-29T15:55:28.736Z"
   },
   {
    "duration": 3,
    "start_time": "2022-03-29T15:55:29.565Z"
   },
   {
    "duration": 4,
    "start_time": "2022-03-29T15:55:29.781Z"
   },
   {
    "duration": 188,
    "start_time": "2022-03-29T15:55:29.965Z"
   },
   {
    "duration": 17,
    "start_time": "2022-03-29T15:55:31.178Z"
   },
   {
    "duration": 20,
    "start_time": "2022-03-29T15:55:33.714Z"
   },
   {
    "duration": 4,
    "start_time": "2022-03-29T15:55:40.188Z"
   },
   {
    "duration": 3,
    "start_time": "2022-03-29T15:55:40.415Z"
   },
   {
    "duration": 4,
    "start_time": "2022-03-29T15:55:40.561Z"
   },
   {
    "duration": 136,
    "start_time": "2022-03-29T15:55:40.750Z"
   },
   {
    "duration": 15,
    "start_time": "2022-03-29T15:55:41.141Z"
   },
   {
    "duration": 25,
    "start_time": "2022-03-29T15:55:46.012Z"
   },
   {
    "duration": 6,
    "start_time": "2022-03-29T15:56:05.099Z"
   },
   {
    "duration": 76,
    "start_time": "2022-03-29T15:56:05.109Z"
   },
   {
    "duration": 19,
    "start_time": "2022-03-29T15:56:05.187Z"
   },
   {
    "duration": 28,
    "start_time": "2022-03-29T15:56:05.209Z"
   },
   {
    "duration": 13,
    "start_time": "2022-03-29T15:56:05.241Z"
   },
   {
    "duration": 23,
    "start_time": "2022-03-29T15:56:05.256Z"
   },
   {
    "duration": 45,
    "start_time": "2022-03-29T15:56:05.281Z"
   },
   {
    "duration": 126,
    "start_time": "2022-03-29T15:56:05.329Z"
   },
   {
    "duration": 6,
    "start_time": "2022-03-29T15:56:05.457Z"
   },
   {
    "duration": 179,
    "start_time": "2022-03-29T15:56:05.465Z"
   },
   {
    "duration": 260,
    "start_time": "2022-03-29T15:56:05.646Z"
   },
   {
    "duration": 136,
    "start_time": "2022-03-29T15:56:05.909Z"
   },
   {
    "duration": 20,
    "start_time": "2022-03-29T15:56:06.047Z"
   },
   {
    "duration": 872,
    "start_time": "2022-03-29T15:56:06.071Z"
   },
   {
    "duration": 23,
    "start_time": "2022-03-29T15:56:07.001Z"
   },
   {
    "duration": 6,
    "start_time": "2022-03-29T15:56:07.027Z"
   },
   {
    "duration": 5,
    "start_time": "2022-03-29T15:56:07.035Z"
   },
   {
    "duration": 65,
    "start_time": "2022-03-29T15:56:07.042Z"
   },
   {
    "duration": 15,
    "start_time": "2022-03-29T15:56:07.114Z"
   },
   {
    "duration": 16,
    "start_time": "2022-03-29T15:56:07.131Z"
   },
   {
    "duration": 1375,
    "start_time": "2022-03-29T15:56:07.150Z"
   },
   {
    "duration": 4,
    "start_time": "2022-03-29T15:56:08.527Z"
   },
   {
    "duration": 9,
    "start_time": "2022-03-29T15:56:08.533Z"
   },
   {
    "duration": 9,
    "start_time": "2022-03-29T15:56:08.544Z"
   },
   {
    "duration": 195,
    "start_time": "2022-03-29T15:56:08.555Z"
   },
   {
    "duration": 22,
    "start_time": "2022-03-29T15:56:08.753Z"
   },
   {
    "duration": 46,
    "start_time": "2022-03-29T15:56:08.778Z"
   },
   {
    "duration": 352,
    "start_time": "2022-03-29T15:56:08.827Z"
   },
   {
    "duration": 21,
    "start_time": "2022-03-29T15:56:09.181Z"
   },
   {
    "duration": 26,
    "start_time": "2022-03-29T15:56:09.204Z"
   },
   {
    "duration": 11,
    "start_time": "2022-03-29T15:56:09.233Z"
   },
   {
    "duration": 20,
    "start_time": "2022-03-29T15:56:09.245Z"
   },
   {
    "duration": 47,
    "start_time": "2022-03-29T15:56:09.267Z"
   },
   {
    "duration": 5,
    "start_time": "2022-03-29T15:56:21.700Z"
   },
   {
    "duration": 3,
    "start_time": "2022-03-29T15:56:21.883Z"
   },
   {
    "duration": 4,
    "start_time": "2022-03-29T15:56:22.052Z"
   },
   {
    "duration": 177,
    "start_time": "2022-03-29T15:56:22.265Z"
   },
   {
    "duration": 19,
    "start_time": "2022-03-29T15:56:22.686Z"
   },
   {
    "duration": 21,
    "start_time": "2022-03-29T15:56:24.893Z"
   },
   {
    "duration": 4,
    "start_time": "2022-03-29T15:56:39.744Z"
   },
   {
    "duration": 3,
    "start_time": "2022-03-29T15:56:40.316Z"
   },
   {
    "duration": 4,
    "start_time": "2022-03-29T15:56:40.469Z"
   },
   {
    "duration": 138,
    "start_time": "2022-03-29T15:56:40.583Z"
   },
   {
    "duration": 18,
    "start_time": "2022-03-29T15:56:40.931Z"
   },
   {
    "duration": 18,
    "start_time": "2022-03-29T15:56:42.165Z"
   },
   {
    "duration": 12,
    "start_time": "2022-03-29T15:56:57.755Z"
   },
   {
    "duration": 11,
    "start_time": "2022-03-29T15:57:13.215Z"
   },
   {
    "duration": 3,
    "start_time": "2022-03-29T15:57:36.486Z"
   },
   {
    "duration": 71,
    "start_time": "2022-03-29T15:57:36.491Z"
   },
   {
    "duration": 11,
    "start_time": "2022-03-29T15:57:36.564Z"
   },
   {
    "duration": 17,
    "start_time": "2022-03-29T15:57:36.576Z"
   },
   {
    "duration": 17,
    "start_time": "2022-03-29T15:57:36.603Z"
   },
   {
    "duration": 20,
    "start_time": "2022-03-29T15:57:36.622Z"
   },
   {
    "duration": 21,
    "start_time": "2022-03-29T15:57:36.644Z"
   },
   {
    "duration": 157,
    "start_time": "2022-03-29T15:57:36.667Z"
   },
   {
    "duration": 6,
    "start_time": "2022-03-29T15:57:36.826Z"
   },
   {
    "duration": 157,
    "start_time": "2022-03-29T15:57:36.835Z"
   },
   {
    "duration": 281,
    "start_time": "2022-03-29T15:57:36.994Z"
   },
   {
    "duration": 138,
    "start_time": "2022-03-29T15:57:37.277Z"
   },
   {
    "duration": 24,
    "start_time": "2022-03-29T15:57:37.417Z"
   },
   {
    "duration": 372,
    "start_time": "2022-03-29T15:57:37.446Z"
   },
   {
    "duration": 10,
    "start_time": "2022-03-29T15:57:37.821Z"
   },
   {
    "duration": 4,
    "start_time": "2022-03-29T15:57:37.834Z"
   },
   {
    "duration": 6,
    "start_time": "2022-03-29T15:57:37.840Z"
   },
   {
    "duration": 16,
    "start_time": "2022-03-29T15:57:37.848Z"
   },
   {
    "duration": 51,
    "start_time": "2022-03-29T15:57:37.866Z"
   },
   {
    "duration": 35,
    "start_time": "2022-03-29T15:57:37.919Z"
   },
   {
    "duration": 345,
    "start_time": "2022-03-29T15:57:37.956Z"
   },
   {
    "duration": 7,
    "start_time": "2022-03-29T15:57:38.306Z"
   },
   {
    "duration": 7,
    "start_time": "2022-03-29T15:57:38.316Z"
   },
   {
    "duration": 125,
    "start_time": "2022-03-29T15:57:38.326Z"
   },
   {
    "duration": 15,
    "start_time": "2022-03-29T15:57:38.454Z"
   },
   {
    "duration": 18,
    "start_time": "2022-03-29T15:57:38.471Z"
   },
   {
    "duration": 26,
    "start_time": "2022-03-29T15:57:38.492Z"
   },
   {
    "duration": 782,
    "start_time": "2022-03-29T15:57:38.520Z"
   },
   {
    "duration": 25,
    "start_time": "2022-03-29T15:57:39.305Z"
   },
   {
    "duration": 16,
    "start_time": "2022-03-29T15:57:39.332Z"
   },
   {
    "duration": 66,
    "start_time": "2022-03-29T15:57:39.351Z"
   },
   {
    "duration": 98,
    "start_time": "2022-03-29T15:57:39.419Z"
   },
   {
    "duration": 22,
    "start_time": "2022-03-29T15:57:39.520Z"
   },
   {
    "duration": 20,
    "start_time": "2022-03-29T15:57:57.452Z"
   },
   {
    "duration": 4,
    "start_time": "2022-03-29T15:58:02.396Z"
   },
   {
    "duration": 5,
    "start_time": "2022-03-29T15:58:02.543Z"
   },
   {
    "duration": 192,
    "start_time": "2022-03-29T15:58:02.662Z"
   },
   {
    "duration": 25,
    "start_time": "2022-03-29T15:58:02.857Z"
   },
   {
    "duration": 33,
    "start_time": "2022-03-29T15:58:03.567Z"
   },
   {
    "duration": 17,
    "start_time": "2022-03-29T15:58:08.551Z"
   },
   {
    "duration": 4,
    "start_time": "2022-03-29T15:58:25.122Z"
   },
   {
    "duration": 56,
    "start_time": "2022-03-29T15:58:25.129Z"
   },
   {
    "duration": 19,
    "start_time": "2022-03-29T15:58:25.188Z"
   },
   {
    "duration": 23,
    "start_time": "2022-03-29T15:58:25.211Z"
   },
   {
    "duration": 13,
    "start_time": "2022-03-29T15:58:25.236Z"
   },
   {
    "duration": 50,
    "start_time": "2022-03-29T15:58:25.251Z"
   },
   {
    "duration": 33,
    "start_time": "2022-03-29T15:58:25.303Z"
   },
   {
    "duration": 189,
    "start_time": "2022-03-29T15:58:25.339Z"
   },
   {
    "duration": 7,
    "start_time": "2022-03-29T15:58:25.530Z"
   },
   {
    "duration": 245,
    "start_time": "2022-03-29T15:58:25.541Z"
   },
   {
    "duration": 386,
    "start_time": "2022-03-29T15:58:25.789Z"
   },
   {
    "duration": 114,
    "start_time": "2022-03-29T15:58:26.178Z"
   },
   {
    "duration": 24,
    "start_time": "2022-03-29T15:58:26.294Z"
   },
   {
    "duration": 620,
    "start_time": "2022-03-29T15:58:26.320Z"
   },
   {
    "duration": 62,
    "start_time": "2022-03-29T15:58:26.943Z"
   },
   {
    "duration": 7,
    "start_time": "2022-03-29T15:58:27.007Z"
   },
   {
    "duration": 5,
    "start_time": "2022-03-29T15:58:27.016Z"
   },
   {
    "duration": 17,
    "start_time": "2022-03-29T15:58:27.023Z"
   },
   {
    "duration": 64,
    "start_time": "2022-03-29T15:58:27.042Z"
   },
   {
    "duration": 13,
    "start_time": "2022-03-29T15:58:27.109Z"
   },
   {
    "duration": 618,
    "start_time": "2022-03-29T15:58:27.124Z"
   },
   {
    "duration": 57,
    "start_time": "2022-03-29T15:58:27.745Z"
   },
   {
    "duration": 10,
    "start_time": "2022-03-29T15:58:27.804Z"
   },
   {
    "duration": 219,
    "start_time": "2022-03-29T15:58:27.816Z"
   },
   {
    "duration": 66,
    "start_time": "2022-03-29T15:58:28.037Z"
   },
   {
    "duration": 20,
    "start_time": "2022-03-29T15:58:28.105Z"
   },
   {
    "duration": 23,
    "start_time": "2022-03-29T15:58:28.127Z"
   },
   {
    "duration": 611,
    "start_time": "2022-03-29T15:58:28.204Z"
   },
   {
    "duration": 10,
    "start_time": "2022-03-29T15:58:28.817Z"
   },
   {
    "duration": 15,
    "start_time": "2022-03-29T15:58:28.829Z"
   },
   {
    "duration": 11,
    "start_time": "2022-03-29T15:58:28.901Z"
   },
   {
    "duration": 32,
    "start_time": "2022-03-29T15:58:28.914Z"
   },
   {
    "duration": 58,
    "start_time": "2022-03-29T15:58:28.948Z"
   },
   {
    "duration": 18,
    "start_time": "2022-03-29T15:59:23.275Z"
   },
   {
    "duration": 1927,
    "start_time": "2022-03-29T15:59:33.534Z"
   },
   {
    "duration": 18,
    "start_time": "2022-03-29T15:59:42.926Z"
   },
   {
    "duration": 10,
    "start_time": "2022-03-29T15:59:54.366Z"
   },
   {
    "duration": 11,
    "start_time": "2022-03-29T15:59:59.697Z"
   },
   {
    "duration": 10,
    "start_time": "2022-03-29T16:00:08.062Z"
   },
   {
    "duration": 9,
    "start_time": "2022-03-29T16:00:15.253Z"
   },
   {
    "duration": 10,
    "start_time": "2022-03-29T16:00:30.111Z"
   },
   {
    "duration": 5,
    "start_time": "2022-03-29T16:01:08.343Z"
   },
   {
    "duration": 6,
    "start_time": "2022-03-29T16:01:08.575Z"
   },
   {
    "duration": 197,
    "start_time": "2022-03-29T16:01:08.739Z"
   },
   {
    "duration": 13,
    "start_time": "2022-03-29T16:01:09.059Z"
   },
   {
    "duration": 19,
    "start_time": "2022-03-29T16:01:09.586Z"
   },
   {
    "duration": 22,
    "start_time": "2022-03-29T16:01:14.807Z"
   },
   {
    "duration": 17,
    "start_time": "2022-03-29T16:01:17.666Z"
   },
   {
    "duration": 8,
    "start_time": "2022-03-29T16:01:42.369Z"
   },
   {
    "duration": 9,
    "start_time": "2022-03-29T16:01:45.717Z"
   },
   {
    "duration": 8,
    "start_time": "2022-03-29T16:01:58.706Z"
   },
   {
    "duration": 10,
    "start_time": "2022-03-29T16:03:43.225Z"
   },
   {
    "duration": 5,
    "start_time": "2022-03-29T16:06:17.260Z"
   },
   {
    "duration": 4,
    "start_time": "2022-03-29T16:06:17.432Z"
   },
   {
    "duration": 126,
    "start_time": "2022-03-29T16:06:17.561Z"
   },
   {
    "duration": 9,
    "start_time": "2022-03-29T16:06:17.878Z"
   },
   {
    "duration": 9,
    "start_time": "2022-03-29T16:06:18.263Z"
   },
   {
    "duration": 23,
    "start_time": "2022-03-29T16:06:18.740Z"
   },
   {
    "duration": 22,
    "start_time": "2022-03-29T16:06:19.542Z"
   },
   {
    "duration": 18,
    "start_time": "2022-03-29T16:06:22.913Z"
   },
   {
    "duration": 5,
    "start_time": "2022-03-29T16:06:39.233Z"
   },
   {
    "duration": 5,
    "start_time": "2022-03-29T16:06:39.345Z"
   },
   {
    "duration": 35,
    "start_time": "2022-03-29T16:06:39.476Z"
   },
   {
    "duration": 11,
    "start_time": "2022-03-29T16:06:39.567Z"
   },
   {
    "duration": 9,
    "start_time": "2022-03-29T16:06:40.013Z"
   },
   {
    "duration": 19,
    "start_time": "2022-03-29T16:06:40.731Z"
   },
   {
    "duration": 13,
    "start_time": "2022-03-29T16:06:43.001Z"
   },
   {
    "duration": 39,
    "start_time": "2022-03-29T16:06:44.877Z"
   },
   {
    "duration": 106,
    "start_time": "2022-03-29T16:29:31.969Z"
   },
   {
    "duration": 5,
    "start_time": "2022-03-29T16:29:35.750Z"
   },
   {
    "duration": 4,
    "start_time": "2022-03-29T16:30:10.936Z"
   },
   {
    "duration": 80,
    "start_time": "2022-03-29T16:30:10.943Z"
   },
   {
    "duration": 16,
    "start_time": "2022-03-29T16:30:11.025Z"
   },
   {
    "duration": 20,
    "start_time": "2022-03-29T16:30:11.044Z"
   },
   {
    "duration": 38,
    "start_time": "2022-03-29T16:30:11.066Z"
   },
   {
    "duration": 30,
    "start_time": "2022-03-29T16:30:11.106Z"
   },
   {
    "duration": 33,
    "start_time": "2022-03-29T16:30:11.138Z"
   },
   {
    "duration": 191,
    "start_time": "2022-03-29T16:30:11.173Z"
   },
   {
    "duration": 7,
    "start_time": "2022-03-29T16:30:11.366Z"
   },
   {
    "duration": 157,
    "start_time": "2022-03-29T16:30:11.376Z"
   },
   {
    "duration": 245,
    "start_time": "2022-03-29T16:30:11.535Z"
   },
   {
    "duration": 112,
    "start_time": "2022-03-29T16:30:11.783Z"
   },
   {
    "duration": 20,
    "start_time": "2022-03-29T16:30:11.902Z"
   },
   {
    "duration": 351,
    "start_time": "2022-03-29T16:30:11.924Z"
   },
   {
    "duration": 10,
    "start_time": "2022-03-29T16:30:12.278Z"
   },
   {
    "duration": 3,
    "start_time": "2022-03-29T16:30:12.301Z"
   },
   {
    "duration": 18,
    "start_time": "2022-03-29T16:30:12.306Z"
   },
   {
    "duration": 18,
    "start_time": "2022-03-29T16:30:12.325Z"
   },
   {
    "duration": 11,
    "start_time": "2022-03-29T16:30:12.345Z"
   },
   {
    "duration": 9,
    "start_time": "2022-03-29T16:30:12.358Z"
   },
   {
    "duration": 953,
    "start_time": "2022-03-29T16:30:12.369Z"
   },
   {
    "duration": 4,
    "start_time": "2022-03-29T16:30:13.324Z"
   },
   {
    "duration": 127,
    "start_time": "2022-03-29T16:30:13.330Z"
   },
   {
    "duration": 0,
    "start_time": "2022-03-29T16:30:13.459Z"
   },
   {
    "duration": 0,
    "start_time": "2022-03-29T16:30:13.460Z"
   },
   {
    "duration": 0,
    "start_time": "2022-03-29T16:30:13.461Z"
   },
   {
    "duration": 0,
    "start_time": "2022-03-29T16:30:13.462Z"
   },
   {
    "duration": 0,
    "start_time": "2022-03-29T16:30:13.463Z"
   },
   {
    "duration": 0,
    "start_time": "2022-03-29T16:30:13.464Z"
   },
   {
    "duration": 0,
    "start_time": "2022-03-29T16:30:13.465Z"
   },
   {
    "duration": 0,
    "start_time": "2022-03-29T16:30:13.466Z"
   },
   {
    "duration": 0,
    "start_time": "2022-03-29T16:30:13.468Z"
   },
   {
    "duration": 0,
    "start_time": "2022-03-29T16:30:13.469Z"
   },
   {
    "duration": 0,
    "start_time": "2022-03-29T16:30:13.470Z"
   },
   {
    "duration": 0,
    "start_time": "2022-03-29T16:30:13.502Z"
   },
   {
    "duration": 0,
    "start_time": "2022-03-29T16:30:13.503Z"
   },
   {
    "duration": 4,
    "start_time": "2022-03-29T16:30:35.138Z"
   },
   {
    "duration": 118,
    "start_time": "2022-03-29T16:30:35.281Z"
   },
   {
    "duration": 9,
    "start_time": "2022-03-29T16:30:35.500Z"
   },
   {
    "duration": 8,
    "start_time": "2022-03-29T16:30:35.698Z"
   },
   {
    "duration": 16,
    "start_time": "2022-03-29T16:30:36.169Z"
   },
   {
    "duration": 21,
    "start_time": "2022-03-29T16:30:36.576Z"
   },
   {
    "duration": 18,
    "start_time": "2022-03-29T16:30:39.306Z"
   },
   {
    "duration": 4,
    "start_time": "2022-03-29T16:31:09.738Z"
   },
   {
    "duration": 4,
    "start_time": "2022-03-29T16:31:10.341Z"
   },
   {
    "duration": 5,
    "start_time": "2022-03-29T16:31:11.037Z"
   },
   {
    "duration": 122,
    "start_time": "2022-03-29T16:31:11.201Z"
   },
   {
    "duration": 9,
    "start_time": "2022-03-29T16:31:11.369Z"
   },
   {
    "duration": 10,
    "start_time": "2022-03-29T16:31:11.700Z"
   },
   {
    "duration": 16,
    "start_time": "2022-03-29T16:31:12.121Z"
   },
   {
    "duration": 21,
    "start_time": "2022-03-29T16:31:12.936Z"
   },
   {
    "duration": 17,
    "start_time": "2022-03-29T16:31:13.953Z"
   },
   {
    "duration": 471,
    "start_time": "2022-03-29T16:31:14.803Z"
   },
   {
    "duration": 13,
    "start_time": "2022-03-29T16:31:16.063Z"
   },
   {
    "duration": 5,
    "start_time": "2022-03-29T16:31:28.845Z"
   },
   {
    "duration": 3,
    "start_time": "2022-03-29T16:31:29.040Z"
   },
   {
    "duration": 3,
    "start_time": "2022-03-29T16:31:29.220Z"
   },
   {
    "duration": 113,
    "start_time": "2022-03-29T16:31:29.556Z"
   },
   {
    "duration": 9,
    "start_time": "2022-03-29T16:31:29.866Z"
   },
   {
    "duration": 9,
    "start_time": "2022-03-29T16:31:30.241Z"
   },
   {
    "duration": 17,
    "start_time": "2022-03-29T16:31:30.709Z"
   },
   {
    "duration": 10,
    "start_time": "2022-03-29T16:31:31.522Z"
   },
   {
    "duration": 13,
    "start_time": "2022-03-29T16:31:32.421Z"
   },
   {
    "duration": 4,
    "start_time": "2022-03-29T16:31:44.061Z"
   },
   {
    "duration": 3,
    "start_time": "2022-03-29T16:31:44.380Z"
   },
   {
    "duration": 4,
    "start_time": "2022-03-29T16:31:44.536Z"
   },
   {
    "duration": 112,
    "start_time": "2022-03-29T16:31:44.773Z"
   },
   {
    "duration": 10,
    "start_time": "2022-03-29T16:31:45.010Z"
   },
   {
    "duration": 8,
    "start_time": "2022-03-29T16:31:45.177Z"
   },
   {
    "duration": 16,
    "start_time": "2022-03-29T16:31:45.686Z"
   },
   {
    "duration": 12,
    "start_time": "2022-03-29T16:31:46.121Z"
   },
   {
    "duration": 12,
    "start_time": "2022-03-29T16:31:46.778Z"
   },
   {
    "duration": 27,
    "start_time": "2022-03-29T16:31:47.858Z"
   },
   {
    "duration": 4,
    "start_time": "2022-03-29T16:31:52.075Z"
   },
   {
    "duration": 65,
    "start_time": "2022-03-29T16:31:52.082Z"
   },
   {
    "duration": 10,
    "start_time": "2022-03-29T16:31:52.149Z"
   },
   {
    "duration": 22,
    "start_time": "2022-03-29T16:31:52.161Z"
   },
   {
    "duration": 10,
    "start_time": "2022-03-29T16:31:52.203Z"
   },
   {
    "duration": 21,
    "start_time": "2022-03-29T16:31:52.215Z"
   },
   {
    "duration": 22,
    "start_time": "2022-03-29T16:31:52.238Z"
   },
   {
    "duration": 170,
    "start_time": "2022-03-29T16:31:52.262Z"
   },
   {
    "duration": 6,
    "start_time": "2022-03-29T16:31:52.434Z"
   },
   {
    "duration": 147,
    "start_time": "2022-03-29T16:31:52.442Z"
   },
   {
    "duration": 243,
    "start_time": "2022-03-29T16:31:52.591Z"
   },
   {
    "duration": 106,
    "start_time": "2022-03-29T16:31:52.836Z"
   },
   {
    "duration": 20,
    "start_time": "2022-03-29T16:31:52.944Z"
   },
   {
    "duration": 561,
    "start_time": "2022-03-29T16:31:52.967Z"
   },
   {
    "duration": 11,
    "start_time": "2022-03-29T16:31:53.530Z"
   },
   {
    "duration": 9,
    "start_time": "2022-03-29T16:31:53.543Z"
   },
   {
    "duration": 6,
    "start_time": "2022-03-29T16:31:53.555Z"
   },
   {
    "duration": 37,
    "start_time": "2022-03-29T16:31:53.563Z"
   },
   {
    "duration": 11,
    "start_time": "2022-03-29T16:31:53.603Z"
   },
   {
    "duration": 10,
    "start_time": "2022-03-29T16:31:53.616Z"
   },
   {
    "duration": 974,
    "start_time": "2022-03-29T16:31:53.629Z"
   },
   {
    "duration": 5,
    "start_time": "2022-03-29T16:31:54.605Z"
   },
   {
    "duration": 9,
    "start_time": "2022-03-29T16:31:54.612Z"
   },
   {
    "duration": 8,
    "start_time": "2022-03-29T16:31:54.623Z"
   },
   {
    "duration": 275,
    "start_time": "2022-03-29T16:31:54.634Z"
   },
   {
    "duration": 10,
    "start_time": "2022-03-29T16:31:54.911Z"
   },
   {
    "duration": 10,
    "start_time": "2022-03-29T16:31:54.923Z"
   },
   {
    "duration": 78,
    "start_time": "2022-03-29T16:31:54.935Z"
   },
   {
    "duration": 15,
    "start_time": "2022-03-29T16:31:55.015Z"
   },
   {
    "duration": 69,
    "start_time": "2022-03-29T16:31:55.033Z"
   },
   {
    "duration": 18,
    "start_time": "2022-03-29T16:31:55.104Z"
   },
   {
    "duration": 0,
    "start_time": "2022-03-29T16:31:55.124Z"
   },
   {
    "duration": 0,
    "start_time": "2022-03-29T16:31:55.125Z"
   },
   {
    "duration": 0,
    "start_time": "2022-03-29T16:31:55.127Z"
   },
   {
    "duration": 0,
    "start_time": "2022-03-29T16:31:55.128Z"
   },
   {
    "duration": 0,
    "start_time": "2022-03-29T16:31:55.130Z"
   },
   {
    "duration": 4,
    "start_time": "2022-03-29T16:32:04.560Z"
   },
   {
    "duration": 3,
    "start_time": "2022-03-29T16:32:04.693Z"
   },
   {
    "duration": 5,
    "start_time": "2022-03-29T16:32:04.825Z"
   },
   {
    "duration": 110,
    "start_time": "2022-03-29T16:32:05.151Z"
   },
   {
    "duration": 9,
    "start_time": "2022-03-29T16:32:05.576Z"
   },
   {
    "duration": 9,
    "start_time": "2022-03-29T16:32:06.037Z"
   },
   {
    "duration": 16,
    "start_time": "2022-03-29T16:32:06.534Z"
   },
   {
    "duration": 12,
    "start_time": "2022-03-29T16:32:08.745Z"
   },
   {
    "duration": 13,
    "start_time": "2022-03-29T16:32:09.381Z"
   },
   {
    "duration": 4,
    "start_time": "2022-03-29T16:32:11.754Z"
   },
   {
    "duration": 62,
    "start_time": "2022-03-29T16:32:11.761Z"
   },
   {
    "duration": 12,
    "start_time": "2022-03-29T16:32:11.826Z"
   },
   {
    "duration": 24,
    "start_time": "2022-03-29T16:32:11.840Z"
   },
   {
    "duration": 36,
    "start_time": "2022-03-29T16:32:11.868Z"
   },
   {
    "duration": 23,
    "start_time": "2022-03-29T16:32:11.906Z"
   },
   {
    "duration": 22,
    "start_time": "2022-03-29T16:32:11.931Z"
   },
   {
    "duration": 135,
    "start_time": "2022-03-29T16:32:11.955Z"
   },
   {
    "duration": 10,
    "start_time": "2022-03-29T16:32:12.092Z"
   },
   {
    "duration": 146,
    "start_time": "2022-03-29T16:32:12.104Z"
   },
   {
    "duration": 243,
    "start_time": "2022-03-29T16:32:12.251Z"
   },
   {
    "duration": 112,
    "start_time": "2022-03-29T16:32:12.496Z"
   },
   {
    "duration": 20,
    "start_time": "2022-03-29T16:32:12.610Z"
   },
   {
    "duration": 395,
    "start_time": "2022-03-29T16:32:12.634Z"
   },
   {
    "duration": 10,
    "start_time": "2022-03-29T16:32:13.031Z"
   },
   {
    "duration": 5,
    "start_time": "2022-03-29T16:32:13.042Z"
   },
   {
    "duration": 3,
    "start_time": "2022-03-29T16:32:13.102Z"
   },
   {
    "duration": 17,
    "start_time": "2022-03-29T16:32:13.107Z"
   },
   {
    "duration": 11,
    "start_time": "2022-03-29T16:32:13.126Z"
   },
   {
    "duration": 67,
    "start_time": "2022-03-29T16:32:13.139Z"
   },
   {
    "duration": 611,
    "start_time": "2022-03-29T16:32:13.208Z"
   },
   {
    "duration": 4,
    "start_time": "2022-03-29T16:32:13.821Z"
   },
   {
    "duration": 6,
    "start_time": "2022-03-29T16:32:13.826Z"
   },
   {
    "duration": 7,
    "start_time": "2022-03-29T16:32:13.834Z"
   },
   {
    "duration": 262,
    "start_time": "2022-03-29T16:32:13.843Z"
   },
   {
    "duration": 9,
    "start_time": "2022-03-29T16:32:14.107Z"
   },
   {
    "duration": 11,
    "start_time": "2022-03-29T16:32:14.117Z"
   },
   {
    "duration": 71,
    "start_time": "2022-03-29T16:32:14.130Z"
   },
   {
    "duration": 11,
    "start_time": "2022-03-29T16:32:14.203Z"
   },
   {
    "duration": 18,
    "start_time": "2022-03-29T16:32:14.216Z"
   },
   {
    "duration": 673,
    "start_time": "2022-03-29T16:32:14.236Z"
   },
   {
    "duration": 14,
    "start_time": "2022-03-29T16:32:14.912Z"
   },
   {
    "duration": 73,
    "start_time": "2022-03-29T16:32:14.929Z"
   },
   {
    "duration": 11,
    "start_time": "2022-03-29T16:32:15.006Z"
   },
   {
    "duration": 20,
    "start_time": "2022-03-29T16:32:15.019Z"
   },
   {
    "duration": 68,
    "start_time": "2022-03-29T16:32:15.042Z"
   },
   {
    "duration": 9,
    "start_time": "2022-03-29T16:32:47.118Z"
   },
   {
    "duration": 10,
    "start_time": "2022-03-29T16:32:50.257Z"
   },
   {
    "duration": 49,
    "start_time": "2022-03-30T08:43:02.528Z"
   },
   {
    "duration": 1684,
    "start_time": "2022-03-30T08:43:16.451Z"
   },
   {
    "duration": 105,
    "start_time": "2022-03-30T08:43:18.137Z"
   },
   {
    "duration": 65,
    "start_time": "2022-03-30T08:43:18.244Z"
   },
   {
    "duration": 16,
    "start_time": "2022-03-30T08:43:18.310Z"
   },
   {
    "duration": 11,
    "start_time": "2022-03-30T08:43:18.329Z"
   },
   {
    "duration": 73,
    "start_time": "2022-03-30T08:43:18.342Z"
   },
   {
    "duration": 19,
    "start_time": "2022-03-30T08:43:18.417Z"
   },
   {
    "duration": 205,
    "start_time": "2022-03-30T08:43:18.438Z"
   },
   {
    "duration": 5,
    "start_time": "2022-03-30T08:43:18.645Z"
   },
   {
    "duration": 287,
    "start_time": "2022-03-30T08:43:18.652Z"
   },
   {
    "duration": 285,
    "start_time": "2022-03-30T08:43:18.941Z"
   },
   {
    "duration": 100,
    "start_time": "2022-03-30T08:43:19.228Z"
   },
   {
    "duration": 19,
    "start_time": "2022-03-30T08:43:19.329Z"
   },
   {
    "duration": 390,
    "start_time": "2022-03-30T08:43:19.351Z"
   },
   {
    "duration": 9,
    "start_time": "2022-03-30T08:43:19.743Z"
   },
   {
    "duration": 5,
    "start_time": "2022-03-30T08:43:19.754Z"
   },
   {
    "duration": 5,
    "start_time": "2022-03-30T08:43:19.760Z"
   },
   {
    "duration": 16,
    "start_time": "2022-03-30T08:43:19.766Z"
   },
   {
    "duration": 10,
    "start_time": "2022-03-30T08:43:19.783Z"
   },
   {
    "duration": 17,
    "start_time": "2022-03-30T08:43:19.795Z"
   },
   {
    "duration": 330,
    "start_time": "2022-03-30T08:43:19.814Z"
   },
   {
    "duration": 3,
    "start_time": "2022-03-30T08:43:20.145Z"
   },
   {
    "duration": 6,
    "start_time": "2022-03-30T08:43:20.149Z"
   },
   {
    "duration": 83,
    "start_time": "2022-03-30T08:43:20.156Z"
   },
   {
    "duration": 0,
    "start_time": "2022-03-30T08:43:20.240Z"
   },
   {
    "duration": 0,
    "start_time": "2022-03-30T08:43:20.242Z"
   },
   {
    "duration": 0,
    "start_time": "2022-03-30T08:43:20.243Z"
   },
   {
    "duration": 0,
    "start_time": "2022-03-30T08:43:20.244Z"
   },
   {
    "duration": 0,
    "start_time": "2022-03-30T08:43:20.246Z"
   },
   {
    "duration": 0,
    "start_time": "2022-03-30T08:43:20.246Z"
   },
   {
    "duration": 0,
    "start_time": "2022-03-30T08:43:20.248Z"
   },
   {
    "duration": 0,
    "start_time": "2022-03-30T08:43:20.249Z"
   },
   {
    "duration": 0,
    "start_time": "2022-03-30T08:43:20.250Z"
   },
   {
    "duration": 0,
    "start_time": "2022-03-30T08:43:20.251Z"
   },
   {
    "duration": 0,
    "start_time": "2022-03-30T08:43:20.252Z"
   },
   {
    "duration": 0,
    "start_time": "2022-03-30T08:43:20.253Z"
   },
   {
    "duration": 0,
    "start_time": "2022-03-30T08:43:20.255Z"
   },
   {
    "duration": 7538,
    "start_time": "2022-03-30T08:43:39.157Z"
   },
   {
    "duration": 16,
    "start_time": "2022-03-30T08:43:49.021Z"
   },
   {
    "duration": 31,
    "start_time": "2022-03-30T08:43:54.453Z"
   },
   {
    "duration": 4,
    "start_time": "2022-03-30T08:46:37.062Z"
   },
   {
    "duration": 4,
    "start_time": "2022-03-30T08:46:51.056Z"
   },
   {
    "duration": 19,
    "start_time": "2022-03-30T08:46:52.421Z"
   },
   {
    "duration": 3,
    "start_time": "2022-03-30T08:47:27.414Z"
   },
   {
    "duration": 4,
    "start_time": "2022-03-30T08:47:27.858Z"
   },
   {
    "duration": 105,
    "start_time": "2022-03-30T08:47:28.061Z"
   },
   {
    "duration": 15,
    "start_time": "2022-03-30T08:47:30.346Z"
   },
   {
    "duration": 3,
    "start_time": "2022-03-30T08:47:35.690Z"
   },
   {
    "duration": 63,
    "start_time": "2022-03-30T08:47:35.695Z"
   },
   {
    "duration": 10,
    "start_time": "2022-03-30T08:47:35.760Z"
   },
   {
    "duration": 36,
    "start_time": "2022-03-30T08:47:35.772Z"
   },
   {
    "duration": 10,
    "start_time": "2022-03-30T08:47:35.812Z"
   },
   {
    "duration": 20,
    "start_time": "2022-03-30T08:47:35.824Z"
   },
   {
    "duration": 20,
    "start_time": "2022-03-30T08:47:35.846Z"
   },
   {
    "duration": 148,
    "start_time": "2022-03-30T08:47:35.867Z"
   },
   {
    "duration": 10,
    "start_time": "2022-03-30T08:47:36.017Z"
   },
   {
    "duration": 144,
    "start_time": "2022-03-30T08:47:36.028Z"
   },
   {
    "duration": 231,
    "start_time": "2022-03-30T08:47:36.173Z"
   },
   {
    "duration": 104,
    "start_time": "2022-03-30T08:47:36.409Z"
   },
   {
    "duration": 20,
    "start_time": "2022-03-30T08:47:36.515Z"
   },
   {
    "duration": 358,
    "start_time": "2022-03-30T08:47:36.538Z"
   },
   {
    "duration": 15,
    "start_time": "2022-03-30T08:47:36.898Z"
   },
   {
    "duration": 4,
    "start_time": "2022-03-30T08:47:36.915Z"
   },
   {
    "duration": 5,
    "start_time": "2022-03-30T08:47:36.920Z"
   },
   {
    "duration": 14,
    "start_time": "2022-03-30T08:47:36.927Z"
   },
   {
    "duration": 10,
    "start_time": "2022-03-30T08:47:36.943Z"
   },
   {
    "duration": 55,
    "start_time": "2022-03-30T08:47:36.955Z"
   },
   {
    "duration": 697,
    "start_time": "2022-03-30T08:47:37.012Z"
   },
   {
    "duration": 4,
    "start_time": "2022-03-30T08:47:37.710Z"
   },
   {
    "duration": 6,
    "start_time": "2022-03-30T08:47:37.716Z"
   },
   {
    "duration": 285,
    "start_time": "2022-03-30T08:47:37.724Z"
   },
   {
    "duration": 2,
    "start_time": "2022-03-30T08:47:38.011Z"
   },
   {
    "duration": 6,
    "start_time": "2022-03-30T08:47:38.014Z"
   },
   {
    "duration": 20,
    "start_time": "2022-03-30T08:47:38.022Z"
   },
   {
    "duration": 11,
    "start_time": "2022-03-30T08:47:38.044Z"
   },
   {
    "duration": 62,
    "start_time": "2022-03-30T08:47:38.056Z"
   },
   {
    "duration": 634,
    "start_time": "2022-03-30T08:47:38.120Z"
   },
   {
    "duration": 10,
    "start_time": "2022-03-30T08:47:38.755Z"
   },
   {
    "duration": 10,
    "start_time": "2022-03-30T08:47:38.767Z"
   },
   {
    "duration": 8,
    "start_time": "2022-03-30T08:47:38.779Z"
   },
   {
    "duration": 16,
    "start_time": "2022-03-30T08:47:38.809Z"
   },
   {
    "duration": 15,
    "start_time": "2022-03-30T08:47:38.827Z"
   },
   {
    "duration": 3,
    "start_time": "2022-03-30T08:47:52.048Z"
   },
   {
    "duration": 54,
    "start_time": "2022-03-30T08:47:52.053Z"
   },
   {
    "duration": 11,
    "start_time": "2022-03-30T08:47:52.108Z"
   },
   {
    "duration": 16,
    "start_time": "2022-03-30T08:47:52.121Z"
   },
   {
    "duration": 9,
    "start_time": "2022-03-30T08:47:52.140Z"
   },
   {
    "duration": 22,
    "start_time": "2022-03-30T08:47:52.151Z"
   },
   {
    "duration": 44,
    "start_time": "2022-03-30T08:47:52.175Z"
   },
   {
    "duration": 120,
    "start_time": "2022-03-30T08:47:52.221Z"
   },
   {
    "duration": 5,
    "start_time": "2022-03-30T08:47:52.342Z"
   },
   {
    "duration": 144,
    "start_time": "2022-03-30T08:47:52.349Z"
   },
   {
    "duration": 229,
    "start_time": "2022-03-30T08:47:52.496Z"
   },
   {
    "duration": 108,
    "start_time": "2022-03-30T08:47:52.727Z"
   },
   {
    "duration": 18,
    "start_time": "2022-03-30T08:47:52.838Z"
   },
   {
    "duration": 552,
    "start_time": "2022-03-30T08:47:52.857Z"
   },
   {
    "duration": 9,
    "start_time": "2022-03-30T08:47:53.411Z"
   },
   {
    "duration": 3,
    "start_time": "2022-03-30T08:47:53.422Z"
   },
   {
    "duration": 4,
    "start_time": "2022-03-30T08:47:53.427Z"
   },
   {
    "duration": 15,
    "start_time": "2022-03-30T08:47:53.432Z"
   },
   {
    "duration": 65,
    "start_time": "2022-03-30T08:47:53.449Z"
   },
   {
    "duration": 8,
    "start_time": "2022-03-30T08:47:53.515Z"
   },
   {
    "duration": 612,
    "start_time": "2022-03-30T08:47:53.525Z"
   },
   {
    "duration": 4,
    "start_time": "2022-03-30T08:47:54.139Z"
   },
   {
    "duration": 8,
    "start_time": "2022-03-30T08:47:54.145Z"
   },
   {
    "duration": 266,
    "start_time": "2022-03-30T08:47:54.155Z"
   },
   {
    "duration": 3,
    "start_time": "2022-03-30T08:47:54.423Z"
   },
   {
    "duration": 4,
    "start_time": "2022-03-30T08:47:54.427Z"
   },
   {
    "duration": 21,
    "start_time": "2022-03-30T08:47:54.433Z"
   },
   {
    "duration": 70,
    "start_time": "2022-03-30T08:47:54.455Z"
   },
   {
    "duration": 14,
    "start_time": "2022-03-30T08:47:54.527Z"
   },
   {
    "duration": 373,
    "start_time": "2022-03-30T08:47:54.543Z"
   },
   {
    "duration": 9,
    "start_time": "2022-03-30T08:47:54.918Z"
   },
   {
    "duration": 11,
    "start_time": "2022-03-30T08:47:54.929Z"
   },
   {
    "duration": 9,
    "start_time": "2022-03-30T08:47:54.941Z"
   },
   {
    "duration": 14,
    "start_time": "2022-03-30T08:47:54.951Z"
   },
   {
    "duration": 50,
    "start_time": "2022-03-30T08:47:54.967Z"
   },
   {
    "duration": 4,
    "start_time": "2022-03-30T08:49:31.329Z"
   },
   {
    "duration": 64,
    "start_time": "2022-03-30T08:49:31.335Z"
   },
   {
    "duration": 8,
    "start_time": "2022-03-30T08:49:31.401Z"
   },
   {
    "duration": 15,
    "start_time": "2022-03-30T08:49:31.411Z"
   },
   {
    "duration": 10,
    "start_time": "2022-03-30T08:49:31.428Z"
   },
   {
    "duration": 22,
    "start_time": "2022-03-30T08:49:31.439Z"
   },
   {
    "duration": 19,
    "start_time": "2022-03-30T08:49:31.462Z"
   },
   {
    "duration": 127,
    "start_time": "2022-03-30T08:49:31.482Z"
   },
   {
    "duration": 5,
    "start_time": "2022-03-30T08:49:31.611Z"
   },
   {
    "duration": 140,
    "start_time": "2022-03-30T08:49:31.617Z"
   },
   {
    "duration": 237,
    "start_time": "2022-03-30T08:49:31.759Z"
   },
   {
    "duration": 100,
    "start_time": "2022-03-30T08:49:31.998Z"
   },
   {
    "duration": 19,
    "start_time": "2022-03-30T08:49:32.109Z"
   },
   {
    "duration": 504,
    "start_time": "2022-03-30T08:49:32.132Z"
   },
   {
    "duration": 8,
    "start_time": "2022-03-30T08:49:32.638Z"
   },
   {
    "duration": 5,
    "start_time": "2022-03-30T08:49:32.648Z"
   },
   {
    "duration": 54,
    "start_time": "2022-03-30T08:49:32.655Z"
   },
   {
    "duration": 13,
    "start_time": "2022-03-30T08:49:32.711Z"
   },
   {
    "duration": 9,
    "start_time": "2022-03-30T08:49:32.726Z"
   },
   {
    "duration": 10,
    "start_time": "2022-03-30T08:49:32.737Z"
   },
   {
    "duration": 678,
    "start_time": "2022-03-30T08:49:32.748Z"
   },
   {
    "duration": 4,
    "start_time": "2022-03-30T08:49:33.427Z"
   },
   {
    "duration": 6,
    "start_time": "2022-03-30T08:49:33.432Z"
   },
   {
    "duration": 211,
    "start_time": "2022-03-30T08:49:33.439Z"
   },
   {
    "duration": 59,
    "start_time": "2022-03-30T08:49:33.651Z"
   },
   {
    "duration": 5,
    "start_time": "2022-03-30T08:49:33.711Z"
   },
   {
    "duration": 18,
    "start_time": "2022-03-30T08:49:33.717Z"
   },
   {
    "duration": 10,
    "start_time": "2022-03-30T08:49:33.736Z"
   },
   {
    "duration": 71,
    "start_time": "2022-03-30T08:49:33.747Z"
   },
   {
    "duration": 390,
    "start_time": "2022-03-30T08:49:33.819Z"
   },
   {
    "duration": 9,
    "start_time": "2022-03-30T08:49:34.210Z"
   },
   {
    "duration": 12,
    "start_time": "2022-03-30T08:49:34.221Z"
   },
   {
    "duration": 9,
    "start_time": "2022-03-30T08:49:34.234Z"
   },
   {
    "duration": 16,
    "start_time": "2022-03-30T08:49:34.245Z"
   },
   {
    "duration": 48,
    "start_time": "2022-03-30T08:49:34.263Z"
   },
   {
    "duration": 4,
    "start_time": "2022-03-30T08:50:43.191Z"
   },
   {
    "duration": 62,
    "start_time": "2022-03-30T08:50:43.197Z"
   },
   {
    "duration": 10,
    "start_time": "2022-03-30T08:50:43.261Z"
   },
   {
    "duration": 15,
    "start_time": "2022-03-30T08:50:43.273Z"
   },
   {
    "duration": 9,
    "start_time": "2022-03-30T08:50:43.309Z"
   },
   {
    "duration": 28,
    "start_time": "2022-03-30T08:50:43.320Z"
   },
   {
    "duration": 20,
    "start_time": "2022-03-30T08:50:43.350Z"
   },
   {
    "duration": 117,
    "start_time": "2022-03-30T08:50:43.372Z"
   },
   {
    "duration": 94,
    "start_time": "2022-03-30T08:50:43.490Z"
   },
   {
    "duration": 134,
    "start_time": "2022-03-30T08:50:43.586Z"
   },
   {
    "duration": 233,
    "start_time": "2022-03-30T08:50:43.722Z"
   },
   {
    "duration": 95,
    "start_time": "2022-03-30T08:50:43.956Z"
   },
   {
    "duration": 17,
    "start_time": "2022-03-30T08:50:44.053Z"
   },
   {
    "duration": 332,
    "start_time": "2022-03-30T08:50:44.072Z"
   },
   {
    "duration": 9,
    "start_time": "2022-03-30T08:50:44.405Z"
   },
   {
    "duration": 4,
    "start_time": "2022-03-30T08:50:44.416Z"
   },
   {
    "duration": 8,
    "start_time": "2022-03-30T08:50:44.422Z"
   },
   {
    "duration": 24,
    "start_time": "2022-03-30T08:50:44.431Z"
   },
   {
    "duration": 9,
    "start_time": "2022-03-30T08:50:44.457Z"
   },
   {
    "duration": 9,
    "start_time": "2022-03-30T08:50:44.468Z"
   },
   {
    "duration": 535,
    "start_time": "2022-03-30T08:50:44.478Z"
   },
   {
    "duration": 3,
    "start_time": "2022-03-30T08:50:45.015Z"
   },
   {
    "duration": 16,
    "start_time": "2022-03-30T08:50:45.020Z"
   },
   {
    "duration": 208,
    "start_time": "2022-03-30T08:50:45.038Z"
   },
   {
    "duration": 69,
    "start_time": "2022-03-30T08:50:45.248Z"
   },
   {
    "duration": 9,
    "start_time": "2022-03-30T08:50:45.319Z"
   },
   {
    "duration": 15,
    "start_time": "2022-03-30T08:50:45.330Z"
   },
   {
    "duration": 696,
    "start_time": "2022-03-30T08:50:45.346Z"
   },
   {
    "duration": 65,
    "start_time": "2022-03-30T08:50:46.044Z"
   },
   {
    "duration": 18,
    "start_time": "2022-03-30T08:50:46.111Z"
   },
   {
    "duration": 8,
    "start_time": "2022-03-30T08:50:46.131Z"
   },
   {
    "duration": 73,
    "start_time": "2022-03-30T08:50:46.141Z"
   },
   {
    "duration": 16,
    "start_time": "2022-03-30T08:50:46.215Z"
   },
   {
    "duration": 15,
    "start_time": "2022-03-30T08:54:53.887Z"
   },
   {
    "duration": 17,
    "start_time": "2022-03-30T08:56:11.406Z"
   },
   {
    "duration": 20,
    "start_time": "2022-03-30T08:56:41.152Z"
   },
   {
    "duration": 16,
    "start_time": "2022-03-30T08:57:03.990Z"
   },
   {
    "duration": 95,
    "start_time": "2022-03-30T08:57:32.261Z"
   },
   {
    "duration": 28,
    "start_time": "2022-03-30T08:57:52.588Z"
   },
   {
    "duration": 28,
    "start_time": "2022-03-30T08:58:04.310Z"
   },
   {
    "duration": 52,
    "start_time": "2022-03-30T08:58:21.376Z"
   },
   {
    "duration": 10,
    "start_time": "2022-03-30T09:00:14.362Z"
   },
   {
    "duration": 17,
    "start_time": "2022-03-30T09:00:35.174Z"
   },
   {
    "duration": 16,
    "start_time": "2022-03-30T09:04:23.071Z"
   },
   {
    "duration": 16,
    "start_time": "2022-03-30T09:09:41.087Z"
   },
   {
    "duration": 13,
    "start_time": "2022-03-30T09:10:57.532Z"
   },
   {
    "duration": 79433,
    "start_time": "2022-03-30T09:11:29.383Z"
   },
   {
    "duration": 16,
    "start_time": "2022-03-30T09:12:52.422Z"
   },
   {
    "duration": 101566,
    "start_time": "2022-03-30T09:13:26.157Z"
   },
   {
    "duration": 2100,
    "start_time": "2022-03-30T09:15:07.725Z"
   },
   {
    "duration": 2,
    "start_time": "2022-03-30T09:16:27.468Z"
   },
   {
    "duration": 14,
    "start_time": "2022-03-30T09:16:40.707Z"
   },
   {
    "duration": 11,
    "start_time": "2022-03-30T09:17:01.041Z"
   },
   {
    "duration": 14,
    "start_time": "2022-03-30T09:23:31.636Z"
   },
   {
    "duration": 14,
    "start_time": "2022-03-30T09:27:08.857Z"
   },
   {
    "duration": 12,
    "start_time": "2022-03-30T09:27:10.515Z"
   },
   {
    "duration": 14,
    "start_time": "2022-03-30T09:27:32.643Z"
   },
   {
    "duration": 12,
    "start_time": "2022-03-30T09:27:47.198Z"
   },
   {
    "duration": 132,
    "start_time": "2022-03-30T09:28:52.895Z"
   },
   {
    "duration": 13,
    "start_time": "2022-03-30T09:29:03.310Z"
   },
   {
    "duration": 131,
    "start_time": "2022-03-30T09:29:05.412Z"
   },
   {
    "duration": 170,
    "start_time": "2022-03-30T09:31:16.194Z"
   },
   {
    "duration": 256,
    "start_time": "2022-03-30T09:31:33.612Z"
   },
   {
    "duration": 4,
    "start_time": "2022-03-30T09:43:13.395Z"
   },
   {
    "duration": 9,
    "start_time": "2022-03-30T09:43:16.357Z"
   },
   {
    "duration": 11,
    "start_time": "2022-03-30T09:43:29.837Z"
   },
   {
    "duration": 9,
    "start_time": "2022-03-30T09:43:34.263Z"
   },
   {
    "duration": 8,
    "start_time": "2022-03-30T09:43:51.722Z"
   },
   {
    "duration": 9,
    "start_time": "2022-03-30T09:44:07.388Z"
   },
   {
    "duration": 10,
    "start_time": "2022-03-30T09:44:15.707Z"
   },
   {
    "duration": 191,
    "start_time": "2022-03-30T09:44:40.840Z"
   },
   {
    "duration": 206,
    "start_time": "2022-03-30T09:45:07.924Z"
   },
   {
    "duration": 8,
    "start_time": "2022-03-30T09:45:30.381Z"
   },
   {
    "duration": 318,
    "start_time": "2022-03-30T09:45:30.970Z"
   },
   {
    "duration": 237,
    "start_time": "2022-03-30T09:45:48.506Z"
   },
   {
    "duration": 246,
    "start_time": "2022-03-30T09:45:55.800Z"
   },
   {
    "duration": 309,
    "start_time": "2022-03-30T10:09:34.942Z"
   },
   {
    "duration": 118,
    "start_time": "2022-03-30T10:10:51.250Z"
   },
   {
    "duration": 117,
    "start_time": "2022-03-30T10:11:01.513Z"
   },
   {
    "duration": 170,
    "start_time": "2022-03-30T10:11:28.550Z"
   },
   {
    "duration": 168,
    "start_time": "2022-03-30T10:12:40.637Z"
   },
   {
    "duration": 159,
    "start_time": "2022-03-30T10:13:35.013Z"
   },
   {
    "duration": 175,
    "start_time": "2022-03-30T10:13:56.796Z"
   },
   {
    "duration": 135,
    "start_time": "2022-03-30T10:16:18.942Z"
   },
   {
    "duration": 130,
    "start_time": "2022-03-30T10:16:23.749Z"
   },
   {
    "duration": 176,
    "start_time": "2022-03-30T10:16:39.469Z"
   },
   {
    "duration": 136,
    "start_time": "2022-03-30T10:16:44.883Z"
   },
   {
    "duration": 259,
    "start_time": "2022-03-30T10:17:22.930Z"
   },
   {
    "duration": 14,
    "start_time": "2022-03-30T10:26:40.590Z"
   },
   {
    "duration": 10,
    "start_time": "2022-03-30T10:26:40.857Z"
   },
   {
    "duration": 8,
    "start_time": "2022-03-30T10:26:41.761Z"
   },
   {
    "duration": 156,
    "start_time": "2022-03-30T10:26:46.560Z"
   },
   {
    "duration": 146,
    "start_time": "2022-03-30T10:27:25.659Z"
   },
   {
    "duration": 142,
    "start_time": "2022-03-30T10:27:33.857Z"
   },
   {
    "duration": 150,
    "start_time": "2022-03-30T10:28:44.160Z"
   },
   {
    "duration": 142,
    "start_time": "2022-03-30T10:29:23.765Z"
   },
   {
    "duration": 11,
    "start_time": "2022-03-30T10:29:30.705Z"
   },
   {
    "duration": 144,
    "start_time": "2022-03-30T10:29:41.279Z"
   },
   {
    "duration": 158,
    "start_time": "2022-03-30T10:30:07.075Z"
   },
   {
    "duration": 155,
    "start_time": "2022-03-30T10:30:11.787Z"
   },
   {
    "duration": 157,
    "start_time": "2022-03-30T10:30:13.549Z"
   },
   {
    "duration": 12,
    "start_time": "2022-03-30T10:30:44.155Z"
   },
   {
    "duration": 14,
    "start_time": "2022-03-30T10:31:13.293Z"
   },
   {
    "duration": 11,
    "start_time": "2022-03-30T10:31:14.537Z"
   },
   {
    "duration": 127,
    "start_time": "2022-03-30T10:31:16.874Z"
   },
   {
    "duration": 130,
    "start_time": "2022-03-30T10:31:37.966Z"
   },
   {
    "duration": 135,
    "start_time": "2022-03-30T10:31:49.620Z"
   },
   {
    "duration": 125,
    "start_time": "2022-03-30T10:31:54.966Z"
   },
   {
    "duration": 5,
    "start_time": "2022-03-30T10:34:18.197Z"
   },
   {
    "duration": 122,
    "start_time": "2022-03-30T10:34:18.960Z"
   },
   {
    "duration": 11,
    "start_time": "2022-03-30T10:34:24.165Z"
   },
   {
    "duration": 12,
    "start_time": "2022-03-30T10:34:32.633Z"
   },
   {
    "duration": 3,
    "start_time": "2022-03-30T10:34:49.798Z"
   },
   {
    "duration": 57,
    "start_time": "2022-03-30T10:34:49.803Z"
   },
   {
    "duration": 8,
    "start_time": "2022-03-30T10:34:49.861Z"
   },
   {
    "duration": 38,
    "start_time": "2022-03-30T10:34:49.871Z"
   },
   {
    "duration": 9,
    "start_time": "2022-03-30T10:34:49.911Z"
   },
   {
    "duration": 20,
    "start_time": "2022-03-30T10:34:49.921Z"
   },
   {
    "duration": 17,
    "start_time": "2022-03-30T10:34:49.942Z"
   },
   {
    "duration": 123,
    "start_time": "2022-03-30T10:34:49.961Z"
   },
   {
    "duration": 5,
    "start_time": "2022-03-30T10:34:50.085Z"
   },
   {
    "duration": 135,
    "start_time": "2022-03-30T10:34:50.091Z"
   },
   {
    "duration": 307,
    "start_time": "2022-03-30T10:34:50.228Z"
   },
   {
    "duration": 261,
    "start_time": "2022-03-30T10:34:50.537Z"
   },
   {
    "duration": 22,
    "start_time": "2022-03-30T10:34:50.799Z"
   },
   {
    "duration": 321,
    "start_time": "2022-03-30T10:34:50.823Z"
   },
   {
    "duration": 14,
    "start_time": "2022-03-30T10:34:51.146Z"
   },
   {
    "duration": 11,
    "start_time": "2022-03-30T10:34:51.161Z"
   },
   {
    "duration": 162,
    "start_time": "2022-03-30T10:34:51.173Z"
   },
   {
    "duration": 8,
    "start_time": "2022-03-30T10:34:51.336Z"
   },
   {
    "duration": 479,
    "start_time": "2022-03-30T10:34:51.346Z"
   },
   {
    "duration": 4,
    "start_time": "2022-03-30T10:34:51.827Z"
   },
   {
    "duration": 8,
    "start_time": "2022-03-30T10:34:51.833Z"
   },
   {
    "duration": 206,
    "start_time": "2022-03-30T10:34:51.843Z"
   },
   {
    "duration": 68,
    "start_time": "2022-03-30T10:34:52.051Z"
   },
   {
    "duration": 18,
    "start_time": "2022-03-30T10:34:52.120Z"
   },
   {
    "duration": 606,
    "start_time": "2022-03-30T10:34:52.140Z"
   },
   {
    "duration": 61,
    "start_time": "2022-03-30T10:34:52.747Z"
   },
   {
    "duration": 11,
    "start_time": "2022-03-30T10:34:52.810Z"
   },
   {
    "duration": 11,
    "start_time": "2022-03-30T10:34:52.822Z"
   },
   {
    "duration": 10,
    "start_time": "2022-03-30T10:34:52.835Z"
   },
   {
    "duration": 64,
    "start_time": "2022-03-30T10:34:52.846Z"
   },
   {
    "duration": 343,
    "start_time": "2022-03-30T10:34:52.911Z"
   },
   {
    "duration": 5,
    "start_time": "2022-03-30T10:35:12.083Z"
   },
   {
    "duration": 130,
    "start_time": "2022-03-30T10:35:12.636Z"
   },
   {
    "duration": 10,
    "start_time": "2022-03-30T10:35:16.802Z"
   },
   {
    "duration": 9,
    "start_time": "2022-03-30T10:35:29.412Z"
   },
   {
    "duration": 19,
    "start_time": "2022-03-30T10:35:34.830Z"
   },
   {
    "duration": 16,
    "start_time": "2022-03-30T10:35:35.141Z"
   },
   {
    "duration": 3,
    "start_time": "2022-03-30T10:35:55.278Z"
   },
   {
    "duration": 58,
    "start_time": "2022-03-30T10:35:55.283Z"
   },
   {
    "duration": 10,
    "start_time": "2022-03-30T10:35:55.342Z"
   },
   {
    "duration": 16,
    "start_time": "2022-03-30T10:35:55.353Z"
   },
   {
    "duration": 9,
    "start_time": "2022-03-30T10:35:55.371Z"
   },
   {
    "duration": 37,
    "start_time": "2022-03-30T10:35:55.382Z"
   },
   {
    "duration": 18,
    "start_time": "2022-03-30T10:35:55.421Z"
   },
   {
    "duration": 112,
    "start_time": "2022-03-30T10:35:55.441Z"
   },
   {
    "duration": 5,
    "start_time": "2022-03-30T10:35:55.555Z"
   },
   {
    "duration": 142,
    "start_time": "2022-03-30T10:35:55.561Z"
   },
   {
    "duration": 325,
    "start_time": "2022-03-30T10:35:55.705Z"
   },
   {
    "duration": 179,
    "start_time": "2022-03-30T10:35:56.032Z"
   },
   {
    "duration": 18,
    "start_time": "2022-03-30T10:35:56.213Z"
   },
   {
    "duration": 347,
    "start_time": "2022-03-30T10:35:56.234Z"
   },
   {
    "duration": 15,
    "start_time": "2022-03-30T10:35:56.583Z"
   },
   {
    "duration": 16,
    "start_time": "2022-03-30T10:35:56.599Z"
   },
   {
    "duration": 247,
    "start_time": "2022-03-30T10:35:56.616Z"
   },
   {
    "duration": 11,
    "start_time": "2022-03-30T10:35:56.909Z"
   },
   {
    "duration": 620,
    "start_time": "2022-03-30T10:35:56.922Z"
   },
   {
    "duration": 4,
    "start_time": "2022-03-30T10:35:57.544Z"
   },
   {
    "duration": 9,
    "start_time": "2022-03-30T10:35:57.549Z"
   },
   {
    "duration": 216,
    "start_time": "2022-03-30T10:35:57.610Z"
   },
   {
    "duration": 15,
    "start_time": "2022-03-30T10:35:57.828Z"
   },
   {
    "duration": 76,
    "start_time": "2022-03-30T10:35:57.845Z"
   },
   {
    "duration": 636,
    "start_time": "2022-03-30T10:35:57.922Z"
   },
   {
    "duration": 11,
    "start_time": "2022-03-30T10:35:58.560Z"
   },
   {
    "duration": 10,
    "start_time": "2022-03-30T10:35:58.573Z"
   },
   {
    "duration": 31,
    "start_time": "2022-03-30T10:35:58.585Z"
   },
   {
    "duration": 14,
    "start_time": "2022-03-30T10:35:58.618Z"
   },
   {
    "duration": 10,
    "start_time": "2022-03-30T10:35:58.633Z"
   },
   {
    "duration": 368,
    "start_time": "2022-03-30T10:35:58.645Z"
   },
   {
    "duration": 10,
    "start_time": "2022-03-30T10:36:24.808Z"
   },
   {
    "duration": 13,
    "start_time": "2022-03-30T10:36:30.336Z"
   },
   {
    "duration": 7,
    "start_time": "2022-03-30T10:36:30.559Z"
   },
   {
    "duration": 9,
    "start_time": "2022-03-30T10:40:30.914Z"
   },
   {
    "duration": 1774,
    "start_time": "2022-03-30T11:39:54.534Z"
   },
   {
    "duration": 73,
    "start_time": "2022-03-30T11:39:56.311Z"
   },
   {
    "duration": 18,
    "start_time": "2022-03-30T11:39:56.387Z"
   },
   {
    "duration": 20,
    "start_time": "2022-03-30T11:39:56.407Z"
   },
   {
    "duration": 13,
    "start_time": "2022-03-30T11:39:56.431Z"
   },
   {
    "duration": 26,
    "start_time": "2022-03-30T11:39:56.474Z"
   },
   {
    "duration": 28,
    "start_time": "2022-03-30T11:39:56.502Z"
   },
   {
    "duration": 198,
    "start_time": "2022-03-30T11:39:56.532Z"
   },
   {
    "duration": 7,
    "start_time": "2022-03-30T11:39:56.732Z"
   },
   {
    "duration": 233,
    "start_time": "2022-03-30T11:39:56.741Z"
   },
   {
    "duration": 479,
    "start_time": "2022-03-30T11:39:56.976Z"
   },
   {
    "duration": 276,
    "start_time": "2022-03-30T11:39:57.457Z"
   },
   {
    "duration": 40,
    "start_time": "2022-03-30T11:39:57.735Z"
   },
   {
    "duration": 603,
    "start_time": "2022-03-30T11:39:57.779Z"
   },
   {
    "duration": 21,
    "start_time": "2022-03-30T11:39:58.384Z"
   },
   {
    "duration": 17,
    "start_time": "2022-03-30T11:39:58.408Z"
   },
   {
    "duration": 224,
    "start_time": "2022-03-30T11:39:58.427Z"
   },
   {
    "duration": 25,
    "start_time": "2022-03-30T11:39:58.654Z"
   },
   {
    "duration": 553,
    "start_time": "2022-03-30T11:39:58.681Z"
   },
   {
    "duration": 5,
    "start_time": "2022-03-30T11:39:59.237Z"
   },
   {
    "duration": 34,
    "start_time": "2022-03-30T11:39:59.244Z"
   },
   {
    "duration": 187,
    "start_time": "2022-03-30T11:39:59.281Z"
   },
   {
    "duration": 13,
    "start_time": "2022-03-30T11:39:59.470Z"
   },
   {
    "duration": 43,
    "start_time": "2022-03-30T11:39:59.485Z"
   },
   {
    "duration": 548,
    "start_time": "2022-03-30T11:39:59.530Z"
   },
   {
    "duration": 15,
    "start_time": "2022-03-30T11:40:00.080Z"
   },
   {
    "duration": 44,
    "start_time": "2022-03-30T11:40:00.097Z"
   },
   {
    "duration": 30,
    "start_time": "2022-03-30T11:40:00.144Z"
   },
   {
    "duration": 26,
    "start_time": "2022-03-30T11:40:00.176Z"
   },
   {
    "duration": 26,
    "start_time": "2022-03-30T11:40:00.204Z"
   },
   {
    "duration": 571,
    "start_time": "2022-03-30T11:40:00.233Z"
   },
   {
    "duration": 581,
    "start_time": "2022-03-30T11:56:52.703Z"
   },
   {
    "duration": 700,
    "start_time": "2022-03-30T11:57:05.645Z"
   },
   {
    "duration": 5,
    "start_time": "2022-03-30T12:23:54.308Z"
   },
   {
    "duration": 101,
    "start_time": "2022-03-30T12:23:54.317Z"
   },
   {
    "duration": 13,
    "start_time": "2022-03-30T12:23:54.420Z"
   },
   {
    "duration": 39,
    "start_time": "2022-03-30T12:23:54.435Z"
   },
   {
    "duration": 13,
    "start_time": "2022-03-30T12:23:54.477Z"
   },
   {
    "duration": 38,
    "start_time": "2022-03-30T12:23:54.492Z"
   },
   {
    "duration": 42,
    "start_time": "2022-03-30T12:23:54.533Z"
   },
   {
    "duration": 178,
    "start_time": "2022-03-30T12:23:54.577Z"
   },
   {
    "duration": 7,
    "start_time": "2022-03-30T12:23:54.757Z"
   },
   {
    "duration": 227,
    "start_time": "2022-03-30T12:23:54.773Z"
   },
   {
    "duration": 558,
    "start_time": "2022-03-30T12:23:55.002Z"
   },
   {
    "duration": 285,
    "start_time": "2022-03-30T12:23:55.562Z"
   },
   {
    "duration": 38,
    "start_time": "2022-03-30T12:23:55.849Z"
   },
   {
    "duration": 595,
    "start_time": "2022-03-30T12:23:55.892Z"
   },
   {
    "duration": 19,
    "start_time": "2022-03-30T12:23:56.489Z"
   },
   {
    "duration": 22,
    "start_time": "2022-03-30T12:23:56.510Z"
   },
   {
    "duration": 223,
    "start_time": "2022-03-30T12:23:56.534Z"
   },
   {
    "duration": 19,
    "start_time": "2022-03-30T12:23:56.759Z"
   },
   {
    "duration": 574,
    "start_time": "2022-03-30T12:23:56.781Z"
   },
   {
    "duration": 6,
    "start_time": "2022-03-30T12:23:57.358Z"
   },
   {
    "duration": 20,
    "start_time": "2022-03-30T12:23:57.374Z"
   },
   {
    "duration": 205,
    "start_time": "2022-03-30T12:23:57.396Z"
   },
   {
    "duration": 13,
    "start_time": "2022-03-30T12:23:57.603Z"
   },
   {
    "duration": 50,
    "start_time": "2022-03-30T12:23:57.618Z"
   },
   {
    "duration": 596,
    "start_time": "2022-03-30T12:23:57.671Z"
   },
   {
    "duration": 14,
    "start_time": "2022-03-30T12:23:58.274Z"
   },
   {
    "duration": 41,
    "start_time": "2022-03-30T12:23:58.290Z"
   },
   {
    "duration": 29,
    "start_time": "2022-03-30T12:23:58.333Z"
   },
   {
    "duration": 40,
    "start_time": "2022-03-30T12:23:58.364Z"
   },
   {
    "duration": 36,
    "start_time": "2022-03-30T12:23:58.406Z"
   },
   {
    "duration": 454,
    "start_time": "2022-03-30T12:23:58.445Z"
   },
   {
    "duration": 16,
    "start_time": "2022-03-30T12:56:29.576Z"
   },
   {
    "duration": 14,
    "start_time": "2022-03-30T12:56:31.233Z"
   },
   {
    "duration": 7,
    "start_time": "2022-03-30T13:03:00.604Z"
   },
   {
    "duration": 6,
    "start_time": "2022-03-30T13:03:22.778Z"
   },
   {
    "duration": 17,
    "start_time": "2022-03-30T13:03:43.501Z"
   },
   {
    "duration": 7,
    "start_time": "2022-03-30T13:03:43.636Z"
   },
   {
    "duration": 6,
    "start_time": "2022-03-30T13:03:43.762Z"
   },
   {
    "duration": 114,
    "start_time": "2022-03-30T13:03:44.751Z"
   },
   {
    "duration": 5,
    "start_time": "2022-03-30T13:06:07.248Z"
   },
   {
    "duration": 70,
    "start_time": "2022-03-30T13:06:37.481Z"
   },
   {
    "duration": 11,
    "start_time": "2022-03-30T13:06:38.125Z"
   },
   {
    "duration": 7,
    "start_time": "2022-03-30T13:10:20.341Z"
   },
   {
    "duration": 182,
    "start_time": "2022-03-30T13:10:20.819Z"
   },
   {
    "duration": 12,
    "start_time": "2022-03-30T13:10:21.116Z"
   },
   {
    "duration": 22,
    "start_time": "2022-03-30T13:10:32.737Z"
   },
   {
    "duration": 7,
    "start_time": "2022-03-30T13:11:49.263Z"
   },
   {
    "duration": 145,
    "start_time": "2022-03-30T13:11:49.617Z"
   },
   {
    "duration": 16,
    "start_time": "2022-03-30T13:11:49.971Z"
   },
   {
    "duration": 7,
    "start_time": "2022-03-30T13:13:55.189Z"
   },
   {
    "duration": 160,
    "start_time": "2022-03-30T13:13:55.540Z"
   },
   {
    "duration": 16,
    "start_time": "2022-03-30T13:13:55.896Z"
   },
   {
    "duration": 18,
    "start_time": "2022-03-30T13:14:04.424Z"
   },
   {
    "duration": 167,
    "start_time": "2022-03-30T13:14:26.527Z"
   },
   {
    "duration": 16,
    "start_time": "2022-03-30T13:16:44.960Z"
   },
   {
    "duration": 5,
    "start_time": "2022-03-30T13:16:50.325Z"
   },
   {
    "duration": 95,
    "start_time": "2022-03-30T13:16:50.333Z"
   },
   {
    "duration": 14,
    "start_time": "2022-03-30T13:16:50.430Z"
   },
   {
    "duration": 33,
    "start_time": "2022-03-30T13:16:50.446Z"
   },
   {
    "duration": 37,
    "start_time": "2022-03-30T13:16:50.483Z"
   },
   {
    "duration": 61,
    "start_time": "2022-03-30T13:16:50.522Z"
   },
   {
    "duration": 56,
    "start_time": "2022-03-30T13:16:50.586Z"
   },
   {
    "duration": 177,
    "start_time": "2022-03-30T13:16:50.645Z"
   },
   {
    "duration": 6,
    "start_time": "2022-03-30T13:16:50.825Z"
   },
   {
    "duration": 326,
    "start_time": "2022-03-30T13:16:50.833Z"
   },
   {
    "duration": 1260,
    "start_time": "2022-03-30T13:16:51.162Z"
   },
   {
    "duration": 638,
    "start_time": "2022-03-30T13:16:52.473Z"
   },
   {
    "duration": 75,
    "start_time": "2022-03-30T13:16:53.116Z"
   },
   {
    "duration": 1227,
    "start_time": "2022-03-30T13:16:53.197Z"
   },
   {
    "duration": 23,
    "start_time": "2022-03-30T13:16:54.477Z"
   },
   {
    "duration": 8,
    "start_time": "2022-03-30T13:16:54.503Z"
   },
   {
    "duration": 9,
    "start_time": "2022-03-30T13:16:54.514Z"
   },
   {
    "duration": 161,
    "start_time": "2022-03-30T13:16:54.577Z"
   },
   {
    "duration": 167,
    "start_time": "2022-03-30T13:16:54.778Z"
   },
   {
    "duration": 11,
    "start_time": "2022-03-30T13:16:54.947Z"
   },
   {
    "duration": 168,
    "start_time": "2022-03-30T13:16:54.960Z"
   },
   {
    "duration": 0,
    "start_time": "2022-03-30T13:16:55.130Z"
   },
   {
    "duration": 0,
    "start_time": "2022-03-30T13:16:55.132Z"
   },
   {
    "duration": 0,
    "start_time": "2022-03-30T13:16:55.133Z"
   },
   {
    "duration": 0,
    "start_time": "2022-03-30T13:16:55.135Z"
   },
   {
    "duration": 0,
    "start_time": "2022-03-30T13:16:55.136Z"
   },
   {
    "duration": 0,
    "start_time": "2022-03-30T13:16:55.138Z"
   },
   {
    "duration": 0,
    "start_time": "2022-03-30T13:16:55.139Z"
   },
   {
    "duration": 0,
    "start_time": "2022-03-30T13:16:55.141Z"
   },
   {
    "duration": 0,
    "start_time": "2022-03-30T13:16:55.142Z"
   },
   {
    "duration": 0,
    "start_time": "2022-03-30T13:16:55.143Z"
   },
   {
    "duration": 0,
    "start_time": "2022-03-30T13:16:55.145Z"
   },
   {
    "duration": 0,
    "start_time": "2022-03-30T13:16:55.146Z"
   },
   {
    "duration": 0,
    "start_time": "2022-03-30T13:16:55.147Z"
   },
   {
    "duration": 0,
    "start_time": "2022-03-30T13:16:55.149Z"
   },
   {
    "duration": 24,
    "start_time": "2022-03-30T13:17:00.975Z"
   },
   {
    "duration": 7,
    "start_time": "2022-03-30T13:17:01.110Z"
   },
   {
    "duration": 7,
    "start_time": "2022-03-30T13:17:01.220Z"
   },
   {
    "duration": 6,
    "start_time": "2022-03-30T13:17:01.349Z"
   },
   {
    "duration": 163,
    "start_time": "2022-03-30T13:17:02.401Z"
   },
   {
    "duration": 11,
    "start_time": "2022-03-30T13:17:03.093Z"
   },
   {
    "duration": 14,
    "start_time": "2022-03-30T13:18:36.573Z"
   },
   {
    "duration": 239,
    "start_time": "2022-03-30T13:18:50.015Z"
   },
   {
    "duration": 228,
    "start_time": "2022-03-30T13:19:15.625Z"
   },
   {
    "duration": 241,
    "start_time": "2022-03-30T13:19:29.240Z"
   },
   {
    "duration": 129,
    "start_time": "2022-03-30T13:19:48.388Z"
   },
   {
    "duration": 11,
    "start_time": "2022-03-30T13:21:13.535Z"
   },
   {
    "duration": 4,
    "start_time": "2022-03-30T13:21:22.669Z"
   },
   {
    "duration": 86,
    "start_time": "2022-03-30T13:21:22.677Z"
   },
   {
    "duration": 18,
    "start_time": "2022-03-30T13:21:22.765Z"
   },
   {
    "duration": 26,
    "start_time": "2022-03-30T13:21:22.786Z"
   },
   {
    "duration": 14,
    "start_time": "2022-03-30T13:21:22.815Z"
   },
   {
    "duration": 68,
    "start_time": "2022-03-30T13:21:22.831Z"
   },
   {
    "duration": 27,
    "start_time": "2022-03-30T13:21:22.902Z"
   },
   {
    "duration": 187,
    "start_time": "2022-03-30T13:21:22.932Z"
   },
   {
    "duration": 8,
    "start_time": "2022-03-30T13:21:23.122Z"
   },
   {
    "duration": 284,
    "start_time": "2022-03-30T13:21:23.134Z"
   },
   {
    "duration": 603,
    "start_time": "2022-03-30T13:21:23.421Z"
   },
   {
    "duration": 484,
    "start_time": "2022-03-30T13:21:24.026Z"
   },
   {
    "duration": 79,
    "start_time": "2022-03-30T13:21:24.512Z"
   },
   {
    "duration": 1219,
    "start_time": "2022-03-30T13:21:24.601Z"
   },
   {
    "duration": 31,
    "start_time": "2022-03-30T13:21:25.874Z"
   },
   {
    "duration": 6,
    "start_time": "2022-03-30T13:21:25.907Z"
   },
   {
    "duration": 6,
    "start_time": "2022-03-30T13:21:25.916Z"
   },
   {
    "duration": 64,
    "start_time": "2022-03-30T13:21:25.925Z"
   },
   {
    "duration": 319,
    "start_time": "2022-03-30T13:21:25.994Z"
   },
   {
    "duration": 70,
    "start_time": "2022-03-30T13:21:26.315Z"
   },
   {
    "duration": 31,
    "start_time": "2022-03-30T13:21:26.387Z"
   },
   {
    "duration": 0,
    "start_time": "2022-03-30T13:21:26.420Z"
   },
   {
    "duration": 0,
    "start_time": "2022-03-30T13:21:26.422Z"
   },
   {
    "duration": 0,
    "start_time": "2022-03-30T13:21:26.425Z"
   },
   {
    "duration": 0,
    "start_time": "2022-03-30T13:21:26.481Z"
   },
   {
    "duration": 0,
    "start_time": "2022-03-30T13:21:26.483Z"
   },
   {
    "duration": 0,
    "start_time": "2022-03-30T13:21:26.485Z"
   },
   {
    "duration": 0,
    "start_time": "2022-03-30T13:21:26.489Z"
   },
   {
    "duration": 1,
    "start_time": "2022-03-30T13:21:26.490Z"
   },
   {
    "duration": 0,
    "start_time": "2022-03-30T13:21:26.494Z"
   },
   {
    "duration": 0,
    "start_time": "2022-03-30T13:21:26.496Z"
   },
   {
    "duration": 0,
    "start_time": "2022-03-30T13:21:26.497Z"
   },
   {
    "duration": 0,
    "start_time": "2022-03-30T13:21:26.500Z"
   },
   {
    "duration": 0,
    "start_time": "2022-03-30T13:21:26.501Z"
   },
   {
    "duration": 0,
    "start_time": "2022-03-30T13:21:26.502Z"
   },
   {
    "duration": 7,
    "start_time": "2022-03-30T13:22:09.242Z"
   },
   {
    "duration": 7,
    "start_time": "2022-03-30T13:22:18.820Z"
   },
   {
    "duration": 21,
    "start_time": "2022-03-30T13:22:19.591Z"
   },
   {
    "duration": 17,
    "start_time": "2022-03-30T13:22:25.157Z"
   },
   {
    "duration": 10,
    "start_time": "2022-03-30T13:22:37.504Z"
   },
   {
    "duration": 10,
    "start_time": "2022-03-30T13:22:37.974Z"
   },
   {
    "duration": 21,
    "start_time": "2022-03-30T13:22:43.221Z"
   },
   {
    "duration": 17,
    "start_time": "2022-03-30T13:22:56.112Z"
   },
   {
    "duration": 5,
    "start_time": "2022-03-30T13:23:01.596Z"
   },
   {
    "duration": 77,
    "start_time": "2022-03-30T13:23:01.603Z"
   },
   {
    "duration": 13,
    "start_time": "2022-03-30T13:23:01.683Z"
   },
   {
    "duration": 28,
    "start_time": "2022-03-30T13:23:01.698Z"
   },
   {
    "duration": 14,
    "start_time": "2022-03-30T13:23:01.730Z"
   },
   {
    "duration": 56,
    "start_time": "2022-03-30T13:23:01.746Z"
   },
   {
    "duration": 26,
    "start_time": "2022-03-30T13:23:01.804Z"
   },
   {
    "duration": 189,
    "start_time": "2022-03-30T13:23:01.833Z"
   },
   {
    "duration": 7,
    "start_time": "2022-03-30T13:23:02.024Z"
   },
   {
    "duration": 249,
    "start_time": "2022-03-30T13:23:02.034Z"
   },
   {
    "duration": 574,
    "start_time": "2022-03-30T13:23:02.286Z"
   },
   {
    "duration": 314,
    "start_time": "2022-03-30T13:23:02.863Z"
   },
   {
    "duration": 36,
    "start_time": "2022-03-30T13:23:03.180Z"
   },
   {
    "duration": 1242,
    "start_time": "2022-03-30T13:23:03.273Z"
   },
   {
    "duration": 70,
    "start_time": "2022-03-30T13:23:04.517Z"
   },
   {
    "duration": 18,
    "start_time": "2022-03-30T13:23:04.589Z"
   },
   {
    "duration": 14,
    "start_time": "2022-03-30T13:23:04.609Z"
   },
   {
    "duration": 51,
    "start_time": "2022-03-30T13:23:04.625Z"
   },
   {
    "duration": 310,
    "start_time": "2022-03-30T13:23:04.678Z"
   },
   {
    "duration": 7,
    "start_time": "2022-03-30T13:23:04.990Z"
   },
   {
    "duration": 79,
    "start_time": "2022-03-30T13:23:04.999Z"
   },
   {
    "duration": 44,
    "start_time": "2022-03-30T13:23:05.080Z"
   },
   {
    "duration": 0,
    "start_time": "2022-03-30T13:23:05.127Z"
   },
   {
    "duration": 0,
    "start_time": "2022-03-30T13:23:05.129Z"
   },
   {
    "duration": 0,
    "start_time": "2022-03-30T13:23:05.131Z"
   },
   {
    "duration": 0,
    "start_time": "2022-03-30T13:23:05.132Z"
   },
   {
    "duration": 0,
    "start_time": "2022-03-30T13:23:05.175Z"
   },
   {
    "duration": 0,
    "start_time": "2022-03-30T13:23:05.176Z"
   },
   {
    "duration": 0,
    "start_time": "2022-03-30T13:23:05.177Z"
   },
   {
    "duration": 0,
    "start_time": "2022-03-30T13:23:05.178Z"
   },
   {
    "duration": 0,
    "start_time": "2022-03-30T13:23:05.180Z"
   },
   {
    "duration": 0,
    "start_time": "2022-03-30T13:23:05.182Z"
   },
   {
    "duration": 0,
    "start_time": "2022-03-30T13:23:05.183Z"
   },
   {
    "duration": 0,
    "start_time": "2022-03-30T13:23:05.184Z"
   },
   {
    "duration": 0,
    "start_time": "2022-03-30T13:23:05.185Z"
   },
   {
    "duration": 0,
    "start_time": "2022-03-30T13:23:05.187Z"
   },
   {
    "duration": 134,
    "start_time": "2022-03-30T13:24:00.245Z"
   },
   {
    "duration": 18,
    "start_time": "2022-03-30T13:24:21.666Z"
   },
   {
    "duration": 19,
    "start_time": "2022-03-30T13:24:36.188Z"
   },
   {
    "duration": 16,
    "start_time": "2022-03-30T13:25:15.907Z"
   },
   {
    "duration": 4,
    "start_time": "2022-03-30T13:25:23.526Z"
   },
   {
    "duration": 73,
    "start_time": "2022-03-30T13:25:23.532Z"
   },
   {
    "duration": 13,
    "start_time": "2022-03-30T13:25:23.608Z"
   },
   {
    "duration": 20,
    "start_time": "2022-03-30T13:25:23.624Z"
   },
   {
    "duration": 13,
    "start_time": "2022-03-30T13:25:23.679Z"
   },
   {
    "duration": 31,
    "start_time": "2022-03-30T13:25:23.694Z"
   },
   {
    "duration": 48,
    "start_time": "2022-03-30T13:25:23.727Z"
   },
   {
    "duration": 183,
    "start_time": "2022-03-30T13:25:23.778Z"
   },
   {
    "duration": 11,
    "start_time": "2022-03-30T13:25:23.963Z"
   },
   {
    "duration": 244,
    "start_time": "2022-03-30T13:25:23.976Z"
   },
   {
    "duration": 782,
    "start_time": "2022-03-30T13:25:24.222Z"
   },
   {
    "duration": 768,
    "start_time": "2022-03-30T13:25:25.006Z"
   },
   {
    "duration": 26,
    "start_time": "2022-03-30T13:25:25.776Z"
   },
   {
    "duration": 1093,
    "start_time": "2022-03-30T13:25:25.807Z"
   },
   {
    "duration": 71,
    "start_time": "2022-03-30T13:25:26.903Z"
   },
   {
    "duration": 7,
    "start_time": "2022-03-30T13:25:26.976Z"
   },
   {
    "duration": 9,
    "start_time": "2022-03-30T13:25:26.985Z"
   },
   {
    "duration": 8,
    "start_time": "2022-03-30T13:25:26.996Z"
   },
   {
    "duration": 294,
    "start_time": "2022-03-30T13:25:27.006Z"
   },
   {
    "duration": 7,
    "start_time": "2022-03-30T13:25:27.303Z"
   },
   {
    "duration": 63,
    "start_time": "2022-03-30T13:25:27.313Z"
   },
   {
    "duration": 20,
    "start_time": "2022-03-30T13:25:27.378Z"
   },
   {
    "duration": 0,
    "start_time": "2022-03-30T13:25:27.400Z"
   },
   {
    "duration": 0,
    "start_time": "2022-03-30T13:25:27.402Z"
   },
   {
    "duration": 0,
    "start_time": "2022-03-30T13:25:27.403Z"
   },
   {
    "duration": 0,
    "start_time": "2022-03-30T13:25:27.404Z"
   },
   {
    "duration": 0,
    "start_time": "2022-03-30T13:25:27.406Z"
   },
   {
    "duration": 0,
    "start_time": "2022-03-30T13:25:27.407Z"
   },
   {
    "duration": 0,
    "start_time": "2022-03-30T13:25:27.409Z"
   },
   {
    "duration": 0,
    "start_time": "2022-03-30T13:25:27.411Z"
   },
   {
    "duration": 0,
    "start_time": "2022-03-30T13:25:27.412Z"
   },
   {
    "duration": 0,
    "start_time": "2022-03-30T13:25:27.413Z"
   },
   {
    "duration": 0,
    "start_time": "2022-03-30T13:25:27.474Z"
   },
   {
    "duration": 0,
    "start_time": "2022-03-30T13:25:27.475Z"
   },
   {
    "duration": 0,
    "start_time": "2022-03-30T13:25:27.477Z"
   },
   {
    "duration": 0,
    "start_time": "2022-03-30T13:25:27.478Z"
   },
   {
    "duration": 5,
    "start_time": "2022-03-30T13:26:05.354Z"
   },
   {
    "duration": 9,
    "start_time": "2022-03-30T13:26:10.451Z"
   },
   {
    "duration": 460,
    "start_time": "2022-03-30T13:26:29.247Z"
   },
   {
    "duration": 489,
    "start_time": "2022-03-30T13:27:23.334Z"
   },
   {
    "duration": 9,
    "start_time": "2022-03-30T13:28:14.405Z"
   },
   {
    "duration": 13,
    "start_time": "2022-03-30T13:28:14.812Z"
   },
   {
    "duration": 463,
    "start_time": "2022-03-30T13:28:20.893Z"
   },
   {
    "duration": 4,
    "start_time": "2022-03-30T13:31:10.987Z"
   },
   {
    "duration": 112,
    "start_time": "2022-03-30T13:31:10.996Z"
   },
   {
    "duration": 19,
    "start_time": "2022-03-30T13:31:11.112Z"
   },
   {
    "duration": 41,
    "start_time": "2022-03-30T13:31:11.133Z"
   },
   {
    "duration": 14,
    "start_time": "2022-03-30T13:31:11.176Z"
   },
   {
    "duration": 36,
    "start_time": "2022-03-30T13:31:11.193Z"
   },
   {
    "duration": 48,
    "start_time": "2022-03-30T13:31:11.232Z"
   },
   {
    "duration": 179,
    "start_time": "2022-03-30T13:31:11.283Z"
   },
   {
    "duration": 12,
    "start_time": "2022-03-30T13:31:11.464Z"
   },
   {
    "duration": 242,
    "start_time": "2022-03-30T13:31:11.479Z"
   },
   {
    "duration": 558,
    "start_time": "2022-03-30T13:31:11.723Z"
   },
   {
    "duration": 305,
    "start_time": "2022-03-30T13:31:12.284Z"
   },
   {
    "duration": 25,
    "start_time": "2022-03-30T13:31:12.591Z"
   },
   {
    "duration": 573,
    "start_time": "2022-03-30T13:31:12.618Z"
   },
   {
    "duration": 18,
    "start_time": "2022-03-30T13:31:13.195Z"
   },
   {
    "duration": 7,
    "start_time": "2022-03-30T13:31:13.215Z"
   },
   {
    "duration": 8,
    "start_time": "2022-03-30T13:31:13.224Z"
   },
   {
    "duration": 40,
    "start_time": "2022-03-30T13:31:13.234Z"
   },
   {
    "duration": 158,
    "start_time": "2022-03-30T13:31:13.276Z"
   },
   {
    "duration": 8,
    "start_time": "2022-03-30T13:31:13.436Z"
   },
   {
    "duration": 12,
    "start_time": "2022-03-30T13:31:13.447Z"
   },
   {
    "duration": 11,
    "start_time": "2022-03-30T13:31:13.474Z"
   },
   {
    "duration": 472,
    "start_time": "2022-03-30T13:31:13.488Z"
   },
   {
    "duration": 10,
    "start_time": "2022-03-30T13:31:13.973Z"
   },
   {
    "duration": 561,
    "start_time": "2022-03-30T13:31:13.986Z"
   },
   {
    "duration": 6,
    "start_time": "2022-03-30T13:31:14.549Z"
   },
   {
    "duration": 19,
    "start_time": "2022-03-30T13:31:14.557Z"
   },
   {
    "duration": 203,
    "start_time": "2022-03-30T13:31:14.578Z"
   },
   {
    "duration": 21,
    "start_time": "2022-03-30T13:31:14.783Z"
   },
   {
    "duration": 33,
    "start_time": "2022-03-30T13:31:14.808Z"
   },
   {
    "duration": 620,
    "start_time": "2022-03-30T13:31:14.844Z"
   },
   {
    "duration": 17,
    "start_time": "2022-03-30T13:31:15.473Z"
   },
   {
    "duration": 15,
    "start_time": "2022-03-30T13:31:15.492Z"
   },
   {
    "duration": 20,
    "start_time": "2022-03-30T13:31:15.509Z"
   },
   {
    "duration": 52,
    "start_time": "2022-03-30T13:31:15.531Z"
   },
   {
    "duration": 17,
    "start_time": "2022-03-30T13:31:15.585Z"
   },
   {
    "duration": 561,
    "start_time": "2022-03-30T13:31:15.604Z"
   },
   {
    "duration": 186,
    "start_time": "2022-03-30T13:33:36.693Z"
   },
   {
    "duration": 6,
    "start_time": "2022-03-30T13:34:25.786Z"
   },
   {
    "duration": 1758,
    "start_time": "2022-03-30T13:34:53.467Z"
   },
   {
    "duration": 97,
    "start_time": "2022-03-30T13:34:55.228Z"
   },
   {
    "duration": 17,
    "start_time": "2022-03-30T13:34:55.327Z"
   },
   {
    "duration": 37,
    "start_time": "2022-03-30T13:34:55.348Z"
   },
   {
    "duration": 12,
    "start_time": "2022-03-30T13:34:55.387Z"
   },
   {
    "duration": 29,
    "start_time": "2022-03-30T13:34:55.401Z"
   },
   {
    "duration": 50,
    "start_time": "2022-03-30T13:34:55.432Z"
   },
   {
    "duration": 184,
    "start_time": "2022-03-30T13:34:55.485Z"
   },
   {
    "duration": 7,
    "start_time": "2022-03-30T13:34:55.672Z"
   },
   {
    "duration": 229,
    "start_time": "2022-03-30T13:34:55.685Z"
   },
   {
    "duration": 493,
    "start_time": "2022-03-30T13:34:55.916Z"
   },
   {
    "duration": 302,
    "start_time": "2022-03-30T13:34:56.412Z"
   },
   {
    "duration": 25,
    "start_time": "2022-03-30T13:34:56.717Z"
   },
   {
    "duration": 639,
    "start_time": "2022-03-30T13:34:56.744Z"
   },
   {
    "duration": 18,
    "start_time": "2022-03-30T13:34:57.385Z"
   },
   {
    "duration": 7,
    "start_time": "2022-03-30T13:34:57.405Z"
   },
   {
    "duration": 17,
    "start_time": "2022-03-30T13:34:57.414Z"
   },
   {
    "duration": 8,
    "start_time": "2022-03-30T13:34:57.433Z"
   },
   {
    "duration": 183,
    "start_time": "2022-03-30T13:34:57.443Z"
   },
   {
    "duration": 8,
    "start_time": "2022-03-30T13:34:57.629Z"
   },
   {
    "duration": 10,
    "start_time": "2022-03-30T13:34:57.640Z"
   },
   {
    "duration": 30,
    "start_time": "2022-03-30T13:34:57.652Z"
   },
   {
    "duration": 496,
    "start_time": "2022-03-30T13:34:57.684Z"
   },
   {
    "duration": 11,
    "start_time": "2022-03-30T13:34:58.182Z"
   },
   {
    "duration": 579,
    "start_time": "2022-03-30T13:34:58.195Z"
   },
   {
    "duration": 5,
    "start_time": "2022-03-30T13:34:58.776Z"
   },
   {
    "duration": 51,
    "start_time": "2022-03-30T13:34:58.783Z"
   },
   {
    "duration": 231,
    "start_time": "2022-03-30T13:34:58.845Z"
   },
   {
    "duration": 13,
    "start_time": "2022-03-30T13:34:59.078Z"
   },
   {
    "duration": 33,
    "start_time": "2022-03-30T13:34:59.094Z"
   },
   {
    "duration": 620,
    "start_time": "2022-03-30T13:34:59.130Z"
   },
   {
    "duration": 24,
    "start_time": "2022-03-30T13:34:59.752Z"
   },
   {
    "duration": 15,
    "start_time": "2022-03-30T13:34:59.778Z"
   },
   {
    "duration": 20,
    "start_time": "2022-03-30T13:34:59.795Z"
   },
   {
    "duration": 15,
    "start_time": "2022-03-30T13:34:59.818Z"
   },
   {
    "duration": 54,
    "start_time": "2022-03-30T13:34:59.835Z"
   },
   {
    "duration": 459,
    "start_time": "2022-03-30T13:34:59.891Z"
   },
   {
    "duration": 5,
    "start_time": "2022-03-30T13:35:00.353Z"
   },
   {
    "duration": 1276,
    "start_time": "2022-03-31T08:37:56.301Z"
   },
   {
    "duration": 54,
    "start_time": "2022-03-31T08:37:57.578Z"
   },
   {
    "duration": 12,
    "start_time": "2022-03-31T08:37:57.633Z"
   },
   {
    "duration": 12,
    "start_time": "2022-03-31T08:37:57.647Z"
   },
   {
    "duration": 9,
    "start_time": "2022-03-31T08:37:57.660Z"
   },
   {
    "duration": 33,
    "start_time": "2022-03-31T08:37:57.671Z"
   },
   {
    "duration": 16,
    "start_time": "2022-03-31T08:37:57.705Z"
   },
   {
    "duration": 103,
    "start_time": "2022-03-31T08:37:57.722Z"
   },
   {
    "duration": 5,
    "start_time": "2022-03-31T08:37:57.826Z"
   },
   {
    "duration": 130,
    "start_time": "2022-03-31T08:37:57.833Z"
   },
   {
    "duration": 246,
    "start_time": "2022-03-31T08:37:57.964Z"
   },
   {
    "duration": 167,
    "start_time": "2022-03-31T08:37:58.212Z"
   },
   {
    "duration": 24,
    "start_time": "2022-03-31T08:37:58.380Z"
   },
   {
    "duration": 320,
    "start_time": "2022-03-31T08:37:58.405Z"
   },
   {
    "duration": 13,
    "start_time": "2022-03-31T08:37:58.727Z"
   },
   {
    "duration": 5,
    "start_time": "2022-03-31T08:37:58.741Z"
   },
   {
    "duration": 11,
    "start_time": "2022-03-31T08:37:58.747Z"
   },
   {
    "duration": 7,
    "start_time": "2022-03-31T08:37:58.760Z"
   },
   {
    "duration": 80,
    "start_time": "2022-03-31T08:37:58.768Z"
   },
   {
    "duration": 5,
    "start_time": "2022-03-31T08:37:58.850Z"
   },
   {
    "duration": 5,
    "start_time": "2022-03-31T08:37:58.857Z"
   },
   {
    "duration": 7,
    "start_time": "2022-03-31T08:37:58.864Z"
   },
   {
    "duration": 364,
    "start_time": "2022-03-31T08:37:58.872Z"
   },
   {
    "duration": 7,
    "start_time": "2022-03-31T08:37:59.238Z"
   },
   {
    "duration": 572,
    "start_time": "2022-03-31T08:37:59.247Z"
   },
   {
    "duration": 4,
    "start_time": "2022-03-31T08:37:59.821Z"
   },
   {
    "duration": 20,
    "start_time": "2022-03-31T08:37:59.826Z"
   },
   {
    "duration": 256,
    "start_time": "2022-03-31T08:37:59.849Z"
   },
   {
    "duration": 9,
    "start_time": "2022-03-31T08:38:00.107Z"
   },
   {
    "duration": 28,
    "start_time": "2022-03-31T08:38:00.118Z"
   },
   {
    "duration": 537,
    "start_time": "2022-03-31T08:38:00.147Z"
   },
   {
    "duration": 18,
    "start_time": "2022-03-31T08:38:00.686Z"
   },
   {
    "duration": 26,
    "start_time": "2022-03-31T08:38:00.706Z"
   },
   {
    "duration": 28,
    "start_time": "2022-03-31T08:38:00.734Z"
   },
   {
    "duration": 16,
    "start_time": "2022-03-31T08:38:00.764Z"
   },
   {
    "duration": 30,
    "start_time": "2022-03-31T08:38:00.781Z"
   },
   {
    "duration": 248,
    "start_time": "2022-03-31T08:38:00.813Z"
   },
   {
    "duration": 4,
    "start_time": "2022-03-31T08:38:01.063Z"
   },
   {
    "duration": 13,
    "start_time": "2022-03-31T08:38:20.796Z"
   }
  ],
  "kernelspec": {
   "display_name": "Python 3 (ipykernel)",
   "language": "python",
   "name": "python3"
  },
  "language_info": {
   "codemirror_mode": {
    "name": "ipython",
    "version": 3
   },
   "file_extension": ".py",
   "mimetype": "text/x-python",
   "name": "python",
   "nbconvert_exporter": "python",
   "pygments_lexer": "ipython3",
   "version": "3.8.0"
  },
  "toc": {
   "base_numbering": 1,
   "nav_menu": {},
   "number_sections": true,
   "sideBar": true,
   "skip_h1_title": true,
   "title_cell": "Table of Contents",
   "title_sidebar": "Contents",
   "toc_cell": false,
   "toc_position": {
    "height": "calc(100% - 180px)",
    "left": "10px",
    "top": "150px",
    "width": "197.391px"
   },
   "toc_section_display": true,
   "toc_window_display": false
  }
 },
 "nbformat": 4,
 "nbformat_minor": 2
}
