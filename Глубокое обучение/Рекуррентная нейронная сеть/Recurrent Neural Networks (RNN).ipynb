{
 "cells": [
  {
   "cell_type": "markdown",
   "id": "35456900",
   "metadata": {},
   "source": [
    "Recurrent NN - от слова повторяющийся. Если в простой нейронной сети идет такая схема обучения "
   ]
  },
  {
   "cell_type": "markdown",
   "id": "505d0f4c",
   "metadata": {},
   "source": [
    "1) Данные поступают на вход\n",
    "\n",
    "\n",
    "2) Функция активации\n",
    "\n",
    "\n",
    "3) Выходные даннее"
   ]
  },
  {
   "cell_type": "markdown",
   "id": "ddfc33c3",
   "metadata": {},
   "source": [
    "То в повторяющейся нейронной сети обучение происходит таким образом"
   ]
  },
  {
   "cell_type": "markdown",
   "id": "d6f0f1bc",
   "metadata": {},
   "source": [
    "1) Данные поступают на вход\n",
    "\n",
    "\n",
    "2) Функция активации\n",
    "\n",
    "\n",
    "3) Выходные данные\n",
    "\n",
    "\n",
    "4) Изначальные входные данные + выходные данные поступают на вход в функцию активации"
   ]
  },
  {
   "cell_type": "markdown",
   "id": "072fceb6",
   "metadata": {},
   "source": [
    "Для простой нейронной сети предложение \"Ян управляет машиной\" тоже самое, что и \"Машина управляет Яном\". Повторяющиеся нейронные сети помогают в случае, если нам нужна последовательность."
   ]
  },
  {
   "cell_type": "markdown",
   "id": "d1a9d612",
   "metadata": {},
   "source": [
    "Внутри RNN есть LSTM-\"клетки\" отвечающие за сохранение знания о последовательности. Внутри LSTM есть концепт Keep Gate и Forget Gate. Так как в RNN постоянно повторяются данные в функции активации из предыдущего выхода функции активации, то NN не нужно запоминать все данные. Иначе получалось бы переобучение и слишком большая нагрузка на модель. Forget Gate - это то, что модель забывает и Keep Gate - это то, что модель забывает. \n",
    "\n",
    "\n",
    "LSTM - long short term memory"
   ]
  },
  {
   "cell_type": "markdown",
   "id": "f6298121",
   "metadata": {},
   "source": [
    "Основная идея recurrent NN в том, что порядок данных, получаемых на вход имеет значение. К примеру временные ряды, язык (лингвистика, порядок слов в предложении имеет значение).  "
   ]
  },
  {
   "cell_type": "markdown",
   "id": "9f4377e0",
   "metadata": {},
   "source": [
    "https://pythonprogramming.net/recurrent-neural-network-deep-learning-python-tensorflow-keras/"
   ]
  },
  {
   "cell_type": "markdown",
   "id": "ccc43c50",
   "metadata": {},
   "source": [
    "http://colah.github.io/posts/2015-08-Understanding-LSTMs/"
   ]
  },
  {
   "cell_type": "code",
   "execution_count": 177,
   "id": "d9101092",
   "metadata": {
    "scrolled": true
   },
   "outputs": [],
   "source": [
    "import tensorflow as tf\n",
    "from tensorflow.keras.models import Sequential\n",
    "from tensorflow.keras.layers import Dense, Dropout, LSTM\n",
    "#Больше не нужно импортировать CuDNNLSTM, теперь можно просто инициализировать LSTM без функции активации\n",
    "import pandas as pd\n",
    "import time\n",
    "from sklearn import preprocessing\n",
    "from collections import deque\n",
    "import numpy as np\n",
    "import random\n",
    "import tensorflow as tf\n",
    "from tensorflow.keras.models import Sequential\n",
    "from tensorflow.keras.layers import Dense, Dropout, LSTM, BatchNormalization\n",
    "#BatchNormalization -  та же номрализация, но между слоями. По той же самой причине по котрой мы нормализиуем данные для\n",
    "#инпута, мы можем нормализировать данные для входа в новый слой\n",
    "from tensorflow.keras.callbacks import TensorBoard, ModelCheckpoint\n",
    "#ModelCheckpoint - функция в которую мы можем передать аргументы, сообщающие модели, когда сохранять чекпоинты\n",
    "#К примеру, каждый раз когда мы модель достигает минимумам функции потерь, то мы можем сделать чекпоинт, по сколкьо в течении\n",
    "#100 эпох модель может переобучиться и под конец функция потерь возрастет, но с помощью чекпоинта мы сохраняем модель,\n",
    "#которая достигла максимально низкой функции потерь. Конечно, можно сохрнатяь каждую эпоху, однако, понадобится много места"
   ]
  },
  {
   "cell_type": "code",
   "execution_count": 178,
   "id": "e56ec225",
   "metadata": {},
   "outputs": [
    {
     "name": "stdout",
     "output_type": "stream",
     "text": [
      "Num GPUs Available:  1\n"
     ]
    }
   ],
   "source": [
    "print(\"Num GPUs Available: \", len(tf.config.list_physical_devices('GPU')))\n",
    "#physd = tf.config.list_physical_devices('GPU')\n",
    "#tf.config.experimental.set_memory_growth(physd[0], True)"
   ]
  },
  {
   "cell_type": "code",
   "execution_count": 179,
   "id": "283fe81b",
   "metadata": {},
   "outputs": [],
   "source": [
    "gpu_options = tf.compat.v1.GPUOptions(per_process_gpu_memory_fraction=0.99)\n",
    "sess = tf.compat.v1.Session(config=tf.compat.v1.ConfigProto(gpu_options=gpu_options))"
   ]
  },
  {
   "cell_type": "code",
   "execution_count": 180,
   "id": "7d217b31",
   "metadata": {
    "scrolled": true
   },
   "outputs": [
    {
     "name": "stdout",
     "output_type": "stream",
     "text": [
      "(60000, 28, 28)\n",
      "(28, 28)\n"
     ]
    }
   ],
   "source": [
    "mnist = tf.keras.datasets.mnist  # mnist is a dataset of 28x28 images of handwritten digits and their labels\n",
    "(x_train, y_train),(x_test, y_test) = mnist.load_data()  # unpacks images to x_train/x_test and labels to y_train/y_test\n",
    "\n",
    "x_train = x_train/255.0\n",
    "x_test = x_test/255.0\n",
    "\n",
    "print(x_train.shape)\n",
    "print(x_train[0].shape)"
   ]
  },
  {
   "cell_type": "markdown",
   "id": "7c0e2134",
   "metadata": {},
   "source": [
    "Что собой представляем MNIST - это 28 строк с 28 ячейкамис  данными о пикселях. Нам важно то в каком порядке идут пиксели, поэтому нам нужен LSTM"
   ]
  },
  {
   "cell_type": "markdown",
   "id": "29d5d066",
   "metadata": {},
   "source": [
    "Нормализуем данные:"
   ]
  },
  {
   "cell_type": "code",
   "execution_count": 181,
   "id": "d1f28aa7",
   "metadata": {},
   "outputs": [],
   "source": [
    "x_train = x_train / 255.0\n",
    "x_test = x_test / 255.0"
   ]
  },
  {
   "cell_type": "code",
   "execution_count": 182,
   "id": "f5bc46be",
   "metadata": {},
   "outputs": [],
   "source": [
    "model = Sequential() \n",
    "\n",
    "#назначим модель с LSTM слоем, 128 нейронов, назначаем параметр return_sequences, чтобы учитывалась последовательность\n",
    "model.add(LSTM(128, input_shape=(x_train.shape[1:]), return_sequences=True)) \n",
    "model.add(Dropout(0.2)) \n",
    "\n",
    "model.add(LSTM(128)) \n",
    "model.add(Dropout(0.2))\n",
    "          \n",
    "model.add(Dense(32, activation='relu'))\n",
    "model.add(Dropout(0.2))\n",
    "          \n",
    "model.add(Dense(10, activation='softmax')) #последним слой, 10 - это количество классов         "
   ]
  },
  {
   "cell_type": "code",
   "execution_count": 183,
   "id": "22cca649",
   "metadata": {
    "scrolled": true
   },
   "outputs": [],
   "source": [
    "# opt = tf.keras.optimizers.Adam(learning_rate=1e-3, decay=1e-5) #настроим оптимайзер\n",
    "# #пр. 1e-5 = 0.00001\n",
    "\n",
    "# model.compile(\n",
    "#     loss='sparse_categorical_crossentropy',\n",
    "#     optimizer=opt,\n",
    "#     metrics=['accuracy'],\n",
    "# )\n",
    "\n",
    "# model.fit(x_train,\n",
    "#           y_train,\n",
    "#           epochs=3,\n",
    "#           validation_data=(x_test, y_test))"
   ]
  },
  {
   "cell_type": "markdown",
   "id": "411a2248",
   "metadata": {},
   "source": [
    "## Cryptocurrency-predicting RNN"
   ]
  },
  {
   "cell_type": "markdown",
   "id": "6cc24aa8",
   "metadata": {},
   "source": [
    "Будем анализировать значение e-валюты"
   ]
  },
  {
   "cell_type": "markdown",
   "id": "b2fb315a",
   "metadata": {},
   "source": [
    "В данном деле нужно придать большое значение работе с временными рядами и предобработке данных"
   ]
  },
  {
   "cell_type": "code",
   "execution_count": 205,
   "id": "565eb57e",
   "metadata": {},
   "outputs": [],
   "source": [
    "#LTC-USD значение Light Coin в долларах и т.д.\n",
    "#time - время по UTC, \n",
    "#low-самая низкая цена за период минуты\n",
    "#High-самая высокая цена за период минуты\n",
    "#open-цена в начале минуты\n",
    "#close-цена в конце минуты\n",
    "#volume - доля в общей прибыли рынка"
   ]
  },
  {
   "cell_type": "code",
   "execution_count": 206,
   "id": "cc805fe8",
   "metadata": {},
   "outputs": [],
   "source": [
    "SEQ_LEN = 60 #мы будем использовать 60 периодов (здесь один период - одна минута), чтобы предсказать данные \n",
    "FUTURE_PERIOD_PREDICT = 3 #на какой период предсказываем (здесь один период - одна минута), и мы выбираем предсказывать\n",
    "# за 3 минуты до\n",
    "RATIO_TO_PREDICT = 'LTC-USD' #для какой валюты строим модель\n",
    "EPOCHS = 10 #сколько эпох мы хотим, чтобы модель училась\n",
    "BATCH_SIZE = 64 #сколько батчей\n",
    "NAME = f\"{RATIO_TO_PREDICT}-RATIO-{SEQ_LEN}-SEQ-{FUTURE_PERIOD_PREDICT}-PRED-{int(time.time())}\" #даем модели имя, чтобы ориентироваться в tensorboard"
   ]
  },
  {
   "cell_type": "code",
   "execution_count": 207,
   "id": "069a8d65",
   "metadata": {},
   "outputs": [],
   "source": [
    "#создадим функцию для создания таргета\n",
    "def classify(current, future):\n",
    "    #current - текущая цена\n",
    "    #future - будующая цена\n",
    "    #здесь логика для модели обучения\n",
    "    #если будущая цена выше текущей, то\n",
    "    if float(future) > float(current):\n",
    "        return 1 #это хорошая цена и нам стоит купить валюту\n",
    "    else:\n",
    "        return 0 #это плохая цена и нам не стоит покупать валюту"
   ]
  },
  {
   "cell_type": "code",
   "execution_count": 208,
   "id": "bebdfc2c",
   "metadata": {},
   "outputs": [],
   "source": [
    "# инициализируем и соединим датафреймы\n",
    "#нам нужным только значения volume и close\n",
    "\n",
    "main_df = pd.DataFrame()\n",
    "\n",
    "ratios = [\"BTC-USD\", \"LTC-USD\", 'ETH-USD', 'BCH-USD']\n",
    "for ratio in ratios:\n",
    "    dataset = f\"crypto_data/crypto_data/{ratio}.csv\" \n",
    "    df = pd.read_csv(dataset, names = ['time', 'low', 'high', 'open', 'close','volume'])\n",
    "    \n",
    "    df.rename(columns={\"close\" : f\"{ratio}_close\", \"volume\" : f\"{ratio}_volume\"}, inplace=True)\n",
    "    \n",
    "    df.set_index('time', inplace=True)\n",
    "    \n",
    "    df = df[[f\"{ratio}_close\", f\"{ratio}_volume\"]]\n",
    "    \n",
    "    if len(main_df) == 0:\n",
    "        main_df = df\n",
    "    else: \n",
    "        main_df = main_df.join(df)"
   ]
  },
  {
   "cell_type": "code",
   "execution_count": 209,
   "id": "8ff4610a",
   "metadata": {},
   "outputs": [
    {
     "data": {
      "text/html": [
       "<div>\n",
       "<style scoped>\n",
       "    .dataframe tbody tr th:only-of-type {\n",
       "        vertical-align: middle;\n",
       "    }\n",
       "\n",
       "    .dataframe tbody tr th {\n",
       "        vertical-align: top;\n",
       "    }\n",
       "\n",
       "    .dataframe thead th {\n",
       "        text-align: right;\n",
       "    }\n",
       "</style>\n",
       "<table border=\"1\" class=\"dataframe\">\n",
       "  <thead>\n",
       "    <tr style=\"text-align: right;\">\n",
       "      <th></th>\n",
       "      <th>BTC-USD_close</th>\n",
       "      <th>BTC-USD_volume</th>\n",
       "      <th>LTC-USD_close</th>\n",
       "      <th>LTC-USD_volume</th>\n",
       "      <th>ETH-USD_close</th>\n",
       "      <th>ETH-USD_volume</th>\n",
       "      <th>BCH-USD_close</th>\n",
       "      <th>BCH-USD_volume</th>\n",
       "    </tr>\n",
       "    <tr>\n",
       "      <th>time</th>\n",
       "      <th></th>\n",
       "      <th></th>\n",
       "      <th></th>\n",
       "      <th></th>\n",
       "      <th></th>\n",
       "      <th></th>\n",
       "      <th></th>\n",
       "      <th></th>\n",
       "    </tr>\n",
       "  </thead>\n",
       "  <tbody>\n",
       "    <tr>\n",
       "      <th>1528968660</th>\n",
       "      <td>6489.549805</td>\n",
       "      <td>0.587100</td>\n",
       "      <td>96.580002</td>\n",
       "      <td>9.647200</td>\n",
       "      <td>NaN</td>\n",
       "      <td>NaN</td>\n",
       "      <td>871.719971</td>\n",
       "      <td>5.675361</td>\n",
       "    </tr>\n",
       "    <tr>\n",
       "      <th>1528968720</th>\n",
       "      <td>6487.379883</td>\n",
       "      <td>7.706374</td>\n",
       "      <td>96.660004</td>\n",
       "      <td>314.387024</td>\n",
       "      <td>486.01001</td>\n",
       "      <td>26.019083</td>\n",
       "      <td>870.859985</td>\n",
       "      <td>26.856577</td>\n",
       "    </tr>\n",
       "    <tr>\n",
       "      <th>1528968780</th>\n",
       "      <td>6479.410156</td>\n",
       "      <td>3.088252</td>\n",
       "      <td>96.570000</td>\n",
       "      <td>77.129799</td>\n",
       "      <td>486.00000</td>\n",
       "      <td>8.449400</td>\n",
       "      <td>870.099976</td>\n",
       "      <td>1.124300</td>\n",
       "    </tr>\n",
       "    <tr>\n",
       "      <th>1528968840</th>\n",
       "      <td>6479.410156</td>\n",
       "      <td>1.404100</td>\n",
       "      <td>96.500000</td>\n",
       "      <td>7.216067</td>\n",
       "      <td>485.75000</td>\n",
       "      <td>26.994646</td>\n",
       "      <td>870.789978</td>\n",
       "      <td>1.749862</td>\n",
       "    </tr>\n",
       "    <tr>\n",
       "      <th>1528968900</th>\n",
       "      <td>6479.979980</td>\n",
       "      <td>0.753000</td>\n",
       "      <td>96.389999</td>\n",
       "      <td>524.539978</td>\n",
       "      <td>486.00000</td>\n",
       "      <td>77.355759</td>\n",
       "      <td>870.000000</td>\n",
       "      <td>1.680500</td>\n",
       "    </tr>\n",
       "  </tbody>\n",
       "</table>\n",
       "</div>"
      ],
      "text/plain": [
       "            BTC-USD_close  BTC-USD_volume  LTC-USD_close  LTC-USD_volume  \\\n",
       "time                                                                       \n",
       "1528968660    6489.549805        0.587100      96.580002        9.647200   \n",
       "1528968720    6487.379883        7.706374      96.660004      314.387024   \n",
       "1528968780    6479.410156        3.088252      96.570000       77.129799   \n",
       "1528968840    6479.410156        1.404100      96.500000        7.216067   \n",
       "1528968900    6479.979980        0.753000      96.389999      524.539978   \n",
       "\n",
       "            ETH-USD_close  ETH-USD_volume  BCH-USD_close  BCH-USD_volume  \n",
       "time                                                                      \n",
       "1528968660            NaN             NaN     871.719971        5.675361  \n",
       "1528968720      486.01001       26.019083     870.859985       26.856577  \n",
       "1528968780      486.00000        8.449400     870.099976        1.124300  \n",
       "1528968840      485.75000       26.994646     870.789978        1.749862  \n",
       "1528968900      486.00000       77.355759     870.000000        1.680500  "
      ]
     },
     "execution_count": 209,
     "metadata": {},
     "output_type": "execute_result"
    }
   ],
   "source": [
    "main_df.head()"
   ]
  },
  {
   "cell_type": "code",
   "execution_count": 210,
   "id": "9f590dab",
   "metadata": {},
   "outputs": [],
   "source": [
    "#создадим колонку, которая покажет сколько валюта будет стоить через 3 минуты\n",
    "#future заивисит от колонки close\n",
    "main_df['future'] = main_df[f\"{RATIO_TO_PREDICT}_close\"].shift(-FUTURE_PERIOD_PREDICT) "
   ]
  },
  {
   "cell_type": "code",
   "execution_count": 211,
   "id": "0bc5442d",
   "metadata": {},
   "outputs": [],
   "source": [
    "#создадим таргет-колонку\n",
    "main_df['target'] = list(map(classify, main_df[f\"{RATIO_TO_PREDICT}_close\"], main_df['future']))"
   ]
  },
  {
   "cell_type": "code",
   "execution_count": 212,
   "id": "1cc95da9",
   "metadata": {},
   "outputs": [
    {
     "data": {
      "text/html": [
       "<div>\n",
       "<style scoped>\n",
       "    .dataframe tbody tr th:only-of-type {\n",
       "        vertical-align: middle;\n",
       "    }\n",
       "\n",
       "    .dataframe tbody tr th {\n",
       "        vertical-align: top;\n",
       "    }\n",
       "\n",
       "    .dataframe thead th {\n",
       "        text-align: right;\n",
       "    }\n",
       "</style>\n",
       "<table border=\"1\" class=\"dataframe\">\n",
       "  <thead>\n",
       "    <tr style=\"text-align: right;\">\n",
       "      <th></th>\n",
       "      <th>LTC-USD_close</th>\n",
       "      <th>future</th>\n",
       "      <th>target</th>\n",
       "    </tr>\n",
       "    <tr>\n",
       "      <th>time</th>\n",
       "      <th></th>\n",
       "      <th></th>\n",
       "      <th></th>\n",
       "    </tr>\n",
       "  </thead>\n",
       "  <tbody>\n",
       "    <tr>\n",
       "      <th>1528968660</th>\n",
       "      <td>96.580002</td>\n",
       "      <td>96.500000</td>\n",
       "      <td>0</td>\n",
       "    </tr>\n",
       "    <tr>\n",
       "      <th>1528968720</th>\n",
       "      <td>96.660004</td>\n",
       "      <td>96.389999</td>\n",
       "      <td>0</td>\n",
       "    </tr>\n",
       "    <tr>\n",
       "      <th>1528968780</th>\n",
       "      <td>96.570000</td>\n",
       "      <td>96.519997</td>\n",
       "      <td>0</td>\n",
       "    </tr>\n",
       "    <tr>\n",
       "      <th>1528968840</th>\n",
       "      <td>96.500000</td>\n",
       "      <td>96.440002</td>\n",
       "      <td>0</td>\n",
       "    </tr>\n",
       "    <tr>\n",
       "      <th>1528968900</th>\n",
       "      <td>96.389999</td>\n",
       "      <td>96.470001</td>\n",
       "      <td>1</td>\n",
       "    </tr>\n",
       "    <tr>\n",
       "      <th>1528968960</th>\n",
       "      <td>96.519997</td>\n",
       "      <td>96.400002</td>\n",
       "      <td>0</td>\n",
       "    </tr>\n",
       "    <tr>\n",
       "      <th>1528969020</th>\n",
       "      <td>96.440002</td>\n",
       "      <td>96.400002</td>\n",
       "      <td>0</td>\n",
       "    </tr>\n",
       "    <tr>\n",
       "      <th>1528969080</th>\n",
       "      <td>96.470001</td>\n",
       "      <td>96.400002</td>\n",
       "      <td>0</td>\n",
       "    </tr>\n",
       "    <tr>\n",
       "      <th>1528969140</th>\n",
       "      <td>96.400002</td>\n",
       "      <td>96.400002</td>\n",
       "      <td>0</td>\n",
       "    </tr>\n",
       "    <tr>\n",
       "      <th>1528969200</th>\n",
       "      <td>96.400002</td>\n",
       "      <td>96.400002</td>\n",
       "      <td>0</td>\n",
       "    </tr>\n",
       "  </tbody>\n",
       "</table>\n",
       "</div>"
      ],
      "text/plain": [
       "            LTC-USD_close     future  target\n",
       "time                                        \n",
       "1528968660      96.580002  96.500000       0\n",
       "1528968720      96.660004  96.389999       0\n",
       "1528968780      96.570000  96.519997       0\n",
       "1528968840      96.500000  96.440002       0\n",
       "1528968900      96.389999  96.470001       1\n",
       "1528968960      96.519997  96.400002       0\n",
       "1528969020      96.440002  96.400002       0\n",
       "1528969080      96.470001  96.400002       0\n",
       "1528969140      96.400002  96.400002       0\n",
       "1528969200      96.400002  96.400002       0"
      ]
     },
     "execution_count": 212,
     "metadata": {},
     "output_type": "execute_result"
    }
   ],
   "source": [
    "#оценим работу функции\n",
    "main_df[[f\"{RATIO_TO_PREDICT}_close\",'future','target']].head(10)"
   ]
  },
  {
   "cell_type": "code",
   "execution_count": 213,
   "id": "e5d42da7",
   "metadata": {},
   "outputs": [],
   "source": [
    "#на всякий случай отсортируем данные по времени \n",
    "times = sorted(main_df.index.values) "
   ]
  },
  {
   "cell_type": "code",
   "execution_count": 214,
   "id": "92ee9323",
   "metadata": {},
   "outputs": [],
   "source": [
    "#отделим последние 5% времени, которые будем использовать проверки (валидации)\n",
    "last_5pct = times[-int(0.05*len(times))] #создадим порог, который покажет число, находящееся на границе 95% времени всего df\n",
    "validation_main_df = main_df[(main_df.index >= last_5pct)]\n",
    "main_df = main_df[(main_df.index < last_5pct)]"
   ]
  },
  {
   "cell_type": "code",
   "execution_count": 215,
   "id": "4a297a8e",
   "metadata": {},
   "outputs": [],
   "source": [
    "#создадим функцию для предобработки df (функцию нужна, т.к. нам нужно будет сделать тоже самое и с валидационным df) "
   ]
  },
  {
   "cell_type": "code",
   "execution_count": 216,
   "id": "96c698c2",
   "metadata": {},
   "outputs": [
    {
     "data": {
      "text/html": [
       "<div>\n",
       "<style scoped>\n",
       "    .dataframe tbody tr th:only-of-type {\n",
       "        vertical-align: middle;\n",
       "    }\n",
       "\n",
       "    .dataframe tbody tr th {\n",
       "        vertical-align: top;\n",
       "    }\n",
       "\n",
       "    .dataframe thead th {\n",
       "        text-align: right;\n",
       "    }\n",
       "</style>\n",
       "<table border=\"1\" class=\"dataframe\">\n",
       "  <thead>\n",
       "    <tr style=\"text-align: right;\">\n",
       "      <th></th>\n",
       "      <th>BTC-USD_close</th>\n",
       "      <th>BTC-USD_volume</th>\n",
       "      <th>LTC-USD_close</th>\n",
       "      <th>LTC-USD_volume</th>\n",
       "      <th>ETH-USD_close</th>\n",
       "      <th>ETH-USD_volume</th>\n",
       "      <th>BCH-USD_close</th>\n",
       "      <th>BCH-USD_volume</th>\n",
       "      <th>future</th>\n",
       "      <th>target</th>\n",
       "    </tr>\n",
       "    <tr>\n",
       "      <th>time</th>\n",
       "      <th></th>\n",
       "      <th></th>\n",
       "      <th></th>\n",
       "      <th></th>\n",
       "      <th></th>\n",
       "      <th></th>\n",
       "      <th></th>\n",
       "      <th></th>\n",
       "      <th></th>\n",
       "      <th></th>\n",
       "    </tr>\n",
       "  </thead>\n",
       "  <tbody>\n",
       "    <tr>\n",
       "      <th>1528968660</th>\n",
       "      <td>6489.549805</td>\n",
       "      <td>0.587100</td>\n",
       "      <td>96.580002</td>\n",
       "      <td>9.647200</td>\n",
       "      <td>NaN</td>\n",
       "      <td>NaN</td>\n",
       "      <td>871.719971</td>\n",
       "      <td>5.675361</td>\n",
       "      <td>96.500000</td>\n",
       "      <td>0</td>\n",
       "    </tr>\n",
       "    <tr>\n",
       "      <th>1528968720</th>\n",
       "      <td>6487.379883</td>\n",
       "      <td>7.706374</td>\n",
       "      <td>96.660004</td>\n",
       "      <td>314.387024</td>\n",
       "      <td>486.01001</td>\n",
       "      <td>26.019083</td>\n",
       "      <td>870.859985</td>\n",
       "      <td>26.856577</td>\n",
       "      <td>96.389999</td>\n",
       "      <td>0</td>\n",
       "    </tr>\n",
       "    <tr>\n",
       "      <th>1528968780</th>\n",
       "      <td>6479.410156</td>\n",
       "      <td>3.088252</td>\n",
       "      <td>96.570000</td>\n",
       "      <td>77.129799</td>\n",
       "      <td>486.00000</td>\n",
       "      <td>8.449400</td>\n",
       "      <td>870.099976</td>\n",
       "      <td>1.124300</td>\n",
       "      <td>96.519997</td>\n",
       "      <td>0</td>\n",
       "    </tr>\n",
       "    <tr>\n",
       "      <th>1528968840</th>\n",
       "      <td>6479.410156</td>\n",
       "      <td>1.404100</td>\n",
       "      <td>96.500000</td>\n",
       "      <td>7.216067</td>\n",
       "      <td>485.75000</td>\n",
       "      <td>26.994646</td>\n",
       "      <td>870.789978</td>\n",
       "      <td>1.749862</td>\n",
       "      <td>96.440002</td>\n",
       "      <td>0</td>\n",
       "    </tr>\n",
       "    <tr>\n",
       "      <th>1528968900</th>\n",
       "      <td>6479.979980</td>\n",
       "      <td>0.753000</td>\n",
       "      <td>96.389999</td>\n",
       "      <td>524.539978</td>\n",
       "      <td>486.00000</td>\n",
       "      <td>77.355759</td>\n",
       "      <td>870.000000</td>\n",
       "      <td>1.680500</td>\n",
       "      <td>96.470001</td>\n",
       "      <td>1</td>\n",
       "    </tr>\n",
       "  </tbody>\n",
       "</table>\n",
       "</div>"
      ],
      "text/plain": [
       "            BTC-USD_close  BTC-USD_volume  LTC-USD_close  LTC-USD_volume  \\\n",
       "time                                                                       \n",
       "1528968660    6489.549805        0.587100      96.580002        9.647200   \n",
       "1528968720    6487.379883        7.706374      96.660004      314.387024   \n",
       "1528968780    6479.410156        3.088252      96.570000       77.129799   \n",
       "1528968840    6479.410156        1.404100      96.500000        7.216067   \n",
       "1528968900    6479.979980        0.753000      96.389999      524.539978   \n",
       "\n",
       "            ETH-USD_close  ETH-USD_volume  BCH-USD_close  BCH-USD_volume  \\\n",
       "time                                                                       \n",
       "1528968660            NaN             NaN     871.719971        5.675361   \n",
       "1528968720      486.01001       26.019083     870.859985       26.856577   \n",
       "1528968780      486.00000        8.449400     870.099976        1.124300   \n",
       "1528968840      485.75000       26.994646     870.789978        1.749862   \n",
       "1528968900      486.00000       77.355759     870.000000        1.680500   \n",
       "\n",
       "               future  target  \n",
       "time                           \n",
       "1528968660  96.500000       0  \n",
       "1528968720  96.389999       0  \n",
       "1528968780  96.519997       0  \n",
       "1528968840  96.440002       0  \n",
       "1528968900  96.470001       1  "
      ]
     },
     "execution_count": 216,
     "metadata": {},
     "output_type": "execute_result"
    }
   ],
   "source": [
    "main_df.head()"
   ]
  },
  {
   "cell_type": "code",
   "execution_count": 217,
   "id": "031051ce",
   "metadata": {},
   "outputs": [],
   "source": [
    "def preprocess_df(df):\n",
    "    df = df.drop('future', axis=1) #она просто больше не нужна (и она даст огромное понятие сети как предсказывать таргет)\n",
    "    \n",
    "    for col in df.columns:\n",
    "        if col != 'target': #для всех колонок кроме колонки с таргетом\n",
    "            #pct_change() - показывает на сколько процентов изменился текущий элемент по сравнению с предыдущим\n",
    "            #пр. текущий 5, предыдущий 3. 1-(6/3) = 1. Значит текущий элемент возрос на 100% по сравнению с предыдущим\n",
    "            #таким образом мы нормализируем данные, также у каждой валюты свое значение в usd, различающееся в размере\n",
    "            #Нам интересны не сами значения валют в долларах для признаков, но именно магнитуда, тренд. Таким образом мы\n",
    "            #и получаем нужное нам движение\n",
    "            df[col] = df[col].pct_change()\n",
    "            df.dropna(inplace=True)\n",
    "            df[col] = preprocessing.scale(df[col].values) #масштабируем данные\n",
    "            \n",
    "    df.dropna(inplace=True) #на случай если pct_change и scale создаст Nans\n",
    "    \n",
    "    sequential_data = []    \n",
    "    #к примеру у нас есть лист в который мы добавляем элементы, но когда этот лист достигнет длины = 60, то как только \n",
    "    #мы добавим в лист новый объект, то он выбросит из листа старый объект\n",
    "    #мы будем ждать, пока prev_days будем иметь 60 значений \n",
    "    prev_days = deque(maxlen=SEQ_LEN)\n",
    "    \n",
    "    for i in df.values:\n",
    "        #df.values - конвертирует df в list of list \n",
    "        #добавляем list, т.к. sequential_data будет последовательность из lists \n",
    "        prev_days.append([n for n in i[:-1]]) # n for n - для каждого элемента в строке кроме последнего элемента в строке\n",
    "        #который является таргетом и нам не нужен \n",
    "        if len(prev_days) == SEQ_LEN:\n",
    "             #здесь мы будем добавлять X и y\n",
    "            sequential_data.append([np.array(prev_days), i[-1]]) #добавляем np.array из 60 строк с признакаами и i - таргет\n",
    "    \n",
    "    random.shuffle(sequential_data)\n",
    "    \n",
    "    #привнесем баланс в таргеты\n",
    "    buys = [] #лист для таргет == 1\n",
    "    sells = [] #лист для таргет == 0\n",
    "    \n",
    "    for seq, target in sequential_data:\n",
    "        if target == 0:\n",
    "            sells.append([seq, target])\n",
    "        elif target == 1:\n",
    "            buys.append([seq, target])\n",
    "            \n",
    "    random.shuffle(buys)\n",
    "    random.shuffle(sells)\n",
    "    \n",
    "    lower = min(len(buys), len(sells)) #узнамем, где наименьашя длина и будем использовать её, чтобы обе части были равны\n",
    "    \n",
    "    buys = buys[:lower]\n",
    "    sells = sells[:lower]\n",
    "    \n",
    "    #совмещаем \n",
    "    sequential_data = buys+sells\n",
    "    random.shuffle(sequential_data)\n",
    "    \n",
    "    #сплитим данные на признаки и таргеты\n",
    "    X = []\n",
    "    y = []\n",
    "    \n",
    "    for seq, target in sequential_data:\n",
    "        X.append(seq)\n",
    "        y.append(target)\n",
    "        \n",
    "    return np.array(X).astype('float32'), np.array(y)"
   ]
  },
  {
   "cell_type": "code",
   "execution_count": 218,
   "id": "5f0b6b93",
   "metadata": {},
   "outputs": [],
   "source": [
    "train_x, train_y = preprocess_df(main_df)\n",
    "validation_x, validation_y = preprocess_df(validation_main_df)"
   ]
  },
  {
   "cell_type": "code",
   "execution_count": 233,
   "id": "ea8c6537",
   "metadata": {},
   "outputs": [
    {
     "name": "stdout",
     "output_type": "stream",
     "text": [
      "train data: 69188 validation: 3062\n",
      "Dont buys: 34594, buys: 34594\n",
      "VALIDATION Dont buys: 1531, buys: 1531\n"
     ]
    }
   ],
   "source": [
    "print(f\"train data: {len(train_x)} validation: {len(validation_x)}\")\n",
    "print(f\"Dont buys: {list(train_y).count(0)}, buys: {list(train_y).count(0)}\")\n",
    "print(f\"VALIDATION Dont buys: {list(validation_y).count(0)}, buys: {list(validation_y).count(1)}\")"
   ]
  },
  {
   "cell_type": "markdown",
   "id": "2e6a3169",
   "metadata": {},
   "source": [
    "Начнем строить модель"
   ]
  },
  {
   "cell_type": "code",
   "execution_count": 221,
   "id": "7531e9f0",
   "metadata": {},
   "outputs": [
    {
     "name": "stdout",
     "output_type": "stream",
     "text": [
      "Epoch 1/10\n",
      "1081/1082 [============================>.] - ETA: 0s - loss: 0.7141 - accuracy: 0.5215"
     ]
    },
    {
     "name": "stderr",
     "output_type": "stream",
     "text": [
      "WARNING:absl:Found untraced functions such as lstm_cell_27_layer_call_fn, lstm_cell_27_layer_call_and_return_conditional_losses, lstm_cell_28_layer_call_fn, lstm_cell_28_layer_call_and_return_conditional_losses, lstm_cell_29_layer_call_fn while saving (showing 5 of 6). These functions will not be directly callable after loading.\n"
     ]
    },
    {
     "name": "stdout",
     "output_type": "stream",
     "text": [
      "INFO:tensorflow:Assets written to: models\\RNN_Final-01-0.537.hd5\\assets\n"
     ]
    },
    {
     "name": "stderr",
     "output_type": "stream",
     "text": [
      "INFO:tensorflow:Assets written to: models\\RNN_Final-01-0.537.hd5\\assets\n"
     ]
    },
    {
     "name": "stdout",
     "output_type": "stream",
     "text": [
      "1082/1082 [==============================] - 56s 48ms/step - loss: 0.7141 - accuracy: 0.5215 - val_loss: 0.6885 - val_accuracy: 0.5372\n",
      "Epoch 2/10\n",
      "1082/1082 [==============================] - ETA: 0s - loss: 0.6870 - accuracy: 0.5447"
     ]
    },
    {
     "name": "stderr",
     "output_type": "stream",
     "text": [
      "WARNING:absl:Found untraced functions such as lstm_cell_27_layer_call_fn, lstm_cell_27_layer_call_and_return_conditional_losses, lstm_cell_28_layer_call_fn, lstm_cell_28_layer_call_and_return_conditional_losses, lstm_cell_29_layer_call_fn while saving (showing 5 of 6). These functions will not be directly callable after loading.\n"
     ]
    },
    {
     "name": "stdout",
     "output_type": "stream",
     "text": [
      "INFO:tensorflow:Assets written to: models\\RNN_Final-02-0.500.hd5\\assets\n"
     ]
    },
    {
     "name": "stderr",
     "output_type": "stream",
     "text": [
      "INFO:tensorflow:Assets written to: models\\RNN_Final-02-0.500.hd5\\assets\n"
     ]
    },
    {
     "name": "stdout",
     "output_type": "stream",
     "text": [
      "1082/1082 [==============================] - 55s 50ms/step - loss: 0.6870 - accuracy: 0.5447 - val_loss: 0.6974 - val_accuracy: 0.5000\n",
      "Epoch 3/10\n",
      "1081/1082 [============================>.] - ETA: 0s - loss: 0.6919 - accuracy: 0.5192"
     ]
    },
    {
     "name": "stderr",
     "output_type": "stream",
     "text": [
      "WARNING:absl:Found untraced functions such as lstm_cell_27_layer_call_fn, lstm_cell_27_layer_call_and_return_conditional_losses, lstm_cell_28_layer_call_fn, lstm_cell_28_layer_call_and_return_conditional_losses, lstm_cell_29_layer_call_fn while saving (showing 5 of 6). These functions will not be directly callable after loading.\n"
     ]
    },
    {
     "name": "stdout",
     "output_type": "stream",
     "text": [
      "INFO:tensorflow:Assets written to: models\\RNN_Final-03-0.505.hd5\\assets\n"
     ]
    },
    {
     "name": "stderr",
     "output_type": "stream",
     "text": [
      "INFO:tensorflow:Assets written to: models\\RNN_Final-03-0.505.hd5\\assets\n"
     ]
    },
    {
     "name": "stdout",
     "output_type": "stream",
     "text": [
      "1082/1082 [==============================] - 55s 50ms/step - loss: 0.6919 - accuracy: 0.5192 - val_loss: 0.7047 - val_accuracy: 0.5046\n",
      "Epoch 4/10\n",
      "1082/1082 [==============================] - ETA: 0s - loss: 0.6884 - accuracy: 0.5399"
     ]
    },
    {
     "name": "stderr",
     "output_type": "stream",
     "text": [
      "WARNING:absl:Found untraced functions such as lstm_cell_27_layer_call_fn, lstm_cell_27_layer_call_and_return_conditional_losses, lstm_cell_28_layer_call_fn, lstm_cell_28_layer_call_and_return_conditional_losses, lstm_cell_29_layer_call_fn while saving (showing 5 of 6). These functions will not be directly callable after loading.\n"
     ]
    },
    {
     "name": "stdout",
     "output_type": "stream",
     "text": [
      "INFO:tensorflow:Assets written to: models\\RNN_Final-04-0.548.hd5\\assets\n"
     ]
    },
    {
     "name": "stderr",
     "output_type": "stream",
     "text": [
      "INFO:tensorflow:Assets written to: models\\RNN_Final-04-0.548.hd5\\assets\n"
     ]
    },
    {
     "name": "stdout",
     "output_type": "stream",
     "text": [
      "1082/1082 [==============================] - 58s 53ms/step - loss: 0.6884 - accuracy: 0.5399 - val_loss: 0.6866 - val_accuracy: 0.5480\n",
      "Epoch 5/10\n",
      "1081/1082 [============================>.] - ETA: 0s - loss: 0.6876 - accuracy: 0.5420"
     ]
    },
    {
     "name": "stderr",
     "output_type": "stream",
     "text": [
      "WARNING:absl:Found untraced functions such as lstm_cell_27_layer_call_fn, lstm_cell_27_layer_call_and_return_conditional_losses, lstm_cell_28_layer_call_fn, lstm_cell_28_layer_call_and_return_conditional_losses, lstm_cell_29_layer_call_fn while saving (showing 5 of 6). These functions will not be directly callable after loading.\n"
     ]
    },
    {
     "name": "stdout",
     "output_type": "stream",
     "text": [
      "INFO:tensorflow:Assets written to: models\\RNN_Final-05-0.513.hd5\\assets\n"
     ]
    },
    {
     "name": "stderr",
     "output_type": "stream",
     "text": [
      "INFO:tensorflow:Assets written to: models\\RNN_Final-05-0.513.hd5\\assets\n"
     ]
    },
    {
     "name": "stdout",
     "output_type": "stream",
     "text": [
      "1082/1082 [==============================] - 53s 49ms/step - loss: 0.6876 - accuracy: 0.5420 - val_loss: 0.6945 - val_accuracy: 0.5134\n",
      "Epoch 6/10\n",
      "1082/1082 [==============================] - ETA: 0s - loss: 0.6922 - accuracy: 0.5116"
     ]
    },
    {
     "name": "stderr",
     "output_type": "stream",
     "text": [
      "WARNING:absl:Found untraced functions such as lstm_cell_27_layer_call_fn, lstm_cell_27_layer_call_and_return_conditional_losses, lstm_cell_28_layer_call_fn, lstm_cell_28_layer_call_and_return_conditional_losses, lstm_cell_29_layer_call_fn while saving (showing 5 of 6). These functions will not be directly callable after loading.\n"
     ]
    },
    {
     "name": "stdout",
     "output_type": "stream",
     "text": [
      "INFO:tensorflow:Assets written to: models\\RNN_Final-06-0.516.hd5\\assets\n"
     ]
    },
    {
     "name": "stderr",
     "output_type": "stream",
     "text": [
      "INFO:tensorflow:Assets written to: models\\RNN_Final-06-0.516.hd5\\assets\n"
     ]
    },
    {
     "name": "stdout",
     "output_type": "stream",
     "text": [
      "1082/1082 [==============================] - 58s 53ms/step - loss: 0.6922 - accuracy: 0.5116 - val_loss: 0.6932 - val_accuracy: 0.5157\n",
      "Epoch 7/10\n",
      "1082/1082 [==============================] - ETA: 0s - loss: 0.6916 - accuracy: 0.5265"
     ]
    },
    {
     "name": "stderr",
     "output_type": "stream",
     "text": [
      "WARNING:absl:Found untraced functions such as lstm_cell_27_layer_call_fn, lstm_cell_27_layer_call_and_return_conditional_losses, lstm_cell_28_layer_call_fn, lstm_cell_28_layer_call_and_return_conditional_losses, lstm_cell_29_layer_call_fn while saving (showing 5 of 6). These functions will not be directly callable after loading.\n"
     ]
    },
    {
     "name": "stdout",
     "output_type": "stream",
     "text": [
      "INFO:tensorflow:Assets written to: models\\RNN_Final-07-0.520.hd5\\assets\n"
     ]
    },
    {
     "name": "stderr",
     "output_type": "stream",
     "text": [
      "INFO:tensorflow:Assets written to: models\\RNN_Final-07-0.520.hd5\\assets\n"
     ]
    },
    {
     "name": "stdout",
     "output_type": "stream",
     "text": [
      "1082/1082 [==============================] - 58s 54ms/step - loss: 0.6916 - accuracy: 0.5265 - val_loss: 0.6934 - val_accuracy: 0.5196\n",
      "Epoch 8/10\n",
      "1081/1082 [============================>.] - ETA: 0s - loss: 0.6882 - accuracy: 0.5446"
     ]
    },
    {
     "name": "stderr",
     "output_type": "stream",
     "text": [
      "WARNING:absl:Found untraced functions such as lstm_cell_27_layer_call_fn, lstm_cell_27_layer_call_and_return_conditional_losses, lstm_cell_28_layer_call_fn, lstm_cell_28_layer_call_and_return_conditional_losses, lstm_cell_29_layer_call_fn while saving (showing 5 of 6). These functions will not be directly callable after loading.\n"
     ]
    },
    {
     "name": "stdout",
     "output_type": "stream",
     "text": [
      "INFO:tensorflow:Assets written to: models\\RNN_Final-08-0.548.hd5\\assets\n"
     ]
    },
    {
     "name": "stderr",
     "output_type": "stream",
     "text": [
      "INFO:tensorflow:Assets written to: models\\RNN_Final-08-0.548.hd5\\assets\n"
     ]
    },
    {
     "name": "stdout",
     "output_type": "stream",
     "text": [
      "1082/1082 [==============================] - 58s 53ms/step - loss: 0.6882 - accuracy: 0.5446 - val_loss: 0.6863 - val_accuracy: 0.5483\n",
      "Epoch 9/10\n",
      "1081/1082 [============================>.] - ETA: 0s - loss: 0.6845 - accuracy: 0.5564"
     ]
    },
    {
     "name": "stderr",
     "output_type": "stream",
     "text": [
      "WARNING:absl:Found untraced functions such as lstm_cell_27_layer_call_fn, lstm_cell_27_layer_call_and_return_conditional_losses, lstm_cell_28_layer_call_fn, lstm_cell_28_layer_call_and_return_conditional_losses, lstm_cell_29_layer_call_fn while saving (showing 5 of 6). These functions will not be directly callable after loading.\n"
     ]
    },
    {
     "name": "stdout",
     "output_type": "stream",
     "text": [
      "INFO:tensorflow:Assets written to: models\\RNN_Final-09-0.554.hd5\\assets\n"
     ]
    },
    {
     "name": "stderr",
     "output_type": "stream",
     "text": [
      "INFO:tensorflow:Assets written to: models\\RNN_Final-09-0.554.hd5\\assets\n"
     ]
    },
    {
     "name": "stdout",
     "output_type": "stream",
     "text": [
      "1082/1082 [==============================] - 58s 54ms/step - loss: 0.6845 - accuracy: 0.5564 - val_loss: 0.6851 - val_accuracy: 0.5539\n",
      "Epoch 10/10\n",
      "1082/1082 [==============================] - ETA: 0s - loss: 0.6827 - accuracy: 0.5615"
     ]
    },
    {
     "name": "stderr",
     "output_type": "stream",
     "text": [
      "WARNING:absl:Found untraced functions such as lstm_cell_27_layer_call_fn, lstm_cell_27_layer_call_and_return_conditional_losses, lstm_cell_28_layer_call_fn, lstm_cell_28_layer_call_and_return_conditional_losses, lstm_cell_29_layer_call_fn while saving (showing 5 of 6). These functions will not be directly callable after loading.\n"
     ]
    },
    {
     "name": "stdout",
     "output_type": "stream",
     "text": [
      "INFO:tensorflow:Assets written to: models\\RNN_Final-10-0.562.hd5\\assets\n"
     ]
    },
    {
     "name": "stderr",
     "output_type": "stream",
     "text": [
      "INFO:tensorflow:Assets written to: models\\RNN_Final-10-0.562.hd5\\assets\n"
     ]
    },
    {
     "name": "stdout",
     "output_type": "stream",
     "text": [
      "\b\b\b\b\b\b\b\b\b\b\b\b\b\b\b\b\b\b\b\b\b\b\b\b\b\b\b\b\b\b\b\b\b\b\b\b\b\b\b\b\b\b\b\b\b\b\b\b\b\b\b\b\b\b\b\b\b\b\b\b\b\b\b\b\b\b\b\b\b\b\b\b\b\b\b\b\b\b\b\b\b\b\b\b\b\b\r",
      "1082/1082 [==============================] - 63s 58ms/step - loss: 0.6827 - accuracy: 0.5615 - val_loss: 0.6822 - val_accuracy: 0.5624\n"
     ]
    }
   ],
   "source": [
    "model = Sequential()\n",
    "\n",
    "model.add(LSTM(128, input_shape=(train_x.shape[1:]), return_sequences=True))\n",
    "model.add(Dropout(0.2))\n",
    "model.add(BatchNormalization())\n",
    "\n",
    "model.add(LSTM(128, input_shape=(train_x.shape[1:]), return_sequences=True))\n",
    "model.add(Dropout(0.1))\n",
    "model.add(BatchNormalization())\n",
    "\n",
    "model.add(LSTM(128, input_shape=(train_x.shape[1:]))) #т.к. дальше будет Dense, то убираем параметр return_sequences, т.к.\n",
    "#он больше не нужен\n",
    "model.add(Dropout(0.2))\n",
    "model.add(BatchNormalization())\n",
    "\n",
    "model.add(Dense(32, activation='relu'))\n",
    "model.add(Dropout(0.2))\n",
    "\n",
    "model.add(Dense(2, activation='softmax')) #т.к. у нас бинарная классификация, то всего 2 нейрона и softmax\n",
    "\n",
    "opt = tf.keras.optimizers.Adam(learning_rate=0.001, decay=1e-6)\n",
    "\n",
    "model.compile(loss = 'sparse_categorical_crossentropy',\n",
    "             optimizer = opt,\n",
    "             metrics = ['accuracy'])\n",
    "\n",
    "#инициализириуем tensorboard\n",
    "tensorboard = TensorBoard(log_dir=f'logs/{NAME}')\n",
    "\n",
    "filepath = \"RNN_Final-{epoch:02d}-{val_accuracy:.3f}\" #уникальное имя файла, которое будет состоять из эпохи и метрики acc для val\n",
    "\n",
    "checkpoint = ModelCheckpoint(\"models/{}.hd5\".format(filepath,\n",
    "                                                      monitor='val_accuracy',\n",
    "                                                      verbose=1,\n",
    "                                                      save_best_only=True,\n",
    "                                                      mode='max')) # сохраняет лучшую модель\n",
    "\n",
    "history = model.fit(train_x, train_y,\n",
    "                   batch_size = BATCH_SIZE,\n",
    "                   epochs = EPOCHS,\n",
    "                   validation_data = (validation_x, validation_y),\n",
    "                   callbacks = [tensorboard, checkpoint])"
   ]
  },
  {
   "cell_type": "markdown",
   "id": "ac0fba72",
   "metadata": {},
   "source": [
    "Accuracy для трейна может быть ниже accuracy для валидации, т.к. accuracy для трейна складывается из среднего между всеми эпохами."
   ]
  }
 ],
 "metadata": {
  "kernelspec": {
   "display_name": "tf2.4",
   "language": "python",
   "name": "tf2.4"
  },
  "language_info": {
   "codemirror_mode": {
    "name": "ipython",
    "version": 3
   },
   "file_extension": ".py",
   "mimetype": "text/x-python",
   "name": "python",
   "nbconvert_exporter": "python",
   "pygments_lexer": "ipython3",
   "version": "3.8.0"
  },
  "toc": {
   "base_numbering": 1,
   "nav_menu": {},
   "number_sections": true,
   "sideBar": true,
   "skip_h1_title": false,
   "title_cell": "Table of Contents",
   "title_sidebar": "Contents",
   "toc_cell": false,
   "toc_position": {},
   "toc_section_display": true,
   "toc_window_display": false
  }
 },
 "nbformat": 4,
 "nbformat_minor": 5
}
