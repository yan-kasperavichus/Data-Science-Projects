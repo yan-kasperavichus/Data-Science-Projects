{
 "cells": [
  {
   "cell_type": "markdown",
   "id": "efaac64e",
   "metadata": {},
   "source": [
    "# Решение проблемы MNIST"
   ]
  },
  {
   "cell_type": "markdown",
   "id": "333b3ba3",
   "metadata": {},
   "source": [
    "Целью данного проекта является простое решение проблемы MNIST датасета. Модель нейронной сети, которая здесь используется не является сложной, но достигает высоких значений метрик. "
   ]
  },
  {
   "cell_type": "code",
   "execution_count": null,
   "id": "84663eb4",
   "metadata": {},
   "outputs": [],
   "source": [
    "import tensorflow as tf"
   ]
  },
  {
   "cell_type": "code",
   "execution_count": 6,
   "id": "38075f1e",
   "metadata": {},
   "outputs": [],
   "source": [
    "import matplotlib.pyplot as plt"
   ]
  },
  {
   "cell_type": "code",
   "execution_count": 47,
   "id": "1ee4959a",
   "metadata": {},
   "outputs": [],
   "source": [
    "import numpy as np"
   ]
  },
  {
   "cell_type": "code",
   "execution_count": 3,
   "id": "41a0f620",
   "metadata": {},
   "outputs": [],
   "source": [
    "mnist = tf.keras.datasets.mnist #общеизвестный датасет с цифрами от руки "
   ]
  },
  {
   "cell_type": "code",
   "execution_count": 39,
   "id": "3e68b055",
   "metadata": {},
   "outputs": [],
   "source": [
    "(x_train, y_train), (x_test, y_test) = mnist.load_data()"
   ]
  },
  {
   "cell_type": "code",
   "execution_count": 16,
   "id": "7dd96138",
   "metadata": {},
   "outputs": [
    {
     "data": {
      "text/plain": [
       "<matplotlib.image.AxesImage at 0x23f2cdf7c70>"
      ]
     },
     "execution_count": 16,
     "metadata": {},
     "output_type": "execute_result"
    },
    {
     "data": {
      "image/png": "[encoded data removed]",
      "text/plain": [
       "<Figure size 432x288 with 1 Axes>"
      ]
     },
     "metadata": {
      "needs_background": "light"
     },
     "output_type": "display_data"
    }
   ],
   "source": [
    "plt.imshow(x_train[0], cmap = plt.cm.binary)"
   ]
  },
  {
   "cell_type": "markdown",
   "id": "63dd2294",
   "metadata": {},
   "source": [
    "Нормализируем данные:"
   ]
  },
  {
   "cell_type": "code",
   "execution_count": 15,
   "id": "c982a4be",
   "metadata": {},
   "outputs": [],
   "source": [
    "x_train = tf.keras.utils.normalize(x_train, axis=1)\n",
    "x_test = tf.keras.utils.normalize(x_train, axis=1)"
   ]
  },
  {
   "cell_type": "markdown",
   "id": "cf27ecb0",
   "metadata": {},
   "source": [
    "Создадим модель:"
   ]
  },
  {
   "cell_type": "code",
   "execution_count": 17,
   "id": "76701851",
   "metadata": {},
   "outputs": [],
   "source": [
    "model = tf.keras.models.Sequential() #инициализируем модель. Всего есть два типа моделей "
   ]
  },
  {
   "cell_type": "markdown",
   "id": "3a0e3d42",
   "metadata": {},
   "source": [
    "Добавим слои в модель и инициализируем их:"
   ]
  },
  {
   "cell_type": "code",
   "execution_count": 35,
   "id": "469515aa",
   "metadata": {},
   "outputs": [],
   "source": [
    "model.add(tf.keras.layers.Flatten(input_shape=(28, 28))) #Слой input, который получает на вход данные \n",
    "                                    #и также изменяет данные из 2D в 1D измерение\n",
    "                                     #А также последний слой в сверточной нейронной сети должен получать\n",
    "                                    # на вход \"плоские данные\"\n",
    "model.add(tf.keras.layers.Dense(128, activation = tf.nn.relu)) #добавляем скрытый слой с 128 нейронами\n",
    "model.add(tf.keras.layers.Dense(128, activation = tf.nn.relu)) #добавляем скрытый слой с 128 нейронами\n",
    "model.add(tf.keras.layers.Dense(10, activation = tf.nn.softmax)) #добавляем скрытый слой с 128 нейронами"
   ]
  },
  {
   "cell_type": "markdown",
   "id": "fa8a31e4",
   "metadata": {},
   "source": [
    "Установим гиперпараметры"
   ]
  },
  {
   "cell_type": "markdown",
   "id": "0a4e9500",
   "metadata": {},
   "source": [
    "- categorical_crossentropy (cce) produces a one-hot array containing the probable match for each category,\n",
    "- sparse_categorical_crossentropy (scce) produces a category index of the most likely matching category."
   ]
  },
  {
   "cell_type": "code",
   "execution_count": 36,
   "id": "bdf276e6",
   "metadata": {},
   "outputs": [],
   "source": [
    "model.compile(optimizer='adam',\n",
    "              loss='sparse_categorical_crossentropy',\n",
    "              metrics=['accuracy']\n",
    ")"
   ]
  },
  {
   "cell_type": "code",
   "execution_count": 37,
   "id": "e7d77d19",
   "metadata": {
    "scrolled": true
   },
   "outputs": [
    {
     "name": "stdout",
     "output_type": "stream",
     "text": [
      "Epoch 1/3\n",
      "1875/1875 [==============================] - 4s 2ms/step - loss: 0.1456 - accuracy: 0.9741\n",
      "Epoch 2/3\n",
      "1875/1875 [==============================] - 4s 2ms/step - loss: 0.0709 - accuracy: 0.9819\n",
      "Epoch 3/3\n",
      "1875/1875 [==============================] - 4s 2ms/step - loss: 0.0589 - accuracy: 0.9840\n"
     ]
    },
    {
     "data": {
      "text/plain": [
       "<keras.callbacks.History at 0x23f4cba6f40>"
      ]
     },
     "execution_count": 37,
     "metadata": {},
     "output_type": "execute_result"
    }
   ],
   "source": [
    "model.fit(x_train, y_train, epochs=3)"
   ]
  },
  {
   "cell_type": "markdown",
   "id": "af346eea",
   "metadata": {},
   "source": [
    "Проверим на валидацию:"
   ]
  },
  {
   "cell_type": "code",
   "execution_count": 40,
   "id": "2e661d4a",
   "metadata": {},
   "outputs": [
    {
     "name": "stdout",
     "output_type": "stream",
     "text": [
      "313/313 [==============================] - 1s 1ms/step - loss: 0.2754 - accuracy: 0.9674\n"
     ]
    }
   ],
   "source": [
    "val_loss, val_acc = model.evaluate(x_test, y_test)"
   ]
  },
  {
   "cell_type": "markdown",
   "id": "0be01d55",
   "metadata": {},
   "source": [
    "Сохраним модель"
   ]
  },
  {
   "cell_type": "code",
   "execution_count": 43,
   "id": "15ea36b2",
   "metadata": {},
   "outputs": [
    {
     "name": "stdout",
     "output_type": "stream",
     "text": [
      "INFO:tensorflow:Assets written to: eipc_num_reader.model\\assets\n"
     ]
    }
   ],
   "source": [
    "#model.save('eipc_num_reader.model') "
   ]
  },
  {
   "cell_type": "markdown",
   "id": "36af3e7f",
   "metadata": {},
   "source": [
    "Можем загрузить её:"
   ]
  },
  {
   "cell_type": "code",
   "execution_count": 44,
   "id": "baf356d5",
   "metadata": {},
   "outputs": [],
   "source": [
    "#new_model = tf.keras.models.load_model('eipc_num_reader.model')"
   ]
  },
  {
   "cell_type": "markdown",
   "id": "e67b2267",
   "metadata": {},
   "source": [
    "Если нужно посмотреть на предсказания:"
   ]
  },
  {
   "cell_type": "code",
   "execution_count": 45,
   "id": "b5a6d854",
   "metadata": {},
   "outputs": [
    {
     "name": "stdout",
     "output_type": "stream",
     "text": [
      "WARNING:tensorflow:Layers in a Sequential model should only have a single input tensor. Received: inputs=(<tf.Tensor 'IteratorGetNext:0' shape=(None, 28, 28) dtype=uint8>,). Consider rewriting this model with the Functional API.\n",
      "313/313 [==============================] - 0s 1ms/step\n"
     ]
    }
   ],
   "source": [
    "predictions = model.predict([x_test]) #данные всегда передаются в качестве list"
   ]
  },
  {
   "cell_type": "code",
   "execution_count": 46,
   "id": "8bfd0451",
   "metadata": {},
   "outputs": [
    {
     "data": {
      "text/plain": [
       "array([[1.69748546e-05, 6.16239849e-05, 1.53803587e-04, ...,\n",
       "        9.99262631e-01, 8.43448652e-05, 2.07591773e-04],\n",
       "       [3.71078640e-05, 5.92446122e-05, 9.98470962e-01, ...,\n",
       "        6.92880189e-04, 2.06098091e-04, 6.53038023e-06],\n",
       "       [1.23727077e-05, 9.97653663e-01, 7.90887687e-04, ...,\n",
       "        4.52219974e-04, 6.45230117e-04, 6.47805209e-05],\n",
       "       ...,\n",
       "       [1.50747637e-05, 5.22208247e-05, 1.98266222e-04, ...,\n",
       "        2.63625465e-04, 1.34932736e-04, 6.68536231e-04],\n",
       "       [5.99125706e-05, 2.36049509e-05, 3.67797838e-05, ...,\n",
       "        1.25686129e-05, 2.74102465e-04, 1.87972575e-04],\n",
       "       [4.42303281e-05, 9.09844748e-05, 5.10547034e-05, ...,\n",
       "        1.00224615e-05, 1.78364207e-04, 7.92202536e-06]], dtype=float32)"
      ]
     },
     "execution_count": 46,
     "metadata": {},
     "output_type": "execute_result"
    }
   ],
   "source": [
    "predictions #получили one-hot-encoded array"
   ]
  },
  {
   "cell_type": "code",
   "execution_count": 49,
   "id": "2446b091",
   "metadata": {},
   "outputs": [
    {
     "name": "stdout",
     "output_type": "stream",
     "text": [
      "7\n"
     ]
    }
   ],
   "source": [
    "print(np.argmax(predictions[0])) #индекс самого большого элемента в array"
   ]
  },
  {
   "cell_type": "markdown",
   "id": "76759c35",
   "metadata": {},
   "source": [
    "Проверим"
   ]
  },
  {
   "cell_type": "code",
   "execution_count": 50,
   "id": "b6035005",
   "metadata": {},
   "outputs": [
    {
     "data": {
      "image/png": "[encoded data removed]",
      "text/plain": [
       "<Figure size 432x288 with 1 Axes>"
      ]
     },
     "metadata": {
      "needs_background": "light"
     },
     "output_type": "display_data"
    }
   ],
   "source": [
    "plt.imshow(x_test[0])\n",
    "plt.show()"
   ]
  },
  {
   "cell_type": "code",
   "execution_count": null,
   "id": "7a4dedb4",
   "metadata": {},
   "outputs": [],
   "source": []
  }
 ],
 "metadata": {
  "kernelspec": {
   "display_name": "Python 3 (ipykernel)",
   "language": "python",
   "name": "python3"
  },
  "language_info": {
   "codemirror_mode": {
    "name": "ipython",
    "version": 3
   },
   "file_extension": ".py",
   "mimetype": "text/x-python",
   "name": "python",
   "nbconvert_exporter": "python",
   "pygments_lexer": "ipython3",
   "version": "3.8.0"
  },
  "toc": {
   "base_numbering": 1,
   "nav_menu": {},
   "number_sections": true,
   "sideBar": true,
   "skip_h1_title": false,
   "title_cell": "Table of Contents",
   "title_sidebar": "Contents",
   "toc_cell": false,
   "toc_position": {},
   "toc_section_display": true,
   "toc_window_display": false
  }
 },
 "nbformat": 4,
 "nbformat_minor": 5
}
